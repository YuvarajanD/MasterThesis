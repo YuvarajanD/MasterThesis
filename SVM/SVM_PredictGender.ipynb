{
 "cells": [
  {
   "cell_type": "code",
   "execution_count": 1,
   "metadata": {},
   "outputs": [],
   "source": [
    "import pandas as pd\n",
    "import numpy as np\n",
    "import re\n",
    "import string\n",
    "import time\n",
    "from datetime import datetime\n",
    "from datetime import date\n",
    "import os\n",
    "import random\n",
    "\n",
    "#Plotting\n",
    "%matplotlib inline\n",
    "import matplotlib as mpl\n",
    "import matplotlib.pyplot as plt\n",
    "import seaborn as sns\n",
    "\n",
    "# ML Libraries\n",
    "\n",
    "from sklearn.ensemble import BaggingClassifier\n",
    "from sklearn.calibration import CalibratedClassifierCV\n",
    "from sklearn.multiclass import OneVsRestClassifier\n",
    "\n",
    "\n",
    "from sklearn import svm\n",
    "from sklearn.preprocessing import MinMaxScaler\n",
    "from sklearn.svm import SVC\n",
    "from sklearn.svm import LinearSVC\n",
    "from sklearn.model_selection import train_test_split\n",
    "from sklearn.metrics import classification_report, confusion_matrix\n",
    "from sklearn.metrics import precision_recall_fscore_support\n",
    "from sklearn.metrics import auc\n",
    "from sklearn.metrics import roc_auc_score\n",
    "from sklearn.metrics import roc_curve\n",
    "from sklearn import metrics\n",
    "\n",
    "# Save model\n",
    "import pickle\n",
    "import joblib"
   ]
  },
  {
   "cell_type": "code",
   "execution_count": 2,
   "metadata": {},
   "outputs": [],
   "source": [
    "# dynamic path location\n",
    "\n",
    "# running = 'movies'\n",
    "# fileName = 'data1_Data_Movies'\n",
    "# fileName = 'data2_Movies_WithAwards'\n",
    "# fileName = 'data3_USA_Movies_WithAwards'\n",
    "\n",
    "running = 'directors'\n",
    "fileName = '1_Director_Data_Mar-21-2020'\n",
    "# fileName = '2_Director_Data_Enhanced_May-10-2020'\n",
    "# fileName = '3_USA_Director_Specific_dataset_May-15-2020'\n",
    "\n",
    "\n",
    "directorDataFileLocation = os.path.join(os.path.realpath(os.path.pardir),'datasets\\\\'+ fileName +'.csv')\n",
    "\n",
    "\n",
    "# moviesDataFileLocation = os.path.join(os.path.realpath(os.path.pardir),'datasets\\\\.csv')\n",
    "# moviesDataFileLocation = os.path.join(os.path.realpath(os.path.pardir),'datasets\\\\.csv')\n",
    "# moviesDataFileLocation = os.path.join(os.path.realpath(os.path.pardir),'datasets\\\\.csv')\n",
    "\n",
    "\n",
    "\n",
    "saveFileToPath = \"C:\\\\Yuva\\\\ITU\\\\4th Sem\\\\Thesis\\\\Data\\\\\"\n",
    "\n",
    "data = pd.read_csv(directorDataFileLocation)\n"
   ]
  },
  {
   "cell_type": "markdown",
   "metadata": {},
   "source": [
    "# Notebook Run Settings"
   ]
  },
  {
   "cell_type": "markdown",
   "metadata": {},
   "source": [
    "chosen_feature_predicting : Gender, rating_count , rating_value , review_count_critic , review_count_user , metascore\n",
    "<br>chosen_bin_method : quartiles , bin_cut , Bin_AsPaper\n",
    "<br>chosen_success_class : movie_rating , director_rating\n",
    "<br>chosen_dataset_balance : unbalanced , balanced\n",
    "<br>chosen_kernel_type : linear , poly , rbf, LinearSVC\n",
    "<br>chosen_scaling_method : MinMaxScaler , None"
   ]
  },
  {
   "cell_type": "code",
   "execution_count": 3,
   "metadata": {},
   "outputs": [],
   "source": [
    "if (running == 'directors'):\n",
    "    \n",
    "    chosen_feature_predicting = 'Gender'\n",
    "    chosen_dataset_ratio = 'balanced'\n",
    "    chosen_kernel_type = 'LinearSVC'\n",
    "    chosen_gamma_type = 'auto'\n",
    "    chosen_scaling_method = 'MinMaxScaler'\n",
    "    chosen_random_state = 42\n",
    "    \n",
    "    \n",
    "    \n",
    "elif(running == 'movies'):\n",
    "    \n",
    "    chosen_feature_predicting = 'Gender'\n",
    "    chosen_dataset_ratio = 'balanced'\n",
    "    chosen_kernel_type = 'LinearSVC'\n",
    "    chosen_gamma_type = 'auto'\n",
    "    chosen_scaling_method = 'MinMaxScaler'\n",
    "    chosen_random_state = 42"
   ]
  },
  {
   "cell_type": "code",
   "execution_count": 4,
   "metadata": {},
   "outputs": [],
   "source": [
    "# storeDF_col_names =  ['run_model','features_selected', 'record_count', 'male_count','female_count','predicting','Order_ABS','Order_Pos_Neg',\n",
    "#               'TN','FP','FN','TP','total_time']\n",
    "# # storeDF  = pd.DataFrame(columns = storeDF_col_names)"
   ]
  },
  {
   "cell_type": "code",
   "execution_count": 5,
   "metadata": {},
   "outputs": [],
   "source": [
    "# Generic function to equally max split the dataframe with respect to the column Name, in our case the Gender column.\n",
    "\n",
    "def max_equal_split_on_columnName(df,columnName='Gender'):\n",
    "    df1 = pd.DataFrame()\n",
    "    for i in df[columnName].value_counts().index:\n",
    "        df1 = df1.append(df[(df[columnName]==i)]\n",
    "                         .sample(n=df[columnName]\n",
    "                                 .value_counts()\n",
    "                                 .values.min(),\n",
    "                                 replace = False,\n",
    "                                random_state = chosen_random_state)\n",
    "                        )        \n",
    "    return df1.reset_index(drop=True)"
   ]
  },
  {
   "cell_type": "markdown",
   "metadata": {},
   "source": [
    "### Balance data"
   ]
  },
  {
   "cell_type": "code",
   "execution_count": 6,
   "metadata": {},
   "outputs": [],
   "source": [
    "balanced_data = max_equal_split_on_columnName(data)"
   ]
  },
  {
   "cell_type": "code",
   "execution_count": 7,
   "metadata": {},
   "outputs": [
    {
     "name": "stdout",
     "output_type": "stream",
     "text": [
      "Unique director distribution - balanced data split based on Gender\n"
     ]
    },
    {
     "data": {
      "text/plain": [
       "Male      8991\n",
       "Female    8991\n",
       "Name: Gender, dtype: int64"
      ]
     },
     "execution_count": 7,
     "metadata": {},
     "output_type": "execute_result"
    }
   ],
   "source": [
    "# Unique director distribution in max_equal DF\n",
    "print(\"Unique director distribution - balanced data split based on Gender\")\n",
    "\n",
    "balanced_data.drop_duplicates(subset = 'director_ids', keep = 'first').Gender.value_counts()"
   ]
  },
  {
   "cell_type": "code",
   "execution_count": 8,
   "metadata": {
    "scrolled": true
   },
   "outputs": [
    {
     "name": "stdout",
     "output_type": "stream",
     "text": [
      "<class 'pandas.core.frame.DataFrame'>\n",
      "RangeIndex: 17982 entries, 0 to 17981\n",
      "Data columns (total 14 columns):\n",
      " #   Column                    Non-Null Count  Dtype  \n",
      "---  ------                    --------------  -----  \n",
      " 0   director_ids              17982 non-null  object \n",
      " 1   director_name             17982 non-null  object \n",
      " 2   movies_produced           17982 non-null  int64  \n",
      " 3   average_rating_value      17982 non-null  float64\n",
      " 4   average_rating_count      17982 non-null  float64\n",
      " 5   career_Length             17982 non-null  int64  \n",
      " 6   Gender                    17982 non-null  object \n",
      " 7   birthYear                 17982 non-null  int64  \n",
      " 8   primaryProfession         17982 non-null  object \n",
      " 9   knownForTitles            17982 non-null  object \n",
      " 10  CareerStartYear           17982 non-null  int64  \n",
      " 11  median_inter_event_time   17982 non-null  float64\n",
      " 12  average_movie_per_year    17982 non-null  float64\n",
      " 13  average_inter_event_time  17982 non-null  float64\n",
      "dtypes: float64(5), int64(4), object(5)\n",
      "memory usage: 1.9+ MB\n"
     ]
    }
   ],
   "source": [
    "balanced_data.info()"
   ]
  },
  {
   "cell_type": "code",
   "execution_count": 9,
   "metadata": {},
   "outputs": [
    {
     "data": {
      "text/plain": [
       "(17982, 14)"
      ]
     },
     "execution_count": 9,
     "metadata": {},
     "output_type": "execute_result"
    }
   ],
   "source": [
    "balanced_data.shape"
   ]
  },
  {
   "cell_type": "markdown",
   "metadata": {},
   "source": [
    "### Unbalanced data"
   ]
  },
  {
   "cell_type": "code",
   "execution_count": 10,
   "metadata": {},
   "outputs": [
    {
     "name": "stdout",
     "output_type": "stream",
     "text": [
      "Unique director distribution - Unbalanced data split based on Gender\n"
     ]
    },
    {
     "data": {
      "text/plain": [
       "Male      32638\n",
       "Female     8991\n",
       "Name: Gender, dtype: int64"
      ]
     },
     "execution_count": 10,
     "metadata": {},
     "output_type": "execute_result"
    }
   ],
   "source": [
    "# Unique director distribution in max_equal DF\n",
    "print(\"Unique director distribution - Unbalanced data split based on Gender\")\n",
    "\n",
    "data.drop_duplicates(subset = 'director_ids', keep = 'first').Gender.value_counts()"
   ]
  },
  {
   "cell_type": "code",
   "execution_count": 11,
   "metadata": {},
   "outputs": [
    {
     "data": {
      "text/plain": [
       "(41629, 14)"
      ]
     },
     "execution_count": 11,
     "metadata": {},
     "output_type": "execute_result"
    }
   ],
   "source": [
    "data.shape"
   ]
  },
  {
   "cell_type": "markdown",
   "metadata": {},
   "source": [
    "### Choosing dataset for the analysis"
   ]
  },
  {
   "cell_type": "code",
   "execution_count": 12,
   "metadata": {},
   "outputs": [
    {
     "data": {
      "text/plain": [
       "'balanced'"
      ]
     },
     "execution_count": 12,
     "metadata": {},
     "output_type": "execute_result"
    }
   ],
   "source": [
    "chosen_dataset_ratio"
   ]
  },
  {
   "cell_type": "code",
   "execution_count": 13,
   "metadata": {},
   "outputs": [],
   "source": [
    "chosen_dataframe = ''\n",
    "if(chosen_dataset_ratio == 'unbalanced'):\n",
    "    chosen_dataframe = data\n",
    "elif(chosen_dataset_ratio == 'balanced'):\n",
    "    chosen_dataframe = balanced_data"
   ]
  },
  {
   "cell_type": "markdown",
   "metadata": {},
   "source": [
    "### Remove Features from dataset which are not required"
   ]
  },
  {
   "cell_type": "code",
   "execution_count": 14,
   "metadata": {},
   "outputs": [
    {
     "data": {
      "text/plain": [
       "['director_ids', 'director_name', 'primaryProfession', 'knownForTitles']"
      ]
     },
     "execution_count": 14,
     "metadata": {},
     "output_type": "execute_result"
    }
   ],
   "source": [
    "object_features_to_remove = chosen_dataframe.select_dtypes(include = 'object').columns.values.tolist()\n",
    "object_features_to_remove.remove('Gender')\n",
    "object_features_to_remove"
   ]
  },
  {
   "cell_type": "markdown",
   "metadata": {},
   "source": [
    "### Drop features from chosen Dataset"
   ]
  },
  {
   "cell_type": "code",
   "execution_count": 15,
   "metadata": {
    "scrolled": true
   },
   "outputs": [
    {
     "name": "stdout",
     "output_type": "stream",
     "text": [
      "The shape of our chosen Movies dataset before removing object type features: (17982, 14)\n",
      "The shape of our chosen Movies dataset after dropping object type features: (17982, 10)\n"
     ]
    }
   ],
   "source": [
    "print('The shape of our chosen Movies dataset before removing object type features:', chosen_dataframe.shape)\n",
    "# movies_data = movies_data[movies_data.columns.difference(object_features_to_remove)]\n",
    "chosen_dataframe = chosen_dataframe.drop(columns= object_features_to_remove)\n",
    "print('The shape of our chosen Movies dataset after dropping object type features:', chosen_dataframe.shape)"
   ]
  },
  {
   "cell_type": "code",
   "execution_count": 16,
   "metadata": {},
   "outputs": [
    {
     "data": {
      "text/plain": [
       "Male      8991\n",
       "Female    8991\n",
       "Name: Gender, dtype: int64"
      ]
     },
     "execution_count": 16,
     "metadata": {},
     "output_type": "execute_result"
    }
   ],
   "source": [
    "chosen_dataframe[chosen_feature_predicting].value_counts()"
   ]
  },
  {
   "cell_type": "code",
   "execution_count": 17,
   "metadata": {},
   "outputs": [],
   "source": [
    "numericalGender = {\"Male\": 1, \"Female\": 0 }\n",
    "chosen_dataframe.Gender.replace(numericalGender,inplace=True)"
   ]
  },
  {
   "cell_type": "markdown",
   "metadata": {},
   "source": [
    "# Observations"
   ]
  },
  {
   "cell_type": "code",
   "execution_count": 18,
   "metadata": {},
   "outputs": [],
   "source": [
    "def one_hot_encode_gender(df,one_hot_feature = 'Gender'):\n",
    "    print('Before one hot encoding , Shape ;', df.shape)\n",
    "    # one hot encoding of Gender\n",
    "    df = pd.concat([df, pd.get_dummies(df[one_hot_feature],prefix= one_hot_feature,dtype = int)],axis=1)\n",
    "    df.drop([one_hot_feature],axis=1, inplace=True)\n",
    "    print('After one hot encoding , Shape ;', df.shape)\n",
    "    df.head(2)\n",
    "    return df"
   ]
  },
  {
   "cell_type": "code",
   "execution_count": 19,
   "metadata": {},
   "outputs": [],
   "source": [
    "# Function to Plot - Distribution of rating value among male and female. \n",
    "\n",
    "def plot_features_WRT_gender(df,columnCriteriaName,columnFeatureName):\n",
    "    dict={}\n",
    "    for i in df[columnCriteriaName].value_counts().index:\n",
    "        dict[\"{0}_{1}\".format(columnFeatureName,i)] = df[(df[columnCriteriaName] == i)][columnFeatureName]\n",
    "    for k,v in dict.items():\n",
    "        sns.distplot(v,label=[k])\n",
    "        plt.legend(bbox_to_anchor=(1.05, 0.6), loc=2, borderaxespad=0.)"
   ]
  },
  {
   "cell_type": "markdown",
   "metadata": {},
   "source": [
    "### Generic Functions"
   ]
  },
  {
   "cell_type": "code",
   "execution_count": 20,
   "metadata": {},
   "outputs": [],
   "source": [
    "# Helper method for save_to_file\n",
    "\n",
    "def get_df_name(df):\n",
    "    name =[x for x in globals() if globals()[x] is df][0]\n",
    "    return name"
   ]
  },
  {
   "cell_type": "code",
   "execution_count": 21,
   "metadata": {},
   "outputs": [],
   "source": [
    "# Function: Save Dataframe to CSV\n",
    "\n",
    "def save_to_file(dataFrame, folderPath):\n",
    "    today = date.today()\n",
    "    todayDate = today.strftime(\"%b-%d-%Y\")\n",
    "#     dataFrame.to_csv(folderPath+ '\\\\' + get_df_name(dataFrame) + '_' + todayDate  + '.csv',index=False, encoding=\"utf8\" )\n",
    "    dataFrame.to_csv(folderPath+ '\\\\' + get_df_name(dataFrame) + '_' + todayDate  + '.csv',index=False, encoding=\"utf-8-sig\" )"
   ]
  },
  {
   "cell_type": "code",
   "execution_count": 22,
   "metadata": {},
   "outputs": [
    {
     "data": {
      "image/png": "[encoded data removed]",
      "text/plain": [
       "<Figure size 432x288 with 1 Axes>"
      ]
     },
     "metadata": {},
     "output_type": "display_data"
    }
   ],
   "source": [
    "# Visualizing Outcome Distribution \n",
    "temp = chosen_dataframe[chosen_feature_predicting].value_counts()\n",
    "df = pd.DataFrame({'labels': temp.index,\n",
    "                   'values': temp.values\n",
    "                  })\n",
    "\n",
    "#df.plot(kind='pie',labels='labels',values='values', title='Activity Ditribution',subplots= \"True\")\n",
    "\n",
    "labels = df['labels']\n",
    "sizes = df['values']\n",
    "colors = ['blue', 'red', 'lightskyblue', 'lightcoral','cyan']\n",
    "patches, texts = plt.pie(sizes, colors=colors, shadow=True, startangle=90, pctdistance=1.1, labeldistance=1.2)\n",
    "plt.legend(patches, labels, loc=\"best\")\n",
    "plt.axis('equal')\n",
    "plt.tight_layout()\n",
    "plt.show()"
   ]
  },
  {
   "cell_type": "code",
   "execution_count": 23,
   "metadata": {},
   "outputs": [],
   "source": [
    "def divide_test_train_with_scaling_methods(df,predict= chosen_feature_predicting,scalingMethod = \"MinMaxScaler\"):\n",
    "    \n",
    "    \n",
    "    # Feature matrix and target variable\n",
    "    X = df.drop(predict,axis = 'columns')\n",
    "    y = df[predict]\n",
    "    \n",
    "    # Scaling\n",
    "    if (scalingMethod == \"MinMaxScaler\"):\n",
    "        print(\"The scaling method used is : \",scalingMethod)\n",
    "        scaler = MinMaxScaler()\n",
    "        new_X = scaler.fit_transform(X)\n",
    "        # X_test = scaler.transform(X_test)\n",
    "        \n",
    "    else:\n",
    "        print(\"No Scaling Method used or incorrect input\")\n",
    "        new_X = X\n",
    "    \n",
    "    # Divide the data into training and test sets\n",
    "    X_train, X_test, y_train, y_test = train_test_split(new_X, y, test_size=0.20, random_state = 42 , stratify = y )\n",
    "    \n",
    "    return X_train, X_test, y_train, y_test"
   ]
  },
  {
   "cell_type": "markdown",
   "metadata": {},
   "source": [
    "# Plot Confusion Matrix"
   ]
  },
  {
   "cell_type": "code",
   "execution_count": 24,
   "metadata": {},
   "outputs": [],
   "source": [
    "import matplotlib.pyplot as plt\n",
    "%matplotlib inline\n",
    "\n",
    "def plot_confusion_matrix(cm, classes,\n",
    "                          normalize=False,\n",
    "                          title='Confusion matrix',\n",
    "                          cmap=plt.cm.Blues):\n",
    "    \"\"\"\n",
    "    This function prints and plots the confusion matrix.\n",
    "    Normalization can be applied by setting `normalize=True`.\n",
    "    \"\"\"\n",
    "    import itertools\n",
    "    if normalize:\n",
    "        cm = cm.astype('float') / cm.sum(axis=1)[:, np.newaxis]\n",
    "        print(\"Normalized confusion matrix\")\n",
    "    else:\n",
    "        print('Confusion matrix, without normalization')\n",
    "\n",
    "    print(cm)\n",
    "\n",
    "    plt.imshow(cm, interpolation='nearest', cmap=cmap)\n",
    "    plt.title(title)\n",
    "    plt.colorbar()\n",
    "    tick_marks = np.arange(len(classes))\n",
    "    plt.xticks(tick_marks, classes, rotation=45)\n",
    "    plt.yticks(tick_marks, classes)\n",
    "\n",
    "    fmt = '.2f' if normalize else 'd'\n",
    "    thresh = cm.max() / 2.\n",
    "    for i, j in itertools.product(range(cm.shape[0]), range(cm.shape[1])):\n",
    "        plt.text(j, i, format(cm[i, j], fmt),\n",
    "                 horizontalalignment=\"center\",\n",
    "                 color=\"white\" if cm[i, j] > thresh else \"black\")\n",
    "\n",
    "    plt.ylabel('True label')\n",
    "    plt.xlabel('Predicted label')\n",
    "    plt.tight_layout()"
   ]
  },
  {
   "cell_type": "markdown",
   "metadata": {},
   "source": [
    "### Function for Run Info :"
   ]
  },
  {
   "cell_type": "code",
   "execution_count": 25,
   "metadata": {},
   "outputs": [],
   "source": [
    "def run_info(classifier):\n",
    "    print('\\n**Run Info - ' + classifier + '**')\n",
    "    print('Dataset Shape :', chosen_dataframe.shape)\n",
    "    print('Dataset ratio of classes is', chosen_dataset_ratio)\n",
    "    print('Predicting feature :', chosen_feature_predicting)\n",
    "    print('Scaling Method :', chosen_scaling_method)\n",
    "    print('****************\\n')\n",
    "    return"
   ]
  },
  {
   "cell_type": "markdown",
   "metadata": {},
   "source": [
    "### Function to print customized classification report"
   ]
  },
  {
   "cell_type": "code",
   "execution_count": 26,
   "metadata": {},
   "outputs": [],
   "source": [
    "def customized_classification_report(y_true,y_pred, AUCROC ):\n",
    "    \n",
    "    cols_to_use_classification_report = ['Female','Male','accuracy']\n",
    "    \n",
    "    reportGBClassification = classification_report(y_true,\n",
    "                                               y_pred,\n",
    "                                               output_dict=True)\n",
    "\n",
    "    reportDF = pd.DataFrame(reportGBClassification)[0:3]\n",
    "    reportDF = reportDF[['0','1','accuracy']]\n",
    "\n",
    "\n",
    "    reportDF[['0','1']] = reportDF[['0','1']].round(2)\n",
    "    accuracyRow = reportDF['accuracy'].unique().tolist()\n",
    "\n",
    "    reportDF.drop(columns='accuracy',inplace= True)\n",
    "\n",
    "    reportDF.loc[len(reportDF)] = 2 * accuracyRow\n",
    "    reportDF.loc[len(reportDF)] = 2 * [AUCROC]\n",
    "\n",
    "    reportDF = reportDF.rename(index = {3:'accuracy',4:'AUC ROC'})\n",
    "    return reportDF"
   ]
  },
  {
   "cell_type": "markdown",
   "metadata": {},
   "source": [
    "# SVM Classifier"
   ]
  },
  {
   "cell_type": "code",
   "execution_count": 27,
   "metadata": {},
   "outputs": [],
   "source": [
    "def train_model_SVM_classifier(X_train, X_test, y_train, y_test,kernelType='linear',gamma_parameter='auto'):\n",
    "    \n",
    "    start = time.time()\n",
    "    print(\"Started Reading files at :\" + str(datetime.utcfromtimestamp(start).strftime('%Y-%m-%d %H:%M:%S')))\n",
    "    \n",
    "    labelClass = [0,1]\n",
    "#     labelMovieClass = [1,2,3,4]\n",
    "    \n",
    "    # SVM Classifier parameters\n",
    "    \n",
    "    if(kernelType == 'linear'):\n",
    "        svclassifier = SVC(kernel = kernelType,\n",
    "                           gamma = gamma_parameter,\n",
    "                           probability=True\n",
    "                          )\n",
    "        \n",
    "    elif(kernelType == 'LinearSVC'):\n",
    "        svclassifier = LinearSVC(random_state = 42,\n",
    "                                 tol=1e-5,\n",
    "                                 multi_class = 'ovr'\n",
    "                                )\n",
    "        # Using Calibrated Classifier cross validation and One VsRest classifier\n",
    "        clf0 = CalibratedClassifierCV(svclassifier, cv=10)\n",
    "        clf = OneVsRestClassifier(clf0, n_jobs = 10)\n",
    "        \n",
    "    elif(kernelType == 'poly'):\n",
    "        svclassifier = SVC(kernel=kernelType,\n",
    "                           gamma = gamma_parameter,\n",
    "#                            probability=True,\n",
    "                           degree=8\n",
    "                          )\n",
    "    elif(kernelType == 'rbf'):\n",
    "        svclassifier = SVC(kernel=kernelType,\n",
    "#                            probability=True,\n",
    "                    )\n",
    "    elif(kernelType == 'sigmoid'):\n",
    "        svclassifier = SVC(kernel=kernelType,\n",
    "#                            probability=True,\n",
    "                )\n",
    "    \n",
    "#     #Using Bagging classifier with SVC\n",
    "#     clf = BaggingClassifier(base_estimator = svclassifier,\n",
    "#                                      n_estimators=10, \n",
    "#                                      random_state= 42)    \n",
    "    \n",
    "#     #Using One Vs Rest classifier with SVC    \n",
    "#     clf = OneVsRestClassifier(svclassifier, n_jobs = 10)\n",
    "    \n",
    "     \n",
    "\n",
    "\n",
    "\n",
    "    \n",
    "    # SVM Classifier Fit\n",
    "    clf.fit(X_train, y_train)\n",
    "\n",
    "    # Predict classes\n",
    "    y_pred = clf.predict(X_test)\n",
    "    y_prob = clf.predict_proba(X_test)\n",
    "\n",
    "    \n",
    "#     cnf_matrix = confusion_matrix(y_test, y_pred,labels= labelMovieClass )\n",
    "    cnf_matrix = confusion_matrix(y_test, y_pred)\n",
    "#     np.set_printoptions(precision=2)\n",
    "    \n",
    "    classifier_name = svclassifier.__class__.__name__\n",
    "    train_size = int(round((len(X_train) / len(chosen_dataframe)),1) * 100)\n",
    "    test_size = int(round((len(X_test) / len(chosen_dataframe)),1) * 100)\n",
    "    \n",
    "    # Print run info\n",
    "    run_info(classifier_name)\n",
    "    \n",
    "    # Plot non-normalized confusion matrix\n",
    "    plt.figure()\n",
    "    plot_confusion_matrix(cnf_matrix, classes= labelClass,\n",
    "                      title='Confusion matrix, without normalization')\n",
    "    \n",
    "       \n",
    "    svm_train_score = clf.score(X_train, y_train)\n",
    "    print(\"\\nTraining Score of {0} on {2} % data : {1} \".format(classifier_name,round(svm_train_score,3),train_size))\n",
    "    \n",
    "    svm_test_score = clf.score(X_test, y_test)\n",
    "    print(\"Testing Score of {0} on {2} % data : {1} \".format(classifier_name,round(svm_test_score,3),test_size))\n",
    "\n",
    "    # Performance metrics\n",
    "    \n",
    "    auc_roc = roc_auc_score(y_test, y_pred)\n",
    "    print( \"\\nArea Under the Curve - ROC (OVO , Macro) : \",round(auc_roc,3))\n",
    "    print( \"Matthews_corrcoef : \", round(metrics.matthews_corrcoef(y_test, y_pred),3))\n",
    "    \n",
    "\n",
    "    print(\"\\nClassification Report\\n\")\n",
    "    print(classification_report(y_test, y_pred, labels = labelClass ))\n",
    "    \n",
    "    # Stop timer\n",
    "    end = time.time()\n",
    "    print(\"\\nStopped Reading files at :\" + str(datetime.utcfromtimestamp(end).strftime('%Y-%m-%d %H:%M:%S')))\n",
    "    total_time = str(round((end - start)/60,2))\n",
    "    print(\"Total time taken in seconds: \" + str((end - start)))\n",
    "    \n",
    "    return svclassifier,y_test,y_pred,auc_roc"
   ]
  },
  {
   "cell_type": "markdown",
   "metadata": {},
   "source": [
    "## Running Director Dataset - with model features"
   ]
  },
  {
   "cell_type": "markdown",
   "metadata": {},
   "source": [
    "### Small sample for test"
   ]
  },
  {
   "cell_type": "code",
   "execution_count": 28,
   "metadata": {
    "scrolled": false
   },
   "outputs": [],
   "source": [
    "# for i in range(2):\n",
    "#     print('Round',i+4)\n",
    "#     NOR= 10000 * (i+4)\n",
    "#     print('Number of Rows',NOR)\n",
    "#     testSample =  chosen_dataframe.sample(n= NOR , random_state = 42 , replace = False)\n",
    "#     # Divide the data into training and test\n",
    "#     X_train, X_test, y_train, y_test = divide_test_train_with_scaling_methods(testSample,scalingMethod= chosen_scaling_method)\n",
    "#     svclassifier,total_time = train_model_SVM_classifier(X_train, X_test, y_train, y_test,kernelType= chosen_kernel_type ,gamma_parameter= chosen_gamma_type)\n",
    "#     print('Total Time in minutes: ', total_time )"
   ]
  },
  {
   "cell_type": "code",
   "execution_count": 29,
   "metadata": {},
   "outputs": [],
   "source": [
    "# # Comment this line if you want to use the originally chosen dataframe\n",
    "\n",
    "# testSample =  chosen_dataframe.sample(n= 10000 , random_state = 42 , replace = False)\n",
    "# # chosen_dataframe = testSample"
   ]
  },
  {
   "cell_type": "code",
   "execution_count": 30,
   "metadata": {},
   "outputs": [
    {
     "data": {
      "text/html": [
       "<div>\n",
       "<style scoped>\n",
       "    .dataframe tbody tr th:only-of-type {\n",
       "        vertical-align: middle;\n",
       "    }\n",
       "\n",
       "    .dataframe tbody tr th {\n",
       "        vertical-align: top;\n",
       "    }\n",
       "\n",
       "    .dataframe thead th {\n",
       "        text-align: right;\n",
       "    }\n",
       "</style>\n",
       "<table border=\"1\" class=\"dataframe\">\n",
       "  <thead>\n",
       "    <tr style=\"text-align: right;\">\n",
       "      <th></th>\n",
       "      <th>movies_produced</th>\n",
       "      <th>average_rating_value</th>\n",
       "      <th>average_rating_count</th>\n",
       "      <th>career_Length</th>\n",
       "      <th>Gender</th>\n",
       "      <th>birthYear</th>\n",
       "      <th>CareerStartYear</th>\n",
       "      <th>median_inter_event_time</th>\n",
       "      <th>average_movie_per_year</th>\n",
       "      <th>average_inter_event_time</th>\n",
       "    </tr>\n",
       "  </thead>\n",
       "  <tbody>\n",
       "  </tbody>\n",
       "</table>\n",
       "</div>"
      ],
      "text/plain": [
       "Empty DataFrame\n",
       "Columns: [movies_produced, average_rating_value, average_rating_count, career_Length, Gender, birthYear, CareerStartYear, median_inter_event_time, average_movie_per_year, average_inter_event_time]\n",
       "Index: []"
      ]
     },
     "execution_count": 30,
     "metadata": {},
     "output_type": "execute_result"
    }
   ],
   "source": [
    "chosen_dataframe[chosen_dataframe['birthYear'] == 6]"
   ]
  },
  {
   "cell_type": "code",
   "execution_count": 31,
   "metadata": {},
   "outputs": [
    {
     "name": "stdout",
     "output_type": "stream",
     "text": [
      "The scaling method used is :  MinMaxScaler\n"
     ]
    }
   ],
   "source": [
    "# Divide the data into training and test\n",
    "\n",
    "X_train, X_test, y_train, y_test = divide_test_train_with_scaling_methods(chosen_dataframe,scalingMethod= chosen_scaling_method)"
   ]
  },
  {
   "cell_type": "code",
   "execution_count": 32,
   "metadata": {},
   "outputs": [
    {
     "data": {
      "text/plain": [
       "((14385, 9), (14385,))"
      ]
     },
     "execution_count": 32,
     "metadata": {},
     "output_type": "execute_result"
    }
   ],
   "source": [
    "X_train.shape , y_train.shape"
   ]
  },
  {
   "cell_type": "code",
   "execution_count": 33,
   "metadata": {},
   "outputs": [
    {
     "data": {
      "text/plain": [
       "((3597, 9), (3597,))"
      ]
     },
     "execution_count": 33,
     "metadata": {},
     "output_type": "execute_result"
    }
   ],
   "source": [
    "X_test.shape , y_test.shape"
   ]
  },
  {
   "cell_type": "markdown",
   "metadata": {},
   "source": [
    "For Dataset 1<br>\n",
    "50 seconds for 10000 records<br>\n",
    "200 seconds for 20000 records"
   ]
  },
  {
   "cell_type": "code",
   "execution_count": 34,
   "metadata": {
    "scrolled": false
   },
   "outputs": [
    {
     "name": "stdout",
     "output_type": "stream",
     "text": [
      "Started Reading files at :2020-05-29 16:52:22\n",
      "\n",
      "**Run Info - LinearSVC**\n",
      "Dataset Shape : (17982, 10)\n",
      "Dataset ratio of classes is balanced\n",
      "Predicting feature : Gender\n",
      "Scaling Method : MinMaxScaler\n",
      "****************\n",
      "\n",
      "Confusion matrix, without normalization\n",
      "[[1216  583]\n",
      " [1032  766]]\n",
      "\n",
      "Training Score of LinearSVC on 80 % data : 0.557 \n",
      "Testing Score of LinearSVC on 20 % data : 0.551 \n",
      "\n",
      "Area Under the Curve - ROC (OVO , Macro) :  0.551\n",
      "Matthews_corrcoef :  0.105\n",
      "\n",
      "Classification Report\n",
      "\n",
      "              precision    recall  f1-score   support\n",
      "\n",
      "           0       0.54      0.68      0.60      1799\n",
      "           1       0.57      0.43      0.49      1798\n",
      "\n",
      "    accuracy                           0.55      3597\n",
      "   macro avg       0.55      0.55      0.54      3597\n",
      "weighted avg       0.55      0.55      0.54      3597\n",
      "\n",
      "\n",
      "Stopped Reading files at :2020-05-29 16:52:24\n",
      "Total time taken in seconds: 2.577714681625366\n"
     ]
    },
    {
     "data": {
      "image/png": "[encoded data removed]",
      "text/plain": [
       "<Figure size 432x288 with 2 Axes>"
      ]
     },
     "metadata": {
      "needs_background": "light"
     },
     "output_type": "display_data"
    }
   ],
   "source": [
    "svclassifier,y_true , y_pred, AUCROC  = train_model_SVM_classifier(X_train, X_test, y_train, y_test,kernelType= chosen_kernel_type ,gamma_parameter= chosen_gamma_type)"
   ]
  },
  {
   "cell_type": "code",
   "execution_count": 35,
   "metadata": {},
   "outputs": [
    {
     "data": {
      "text/plain": [
       "array([[1216,  583],\n",
       "       [1032,  766]], dtype=int64)"
      ]
     },
     "execution_count": 35,
     "metadata": {},
     "output_type": "execute_result"
    }
   ],
   "source": [
    "cnf_matrix = confusion_matrix(y_true, y_pred)\n",
    "cnf_matrix"
   ]
  },
  {
   "cell_type": "code",
   "execution_count": 36,
   "metadata": {},
   "outputs": [
    {
     "data": {
      "text/html": [
       "<div>\n",
       "<style scoped>\n",
       "    .dataframe tbody tr th:only-of-type {\n",
       "        vertical-align: middle;\n",
       "    }\n",
       "\n",
       "    .dataframe tbody tr th {\n",
       "        vertical-align: top;\n",
       "    }\n",
       "\n",
       "    .dataframe thead th {\n",
       "        text-align: right;\n",
       "    }\n",
       "</style>\n",
       "<table border=\"1\" class=\"dataframe\">\n",
       "  <thead>\n",
       "    <tr style=\"text-align: right;\">\n",
       "      <th></th>\n",
       "      <th>1</th>\n",
       "      <th>0</th>\n",
       "    </tr>\n",
       "  </thead>\n",
       "  <tbody>\n",
       "    <tr>\n",
       "      <th>precision</th>\n",
       "      <td>0.570000</td>\n",
       "      <td>0.540000</td>\n",
       "    </tr>\n",
       "    <tr>\n",
       "      <th>recall</th>\n",
       "      <td>0.430000</td>\n",
       "      <td>0.680000</td>\n",
       "    </tr>\n",
       "    <tr>\n",
       "      <th>f1-score</th>\n",
       "      <td>0.490000</td>\n",
       "      <td>0.600000</td>\n",
       "    </tr>\n",
       "    <tr>\n",
       "      <th>accuracy</th>\n",
       "      <td>0.551015</td>\n",
       "      <td>0.551015</td>\n",
       "    </tr>\n",
       "    <tr>\n",
       "      <th>AUC ROC</th>\n",
       "      <td>0.550980</td>\n",
       "      <td>0.550980</td>\n",
       "    </tr>\n",
       "  </tbody>\n",
       "</table>\n",
       "</div>"
      ],
      "text/plain": [
       "                  1         0\n",
       "precision  0.570000  0.540000\n",
       "recall     0.430000  0.680000\n",
       "f1-score   0.490000  0.600000\n",
       "accuracy   0.551015  0.551015\n",
       "AUC ROC    0.550980  0.550980"
      ]
     },
     "execution_count": 36,
     "metadata": {},
     "output_type": "execute_result"
    }
   ],
   "source": [
    "SVM_reportDF = customized_classification_report(y_true,y_pred,AUCROC)\n",
    "SVM_reportDF[['1','0']]"
   ]
  },
  {
   "cell_type": "code",
   "execution_count": 37,
   "metadata": {
    "scrolled": true
   },
   "outputs": [
    {
     "ename": "SyntaxError",
     "evalue": "'break' outside loop (<ipython-input-37-6aaf1f276005>, line 4)",
     "output_type": "error",
     "traceback": [
      "\u001b[1;36m  File \u001b[1;32m\"<ipython-input-37-6aaf1f276005>\"\u001b[1;36m, line \u001b[1;32m4\u001b[0m\n\u001b[1;31mSyntaxError\u001b[0m\u001b[1;31m:\u001b[0m 'break' outside loop\n"
     ]
    }
   ],
   "source": [
    "break"
   ]
  },
  {
   "cell_type": "markdown",
   "metadata": {},
   "source": [
    "# Code ends here for SVM Testing"
   ]
  },
  {
   "cell_type": "code",
   "execution_count": null,
   "metadata": {},
   "outputs": [],
   "source": []
  },
  {
   "cell_type": "code",
   "execution_count": null,
   "metadata": {},
   "outputs": [],
   "source": []
  },
  {
   "cell_type": "code",
   "execution_count": null,
   "metadata": {},
   "outputs": [],
   "source": []
  },
  {
   "cell_type": "code",
   "execution_count": null,
   "metadata": {},
   "outputs": [],
   "source": [
    "# temp_director_only = movies_data.dropna(subset=model_features)\n",
    "temp_director_only = movies_data\n",
    "temp_director_only.info()"
   ]
  },
  {
   "cell_type": "code",
   "execution_count": null,
   "metadata": {},
   "outputs": [],
   "source": [
    "def print_features_selected(df):\n",
    "    print('[',end = '')\n",
    "    for i,v in enumerate(df.columns.values):\n",
    "        if(i==len(df.columns.values)-1):\n",
    "            print(\"'\" + str(v) +\"']\")\n",
    "        else:\n",
    "            print(\"'\" + str(v) +\"',\")"
   ]
  },
  {
   "cell_type": "code",
   "execution_count": null,
   "metadata": {},
   "outputs": [],
   "source": [
    "# # print_features_selected(temp_director_only)\n",
    "# print_features_selected(maxEqualDF[model_features])"
   ]
  },
  {
   "cell_type": "markdown",
   "metadata": {},
   "source": [
    "## Running Whole Director DF "
   ]
  },
  {
   "cell_type": "code",
   "execution_count": null,
   "metadata": {},
   "outputs": [],
   "source": [
    "y_test,y_pred,model_SVC = run_model_SVM(df = temp_director_only,\n",
    "                                        predictingFeature= chosen_feature_predicting,\n",
    "                                        kernelType= chosen_kernel_type,\n",
    "                                        gamma= chosen_gamma_type\n",
    "                                       )\n"
   ]
  },
  {
   "cell_type": "code",
   "execution_count": null,
   "metadata": {},
   "outputs": [],
   "source": [
    "# y_test,y_pred,model_SVC,storeDF.loc[len(storeDF)] = run_model_SVM(model_comments,temp_director_only,storeDF,\n",
    "#                                                                   model_features,'Gender','linear','auto')"
   ]
  },
  {
   "cell_type": "code",
   "execution_count": null,
   "metadata": {},
   "outputs": [],
   "source": [
    "evaluation_analysis(y_test,y_pred)"
   ]
  },
  {
   "cell_type": "code",
   "execution_count": null,
   "metadata": {},
   "outputs": [],
   "source": [
    "storeDF"
   ]
  },
  {
   "cell_type": "code",
   "execution_count": null,
   "metadata": {},
   "outputs": [],
   "source": [
    "# #Save a copy of true and predicted for Manual intervention\n",
    "# Actual = y_test.to_frame()\n",
    "# Actual['predicter'] = y_pred\n",
    "# save_to_file(Actual,saveFileToPath)"
   ]
  },
  {
   "cell_type": "markdown",
   "metadata": {},
   "source": [
    "## Running Balanced max Equal DF "
   ]
  },
  {
   "cell_type": "code",
   "execution_count": null,
   "metadata": {},
   "outputs": [],
   "source": [
    "y_test,y_pred,model_SVC,storeDF.loc[len(storeDF)] = run_model_SVM(model_comments,maxEqualDF,storeDF,\n",
    "                                                                  model_features,'Gender','linear','auto')"
   ]
  },
  {
   "cell_type": "code",
   "execution_count": null,
   "metadata": {},
   "outputs": [],
   "source": [
    "evaluation_analysis(y_test,y_pred)"
   ]
  },
  {
   "cell_type": "code",
   "execution_count": null,
   "metadata": {},
   "outputs": [],
   "source": [
    "storeDF"
   ]
  },
  {
   "cell_type": "markdown",
   "metadata": {},
   "source": [
    "## Test Run sample DF"
   ]
  },
  {
   "cell_type": "code",
   "execution_count": null,
   "metadata": {},
   "outputs": [],
   "source": [
    "y_test,y_pred,model_SVC,storeDF.loc[len(storeDF)] = run_model_SVM(model_comments,equalDF,storeDF,\n",
    "                                                                  model_features,'Gender','poly','auto')"
   ]
  },
  {
   "cell_type": "code",
   "execution_count": null,
   "metadata": {},
   "outputs": [],
   "source": [
    "evaluation_analysis(y_test,y_pred)"
   ]
  },
  {
   "cell_type": "code",
   "execution_count": null,
   "metadata": {},
   "outputs": [],
   "source": [
    "evaluation_analysis(y_test,y_pred)"
   ]
  },
  {
   "cell_type": "code",
   "execution_count": null,
   "metadata": {},
   "outputs": [],
   "source": [
    "storeDF"
   ]
  },
  {
   "cell_type": "code",
   "execution_count": null,
   "metadata": {},
   "outputs": [],
   "source": []
  },
  {
   "cell_type": "code",
   "execution_count": null,
   "metadata": {},
   "outputs": [],
   "source": []
  },
  {
   "cell_type": "code",
   "execution_count": null,
   "metadata": {},
   "outputs": [],
   "source": [
    "save_to_file(storeDF,saveFileToPath)"
   ]
  },
  {
   "cell_type": "code",
   "execution_count": null,
   "metadata": {},
   "outputs": [],
   "source": []
  },
  {
   "cell_type": "markdown",
   "metadata": {},
   "source": []
  }
 ],
 "metadata": {
  "kernelspec": {
   "display_name": "Python 3",
   "language": "python",
   "name": "python3"
  },
  "language_info": {
   "codemirror_mode": {
    "name": "ipython",
    "version": 3
   },
   "file_extension": ".py",
   "mimetype": "text/x-python",
   "name": "python",
   "nbconvert_exporter": "python",
   "pygments_lexer": "ipython3",
   "version": "3.7.3"
  }
 },
 "nbformat": 4,
 "nbformat_minor": 2
}
