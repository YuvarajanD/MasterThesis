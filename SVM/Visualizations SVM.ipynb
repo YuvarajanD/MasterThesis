{
 "cells": [
  {
   "cell_type": "code",
   "execution_count": 1,
   "metadata": {},
   "outputs": [],
   "source": [
    "import pandas as pd\n",
    "import numpy as np\n",
    "import re\n",
    "import string\n",
    "import time\n",
    "from datetime import datetime\n",
    "from datetime import date\n",
    "import os\n",
    "\n",
    "#Plotting\n",
    "%matplotlib inline\n",
    "import matplotlib as mpl\n",
    "import matplotlib.pyplot as plt\n",
    "import seaborn as sns\n",
    "\n",
    "# ML Libraries\n",
    "from sklearn import svm"
   ]
  },
  {
   "cell_type": "code",
   "execution_count": 2,
   "metadata": {},
   "outputs": [],
   "source": [
    "# fileLocation = 'C:\\\\Users\\\\VictorY\\\\Desktop\\\\TestData\\\\stage3FinalProcessedDF_Nov-17-2019.csv'\n",
    "fileLocation = 'C:\\\\Yuva\\\\ITU\\\\4th Sem\\\\Thesis\\\\Data\\\\cumulativeDirectorDF_Mar-21-2020.csv'\n",
    "saveFileToPath = \"C:\\\\Yuva\\\\ITU\\\\4th Sem\\\\Thesis\\\\Data\"\n",
    "\n",
    "data = pd.read_csv(fileLocation)"
   ]
  },
  {
   "cell_type": "code",
   "execution_count": 3,
   "metadata": {
    "scrolled": false
   },
   "outputs": [
    {
     "data": {
      "text/html": [
       "<div>\n",
       "<style scoped>\n",
       "    .dataframe tbody tr th:only-of-type {\n",
       "        vertical-align: middle;\n",
       "    }\n",
       "\n",
       "    .dataframe tbody tr th {\n",
       "        vertical-align: top;\n",
       "    }\n",
       "\n",
       "    .dataframe thead th {\n",
       "        text-align: right;\n",
       "    }\n",
       "</style>\n",
       "<table border=\"1\" class=\"dataframe\">\n",
       "  <thead>\n",
       "    <tr style=\"text-align: right;\">\n",
       "      <th></th>\n",
       "      <th>director_ids</th>\n",
       "      <th>director_name</th>\n",
       "      <th>movies_produced</th>\n",
       "      <th>Average_rating_value</th>\n",
       "      <th>Average_rating_count</th>\n",
       "      <th>career_Length</th>\n",
       "      <th>Gender</th>\n",
       "      <th>birthYear</th>\n",
       "      <th>primaryProfession</th>\n",
       "      <th>knownForTitles</th>\n",
       "      <th>CareerStartYear</th>\n",
       "      <th>median_inter_event_time</th>\n",
       "      <th>average_movie_per_year</th>\n",
       "      <th>average_inter_event_time</th>\n",
       "    </tr>\n",
       "  </thead>\n",
       "  <tbody>\n",
       "    <tr>\n",
       "      <th>0</th>\n",
       "      <td>nm0000005</td>\n",
       "      <td>Ingmar Bergman</td>\n",
       "      <td>70</td>\n",
       "      <td>7.36</td>\n",
       "      <td>6984.76</td>\n",
       "      <td>63</td>\n",
       "      <td>Male</td>\n",
       "      <td>1918</td>\n",
       "      <td>writer,director,actor</td>\n",
       "      <td>tt0083922,tt0069467,tt0050986,tt0050976</td>\n",
       "      <td>1946</td>\n",
       "      <td>1.0</td>\n",
       "      <td>1.11</td>\n",
       "      <td>0.9</td>\n",
       "    </tr>\n",
       "    <tr>\n",
       "      <th>1</th>\n",
       "      <td>nm0000008</td>\n",
       "      <td>Marlon Brando</td>\n",
       "      <td>1</td>\n",
       "      <td>7.20</td>\n",
       "      <td>7002.00</td>\n",
       "      <td>1</td>\n",
       "      <td>Male</td>\n",
       "      <td>1924</td>\n",
       "      <td>actor,soundtrack,director</td>\n",
       "      <td>tt0047296,tt0078788,tt0070849,tt0068646</td>\n",
       "      <td>1961</td>\n",
       "      <td>0.0</td>\n",
       "      <td>1.00</td>\n",
       "      <td>0.0</td>\n",
       "    </tr>\n",
       "    <tr>\n",
       "      <th>2</th>\n",
       "      <td>nm0000009</td>\n",
       "      <td>Richard Burton</td>\n",
       "      <td>1</td>\n",
       "      <td>5.70</td>\n",
       "      <td>676.00</td>\n",
       "      <td>1</td>\n",
       "      <td>Male</td>\n",
       "      <td>1925</td>\n",
       "      <td>actor,producer,soundtrack</td>\n",
       "      <td>tt0061184,tt0057877,tt0059749,tt0087803</td>\n",
       "      <td>1967</td>\n",
       "      <td>0.0</td>\n",
       "      <td>1.00</td>\n",
       "      <td>0.0</td>\n",
       "    </tr>\n",
       "    <tr>\n",
       "      <th>3</th>\n",
       "      <td>nm0000010</td>\n",
       "      <td>James Cagney</td>\n",
       "      <td>1</td>\n",
       "      <td>5.80</td>\n",
       "      <td>162.00</td>\n",
       "      <td>1</td>\n",
       "      <td>Male</td>\n",
       "      <td>1899</td>\n",
       "      <td>actor,soundtrack,director</td>\n",
       "      <td>tt0055256,tt0035575,tt0029870,tt0031867</td>\n",
       "      <td>1957</td>\n",
       "      <td>0.0</td>\n",
       "      <td>1.00</td>\n",
       "      <td>0.0</td>\n",
       "    </tr>\n",
       "    <tr>\n",
       "      <th>4</th>\n",
       "      <td>nm0000018</td>\n",
       "      <td>Kirk Douglas</td>\n",
       "      <td>2</td>\n",
       "      <td>5.85</td>\n",
       "      <td>722.50</td>\n",
       "      <td>3</td>\n",
       "      <td>Male</td>\n",
       "      <td>1916</td>\n",
       "      <td>actor,producer,soundtrack</td>\n",
       "      <td>tt0054331,tt0052365,tt0080736,tt0049456</td>\n",
       "      <td>1973</td>\n",
       "      <td>2.0</td>\n",
       "      <td>0.67</td>\n",
       "      <td>2.0</td>\n",
       "    </tr>\n",
       "  </tbody>\n",
       "</table>\n",
       "</div>"
      ],
      "text/plain": [
       "  director_ids   director_name  movies_produced  Average_rating_value  \\\n",
       "0    nm0000005  Ingmar Bergman               70                  7.36   \n",
       "1    nm0000008   Marlon Brando                1                  7.20   \n",
       "2    nm0000009  Richard Burton                1                  5.70   \n",
       "3    nm0000010    James Cagney                1                  5.80   \n",
       "4    nm0000018    Kirk Douglas                2                  5.85   \n",
       "\n",
       "   Average_rating_count  career_Length Gender  birthYear  \\\n",
       "0               6984.76             63   Male       1918   \n",
       "1               7002.00              1   Male       1924   \n",
       "2                676.00              1   Male       1925   \n",
       "3                162.00              1   Male       1899   \n",
       "4                722.50              3   Male       1916   \n",
       "\n",
       "           primaryProfession                           knownForTitles  \\\n",
       "0      writer,director,actor  tt0083922,tt0069467,tt0050986,tt0050976   \n",
       "1  actor,soundtrack,director  tt0047296,tt0078788,tt0070849,tt0068646   \n",
       "2  actor,producer,soundtrack  tt0061184,tt0057877,tt0059749,tt0087803   \n",
       "3  actor,soundtrack,director  tt0055256,tt0035575,tt0029870,tt0031867   \n",
       "4  actor,producer,soundtrack  tt0054331,tt0052365,tt0080736,tt0049456   \n",
       "\n",
       "   CareerStartYear  median_inter_event_time  average_movie_per_year  \\\n",
       "0             1946                      1.0                    1.11   \n",
       "1             1961                      0.0                    1.00   \n",
       "2             1967                      0.0                    1.00   \n",
       "3             1957                      0.0                    1.00   \n",
       "4             1973                      2.0                    0.67   \n",
       "\n",
       "   average_inter_event_time  \n",
       "0                       0.9  \n",
       "1                       0.0  \n",
       "2                       0.0  \n",
       "3                       0.0  \n",
       "4                       2.0  "
      ]
     },
     "execution_count": 3,
     "metadata": {},
     "output_type": "execute_result"
    }
   ],
   "source": [
    "data.head()"
   ]
  },
  {
   "cell_type": "code",
   "execution_count": 4,
   "metadata": {},
   "outputs": [],
   "source": [
    "required_features_director_data = ['movies_produced',\n",
    "                                   'Average_rating_value',\n",
    "                                   'Average_rating_count',\n",
    "                                   'career_Length',\n",
    "                                   'Gender',\n",
    "                                   'birthYear',\n",
    "                                   'CareerStartYear',\n",
    "                                   'average_movie_per_year',\n",
    "                                   'median_inter_event_time',\n",
    "                                   'average_inter_event_time'\n",
    "                                  ]"
   ]
  },
  {
   "cell_type": "code",
   "execution_count": 5,
   "metadata": {},
   "outputs": [],
   "source": [
    "# data = data.drop(columns=['director_ids', 'director_name','birthYear', 'deathYear', 'primaryProfession',\n",
    "#        'knownForTitles', 'CareerStartYear',])"
   ]
  },
  {
   "cell_type": "code",
   "execution_count": 6,
   "metadata": {},
   "outputs": [],
   "source": [
    "data = data[required_features_director_data]"
   ]
  },
  {
   "cell_type": "code",
   "execution_count": 7,
   "metadata": {},
   "outputs": [
    {
     "name": "stdout",
     "output_type": "stream",
     "text": [
      "The shape of our data is: (41629, 10)\n"
     ]
    }
   ],
   "source": [
    "print('The shape of our data is:', data.shape)"
   ]
  },
  {
   "cell_type": "code",
   "execution_count": 8,
   "metadata": {
    "scrolled": true
   },
   "outputs": [
    {
     "name": "stdout",
     "output_type": "stream",
     "text": [
      "<class 'pandas.core.frame.DataFrame'>\n",
      "RangeIndex: 41629 entries, 0 to 41628\n",
      "Data columns (total 10 columns):\n",
      " #   Column                    Non-Null Count  Dtype  \n",
      "---  ------                    --------------  -----  \n",
      " 0   movies_produced           41629 non-null  int64  \n",
      " 1   Average_rating_value      41629 non-null  float64\n",
      " 2   Average_rating_count      41629 non-null  float64\n",
      " 3   career_Length             41629 non-null  int64  \n",
      " 4   Gender                    41629 non-null  object \n",
      " 5   birthYear                 41629 non-null  int64  \n",
      " 6   CareerStartYear           41629 non-null  int64  \n",
      " 7   average_movie_per_year    41629 non-null  float64\n",
      " 8   median_inter_event_time   41629 non-null  float64\n",
      " 9   average_inter_event_time  41629 non-null  float64\n",
      "dtypes: float64(5), int64(4), object(1)\n",
      "memory usage: 3.2+ MB\n"
     ]
    }
   ],
   "source": [
    "data.info()"
   ]
  },
  {
   "cell_type": "code",
   "execution_count": 9,
   "metadata": {
    "scrolled": true
   },
   "outputs": [],
   "source": [
    "# Generic function to equally split the dataframe with respect to the column Name, in our case the Gender column.\n",
    "\n",
    "def equal_split_on_columnName(nSampleEach, df,columnName='Gender'):\n",
    "    df1 = pd.DataFrame()\n",
    "    for i in df[columnName].value_counts().index:\n",
    "        df1 = df1.append(df[(df[columnName]==i)].sample(n=nSampleEach,replace = False))        \n",
    "    return df1.reset_index(drop=True)"
   ]
  },
  {
   "cell_type": "code",
   "execution_count": 10,
   "metadata": {},
   "outputs": [
    {
     "name": "stdout",
     "output_type": "stream",
     "text": [
      "<class 'pandas.core.frame.DataFrame'>\n",
      "RangeIndex: 41629 entries, 0 to 41628\n",
      "Data columns (total 10 columns):\n",
      " #   Column                    Non-Null Count  Dtype  \n",
      "---  ------                    --------------  -----  \n",
      " 0   movies_produced           41629 non-null  int64  \n",
      " 1   Average_rating_value      41629 non-null  float64\n",
      " 2   Average_rating_count      41629 non-null  float64\n",
      " 3   career_Length             41629 non-null  int64  \n",
      " 4   Gender                    41629 non-null  object \n",
      " 5   birthYear                 41629 non-null  int64  \n",
      " 6   CareerStartYear           41629 non-null  int64  \n",
      " 7   average_movie_per_year    41629 non-null  float64\n",
      " 8   median_inter_event_time   41629 non-null  float64\n",
      " 9   average_inter_event_time  41629 non-null  float64\n",
      "dtypes: float64(5), int64(4), object(1)\n",
      "memory usage: 3.2+ MB\n"
     ]
    }
   ],
   "source": [
    "data.info()"
   ]
  },
  {
   "cell_type": "code",
   "execution_count": 11,
   "metadata": {},
   "outputs": [],
   "source": [
    "# Run 1- Director Dataset - Equal and All data - SVM\n",
    "model_features = ['movies_produced','Average_rating_value','Average_rating_count',\n",
    "                  'career_Length','birthYear','CareerStartYear','average_movie_per_year',\n",
    "                  'median_inter_event_time','average_inter_event_time']\n",
    "model_comments = 'Run 1a - All data - SVM - Running with all features'\n",
    "# model_comments = 'Run 1b - Equal data - Linear SVM - Running with all features'"
   ]
  },
  {
   "cell_type": "code",
   "execution_count": 12,
   "metadata": {},
   "outputs": [],
   "source": [
    "temp = data.dropna(subset=model_features)"
   ]
  },
  {
   "cell_type": "code",
   "execution_count": 13,
   "metadata": {},
   "outputs": [
    {
     "name": "stdout",
     "output_type": "stream",
     "text": [
      "<class 'pandas.core.frame.DataFrame'>\n",
      "Int64Index: 41629 entries, 0 to 41628\n",
      "Data columns (total 10 columns):\n",
      " #   Column                    Non-Null Count  Dtype  \n",
      "---  ------                    --------------  -----  \n",
      " 0   movies_produced           41629 non-null  int64  \n",
      " 1   Average_rating_value      41629 non-null  float64\n",
      " 2   Average_rating_count      41629 non-null  float64\n",
      " 3   career_Length             41629 non-null  int64  \n",
      " 4   Gender                    41629 non-null  object \n",
      " 5   birthYear                 41629 non-null  int64  \n",
      " 6   CareerStartYear           41629 non-null  int64  \n",
      " 7   average_movie_per_year    41629 non-null  float64\n",
      " 8   median_inter_event_time   41629 non-null  float64\n",
      " 9   average_inter_event_time  41629 non-null  float64\n",
      "dtypes: float64(5), int64(4), object(1)\n",
      "memory usage: 3.5+ MB\n"
     ]
    }
   ],
   "source": [
    "# temp = data.dropna(axis = 'index')\n",
    "temp.info()"
   ]
  },
  {
   "cell_type": "code",
   "execution_count": 14,
   "metadata": {},
   "outputs": [
    {
     "data": {
      "text/html": [
       "<div>\n",
       "<style scoped>\n",
       "    .dataframe tbody tr th:only-of-type {\n",
       "        vertical-align: middle;\n",
       "    }\n",
       "\n",
       "    .dataframe tbody tr th {\n",
       "        vertical-align: top;\n",
       "    }\n",
       "\n",
       "    .dataframe thead th {\n",
       "        text-align: right;\n",
       "    }\n",
       "</style>\n",
       "<table border=\"1\" class=\"dataframe\">\n",
       "  <thead>\n",
       "    <tr style=\"text-align: right;\">\n",
       "      <th></th>\n",
       "      <th>movies_produced</th>\n",
       "      <th>Average_rating_value</th>\n",
       "      <th>Average_rating_count</th>\n",
       "      <th>career_Length</th>\n",
       "      <th>Gender</th>\n",
       "      <th>birthYear</th>\n",
       "      <th>CareerStartYear</th>\n",
       "      <th>average_movie_per_year</th>\n",
       "      <th>median_inter_event_time</th>\n",
       "      <th>average_inter_event_time</th>\n",
       "    </tr>\n",
       "  </thead>\n",
       "  <tbody>\n",
       "    <tr>\n",
       "      <th>0</th>\n",
       "      <td>3</td>\n",
       "      <td>7.23</td>\n",
       "      <td>248.00</td>\n",
       "      <td>5</td>\n",
       "      <td>Male</td>\n",
       "      <td>1951</td>\n",
       "      <td>2009</td>\n",
       "      <td>0.60</td>\n",
       "      <td>2.0</td>\n",
       "      <td>2.00</td>\n",
       "    </tr>\n",
       "    <tr>\n",
       "      <th>1</th>\n",
       "      <td>5</td>\n",
       "      <td>7.28</td>\n",
       "      <td>29.00</td>\n",
       "      <td>4</td>\n",
       "      <td>Male</td>\n",
       "      <td>1982</td>\n",
       "      <td>2006</td>\n",
       "      <td>1.25</td>\n",
       "      <td>1.0</td>\n",
       "      <td>0.75</td>\n",
       "    </tr>\n",
       "    <tr>\n",
       "      <th>2</th>\n",
       "      <td>1</td>\n",
       "      <td>7.70</td>\n",
       "      <td>6.00</td>\n",
       "      <td>1</td>\n",
       "      <td>Male</td>\n",
       "      <td>1991</td>\n",
       "      <td>2016</td>\n",
       "      <td>1.00</td>\n",
       "      <td>0.0</td>\n",
       "      <td>0.00</td>\n",
       "    </tr>\n",
       "    <tr>\n",
       "      <th>3</th>\n",
       "      <td>2</td>\n",
       "      <td>8.75</td>\n",
       "      <td>7.00</td>\n",
       "      <td>3</td>\n",
       "      <td>Male</td>\n",
       "      <td>1954</td>\n",
       "      <td>2009</td>\n",
       "      <td>0.67</td>\n",
       "      <td>2.0</td>\n",
       "      <td>2.00</td>\n",
       "    </tr>\n",
       "    <tr>\n",
       "      <th>4</th>\n",
       "      <td>20</td>\n",
       "      <td>6.74</td>\n",
       "      <td>259.95</td>\n",
       "      <td>13</td>\n",
       "      <td>Male</td>\n",
       "      <td>1970</td>\n",
       "      <td>2004</td>\n",
       "      <td>1.54</td>\n",
       "      <td>0.0</td>\n",
       "      <td>0.63</td>\n",
       "    </tr>\n",
       "  </tbody>\n",
       "</table>\n",
       "</div>"
      ],
      "text/plain": [
       "   movies_produced  Average_rating_value  Average_rating_count  career_Length  \\\n",
       "0                3                  7.23                248.00              5   \n",
       "1                5                  7.28                 29.00              4   \n",
       "2                1                  7.70                  6.00              1   \n",
       "3                2                  8.75                  7.00              3   \n",
       "4               20                  6.74                259.95             13   \n",
       "\n",
       "  Gender  birthYear  CareerStartYear  average_movie_per_year  \\\n",
       "0   Male       1951             2009                    0.60   \n",
       "1   Male       1982             2006                    1.25   \n",
       "2   Male       1991             2016                    1.00   \n",
       "3   Male       1954             2009                    0.67   \n",
       "4   Male       1970             2004                    1.54   \n",
       "\n",
       "   median_inter_event_time  average_inter_event_time  \n",
       "0                      2.0                      2.00  \n",
       "1                      1.0                      0.75  \n",
       "2                      0.0                      0.00  \n",
       "3                      2.0                      2.00  \n",
       "4                      0.0                      0.63  "
      ]
     },
     "execution_count": 14,
     "metadata": {},
     "output_type": "execute_result"
    }
   ],
   "source": [
    "equalGenderDF = equal_split_on_columnName(100,temp,\"Gender\")\n",
    "equalGenderDF.head()"
   ]
  },
  {
   "cell_type": "markdown",
   "metadata": {},
   "source": [
    "# Stacked plots"
   ]
  },
  {
   "cell_type": "code",
   "execution_count": 15,
   "metadata": {
    "scrolled": true
   },
   "outputs": [],
   "source": [
    "mpl.style.use('ggplot')"
   ]
  },
  {
   "cell_type": "code",
   "execution_count": 16,
   "metadata": {},
   "outputs": [],
   "source": [
    "data1 = temp.copy() "
   ]
  },
  {
   "cell_type": "code",
   "execution_count": 17,
   "metadata": {},
   "outputs": [
    {
     "data": {
      "text/plain": [
       "<matplotlib.axes._subplots.AxesSubplot at 0x1bbd69ebeb8>"
      ]
     },
     "execution_count": 17,
     "metadata": {},
     "output_type": "execute_result"
    },
    {
     "data": {
      "image/png": "[encoded data removed]",
      "text/plain": [
       "<Figure size 432x288 with 1 Axes>"
      ]
     },
     "metadata": {},
     "output_type": "display_data"
    }
   ],
   "source": [
    "# Plot - Distribution of rating value among male and female. \n",
    "\n",
    "rating_value_Female = data1[(data1['Gender'] == 'Female')].Average_rating_value\n",
    "rating_value_Male = data1[(data1['Gender'] == 'Male')].Average_rating_value\n",
    "\n",
    "sns.distplot(rating_value_Female)\n",
    "sns.distplot(rating_value_Male)"
   ]
  },
  {
   "cell_type": "code",
   "execution_count": null,
   "metadata": {},
   "outputs": [],
   "source": []
  },
  {
   "cell_type": "code",
   "execution_count": 23,
   "metadata": {},
   "outputs": [],
   "source": [
    "# Function to Plot - Distribution of rating value among male and female. \n",
    "\n",
    "def plot_features_WRT_gender(df,columnCriteriaName,columnFeatureName):\n",
    "    dict={}\n",
    "    for i in df[columnCriteriaName].value_counts().index:\n",
    "        dict[\"{0}_{1}\".format(columnFeatureName,i)] = df[(df[columnCriteriaName] == i)][columnFeatureName]\n",
    "    for k,v in dict.items():\n",
    "        sns.distplot(v,label=[k])\n",
    "        plt.legend(bbox_to_anchor=(1.05, 0.6), loc=2, borderaxespad=0.)\n"
   ]
  },
  {
   "cell_type": "code",
   "execution_count": 24,
   "metadata": {},
   "outputs": [
    {
     "data": {
      "image/png": "[encoded data removed]",
      "text/plain": [
       "<Figure size 432x288 with 1 Axes>"
      ]
     },
     "metadata": {},
     "output_type": "display_data"
    }
   ],
   "source": [
    "plot_features_WRT_gender(data1,\"Gender\",\"Average_rating_value\")"
   ]
  },
  {
   "cell_type": "code",
   "execution_count": 27,
   "metadata": {},
   "outputs": [
    {
     "data": {
      "image/png": "[encoded data removed]",
      "text/plain": [
       "<Figure size 432x288 with 1 Axes>"
      ]
     },
     "metadata": {},
     "output_type": "display_data"
    }
   ],
   "source": [
    "plot_features_WRT_gender(data1,\"Gender\",\"movies_produced\")"
   ]
  },
  {
   "cell_type": "code",
   "execution_count": 28,
   "metadata": {},
   "outputs": [
    {
     "data": {
      "image/png": "[encoded data removed]",
      "text/plain": [
       "<Figure size 432x288 with 1 Axes>"
      ]
     },
     "metadata": {},
     "output_type": "display_data"
    }
   ],
   "source": [
    "plot_features_WRT_gender(data1,\"Gender\",\"Average_rating_count\")"
   ]
  },
  {
   "cell_type": "code",
   "execution_count": 29,
   "metadata": {},
   "outputs": [
    {
     "data": {
      "image/png": "[encoded data removed]",
      "text/plain": [
       "<Figure size 432x288 with 1 Axes>"
      ]
     },
     "metadata": {},
     "output_type": "display_data"
    }
   ],
   "source": [
    "plot_features_WRT_gender(data1,\"Gender\",\"career_Length\")"
   ]
  },
  {
   "cell_type": "code",
   "execution_count": 30,
   "metadata": {},
   "outputs": [
    {
     "data": {
      "image/png": "[encoded data removed]",
      "text/plain": [
       "<Figure size 432x288 with 1 Axes>"
      ]
     },
     "metadata": {},
     "output_type": "display_data"
    }
   ],
   "source": [
    "plot_features_WRT_gender(data1,\"Gender\",\"average_movie_per_year\")"
   ]
  },
  {
   "cell_type": "code",
   "execution_count": null,
   "metadata": {},
   "outputs": [],
   "source": []
  },
  {
   "cell_type": "code",
   "execution_count": null,
   "metadata": {},
   "outputs": [],
   "source": [
    "df1 = data1.select_dtypes([np.int64, np.float64])\n",
    "n=len(df1.columns)\n",
    "fig,ax = plt.subplots(n,1, figsize=(6,n*2), sharex=False)\n",
    "for i in range(n):\n",
    "    plt.sca(ax[i])\n",
    "    col = df1.columns[i]\n",
    "    sns.distplot(df1[col].values)\n"
   ]
  },
  {
   "cell_type": "code",
   "execution_count": null,
   "metadata": {},
   "outputs": [],
   "source": [
    "def plot_all_features_WRT_gender(df,columnCriteriaName,dataTypesToInclude):\n",
    "    dict={}\n",
    "    a = []\n",
    "    for i in df[columnCriteriaName].value_counts().index:\n",
    "        for columnFeatureName in df.select_dtypes(include=['int64','double']).columns:\n",
    "            dict[\"{0}_{1}\".format(columnFeatureName,i)] = df[(df[columnCriteriaName] == i)][columnFeatureName]\n",
    "    for k,v in dict.items():\n",
    "        plt.figure()\n",
    "        sns.distplot(v)"
   ]
  },
  {
   "cell_type": "code",
   "execution_count": null,
   "metadata": {},
   "outputs": [],
   "source": [
    "plot_all_features_WRT_gender(data1,\"Gender\",['int64','double'])"
   ]
  },
  {
   "cell_type": "markdown",
   "metadata": {},
   "source": [
    "## Data pre-processing"
   ]
  },
  {
   "cell_type": "code",
   "execution_count": null,
   "metadata": {},
   "outputs": [],
   "source": [
    "feature_names = temp.columns.values"
   ]
  },
  {
   "cell_type": "code",
   "execution_count": null,
   "metadata": {
    "scrolled": true
   },
   "outputs": [],
   "source": [
    "temp.Gender.value_counts()"
   ]
  },
  {
   "cell_type": "code",
   "execution_count": null,
   "metadata": {},
   "outputs": [],
   "source": [
    "# divide the data into attributes and labels\n",
    "X = temp.drop('Gender', axis=1)\n",
    "y = temp['Gender']"
   ]
  },
  {
   "cell_type": "code",
   "execution_count": null,
   "metadata": {},
   "outputs": [],
   "source": [
    "# # divide the data into attributes and labels\n",
    "# X = equalGenderDF.drop('Gender', axis=1)\n",
    "# y = equalGenderDF['Gender']"
   ]
  },
  {
   "cell_type": "code",
   "execution_count": null,
   "metadata": {},
   "outputs": [],
   "source": [
    "# Divide the data into training and test sets\n",
    "from sklearn.model_selection import train_test_split\n",
    "X_train, X_test, y_train, y_test = train_test_split(X, y, test_size=0.20)"
   ]
  },
  {
   "cell_type": "code",
   "execution_count": null,
   "metadata": {},
   "outputs": [],
   "source": [
    "X_train.shape , X_test.shape"
   ]
  },
  {
   "cell_type": "code",
   "execution_count": null,
   "metadata": {},
   "outputs": [],
   "source": [
    "# Training the model\n",
    "\n",
    "start = time.time()\n",
    "\n",
    "from sklearn.svm import SVC\n",
    "linear_svclassifier = SVC(kernel='linear')\n",
    "linear_svclassifier.fit(X_train, y_train)\n",
    "\n",
    "# Stop timer\n",
    "end = time.time()\n",
    "print(\"Total time taken in minutes: \" + str((end - start)/60))"
   ]
  },
  {
   "cell_type": "code",
   "execution_count": null,
   "metadata": {},
   "outputs": [],
   "source": [
    "# Prediction based on the model trained\n",
    "y_pred = linear_svclassifier.predict(X_test)"
   ]
  },
  {
   "cell_type": "code",
   "execution_count": null,
   "metadata": {},
   "outputs": [],
   "source": [
    "# Evaluating the Algorithm\n",
    "from sklearn.metrics import classification_report, confusion_matrix\n",
    "print(confusion_matrix(y_test,y_pred))\n",
    "tn, fp, fn, tp = confusion_matrix(y_test,y_pred).ravel()\n",
    "print(classification_report(y_test,y_pred))\n",
    "(tn, fp, fn, tp)"
   ]
  },
  {
   "cell_type": "code",
   "execution_count": null,
   "metadata": {},
   "outputs": [],
   "source": [
    "def f_importances(coef, names, top=-1):\n",
    "    imp = coef\n",
    "    imp, names = zip(*sorted(list(zip(imp, names))))\n",
    "\n",
    "    # Show all features\n",
    "    if top == -1:\n",
    "        top = len(names)\n",
    "\n",
    "    plt.barh(range(top), imp[::-1][0:top], align='center')\n",
    "    plt.yticks(range(top), names[::-1][0:top])\n",
    "    plt.show()\n",
    "    \n",
    "# Specify your top n features you want to visualize.\n",
    "# You can also discard the abs() function \n",
    "# if you are interested in negative contribution of features\n",
    "\n",
    "f_importances(abs(linear_svclassifier.coef_[0]), feature_names)"
   ]
  },
  {
   "cell_type": "code",
   "execution_count": null,
   "metadata": {},
   "outputs": [],
   "source": [
    "def print_feature_importances(coef, names, top=-1):\n",
    "    whole = []\n",
    "    imp = coef\n",
    "    imp,names = zip(*sorted(list(zip(imp, names)),reverse=True))\n",
    "    for i in range(len(names)):\n",
    "        string = \"{} :: {}\".format(str(names[i]),str(round(imp[i],3)))\n",
    "        whole.append(string)\n",
    "    return whole"
   ]
  },
  {
   "cell_type": "code",
   "execution_count": null,
   "metadata": {},
   "outputs": [],
   "source": [
    "print_feature_importances((linear_svclassifier.coef_[0]), feature_names)"
   ]
  },
  {
   "cell_type": "code",
   "execution_count": null,
   "metadata": {},
   "outputs": [],
   "source": [
    "print_feature_importances(abs(linear_svclassifier.coef_[0]), feature_names)"
   ]
  },
  {
   "cell_type": "code",
   "execution_count": null,
   "metadata": {},
   "outputs": [],
   "source": [
    "def svm_feature_importance(svclassifier,dfAttributes):\n",
    "    feature_names = dfAttributes.columns.values\n",
    "    for i in range(2):\n",
    "        if(i==0):\n",
    "            print(\"The plot with absolute contribution\")\n",
    "            pd.Series(abs(svclassifier.coef_[0]), index=feature_names).nlargest(8).plot(kind='barh')\n",
    "            plt.show()\n",
    "        elif(i==1):\n",
    "            print(\"The plot with negative contribution\")\n",
    "            pd.Series((svclassifier.coef_[0]), index=feature_names).nlargest(8).plot(kind='barh')\n"
   ]
  },
  {
   "cell_type": "code",
   "execution_count": null,
   "metadata": {},
   "outputs": [],
   "source": [
    "svm_feature_importance(linear_svclassifier,X)"
   ]
  },
  {
   "cell_type": "markdown",
   "metadata": {},
   "source": [
    "### SVM -3 "
   ]
  },
  {
   "cell_type": "code",
   "execution_count": null,
   "metadata": {},
   "outputs": [],
   "source": [
    "import numpy as np\n",
    "import matplotlib.pyplot as plt\n",
    "import matplotlib.gridspec as gridspec\n",
    "import itertools\n",
    "from sklearn.linear_model import LogisticRegression\n",
    "from sklearn.svm import SVC\n",
    "from sklearn.ensemble import RandomForestClassifier\n",
    "from mlxtend.classifier import EnsembleVoteClassifier\n",
    "from mlxtend.data import iris_data\n",
    "from mlxtend.plotting import plot_decision_regions"
   ]
  },
  {
   "cell_type": "code",
   "execution_count": null,
   "metadata": {},
   "outputs": [],
   "source": [
    "# Initializing Classifiers\n",
    "clf1 = LogisticRegression(random_state=0)\n",
    "clf2 = RandomForestClassifier(random_state=0)\n",
    "clf3 = SVC(random_state=0, probability=True)\n",
    "eclf = EnsembleVoteClassifier(clfs=[clf1, clf2, clf3],\n",
    "                              weights=[2, 1, 1], voting='soft')"
   ]
  },
  {
   "cell_type": "code",
   "execution_count": null,
   "metadata": {},
   "outputs": [],
   "source": [
    "# # Loading some example data\n",
    "# X, y = iris_data()\n",
    "# X = X[:,[0, 2]]"
   ]
  },
  {
   "cell_type": "code",
   "execution_count": null,
   "metadata": {},
   "outputs": [],
   "source": [
    "y = y.values"
   ]
  },
  {
   "cell_type": "code",
   "execution_count": null,
   "metadata": {
    "scrolled": true
   },
   "outputs": [],
   "source": [
    "X = X.values"
   ]
  },
  {
   "cell_type": "code",
   "execution_count": null,
   "metadata": {},
   "outputs": [],
   "source": [
    "# Plotting Decision Regions\n",
    "\n",
    "gs = gridspec.GridSpec(2, 2)\n",
    "fig = plt.figure(figsize=(10, 8))\n",
    "\n",
    "labels = ['Logistic Regression',\n",
    "          'Random Forest',\n",
    "          'RBF kernel SVM',\n",
    "          'Ensemble']\n",
    "\n",
    "for clf, lab, grd in zip([clf1, clf2, clf3, eclf],\n",
    "                         labels,\n",
    "                         itertools.product([0, 1],\n",
    "                         repeat=2)):\n",
    "    clf.fit(X, y)\n",
    "    ax = plt.subplot(gs[grd[0], grd[1]])\n",
    "    fig = plot_decision_regions(X=X, y=y,\n",
    "                                clf=clf, legend=2)\n",
    "    plt.title(lab)\n",
    "\n",
    "plt.show()"
   ]
  },
  {
   "cell_type": "markdown",
   "metadata": {},
   "source": [
    "## Kernel SVM"
   ]
  },
  {
   "cell_type": "code",
   "execution_count": null,
   "metadata": {},
   "outputs": [],
   "source": [
    "from sklearn.svm import SVC\n",
    "from sklearn.metrics import classification_report, confusion_matrix"
   ]
  },
  {
   "cell_type": "code",
   "execution_count": null,
   "metadata": {
    "scrolled": true
   },
   "outputs": [],
   "source": [
    "# # equalGenderDF = equal_split_on_columnName(100,data,\"Gender\")\n",
    "\n",
    "# # divide the data into attributes and labels\n",
    "# X = equalGenderDF.drop('Gender', axis=1)\n",
    "# y = equalGenderDF['Gender']"
   ]
  },
  {
   "cell_type": "code",
   "execution_count": null,
   "metadata": {},
   "outputs": [],
   "source": [
    "temp"
   ]
  },
  {
   "cell_type": "code",
   "execution_count": null,
   "metadata": {},
   "outputs": [],
   "source": [
    "temp.info()"
   ]
  },
  {
   "cell_type": "code",
   "execution_count": null,
   "metadata": {
    "scrolled": true
   },
   "outputs": [],
   "source": [
    "temp"
   ]
  },
  {
   "cell_type": "code",
   "execution_count": null,
   "metadata": {},
   "outputs": [],
   "source": [
    "# divide the data into attributes and labels\n",
    "X = temp.drop('Gender', axis=1)\n",
    "y = temp['Gender']"
   ]
  },
  {
   "cell_type": "code",
   "execution_count": null,
   "metadata": {},
   "outputs": [],
   "source": [
    "# Divide the data into training and test sets\n",
    "from sklearn.model_selection import train_test_split\n",
    "X_train, X_test, y_train, y_test = train_test_split(X, y, test_size=0.20)"
   ]
  },
  {
   "cell_type": "markdown",
   "metadata": {},
   "source": [
    "## Polynomial Kernel"
   ]
  },
  {
   "cell_type": "code",
   "execution_count": null,
   "metadata": {},
   "outputs": [],
   "source": [
    "poly_svclassifier = SVC(kernel='poly', degree=8)\n",
    "poly_svclassifier.fit(X_train, y_train)\n",
    "y_pred = poly_svclassifier.predict(X_test)\n",
    "\n",
    "# Confusion Matrix  (tn, fp, fn, tp)\n",
    "print(confusion_matrix(y_test, y_pred))\n",
    "\n",
    "print(\"(tn, fp, fn, tp)\",confusion_matrix(y_test, y_pred).ravel())\n",
    "print(classification_report(y_test, y_pred))"
   ]
  },
  {
   "cell_type": "markdown",
   "metadata": {},
   "source": [
    "## Gaussian kernel Classifier"
   ]
  },
  {
   "cell_type": "code",
   "execution_count": null,
   "metadata": {},
   "outputs": [],
   "source": [
    "rbf_svclassifier = SVC(kernel='rbf')\n",
    "rbf_svclassifier.fit(X_train, y_train)\n",
    "y_pred = rbf_svclassifier.predict(X_test)\n",
    "\n",
    "# Confusion Matrix\n",
    "print(confusion_matrix(y_test, y_pred))\n",
    "print(classification_report(y_test, y_pred))"
   ]
  },
  {
   "cell_type": "markdown",
   "metadata": {},
   "source": [
    "## Sigmoid kernel"
   ]
  },
  {
   "cell_type": "code",
   "execution_count": null,
   "metadata": {},
   "outputs": [],
   "source": [
    "sigmoid_svclassifier = SVC(kernel='sigmoid')\n",
    "sigmoid_svclassifier.fit(X_train, y_train)\n",
    "y_pred = sigmoid_svclassifier.predict(X_test)\n",
    "\n",
    "# Confusion Matrix\n",
    "print(confusion_matrix(y_test, y_pred))\n",
    "print(classification_report(y_test, y_pred))"
   ]
  },
  {
   "cell_type": "code",
   "execution_count": null,
   "metadata": {},
   "outputs": [],
   "source": []
  }
 ],
 "metadata": {
  "kernelspec": {
   "display_name": "Python 3",
   "language": "python",
   "name": "python3"
  },
  "language_info": {
   "codemirror_mode": {
    "name": "ipython",
    "version": 3
   },
   "file_extension": ".py",
   "mimetype": "text/x-python",
   "name": "python",
   "nbconvert_exporter": "python",
   "pygments_lexer": "ipython3",
   "version": "3.7.3"
  }
 },
 "nbformat": 4,
 "nbformat_minor": 2
}
