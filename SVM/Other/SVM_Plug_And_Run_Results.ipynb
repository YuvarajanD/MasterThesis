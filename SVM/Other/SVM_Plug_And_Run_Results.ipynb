{
 "cells": [
  {
   "cell_type": "code",
   "execution_count": 8,
   "metadata": {},
   "outputs": [],
   "source": [
    "import pandas as pd\n",
    "import numpy as np\n",
    "import re\n",
    "import string\n",
    "import time\n",
    "from datetime import datetime\n",
    "from datetime import date\n",
    "import os\n",
    "\n",
    "#Plotting\n",
    "%matplotlib inline\n",
    "import matplotlib as mpl\n",
    "import matplotlib.pyplot as plt\n",
    "import seaborn as sns\n",
    "\n",
    "# ML Libraries\n",
    "from sklearn import svm\n",
    "from sklearn.svm import SVC\n",
    "from sklearn.model_selection import train_test_split\n",
    "from sklearn.metrics import classification_report, confusion_matrix\n",
    "from sklearn.metrics import precision_recall_fscore_support\n",
    "from sklearn.metrics import auc\n",
    "from sklearn.metrics import roc_auc_score\n",
    "from sklearn.metrics import roc_curve\n",
    "from sklearn import metrics\n",
    "\n",
    "# Save model\n",
    "import pickle\n",
    "import joblib"
   ]
  },
  {
   "cell_type": "code",
   "execution_count": 9,
   "metadata": {},
   "outputs": [],
   "source": [
    "# directorDFfileLocation = 'C:\\\\Yuva\\\\ITU\\\\4th Sem\\\\Thesis\\\\Data\\\\cumulativeDirectorDF_Mar-21-2020.csv'\n",
    "# moviesDataFileLocation = 'C:\\\\Yuva\\\\ITU\\\\4th Sem\\\\Thesis\\\\Data\\\\OnlyMovieDirectorDF.csv'\n",
    "moviesDataFileLocation = 'C:\\\\Yuva\\\\ITU\\\\4th Sem\\\\Thesis\\\\Data\\\\2_Movies_WithAwards.csv'\n",
    "\n",
    "# storedDF = 'C:\\\\Yuva\\\\ITU\\\\4th Sem\\\\Thesis\\\\Data\\\\StoreDF_Mar-25-2020.csv'\n",
    "# storeModelLocation = 'C:\\\\Yuva\\\\ITU\\\\4th Sem\\\\Thesis\\\\Data\\\\Classification Models\\\\SVM'\n",
    "\n",
    "saveFileToPath = \"C:\\\\Yuva\\\\ITU\\\\4th Sem\\\\Thesis\\\\Data\\\\\"\n",
    "\n",
    "data = pd.read_csv(moviesDataFileLocation)\n",
    "# storeDF = pd.read_csv(storedDF)"
   ]
  },
  {
   "cell_type": "code",
   "execution_count": 10,
   "metadata": {},
   "outputs": [],
   "source": [
    "storeDF_col_names =  ['run_model','features_selected', 'record_count', 'male_count','female_count','predicting','Order_ABS','Order_Pos_Neg',\n",
    "              'TN','FP','FN','TP','total_time']\n",
    "# storeDF  = pd.DataFrame(columns = storeDF_col_names)"
   ]
  },
  {
   "cell_type": "code",
   "execution_count": 11,
   "metadata": {},
   "outputs": [],
   "source": [
    "# Helper method for save_to_file\n",
    "\n",
    "def get_df_name(df):\n",
    "    name =[x for x in globals() if globals()[x] is df][0]\n",
    "    return name"
   ]
  },
  {
   "cell_type": "code",
   "execution_count": 12,
   "metadata": {},
   "outputs": [],
   "source": [
    "# Function: Save Dataframe to CSV\n",
    "\n",
    "def save_to_file(dataFrame, folderPath):\n",
    "    today = date.today()\n",
    "    todayDate = today.strftime(\"%b-%d-%Y\")\n",
    "#     dataFrame.to_csv(folderPath+ '\\\\' + get_df_name(dataFrame) + '_' + todayDate  + '.csv',index=False, encoding=\"utf8\" )\n",
    "    dataFrame.to_csv(folderPath+ '\\\\' + get_df_name(dataFrame) + '_' + todayDate  + '.csv',index=False, encoding=\"utf-8-sig\" )"
   ]
  },
  {
   "cell_type": "code",
   "execution_count": 13,
   "metadata": {},
   "outputs": [
    {
     "data": {
      "text/html": [
       "<div>\n",
       "<style scoped>\n",
       "    .dataframe tbody tr th:only-of-type {\n",
       "        vertical-align: middle;\n",
       "    }\n",
       "\n",
       "    .dataframe tbody tr th {\n",
       "        vertical-align: top;\n",
       "    }\n",
       "\n",
       "    .dataframe thead th {\n",
       "        text-align: right;\n",
       "    }\n",
       "</style>\n",
       "<table border=\"1\" class=\"dataframe\">\n",
       "  <thead>\n",
       "    <tr style=\"text-align: right;\">\n",
       "      <th></th>\n",
       "      <th>director_ids</th>\n",
       "      <th>director_names</th>\n",
       "      <th>movie_id</th>\n",
       "      <th>title</th>\n",
       "      <th>review_count_user</th>\n",
       "      <th>review_count_critic</th>\n",
       "      <th>metascore</th>\n",
       "      <th>rating_value</th>\n",
       "      <th>rating_count</th>\n",
       "      <th>release_date</th>\n",
       "      <th>...</th>\n",
       "      <th>Winner_Actor</th>\n",
       "      <th>Winner_Actor in a Leading Role</th>\n",
       "      <th>Winner_Actor in a Supporting Role</th>\n",
       "      <th>Winner_Actress</th>\n",
       "      <th>Winner_Actress in a Leading Role</th>\n",
       "      <th>Winner_Actress in a Supporting Role</th>\n",
       "      <th>Winner_Assistant Director</th>\n",
       "      <th>Winner_Directing</th>\n",
       "      <th>Winner_Directing (Comedy Picture)</th>\n",
       "      <th>Winner_Directing (Dramatic Picture)</th>\n",
       "    </tr>\n",
       "  </thead>\n",
       "  <tbody>\n",
       "    <tr>\n",
       "      <th>0</th>\n",
       "      <td>nm0000485</td>\n",
       "      <td>Fritz Lang</td>\n",
       "      <td>tt0017136</td>\n",
       "      <td>Metropolis (1927) - IMDb</td>\n",
       "      <td>418</td>\n",
       "      <td>263</td>\n",
       "      <td>98</td>\n",
       "      <td>8.3</td>\n",
       "      <td>114917</td>\n",
       "      <td>5 March 1927 (Denmark)    See more »</td>\n",
       "      <td>...</td>\n",
       "      <td>0.0</td>\n",
       "      <td>0.0</td>\n",
       "      <td>0.0</td>\n",
       "      <td>0.0</td>\n",
       "      <td>0.0</td>\n",
       "      <td>0.0</td>\n",
       "      <td>0.0</td>\n",
       "      <td>0.0</td>\n",
       "      <td>0.0</td>\n",
       "      <td>0.0</td>\n",
       "    </tr>\n",
       "    <tr>\n",
       "      <th>1</th>\n",
       "      <td>nm0000122</td>\n",
       "      <td>Charles Chaplin</td>\n",
       "      <td>tt0027977</td>\n",
       "      <td>Les temps modernes (1936) - IMDb</td>\n",
       "      <td>213</td>\n",
       "      <td>119</td>\n",
       "      <td>96</td>\n",
       "      <td>8.6</td>\n",
       "      <td>147990</td>\n",
       "      <td>24 September 1936 (France)    See more »</td>\n",
       "      <td>...</td>\n",
       "      <td>0.0</td>\n",
       "      <td>0.0</td>\n",
       "      <td>0.0</td>\n",
       "      <td>0.0</td>\n",
       "      <td>0.0</td>\n",
       "      <td>0.0</td>\n",
       "      <td>0.0</td>\n",
       "      <td>0.0</td>\n",
       "      <td>0.0</td>\n",
       "      <td>0.0</td>\n",
       "    </tr>\n",
       "    <tr>\n",
       "      <th>2</th>\n",
       "      <td>nm0281808</td>\n",
       "      <td>Victor Fleming</td>\n",
       "      <td>tt0032138</td>\n",
       "      <td>Óz, a csodák csodája (1939) - IMDb</td>\n",
       "      <td>540</td>\n",
       "      <td>213</td>\n",
       "      <td>100</td>\n",
       "      <td>8.1</td>\n",
       "      <td>299644</td>\n",
       "      <td>21 March 1940 (Hungary)    See more »</td>\n",
       "      <td>...</td>\n",
       "      <td>0.0</td>\n",
       "      <td>0.0</td>\n",
       "      <td>0.0</td>\n",
       "      <td>0.0</td>\n",
       "      <td>0.0</td>\n",
       "      <td>0.0</td>\n",
       "      <td>0.0</td>\n",
       "      <td>0.0</td>\n",
       "      <td>0.0</td>\n",
       "      <td>0.0</td>\n",
       "    </tr>\n",
       "    <tr>\n",
       "      <th>3</th>\n",
       "      <td>nm0002030</td>\n",
       "      <td>George Cukor</td>\n",
       "      <td>tt0032138</td>\n",
       "      <td>Óz, a csodák csodája (1939) - IMDb</td>\n",
       "      <td>540</td>\n",
       "      <td>213</td>\n",
       "      <td>100</td>\n",
       "      <td>8.1</td>\n",
       "      <td>299644</td>\n",
       "      <td>21 March 1940 (Hungary)    See more »</td>\n",
       "      <td>...</td>\n",
       "      <td>0.0</td>\n",
       "      <td>0.0</td>\n",
       "      <td>0.0</td>\n",
       "      <td>0.0</td>\n",
       "      <td>0.0</td>\n",
       "      <td>0.0</td>\n",
       "      <td>0.0</td>\n",
       "      <td>0.0</td>\n",
       "      <td>0.0</td>\n",
       "      <td>0.0</td>\n",
       "    </tr>\n",
       "    <tr>\n",
       "      <th>4</th>\n",
       "      <td>nm0003506</td>\n",
       "      <td>James Mangold</td>\n",
       "      <td>tt0035423</td>\n",
       "      <td>Kate &amp; Leopold (2001) - IMDb</td>\n",
       "      <td>317</td>\n",
       "      <td>124</td>\n",
       "      <td>44</td>\n",
       "      <td>6.4</td>\n",
       "      <td>65765</td>\n",
       "      <td>25 December 2001 (USA)    See more »</td>\n",
       "      <td>...</td>\n",
       "      <td>0.0</td>\n",
       "      <td>0.0</td>\n",
       "      <td>0.0</td>\n",
       "      <td>0.0</td>\n",
       "      <td>0.0</td>\n",
       "      <td>0.0</td>\n",
       "      <td>0.0</td>\n",
       "      <td>0.0</td>\n",
       "      <td>0.0</td>\n",
       "      <td>0.0</td>\n",
       "    </tr>\n",
       "  </tbody>\n",
       "</table>\n",
       "<p>5 rows × 142 columns</p>\n",
       "</div>"
      ],
      "text/plain": [
       "  director_ids   director_names   movie_id  \\\n",
       "0    nm0000485       Fritz Lang  tt0017136   \n",
       "1    nm0000122  Charles Chaplin  tt0027977   \n",
       "2    nm0281808   Victor Fleming  tt0032138   \n",
       "3    nm0002030     George Cukor  tt0032138   \n",
       "4    nm0003506    James Mangold  tt0035423   \n",
       "\n",
       "                                title  review_count_user  review_count_critic  \\\n",
       "0            Metropolis (1927) - IMDb                418                  263   \n",
       "1    Les temps modernes (1936) - IMDb                213                  119   \n",
       "2  Óz, a csodák csodája (1939) - IMDb                540                  213   \n",
       "3  Óz, a csodák csodája (1939) - IMDb                540                  213   \n",
       "4        Kate & Leopold (2001) - IMDb                317                  124   \n",
       "\n",
       "   metascore  rating_value  rating_count  \\\n",
       "0         98           8.3        114917   \n",
       "1         96           8.6        147990   \n",
       "2        100           8.1        299644   \n",
       "3        100           8.1        299644   \n",
       "4         44           6.4         65765   \n",
       "\n",
       "                                release_date  ...  Winner_Actor  \\\n",
       "0       5 March 1927 (Denmark)    See more »  ...           0.0   \n",
       "1   24 September 1936 (France)    See more »  ...           0.0   \n",
       "2      21 March 1940 (Hungary)    See more »  ...           0.0   \n",
       "3      21 March 1940 (Hungary)    See more »  ...           0.0   \n",
       "4       25 December 2001 (USA)    See more »  ...           0.0   \n",
       "\n",
       "   Winner_Actor in a Leading Role  Winner_Actor in a Supporting Role  \\\n",
       "0                             0.0                                0.0   \n",
       "1                             0.0                                0.0   \n",
       "2                             0.0                                0.0   \n",
       "3                             0.0                                0.0   \n",
       "4                             0.0                                0.0   \n",
       "\n",
       "   Winner_Actress  Winner_Actress in a Leading Role  \\\n",
       "0             0.0                               0.0   \n",
       "1             0.0                               0.0   \n",
       "2             0.0                               0.0   \n",
       "3             0.0                               0.0   \n",
       "4             0.0                               0.0   \n",
       "\n",
       "   Winner_Actress in a Supporting Role  Winner_Assistant Director  \\\n",
       "0                                  0.0                        0.0   \n",
       "1                                  0.0                        0.0   \n",
       "2                                  0.0                        0.0   \n",
       "3                                  0.0                        0.0   \n",
       "4                                  0.0                        0.0   \n",
       "\n",
       "   Winner_Directing  Winner_Directing (Comedy Picture)  \\\n",
       "0               0.0                                0.0   \n",
       "1               0.0                                0.0   \n",
       "2               0.0                                0.0   \n",
       "3               0.0                                0.0   \n",
       "4               0.0                                0.0   \n",
       "\n",
       "   Winner_Directing (Dramatic Picture)  \n",
       "0                                  0.0  \n",
       "1                                  0.0  \n",
       "2                                  0.0  \n",
       "3                                  0.0  \n",
       "4                                  0.0  \n",
       "\n",
       "[5 rows x 142 columns]"
      ]
     },
     "execution_count": 13,
     "metadata": {},
     "output_type": "execute_result"
    }
   ],
   "source": [
    "director_data.head()"
   ]
  },
  {
   "cell_type": "code",
   "execution_count": 14,
   "metadata": {
    "scrolled": true
   },
   "outputs": [
    {
     "name": "stdout",
     "output_type": "stream",
     "text": [
      "<class 'pandas.core.frame.DataFrame'>\n",
      "RangeIndex: 3709 entries, 0 to 3708\n",
      "Columns: 142 entries, director_ids to Winner_Directing (Dramatic Picture)\n",
      "dtypes: float64(27), int64(107), object(8)\n",
      "memory usage: 4.0+ MB\n"
     ]
    }
   ],
   "source": [
    "director_data.info()"
   ]
  },
  {
   "cell_type": "code",
   "execution_count": null,
   "metadata": {},
   "outputs": [],
   "source": [
    "required_features_director_data = ['movies_produced',\n",
    "                                   'Average_rating_value',\n",
    "                                   'Average_rating_count',\n",
    "                                   'career_Length',\n",
    "                                   'Gender',\n",
    "                                   'birthYear',\n",
    "                                   'CareerStartYear',\n",
    "                                   'average_movie_per_year',\n",
    "                                   'median_inter_event_time',\n",
    "                                   'average_inter_event_time'\n",
    "                                  ]"
   ]
  },
  {
   "cell_type": "code",
   "execution_count": null,
   "metadata": {},
   "outputs": [],
   "source": [
    "director_data = director_data[required_features_director_data]\n",
    "print('The shape of our Director specific dataset is:', director_data.shape)"
   ]
  },
  {
   "cell_type": "code",
   "execution_count": null,
   "metadata": {},
   "outputs": [],
   "source": [
    "# Generic function to equally max split the dataframe with respect to the column Name, in our case the Gender column.\n",
    "\n",
    "def max_equal_split_on_columnName(df,columnName='Gender'):\n",
    "    df1 = pd.DataFrame()\n",
    "    for i in df[columnName].value_counts().index:\n",
    "        df1 = df1.append(df[(df[columnName]==i)].sample(n=df[columnName].value_counts().values.min(),replace = False))        \n",
    "    return df1.reset_index(drop=True)"
   ]
  },
  {
   "cell_type": "code",
   "execution_count": null,
   "metadata": {},
   "outputs": [],
   "source": [
    "# Generic function to equally split the dataframe with respect to the column Name, in our case the Gender column.\n",
    "\n",
    "def equal_split_on_columnName(nSampleEach, df,columnName='Gender'):\n",
    "    df1 = pd.DataFrame()\n",
    "    for i in df[columnName].value_counts().index:\n",
    "        df1 = df1.append(df[(df[columnName]==i)].sample(n=nSampleEach,replace = False))        \n",
    "    return df1.reset_index(drop=True)"
   ]
  },
  {
   "cell_type": "code",
   "execution_count": null,
   "metadata": {},
   "outputs": [],
   "source": [
    "def print_feature_importances(coef, names, top=-1):\n",
    "    whole = []\n",
    "    imp = coef\n",
    "    imp,names = zip(*sorted(list(zip(imp, names)),reverse=True))\n",
    "    for i in range(len(names)):\n",
    "        string = \"{} :: {}\".format(str(names[i]),str(round(imp[i],3)))\n",
    "        whole.append(string)\n",
    "    return whole"
   ]
  },
  {
   "cell_type": "code",
   "execution_count": null,
   "metadata": {},
   "outputs": [],
   "source": [
    "def save_classifier_model(file_name,model):\n",
    "    path = storeModelLocation + '\\\\' + str(file_name) + '.sav'\n",
    "    pickle.dump(model, open(path, 'wb'))"
   ]
  },
  {
   "cell_type": "code",
   "execution_count": null,
   "metadata": {},
   "outputs": [],
   "source": [
    "def train_model(X_train, X_test, y_train, y_test,kernelType,gamma_parameter):\n",
    "    \n",
    "    # Training the model\n",
    "#     svclassifier = SVC(kernel=kernelType,gamma = gamma_parameter)\n",
    "    if(kernelType == 'linear'):\n",
    "        svclassifier = SVC(kernel=kernelType,gamma = gamma_parameter,probability=True)\n",
    "    elif(kernelType == 'poly'):\n",
    "        svclassifier = SVC(kernel=kernelType,gamma = gamma_parameter,probability=True,degree=8)\n",
    "    svclassifier.fit(X_train, y_train)\n",
    "    \n",
    "    # Prediction based on the model trained\n",
    "    y_pred = svclassifier.predict(X_test)\n",
    "    tn, fp, fn, tp = confusion_matrix(y_test,y_pred).ravel()\n",
    "        \n",
    "#     print(\"\\nClassification Report\\n\")\n",
    "#     print(classification_report(y_test, y_pred))\n",
    "\n",
    "    return y_pred,tn, fp, fn, tp,svclassifier"
   ]
  },
  {
   "cell_type": "code",
   "execution_count": null,
   "metadata": {},
   "outputs": [],
   "source": [
    "def plot_roc_auc_curve(model, X_test, y_test):\n",
    "    # calculate the fpr and tpr for all thresholds of the classification\n",
    "#     X_test = X_test.replace(['Female','Male'],[0,1])\n",
    "    probabilities = model.predict_proba(np.array(X_test))\n",
    "    predictions = probabilities[:, 1]\n",
    "    fpr, tpr, threshold = metrics.roc_curve(y_test, predictions,pos_label = 'Male')\n",
    "#     roc_auc = metrics.auc(fpr, tpr)\n",
    "    roc_auc = metrics.roc_auc_score(fpr, tpr)\n",
    "    print(\"\\nThe Area under the curve - ROC is :\" + str(roc_auc))\n",
    "    plt.title('Receiver Operating Characteristic')\n",
    "    plt.plot(fpr, tpr, 'b', label='AUC = %0.2f' % roc_auc)\n",
    "    plt.legend(loc='lower right')\n",
    "    plt.plot([0, 1], [0, 1], 'r--')\n",
    "    plt.xlim([0, 1])\n",
    "    plt.ylim([0, 1])\n",
    "    plt.ylabel('True Positive Rate')\n",
    "    plt.xlabel('False Positive Rate')\n",
    "    plt.show()\n",
    "    \n",
    "    return roc_auc"
   ]
  },
  {
   "cell_type": "code",
   "execution_count": null,
   "metadata": {},
   "outputs": [],
   "source": [
    "# def plot_roc(model, X_test, y_test):\n",
    "#     # calculate the fpr and tpr for all thresholds of the classification\n",
    "#     probabilities = model.predict_proba(np.array(X_test))\n",
    "#     predictions = probabilities[:, 1]\n",
    "#     fpr, tpr, threshold = metrics.roc_curve(y_test, predictions,pos_label = 'Male')\n",
    "#     roc_auc = metrics.auc(fpr, tpr)\n",
    "#     print(\"\\nThe Area under the curve - ROC is :\" + str(roc_auc))\n",
    "#     plt.title('Receiver Operating Characteristic')\n",
    "#     plt.plot(fpr, tpr, 'b', label='AUC = %0.2f' % roc_auc)\n",
    "#     plt.legend(loc='lower right')\n",
    "#     plt.plot([0, 1], [0, 1], 'r--')\n",
    "#     plt.xlim([0, 1])\n",
    "#     plt.ylim([0, 1])\n",
    "#     plt.ylabel('True Positive Rate')\n",
    "#     plt.xlabel('False Positive Rate')\n",
    "#     plt.show()\n",
    "    \n",
    "#     return roc_auc"
   ]
  },
  {
   "cell_type": "code",
   "execution_count": null,
   "metadata": {},
   "outputs": [],
   "source": [
    "def run_model_SVM(model_comments,df,storeDF,featuresSelected,predictingFeature=\"Gender\",kernelType='linear',gamma='auto'):\n",
    "    \n",
    "    start = time.time()\n",
    "    print(\"Started Reading files at :\" + str(datetime.utcfromtimestamp(start).strftime('%Y-%m-%d %H:%M:%S')))\n",
    "    record_count = len(df)\n",
    "    maleCount = df[predictingFeature].value_counts()[\"Male\"]\n",
    "    femaleCount = df[predictingFeature].value_counts()[\"Female\"]\n",
    "    \n",
    "    # divide the data into attributes and labels\n",
    "    X = df[featuresSelected]\n",
    "    y = df[predictingFeature]\n",
    "    \n",
    "    # Divide the data into training and test sets\n",
    "    \n",
    "    X_train, X_test, y_train, y_test = train_test_split(X, y, test_size=0.20)\n",
    "    \n",
    "    y_pred,tn, fp, fn, tp,trainedSVClassifier = train_model(X_train, X_test, y_train, y_test,kernelType,gamma)\n",
    "    \n",
    "    # Save model to a path\n",
    "#     today = date.today()\n",
    "#     todayDate = today.strftime(\"%b_%d_%Y\")\n",
    "#     save_model_name = 'SVC' + \"_\" + str(len(featuresSelected)) + 'features_' + df + \"_\" + kernelType + '_' + gamma + '_' + todayDate \n",
    "    save_model_name = 'SVC' + \"_\" + str(len(featuresSelected)) + 'features_' + str(get_df_name(df)) + \"_\" + kernelType + '_' + gamma \n",
    "    save_classifier_model(save_model_name,trainedSVClassifier)\n",
    "    \n",
    "    # Area under curve - ROC\n",
    "#     auc = plot_roc(trainedSVClassifier,X_test,y_test)\n",
    "#     roc_auc = plot_roc_auc_curve(trainedSVClassifier,X_train, X_test, y_train, y_test)\n",
    "\n",
    "    \n",
    "    # Feature importance based on contribution to the classifier model\n",
    "    print(\"\\nAbsolute contributions\\n\")\n",
    "    absoluteListOrder = print_feature_importances(abs(trainedSVClassifier.coef_[0]), featuresSelected)\n",
    "    for j in absoluteListOrder:\n",
    "        print(j)\n",
    "    \n",
    "    print(\"\\nPositive and Negative contributions\\n\")\n",
    "    listOrder = print_feature_importances((trainedSVClassifier.coef_[0]), featuresSelected)\n",
    "    for i in listOrder:\n",
    "        print(i)\n",
    "    \n",
    "    # Stop timer\n",
    "    end = time.time()\n",
    "    print(\"\\nStopped Reading files at :\" + str(datetime.utcfromtimestamp(end).strftime('%Y-%m-%d %H:%M:%S')))\n",
    "    total_time = str(round((end - start)/60,2))\n",
    "    print(\"Total time taken in minutes: \" + str((end - start)/60))\n",
    "    \n",
    "    return y_test,y_pred,trainedSVClassifier,[model_comments,featuresSelected,record_count,maleCount,femaleCount,predictingFeature,absoluteListOrder,listOrder,tn, fp, fn, tp,total_time]\n",
    "    \n",
    "    "
   ]
  },
  {
   "cell_type": "markdown",
   "metadata": {},
   "source": [
    "# New attempt"
   ]
  },
  {
   "cell_type": "code",
   "execution_count": null,
   "metadata": {
    "scrolled": true
   },
   "outputs": [],
   "source": [
    "# # divide the data into attributes and labels\n",
    "# X = equalDF[model_features]\n",
    "# y = equalDF['Gender']\n",
    "\n",
    "# # Divide the data into training and test sets\n",
    "\n",
    "# X_train, X_test, y_train, y_test = train_test_split(X, y, test_size=0.20,random_state = 42 )\n",
    "\n",
    "# # Training the model\n",
    "# svclassifier = SVC(kernel='linear',probability=True)\n",
    "# svclassifier.fit(X_train, y_train)\n",
    "\n",
    "# # Prediction based on the model trained\n",
    "# y_pred = svclassifier.predict(X_test)\n",
    "\n",
    "# tn, fp, fn, tp = confusion_matrix(y_test,y_pred).ravel()"
   ]
  },
  {
   "cell_type": "code",
   "execution_count": null,
   "metadata": {},
   "outputs": [],
   "source": [
    "def evaluation_analysis(true_label,predicted): \n",
    "    '''\n",
    "    return all metrics results\n",
    "    '''\n",
    "    true_label = true_label.replace(['Female','Male'],[0,1])\n",
    "    predicted = [p.replace('Female','0') for p in predicted]\n",
    "    predicted = [p.replace('Male','1') for p in predicted]\n",
    "    predicted = [int(i) for i in predicted]\n",
    "    \n",
    "    print( \"Accuracy\",round(metrics.accuracy_score(true_label, predicted),3))\n",
    "    print( \"F1 score macro\",round(metrics.f1_score(true_label, predicted, average='macro'),3))    \n",
    "    print( \"F1 score micro\",round(metrics.f1_score(true_label, predicted, average='micro') ,3))\n",
    "    print( \"F1 score average\",round(metrics.f1_score(true_label, predicted, average='weighted'),3))\n",
    "    print( \"Precision score\",round(metrics.precision_score(true_label, predicted, average='macro'),3))\n",
    "    print( \"Recall score\",round(metrics.recall_score(true_label, predicted, average='macro'),3))\n",
    "    print( \"AUC&ROC\",round(metrics.roc_auc_score(true_label, predicted),3))\n",
    "    \n",
    "    print( \"Hamming_loss\",round(metrics.hamming_loss(true_label, predicted),3))\n",
    "    print( \"Jaccard_similarity_score\",round( metrics.jaccard_similarity_score(true_label, predicted),3))\n",
    "    print( \"Zero_one_loss\", round(metrics.zero_one_loss(true_label, predicted),3))\n",
    "    print( \"Matthews_corrcoef\", round(metrics.matthews_corrcoef(true_label, predicted),3))\n",
    "    print( \"log_loss\", round(metrics.log_loss(true_label, predicted),3))\n",
    "\n",
    "    print(\"\\nClassification Report\\n\")\n",
    "    print(classification_report(true_label, predicted))\n"
   ]
  },
  {
   "cell_type": "code",
   "execution_count": null,
   "metadata": {},
   "outputs": [],
   "source": [
    "# # Convert test class and predicted class to integers and print metrics\n",
    "# test_y = y_test.replace(['Female','Male'],[0,1])\n",
    "\n",
    "# pred_y = [p.replace('Female','0') for p in y_pred];\n",
    "# pred_y = [p.replace('Male','1') for p in pred_y];\n",
    "# pred_y = [int(i) for i in pred_y]\n",
    "\n",
    "# evaluation_analysis(test_y,pred_y)"
   ]
  },
  {
   "cell_type": "markdown",
   "metadata": {},
   "source": [
    "## Running Director Dataset - with model features"
   ]
  },
  {
   "cell_type": "code",
   "execution_count": null,
   "metadata": {},
   "outputs": [],
   "source": [
    "# Run 1- Director Dataset - Equal and All data - Linear SVM\n",
    "model_features = ['movies_produced','Average_rating_value','Average_rating_count',\n",
    "                  'career_Length','birthYear','CareerStartYear','average_movie_per_year',\n",
    "                  'median_inter_event_time','average_inter_event_time']\n",
    "model_comments = 'Run 1a - All data - Linear SVM - Running with all features'\n",
    "# model_comments = 'Run 1b - Equal data - Linear SVM - Running with all features'\n",
    "\n",
    "# # Run 2 - Director Dataset - Equal and All data - Linear SVM\n",
    "# model_features = ['career_Length','average_movie_per_year',\n",
    "#                   'median_inter_event_time','CareerStartYear',\n",
    "#                   'average_inter_event_time']\n",
    "# model_comments = 'Run 2a - All data - Linear SVM - Running with top 5 absolute contribution features from Run 1a : career_Length , average_movie_per_year , median_inter_event_time , CareerStartYear , average_inter_event_time'\n",
    "# # model_comments = 'Run 2b - Equal Data - Linear SVM - Running with top 5 absolute contribution features from Run 1a : career_Length , average_movie_per_year , median_inter_event_time , CareerStartYear , average_inter_event_time'\n",
    "\n",
    "# # Run 3 - Director Dataset - Equal and All data - Linear SVM\n",
    "# model_features = ['average_inter_event_time','Average_rating_value',\n",
    "#                   'median_inter_event_time','average_movie_per_year',\n",
    "#                   'CareerStartYear']\n",
    "# model_comments = 'Run 3a - All data - Linear SVM - Running with top 5 absolute contribution features from Run 1b : average_inter_event_time,Average_rating_value,median_inter_event_time,average_movie_per_year,CareerStartYear'\n",
    "# # model_comments = 'Run 3b - Equal data - Linear SVM - Running with top 5 absolute contribution features from Run 1b : average_inter_event_time,Average_rating_value,median_inter_event_time,average_movie_per_year,CareerStartYear'\n",
    "\n",
    "# # Run 4 - Compare results from Random Forest featrues - Equal and All data - Linear SVM\n",
    "# model_features = ['Average_rating_value','Average_rating_count',\n",
    "#                   'birthYear','CareerStartYear']\n",
    "# # model_comments = 'Run 4a - All data - Linear SVM - Running with top 5 contribution features from Random Forest : Average_rating_value,Average_rating_count,birthYear,CareerStartYear'\n",
    "# model_comments = 'Run 4b - Equal data - Linear SVM - Running with top 5 contribution features from Random Forest : Average_rating_value,Average_rating_count,birthYear,CareerStartYear'\n",
    "\n",
    "\n"
   ]
  },
  {
   "cell_type": "code",
   "execution_count": null,
   "metadata": {},
   "outputs": [],
   "source": [
    "temp_director_only = director_data.dropna(subset=model_features)\n",
    "temp_director_only.info()"
   ]
  },
  {
   "cell_type": "code",
   "execution_count": null,
   "metadata": {},
   "outputs": [],
   "source": [
    "equalDF = equal_split_on_columnName(100,temp_director_only)"
   ]
  },
  {
   "cell_type": "code",
   "execution_count": null,
   "metadata": {},
   "outputs": [],
   "source": [
    "maxEqualDF = max_equal_split_on_columnName(temp_director_only)"
   ]
  },
  {
   "cell_type": "code",
   "execution_count": null,
   "metadata": {},
   "outputs": [],
   "source": [
    "def print_features_selected(df):\n",
    "    print('[',end = '')\n",
    "    for i,v in enumerate(df.columns.values):\n",
    "        if(i==len(df.columns.values)-1):\n",
    "            print(\"'\" + str(v) +\"']\")\n",
    "        else:\n",
    "            print(\"'\" + str(v) +\"',\")"
   ]
  },
  {
   "cell_type": "code",
   "execution_count": null,
   "metadata": {},
   "outputs": [],
   "source": [
    "# print_features_selected(temp_director_only)\n",
    "print_features_selected(maxEqualDF[model_features])"
   ]
  },
  {
   "cell_type": "markdown",
   "metadata": {},
   "source": [
    "## Running Whole Director DF "
   ]
  },
  {
   "cell_type": "code",
   "execution_count": null,
   "metadata": {},
   "outputs": [],
   "source": [
    "y_test,y_pred,model_SVC,storeDF.loc[len(storeDF)] = run_model_SVM(model_comments,temp_director_only,storeDF,\n",
    "                                                                  model_features,'Gender','linear','auto')"
   ]
  },
  {
   "cell_type": "code",
   "execution_count": null,
   "metadata": {},
   "outputs": [],
   "source": [
    "evaluation_analysis(y_test,y_pred)"
   ]
  },
  {
   "cell_type": "code",
   "execution_count": null,
   "metadata": {},
   "outputs": [],
   "source": [
    "storeDF"
   ]
  },
  {
   "cell_type": "code",
   "execution_count": null,
   "metadata": {},
   "outputs": [],
   "source": [
    "# #Save a copy of true and predicted for Manual intervention\n",
    "# Actual = y_test.to_frame()\n",
    "# Actual['predicter'] = y_pred\n",
    "# save_to_file(Actual,saveFileToPath)"
   ]
  },
  {
   "cell_type": "markdown",
   "metadata": {},
   "source": [
    "## Running Balanced max Equal DF "
   ]
  },
  {
   "cell_type": "code",
   "execution_count": null,
   "metadata": {},
   "outputs": [],
   "source": [
    "y_test,y_pred,model_SVC,storeDF.loc[len(storeDF)] = run_model_SVM(model_comments,maxEqualDF,storeDF,\n",
    "                                                                  model_features,'Gender','linear','auto')"
   ]
  },
  {
   "cell_type": "code",
   "execution_count": null,
   "metadata": {},
   "outputs": [],
   "source": [
    "evaluation_analysis(y_test,y_pred)"
   ]
  },
  {
   "cell_type": "code",
   "execution_count": null,
   "metadata": {},
   "outputs": [],
   "source": [
    "storeDF"
   ]
  },
  {
   "cell_type": "markdown",
   "metadata": {},
   "source": [
    "## Test Run sample DF"
   ]
  },
  {
   "cell_type": "code",
   "execution_count": null,
   "metadata": {},
   "outputs": [],
   "source": [
    "y_test,y_pred,model_SVC,storeDF.loc[len(storeDF)] = run_model_SVM(model_comments,equalDF,storeDF,\n",
    "                                                                  model_features,'Gender','poly','auto')"
   ]
  },
  {
   "cell_type": "code",
   "execution_count": null,
   "metadata": {},
   "outputs": [],
   "source": [
    "evaluation_analysis(y_test,y_pred)"
   ]
  },
  {
   "cell_type": "code",
   "execution_count": null,
   "metadata": {},
   "outputs": [],
   "source": [
    "evaluation_analysis(y_test,y_pred)"
   ]
  },
  {
   "cell_type": "code",
   "execution_count": null,
   "metadata": {},
   "outputs": [],
   "source": [
    "storeDF"
   ]
  },
  {
   "cell_type": "code",
   "execution_count": null,
   "metadata": {},
   "outputs": [],
   "source": []
  },
  {
   "cell_type": "code",
   "execution_count": null,
   "metadata": {},
   "outputs": [],
   "source": []
  },
  {
   "cell_type": "code",
   "execution_count": null,
   "metadata": {},
   "outputs": [],
   "source": [
    "save_to_file(storeDF,saveFileToPath)"
   ]
  },
  {
   "cell_type": "code",
   "execution_count": null,
   "metadata": {},
   "outputs": [],
   "source": []
  }
 ],
 "metadata": {
  "kernelspec": {
   "display_name": "Python 3",
   "language": "python",
   "name": "python3"
  },
  "language_info": {
   "codemirror_mode": {
    "name": "ipython",
    "version": 3
   },
   "file_extension": ".py",
   "mimetype": "text/x-python",
   "name": "python",
   "nbconvert_exporter": "python",
   "pygments_lexer": "ipython3",
   "version": "3.7.3"
  }
 },
 "nbformat": 4,
 "nbformat_minor": 2
}
