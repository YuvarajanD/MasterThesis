{
 "cells": [
  {
   "cell_type": "code",
   "execution_count": 1,
   "metadata": {},
   "outputs": [],
   "source": [
    "import pandas as pd\n",
    "import numpy as np\n",
    "import re\n",
    "import string\n",
    "import time\n",
    "from datetime import datetime\n",
    "from datetime import date\n",
    "import os\n",
    "\n",
    "#Plotting\n",
    "%matplotlib inline\n",
    "import matplotlib as mpl\n",
    "import matplotlib.pyplot as plt\n",
    "import seaborn as sns\n",
    "\n",
    "# ML Libraries\n",
    "from sklearn import svm\n",
    "from sklearn.svm import SVC\n",
    "from sklearn.model_selection import train_test_split\n",
    "from sklearn.metrics import classification_report, confusion_matrix\n",
    "from sklearn.metrics import precision_recall_fscore_support\n",
    "from sklearn.metrics import auc\n",
    "from sklearn.metrics import roc_auc_score\n",
    "from sklearn.metrics import roc_curve\n",
    "from sklearn import metrics\n",
    "\n",
    "# Save model\n",
    "import pickle\n",
    "import joblib"
   ]
  },
  {
   "cell_type": "code",
   "execution_count": 47,
   "metadata": {},
   "outputs": [],
   "source": [
    "# fileLocation = 'C:\\\\Users\\\\VictorY\\\\Desktop\\\\TestData\\\\stage3FinalProcessedDF_Nov-17-2019.csv'\n",
    "moviesDataFileLocation = 'C:\\\\Yuva\\\\ITU\\\\4th Sem\\\\Thesis\\\\Data\\\\Final_Data_Movies_Directors_old.csv'\n",
    "saveFileToPath = \"C:\\\\Yuva\\\\ITU\\\\4th Sem\\\\Thesis\\\\Data\\\\\"\n",
    "\n",
    "movies_data = pd.read_csv(moviesDataFileLocation)"
   ]
  },
  {
   "cell_type": "code",
   "execution_count": 48,
   "metadata": {},
   "outputs": [
    {
     "data": {
      "text/html": [
       "<div>\n",
       "<style scoped>\n",
       "    .dataframe tbody tr th:only-of-type {\n",
       "        vertical-align: middle;\n",
       "    }\n",
       "\n",
       "    .dataframe tbody tr th {\n",
       "        vertical-align: top;\n",
       "    }\n",
       "\n",
       "    .dataframe thead th {\n",
       "        text-align: right;\n",
       "    }\n",
       "</style>\n",
       "<table border=\"1\" class=\"dataframe\">\n",
       "  <thead>\n",
       "    <tr style=\"text-align: right;\">\n",
       "      <th></th>\n",
       "      <th>director_ids</th>\n",
       "      <th>director_names</th>\n",
       "      <th>movie_id</th>\n",
       "      <th>title</th>\n",
       "      <th>review_count_user</th>\n",
       "      <th>review_count_critic</th>\n",
       "      <th>rating_value</th>\n",
       "      <th>rating_count</th>\n",
       "      <th>date_published</th>\n",
       "      <th>release_date</th>\n",
       "      <th>movie_year</th>\n",
       "      <th>birthYear</th>\n",
       "      <th>primaryProfession</th>\n",
       "      <th>knownForTitles</th>\n",
       "      <th>Gender</th>\n",
       "    </tr>\n",
       "  </thead>\n",
       "  <tbody>\n",
       "    <tr>\n",
       "      <th>0</th>\n",
       "      <td>nm0005690</td>\n",
       "      <td>William K.L. Dickson</td>\n",
       "      <td>tt0000001</td>\n",
       "      <td>Carmencita - spanyol tánc (1894) - IMDb</td>\n",
       "      <td>12</td>\n",
       "      <td>2</td>\n",
       "      <td>5.8</td>\n",
       "      <td>1255</td>\n",
       "      <td>1894-03-10</td>\n",
       "      <td>10 March 1894 (USA)    See more »</td>\n",
       "      <td>1894</td>\n",
       "      <td>1860</td>\n",
       "      <td>cinematographer,director,producer</td>\n",
       "      <td>tt0219560,tt6687694,tt1428455,tt1496763</td>\n",
       "      <td>Male</td>\n",
       "    </tr>\n",
       "    <tr>\n",
       "      <th>1</th>\n",
       "      <td>nm0721526</td>\n",
       "      <td>Émile Reynaud</td>\n",
       "      <td>tt0000002</td>\n",
       "      <td>A bohóc és kutyái (1892) - IMDb</td>\n",
       "      <td>0</td>\n",
       "      <td>0</td>\n",
       "      <td>6.5</td>\n",
       "      <td>148</td>\n",
       "      <td>1892-10-28</td>\n",
       "      <td>28 October 1892 (France)    See more »</td>\n",
       "      <td>1892</td>\n",
       "      <td>1844</td>\n",
       "      <td>director</td>\n",
       "      <td>tt2184231,tt0000003,tt2184201,tt0413219</td>\n",
       "      <td>Male</td>\n",
       "    </tr>\n",
       "    <tr>\n",
       "      <th>2</th>\n",
       "      <td>nm0721526</td>\n",
       "      <td>Émile Reynaud</td>\n",
       "      <td>tt0000003</td>\n",
       "      <td>Szegény Pierrot (1892) - IMDb</td>\n",
       "      <td>12</td>\n",
       "      <td>5</td>\n",
       "      <td>6.6</td>\n",
       "      <td>819</td>\n",
       "      <td>1892-10-28</td>\n",
       "      <td>28 October 1892 (France)    See more »</td>\n",
       "      <td>1892</td>\n",
       "      <td>1844</td>\n",
       "      <td>director</td>\n",
       "      <td>tt2184231,tt0000003,tt2184201,tt0413219</td>\n",
       "      <td>Male</td>\n",
       "    </tr>\n",
       "  </tbody>\n",
       "</table>\n",
       "</div>"
      ],
      "text/plain": [
       "  director_ids        director_names   movie_id  \\\n",
       "0    nm0005690  William K.L. Dickson  tt0000001   \n",
       "1    nm0721526         Émile Reynaud  tt0000002   \n",
       "2    nm0721526         Émile Reynaud  tt0000003   \n",
       "\n",
       "                                     title  review_count_user  \\\n",
       "0  Carmencita - spanyol tánc (1894) - IMDb                 12   \n",
       "1          A bohóc és kutyái (1892) - IMDb                  0   \n",
       "2            Szegény Pierrot (1892) - IMDb                 12   \n",
       "\n",
       "   review_count_critic  rating_value  rating_count date_published  \\\n",
       "0                    2           5.8          1255     1894-03-10   \n",
       "1                    0           6.5           148     1892-10-28   \n",
       "2                    5           6.6           819     1892-10-28   \n",
       "\n",
       "                              release_date  movie_year  birthYear  \\\n",
       "0        10 March 1894 (USA)    See more »        1894       1860   \n",
       "1   28 October 1892 (France)    See more »        1892       1844   \n",
       "2   28 October 1892 (France)    See more »        1892       1844   \n",
       "\n",
       "                   primaryProfession                           knownForTitles  \\\n",
       "0  cinematographer,director,producer  tt0219560,tt6687694,tt1428455,tt1496763   \n",
       "1                           director  tt2184231,tt0000003,tt2184201,tt0413219   \n",
       "2                           director  tt2184231,tt0000003,tt2184201,tt0413219   \n",
       "\n",
       "  Gender  \n",
       "0   Male  \n",
       "1   Male  \n",
       "2   Male  "
      ]
     },
     "execution_count": 48,
     "metadata": {},
     "output_type": "execute_result"
    }
   ],
   "source": [
    "movies_data.head(3)"
   ]
  },
  {
   "cell_type": "code",
   "execution_count": 49,
   "metadata": {},
   "outputs": [
    {
     "data": {
      "text/html": [
       "<div>\n",
       "<style scoped>\n",
       "    .dataframe tbody tr th:only-of-type {\n",
       "        vertical-align: middle;\n",
       "    }\n",
       "\n",
       "    .dataframe tbody tr th {\n",
       "        vertical-align: top;\n",
       "    }\n",
       "\n",
       "    .dataframe thead th {\n",
       "        text-align: right;\n",
       "    }\n",
       "</style>\n",
       "<table border=\"1\" class=\"dataframe\">\n",
       "  <thead>\n",
       "    <tr style=\"text-align: right;\">\n",
       "      <th></th>\n",
       "      <th>review_count_user</th>\n",
       "      <th>review_count_critic</th>\n",
       "      <th>rating_value</th>\n",
       "      <th>rating_count</th>\n",
       "      <th>movie_year</th>\n",
       "      <th>birthYear</th>\n",
       "    </tr>\n",
       "  </thead>\n",
       "  <tbody>\n",
       "    <tr>\n",
       "      <th>count</th>\n",
       "      <td>325375.000000</td>\n",
       "      <td>325375.000000</td>\n",
       "      <td>325375.000000</td>\n",
       "      <td>3.253750e+05</td>\n",
       "      <td>325375.000000</td>\n",
       "      <td>325375.000000</td>\n",
       "    </tr>\n",
       "    <tr>\n",
       "      <th>mean</th>\n",
       "      <td>8.148693</td>\n",
       "      <td>4.953085</td>\n",
       "      <td>6.836027</td>\n",
       "      <td>1.865055e+03</td>\n",
       "      <td>1985.417269</td>\n",
       "      <td>1941.103139</td>\n",
       "    </tr>\n",
       "    <tr>\n",
       "      <th>std</th>\n",
       "      <td>61.496919</td>\n",
       "      <td>25.882580</td>\n",
       "      <td>1.302666</td>\n",
       "      <td>2.163975e+04</td>\n",
       "      <td>25.184835</td>\n",
       "      <td>27.455184</td>\n",
       "    </tr>\n",
       "    <tr>\n",
       "      <th>min</th>\n",
       "      <td>0.000000</td>\n",
       "      <td>0.000000</td>\n",
       "      <td>1.000000</td>\n",
       "      <td>5.000000e+00</td>\n",
       "      <td>1887.000000</td>\n",
       "      <td>6.000000</td>\n",
       "    </tr>\n",
       "    <tr>\n",
       "      <th>25%</th>\n",
       "      <td>0.000000</td>\n",
       "      <td>0.000000</td>\n",
       "      <td>6.100000</td>\n",
       "      <td>1.100000e+01</td>\n",
       "      <td>1968.000000</td>\n",
       "      <td>1922.000000</td>\n",
       "    </tr>\n",
       "    <tr>\n",
       "      <th>50%</th>\n",
       "      <td>0.000000</td>\n",
       "      <td>0.000000</td>\n",
       "      <td>7.000000</td>\n",
       "      <td>3.000000e+01</td>\n",
       "      <td>1992.000000</td>\n",
       "      <td>1944.000000</td>\n",
       "    </tr>\n",
       "    <tr>\n",
       "      <th>75%</th>\n",
       "      <td>2.000000</td>\n",
       "      <td>1.000000</td>\n",
       "      <td>7.800000</td>\n",
       "      <td>1.270000e+02</td>\n",
       "      <td>2007.000000</td>\n",
       "      <td>1963.000000</td>\n",
       "    </tr>\n",
       "    <tr>\n",
       "      <th>max</th>\n",
       "      <td>5075.000000</td>\n",
       "      <td>815.000000</td>\n",
       "      <td>10.000000</td>\n",
       "      <td>1.741951e+06</td>\n",
       "      <td>2017.000000</td>\n",
       "      <td>2004.000000</td>\n",
       "    </tr>\n",
       "  </tbody>\n",
       "</table>\n",
       "</div>"
      ],
      "text/plain": [
       "       review_count_user  review_count_critic   rating_value  rating_count  \\\n",
       "count      325375.000000        325375.000000  325375.000000  3.253750e+05   \n",
       "mean            8.148693             4.953085       6.836027  1.865055e+03   \n",
       "std            61.496919            25.882580       1.302666  2.163975e+04   \n",
       "min             0.000000             0.000000       1.000000  5.000000e+00   \n",
       "25%             0.000000             0.000000       6.100000  1.100000e+01   \n",
       "50%             0.000000             0.000000       7.000000  3.000000e+01   \n",
       "75%             2.000000             1.000000       7.800000  1.270000e+02   \n",
       "max          5075.000000           815.000000      10.000000  1.741951e+06   \n",
       "\n",
       "          movie_year      birthYear  \n",
       "count  325375.000000  325375.000000  \n",
       "mean     1985.417269    1941.103139  \n",
       "std        25.184835      27.455184  \n",
       "min      1887.000000       6.000000  \n",
       "25%      1968.000000    1922.000000  \n",
       "50%      1992.000000    1944.000000  \n",
       "75%      2007.000000    1963.000000  \n",
       "max      2017.000000    2004.000000  "
      ]
     },
     "execution_count": 49,
     "metadata": {},
     "output_type": "execute_result"
    }
   ],
   "source": [
    "movies_data.describe()"
   ]
  },
  {
   "cell_type": "code",
   "execution_count": 50,
   "metadata": {},
   "outputs": [],
   "source": [
    "# Function to Plot - Distribution of rating value among male and female. \n",
    "\n",
    "def plot_features_WRT_gender(df,columnCriteriaName,columnFeatureName):\n",
    "    dict={}\n",
    "    for i in df[columnCriteriaName].value_counts().index:\n",
    "        dict[\"{0}_{1}\".format(columnFeatureName,i)] = df[(df[columnCriteriaName] == i)][columnFeatureName]\n",
    "    for k,v in dict.items():\n",
    "        sns.distplot(v,label=[k])\n",
    "        plt.legend(bbox_to_anchor=(1.05, 0.6), loc=2, borderaxespad=0.)"
   ]
  },
  {
   "cell_type": "markdown",
   "metadata": {},
   "source": [
    "Rating count vs gender has almost the same distribution. \n",
    "Hence the prediction of Gender based on rating count is not feasible"
   ]
  },
  {
   "cell_type": "code",
   "execution_count": null,
   "metadata": {},
   "outputs": [],
   "source": []
  },
  {
   "cell_type": "code",
   "execution_count": 51,
   "metadata": {
    "scrolled": true
   },
   "outputs": [
    {
     "data": {
      "image/png": "[encoded data removed]",
      "text/plain": [
       "<Figure size 432x288 with 1 Axes>"
      ]
     },
     "metadata": {
      "needs_background": "light"
     },
     "output_type": "display_data"
    }
   ],
   "source": [
    "plot_features_WRT_gender(movies_data[movies_data.rating_count<130],\"Gender\",\"rating_count\")"
   ]
  },
  {
   "cell_type": "markdown",
   "metadata": {},
   "source": [
    "# Why continue predicting Gender when the distributions are not separable?"
   ]
  },
  {
   "cell_type": "markdown",
   "metadata": {},
   "source": [
    "Rating Value vs gender has almost the same distribution. \n",
    "Hence the prediction of Gender based on rating count is not feasible"
   ]
  },
  {
   "cell_type": "code",
   "execution_count": 52,
   "metadata": {},
   "outputs": [
    {
     "data": {
      "image/png": "[encoded data removed]",
      "text/plain": [
       "<Figure size 432x288 with 1 Axes>"
      ]
     },
     "metadata": {
      "needs_background": "light"
     },
     "output_type": "display_data"
    }
   ],
   "source": [
    "plot_features_WRT_gender(movies_data,\"Gender\",\"rating_value\")"
   ]
  },
  {
   "cell_type": "code",
   "execution_count": 53,
   "metadata": {},
   "outputs": [
    {
     "name": "stdout",
     "output_type": "stream",
     "text": [
      "<class 'pandas.core.frame.DataFrame'>\n",
      "RangeIndex: 325375 entries, 0 to 325374\n",
      "Data columns (total 15 columns):\n",
      " #   Column               Non-Null Count   Dtype  \n",
      "---  ------               --------------   -----  \n",
      " 0   director_ids         325375 non-null  object \n",
      " 1   director_names       325375 non-null  object \n",
      " 2   movie_id             325375 non-null  object \n",
      " 3   title                325375 non-null  object \n",
      " 4   review_count_user    325375 non-null  int64  \n",
      " 5   review_count_critic  325375 non-null  int64  \n",
      " 6   rating_value         325375 non-null  float64\n",
      " 7   rating_count         325375 non-null  int64  \n",
      " 8   date_published       325375 non-null  object \n",
      " 9   release_date         325375 non-null  object \n",
      " 10  movie_year           325375 non-null  int64  \n",
      " 11  birthYear            325375 non-null  int64  \n",
      " 12  primaryProfession    325375 non-null  object \n",
      " 13  knownForTitles       325375 non-null  object \n",
      " 14  Gender               325375 non-null  object \n",
      "dtypes: float64(1), int64(5), object(9)\n",
      "memory usage: 37.2+ MB\n"
     ]
    }
   ],
   "source": [
    "movies_data.info()"
   ]
  },
  {
   "cell_type": "code",
   "execution_count": 54,
   "metadata": {},
   "outputs": [],
   "source": [
    "req_columns = ['review_count_user', 'review_count_critic','rating_value',\n",
    "               'rating_count','movie_year','birthYear','Gender']"
   ]
  },
  {
   "cell_type": "code",
   "execution_count": 55,
   "metadata": {},
   "outputs": [
    {
     "name": "stdout",
     "output_type": "stream",
     "text": [
      "The shape of our Director specific dataset is: (325375, 7)\n"
     ]
    }
   ],
   "source": [
    "movies_data = movies_data[req_columns]\n",
    "print('The shape of our Director specific dataset is:', movies_data.shape)"
   ]
  },
  {
   "cell_type": "code",
   "execution_count": 56,
   "metadata": {},
   "outputs": [],
   "source": [
    "save = movies_data.copy()"
   ]
  },
  {
   "cell_type": "markdown",
   "metadata": {},
   "source": [
    "# Weighted Ranking"
   ]
  },
  {
   "cell_type": "code",
   "execution_count": 57,
   "metadata": {},
   "outputs": [],
   "source": [
    "movies_data = save.copy()"
   ]
  },
  {
   "cell_type": "code",
   "execution_count": 12,
   "metadata": {},
   "outputs": [],
   "source": [
    "# Weighted ranking value\n",
    "# IMDB uses this famous formula:\n",
    "# weighted rating (WR) = (v ÷ (v+m)) × R + (m ÷ (v+m)) × C\n",
    "\n",
    "# Where:\n",
    "\n",
    "# R = average for the movie (mean) = (rating)\n",
    "\n",
    "# v = number of votes for the movie = (votes)\n",
    "\n",
    "# m = minimum votes required to be listed in the Top Rated list (currently 25,000)\n",
    "\n",
    "# C = the mean vote across the whole report"
   ]
  },
  {
   "cell_type": "code",
   "execution_count": 67,
   "metadata": {},
   "outputs": [
    {
     "data": {
      "text/plain": [
       "2.0"
      ]
     },
     "execution_count": 67,
     "metadata": {},
     "output_type": "execute_result"
    }
   ],
   "source": [
    "(4 / (4/2))"
   ]
  },
  {
   "cell_type": "code",
   "execution_count": 68,
   "metadata": {},
   "outputs": [
    {
     "data": {
      "text/plain": [
       "2.0"
      ]
     },
     "execution_count": 68,
     "metadata": {},
     "output_type": "execute_result"
    }
   ],
   "source": [
    "(10 / (2+3))"
   ]
  },
  {
   "cell_type": "code",
   "execution_count": 70,
   "metadata": {},
   "outputs": [
    {
     "data": {
      "text/plain": [
       "19.0"
      ]
     },
     "execution_count": 70,
     "metadata": {},
     "output_type": "execute_result"
    }
   ],
   "source": [
    "(4 / (4/2)) * 2 + (15 / (2+3)) * 5"
   ]
  },
  {
   "cell_type": "code",
   "execution_count": 69,
   "metadata": {},
   "outputs": [
    {
     "data": {
      "text/plain": [
       "19"
      ]
     },
     "execution_count": 69,
     "metadata": {},
     "output_type": "execute_result"
    }
   ],
   "source": [
    "2 * 2 + 3 * 5"
   ]
  },
  {
   "cell_type": "code",
   "execution_count": null,
   "metadata": {},
   "outputs": [],
   "source": [
    "(v ÷ (v+m)) × R + (m ÷ (v+m)) × C"
   ]
  },
  {
   "cell_type": "code",
   "execution_count": 59,
   "metadata": {},
   "outputs": [
    {
     "data": {
      "text/plain": [
       "7.0"
      ]
     },
     "execution_count": 59,
     "metadata": {},
     "output_type": "execute_result"
    }
   ],
   "source": [
    "movies_data.rating_value.median()"
   ]
  },
  {
   "cell_type": "code",
   "execution_count": 58,
   "metadata": {},
   "outputs": [
    {
     "data": {
      "text/plain": [
       "6.836026738378925"
      ]
     },
     "execution_count": 58,
     "metadata": {},
     "output_type": "execute_result"
    }
   ],
   "source": [
    "movies_data.rating_value.mean()"
   ]
  },
  {
   "cell_type": "code",
   "execution_count": 82,
   "metadata": {},
   "outputs": [],
   "source": [
    "def weightedRank(df,R='rating_value', v='rating_count', m = 0):\n",
    "    df = df.loc[df[v] > m ]\n",
    "    df['weighted_rank'] = (df[v] / (df[v] + m )) * df[R] + (m / ( df[v] + m)) * movies_data.rating_value.mean()\n",
    "    return df"
   ]
  },
  {
   "cell_type": "code",
   "execution_count": 83,
   "metadata": {},
   "outputs": [
    {
     "name": "stderr",
     "output_type": "stream",
     "text": [
      "C:\\Users\\yuvar\\Anaconda3\\lib\\site-packages\\ipykernel_launcher.py:3: SettingWithCopyWarning: \n",
      "A value is trying to be set on a copy of a slice from a DataFrame.\n",
      "Try using .loc[row_indexer,col_indexer] = value instead\n",
      "\n",
      "See the caveats in the documentation: https://pandas.pydata.org/pandas-docs/stable/user_guide/indexing.html#returning-a-view-versus-a-copy\n",
      "  This is separate from the ipykernel package so we can avoid doing imports until\n"
     ]
    }
   ],
   "source": [
    "# movies_data['weightedRank'] = weightedRank(movies_data)\n",
    "\n",
    "movies_data = weightedRank(movies_data,m=1000)"
   ]
  },
  {
   "cell_type": "code",
   "execution_count": 84,
   "metadata": {},
   "outputs": [
    {
     "name": "stderr",
     "output_type": "stream",
     "text": [
      "C:\\Users\\yuvar\\Anaconda3\\lib\\site-packages\\ipykernel_launcher.py:1: SettingWithCopyWarning: \n",
      "A value is trying to be set on a copy of a slice from a DataFrame.\n",
      "Try using .loc[row_indexer,col_indexer] = value instead\n",
      "\n",
      "See the caveats in the documentation: https://pandas.pydata.org/pandas-docs/stable/user_guide/indexing.html#returning-a-view-versus-a-copy\n",
      "  \"\"\"Entry point for launching an IPython kernel.\n"
     ]
    }
   ],
   "source": [
    "movies_data['diff'] = movies_data['rating_value'] - movies_data['weighted_rank']"
   ]
  },
  {
   "cell_type": "code",
   "execution_count": 85,
   "metadata": {},
   "outputs": [
    {
     "data": {
      "text/html": [
       "<div>\n",
       "<style scoped>\n",
       "    .dataframe tbody tr th:only-of-type {\n",
       "        vertical-align: middle;\n",
       "    }\n",
       "\n",
       "    .dataframe tbody tr th {\n",
       "        vertical-align: top;\n",
       "    }\n",
       "\n",
       "    .dataframe thead th {\n",
       "        text-align: right;\n",
       "    }\n",
       "</style>\n",
       "<table border=\"1\" class=\"dataframe\">\n",
       "  <thead>\n",
       "    <tr style=\"text-align: right;\">\n",
       "      <th></th>\n",
       "      <th>review_count_user</th>\n",
       "      <th>review_count_critic</th>\n",
       "      <th>rating_value</th>\n",
       "      <th>rating_count</th>\n",
       "      <th>movie_year</th>\n",
       "      <th>birthYear</th>\n",
       "      <th>Gender</th>\n",
       "      <th>weighted_rank</th>\n",
       "      <th>diff</th>\n",
       "    </tr>\n",
       "  </thead>\n",
       "  <tbody>\n",
       "    <tr>\n",
       "      <th>314197</th>\n",
       "      <td>2</td>\n",
       "      <td>1</td>\n",
       "      <td>9.6</td>\n",
       "      <td>1035</td>\n",
       "      <td>2015</td>\n",
       "      <td>1979</td>\n",
       "      <td>Male</td>\n",
       "      <td>8.241782</td>\n",
       "      <td>1.358218</td>\n",
       "    </tr>\n",
       "    <tr>\n",
       "      <th>316683</th>\n",
       "      <td>1</td>\n",
       "      <td>1</td>\n",
       "      <td>9.6</td>\n",
       "      <td>1082</td>\n",
       "      <td>2016</td>\n",
       "      <td>1967</td>\n",
       "      <td>Male</td>\n",
       "      <td>8.272443</td>\n",
       "      <td>1.327557</td>\n",
       "    </tr>\n",
       "    <tr>\n",
       "      <th>263632</th>\n",
       "      <td>2</td>\n",
       "      <td>5</td>\n",
       "      <td>9.5</td>\n",
       "      <td>1048</td>\n",
       "      <td>2010</td>\n",
       "      <td>1964</td>\n",
       "      <td>Male</td>\n",
       "      <td>8.199232</td>\n",
       "      <td>1.300768</td>\n",
       "    </tr>\n",
       "    <tr>\n",
       "      <th>299530</th>\n",
       "      <td>6</td>\n",
       "      <td>1</td>\n",
       "      <td>9.7</td>\n",
       "      <td>1213</td>\n",
       "      <td>2013</td>\n",
       "      <td>1948</td>\n",
       "      <td>Male</td>\n",
       "      <td>8.405841</td>\n",
       "      <td>1.294159</td>\n",
       "    </tr>\n",
       "    <tr>\n",
       "      <th>197277</th>\n",
       "      <td>12</td>\n",
       "      <td>0</td>\n",
       "      <td>9.5</td>\n",
       "      <td>1088</td>\n",
       "      <td>2006</td>\n",
       "      <td>1962</td>\n",
       "      <td>Male</td>\n",
       "      <td>8.224151</td>\n",
       "      <td>1.275849</td>\n",
       "    </tr>\n",
       "    <tr>\n",
       "      <th>...</th>\n",
       "      <td>...</td>\n",
       "      <td>...</td>\n",
       "      <td>...</td>\n",
       "      <td>...</td>\n",
       "      <td>...</td>\n",
       "      <td>...</td>\n",
       "      <td>...</td>\n",
       "      <td>...</td>\n",
       "      <td>...</td>\n",
       "    </tr>\n",
       "    <tr>\n",
       "      <th>105713</th>\n",
       "      <td>28</td>\n",
       "      <td>7</td>\n",
       "      <td>1.6</td>\n",
       "      <td>1151</td>\n",
       "      <td>2000</td>\n",
       "      <td>1968</td>\n",
       "      <td>Female</td>\n",
       "      <td>4.034229</td>\n",
       "      <td>-2.434229</td>\n",
       "    </tr>\n",
       "    <tr>\n",
       "      <th>97713</th>\n",
       "      <td>0</td>\n",
       "      <td>1</td>\n",
       "      <td>1.5</td>\n",
       "      <td>1173</td>\n",
       "      <td>1992</td>\n",
       "      <td>1965</td>\n",
       "      <td>Male</td>\n",
       "      <td>3.955604</td>\n",
       "      <td>-2.455604</td>\n",
       "    </tr>\n",
       "    <tr>\n",
       "      <th>106888</th>\n",
       "      <td>43</td>\n",
       "      <td>5</td>\n",
       "      <td>1.7</td>\n",
       "      <td>1051</td>\n",
       "      <td>2000</td>\n",
       "      <td>1969</td>\n",
       "      <td>Male</td>\n",
       "      <td>4.204157</td>\n",
       "      <td>-2.504157</td>\n",
       "    </tr>\n",
       "    <tr>\n",
       "      <th>46975</th>\n",
       "      <td>32</td>\n",
       "      <td>4</td>\n",
       "      <td>1.8</td>\n",
       "      <td>1002</td>\n",
       "      <td>1976</td>\n",
       "      <td>1917</td>\n",
       "      <td>Male</td>\n",
       "      <td>4.315498</td>\n",
       "      <td>-2.515498</td>\n",
       "    </tr>\n",
       "    <tr>\n",
       "      <th>62627</th>\n",
       "      <td>1</td>\n",
       "      <td>0</td>\n",
       "      <td>1.7</td>\n",
       "      <td>1010</td>\n",
       "      <td>1989</td>\n",
       "      <td>1932</td>\n",
       "      <td>Male</td>\n",
       "      <td>4.255237</td>\n",
       "      <td>-2.555237</td>\n",
       "    </tr>\n",
       "  </tbody>\n",
       "</table>\n",
       "<p>25192 rows × 9 columns</p>\n",
       "</div>"
      ],
      "text/plain": [
       "        review_count_user  review_count_critic  rating_value  rating_count  \\\n",
       "314197                  2                    1           9.6          1035   \n",
       "316683                  1                    1           9.6          1082   \n",
       "263632                  2                    5           9.5          1048   \n",
       "299530                  6                    1           9.7          1213   \n",
       "197277                 12                    0           9.5          1088   \n",
       "...                   ...                  ...           ...           ...   \n",
       "105713                 28                    7           1.6          1151   \n",
       "97713                   0                    1           1.5          1173   \n",
       "106888                 43                    5           1.7          1051   \n",
       "46975                  32                    4           1.8          1002   \n",
       "62627                   1                    0           1.7          1010   \n",
       "\n",
       "        movie_year  birthYear  Gender  weighted_rank      diff  \n",
       "314197        2015       1979    Male       8.241782  1.358218  \n",
       "316683        2016       1967    Male       8.272443  1.327557  \n",
       "263632        2010       1964    Male       8.199232  1.300768  \n",
       "299530        2013       1948    Male       8.405841  1.294159  \n",
       "197277        2006       1962    Male       8.224151  1.275849  \n",
       "...            ...        ...     ...            ...       ...  \n",
       "105713        2000       1968  Female       4.034229 -2.434229  \n",
       "97713         1992       1965    Male       3.955604 -2.455604  \n",
       "106888        2000       1969    Male       4.204157 -2.504157  \n",
       "46975         1976       1917    Male       4.315498 -2.515498  \n",
       "62627         1989       1932    Male       4.255237 -2.555237  \n",
       "\n",
       "[25192 rows x 9 columns]"
      ]
     },
     "execution_count": 85,
     "metadata": {},
     "output_type": "execute_result"
    }
   ],
   "source": [
    "movies_data = movies_data.sort_values(by = 'diff',ascending= False)\n",
    "movies_data"
   ]
  },
  {
   "cell_type": "code",
   "execution_count": 45,
   "metadata": {},
   "outputs": [
    {
     "data": {
      "text/plain": [
       "review_count_user      25192\n",
       "review_count_critic    25192\n",
       "rating_value           25192\n",
       "rating_count           25192\n",
       "movie_year             25192\n",
       "birthYear              25192\n",
       "Gender                 25192\n",
       "weighted_rank          25192\n",
       "diff                   25192\n",
       "dtype: int64"
      ]
     },
     "execution_count": 45,
     "metadata": {},
     "output_type": "execute_result"
    }
   ],
   "source": [
    "movies_data.count()"
   ]
  },
  {
   "cell_type": "code",
   "execution_count": 152,
   "metadata": {},
   "outputs": [
    {
     "data": {
      "text/html": [
       "<div>\n",
       "<style scoped>\n",
       "    .dataframe tbody tr th:only-of-type {\n",
       "        vertical-align: middle;\n",
       "    }\n",
       "\n",
       "    .dataframe tbody tr th {\n",
       "        vertical-align: top;\n",
       "    }\n",
       "\n",
       "    .dataframe thead th {\n",
       "        text-align: right;\n",
       "    }\n",
       "</style>\n",
       "<table border=\"1\" class=\"dataframe\">\n",
       "  <thead>\n",
       "    <tr style=\"text-align: right;\">\n",
       "      <th></th>\n",
       "      <th>rating_value</th>\n",
       "      <th>weighted_rank</th>\n",
       "    </tr>\n",
       "  </thead>\n",
       "  <tbody>\n",
       "    <tr>\n",
       "      <th>count</th>\n",
       "      <td>3894.000000</td>\n",
       "      <td>3894.000000</td>\n",
       "    </tr>\n",
       "    <tr>\n",
       "      <th>mean</th>\n",
       "      <td>6.852414</td>\n",
       "      <td>6.887837</td>\n",
       "    </tr>\n",
       "    <tr>\n",
       "      <th>std</th>\n",
       "      <td>1.001826</td>\n",
       "      <td>0.726922</td>\n",
       "    </tr>\n",
       "    <tr>\n",
       "      <th>min</th>\n",
       "      <td>1.600000</td>\n",
       "      <td>2.916709</td>\n",
       "    </tr>\n",
       "    <tr>\n",
       "      <th>25%</th>\n",
       "      <td>6.300000</td>\n",
       "      <td>6.454359</td>\n",
       "    </tr>\n",
       "    <tr>\n",
       "      <th>50%</th>\n",
       "      <td>6.900000</td>\n",
       "      <td>6.894178</td>\n",
       "    </tr>\n",
       "    <tr>\n",
       "      <th>75%</th>\n",
       "      <td>7.600000</td>\n",
       "      <td>7.367194</td>\n",
       "    </tr>\n",
       "    <tr>\n",
       "      <th>max</th>\n",
       "      <td>10.000000</td>\n",
       "      <td>9.427223</td>\n",
       "    </tr>\n",
       "  </tbody>\n",
       "</table>\n",
       "</div>"
      ],
      "text/plain": [
       "       rating_value  weighted_rank\n",
       "count   3894.000000    3894.000000\n",
       "mean       6.852414       6.887837\n",
       "std        1.001826       0.726922\n",
       "min        1.600000       2.916709\n",
       "25%        6.300000       6.454359\n",
       "50%        6.900000       6.894178\n",
       "75%        7.600000       7.367194\n",
       "max       10.000000       9.427223"
      ]
     },
     "execution_count": 152,
     "metadata": {},
     "output_type": "execute_result"
    }
   ],
   "source": [
    "movies_data[['rating_value','weighted_rank']].describe()"
   ]
  },
  {
   "cell_type": "code",
   "execution_count": 153,
   "metadata": {},
   "outputs": [
    {
     "name": "stdout",
     "output_type": "stream",
     "text": [
      "Index(['poor', 'average', 'good', 'excellent'], dtype='object')\n"
     ]
    }
   ],
   "source": [
    "# Quartile cut into 4 different buckets\n",
    "\n",
    "bin_quartiles = ['poor','average','good','excellent']\n",
    "cutIntoQuartiles = pd.qcut(movies_data['weighted_rank'].to_list(), q=4,labels=bin_quartiles)\n",
    "\n",
    "# Print the quartile range for visuals\n",
    "print(cutIntoQuartiles.categories)\n",
    "\n",
    "# Add the data to the dataframe\n",
    "movies_data['calc_score'] = cutIntoQuartiles"
   ]
  },
  {
   "cell_type": "markdown",
   "metadata": {},
   "source": [
    "## Rating Value quartile buckets"
   ]
  },
  {
   "cell_type": "code",
   "execution_count": 154,
   "metadata": {},
   "outputs": [],
   "source": [
    "# # Quartile cut into 4 different buckets\n",
    "\n",
    "# bin_quartiles = ['poor','average','good','excellent']\n",
    "# cutIntoQuartiles = pd.qcut(movies_data['rating_value'].to_list(), q=4,labels=bin_quartiles)\n",
    "\n",
    "# # Print the quartile range for visuals\n",
    "# print(cutIntoQuartiles.categories)\n",
    "\n",
    "# # Add the data to the dataframe\n",
    "# movies_data['calc_score'] = cutIntoQuartiles"
   ]
  },
  {
   "cell_type": "code",
   "execution_count": 155,
   "metadata": {},
   "outputs": [
    {
     "data": {
      "text/html": [
       "<div>\n",
       "<style scoped>\n",
       "    .dataframe tbody tr th:only-of-type {\n",
       "        vertical-align: middle;\n",
       "    }\n",
       "\n",
       "    .dataframe tbody tr th {\n",
       "        vertical-align: top;\n",
       "    }\n",
       "\n",
       "    .dataframe thead th {\n",
       "        text-align: right;\n",
       "    }\n",
       "</style>\n",
       "<table border=\"1\" class=\"dataframe\">\n",
       "  <thead>\n",
       "    <tr style=\"text-align: right;\">\n",
       "      <th></th>\n",
       "      <th>review_count_user</th>\n",
       "      <th>review_count_critic</th>\n",
       "      <th>rating_value</th>\n",
       "      <th>rating_count</th>\n",
       "      <th>movie_year</th>\n",
       "      <th>birthYear</th>\n",
       "      <th>weighted_rank</th>\n",
       "    </tr>\n",
       "  </thead>\n",
       "  <tbody>\n",
       "    <tr>\n",
       "      <th>count</th>\n",
       "      <td>3894.000000</td>\n",
       "      <td>3894.000000</td>\n",
       "      <td>3894.000000</td>\n",
       "      <td>3.894000e+03</td>\n",
       "      <td>3894.000000</td>\n",
       "      <td>3894.000000</td>\n",
       "      <td>3894.000000</td>\n",
       "    </tr>\n",
       "    <tr>\n",
       "      <th>mean</th>\n",
       "      <td>371.420904</td>\n",
       "      <td>179.094248</td>\n",
       "      <td>6.852414</td>\n",
       "      <td>1.248025e+05</td>\n",
       "      <td>1999.181305</td>\n",
       "      <td>1953.839240</td>\n",
       "      <td>6.887837</td>\n",
       "    </tr>\n",
       "    <tr>\n",
       "      <th>std</th>\n",
       "      <td>408.922802</td>\n",
       "      <td>120.427367</td>\n",
       "      <td>1.001826</td>\n",
       "      <td>1.536742e+05</td>\n",
       "      <td>15.545431</td>\n",
       "      <td>17.629295</td>\n",
       "      <td>0.726922</td>\n",
       "    </tr>\n",
       "    <tr>\n",
       "      <th>min</th>\n",
       "      <td>17.000000</td>\n",
       "      <td>1.000000</td>\n",
       "      <td>1.600000</td>\n",
       "      <td>2.500500e+04</td>\n",
       "      <td>1902.000000</td>\n",
       "      <td>1861.000000</td>\n",
       "      <td>2.916709</td>\n",
       "    </tr>\n",
       "    <tr>\n",
       "      <th>25%</th>\n",
       "      <td>149.000000</td>\n",
       "      <td>93.000000</td>\n",
       "      <td>6.300000</td>\n",
       "      <td>3.969150e+04</td>\n",
       "      <td>1994.000000</td>\n",
       "      <td>1945.000000</td>\n",
       "      <td>6.454359</td>\n",
       "    </tr>\n",
       "    <tr>\n",
       "      <th>50%</th>\n",
       "      <td>245.000000</td>\n",
       "      <td>152.000000</td>\n",
       "      <td>6.900000</td>\n",
       "      <td>7.042600e+04</td>\n",
       "      <td>2004.000000</td>\n",
       "      <td>1958.000000</td>\n",
       "      <td>6.894178</td>\n",
       "    </tr>\n",
       "    <tr>\n",
       "      <th>75%</th>\n",
       "      <td>437.750000</td>\n",
       "      <td>232.000000</td>\n",
       "      <td>7.600000</td>\n",
       "      <td>1.438155e+05</td>\n",
       "      <td>2010.000000</td>\n",
       "      <td>1966.000000</td>\n",
       "      <td>7.367194</td>\n",
       "    </tr>\n",
       "    <tr>\n",
       "      <th>max</th>\n",
       "      <td>5075.000000</td>\n",
       "      <td>815.000000</td>\n",
       "      <td>10.000000</td>\n",
       "      <td>1.741951e+06</td>\n",
       "      <td>2016.000000</td>\n",
       "      <td>1989.000000</td>\n",
       "      <td>9.427223</td>\n",
       "    </tr>\n",
       "  </tbody>\n",
       "</table>\n",
       "</div>"
      ],
      "text/plain": [
       "       review_count_user  review_count_critic  rating_value  rating_count  \\\n",
       "count        3894.000000          3894.000000   3894.000000  3.894000e+03   \n",
       "mean          371.420904           179.094248      6.852414  1.248025e+05   \n",
       "std           408.922802           120.427367      1.001826  1.536742e+05   \n",
       "min            17.000000             1.000000      1.600000  2.500500e+04   \n",
       "25%           149.000000            93.000000      6.300000  3.969150e+04   \n",
       "50%           245.000000           152.000000      6.900000  7.042600e+04   \n",
       "75%           437.750000           232.000000      7.600000  1.438155e+05   \n",
       "max          5075.000000           815.000000     10.000000  1.741951e+06   \n",
       "\n",
       "        movie_year    birthYear  weighted_rank  \n",
       "count  3894.000000  3894.000000    3894.000000  \n",
       "mean   1999.181305  1953.839240       6.887837  \n",
       "std      15.545431    17.629295       0.726922  \n",
       "min    1902.000000  1861.000000       2.916709  \n",
       "25%    1994.000000  1945.000000       6.454359  \n",
       "50%    2004.000000  1958.000000       6.894178  \n",
       "75%    2010.000000  1966.000000       7.367194  \n",
       "max    2016.000000  1989.000000       9.427223  "
      ]
     },
     "execution_count": 155,
     "metadata": {},
     "output_type": "execute_result"
    }
   ],
   "source": [
    "movies_data.describe()"
   ]
  },
  {
   "cell_type": "code",
   "execution_count": 156,
   "metadata": {},
   "outputs": [
    {
     "data": {
      "text/plain": [
       "good         974\n",
       "poor         974\n",
       "excellent    973\n",
       "average      973\n",
       "Name: calc_score, dtype: int64"
      ]
     },
     "execution_count": 156,
     "metadata": {},
     "output_type": "execute_result"
    }
   ],
   "source": [
    "movies_data['calc_score'].value_counts()"
   ]
  },
  {
   "cell_type": "code",
   "execution_count": 157,
   "metadata": {},
   "outputs": [
    {
     "data": {
      "text/plain": [
       "<matplotlib.axes._subplots.AxesSubplot at 0x1c1525bb9e8>"
      ]
     },
     "execution_count": 157,
     "metadata": {},
     "output_type": "execute_result"
    },
    {
     "data": {
      "image/png": "[encoded data removed]",
      "text/plain": [
       "<Figure size 432x288 with 1 Axes>"
      ]
     },
     "metadata": {
      "needs_background": "light"
     },
     "output_type": "display_data"
    }
   ],
   "source": [
    "movies_data['calc_score'].value_counts().plot.bar()"
   ]
  },
  {
   "cell_type": "code",
   "execution_count": 158,
   "metadata": {},
   "outputs": [
    {
     "data": {
      "text/plain": [
       "Index(['review_count_user', 'review_count_critic', 'rating_value',\n",
       "       'rating_count', 'movie_year', 'birthYear', 'Gender', 'weighted_rank',\n",
       "       'calc_score'],\n",
       "      dtype='object')"
      ]
     },
     "execution_count": 158,
     "metadata": {},
     "output_type": "execute_result"
    }
   ],
   "source": [
    "movies_data.columns"
   ]
  },
  {
   "cell_type": "code",
   "execution_count": 159,
   "metadata": {},
   "outputs": [],
   "source": [
    "req_columns = ['review_count_user', 'review_count_critic', \n",
    "               'movie_year','birthYear','Gender','calc_score']\n",
    "# 'rating_value',\n",
    "# 'rating_value','rating_count','weighted_rank',"
   ]
  },
  {
   "cell_type": "code",
   "execution_count": 160,
   "metadata": {},
   "outputs": [],
   "source": [
    "movies_data = movies_data[req_columns]"
   ]
  },
  {
   "cell_type": "code",
   "execution_count": 161,
   "metadata": {},
   "outputs": [
    {
     "name": "stdout",
     "output_type": "stream",
     "text": [
      "<class 'pandas.core.frame.DataFrame'>\n",
      "Int64Index: 3894 entries, 258 to 318669\n",
      "Data columns (total 6 columns):\n",
      " #   Column               Non-Null Count  Dtype   \n",
      "---  ------               --------------  -----   \n",
      " 0   review_count_user    3894 non-null   int64   \n",
      " 1   review_count_critic  3894 non-null   int64   \n",
      " 2   movie_year           3894 non-null   int64   \n",
      " 3   birthYear            3894 non-null   int64   \n",
      " 4   Gender               3894 non-null   object  \n",
      " 5   calc_score           3894 non-null   category\n",
      "dtypes: category(1), int64(4), object(1)\n",
      "memory usage: 186.5+ KB\n"
     ]
    }
   ],
   "source": [
    "movies_data.info()"
   ]
  },
  {
   "cell_type": "code",
   "execution_count": 162,
   "metadata": {},
   "outputs": [
    {
     "name": "stderr",
     "output_type": "stream",
     "text": [
      "C:\\Users\\yuvar\\Anaconda3\\lib\\site-packages\\pandas\\core\\generic.py:5303: SettingWithCopyWarning: \n",
      "A value is trying to be set on a copy of a slice from a DataFrame.\n",
      "Try using .loc[row_indexer,col_indexer] = value instead\n",
      "\n",
      "See the caveats in the documentation: https://pandas.pydata.org/pandas-docs/stable/user_guide/indexing.html#returning-a-view-versus-a-copy\n",
      "  self[name] = value\n"
     ]
    }
   ],
   "source": [
    "movies_data.calc_score = movies_data.calc_score.astype(object)"
   ]
  },
  {
   "cell_type": "code",
   "execution_count": 163,
   "metadata": {},
   "outputs": [
    {
     "name": "stdout",
     "output_type": "stream",
     "text": [
      "<class 'pandas.core.frame.DataFrame'>\n",
      "Int64Index: 3894 entries, 258 to 318669\n",
      "Data columns (total 6 columns):\n",
      " #   Column               Non-Null Count  Dtype \n",
      "---  ------               --------------  ----- \n",
      " 0   review_count_user    3894 non-null   int64 \n",
      " 1   review_count_critic  3894 non-null   int64 \n",
      " 2   movie_year           3894 non-null   int64 \n",
      " 3   birthYear            3894 non-null   int64 \n",
      " 4   Gender               3894 non-null   object\n",
      " 5   calc_score           3894 non-null   object\n",
      "dtypes: int64(4), object(2)\n",
      "memory usage: 213.0+ KB\n"
     ]
    }
   ],
   "source": [
    "movies_data.info()"
   ]
  },
  {
   "cell_type": "code",
   "execution_count": 164,
   "metadata": {},
   "outputs": [],
   "source": [
    "# Generic function to equally split the dataframe with respect to the column Name, in our case the Gender column.\n",
    "\n",
    "def equal_split_on_columnName(nSampleEach, df,columnName='Gender'):\n",
    "    df1 = pd.DataFrame()\n",
    "    for i in df[columnName].value_counts().index:\n",
    "        df1 = df1.append(df[(df[columnName]==i)].sample(n=nSampleEach,replace = False))        \n",
    "    return df1.reset_index(drop=True)"
   ]
  },
  {
   "cell_type": "code",
   "execution_count": 165,
   "metadata": {},
   "outputs": [],
   "source": [
    "copy = movies_data.copy()"
   ]
  },
  {
   "cell_type": "code",
   "execution_count": 166,
   "metadata": {},
   "outputs": [],
   "source": [
    "# movies_data = copy.sample(n = 1000 , random_state = 42)\n",
    "# movies_data = equal_split_on_columnName(5000,movies_data)"
   ]
  },
  {
   "cell_type": "code",
   "execution_count": 167,
   "metadata": {
    "scrolled": true
   },
   "outputs": [
    {
     "data": {
      "text/html": [
       "<div>\n",
       "<style scoped>\n",
       "    .dataframe tbody tr th:only-of-type {\n",
       "        vertical-align: middle;\n",
       "    }\n",
       "\n",
       "    .dataframe tbody tr th {\n",
       "        vertical-align: top;\n",
       "    }\n",
       "\n",
       "    .dataframe thead th {\n",
       "        text-align: right;\n",
       "    }\n",
       "</style>\n",
       "<table border=\"1\" class=\"dataframe\">\n",
       "  <thead>\n",
       "    <tr style=\"text-align: right;\">\n",
       "      <th></th>\n",
       "      <th>review_count_user</th>\n",
       "      <th>review_count_critic</th>\n",
       "      <th>movie_year</th>\n",
       "      <th>birthYear</th>\n",
       "      <th>calc_score</th>\n",
       "      <th>Gender_Female</th>\n",
       "      <th>Gender_Male</th>\n",
       "    </tr>\n",
       "  </thead>\n",
       "  <tbody>\n",
       "    <tr>\n",
       "      <th>258</th>\n",
       "      <td>156</td>\n",
       "      <td>89</td>\n",
       "      <td>1902</td>\n",
       "      <td>1861</td>\n",
       "      <td>excellent</td>\n",
       "      <td>0</td>\n",
       "      <td>1</td>\n",
       "    </tr>\n",
       "    <tr>\n",
       "      <th>2163</th>\n",
       "      <td>200</td>\n",
       "      <td>168</td>\n",
       "      <td>1920</td>\n",
       "      <td>1873</td>\n",
       "      <td>excellent</td>\n",
       "      <td>0</td>\n",
       "      <td>1</td>\n",
       "    </tr>\n",
       "    <tr>\n",
       "      <th>2570</th>\n",
       "      <td>117</td>\n",
       "      <td>84</td>\n",
       "      <td>1921</td>\n",
       "      <td>1889</td>\n",
       "      <td>excellent</td>\n",
       "      <td>0</td>\n",
       "      <td>1</td>\n",
       "    </tr>\n",
       "    <tr>\n",
       "      <th>2797</th>\n",
       "      <td>365</td>\n",
       "      <td>240</td>\n",
       "      <td>1922</td>\n",
       "      <td>1888</td>\n",
       "      <td>excellent</td>\n",
       "      <td>0</td>\n",
       "      <td>1</td>\n",
       "    </tr>\n",
       "    <tr>\n",
       "      <th>3372</th>\n",
       "      <td>181</td>\n",
       "      <td>103</td>\n",
       "      <td>1925</td>\n",
       "      <td>1898</td>\n",
       "      <td>excellent</td>\n",
       "      <td>0</td>\n",
       "      <td>1</td>\n",
       "    </tr>\n",
       "    <tr>\n",
       "      <th>...</th>\n",
       "      <td>...</td>\n",
       "      <td>...</td>\n",
       "      <td>...</td>\n",
       "      <td>...</td>\n",
       "      <td>...</td>\n",
       "      <td>...</td>\n",
       "      <td>...</td>\n",
       "    </tr>\n",
       "    <tr>\n",
       "      <th>313559</th>\n",
       "      <td>112</td>\n",
       "      <td>275</td>\n",
       "      <td>2016</td>\n",
       "      <td>1935</td>\n",
       "      <td>average</td>\n",
       "      <td>0</td>\n",
       "      <td>1</td>\n",
       "    </tr>\n",
       "    <tr>\n",
       "      <th>315210</th>\n",
       "      <td>99</td>\n",
       "      <td>181</td>\n",
       "      <td>2016</td>\n",
       "      <td>1975</td>\n",
       "      <td>excellent</td>\n",
       "      <td>1</td>\n",
       "      <td>0</td>\n",
       "    </tr>\n",
       "    <tr>\n",
       "      <th>315670</th>\n",
       "      <td>43</td>\n",
       "      <td>23</td>\n",
       "      <td>2016</td>\n",
       "      <td>1952</td>\n",
       "      <td>poor</td>\n",
       "      <td>0</td>\n",
       "      <td>1</td>\n",
       "    </tr>\n",
       "    <tr>\n",
       "      <th>317510</th>\n",
       "      <td>144</td>\n",
       "      <td>139</td>\n",
       "      <td>2016</td>\n",
       "      <td>1978</td>\n",
       "      <td>average</td>\n",
       "      <td>0</td>\n",
       "      <td>1</td>\n",
       "    </tr>\n",
       "    <tr>\n",
       "      <th>318669</th>\n",
       "      <td>124</td>\n",
       "      <td>33</td>\n",
       "      <td>2016</td>\n",
       "      <td>1963</td>\n",
       "      <td>excellent</td>\n",
       "      <td>0</td>\n",
       "      <td>1</td>\n",
       "    </tr>\n",
       "  </tbody>\n",
       "</table>\n",
       "<p>3894 rows × 7 columns</p>\n",
       "</div>"
      ],
      "text/plain": [
       "        review_count_user  review_count_critic  movie_year  birthYear  \\\n",
       "258                   156                   89        1902       1861   \n",
       "2163                  200                  168        1920       1873   \n",
       "2570                  117                   84        1921       1889   \n",
       "2797                  365                  240        1922       1888   \n",
       "3372                  181                  103        1925       1898   \n",
       "...                   ...                  ...         ...        ...   \n",
       "313559                112                  275        2016       1935   \n",
       "315210                 99                  181        2016       1975   \n",
       "315670                 43                   23        2016       1952   \n",
       "317510                144                  139        2016       1978   \n",
       "318669                124                   33        2016       1963   \n",
       "\n",
       "       calc_score  Gender_Female  Gender_Male  \n",
       "258     excellent              0            1  \n",
       "2163    excellent              0            1  \n",
       "2570    excellent              0            1  \n",
       "2797    excellent              0            1  \n",
       "3372    excellent              0            1  \n",
       "...           ...            ...          ...  \n",
       "313559    average              0            1  \n",
       "315210  excellent              1            0  \n",
       "315670       poor              0            1  \n",
       "317510    average              0            1  \n",
       "318669  excellent              0            1  \n",
       "\n",
       "[3894 rows x 7 columns]"
      ]
     },
     "execution_count": 167,
     "metadata": {},
     "output_type": "execute_result"
    }
   ],
   "source": [
    "# one hot encoding of Gender\n",
    "movies_data = pd.concat([movies_data, pd.get_dummies(movies_data.Gender,prefix='Gender')],axis=1)\n",
    "movies_data.drop(['Gender'],axis=1, inplace=True)\n",
    "movies_data"
   ]
  },
  {
   "cell_type": "markdown",
   "metadata": {},
   "source": [
    "# Run SVM "
   ]
  },
  {
   "cell_type": "code",
   "execution_count": 168,
   "metadata": {},
   "outputs": [
    {
     "name": "stdout",
     "output_type": "stream",
     "text": [
      "Started Reading files at :2020-04-04 09:20:12\n"
     ]
    }
   ],
   "source": [
    "start = time.time()\n",
    "print(\"Started Reading files at :\" + str(datetime.utcfromtimestamp(start).strftime('%Y-%m-%d %H:%M:%S')))"
   ]
  },
  {
   "cell_type": "code",
   "execution_count": 169,
   "metadata": {},
   "outputs": [],
   "source": [
    "predictingFeature  =  ['calc_score']\n",
    "featuresSelected = movies_data.columns.to_list()\n",
    "featuresSelected.remove('calc_score')"
   ]
  },
  {
   "cell_type": "code",
   "execution_count": 170,
   "metadata": {},
   "outputs": [],
   "source": [
    "# divide the data into attributes and labels\n",
    "X = movies_data[featuresSelected]\n",
    "y = movies_data[predictingFeature]"
   ]
  },
  {
   "cell_type": "code",
   "execution_count": 171,
   "metadata": {},
   "outputs": [],
   "source": [
    "# Divide the data into training and test sets\n",
    "X_train, X_test, y_train, y_test = train_test_split(X, y, test_size=0.20)"
   ]
  },
  {
   "cell_type": "code",
   "execution_count": 172,
   "metadata": {},
   "outputs": [],
   "source": [
    "# Training the model\n",
    "# svclassifier = SVC(kernel='linear')\n",
    "# svclassifier = SVC(kernel='poly', degree=4)\n",
    "svclassifier = SVC(kernel='rbf',gamma='auto')\n",
    "# svclassifier = SVC(kernel='sigmoid')"
   ]
  },
  {
   "cell_type": "markdown",
   "metadata": {},
   "source": [
    "## Feature Selection"
   ]
  },
  {
   "cell_type": "code",
   "execution_count": 173,
   "metadata": {},
   "outputs": [
    {
     "name": "stderr",
     "output_type": "stream",
     "text": [
      "C:\\Users\\yuvar\\Anaconda3\\lib\\site-packages\\sklearn\\utils\\validation.py:760: DataConversionWarning: A column-vector y was passed when a 1d array was expected. Please change the shape of y to (n_samples, ), for example using ravel().\n",
      "  y = column_or_1d(y, warn=True)\n"
     ]
    },
    {
     "ename": "RuntimeError",
     "evalue": "The classifier does not expose \"coef_\" or \"feature_importances_\" attributes",
     "output_type": "error",
     "traceback": [
      "\u001b[1;31m---------------------------------------------------------------------------\u001b[0m",
      "\u001b[1;31mRuntimeError\u001b[0m                              Traceback (most recent call last)",
      "\u001b[1;32m<ipython-input-173-12ff6fd0ebd3>\u001b[0m in \u001b[0;36m<module>\u001b[1;34m\u001b[0m\n\u001b[0;32m      2\u001b[0m \u001b[1;33m\u001b[0m\u001b[0m\n\u001b[0;32m      3\u001b[0m \u001b[0mselector\u001b[0m \u001b[1;33m=\u001b[0m \u001b[0mRFE\u001b[0m\u001b[1;33m(\u001b[0m\u001b[0msvclassifier\u001b[0m\u001b[1;33m,\u001b[0m \u001b[1;36m4\u001b[0m\u001b[1;33m,\u001b[0m \u001b[0mstep\u001b[0m\u001b[1;33m=\u001b[0m\u001b[1;36m1\u001b[0m\u001b[1;33m)\u001b[0m\u001b[1;33m\u001b[0m\u001b[1;33m\u001b[0m\u001b[0m\n\u001b[1;32m----> 4\u001b[1;33m \u001b[0mselector\u001b[0m \u001b[1;33m=\u001b[0m \u001b[0mselector\u001b[0m\u001b[1;33m.\u001b[0m\u001b[0mfit\u001b[0m\u001b[1;33m(\u001b[0m\u001b[0mX\u001b[0m\u001b[1;33m,\u001b[0m \u001b[0my\u001b[0m\u001b[1;33m)\u001b[0m\u001b[1;33m\u001b[0m\u001b[1;33m\u001b[0m\u001b[0m\n\u001b[0m",
      "\u001b[1;32m~\\Anaconda3\\lib\\site-packages\\sklearn\\feature_selection\\_rfe.py\u001b[0m in \u001b[0;36mfit\u001b[1;34m(self, X, y)\u001b[0m\n\u001b[0;32m    147\u001b[0m             \u001b[0mThe\u001b[0m \u001b[0mtarget\u001b[0m \u001b[0mvalues\u001b[0m\u001b[1;33m.\u001b[0m\u001b[1;33m\u001b[0m\u001b[1;33m\u001b[0m\u001b[0m\n\u001b[0;32m    148\u001b[0m         \"\"\"\n\u001b[1;32m--> 149\u001b[1;33m         \u001b[1;32mreturn\u001b[0m \u001b[0mself\u001b[0m\u001b[1;33m.\u001b[0m\u001b[0m_fit\u001b[0m\u001b[1;33m(\u001b[0m\u001b[0mX\u001b[0m\u001b[1;33m,\u001b[0m \u001b[0my\u001b[0m\u001b[1;33m)\u001b[0m\u001b[1;33m\u001b[0m\u001b[1;33m\u001b[0m\u001b[0m\n\u001b[0m\u001b[0;32m    150\u001b[0m \u001b[1;33m\u001b[0m\u001b[0m\n\u001b[0;32m    151\u001b[0m     \u001b[1;32mdef\u001b[0m \u001b[0m_fit\u001b[0m\u001b[1;33m(\u001b[0m\u001b[0mself\u001b[0m\u001b[1;33m,\u001b[0m \u001b[0mX\u001b[0m\u001b[1;33m,\u001b[0m \u001b[0my\u001b[0m\u001b[1;33m,\u001b[0m \u001b[0mstep_score\u001b[0m\u001b[1;33m=\u001b[0m\u001b[1;32mNone\u001b[0m\u001b[1;33m)\u001b[0m\u001b[1;33m:\u001b[0m\u001b[1;33m\u001b[0m\u001b[1;33m\u001b[0m\u001b[0m\n",
      "\u001b[1;32m~\\Anaconda3\\lib\\site-packages\\sklearn\\feature_selection\\_rfe.py\u001b[0m in \u001b[0;36m_fit\u001b[1;34m(self, X, y, step_score)\u001b[0m\n\u001b[0;32m    196\u001b[0m                 \u001b[0mcoefs\u001b[0m \u001b[1;33m=\u001b[0m \u001b[0mgetattr\u001b[0m\u001b[1;33m(\u001b[0m\u001b[0mestimator\u001b[0m\u001b[1;33m,\u001b[0m \u001b[1;34m'feature_importances_'\u001b[0m\u001b[1;33m,\u001b[0m \u001b[1;32mNone\u001b[0m\u001b[1;33m)\u001b[0m\u001b[1;33m\u001b[0m\u001b[1;33m\u001b[0m\u001b[0m\n\u001b[0;32m    197\u001b[0m             \u001b[1;32mif\u001b[0m \u001b[0mcoefs\u001b[0m \u001b[1;32mis\u001b[0m \u001b[1;32mNone\u001b[0m\u001b[1;33m:\u001b[0m\u001b[1;33m\u001b[0m\u001b[1;33m\u001b[0m\u001b[0m\n\u001b[1;32m--> 198\u001b[1;33m                 raise RuntimeError('The classifier does not expose '\n\u001b[0m\u001b[0;32m    199\u001b[0m                                    \u001b[1;34m'\"coef_\" or \"feature_importances_\" '\u001b[0m\u001b[1;33m\u001b[0m\u001b[1;33m\u001b[0m\u001b[0m\n\u001b[0;32m    200\u001b[0m                                    'attributes')\n",
      "\u001b[1;31mRuntimeError\u001b[0m: The classifier does not expose \"coef_\" or \"feature_importances_\" attributes"
     ]
    }
   ],
   "source": [
    "from sklearn.feature_selection import RFE\n",
    "\n",
    "selector = RFE(svclassifier, 4, step=1)\n",
    "selector = selector.fit(X, y)"
   ]
  },
  {
   "cell_type": "code",
   "execution_count": null,
   "metadata": {},
   "outputs": [],
   "source": [
    "selector.support_"
   ]
  },
  {
   "cell_type": "code",
   "execution_count": 63,
   "metadata": {},
   "outputs": [
    {
     "data": {
      "text/plain": [
       "array([3, 2, 1, 1, 1, 1])"
      ]
     },
     "execution_count": 63,
     "metadata": {},
     "output_type": "execute_result"
    }
   ],
   "source": [
    "selector.ranking_"
   ]
  },
  {
   "cell_type": "markdown",
   "metadata": {},
   "source": [
    "Most important features"
   ]
  },
  {
   "cell_type": "code",
   "execution_count": 78,
   "metadata": {},
   "outputs": [
    {
     "name": "stdout",
     "output_type": "stream",
     "text": [
      "The most important features are : ['movie_year' 'birthYear' 'calc_score' 'Gender_Female']\n"
     ]
    }
   ],
   "source": [
    "imp_features = selector.get_support(1) #the most important features\n",
    "\n",
    "print(\"The most important features are :\",movies_data.columns[imp_features].values) # final features`"
   ]
  },
  {
   "cell_type": "code",
   "execution_count": 79,
   "metadata": {},
   "outputs": [],
   "source": [
    "movies_data = movies_data[movies_data.columns[imp_features]] # final features"
   ]
  },
  {
   "cell_type": "code",
   "execution_count": 64,
   "metadata": {},
   "outputs": [
    {
     "data": {
      "text/plain": [
       "0.305"
      ]
     },
     "execution_count": 64,
     "metadata": {},
     "output_type": "execute_result"
    }
   ],
   "source": [
    "selector.score(X_train,y_train)"
   ]
  },
  {
   "cell_type": "code",
   "execution_count": 65,
   "metadata": {},
   "outputs": [
    {
     "data": {
      "text/plain": [
       "0.335"
      ]
     },
     "execution_count": 65,
     "metadata": {},
     "output_type": "execute_result"
    }
   ],
   "source": [
    "selector.score(X_test,y_test)"
   ]
  },
  {
   "cell_type": "code",
   "execution_count": null,
   "metadata": {},
   "outputs": [],
   "source": []
  },
  {
   "cell_type": "markdown",
   "metadata": {},
   "source": [
    "## SVC fitting the model"
   ]
  },
  {
   "cell_type": "code",
   "execution_count": 174,
   "metadata": {},
   "outputs": [
    {
     "name": "stderr",
     "output_type": "stream",
     "text": [
      "C:\\Users\\yuvar\\Anaconda3\\lib\\site-packages\\sklearn\\utils\\validation.py:760: DataConversionWarning: A column-vector y was passed when a 1d array was expected. Please change the shape of y to (n_samples, ), for example using ravel().\n",
      "  y = column_or_1d(y, warn=True)\n"
     ]
    },
    {
     "data": {
      "text/plain": [
       "SVC(C=1.0, break_ties=False, cache_size=200, class_weight=None, coef0=0.0,\n",
       "    decision_function_shape='ovr', degree=3, gamma='auto', kernel='rbf',\n",
       "    max_iter=-1, probability=False, random_state=None, shrinking=True,\n",
       "    tol=0.001, verbose=False)"
      ]
     },
     "execution_count": 174,
     "metadata": {},
     "output_type": "execute_result"
    }
   ],
   "source": [
    "# Fit the model\n",
    "svclassifier.fit(X_train, y_train)"
   ]
  },
  {
   "cell_type": "code",
   "execution_count": 60,
   "metadata": {},
   "outputs": [
    {
     "data": {
      "text/plain": [
       "array([-0.00508068,  0.01207052, -0.02548879, -0.00776655,  0.0137065 ,\n",
       "       -0.0137065 ])"
      ]
     },
     "execution_count": 60,
     "metadata": {},
     "output_type": "execute_result"
    }
   ],
   "source": [
    "svclassifier.coef_[0]"
   ]
  },
  {
   "cell_type": "code",
   "execution_count": 46,
   "metadata": {},
   "outputs": [],
   "source": [
    "# # Accuracy including all features ( rating_value and rating_count and weighted_rank in Linear kernel)\n",
    "# Training accuracy : 82.0\n",
    "# Testing accuracy : 77.5"
   ]
  },
  {
   "cell_type": "code",
   "execution_count": 175,
   "metadata": {},
   "outputs": [
    {
     "name": "stdout",
     "output_type": "stream",
     "text": [
      "Training accuracy : 100.0\n"
     ]
    }
   ],
   "source": [
    "train_score_SVC = svclassifier.score(X_train, y_train)\n",
    "print(\"Training accuracy :\",train_score_SVC*100)"
   ]
  },
  {
   "cell_type": "code",
   "execution_count": 176,
   "metadata": {},
   "outputs": [
    {
     "name": "stdout",
     "output_type": "stream",
     "text": [
      "Testing accuracy : 29.781771501925547\n"
     ]
    }
   ],
   "source": [
    "test_score_SVC = svclassifier.score(X_test, y_test)\n",
    "print(\"Testing accuracy :\",test_score_SVC*100)"
   ]
  },
  {
   "cell_type": "code",
   "execution_count": 177,
   "metadata": {},
   "outputs": [],
   "source": [
    "# Prediction based on the model trained\n",
    "y_pred = svclassifier.predict(X_test)\n",
    "# tn, fp, fn, tp = confusion_matrix(y_test,y_pred).ravel()"
   ]
  },
  {
   "cell_type": "code",
   "execution_count": 178,
   "metadata": {},
   "outputs": [
    {
     "data": {
      "text/plain": [
       "array([[ 16,   5,   8, 172],\n",
       "       [  2,  13,   2, 180],\n",
       "       [  3,   2,  21, 164],\n",
       "       [  5,   2,   2, 182]], dtype=int64)"
      ]
     },
     "execution_count": 178,
     "metadata": {},
     "output_type": "execute_result"
    }
   ],
   "source": [
    "confusion_matrix(y_test,y_pred)"
   ]
  },
  {
   "cell_type": "code",
   "execution_count": 179,
   "metadata": {},
   "outputs": [
    {
     "name": "stdout",
     "output_type": "stream",
     "text": [
      "\n",
      "Classification Report\n",
      "\n",
      "              precision    recall  f1-score   support\n",
      "\n",
      "     average       0.62      0.08      0.14       201\n",
      "   excellent       0.59      0.07      0.12       197\n",
      "        good       0.64      0.11      0.19       190\n",
      "        poor       0.26      0.95      0.41       191\n",
      "\n",
      "    accuracy                           0.30       779\n",
      "   macro avg       0.53      0.30      0.21       779\n",
      "weighted avg       0.53      0.30      0.21       779\n",
      "\n"
     ]
    }
   ],
   "source": [
    "# Classification Report\n",
    "print(\"\\nClassification Report\\n\")\n",
    "print(classification_report(y_test, y_pred))"
   ]
  },
  {
   "cell_type": "code",
   "execution_count": 180,
   "metadata": {},
   "outputs": [
    {
     "data": {
      "text/plain": [
       "0.06899821496068337"
      ]
     },
     "execution_count": 180,
     "metadata": {},
     "output_type": "execute_result"
    }
   ],
   "source": [
    "from sklearn.metrics import cohen_kappa_score\n",
    "cohen_kappa_score(y_test, y_pred)"
   ]
  },
  {
   "cell_type": "code",
   "execution_count": null,
   "metadata": {},
   "outputs": [],
   "source": [
    "def print_feature_importances(coef, names, top=-1):\n",
    "    whole = []\n",
    "    imp = coef\n",
    "    imp,names = zip(*sorted(list(zip(imp, names)),reverse=True))\n",
    "    for i in range(len(names)):\n",
    "        string = \"{} :: {}\".format(str(names[i]),str(round(imp[i],3)))\n",
    "        whole.append(string)\n",
    "    return whole"
   ]
  },
  {
   "cell_type": "code",
   "execution_count": null,
   "metadata": {},
   "outputs": [],
   "source": [
    "# Feature importance based on contribution to the classifier model\n",
    "print(\"\\nAbsolute contributions\\n\")\n",
    "absoluteListOrder = print_feature_importances(abs(svclassifier.coef_[0]), featuresSelected)\n",
    "for j in absoluteListOrder:\n",
    "    print(j)"
   ]
  },
  {
   "cell_type": "code",
   "execution_count": null,
   "metadata": {},
   "outputs": [],
   "source": []
  },
  {
   "cell_type": "code",
   "execution_count": null,
   "metadata": {},
   "outputs": [],
   "source": [
    "# Stop timer\n",
    "end = time.time()"
   ]
  },
  {
   "cell_type": "code",
   "execution_count": null,
   "metadata": {},
   "outputs": [],
   "source": [
    "print(\"\\nStopped Reading files at :\" + str(datetime.utcfromtimestamp(end).strftime('%Y-%m-%d %H:%M:%S')))\n",
    "total_time = str(round((end - start)/60,2))\n",
    "print(\"Total time taken in minutes: \" + str((end - start)/60))"
   ]
  },
  {
   "cell_type": "code",
   "execution_count": null,
   "metadata": {},
   "outputs": [],
   "source": []
  },
  {
   "cell_type": "code",
   "execution_count": null,
   "metadata": {},
   "outputs": [],
   "source": []
  }
 ],
 "metadata": {
  "kernelspec": {
   "display_name": "Python 3",
   "language": "python",
   "name": "python3"
  },
  "language_info": {
   "codemirror_mode": {
    "name": "ipython",
    "version": 3
   },
   "file_extension": ".py",
   "mimetype": "text/x-python",
   "name": "python",
   "nbconvert_exporter": "python",
   "pygments_lexer": "ipython3",
   "version": "3.7.3"
  }
 },
 "nbformat": 4,
 "nbformat_minor": 2
}
