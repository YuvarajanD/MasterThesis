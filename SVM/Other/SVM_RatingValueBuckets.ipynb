{
 "cells": [
  {
   "cell_type": "code",
   "execution_count": 2,
   "metadata": {},
   "outputs": [],
   "source": [
    "import pandas as pd\n",
    "import numpy as np\n",
    "import re\n",
    "import string\n",
    "import time\n",
    "from datetime import datetime\n",
    "from datetime import date\n",
    "import os\n",
    "\n",
    "#Plotting\n",
    "%matplotlib inline\n",
    "import matplotlib as mpl\n",
    "import matplotlib.pyplot as plt\n",
    "import seaborn as sns\n",
    "\n",
    "# ML Libraries\n",
    "from sklearn import svm\n",
    "from sklearn.svm import SVC\n",
    "from sklearn.model_selection import train_test_split\n",
    "from sklearn.metrics import classification_report, confusion_matrix\n",
    "from sklearn.metrics import precision_recall_fscore_support\n",
    "from sklearn.metrics import auc\n",
    "from sklearn.metrics import roc_auc_score\n",
    "from sklearn.metrics import roc_curve\n",
    "from sklearn import metrics\n",
    "\n",
    "# Save model\n",
    "import pickle\n",
    "import joblib"
   ]
  },
  {
   "cell_type": "code",
   "execution_count": 3,
   "metadata": {},
   "outputs": [],
   "source": [
    "# fileLocation = 'C:\\\\Users\\\\VictorY\\\\Desktop\\\\TestData\\\\stage3FinalProcessedDF_Nov-17-2019.csv'\n",
    "moviesDataFileLocation = 'C:\\\\Yuva\\\\ITU\\\\4th Sem\\\\Thesis\\\\Data\\\\Final_Data_Movies_Directors.csv'\n",
    "saveFileToPath = \"C:\\\\Yuva\\\\ITU\\\\4th Sem\\\\Thesis\\\\Data\\\\\"\n",
    "\n",
    "movies_data = pd.read_csv(moviesDataFileLocation)"
   ]
  },
  {
   "cell_type": "code",
   "execution_count": 4,
   "metadata": {},
   "outputs": [
    {
     "data": {
      "text/html": [
       "<div>\n",
       "<style scoped>\n",
       "    .dataframe tbody tr th:only-of-type {\n",
       "        vertical-align: middle;\n",
       "    }\n",
       "\n",
       "    .dataframe tbody tr th {\n",
       "        vertical-align: top;\n",
       "    }\n",
       "\n",
       "    .dataframe thead th {\n",
       "        text-align: right;\n",
       "    }\n",
       "</style>\n",
       "<table border=\"1\" class=\"dataframe\">\n",
       "  <thead>\n",
       "    <tr style=\"text-align: right;\">\n",
       "      <th></th>\n",
       "      <th>director_ids</th>\n",
       "      <th>director_names</th>\n",
       "      <th>movie_id</th>\n",
       "      <th>title</th>\n",
       "      <th>review_count_user</th>\n",
       "      <th>review_count_critic</th>\n",
       "      <th>rating_value</th>\n",
       "      <th>rating_count</th>\n",
       "      <th>date_published</th>\n",
       "      <th>release_date</th>\n",
       "      <th>movie_year</th>\n",
       "      <th>birthYear</th>\n",
       "      <th>primaryProfession</th>\n",
       "      <th>knownForTitles</th>\n",
       "      <th>Gender</th>\n",
       "    </tr>\n",
       "  </thead>\n",
       "  <tbody>\n",
       "    <tr>\n",
       "      <th>0</th>\n",
       "      <td>nm0005690</td>\n",
       "      <td>William K.L. Dickson</td>\n",
       "      <td>tt0000001</td>\n",
       "      <td>Carmencita - spanyol tánc (1894) - IMDb</td>\n",
       "      <td>12</td>\n",
       "      <td>2</td>\n",
       "      <td>5.8</td>\n",
       "      <td>1255</td>\n",
       "      <td>1894-03-10</td>\n",
       "      <td>10 March 1894 (USA)    See more »</td>\n",
       "      <td>1894</td>\n",
       "      <td>1860</td>\n",
       "      <td>cinematographer,director,producer</td>\n",
       "      <td>tt0219560,tt6687694,tt1428455,tt1496763</td>\n",
       "      <td>Male</td>\n",
       "    </tr>\n",
       "    <tr>\n",
       "      <th>1</th>\n",
       "      <td>nm0721526</td>\n",
       "      <td>Émile Reynaud</td>\n",
       "      <td>tt0000002</td>\n",
       "      <td>A bohóc és kutyái (1892) - IMDb</td>\n",
       "      <td>0</td>\n",
       "      <td>0</td>\n",
       "      <td>6.5</td>\n",
       "      <td>148</td>\n",
       "      <td>1892-10-28</td>\n",
       "      <td>28 October 1892 (France)    See more »</td>\n",
       "      <td>1892</td>\n",
       "      <td>1844</td>\n",
       "      <td>director</td>\n",
       "      <td>tt2184231,tt0000003,tt2184201,tt0413219</td>\n",
       "      <td>Male</td>\n",
       "    </tr>\n",
       "    <tr>\n",
       "      <th>2</th>\n",
       "      <td>nm0721526</td>\n",
       "      <td>Émile Reynaud</td>\n",
       "      <td>tt0000003</td>\n",
       "      <td>Szegény Pierrot (1892) - IMDb</td>\n",
       "      <td>12</td>\n",
       "      <td>5</td>\n",
       "      <td>6.6</td>\n",
       "      <td>819</td>\n",
       "      <td>1892-10-28</td>\n",
       "      <td>28 October 1892 (France)    See more »</td>\n",
       "      <td>1892</td>\n",
       "      <td>1844</td>\n",
       "      <td>director</td>\n",
       "      <td>tt2184231,tt0000003,tt2184201,tt0413219</td>\n",
       "      <td>Male</td>\n",
       "    </tr>\n",
       "    <tr>\n",
       "      <th>3</th>\n",
       "      <td>nm0721526</td>\n",
       "      <td>Émile Reynaud</td>\n",
       "      <td>tt0000004</td>\n",
       "      <td>Egy jó pohár sör (1892) - IMDb</td>\n",
       "      <td>1</td>\n",
       "      <td>0</td>\n",
       "      <td>6.6</td>\n",
       "      <td>90</td>\n",
       "      <td>1892-10-28</td>\n",
       "      <td>28 October 1892 (France)    See more »</td>\n",
       "      <td>1892</td>\n",
       "      <td>1844</td>\n",
       "      <td>director</td>\n",
       "      <td>tt2184231,tt0000003,tt2184201,tt0413219</td>\n",
       "      <td>Male</td>\n",
       "    </tr>\n",
       "    <tr>\n",
       "      <th>4</th>\n",
       "      <td>nm0005690</td>\n",
       "      <td>William K.L. Dickson</td>\n",
       "      <td>tt0000005</td>\n",
       "      <td>A patkolókovács (1893) - IMDb</td>\n",
       "      <td>18</td>\n",
       "      <td>3</td>\n",
       "      <td>6.2</td>\n",
       "      <td>1499</td>\n",
       "      <td>1893-05-09</td>\n",
       "      <td>9 May 1893 (USA)    See more »</td>\n",
       "      <td>1893</td>\n",
       "      <td>1860</td>\n",
       "      <td>cinematographer,director,producer</td>\n",
       "      <td>tt0219560,tt6687694,tt1428455,tt1496763</td>\n",
       "      <td>Male</td>\n",
       "    </tr>\n",
       "    <tr>\n",
       "      <th>...</th>\n",
       "      <td>...</td>\n",
       "      <td>...</td>\n",
       "      <td>...</td>\n",
       "      <td>...</td>\n",
       "      <td>...</td>\n",
       "      <td>...</td>\n",
       "      <td>...</td>\n",
       "      <td>...</td>\n",
       "      <td>...</td>\n",
       "      <td>...</td>\n",
       "      <td>...</td>\n",
       "      <td>...</td>\n",
       "      <td>...</td>\n",
       "      <td>...</td>\n",
       "      <td>...</td>\n",
       "    </tr>\n",
       "    <tr>\n",
       "      <th>325370</th>\n",
       "      <td>nm0267512</td>\n",
       "      <td>Valerie Faris</td>\n",
       "      <td>tt6720730</td>\n",
       "      <td>Red Hot Chili Peppers: Californication (Video ...</td>\n",
       "      <td>0</td>\n",
       "      <td>0</td>\n",
       "      <td>7.3</td>\n",
       "      <td>10</td>\n",
       "      <td>2000-06-05</td>\n",
       "      <td>5 June 2000 (USA)    See more »</td>\n",
       "      <td>2000</td>\n",
       "      <td>1958</td>\n",
       "      <td>director,producer,writer</td>\n",
       "      <td>tt4648296,tt0449059,tt1839492,tt4622512</td>\n",
       "      <td>Female</td>\n",
       "    </tr>\n",
       "    <tr>\n",
       "      <th>325371</th>\n",
       "      <td>nm1982597</td>\n",
       "      <td>Rihanna</td>\n",
       "      <td>tt6723088</td>\n",
       "      <td>Rihanna: Disturbia (Video 2008) - IMDb</td>\n",
       "      <td>0</td>\n",
       "      <td>0</td>\n",
       "      <td>6.6</td>\n",
       "      <td>14</td>\n",
       "      <td>2008-07-22</td>\n",
       "      <td>22 July 2008 (USA)    See more »</td>\n",
       "      <td>2008</td>\n",
       "      <td>1988</td>\n",
       "      <td>soundtrack,actress,composer</td>\n",
       "      <td>tt1440129,tt2239822,tt1245492,tt2224026</td>\n",
       "      <td>Female</td>\n",
       "    </tr>\n",
       "    <tr>\n",
       "      <th>325372</th>\n",
       "      <td>nm0000005</td>\n",
       "      <td>Ingmar Bergman</td>\n",
       "      <td>tt6725014</td>\n",
       "      <td>Scenes from a Marriage: Theatrical Version (19...</td>\n",
       "      <td>0</td>\n",
       "      <td>0</td>\n",
       "      <td>7.8</td>\n",
       "      <td>30</td>\n",
       "      <td>1974-09-21</td>\n",
       "      <td>21 September 1974 (USA)    See more »</td>\n",
       "      <td>1974</td>\n",
       "      <td>1918</td>\n",
       "      <td>writer,director,actor</td>\n",
       "      <td>tt0083922,tt0069467,tt0050986,tt0050976</td>\n",
       "      <td>Male</td>\n",
       "    </tr>\n",
       "    <tr>\n",
       "      <th>325373</th>\n",
       "      <td>nm8895714</td>\n",
       "      <td>Grant Bullert</td>\n",
       "      <td>tt6732168</td>\n",
       "      <td>In the Dark (2016) - IMDb</td>\n",
       "      <td>0</td>\n",
       "      <td>0</td>\n",
       "      <td>5.0</td>\n",
       "      <td>6</td>\n",
       "      <td>None</td>\n",
       "      <td>None</td>\n",
       "      <td>2016</td>\n",
       "      <td>1996</td>\n",
       "      <td>writer,cinematographer,producer</td>\n",
       "      <td>tt7440708,tt6732168,tt8400134,tt7924700</td>\n",
       "      <td>Male</td>\n",
       "    </tr>\n",
       "    <tr>\n",
       "      <th>325374</th>\n",
       "      <td>nm1183471</td>\n",
       "      <td>Mariano Llinás</td>\n",
       "      <td>tt6753894</td>\n",
       "      <td>La Flor: Primera Parte (2016) - IMDb</td>\n",
       "      <td>0</td>\n",
       "      <td>0</td>\n",
       "      <td>7.8</td>\n",
       "      <td>9</td>\n",
       "      <td>2016-11-23</td>\n",
       "      <td>23 November 2016 (Argentina)    See more »</td>\n",
       "      <td>2016</td>\n",
       "      <td>1975</td>\n",
       "      <td>writer,producer,director</td>\n",
       "      <td>tt9047474,tt0319031,tt1225831,tt3784222</td>\n",
       "      <td>Male</td>\n",
       "    </tr>\n",
       "  </tbody>\n",
       "</table>\n",
       "<p>325375 rows × 15 columns</p>\n",
       "</div>"
      ],
      "text/plain": [
       "       director_ids        director_names   movie_id  \\\n",
       "0         nm0005690  William K.L. Dickson  tt0000001   \n",
       "1         nm0721526         Émile Reynaud  tt0000002   \n",
       "2         nm0721526         Émile Reynaud  tt0000003   \n",
       "3         nm0721526         Émile Reynaud  tt0000004   \n",
       "4         nm0005690  William K.L. Dickson  tt0000005   \n",
       "...             ...                   ...        ...   \n",
       "325370    nm0267512         Valerie Faris  tt6720730   \n",
       "325371    nm1982597               Rihanna  tt6723088   \n",
       "325372    nm0000005        Ingmar Bergman  tt6725014   \n",
       "325373    nm8895714         Grant Bullert  tt6732168   \n",
       "325374    nm1183471        Mariano Llinás  tt6753894   \n",
       "\n",
       "                                                    title  review_count_user  \\\n",
       "0                 Carmencita - spanyol tánc (1894) - IMDb                 12   \n",
       "1                         A bohóc és kutyái (1892) - IMDb                  0   \n",
       "2                           Szegény Pierrot (1892) - IMDb                 12   \n",
       "3                          Egy jó pohár sör (1892) - IMDb                  1   \n",
       "4                           A patkolókovács (1893) - IMDb                 18   \n",
       "...                                                   ...                ...   \n",
       "325370  Red Hot Chili Peppers: Californication (Video ...                  0   \n",
       "325371             Rihanna: Disturbia (Video 2008) - IMDb                  0   \n",
       "325372  Scenes from a Marriage: Theatrical Version (19...                  0   \n",
       "325373                          In the Dark (2016) - IMDb                  0   \n",
       "325374               La Flor: Primera Parte (2016) - IMDb                  0   \n",
       "\n",
       "        review_count_critic  rating_value  rating_count date_published  \\\n",
       "0                         2           5.8          1255     1894-03-10   \n",
       "1                         0           6.5           148     1892-10-28   \n",
       "2                         5           6.6           819     1892-10-28   \n",
       "3                         0           6.6            90     1892-10-28   \n",
       "4                         3           6.2          1499     1893-05-09   \n",
       "...                     ...           ...           ...            ...   \n",
       "325370                    0           7.3            10     2000-06-05   \n",
       "325371                    0           6.6            14     2008-07-22   \n",
       "325372                    0           7.8            30     1974-09-21   \n",
       "325373                    0           5.0             6           None   \n",
       "325374                    0           7.8             9     2016-11-23   \n",
       "\n",
       "                                       release_date  movie_year  birthYear  \\\n",
       "0                 10 March 1894 (USA)    See more »        1894       1860   \n",
       "1            28 October 1892 (France)    See more »        1892       1844   \n",
       "2            28 October 1892 (France)    See more »        1892       1844   \n",
       "3            28 October 1892 (France)    See more »        1892       1844   \n",
       "4                    9 May 1893 (USA)    See more »        1893       1860   \n",
       "...                                             ...         ...        ...   \n",
       "325370              5 June 2000 (USA)    See more »        2000       1958   \n",
       "325371             22 July 2008 (USA)    See more »        2008       1988   \n",
       "325372        21 September 1974 (USA)    See more »        1974       1918   \n",
       "325373                                         None        2016       1996   \n",
       "325374   23 November 2016 (Argentina)    See more »        2016       1975   \n",
       "\n",
       "                        primaryProfession  \\\n",
       "0       cinematographer,director,producer   \n",
       "1                                director   \n",
       "2                                director   \n",
       "3                                director   \n",
       "4       cinematographer,director,producer   \n",
       "...                                   ...   \n",
       "325370           director,producer,writer   \n",
       "325371        soundtrack,actress,composer   \n",
       "325372              writer,director,actor   \n",
       "325373    writer,cinematographer,producer   \n",
       "325374           writer,producer,director   \n",
       "\n",
       "                                 knownForTitles  Gender  \n",
       "0       tt0219560,tt6687694,tt1428455,tt1496763    Male  \n",
       "1       tt2184231,tt0000003,tt2184201,tt0413219    Male  \n",
       "2       tt2184231,tt0000003,tt2184201,tt0413219    Male  \n",
       "3       tt2184231,tt0000003,tt2184201,tt0413219    Male  \n",
       "4       tt0219560,tt6687694,tt1428455,tt1496763    Male  \n",
       "...                                         ...     ...  \n",
       "325370  tt4648296,tt0449059,tt1839492,tt4622512  Female  \n",
       "325371  tt1440129,tt2239822,tt1245492,tt2224026  Female  \n",
       "325372  tt0083922,tt0069467,tt0050986,tt0050976    Male  \n",
       "325373  tt7440708,tt6732168,tt8400134,tt7924700    Male  \n",
       "325374  tt9047474,tt0319031,tt1225831,tt3784222    Male  \n",
       "\n",
       "[325375 rows x 15 columns]"
      ]
     },
     "execution_count": 4,
     "metadata": {},
     "output_type": "execute_result"
    }
   ],
   "source": [
    "movies_data"
   ]
  },
  {
   "cell_type": "code",
   "execution_count": 5,
   "metadata": {},
   "outputs": [
    {
     "data": {
      "text/html": [
       "<div>\n",
       "<style scoped>\n",
       "    .dataframe tbody tr th:only-of-type {\n",
       "        vertical-align: middle;\n",
       "    }\n",
       "\n",
       "    .dataframe tbody tr th {\n",
       "        vertical-align: top;\n",
       "    }\n",
       "\n",
       "    .dataframe thead th {\n",
       "        text-align: right;\n",
       "    }\n",
       "</style>\n",
       "<table border=\"1\" class=\"dataframe\">\n",
       "  <thead>\n",
       "    <tr style=\"text-align: right;\">\n",
       "      <th></th>\n",
       "      <th>review_count_user</th>\n",
       "      <th>review_count_critic</th>\n",
       "      <th>rating_value</th>\n",
       "      <th>rating_count</th>\n",
       "      <th>movie_year</th>\n",
       "      <th>birthYear</th>\n",
       "    </tr>\n",
       "  </thead>\n",
       "  <tbody>\n",
       "    <tr>\n",
       "      <th>count</th>\n",
       "      <td>325375.000000</td>\n",
       "      <td>325375.000000</td>\n",
       "      <td>325375.000000</td>\n",
       "      <td>3.253750e+05</td>\n",
       "      <td>325375.000000</td>\n",
       "      <td>325375.000000</td>\n",
       "    </tr>\n",
       "    <tr>\n",
       "      <th>mean</th>\n",
       "      <td>8.148693</td>\n",
       "      <td>4.953085</td>\n",
       "      <td>6.836027</td>\n",
       "      <td>1.865055e+03</td>\n",
       "      <td>1985.417269</td>\n",
       "      <td>1941.103139</td>\n",
       "    </tr>\n",
       "    <tr>\n",
       "      <th>std</th>\n",
       "      <td>61.496919</td>\n",
       "      <td>25.882580</td>\n",
       "      <td>1.302666</td>\n",
       "      <td>2.163975e+04</td>\n",
       "      <td>25.184835</td>\n",
       "      <td>27.455184</td>\n",
       "    </tr>\n",
       "    <tr>\n",
       "      <th>min</th>\n",
       "      <td>0.000000</td>\n",
       "      <td>0.000000</td>\n",
       "      <td>1.000000</td>\n",
       "      <td>5.000000e+00</td>\n",
       "      <td>1887.000000</td>\n",
       "      <td>6.000000</td>\n",
       "    </tr>\n",
       "    <tr>\n",
       "      <th>25%</th>\n",
       "      <td>0.000000</td>\n",
       "      <td>0.000000</td>\n",
       "      <td>6.100000</td>\n",
       "      <td>1.100000e+01</td>\n",
       "      <td>1968.000000</td>\n",
       "      <td>1922.000000</td>\n",
       "    </tr>\n",
       "    <tr>\n",
       "      <th>50%</th>\n",
       "      <td>0.000000</td>\n",
       "      <td>0.000000</td>\n",
       "      <td>7.000000</td>\n",
       "      <td>3.000000e+01</td>\n",
       "      <td>1992.000000</td>\n",
       "      <td>1944.000000</td>\n",
       "    </tr>\n",
       "    <tr>\n",
       "      <th>75%</th>\n",
       "      <td>2.000000</td>\n",
       "      <td>1.000000</td>\n",
       "      <td>7.800000</td>\n",
       "      <td>1.270000e+02</td>\n",
       "      <td>2007.000000</td>\n",
       "      <td>1963.000000</td>\n",
       "    </tr>\n",
       "    <tr>\n",
       "      <th>max</th>\n",
       "      <td>5075.000000</td>\n",
       "      <td>815.000000</td>\n",
       "      <td>10.000000</td>\n",
       "      <td>1.741951e+06</td>\n",
       "      <td>2017.000000</td>\n",
       "      <td>2004.000000</td>\n",
       "    </tr>\n",
       "  </tbody>\n",
       "</table>\n",
       "</div>"
      ],
      "text/plain": [
       "       review_count_user  review_count_critic   rating_value  rating_count  \\\n",
       "count      325375.000000        325375.000000  325375.000000  3.253750e+05   \n",
       "mean            8.148693             4.953085       6.836027  1.865055e+03   \n",
       "std            61.496919            25.882580       1.302666  2.163975e+04   \n",
       "min             0.000000             0.000000       1.000000  5.000000e+00   \n",
       "25%             0.000000             0.000000       6.100000  1.100000e+01   \n",
       "50%             0.000000             0.000000       7.000000  3.000000e+01   \n",
       "75%             2.000000             1.000000       7.800000  1.270000e+02   \n",
       "max          5075.000000           815.000000      10.000000  1.741951e+06   \n",
       "\n",
       "          movie_year      birthYear  \n",
       "count  325375.000000  325375.000000  \n",
       "mean     1985.417269    1941.103139  \n",
       "std        25.184835      27.455184  \n",
       "min      1887.000000       6.000000  \n",
       "25%      1968.000000    1922.000000  \n",
       "50%      1992.000000    1944.000000  \n",
       "75%      2007.000000    1963.000000  \n",
       "max      2017.000000    2004.000000  "
      ]
     },
     "execution_count": 5,
     "metadata": {},
     "output_type": "execute_result"
    }
   ],
   "source": [
    "movies_data.describe()"
   ]
  },
  {
   "cell_type": "code",
   "execution_count": 6,
   "metadata": {},
   "outputs": [
    {
     "name": "stdout",
     "output_type": "stream",
     "text": [
      "Index(['poor', 'average', 'good', 'excellent'], dtype='object')\n"
     ]
    }
   ],
   "source": [
    "# Quartile cut into 4 different buckets\n",
    "\n",
    "bin_quartiles = ['poor','average','good','excellent']\n",
    "cutIntoQuartiles = pd.qcut(movies_data['rating_value'].to_list(), q=4,labels=bin_quartiles)\n",
    "\n",
    "# Print the quartile range for visuals\n",
    "print(cutIntoQuartiles.categories)\n",
    "\n",
    "# Add the data to the dataframe\n",
    "movies_data['calc_score'] = cutIntoQuartiles"
   ]
  },
  {
   "cell_type": "code",
   "execution_count": 7,
   "metadata": {},
   "outputs": [
    {
     "data": {
      "text/html": [
       "<div>\n",
       "<style scoped>\n",
       "    .dataframe tbody tr th:only-of-type {\n",
       "        vertical-align: middle;\n",
       "    }\n",
       "\n",
       "    .dataframe tbody tr th {\n",
       "        vertical-align: top;\n",
       "    }\n",
       "\n",
       "    .dataframe thead th {\n",
       "        text-align: right;\n",
       "    }\n",
       "</style>\n",
       "<table border=\"1\" class=\"dataframe\">\n",
       "  <thead>\n",
       "    <tr style=\"text-align: right;\">\n",
       "      <th></th>\n",
       "      <th>review_count_user</th>\n",
       "      <th>review_count_critic</th>\n",
       "      <th>rating_value</th>\n",
       "      <th>rating_count</th>\n",
       "      <th>movie_year</th>\n",
       "      <th>birthYear</th>\n",
       "    </tr>\n",
       "  </thead>\n",
       "  <tbody>\n",
       "    <tr>\n",
       "      <th>count</th>\n",
       "      <td>325375.000000</td>\n",
       "      <td>325375.000000</td>\n",
       "      <td>325375.000000</td>\n",
       "      <td>3.253750e+05</td>\n",
       "      <td>325375.000000</td>\n",
       "      <td>325375.000000</td>\n",
       "    </tr>\n",
       "    <tr>\n",
       "      <th>mean</th>\n",
       "      <td>8.148693</td>\n",
       "      <td>4.953085</td>\n",
       "      <td>6.836027</td>\n",
       "      <td>1.865055e+03</td>\n",
       "      <td>1985.417269</td>\n",
       "      <td>1941.103139</td>\n",
       "    </tr>\n",
       "    <tr>\n",
       "      <th>std</th>\n",
       "      <td>61.496919</td>\n",
       "      <td>25.882580</td>\n",
       "      <td>1.302666</td>\n",
       "      <td>2.163975e+04</td>\n",
       "      <td>25.184835</td>\n",
       "      <td>27.455184</td>\n",
       "    </tr>\n",
       "    <tr>\n",
       "      <th>min</th>\n",
       "      <td>0.000000</td>\n",
       "      <td>0.000000</td>\n",
       "      <td>1.000000</td>\n",
       "      <td>5.000000e+00</td>\n",
       "      <td>1887.000000</td>\n",
       "      <td>6.000000</td>\n",
       "    </tr>\n",
       "    <tr>\n",
       "      <th>25%</th>\n",
       "      <td>0.000000</td>\n",
       "      <td>0.000000</td>\n",
       "      <td>6.100000</td>\n",
       "      <td>1.100000e+01</td>\n",
       "      <td>1968.000000</td>\n",
       "      <td>1922.000000</td>\n",
       "    </tr>\n",
       "    <tr>\n",
       "      <th>50%</th>\n",
       "      <td>0.000000</td>\n",
       "      <td>0.000000</td>\n",
       "      <td>7.000000</td>\n",
       "      <td>3.000000e+01</td>\n",
       "      <td>1992.000000</td>\n",
       "      <td>1944.000000</td>\n",
       "    </tr>\n",
       "    <tr>\n",
       "      <th>75%</th>\n",
       "      <td>2.000000</td>\n",
       "      <td>1.000000</td>\n",
       "      <td>7.800000</td>\n",
       "      <td>1.270000e+02</td>\n",
       "      <td>2007.000000</td>\n",
       "      <td>1963.000000</td>\n",
       "    </tr>\n",
       "    <tr>\n",
       "      <th>max</th>\n",
       "      <td>5075.000000</td>\n",
       "      <td>815.000000</td>\n",
       "      <td>10.000000</td>\n",
       "      <td>1.741951e+06</td>\n",
       "      <td>2017.000000</td>\n",
       "      <td>2004.000000</td>\n",
       "    </tr>\n",
       "  </tbody>\n",
       "</table>\n",
       "</div>"
      ],
      "text/plain": [
       "       review_count_user  review_count_critic   rating_value  rating_count  \\\n",
       "count      325375.000000        325375.000000  325375.000000  3.253750e+05   \n",
       "mean            8.148693             4.953085       6.836027  1.865055e+03   \n",
       "std            61.496919            25.882580       1.302666  2.163975e+04   \n",
       "min             0.000000             0.000000       1.000000  5.000000e+00   \n",
       "25%             0.000000             0.000000       6.100000  1.100000e+01   \n",
       "50%             0.000000             0.000000       7.000000  3.000000e+01   \n",
       "75%             2.000000             1.000000       7.800000  1.270000e+02   \n",
       "max          5075.000000           815.000000      10.000000  1.741951e+06   \n",
       "\n",
       "          movie_year      birthYear  \n",
       "count  325375.000000  325375.000000  \n",
       "mean     1985.417269    1941.103139  \n",
       "std        25.184835      27.455184  \n",
       "min      1887.000000       6.000000  \n",
       "25%      1968.000000    1922.000000  \n",
       "50%      1992.000000    1944.000000  \n",
       "75%      2007.000000    1963.000000  \n",
       "max      2017.000000    2004.000000  "
      ]
     },
     "execution_count": 7,
     "metadata": {},
     "output_type": "execute_result"
    }
   ],
   "source": [
    "movies_data.describe()"
   ]
  },
  {
   "cell_type": "code",
   "execution_count": 8,
   "metadata": {},
   "outputs": [
    {
     "data": {
      "text/plain": [
       "good         85868\n",
       "poor         85353\n",
       "average      82925\n",
       "excellent    71229\n",
       "Name: calc_score, dtype: int64"
      ]
     },
     "execution_count": 8,
     "metadata": {},
     "output_type": "execute_result"
    }
   ],
   "source": [
    "movies_data['calc_score'].value_counts()"
   ]
  },
  {
   "cell_type": "code",
   "execution_count": 9,
   "metadata": {},
   "outputs": [
    {
     "data": {
      "text/plain": [
       "<matplotlib.axes._subplots.AxesSubplot at 0x1b42657b588>"
      ]
     },
     "execution_count": 9,
     "metadata": {},
     "output_type": "execute_result"
    },
    {
     "data": {
      "image/png": "[encoded data removed]",
      "text/plain": [
       "<Figure size 432x288 with 1 Axes>"
      ]
     },
     "metadata": {
      "needs_background": "light"
     },
     "output_type": "display_data"
    }
   ],
   "source": [
    "movies_data['calc_score'].value_counts().plot.bar()"
   ]
  },
  {
   "cell_type": "code",
   "execution_count": 10,
   "metadata": {},
   "outputs": [
    {
     "data": {
      "text/plain": [
       "Index(['director_ids', 'director_names', 'movie_id', 'title',\n",
       "       'review_count_user', 'review_count_critic', 'rating_value',\n",
       "       'rating_count', 'date_published', 'release_date', 'movie_year',\n",
       "       'birthYear', 'primaryProfession', 'knownForTitles', 'Gender',\n",
       "       'calc_score'],\n",
       "      dtype='object')"
      ]
     },
     "execution_count": 10,
     "metadata": {},
     "output_type": "execute_result"
    }
   ],
   "source": [
    "movies_data.columns"
   ]
  },
  {
   "cell_type": "code",
   "execution_count": 11,
   "metadata": {},
   "outputs": [],
   "source": [
    "req_columns = ['review_count_user', 'review_count_critic', \n",
    "               'rating_count','movie_year','birthYear','Gender','calc_score']\n",
    "# 'rating_value',"
   ]
  },
  {
   "cell_type": "code",
   "execution_count": 12,
   "metadata": {},
   "outputs": [],
   "source": [
    "movies_data = movies_data[req_columns]"
   ]
  },
  {
   "cell_type": "code",
   "execution_count": 13,
   "metadata": {},
   "outputs": [
    {
     "name": "stdout",
     "output_type": "stream",
     "text": [
      "<class 'pandas.core.frame.DataFrame'>\n",
      "RangeIndex: 325375 entries, 0 to 325374\n",
      "Data columns (total 7 columns):\n",
      " #   Column               Non-Null Count   Dtype   \n",
      "---  ------               --------------   -----   \n",
      " 0   review_count_user    325375 non-null  int64   \n",
      " 1   review_count_critic  325375 non-null  int64   \n",
      " 2   rating_count         325375 non-null  int64   \n",
      " 3   movie_year           325375 non-null  int64   \n",
      " 4   birthYear            325375 non-null  int64   \n",
      " 5   Gender               325375 non-null  object  \n",
      " 6   calc_score           325375 non-null  category\n",
      "dtypes: category(1), int64(5), object(1)\n",
      "memory usage: 15.2+ MB\n"
     ]
    }
   ],
   "source": [
    "movies_data.info()"
   ]
  },
  {
   "cell_type": "code",
   "execution_count": 14,
   "metadata": {},
   "outputs": [
    {
     "name": "stderr",
     "output_type": "stream",
     "text": [
      "C:\\Users\\yuvar\\Anaconda3\\lib\\site-packages\\pandas\\core\\generic.py:5303: SettingWithCopyWarning: \n",
      "A value is trying to be set on a copy of a slice from a DataFrame.\n",
      "Try using .loc[row_indexer,col_indexer] = value instead\n",
      "\n",
      "See the caveats in the documentation: https://pandas.pydata.org/pandas-docs/stable/user_guide/indexing.html#returning-a-view-versus-a-copy\n",
      "  self[name] = value\n"
     ]
    }
   ],
   "source": [
    "movies_data.calc_score = movies_data.calc_score.astype(object)"
   ]
  },
  {
   "cell_type": "code",
   "execution_count": 15,
   "metadata": {},
   "outputs": [
    {
     "name": "stdout",
     "output_type": "stream",
     "text": [
      "<class 'pandas.core.frame.DataFrame'>\n",
      "RangeIndex: 325375 entries, 0 to 325374\n",
      "Data columns (total 7 columns):\n",
      " #   Column               Non-Null Count   Dtype \n",
      "---  ------               --------------   ----- \n",
      " 0   review_count_user    325375 non-null  int64 \n",
      " 1   review_count_critic  325375 non-null  int64 \n",
      " 2   rating_count         325375 non-null  int64 \n",
      " 3   movie_year           325375 non-null  int64 \n",
      " 4   birthYear            325375 non-null  int64 \n",
      " 5   Gender               325375 non-null  object\n",
      " 6   calc_score           325375 non-null  object\n",
      "dtypes: int64(5), object(2)\n",
      "memory usage: 17.4+ MB\n"
     ]
    }
   ],
   "source": [
    "movies_data.info()"
   ]
  },
  {
   "cell_type": "code",
   "execution_count": 16,
   "metadata": {},
   "outputs": [],
   "source": [
    "# Generic function to equally split the dataframe with respect to the column Name, in our case the Gender column.\n",
    "\n",
    "def equal_split_on_columnName(nSampleEach, df,columnName='Gender'):\n",
    "    df1 = pd.DataFrame()\n",
    "    for i in df[columnName].value_counts().index:\n",
    "        df1 = df1.append(df[(df[columnName]==i)].sample(n=nSampleEach,replace = False))        \n",
    "    return df1.reset_index(drop=True)"
   ]
  },
  {
   "cell_type": "code",
   "execution_count": 17,
   "metadata": {},
   "outputs": [],
   "source": [
    "copy = movies_data.copy()"
   ]
  },
  {
   "cell_type": "code",
   "execution_count": 18,
   "metadata": {},
   "outputs": [],
   "source": [
    "movies_data = copy.sample(n = 1000 , random_state = 42)\n",
    "# movies_data = equal_split_on_columnName(5000,movies_data)"
   ]
  },
  {
   "cell_type": "code",
   "execution_count": 19,
   "metadata": {
    "scrolled": true
   },
   "outputs": [
    {
     "data": {
      "text/html": [
       "<div>\n",
       "<style scoped>\n",
       "    .dataframe tbody tr th:only-of-type {\n",
       "        vertical-align: middle;\n",
       "    }\n",
       "\n",
       "    .dataframe tbody tr th {\n",
       "        vertical-align: top;\n",
       "    }\n",
       "\n",
       "    .dataframe thead th {\n",
       "        text-align: right;\n",
       "    }\n",
       "</style>\n",
       "<table border=\"1\" class=\"dataframe\">\n",
       "  <thead>\n",
       "    <tr style=\"text-align: right;\">\n",
       "      <th></th>\n",
       "      <th>review_count_user</th>\n",
       "      <th>review_count_critic</th>\n",
       "      <th>rating_count</th>\n",
       "      <th>movie_year</th>\n",
       "      <th>birthYear</th>\n",
       "      <th>calc_score</th>\n",
       "      <th>Gender_Female</th>\n",
       "      <th>Gender_Male</th>\n",
       "    </tr>\n",
       "  </thead>\n",
       "  <tbody>\n",
       "    <tr>\n",
       "      <th>313389</th>\n",
       "      <td>0</td>\n",
       "      <td>0</td>\n",
       "      <td>47</td>\n",
       "      <td>2015</td>\n",
       "      <td>1981</td>\n",
       "      <td>average</td>\n",
       "      <td>0</td>\n",
       "      <td>1</td>\n",
       "    </tr>\n",
       "    <tr>\n",
       "      <th>180746</th>\n",
       "      <td>2</td>\n",
       "      <td>1</td>\n",
       "      <td>71</td>\n",
       "      <td>1966</td>\n",
       "      <td>1909</td>\n",
       "      <td>good</td>\n",
       "      <td>0</td>\n",
       "      <td>1</td>\n",
       "    </tr>\n",
       "    <tr>\n",
       "      <th>268360</th>\n",
       "      <td>0</td>\n",
       "      <td>0</td>\n",
       "      <td>12</td>\n",
       "      <td>2010</td>\n",
       "      <td>1973</td>\n",
       "      <td>average</td>\n",
       "      <td>1</td>\n",
       "      <td>0</td>\n",
       "    </tr>\n",
       "    <tr>\n",
       "      <th>89122</th>\n",
       "      <td>0</td>\n",
       "      <td>0</td>\n",
       "      <td>6</td>\n",
       "      <td>1985</td>\n",
       "      <td>1904</td>\n",
       "      <td>average</td>\n",
       "      <td>0</td>\n",
       "      <td>1</td>\n",
       "    </tr>\n",
       "    <tr>\n",
       "      <th>34838</th>\n",
       "      <td>25</td>\n",
       "      <td>2</td>\n",
       "      <td>541</td>\n",
       "      <td>1964</td>\n",
       "      <td>1920</td>\n",
       "      <td>average</td>\n",
       "      <td>1</td>\n",
       "      <td>0</td>\n",
       "    </tr>\n",
       "    <tr>\n",
       "      <th>...</th>\n",
       "      <td>...</td>\n",
       "      <td>...</td>\n",
       "      <td>...</td>\n",
       "      <td>...</td>\n",
       "      <td>...</td>\n",
       "      <td>...</td>\n",
       "      <td>...</td>\n",
       "      <td>...</td>\n",
       "    </tr>\n",
       "    <tr>\n",
       "      <th>275747</th>\n",
       "      <td>3</td>\n",
       "      <td>0</td>\n",
       "      <td>40</td>\n",
       "      <td>2011</td>\n",
       "      <td>1975</td>\n",
       "      <td>average</td>\n",
       "      <td>0</td>\n",
       "      <td>1</td>\n",
       "    </tr>\n",
       "    <tr>\n",
       "      <th>96207</th>\n",
       "      <td>0</td>\n",
       "      <td>0</td>\n",
       "      <td>6</td>\n",
       "      <td>1978</td>\n",
       "      <td>1931</td>\n",
       "      <td>average</td>\n",
       "      <td>0</td>\n",
       "      <td>1</td>\n",
       "    </tr>\n",
       "    <tr>\n",
       "      <th>150808</th>\n",
       "      <td>0</td>\n",
       "      <td>0</td>\n",
       "      <td>19</td>\n",
       "      <td>2002</td>\n",
       "      <td>1964</td>\n",
       "      <td>excellent</td>\n",
       "      <td>0</td>\n",
       "      <td>1</td>\n",
       "    </tr>\n",
       "    <tr>\n",
       "      <th>102822</th>\n",
       "      <td>2</td>\n",
       "      <td>0</td>\n",
       "      <td>87</td>\n",
       "      <td>1955</td>\n",
       "      <td>1906</td>\n",
       "      <td>good</td>\n",
       "      <td>0</td>\n",
       "      <td>1</td>\n",
       "    </tr>\n",
       "    <tr>\n",
       "      <th>96475</th>\n",
       "      <td>0</td>\n",
       "      <td>0</td>\n",
       "      <td>38</td>\n",
       "      <td>1977</td>\n",
       "      <td>1923</td>\n",
       "      <td>poor</td>\n",
       "      <td>0</td>\n",
       "      <td>1</td>\n",
       "    </tr>\n",
       "  </tbody>\n",
       "</table>\n",
       "<p>1000 rows × 8 columns</p>\n",
       "</div>"
      ],
      "text/plain": [
       "        review_count_user  review_count_critic  rating_count  movie_year  \\\n",
       "313389                  0                    0            47        2015   \n",
       "180746                  2                    1            71        1966   \n",
       "268360                  0                    0            12        2010   \n",
       "89122                   0                    0             6        1985   \n",
       "34838                  25                    2           541        1964   \n",
       "...                   ...                  ...           ...         ...   \n",
       "275747                  3                    0            40        2011   \n",
       "96207                   0                    0             6        1978   \n",
       "150808                  0                    0            19        2002   \n",
       "102822                  2                    0            87        1955   \n",
       "96475                   0                    0            38        1977   \n",
       "\n",
       "        birthYear calc_score  Gender_Female  Gender_Male  \n",
       "313389       1981    average              0            1  \n",
       "180746       1909       good              0            1  \n",
       "268360       1973    average              1            0  \n",
       "89122        1904    average              0            1  \n",
       "34838        1920    average              1            0  \n",
       "...           ...        ...            ...          ...  \n",
       "275747       1975    average              0            1  \n",
       "96207        1931    average              0            1  \n",
       "150808       1964  excellent              0            1  \n",
       "102822       1906       good              0            1  \n",
       "96475        1923       poor              0            1  \n",
       "\n",
       "[1000 rows x 8 columns]"
      ]
     },
     "execution_count": 19,
     "metadata": {},
     "output_type": "execute_result"
    }
   ],
   "source": [
    "# one hot encoding of Gender\n",
    "movies_data = pd.concat([movies_data, pd.get_dummies(movies_data.Gender,prefix='Gender')],axis=1)\n",
    "movies_data.drop(['Gender'],axis=1, inplace=True)\n",
    "movies_data"
   ]
  },
  {
   "cell_type": "markdown",
   "metadata": {},
   "source": [
    "# Run SVM "
   ]
  },
  {
   "cell_type": "code",
   "execution_count": 20,
   "metadata": {},
   "outputs": [
    {
     "name": "stdout",
     "output_type": "stream",
     "text": [
      "Started Reading files at :2020-04-10 08:24:09\n"
     ]
    }
   ],
   "source": [
    "start = time.time()\n",
    "print(\"Started Reading files at :\" + str(datetime.utcfromtimestamp(start).strftime('%Y-%m-%d %H:%M:%S')))"
   ]
  },
  {
   "cell_type": "code",
   "execution_count": 21,
   "metadata": {},
   "outputs": [],
   "source": [
    "predictingFeature  =  ['calc_score']\n",
    "featuresSelected = movies_data.columns.to_list()\n",
    "featuresSelected.remove('calc_score')"
   ]
  },
  {
   "cell_type": "code",
   "execution_count": 22,
   "metadata": {},
   "outputs": [],
   "source": [
    "# divide the data into attributes and labels\n",
    "X = movies_data[featuresSelected]\n",
    "y = movies_data[predictingFeature]"
   ]
  },
  {
   "cell_type": "code",
   "execution_count": 23,
   "metadata": {},
   "outputs": [],
   "source": [
    "# Divide the data into training and test sets\n",
    "X_train, X_test, y_train, y_test = train_test_split(X, y, test_size=0.20)"
   ]
  },
  {
   "cell_type": "code",
   "execution_count": 24,
   "metadata": {},
   "outputs": [],
   "source": [
    "# Training the model\n",
    "svclassifier = SVC(kernel='linear')\n",
    "# svclassifier = SVC(kernel='poly', degree=4)\n",
    "# svclassifier = SVC(kernel='rbf')\n",
    "# svclassifier = SVC(kernel='sigmoid')"
   ]
  },
  {
   "cell_type": "code",
   "execution_count": 25,
   "metadata": {},
   "outputs": [
    {
     "name": "stderr",
     "output_type": "stream",
     "text": [
      "C:\\Users\\yuvar\\Anaconda3\\lib\\site-packages\\sklearn\\utils\\validation.py:760: DataConversionWarning: A column-vector y was passed when a 1d array was expected. Please change the shape of y to (n_samples, ), for example using ravel().\n",
      "  y = column_or_1d(y, warn=True)\n"
     ]
    },
    {
     "data": {
      "text/plain": [
       "SVC(C=1.0, break_ties=False, cache_size=200, class_weight=None, coef0=0.0,\n",
       "    decision_function_shape='ovr', degree=3, gamma='scale', kernel='linear',\n",
       "    max_iter=-1, probability=False, random_state=None, shrinking=True,\n",
       "    tol=0.001, verbose=False)"
      ]
     },
     "execution_count": 25,
     "metadata": {},
     "output_type": "execute_result"
    }
   ],
   "source": [
    "# Fit the model\n",
    "svclassifier.fit(X_train, y_train)"
   ]
  },
  {
   "cell_type": "code",
   "execution_count": 26,
   "metadata": {},
   "outputs": [
    {
     "data": {
      "text/plain": [
       "0.34375"
      ]
     },
     "execution_count": 26,
     "metadata": {},
     "output_type": "execute_result"
    }
   ],
   "source": [
    "train_score_SVC = svclassifier.score(X_train, y_train)\n",
    "train_score_SVC"
   ]
  },
  {
   "cell_type": "code",
   "execution_count": 27,
   "metadata": {},
   "outputs": [
    {
     "data": {
      "text/plain": [
       "0.28"
      ]
     },
     "execution_count": 27,
     "metadata": {},
     "output_type": "execute_result"
    }
   ],
   "source": [
    "test_score_SVC = svclassifier.score(X_test, y_test)\n",
    "test_score_SVC"
   ]
  },
  {
   "cell_type": "code",
   "execution_count": 28,
   "metadata": {},
   "outputs": [],
   "source": [
    "# Prediction based on the model trained\n",
    "y_pred = svclassifier.predict(X_test)\n",
    "# tn, fp, fn, tp = confusion_matrix(y_test,y_pred).ravel()"
   ]
  },
  {
   "cell_type": "code",
   "execution_count": 29,
   "metadata": {},
   "outputs": [
    {
     "data": {
      "text/plain": [
       "array([[22, 30,  5,  0],\n",
       "       [ 6, 27,  6,  0],\n",
       "       [23, 26,  6,  0],\n",
       "       [19, 21,  8,  1]], dtype=int64)"
      ]
     },
     "execution_count": 29,
     "metadata": {},
     "output_type": "execute_result"
    }
   ],
   "source": [
    "confusion_matrix(y_test,y_pred)"
   ]
  },
  {
   "cell_type": "code",
   "execution_count": 30,
   "metadata": {},
   "outputs": [
    {
     "name": "stdout",
     "output_type": "stream",
     "text": [
      "\n",
      "Classification Report\n",
      "\n",
      "              precision    recall  f1-score   support\n",
      "\n",
      "     average       0.31      1.00      0.47        62\n",
      "   excellent       0.00      0.00      0.00        37\n",
      "        good       0.00      0.00      0.00        57\n",
      "        poor       0.00      0.00      0.00        44\n",
      "\n",
      "    accuracy                           0.31       200\n",
      "   macro avg       0.08      0.25      0.12       200\n",
      "weighted avg       0.10      0.31      0.15       200\n",
      "\n"
     ]
    },
    {
     "name": "stderr",
     "output_type": "stream",
     "text": [
      "C:\\Users\\yuvar\\Anaconda3\\lib\\site-packages\\sklearn\\metrics\\_classification.py:1272: UndefinedMetricWarning: Precision and F-score are ill-defined and being set to 0.0 in labels with no predicted samples. Use `zero_division` parameter to control this behavior.\n",
      "  _warn_prf(average, modifier, msg_start, len(result))\n"
     ]
    }
   ],
   "source": [
    "# Classification Report\n",
    "print(\"\\nClassification Report\\n\")\n",
    "print(classification_report(y_test, y_pred))"
   ]
  },
  {
   "cell_type": "code",
   "execution_count": 31,
   "metadata": {},
   "outputs": [
    {
     "data": {
      "text/plain": [
       "0.0"
      ]
     },
     "execution_count": 31,
     "metadata": {},
     "output_type": "execute_result"
    }
   ],
   "source": [
    "from sklearn.metrics import cohen_kappa_score\n",
    "cohen_kappa_score(y_test, y_pred)"
   ]
  },
  {
   "cell_type": "code",
   "execution_count": null,
   "metadata": {},
   "outputs": [],
   "source": [
    "def print_feature_importances(coef, names, top=-1):\n",
    "    whole = []\n",
    "    imp = coef\n",
    "    imp,names = zip(*sorted(list(zip(imp, names)),reverse=True))\n",
    "    for i in range(len(names)):\n",
    "        string = \"{} :: {}\".format(str(names[i]),str(round(imp[i],3)))\n",
    "        whole.append(string)\n",
    "    return whole"
   ]
  },
  {
   "cell_type": "code",
   "execution_count": null,
   "metadata": {},
   "outputs": [],
   "source": [
    "# Feature importance based on contribution to the classifier model\n",
    "print(\"\\nAbsolute contributions\\n\")\n",
    "absoluteListOrder = print_feature_importances(abs(svclassifier.coef_[0]), featuresSelected)\n",
    "for j in absoluteListOrder:\n",
    "    print(j)"
   ]
  },
  {
   "cell_type": "code",
   "execution_count": null,
   "metadata": {},
   "outputs": [],
   "source": []
  },
  {
   "cell_type": "code",
   "execution_count": null,
   "metadata": {},
   "outputs": [],
   "source": [
    "# Stop timer\n",
    "end = time.time()"
   ]
  },
  {
   "cell_type": "code",
   "execution_count": null,
   "metadata": {},
   "outputs": [],
   "source": [
    "print(\"\\nStopped Reading files at :\" + str(datetime.utcfromtimestamp(end).strftime('%Y-%m-%d %H:%M:%S')))\n",
    "total_time = str(round((end - start)/60,2))\n",
    "print(\"Total time taken in minutes: \" + str((end - start)/60))"
   ]
  },
  {
   "cell_type": "code",
   "execution_count": null,
   "metadata": {},
   "outputs": [],
   "source": []
  },
  {
   "cell_type": "code",
   "execution_count": null,
   "metadata": {},
   "outputs": [],
   "source": []
  }
 ],
 "metadata": {
  "kernelspec": {
   "display_name": "Python 3",
   "language": "python",
   "name": "python3"
  },
  "language_info": {
   "codemirror_mode": {
    "name": "ipython",
    "version": 3
   },
   "file_extension": ".py",
   "mimetype": "text/x-python",
   "name": "python",
   "nbconvert_exporter": "python",
   "pygments_lexer": "ipython3",
   "version": "3.7.3"
  }
 },
 "nbformat": 4,
 "nbformat_minor": 2
}
