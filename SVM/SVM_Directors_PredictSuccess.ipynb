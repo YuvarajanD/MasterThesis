{
 "cells": [
  {
   "cell_type": "code",
   "execution_count": 1,
   "metadata": {},
   "outputs": [],
   "source": [
    "import pandas as pd\n",
    "import numpy as np\n",
    "import re\n",
    "import string\n",
    "import time\n",
    "from datetime import datetime\n",
    "from datetime import date\n",
    "import os\n",
    "import random\n",
    "\n",
    "#Plotting\n",
    "%matplotlib inline\n",
    "import matplotlib as mpl\n",
    "import matplotlib.pyplot as plt\n",
    "import seaborn as sns\n",
    "\n",
    "# ML Libraries\n",
    "\n",
    "from sklearn.ensemble import BaggingClassifier\n",
    "from sklearn.calibration import CalibratedClassifierCV\n",
    "from sklearn.multiclass import OneVsRestClassifier\n",
    "\n",
    "\n",
    "from sklearn import svm\n",
    "from sklearn.preprocessing import MinMaxScaler\n",
    "from sklearn.svm import SVC\n",
    "from sklearn.svm import LinearSVC\n",
    "from sklearn.model_selection import train_test_split\n",
    "from sklearn.metrics import classification_report, confusion_matrix\n",
    "from sklearn.metrics import precision_recall_fscore_support\n",
    "from sklearn.metrics import auc\n",
    "from sklearn.metrics import roc_auc_score\n",
    "from sklearn.metrics import roc_curve\n",
    "from sklearn import metrics\n",
    "\n",
    "# Save model\n",
    "import pickle\n",
    "import joblib"
   ]
  },
  {
   "cell_type": "markdown",
   "metadata": {},
   "source": [
    "## Run settings"
   ]
  },
  {
   "cell_type": "markdown",
   "metadata": {},
   "source": [
    "chosen_feature_predicting : Gender, rating_count , rating_value , review_count_critic , review_count_user , metascore\n",
    "<br>chosen_bin_method : quartiles , bin_cut , Bin_AsPaper\n",
    "<br>chosen_success_class : movie_rating , director_rating\n",
    "<br>chosen_dataset_balance : unbalanced , balanced\n",
    "<br>chosen_kernel_type : linear , poly , rbf, LinearSVC"
   ]
  },
  {
   "cell_type": "code",
   "execution_count": 2,
   "metadata": {},
   "outputs": [],
   "source": [
    "# chosen_feature_predicting = 'Gender'\n",
    "gender_as_an_input = 'Yes'\n",
    "chosen_feature_predicting = 'average_rating_count'\n",
    "chosen_bin_method = 'quartiles'\n",
    "chosen_success_class = 'director_class'\n",
    "chosen_dataset_ratio = 'unbalanced'\n",
    "chosen_kernel_type = 'LinearSVC'\n",
    "chosen_gamma_type = 'auto'\n",
    "chosen_scaling_method = 'MinMaxScaler'"
   ]
  },
  {
   "cell_type": "code",
   "execution_count": 3,
   "metadata": {},
   "outputs": [],
   "source": [
    "running = 'directors'\n",
    "# fileName = '1_Director_Data_Mar-21-2020'\n",
    "fileName = '2_Director_Data_Enhanced_May-10-2020'\n",
    "# fileName = '3_USA_Director_Specific_dataset_May-15-2020'"
   ]
  },
  {
   "cell_type": "code",
   "execution_count": 4,
   "metadata": {
    "scrolled": true
   },
   "outputs": [
    {
     "name": "stdout",
     "output_type": "stream",
     "text": [
      "<class 'pandas.core.frame.DataFrame'>\n",
      "RangeIndex: 1651 entries, 0 to 1650\n",
      "Data columns (total 64 columns):\n",
      " #   Column                                      Non-Null Count  Dtype  \n",
      "---  ------                                      --------------  -----  \n",
      " 0   director_ids                                1651 non-null   object \n",
      " 1   director_name                               1651 non-null   object \n",
      " 2   average_rating_value                        1651 non-null   float64\n",
      " 3   average_rating_count                        1651 non-null   float64\n",
      " 4   movies_produced                             1651 non-null   int64  \n",
      " 5   career_Length                               1651 non-null   int64  \n",
      " 6   CareerStartYear                             1651 non-null   int64  \n",
      " 7   Gender                                      1651 non-null   object \n",
      " 8   birthYear                                   1651 non-null   int64  \n",
      " 9   median_inter_event_time                     1651 non-null   float64\n",
      " 10  average_inter_event_time                    1651 non-null   float64\n",
      " 11  total_review_count_user                     1651 non-null   int64  \n",
      " 12  total_review_count_critic                   1651 non-null   int64  \n",
      " 13  total_metascore                             1651 non-null   int64  \n",
      " 14  median_metascore                            1651 non-null   float64\n",
      " 15  total_awards_won                            1651 non-null   float64\n",
      " 16  total_awards_nominated                      1651 non-null   float64\n",
      " 17  total_gross_value                           1651 non-null   float64\n",
      " 18  total_budget_value                          1651 non-null   float64\n",
      " 19  budget_cur_AUD                              1651 non-null   int64  \n",
      " 20  budget_cur_CAD                              1651 non-null   int64  \n",
      " 21  budget_cur_EUR                              1651 non-null   int64  \n",
      " 22  budget_cur_GBP                              1651 non-null   int64  \n",
      " 23  budget_cur_INR                              1651 non-null   int64  \n",
      " 24  budget_cur_USD                              1651 non-null   int64  \n",
      " 25  average_runtime_of_movie                    1651 non-null   float64\n",
      " 26  total_genre_Action                          1651 non-null   int64  \n",
      " 27  total_genre_Adult                           1651 non-null   int64  \n",
      " 28  total_genre_Adventure                       1651 non-null   int64  \n",
      " 29  total_genre_Animation                       1651 non-null   int64  \n",
      " 30  total_genre_Biography                       1651 non-null   int64  \n",
      " 31  total_genre_Comedy                          1651 non-null   int64  \n",
      " 32  total_genre_Crime                           1651 non-null   int64  \n",
      " 33  total_genre_Documentary                     1651 non-null   int64  \n",
      " 34  total_genre_Drama                           1651 non-null   int64  \n",
      " 35  total_genre_Family                          1651 non-null   int64  \n",
      " 36  total_genre_Fantasy                         1651 non-null   int64  \n",
      " 37  total_genre_Film_Noir                       1651 non-null   int64  \n",
      " 38  total_genre_Game_Show                       1651 non-null   int64  \n",
      " 39  total_genre_History                         1651 non-null   int64  \n",
      " 40  total_genre_Horror                          1651 non-null   int64  \n",
      " 41  total_genre_Music                           1651 non-null   int64  \n",
      " 42  total_genre_Musical                         1651 non-null   int64  \n",
      " 43  total_genre_Mystery                         1651 non-null   int64  \n",
      " 44  total_genre_News                            1651 non-null   int64  \n",
      " 45  total_genre_None                            1651 non-null   int64  \n",
      " 46  total_genre_Reality_TV                      1651 non-null   int64  \n",
      " 47  total_genre_Romance                         1651 non-null   int64  \n",
      " 48  total_genre_Sci_Fi                          1651 non-null   int64  \n",
      " 49  total_genre_Short                           1651 non-null   int64  \n",
      " 50  total_genre_Sport                           1651 non-null   int64  \n",
      " 51  total_genre_Talk_Show                       1651 non-null   int64  \n",
      " 52  total_genre_Thriller                        1651 non-null   int64  \n",
      " 53  total_genre_War                             1651 non-null   int64  \n",
      " 54  total_genre_Western                         1651 non-null   int64  \n",
      " 55  director_profession_primary                 1651 non-null   int64  \n",
      " 56  director_profession_secondary               1651 non-null   int64  \n",
      " 57  director_profession_tertiary                1651 non-null   int64  \n",
      " 58  director_known_titles_count                 1651 non-null   int64  \n",
      " 59  director_known_titles_average_rating_value  1651 non-null   float64\n",
      " 60  average_movie_per_year                      1651 non-null   float64\n",
      " 61  num_countries_screened                      1651 non-null   int64  \n",
      " 62  num_genres_directed                         1651 non-null   int64  \n",
      " 63  num_languages_released                      1651 non-null   int64  \n",
      "dtypes: float64(12), int64(49), object(3)\n",
      "memory usage: 825.6+ KB\n"
     ]
    }
   ],
   "source": [
    "# dynamic path location\n",
    "\n",
    "dataFileLocation = os.path.join(os.path.realpath(os.path.pardir),'datasets\\\\'+ fileName +'.csv')\n",
    "\n",
    "# storedDF = 'C:\\\\Yuva\\\\ITU\\\\4th Sem\\\\Thesis\\\\Data\\\\StoreDF_Mar-25-2020.csv'\n",
    "# storeModelLocation = 'C:\\\\Yuva\\\\ITU\\\\4th Sem\\\\Thesis\\\\Data\\\\Classification Models\\\\SVM'\n",
    "\n",
    "saveFileToPath = \"C:\\\\Yuva\\\\ITU\\\\4th Sem\\\\Thesis\\\\Data\\\\\"\n",
    "\n",
    "director_data = pd.read_csv(dataFileLocation)\n",
    "director_data.info()\n",
    "# storeDF = pd.read_csv(storedDF)"
   ]
  },
  {
   "cell_type": "code",
   "execution_count": 5,
   "metadata": {},
   "outputs": [],
   "source": [
    "# storeDF_col_names =  ['run_model','features_selected', 'record_count', 'male_count','female_count','predicting','Order_ABS','Order_Pos_Neg',\n",
    "#               'TN','FP','FN','TP','total_time']\n",
    "# # storeDF  = pd.DataFrame(columns = storeDF_col_names)"
   ]
  },
  {
   "cell_type": "code",
   "execution_count": 6,
   "metadata": {},
   "outputs": [],
   "source": [
    "def undersampling_balanced_gender(df,balance_feature = 'Gender', column_tobe_unique = 'director_ids'):\n",
    "    \n",
    "    # Shuffle the Dataset.\n",
    "    shuffled_data = df.sample(frac=1,random_state=42)\n",
    "    print('Unbalanced dataframe shape after undersampling :',shuffled_data.shape)\n",
    "\n",
    "    # First remove all duplicates director_ids to have only unique columns\n",
    "    unique_column_df = shuffled_data.drop_duplicates(subset = column_tobe_unique, keep='first', inplace=False)\n",
    "    unique_column_df.shape\n",
    "    \n",
    "    # An empty balanced data frame with only the unique columns\n",
    "    bal_total_unique_list_df = pd.DataFrame()\n",
    "    \n",
    "    # Add balanced values from all the possible classes    \n",
    "    for i in unique_column_df[balance_feature].value_counts().index:\n",
    "        bal_total_unique_list_df = bal_total_unique_list_df.append(unique_column_df[(unique_column_df[balance_feature]==i)]\n",
    "                                                   .sample(\n",
    "                                                       n= unique_column_df[balance_feature].value_counts().values.min(),\n",
    "                                                       random_state = 42,\n",
    "                                                       replace = False)\n",
    "                                                  )\n",
    "    # list of unique IDs\n",
    "    total_list_unique_IDs = bal_total_unique_list_df[column_tobe_unique].to_list()\n",
    "    \n",
    "    balanced_data = shuffled_data[shuffled_data[column_tobe_unique].isin(total_list_unique_IDs)] \n",
    "    \n",
    "    print('Balanced dataframe shape after undersampling :',balanced_data.shape)\n",
    "    return balanced_data"
   ]
  },
  {
   "cell_type": "markdown",
   "metadata": {},
   "source": [
    "# Functions : Bin Cuts , Quartile Bins and bins as in paper"
   ]
  },
  {
   "cell_type": "markdown",
   "metadata": {},
   "source": [
    "## Bin Cuts"
   ]
  },
  {
   "cell_type": "code",
   "execution_count": 7,
   "metadata": {},
   "outputs": [],
   "source": [
    "def bincuts(df,class_feature = 'rating_value'):\n",
    "    \n",
    "    # Bin cuts into 4 buckets\n",
    "\n",
    "    bin_quartiles = ['terrible','poor','average','excellent']\n",
    "    cutIntoQuartiles = pd.cut(df[class_feature].to_list(), bins = 4 ,labels=bin_quartiles)\n",
    "\n",
    "    # Print the quartile range for visuals\n",
    "    print(cutIntoQuartiles.categories)\n",
    "\n",
    "    # Add the data to the dataframe\n",
    "    df[chosen_success_class] = cutIntoQuartiles\n",
    "    print('The shape of our Movies dataset is:', df.shape)\n",
    "    df.drop(columns = [class_feature] , inplace = True)\n",
    "    print('The shape of our Movies dataset is:', df.shape)"
   ]
  },
  {
   "cell_type": "markdown",
   "metadata": {},
   "source": [
    "## Quartile Bins"
   ]
  },
  {
   "cell_type": "code",
   "execution_count": 8,
   "metadata": {},
   "outputs": [],
   "source": [
    "def quartile_bin(df,class_feature='rating_value'):\n",
    "    # Quartile cut into 4 different buckets\n",
    "\n",
    "    bin_quartiles = ['terrible','poor','average','excellent']\n",
    "    cutIntoQuartiles = pd.qcut(df[class_feature].to_list(), q=4,labels=bin_quartiles)\n",
    "    \n",
    "    print(cutIntoQuartiles.categories)\n",
    "    \n",
    "    df[chosen_success_class] = cutIntoQuartiles\n",
    "    df[chosen_success_class] = df[chosen_success_class].astype(object)\n",
    "    print('The shape of our dataset before dropping the class feature is:', df.shape)\n",
    "    df.drop(columns = [class_feature] , inplace = True)\n",
    "    print('The shape of our dataset after dropping the class feature  is:', df.shape)\n",
    "    return df"
   ]
  },
  {
   "cell_type": "markdown",
   "metadata": {},
   "source": [
    "## Paper Implementation of bins"
   ]
  },
  {
   "cell_type": "code",
   "execution_count": 9,
   "metadata": {},
   "outputs": [],
   "source": [
    "def success_measure(score):\n",
    "    \n",
    "    if score > 0 and score <= 2.4:\n",
    "        return 'poor'\n",
    "#     elif score > 2.4 and score <= 5.0:a\n",
    "        return 'average'\n",
    "    elif score > 5.0 and score <= 7.4:\n",
    "        return 'good'\n",
    "    elif score > 7.4 and score <=10.0:\n",
    "        return 'excellent'\n",
    "    else:\n",
    "        return 'Error_Score'"
   ]
  },
  {
   "cell_type": "markdown",
   "metadata": {},
   "source": [
    "# Function - To choose which Success measure to choose and what binning technique"
   ]
  },
  {
   "cell_type": "code",
   "execution_count": 10,
   "metadata": {},
   "outputs": [],
   "source": [
    "def choose_success_measure(df, bin_method = 'Quartiles', feature = 'rating_value'):\n",
    "    \n",
    "    # Stats of the feature\n",
    "    print('\\nDescribing the feature : \\n')\n",
    "    print(df[feature].describe())\n",
    "    \n",
    "\n",
    "    \n",
    "    if (bin_method == 'quartiles'):\n",
    "        # Quartie bin cuts\n",
    "        df = quartile_bin(df,feature)\n",
    "            \n",
    "    elif(bin_method == 'bin_cut'):\n",
    "        # Bin cuts\n",
    "        df = bincuts(df,'rating_value')\n",
    "        \n",
    "    elif(bin_method == 'Bin_AsPaper'):\n",
    "        df[chosen_success_class] = df[feature].apply(success_measure).astype('category')\n",
    "        \n",
    "    print('\\nThe shape of our dataset is:', df.shape)\n",
    "    \n",
    "    print('\\nValue Count of the bucketed class is : \\n')\n",
    "    print(df[chosen_success_class].value_counts())"
   ]
  },
  {
   "cell_type": "markdown",
   "metadata": {},
   "source": [
    "### Balance Gender"
   ]
  },
  {
   "cell_type": "code",
   "execution_count": 11,
   "metadata": {},
   "outputs": [
    {
     "name": "stdout",
     "output_type": "stream",
     "text": [
      "Unbalanced dataframe shape after undersampling : (1651, 64)\n",
      "Balanced dataframe shape after undersampling : (546, 64)\n"
     ]
    }
   ],
   "source": [
    "balanced_director_data = undersampling_balanced_gender(director_data)"
   ]
  },
  {
   "cell_type": "code",
   "execution_count": 12,
   "metadata": {
    "scrolled": true
   },
   "outputs": [
    {
     "name": "stdout",
     "output_type": "stream",
     "text": [
      "<class 'pandas.core.frame.DataFrame'>\n",
      "Int64Index: 546 entries, 926 to 1638\n",
      "Data columns (total 64 columns):\n",
      " #   Column                                      Non-Null Count  Dtype  \n",
      "---  ------                                      --------------  -----  \n",
      " 0   director_ids                                546 non-null    object \n",
      " 1   director_name                               546 non-null    object \n",
      " 2   average_rating_value                        546 non-null    float64\n",
      " 3   average_rating_count                        546 non-null    float64\n",
      " 4   movies_produced                             546 non-null    int64  \n",
      " 5   career_Length                               546 non-null    int64  \n",
      " 6   CareerStartYear                             546 non-null    int64  \n",
      " 7   Gender                                      546 non-null    object \n",
      " 8   birthYear                                   546 non-null    int64  \n",
      " 9   median_inter_event_time                     546 non-null    float64\n",
      " 10  average_inter_event_time                    546 non-null    float64\n",
      " 11  total_review_count_user                     546 non-null    int64  \n",
      " 12  total_review_count_critic                   546 non-null    int64  \n",
      " 13  total_metascore                             546 non-null    int64  \n",
      " 14  median_metascore                            546 non-null    float64\n",
      " 15  total_awards_won                            546 non-null    float64\n",
      " 16  total_awards_nominated                      546 non-null    float64\n",
      " 17  total_gross_value                           546 non-null    float64\n",
      " 18  total_budget_value                          546 non-null    float64\n",
      " 19  budget_cur_AUD                              546 non-null    int64  \n",
      " 20  budget_cur_CAD                              546 non-null    int64  \n",
      " 21  budget_cur_EUR                              546 non-null    int64  \n",
      " 22  budget_cur_GBP                              546 non-null    int64  \n",
      " 23  budget_cur_INR                              546 non-null    int64  \n",
      " 24  budget_cur_USD                              546 non-null    int64  \n",
      " 25  average_runtime_of_movie                    546 non-null    float64\n",
      " 26  total_genre_Action                          546 non-null    int64  \n",
      " 27  total_genre_Adult                           546 non-null    int64  \n",
      " 28  total_genre_Adventure                       546 non-null    int64  \n",
      " 29  total_genre_Animation                       546 non-null    int64  \n",
      " 30  total_genre_Biography                       546 non-null    int64  \n",
      " 31  total_genre_Comedy                          546 non-null    int64  \n",
      " 32  total_genre_Crime                           546 non-null    int64  \n",
      " 33  total_genre_Documentary                     546 non-null    int64  \n",
      " 34  total_genre_Drama                           546 non-null    int64  \n",
      " 35  total_genre_Family                          546 non-null    int64  \n",
      " 36  total_genre_Fantasy                         546 non-null    int64  \n",
      " 37  total_genre_Film_Noir                       546 non-null    int64  \n",
      " 38  total_genre_Game_Show                       546 non-null    int64  \n",
      " 39  total_genre_History                         546 non-null    int64  \n",
      " 40  total_genre_Horror                          546 non-null    int64  \n",
      " 41  total_genre_Music                           546 non-null    int64  \n",
      " 42  total_genre_Musical                         546 non-null    int64  \n",
      " 43  total_genre_Mystery                         546 non-null    int64  \n",
      " 44  total_genre_News                            546 non-null    int64  \n",
      " 45  total_genre_None                            546 non-null    int64  \n",
      " 46  total_genre_Reality_TV                      546 non-null    int64  \n",
      " 47  total_genre_Romance                         546 non-null    int64  \n",
      " 48  total_genre_Sci_Fi                          546 non-null    int64  \n",
      " 49  total_genre_Short                           546 non-null    int64  \n",
      " 50  total_genre_Sport                           546 non-null    int64  \n",
      " 51  total_genre_Talk_Show                       546 non-null    int64  \n",
      " 52  total_genre_Thriller                        546 non-null    int64  \n",
      " 53  total_genre_War                             546 non-null    int64  \n",
      " 54  total_genre_Western                         546 non-null    int64  \n",
      " 55  director_profession_primary                 546 non-null    int64  \n",
      " 56  director_profession_secondary               546 non-null    int64  \n",
      " 57  director_profession_tertiary                546 non-null    int64  \n",
      " 58  director_known_titles_count                 546 non-null    int64  \n",
      " 59  director_known_titles_average_rating_value  546 non-null    float64\n",
      " 60  average_movie_per_year                      546 non-null    float64\n",
      " 61  num_countries_screened                      546 non-null    int64  \n",
      " 62  num_genres_directed                         546 non-null    int64  \n",
      " 63  num_languages_released                      546 non-null    int64  \n",
      "dtypes: float64(12), int64(49), object(3)\n",
      "memory usage: 277.3+ KB\n"
     ]
    }
   ],
   "source": [
    "balanced_director_data.info()"
   ]
  },
  {
   "cell_type": "markdown",
   "metadata": {},
   "source": [
    "### Choosing dataset for the analysis"
   ]
  },
  {
   "cell_type": "code",
   "execution_count": 13,
   "metadata": {},
   "outputs": [],
   "source": [
    "chosen_dataframe = ''\n",
    "if(chosen_dataset_ratio == 'unbalanced'):\n",
    "    chosen_dataframe = director_data\n",
    "elif(chosen_dataset_ratio == 'balanced'):\n",
    "    chosen_dataframe = balanced_director_data"
   ]
  },
  {
   "cell_type": "markdown",
   "metadata": {},
   "source": [
    "### Remove Features from dataset which are not required"
   ]
  },
  {
   "cell_type": "code",
   "execution_count": 14,
   "metadata": {},
   "outputs": [
    {
     "data": {
      "text/plain": [
       "['director_ids', 'director_name']"
      ]
     },
     "execution_count": 14,
     "metadata": {},
     "output_type": "execute_result"
    }
   ],
   "source": [
    "object_features_to_remove = chosen_dataframe.select_dtypes(include = 'object').columns.values.tolist()\n",
    "object_features_to_remove.remove('Gender')\n",
    "object_features_to_remove"
   ]
  },
  {
   "cell_type": "markdown",
   "metadata": {},
   "source": [
    "## Run the feature based on the bin cut and success feature"
   ]
  },
  {
   "cell_type": "code",
   "execution_count": 15,
   "metadata": {},
   "outputs": [
    {
     "data": {
      "text/plain": [
       "'average_rating_count'"
      ]
     },
     "execution_count": 15,
     "metadata": {},
     "output_type": "execute_result"
    }
   ],
   "source": [
    "chosen_feature_predicting"
   ]
  },
  {
   "cell_type": "code",
   "execution_count": 16,
   "metadata": {},
   "outputs": [
    {
     "name": "stdout",
     "output_type": "stream",
     "text": [
      "Quantiles bin range\n",
      "Quantile 0 : (28.999, 7575.0] \n",
      "Quantile 1 : (7575.0, 30158.0] \n",
      "Quantile 2 : (30158.0, 88704.0] \n",
      "Quantile 3 : (88704.0, 933609.67] \n"
     ]
    }
   ],
   "source": [
    "cutIntoQuartiles = pd.qcut(chosen_dataframe[chosen_feature_predicting].to_list(), q=4)\n",
    "print(\"Quantiles bin range\")\n",
    "for i,num in enumerate(cutIntoQuartiles.categories):\n",
    "    print(\"Quantile {0} : {1} \".format(i,num))"
   ]
  },
  {
   "cell_type": "code",
   "execution_count": 17,
   "metadata": {
    "scrolled": true
   },
   "outputs": [
    {
     "name": "stdout",
     "output_type": "stream",
     "text": [
      "\n",
      "Describing the feature : \n",
      "\n",
      "count      1651.000000\n",
      "mean      67189.358649\n",
      "std       98676.655825\n",
      "min          29.000000\n",
      "25%        7575.000000\n",
      "50%       30158.000000\n",
      "75%       88704.000000\n",
      "max      933609.670000\n",
      "Name: average_rating_count, dtype: float64\n",
      "Index(['terrible', 'poor', 'average', 'excellent'], dtype='object')\n",
      "The shape of our dataset before dropping the class feature is: (1651, 65)\n",
      "The shape of our dataset after dropping the class feature  is: (1651, 64)\n",
      "\n",
      "The shape of our dataset is: (1651, 64)\n",
      "\n",
      "Value Count of the bucketed class is : \n",
      "\n",
      "terrible     414\n",
      "excellent    413\n",
      "poor         412\n",
      "average      412\n",
      "Name: director_class, dtype: int64\n"
     ]
    }
   ],
   "source": [
    "choose_success_measure(chosen_dataframe , bin_method = chosen_bin_method , feature = chosen_feature_predicting)"
   ]
  },
  {
   "cell_type": "markdown",
   "metadata": {},
   "source": [
    "### Chosen Director Dataset"
   ]
  },
  {
   "cell_type": "code",
   "execution_count": 18,
   "metadata": {
    "scrolled": true
   },
   "outputs": [
    {
     "name": "stdout",
     "output_type": "stream",
     "text": [
      "The shape of our chosen director dataset before removing object type features: (1651, 64)\n",
      "The shape of our chosen director dataset after dropping object type features: (1651, 62)\n"
     ]
    }
   ],
   "source": [
    "print('The shape of our chosen director dataset before removing object type features:', chosen_dataframe.shape)\n",
    "# movies_data = movies_data[movies_data.columns.difference(object_features_to_remove)]\n",
    "chosen_dataframe = chosen_dataframe.drop(columns= object_features_to_remove)\n",
    "print('The shape of our chosen director dataset after dropping object type features:', chosen_dataframe.shape)"
   ]
  },
  {
   "cell_type": "code",
   "execution_count": 19,
   "metadata": {},
   "outputs": [
    {
     "data": {
      "text/plain": [
       "terrible     414\n",
       "excellent    413\n",
       "poor         412\n",
       "average      412\n",
       "Name: director_class, dtype: int64"
      ]
     },
     "execution_count": 19,
     "metadata": {},
     "output_type": "execute_result"
    }
   ],
   "source": [
    "chosen_dataframe[chosen_success_class].value_counts()"
   ]
  },
  {
   "cell_type": "markdown",
   "metadata": {},
   "source": [
    "### Generic Functions"
   ]
  },
  {
   "cell_type": "code",
   "execution_count": 20,
   "metadata": {},
   "outputs": [],
   "source": [
    "# Helper method for save_to_file\n",
    "\n",
    "def get_df_name(df):\n",
    "    name =[x for x in globals() if globals()[x] is df][0]\n",
    "    return name"
   ]
  },
  {
   "cell_type": "code",
   "execution_count": 21,
   "metadata": {},
   "outputs": [],
   "source": [
    "# Function: Save Dataframe to CSV\n",
    "\n",
    "def save_to_file(dataFrame, folderPath):\n",
    "    today = date.today()\n",
    "    todayDate = today.strftime(\"%b-%d-%Y\")\n",
    "#     dataFrame.to_csv(folderPath+ '\\\\' + get_df_name(dataFrame) + '_' + todayDate  + '.csv',index=False, encoding=\"utf8\" )\n",
    "    dataFrame.to_csv(folderPath+ '\\\\' + get_df_name(dataFrame) + '_' + todayDate  + '.csv',index=False, encoding=\"utf-8-sig\" )"
   ]
  },
  {
   "cell_type": "markdown",
   "metadata": {},
   "source": [
    "### One hot encoding for Gender"
   ]
  },
  {
   "cell_type": "code",
   "execution_count": 22,
   "metadata": {},
   "outputs": [],
   "source": [
    "def one_hot_encode_gender(df,one_hot_feature = 'Gender'):\n",
    "    print('Before one hot encoding , Shape ;', df.shape)\n",
    "    # one hot encoding of Gender\n",
    "    df = pd.concat([df, pd.get_dummies(df[one_hot_feature],prefix= one_hot_feature,dtype = int)],axis=1)\n",
    "    df.drop([one_hot_feature],axis=1, inplace=True)\n",
    "    print('After one hot encoding , Shape ;', df.shape)\n",
    "    df.head(2)\n",
    "    return df"
   ]
  },
  {
   "cell_type": "code",
   "execution_count": 23,
   "metadata": {},
   "outputs": [
    {
     "name": "stdout",
     "output_type": "stream",
     "text": [
      "Before one hot encoding , Shape ; (1651, 62)\n",
      "After one hot encoding , Shape ; (1651, 63)\n"
     ]
    }
   ],
   "source": [
    "chosen_dataframe = one_hot_encode_gender(chosen_dataframe)"
   ]
  },
  {
   "cell_type": "code",
   "execution_count": 24,
   "metadata": {},
   "outputs": [],
   "source": [
    "def reverse_one_hot_encoding(df):\n",
    "    reverse_one_hot_Gender = df.loc[:, df.columns.str.startswith('Gender')].idxmax(axis = 'columns')\n",
    "    df['Gender'] = reverse_one_hot_Gender\n",
    "\n",
    "    # Replace Gender_Male with Male and Gender_Female with Female\n",
    "    df['Gender'] = df['Gender'].str.replace('Gender_male','Male')\n",
    "    df['Gender'] = df['Gender'].str.replace('Gender_Female','Female')\n",
    "    # Drop the one hot encoded value\n",
    "    df.drop(['Gender_Female','Gender_male'],axis=1, inplace=True)\n",
    "    return df"
   ]
  },
  {
   "cell_type": "markdown",
   "metadata": {},
   "source": [
    "## Decide if Gender is an input feature or not"
   ]
  },
  {
   "cell_type": "code",
   "execution_count": 25,
   "metadata": {},
   "outputs": [
    {
     "data": {
      "text/plain": [
       "'Yes'"
      ]
     },
     "execution_count": 25,
     "metadata": {},
     "output_type": "execute_result"
    }
   ],
   "source": [
    "gender_as_an_input"
   ]
  },
  {
   "cell_type": "code",
   "execution_count": 26,
   "metadata": {},
   "outputs": [
    {
     "name": "stdout",
     "output_type": "stream",
     "text": [
      "Gender is an input feature for this run! No dropping!\n",
      "The shape of our Chosen dataset after dropping Gender features: (1651, 63)\n"
     ]
    }
   ],
   "source": [
    "if(gender_as_an_input == 'Yes'):\n",
    "    print(\"Gender is an input feature for this run! No dropping!\")\n",
    "    print('The shape of our Chosen dataset after dropping Gender features:', chosen_dataframe.shape)\n",
    "else:\n",
    "    chosen_dataframe.drop(columns = ['Gender_Male','Gender_Female'],inplace = True)\n",
    "    print(\"Gender features removed as it is not an input feature for this run!  \")\n",
    "    print('The shape of our Chosen dataset after dropping Gender features:', chosen_dataframe.shape)"
   ]
  },
  {
   "cell_type": "code",
   "execution_count": 27,
   "metadata": {},
   "outputs": [
    {
     "data": {
      "text/plain": [
       "'unbalanced'"
      ]
     },
     "execution_count": 27,
     "metadata": {},
     "output_type": "execute_result"
    }
   ],
   "source": [
    "chosen_dataset_ratio"
   ]
  },
  {
   "cell_type": "code",
   "execution_count": 28,
   "metadata": {},
   "outputs": [
    {
     "data": {
      "text/plain": [
       "terrible     414\n",
       "excellent    413\n",
       "poor         412\n",
       "average      412\n",
       "Name: director_class, dtype: int64"
      ]
     },
     "execution_count": 28,
     "metadata": {},
     "output_type": "execute_result"
    }
   ],
   "source": [
    "chosen_dataframe[chosen_success_class].value_counts()"
   ]
  },
  {
   "cell_type": "code",
   "execution_count": 29,
   "metadata": {},
   "outputs": [
    {
     "data": {
      "image/png": "[encoded data removed]",
      "text/plain": [
       "<Figure size 432x288 with 1 Axes>"
      ]
     },
     "metadata": {},
     "output_type": "display_data"
    }
   ],
   "source": [
    "# Visualizing Outcome Distribution \n",
    "temp = chosen_dataframe[chosen_success_class].value_counts()\n",
    "df = pd.DataFrame({'labels': temp.index,\n",
    "                   'values': temp.values\n",
    "                  })\n",
    "\n",
    "#df.plot(kind='pie',labels='labels',values='values', title='Activity Ditribution',subplots= \"True\")\n",
    "\n",
    "labels = df['labels']\n",
    "sizes = df['values']\n",
    "colors = ['yellowgreen', 'gold', 'lightskyblue', 'lightcoral','cyan']\n",
    "patches, texts = plt.pie(sizes, colors=colors, shadow=True, startangle=90, pctdistance=1.1, labeldistance=1.2)\n",
    "plt.legend(patches, labels, loc=\"best\")\n",
    "plt.axis('equal')\n",
    "plt.tight_layout()\n",
    "plt.show()"
   ]
  },
  {
   "cell_type": "code",
   "execution_count": 30,
   "metadata": {},
   "outputs": [],
   "source": [
    "def divide_test_train_with_scaling_methods(df,predict= chosen_success_class,scalingMethod = \"MinMaxScaler\"):\n",
    "    \n",
    "    \n",
    "    # Feature matrix and target variable\n",
    "    X = df.drop(predict,axis = 'columns')\n",
    "    y = df[predict]\n",
    "    \n",
    "    # Scaling\n",
    "    if (scalingMethod == \"MinMaxScaler\"):\n",
    "        print(\"The scaling method used is : \",scalingMethod)\n",
    "        scaler = MinMaxScaler()\n",
    "        new_X = scaler.fit_transform(X)\n",
    "        # X_test = scaler.transform(X_test)\n",
    "        \n",
    "    else:\n",
    "        print(\"No Scaling Method used or incorrect input\")\n",
    "        new_X = X\n",
    "    \n",
    "    # Divide the data into training and test sets\n",
    "    X_train, X_test, y_train, y_test = train_test_split(new_X, y, test_size=0.20, random_state = 42 , stratify = y )\n",
    "    \n",
    "    return X_train, X_test, y_train, y_test"
   ]
  },
  {
   "cell_type": "markdown",
   "metadata": {},
   "source": [
    "# Plot Confusion Matrix"
   ]
  },
  {
   "cell_type": "code",
   "execution_count": 31,
   "metadata": {},
   "outputs": [],
   "source": [
    "import matplotlib.pyplot as plt\n",
    "%matplotlib inline\n",
    "\n",
    "def plot_confusion_matrix(cm, classes,\n",
    "                          normalize=False,\n",
    "                          title='Confusion matrix',\n",
    "                          cmap=plt.cm.Blues):\n",
    "    \"\"\"\n",
    "    This function prints and plots the confusion matrix.\n",
    "    Normalization can be applied by setting `normalize=True`.\n",
    "    \"\"\"\n",
    "    import itertools\n",
    "    if normalize:\n",
    "        cm = cm.astype('float') / cm.sum(axis=1)[:, np.newaxis]\n",
    "        print(\"Normalized confusion matrix\")\n",
    "    else:\n",
    "        print('Confusion matrix, without normalization')\n",
    "\n",
    "    print(cm)\n",
    "\n",
    "    plt.imshow(cm, interpolation='nearest', cmap=cmap)\n",
    "    plt.title(title)\n",
    "    plt.colorbar()\n",
    "    tick_marks = np.arange(len(classes))\n",
    "    plt.xticks(tick_marks, classes, rotation=45)\n",
    "    plt.yticks(tick_marks, classes)\n",
    "\n",
    "    fmt = '.2f' if normalize else 'd'\n",
    "    thresh = cm.max() / 2.\n",
    "    for i, j in itertools.product(range(cm.shape[0]), range(cm.shape[1])):\n",
    "        plt.text(j, i, format(cm[i, j], fmt),\n",
    "                 horizontalalignment=\"center\",\n",
    "                 color=\"white\" if cm[i, j] > thresh else \"black\")\n",
    "\n",
    "    plt.ylabel('True label')\n",
    "    plt.xlabel('Predicted label')\n",
    "    plt.tight_layout()"
   ]
  },
  {
   "cell_type": "markdown",
   "metadata": {},
   "source": [
    "### Function for Run Info :"
   ]
  },
  {
   "cell_type": "code",
   "execution_count": 32,
   "metadata": {},
   "outputs": [],
   "source": [
    "def run_info(classifier):\n",
    "    print('\\n**Run Info - ' + classifier + '**')\n",
    "    print('Dataset Shape :', chosen_dataframe.shape)\n",
    "    print('Dataset ratio of classes is', chosen_dataset_ratio)\n",
    "    print('Is gender an input feature :  ', gender_as_an_input)\n",
    "    print('Predicting feature :', chosen_feature_predicting)\n",
    "    print('Bin Method :', chosen_bin_method)\n",
    "    print('Scaling Method :', chosen_scaling_method)\n",
    "    print('With Gender?? :', gender_as_an_input)\n",
    "    print('****************\\n')\n",
    "    return"
   ]
  },
  {
   "cell_type": "markdown",
   "metadata": {},
   "source": [
    "### Function to print customized classification report"
   ]
  },
  {
   "cell_type": "code",
   "execution_count": 33,
   "metadata": {},
   "outputs": [],
   "source": [
    "def customized_classification_report(y_true,y_pred, AUCROC ):\n",
    "    cols_to_use_classification_report = ['terrible','poor','average','excellent','accuracy']\n",
    "    reportGBClassification = classification_report(y_true,\n",
    "                                                   y_pred,\n",
    "                                                   labels = cols_to_use_classification_report[:-1],\n",
    "                                                   output_dict=True)\n",
    "    \n",
    "    reportDF = pd.DataFrame(reportGBClassification, columns = cols_to_use_classification_report)[0:3]\n",
    "    reportDF[['terrible','poor','average','excellent']] = reportDF[['terrible','poor','average','excellent']].round(2)\n",
    "    \n",
    "    accuracyRow = reportDF['accuracy'].unique().tolist()\n",
    "    \n",
    "    reportDF.drop(columns='accuracy',inplace= True)\n",
    "\n",
    "    reportDF.loc[len(reportDF)] = 4 * accuracyRow\n",
    "    reportDF.loc[len(reportDF)] = 4 * [round(AUCROC,2)]\n",
    "\n",
    "    reportDF = reportDF.rename(index = {3:'accuracy',4:'AUC ROC'})\n",
    "    return reportDF"
   ]
  },
  {
   "cell_type": "markdown",
   "metadata": {},
   "source": [
    "# SVM Classifier"
   ]
  },
  {
   "cell_type": "code",
   "execution_count": 34,
   "metadata": {},
   "outputs": [],
   "source": [
    "def train_model_SVM_classifier(X_train, X_test, y_train, y_test,kernelType='linear',gamma_parameter='auto'):\n",
    "    \n",
    "    start = time.time()\n",
    "    print(\"Started Reading files at :\" + str(datetime.utcfromtimestamp(start).strftime('%Y-%m-%d %H:%M:%S')))\n",
    "    \n",
    "    labelMovieClass = ['terrible','poor','average','excellent']\n",
    "#     labelMovieClass = [1,2,3,4]\n",
    "    \n",
    "    # SVM Classifier parameters\n",
    "    \n",
    "    if(kernelType == 'linear'):\n",
    "        svclassifier = SVC(kernel = kernelType,\n",
    "                           gamma = gamma_parameter,\n",
    "                           probability=True\n",
    "                          )\n",
    "        clf = svclassifier\n",
    "        \n",
    "    elif(kernelType == 'LinearSVC'):\n",
    "        svclassifier = LinearSVC(random_state = 42,\n",
    "                                 tol=1e-5,\n",
    "                                 multi_class = 'ovr'\n",
    "                                )\n",
    "        # Using Calibrated Classifier cross validation and One VsRest classifier\n",
    "        clf0 = CalibratedClassifierCV(svclassifier, cv=10)\n",
    "        clf = OneVsRestClassifier(clf0, n_jobs = 10)\n",
    "        \n",
    "    elif(kernelType == 'poly'):\n",
    "        svclassifier = SVC(kernel=kernelType,\n",
    "                           gamma = gamma_parameter,\n",
    "#                            probability=True,\n",
    "                           degree=8\n",
    "                          )\n",
    "    elif(kernelType == 'rbf'):\n",
    "        svclassifier = SVC(kernel=kernelType,\n",
    "#                            probability=True,\n",
    "                    )\n",
    "    elif(kernelType == 'sigmoid'):\n",
    "        svclassifier = SVC(kernel=kernelType,\n",
    "#                            probability=True,\n",
    "                )\n",
    "    \n",
    "#     #Using Bagging classifier with SVC\n",
    "#     clf = BaggingClassifier(base_estimator = svclassifier,\n",
    "#                                      n_estimators=10, \n",
    "#                                      random_state= 42)    \n",
    "    \n",
    "#     #Using One Vs Rest classifier with SVC    \n",
    "#     clf = OneVsRestClassifier(svclassifier, n_jobs = 10)\n",
    "    \n",
    "      \n",
    "    # SVM Classifier Fit\n",
    "    clf.fit(X_train, y_train)\n",
    "\n",
    "    # Predict classes\n",
    "    y_pred = clf.predict(X_test)\n",
    "    y_prob = clf.predict_proba(X_test)\n",
    "\n",
    "    \n",
    "#     cnf_matrix = confusion_matrix(y_test, y_pred,labels= labelMovieClass )\n",
    "    cnf_matrix = confusion_matrix(y_test, y_pred)\n",
    "#     np.set_printoptions(precision=2)\n",
    "    \n",
    "    classifier_name = svclassifier.__class__.__name__\n",
    "    train_size = int(round((len(X_train) / len(chosen_dataframe)),1) * 100)\n",
    "    test_size = int(round((len(X_test) / len(chosen_dataframe)),1) * 100)\n",
    "    \n",
    "    # Print run info\n",
    "    run_info(classifier_name)\n",
    "    \n",
    "    # Plot non-normalized confusion matrix\n",
    "    plt.figure()\n",
    "    plot_confusion_matrix(cnf_matrix, classes= labelMovieClass,\n",
    "                      title='Confusion matrix, without normalization')\n",
    "    \n",
    "       \n",
    "    svm_train_score = clf.score(X_train, y_train)\n",
    "    print(\"\\nTraining Score of {0} on {2} % data : {1} \".format(classifier_name,round(svm_train_score,3),train_size))\n",
    "    \n",
    "    svm_test_score = clf.score(X_test, y_test)\n",
    "    print(\"Testing Score of {0} on {2} % data : {1} \".format(classifier_name,round(svm_test_score,3),test_size))\n",
    "\n",
    "    # Performance metrics\n",
    "    macro_ovo_roc_auc = roc_auc_score(y_test, y_prob,average= \"macro\" , multi_class = 'ovo')\n",
    "    print( \"\\nArea Under the Curve - ROC (OVO , Macro) : \",round(macro_ovo_roc_auc,3))\n",
    "    print( \"Matthews_corrcoef : \", round(metrics.matthews_corrcoef(y_test, y_pred),3))\n",
    "    \n",
    "\n",
    "    print(\"\\nClassification Report\\n\")\n",
    "    print(classification_report(y_test, y_pred, labels = labelMovieClass ))\n",
    "    \n",
    "    # Stop timer\n",
    "    end = time.time()\n",
    "    print(\"\\nStopped Reading files at :\" + str(datetime.utcfromtimestamp(end).strftime('%Y-%m-%d %H:%M:%S')))\n",
    "    total_time = str(round((end - start)/60,2))\n",
    "    print(\"Total time taken in seconds: \" + str((end - start)))\n",
    "    \n",
    "    return svclassifier,y_test,y_pred,macro_ovo_roc_auc"
   ]
  },
  {
   "cell_type": "markdown",
   "metadata": {},
   "source": [
    "## Running Director Dataset - with model features"
   ]
  },
  {
   "cell_type": "markdown",
   "metadata": {},
   "source": [
    "### Small sample for test"
   ]
  },
  {
   "cell_type": "code",
   "execution_count": 35,
   "metadata": {
    "scrolled": false
   },
   "outputs": [],
   "source": [
    "# for i in range(2):\n",
    "#     print('Round',i+4)\n",
    "#     NOR= 10000 * (i+4)\n",
    "#     print('Number of Rows',NOR)\n",
    "#     testSample =  chosen_dataframe.sample(n= NOR , random_state = 42 , replace = False)\n",
    "#     # Divide the data into training and test\n",
    "#     X_train, X_test, y_train, y_test = divide_test_train_with_scaling_methods(testSample,scalingMethod= chosen_scaling_method)\n",
    "#     svclassifier,total_time = train_model_SVM_classifier(X_train, X_test, y_train, y_test,kernelType= chosen_kernel_type ,gamma_parameter= chosen_gamma_type)\n",
    "#     print('Total Time in minutes: ', total_time )"
   ]
  },
  {
   "cell_type": "code",
   "execution_count": 36,
   "metadata": {},
   "outputs": [],
   "source": [
    "# # Comment this line if you want to use the originally chosen dataframe\n",
    "\n",
    "# testSample =  chosen_dataframe.sample(n= 10000 , random_state = 42 , replace = False)\n",
    "# # chosen_dataframe = testSample"
   ]
  },
  {
   "cell_type": "code",
   "execution_count": 37,
   "metadata": {},
   "outputs": [
    {
     "data": {
      "text/html": [
       "<div>\n",
       "<style scoped>\n",
       "    .dataframe tbody tr th:only-of-type {\n",
       "        vertical-align: middle;\n",
       "    }\n",
       "\n",
       "    .dataframe tbody tr th {\n",
       "        vertical-align: top;\n",
       "    }\n",
       "\n",
       "    .dataframe thead th {\n",
       "        text-align: right;\n",
       "    }\n",
       "</style>\n",
       "<table border=\"1\" class=\"dataframe\">\n",
       "  <thead>\n",
       "    <tr style=\"text-align: right;\">\n",
       "      <th></th>\n",
       "      <th>average_rating_value</th>\n",
       "      <th>movies_produced</th>\n",
       "      <th>career_Length</th>\n",
       "      <th>CareerStartYear</th>\n",
       "      <th>birthYear</th>\n",
       "      <th>median_inter_event_time</th>\n",
       "      <th>average_inter_event_time</th>\n",
       "      <th>total_review_count_user</th>\n",
       "      <th>total_review_count_critic</th>\n",
       "      <th>total_metascore</th>\n",
       "      <th>...</th>\n",
       "      <th>director_profession_tertiary</th>\n",
       "      <th>director_known_titles_count</th>\n",
       "      <th>director_known_titles_average_rating_value</th>\n",
       "      <th>average_movie_per_year</th>\n",
       "      <th>num_countries_screened</th>\n",
       "      <th>num_genres_directed</th>\n",
       "      <th>num_languages_released</th>\n",
       "      <th>director_class</th>\n",
       "      <th>Gender_Female</th>\n",
       "      <th>Gender_Male</th>\n",
       "    </tr>\n",
       "  </thead>\n",
       "  <tbody>\n",
       "  </tbody>\n",
       "</table>\n",
       "<p>0 rows × 63 columns</p>\n",
       "</div>"
      ],
      "text/plain": [
       "Empty DataFrame\n",
       "Columns: [average_rating_value, movies_produced, career_Length, CareerStartYear, birthYear, median_inter_event_time, average_inter_event_time, total_review_count_user, total_review_count_critic, total_metascore, median_metascore, total_awards_won, total_awards_nominated, total_gross_value, total_budget_value, budget_cur_AUD, budget_cur_CAD, budget_cur_EUR, budget_cur_GBP, budget_cur_INR, budget_cur_USD, average_runtime_of_movie, total_genre_Action, total_genre_Adult, total_genre_Adventure, total_genre_Animation, total_genre_Biography, total_genre_Comedy, total_genre_Crime, total_genre_Documentary, total_genre_Drama, total_genre_Family, total_genre_Fantasy, total_genre_Film_Noir, total_genre_Game_Show, total_genre_History, total_genre_Horror, total_genre_Music, total_genre_Musical, total_genre_Mystery, total_genre_News, total_genre_None, total_genre_Reality_TV, total_genre_Romance, total_genre_Sci_Fi, total_genre_Short, total_genre_Sport, total_genre_Talk_Show, total_genre_Thriller, total_genre_War, total_genre_Western, director_profession_primary, director_profession_secondary, director_profession_tertiary, director_known_titles_count, director_known_titles_average_rating_value, average_movie_per_year, num_countries_screened, num_genres_directed, num_languages_released, director_class, Gender_Female, Gender_Male]\n",
       "Index: []\n",
       "\n",
       "[0 rows x 63 columns]"
      ]
     },
     "execution_count": 37,
     "metadata": {},
     "output_type": "execute_result"
    }
   ],
   "source": [
    "chosen_dataframe[chosen_dataframe['birthYear'] == 6]"
   ]
  },
  {
   "cell_type": "code",
   "execution_count": 38,
   "metadata": {},
   "outputs": [
    {
     "name": "stdout",
     "output_type": "stream",
     "text": [
      "The scaling method used is :  MinMaxScaler\n"
     ]
    }
   ],
   "source": [
    "# Divide the data into training and test\n",
    "\n",
    "X_train, X_test, y_train, y_test = divide_test_train_with_scaling_methods(chosen_dataframe,scalingMethod= chosen_scaling_method)"
   ]
  },
  {
   "cell_type": "code",
   "execution_count": 39,
   "metadata": {},
   "outputs": [
    {
     "data": {
      "text/plain": [
       "((1320, 62), (1320,))"
      ]
     },
     "execution_count": 39,
     "metadata": {},
     "output_type": "execute_result"
    }
   ],
   "source": [
    "X_train.shape , y_train.shape"
   ]
  },
  {
   "cell_type": "code",
   "execution_count": 40,
   "metadata": {},
   "outputs": [
    {
     "data": {
      "text/plain": [
       "((331, 62), (331,))"
      ]
     },
     "execution_count": 40,
     "metadata": {},
     "output_type": "execute_result"
    }
   ],
   "source": [
    "X_test.shape , y_test.shape"
   ]
  },
  {
   "cell_type": "markdown",
   "metadata": {},
   "source": [
    "For Dataset 1<br>\n",
    "50 seconds for 10000 records<br>\n",
    "200 seconds for 20000 records"
   ]
  },
  {
   "cell_type": "code",
   "execution_count": 41,
   "metadata": {
    "scrolled": false
   },
   "outputs": [
    {
     "name": "stdout",
     "output_type": "stream",
     "text": [
      "Started Reading files at :2020-05-22 16:06:20\n",
      "\n",
      "**Run Info - LinearSVC**\n",
      "Dataset Shape : (1651, 63)\n",
      "Dataset ratio of classes is unbalanced\n",
      "Is gender an input feature :   Yes\n",
      "Predicting feature : average_rating_count\n",
      "Bin Method : quartiles\n",
      "Scaling Method : MinMaxScaler\n",
      "With Gender?? : Yes\n",
      "****************\n",
      "\n",
      "Confusion matrix, without normalization\n",
      "[[38 10 22 13]\n",
      " [ 9 66  4  4]\n",
      " [19  2 28 33]\n",
      " [ 4  1 19 59]]\n",
      "\n",
      "Training Score of LinearSVC on 80 % data : 0.655 \n",
      "Testing Score of LinearSVC on 20 % data : 0.577 \n",
      "\n",
      "Area Under the Curve - ROC (OVO , Macro) :  0.834\n",
      "Matthews_corrcoef :  0.439\n",
      "\n",
      "Classification Report\n",
      "\n",
      "              precision    recall  f1-score   support\n",
      "\n",
      "    terrible       0.54      0.71      0.61        83\n",
      "        poor       0.38      0.34      0.36        82\n",
      "     average       0.54      0.46      0.50        83\n",
      "   excellent       0.84      0.80      0.81        83\n",
      "\n",
      "    accuracy                           0.58       331\n",
      "   macro avg       0.58      0.58      0.57       331\n",
      "weighted avg       0.58      0.58      0.57       331\n",
      "\n",
      "\n",
      "Stopped Reading files at :2020-05-22 16:06:22\n",
      "Total time taken in seconds: 2.3248953819274902\n"
     ]
    },
    {
     "data": {
      "image/png": "[encoded data removed]",
      "text/plain": [
       "<Figure size 432x288 with 2 Axes>"
      ]
     },
     "metadata": {
      "needs_background": "light"
     },
     "output_type": "display_data"
    }
   ],
   "source": [
    "svclassifier,y_true , y_pred, AUCROC  = train_model_SVM_classifier(X_train, X_test, y_train, y_test,kernelType= chosen_kernel_type ,gamma_parameter= chosen_gamma_type)"
   ]
  },
  {
   "cell_type": "code",
   "execution_count": 42,
   "metadata": {},
   "outputs": [
    {
     "data": {
      "text/html": [
       "<div>\n",
       "<style scoped>\n",
       "    .dataframe tbody tr th:only-of-type {\n",
       "        vertical-align: middle;\n",
       "    }\n",
       "\n",
       "    .dataframe tbody tr th {\n",
       "        vertical-align: top;\n",
       "    }\n",
       "\n",
       "    .dataframe thead th {\n",
       "        text-align: right;\n",
       "    }\n",
       "</style>\n",
       "<table border=\"1\" class=\"dataframe\">\n",
       "  <thead>\n",
       "    <tr style=\"text-align: right;\">\n",
       "      <th></th>\n",
       "      <th>terrible</th>\n",
       "      <th>poor</th>\n",
       "      <th>average</th>\n",
       "      <th>excellent</th>\n",
       "    </tr>\n",
       "  </thead>\n",
       "  <tbody>\n",
       "    <tr>\n",
       "      <th>precision</th>\n",
       "      <td>0.540000</td>\n",
       "      <td>0.380000</td>\n",
       "      <td>0.540000</td>\n",
       "      <td>0.840000</td>\n",
       "    </tr>\n",
       "    <tr>\n",
       "      <th>recall</th>\n",
       "      <td>0.710000</td>\n",
       "      <td>0.340000</td>\n",
       "      <td>0.460000</td>\n",
       "      <td>0.800000</td>\n",
       "    </tr>\n",
       "    <tr>\n",
       "      <th>f1-score</th>\n",
       "      <td>0.610000</td>\n",
       "      <td>0.360000</td>\n",
       "      <td>0.500000</td>\n",
       "      <td>0.810000</td>\n",
       "    </tr>\n",
       "    <tr>\n",
       "      <th>accuracy</th>\n",
       "      <td>0.577039</td>\n",
       "      <td>0.577039</td>\n",
       "      <td>0.577039</td>\n",
       "      <td>0.577039</td>\n",
       "    </tr>\n",
       "    <tr>\n",
       "      <th>AUC ROC</th>\n",
       "      <td>0.830000</td>\n",
       "      <td>0.830000</td>\n",
       "      <td>0.830000</td>\n",
       "      <td>0.830000</td>\n",
       "    </tr>\n",
       "  </tbody>\n",
       "</table>\n",
       "</div>"
      ],
      "text/plain": [
       "           terrible      poor   average  excellent\n",
       "precision  0.540000  0.380000  0.540000   0.840000\n",
       "recall     0.710000  0.340000  0.460000   0.800000\n",
       "f1-score   0.610000  0.360000  0.500000   0.810000\n",
       "accuracy   0.577039  0.577039  0.577039   0.577039\n",
       "AUC ROC    0.830000  0.830000  0.830000   0.830000"
      ]
     },
     "execution_count": 42,
     "metadata": {},
     "output_type": "execute_result"
    }
   ],
   "source": [
    "SVM_reportDF = customized_classification_report(y_true,y_pred,AUCROC)\n",
    "SVM_reportDF"
   ]
  },
  {
   "cell_type": "code",
   "execution_count": 43,
   "metadata": {
    "scrolled": true
   },
   "outputs": [
    {
     "ename": "SyntaxError",
     "evalue": "'break' outside loop (<ipython-input-43-6aaf1f276005>, line 4)",
     "output_type": "error",
     "traceback": [
      "\u001b[1;36m  File \u001b[1;32m\"<ipython-input-43-6aaf1f276005>\"\u001b[1;36m, line \u001b[1;32m4\u001b[0m\n\u001b[1;31mSyntaxError\u001b[0m\u001b[1;31m:\u001b[0m 'break' outside loop\n"
     ]
    }
   ],
   "source": [
    "break"
   ]
  },
  {
   "cell_type": "markdown",
   "metadata": {},
   "source": [
    "# SHAP"
   ]
  },
  {
   "cell_type": "code",
   "execution_count": null,
   "metadata": {},
   "outputs": [],
   "source": [
    "import sklearn\n",
    "import shap\n",
    "from sklearn.model_selection import train_test_split\n",
    "\n",
    "# print the JS visualization code to the notebook\n",
    "shap.initjs()\n",
    "\n",
    "# train a SVM classifier\n",
    "\n",
    "svm = sklearn.svm.SVC(kernel='linear', probability=True)\n",
    "svm.fit(X_train, y_train)\n",
    "\n",
    "# use Kernel SHAP to explain test set predictions\n",
    "explainer = shap.KernelExplainer(svm.predict_proba, shap.kmeans(X_train,10), link=\"logit\")\n",
    "shap_values = explainer.shap_values(X_test)\n",
    "\n",
    "# plot the SHAP values for the Setosa output of the first instance\n",
    "shap.force_plot(explainer.expected_value[0], shap_values[0][0,:], X_test.iloc[0,:], link=\"logit\")"
   ]
  },
  {
   "cell_type": "code",
   "execution_count": null,
   "metadata": {},
   "outputs": [],
   "source": []
  },
  {
   "cell_type": "code",
   "execution_count": null,
   "metadata": {},
   "outputs": [],
   "source": []
  },
  {
   "cell_type": "code",
   "execution_count": null,
   "metadata": {},
   "outputs": [],
   "source": [
    "import shap\n"
   ]
  },
  {
   "cell_type": "code",
   "execution_count": null,
   "metadata": {},
   "outputs": [],
   "source": []
  },
  {
   "cell_type": "code",
   "execution_count": 44,
   "metadata": {},
   "outputs": [],
   "source": [
    "def train_model_SVM_classifier(X_train, X_test, y_train, y_test,kernelType='linear',gamma_parameter='auto'):\n",
    "    \n",
    "    start = time.time()\n",
    "    print(\"Started Reading files at :\" + str(datetime.utcfromtimestamp(start).strftime('%Y-%m-%d %H:%M:%S')))\n",
    "    \n",
    "    labelMovieClass = ['terrible','poor','average','excellent']\n",
    "#     labelMovieClass = [1,2,3,4]\n",
    "    \n",
    "    # SVM Classifier parameters\n",
    "    \n",
    "    if(kernelType == 'linear'):\n",
    "        svclassifier = SVC(kernel = kernelType,\n",
    "                           gamma = gamma_parameter,\n",
    "                           probability=True\n",
    "                          )\n",
    "        \n",
    "    elif(kernelType == 'LinearSVC'):\n",
    "        svclassifier = LinearSVC(random_state = 42,\n",
    "                                 tol=1e-5,\n",
    "                                 multi_class = 'ovr'\n",
    "                                )\n",
    "        # Using Calibrated Classifier cross validation and One VsRest classifier\n",
    "        clf0 = CalibratedClassifierCV(svclassifier, cv=10)\n",
    "        clf = OneVsRestClassifier(clf0, n_jobs = 10)\n",
    "        \n",
    "    elif(kernelType == 'poly'):\n",
    "        svclassifier = SVC(kernel=kernelType,\n",
    "                           gamma = gamma_parameter,\n",
    "#                            probability=True,\n",
    "                           degree=8\n",
    "                          )\n",
    "    elif(kernelType == 'rbf'):\n",
    "        svclassifier = SVC(kernel=kernelType,\n",
    "#                            probability=True,\n",
    "                    )\n",
    "    elif(kernelType == 'sigmoid'):\n",
    "        svclassifier = SVC(kernel=kernelType,\n",
    "#                            probability=True,\n",
    "                )\n",
    "    \n",
    "#     #Using Bagging classifier with SVC\n",
    "#     clf = BaggingClassifier(base_estimator = svclassifier,\n",
    "#                                      n_estimators=10, \n",
    "#                                      random_state= 42)    \n",
    "    \n",
    "#     #Using One Vs Rest classifier with SVC    \n",
    "#     clf = OneVsRestClassifier(svclassifier, n_jobs = 10)\n",
    "    \n",
    "     \n",
    "\n",
    "\n",
    "\n",
    "    \n",
    "    # SVM Classifier Fit\n",
    "    clf.fit(X_train, y_train)\n",
    "\n",
    "    # Predict classes\n",
    "    y_pred = clf.predict(X_test)\n",
    "    y_prob = clf.predict_proba(X_test)\n",
    "  \n",
    "    \n",
    "#     cnf_matrix = confusion_matrix(y_test, y_pred,labels= labelMovieClass )\n",
    "    cnf_matrix = confusion_matrix(y_test, y_pred)\n",
    "#     np.set_printoptions(precision=2)\n",
    "    \n",
    "    classifier_name = svclassifier.__class__.__name__\n",
    "    train_size = int(round((len(X_train) / len(chosen_dataframe)),1) * 100)\n",
    "    test_size = int(round((len(X_test) / len(chosen_dataframe)),1) * 100)\n",
    "    \n",
    "    # Print run info\n",
    "    run_info(classifier_name)\n",
    "    \n",
    "    # Plot non-normalized confusion matrix\n",
    "    plt.figure()\n",
    "    plot_confusion_matrix(cnf_matrix, classes= labelMovieClass,\n",
    "                      title='Confusion matrix, without normalization')\n",
    "    \n",
    "       \n",
    "    svm_train_score = clf.score(X_train, y_train)\n",
    "    print(\"\\nTraining Score of {0} on {2} % data : {1} \".format(classifier_name,round(svm_train_score,3),train_size))\n",
    "    \n",
    "    svm_test_score = clf.score(X_test, y_test)\n",
    "    print(\"Testing Score of {0} on {2} % data : {1} \".format(classifier_name,round(svm_test_score,3),test_size))\n",
    "\n",
    "    # Performance metrics\n",
    "    macro_ovo_roc_auc = roc_auc_score(y_test, y_prob,average= \"macro\" , multi_class = 'ovo')\n",
    "    print( \"\\nArea Under the Curve - ROC (OVO , Macro) : \",round(macro_ovo_roc_auc,3))\n",
    "    print( \"Matthews_corrcoef : \", round(metrics.matthews_corrcoef(y_test, y_pred),3))\n",
    "    \n",
    "\n",
    "    print(\"\\nClassification Report\\n\")\n",
    "    print(classification_report(y_test, y_pred, labels = labelMovieClass ))\n",
    "    \n",
    "    # Stop timer\n",
    "    end = time.time()\n",
    "    print(\"\\nStopped Reading files at :\" + str(datetime.utcfromtimestamp(end).strftime('%Y-%m-%d %H:%M:%S')))\n",
    "    total_time = str(round((end - start)/60,2))\n",
    "    print(\"Total time taken in seconds: \" + str((end - start)))\n",
    "    \n",
    "    return clf, svclassifier,y_test,y_pred,macro_ovo_roc_auc"
   ]
  },
  {
   "cell_type": "code",
   "execution_count": 45,
   "metadata": {
    "scrolled": false
   },
   "outputs": [
    {
     "name": "stdout",
     "output_type": "stream",
     "text": [
      "Started Reading files at :2020-05-22 16:06:30\n",
      "\n",
      "**Run Info - LinearSVC**\n",
      "Dataset Shape : (1651, 63)\n",
      "Dataset ratio of classes is unbalanced\n",
      "Is gender an input feature :   Yes\n",
      "Predicting feature : average_rating_count\n",
      "Bin Method : quartiles\n",
      "Scaling Method : MinMaxScaler\n",
      "With Gender?? : Yes\n",
      "****************\n",
      "\n",
      "Confusion matrix, without normalization\n",
      "[[38 10 22 13]\n",
      " [ 9 66  4  4]\n",
      " [19  2 28 33]\n",
      " [ 4  1 19 59]]\n",
      "\n",
      "Training Score of LinearSVC on 80 % data : 0.655 \n",
      "Testing Score of LinearSVC on 20 % data : 0.577 \n",
      "\n",
      "Area Under the Curve - ROC (OVO , Macro) :  0.834\n",
      "Matthews_corrcoef :  0.439\n",
      "\n",
      "Classification Report\n",
      "\n",
      "              precision    recall  f1-score   support\n",
      "\n",
      "    terrible       0.54      0.71      0.61        83\n",
      "        poor       0.38      0.34      0.36        82\n",
      "     average       0.54      0.46      0.50        83\n",
      "   excellent       0.84      0.80      0.81        83\n",
      "\n",
      "    accuracy                           0.58       331\n",
      "   macro avg       0.58      0.58      0.57       331\n",
      "weighted avg       0.58      0.58      0.57       331\n",
      "\n",
      "\n",
      "Stopped Reading files at :2020-05-22 16:06:31\n",
      "Total time taken in seconds: 1.2341039180755615\n"
     ]
    },
    {
     "data": {
      "image/png": "[encoded data removed]",
      "text/plain": [
       "<Figure size 432x288 with 2 Axes>"
      ]
     },
     "metadata": {
      "needs_background": "light"
     },
     "output_type": "display_data"
    }
   ],
   "source": [
    "clf , svclassifier,y_true , y_pred, AUCROC  = train_model_SVM_classifier(X_train, X_test, y_train, y_test,kernelType= chosen_kernel_type ,gamma_parameter= chosen_gamma_type)"
   ]
  },
  {
   "cell_type": "code",
   "execution_count": null,
   "metadata": {},
   "outputs": [],
   "source": []
  },
  {
   "cell_type": "code",
   "execution_count": null,
   "metadata": {},
   "outputs": [],
   "source": [
    "# print the JS visualization code to the notebook\n",
    "shap.initjs()\n",
    "\n",
    "# use Kernel SHAP to explain test set predictions\n",
    "explainer = shap.KernelExplainer(clf.predict_proba, X_train, link=\"logit\")\n",
    "shap_values = explainer.shap_values(X_test, nsamples=5)\n",
    "\n",
    "# plot the SHAP values for the Setosa output of the first instance\n",
    "shap.force_plot(explainer.expected_value[0], shap_values[0][0,:], X_test[0,:], link=\"logit\")"
   ]
  },
  {
   "cell_type": "code",
   "execution_count": null,
   "metadata": {},
   "outputs": [],
   "source": []
  },
  {
   "cell_type": "code",
   "execution_count": null,
   "metadata": {},
   "outputs": [],
   "source": []
  },
  {
   "cell_type": "code",
   "execution_count": null,
   "metadata": {},
   "outputs": [],
   "source": []
  },
  {
   "cell_type": "markdown",
   "metadata": {},
   "source": [
    "# Code ends here for SVM Testing"
   ]
  },
  {
   "cell_type": "code",
   "execution_count": null,
   "metadata": {},
   "outputs": [],
   "source": []
  },
  {
   "cell_type": "code",
   "execution_count": null,
   "metadata": {},
   "outputs": [],
   "source": []
  },
  {
   "cell_type": "code",
   "execution_count": null,
   "metadata": {},
   "outputs": [],
   "source": []
  },
  {
   "cell_type": "code",
   "execution_count": null,
   "metadata": {},
   "outputs": [],
   "source": [
    "# temp_director_only = movies_data.dropna(subset=model_features)\n",
    "temp_director_only = movies_data\n",
    "temp_director_only.info()"
   ]
  },
  {
   "cell_type": "code",
   "execution_count": null,
   "metadata": {},
   "outputs": [],
   "source": [
    "def print_features_selected(df):\n",
    "    print('[',end = '')\n",
    "    for i,v in enumerate(df.columns.values):\n",
    "        if(i==len(df.columns.values)-1):\n",
    "            print(\"'\" + str(v) +\"']\")\n",
    "        else:\n",
    "            print(\"'\" + str(v) +\"',\")"
   ]
  },
  {
   "cell_type": "code",
   "execution_count": null,
   "metadata": {},
   "outputs": [],
   "source": [
    "# # print_features_selected(temp_director_only)\n",
    "# print_features_selected(maxEqualDF[model_features])"
   ]
  },
  {
   "cell_type": "markdown",
   "metadata": {},
   "source": [
    "## Running Whole Director DF "
   ]
  },
  {
   "cell_type": "code",
   "execution_count": null,
   "metadata": {},
   "outputs": [],
   "source": [
    "y_test,y_pred,model_SVC = run_model_SVM(df = temp_director_only,\n",
    "                                        predictingFeature= chosen_feature_predicting,\n",
    "                                        kernelType= chosen_kernel_type,\n",
    "                                        gamma= chosen_gamma_type\n",
    "                                       )\n"
   ]
  },
  {
   "cell_type": "code",
   "execution_count": null,
   "metadata": {},
   "outputs": [],
   "source": [
    "# y_test,y_pred,model_SVC,storeDF.loc[len(storeDF)] = run_model_SVM(model_comments,temp_director_only,storeDF,\n",
    "#                                                                   model_features,'Gender','linear','auto')"
   ]
  },
  {
   "cell_type": "code",
   "execution_count": null,
   "metadata": {},
   "outputs": [],
   "source": [
    "evaluation_analysis(y_test,y_pred)"
   ]
  },
  {
   "cell_type": "code",
   "execution_count": null,
   "metadata": {},
   "outputs": [],
   "source": [
    "storeDF"
   ]
  },
  {
   "cell_type": "code",
   "execution_count": null,
   "metadata": {},
   "outputs": [],
   "source": [
    "# #Save a copy of true and predicted for Manual intervention\n",
    "# Actual = y_test.to_frame()\n",
    "# Actual['predicter'] = y_pred\n",
    "# save_to_file(Actual,saveFileToPath)"
   ]
  },
  {
   "cell_type": "markdown",
   "metadata": {},
   "source": [
    "## Running Balanced max Equal DF "
   ]
  },
  {
   "cell_type": "code",
   "execution_count": null,
   "metadata": {},
   "outputs": [],
   "source": [
    "y_test,y_pred,model_SVC,storeDF.loc[len(storeDF)] = run_model_SVM(model_comments,maxEqualDF,storeDF,\n",
    "                                                                  model_features,'Gender','linear','auto')"
   ]
  },
  {
   "cell_type": "code",
   "execution_count": null,
   "metadata": {},
   "outputs": [],
   "source": [
    "evaluation_analysis(y_test,y_pred)"
   ]
  },
  {
   "cell_type": "code",
   "execution_count": null,
   "metadata": {},
   "outputs": [],
   "source": [
    "storeDF"
   ]
  },
  {
   "cell_type": "markdown",
   "metadata": {},
   "source": [
    "## Test Run sample DF"
   ]
  },
  {
   "cell_type": "code",
   "execution_count": null,
   "metadata": {},
   "outputs": [],
   "source": [
    "y_test,y_pred,model_SVC,storeDF.loc[len(storeDF)] = run_model_SVM(model_comments,equalDF,storeDF,\n",
    "                                                                  model_features,'Gender','poly','auto')"
   ]
  },
  {
   "cell_type": "code",
   "execution_count": null,
   "metadata": {},
   "outputs": [],
   "source": [
    "evaluation_analysis(y_test,y_pred)"
   ]
  },
  {
   "cell_type": "code",
   "execution_count": null,
   "metadata": {},
   "outputs": [],
   "source": [
    "evaluation_analysis(y_test,y_pred)"
   ]
  },
  {
   "cell_type": "code",
   "execution_count": null,
   "metadata": {},
   "outputs": [],
   "source": [
    "storeDF"
   ]
  },
  {
   "cell_type": "code",
   "execution_count": null,
   "metadata": {},
   "outputs": [],
   "source": []
  },
  {
   "cell_type": "code",
   "execution_count": null,
   "metadata": {},
   "outputs": [],
   "source": []
  },
  {
   "cell_type": "code",
   "execution_count": null,
   "metadata": {},
   "outputs": [],
   "source": [
    "save_to_file(storeDF,saveFileToPath)"
   ]
  },
  {
   "cell_type": "code",
   "execution_count": null,
   "metadata": {},
   "outputs": [],
   "source": []
  },
  {
   "cell_type": "markdown",
   "metadata": {},
   "source": []
  }
 ],
 "metadata": {
  "kernelspec": {
   "display_name": "Python 3",
   "language": "python",
   "name": "python3"
  },
  "language_info": {
   "codemirror_mode": {
    "name": "ipython",
    "version": 3
   },
   "file_extension": ".py",
   "mimetype": "text/x-python",
   "name": "python",
   "nbconvert_exporter": "python",
   "pygments_lexer": "ipython3",
   "version": "3.7.3"
  }
 },
 "nbformat": 4,
 "nbformat_minor": 2
}
