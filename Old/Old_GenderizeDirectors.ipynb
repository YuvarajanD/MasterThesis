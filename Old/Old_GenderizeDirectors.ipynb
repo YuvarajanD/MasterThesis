{
 "cells": [
  {
   "cell_type": "code",
   "execution_count": 1,
   "metadata": {},
   "outputs": [],
   "source": [
    "from dateutil.parser import parse \n",
    "import matplotlib as mpl\n",
    "import matplotlib.pyplot as plt\n",
    "import seaborn as sns\n",
    "import numpy as np\n",
    "import pandas as pd\n",
    "from genderize import Genderize\n",
    "import unicodedata\n",
    "plt.rcParams.update({'figure.figsize': (10, 7), 'figure.dpi': 120})"
   ]
  },
  {
   "cell_type": "code",
   "execution_count": null,
   "metadata": {},
   "outputs": [],
   "source": [
    "fileLocation = 'C:\\\\Yuva\\\\ITU\\\\3rd Sem\\\\Research Topics\\\\Movies & Gender\\\\Data\\\\IMDb\\\\stage2ExplodeAndMergeDF_Nov-04-2019.csv'\n",
    "saveFileToPath = \"C:\\\\Yuva\\\\ITU\\\\3rd Sem\\\\Research Topics\\\\Movies & Gender\\\\Data\\\\IMDb\""
   ]
  },
  {
   "cell_type": "code",
   "execution_count": null,
   "metadata": {},
   "outputs": [],
   "source": [
    "# Import as Dataframe\n",
    "df = pd.read_csv(fileLocation,parse_dates=['date_published'],index_col='date_published')\n",
    "df.reset_index(inplace=True)"
   ]
  },
  {
   "cell_type": "code",
   "execution_count": null,
   "metadata": {},
   "outputs": [],
   "source": [
    "df = df.sort_values(by ='movie_id')\n",
    "df = df.reset_index(drop=True)"
   ]
  },
  {
   "cell_type": "code",
   "execution_count": null,
   "metadata": {},
   "outputs": [],
   "source": [
    "df4 = df.copy()\n",
    "df4['date_published'] = pd.to_datetime(df['date_published'])\n",
    "df4['year'], df4['month'] = df4['date_published'].dt.year, df4['date_published'].dt.month\n",
    "\n",
    "#Creating First name and Surname\n",
    "\n",
    "df4['First Name'] = df4['primaryName'].apply(lambda x: x.split(' ')[0])\n",
    "#df4['Surname'] = df4['primaryName'].apply(lambda x: x.split(' ')[1])\n",
    "df4.head(20)"
   ]
  },
  {
   "cell_type": "code",
   "execution_count": null,
   "metadata": {},
   "outputs": [],
   "source": [
    "df4['First Name'].count()"
   ]
  },
  {
   "cell_type": "code",
   "execution_count": null,
   "metadata": {},
   "outputs": [],
   "source": [
    "df4['primaryName'].nunique()"
   ]
  },
  {
   "cell_type": "code",
   "execution_count": null,
   "metadata": {},
   "outputs": [],
   "source": [
    "def specialCharacterConversion(name):\n",
    "    text = unicodedata.normalize('NFKD', name).encode('ascii', 'ignore').decode(\"utf-8\").lower() \n",
    "    return text\n",
    "    "
   ]
  },
  {
   "cell_type": "code",
   "execution_count": null,
   "metadata": {},
   "outputs": [],
   "source": [
    "# Convert the Firstname as it has special characters to equal english version for genderizing\n",
    "df4['First'] = df4['First Name'].apply(specialCharacterConversion)"
   ]
  },
  {
   "cell_type": "code",
   "execution_count": null,
   "metadata": {},
   "outputs": [],
   "source": [
    "#nameDatabaseLocation = 'C:\\\\Yuva\\\\ITU\\\\3rd Sem\\\\Research Topics\\\\Movies & Gender\\\\Genderize\\\\Lookup_nltk.csv'\n",
    "nameDatabaseLocation = 'C:\\\\Yuva\\\\ITU\\\\3rd Sem\\\\Research Topics\\\\Movies & Gender\\\\Genderize\\\\GuardianWebiste_names.csv'\n",
    "# Import as Dataframe\n",
    "nameDF = pd.read_csv(nameDatabaseLocation,encoding=\"utf8\")"
   ]
  },
  {
   "cell_type": "code",
   "execution_count": null,
   "metadata": {},
   "outputs": [],
   "source": [
    "#nameDF.First = nameDF.First.str.lower()"
   ]
  },
  {
   "cell_type": "code",
   "execution_count": null,
   "metadata": {},
   "outputs": [],
   "source": [
    "# Merge genders and first names\n",
    "nameGenderDF = df4.merge(nameDF, on='First',how ='left')"
   ]
  },
  {
   "cell_type": "code",
   "execution_count": null,
   "metadata": {},
   "outputs": [],
   "source": [
    "nameGenderDF.Gender.value_counts(dropna=False)"
   ]
  },
  {
   "cell_type": "code",
   "execution_count": null,
   "metadata": {},
   "outputs": [],
   "source": []
  },
  {
   "cell_type": "code",
   "execution_count": null,
   "metadata": {},
   "outputs": [],
   "source": []
  },
  {
   "cell_type": "markdown",
   "metadata": {},
   "source": [
    "nameGenderDF.movie_id.nunique()\n"
   ]
  },
  {
   "cell_type": "code",
   "execution_count": null,
   "metadata": {},
   "outputs": [],
   "source": []
  },
  {
   "cell_type": "code",
   "execution_count": null,
   "metadata": {},
   "outputs": [],
   "source": []
  },
  {
   "cell_type": "code",
   "execution_count": null,
   "metadata": {},
   "outputs": [],
   "source": [
    "# nameGenderDF.loc[nameGenderDF['movie_id'] == 'tt6604148']\n",
    "saveMergeFilePath = 'C:\\\\Yuva\\\\ITU\\\\3rd Sem\\\\Research Topics\\\\Movies & Gender\\\\Data\\\\IMDb'"
   ]
  },
  {
   "cell_type": "code",
   "execution_count": null,
   "metadata": {},
   "outputs": [],
   "source": [
    "# ML Packages\n",
    "from sklearn.feature_extraction.text import CountVectorizer\n",
    "from sklearn.feature_extraction import DictVectorizer\n",
    "\n",
    "from sklearn.externals import joblib"
   ]
  },
  {
   "cell_type": "code",
   "execution_count": null,
   "metadata": {},
   "outputs": [],
   "source": [
    "loadPath = 'C:\\\\Yuva\\\\ITU\\\\3rd Sem\\\\Research Topics\\\\Movies & Gender\\\\Genderize\\\\naivebayesgendermodel.pkl'"
   ]
  },
  {
   "cell_type": "code",
   "execution_count": null,
   "metadata": {},
   "outputs": [],
   "source": [
    "loaded_model = joblib.load(loadPath)"
   ]
  },
  {
   "cell_type": "code",
   "execution_count": null,
   "metadata": {},
   "outputs": [],
   "source": [
    "loaded_model"
   ]
  },
  {
   "cell_type": "code",
   "execution_count": null,
   "metadata": {},
   "outputs": [],
   "source": [
    "cv = CountVectorizer()"
   ]
  },
  {
   "cell_type": "code",
   "execution_count": null,
   "metadata": {},
   "outputs": [],
   "source": [
    "# Sample1 Prediction\n",
    "sample_name = [\"Mary\"]\n",
    "vect = cv.transform(sample_name).toarray()"
   ]
  },
  {
   "cell_type": "code",
   "execution_count": null,
   "metadata": {},
   "outputs": [],
   "source": [
    "# Female is 0, Male is 1\n",
    "clf.predict(vect)"
   ]
  },
  {
   "cell_type": "code",
   "execution_count": null,
   "metadata": {},
   "outputs": [],
   "source": []
  },
  {
   "cell_type": "code",
   "execution_count": null,
   "metadata": {},
   "outputs": [],
   "source": []
  },
  {
   "cell_type": "code",
   "execution_count": null,
   "metadata": {},
   "outputs": [],
   "source": []
  },
  {
   "cell_type": "code",
   "execution_count": null,
   "metadata": {},
   "outputs": [],
   "source": []
  },
  {
   "cell_type": "code",
   "execution_count": null,
   "metadata": {},
   "outputs": [],
   "source": []
  },
  {
   "cell_type": "code",
   "execution_count": null,
   "metadata": {},
   "outputs": [],
   "source": [
    "dv = DictVectorizer()"
   ]
  },
  {
   "cell_type": "code",
   "execution_count": null,
   "metadata": {},
   "outputs": [],
   "source": [
    "# By Analogy most female names ends in 'A' or 'E' or has the sound of 'A'\n",
    "def features(name):\n",
    "    name = name.lower()\n",
    "    return {\n",
    "        'first-letter': name[0], # First letter\n",
    "        'first2-letters': name[0:2], # First 2 letters\n",
    "        'first3-letters': name[0:3], # First 3 letters\n",
    "        'last-letter': name[-1],\n",
    "        'last2-letters': name[-2:],\n",
    "        'last3-letters': name[-3:],\n",
    "    }"
   ]
  },
  {
   "cell_type": "code",
   "execution_count": null,
   "metadata": {},
   "outputs": [],
   "source": [
    "# Vectorize the features function\n",
    "features = np.vectorize(features)"
   ]
  },
  {
   "cell_type": "code",
   "execution_count": null,
   "metadata": {},
   "outputs": [],
   "source": []
  },
  {
   "cell_type": "code",
   "execution_count": null,
   "metadata": {},
   "outputs": [],
   "source": []
  },
  {
   "cell_type": "code",
   "execution_count": null,
   "metadata": {},
   "outputs": [],
   "source": []
  },
  {
   "cell_type": "code",
   "execution_count": null,
   "metadata": {},
   "outputs": [],
   "source": []
  },
  {
   "cell_type": "code",
   "execution_count": null,
   "metadata": {},
   "outputs": [],
   "source": []
  },
  {
   "cell_type": "code",
   "execution_count": null,
   "metadata": {},
   "outputs": [],
   "source": []
  },
  {
   "cell_type": "code",
   "execution_count": null,
   "metadata": {},
   "outputs": [],
   "source": [
    "# Build Features and Transform them\n",
    "sample_name_eg = \"Alex\"\n",
    "transform_dv =dv.transform(features(sample_name_eg))\n",
    "vect3 = transform_dv.toarray()"
   ]
  },
  {
   "cell_type": "code",
   "execution_count": null,
   "metadata": {},
   "outputs": [],
   "source": []
  },
  {
   "cell_type": "code",
   "execution_count": null,
   "metadata": {},
   "outputs": [],
   "source": [
    "loaded_model.predict"
   ]
  },
  {
   "cell_type": "code",
   "execution_count": null,
   "metadata": {},
   "outputs": [],
   "source": [
    "nameGenderDF"
   ]
  },
  {
   "cell_type": "code",
   "execution_count": null,
   "metadata": {},
   "outputs": [],
   "source": [
    "nameGenderDF.to_csv(saveMergeFilePath+ '\\\\01Nov2019_GenderizedData.csv',index=False, encoding=\"utf8\" )"
   ]
  },
  {
   "cell_type": "markdown",
   "metadata": {},
   "source": [
    "# The end"
   ]
  },
  {
   "cell_type": "code",
   "execution_count": null,
   "metadata": {},
   "outputs": [],
   "source": []
  },
  {
   "cell_type": "code",
   "execution_count": null,
   "metadata": {},
   "outputs": [],
   "source": [
    "#!/usr/bin/env python\n",
    "# -*- coding: utf-8 -*-\n",
    "\n",
    "text = u'Émile Reynaud'\n",
    "print(unicodedata.normalize('NFKD', text).encode('ascii', 'ignore'))"
   ]
  },
  {
   "cell_type": "code",
   "execution_count": null,
   "metadata": {},
   "outputs": [],
   "source": [
    "# Alternative API to genderize\n",
    "gen = Genderize().get(['Max'])\n",
    "gen[0]['gender']"
   ]
  },
  {
   "cell_type": "code",
   "execution_count": null,
   "metadata": {},
   "outputs": [],
   "source": []
  },
  {
   "cell_type": "code",
   "execution_count": null,
   "metadata": {},
   "outputs": [],
   "source": []
  },
  {
   "cell_type": "code",
   "execution_count": null,
   "metadata": {},
   "outputs": [],
   "source": [
    "explodeFileLocation = 'C:\\\\Yuva\\\\ITU\\\\3rd Sem\\\\Research Topics\\\\Movies & Gender\\\\Data\\\\IMDb\\\\Data23102019.csv'\n",
    "saveFileToPath = \"C:\\\\Yuva\\\\ITU\\\\3rd Sem\\\\Research Topics\\\\Movies & Gender\\\\Data\\\\IMDb\""
   ]
  },
  {
   "cell_type": "code",
   "execution_count": null,
   "metadata": {},
   "outputs": [],
   "source": [
    "# Import as Dataframe testing\n",
    "df = pd.read_csv(explodeFileLocation,parse_dates=['date_published'],index_col='date_published')\n",
    "df.reset_index(inplace=True)\n"
   ]
  },
  {
   "cell_type": "code",
   "execution_count": null,
   "metadata": {},
   "outputs": [],
   "source": [
    "df4 = df.copy()\n",
    "df4['date_published'] = pd.to_datetime(df['date_published'])\n",
    "df4['year'], df4['month'] = df4['date_published'].dt.year, df4['date_published'].dt.month\n",
    "df4.head()\n",
    "\n"
   ]
  },
  {
   "cell_type": "code",
   "execution_count": null,
   "metadata": {},
   "outputs": [],
   "source": [
    "directorDF = df4[['movie_id','director_names','director_ids']]"
   ]
  },
  {
   "cell_type": "code",
   "execution_count": null,
   "metadata": {
    "scrolled": true
   },
   "outputs": [],
   "source": [
    "#directorDF['director_names'].str.normalize('NFKD').str.encode('ascii',errors='ignore').str.decode('utf-8')\n",
    "directorDF.director_names = df4.director_names.str.split(\"\\t\", n = 1, expand = False)\n",
    "directorDF.director_ids = df4.director_ids.str.split(\"\\t\", n = 1, expand = False)\n",
    "\n",
    "directorDF\n",
    "\n",
    "#directorDF['director_names'].str.normalize('NFKD').str.encode('ascii')\n",
    "\n"
   ]
  },
  {
   "cell_type": "code",
   "execution_count": null,
   "metadata": {},
   "outputs": [],
   "source": [
    "dcopy = directorDF.copy()\n",
    "#dcopy"
   ]
  },
  {
   "cell_type": "code",
   "execution_count": null,
   "metadata": {},
   "outputs": [],
   "source": [
    "# def unnesting(df, explode):\n",
    "#     idx = df.index.repeat(df[explode[0]].str.len())\n",
    "#     df1 = pd.concat([\n",
    "#         pd.DataFrame({x: np.concatenate(df[x].values)}) for x in explode], axis=1)\n",
    "#     df1.index = idx\n",
    "\n",
    "#     return df1.join(df.drop(explode, 1), how='left')"
   ]
  },
  {
   "cell_type": "code",
   "execution_count": null,
   "metadata": {},
   "outputs": [],
   "source": [
    "unnestedDF = unnesting(dcopy,['director_names','director_ids']).reset_index(drop=True)\n"
   ]
  },
  {
   "cell_type": "code",
   "execution_count": null,
   "metadata": {},
   "outputs": [],
   "source": [
    "# To strip leading spaces in the directed by column\n",
    "unnestedDF.director_names = unnestedDF.director_names.str.strip()\n",
    "unnestedDF['director_names'].str.normalize('NFKD').str.encode('ascii').str.decode('utf-8')\n",
    "unnestedDF.director_ids = unnestedDF.director_ids.str.strip()"
   ]
  },
  {
   "cell_type": "code",
   "execution_count": null,
   "metadata": {},
   "outputs": [],
   "source": [
    "unnestedDF['First Name'] = unnestedDF['director_names'].apply(lambda x: x.split(' ')[0])\n",
    "unnestedDF['Surname'] = unnestedDF['director_names'].apply(lambda x: x.split(' ')[1])\n",
    "\n"
   ]
  },
  {
   "cell_type": "code",
   "execution_count": null,
   "metadata": {},
   "outputs": [],
   "source": [
    "unnestedDF"
   ]
  },
  {
   "cell_type": "code",
   "execution_count": null,
   "metadata": {},
   "outputs": [],
   "source": []
  },
  {
   "cell_type": "code",
   "execution_count": null,
   "metadata": {},
   "outputs": [],
   "source": []
  },
  {
   "cell_type": "code",
   "execution_count": null,
   "metadata": {},
   "outputs": [],
   "source": []
  },
  {
   "cell_type": "code",
   "execution_count": null,
   "metadata": {},
   "outputs": [],
   "source": [
    "# from itertools import chain\n",
    "# from collections import Counter\n",
    "\n",
    "# UniqueDirectorNamesDataFrame = pd.DataFrame.from_dict(Counter(chain(df4.director_ids)), orient='index').sort_values(0,ascending=False)\n",
    "# #UniqueDirectorNamesDataFrame = pd.DataFrame.from_dict(Counter(chain(dcopy.director_ids)), orient='index').sort_values(0,ascending=False)\n",
    "# UniqueDirectorNamesDataFrame.reset_index()\n",
    "# #Slower\n",
    "# #df4.director_names.apply(pd.Series).stack().value_counts()"
   ]
  }
 ],
 "metadata": {
  "kernelspec": {
   "display_name": "Python 3",
   "language": "python",
   "name": "python3"
  },
  "language_info": {
   "codemirror_mode": {
    "name": "ipython",
    "version": 3
   },
   "file_extension": ".py",
   "mimetype": "text/x-python",
   "name": "python",
   "nbconvert_exporter": "python",
   "pygments_lexer": "ipython3",
   "version": "3.7.3"
  }
 },
 "nbformat": 4,
 "nbformat_minor": 2
}
