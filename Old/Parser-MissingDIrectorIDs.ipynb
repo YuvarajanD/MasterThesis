{
 "cells": [
  {
   "cell_type": "code",
   "execution_count": 1,
   "metadata": {},
   "outputs": [],
   "source": [
    "import pandas as pd \n",
    "import numpy as np\n",
    "import os\n",
    "from pandas.compat import StringIO\n",
    "import re"
   ]
  },
  {
   "cell_type": "code",
   "execution_count": 17,
   "metadata": {},
   "outputs": [],
   "source": [
    "#criteria_list = ['movie_id','director_ids', 'Series Directed by']\n",
    "criteria_list = ['movie_id','director_ids']\n",
    "title_list = ['movie_id', 'director_ids', 'Series director_ids',\"FileName\"]\n"
   ]
  },
  {
   "cell_type": "code",
   "execution_count": 19,
   "metadata": {},
   "outputs": [],
   "source": [
    "def parse_file(nameFile,file_location):  \n",
    "    \n",
    "    extract_data = []\n",
    "    \n",
    "    with open(file_location+'/'+nameFile, encoding=\"utf8\") as f:\n",
    "        \n",
    "        \n",
    "        for line in f:\n",
    "            process(line, extract_data)\n",
    "            \n",
    "            # regex to match the TITLE field\n",
    "#             regex = r\"\\btitle\\t\" \n",
    "#             if re.match(regex, line):\n",
    "                \n",
    "#                 extract_data.append(line.strip().split('\\t'))\n",
    "            \n",
    "            regex2 = r\"Directed by\"\n",
    "            if re.match(regex2,line):\n",
    "                extract_data.append(line.strip().split('\\t'))\n",
    "        \n",
    "        extract_data.append(['dummy', nameFile])\n",
    "        \n",
    "    return modify_data(extract_data)\n"
   ]
  },
  {
   "cell_type": "code",
   "execution_count": 20,
   "metadata": {},
   "outputs": [
    {
     "data": {
      "text/plain": [
       "['director_ids', 'None']"
      ]
     },
     "execution_count": 20,
     "metadata": {},
     "output_type": "execute_result"
    }
   ],
   "source": [
    "test = parse_file('tt0041007_full_movie_bio.dat', 'D:\\\\Victor Yotov\\\\ITU\\\\3rd Semester\\\\Research Project\\\\data\\\\movie_info\\\\movie_bios')\n",
    "\n",
    "test\n"
   ]
  },
  {
   "cell_type": "code",
   "execution_count": 5,
   "metadata": {},
   "outputs": [],
   "source": [
    "def write_csv(collection, path, filename):\n",
    "    collection.to_csv(path+ '\\\\' + filename + '.csv',index=False )"
   ]
  },
  {
   "cell_type": "code",
   "execution_count": 6,
   "metadata": {},
   "outputs": [],
   "source": [
    "def process(line, extract_data): #helper method for the Parse_File function\n",
    "    for criterion in criteria_list:\n",
    "        if criterion in line:\n",
    "            line.split('\\n')\n",
    "            extract_data.append(line.strip().split('\\t',1))"
   ]
  },
  {
   "cell_type": "code",
   "execution_count": 7,
   "metadata": {},
   "outputs": [],
   "source": [
    "def modify_data(list): #Helper method Parse_File function\n",
    "    modified_list = np.array(list).T\n",
    "    return modified_list[1]\n"
   ]
  },
  {
   "cell_type": "code",
   "execution_count": 8,
   "metadata": {},
   "outputs": [],
   "source": [
    "# my_ = parse_file('tt0042108_full_movie_bio.dat','D:\\\\Victor Yotov\\\\ITU\\\\3rd Semester\\\\Research Project\\\\data\\\\movie_info\\\\movie_bios')\n",
    "\n",
    "\n",
    "# my_\n",
    "\n",
    "\n",
    "\n"
   ]
  },
  {
   "cell_type": "code",
   "execution_count": 9,
   "metadata": {},
   "outputs": [],
   "source": [
    "\n",
    "final_list = [] #list where all data from all files will be added before converted to dataframe\n",
    "error_list = []#to keep track of error files \n",
    "\n",
    "#workingDir = 'D:\\\\Victor Yotov\\\\ITU\\\\3rd Semester\\\\Research Project\\\\data\\\\movie_info\\\\MoviesWithDirectorIDInfoMissingOnTheTop'\n",
    "workingDir = 'D:\\\\Victor Yotov\\\\ITU\\\\3rd Semester\\\\Research Project\\\\data\\\\movie_info\\\\MoviesWithDirectorIDInfoMissingOnTheTop'\n",
    "listed_allFiles = os.listdir(workingDir)\n",
    "\n",
    "    \n",
    "for file in listed_allFiles:\n",
    "        \n",
    "        \n",
    "    filename = os.fsdecode(file)\n",
    "    if filename.endswith(\".dat\"):\n",
    "        try:\n",
    "                  \n",
    "                     # print(os.path.join(directory, filename))\n",
    "            list__ = parse_file(file,workingDir)\n",
    "            final_list.append(list__)\n",
    "        \n",
    "        except:\n",
    "            error_list.append(filename)\n",
    "        \n",
    "\n",
    "    \n",
    "interim_data = pd.DataFrame(list(map(np.ravel, final_list)))\n",
    "# final_data = interim_data.T\n",
    "interim_data.columns = title_list\n",
    "\n",
    "path_final_data = 'C:\\\\Users\\\\VictorY\\\\Desktop\\\\TestData'\n",
    "write_csv(interim_data,path_final_data, 'Data_191019_vol2')\n",
    "    "
   ]
  },
  {
   "cell_type": "code",
   "execution_count": 10,
   "metadata": {},
   "outputs": [],
   "source": [
    "### TO DO: save it as a separate file \n",
    "\n",
    "error_list\n",
    "df = pd.DataFrame(error_list)\n",
    "\n",
    "path_error_list_location = 'C:\\\\Users\\\\VictorY\\\\Desktop'\n",
    "write_csv(df,path_error_list_location,'ErrorList_19102019')"
   ]
  },
  {
   "cell_type": "code",
   "execution_count": null,
   "metadata": {},
   "outputs": [],
   "source": []
  },
  {
   "cell_type": "code",
   "execution_count": 11,
   "metadata": {},
   "outputs": [],
   "source": [
    "# df = interim_data"
   ]
  },
  {
   "cell_type": "code",
   "execution_count": 12,
   "metadata": {},
   "outputs": [],
   "source": [
    "# df.head()"
   ]
  },
  {
   "cell_type": "code",
   "execution_count": 13,
   "metadata": {},
   "outputs": [],
   "source": [
    "# def split_line(string):\n",
    "#     empty = []\n",
    "    \n",
    "#     empty.append(string.strip().split('\\t'))\n",
    "#     if len(empty) >1:\n",
    "#         return empty[1]\n",
    "#     else:\n",
    "#         return 'Null '"
   ]
  },
  {
   "cell_type": "code",
   "execution_count": 14,
   "metadata": {},
   "outputs": [],
   "source": [
    "L = interim_data"
   ]
  },
  {
   "cell_type": "code",
   "execution_count": 15,
   "metadata": {},
   "outputs": [],
   "source": [
    "# interim_data = pd.DataFrame(list(map(np.ravel, final_list)))\n",
    "# # final_data = interim_data.T\n",
    "# interim_data.columns = title_list\n",
    "\n",
    "# path_final_data = 'C:\\\\Users\\\\VictorY\\\\Desktop\\\\TestData'\n",
    "# write_csv(interim_data,path_final_data)\n",
    "\n"
   ]
  },
  {
   "cell_type": "code",
   "execution_count": null,
   "metadata": {},
   "outputs": [],
   "source": [
    "\n",
    "\n",
    "\n"
   ]
  },
  {
   "cell_type": "code",
   "execution_count": null,
   "metadata": {},
   "outputs": [],
   "source": []
  },
  {
   "cell_type": "code",
   "execution_count": null,
   "metadata": {},
   "outputs": [],
   "source": []
  }
 ],
 "metadata": {
  "kernelspec": {
   "display_name": "Python 3",
   "language": "python",
   "name": "python3"
  },
  "language_info": {
   "codemirror_mode": {
    "name": "ipython",
    "version": 3
   },
   "file_extension": ".py",
   "mimetype": "text/x-python",
   "name": "python",
   "nbconvert_exporter": "python",
   "pygments_lexer": "ipython3",
   "version": "3.7.3"
  }
 },
 "nbformat": 4,
 "nbformat_minor": 2
}
