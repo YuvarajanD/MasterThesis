{
 "cells": [
  {
   "cell_type": "code",
   "execution_count": 7,
   "metadata": {},
   "outputs": [],
   "source": [
    "import pandas as pd\n",
    "import numpy as np\n",
    "\n",
    "\n",
    "# time\n",
    "\n",
    "import os\n",
    "import sys\n",
    "import time\n",
    "from datetime import datetime\n",
    "from datetime import date\n",
    "\n",
    "#Plotting\n",
    "%matplotlib inline\n",
    "import matplotlib as mpl\n",
    "import matplotlib.pyplot as plt\n",
    "import seaborn as sns\n",
    "\n",
    "# ML Libraries\n",
    "\n",
    "from sklearn.model_selection import train_test_split\n",
    "from sklearn.metrics import classification_report, confusion_matrix\n",
    "from sklearn.metrics import roc_auc_score\n",
    "from sklearn.metrics import precision_recall_fscore_support\n",
    "from sklearn.metrics import auc\n",
    "from sklearn.metrics import roc_auc_score\n",
    "from sklearn.metrics import roc_curve\n",
    "from sklearn import metrics\n",
    "\n",
    "# Labelizer\n",
    "from sklearn import preprocessing\n",
    "from sklearn.preprocessing import LabelBinarizer\n",
    "from sklearn.preprocessing import label_binarize\n",
    "\n",
    "\n",
    "# Normalize \n",
    "\n",
    "from sklearn.preprocessing import MinMaxScaler\n",
    "\n",
    "from sklearn.multiclass import OneVsRestClassifier\n",
    "\n",
    "# Boosting classifiers\n",
    "\n",
    "\n",
    "from sklearn.ensemble import GradientBoostingClassifier\n",
    "from xgboost import XGBClassifier\n",
    "\n",
    "# Save model\n",
    "import pickle\n",
    "import joblib"
   ]
  },
  {
   "cell_type": "code",
   "execution_count": 8,
   "metadata": {},
   "outputs": [],
   "source": [
    "fileName = '1_Director_Data_Mar-21-2020'\n",
    "# fileName = '2_Director_Data_Enhanced_May-10-2020'\n",
    "# fileName = '3_USA_Director_Specific_dataset_May-15-2020'\n",
    "\n",
    "directorDataFileLocation = os.path.join(os.path.realpath(os.path.pardir),'datasets\\\\'+ fileName +'.csv')\n",
    "\n",
    "\n",
    "# moviesDataFileLocation = os.path.join(os.path.realpath(os.path.pardir),'datasets\\\\.csv')\n",
    "# moviesDataFileLocation = os.path.join(os.path.realpath(os.path.pardir),'datasets\\\\.csv')\n",
    "# moviesDataFileLocation = os.path.join(os.path.realpath(os.path.pardir),'datasets\\\\.csv')\n",
    "\n",
    "\n",
    "\n",
    "saveFileToPath = \"C:\\\\Yuva\\\\ITU\\\\4th Sem\\\\Thesis\\\\Data\\\\\"\n",
    "\n",
    "director_data = pd.read_csv(directorDataFileLocation)"
   ]
  },
  {
   "cell_type": "markdown",
   "metadata": {},
   "source": [
    "### Drop rows for visualization"
   ]
  },
  {
   "cell_type": "code",
   "execution_count": 9,
   "metadata": {},
   "outputs": [],
   "source": [
    "index_career_length_101 = director_data[director_data['career_Length']==101].index"
   ]
  },
  {
   "cell_type": "code",
   "execution_count": 10,
   "metadata": {},
   "outputs": [],
   "source": [
    "index_birth_year_6 = director_data[director_data['birthYear'] == 6].index"
   ]
  },
  {
   "cell_type": "code",
   "execution_count": 11,
   "metadata": {},
   "outputs": [],
   "source": [
    "director_data.drop(index_career_length_101.union(index_birth_year_6),inplace = True)"
   ]
  },
  {
   "cell_type": "code",
   "execution_count": 12,
   "metadata": {},
   "outputs": [
    {
     "data": {
      "text/plain": [
       "array(['director_ids', 'director_name', 'movies_produced',\n",
       "       'average_rating_value', 'average_rating_count', 'career_Length',\n",
       "       'Gender', 'birthYear', 'primaryProfession', 'knownForTitles',\n",
       "       'CareerStartYear', 'median_inter_event_time',\n",
       "       'average_movie_per_year', 'average_inter_event_time'], dtype=object)"
      ]
     },
     "execution_count": 12,
     "metadata": {},
     "output_type": "execute_result"
    }
   ],
   "source": [
    "director_data.columns.values"
   ]
  },
  {
   "cell_type": "code",
   "execution_count": 13,
   "metadata": {},
   "outputs": [
    {
     "data": {
      "text/plain": [
       "(41626, 14)"
      ]
     },
     "execution_count": 13,
     "metadata": {},
     "output_type": "execute_result"
    }
   ],
   "source": [
    "director_data.shape"
   ]
  },
  {
   "cell_type": "code",
   "execution_count": 14,
   "metadata": {},
   "outputs": [
    {
     "name": "stdout",
     "output_type": "stream",
     "text": [
      "<class 'pandas.core.frame.DataFrame'>\n",
      "Int64Index: 41626 entries, 0 to 41628\n",
      "Data columns (total 14 columns):\n",
      " #   Column                    Non-Null Count  Dtype  \n",
      "---  ------                    --------------  -----  \n",
      " 0   director_ids              41626 non-null  object \n",
      " 1   director_name             41626 non-null  object \n",
      " 2   movies_produced           41626 non-null  int64  \n",
      " 3   average_rating_value      41626 non-null  float64\n",
      " 4   average_rating_count      41626 non-null  float64\n",
      " 5   career_Length             41626 non-null  int64  \n",
      " 6   Gender                    41626 non-null  object \n",
      " 7   birthYear                 41626 non-null  int64  \n",
      " 8   primaryProfession         41626 non-null  object \n",
      " 9   knownForTitles            41626 non-null  object \n",
      " 10  CareerStartYear           41626 non-null  int64  \n",
      " 11  median_inter_event_time   41626 non-null  float64\n",
      " 12  average_movie_per_year    41626 non-null  float64\n",
      " 13  average_inter_event_time  41626 non-null  float64\n",
      "dtypes: float64(5), int64(4), object(5)\n",
      "memory usage: 4.8+ MB\n"
     ]
    }
   ],
   "source": [
    "director_data.info()"
   ]
  },
  {
   "cell_type": "markdown",
   "metadata": {},
   "source": [
    "# Notebook Run Settings"
   ]
  },
  {
   "cell_type": "markdown",
   "metadata": {},
   "source": [
    "chosen_feature_predicting : rating_count , rating_value , review_count_critic , review_count_user , metascore\n",
    "<br>chosen_bin_method : quartiles , bin_cut , Bin_AsPaper\n",
    "<br>chosen_success_class : movie_rating , director_rating\n",
    "<br>chosen_dataset_balance : unbalanced , balanced\n",
    "<br>chosen_scaling_method : MinMaxScaler , None"
   ]
  },
  {
   "cell_type": "code",
   "execution_count": 15,
   "metadata": {},
   "outputs": [],
   "source": [
    "gender_as_an_input = 'Yes'\n",
    "chosen_feature_predicting = 'average_rating_count'\n",
    "chosen_bin_method = 'quartiles'\n",
    "chosen_success_class = 'director_class'\n",
    "chosen_dataset_ratio = 'unbalanced'\n",
    "chosen_scaling_method = 'None'\n",
    "default_learning_rate = 0.1\n",
    "chosen_max_leaf_nodes = 32\n",
    "default_max_depth = 3\n",
    "chosen_max_features = None\n",
    "chosen_random_state = 42"
   ]
  },
  {
   "cell_type": "markdown",
   "metadata": {},
   "source": [
    "## Success classes"
   ]
  },
  {
   "cell_type": "code",
   "execution_count": 16,
   "metadata": {},
   "outputs": [],
   "source": [
    "def undersampling_balanced_gender(df,balance_feature = 'Gender', column_tobe_unique = 'director_ids'):\n",
    "    \n",
    "    # Shuffle the Dataset.\n",
    "    shuffled_data = df.sample(frac=1,random_state=42)\n",
    "    print('Unbalanced dataframe shape before undersampling :',shuffled_data.shape)\n",
    "\n",
    "    # First remove all duplicates director_ids to have only unique columns\n",
    "    unique_column_df = shuffled_data.drop_duplicates(subset = column_tobe_unique, keep='first', inplace=False)\n",
    "    unique_column_df.shape\n",
    "    \n",
    "    # An empty balanced data frame with only the unique columns\n",
    "    bal_total_unique_list_df = pd.DataFrame()\n",
    "    \n",
    "    # Add balanced values from all the possible classes    \n",
    "    for i in unique_column_df[balance_feature].value_counts().index:\n",
    "        bal_total_unique_list_df = bal_total_unique_list_df.append(unique_column_df[(unique_column_df[balance_feature]==i)]\n",
    "                                                   .sample(\n",
    "                                                       n= unique_column_df[balance_feature].value_counts().values.min(),\n",
    "                                                       random_state = 42,\n",
    "                                                       replace = False)\n",
    "                                                  )\n",
    "    # list of unique IDs\n",
    "    total_list_unique_IDs = bal_total_unique_list_df[column_tobe_unique].to_list()\n",
    "    \n",
    "    balanced_data = shuffled_data[shuffled_data[column_tobe_unique].isin(total_list_unique_IDs)] \n",
    "    \n",
    "    print('Balanced dataframe shape after undersampling :',balanced_data.shape)\n",
    "    return balanced_data"
   ]
  },
  {
   "cell_type": "markdown",
   "metadata": {},
   "source": [
    "# Functions : Bin Cuts , Quartile Bins and bins as in paper"
   ]
  },
  {
   "cell_type": "markdown",
   "metadata": {},
   "source": [
    "## Quartile Bins"
   ]
  },
  {
   "cell_type": "code",
   "execution_count": 17,
   "metadata": {},
   "outputs": [],
   "source": [
    "def quartile_bin(df,class_feature='rating_value'):\n",
    "    # Quartile cut into 4 different buckets\n",
    "\n",
    "    bin_quartiles = ['terrible','poor','average','excellent']\n",
    "    cutIntoQuartiles = pd.qcut(df[class_feature].to_list(), q=4,labels=bin_quartiles)\n",
    "    \n",
    "    print(cutIntoQuartiles.categories)\n",
    "    \n",
    "    df[chosen_success_class] = cutIntoQuartiles\n",
    "    df[chosen_success_class] = df[chosen_success_class].astype(object)\n",
    "    print('The shape of our dataset is:', df.shape)\n",
    "    return df"
   ]
  },
  {
   "cell_type": "markdown",
   "metadata": {},
   "source": [
    "# Function - To choose which Success measure to choose and what binning technique"
   ]
  },
  {
   "cell_type": "code",
   "execution_count": 18,
   "metadata": {},
   "outputs": [],
   "source": [
    "def choose_success_measure(df, bin_method = 'Quartiles', feature = 'rating_value'):\n",
    "    \n",
    "    # Stats of the feature\n",
    "    print('\\nDescribing the feature : \\n')\n",
    "    print(df[feature].describe())\n",
    "    \n",
    "\n",
    "    \n",
    "    if (bin_method == 'quartiles'):\n",
    "        # Quartie bin cuts\n",
    "        df = quartile_bin(df,feature)\n",
    "            \n",
    "    elif(bin_method == 'bin_cut'):\n",
    "        # Bin cuts\n",
    "        df = bincuts(df,'rating_value')\n",
    "        \n",
    "    elif(bin_method == 'Bin_AsPaper'):\n",
    "        df[chosen_success_class] = df[feature].apply(success_measure).astype('category')\n",
    "        \n",
    "    print('\\nShape of the dataset : \\n')\n",
    "    print('\\nThe shape of our Movies dataset is:', df.shape)\n",
    "#     df.drop(columns = [feature] , inplace = True)\n",
    "    print('\\nThe shape of our Movies dataset is:', df.shape)\n",
    "    \n",
    "    print('\\nValue Count of the bucketed class is : \\n')\n",
    "    print(df[chosen_success_class].value_counts())"
   ]
  },
  {
   "cell_type": "markdown",
   "metadata": {},
   "source": [
    "### Balance Gender"
   ]
  },
  {
   "cell_type": "code",
   "execution_count": 19,
   "metadata": {},
   "outputs": [
    {
     "name": "stdout",
     "output_type": "stream",
     "text": [
      "Unbalanced dataframe shape before undersampling : (41626, 14)\n",
      "Balanced dataframe shape after undersampling : (17980, 14)\n"
     ]
    }
   ],
   "source": [
    "balanced_director_data = undersampling_balanced_gender(director_data)"
   ]
  },
  {
   "cell_type": "code",
   "execution_count": 20,
   "metadata": {},
   "outputs": [
    {
     "data": {
      "text/plain": [
       "(17980, 14)"
      ]
     },
     "execution_count": 20,
     "metadata": {},
     "output_type": "execute_result"
    }
   ],
   "source": [
    "balanced_director_data.shape"
   ]
  },
  {
   "cell_type": "markdown",
   "metadata": {},
   "source": [
    "### Choosing dataset for the analysis"
   ]
  },
  {
   "cell_type": "code",
   "execution_count": 21,
   "metadata": {},
   "outputs": [
    {
     "data": {
      "text/plain": [
       "'unbalanced'"
      ]
     },
     "execution_count": 21,
     "metadata": {},
     "output_type": "execute_result"
    }
   ],
   "source": [
    "chosen_dataset_ratio"
   ]
  },
  {
   "cell_type": "code",
   "execution_count": 22,
   "metadata": {},
   "outputs": [],
   "source": [
    "chosen_dataframe = ''\n",
    "if(chosen_dataset_ratio == 'unbalanced'):\n",
    "    chosen_dataframe = director_data\n",
    "elif(chosen_dataset_ratio == 'balanced'):\n",
    "    chosen_dataframe = balanced_director_data"
   ]
  },
  {
   "cell_type": "markdown",
   "metadata": {},
   "source": [
    "### Remove Features from dataset which are not required"
   ]
  },
  {
   "cell_type": "code",
   "execution_count": 23,
   "metadata": {},
   "outputs": [
    {
     "data": {
      "text/plain": [
       "['director_ids', 'director_name', 'primaryProfession', 'knownForTitles']"
      ]
     },
     "execution_count": 23,
     "metadata": {},
     "output_type": "execute_result"
    }
   ],
   "source": [
    "object_features_to_remove = chosen_dataframe.select_dtypes(include = 'object').columns.values.tolist()\n",
    "object_features_to_remove.remove('Gender')\n",
    "object_features_to_remove"
   ]
  },
  {
   "cell_type": "markdown",
   "metadata": {},
   "source": [
    "## Run the feature based on the bin cut and success feature"
   ]
  },
  {
   "cell_type": "code",
   "execution_count": 24,
   "metadata": {},
   "outputs": [
    {
     "data": {
      "text/plain": [
       "'average_rating_count'"
      ]
     },
     "execution_count": 24,
     "metadata": {},
     "output_type": "execute_result"
    }
   ],
   "source": [
    "chosen_feature_predicting"
   ]
  },
  {
   "cell_type": "code",
   "execution_count": 25,
   "metadata": {},
   "outputs": [
    {
     "name": "stdout",
     "output_type": "stream",
     "text": [
      "Quantiles bin range\n",
      "Quantile 0 : (4.999, 12.67] \n",
      "Quantile 1 : (12.67, 34.0] \n",
      "Quantile 2 : (34.0, 147.825] \n",
      "Quantile 3 : (147.825, 690249.0] \n"
     ]
    }
   ],
   "source": [
    "cutIntoQuartiles = pd.qcut(chosen_dataframe[chosen_feature_predicting].to_list(), q=4)\n",
    "print(\"Quantiles bin range\")\n",
    "for i,num in enumerate(cutIntoQuartiles.categories):\n",
    "    print(\"Quantile {0} : {1} \".format(i,num))"
   ]
  },
  {
   "cell_type": "code",
   "execution_count": 26,
   "metadata": {
    "scrolled": true
   },
   "outputs": [
    {
     "name": "stdout",
     "output_type": "stream",
     "text": [
      "\n",
      "Describing the feature : \n",
      "\n",
      "count     41626.000000\n",
      "mean       1398.473128\n",
      "std       11699.669580\n",
      "min           5.000000\n",
      "25%          12.670000\n",
      "50%          34.000000\n",
      "75%         147.825000\n",
      "max      690249.000000\n",
      "Name: average_rating_count, dtype: float64\n",
      "Index(['terrible', 'poor', 'average', 'excellent'], dtype='object')\n",
      "The shape of our dataset is: (41626, 15)\n",
      "\n",
      "Shape of the dataset : \n",
      "\n",
      "\n",
      "The shape of our Movies dataset is: (41626, 15)\n",
      "\n",
      "The shape of our Movies dataset is: (41626, 15)\n",
      "\n",
      "Value Count of the bucketed class is : \n",
      "\n",
      "poor         10477\n",
      "terrible     10431\n",
      "excellent    10407\n",
      "average      10311\n",
      "Name: director_class, dtype: int64\n"
     ]
    }
   ],
   "source": [
    "choose_success_measure(chosen_dataframe , bin_method = chosen_bin_method , feature = chosen_feature_predicting)"
   ]
  },
  {
   "cell_type": "code",
   "execution_count": 27,
   "metadata": {
    "scrolled": true
   },
   "outputs": [
    {
     "name": "stdout",
     "output_type": "stream",
     "text": [
      "<class 'pandas.core.frame.DataFrame'>\n",
      "Int64Index: 41626 entries, 0 to 41628\n",
      "Data columns (total 15 columns):\n",
      " #   Column                    Non-Null Count  Dtype  \n",
      "---  ------                    --------------  -----  \n",
      " 0   director_ids              41626 non-null  object \n",
      " 1   director_name             41626 non-null  object \n",
      " 2   movies_produced           41626 non-null  int64  \n",
      " 3   average_rating_value      41626 non-null  float64\n",
      " 4   average_rating_count      41626 non-null  float64\n",
      " 5   career_Length             41626 non-null  int64  \n",
      " 6   Gender                    41626 non-null  object \n",
      " 7   birthYear                 41626 non-null  int64  \n",
      " 8   primaryProfession         41626 non-null  object \n",
      " 9   knownForTitles            41626 non-null  object \n",
      " 10  CareerStartYear           41626 non-null  int64  \n",
      " 11  median_inter_event_time   41626 non-null  float64\n",
      " 12  average_movie_per_year    41626 non-null  float64\n",
      " 13  average_inter_event_time  41626 non-null  float64\n",
      " 14  director_class            41626 non-null  object \n",
      "dtypes: float64(5), int64(4), object(6)\n",
      "memory usage: 5.1+ MB\n"
     ]
    }
   ],
   "source": [
    "chosen_dataframe.info()"
   ]
  },
  {
   "cell_type": "markdown",
   "metadata": {},
   "source": [
    "### Chosen Director Dataset"
   ]
  },
  {
   "cell_type": "code",
   "execution_count": 28,
   "metadata": {
    "scrolled": true
   },
   "outputs": [
    {
     "name": "stdout",
     "output_type": "stream",
     "text": [
      "The shape of our chosen director dataset before removing object type features: (41626, 15)\n",
      "The shape of our chosen director dataset after dropping object type features: (41626, 11)\n"
     ]
    }
   ],
   "source": [
    "print('The shape of our chosen director dataset before removing object type features:', chosen_dataframe.shape)\n",
    "# movies_data = movies_data[movies_data.columns.difference(object_features_to_remove)]\n",
    "chosen_dataframe = chosen_dataframe.drop(columns= object_features_to_remove)\n",
    "print('The shape of our chosen director dataset after dropping object type features:', chosen_dataframe.shape)"
   ]
  },
  {
   "cell_type": "code",
   "execution_count": 29,
   "metadata": {},
   "outputs": [
    {
     "data": {
      "text/plain": [
       "poor         10477\n",
       "terrible     10431\n",
       "excellent    10407\n",
       "average      10311\n",
       "Name: director_class, dtype: int64"
      ]
     },
     "execution_count": 29,
     "metadata": {},
     "output_type": "execute_result"
    }
   ],
   "source": [
    "chosen_dataframe[chosen_success_class].value_counts()"
   ]
  },
  {
   "cell_type": "code",
   "execution_count": 30,
   "metadata": {
    "scrolled": true
   },
   "outputs": [
    {
     "data": {
      "text/html": [
       "<div>\n",
       "<style scoped>\n",
       "    .dataframe tbody tr th:only-of-type {\n",
       "        vertical-align: middle;\n",
       "    }\n",
       "\n",
       "    .dataframe tbody tr th {\n",
       "        vertical-align: top;\n",
       "    }\n",
       "\n",
       "    .dataframe thead th {\n",
       "        text-align: right;\n",
       "    }\n",
       "</style>\n",
       "<table border=\"1\" class=\"dataframe\">\n",
       "  <thead>\n",
       "    <tr style=\"text-align: right;\">\n",
       "      <th></th>\n",
       "      <th>movies_produced</th>\n",
       "      <th>average_rating_value</th>\n",
       "      <th>average_rating_count</th>\n",
       "      <th>career_Length</th>\n",
       "      <th>Gender</th>\n",
       "      <th>birthYear</th>\n",
       "      <th>CareerStartYear</th>\n",
       "      <th>median_inter_event_time</th>\n",
       "      <th>average_movie_per_year</th>\n",
       "      <th>average_inter_event_time</th>\n",
       "      <th>director_class</th>\n",
       "    </tr>\n",
       "  </thead>\n",
       "  <tbody>\n",
       "    <tr>\n",
       "      <th>0</th>\n",
       "      <td>70</td>\n",
       "      <td>7.36</td>\n",
       "      <td>6984.76</td>\n",
       "      <td>63</td>\n",
       "      <td>Male</td>\n",
       "      <td>1918</td>\n",
       "      <td>1946</td>\n",
       "      <td>1.0</td>\n",
       "      <td>1.11</td>\n",
       "      <td>0.9</td>\n",
       "      <td>excellent</td>\n",
       "    </tr>\n",
       "    <tr>\n",
       "      <th>1</th>\n",
       "      <td>1</td>\n",
       "      <td>7.20</td>\n",
       "      <td>7002.00</td>\n",
       "      <td>1</td>\n",
       "      <td>Male</td>\n",
       "      <td>1924</td>\n",
       "      <td>1961</td>\n",
       "      <td>0.0</td>\n",
       "      <td>1.00</td>\n",
       "      <td>0.0</td>\n",
       "      <td>excellent</td>\n",
       "    </tr>\n",
       "    <tr>\n",
       "      <th>2</th>\n",
       "      <td>1</td>\n",
       "      <td>5.70</td>\n",
       "      <td>676.00</td>\n",
       "      <td>1</td>\n",
       "      <td>Male</td>\n",
       "      <td>1925</td>\n",
       "      <td>1967</td>\n",
       "      <td>0.0</td>\n",
       "      <td>1.00</td>\n",
       "      <td>0.0</td>\n",
       "      <td>excellent</td>\n",
       "    </tr>\n",
       "    <tr>\n",
       "      <th>3</th>\n",
       "      <td>1</td>\n",
       "      <td>5.80</td>\n",
       "      <td>162.00</td>\n",
       "      <td>1</td>\n",
       "      <td>Male</td>\n",
       "      <td>1899</td>\n",
       "      <td>1957</td>\n",
       "      <td>0.0</td>\n",
       "      <td>1.00</td>\n",
       "      <td>0.0</td>\n",
       "      <td>excellent</td>\n",
       "    </tr>\n",
       "    <tr>\n",
       "      <th>4</th>\n",
       "      <td>2</td>\n",
       "      <td>5.85</td>\n",
       "      <td>722.50</td>\n",
       "      <td>3</td>\n",
       "      <td>Male</td>\n",
       "      <td>1916</td>\n",
       "      <td>1973</td>\n",
       "      <td>2.0</td>\n",
       "      <td>0.67</td>\n",
       "      <td>2.0</td>\n",
       "      <td>excellent</td>\n",
       "    </tr>\n",
       "  </tbody>\n",
       "</table>\n",
       "</div>"
      ],
      "text/plain": [
       "   movies_produced  average_rating_value  average_rating_count  career_Length  \\\n",
       "0               70                  7.36               6984.76             63   \n",
       "1                1                  7.20               7002.00              1   \n",
       "2                1                  5.70                676.00              1   \n",
       "3                1                  5.80                162.00              1   \n",
       "4                2                  5.85                722.50              3   \n",
       "\n",
       "  Gender  birthYear  CareerStartYear  median_inter_event_time  \\\n",
       "0   Male       1918             1946                      1.0   \n",
       "1   Male       1924             1961                      0.0   \n",
       "2   Male       1925             1967                      0.0   \n",
       "3   Male       1899             1957                      0.0   \n",
       "4   Male       1916             1973                      2.0   \n",
       "\n",
       "   average_movie_per_year  average_inter_event_time director_class  \n",
       "0                    1.11                       0.9      excellent  \n",
       "1                    1.00                       0.0      excellent  \n",
       "2                    1.00                       0.0      excellent  \n",
       "3                    1.00                       0.0      excellent  \n",
       "4                    0.67                       2.0      excellent  "
      ]
     },
     "execution_count": 30,
     "metadata": {},
     "output_type": "execute_result"
    }
   ],
   "source": [
    "chosen_dataframe.head()"
   ]
  },
  {
   "cell_type": "markdown",
   "metadata": {},
   "source": [
    "# Visualizations"
   ]
  },
  {
   "cell_type": "code",
   "execution_count": 31,
   "metadata": {},
   "outputs": [],
   "source": [
    "visualize_data = chosen_dataframe.copy()"
   ]
  },
  {
   "cell_type": "code",
   "execution_count": 32,
   "metadata": {},
   "outputs": [],
   "source": [
    "balanced_visualize_data = balanced_director_data.copy()"
   ]
  },
  {
   "cell_type": "code",
   "execution_count": 33,
   "metadata": {
    "scrolled": true
   },
   "outputs": [
    {
     "name": "stdout",
     "output_type": "stream",
     "text": [
      "\n",
      "Describing the feature : \n",
      "\n",
      "count     17980.000000\n",
      "mean       1285.895482\n",
      "std       11619.821481\n",
      "min           5.000000\n",
      "25%          12.185000\n",
      "50%          33.330000\n",
      "75%         140.000000\n",
      "max      647282.770000\n",
      "Name: average_rating_count, dtype: float64\n",
      "Index(['terrible', 'poor', 'average', 'excellent'], dtype='object')\n",
      "The shape of our dataset is: (17980, 15)\n",
      "\n",
      "Shape of the dataset : \n",
      "\n",
      "\n",
      "The shape of our Movies dataset is: (17980, 15)\n",
      "\n",
      "The shape of our Movies dataset is: (17980, 15)\n",
      "\n",
      "Value Count of the bucketed class is : \n",
      "\n",
      "poor         4502\n",
      "terrible     4495\n",
      "excellent    4493\n",
      "average      4490\n",
      "Name: director_class, dtype: int64\n"
     ]
    }
   ],
   "source": [
    "choose_success_measure(balanced_visualize_data , bin_method = chosen_bin_method , feature = chosen_feature_predicting)"
   ]
  },
  {
   "cell_type": "code",
   "execution_count": 34,
   "metadata": {
    "scrolled": true
   },
   "outputs": [
    {
     "name": "stdout",
     "output_type": "stream",
     "text": [
      "<class 'pandas.core.frame.DataFrame'>\n",
      "Int64Index: 17980 entries, 17610 to 38160\n",
      "Data columns (total 15 columns):\n",
      " #   Column                    Non-Null Count  Dtype  \n",
      "---  ------                    --------------  -----  \n",
      " 0   director_ids              17980 non-null  object \n",
      " 1   director_name             17980 non-null  object \n",
      " 2   movies_produced           17980 non-null  int64  \n",
      " 3   average_rating_value      17980 non-null  float64\n",
      " 4   average_rating_count      17980 non-null  float64\n",
      " 5   career_Length             17980 non-null  int64  \n",
      " 6   Gender                    17980 non-null  object \n",
      " 7   birthYear                 17980 non-null  int64  \n",
      " 8   primaryProfession         17980 non-null  object \n",
      " 9   knownForTitles            17980 non-null  object \n",
      " 10  CareerStartYear           17980 non-null  int64  \n",
      " 11  median_inter_event_time   17980 non-null  float64\n",
      " 12  average_movie_per_year    17980 non-null  float64\n",
      " 13  average_inter_event_time  17980 non-null  float64\n",
      " 14  director_class            17980 non-null  object \n",
      "dtypes: float64(5), int64(4), object(6)\n",
      "memory usage: 2.2+ MB\n"
     ]
    }
   ],
   "source": [
    "balanced_visualize_data.info()"
   ]
  },
  {
   "cell_type": "code",
   "execution_count": 35,
   "metadata": {},
   "outputs": [
    {
     "name": "stdout",
     "output_type": "stream",
     "text": [
      "The shape of our balanced  director dataset before removing object type features: (17980, 15)\n",
      "The shape of our balanced  director dataset after dropping object type features: (17980, 11)\n"
     ]
    }
   ],
   "source": [
    "print('The shape of our balanced  director dataset before removing object type features:', balanced_visualize_data.shape)\n",
    "balanced_visualize_data = balanced_visualize_data.drop(columns= object_features_to_remove)\n",
    "print('The shape of our balanced  director dataset after dropping object type features:', balanced_visualize_data.shape)"
   ]
  },
  {
   "cell_type": "code",
   "execution_count": 36,
   "metadata": {},
   "outputs": [
    {
     "data": {
      "text/plain": [
       "poor         4502\n",
       "terrible     4495\n",
       "excellent    4493\n",
       "average      4490\n",
       "Name: director_class, dtype: int64"
      ]
     },
     "execution_count": 36,
     "metadata": {},
     "output_type": "execute_result"
    }
   ],
   "source": [
    "balanced_visualize_data[chosen_success_class].value_counts()"
   ]
  },
  {
   "cell_type": "code",
   "execution_count": 37,
   "metadata": {},
   "outputs": [
    {
     "data": {
      "text/plain": [
       "Index(['movies_produced', 'average_rating_value', 'average_rating_count',\n",
       "       'career_Length', 'Gender', 'birthYear', 'CareerStartYear',\n",
       "       'median_inter_event_time', 'average_movie_per_year',\n",
       "       'average_inter_event_time', 'director_class'],\n",
       "      dtype='object')"
      ]
     },
     "execution_count": 37,
     "metadata": {},
     "output_type": "execute_result"
    }
   ],
   "source": [
    "visualize_data.columns"
   ]
  },
  {
   "cell_type": "code",
   "execution_count": 38,
   "metadata": {},
   "outputs": [
    {
     "data": {
      "text/plain": [
       "Male      0.784029\n",
       "Female    0.215971\n",
       "Name: Gender, dtype: float64"
      ]
     },
     "execution_count": 38,
     "metadata": {},
     "output_type": "execute_result"
    }
   ],
   "source": [
    "visualize_data['Gender'].value_counts(normalize = True)"
   ]
  },
  {
   "cell_type": "code",
   "execution_count": 39,
   "metadata": {},
   "outputs": [
    {
     "data": {
      "text/plain": [
       "Male      0.5\n",
       "Female    0.5\n",
       "Name: Gender, dtype: float64"
      ]
     },
     "execution_count": 39,
     "metadata": {},
     "output_type": "execute_result"
    }
   ],
   "source": [
    "balanced_visualize_data['Gender'].value_counts(normalize = True)"
   ]
  },
  {
   "cell_type": "markdown",
   "metadata": {},
   "source": [
    "## Style and colors"
   ]
  },
  {
   "cell_type": "code",
   "execution_count": 40,
   "metadata": {
    "scrolled": true
   },
   "outputs": [],
   "source": [
    "# import matplotlib.style as style \n",
    "\n",
    "# style.available"
   ]
  },
  {
   "cell_type": "code",
   "execution_count": 41,
   "metadata": {},
   "outputs": [
    {
     "data": {
      "text/plain": [
       "[('black', '#000000'),\n",
       " ('navy', '#000080'),\n",
       " ('darkblue', '#00008B'),\n",
       " ('mediumblue', '#0000CD'),\n",
       " ('blue', '#0000FF'),\n",
       " ('darkgreen', '#006400'),\n",
       " ('green', '#008000'),\n",
       " ('teal', '#008080'),\n",
       " ('darkcyan', '#008B8B'),\n",
       " ('deepskyblue', '#00BFFF'),\n",
       " ('darkturquoise', '#00CED1'),\n",
       " ('mediumspringgreen', '#00FA9A'),\n",
       " ('lime', '#00FF00'),\n",
       " ('springgreen', '#00FF7F'),\n",
       " ('aqua', '#00FFFF'),\n",
       " ('cyan', '#00FFFF'),\n",
       " ('midnightblue', '#191970'),\n",
       " ('dodgerblue', '#1E90FF'),\n",
       " ('lightseagreen', '#20B2AA'),\n",
       " ('forestgreen', '#228B22'),\n",
       " ('seagreen', '#2E8B57'),\n",
       " ('darkslategray', '#2F4F4F'),\n",
       " ('darkslategrey', '#2F4F4F'),\n",
       " ('limegreen', '#32CD32'),\n",
       " ('mediumseagreen', '#3CB371'),\n",
       " ('turquoise', '#40E0D0'),\n",
       " ('royalblue', '#4169E1'),\n",
       " ('steelblue', '#4682B4'),\n",
       " ('darkslateblue', '#483D8B'),\n",
       " ('mediumturquoise', '#48D1CC'),\n",
       " ('indigo', '#4B0082'),\n",
       " ('darkolivegreen', '#556B2F'),\n",
       " ('cadetblue', '#5F9EA0'),\n",
       " ('cornflowerblue', '#6495ED'),\n",
       " ('rebeccapurple', '#663399'),\n",
       " ('mediumaquamarine', '#66CDAA'),\n",
       " ('dimgray', '#696969'),\n",
       " ('dimgrey', '#696969'),\n",
       " ('slateblue', '#6A5ACD'),\n",
       " ('olivedrab', '#6B8E23'),\n",
       " ('slategray', '#708090'),\n",
       " ('slategrey', '#708090'),\n",
       " ('lightslategray', '#778899'),\n",
       " ('lightslategrey', '#778899'),\n",
       " ('mediumslateblue', '#7B68EE'),\n",
       " ('lawngreen', '#7CFC00'),\n",
       " ('chartreuse', '#7FFF00'),\n",
       " ('aquamarine', '#7FFFD4'),\n",
       " ('maroon', '#800000'),\n",
       " ('purple', '#800080'),\n",
       " ('olive', '#808000'),\n",
       " ('gray', '#808080'),\n",
       " ('grey', '#808080'),\n",
       " ('skyblue', '#87CEEB'),\n",
       " ('lightskyblue', '#87CEFA'),\n",
       " ('blueviolet', '#8A2BE2'),\n",
       " ('darkred', '#8B0000'),\n",
       " ('darkmagenta', '#8B008B'),\n",
       " ('saddlebrown', '#8B4513'),\n",
       " ('darkseagreen', '#8FBC8F'),\n",
       " ('lightgreen', '#90EE90'),\n",
       " ('mediumpurple', '#9370DB'),\n",
       " ('darkviolet', '#9400D3'),\n",
       " ('palegreen', '#98FB98'),\n",
       " ('darkorchid', '#9932CC'),\n",
       " ('yellowgreen', '#9ACD32'),\n",
       " ('sienna', '#A0522D'),\n",
       " ('brown', '#A52A2A'),\n",
       " ('darkgray', '#A9A9A9'),\n",
       " ('darkgrey', '#A9A9A9'),\n",
       " ('lightblue', '#ADD8E6'),\n",
       " ('greenyellow', '#ADFF2F'),\n",
       " ('paleturquoise', '#AFEEEE'),\n",
       " ('lightsteelblue', '#B0C4DE'),\n",
       " ('powderblue', '#B0E0E6'),\n",
       " ('firebrick', '#B22222'),\n",
       " ('darkgoldenrod', '#B8860B'),\n",
       " ('mediumorchid', '#BA55D3'),\n",
       " ('rosybrown', '#BC8F8F'),\n",
       " ('darkkhaki', '#BDB76B'),\n",
       " ('silver', '#C0C0C0'),\n",
       " ('mediumvioletred', '#C71585'),\n",
       " ('indianred', '#CD5C5C'),\n",
       " ('peru', '#CD853F'),\n",
       " ('chocolate', '#D2691E'),\n",
       " ('tan', '#D2B48C'),\n",
       " ('lightgray', '#D3D3D3'),\n",
       " ('lightgrey', '#D3D3D3'),\n",
       " ('thistle', '#D8BFD8'),\n",
       " ('orchid', '#DA70D6'),\n",
       " ('goldenrod', '#DAA520'),\n",
       " ('palevioletred', '#DB7093'),\n",
       " ('crimson', '#DC143C'),\n",
       " ('gainsboro', '#DCDCDC'),\n",
       " ('plum', '#DDA0DD'),\n",
       " ('burlywood', '#DEB887'),\n",
       " ('lightcyan', '#E0FFFF'),\n",
       " ('lavender', '#E6E6FA'),\n",
       " ('darksalmon', '#E9967A'),\n",
       " ('violet', '#EE82EE'),\n",
       " ('palegoldenrod', '#EEE8AA'),\n",
       " ('lightcoral', '#F08080'),\n",
       " ('khaki', '#F0E68C'),\n",
       " ('aliceblue', '#F0F8FF'),\n",
       " ('honeydew', '#F0FFF0'),\n",
       " ('azure', '#F0FFFF'),\n",
       " ('sandybrown', '#F4A460'),\n",
       " ('wheat', '#F5DEB3'),\n",
       " ('beige', '#F5F5DC'),\n",
       " ('whitesmoke', '#F5F5F5'),\n",
       " ('mintcream', '#F5FFFA'),\n",
       " ('ghostwhite', '#F8F8FF'),\n",
       " ('salmon', '#FA8072'),\n",
       " ('antiquewhite', '#FAEBD7'),\n",
       " ('linen', '#FAF0E6'),\n",
       " ('lightgoldenrodyellow', '#FAFAD2'),\n",
       " ('oldlace', '#FDF5E6'),\n",
       " ('red', '#FF0000'),\n",
       " ('fuchsia', '#FF00FF'),\n",
       " ('magenta', '#FF00FF'),\n",
       " ('deeppink', '#FF1493'),\n",
       " ('orangered', '#FF4500'),\n",
       " ('tomato', '#FF6347'),\n",
       " ('hotpink', '#FF69B4'),\n",
       " ('coral', '#FF7F50'),\n",
       " ('darkorange', '#FF8C00'),\n",
       " ('lightsalmon', '#FFA07A'),\n",
       " ('orange', '#FFA500'),\n",
       " ('lightpink', '#FFB6C1'),\n",
       " ('pink', '#FFC0CB'),\n",
       " ('gold', '#FFD700'),\n",
       " ('peachpuff', '#FFDAB9'),\n",
       " ('navajowhite', '#FFDEAD'),\n",
       " ('moccasin', '#FFE4B5'),\n",
       " ('bisque', '#FFE4C4'),\n",
       " ('mistyrose', '#FFE4E1'),\n",
       " ('blanchedalmond', '#FFEBCD'),\n",
       " ('papayawhip', '#FFEFD5'),\n",
       " ('lavenderblush', '#FFF0F5'),\n",
       " ('seashell', '#FFF5EE'),\n",
       " ('cornsilk', '#FFF8DC'),\n",
       " ('lemonchiffon', '#FFFACD'),\n",
       " ('floralwhite', '#FFFAF0'),\n",
       " ('snow', '#FFFAFA'),\n",
       " ('yellow', '#FFFF00'),\n",
       " ('lightyellow', '#FFFFE0'),\n",
       " ('ivory', '#FFFFF0'),\n",
       " ('white', '#FFFFFF')]"
      ]
     },
     "execution_count": 41,
     "metadata": {},
     "output_type": "execute_result"
    }
   ],
   "source": [
    "colorname = []\n",
    "colorid = []\n",
    "\n",
    "for name, hex in mpl.colors.cnames.items():\n",
    "    colorname.append(name)\n",
    "    colorid.append(hex)\n",
    "    \n",
    "zippedcolors = list(zip(colorname, colorid))\n",
    "zippedcolors = sorted(zippedcolors, key=lambda x: x[1])\n",
    "\n",
    "zippedcolors"
   ]
  },
  {
   "cell_type": "code",
   "execution_count": 42,
   "metadata": {},
   "outputs": [
    {
     "ename": "SyntaxError",
     "evalue": "'break' outside loop (<ipython-input-42-6aaf1f276005>, line 4)",
     "output_type": "error",
     "traceback": [
      "\u001b[1;36m  File \u001b[1;32m\"<ipython-input-42-6aaf1f276005>\"\u001b[1;36m, line \u001b[1;32m4\u001b[0m\n\u001b[1;31mSyntaxError\u001b[0m\u001b[1;31m:\u001b[0m 'break' outside loop\n"
     ]
    }
   ],
   "source": [
    "break"
   ]
  },
  {
   "cell_type": "markdown",
   "metadata": {},
   "source": [
    "## Oversampling data"
   ]
  },
  {
   "cell_type": "code",
   "execution_count": 43,
   "metadata": {},
   "outputs": [
    {
     "name": "stdout",
     "output_type": "stream",
     "text": [
      "0.6.2\n"
     ]
    }
   ],
   "source": [
    "import imblearn\n",
    "print(imblearn.__version__)"
   ]
  },
  {
   "cell_type": "code",
   "execution_count": null,
   "metadata": {},
   "outputs": [],
   "source": []
  },
  {
   "cell_type": "code",
   "execution_count": null,
   "metadata": {},
   "outputs": [],
   "source": []
  },
  {
   "cell_type": "code",
   "execution_count": null,
   "metadata": {},
   "outputs": [],
   "source": []
  },
  {
   "cell_type": "code",
   "execution_count": null,
   "metadata": {},
   "outputs": [],
   "source": []
  },
  {
   "cell_type": "code",
   "execution_count": null,
   "metadata": {},
   "outputs": [],
   "source": []
  },
  {
   "cell_type": "markdown",
   "metadata": {},
   "source": [
    "## 1. Gender distribution with numbers on the bar plots"
   ]
  },
  {
   "cell_type": "markdown",
   "metadata": {},
   "source": [
    "## Working"
   ]
  },
  {
   "cell_type": "code",
   "execution_count": 44,
   "metadata": {},
   "outputs": [],
   "source": [
    "visualize_data['dummy'] = 1"
   ]
  },
  {
   "cell_type": "code",
   "execution_count": 45,
   "metadata": {},
   "outputs": [],
   "source": [
    "balanced_visualize_data['dummy'] = 1"
   ]
  },
  {
   "cell_type": "code",
   "execution_count": 46,
   "metadata": {},
   "outputs": [
    {
     "data": {
      "text/html": [
       "<div>\n",
       "<style scoped>\n",
       "    .dataframe tbody tr th:only-of-type {\n",
       "        vertical-align: middle;\n",
       "    }\n",
       "\n",
       "    .dataframe tbody tr th {\n",
       "        vertical-align: top;\n",
       "    }\n",
       "\n",
       "    .dataframe thead th {\n",
       "        text-align: right;\n",
       "    }\n",
       "</style>\n",
       "<table border=\"1\" class=\"dataframe\">\n",
       "  <thead>\n",
       "    <tr style=\"text-align: right;\">\n",
       "      <th></th>\n",
       "      <th>Gender</th>\n",
       "      <th>movies_produced</th>\n",
       "      <th>average_rating_value</th>\n",
       "      <th>average_rating_count</th>\n",
       "      <th>career_Length</th>\n",
       "      <th>birthYear</th>\n",
       "      <th>CareerStartYear</th>\n",
       "      <th>median_inter_event_time</th>\n",
       "      <th>average_movie_per_year</th>\n",
       "      <th>average_inter_event_time</th>\n",
       "      <th>dummy</th>\n",
       "    </tr>\n",
       "  </thead>\n",
       "  <tbody>\n",
       "    <tr>\n",
       "      <th>0</th>\n",
       "      <td>Female</td>\n",
       "      <td>53649</td>\n",
       "      <td>60109.35</td>\n",
       "      <td>10709345.34</td>\n",
       "      <td>77471</td>\n",
       "      <td>17595064</td>\n",
       "      <td>17915381</td>\n",
       "      <td>17621.0</td>\n",
       "      <td>7790.52</td>\n",
       "      <td>19091.19</td>\n",
       "      <td>8990</td>\n",
       "    </tr>\n",
       "    <tr>\n",
       "      <th>1</th>\n",
       "      <td>Male</td>\n",
       "      <td>76576</td>\n",
       "      <td>59739.53</td>\n",
       "      <td>12411055.43</td>\n",
       "      <td>91856</td>\n",
       "      <td>17544669</td>\n",
       "      <td>17862060</td>\n",
       "      <td>17188.5</td>\n",
       "      <td>8491.13</td>\n",
       "      <td>19065.39</td>\n",
       "      <td>8990</td>\n",
       "    </tr>\n",
       "  </tbody>\n",
       "</table>\n",
       "</div>"
      ],
      "text/plain": [
       "   Gender  movies_produced  average_rating_value  average_rating_count  \\\n",
       "0  Female            53649              60109.35           10709345.34   \n",
       "1    Male            76576              59739.53           12411055.43   \n",
       "\n",
       "   career_Length  birthYear  CareerStartYear  median_inter_event_time  \\\n",
       "0          77471   17595064         17915381                  17621.0   \n",
       "1          91856   17544669         17862060                  17188.5   \n",
       "\n",
       "   average_movie_per_year  average_inter_event_time  dummy  \n",
       "0                 7790.52                  19091.19   8990  \n",
       "1                 8491.13                  19065.39   8990  "
      ]
     },
     "execution_count": 46,
     "metadata": {},
     "output_type": "execute_result"
    }
   ],
   "source": [
    "balanced_grouped_values = balanced_visualize_data.groupby('Gender').sum().reset_index()\n",
    "balanced_visualize_data.drop(columns = 'dummy',inplace = True)\n",
    "balanced_grouped_values.head()"
   ]
  },
  {
   "cell_type": "code",
   "execution_count": 47,
   "metadata": {
    "scrolled": true
   },
   "outputs": [
    {
     "data": {
      "text/html": [
       "<div>\n",
       "<style scoped>\n",
       "    .dataframe tbody tr th:only-of-type {\n",
       "        vertical-align: middle;\n",
       "    }\n",
       "\n",
       "    .dataframe tbody tr th {\n",
       "        vertical-align: top;\n",
       "    }\n",
       "\n",
       "    .dataframe thead th {\n",
       "        text-align: right;\n",
       "    }\n",
       "</style>\n",
       "<table border=\"1\" class=\"dataframe\">\n",
       "  <thead>\n",
       "    <tr style=\"text-align: right;\">\n",
       "      <th></th>\n",
       "      <th>Gender</th>\n",
       "      <th>movies_produced</th>\n",
       "      <th>average_rating_value</th>\n",
       "      <th>average_rating_count</th>\n",
       "      <th>career_Length</th>\n",
       "      <th>birthYear</th>\n",
       "      <th>CareerStartYear</th>\n",
       "      <th>median_inter_event_time</th>\n",
       "      <th>average_movie_per_year</th>\n",
       "      <th>average_inter_event_time</th>\n",
       "      <th>dummy</th>\n",
       "    </tr>\n",
       "  </thead>\n",
       "  <tbody>\n",
       "    <tr>\n",
       "      <th>0</th>\n",
       "      <td>Female</td>\n",
       "      <td>53649</td>\n",
       "      <td>60109.35</td>\n",
       "      <td>10709345.34</td>\n",
       "      <td>77471</td>\n",
       "      <td>17595064</td>\n",
       "      <td>17915381</td>\n",
       "      <td>17621.0</td>\n",
       "      <td>7790.52</td>\n",
       "      <td>19091.19</td>\n",
       "      <td>8990</td>\n",
       "    </tr>\n",
       "    <tr>\n",
       "      <th>1</th>\n",
       "      <td>Male</td>\n",
       "      <td>271321</td>\n",
       "      <td>216980.02</td>\n",
       "      <td>47503497.09</td>\n",
       "      <td>334662</td>\n",
       "      <td>63676050</td>\n",
       "      <td>64830937</td>\n",
       "      <td>63284.5</td>\n",
       "      <td>30278.55</td>\n",
       "      <td>70189.18</td>\n",
       "      <td>32636</td>\n",
       "    </tr>\n",
       "  </tbody>\n",
       "</table>\n",
       "</div>"
      ],
      "text/plain": [
       "   Gender  movies_produced  average_rating_value  average_rating_count  \\\n",
       "0  Female            53649              60109.35           10709345.34   \n",
       "1    Male           271321             216980.02           47503497.09   \n",
       "\n",
       "   career_Length  birthYear  CareerStartYear  median_inter_event_time  \\\n",
       "0          77471   17595064         17915381                  17621.0   \n",
       "1         334662   63676050         64830937                  63284.5   \n",
       "\n",
       "   average_movie_per_year  average_inter_event_time  dummy  \n",
       "0                 7790.52                  19091.19   8990  \n",
       "1                30278.55                  70189.18  32636  "
      ]
     },
     "execution_count": 47,
     "metadata": {},
     "output_type": "execute_result"
    }
   ],
   "source": [
    "groupedvalues = visualize_data.groupby('Gender').sum().reset_index()\n",
    "visualize_data.drop(columns = 'dummy',inplace = True)\n",
    "groupedvalues.head()"
   ]
  },
  {
   "cell_type": "code",
   "execution_count": 48,
   "metadata": {
    "scrolled": true
   },
   "outputs": [
    {
     "data": {
      "image/png": "[encoded data removed]",
      "text/plain": [
       "<Figure size 144x72 with 1 Axes>"
      ]
     },
     "metadata": {
      "needs_background": "light"
     },
     "output_type": "display_data"
    }
   ],
   "source": [
    "sns.palplot(sns.diverging_palette(10, 220, sep=80, n=2))"
   ]
  },
  {
   "cell_type": "code",
   "execution_count": 49,
   "metadata": {},
   "outputs": [],
   "source": [
    "# sns.reset_orig()"
   ]
  },
  {
   "cell_type": "code",
   "execution_count": 50,
   "metadata": {
    "scrolled": false
   },
   "outputs": [],
   "source": [
    "# # Figure size\n",
    "# plt.figure(figsize=(10,6))\n",
    "# palette = ['red','blue']\n",
    "# sns.set(style=\"white\", context=\"talk\")\n",
    "# # Seaborn bar plot\n",
    "# g = sns.barplot(x='Gender',\n",
    "#                 y='dummy',\n",
    "#                 data=groupedvalues,\n",
    "#                 palette = palette\n",
    "#                )\n",
    "\n",
    "# # To print the numbers on top of the bar plot\n",
    "# for index, row in groupedvalues.iterrows():\n",
    "#     g.text(row.name,row.dummy, round(row.dummy,2), color='black', ha=\"center\", size =16)\n",
    "    \n",
    "# # Logistics of plotting\n",
    "\n",
    "# plt.title('Gender distribution in Director data set 1',fontsize = 16)\n",
    "# plt.xlabel('Gender', fontsize=16)\n",
    "# plt.ylabel('Number of directors', fontsize=16)\n",
    "# plt.tick_params(labelsize=12)\n",
    "# # plt.savefig('Gender_distribution_in_unbalanced_director_dataset1.png', dpi=100 , bbox_inches='tight')\n",
    "# plt.show()"
   ]
  },
  {
   "cell_type": "markdown",
   "metadata": {},
   "source": [
    "## Balanced and Unbalanced Gender distribution in Director data set 1"
   ]
  },
  {
   "cell_type": "code",
   "execution_count": 51,
   "metadata": {},
   "outputs": [
    {
     "name": "stderr",
     "output_type": "stream",
     "text": [
      "C:\\Users\\yuvar\\Anaconda3\\lib\\site-packages\\ipykernel_launcher.py:62: UserWarning: Matplotlib is currently using module://ipykernel.pylab.backend_inline, which is a non-GUI backend, so cannot show the figure.\n"
     ]
    },
    {
     "data": {
      "image/png": "[encoded data removed]",
      "text/plain": [
       "<Figure size 936x504 with 2 Axes>"
      ]
     },
     "metadata": {
      "needs_background": "light"
     },
     "output_type": "display_data"
    }
   ],
   "source": [
    "# Sub plots\n",
    "\n",
    "fig, (ax1,ax2) =plt.subplots(nrows= 1, ncols = 2, figsize=(13, 7) , sharey= True)\n",
    "\n",
    "# flatten axis if you plan to use fig, ax = ...\n",
    "# ax = ax.flatten()\n",
    "\n",
    "\n",
    "# Figure size\n",
    "# plt.figure(figsize=(10,6))\n",
    "palette = ['red','blue']\n",
    "sns.set(style=\"white\", context=\"talk\")\n",
    "\n",
    "# Seaborn bar plot\n",
    "g = sns.barplot(x='Gender',\n",
    "                y='dummy',\n",
    "                data=groupedvalues,\n",
    "                palette = palette,\n",
    "                saturation = 0.75,\n",
    "                ax = ax1\n",
    "               )\n",
    "\n",
    "# To print the numbers on top of the bar plot\n",
    "for index, row in groupedvalues.iterrows():\n",
    "    g.text(row.name,row.dummy, round(row.dummy,2), color='black', ha=\"center\", size =16)\n",
    "\n",
    "    \n",
    "    \n",
    "# Seaborn bar plot - balanced\n",
    "g1 = sns.barplot(x='Gender',\n",
    "                y='dummy',\n",
    "                data=balanced_grouped_values,\n",
    "                palette = palette,\n",
    "                saturation = 0.75,\n",
    "                ax = ax2\n",
    "               )\n",
    "\n",
    "# To print the numbers on top of the bar plot\n",
    "for index, row in balanced_grouped_values.iterrows():\n",
    "    g1.text(row.name,row.dummy, round(row.dummy,2), color='black', ha=\"center\", size =16)    \n",
    "    \n",
    "# Logistics of plotting\n",
    "\n",
    "ax1.set_xlabel('Gender', fontsize=20)\n",
    "ax2.set_xlabel('Gender', fontsize=20)\n",
    "\n",
    "\n",
    "ax1.set_ylabel('Number of directors', fontsize=20)\n",
    "# ax2.set_ylabel('Number of directors', fontsize=20)\n",
    "ax2.yaxis.set_visible(False) # same for y axis.\n",
    "\n",
    "\n",
    "ax1.tick_params(labelsize=15)\n",
    "ax2.tick_params(labelsize=15)\n",
    "\n",
    "ax1.set_title('Unbalanced data',fontsize = 16)\n",
    "ax2.set_title('Balanced data',fontsize = 16)\n",
    "fig.suptitle('Gender distribution in Director Numeric (DN) data', fontsize=20, y = 1.01)\n",
    "\n",
    "\n",
    "# fig.savefig('Gender_distribution_in_unbalanced_balanced_director_DirectorNumericData.png', dpi=100 , bbox_inches='tight')\n",
    "fig.show()\n",
    "fig.tight_layout()"
   ]
  },
  {
   "cell_type": "code",
   "execution_count": null,
   "metadata": {},
   "outputs": [],
   "source": []
  },
  {
   "cell_type": "markdown",
   "metadata": {},
   "source": [
    "# 2. Distribution of gender across success class of a director"
   ]
  },
  {
   "cell_type": "markdown",
   "metadata": {},
   "source": [
    "## Working - Unbalanced"
   ]
  },
  {
   "cell_type": "code",
   "execution_count": 52,
   "metadata": {},
   "outputs": [],
   "source": [
    "# # Figure size\n",
    "# plt.figure(figsize=(8,6))\n",
    "\n",
    "# palette = ['red','blue']\n",
    "\n",
    "# # x, percentage, hue = \"Gender\", \"Percentage\", \"director_class\"\n",
    "# x, percentage, hue = \"director_class\", \"Percentage\", \"Gender\"\n",
    "# hue_order = [\"terrible\", \"poor\",'average','excellent']\n",
    "\n",
    "# # Generate the dataframe with normalized value count of each class with respect to gender\n",
    "# percentage_df = visualize_data[x].groupby(visualize_data[hue]).value_counts(normalize=True).rename(percentage).reset_index()\n",
    "# # g =percentage_df.pipe((sns.barplot, \"data\"), x=x, y=percentage, hue=hue)\n",
    "# g = sns.barplot(x='director_class',\n",
    "#                 y='Percentage',\n",
    "#                 hue= 'Gender',\n",
    "#                 data=percentage_df,\n",
    "#                 palette = palette\n",
    "#                )\n",
    "\n",
    "\n",
    "\n",
    "# # Logistics of plotting\n",
    "\n",
    "# plt.title(\"Distribution of gender across the success measure, director class\",fontsize = 16)\n",
    "# plt.xlabel('Director Class', fontsize=16)\n",
    "# plt.ylabel('Proportion', fontsize=16)\n",
    "# plt.tick_params(labelsize=12)\n",
    "\n",
    "# # plt.axis('off')\n",
    "# plt.legend(title = 'Gender' ,bbox_to_anchor=(1.3, 0.5), loc='right', ncol=1,fontsize = 16)\n",
    "# # plt.savefig('Director_Gender_distribution_across_success_class.png', dpi=100, bbox_inches='tight')\n",
    "# plt.show()\n"
   ]
  },
  {
   "cell_type": "markdown",
   "metadata": {},
   "source": [
    "## Working Balanced"
   ]
  },
  {
   "cell_type": "code",
   "execution_count": 53,
   "metadata": {},
   "outputs": [],
   "source": [
    "# # Figure size\n",
    "# plt.figure(figsize=(8,6))\n",
    "\n",
    "# palette = ['red','blue']\n",
    "\n",
    "# # x, percentage, hue = \"Gender\", \"Percentage\", \"director_class\"\n",
    "# x, percentage, hue = \"director_class\", \"Percentage\", \"Gender\"\n",
    "# hue_order = [\"terrible\", \"poor\",'average','excellent']\n",
    "\n",
    "# # Generate the dataframe with normalized value count of each class with respect to gender\n",
    "# balanced_percentage_df = balanced_visualize_data[x].groupby(balanced_visualize_data[hue]).value_counts(normalize=True).rename(percentage).reset_index()\n",
    "# # g =percentage_df.pipe((sns.barplot, \"data\"), x=x, y=percentage, hue=hue)\n",
    "# g = sns.barplot(x='director_class',\n",
    "#                 y='Percentage',\n",
    "#                 hue= 'Gender',\n",
    "#                 data=balanced_percentage_df,\n",
    "#                 palette = palette\n",
    "#                )\n",
    "\n",
    "\n",
    "\n",
    "# # Logistics of plotting\n",
    "\n",
    "# plt.title(\"Distribution of gender across the success measure, director class\",fontsize = 16)\n",
    "# plt.xlabel('Director Class', fontsize=16)\n",
    "# plt.ylabel('Proportion', fontsize=16)\n",
    "# plt.tick_params(labelsize=12)\n",
    "\n",
    "# # plt.axis('off')\n",
    "# plt.legend(title = 'Gender' ,bbox_to_anchor=(1.3, 0.5), loc='right', ncol=1,fontsize = 16)\n",
    "# # plt.savefig('Director_Gender_distribution_across_success_class.png', dpi=100, bbox_inches='tight')\n",
    "# plt.show()\n"
   ]
  },
  {
   "cell_type": "markdown",
   "metadata": {},
   "source": [
    "## Combining the plots"
   ]
  },
  {
   "cell_type": "code",
   "execution_count": 54,
   "metadata": {},
   "outputs": [
    {
     "name": "stderr",
     "output_type": "stream",
     "text": [
      "C:\\Users\\yuvar\\Anaconda3\\lib\\site-packages\\ipykernel_launcher.py:55: UserWarning: Matplotlib is currently using module://ipykernel.pylab.backend_inline, which is a non-GUI backend, so cannot show the figure.\n"
     ]
    },
    {
     "data": {
      "image/png": "[encoded data removed]",
      "text/plain": [
       "<Figure size 1008x432 with 2 Axes>"
      ]
     },
     "metadata": {},
     "output_type": "display_data"
    }
   ],
   "source": [
    "fig, axes =plt.subplots(nrows= 1, ncols = 2, figsize=(14, 6) , sharey= True)\n",
    "ax1 , ax2 = axes.flatten()\n",
    "\n",
    "palette = ['red','blue']\n",
    "\n",
    "x, percentage, hue = \"director_class\", \"Percentage\", \"Gender\"\n",
    "order = [\"terrible\", \"poor\",'average','excellent']\n",
    "hue_order = ['Female','Male']\n",
    "\n",
    "\n",
    "# Generate the dataframe with normalized value count of each class with respect to gender\n",
    "percentage_df = visualize_data[x].groupby(visualize_data[hue]).value_counts(normalize=True).rename(percentage).reset_index()\n",
    "# g =percentage_df.pipe((sns.barplot, \"data\"), x=x, y=percentage, hue=hue)\n",
    "g = sns.barplot(x='director_class',\n",
    "                order= order,\n",
    "                y='Percentage',\n",
    "                hue= 'Gender',\n",
    "                hue_order = hue_order,\n",
    "                data=percentage_df,\n",
    "                palette = palette,\n",
    "                ax = ax1\n",
    "               ).set_title(\"Unbalanced data\",fontsize = 18)\n",
    "\n",
    "ax1.get_legend().remove()\n",
    "\n",
    "\n",
    "# Generate the dataframe with normalized value count of each class with respect to gender\n",
    "balanced_percentage_df = balanced_visualize_data[x].groupby(balanced_visualize_data[hue]).value_counts(normalize=True).rename(percentage).reset_index()\n",
    "# g =percentage_df.pipe((sns.barplot, \"data\"), x=x, y=percentage, hue=hue)\n",
    "g1 = sns.barplot(x='director_class',\n",
    "                 order= order,\n",
    "                 y='Percentage',    \n",
    "                 hue= 'Gender',\n",
    "                 hue_order = hue_order,\n",
    "                 data=balanced_percentage_df,\n",
    "                 palette = palette,\n",
    "                 ax = ax2\n",
    "               ).set_title(\"Balanced data\",fontsize = 18)\n",
    "\n",
    "ax2.legend(title='Gender' , bbox_to_anchor=(1.28, 0.5), loc='right', ncol=1,fontsize=12)\n",
    "\n",
    "for i,ax in enumerate(axes.flat):\n",
    "    ax.tick_params(labelsize=14)\n",
    "    ax.set_xlabel('Director Class')\n",
    "    ax.xaxis.label.set_size(18)\n",
    "    ax.yaxis.label.set_size(18)\n",
    "\n",
    "ax2.set_ylabel('') \n",
    "\n",
    "fig.suptitle('Percentage Distribution of Gender across the Diretor class', fontsize=20, y = 1.05)\n",
    "    \n",
    "# fig.savefig('Percentage Distribution of Gender across the Diretor class_Entire Director data.png', dpi=100 , bbox_inches='tight')\n",
    "\n",
    "# fig.tight_layout()\n",
    "fig.show()"
   ]
  },
  {
   "cell_type": "code",
   "execution_count": null,
   "metadata": {},
   "outputs": [],
   "source": [
    "plt.get_backend()"
   ]
  },
  {
   "cell_type": "code",
   "execution_count": null,
   "metadata": {},
   "outputs": [],
   "source": [
    "# # Plotting a bar graph of the number of stores in each city, for the first ten cities listed\n",
    "# # in the column 'City'\n",
    "# gender_count  = visualize_data['Gender'].value_counts()\n",
    "# plt.figure(figsize=(8,6))\n",
    "# g = sns.barplot(gender_count.index, gender_count.values, alpha=0.8)\n",
    "# plt.title('Gender distribution in Director data set 1')\n",
    "# plt.ylabel('Number of Occurrences', fontsize=12)\n",
    "# plt.xlabel('Gender', fontsize=12)\n",
    "# plt.show()"
   ]
  },
  {
   "cell_type": "markdown",
   "metadata": {},
   "source": [
    "## 3. Swarm plot"
   ]
  },
  {
   "cell_type": "markdown",
   "metadata": {},
   "source": [
    "# Slow can test later"
   ]
  },
  {
   "cell_type": "code",
   "execution_count": null,
   "metadata": {
    "scrolled": true
   },
   "outputs": [],
   "source": [
    "# sns.swarmplot(x=chosen_success_class, y=chosen_feature_predicting, data=visualize_data)"
   ]
  },
  {
   "cell_type": "markdown",
   "metadata": {},
   "source": [
    "## 4. Histogram grouped by categories in same plot - Not working"
   ]
  },
  {
   "cell_type": "markdown",
   "metadata": {},
   "source": [
    "# Not working yet"
   ]
  },
  {
   "cell_type": "code",
   "execution_count": null,
   "metadata": {},
   "outputs": [],
   "source": [
    "visualize_data[chosen_success_class].value_counts().index"
   ]
  },
  {
   "cell_type": "code",
   "execution_count": null,
   "metadata": {},
   "outputs": [],
   "source": [
    "order = [\"terrible\", \"poor\",'average','excellent']\n",
    "\n",
    "x1 = visualize_data.loc[visualize_data[chosen_success_class] == order[0], 'Gender']\n",
    "x2 = visualize_data.loc[visualize_data[chosen_success_class] == order[1], chosen_feature_predicting]\n",
    "x3 = visualize_data.loc[visualize_data[chosen_success_class] == order[2], chosen_feature_predicting]\n",
    "x4 = visualize_data.loc[visualize_data[chosen_success_class] == order[3], chosen_feature_predicting]\n",
    "\n",
    "kwargs = dict(bins=100)\n",
    "\n",
    "plt.hist(x1, **kwargs, color='red', label=order[0] )\n",
    "plt.hist(x2, **kwargs, color='orange', label=order[1], alpha = 0.75)\n",
    "plt.hist(x3, **kwargs, color='yellow', label=order[2], alpha=0.5)\n",
    "plt.hist(x4, **kwargs, color='green', label=order[3] , alpha=0.2)\n",
    "plt.gca().set(title='Frequency Histogram of Diamond Depths', ylabel='Frequency')\n",
    "plt.ylim(0,1500)\n",
    "plt.xlim(0,500)\n",
    "plt.legend();\n"
   ]
  },
  {
   "cell_type": "markdown",
   "metadata": {},
   "source": [
    "## 5. Bar plot with gender and success class"
   ]
  },
  {
   "cell_type": "markdown",
   "metadata": {},
   "source": [
    "# Not working as intended"
   ]
  },
  {
   "cell_type": "code",
   "execution_count": null,
   "metadata": {},
   "outputs": [],
   "source": [
    "visualize_data['dummy'] = 1"
   ]
  },
  {
   "cell_type": "code",
   "execution_count": null,
   "metadata": {},
   "outputs": [],
   "source": [
    "# gender_count  = visualize_data['Gender'].value_counts()\n",
    "\n",
    "# Figure size\n",
    "plt.figure(figsize=(8,6))\n",
    "\n",
    "# Seaborn bar plot\n",
    "g = sns.barplot(x='Gender',\n",
    "                y='dummy',\n",
    "                data=visualize_data ,\n",
    "                hue = chosen_success_class,\n",
    "                order = ['Male','Female'])\n",
    "\n",
    "# # To print the numbers on top of the bar plot\n",
    "# for index, row in groupedvalues.iterrows():\n",
    "#     g.text(row.name,row.dummy, round(row.dummy,2), color='black', ha=\"center\")\n",
    "    \n",
    "# Logistics of plotting\n",
    "\n",
    "plt.title('Gender distribution in Director data set 1',fontsize = 16)\n",
    "plt.xlabel('Gender', fontsize=16)\n",
    "plt.ylabel('Number of Occurrences', fontsize=16)\n",
    "plt.legend(title = 'Director Class' ,bbox_to_anchor=(1.25, 0.5), loc='right', ncol=1)\n",
    "plt.tick_params(labelsize=12)\n",
    "plt.show()"
   ]
  },
  {
   "cell_type": "code",
   "execution_count": null,
   "metadata": {},
   "outputs": [],
   "source": [
    "visualize_data.drop(columns = 'dummy',inplace = True)"
   ]
  },
  {
   "cell_type": "markdown",
   "metadata": {},
   "source": [
    "# 6. Correlation with the target class - Mostly for numerical columns"
   ]
  },
  {
   "cell_type": "markdown",
   "metadata": {},
   "source": [
    "## Working - To be used while writing about average rating count as succes measure"
   ]
  },
  {
   "cell_type": "code",
   "execution_count": null,
   "metadata": {},
   "outputs": [],
   "source": [
    "visualize_data.columns"
   ]
  },
  {
   "cell_type": "code",
   "execution_count": null,
   "metadata": {},
   "outputs": [],
   "source": [
    "visualize_data"
   ]
  },
  {
   "cell_type": "code",
   "execution_count": null,
   "metadata": {},
   "outputs": [],
   "source": [
    "cor = visualize_data[['average_rating_count', 'career_Length', 'birthYear',\n",
    "       'average_movie_per_year', 'CareerStartYear', 'average_inter_event_time',\n",
    "       'median_inter_event_time', 'average_rating_value', 'movies_produced']].corr().round(2)"
   ]
  },
  {
   "cell_type": "code",
   "execution_count": null,
   "metadata": {},
   "outputs": [],
   "source": [
    "cor"
   ]
  },
  {
   "cell_type": "code",
   "execution_count": null,
   "metadata": {},
   "outputs": [],
   "source": [
    "correlations = visualize_data.corrwith(visualize_data[chosen_feature_predicting]).to_frame()\n",
    "correlations['abs'] = correlations[0].abs()\n",
    "sorted_correlations = correlations.sort_values('abs', ascending=False)[0]"
   ]
  },
  {
   "cell_type": "code",
   "execution_count": null,
   "metadata": {},
   "outputs": [],
   "source": [
    "fig, (ax1,ax2) =plt.subplots(nrows= 1, ncols = 2, figsize=(14, 8) , sharey= True , gridspec_kw={'width_ratios': [1, 2]})\n",
    "\n",
    "g = sns.heatmap(data = cor,\n",
    "                annot=True,\n",
    "                cmap=plt.cm.Reds,\n",
    "                fmt=\".2f\",\n",
    "                annot_kws={'size':12},\n",
    "                square=True,\n",
    "                ax = ax2\n",
    "               ).set_title(label ='Correlation in Director subset data' , y = 1.05)\n",
    "\n",
    "g1 = sns.heatmap(data = sorted_correlations.to_frame(),\n",
    "                 cmap=plt.cm.Reds,\n",
    "                 annot=True,\n",
    "                 fmt=\".2f\",\n",
    "                 annot_kws={'size':14},\n",
    "                 cbar = False,\n",
    "                 ax=ax1,\n",
    "                ).set_title(label ='Correlation with Average rating count' , y = 1.05)\n",
    "\n",
    "\n",
    "\n",
    "for i,ax in enumerate(axes.flat):\n",
    "    ax.tick_params(labelsize=8)\n",
    "#     ax.xaxis.label.set_size(10)\n",
    "#     ax.yaxis.label.set_size(10)\n",
    "    \n",
    "\n",
    "fig.suptitle('Correlation of numerical features in the Director Numeric data', fontsize=20,x = 0.55, y = 1.05)\n",
    "\n",
    "fig.tight_layout()\n",
    "fig.savefig('Correlation of numerical features in the Director Numeric data with Average rating count.png', dpi=100 , bbox_inches='tight')\n",
    "\n",
    "\n",
    "fig.show()"
   ]
  },
  {
   "cell_type": "code",
   "execution_count": null,
   "metadata": {},
   "outputs": [],
   "source": []
  },
  {
   "cell_type": "code",
   "execution_count": null,
   "metadata": {},
   "outputs": [],
   "source": []
  },
  {
   "cell_type": "code",
   "execution_count": null,
   "metadata": {},
   "outputs": [],
   "source": []
  },
  {
   "cell_type": "code",
   "execution_count": null,
   "metadata": {},
   "outputs": [],
   "source": [
    "#Using Pearson Correlation\n",
    "plt.figure(figsize=(8,6))\n",
    "cor = visualize_data.corr().round(2)\n",
    "sns.heatmap(data = cor,\n",
    "            annot=True,\n",
    "            cmap=plt.cm.Reds,\n",
    "            fmt=\".2f\",\n",
    "            annot_kws={'size':10},\n",
    "            square=True\n",
    "           ).set_title(label ='Correlation in Director subset data' , y = 0.95)\n",
    "plt.tick_params(labelsize=12)\n",
    "plt.show()"
   ]
  },
  {
   "cell_type": "code",
   "execution_count": null,
   "metadata": {},
   "outputs": [],
   "source": [
    "correlations = visualize_data.corrwith(visualize_data[chosen_feature_predicting]).to_frame()\n",
    "correlations['abs'] = correlations[0].abs()\n",
    "sorted_correlations = correlations.sort_values('abs', ascending=False)[0]\n",
    "fig, ax = plt.subplots(figsize=(8,6))\n",
    "sns.heatmap(sorted_correlations.to_frame(), cmap='coolwarm', annot=True, vmin=-1, vmax=1, ax=ax);\n",
    "\n",
    "fig.suptitle('Correlation of numerical features in the Director subset data with average rating count', fontsize=20 , x = 0.45)\n",
    "\n",
    "\n",
    "# fig.savefig('Correlation of numerical features in the Director subset data.png', dpi=100 , bbox_inches='tight')\n",
    "fig.show()"
   ]
  },
  {
   "cell_type": "code",
   "execution_count": null,
   "metadata": {},
   "outputs": [],
   "source": []
  },
  {
   "cell_type": "markdown",
   "metadata": {},
   "source": [
    "## Accuracy of the models"
   ]
  },
  {
   "cell_type": "code",
   "execution_count": null,
   "metadata": {},
   "outputs": [],
   "source": [
    "sns.reset_orig()"
   ]
  },
  {
   "cell_type": "code",
   "execution_count": 64,
   "metadata": {},
   "outputs": [],
   "source": [
    "accuracy_df = pd.read_csv(\"Accuracy - Director Subset.csv\")"
   ]
  },
  {
   "cell_type": "code",
   "execution_count": 65,
   "metadata": {},
   "outputs": [
    {
     "data": {
      "text/html": [
       "<div>\n",
       "<style scoped>\n",
       "    .dataframe tbody tr th:only-of-type {\n",
       "        vertical-align: middle;\n",
       "    }\n",
       "\n",
       "    .dataframe tbody tr th {\n",
       "        vertical-align: top;\n",
       "    }\n",
       "\n",
       "    .dataframe thead th {\n",
       "        text-align: right;\n",
       "    }\n",
       "</style>\n",
       "<table border=\"1\" class=\"dataframe\">\n",
       "  <thead>\n",
       "    <tr style=\"text-align: right;\">\n",
       "      <th></th>\n",
       "      <th>Model</th>\n",
       "      <th>Value</th>\n",
       "      <th>Scenario</th>\n",
       "      <th>Dataset</th>\n",
       "      <th>Row Type</th>\n",
       "    </tr>\n",
       "  </thead>\n",
       "  <tbody>\n",
       "    <tr>\n",
       "      <th>0</th>\n",
       "      <td>RF</td>\n",
       "      <td>0.381696</td>\n",
       "      <td>Unbalanced with Gender</td>\n",
       "      <td>DN</td>\n",
       "      <td>Accuracy</td>\n",
       "    </tr>\n",
       "    <tr>\n",
       "      <th>1</th>\n",
       "      <td>SVM</td>\n",
       "      <td>0.397550</td>\n",
       "      <td>Unbalanced with Gender</td>\n",
       "      <td>DN</td>\n",
       "      <td>Accuracy</td>\n",
       "    </tr>\n",
       "    <tr>\n",
       "      <th>2</th>\n",
       "      <td>GB</td>\n",
       "      <td>0.430699</td>\n",
       "      <td>Unbalanced with Gender</td>\n",
       "      <td>DN</td>\n",
       "      <td>Accuracy</td>\n",
       "    </tr>\n",
       "    <tr>\n",
       "      <th>3</th>\n",
       "      <td>XGB</td>\n",
       "      <td>0.428297</td>\n",
       "      <td>Unbalanced with Gender</td>\n",
       "      <td>DN</td>\n",
       "      <td>Accuracy</td>\n",
       "    </tr>\n",
       "    <tr>\n",
       "      <th>4</th>\n",
       "      <td>RF</td>\n",
       "      <td>0.382897</td>\n",
       "      <td>Unbalanced without Gender</td>\n",
       "      <td>DN</td>\n",
       "      <td>Accuracy</td>\n",
       "    </tr>\n",
       "  </tbody>\n",
       "</table>\n",
       "</div>"
      ],
      "text/plain": [
       "  Model     Value                   Scenario Dataset  Row Type\n",
       "0    RF  0.381696     Unbalanced with Gender      DN  Accuracy\n",
       "1   SVM  0.397550     Unbalanced with Gender      DN  Accuracy\n",
       "2    GB  0.430699     Unbalanced with Gender      DN  Accuracy\n",
       "3   XGB  0.428297     Unbalanced with Gender      DN  Accuracy\n",
       "4    RF  0.382897  Unbalanced without Gender      DN  Accuracy"
      ]
     },
     "execution_count": 65,
     "metadata": {},
     "output_type": "execute_result"
    }
   ],
   "source": [
    "accuracy_df.head()"
   ]
  },
  {
   "cell_type": "code",
   "execution_count": 66,
   "metadata": {},
   "outputs": [
    {
     "data": {
      "image/png": "[encoded data removed]",
      "text/plain": [
       "<Figure size 576x432 with 1 Axes>"
      ]
     },
     "metadata": {},
     "output_type": "display_data"
    }
   ],
   "source": [
    "plt.figure(figsize=(8,6))\n",
    "g2 = sns.scatterplot(x='Model',\n",
    "                     y='Value',\n",
    "                     hue= 'Scenario',\n",
    "                     data=accuracy_df,\n",
    "                     markers = True,\n",
    "                     style = 'Dataset',\n",
    "                     s=125,\n",
    "                     alpha = 0.75\n",
    "#                  col = 'Dataset'\n",
    "#                 palette = palette,\n",
    "#                  ax = ax2\n",
    "               )\n",
    "\n",
    "plt.title('Accuracy of the models in Director data',fontsize = 16, y = 1.05, x = 0.75)\n",
    "plt.legend(title = 'Legend' ,bbox_to_anchor=(1.55, 0.5), loc='right', ncol=1, fancybox  = True , labelspacing  = 1.25 , fontsize  = 12)\n",
    "plt.tick_params(labelsize=12)\n",
    "plt.xlabel('Machine learning Model', fontsize=16)\n",
    "plt.ylabel('Accuracy of the model', fontsize=16)\n",
    "# plt.savefig('Accuracy of the models in Director data.png', dpi=100 , bbox_inches='tight')\n",
    "plt.show()"
   ]
  },
  {
   "cell_type": "code",
   "execution_count": null,
   "metadata": {},
   "outputs": [],
   "source": [
    "sns.reset_orig()"
   ]
  },
  {
   "cell_type": "code",
   "execution_count": 67,
   "metadata": {},
   "outputs": [
    {
     "name": "stderr",
     "output_type": "stream",
     "text": [
      "C:\\Users\\yuvar\\Anaconda3\\lib\\site-packages\\ipykernel_launcher.py:33: UserWarning: Matplotlib is currently using module://ipykernel.pylab.backend_inline, which is a non-GUI backend, so cannot show the figure.\n"
     ]
    },
    {
     "data": {
      "image/png": "[encoded data removed]",
      "text/plain": [
       "<Figure size 1080x720 with 6 Axes>"
      ]
     },
     "metadata": {},
     "output_type": "display_data"
    }
   ],
   "source": [
    "# plt.figure(figsize=(10,6))\n",
    "sns.set(font_scale=1.4, style = \"white\") \n",
    "g2 = sns.FacetGrid(data=accuracy_df,\n",
    "                   col = 'Dataset',\n",
    "                   hue = 'Scenario',\n",
    "                   row = 'Row Type',\n",
    "                   hue_order = ['Unbalanced with Gender','Unbalanced without Gender','Balanced with Gender'],\n",
    "                   height = 5,\n",
    "                   aspect = 1,\n",
    "                   sharex = True,\n",
    "#                    margin_titles=True,\n",
    "                   hue_kws = dict(marker = [\"o\",\"x\",\"^\"]))\n",
    "\n",
    "g2 = (g2.map(plt.scatter, 'Model', \"Value\", edgecolor=\"w\" , s= 200))\n",
    "# [plt.setp(ax.texts, text=\"\") for ax in g2.axes.flat]\n",
    "\n",
    "\n",
    "g2.set_titles(\"Dataset = {col_name}\",fontsize = 20, x = 0.55)\n",
    "g2.axes[0,0].set_ylabel('Accuracy of the model')\n",
    "g2.axes[1,0].set_ylabel('Area under the curve - ROC')\n",
    "\n",
    "g2.fig.suptitle('Accuracy and AUC of the models in Director data',y = 1.08 ,x = 0.50 , fontsize = 24)\n",
    "plt.legend(title = 'Dataset Scenario' ,bbox_to_anchor=(1.8, 1.1), loc='right', ncol=1, fancybox  = True , labelspacing  = 1.25 , fontsize  = 12)\n",
    "\n",
    "\n",
    "# g2.set_title('Accuracy of the models in Director data',fontsize = 16, y = 1.05, x = 0.75)\n",
    "# plt.legend(title = 'Legend' ,bbox_to_anchor=(1.55, 0.5), loc='right', ncol=1, fancybox  = True , labelspacing  = 1.25 , fontsize  = 12)\n",
    "# plt.tick_params(labelsize=12)\n",
    "# plt.xlabel('Machine learning Model', fontsize=16)\n",
    "# plt.ylabel('Accuracy of the model', fontsize=16)\n",
    "# plt.savefig('Facetgrid_Accuracy_AUC_ROC of the models in Director data.png', dpi=100 , bbox_inches='tight')\n",
    "g2.fig.tight_layout()\n",
    "g2.fig.show()"
   ]
  },
  {
   "cell_type": "code",
   "execution_count": null,
   "metadata": {},
   "outputs": [],
   "source": []
  },
  {
   "cell_type": "markdown",
   "metadata": {},
   "source": [
    "# Box plot distribution - Gender vs numerical features"
   ]
  },
  {
   "cell_type": "code",
   "execution_count": 55,
   "metadata": {
    "scrolled": true
   },
   "outputs": [
    {
     "data": {
      "text/plain": [
       "Index(['movies_produced', 'average_rating_value', 'average_rating_count',\n",
       "       'career_Length', 'Gender', 'birthYear', 'CareerStartYear',\n",
       "       'median_inter_event_time', 'average_movie_per_year',\n",
       "       'average_inter_event_time', 'director_class'],\n",
       "      dtype='object')"
      ]
     },
     "execution_count": 55,
     "metadata": {},
     "output_type": "execute_result"
    }
   ],
   "source": [
    "visualize_data.columns"
   ]
  },
  {
   "cell_type": "code",
   "execution_count": 56,
   "metadata": {},
   "outputs": [
    {
     "data": {
      "text/plain": [
       "       Gender\n",
       "count  Female     8990.000000\n",
       "       Male      32636.000000\n",
       "mean   Female        5.967631\n",
       "       Male          8.313549\n",
       "std    Female       16.454949\n",
       "       Male         22.584336\n",
       "min    Female        1.000000\n",
       "       Male          1.000000\n",
       "25%    Female        1.000000\n",
       "       Male          1.000000\n",
       "50%    Female        2.000000\n",
       "       Male          2.000000\n",
       "75%    Female        5.000000\n",
       "       Male          6.000000\n",
       "max    Female      397.000000\n",
       "       Male        821.000000\n",
       "dtype: float64"
      ]
     },
     "execution_count": 56,
     "metadata": {},
     "output_type": "execute_result"
    }
   ],
   "source": [
    "visualize_data.groupby(\"Gender\")['movies_produced'].describe().unstack()"
   ]
  },
  {
   "cell_type": "code",
   "execution_count": 57,
   "metadata": {},
   "outputs": [
    {
     "data": {
      "text/plain": [
       "Gender\n",
       "Female    4\n",
       "Male      5\n",
       "Name: career_Length, dtype: int64"
      ]
     },
     "execution_count": 57,
     "metadata": {},
     "output_type": "execute_result"
    }
   ],
   "source": [
    "visualize_data.groupby(\"Gender\")['career_Length'].median()"
   ]
  },
  {
   "cell_type": "code",
   "execution_count": 58,
   "metadata": {},
   "outputs": [
    {
     "data": {
      "text/plain": [
       "['movies_produced',\n",
       " 'average_rating_value',\n",
       " 'average_rating_count',\n",
       " 'career_Length',\n",
       " 'birthYear',\n",
       " 'CareerStartYear',\n",
       " 'median_inter_event_time',\n",
       " 'average_movie_per_year',\n",
       " 'average_inter_event_time']"
      ]
     },
     "execution_count": 58,
     "metadata": {},
     "output_type": "execute_result"
    }
   ],
   "source": [
    "boxplot_features = visualize_data.columns.values.tolist()\n",
    "boxplot_features.remove('Gender')\n",
    "boxplot_features.remove('director_class')\n",
    "# boxplot_features.remove('new_classification')\n",
    "boxplot_features\n"
   ]
  },
  {
   "cell_type": "code",
   "execution_count": 59,
   "metadata": {},
   "outputs": [],
   "source": [
    "outlierExclusionList = ['movies_produced','average_rating_count','average_inter_event_time',\n",
    "                        'median_inter_event_time','average_movie_per_year']"
   ]
  },
  {
   "cell_type": "markdown",
   "metadata": {},
   "source": [
    "## Function box plot "
   ]
  },
  {
   "cell_type": "code",
   "execution_count": null,
   "metadata": {},
   "outputs": [],
   "source": [
    "# def box_plot_Xgender_Ynumerical(df,xFeature,yFeatures,outlierExclusionList):\n",
    "#     axesLength = len(yFeatures)\n",
    "#     palette = ['red','blue']\n",
    "    \n",
    "#     fig, axes = plt.subplots(nrows= 3 , ncols=3, figsize=(14, 6))\n",
    "#     ax1 , ax2 , ax3 , ax4 , ax5 , ax6 , ax7 , ax8 , ax9 = axes.flatten()\n",
    "\n",
    "#     for row in range(len(axes)):\n",
    "#         for col in range(len(axes)):\n",
    "# #             print('Plot :',str((row * len(axes)) +col ))            \n",
    "#             if(yFeatures[(row * len(axes)) + col] in outlierExclusionList):\n",
    "#                 g = sns.boxplot(data = df,\n",
    "#                                 x = xFeature,\n",
    "#                                 y = yFeatures[ (row * len(axes)) + col],\n",
    "#                                 showfliers = False,\n",
    "#                                 orient='v',\n",
    "#                                 palette = palette,\n",
    "#                                 ax = axes[row][col]\n",
    "#                                ).set_title(\"Gender vs {0}\".format(yFeatures[(row * len(axes)) +col]))\n",
    "#             else:\n",
    "#                 g1 = sns.boxplot(data = df,\n",
    "#                                 x = xFeature,\n",
    "#                                 y = yFeatures[ (row * len(axes)) + col],\n",
    "#                                 flierprops = dict(markerfacecolor = '0.50', markersize = 2),\n",
    "#                                 orient='v',\n",
    "#                                 palette = palette,\n",
    "#                                 ax = axes[row][col]\n",
    "#                                ).set_title(\"Gender vs {0}\".format(yFeatures[(row * len(axes)) +col]))\n",
    "            \n",
    "\n",
    "#     plt.subplots_adjust(top=2, bottom=0.1, left=0.10, right=0.85, hspace=0.5,\n",
    "#                         wspace=0.4)"
   ]
  },
  {
   "cell_type": "code",
   "execution_count": null,
   "metadata": {},
   "outputs": [],
   "source": [
    "# box_plot_Xgender_Ynumerical(df = visualize_data,\n",
    "#                             xFeature = 'Gender',\n",
    "#                             yFeatures=boxplot_features,\n",
    "#                             outlierExclusionList= outlierExclusionList\n",
    "#                            )"
   ]
  },
  {
   "cell_type": "code",
   "execution_count": null,
   "metadata": {},
   "outputs": [],
   "source": []
  },
  {
   "cell_type": "code",
   "execution_count": null,
   "metadata": {},
   "outputs": [],
   "source": []
  },
  {
   "cell_type": "code",
   "execution_count": 60,
   "metadata": {},
   "outputs": [
    {
     "name": "stderr",
     "output_type": "stream",
     "text": [
      "C:\\Users\\yuvar\\Anaconda3\\lib\\site-packages\\ipykernel_launcher.py:113: UserWarning: Matplotlib is currently using module://ipykernel.pylab.backend_inline, which is a non-GUI backend, so cannot show the figure.\n"
     ]
    },
    {
     "data": {
      "image/png": "[encoded data removed]",
      "text/plain": [
       "<Figure size 1008x432 with 9 Axes>"
      ]
     },
     "metadata": {},
     "output_type": "display_data"
    }
   ],
   "source": [
    "fig, axes = plt.subplots(nrows= 3 , ncols=3, figsize=(14, 6))\n",
    "\n",
    "ax1 , ax2 , ax3 , ax4 , ax5 , ax6 , ax7 , ax8 , ax9 = axes.flatten()\n",
    "\n",
    "palette = ['blue','red']\n",
    "\n",
    "sns.boxplot(data = visualize_data,\n",
    "            x = 'Gender',\n",
    "            y = 'birthYear',\n",
    "            flierprops = dict(markerfacecolor = '0.50', markersize = 2),\n",
    "            orient='v',\n",
    "            palette = palette,\n",
    "            ax = ax1\n",
    "           ).set_title(\"Gender vs Birth Year\");\n",
    "\n",
    "\n",
    "sns.boxplot(data = visualize_data,\n",
    "            x = 'Gender',\n",
    "            y = 'average_rating_value',\n",
    "            flierprops = dict(markerfacecolor = '0.50', markersize = 2),\n",
    "            orient='v',\n",
    "            palette = palette,\n",
    "            ax = ax2\n",
    "           ).set_title(\"Gender vs Average rating value\");\n",
    "\n",
    "\n",
    "sns.boxplot(data = visualize_data,\n",
    "            x = 'Gender',\n",
    "            y = 'career_Length',\n",
    "            flierprops = dict(markerfacecolor = '0.50', markersize = 2),\n",
    "            palette = palette,\n",
    "            ax = ax3\n",
    "           ).set_title(\"Gender vs Career length\")\n",
    "\n",
    "\n",
    "sns.boxplot(data = visualize_data,\n",
    "            x = 'Gender',\n",
    "            y = 'movies_produced',\n",
    "            showfliers = False,\n",
    "            palette = palette,\n",
    "            ax = ax4\n",
    "           ).set_title(\"Gender vs Movies produced\");\n",
    "\n",
    "\n",
    "sns.boxplot(data = visualize_data,\n",
    "            x = 'Gender',\n",
    "            y = 'average_rating_count',\n",
    "            showfliers = False,\n",
    "            palette = palette,\n",
    "            ax = ax5\n",
    "           ).set_title(\"Gender vs Average rating count\")\n",
    "\n",
    "\n",
    "sns.boxplot(data = visualize_data,\n",
    "            x = 'Gender',\n",
    "            y = 'CareerStartYear',\n",
    "            flierprops = dict(markerfacecolor = '0.50', markersize = 2),\n",
    "            orient='v',\n",
    "            palette = palette,\n",
    "            ax = ax6\n",
    "           ).set_title(\"Gender vs Career start year\")\n",
    "\n",
    "sns.boxplot(data = visualize_data,\n",
    "            x = 'Gender',\n",
    "            y = 'average_inter_event_time',\n",
    "            showfliers = False,\n",
    "            palette = palette,\n",
    "            ax = ax7\n",
    "           ).set_title(\"Gender vs Average inter event time\", fontsize = 14)\n",
    "\n",
    "\n",
    "sns.boxplot(data = visualize_data,\n",
    "            x = 'Gender',\n",
    "            y = 'median_inter_event_time',\n",
    "            showfliers = False,\n",
    "            orient='v',\n",
    "            palette = palette,\n",
    "            ax = ax8\n",
    "           ).set_title(\"Gender vs Median inter event time\",fontsize = 14)\n",
    "\n",
    "\n",
    "sns.boxplot(data = visualize_data,\n",
    "            x = 'Gender',\n",
    "            y = 'average_movie_per_year',\n",
    "            showfliers = False,\n",
    "            orient='v',\n",
    "            palette = palette,\n",
    "            ax = ax9\n",
    "           ).set_title(\"Gender vs Average movie per year\",fontsize = 14)\n",
    "\n",
    "\n",
    "\n",
    "\n",
    "axis_y_labels = ['Birth Year', 'Average rating value','Career length',\n",
    "                 'Movies produced','Average rating count','Career start year',\n",
    "                 'Average inter event time','Median inter event time','Average movie per year']\n",
    "\n",
    "\n",
    "for i,ax in enumerate(axes.flat):\n",
    "    ax.tick_params(labelsize=12)\n",
    "#     ax.set_xlabel('Gender', fontsize=14)\n",
    "    ax.xaxis.label.set_size(14)\n",
    "    ax.set_ylabel(axis_y_labels[i], fontsize=14)\n",
    "\n",
    "# fig.delaxes(ax9)\n",
    "\n",
    "\n",
    "\n",
    "plt.subplots_adjust(top=2, bottom=0.1, left=0.10, right=0.85, hspace=0.5,\n",
    "                    wspace=0.4)\n",
    "\n",
    "# fig.savefig('Box Plots of numerical features with respect to gender.png', dpi=100 , bbox_inches='tight')\n",
    "fig.show()\n",
    "fig.tight_layout()"
   ]
  },
  {
   "cell_type": "markdown",
   "metadata": {},
   "source": [
    "### With outliers"
   ]
  },
  {
   "cell_type": "code",
   "execution_count": 62,
   "metadata": {},
   "outputs": [
    {
     "name": "stderr",
     "output_type": "stream",
     "text": [
      "C:\\Users\\yuvar\\Anaconda3\\lib\\site-packages\\ipykernel_launcher.py:118: UserWarning: Matplotlib is currently using module://ipykernel.pylab.backend_inline, which is a non-GUI backend, so cannot show the figure.\n"
     ]
    },
    {
     "data": {
      "image/png": "[encoded data removed]",
      "text/plain": [
       "<Figure size 1008x432 with 9 Axes>"
      ]
     },
     "metadata": {},
     "output_type": "display_data"
    }
   ],
   "source": [
    "fig, axes = plt.subplots(nrows= 3 , ncols=3, figsize=(14, 6))\n",
    "\n",
    "ax1 , ax2 , ax3 , ax4 , ax5 , ax6 , ax7 , ax8 , ax9 = axes.flatten()\n",
    "\n",
    "palette = ['blue','red']\n",
    "\n",
    "sns.boxplot(data = visualize_data,\n",
    "            x = 'Gender',\n",
    "            y = 'birthYear',\n",
    "            flierprops = dict(markerfacecolor = '0.50', markersize = 2),\n",
    "            orient='v',\n",
    "            palette = palette,\n",
    "            ax = ax1\n",
    "           ).set_title(\"Gender vs Birth Year\");\n",
    "\n",
    "\n",
    "sns.boxplot(data = visualize_data,\n",
    "            x = 'Gender',\n",
    "            y = 'average_rating_value',\n",
    "            flierprops = dict(markerfacecolor = '0.50', markersize = 2),\n",
    "            orient='v',\n",
    "            palette = palette,\n",
    "            ax = ax2\n",
    "           ).set_title(\"Gender vs Average rating value\");\n",
    "\n",
    "\n",
    "sns.boxplot(data = visualize_data,\n",
    "            x = 'Gender',\n",
    "            y = 'career_Length',\n",
    "            flierprops = dict(markerfacecolor = '0.50', markersize = 2),\n",
    "            palette = palette,\n",
    "            ax = ax3\n",
    "           ).set_title(\"Gender vs Career length\")\n",
    "\n",
    "\n",
    "sns.boxplot(data = visualize_data,\n",
    "            x = 'Gender',\n",
    "            y = 'movies_produced',\n",
    "            flierprops = dict(markerfacecolor = '0.50', markersize = 2),\n",
    "\n",
    "#             showfliers = False,\n",
    "            palette = palette,\n",
    "            ax = ax4\n",
    "           ).set_title(\"Gender vs Movies produced\");\n",
    "\n",
    "\n",
    "sns.boxplot(data = visualize_data,\n",
    "            x = 'Gender',\n",
    "            y = 'average_rating_count',\n",
    "            flierprops = dict(markerfacecolor = '0.50', markersize = 2),\n",
    "#             showfliers = False,\n",
    "            palette = palette,\n",
    "            ax = ax5\n",
    "           ).set_title(\"Gender vs Average rating count\")\n",
    "\n",
    "\n",
    "sns.boxplot(data = visualize_data,\n",
    "            x = 'Gender',\n",
    "            y = 'CareerStartYear',\n",
    "            flierprops = dict(markerfacecolor = '0.50', markersize = 2),\n",
    "            orient='v',\n",
    "            palette = palette,\n",
    "            ax = ax6\n",
    "           ).set_title(\"Gender vs Career start year\")\n",
    "\n",
    "sns.boxplot(data = visualize_data,\n",
    "            x = 'Gender',\n",
    "            y = 'average_inter_event_time',\n",
    "            flierprops = dict(markerfacecolor = '0.50', markersize = 2),\n",
    "#             showfliers = False,\n",
    "            palette = palette,\n",
    "            ax = ax7\n",
    "           ).set_title(\"Gender vs Average inter event time\", fontsize = 14)\n",
    "\n",
    "\n",
    "sns.boxplot(data = visualize_data,\n",
    "            x = 'Gender',\n",
    "            y = 'median_inter_event_time',\n",
    "            showfliers = False,\n",
    "            orient='v',\n",
    "            palette = palette,\n",
    "            ax = ax8\n",
    "           ).set_title(\"Gender vs Median inter event time\",fontsize = 14)\n",
    "\n",
    "\n",
    "sns.boxplot(data = visualize_data,\n",
    "            x = 'Gender',\n",
    "            y = 'average_movie_per_year',\n",
    "            flierprops = dict(markerfacecolor = '0.50', markersize = 2),\n",
    "#             showfliers = False,\n",
    "            orient='v',\n",
    "            palette = palette,\n",
    "            ax = ax9\n",
    "           ).set_title(\"Gender vs Average movie per year\",fontsize = 14)\n",
    "\n",
    "\n",
    "\n",
    "\n",
    "axis_y_labels = ['Birth Year', 'Average rating value','Career length',\n",
    "                 'Movies produced','Average rating count','Career start year',\n",
    "                 'Average inter event time','Median inter event time','Average movie per year']\n",
    "\n",
    "\n",
    "for i,ax in enumerate(axes.flat):\n",
    "    ax.tick_params(labelsize=12)\n",
    "#     ax.set_xlabel('Gender', fontsize=14)\n",
    "    ax.xaxis.label.set_size(14)\n",
    "    ax.set_ylabel(axis_y_labels[i], fontsize=14)\n",
    "\n",
    "# fig.delaxes(ax9)\n",
    "\n",
    "\n",
    "\n",
    "plt.subplots_adjust(top=2, bottom=0.1, left=0.10, right=0.85, hspace=0.5,\n",
    "                    wspace=0.4)\n",
    "\n",
    "fig.savefig('Box Plots of numerical features with respect to gender with Outliers.png', dpi=100 , bbox_inches='tight')\n",
    "fig.show()\n",
    "fig.tight_layout()"
   ]
  },
  {
   "cell_type": "code",
   "execution_count": null,
   "metadata": {},
   "outputs": [],
   "source": []
  },
  {
   "cell_type": "markdown",
   "metadata": {},
   "source": [
    "### Box plot of Gender against birth year hue director class"
   ]
  },
  {
   "cell_type": "code",
   "execution_count": null,
   "metadata": {},
   "outputs": [],
   "source": [
    "visualize_data.columns"
   ]
  },
  {
   "cell_type": "markdown",
   "metadata": {},
   "source": [
    "## Hue = Gender , X = Director_ class"
   ]
  },
  {
   "cell_type": "code",
   "execution_count": null,
   "metadata": {},
   "outputs": [],
   "source": [
    "fig, axes = plt.subplots(nrows= 3 , ncols=3, figsize=(14, 6))\n",
    "\n",
    "ax1 , ax2 , ax3 , ax4 , ax5 , ax6 , ax7 , ax8 , ax9 = axes.flatten()\n",
    "\n",
    "hue_order = ['Female','Male']\n",
    "hue_color = ['red','blue']\n",
    "order = [\"terrible\", \"poor\",'average','excellent']\n",
    "\n",
    "sns.boxplot(data = visualize_data,\n",
    "            x = 'director_class',\n",
    "            y = 'birthYear',\n",
    "            hue = 'Gender',\n",
    "            hue_order = hue_order,\n",
    "            order = order,\n",
    "            flierprops = dict(markerfacecolor = '0.50', markersize = 2),\n",
    "            orient='v',\n",
    "            palette = hue_color,\n",
    "            ax = ax1\n",
    "           ).set_title(\"Gender vs Birth Year\");\n",
    "\n",
    "\n",
    "sns.boxplot(data = visualize_data,\n",
    "            x = 'director_class',\n",
    "            y = 'average_rating_value',\n",
    "            hue = 'Gender',\n",
    "            hue_order = hue_order,\n",
    "            order = order,\n",
    "            flierprops = dict(markerfacecolor = '0.50', markersize = 2),\n",
    "            orient='v',\n",
    "            palette = hue_color,\n",
    "            ax = ax2\n",
    "           ).set_title(\"Gender vs Average rating value\");\n",
    "\n",
    "\n",
    "sns.boxplot(data = visualize_data,\n",
    "            x = 'director_class',\n",
    "            y = 'career_Length',\n",
    "            hue = 'Gender',\n",
    "            hue_order = hue_order,\n",
    "            order = order,\n",
    "            flierprops = dict(markerfacecolor = '0.50', markersize = 2),\n",
    "            palette = hue_color,\n",
    "            ax = ax3\n",
    "           ).set_title(\"Gender vs Career length\")\n",
    "\n",
    "\n",
    "sns.boxplot(data = visualize_data,\n",
    "            x = 'director_class',\n",
    "            y = 'movies_produced',\n",
    "            hue = 'Gender',\n",
    "            hue_order = hue_order,\n",
    "            order = order,            \n",
    "            showfliers = False,\n",
    "            palette = hue_color,\n",
    "            ax = ax4\n",
    "           ).set_title(\"Gender vs Movies produced\");\n",
    "\n",
    "\n",
    "sns.boxplot(data = visualize_data,\n",
    "            x = 'director_class',\n",
    "            y = 'average_rating_count',\n",
    "            hue = 'Gender',\n",
    "            hue_order = hue_order,\n",
    "            order = order,            \n",
    "            showfliers = False,\n",
    "            palette = hue_color,\n",
    "            ax = ax5\n",
    "           ).set_title(\"Gender vs Average rating count\")\n",
    "\n",
    "\n",
    "sns.boxplot(data = visualize_data,\n",
    "            x = 'director_class',\n",
    "            y = 'CareerStartYear',\n",
    "            hue = 'Gender',\n",
    "            hue_order = hue_order,\n",
    "            order = order,            \n",
    "            flierprops = dict(markerfacecolor = '0.50', markersize = 2),\n",
    "            orient='v',\n",
    "            palette = hue_color,\n",
    "            ax = ax6\n",
    "           ).set_title(\"Gender vs Career start year\")\n",
    "\n",
    "sns.boxplot(data = visualize_data,\n",
    "            x = 'director_class',\n",
    "            y = 'average_inter_event_time',\n",
    "            hue = 'Gender',\n",
    "            hue_order = hue_order,\n",
    "            order = order,            \n",
    "            showfliers = False,\n",
    "            palette = hue_color,\n",
    "            ax = ax7\n",
    "           ).set_title(\"Gender vs Average inter event time\",fontsize = 14)\n",
    "\n",
    "\n",
    "sns.boxplot(data = visualize_data,\n",
    "            x = 'director_class',\n",
    "            y = 'median_inter_event_time',\n",
    "            hue = 'Gender',\n",
    "            hue_order = hue_order,\n",
    "            order = order,            \n",
    "            showfliers = False,\n",
    "            orient='v',\n",
    "            palette = hue_color,\n",
    "            ax = ax8\n",
    "           ).set_title(\"Gender vs Median inter event time\",fontsize = 14)\n",
    "\n",
    "\n",
    "\n",
    "\n",
    "axis_y_labels = ['Birth Year', 'Average rating value','Career length',\n",
    "                 'Movies produced','Average rating count','Career start year',\n",
    "                 'Average inter event time','Median inter event time','remove']\n",
    "\n",
    "\n",
    "for i,ax in enumerate(axes.flat):\n",
    "    if(i == 8):\n",
    "        fig.delaxes(ax)\n",
    "    else:\n",
    "        ax.tick_params(labelsize=12)\n",
    "    #     ax.set_xlabel('Gender', fontsize=14)\n",
    "        ax.xaxis.label.set_size(14)\n",
    "        ax.set_ylabel(axis_y_labels[i], fontsize=14)\n",
    "        ax.get_legend().remove()\n",
    "\n",
    "        \n",
    "fig.suptitle('Distribution of Gender across the Diretor class with respect to numerical features', fontsize=20, y = 2.15)\n",
    "ax8.legend(title='Gender' , bbox_to_anchor=(2.2, 0.5), loc='right', ncol=1,fontsize=16 , handlelength=2, borderpad=1.2, labelspacing=2)\n",
    "\n",
    "\n",
    "plt.subplots_adjust(top=2, bottom=0.1, left=0.10, right=0.85, hspace=0.5,\n",
    "                    wspace=0.4)\n",
    "\n",
    "fig.savefig('Hue Gender - Director class vs numerical features.png', dpi=100 , bbox_inches='tight')\n",
    "fig.show()\n",
    "fig.tight_layout()"
   ]
  },
  {
   "cell_type": "markdown",
   "metadata": {},
   "source": [
    "## Hue = Director Class , X =  Gender"
   ]
  },
  {
   "cell_type": "code",
   "execution_count": null,
   "metadata": {},
   "outputs": [],
   "source": [
    "fig, axes = plt.subplots(nrows= 3 , ncols=3, figsize=(14, 6))\n",
    "\n",
    "ax1 , ax2 , ax3 , ax4 , ax5 , ax6 , ax7 , ax8 , ax9 = axes.flatten()\n",
    "\n",
    "order = ['Female','Male']\n",
    "hue_color = ['red','orange','yellow','green']\n",
    "hue_order = [\"terrible\", \"poor\",'average','excellent']\n",
    "\n",
    "sns.boxplot(data = visualize_data,\n",
    "            x = 'Gender',\n",
    "            y = 'birthYear',\n",
    "            hue = 'director_class',\n",
    "            hue_order = hue_order,\n",
    "            order = order,\n",
    "            flierprops = dict(markerfacecolor = '0.50', markersize = 2),\n",
    "            orient='v',\n",
    "            palette = hue_color,\n",
    "            ax = ax1\n",
    "           ).set_title(\"Gender vs Birth Year\");\n",
    "\n",
    "\n",
    "sns.boxplot(data = visualize_data,\n",
    "            x = 'Gender',\n",
    "            y = 'average_rating_value',\n",
    "            hue = 'director_class',\n",
    "            hue_order = hue_order,\n",
    "            order = order,\n",
    "            flierprops = dict(markerfacecolor = '0.50', markersize = 2),\n",
    "            orient='v',\n",
    "            palette = hue_color,\n",
    "            ax = ax2\n",
    "           ).set_title(\"Gender vs Average rating value\");\n",
    "\n",
    "\n",
    "sns.boxplot(data = visualize_data,\n",
    "            x = 'Gender',\n",
    "            y = 'career_Length',\n",
    "            hue = 'director_class',\n",
    "            hue_order = hue_order,\n",
    "            order = order,\n",
    "            flierprops = dict(markerfacecolor = '0.50', markersize = 2),\n",
    "            palette = hue_color,\n",
    "            ax = ax3\n",
    "           ).set_title(\"Gender vs Career length\")\n",
    "\n",
    "\n",
    "sns.boxplot(data = visualize_data,\n",
    "            x = 'Gender',\n",
    "            y = 'movies_produced',\n",
    "            hue = 'director_class',\n",
    "            hue_order = hue_order,\n",
    "            order = order,            \n",
    "            showfliers = False,\n",
    "            palette = hue_color,\n",
    "            ax = ax4\n",
    "           ).set_title(\"Gender vs Movies produced\");\n",
    "\n",
    "\n",
    "sns.boxplot(data = visualize_data,\n",
    "            x = 'Gender',\n",
    "            y = 'average_rating_count',\n",
    "            hue = 'director_class',\n",
    "            hue_order = hue_order,\n",
    "            order = order,            \n",
    "            showfliers = False,\n",
    "            palette = hue_color,\n",
    "            ax = ax5\n",
    "           ).set_title(\"Gender vs Average rating count\")\n",
    "\n",
    "\n",
    "sns.boxplot(data = visualize_data,\n",
    "            x = 'Gender',\n",
    "            y = 'CareerStartYear',\n",
    "            hue = 'director_class',\n",
    "            hue_order = hue_order,\n",
    "            order = order,            \n",
    "            flierprops = dict(markerfacecolor = '0.50', markersize = 2),\n",
    "            orient='v',\n",
    "            palette = hue_color,\n",
    "            ax = ax6\n",
    "           ).set_title(\"Gender vs Career start year\")\n",
    "\n",
    "sns.boxplot(data = visualize_data,\n",
    "            x = 'Gender',\n",
    "            y = 'average_inter_event_time',\n",
    "            hue = 'director_class',\n",
    "            hue_order = hue_order,\n",
    "            order = order,            \n",
    "            showfliers = False,\n",
    "            palette = hue_color,\n",
    "            ax = ax7\n",
    "           ).set_title(\"Gender vs Average inter event time\",fontsize = 14)\n",
    "\n",
    "\n",
    "sns.boxplot(data = visualize_data,\n",
    "            x = 'Gender',\n",
    "            y = 'median_inter_event_time',\n",
    "            hue = 'director_class',\n",
    "            hue_order = hue_order,\n",
    "            order = order,            \n",
    "            showfliers = False,\n",
    "            orient='v',\n",
    "            palette = hue_color,\n",
    "            ax = ax8\n",
    "           ).set_title(\"Gender vs Median inter event time\",fontsize = 14)\n",
    "\n",
    "\n",
    "\n",
    "\n",
    "axis_y_labels = ['Birth Year', 'Average rating value','Career length',\n",
    "                 'Movies produced','Average rating count','Career start year',\n",
    "                 'Average inter event time','Median inter event time','remove']\n",
    "\n",
    "\n",
    "for i,ax in enumerate(axes.flat):\n",
    "    if(i == 8):\n",
    "        fig.delaxes(ax)\n",
    "    else:\n",
    "        ax.tick_params(labelsize=12)\n",
    "    #     ax.set_xlabel('Gender', fontsize=14)\n",
    "        ax.xaxis.label.set_size(14)\n",
    "        ax.set_ylabel(axis_y_labels[i], fontsize=14)\n",
    "        ax.get_legend().remove()\n",
    "\n",
    "        \n",
    "fig.suptitle('Distribution of Gender across the Diretor class with respect to numerical features', fontsize=20, y = 2.15)\n",
    "ax8.legend(title='Director Class' , bbox_to_anchor=(2.2, 0.5), loc='right', ncol=1,fontsize=16 , handlelength=2, borderpad=1.2, labelspacing=1)\n",
    "\n",
    "\n",
    "plt.subplots_adjust(top=2, bottom=0.1, left=0.10, right=0.85, hspace=0.5,\n",
    "                    wspace=0.4)\n",
    "\n",
    "fig.savefig('Hue Director class - Gender vs numerical features.png', dpi=100 , bbox_inches='tight')\n",
    "fig.show()\n",
    "fig.tight_layout()"
   ]
  },
  {
   "cell_type": "markdown",
   "metadata": {},
   "source": [
    "## Balanced Data Hue = Director Class , X =  Gender"
   ]
  },
  {
   "cell_type": "code",
   "execution_count": null,
   "metadata": {},
   "outputs": [],
   "source": [
    "fig, axes = plt.subplots(nrows= 3 , ncols=3, figsize=(14, 6))\n",
    "\n",
    "ax1 , ax2 , ax3 , ax4 , ax5 , ax6 , ax7 , ax8 , ax9 = axes.flatten()\n",
    "\n",
    "order = ['Female','Male']\n",
    "hue_color = ['red','orange','yellow','green']\n",
    "hue_order = [\"terrible\", \"poor\",'average','excellent']\n",
    "\n",
    "sns.boxplot(data = balanced_visualize_data,\n",
    "            x = 'Gender',\n",
    "            y = 'birthYear',\n",
    "            hue = 'director_class',\n",
    "            hue_order = hue_order,\n",
    "            order = order,\n",
    "            flierprops = dict(markerfacecolor = '0.50', markersize = 2),\n",
    "            orient='v',\n",
    "            palette = hue_color,\n",
    "            ax = ax1\n",
    "           ).set_title(\"Gender vs Birth Year\");\n",
    "\n",
    "\n",
    "sns.boxplot(data = balanced_visualize_data,\n",
    "            x = 'Gender',\n",
    "            y = 'average_rating_value',\n",
    "            hue = 'director_class',\n",
    "            hue_order = hue_order,\n",
    "            order = order,\n",
    "            flierprops = dict(markerfacecolor = '0.50', markersize = 2),\n",
    "            orient='v',\n",
    "            palette = hue_color,\n",
    "            ax = ax2\n",
    "           ).set_title(\"Gender vs Average rating value\");\n",
    "\n",
    "\n",
    "sns.boxplot(data = balanced_visualize_data,\n",
    "            x = 'Gender',\n",
    "            y = 'career_Length',\n",
    "            hue = 'director_class',\n",
    "            hue_order = hue_order,\n",
    "            order = order,\n",
    "            flierprops = dict(markerfacecolor = '0.50', markersize = 2),\n",
    "            palette = hue_color,\n",
    "            ax = ax3\n",
    "           ).set_title(\"Gender vs Career length\")\n",
    "\n",
    "\n",
    "sns.boxplot(data = balanced_visualize_data,\n",
    "            x = 'Gender',\n",
    "            y = 'movies_produced',\n",
    "            hue = 'director_class',\n",
    "            hue_order = hue_order,\n",
    "            order = order,            \n",
    "            showfliers = False,\n",
    "            palette = hue_color,\n",
    "            ax = ax4\n",
    "           ).set_title(\"Gender vs Movies produced\");\n",
    "\n",
    "\n",
    "sns.boxplot(data = balanced_visualize_data,\n",
    "            x = 'Gender',\n",
    "            y = 'average_rating_count',\n",
    "            hue = 'director_class',\n",
    "            hue_order = hue_order,\n",
    "            order = order,            \n",
    "            showfliers = False,\n",
    "            palette = hue_color,\n",
    "            ax = ax5\n",
    "           ).set_title(\"Gender vs Average rating count\")\n",
    "\n",
    "\n",
    "sns.boxplot(data = balanced_visualize_data,\n",
    "            x = 'Gender',\n",
    "            y = 'CareerStartYear',\n",
    "            hue = 'director_class',\n",
    "            hue_order = hue_order,\n",
    "            order = order,            \n",
    "            flierprops = dict(markerfacecolor = '0.50', markersize = 2),\n",
    "            orient='v',\n",
    "            palette = hue_color,\n",
    "            ax = ax6\n",
    "           ).set_title(\"Gender vs Career start year\")\n",
    "\n",
    "sns.boxplot(data = balanced_visualize_data,\n",
    "            x = 'Gender',\n",
    "            y = 'average_inter_event_time',\n",
    "            hue = 'director_class',\n",
    "            hue_order = hue_order,\n",
    "            order = order,            \n",
    "            showfliers = False,\n",
    "            palette = hue_color,\n",
    "            ax = ax7\n",
    "           ).set_title(\"Gender vs Average inter event time\",fontsize = 14)\n",
    "\n",
    "\n",
    "sns.boxplot(data = balanced_visualize_data,\n",
    "            x = 'Gender',\n",
    "            y = 'median_inter_event_time',\n",
    "            hue = 'director_class',\n",
    "            hue_order = hue_order,\n",
    "            order = order,            \n",
    "            showfliers = False,\n",
    "            orient='v',\n",
    "            palette = hue_color,\n",
    "            ax = ax8\n",
    "           ).set_title(\"Gender vs Median inter event time\",fontsize = 14)\n",
    "\n",
    "\n",
    "\n",
    "\n",
    "axis_y_labels = ['Birth Year', 'Average rating value','Career length',\n",
    "                 'Movies produced','Average rating count','Career start year',\n",
    "                 'Average inter event time','Median inter event time','remove']\n",
    "\n",
    "\n",
    "for i,ax in enumerate(axes.flat):\n",
    "    if(i == 8):\n",
    "        fig.delaxes(ax)\n",
    "    else:\n",
    "        ax.tick_params(labelsize=12)\n",
    "    #     ax.set_xlabel('Gender', fontsize=14)\n",
    "        ax.xaxis.label.set_size(14)\n",
    "        ax.set_ylabel(axis_y_labels[i], fontsize=14)\n",
    "        ax.get_legend().remove()\n",
    "\n",
    "        \n",
    "fig.suptitle('Distribution of Gender across the Diretor class with respect to numerical features', fontsize=20, y = 2.15)\n",
    "ax8.legend(title='Director Class' , bbox_to_anchor=(2.2, 0.5), loc='right', ncol=1,fontsize=16 , handlelength=2, borderpad=1.2, labelspacing=1)\n",
    "\n",
    "\n",
    "plt.subplots_adjust(top=2, bottom=0.1, left=0.10, right=0.85, hspace=0.5,\n",
    "                    wspace=0.4)\n",
    "\n",
    "fig.savefig('Balanced_Hue Director class - Gender vs numerical features.png', dpi=100 , bbox_inches='tight')\n",
    "fig.show()\n",
    "fig.tight_layout()"
   ]
  },
  {
   "cell_type": "markdown",
   "metadata": {},
   "source": [
    "## Random"
   ]
  },
  {
   "cell_type": "code",
   "execution_count": null,
   "metadata": {},
   "outputs": [],
   "source": [
    "hue_order = [\"terrible\", \"poor\",'average','excellent']\n",
    "hue_order_color = ['red','orange','yellow','green']\n",
    "\n",
    "sns.boxplot(x = 'director_class',\n",
    "            y = 'movies_produced',\n",
    "            data = balanced_visualize_data,\n",
    "            showfliers = False,\n",
    "            hue= 'Gender',\n",
    "#             hue_order = hue_order,\n",
    "#             palette = hue_order_color,\n",
    "            flierprops = dict(markerfacecolor = '0.50', markersize = 2),\n",
    "           ).set_title('Gender vs. Birth Year');\n",
    "\n",
    "plt.legend(title = 'Director Class' ,bbox_to_anchor=(1.3, 0.5), loc='right', ncol=1,fontsize = 10)\n"
   ]
  },
  {
   "cell_type": "markdown",
   "metadata": {},
   "source": [
    "# Contingency Table"
   ]
  },
  {
   "cell_type": "code",
   "execution_count": null,
   "metadata": {
    "scrolled": true
   },
   "outputs": [],
   "source": [
    "contingency_table_success_gender = pd.crosstab(visualize_data[chosen_success_class], visualize_data['Gender'])\n",
    "contingency_table_success_gender"
   ]
  },
  {
   "cell_type": "code",
   "execution_count": null,
   "metadata": {},
   "outputs": [],
   "source": [
    "balanced_contingency_table_success_gender = pd.crosstab(balanced_visualize_data[chosen_success_class], visualize_data['Gender'])\n",
    "balanced_contingency_table_success_gender"
   ]
  },
  {
   "cell_type": "code",
   "execution_count": null,
   "metadata": {},
   "outputs": [],
   "source": [
    "from matplotlib.colors import ListedColormap\n",
    "\n",
    "fig, axes = plt.subplots(nrows= 1 , ncols=2, figsize=(14, 6) ,  sharey= True)\n",
    "ax1 , ax2 = axes.flatten()\n",
    "\n",
    "palette = ['red','blue']\n",
    "\n",
    "sns.set(style=\"white\", context=\"talk\")\n",
    "\n",
    "contingency_table_success_gender.set_index(contingency_table_success_gender.index)\\\n",
    "                                .plot(kind='bar',\n",
    "                                      colormap=ListedColormap(sns.color_palette(palette)),\n",
    "                                      alpha = 0.75,\n",
    "                                      ax = ax1,\n",
    "                                      stacked=True\n",
    "                                     ).set_title('Unbalanced Gender', fontsize = 18)\n",
    "ax1.get_legend().remove()\n",
    "\n",
    "balanced_contingency_table_success_gender.set_index(balanced_contingency_table_success_gender.index)\\\n",
    "                                .plot(kind='bar',\n",
    "                                      colormap=ListedColormap(sns.color_palette(palette)),\n",
    "                                      alpha = 0.75,\n",
    "                                      ax = ax2,\n",
    "                                      stacked=True\n",
    "                                     ).set_title('Balanced Gender', fontsize = 18)\n",
    "\n",
    "ax2.legend(title='Gender' , bbox_to_anchor=(1.28, 0.5), loc='right', ncol=1,fontsize=12)\n",
    "\n",
    "for i,ax in enumerate(axes.flat):\n",
    "    ax.tick_params(labelsize=14)\n",
    "#     ax.set_xlabel('Gender', fontsize=14)\n",
    "    ax.xaxis.label.set_size(18)\n",
    "\n",
    "\n",
    "\n",
    "fig.suptitle('Distribution of Gender against the success measure class', fontsize=20, y = 1.05)\n",
    "\n",
    "plt.subplots_adjust(top=0.9, bottom=-0.1, left=0.05, right=0.95, hspace=0.5,\n",
    "                    wspace=0.2)\n",
    "\n",
    "# fig.savefig('Balanced and Unbalanced Distribution of Gender against the success measure class.png', dpi=100 , bbox_inches='tight')\n",
    "fig.show()\n",
    "fig.tight_layout()"
   ]
  },
  {
   "cell_type": "markdown",
   "metadata": {},
   "source": [
    "## Working - Unbalanced"
   ]
  },
  {
   "cell_type": "code",
   "execution_count": null,
   "metadata": {},
   "outputs": [],
   "source": [
    "# import seaborn as sns\n",
    "# from matplotlib.colors import ListedColormap\n",
    "\n",
    "# palette = ['red','blue']\n",
    "\n",
    "# sns.set()\n",
    "# contingency_table_success_gender.set_index(contingency_table_success_gender.index)\\\n",
    "#                                 .plot(kind='bar',\n",
    "# #                                       colors = pal,\n",
    "#                                       colormap=ListedColormap(sns.color_palette(palette)),\n",
    "#                                       alpha = 1,\n",
    "#                                       figsize=(8,6),\n",
    "#                                       stacked=True)\n",
    "\n",
    "# plt.title('Distribution of Gender against the success measure class', fontsize = 20)\n",
    "# plt.legend(title='Gender' , bbox_to_anchor=(1.25, 0.5), loc='right', ncol=1,fontsize=12)\n",
    "# plt.ylabel('Number of Occurrences', fontsize=16)\n",
    "# plt.xlabel('Director Class', fontsize=16)\n",
    "# plt.tick_params(labelsize=12)\n",
    "# plt.show()\n"
   ]
  },
  {
   "cell_type": "markdown",
   "metadata": {},
   "source": [
    "## Working - Balanced"
   ]
  },
  {
   "cell_type": "code",
   "execution_count": null,
   "metadata": {},
   "outputs": [],
   "source": [
    "# import seaborn as sns\n",
    "# from matplotlib.colors import ListedColormap\n",
    "\n",
    "# palette = ['red','blue']\n",
    "# sns.set(style = 'white')\n",
    "# balanced_contingency_table_success_gender.set_index(balanced_contingency_table_success_gender.index)\\\n",
    "#                                 .plot(kind='bar',\n",
    "#                                       colormap=ListedColormap(sns.color_palette(palette, 10)),\n",
    "#                                       figsize=(8,6),\n",
    "#                                       stacked=True)\n",
    "\n",
    "# plt.title('Distribution of Gender against the success measure class', fontsize = 20)\n",
    "# plt.legend(title='Gender' , bbox_to_anchor=(1.25, 0.5), loc='right', ncol=1,fontsize=12)\n",
    "# plt.ylabel('Number of Occurrences', fontsize=16)\n",
    "# plt.xlabel('Director Class', fontsize=16)\n",
    "# plt.tick_params(labelsize=12)\n",
    "# plt.show()\n"
   ]
  },
  {
   "cell_type": "code",
   "execution_count": null,
   "metadata": {},
   "outputs": [],
   "source": [
    "# plt.figure(figsize=(12,8))\n",
    "# contingency_table_success_gender.plot.bar(stacked=True)\n",
    "# plt.title('Distribution of Gender against the success measure class')\n",
    "# plt.legend(title='Gender' , bbox_to_anchor=(1.25, 0.5), loc='right', ncol=1)\n",
    "# plt.ylabel('Number of Occurrences', fontsize=12)\n",
    "# plt.xlabel('Director Class', fontsize=12)\n",
    "# plt.show()"
   ]
  },
  {
   "cell_type": "markdown",
   "metadata": {},
   "source": [
    "### LM Plot"
   ]
  },
  {
   "cell_type": "code",
   "execution_count": null,
   "metadata": {
    "scrolled": true
   },
   "outputs": [],
   "source": [
    "sns.lmplot(data=visualize_data,\n",
    "           x= chosen_feature_predicting, \n",
    "           y= 'movies_produced', \n",
    "           col=chosen_success_class,\n",
    "           truncate=True,\n",
    "           hue=\"Gender\"\n",
    "#            hue_order = ['terrible','poor','average','excellent'],\n",
    "#            palette = ['red','orange','yellow','green']\n",
    "          )"
   ]
  },
  {
   "cell_type": "markdown",
   "metadata": {},
   "source": [
    "## Create 10 new segments of average rating count"
   ]
  },
  {
   "cell_type": "code",
   "execution_count": null,
   "metadata": {},
   "outputs": [],
   "source": [
    "def quartile_bin_10(df,chosen_success_class = chosen_success_class, class_feature='rating_value'):\n",
    "    # Quartile cut into 4 different buckets\n",
    "    buckets = 10\n",
    "    buckets_name = ['Class '+ str(i+1) for i in range(10)]\n",
    "    cutIntoQuartiles = pd.qcut(df[class_feature].to_list(), q= buckets ,labels=buckets_name)\n",
    "    \n",
    "    print(cutIntoQuartiles.categories)\n",
    "    \n",
    "    df[chosen_success_class] = cutIntoQuartiles\n",
    "    df[chosen_success_class] = df[chosen_success_class].astype(object)\n",
    "    print('The shape of our dataset before dropping the class feature is:', df.shape)\n",
    "#     df.drop(columns = [class_feature] , inplace = True)\n",
    "    print('The shape of our dataset after dropping the class feature  is:', df.shape)\n",
    "    return df"
   ]
  },
  {
   "cell_type": "code",
   "execution_count": null,
   "metadata": {},
   "outputs": [],
   "source": [
    "cutInto10Quartiles = pd.qcut(visualize_data[chosen_feature_predicting].to_list(), q=10)\n",
    "print(\"Quantiles bin range\")\n",
    "for i,num in enumerate(cutInto10Quartiles.categories):\n",
    "    print(\"Quantile {0} : {1} \".format(i,num))"
   ]
  },
  {
   "cell_type": "code",
   "execution_count": null,
   "metadata": {
    "scrolled": true
   },
   "outputs": [],
   "source": [
    "visualize_data = quartile_bin_10(visualize_data , class_feature = chosen_feature_predicting , chosen_success_class = 'new_classification')\n",
    "visualize_data.head()"
   ]
  },
  {
   "cell_type": "code",
   "execution_count": null,
   "metadata": {},
   "outputs": [],
   "source": [
    "contingency_table_new_success_gender = pd.crosstab(visualize_data['new_classification'], visualize_data['Gender'])\n",
    "contingency_table_new_success_gender"
   ]
  },
  {
   "cell_type": "code",
   "execution_count": null,
   "metadata": {},
   "outputs": [],
   "source": [
    "plt.figure(figsize=(8,6))\n",
    "contingency_table_new_success_gender.plot.bar(stacked=True)\n",
    "plt.title('Distribution of Gender against the new success measure class')\n",
    "plt.legend(title='Gender' , bbox_to_anchor=(1.25, 0.5), loc='right', ncol=1)\n",
    "plt.ylabel('Number of Occurrences', fontsize=12)\n",
    "plt.xlabel('Director Class', fontsize=12)\n",
    "plt.show()"
   ]
  },
  {
   "cell_type": "markdown",
   "metadata": {},
   "source": [
    "# Viktor proposed bar plots"
   ]
  },
  {
   "cell_type": "code",
   "execution_count": null,
   "metadata": {},
   "outputs": [],
   "source": [
    "accuracy_roc_df = pd.read_csv('Accuracy Bar plots.csv')"
   ]
  },
  {
   "cell_type": "code",
   "execution_count": null,
   "metadata": {},
   "outputs": [],
   "source": [
    "accuracy_roc_df.head()"
   ]
  },
  {
   "cell_type": "code",
   "execution_count": null,
   "metadata": {},
   "outputs": [],
   "source": [
    "sns.reset_orig()"
   ]
  },
  {
   "cell_type": "code",
   "execution_count": null,
   "metadata": {},
   "outputs": [],
   "source": [
    "plt.figure(figsize=(12,6))\n",
    "ax = sns.barplot(x=\"x\", y=\"y\", hue=\"hue\", data=accuracy_roc_df)\n",
    "plt.legend(title = 'Models' ,bbox_to_anchor=(1.3, 0.5), loc='right', ncol=1,fontsize = 16)"
   ]
  },
  {
   "cell_type": "code",
   "execution_count": null,
   "metadata": {},
   "outputs": [],
   "source": []
  }
 ],
 "metadata": {
  "kernelspec": {
   "display_name": "Python 3",
   "language": "python",
   "name": "python3"
  },
  "language_info": {
   "codemirror_mode": {
    "name": "ipython",
    "version": 3
   },
   "file_extension": ".py",
   "mimetype": "text/x-python",
   "name": "python",
   "nbconvert_exporter": "python",
   "pygments_lexer": "ipython3",
   "version": "3.7.3"
  }
 },
 "nbformat": 4,
 "nbformat_minor": 4
}
