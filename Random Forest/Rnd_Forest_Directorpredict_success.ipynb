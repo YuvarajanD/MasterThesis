{
 "cells": [
  {
   "cell_type": "code",
   "execution_count": 1,
   "metadata": {},
   "outputs": [],
   "source": [
    "import pandas as pd\n",
    "import numpy as np\n"
   ]
  },
  {
   "cell_type": "markdown",
   "metadata": {},
   "source": [
    "## Unbalanced Data"
   ]
  },
  {
   "cell_type": "code",
   "execution_count": 2,
   "metadata": {},
   "outputs": [],
   "source": [
    "#Select feature to predict on\n",
    "\n",
    "feature = 'average_rating_count'\n",
    "data_1_2_3 = 3"
   ]
  },
  {
   "cell_type": "code",
   "execution_count": 3,
   "metadata": {},
   "outputs": [
    {
     "data": {
      "text/plain": [
       "(1215, 56)"
      ]
     },
     "execution_count": 3,
     "metadata": {},
     "output_type": "execute_result"
    }
   ],
   "source": [
    "#Choosing file path\n",
    "\n",
    "\n",
    "if data_1_2_3 ==1:\n",
    "    file_location = 'D:\\\\Victor Yotov\\\\ITU\\\\3rd Semester\\\\Research Project\\\\data\\\\Directors_Dataset\\\\1_Director_Data_Mar-21-2020.csv'\n",
    "elif data_1_2_3 == 2:\n",
    "    file_location = 'D:\\\\Victor Yotov\\\\ITU\\\\3rd Semester\\\\Research Project\\\\data\\\\Directors_Dataset\\\\2_Director_Data_Enhanced_May-10-2020.csv'\n",
    "elif data_1_2_3 == 3:\n",
    "    file_location = 'D:\\\\Victor Yotov\\\\ITU\\\\3rd Semester\\\\Research Project\\\\data\\\\Directors_Dataset\\\\3_USA_Director_Specific_dataset_May-15-2020.csv'\n",
    "else:\n",
    "    raise ValueError('Wrong INTEGER provided.') \n",
    "    \n",
    "data = pd.read_csv(file_location)\n",
    "\n",
    "data.shape"
   ]
  },
  {
   "cell_type": "code",
   "execution_count": 4,
   "metadata": {},
   "outputs": [
    {
     "data": {
      "text/plain": [
       "'D:\\\\Victor Yotov\\\\ITU\\\\3rd Semester\\\\Research Project\\\\data\\\\Directors_Dataset\\\\3_USA_Director_Specific_dataset_May-15-2020.csv'"
      ]
     },
     "execution_count": 4,
     "metadata": {},
     "output_type": "execute_result"
    }
   ],
   "source": [
    "file_location"
   ]
  },
  {
   "cell_type": "code",
   "execution_count": 5,
   "metadata": {},
   "outputs": [
    {
     "data": {
      "text/html": [
       "<div>\n",
       "<style scoped>\n",
       "    .dataframe tbody tr th:only-of-type {\n",
       "        vertical-align: middle;\n",
       "    }\n",
       "\n",
       "    .dataframe tbody tr th {\n",
       "        vertical-align: top;\n",
       "    }\n",
       "\n",
       "    .dataframe thead th {\n",
       "        text-align: right;\n",
       "    }\n",
       "</style>\n",
       "<table border=\"1\" class=\"dataframe\">\n",
       "  <thead>\n",
       "    <tr style=\"text-align: right;\">\n",
       "      <th></th>\n",
       "      <th>director_ids</th>\n",
       "      <th>director_name</th>\n",
       "      <th>average_rating_value</th>\n",
       "      <th>average_rating_count</th>\n",
       "      <th>movies_produced</th>\n",
       "      <th>career_Length</th>\n",
       "      <th>CareerStartYear</th>\n",
       "      <th>Gender</th>\n",
       "      <th>birthYear</th>\n",
       "      <th>median_inter_event_time</th>\n",
       "      <th>...</th>\n",
       "      <th>total_genre_Romance</th>\n",
       "      <th>total_genre_Sci_Fi</th>\n",
       "      <th>total_genre_Short</th>\n",
       "      <th>total_genre_Sport</th>\n",
       "      <th>total_genre_Talk_Show</th>\n",
       "      <th>total_genre_Thriller</th>\n",
       "      <th>total_genre_War</th>\n",
       "      <th>total_genre_Western</th>\n",
       "      <th>average_movie_per_year</th>\n",
       "      <th>num_genres_directed</th>\n",
       "    </tr>\n",
       "  </thead>\n",
       "  <tbody>\n",
       "    <tr>\n",
       "      <td>0</td>\n",
       "      <td>nm0000040</td>\n",
       "      <td>Stanley Kubrick</td>\n",
       "      <td>7.30</td>\n",
       "      <td>231646.00</td>\n",
       "      <td>1</td>\n",
       "      <td>49</td>\n",
       "      <td>1951</td>\n",
       "      <td>Male</td>\n",
       "      <td>1928</td>\n",
       "      <td>0.0</td>\n",
       "      <td>...</td>\n",
       "      <td>0</td>\n",
       "      <td>0</td>\n",
       "      <td>0</td>\n",
       "      <td>0</td>\n",
       "      <td>0</td>\n",
       "      <td>1</td>\n",
       "      <td>0</td>\n",
       "      <td>0</td>\n",
       "      <td>0.02</td>\n",
       "      <td>3</td>\n",
       "    </tr>\n",
       "    <tr>\n",
       "      <td>1</td>\n",
       "      <td>nm0000095</td>\n",
       "      <td>Woody Allen</td>\n",
       "      <td>6.91</td>\n",
       "      <td>64233.13</td>\n",
       "      <td>15</td>\n",
       "      <td>51</td>\n",
       "      <td>1966</td>\n",
       "      <td>Male</td>\n",
       "      <td>1935</td>\n",
       "      <td>1.0</td>\n",
       "      <td>...</td>\n",
       "      <td>8</td>\n",
       "      <td>0</td>\n",
       "      <td>0</td>\n",
       "      <td>0</td>\n",
       "      <td>0</td>\n",
       "      <td>1</td>\n",
       "      <td>0</td>\n",
       "      <td>0</td>\n",
       "      <td>0.29</td>\n",
       "      <td>7</td>\n",
       "    </tr>\n",
       "    <tr>\n",
       "      <td>2</td>\n",
       "      <td>nm0000104</td>\n",
       "      <td>Antonio Banderas</td>\n",
       "      <td>6.30</td>\n",
       "      <td>5964.00</td>\n",
       "      <td>1</td>\n",
       "      <td>1</td>\n",
       "      <td>1999</td>\n",
       "      <td>Male</td>\n",
       "      <td>1960</td>\n",
       "      <td>0.0</td>\n",
       "      <td>...</td>\n",
       "      <td>0</td>\n",
       "      <td>0</td>\n",
       "      <td>0</td>\n",
       "      <td>0</td>\n",
       "      <td>0</td>\n",
       "      <td>0</td>\n",
       "      <td>0</td>\n",
       "      <td>0</td>\n",
       "      <td>1.00</td>\n",
       "      <td>3</td>\n",
       "    </tr>\n",
       "    <tr>\n",
       "      <td>3</td>\n",
       "      <td>nm0000106</td>\n",
       "      <td>Drew Barrymore</td>\n",
       "      <td>6.90</td>\n",
       "      <td>56419.00</td>\n",
       "      <td>1</td>\n",
       "      <td>6</td>\n",
       "      <td>2004</td>\n",
       "      <td>Male</td>\n",
       "      <td>1975</td>\n",
       "      <td>0.0</td>\n",
       "      <td>...</td>\n",
       "      <td>0</td>\n",
       "      <td>0</td>\n",
       "      <td>0</td>\n",
       "      <td>1</td>\n",
       "      <td>0</td>\n",
       "      <td>0</td>\n",
       "      <td>0</td>\n",
       "      <td>0</td>\n",
       "      <td>0.17</td>\n",
       "      <td>2</td>\n",
       "    </tr>\n",
       "    <tr>\n",
       "      <td>4</td>\n",
       "      <td>nm0000108</td>\n",
       "      <td>Luc Besson</td>\n",
       "      <td>6.30</td>\n",
       "      <td>89739.00</td>\n",
       "      <td>1</td>\n",
       "      <td>33</td>\n",
       "      <td>1981</td>\n",
       "      <td>Male</td>\n",
       "      <td>1959</td>\n",
       "      <td>0.0</td>\n",
       "      <td>...</td>\n",
       "      <td>0</td>\n",
       "      <td>0</td>\n",
       "      <td>0</td>\n",
       "      <td>0</td>\n",
       "      <td>0</td>\n",
       "      <td>1</td>\n",
       "      <td>0</td>\n",
       "      <td>0</td>\n",
       "      <td>0.03</td>\n",
       "      <td>3</td>\n",
       "    </tr>\n",
       "  </tbody>\n",
       "</table>\n",
       "<p>5 rows × 56 columns</p>\n",
       "</div>"
      ],
      "text/plain": [
       "  director_ids     director_name  average_rating_value  average_rating_count  \\\n",
       "0    nm0000040   Stanley Kubrick                  7.30             231646.00   \n",
       "1    nm0000095       Woody Allen                  6.91              64233.13   \n",
       "2    nm0000104  Antonio Banderas                  6.30               5964.00   \n",
       "3    nm0000106    Drew Barrymore                  6.90              56419.00   \n",
       "4    nm0000108        Luc Besson                  6.30              89739.00   \n",
       "\n",
       "   movies_produced  career_Length  CareerStartYear Gender  birthYear  \\\n",
       "0                1             49             1951   Male       1928   \n",
       "1               15             51             1966   Male       1935   \n",
       "2                1              1             1999   Male       1960   \n",
       "3                1              6             2004   Male       1975   \n",
       "4                1             33             1981   Male       1959   \n",
       "\n",
       "   median_inter_event_time  ...  total_genre_Romance  total_genre_Sci_Fi  \\\n",
       "0                      0.0  ...                    0                   0   \n",
       "1                      1.0  ...                    8                   0   \n",
       "2                      0.0  ...                    0                   0   \n",
       "3                      0.0  ...                    0                   0   \n",
       "4                      0.0  ...                    0                   0   \n",
       "\n",
       "   total_genre_Short  total_genre_Sport  total_genre_Talk_Show  \\\n",
       "0                  0                  0                      0   \n",
       "1                  0                  0                      0   \n",
       "2                  0                  0                      0   \n",
       "3                  0                  1                      0   \n",
       "4                  0                  0                      0   \n",
       "\n",
       "   total_genre_Thriller  total_genre_War  total_genre_Western  \\\n",
       "0                     1                0                    0   \n",
       "1                     1                0                    0   \n",
       "2                     0                0                    0   \n",
       "3                     0                0                    0   \n",
       "4                     1                0                    0   \n",
       "\n",
       "   average_movie_per_year  num_genres_directed  \n",
       "0                    0.02                    3  \n",
       "1                    0.29                    7  \n",
       "2                    1.00                    3  \n",
       "3                    0.17                    2  \n",
       "4                    0.03                    3  \n",
       "\n",
       "[5 rows x 56 columns]"
      ]
     },
     "execution_count": 5,
     "metadata": {},
     "output_type": "execute_result"
    }
   ],
   "source": [
    "data.head(5)"
   ]
  },
  {
   "cell_type": "code",
   "execution_count": 6,
   "metadata": {},
   "outputs": [],
   "source": [
    "### Coold code\n",
    "\n",
    "# # Quartile cut into 4 different buckets\n",
    "\n",
    "# cutIntoQuartiles = pd.qcut(data['rating_value'].to_list(), q=4)\n",
    "\n",
    "# # # Print the quartile range for visuals\n",
    "# # print(cutIntoQuartiles.categories)\n",
    "\n",
    "# # # Rename the categories to poor , average,  good , excellent\n",
    "# # cutIntoQuartiles.categories = ['poor','average','good','excellent']\n",
    "\n",
    "# # # Add the data to the dataframe\n",
    "# # movies_data['calc_score'] = cutIntoQuartiles"
   ]
  },
  {
   "cell_type": "code",
   "execution_count": 7,
   "metadata": {},
   "outputs": [],
   "source": [
    "def quantile_feature(data, string):\n",
    "    q1 = data[string].quantile(.25)\n",
    "    q2 = data[string].quantile(.50)\n",
    "    q3 = data[string].quantile(.75)\n",
    "    q4 =  data[string].quantile(1)\n",
    "    \n",
    "    \n",
    "#     q1 = (data.loc[:,string].quantile(.25))\n",
    "#     q2 = (data.loc[:,string].quantile(.50))\n",
    "#     q3 = (data.loc[:,string].quantile(.75))\n",
    "#     q4 = (data.loc[:,string].quantile(1))\n",
    "    return q1, q2, q3, q4\n",
    "\n",
    "\n",
    "def success_measure_chained(score):\n",
    "    \n",
    "    if score >= 0 and score <= q1:\n",
    "        return 'Terrible'\n",
    "    elif score >q1 and score <=q2:\n",
    "        return 'Poor'\n",
    "    elif score >q2 and score <= q3:\n",
    "        return 'Average'\n",
    "    elif score > q3 and score <=q4:\n",
    "        return 'Excellent'\n",
    "    else:\n",
    "        return 'Error_Score' \n",
    "    \n",
    "    \n",
    "def create_Movie_class(df,feature_name):\n",
    "    feature = feature_name\n",
    "#     q1,q2,q3,q4 = quantile_feature(df,feature_name)\n",
    "    df['Movie_class'] = df[feature].apply(success_measure_chained)\n",
    "    \n",
    "    return df"
   ]
  },
  {
   "cell_type": "code",
   "execution_count": 8,
   "metadata": {},
   "outputs": [],
   "source": [
    "def dummy_male(string):\n",
    "    if string =='Male':\n",
    "        return 1\n",
    "    else:\n",
    "        return 0\n",
    "    \n",
    "    \n",
    "    \n",
    "def dummy_female(string):\n",
    "    if string =='Female':\n",
    "        return 1\n",
    "    else:\n",
    "        return 0\n",
    "    \n",
    "\n",
    "    "
   ]
  },
  {
   "cell_type": "code",
   "execution_count": 9,
   "metadata": {},
   "outputs": [],
   "source": [
    "#If 1 ---- MovieDataset 1\n",
    "if data_1_2_3 == 1:\n",
    "     data = data.drop(columns=['director_ids', 'director_name','primaryProfession', 'knownForTitles'])\n",
    "    \n",
    "elif data_1_2_3 == 2 or data_1_2_3 ==3:\n",
    "    data = data.drop(columns=['director_ids', 'director_name'])\n",
    "\n",
    "    \n",
    "# data.drop(columns=['director_ids', 'director_names','movie_id','title','primaryProfession', 'knownForTitles','date_published', 'release_date'],inplace=True)\n",
    "# data = data.drop(columns=['director_ids', 'director_names', 'movie_id', 'title',\n",
    "#        'release_date', 'Film', 'Name'])"
   ]
  },
  {
   "cell_type": "code",
   "execution_count": 10,
   "metadata": {},
   "outputs": [],
   "source": [
    "# feature = 'rating_value'\n",
    "q1,q2,q3,q4 = quantile_feature(data,feature)\n",
    "data = create_Movie_class(data,feature)\n",
    "\n",
    "        \n",
    "data['Gender_MALE'] = data.Gender.apply(dummy_male)\n",
    "data['Gender_FEMALE'] = data.Gender.apply(dummy_female)\n",
    "\n",
    "\n"
   ]
  },
  {
   "cell_type": "code",
   "execution_count": 11,
   "metadata": {},
   "outputs": [
    {
     "data": {
      "text/plain": [
       "Poor         304\n",
       "Excellent    304\n",
       "Terrible     304\n",
       "Average      303\n",
       "Name: Movie_class, dtype: int64"
      ]
     },
     "execution_count": 11,
     "metadata": {},
     "output_type": "execute_result"
    }
   ],
   "source": [
    "data['Movie_class'].value_counts()"
   ]
  },
  {
   "cell_type": "code",
   "execution_count": 12,
   "metadata": {},
   "outputs": [],
   "source": [
    "# data.review_count_user = data.review_count_user.astype(int)\n",
    "# data.review_count_critic = data.review_count_critic.astype(int)\n",
    "# data.rating_value = data.rating_value.astype(float)\n",
    "# data.rating_count = data.rating_count.astype(int)\n",
    "# data.movie_year = data.movie_year.astype(int)\n",
    "# data.birthYear = data.birthYear.astype(int)\n",
    "\n",
    "\n",
    "# if data_1_2_3 == 2 or data_1_2_3 ==3:\n",
    "#     data.metascore = data.metascore.astype(int)"
   ]
  },
  {
   "cell_type": "code",
   "execution_count": 13,
   "metadata": {},
   "outputs": [],
   "source": [
    "data.drop(columns=[feature,'Gender'],inplace=True)"
   ]
  },
  {
   "cell_type": "code",
   "execution_count": 14,
   "metadata": {},
   "outputs": [],
   "source": [
    "# for i in data.columns.values:\n",
    "#     print(i)"
   ]
  },
  {
   "cell_type": "code",
   "execution_count": 15,
   "metadata": {},
   "outputs": [],
   "source": [
    "# data.Gender = data.Gender.map({'Male': 1, 'Female':0})"
   ]
  },
  {
   "cell_type": "code",
   "execution_count": null,
   "metadata": {},
   "outputs": [],
   "source": []
  },
  {
   "cell_type": "code",
   "execution_count": 16,
   "metadata": {},
   "outputs": [],
   "source": [
    "from sklearn.ensemble import RandomForestClassifier\n",
    "from sklearn.model_selection import train_test_split\n",
    "from sklearn.metrics import confusion_matrix\n",
    "from string import ascii_uppercase\n",
    "import seaborn as sn\n",
    "\n",
    "def report_accuracy_RF(dataframe, predicted_feature, numberEstimators=100):\n",
    "    #Splitting X and y\n",
    "    X = dataframe[dataframe.columns.difference([predicted_feature],sort=False)]\n",
    "    y = dataframe[predicted_feature]\n",
    "    \n",
    "    #Initialize Random Forest\n",
    "    rnd_forest = RandomForestClassifier(n_estimators=numberEstimators, class_weight='balanced')\n",
    "\n",
    "#     rnd_forest = RandomForestClassifier(n_estimators=numberEstimators, class_weight='balanced', oob_score=True)\n",
    "#     rnd_forest = RandomForestClassifier(n_estimators=numberEstimators, oob_score=True)\n",
    "\n",
    "    X_train, X_test, y_train, y_test = train_test_split(X, y, test_size=0.2, random_state=42, stratify=y)\n",
    "    \n",
    "    rnd_forest.fit(X_train,y_train.values.ravel())\n",
    "    score = rnd_forest.score(X_test,y_test)\n",
    "    \n",
    "    return score, rnd_forest,X, y ,X_train, X_test, y_train, y_test\n",
    "    "
   ]
  },
  {
   "cell_type": "code",
   "execution_count": 17,
   "metadata": {},
   "outputs": [],
   "source": [
    "import matplotlib.pyplot as plt\n",
    "%matplotlib inline\n",
    "\n",
    "def plot_confusion_matrix(cm, classes,\n",
    "                          normalize=False,\n",
    "                          title='Confusion matrix',\n",
    "                          cmap=plt.cm.Blues):\n",
    "    \"\"\"\n",
    "    This function prints and plots the confusion matrix.\n",
    "    Normalization can be applied by setting `normalize=True`.\n",
    "    \"\"\"\n",
    "    import itertools\n",
    "    if normalize:\n",
    "        cm = cm.astype('float') / cm.sum(axis=1)[:, np.newaxis]\n",
    "        print(\"Normalized confusion matrix\")\n",
    "    else:\n",
    "        print('Confusion matrix, without normalization')\n",
    "\n",
    "    print(cm)\n",
    "\n",
    "    plt.imshow(cm, interpolation='nearest', cmap=cmap)\n",
    "    plt.title(title)\n",
    "    plt.colorbar()\n",
    "    tick_marks = np.arange(len(classes))\n",
    "    plt.xticks(tick_marks, classes, rotation=45)\n",
    "    plt.yticks(tick_marks, classes)\n",
    "\n",
    "    fmt = '.2f' if normalize else 'd'\n",
    "    thresh = cm.max() / 2.\n",
    "    for i, j in itertools.product(range(cm.shape[0]), range(cm.shape[1])):\n",
    "        plt.text(j, i, format(cm[i, j], fmt),\n",
    "                 horizontalalignment=\"center\",\n",
    "                 color=\"white\" if cm[i, j] > thresh else \"black\")\n",
    "\n",
    "    plt.ylabel('True label')\n",
    "    plt.xlabel('Predicted label')\n",
    "    plt.tight_layout()"
   ]
  },
  {
   "cell_type": "code",
   "execution_count": 18,
   "metadata": {},
   "outputs": [],
   "source": [
    "def create_cnf_matrix(y_test, X_test, model):\n",
    "    \n",
    "    y_true = y_test.copy()\n",
    "    y_predict = model.predict(X_test)\n",
    "    \n",
    "### C_0_0 = TP - male being classified as a male\n",
    "### C_0_1 = Males being identified as femals\n",
    "### C_1_0 = Female being identified as male\n",
    "### C_1_1 = TN female identified as female  \n",
    "\n",
    "    #define the order of classes appearing in the matrix\n",
    "    labels = ['Terrible','Poor','Average','Excellent']\n",
    "    cnf_matrix = confusion_matrix(y_true, y_predict,  labels=labels)\n",
    "    \n",
    "    return cnf_matrix\n",
    "    "
   ]
  },
  {
   "cell_type": "code",
   "execution_count": 19,
   "metadata": {},
   "outputs": [],
   "source": [
    "def calculate_confusion_matrix_metrics(confusion_matrix):\n",
    "    #source:\n",
    "    #https://stackoverflow.com/questions/50666091/true-positive-rate-and-false-positive-rate-tpr-fpr-for-multi-class-data-in-py\n",
    "    \n",
    "    FP = confusion_matrix.sum(axis=0) - np.diag(confusion_matrix)  \n",
    "    FN = confusion_matrix.sum(axis=1) - np.diag(confusion_matrix)\n",
    "    TP = np.diag(confusion_matrix)\n",
    "    TN = confusion_matrix.sum() - (FP + FN + TP)\n",
    "\n",
    "    FP = FP.astype(float)\n",
    "    FN = FN.astype(float)\n",
    "    TP = TP.astype(float)\n",
    "    TN = TN.astype(float)\n",
    "    \n",
    "    return TN, FP, FN, TP"
   ]
  },
  {
   "cell_type": "code",
   "execution_count": 20,
   "metadata": {},
   "outputs": [],
   "source": [
    "def print_accuracy_feature_importance(score, X, model):\n",
    "    \n",
    "    print(f'The accuracy of the model is equal to {round(score * 100,2)} %')\n",
    "    print()\n",
    "    print(X.columns)\n",
    "    print()\n",
    "    print(model.feature_importances_)\n",
    "    "
   ]
  },
  {
   "cell_type": "code",
   "execution_count": 21,
   "metadata": {},
   "outputs": [],
   "source": [
    "def customized_classification_report(y_true,y_pred, AUCROC ):\n",
    "    cols_to_use_classification_report = ['Terrible','Poor','Average','Excellent','accuracy']\n",
    "    reportGBClassification = classification_report(y_true,\n",
    "                                                   y_pred,\n",
    "                                                   labels = cols_to_use_classification_report[:-1],\n",
    "                                                   output_dict=True)\n",
    "    \n",
    "    reportDF = pd.DataFrame(reportGBClassification, columns = cols_to_use_classification_report)[0:3]#.round(2)\n",
    "    \n",
    "    accuracyRow = reportDF['accuracy'].unique().tolist()\n",
    "    \n",
    "    reportDF.drop(columns='accuracy',inplace= True)\n",
    "\n",
    "    reportDF.loc[len(reportDF)] = 4 * accuracyRow\n",
    "    reportDF.loc[len(reportDF)] = 4 * [AUCROC]  #[round(AUCROC,2)]\n",
    "\n",
    "    reportDF = reportDF.rename(index = {3:'accuracy',4:'AUC ROC'})\n",
    "    return reportDF"
   ]
  },
  {
   "cell_type": "code",
   "execution_count": 22,
   "metadata": {},
   "outputs": [
    {
     "name": "stdout",
     "output_type": "stream",
     "text": [
      "The accuracy of the model is equal to 66.26 %\n",
      "\n",
      "Index(['average_rating_value', 'movies_produced', 'career_Length',\n",
      "       'CareerStartYear', 'birthYear', 'median_inter_event_time',\n",
      "       'average_inter_event_time', 'total_review_count_user',\n",
      "       'total_review_count_critic', 'total_metascore', 'median_metascore',\n",
      "       'total_awards_won', 'total_awards_nominated', 'total_gross_value',\n",
      "       'total_budget_value', 'average_runtime_of_movie',\n",
      "       'director_profession_primary', 'director_profession_secondary',\n",
      "       'director_profession_tertiary', 'director_known_titles_count',\n",
      "       'director_known_titles_average_rating_value', 'total_genre_Action',\n",
      "       'total_genre_Adult', 'total_genre_Adventure', 'total_genre_Animation',\n",
      "       'total_genre_Biography', 'total_genre_Comedy', 'total_genre_Crime',\n",
      "       'total_genre_Documentary', 'total_genre_Drama', 'total_genre_Family',\n",
      "       'total_genre_Fantasy', 'total_genre_Film_Noir', 'total_genre_Game_Show',\n",
      "       'total_genre_History', 'total_genre_Horror', 'total_genre_Music',\n",
      "       'total_genre_Musical', 'total_genre_Mystery', 'total_genre_News',\n",
      "       'total_genre_None', 'total_genre_Reality_TV', 'total_genre_Romance',\n",
      "       'total_genre_Sci_Fi', 'total_genre_Short', 'total_genre_Sport',\n",
      "       'total_genre_Talk_Show', 'total_genre_Thriller', 'total_genre_War',\n",
      "       'total_genre_Western', 'average_movie_per_year', 'num_genres_directed',\n",
      "       'Gender_MALE', 'Gender_FEMALE'],\n",
      "      dtype='object')\n",
      "\n",
      "[0.06096627 0.01554476 0.0257476  0.0278294  0.03045935 0.01476466\n",
      " 0.01989377 0.15059184 0.13540742 0.0422844  0.04185702 0.0009904\n",
      " 0.00287903 0.09569844 0.0640589  0.03366247 0.00582902 0.00520707\n",
      " 0.00473168 0.01402881 0.03397073 0.0114613  0.         0.01251272\n",
      " 0.00296923 0.00399071 0.0091391  0.00668915 0.00235342 0.01399534\n",
      " 0.00434455 0.00803344 0.         0.         0.00238817 0.00628686\n",
      " 0.00305328 0.00210182 0.00540426 0.00021703 0.         0.\n",
      " 0.00752049 0.00558511 0.         0.00267564 0.         0.00892804\n",
      " 0.00212628 0.00064098 0.02120995 0.02249712 0.00354724 0.00392571]\n"
     ]
    }
   ],
   "source": [
    "score, rnd_forest,X, y ,X_train, X_test, y_train, y_test = report_accuracy_RF(data,\"Movie_class\")\n",
    "print_accuracy_feature_importance(score,X, rnd_forest)\n",
    "# print(\"===============================================\\n\")\n",
    "# print()\n",
    "# cnf_matrix = create_cnf_matrix(y_test,X_test,rnd_forest)\n",
    "# print(cnf_matrix)\n",
    "# print(\"===============================================\\n\")\n",
    "# TN, FP, FN, TP = calculate_confusion_matrix_metrics(cnf_matrix)\n",
    "# print('TN = ',TN)\n",
    "# print('FP = ',FP)\n",
    "# print('FN = ',FN)\n",
    "# print('TP = ',TP)"
   ]
  },
  {
   "cell_type": "code",
   "execution_count": 23,
   "metadata": {},
   "outputs": [
    {
     "name": "stdout",
     "output_type": "stream",
     "text": [
      "Confusion matrix, without normalization\n",
      "[[48 12  1  0]\n",
      " [ 9 33 18  1]\n",
      " [ 0 13 35 12]\n",
      " [ 0  1 15 45]]\n"
     ]
    },
    {
     "data": {
      "image/png": "[encoded data removed]",
      "text/plain": [
       "<Figure size 432x288 with 2 Axes>"
      ]
     },
     "metadata": {
      "needs_background": "light"
     },
     "output_type": "display_data"
    }
   ],
   "source": [
    "y_predict= rnd_forest.predict(X_test)\n",
    "\n",
    "cnf_matrix = confusion_matrix(y_test, y_predict,labels=['Terrible','Poor','Average','Excellent'])\n",
    "np.set_printoptions(precision=2)\n",
    "\n",
    "# Plot non-normalized confusion matrix\n",
    "plt.figure()\n",
    "plot_confusion_matrix(cnf_matrix, classes=['Terrible','Poor','Average','Excellent'],\n",
    "                      title='Confusion matrix, without normalization')"
   ]
  },
  {
   "cell_type": "code",
   "execution_count": 24,
   "metadata": {},
   "outputs": [
    {
     "name": "stdout",
     "output_type": "stream",
     "text": [
      "              precision    recall  f1-score   support\n",
      "\n",
      "    Terrible       0.84      0.79      0.81        61\n",
      "        Poor       0.56      0.54      0.55        61\n",
      "     Average       0.51      0.58      0.54        60\n",
      "   Excellent       0.78      0.74      0.76        61\n",
      "\n",
      "    accuracy                           0.66       243\n",
      "   macro avg       0.67      0.66      0.67       243\n",
      "weighted avg       0.67      0.66      0.67       243\n",
      "\n"
     ]
    }
   ],
   "source": [
    "from sklearn.metrics import classification_report\n",
    "\n",
    "\n",
    "print(classification_report(y_test,y_predict,labels=['Terrible','Poor','Average','Excellent']))"
   ]
  },
  {
   "cell_type": "code",
   "execution_count": 25,
   "metadata": {},
   "outputs": [
    {
     "name": "stdout",
     "output_type": "stream",
     "text": [
      "\n",
      "Area Under the Curve - ROC (OVO , Macro) :  0.889\n"
     ]
    }
   ],
   "source": [
    "from sklearn.metrics import roc_auc_score\n",
    "\n",
    "\n",
    "y_prob = rnd_forest.predict_proba(X_test)\n",
    "ovo_macro_roc_auc = roc_auc_score(y_test, y_prob, average=\"macro\", multi_class = \"ovo\")\n",
    "print( \"\\nArea Under the Curve - ROC (OVO , Macro) : \",round(ovo_macro_roc_auc,3))"
   ]
  },
  {
   "cell_type": "code",
   "execution_count": 26,
   "metadata": {},
   "outputs": [
    {
     "data": {
      "text/plain": [
       "RandomForestClassifier(bootstrap=True, ccp_alpha=0.0, class_weight='balanced',\n",
       "                       criterion='gini', max_depth=None, max_features='auto',\n",
       "                       max_leaf_nodes=None, max_samples=None,\n",
       "                       min_impurity_decrease=0.0, min_impurity_split=None,\n",
       "                       min_samples_leaf=1, min_samples_split=2,\n",
       "                       min_weight_fraction_leaf=0.0, n_estimators=100,\n",
       "                       n_jobs=None, oob_score=False, random_state=None,\n",
       "                       verbose=0, warm_start=False)"
      ]
     },
     "execution_count": 26,
     "metadata": {},
     "output_type": "execute_result"
    }
   ],
   "source": [
    "rnd_forest"
   ]
  },
  {
   "cell_type": "code",
   "execution_count": 27,
   "metadata": {
    "scrolled": true
   },
   "outputs": [
    {
     "data": {
      "text/html": [
       "<div>\n",
       "<style scoped>\n",
       "    .dataframe tbody tr th:only-of-type {\n",
       "        vertical-align: middle;\n",
       "    }\n",
       "\n",
       "    .dataframe tbody tr th {\n",
       "        vertical-align: top;\n",
       "    }\n",
       "\n",
       "    .dataframe thead th {\n",
       "        text-align: right;\n",
       "    }\n",
       "</style>\n",
       "<table border=\"1\" class=\"dataframe\">\n",
       "  <thead>\n",
       "    <tr style=\"text-align: right;\">\n",
       "      <th></th>\n",
       "      <th>Terrible</th>\n",
       "      <th>Poor</th>\n",
       "      <th>Average</th>\n",
       "      <th>Excellent</th>\n",
       "    </tr>\n",
       "  </thead>\n",
       "  <tbody>\n",
       "    <tr>\n",
       "      <td>precision</td>\n",
       "      <td>0.842105</td>\n",
       "      <td>0.559322</td>\n",
       "      <td>0.507246</td>\n",
       "      <td>0.775862</td>\n",
       "    </tr>\n",
       "    <tr>\n",
       "      <td>recall</td>\n",
       "      <td>0.786885</td>\n",
       "      <td>0.540984</td>\n",
       "      <td>0.583333</td>\n",
       "      <td>0.737705</td>\n",
       "    </tr>\n",
       "    <tr>\n",
       "      <td>f1-score</td>\n",
       "      <td>0.813559</td>\n",
       "      <td>0.550000</td>\n",
       "      <td>0.542636</td>\n",
       "      <td>0.756303</td>\n",
       "    </tr>\n",
       "    <tr>\n",
       "      <td>accuracy</td>\n",
       "      <td>0.662551</td>\n",
       "      <td>0.662551</td>\n",
       "      <td>0.662551</td>\n",
       "      <td>0.662551</td>\n",
       "    </tr>\n",
       "    <tr>\n",
       "      <td>AUC ROC</td>\n",
       "      <td>0.888953</td>\n",
       "      <td>0.888953</td>\n",
       "      <td>0.888953</td>\n",
       "      <td>0.888953</td>\n",
       "    </tr>\n",
       "  </tbody>\n",
       "</table>\n",
       "</div>"
      ],
      "text/plain": [
       "           Terrible      Poor   Average  Excellent\n",
       "precision  0.842105  0.559322  0.507246   0.775862\n",
       "recall     0.786885  0.540984  0.583333   0.737705\n",
       "f1-score   0.813559  0.550000  0.542636   0.756303\n",
       "accuracy   0.662551  0.662551  0.662551   0.662551\n",
       "AUC ROC    0.888953  0.888953  0.888953   0.888953"
      ]
     },
     "execution_count": 27,
     "metadata": {},
     "output_type": "execute_result"
    }
   ],
   "source": [
    "customized_classification_report(y_test,y_predict, ovo_macro_roc_auc )"
   ]
  },
  {
   "cell_type": "code",
   "execution_count": 28,
   "metadata": {},
   "outputs": [
    {
     "data": {
      "text/plain": [
       "(1215, 55)"
      ]
     },
     "execution_count": 28,
     "metadata": {},
     "output_type": "execute_result"
    }
   ],
   "source": [
    "data.shape"
   ]
  },
  {
   "cell_type": "markdown",
   "metadata": {},
   "source": [
    "### Unbalanced Without Gender"
   ]
  },
  {
   "cell_type": "code",
   "execution_count": 29,
   "metadata": {},
   "outputs": [],
   "source": [
    "data2 = data.copy()\n",
    "\n",
    "\n",
    "data2.drop(columns =['Gender_MALE','Gender_FEMALE'],inplace=True)"
   ]
  },
  {
   "cell_type": "code",
   "execution_count": 30,
   "metadata": {},
   "outputs": [
    {
     "data": {
      "text/plain": [
       "(1215, 53)"
      ]
     },
     "execution_count": 30,
     "metadata": {},
     "output_type": "execute_result"
    }
   ],
   "source": [
    "data2.shape"
   ]
  },
  {
   "cell_type": "code",
   "execution_count": 31,
   "metadata": {},
   "outputs": [
    {
     "name": "stdout",
     "output_type": "stream",
     "text": [
      "The accuracy of the model is equal to 64.2 %\n",
      "\n",
      "Index(['average_rating_value', 'movies_produced', 'career_Length',\n",
      "       'CareerStartYear', 'birthYear', 'median_inter_event_time',\n",
      "       'average_inter_event_time', 'total_review_count_user',\n",
      "       'total_review_count_critic', 'total_metascore', 'median_metascore',\n",
      "       'total_awards_won', 'total_awards_nominated', 'total_gross_value',\n",
      "       'total_budget_value', 'average_runtime_of_movie',\n",
      "       'director_profession_primary', 'director_profession_secondary',\n",
      "       'director_profession_tertiary', 'director_known_titles_count',\n",
      "       'director_known_titles_average_rating_value', 'total_genre_Action',\n",
      "       'total_genre_Adult', 'total_genre_Adventure', 'total_genre_Animation',\n",
      "       'total_genre_Biography', 'total_genre_Comedy', 'total_genre_Crime',\n",
      "       'total_genre_Documentary', 'total_genre_Drama', 'total_genre_Family',\n",
      "       'total_genre_Fantasy', 'total_genre_Film_Noir', 'total_genre_Game_Show',\n",
      "       'total_genre_History', 'total_genre_Horror', 'total_genre_Music',\n",
      "       'total_genre_Musical', 'total_genre_Mystery', 'total_genre_News',\n",
      "       'total_genre_None', 'total_genre_Reality_TV', 'total_genre_Romance',\n",
      "       'total_genre_Sci_Fi', 'total_genre_Short', 'total_genre_Sport',\n",
      "       'total_genre_Talk_Show', 'total_genre_Thriller', 'total_genre_War',\n",
      "       'total_genre_Western', 'average_movie_per_year', 'num_genres_directed'],\n",
      "      dtype='object')\n",
      "\n",
      "[5.84e-02 1.34e-02 2.17e-02 2.63e-02 2.89e-02 1.50e-02 1.85e-02 1.36e-01\n",
      " 1.52e-01 4.48e-02 4.38e-02 5.80e-04 3.40e-03 1.01e-01 6.81e-02 3.94e-02\n",
      " 5.42e-03 4.72e-03 5.55e-03 1.30e-02 3.53e-02 9.04e-03 0.00e+00 1.02e-02\n",
      " 3.27e-03 4.41e-03 9.44e-03 6.98e-03 2.27e-03 1.39e-02 4.07e-03 7.39e-03\n",
      " 0.00e+00 0.00e+00 2.39e-03 5.97e-03 3.27e-03 2.34e-03 4.46e-03 5.13e-05\n",
      " 0.00e+00 0.00e+00 8.91e-03 4.96e-03 0.00e+00 3.02e-03 0.00e+00 8.89e-03\n",
      " 2.24e-03 4.60e-04 2.31e-02 2.40e-02]\n"
     ]
    }
   ],
   "source": [
    "score2, rnd_forest2,X2, y2 ,X_train2, X_test2, y_train2, y_test2 = report_accuracy_RF(data2,\"Movie_class\")\n",
    "print_accuracy_feature_importance(score2,X2, rnd_forest2)\n",
    "# print(\"===============================================\\n\")\n",
    "# print()\n",
    "# cnf_matrix2 = create_cnf_matrix(y_test2,X_test2,rnd_forest2)\n",
    "# print(cnf_matrix2)\n",
    "# print(\"===============================================\\n\")\n",
    "# TN2, FP2, FN2, TP2 = calculate_confusion_matrix_metrics(cnf_matrix2)\n",
    "# print('TN = ',TN2)\n",
    "# print('FP = ',FP2)\n",
    "# print('FN = ',FN2)\n",
    "# print('TP = ',TP2)"
   ]
  },
  {
   "cell_type": "code",
   "execution_count": 32,
   "metadata": {},
   "outputs": [
    {
     "name": "stdout",
     "output_type": "stream",
     "text": [
      "Confusion matrix, without normalization\n",
      "[[47 14  0  0]\n",
      " [10 28 21  2]\n",
      " [ 0 12 37 11]\n",
      " [ 0  1 16 44]]\n"
     ]
    },
    {
     "data": {
      "image/png": "[encoded data removed]",
      "text/plain": [
       "<Figure size 432x288 with 2 Axes>"
      ]
     },
     "metadata": {
      "needs_background": "light"
     },
     "output_type": "display_data"
    }
   ],
   "source": [
    "\n",
    "y_predict2= rnd_forest2.predict(X_test2)\n",
    "\n",
    "cnf_matrix = confusion_matrix(y_test2, y_predict2,labels=['Terrible','Poor','Average','Excellent'])\n",
    "np.set_printoptions(precision=2)\n",
    "\n",
    "# Plot non-normalized confusion matrix\n",
    "plt.figure()\n",
    "plot_confusion_matrix(cnf_matrix, classes=['Terrible','Poor','Average','Excellent'],\n",
    "                      title='Confusion matrix, without normalization')"
   ]
  },
  {
   "cell_type": "code",
   "execution_count": 33,
   "metadata": {},
   "outputs": [
    {
     "name": "stdout",
     "output_type": "stream",
     "text": [
      "              precision    recall  f1-score   support\n",
      "\n",
      "    Terrible       0.82      0.77      0.80        61\n",
      "        Poor       0.51      0.46      0.48        61\n",
      "     Average       0.50      0.62      0.55        60\n",
      "   Excellent       0.77      0.72      0.75        61\n",
      "\n",
      "    accuracy                           0.64       243\n",
      "   macro avg       0.65      0.64      0.64       243\n",
      "weighted avg       0.65      0.64      0.64       243\n",
      "\n"
     ]
    }
   ],
   "source": [
    "\n",
    "\n",
    "\n",
    "print(classification_report(y_test2,y_predict2,labels=['Terrible','Poor','Average','Excellent']))"
   ]
  },
  {
   "cell_type": "code",
   "execution_count": 34,
   "metadata": {},
   "outputs": [
    {
     "name": "stdout",
     "output_type": "stream",
     "text": [
      "\n",
      "Area Under the Curve - ROC (OVO , Macro) :  0.883\n"
     ]
    }
   ],
   "source": [
    "from sklearn.metrics import roc_auc_score\n",
    "\n",
    "\n",
    "y_prob2 = rnd_forest2.predict_proba(X_test2)\n",
    "ovo_macro_roc_auc2 = roc_auc_score(y_test2, y_prob2, average=\"macro\", multi_class = \"ovo\")\n",
    "print( \"\\nArea Under the Curve - ROC (OVO , Macro) : \",round(ovo_macro_roc_auc2,3))"
   ]
  },
  {
   "cell_type": "code",
   "execution_count": 35,
   "metadata": {},
   "outputs": [
    {
     "data": {
      "text/plain": [
       "RandomForestClassifier(bootstrap=True, ccp_alpha=0.0, class_weight='balanced',\n",
       "                       criterion='gini', max_depth=None, max_features='auto',\n",
       "                       max_leaf_nodes=None, max_samples=None,\n",
       "                       min_impurity_decrease=0.0, min_impurity_split=None,\n",
       "                       min_samples_leaf=1, min_samples_split=2,\n",
       "                       min_weight_fraction_leaf=0.0, n_estimators=100,\n",
       "                       n_jobs=None, oob_score=False, random_state=None,\n",
       "                       verbose=0, warm_start=False)"
      ]
     },
     "execution_count": 35,
     "metadata": {},
     "output_type": "execute_result"
    }
   ],
   "source": [
    "rnd_forest2"
   ]
  },
  {
   "cell_type": "code",
   "execution_count": 36,
   "metadata": {},
   "outputs": [
    {
     "data": {
      "text/html": [
       "<div>\n",
       "<style scoped>\n",
       "    .dataframe tbody tr th:only-of-type {\n",
       "        vertical-align: middle;\n",
       "    }\n",
       "\n",
       "    .dataframe tbody tr th {\n",
       "        vertical-align: top;\n",
       "    }\n",
       "\n",
       "    .dataframe thead th {\n",
       "        text-align: right;\n",
       "    }\n",
       "</style>\n",
       "<table border=\"1\" class=\"dataframe\">\n",
       "  <thead>\n",
       "    <tr style=\"text-align: right;\">\n",
       "      <th></th>\n",
       "      <th>Terrible</th>\n",
       "      <th>Poor</th>\n",
       "      <th>Average</th>\n",
       "      <th>Excellent</th>\n",
       "    </tr>\n",
       "  </thead>\n",
       "  <tbody>\n",
       "    <tr>\n",
       "      <td>precision</td>\n",
       "      <td>0.824561</td>\n",
       "      <td>0.509091</td>\n",
       "      <td>0.500000</td>\n",
       "      <td>0.771930</td>\n",
       "    </tr>\n",
       "    <tr>\n",
       "      <td>recall</td>\n",
       "      <td>0.770492</td>\n",
       "      <td>0.459016</td>\n",
       "      <td>0.616667</td>\n",
       "      <td>0.721311</td>\n",
       "    </tr>\n",
       "    <tr>\n",
       "      <td>f1-score</td>\n",
       "      <td>0.796610</td>\n",
       "      <td>0.482759</td>\n",
       "      <td>0.552239</td>\n",
       "      <td>0.745763</td>\n",
       "    </tr>\n",
       "    <tr>\n",
       "      <td>accuracy</td>\n",
       "      <td>0.641975</td>\n",
       "      <td>0.641975</td>\n",
       "      <td>0.641975</td>\n",
       "      <td>0.641975</td>\n",
       "    </tr>\n",
       "    <tr>\n",
       "      <td>AUC ROC</td>\n",
       "      <td>0.883322</td>\n",
       "      <td>0.883322</td>\n",
       "      <td>0.883322</td>\n",
       "      <td>0.883322</td>\n",
       "    </tr>\n",
       "  </tbody>\n",
       "</table>\n",
       "</div>"
      ],
      "text/plain": [
       "           Terrible      Poor   Average  Excellent\n",
       "precision  0.824561  0.509091  0.500000   0.771930\n",
       "recall     0.770492  0.459016  0.616667   0.721311\n",
       "f1-score   0.796610  0.482759  0.552239   0.745763\n",
       "accuracy   0.641975  0.641975  0.641975   0.641975\n",
       "AUC ROC    0.883322  0.883322  0.883322   0.883322"
      ]
     },
     "execution_count": 36,
     "metadata": {},
     "output_type": "execute_result"
    }
   ],
   "source": [
    "customized_classification_report(y_test2,y_predict2, ovo_macro_roc_auc2)"
   ]
  },
  {
   "cell_type": "code",
   "execution_count": null,
   "metadata": {},
   "outputs": [],
   "source": []
  },
  {
   "cell_type": "code",
   "execution_count": null,
   "metadata": {},
   "outputs": [],
   "source": []
  },
  {
   "cell_type": "markdown",
   "metadata": {},
   "source": [
    "### Balanced on Gender"
   ]
  },
  {
   "cell_type": "code",
   "execution_count": 37,
   "metadata": {},
   "outputs": [],
   "source": [
    "data3 = pd.read_csv(file_location)"
   ]
  },
  {
   "cell_type": "code",
   "execution_count": 38,
   "metadata": {},
   "outputs": [],
   "source": [
    "def balance_gender(dataframe):\n",
    "    female_list_unique_directors = dataframe[(dataframe['Gender'] == 'Female')].director_ids.unique().tolist()\n",
    "    \n",
    "    unique_male_directors = dataframe[(dataframe['Gender'] == 'Male')].director_ids.unique().tolist()\n",
    "    \n",
    "    male_list_unique_directors = list(np.random.choice(unique_male_directors, replace = False, size = len(female_list_unique_directors)))\n",
    "    \n",
    "    total_list_unique_directors = female_list_unique_directors + male_list_unique_directors\n",
    "\n",
    "    dataframe = dataframe[dataframe['director_ids'].isin(total_list_unique_directors)]\n",
    "\n",
    "    return dataframe"
   ]
  },
  {
   "cell_type": "code",
   "execution_count": 39,
   "metadata": {},
   "outputs": [
    {
     "data": {
      "text/plain": [
       "Male      1038\n",
       "Female     177\n",
       "Name: Gender, dtype: int64"
      ]
     },
     "execution_count": 39,
     "metadata": {},
     "output_type": "execute_result"
    }
   ],
   "source": [
    "data3.Gender.value_counts()"
   ]
  },
  {
   "cell_type": "code",
   "execution_count": 40,
   "metadata": {},
   "outputs": [],
   "source": [
    "balanced_data = balance_gender(data3)\n",
    "\n",
    "if data_1_2_3 == 1:\n",
    "    \n",
    "    balanced_data=  balanced_data.drop(columns=['director_ids', 'director_name','primaryProfession', 'knownForTitles'])\n",
    "    \n",
    "elif data_1_2_3 == 2 or data_1_2_3 ==3:\n",
    "    balanced_data = balanced_data.drop(columns=['director_ids', 'director_name'])\n",
    "\n"
   ]
  },
  {
   "cell_type": "code",
   "execution_count": 41,
   "metadata": {},
   "outputs": [
    {
     "data": {
      "text/plain": [
       "(354, 54)"
      ]
     },
     "execution_count": 41,
     "metadata": {},
     "output_type": "execute_result"
    }
   ],
   "source": [
    "balanced_data.shape"
   ]
  },
  {
   "cell_type": "code",
   "execution_count": 42,
   "metadata": {},
   "outputs": [
    {
     "data": {
      "text/plain": [
       "Female    177\n",
       "Male      177\n",
       "Name: Gender, dtype: int64"
      ]
     },
     "execution_count": 42,
     "metadata": {},
     "output_type": "execute_result"
    }
   ],
   "source": [
    "balanced_data.Gender.value_counts()"
   ]
  },
  {
   "cell_type": "code",
   "execution_count": 43,
   "metadata": {},
   "outputs": [],
   "source": [
    "q1,q2,q3,q4 = quantile_feature(balanced_data,feature)\n",
    "balanced_data = create_Movie_class(balanced_data,feature)\n",
    "\n",
    "balanced_data['Gender_MALE'] = balanced_data.Gender.apply(dummy_male)\n",
    "balanced_data['Gender_FEMALE'] = balanced_data.Gender.apply(dummy_female)\n",
    "\n",
    "\n",
    "balanced_data = balanced_data.drop(columns=[feature,'Gender'])"
   ]
  },
  {
   "cell_type": "code",
   "execution_count": 44,
   "metadata": {},
   "outputs": [
    {
     "data": {
      "text/plain": [
       "Excellent    89\n",
       "Terrible     89\n",
       "Poor         88\n",
       "Average      88\n",
       "Name: Movie_class, dtype: int64"
      ]
     },
     "execution_count": 44,
     "metadata": {},
     "output_type": "execute_result"
    }
   ],
   "source": [
    "balanced_data['Movie_class'].value_counts()"
   ]
  },
  {
   "cell_type": "code",
   "execution_count": 45,
   "metadata": {},
   "outputs": [
    {
     "data": {
      "text/html": [
       "<div>\n",
       "<style scoped>\n",
       "    .dataframe tbody tr th:only-of-type {\n",
       "        vertical-align: middle;\n",
       "    }\n",
       "\n",
       "    .dataframe tbody tr th {\n",
       "        vertical-align: top;\n",
       "    }\n",
       "\n",
       "    .dataframe thead th {\n",
       "        text-align: right;\n",
       "    }\n",
       "</style>\n",
       "<table border=\"1\" class=\"dataframe\">\n",
       "  <thead>\n",
       "    <tr style=\"text-align: right;\">\n",
       "      <th></th>\n",
       "      <th>average_rating_value</th>\n",
       "      <th>movies_produced</th>\n",
       "      <th>career_Length</th>\n",
       "      <th>CareerStartYear</th>\n",
       "      <th>birthYear</th>\n",
       "      <th>median_inter_event_time</th>\n",
       "      <th>average_inter_event_time</th>\n",
       "      <th>total_review_count_user</th>\n",
       "      <th>total_review_count_critic</th>\n",
       "      <th>total_metascore</th>\n",
       "      <th>...</th>\n",
       "      <th>total_genre_Sport</th>\n",
       "      <th>total_genre_Talk_Show</th>\n",
       "      <th>total_genre_Thriller</th>\n",
       "      <th>total_genre_War</th>\n",
       "      <th>total_genre_Western</th>\n",
       "      <th>average_movie_per_year</th>\n",
       "      <th>num_genres_directed</th>\n",
       "      <th>Movie_class</th>\n",
       "      <th>Gender_MALE</th>\n",
       "      <th>Gender_FEMALE</th>\n",
       "    </tr>\n",
       "  </thead>\n",
       "  <tbody>\n",
       "    <tr>\n",
       "      <td>7</td>\n",
       "      <td>7.30</td>\n",
       "      <td>2</td>\n",
       "      <td>26</td>\n",
       "      <td>1978</td>\n",
       "      <td>1954</td>\n",
       "      <td>6.0</td>\n",
       "      <td>6.00</td>\n",
       "      <td>2583</td>\n",
       "      <td>386</td>\n",
       "      <td>141</td>\n",
       "      <td>...</td>\n",
       "      <td>0</td>\n",
       "      <td>0</td>\n",
       "      <td>0</td>\n",
       "      <td>0</td>\n",
       "      <td>0</td>\n",
       "      <td>0.08</td>\n",
       "      <td>4</td>\n",
       "      <td>Excellent</td>\n",
       "      <td>0</td>\n",
       "      <td>1</td>\n",
       "    </tr>\n",
       "    <tr>\n",
       "      <td>13</td>\n",
       "      <td>7.10</td>\n",
       "      <td>1</td>\n",
       "      <td>13</td>\n",
       "      <td>2002</td>\n",
       "      <td>1964</td>\n",
       "      <td>0.0</td>\n",
       "      <td>0.00</td>\n",
       "      <td>190</td>\n",
       "      <td>185</td>\n",
       "      <td>50</td>\n",
       "      <td>...</td>\n",
       "      <td>0</td>\n",
       "      <td>0</td>\n",
       "      <td>0</td>\n",
       "      <td>1</td>\n",
       "      <td>0</td>\n",
       "      <td>0.08</td>\n",
       "      <td>2</td>\n",
       "      <td>Average</td>\n",
       "      <td>0</td>\n",
       "      <td>1</td>\n",
       "    </tr>\n",
       "    <tr>\n",
       "      <td>14</td>\n",
       "      <td>6.70</td>\n",
       "      <td>1</td>\n",
       "      <td>14</td>\n",
       "      <td>1993</td>\n",
       "      <td>1943</td>\n",
       "      <td>0.0</td>\n",
       "      <td>0.00</td>\n",
       "      <td>482</td>\n",
       "      <td>195</td>\n",
       "      <td>61</td>\n",
       "      <td>...</td>\n",
       "      <td>0</td>\n",
       "      <td>0</td>\n",
       "      <td>1</td>\n",
       "      <td>0</td>\n",
       "      <td>0</td>\n",
       "      <td>0.07</td>\n",
       "      <td>3</td>\n",
       "      <td>Average</td>\n",
       "      <td>1</td>\n",
       "      <td>0</td>\n",
       "    </tr>\n",
       "    <tr>\n",
       "      <td>16</td>\n",
       "      <td>7.22</td>\n",
       "      <td>16</td>\n",
       "      <td>46</td>\n",
       "      <td>1971</td>\n",
       "      <td>1930</td>\n",
       "      <td>1.0</td>\n",
       "      <td>1.27</td>\n",
       "      <td>7198</td>\n",
       "      <td>4142</td>\n",
       "      <td>1121</td>\n",
       "      <td>...</td>\n",
       "      <td>2</td>\n",
       "      <td>0</td>\n",
       "      <td>7</td>\n",
       "      <td>3</td>\n",
       "      <td>0</td>\n",
       "      <td>0.35</td>\n",
       "      <td>14</td>\n",
       "      <td>Excellent</td>\n",
       "      <td>1</td>\n",
       "      <td>0</td>\n",
       "    </tr>\n",
       "    <tr>\n",
       "      <td>18</td>\n",
       "      <td>7.83</td>\n",
       "      <td>3</td>\n",
       "      <td>26</td>\n",
       "      <td>1991</td>\n",
       "      <td>1956</td>\n",
       "      <td>6.0</td>\n",
       "      <td>6.00</td>\n",
       "      <td>4023</td>\n",
       "      <td>854</td>\n",
       "      <td>186</td>\n",
       "      <td>...</td>\n",
       "      <td>0</td>\n",
       "      <td>0</td>\n",
       "      <td>1</td>\n",
       "      <td>1</td>\n",
       "      <td>0</td>\n",
       "      <td>0.12</td>\n",
       "      <td>6</td>\n",
       "      <td>Excellent</td>\n",
       "      <td>1</td>\n",
       "      <td>0</td>\n",
       "    </tr>\n",
       "    <tr>\n",
       "      <td>...</td>\n",
       "      <td>...</td>\n",
       "      <td>...</td>\n",
       "      <td>...</td>\n",
       "      <td>...</td>\n",
       "      <td>...</td>\n",
       "      <td>...</td>\n",
       "      <td>...</td>\n",
       "      <td>...</td>\n",
       "      <td>...</td>\n",
       "      <td>...</td>\n",
       "      <td>...</td>\n",
       "      <td>...</td>\n",
       "      <td>...</td>\n",
       "      <td>...</td>\n",
       "      <td>...</td>\n",
       "      <td>...</td>\n",
       "      <td>...</td>\n",
       "      <td>...</td>\n",
       "      <td>...</td>\n",
       "      <td>...</td>\n",
       "      <td>...</td>\n",
       "    </tr>\n",
       "    <tr>\n",
       "      <td>1199</td>\n",
       "      <td>6.30</td>\n",
       "      <td>1</td>\n",
       "      <td>5</td>\n",
       "      <td>2006</td>\n",
       "      <td>1986</td>\n",
       "      <td>0.0</td>\n",
       "      <td>0.00</td>\n",
       "      <td>36</td>\n",
       "      <td>112</td>\n",
       "      <td>72</td>\n",
       "      <td>...</td>\n",
       "      <td>0</td>\n",
       "      <td>0</td>\n",
       "      <td>0</td>\n",
       "      <td>0</td>\n",
       "      <td>0</td>\n",
       "      <td>0.20</td>\n",
       "      <td>3</td>\n",
       "      <td>Terrible</td>\n",
       "      <td>0</td>\n",
       "      <td>1</td>\n",
       "    </tr>\n",
       "    <tr>\n",
       "      <td>1201</td>\n",
       "      <td>7.20</td>\n",
       "      <td>1</td>\n",
       "      <td>10</td>\n",
       "      <td>1999</td>\n",
       "      <td>1964</td>\n",
       "      <td>0.0</td>\n",
       "      <td>0.00</td>\n",
       "      <td>94</td>\n",
       "      <td>181</td>\n",
       "      <td>82</td>\n",
       "      <td>...</td>\n",
       "      <td>0</td>\n",
       "      <td>0</td>\n",
       "      <td>0</td>\n",
       "      <td>0</td>\n",
       "      <td>0</td>\n",
       "      <td>0.10</td>\n",
       "      <td>2</td>\n",
       "      <td>Poor</td>\n",
       "      <td>0</td>\n",
       "      <td>1</td>\n",
       "    </tr>\n",
       "    <tr>\n",
       "      <td>1205</td>\n",
       "      <td>7.00</td>\n",
       "      <td>1</td>\n",
       "      <td>4</td>\n",
       "      <td>2010</td>\n",
       "      <td>1974</td>\n",
       "      <td>0.0</td>\n",
       "      <td>0.00</td>\n",
       "      <td>898</td>\n",
       "      <td>544</td>\n",
       "      <td>54</td>\n",
       "      <td>...</td>\n",
       "      <td>0</td>\n",
       "      <td>0</td>\n",
       "      <td>0</td>\n",
       "      <td>0</td>\n",
       "      <td>0</td>\n",
       "      <td>0.25</td>\n",
       "      <td>4</td>\n",
       "      <td>Excellent</td>\n",
       "      <td>1</td>\n",
       "      <td>0</td>\n",
       "    </tr>\n",
       "    <tr>\n",
       "      <td>1208</td>\n",
       "      <td>5.30</td>\n",
       "      <td>1</td>\n",
       "      <td>1</td>\n",
       "      <td>2012</td>\n",
       "      <td>1980</td>\n",
       "      <td>0.0</td>\n",
       "      <td>0.00</td>\n",
       "      <td>131</td>\n",
       "      <td>158</td>\n",
       "      <td>53</td>\n",
       "      <td>...</td>\n",
       "      <td>0</td>\n",
       "      <td>0</td>\n",
       "      <td>0</td>\n",
       "      <td>0</td>\n",
       "      <td>0</td>\n",
       "      <td>1.00</td>\n",
       "      <td>2</td>\n",
       "      <td>Poor</td>\n",
       "      <td>0</td>\n",
       "      <td>1</td>\n",
       "    </tr>\n",
       "    <tr>\n",
       "      <td>1211</td>\n",
       "      <td>5.10</td>\n",
       "      <td>1</td>\n",
       "      <td>7</td>\n",
       "      <td>2008</td>\n",
       "      <td>1988</td>\n",
       "      <td>0.0</td>\n",
       "      <td>0.00</td>\n",
       "      <td>72</td>\n",
       "      <td>6</td>\n",
       "      <td>1</td>\n",
       "      <td>...</td>\n",
       "      <td>0</td>\n",
       "      <td>0</td>\n",
       "      <td>0</td>\n",
       "      <td>0</td>\n",
       "      <td>0</td>\n",
       "      <td>0.14</td>\n",
       "      <td>1</td>\n",
       "      <td>Terrible</td>\n",
       "      <td>0</td>\n",
       "      <td>1</td>\n",
       "    </tr>\n",
       "  </tbody>\n",
       "</table>\n",
       "<p>354 rows × 55 columns</p>\n",
       "</div>"
      ],
      "text/plain": [
       "      average_rating_value  movies_produced  career_Length  CareerStartYear  \\\n",
       "7                     7.30                2             26             1978   \n",
       "13                    7.10                1             13             2002   \n",
       "14                    6.70                1             14             1993   \n",
       "16                    7.22               16             46             1971   \n",
       "18                    7.83                3             26             1991   \n",
       "...                    ...              ...            ...              ...   \n",
       "1199                  6.30                1              5             2006   \n",
       "1201                  7.20                1             10             1999   \n",
       "1205                  7.00                1              4             2010   \n",
       "1208                  5.30                1              1             2012   \n",
       "1211                  5.10                1              7             2008   \n",
       "\n",
       "      birthYear  median_inter_event_time  average_inter_event_time  \\\n",
       "7          1954                      6.0                      6.00   \n",
       "13         1964                      0.0                      0.00   \n",
       "14         1943                      0.0                      0.00   \n",
       "16         1930                      1.0                      1.27   \n",
       "18         1956                      6.0                      6.00   \n",
       "...         ...                      ...                       ...   \n",
       "1199       1986                      0.0                      0.00   \n",
       "1201       1964                      0.0                      0.00   \n",
       "1205       1974                      0.0                      0.00   \n",
       "1208       1980                      0.0                      0.00   \n",
       "1211       1988                      0.0                      0.00   \n",
       "\n",
       "      total_review_count_user  total_review_count_critic  total_metascore  \\\n",
       "7                        2583                        386              141   \n",
       "13                        190                        185               50   \n",
       "14                        482                        195               61   \n",
       "16                       7198                       4142             1121   \n",
       "18                       4023                        854              186   \n",
       "...                       ...                        ...              ...   \n",
       "1199                       36                        112               72   \n",
       "1201                       94                        181               82   \n",
       "1205                      898                        544               54   \n",
       "1208                      131                        158               53   \n",
       "1211                       72                          6                1   \n",
       "\n",
       "      ...  total_genre_Sport  total_genre_Talk_Show  total_genre_Thriller  \\\n",
       "7     ...                  0                      0                     0   \n",
       "13    ...                  0                      0                     0   \n",
       "14    ...                  0                      0                     1   \n",
       "16    ...                  2                      0                     7   \n",
       "18    ...                  0                      0                     1   \n",
       "...   ...                ...                    ...                   ...   \n",
       "1199  ...                  0                      0                     0   \n",
       "1201  ...                  0                      0                     0   \n",
       "1205  ...                  0                      0                     0   \n",
       "1208  ...                  0                      0                     0   \n",
       "1211  ...                  0                      0                     0   \n",
       "\n",
       "      total_genre_War  total_genre_Western  average_movie_per_year  \\\n",
       "7                   0                    0                    0.08   \n",
       "13                  1                    0                    0.08   \n",
       "14                  0                    0                    0.07   \n",
       "16                  3                    0                    0.35   \n",
       "18                  1                    0                    0.12   \n",
       "...               ...                  ...                     ...   \n",
       "1199                0                    0                    0.20   \n",
       "1201                0                    0                    0.10   \n",
       "1205                0                    0                    0.25   \n",
       "1208                0                    0                    1.00   \n",
       "1211                0                    0                    0.14   \n",
       "\n",
       "      num_genres_directed  Movie_class  Gender_MALE  Gender_FEMALE  \n",
       "7                       4    Excellent            0              1  \n",
       "13                      2      Average            0              1  \n",
       "14                      3      Average            1              0  \n",
       "16                     14    Excellent            1              0  \n",
       "18                      6    Excellent            1              0  \n",
       "...                   ...          ...          ...            ...  \n",
       "1199                    3     Terrible            0              1  \n",
       "1201                    2         Poor            0              1  \n",
       "1205                    4    Excellent            1              0  \n",
       "1208                    2         Poor            0              1  \n",
       "1211                    1     Terrible            0              1  \n",
       "\n",
       "[354 rows x 55 columns]"
      ]
     },
     "execution_count": 45,
     "metadata": {},
     "output_type": "execute_result"
    }
   ],
   "source": [
    "balanced_data"
   ]
  },
  {
   "cell_type": "code",
   "execution_count": 46,
   "metadata": {},
   "outputs": [
    {
     "name": "stdout",
     "output_type": "stream",
     "text": [
      "The accuracy of the model is 0.6619718309859155.\n",
      "\n",
      "The input features included are Index(['average_rating_value', 'movies_produced', 'career_Length',\n",
      "       'CareerStartYear', 'birthYear', 'median_inter_event_time',\n",
      "       'average_inter_event_time', 'total_review_count_user',\n",
      "       'total_review_count_critic', 'total_metascore', 'median_metascore',\n",
      "       'total_awards_won', 'total_awards_nominated', 'total_gross_value',\n",
      "       'total_budget_value', 'average_runtime_of_movie',\n",
      "       'director_profession_primary', 'director_profession_secondary',\n",
      "       'director_profession_tertiary', 'director_known_titles_count',\n",
      "       'director_known_titles_average_rating_value', 'total_genre_Action',\n",
      "       'total_genre_Adult', 'total_genre_Adventure', 'total_genre_Animation',\n",
      "       'total_genre_Biography', 'total_genre_Comedy', 'total_genre_Crime',\n",
      "       'total_genre_Documentary', 'total_genre_Drama', 'total_genre_Family',\n",
      "       'total_genre_Fantasy', 'total_genre_Film_Noir', 'total_genre_Game_Show',\n",
      "       'total_genre_History', 'total_genre_Horror', 'total_genre_Music',\n",
      "       'total_genre_Musical', 'total_genre_Mystery', 'total_genre_News',\n",
      "       'total_genre_None', 'total_genre_Reality_TV', 'total_genre_Romance',\n",
      "       'total_genre_Sci_Fi', 'total_genre_Short', 'total_genre_Sport',\n",
      "       'total_genre_Talk_Show', 'total_genre_Thriller', 'total_genre_War',\n",
      "       'total_genre_Western', 'average_movie_per_year', 'num_genres_directed',\n",
      "       'Gender_MALE', 'Gender_FEMALE'],\n",
      "      dtype='object') \n",
      "\n",
      "The corresponding feature importance is[0.05 0.02 0.03 0.03 0.03 0.01 0.01 0.13 0.13 0.04 0.04 0.   0.   0.09\n",
      " 0.08 0.03 0.01 0.01 0.01 0.02 0.04 0.02 0.   0.01 0.   0.01 0.01 0.01\n",
      " 0.   0.01 0.01 0.01 0.   0.   0.   0.01 0.   0.   0.01 0.   0.   0.\n",
      " 0.01 0.01 0.   0.   0.   0.01 0.   0.   0.03 0.02 0.01 0.01]\n"
     ]
    }
   ],
   "source": [
    "score3, rnd_forest3,X3, y3 ,X_train3, X_test3, y_train3, y_test3 = report_accuracy_RF(balanced_data,\"Movie_class\")\n",
    "\n",
    "print(f\"The accuracy of the model is {score3}.\")\n",
    "print()\n",
    "print(f'The input features included are {X3.columns} ')\n",
    "print()\n",
    "print(f'The corresponding feature importance is{rnd_forest3.feature_importances_}')"
   ]
  },
  {
   "cell_type": "code",
   "execution_count": 47,
   "metadata": {},
   "outputs": [
    {
     "name": "stdout",
     "output_type": "stream",
     "text": [
      "              precision    recall  f1-score   support\n",
      "\n",
      "    Terrible       0.76      0.72      0.74        18\n",
      "        Poor       0.39      0.41      0.40        17\n",
      "     Average       0.62      0.56      0.59        18\n",
      "   Excellent       0.85      0.94      0.89        18\n",
      "\n",
      "    accuracy                           0.66        71\n",
      "   macro avg       0.66      0.66      0.66        71\n",
      "weighted avg       0.66      0.66      0.66        71\n",
      "\n"
     ]
    }
   ],
   "source": [
    "# y_true3 = y_test3.copy()\n",
    "y_predict3 = rnd_forest3.predict(X_test3)\n",
    "\n",
    "\n",
    "from sklearn.metrics import classification_report\n",
    "\n",
    "\n",
    "print(classification_report(y_test3,y_predict3,labels=['Terrible','Poor','Average','Excellent']))"
   ]
  },
  {
   "cell_type": "code",
   "execution_count": 48,
   "metadata": {},
   "outputs": [
    {
     "name": "stdout",
     "output_type": "stream",
     "text": [
      "\n",
      "Area Under the Curve - ROC (OVO , Macro) :  0.89\n"
     ]
    }
   ],
   "source": [
    "y_prob3 = rnd_forest3.predict_proba(X_test3)\n",
    "ovo_macro_roc_auc3 = roc_auc_score(y_test3, y_prob3, average=\"macro\", multi_class = \"ovo\")\n",
    "print( \"\\nArea Under the Curve - ROC (OVO , Macro) : \",round(ovo_macro_roc_auc3,2))"
   ]
  },
  {
   "cell_type": "code",
   "execution_count": 49,
   "metadata": {
    "scrolled": true
   },
   "outputs": [
    {
     "data": {
      "text/plain": [
       "RandomForestClassifier(bootstrap=True, ccp_alpha=0.0, class_weight='balanced',\n",
       "                       criterion='gini', max_depth=None, max_features='auto',\n",
       "                       max_leaf_nodes=None, max_samples=None,\n",
       "                       min_impurity_decrease=0.0, min_impurity_split=None,\n",
       "                       min_samples_leaf=1, min_samples_split=2,\n",
       "                       min_weight_fraction_leaf=0.0, n_estimators=100,\n",
       "                       n_jobs=None, oob_score=False, random_state=None,\n",
       "                       verbose=0, warm_start=False)"
      ]
     },
     "execution_count": 49,
     "metadata": {},
     "output_type": "execute_result"
    }
   ],
   "source": [
    "rnd_forest3"
   ]
  },
  {
   "cell_type": "code",
   "execution_count": 50,
   "metadata": {},
   "outputs": [
    {
     "data": {
      "text/html": [
       "<div>\n",
       "<style scoped>\n",
       "    .dataframe tbody tr th:only-of-type {\n",
       "        vertical-align: middle;\n",
       "    }\n",
       "\n",
       "    .dataframe tbody tr th {\n",
       "        vertical-align: top;\n",
       "    }\n",
       "\n",
       "    .dataframe thead th {\n",
       "        text-align: right;\n",
       "    }\n",
       "</style>\n",
       "<table border=\"1\" class=\"dataframe\">\n",
       "  <thead>\n",
       "    <tr style=\"text-align: right;\">\n",
       "      <th></th>\n",
       "      <th>Terrible</th>\n",
       "      <th>Poor</th>\n",
       "      <th>Average</th>\n",
       "      <th>Excellent</th>\n",
       "    </tr>\n",
       "  </thead>\n",
       "  <tbody>\n",
       "    <tr>\n",
       "      <td>precision</td>\n",
       "      <td>0.764706</td>\n",
       "      <td>0.388889</td>\n",
       "      <td>0.625000</td>\n",
       "      <td>0.850000</td>\n",
       "    </tr>\n",
       "    <tr>\n",
       "      <td>recall</td>\n",
       "      <td>0.722222</td>\n",
       "      <td>0.411765</td>\n",
       "      <td>0.555556</td>\n",
       "      <td>0.944444</td>\n",
       "    </tr>\n",
       "    <tr>\n",
       "      <td>f1-score</td>\n",
       "      <td>0.742857</td>\n",
       "      <td>0.400000</td>\n",
       "      <td>0.588235</td>\n",
       "      <td>0.894737</td>\n",
       "    </tr>\n",
       "    <tr>\n",
       "      <td>accuracy</td>\n",
       "      <td>0.661972</td>\n",
       "      <td>0.661972</td>\n",
       "      <td>0.661972</td>\n",
       "      <td>0.661972</td>\n",
       "    </tr>\n",
       "    <tr>\n",
       "      <td>AUC ROC</td>\n",
       "      <td>0.887187</td>\n",
       "      <td>0.887187</td>\n",
       "      <td>0.887187</td>\n",
       "      <td>0.887187</td>\n",
       "    </tr>\n",
       "  </tbody>\n",
       "</table>\n",
       "</div>"
      ],
      "text/plain": [
       "           Terrible      Poor   Average  Excellent\n",
       "precision  0.764706  0.388889  0.625000   0.850000\n",
       "recall     0.722222  0.411765  0.555556   0.944444\n",
       "f1-score   0.742857  0.400000  0.588235   0.894737\n",
       "accuracy   0.661972  0.661972  0.661972   0.661972\n",
       "AUC ROC    0.887187  0.887187  0.887187   0.887187"
      ]
     },
     "execution_count": 50,
     "metadata": {},
     "output_type": "execute_result"
    }
   ],
   "source": [
    "customized_classification_report(y_test3,y_predict3, ovo_macro_roc_auc3)"
   ]
  },
  {
   "cell_type": "code",
   "execution_count": null,
   "metadata": {},
   "outputs": [],
   "source": []
  }
 ],
 "metadata": {
  "kernelspec": {
   "display_name": "Python 3",
   "language": "python",
   "name": "python3"
  },
  "language_info": {
   "codemirror_mode": {
    "name": "ipython",
    "version": 3
   },
   "file_extension": ".py",
   "mimetype": "text/x-python",
   "name": "python",
   "nbconvert_exporter": "python",
   "pygments_lexer": "ipython3",
   "version": "3.7.4"
  }
 },
 "nbformat": 4,
 "nbformat_minor": 2
}
