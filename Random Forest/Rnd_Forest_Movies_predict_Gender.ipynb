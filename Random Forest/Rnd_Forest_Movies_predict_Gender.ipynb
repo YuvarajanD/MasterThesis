{
 "cells": [
  {
   "cell_type": "code",
   "execution_count": 1,
   "metadata": {},
   "outputs": [],
   "source": [
    "import pandas as pd\n",
    "import numpy as np\n"
   ]
  },
  {
   "cell_type": "markdown",
   "metadata": {},
   "source": [
    "## Unbalanced Data"
   ]
  },
  {
   "cell_type": "code",
   "execution_count": 2,
   "metadata": {},
   "outputs": [],
   "source": [
    "#Select feature to predict on\n",
    "\n",
    "feature = 'Gender'\n",
    "data_1_2_3 = 3"
   ]
  },
  {
   "cell_type": "code",
   "execution_count": 3,
   "metadata": {},
   "outputs": [
    {
     "data": {
      "text/plain": [
       "(2653, 106)"
      ]
     },
     "execution_count": 3,
     "metadata": {},
     "output_type": "execute_result"
    }
   ],
   "source": [
    "#Choosing file path\n",
    "\n",
    "\n",
    "if data_1_2_3 ==1:\n",
    "    file_location = 'D:\\\\Victor Yotov\\\\ITU\\\\3rd Semester\\\\Research Project\\\\data\\\\Movies_Dataset\\\\1_Data_Movies.csv'\n",
    "elif data_1_2_3 == 2:\n",
    "    file_location = 'D:\\\\Victor Yotov\\\\ITU\\\\3rd Semester\\\\Research Project\\\\data\\\\Movies_Dataset\\\\2_Movies_WithAwards.csv'\n",
    "elif data_1_2_3 == 3:\n",
    "    file_location = 'D:\\\\Victor Yotov\\\\ITU\\\\3rd Semester\\\\Research Project\\\\data\\\\Movies_Dataset\\\\3_USA_Movies_WithAwards_inflation.csv'\n",
    "else:\n",
    "    raise ValueError('Wrong INTEGER provided.') \n",
    "    \n",
    "data = pd.read_csv(file_location)\n",
    "\n",
    "data.shape"
   ]
  },
  {
   "cell_type": "code",
   "execution_count": 4,
   "metadata": {},
   "outputs": [
    {
     "data": {
      "text/plain": [
       "'D:\\\\Victor Yotov\\\\ITU\\\\3rd Semester\\\\Research Project\\\\data\\\\Movies_Dataset\\\\3_USA_Movies_WithAwards_inflation.csv'"
      ]
     },
     "execution_count": 4,
     "metadata": {},
     "output_type": "execute_result"
    }
   ],
   "source": [
    "file_location"
   ]
  },
  {
   "cell_type": "code",
   "execution_count": 5,
   "metadata": {
    "scrolled": true
   },
   "outputs": [
    {
     "data": {
      "text/html": [
       "<div>\n",
       "<style scoped>\n",
       "    .dataframe tbody tr th:only-of-type {\n",
       "        vertical-align: middle;\n",
       "    }\n",
       "\n",
       "    .dataframe tbody tr th {\n",
       "        vertical-align: top;\n",
       "    }\n",
       "\n",
       "    .dataframe thead th {\n",
       "        text-align: right;\n",
       "    }\n",
       "</style>\n",
       "<table border=\"1\" class=\"dataframe\">\n",
       "  <thead>\n",
       "    <tr style=\"text-align: right;\">\n",
       "      <th></th>\n",
       "      <th>director_ids</th>\n",
       "      <th>director_names</th>\n",
       "      <th>movie_id</th>\n",
       "      <th>title</th>\n",
       "      <th>review_count_user</th>\n",
       "      <th>review_count_critic</th>\n",
       "      <th>metascore</th>\n",
       "      <th>rating_value</th>\n",
       "      <th>rating_count</th>\n",
       "      <th>release_date</th>\n",
       "      <th>...</th>\n",
       "      <th>Winner_Actor in a Supporting Role</th>\n",
       "      <th>Winner_Actress</th>\n",
       "      <th>Winner_Actress in a Leading Role</th>\n",
       "      <th>Winner_Actress in a Supporting Role</th>\n",
       "      <th>Winner_Assistant Director</th>\n",
       "      <th>Winner_Directing</th>\n",
       "      <th>Winner_Directing (Comedy Picture)</th>\n",
       "      <th>Winner_Directing (Dramatic Picture)</th>\n",
       "      <th>awards_nominated</th>\n",
       "      <th>awards_won</th>\n",
       "    </tr>\n",
       "  </thead>\n",
       "  <tbody>\n",
       "    <tr>\n",
       "      <td>0</td>\n",
       "      <td>nm0000122</td>\n",
       "      <td>Charles Chaplin</td>\n",
       "      <td>tt0027977</td>\n",
       "      <td>Les temps modernes (1936) - IMDb</td>\n",
       "      <td>213</td>\n",
       "      <td>119</td>\n",
       "      <td>96</td>\n",
       "      <td>8.6</td>\n",
       "      <td>147990</td>\n",
       "      <td>24 September 1936 (France)    See more »</td>\n",
       "      <td>...</td>\n",
       "      <td>0</td>\n",
       "      <td>0</td>\n",
       "      <td>0</td>\n",
       "      <td>0</td>\n",
       "      <td>0</td>\n",
       "      <td>0</td>\n",
       "      <td>0</td>\n",
       "      <td>0</td>\n",
       "      <td>0</td>\n",
       "      <td>0</td>\n",
       "    </tr>\n",
       "    <tr>\n",
       "      <td>1</td>\n",
       "      <td>nm0281808</td>\n",
       "      <td>Victor Fleming</td>\n",
       "      <td>tt0032138</td>\n",
       "      <td>Óz, a csodák csodája (1939) - IMDb</td>\n",
       "      <td>540</td>\n",
       "      <td>213</td>\n",
       "      <td>100</td>\n",
       "      <td>8.1</td>\n",
       "      <td>299644</td>\n",
       "      <td>21 March 1940 (Hungary)    See more »</td>\n",
       "      <td>...</td>\n",
       "      <td>0</td>\n",
       "      <td>0</td>\n",
       "      <td>0</td>\n",
       "      <td>0</td>\n",
       "      <td>0</td>\n",
       "      <td>0</td>\n",
       "      <td>0</td>\n",
       "      <td>0</td>\n",
       "      <td>0</td>\n",
       "      <td>0</td>\n",
       "    </tr>\n",
       "    <tr>\n",
       "      <td>2</td>\n",
       "      <td>nm0002030</td>\n",
       "      <td>George Cukor</td>\n",
       "      <td>tt0032138</td>\n",
       "      <td>Óz, a csodák csodája (1939) - IMDb</td>\n",
       "      <td>540</td>\n",
       "      <td>213</td>\n",
       "      <td>100</td>\n",
       "      <td>8.1</td>\n",
       "      <td>299644</td>\n",
       "      <td>21 March 1940 (Hungary)    See more »</td>\n",
       "      <td>...</td>\n",
       "      <td>0</td>\n",
       "      <td>0</td>\n",
       "      <td>0</td>\n",
       "      <td>0</td>\n",
       "      <td>0</td>\n",
       "      <td>0</td>\n",
       "      <td>0</td>\n",
       "      <td>0</td>\n",
       "      <td>0</td>\n",
       "      <td>0</td>\n",
       "    </tr>\n",
       "    <tr>\n",
       "      <td>3</td>\n",
       "      <td>nm0003506</td>\n",
       "      <td>James Mangold</td>\n",
       "      <td>tt0035423</td>\n",
       "      <td>Kate &amp; Leopold (2001) - IMDb</td>\n",
       "      <td>317</td>\n",
       "      <td>124</td>\n",
       "      <td>44</td>\n",
       "      <td>6.4</td>\n",
       "      <td>65765</td>\n",
       "      <td>25 December 2001 (USA)    See more »</td>\n",
       "      <td>...</td>\n",
       "      <td>0</td>\n",
       "      <td>0</td>\n",
       "      <td>0</td>\n",
       "      <td>0</td>\n",
       "      <td>0</td>\n",
       "      <td>0</td>\n",
       "      <td>0</td>\n",
       "      <td>0</td>\n",
       "      <td>0</td>\n",
       "      <td>0</td>\n",
       "    </tr>\n",
       "    <tr>\n",
       "      <td>4</td>\n",
       "      <td>nm0039107</td>\n",
       "      <td>Ray Ashley</td>\n",
       "      <td>tt0046004</td>\n",
       "      <td>A kis szökevény (1953) - IMDb</td>\n",
       "      <td>29</td>\n",
       "      <td>45</td>\n",
       "      <td>91</td>\n",
       "      <td>7.7</td>\n",
       "      <td>1730</td>\n",
       "      <td>16 December 1953 (France)    See more »</td>\n",
       "      <td>...</td>\n",
       "      <td>0</td>\n",
       "      <td>0</td>\n",
       "      <td>0</td>\n",
       "      <td>0</td>\n",
       "      <td>0</td>\n",
       "      <td>0</td>\n",
       "      <td>0</td>\n",
       "      <td>0</td>\n",
       "      <td>0</td>\n",
       "      <td>0</td>\n",
       "    </tr>\n",
       "  </tbody>\n",
       "</table>\n",
       "<p>5 rows × 106 columns</p>\n",
       "</div>"
      ],
      "text/plain": [
       "  director_ids   director_names   movie_id  \\\n",
       "0    nm0000122  Charles Chaplin  tt0027977   \n",
       "1    nm0281808   Victor Fleming  tt0032138   \n",
       "2    nm0002030     George Cukor  tt0032138   \n",
       "3    nm0003506    James Mangold  tt0035423   \n",
       "4    nm0039107       Ray Ashley  tt0046004   \n",
       "\n",
       "                                title  review_count_user  review_count_critic  \\\n",
       "0    Les temps modernes (1936) - IMDb                213                  119   \n",
       "1  Óz, a csodák csodája (1939) - IMDb                540                  213   \n",
       "2  Óz, a csodák csodája (1939) - IMDb                540                  213   \n",
       "3        Kate & Leopold (2001) - IMDb                317                  124   \n",
       "4       A kis szökevény (1953) - IMDb                 29                   45   \n",
       "\n",
       "   metascore  rating_value  rating_count  \\\n",
       "0         96           8.6        147990   \n",
       "1        100           8.1        299644   \n",
       "2        100           8.1        299644   \n",
       "3         44           6.4         65765   \n",
       "4         91           7.7          1730   \n",
       "\n",
       "                                release_date  ...  \\\n",
       "0   24 September 1936 (France)    See more »  ...   \n",
       "1      21 March 1940 (Hungary)    See more »  ...   \n",
       "2      21 March 1940 (Hungary)    See more »  ...   \n",
       "3       25 December 2001 (USA)    See more »  ...   \n",
       "4    16 December 1953 (France)    See more »  ...   \n",
       "\n",
       "   Winner_Actor in a Supporting Role  Winner_Actress  \\\n",
       "0                                  0               0   \n",
       "1                                  0               0   \n",
       "2                                  0               0   \n",
       "3                                  0               0   \n",
       "4                                  0               0   \n",
       "\n",
       "   Winner_Actress in a Leading Role  Winner_Actress in a Supporting Role  \\\n",
       "0                                 0                                    0   \n",
       "1                                 0                                    0   \n",
       "2                                 0                                    0   \n",
       "3                                 0                                    0   \n",
       "4                                 0                                    0   \n",
       "\n",
       "   Winner_Assistant Director  Winner_Directing  \\\n",
       "0                          0                 0   \n",
       "1                          0                 0   \n",
       "2                          0                 0   \n",
       "3                          0                 0   \n",
       "4                          0                 0   \n",
       "\n",
       "   Winner_Directing (Comedy Picture)  Winner_Directing (Dramatic Picture)  \\\n",
       "0                                  0                                    0   \n",
       "1                                  0                                    0   \n",
       "2                                  0                                    0   \n",
       "3                                  0                                    0   \n",
       "4                                  0                                    0   \n",
       "\n",
       "   awards_nominated  awards_won  \n",
       "0                 0           0  \n",
       "1                 0           0  \n",
       "2                 0           0  \n",
       "3                 0           0  \n",
       "4                 0           0  \n",
       "\n",
       "[5 rows x 106 columns]"
      ]
     },
     "execution_count": 5,
     "metadata": {},
     "output_type": "execute_result"
    }
   ],
   "source": [
    "data.head(5)"
   ]
  },
  {
   "cell_type": "code",
   "execution_count": 6,
   "metadata": {},
   "outputs": [],
   "source": [
    "#If 1 ---- MovieDataset 1\n",
    "if data_1_2_3 == 1:\n",
    "    data =  data.drop(columns=['director_ids', 'director_names','movie_id','title','primaryProfession', 'knownForTitles','date_published', 'release_date'])\n",
    "    \n",
    "elif data_1_2_3 == 2 or data_1_2_3 ==3:\n",
    "    data = data.drop(columns=['director_ids', 'director_names', 'movie_id', 'title',\n",
    "       'release_date', 'Film', 'Name'])\n",
    "\n",
    "    \n",
    "# data.drop(columns=['director_ids', 'director_names','movie_id','title','primaryProfession', 'knownForTitles','date_published', 'release_date'],inplace=True)\n",
    "# data = data.drop(columns=['director_ids', 'director_names', 'movie_id', 'title',\n",
    "#        'release_date', 'Film', 'Name'])"
   ]
  },
  {
   "cell_type": "code",
   "execution_count": 7,
   "metadata": {},
   "outputs": [],
   "source": [
    "data['Gender'] = data['Gender'].map({'Male':0, 'Female':1})\n",
    "\n",
    "\n"
   ]
  },
  {
   "cell_type": "code",
   "execution_count": 8,
   "metadata": {},
   "outputs": [
    {
     "data": {
      "text/plain": [
       "0    2311\n",
       "1     342\n",
       "Name: Gender, dtype: int64"
      ]
     },
     "execution_count": 8,
     "metadata": {},
     "output_type": "execute_result"
    }
   ],
   "source": [
    "data['Gender'].value_counts()"
   ]
  },
  {
   "cell_type": "code",
   "execution_count": 9,
   "metadata": {},
   "outputs": [],
   "source": [
    "data.review_count_user = data.review_count_user.astype(int)\n",
    "data.review_count_critic = data.review_count_critic.astype(int)\n",
    "data.rating_value = data.rating_value.astype(float)\n",
    "data.rating_count = data.rating_count.astype(int)\n",
    "data.movie_year = data.movie_year.astype(int)\n",
    "data.birthYear = data.birthYear.astype(int)\n",
    "\n",
    "\n",
    "if data_1_2_3 == 2 or data_1_2_3 ==3:\n",
    "    data.metascore = data.metascore.astype(int)"
   ]
  },
  {
   "cell_type": "code",
   "execution_count": 10,
   "metadata": {},
   "outputs": [],
   "source": [
    "# data.drop(columns=[feature,'Gender'],inplace=True)"
   ]
  },
  {
   "cell_type": "code",
   "execution_count": 11,
   "metadata": {},
   "outputs": [],
   "source": [
    "# for i in data.columns.values:\n",
    "#     print(i)"
   ]
  },
  {
   "cell_type": "code",
   "execution_count": 12,
   "metadata": {},
   "outputs": [],
   "source": [
    "# data.Gender = data.Gender.map({'Male': 1, 'Female':0})"
   ]
  },
  {
   "cell_type": "code",
   "execution_count": 13,
   "metadata": {},
   "outputs": [],
   "source": [
    "from sklearn.ensemble import RandomForestClassifier\n",
    "from sklearn.model_selection import train_test_split\n",
    "from sklearn.metrics import confusion_matrix\n",
    "from string import ascii_uppercase\n",
    "import seaborn as sn\n",
    "\n",
    "def report_accuracy_RF(dataframe, predicted_feature, numberEstimators=100):\n",
    "    #Splitting X and y\n",
    "    X = dataframe[dataframe.columns.difference([predicted_feature],sort=False)]\n",
    "    y = dataframe[predicted_feature]\n",
    "    \n",
    "    #Initialize Random Forest\n",
    "    rnd_forest = RandomForestClassifier(n_estimators=numberEstimators, class_weight='balanced', random_state=42)\n",
    "    X_train, X_test, y_train, y_test = train_test_split(X, y, test_size=0.2, random_state=42, stratify=y)\n",
    "    \n",
    "    rnd_forest.fit(X_train,y_train.values.ravel())\n",
    "    score = rnd_forest.score(X_test,y_test)\n",
    "    \n",
    "    return score, rnd_forest,X, y ,X_train, X_test, y_train, y_test\n",
    "    "
   ]
  },
  {
   "cell_type": "code",
   "execution_count": 14,
   "metadata": {},
   "outputs": [],
   "source": [
    "def calculate_confusion_matrix_metrics(confusion_matrix):\n",
    "    #source:\n",
    "    #https://stackoverflow.com/questions/50666091/true-positive-rate-and-false-positive-rate-tpr-fpr-for-multi-class-data-in-py\n",
    "    \n",
    "    FP = confusion_matrix.sum(axis=0) - np.diag(confusion_matrix)  \n",
    "    FN = confusion_matrix.sum(axis=1) - np.diag(confusion_matrix)\n",
    "    TP = np.diag(confusion_matrix)\n",
    "    TN = confusion_matrix.sum() - (FP + FN + TP)\n",
    "\n",
    "    FP = FP.astype(float)\n",
    "    FN = FN.astype(float)\n",
    "    TP = TP.astype(float)\n",
    "    TN = TN.astype(float)\n",
    "    \n",
    "    return TN, FP, FN, TP"
   ]
  },
  {
   "cell_type": "code",
   "execution_count": 15,
   "metadata": {},
   "outputs": [],
   "source": [
    "def print_accuracy_feature_importance(score, X, model):\n",
    "    \n",
    "    print(f'The accuracy of the model is equal to {score} %')\n",
    "    print()\n",
    "    print(X.columns)\n",
    "    print()\n",
    "    print(model.feature_importances_)\n",
    "    "
   ]
  },
  {
   "cell_type": "code",
   "execution_count": 16,
   "metadata": {},
   "outputs": [],
   "source": [
    "def customized_classification_report(y_true,y_pred, AUCROC ):\n",
    "\n",
    "    cols_to_use_classification_report = ['0','1','accuracy']\n",
    "\n",
    "    reportGBClassification = classification_report(y_true,\n",
    "                                                   y_pred,\n",
    "                                                   output_dict=True)\n",
    "\n",
    "    reportDF = pd.DataFrame(reportGBClassification, columns = cols_to_use_classification_report)[0:3]\n",
    "    reportDF.columns = ['Male','Female','accuracy']\n",
    "\n",
    "    reportDF[['Male','Female']] = reportDF[['Male','Female']].round(2)\n",
    "    accuracyRow = reportDF['accuracy'].unique().tolist()\n",
    "\n",
    "    reportDF.drop(columns='accuracy',inplace= True)\n",
    "\n",
    "    reportDF.loc[len(reportDF)] = 2 * accuracyRow\n",
    "    reportDF.loc[len(reportDF)] = 2 * [AUCROC]\n",
    "\n",
    "    reportDF = reportDF.rename(index = {3:'accuracy',4:'AUC ROC'})\n",
    "    return reportDF\n"
   ]
  },
  {
   "cell_type": "code",
   "execution_count": 17,
   "metadata": {},
   "outputs": [
    {
     "name": "stdout",
     "output_type": "stream",
     "text": [
      "The accuracy of the model is equal to 0.8738229755178908 %\n",
      "\n",
      "Index(['review_count_user', 'review_count_critic', 'metascore', 'rating_value',\n",
      "       'rating_count', 'runtime', 'movie_year', 'opening_weekend_value',\n",
      "       'gross_value', 'budget_value', 'color_Black_and_White', 'color_Color',\n",
      "       'language_Arabic', 'language_Dutch', 'language_English',\n",
      "       'language_French', 'language_German', 'language_Greek',\n",
      "       'language_Hindi', 'language_Italian', 'language_Japanese',\n",
      "       'language_Mandarin', 'language_Other', 'language_Portuguese',\n",
      "       'language_Russian', 'language_Spanish', 'language_Swedish',\n",
      "       'language_Turkish', 'genre_Action', 'genre_Adult', 'genre_Adventure',\n",
      "       'genre_Animation', 'genre_Biography', 'genre_Comedy', 'genre_Crime',\n",
      "       'genre_Documentary', 'genre_Drama', 'genre_Family', 'genre_Fantasy',\n",
      "       'genre_Film_Noir', 'genre_Game_Show', 'genre_History', 'genre_Horror',\n",
      "       'genre_Music', 'genre_Musical', 'genre_Mystery', 'genre_News',\n",
      "       'genre_None', 'genre_Reality_TV', 'genre_Romance', 'genre_Sci_Fi',\n",
      "       'genre_Short', 'genre_Sport', 'genre_Talk_Show', 'genre_Thriller',\n",
      "       'genre_War', 'genre_Western', 'title_category_TV',\n",
      "       'title_category_movie', 'title_category_video',\n",
      "       'title_subcategory_TV_episode', 'title_subcategory_TV_miniseries',\n",
      "       'title_subcategory_TV_movie', 'title_subcategory_TV_series',\n",
      "       'title_subcategory_TV_short', 'title_subcategory_movie',\n",
      "       'title_subcategory_video', 'birthYear', 'director_profession_primary',\n",
      "       'director_profession_secondary', 'director_profession_tertiary',\n",
      "       'director_known_titles_count',\n",
      "       'director_known_titles_average_rating_value', 'CareerStartYear',\n",
      "       'Career_Year_Number', 'Ceremony', 'Award_Actor',\n",
      "       'Award_Actor in a Leading Role', 'Award_Actor in a Supporting Role',\n",
      "       'Award_Actress', 'Award_Actress in a Leading Role',\n",
      "       'Award_Actress in a Supporting Role', 'Award_Assistant Director',\n",
      "       'Award_Directing', 'Award_Directing (Comedy Picture)',\n",
      "       'Award_Directing (Dramatic Picture)', 'Winner_Actor',\n",
      "       'Winner_Actor in a Leading Role', 'Winner_Actor in a Supporting Role',\n",
      "       'Winner_Actress', 'Winner_Actress in a Leading Role',\n",
      "       'Winner_Actress in a Supporting Role', 'Winner_Assistant Director',\n",
      "       'Winner_Directing', 'Winner_Directing (Comedy Picture)',\n",
      "       'Winner_Directing (Dramatic Picture)', 'awards_nominated',\n",
      "       'awards_won'],\n",
      "      dtype='object')\n",
      "\n",
      "[5.71837328e-02 5.30653765e-02 5.16763205e-02 4.52861035e-02\n",
      " 5.17774597e-02 4.85709729e-02 3.90634139e-02 4.92995863e-02\n",
      " 5.52355262e-02 5.71867504e-02 2.36512210e-03 3.38182953e-03\n",
      " 2.46923706e-03 7.03058014e-04 4.14895971e-04 5.42097531e-03\n",
      " 3.21213547e-03 5.53330358e-04 4.17687795e-04 3.24056987e-03\n",
      " 2.05378802e-03 2.12417112e-03 6.51379939e-03 6.50205772e-04\n",
      " 3.82972272e-03 5.86325411e-03 1.19416886e-04 1.77375549e-03\n",
      " 7.76329908e-03 0.00000000e+00 1.13668109e-02 2.61941831e-03\n",
      " 5.81250819e-03 9.76022246e-03 8.11062959e-03 1.64291641e-03\n",
      " 9.07334397e-03 5.45375551e-03 4.76487978e-03 0.00000000e+00\n",
      " 0.00000000e+00 2.27670203e-03 5.58452517e-03 3.72535126e-03\n",
      " 1.25004995e-03 4.57425447e-03 0.00000000e+00 0.00000000e+00\n",
      " 0.00000000e+00 9.67133494e-03 4.94543000e-03 0.00000000e+00\n",
      " 4.17906336e-03 0.00000000e+00 7.25101983e-03 2.41683930e-03\n",
      " 1.36588173e-03 0.00000000e+00 0.00000000e+00 0.00000000e+00\n",
      " 0.00000000e+00 0.00000000e+00 0.00000000e+00 0.00000000e+00\n",
      " 0.00000000e+00 0.00000000e+00 0.00000000e+00 7.09181150e-02\n",
      " 9.85245555e-03 1.16539299e-02 8.99519322e-03 2.79342518e-02\n",
      " 6.70103232e-02 6.66916543e-02 5.49640781e-02 5.05066354e-03\n",
      " 5.85440324e-05 1.02116943e-03 7.75011880e-04 5.01446324e-04\n",
      " 1.13878005e-03 8.97086437e-04 0.00000000e+00 0.00000000e+00\n",
      " 0.00000000e+00 0.00000000e+00 2.75283245e-04 5.51470555e-04\n",
      " 4.11886300e-04 4.68571391e-05 3.68506879e-04 2.88221496e-04\n",
      " 0.00000000e+00 0.00000000e+00 0.00000000e+00 0.00000000e+00\n",
      " 2.70006779e-03 8.34570016e-04]\n"
     ]
    }
   ],
   "source": [
    "score, rnd_forest,X, y ,X_train, X_test, y_train, y_test = report_accuracy_RF(data,\"Gender\")\n",
    "print_accuracy_feature_importance(score,X, rnd_forest)\n"
   ]
  },
  {
   "cell_type": "code",
   "execution_count": 18,
   "metadata": {},
   "outputs": [],
   "source": [
    "y_predict= rnd_forest.predict(X_test)\n"
   ]
  },
  {
   "cell_type": "code",
   "execution_count": 19,
   "metadata": {},
   "outputs": [
    {
     "name": "stdout",
     "output_type": "stream",
     "text": [
      "              precision    recall  f1-score   support\n",
      "\n",
      "           0       0.87      1.00      0.93       463\n",
      "           1       1.00      0.01      0.03        68\n",
      "\n",
      "    accuracy                           0.87       531\n",
      "   macro avg       0.94      0.51      0.48       531\n",
      "weighted avg       0.89      0.87      0.82       531\n",
      "\n"
     ]
    }
   ],
   "source": [
    "from sklearn.metrics import classification_report\n",
    "\n",
    "\n",
    "print(classification_report(y_test,y_predict,labels=[0,1]))"
   ]
  },
  {
   "cell_type": "code",
   "execution_count": 20,
   "metadata": {},
   "outputs": [
    {
     "name": "stdout",
     "output_type": "stream",
     "text": [
      "\n",
      "Area Under the Curve - ROC (OVO , Macro) :  0.5073529411764706\n"
     ]
    }
   ],
   "source": [
    "from sklearn.metrics import roc_auc_score\n",
    "\n",
    "\n",
    "y_prob = rnd_forest.predict_proba(X_test)\n",
    "ovo_macro_roc_auc = roc_auc_score(y_test, y_predict)\n",
    "print( \"\\nArea Under the Curve - ROC (OVO , Macro) : \",(ovo_macro_roc_auc))"
   ]
  },
  {
   "cell_type": "code",
   "execution_count": 21,
   "metadata": {},
   "outputs": [],
   "source": [
    "# rnd_forest"
   ]
  },
  {
   "cell_type": "code",
   "execution_count": 22,
   "metadata": {
    "scrolled": true
   },
   "outputs": [
    {
     "data": {
      "text/html": [
       "<div>\n",
       "<style scoped>\n",
       "    .dataframe tbody tr th:only-of-type {\n",
       "        vertical-align: middle;\n",
       "    }\n",
       "\n",
       "    .dataframe tbody tr th {\n",
       "        vertical-align: top;\n",
       "    }\n",
       "\n",
       "    .dataframe thead th {\n",
       "        text-align: right;\n",
       "    }\n",
       "</style>\n",
       "<table border=\"1\" class=\"dataframe\">\n",
       "  <thead>\n",
       "    <tr style=\"text-align: right;\">\n",
       "      <th></th>\n",
       "      <th>Male</th>\n",
       "      <th>Female</th>\n",
       "    </tr>\n",
       "  </thead>\n",
       "  <tbody>\n",
       "    <tr>\n",
       "      <td>precision</td>\n",
       "      <td>0.870000</td>\n",
       "      <td>1.000000</td>\n",
       "    </tr>\n",
       "    <tr>\n",
       "      <td>recall</td>\n",
       "      <td>1.000000</td>\n",
       "      <td>0.010000</td>\n",
       "    </tr>\n",
       "    <tr>\n",
       "      <td>f1-score</td>\n",
       "      <td>0.930000</td>\n",
       "      <td>0.030000</td>\n",
       "    </tr>\n",
       "    <tr>\n",
       "      <td>accuracy</td>\n",
       "      <td>0.873823</td>\n",
       "      <td>0.873823</td>\n",
       "    </tr>\n",
       "    <tr>\n",
       "      <td>AUC ROC</td>\n",
       "      <td>0.507353</td>\n",
       "      <td>0.507353</td>\n",
       "    </tr>\n",
       "  </tbody>\n",
       "</table>\n",
       "</div>"
      ],
      "text/plain": [
       "               Male    Female\n",
       "precision  0.870000  1.000000\n",
       "recall     1.000000  0.010000\n",
       "f1-score   0.930000  0.030000\n",
       "accuracy   0.873823  0.873823\n",
       "AUC ROC    0.507353  0.507353"
      ]
     },
     "execution_count": 22,
     "metadata": {},
     "output_type": "execute_result"
    }
   ],
   "source": [
    "customized_classification_report(y_test,y_predict, ovo_macro_roc_auc )\n"
   ]
  },
  {
   "cell_type": "code",
   "execution_count": null,
   "metadata": {},
   "outputs": [],
   "source": []
  },
  {
   "cell_type": "markdown",
   "metadata": {},
   "source": [
    "### Balanced on Gender"
   ]
  },
  {
   "cell_type": "code",
   "execution_count": 23,
   "metadata": {},
   "outputs": [],
   "source": [
    "# Generic function to equally max split the dataframe with respect to the column Name, in our case the Gender column.\n",
    "\n",
    "def max_equal_split_on_columnName(df,columnName):\n",
    "    df1 = pd.DataFrame()\n",
    "    for i in df[columnName].value_counts().index:\n",
    "        df1 = df1.append(df[(df[columnName]==i)]\n",
    "                         .sample(n=df[columnName]\n",
    "                                 .value_counts()\n",
    "                                 .values.min()\n",
    "                                 ,replace = False)\n",
    "                        )        \n",
    "    return df1.reset_index(drop=True)"
   ]
  },
  {
   "cell_type": "code",
   "execution_count": 24,
   "metadata": {},
   "outputs": [],
   "source": [
    "data3 = pd.read_csv(file_location)\n",
    "data3['Gender'] = data3['Gender'].map({'Male':0,'Female':1})"
   ]
  },
  {
   "cell_type": "code",
   "execution_count": 25,
   "metadata": {},
   "outputs": [
    {
     "data": {
      "text/plain": [
       "0    2311\n",
       "1     342\n",
       "Name: Gender, dtype: int64"
      ]
     },
     "execution_count": 25,
     "metadata": {},
     "output_type": "execute_result"
    }
   ],
   "source": [
    "data3.Gender.value_counts()"
   ]
  },
  {
   "cell_type": "code",
   "execution_count": 26,
   "metadata": {},
   "outputs": [],
   "source": [
    "balanced_data = max_equal_split_on_columnName(data3,'Gender')\n",
    "\n",
    "if data_1_2_3 == 1:\n",
    "    balanced_data = balanced_data.drop(columns=['director_ids', 'director_names','movie_id','title','primaryProfession', 'knownForTitles','date_published', 'release_date'])\n",
    "\n",
    "elif data_1_2_3 == 2 or data_1_2_3 ==3:\n",
    "    balanced_data = balanced_data.drop(columns=['director_ids', 'director_names', 'movie_id', 'title',\n",
    "       'release_date', 'Film', 'Name'])\n",
    "\n",
    "\n",
    "\n",
    "\n",
    "balanced_data.review_count_user = balanced_data.review_count_user.astype(int)\n",
    "balanced_data.review_count_critic = balanced_data.review_count_critic.astype(int)\n",
    "balanced_data.rating_value = balanced_data.rating_value.astype(float)\n",
    "balanced_data.rating_count = balanced_data.rating_count.astype(int)\n",
    "balanced_data.movie_year = balanced_data.movie_year.astype(int)\n",
    "balanced_data.birthYear = balanced_data.birthYear.astype(int)\n",
    "\n",
    "if data_1_2_3 == 2 or data_1_2_3 == 3:\n",
    "    balanced_data.metascore = balanced_data.metascore.astype(int)\n"
   ]
  },
  {
   "cell_type": "code",
   "execution_count": 27,
   "metadata": {},
   "outputs": [
    {
     "data": {
      "text/plain": [
       "(684, 99)"
      ]
     },
     "execution_count": 27,
     "metadata": {},
     "output_type": "execute_result"
    }
   ],
   "source": [
    "balanced_data.shape"
   ]
  },
  {
   "cell_type": "code",
   "execution_count": 28,
   "metadata": {},
   "outputs": [
    {
     "data": {
      "text/plain": [
       "1    342\n",
       "0    342\n",
       "Name: Gender, dtype: int64"
      ]
     },
     "execution_count": 28,
     "metadata": {},
     "output_type": "execute_result"
    }
   ],
   "source": [
    "balanced_data.Gender.value_counts()"
   ]
  },
  {
   "cell_type": "code",
   "execution_count": 29,
   "metadata": {},
   "outputs": [
    {
     "name": "stdout",
     "output_type": "stream",
     "text": [
      "The accuracy of the model is 0.6423357664233577.\n",
      "\n",
      "The input features included are Index(['review_count_user', 'review_count_critic', 'metascore', 'rating_value',\n",
      "       'rating_count', 'runtime', 'movie_year', 'opening_weekend_value',\n",
      "       'gross_value', 'budget_value', 'color_Black_and_White', 'color_Color',\n",
      "       'language_Arabic', 'language_Dutch', 'language_English',\n",
      "       'language_French', 'language_German', 'language_Greek',\n",
      "       'language_Hindi', 'language_Italian', 'language_Japanese',\n",
      "       'language_Mandarin', 'language_Other', 'language_Portuguese',\n",
      "       'language_Russian', 'language_Spanish', 'language_Swedish',\n",
      "       'language_Turkish', 'genre_Action', 'genre_Adult', 'genre_Adventure',\n",
      "       'genre_Animation', 'genre_Biography', 'genre_Comedy', 'genre_Crime',\n",
      "       'genre_Documentary', 'genre_Drama', 'genre_Family', 'genre_Fantasy',\n",
      "       'genre_Film_Noir', 'genre_Game_Show', 'genre_History', 'genre_Horror',\n",
      "       'genre_Music', 'genre_Musical', 'genre_Mystery', 'genre_News',\n",
      "       'genre_None', 'genre_Reality_TV', 'genre_Romance', 'genre_Sci_Fi',\n",
      "       'genre_Short', 'genre_Sport', 'genre_Talk_Show', 'genre_Thriller',\n",
      "       'genre_War', 'genre_Western', 'title_category_TV',\n",
      "       'title_category_movie', 'title_category_video',\n",
      "       'title_subcategory_TV_episode', 'title_subcategory_TV_miniseries',\n",
      "       'title_subcategory_TV_movie', 'title_subcategory_TV_series',\n",
      "       'title_subcategory_TV_short', 'title_subcategory_movie',\n",
      "       'title_subcategory_video', 'birthYear', 'director_profession_primary',\n",
      "       'director_profession_secondary', 'director_profession_tertiary',\n",
      "       'director_known_titles_count',\n",
      "       'director_known_titles_average_rating_value', 'CareerStartYear',\n",
      "       'Career_Year_Number', 'Ceremony', 'Award_Actor',\n",
      "       'Award_Actor in a Leading Role', 'Award_Actor in a Supporting Role',\n",
      "       'Award_Actress', 'Award_Actress in a Leading Role',\n",
      "       'Award_Actress in a Supporting Role', 'Award_Assistant Director',\n",
      "       'Award_Directing', 'Award_Directing (Comedy Picture)',\n",
      "       'Award_Directing (Dramatic Picture)', 'Winner_Actor',\n",
      "       'Winner_Actor in a Leading Role', 'Winner_Actor in a Supporting Role',\n",
      "       'Winner_Actress', 'Winner_Actress in a Leading Role',\n",
      "       'Winner_Actress in a Supporting Role', 'Winner_Assistant Director',\n",
      "       'Winner_Directing', 'Winner_Directing (Comedy Picture)',\n",
      "       'Winner_Directing (Dramatic Picture)', 'awards_nominated',\n",
      "       'awards_won'],\n",
      "      dtype='object') \n",
      "\n",
      "The corresponding feature importance is[5.79232269e-02 5.32553674e-02 4.26054543e-02 4.48104893e-02\n",
      " 5.89587900e-02 4.82733678e-02 3.86637325e-02 5.55038600e-02\n",
      " 5.15562906e-02 5.50458071e-02 2.65883922e-03 2.42712453e-03\n",
      " 2.45911970e-03 2.30030688e-04 3.37537082e-04 3.74874461e-03\n",
      " 3.03557815e-03 2.37266236e-04 5.79580587e-05 3.30116138e-03\n",
      " 2.33197679e-03 1.84343158e-03 7.70686405e-03 5.77822018e-04\n",
      " 4.15425681e-03 5.75802498e-03 4.95073270e-04 9.58120245e-04\n",
      " 1.25467871e-02 0.00000000e+00 8.34019313e-03 2.97982963e-03\n",
      " 5.63085237e-03 9.17431489e-03 8.61496179e-03 1.73287963e-03\n",
      " 8.82511763e-03 4.11455158e-03 4.50379332e-03 0.00000000e+00\n",
      " 0.00000000e+00 2.85873263e-03 4.02714844e-03 3.65723498e-03\n",
      " 1.57254979e-03 6.24551973e-03 0.00000000e+00 0.00000000e+00\n",
      " 0.00000000e+00 1.27508537e-02 5.66249613e-03 0.00000000e+00\n",
      " 2.95196846e-03 0.00000000e+00 9.66937354e-03 2.85144416e-03\n",
      " 2.13573868e-03 0.00000000e+00 0.00000000e+00 0.00000000e+00\n",
      " 0.00000000e+00 0.00000000e+00 0.00000000e+00 0.00000000e+00\n",
      " 0.00000000e+00 0.00000000e+00 0.00000000e+00 6.78591760e-02\n",
      " 1.40560287e-02 1.20057299e-02 8.30908405e-03 2.63377788e-02\n",
      " 5.98477145e-02 6.14429756e-02 5.92299028e-02 6.92743150e-03\n",
      " 1.48248076e-04 6.54021016e-04 1.15043299e-03 5.01328396e-04\n",
      " 2.00359554e-03 1.13629390e-03 0.00000000e+00 0.00000000e+00\n",
      " 0.00000000e+00 0.00000000e+00 6.04888537e-05 7.73423486e-04\n",
      " 1.09054479e-03 0.00000000e+00 3.37635507e-04 7.77460562e-05\n",
      " 0.00000000e+00 0.00000000e+00 0.00000000e+00 0.00000000e+00\n",
      " 4.57239254e-03 1.71637026e-03]\n"
     ]
    }
   ],
   "source": [
    "score3, rnd_forest3,X3, y3 ,X_train3, X_test3, y_train3, y_test3 = report_accuracy_RF(balanced_data,\"Gender\")\n",
    "\n",
    "print(f\"The accuracy of the model is {score3}.\")\n",
    "print()\n",
    "print(f'The input features included are {X3.columns} ')\n",
    "print()\n",
    "print(f'The corresponding feature importance is{rnd_forest3.feature_importances_}')"
   ]
  },
  {
   "cell_type": "code",
   "execution_count": 30,
   "metadata": {},
   "outputs": [
    {
     "name": "stdout",
     "output_type": "stream",
     "text": [
      "              precision    recall  f1-score   support\n",
      "\n",
      "           0       0.64      0.65      0.65        69\n",
      "           1       0.64      0.63      0.64        68\n",
      "\n",
      "    accuracy                           0.64       137\n",
      "   macro avg       0.64      0.64      0.64       137\n",
      "weighted avg       0.64      0.64      0.64       137\n",
      "\n"
     ]
    }
   ],
   "source": [
    "# y_true3 = y_test3.copy()\n",
    "y_predict3 = rnd_forest3.predict(X_test3)\n",
    "\n",
    "\n",
    "from sklearn.metrics import classification_report\n",
    "\n",
    "\n",
    "print(classification_report(y_test3,y_predict3,labels=[0,1]))"
   ]
  },
  {
   "cell_type": "code",
   "execution_count": 31,
   "metadata": {},
   "outputs": [
    {
     "name": "stdout",
     "output_type": "stream",
     "text": [
      "\n",
      "Area Under the Curve - ROC (OVO , Macro) :  0.6422634271099744\n"
     ]
    }
   ],
   "source": [
    "# y_prob3 = rnd_forest3.predict_proba(X_test3)\n",
    "ovo_macro_roc_auc3 = roc_auc_score(y_test3, y_predict3)\n",
    "print( \"\\nArea Under the Curve - ROC (OVO , Macro) : \",ovo_macro_roc_auc3)"
   ]
  },
  {
   "cell_type": "code",
   "execution_count": null,
   "metadata": {},
   "outputs": [],
   "source": []
  },
  {
   "cell_type": "code",
   "execution_count": 32,
   "metadata": {
    "scrolled": true
   },
   "outputs": [
    {
     "data": {
      "text/html": [
       "<div>\n",
       "<style scoped>\n",
       "    .dataframe tbody tr th:only-of-type {\n",
       "        vertical-align: middle;\n",
       "    }\n",
       "\n",
       "    .dataframe tbody tr th {\n",
       "        vertical-align: top;\n",
       "    }\n",
       "\n",
       "    .dataframe thead th {\n",
       "        text-align: right;\n",
       "    }\n",
       "</style>\n",
       "<table border=\"1\" class=\"dataframe\">\n",
       "  <thead>\n",
       "    <tr style=\"text-align: right;\">\n",
       "      <th></th>\n",
       "      <th>Male</th>\n",
       "      <th>Female</th>\n",
       "    </tr>\n",
       "  </thead>\n",
       "  <tbody>\n",
       "    <tr>\n",
       "      <td>precision</td>\n",
       "      <td>0.640000</td>\n",
       "      <td>0.640000</td>\n",
       "    </tr>\n",
       "    <tr>\n",
       "      <td>recall</td>\n",
       "      <td>0.650000</td>\n",
       "      <td>0.630000</td>\n",
       "    </tr>\n",
       "    <tr>\n",
       "      <td>f1-score</td>\n",
       "      <td>0.650000</td>\n",
       "      <td>0.640000</td>\n",
       "    </tr>\n",
       "    <tr>\n",
       "      <td>accuracy</td>\n",
       "      <td>0.642336</td>\n",
       "      <td>0.642336</td>\n",
       "    </tr>\n",
       "    <tr>\n",
       "      <td>AUC ROC</td>\n",
       "      <td>0.642263</td>\n",
       "      <td>0.642263</td>\n",
       "    </tr>\n",
       "  </tbody>\n",
       "</table>\n",
       "</div>"
      ],
      "text/plain": [
       "               Male    Female\n",
       "precision  0.640000  0.640000\n",
       "recall     0.650000  0.630000\n",
       "f1-score   0.650000  0.640000\n",
       "accuracy   0.642336  0.642336\n",
       "AUC ROC    0.642263  0.642263"
      ]
     },
     "execution_count": 32,
     "metadata": {},
     "output_type": "execute_result"
    }
   ],
   "source": [
    "customized_classification_report(y_test3,y_predict3, ovo_macro_roc_auc3 )"
   ]
  },
  {
   "cell_type": "code",
   "execution_count": null,
   "metadata": {},
   "outputs": [],
   "source": []
  },
  {
   "cell_type": "markdown",
   "metadata": {},
   "source": [
    "### Summary tables"
   ]
  },
  {
   "cell_type": "markdown",
   "metadata": {},
   "source": [
    "##### Unbalanced WITH Gender"
   ]
  },
  {
   "cell_type": "code",
   "execution_count": 33,
   "metadata": {},
   "outputs": [
    {
     "data": {
      "text/html": [
       "<div>\n",
       "<style scoped>\n",
       "    .dataframe tbody tr th:only-of-type {\n",
       "        vertical-align: middle;\n",
       "    }\n",
       "\n",
       "    .dataframe tbody tr th {\n",
       "        vertical-align: top;\n",
       "    }\n",
       "\n",
       "    .dataframe thead th {\n",
       "        text-align: right;\n",
       "    }\n",
       "</style>\n",
       "<table border=\"1\" class=\"dataframe\">\n",
       "  <thead>\n",
       "    <tr style=\"text-align: right;\">\n",
       "      <th></th>\n",
       "      <th>Male</th>\n",
       "      <th>Female</th>\n",
       "    </tr>\n",
       "  </thead>\n",
       "  <tbody>\n",
       "    <tr>\n",
       "      <td>precision</td>\n",
       "      <td>0.870000</td>\n",
       "      <td>1.000000</td>\n",
       "    </tr>\n",
       "    <tr>\n",
       "      <td>recall</td>\n",
       "      <td>1.000000</td>\n",
       "      <td>0.010000</td>\n",
       "    </tr>\n",
       "    <tr>\n",
       "      <td>f1-score</td>\n",
       "      <td>0.930000</td>\n",
       "      <td>0.030000</td>\n",
       "    </tr>\n",
       "    <tr>\n",
       "      <td>accuracy</td>\n",
       "      <td>0.873823</td>\n",
       "      <td>0.873823</td>\n",
       "    </tr>\n",
       "    <tr>\n",
       "      <td>AUC ROC</td>\n",
       "      <td>0.507353</td>\n",
       "      <td>0.507353</td>\n",
       "    </tr>\n",
       "  </tbody>\n",
       "</table>\n",
       "</div>"
      ],
      "text/plain": [
       "               Male    Female\n",
       "precision  0.870000  1.000000\n",
       "recall     1.000000  0.010000\n",
       "f1-score   0.930000  0.030000\n",
       "accuracy   0.873823  0.873823\n",
       "AUC ROC    0.507353  0.507353"
      ]
     },
     "execution_count": 33,
     "metadata": {},
     "output_type": "execute_result"
    }
   ],
   "source": [
    "customized_classification_report(y_test,y_predict, ovo_macro_roc_auc )\n"
   ]
  },
  {
   "cell_type": "markdown",
   "metadata": {},
   "source": [
    "##### Balanced on Gender"
   ]
  },
  {
   "cell_type": "code",
   "execution_count": 34,
   "metadata": {},
   "outputs": [
    {
     "data": {
      "text/html": [
       "<div>\n",
       "<style scoped>\n",
       "    .dataframe tbody tr th:only-of-type {\n",
       "        vertical-align: middle;\n",
       "    }\n",
       "\n",
       "    .dataframe tbody tr th {\n",
       "        vertical-align: top;\n",
       "    }\n",
       "\n",
       "    .dataframe thead th {\n",
       "        text-align: right;\n",
       "    }\n",
       "</style>\n",
       "<table border=\"1\" class=\"dataframe\">\n",
       "  <thead>\n",
       "    <tr style=\"text-align: right;\">\n",
       "      <th></th>\n",
       "      <th>Male</th>\n",
       "      <th>Female</th>\n",
       "    </tr>\n",
       "  </thead>\n",
       "  <tbody>\n",
       "    <tr>\n",
       "      <td>precision</td>\n",
       "      <td>0.640000</td>\n",
       "      <td>0.640000</td>\n",
       "    </tr>\n",
       "    <tr>\n",
       "      <td>recall</td>\n",
       "      <td>0.650000</td>\n",
       "      <td>0.630000</td>\n",
       "    </tr>\n",
       "    <tr>\n",
       "      <td>f1-score</td>\n",
       "      <td>0.650000</td>\n",
       "      <td>0.640000</td>\n",
       "    </tr>\n",
       "    <tr>\n",
       "      <td>accuracy</td>\n",
       "      <td>0.642336</td>\n",
       "      <td>0.642336</td>\n",
       "    </tr>\n",
       "    <tr>\n",
       "      <td>AUC ROC</td>\n",
       "      <td>0.642263</td>\n",
       "      <td>0.642263</td>\n",
       "    </tr>\n",
       "  </tbody>\n",
       "</table>\n",
       "</div>"
      ],
      "text/plain": [
       "               Male    Female\n",
       "precision  0.640000  0.640000\n",
       "recall     0.650000  0.630000\n",
       "f1-score   0.650000  0.640000\n",
       "accuracy   0.642336  0.642336\n",
       "AUC ROC    0.642263  0.642263"
      ]
     },
     "execution_count": 34,
     "metadata": {},
     "output_type": "execute_result"
    }
   ],
   "source": [
    "customized_classification_report(y_test3,y_predict3, ovo_macro_roc_auc3 )"
   ]
  },
  {
   "cell_type": "code",
   "execution_count": 35,
   "metadata": {},
   "outputs": [
    {
     "ename": "SyntaxError",
     "evalue": "'break' outside loop (<ipython-input-35-6aaf1f276005>, line 4)",
     "output_type": "error",
     "traceback": [
      "\u001b[1;36m  File \u001b[1;32m\"<ipython-input-35-6aaf1f276005>\"\u001b[1;36m, line \u001b[1;32m4\u001b[0m\n\u001b[1;31mSyntaxError\u001b[0m\u001b[1;31m:\u001b[0m 'break' outside loop\n"
     ]
    }
   ],
   "source": [
    "break"
   ]
  },
  {
   "cell_type": "code",
   "execution_count": null,
   "metadata": {},
   "outputs": [],
   "source": []
  },
  {
   "cell_type": "markdown",
   "metadata": {},
   "source": [
    "### Shap "
   ]
  },
  {
   "cell_type": "code",
   "execution_count": null,
   "metadata": {},
   "outputs": [],
   "source": [
    "import shap\n",
    "shap.initjs()\n"
   ]
  },
  {
   "cell_type": "code",
   "execution_count": null,
   "metadata": {},
   "outputs": [],
   "source": [
    "# explainer = shap.TreeExplainer(rnd_fores)\n",
    "explainer = shap.TreeExplainer(rnd_forest)\n",
    "shap_values = explainer.shap_values(X_test)"
   ]
  },
  {
   "cell_type": "code",
   "execution_count": null,
   "metadata": {},
   "outputs": [],
   "source": [
    "explainer.expected_value"
   ]
  },
  {
   "cell_type": "code",
   "execution_count": null,
   "metadata": {},
   "outputs": [],
   "source": [
    "rnd_forest.classes_"
   ]
  },
  {
   "cell_type": "code",
   "execution_count": null,
   "metadata": {},
   "outputs": [],
   "source": [
    "shap_values[0].shape, y_test.shape, X_test.shape"
   ]
  },
  {
   "cell_type": "code",
   "execution_count": null,
   "metadata": {},
   "outputs": [],
   "source": [
    "shap_values[0].shape,shap_values[1].shape,shap_values[2].shape,shap_values[3].shape"
   ]
  },
  {
   "cell_type": "code",
   "execution_count": null,
   "metadata": {},
   "outputs": [],
   "source": [
    "y_test"
   ]
  },
  {
   "cell_type": "code",
   "execution_count": null,
   "metadata": {},
   "outputs": [],
   "source": [
    "shap.summary_plot(shap_values, X,class_names=rnd_forest.classes_,show=False)\n",
    "import matplotlib.pyplot as pl\n",
    "pl.savefig(\"Movies_Dataset_2_Global_Feature_Importance.png\",bbox_inches = 'tight')"
   ]
  },
  {
   "cell_type": "code",
   "execution_count": null,
   "metadata": {
    "scrolled": false
   },
   "outputs": [],
   "source": [
    "# for i in range(4):\n",
    "#     shap.summary_plot(shap_values[i], X_test) "
   ]
  },
  {
   "cell_type": "code",
   "execution_count": null,
   "metadata": {},
   "outputs": [],
   "source": [
    "import matplotlib.pyplot as pl\n",
    "shap.summary_plot(shap_values[0], X_test,show=False)\n",
    "pl.savefig(\"Data2_summary_plot_Class_Avg.png\",bbox_inches = 'tight')"
   ]
  },
  {
   "cell_type": "code",
   "execution_count": null,
   "metadata": {},
   "outputs": [],
   "source": [
    "shap.summary_plot(shap_values[1], X_test,show=False)\n",
    "pl.savefig(\"Data2_summary_plot_Class_Excellent.png\",bbox_inches = 'tight')"
   ]
  },
  {
   "cell_type": "code",
   "execution_count": null,
   "metadata": {},
   "outputs": [],
   "source": [
    "shap.summary_plot(shap_values[2], X_test,show=False)\n",
    "pl.savefig(\"Data2_summary_plot_Class_Poor.png\",bbox_inches = 'tight')"
   ]
  },
  {
   "cell_type": "code",
   "execution_count": null,
   "metadata": {},
   "outputs": [],
   "source": [
    "shap.summary_plot(shap_values[3], X_test,show=False)\n",
    "pl.savefig(\"Data2_summary_plot_Class_Terrible.png\",bbox_inches = 'tight')"
   ]
  },
  {
   "cell_type": "code",
   "execution_count": null,
   "metadata": {},
   "outputs": [],
   "source": []
  },
  {
   "cell_type": "code",
   "execution_count": null,
   "metadata": {},
   "outputs": [],
   "source": []
  },
  {
   "cell_type": "code",
   "execution_count": null,
   "metadata": {},
   "outputs": [],
   "source": [
    "shap.dependence_plot(\"Gender_FEMALE\", shap_values[1], X_test, interaction_index=\"review_count_user\") "
   ]
  },
  {
   "cell_type": "code",
   "execution_count": null,
   "metadata": {},
   "outputs": [],
   "source": [
    "shap.dependence_plot(\"Gender_MALE\", shap_values[1], X_test, interaction_index=\"review_count_user\") "
   ]
  },
  {
   "cell_type": "code",
   "execution_count": null,
   "metadata": {
    "scrolled": false
   },
   "outputs": [],
   "source": [
    "# # (sum of SHAP value magnitudes over the validation dataset)\n",
    "# top_inds = np.argsort(-np.sum(np.abs(shap_values[0]), 0))\n",
    "\n",
    "# # make SHAP plots of the three most important features\n",
    "# for i in range(20):\n",
    "# #     shap.dependence_plot(top_inds[i], shap_values[0], X_test,interaction_index=\"Gender_FEMALE\")\n",
    "#     shap.dependence_plot(\"Gender_FEMALE\", shap_values[3], X_test,interaction_index=top_inds[i])"
   ]
  },
  {
   "cell_type": "code",
   "execution_count": null,
   "metadata": {},
   "outputs": [],
   "source": []
  },
  {
   "cell_type": "code",
   "execution_count": null,
   "metadata": {},
   "outputs": [],
   "source": []
  },
  {
   "cell_type": "code",
   "execution_count": null,
   "metadata": {},
   "outputs": [],
   "source": []
  },
  {
   "cell_type": "code",
   "execution_count": null,
   "metadata": {
    "scrolled": false
   },
   "outputs": [],
   "source": [
    "# # make SHAP plots of the three most important features\n",
    "# for i in range(20):\n",
    "# #     shap.dependence_plot(top_inds[i], shap_values[0], X_test,interaction_index=\"Gender_FEMALE\")\n",
    "#     shap.dependence_plot(\"Gender_MALE\", shap_values[3], X_test,interaction_index=top_inds[i])"
   ]
  },
  {
   "cell_type": "code",
   "execution_count": null,
   "metadata": {},
   "outputs": [],
   "source": []
  },
  {
   "cell_type": "code",
   "execution_count": null,
   "metadata": {},
   "outputs": [],
   "source": []
  },
  {
   "cell_type": "code",
   "execution_count": null,
   "metadata": {},
   "outputs": [],
   "source": []
  },
  {
   "cell_type": "code",
   "execution_count": null,
   "metadata": {},
   "outputs": [],
   "source": [
    "choosen_instance = X_test.loc[[1744]]"
   ]
  },
  {
   "cell_type": "code",
   "execution_count": null,
   "metadata": {},
   "outputs": [],
   "source": [
    "# choosen_instance = X_test.loc[[583]]\n",
    "shap_values = explainer.shap_values(choosen_instance)\n",
    "shap.initjs()\n",
    "\n",
    "\n",
    "shap.force_plot(explainer.expected_value[0], shap_values[0], choosen_instance,show=False,matplotlib=True)\\\n",
    "    .savefig(\"Data2_FORCE_plot_Class_Average.png\",bbox_inches = 'tight')\n",
    "\n"
   ]
  },
  {
   "cell_type": "code",
   "execution_count": null,
   "metadata": {},
   "outputs": [],
   "source": [
    "# choosen_instance = X_test.loc[[583]]\n",
    "shap_values = explainer.shap_values(choosen_instance)\n",
    "shap.initjs()\n",
    "\n",
    "\n",
    "shap.force_plot(explainer.expected_value[1], shap_values[1], choosen_instance,show=False,matplotlib=True)\\\n",
    "    .savefig(\"Data2_FORCE_plot_Class_Excellent.png\",bbox_inches = 'tight')"
   ]
  },
  {
   "cell_type": "code",
   "execution_count": null,
   "metadata": {},
   "outputs": [],
   "source": [
    "# choosen_instance = X_test.loc[[583]]\n",
    "shap_values = explainer.shap_values(choosen_instance)\n",
    "shap.initjs()\n",
    "\n",
    "\n",
    "shap.force_plot(explainer.expected_value[2], shap_values[2], choosen_instance,show=False,matplotlib=True)\\\n",
    "    .savefig(\"Data2_FORCE_plot_Class_Poor.png\",bbox_inches = 'tight')"
   ]
  },
  {
   "cell_type": "code",
   "execution_count": null,
   "metadata": {},
   "outputs": [],
   "source": [
    "# choosen_instance = X_test.loc[[583]]\n",
    "shap_values = explainer.shap_values(choosen_instance)\n",
    "shap.initjs()\n",
    "\n",
    "\n",
    "shap.force_plot(explainer.expected_value[3], shap_values[3], choosen_instance,show=False,matplotlib=True)\\\n",
    "    .savefig(\"Data2_FORCE_plot_Class_Terrible.png\",bbox_inches = 'tight')"
   ]
  },
  {
   "cell_type": "code",
   "execution_count": null,
   "metadata": {},
   "outputs": [],
   "source": [
    "break"
   ]
  },
  {
   "cell_type": "markdown",
   "metadata": {},
   "source": [
    "### Feature Importance from SKlearn"
   ]
  },
  {
   "cell_type": "code",
   "execution_count": null,
   "metadata": {},
   "outputs": [],
   "source": [
    "feature_importances = dict(zip(X_test.columns, rnd_forest.feature_importances_))"
   ]
  },
  {
   "cell_type": "code",
   "execution_count": null,
   "metadata": {},
   "outputs": [],
   "source": [
    "b = pd.DataFrame(list(feature_importances.items()), columns=['Column_name','feature_importance'])"
   ]
  },
  {
   "cell_type": "code",
   "execution_count": null,
   "metadata": {},
   "outputs": [],
   "source": [
    "b.to_excel('Data2_feature_importance.xlsx')"
   ]
  },
  {
   "cell_type": "code",
   "execution_count": null,
   "metadata": {},
   "outputs": [],
   "source": [
    "c = b.sort_values(by=['feature_importance'], ascending=False)"
   ]
  },
  {
   "cell_type": "code",
   "execution_count": null,
   "metadata": {},
   "outputs": [],
   "source": [
    "c"
   ]
  },
  {
   "cell_type": "code",
   "execution_count": null,
   "metadata": {},
   "outputs": [],
   "source": [
    "from sklearn.inspection import permutation_importance"
   ]
  },
  {
   "cell_type": "code",
   "execution_count": null,
   "metadata": {},
   "outputs": [],
   "source": [
    "result = permutation_importance(rnd_forest, X_test, y_test, n_repeats=10, random_state=0)"
   ]
  },
  {
   "cell_type": "code",
   "execution_count": null,
   "metadata": {},
   "outputs": [],
   "source": [
    "result.get('importances_mean').shape"
   ]
  },
  {
   "cell_type": "code",
   "execution_count": null,
   "metadata": {},
   "outputs": [],
   "source": [
    "feature_importances2 = dict(zip(X.columns,result.importances_mean))\n",
    "d = pd.DataFrame(list(feature_importances2.items()), columns=['Column_name','feature_importance'])\n",
    "e = d.sort_values(by=['feature_importance'], ascending=False)"
   ]
  },
  {
   "cell_type": "code",
   "execution_count": null,
   "metadata": {},
   "outputs": [],
   "source": [
    "e.to_excel('Feature_importances_Data2_permutation_importance_test_data.xlsx')"
   ]
  },
  {
   "cell_type": "code",
   "execution_count": null,
   "metadata": {},
   "outputs": [],
   "source": []
  },
  {
   "cell_type": "code",
   "execution_count": null,
   "metadata": {},
   "outputs": [],
   "source": [
    "for i in zip(X_test.columns, rnd_forest.feature_importances_):\n",
    "    print(i)"
   ]
  },
  {
   "cell_type": "code",
   "execution_count": null,
   "metadata": {},
   "outputs": [],
   "source": []
  },
  {
   "cell_type": "code",
   "execution_count": null,
   "metadata": {},
   "outputs": [],
   "source": []
  },
  {
   "cell_type": "code",
   "execution_count": null,
   "metadata": {},
   "outputs": [],
   "source": []
  },
  {
   "cell_type": "code",
   "execution_count": null,
   "metadata": {},
   "outputs": [],
   "source": []
  }
 ],
 "metadata": {
  "kernelspec": {
   "display_name": "Python 3",
   "language": "python",
   "name": "python3"
  },
  "language_info": {
   "codemirror_mode": {
    "name": "ipython",
    "version": 3
   },
   "file_extension": ".py",
   "mimetype": "text/x-python",
   "name": "python",
   "nbconvert_exporter": "python",
   "pygments_lexer": "ipython3",
   "version": "3.7.4"
  }
 },
 "nbformat": 4,
 "nbformat_minor": 2
}
