{
 "cells": [
  {
   "cell_type": "code",
   "execution_count": 1,
   "metadata": {},
   "outputs": [],
   "source": [
    "import pandas as pd\n",
    "import numpy as np\n"
   ]
  },
  {
   "cell_type": "markdown",
   "metadata": {},
   "source": [
    "## Unbalanced Data"
   ]
  },
  {
   "cell_type": "code",
   "execution_count": 2,
   "metadata": {},
   "outputs": [],
   "source": [
    "#Select feature to predict on\n",
    "\n",
    "feature = 'Gender'\n",
    "data_1_2_3 = 3\n"
   ]
  },
  {
   "cell_type": "code",
   "execution_count": 3,
   "metadata": {},
   "outputs": [
    {
     "data": {
      "text/plain": [
       "(1215, 56)"
      ]
     },
     "execution_count": 3,
     "metadata": {},
     "output_type": "execute_result"
    }
   ],
   "source": [
    "#Choosing file path\n",
    "\n",
    "\n",
    "if data_1_2_3 ==1:\n",
    "    file_location = 'D:\\\\Victor Yotov\\\\ITU\\\\3rd Semester\\\\Research Project\\\\data\\\\Directors_Dataset\\\\1_Director_Data_Mar-21-2020.csv'\n",
    "elif data_1_2_3 == 2:\n",
    "    file_location = 'D:\\\\Victor Yotov\\\\ITU\\\\3rd Semester\\\\Research Project\\\\data\\\\Directors_Dataset\\\\2_Director_Data_Enhanced_May-10-2020.csv'\n",
    "elif data_1_2_3 == 3:\n",
    "    file_location = 'D:\\\\Victor Yotov\\\\ITU\\\\3rd Semester\\\\Research Project\\\\data\\\\Directors_Dataset\\\\3_USA_Director_Specific_dataset_May-15-2020.csv'\n",
    "else:\n",
    "    raise ValueError('Wrong INTEGER provided.') \n",
    "    \n",
    "data = pd.read_csv(file_location)\n",
    "\n",
    "data.shape"
   ]
  },
  {
   "cell_type": "code",
   "execution_count": 4,
   "metadata": {},
   "outputs": [
    {
     "data": {
      "text/plain": [
       "'D:\\\\Victor Yotov\\\\ITU\\\\3rd Semester\\\\Research Project\\\\data\\\\Directors_Dataset\\\\3_USA_Director_Specific_dataset_May-15-2020.csv'"
      ]
     },
     "execution_count": 4,
     "metadata": {},
     "output_type": "execute_result"
    }
   ],
   "source": [
    "file_location"
   ]
  },
  {
   "cell_type": "code",
   "execution_count": 5,
   "metadata": {},
   "outputs": [
    {
     "data": {
      "text/html": [
       "<div>\n",
       "<style scoped>\n",
       "    .dataframe tbody tr th:only-of-type {\n",
       "        vertical-align: middle;\n",
       "    }\n",
       "\n",
       "    .dataframe tbody tr th {\n",
       "        vertical-align: top;\n",
       "    }\n",
       "\n",
       "    .dataframe thead th {\n",
       "        text-align: right;\n",
       "    }\n",
       "</style>\n",
       "<table border=\"1\" class=\"dataframe\">\n",
       "  <thead>\n",
       "    <tr style=\"text-align: right;\">\n",
       "      <th></th>\n",
       "      <th>director_ids</th>\n",
       "      <th>director_name</th>\n",
       "      <th>average_rating_value</th>\n",
       "      <th>average_rating_count</th>\n",
       "      <th>movies_produced</th>\n",
       "      <th>career_Length</th>\n",
       "      <th>CareerStartYear</th>\n",
       "      <th>Gender</th>\n",
       "      <th>birthYear</th>\n",
       "      <th>median_inter_event_time</th>\n",
       "      <th>...</th>\n",
       "      <th>total_genre_Romance</th>\n",
       "      <th>total_genre_Sci_Fi</th>\n",
       "      <th>total_genre_Short</th>\n",
       "      <th>total_genre_Sport</th>\n",
       "      <th>total_genre_Talk_Show</th>\n",
       "      <th>total_genre_Thriller</th>\n",
       "      <th>total_genre_War</th>\n",
       "      <th>total_genre_Western</th>\n",
       "      <th>average_movie_per_year</th>\n",
       "      <th>num_genres_directed</th>\n",
       "    </tr>\n",
       "  </thead>\n",
       "  <tbody>\n",
       "    <tr>\n",
       "      <td>0</td>\n",
       "      <td>nm0000040</td>\n",
       "      <td>Stanley Kubrick</td>\n",
       "      <td>7.30</td>\n",
       "      <td>231646.00</td>\n",
       "      <td>1</td>\n",
       "      <td>49</td>\n",
       "      <td>1951</td>\n",
       "      <td>Male</td>\n",
       "      <td>1928</td>\n",
       "      <td>0.0</td>\n",
       "      <td>...</td>\n",
       "      <td>0</td>\n",
       "      <td>0</td>\n",
       "      <td>0</td>\n",
       "      <td>0</td>\n",
       "      <td>0</td>\n",
       "      <td>1</td>\n",
       "      <td>0</td>\n",
       "      <td>0</td>\n",
       "      <td>0.02</td>\n",
       "      <td>3</td>\n",
       "    </tr>\n",
       "    <tr>\n",
       "      <td>1</td>\n",
       "      <td>nm0000095</td>\n",
       "      <td>Woody Allen</td>\n",
       "      <td>6.91</td>\n",
       "      <td>64233.13</td>\n",
       "      <td>15</td>\n",
       "      <td>51</td>\n",
       "      <td>1966</td>\n",
       "      <td>Male</td>\n",
       "      <td>1935</td>\n",
       "      <td>1.0</td>\n",
       "      <td>...</td>\n",
       "      <td>8</td>\n",
       "      <td>0</td>\n",
       "      <td>0</td>\n",
       "      <td>0</td>\n",
       "      <td>0</td>\n",
       "      <td>1</td>\n",
       "      <td>0</td>\n",
       "      <td>0</td>\n",
       "      <td>0.29</td>\n",
       "      <td>7</td>\n",
       "    </tr>\n",
       "    <tr>\n",
       "      <td>2</td>\n",
       "      <td>nm0000104</td>\n",
       "      <td>Antonio Banderas</td>\n",
       "      <td>6.30</td>\n",
       "      <td>5964.00</td>\n",
       "      <td>1</td>\n",
       "      <td>1</td>\n",
       "      <td>1999</td>\n",
       "      <td>Male</td>\n",
       "      <td>1960</td>\n",
       "      <td>0.0</td>\n",
       "      <td>...</td>\n",
       "      <td>0</td>\n",
       "      <td>0</td>\n",
       "      <td>0</td>\n",
       "      <td>0</td>\n",
       "      <td>0</td>\n",
       "      <td>0</td>\n",
       "      <td>0</td>\n",
       "      <td>0</td>\n",
       "      <td>1.00</td>\n",
       "      <td>3</td>\n",
       "    </tr>\n",
       "    <tr>\n",
       "      <td>3</td>\n",
       "      <td>nm0000106</td>\n",
       "      <td>Drew Barrymore</td>\n",
       "      <td>6.90</td>\n",
       "      <td>56419.00</td>\n",
       "      <td>1</td>\n",
       "      <td>6</td>\n",
       "      <td>2004</td>\n",
       "      <td>Male</td>\n",
       "      <td>1975</td>\n",
       "      <td>0.0</td>\n",
       "      <td>...</td>\n",
       "      <td>0</td>\n",
       "      <td>0</td>\n",
       "      <td>0</td>\n",
       "      <td>1</td>\n",
       "      <td>0</td>\n",
       "      <td>0</td>\n",
       "      <td>0</td>\n",
       "      <td>0</td>\n",
       "      <td>0.17</td>\n",
       "      <td>2</td>\n",
       "    </tr>\n",
       "    <tr>\n",
       "      <td>4</td>\n",
       "      <td>nm0000108</td>\n",
       "      <td>Luc Besson</td>\n",
       "      <td>6.30</td>\n",
       "      <td>89739.00</td>\n",
       "      <td>1</td>\n",
       "      <td>33</td>\n",
       "      <td>1981</td>\n",
       "      <td>Male</td>\n",
       "      <td>1959</td>\n",
       "      <td>0.0</td>\n",
       "      <td>...</td>\n",
       "      <td>0</td>\n",
       "      <td>0</td>\n",
       "      <td>0</td>\n",
       "      <td>0</td>\n",
       "      <td>0</td>\n",
       "      <td>1</td>\n",
       "      <td>0</td>\n",
       "      <td>0</td>\n",
       "      <td>0.03</td>\n",
       "      <td>3</td>\n",
       "    </tr>\n",
       "  </tbody>\n",
       "</table>\n",
       "<p>5 rows × 56 columns</p>\n",
       "</div>"
      ],
      "text/plain": [
       "  director_ids     director_name  average_rating_value  average_rating_count  \\\n",
       "0    nm0000040   Stanley Kubrick                  7.30             231646.00   \n",
       "1    nm0000095       Woody Allen                  6.91              64233.13   \n",
       "2    nm0000104  Antonio Banderas                  6.30               5964.00   \n",
       "3    nm0000106    Drew Barrymore                  6.90              56419.00   \n",
       "4    nm0000108        Luc Besson                  6.30              89739.00   \n",
       "\n",
       "   movies_produced  career_Length  CareerStartYear Gender  birthYear  \\\n",
       "0                1             49             1951   Male       1928   \n",
       "1               15             51             1966   Male       1935   \n",
       "2                1              1             1999   Male       1960   \n",
       "3                1              6             2004   Male       1975   \n",
       "4                1             33             1981   Male       1959   \n",
       "\n",
       "   median_inter_event_time  ...  total_genre_Romance  total_genre_Sci_Fi  \\\n",
       "0                      0.0  ...                    0                   0   \n",
       "1                      1.0  ...                    8                   0   \n",
       "2                      0.0  ...                    0                   0   \n",
       "3                      0.0  ...                    0                   0   \n",
       "4                      0.0  ...                    0                   0   \n",
       "\n",
       "   total_genre_Short  total_genre_Sport  total_genre_Talk_Show  \\\n",
       "0                  0                  0                      0   \n",
       "1                  0                  0                      0   \n",
       "2                  0                  0                      0   \n",
       "3                  0                  1                      0   \n",
       "4                  0                  0                      0   \n",
       "\n",
       "   total_genre_Thriller  total_genre_War  total_genre_Western  \\\n",
       "0                     1                0                    0   \n",
       "1                     1                0                    0   \n",
       "2                     0                0                    0   \n",
       "3                     0                0                    0   \n",
       "4                     1                0                    0   \n",
       "\n",
       "   average_movie_per_year  num_genres_directed  \n",
       "0                    0.02                    3  \n",
       "1                    0.29                    7  \n",
       "2                    1.00                    3  \n",
       "3                    0.17                    2  \n",
       "4                    0.03                    3  \n",
       "\n",
       "[5 rows x 56 columns]"
      ]
     },
     "execution_count": 5,
     "metadata": {},
     "output_type": "execute_result"
    }
   ],
   "source": [
    "data.head(5)"
   ]
  },
  {
   "cell_type": "code",
   "execution_count": 6,
   "metadata": {},
   "outputs": [],
   "source": [
    "#If 1 ---- MovieDataset 1\n",
    "if data_1_2_3 == 1:\n",
    "     data = data.drop(columns=['director_ids', 'director_name','primaryProfession', 'knownForTitles'])\n",
    "    \n",
    "elif data_1_2_3 == 2 or data_1_2_3 ==3:\n",
    "    data = data.drop(columns=['director_ids', 'director_name'])\n",
    "\n",
    "    \n",
    "# data.drop(columns=['director_ids', 'director_names','movie_id','title','primaryProfession', 'knownForTitles','date_published', 'release_date'],inplace=True)\n",
    "# data = data.drop(columns=['director_ids', 'director_names', 'movie_id', 'title',\n",
    "#        'release_date', 'Film', 'Name'])"
   ]
  },
  {
   "cell_type": "code",
   "execution_count": 7,
   "metadata": {},
   "outputs": [],
   "source": [
    "data['Gender'] = data['Gender'].map({'Male':0,'Female':1})\n",
    "\n"
   ]
  },
  {
   "cell_type": "code",
   "execution_count": 8,
   "metadata": {},
   "outputs": [
    {
     "data": {
      "text/plain": [
       "0    1038\n",
       "1     177\n",
       "Name: Gender, dtype: int64"
      ]
     },
     "execution_count": 8,
     "metadata": {},
     "output_type": "execute_result"
    }
   ],
   "source": [
    "data['Gender'].value_counts()"
   ]
  },
  {
   "cell_type": "code",
   "execution_count": null,
   "metadata": {},
   "outputs": [],
   "source": []
  },
  {
   "cell_type": "code",
   "execution_count": 9,
   "metadata": {},
   "outputs": [],
   "source": [
    "from sklearn.ensemble import RandomForestClassifier\n",
    "from sklearn.model_selection import train_test_split\n",
    "from sklearn.metrics import confusion_matrix\n",
    "from string import ascii_uppercase\n",
    "import seaborn as sn\n",
    "\n",
    "def report_accuracy_RF(dataframe, predicted_feature, numberEstimators=100):\n",
    "    #Splitting X and y\n",
    "    X = dataframe[dataframe.columns.difference([predicted_feature],sort=False)]\n",
    "    y = dataframe[predicted_feature]\n",
    "    \n",
    "    #Initialize Random Forest\n",
    "    rnd_forest = RandomForestClassifier(n_estimators=numberEstimators, class_weight='balanced', random_state=52)\n",
    "\n",
    "#     rnd_forest = RandomForestClassifier(n_estimators=numberEstimators, class_weight='balanced', oob_score=True)\n",
    "#     rnd_forest = RandomForestClassifier(n_estimators=numberEstimators, oob_score=True)\n",
    "\n",
    "    X_train, X_test, y_train, y_test = train_test_split(X, y, test_size=0.2, random_state=42, stratify=y)\n",
    "    \n",
    "    rnd_forest.fit(X_train,y_train.values.ravel())\n",
    "    score = rnd_forest.score(X_test,y_test)\n",
    "    \n",
    "    return score, rnd_forest,X, y ,X_train, X_test, y_train, y_test\n",
    "    "
   ]
  },
  {
   "cell_type": "code",
   "execution_count": 10,
   "metadata": {},
   "outputs": [],
   "source": [
    "def create_cnf_matrix(y_test, X_test, model):\n",
    "    \n",
    "    y_true = y_test.copy()\n",
    "    y_predict = model.predict(X_test)\n",
    "    \n",
    "### C_0_0 = TP - male being classified as a male\n",
    "### C_0_1 = Males being identified as femals\n",
    "### C_1_0 = Female being identified as male\n",
    "### C_1_1 = TN female identified as female  \n",
    "\n",
    "    #define the order of classes appearing in the matrix\n",
    "    labels = ['Terrible','Poor','Average','Excellent']\n",
    "    cnf_matrix = confusion_matrix(y_true, y_predict,  labels=labels)\n",
    "    \n",
    "    return cnf_matrix\n",
    "    "
   ]
  },
  {
   "cell_type": "code",
   "execution_count": 11,
   "metadata": {},
   "outputs": [],
   "source": [
    "def calculate_confusion_matrix_metrics(confusion_matrix):\n",
    "    #source:\n",
    "    #https://stackoverflow.com/questions/50666091/true-positive-rate-and-false-positive-rate-tpr-fpr-for-multi-class-data-in-py\n",
    "    \n",
    "    FP = confusion_matrix.sum(axis=0) - np.diag(confusion_matrix)  \n",
    "    FN = confusion_matrix.sum(axis=1) - np.diag(confusion_matrix)\n",
    "    TP = np.diag(confusion_matrix)\n",
    "    TN = confusion_matrix.sum() - (FP + FN + TP)\n",
    "\n",
    "    FP = FP.astype(float)\n",
    "    FN = FN.astype(float)\n",
    "    TP = TP.astype(float)\n",
    "    TN = TN.astype(float)\n",
    "    \n",
    "    return TN, FP, FN, TP"
   ]
  },
  {
   "cell_type": "code",
   "execution_count": 12,
   "metadata": {},
   "outputs": [],
   "source": [
    "def print_accuracy_feature_importance(score, X, model):\n",
    "    \n",
    "    print(f'The accuracy of the model is equal to {score} %')\n",
    "    print()\n",
    "    print(X.columns)\n",
    "    print()\n",
    "    print(model.feature_importances_)\n",
    "    "
   ]
  },
  {
   "cell_type": "code",
   "execution_count": 13,
   "metadata": {},
   "outputs": [],
   "source": [
    "def customized_classification_report(y_true,y_pred, AUCROC ):\n",
    "\n",
    "    cols_to_use_classification_report = ['0','1','accuracy']\n",
    "\n",
    "    reportGBClassification = classification_report(y_true,y_pred, output_dict=True)\n",
    "\n",
    "    reportDF = pd.DataFrame(reportGBClassification, columns = cols_to_use_classification_report)[0:3]\n",
    "    reportDF.columns = ['Male','Female','accuracy']\n",
    "\n",
    "    reportDF[['Male','Female']] = reportDF[['Male','Female']].round(2)\n",
    "    accuracyRow = reportDF['accuracy'].unique().tolist()\n",
    "\n",
    "    reportDF.drop(columns='accuracy',inplace= True)\n",
    "\n",
    "    reportDF.loc[len(reportDF)] = 2 * accuracyRow\n",
    "    reportDF.loc[len(reportDF)] = 2 * [AUCROC]\n",
    "\n",
    "    reportDF = reportDF.rename(index = {3:'accuracy',4:'AUC ROC'})\n",
    "    return reportDF\n"
   ]
  },
  {
   "cell_type": "code",
   "execution_count": 14,
   "metadata": {},
   "outputs": [
    {
     "name": "stdout",
     "output_type": "stream",
     "text": [
      "The accuracy of the model is equal to 0.8559670781893004 %\n",
      "\n",
      "Index(['average_rating_value', 'average_rating_count', 'movies_produced',\n",
      "       'career_Length', 'CareerStartYear', 'birthYear',\n",
      "       'median_inter_event_time', 'average_inter_event_time',\n",
      "       'total_review_count_user', 'total_review_count_critic',\n",
      "       'total_metascore', 'median_metascore', 'total_awards_won',\n",
      "       'total_awards_nominated', 'total_gross_value', 'total_budget_value',\n",
      "       'average_runtime_of_movie', 'director_profession_primary',\n",
      "       'director_profession_secondary', 'director_profession_tertiary',\n",
      "       'director_known_titles_count',\n",
      "       'director_known_titles_average_rating_value', 'total_genre_Action',\n",
      "       'total_genre_Adult', 'total_genre_Adventure', 'total_genre_Animation',\n",
      "       'total_genre_Biography', 'total_genre_Comedy', 'total_genre_Crime',\n",
      "       'total_genre_Documentary', 'total_genre_Drama', 'total_genre_Family',\n",
      "       'total_genre_Fantasy', 'total_genre_Film_Noir', 'total_genre_Game_Show',\n",
      "       'total_genre_History', 'total_genre_Horror', 'total_genre_Music',\n",
      "       'total_genre_Musical', 'total_genre_Mystery', 'total_genre_News',\n",
      "       'total_genre_None', 'total_genre_Reality_TV', 'total_genre_Romance',\n",
      "       'total_genre_Sci_Fi', 'total_genre_Short', 'total_genre_Sport',\n",
      "       'total_genre_Talk_Show', 'total_genre_Thriller', 'total_genre_War',\n",
      "       'total_genre_Western', 'average_movie_per_year', 'num_genres_directed'],\n",
      "      dtype='object')\n",
      "\n",
      "[0.04891471 0.05322143 0.00935286 0.03866668 0.04851215 0.04816905\n",
      " 0.01680669 0.02108668 0.05826892 0.04968233 0.0474598  0.04935102\n",
      " 0.00234962 0.00473598 0.05957858 0.06023995 0.04823048 0.00890691\n",
      " 0.00956677 0.0072358  0.02599023 0.06258668 0.01388474 0.\n",
      " 0.01103041 0.00256162 0.01041224 0.01215842 0.01187888 0.00252521\n",
      " 0.01501056 0.00634989 0.00641264 0.         0.         0.00302177\n",
      " 0.00700799 0.00652266 0.00129142 0.00932558 0.         0.\n",
      " 0.         0.01177924 0.00635883 0.         0.00520805 0.\n",
      " 0.01292394 0.00335927 0.00051866 0.03651019 0.02503448]\n"
     ]
    }
   ],
   "source": [
    "score, rnd_forest,X, y ,X_train, X_test, y_train, y_test = report_accuracy_RF(data,\"Gender\")\n",
    "print_accuracy_feature_importance(score,X, rnd_forest)\n"
   ]
  },
  {
   "cell_type": "code",
   "execution_count": 15,
   "metadata": {},
   "outputs": [],
   "source": [
    "y_predict= rnd_forest.predict(X_test)\n"
   ]
  },
  {
   "cell_type": "code",
   "execution_count": 16,
   "metadata": {},
   "outputs": [
    {
     "name": "stdout",
     "output_type": "stream",
     "text": [
      "              precision    recall  f1-score   support\n",
      "\n",
      "           0       0.86      1.00      0.92       208\n",
      "           1       0.00      0.00      0.00        35\n",
      "\n",
      "    accuracy                           0.86       243\n",
      "   macro avg       0.43      0.50      0.46       243\n",
      "weighted avg       0.73      0.86      0.79       243\n",
      "\n"
     ]
    },
    {
     "name": "stderr",
     "output_type": "stream",
     "text": [
      "C:\\Users\\VictorY\\Anaconda3\\lib\\site-packages\\sklearn\\metrics\\_classification.py:1272: UndefinedMetricWarning: Precision and F-score are ill-defined and being set to 0.0 in labels with no predicted samples. Use `zero_division` parameter to control this behavior.\n",
      "  _warn_prf(average, modifier, msg_start, len(result))\n"
     ]
    }
   ],
   "source": [
    "from sklearn.metrics import classification_report\n",
    "\n",
    "\n",
    "print(classification_report(y_test,y_predict,labels=[0,1]))"
   ]
  },
  {
   "cell_type": "code",
   "execution_count": 17,
   "metadata": {},
   "outputs": [
    {
     "name": "stdout",
     "output_type": "stream",
     "text": [
      "\n",
      "Area Under the Curve - ROC (OVO , Macro) :  0.5\n"
     ]
    }
   ],
   "source": [
    "from sklearn.metrics import roc_auc_score\n",
    "\n",
    "\n",
    "y_prob = rnd_forest.predict_proba(X_test)\n",
    "ovo_macro_roc_auc = roc_auc_score(y_test, y_predict)\n",
    "print( \"\\nArea Under the Curve - ROC (OVO , Macro) : \",ovo_macro_roc_auc)"
   ]
  },
  {
   "cell_type": "code",
   "execution_count": 18,
   "metadata": {},
   "outputs": [
    {
     "data": {
      "text/plain": [
       "array([0, 0, 0, 0, 0, 0, 0, 0, 0, 0, 0, 0, 0, 0, 0, 0, 0, 0, 0, 0, 0, 0,\n",
       "       0, 0, 0, 0, 0, 0, 0, 0, 0, 0, 0, 0, 0, 0, 0, 0, 0, 0, 0, 0, 0, 0,\n",
       "       0, 0, 0, 0, 0, 0, 0, 0, 0, 0, 0, 0, 0, 0, 0, 0, 0, 0, 0, 0, 0, 0,\n",
       "       0, 0, 0, 0, 0, 0, 0, 0, 0, 0, 0, 0, 0, 0, 0, 0, 0, 0, 0, 0, 0, 0,\n",
       "       0, 0, 0, 0, 0, 0, 0, 0, 0, 0, 0, 0, 0, 0, 0, 0, 0, 0, 0, 0, 0, 0,\n",
       "       0, 0, 0, 0, 0, 0, 0, 0, 0, 0, 0, 0, 0, 0, 0, 0, 0, 0, 0, 0, 0, 0,\n",
       "       0, 0, 0, 0, 0, 0, 0, 0, 0, 0, 0, 0, 0, 0, 0, 0, 0, 0, 0, 0, 0, 0,\n",
       "       0, 0, 0, 0, 0, 0, 0, 0, 0, 0, 0, 0, 0, 0, 0, 0, 0, 0, 0, 0, 0, 0,\n",
       "       0, 0, 0, 0, 0, 0, 0, 0, 0, 0, 0, 0, 0, 0, 0, 0, 0, 0, 0, 0, 0, 0,\n",
       "       0, 0, 0, 0, 0, 0, 0, 0, 0, 0, 0, 0, 0, 0, 0, 0, 0, 0, 0, 0, 0, 0,\n",
       "       0, 0, 0, 0, 0, 0, 0, 0, 0, 0, 0, 0, 0, 0, 0, 0, 0, 0, 0, 0, 0, 0,\n",
       "       0], dtype=int64)"
      ]
     },
     "execution_count": 18,
     "metadata": {},
     "output_type": "execute_result"
    }
   ],
   "source": [
    "y_predict"
   ]
  },
  {
   "cell_type": "code",
   "execution_count": 19,
   "metadata": {
    "scrolled": true
   },
   "outputs": [
    {
     "name": "stderr",
     "output_type": "stream",
     "text": [
      "C:\\Users\\VictorY\\Anaconda3\\lib\\site-packages\\sklearn\\metrics\\_classification.py:1272: UndefinedMetricWarning: Precision and F-score are ill-defined and being set to 0.0 in labels with no predicted samples. Use `zero_division` parameter to control this behavior.\n",
      "  _warn_prf(average, modifier, msg_start, len(result))\n"
     ]
    },
    {
     "data": {
      "text/html": [
       "<div>\n",
       "<style scoped>\n",
       "    .dataframe tbody tr th:only-of-type {\n",
       "        vertical-align: middle;\n",
       "    }\n",
       "\n",
       "    .dataframe tbody tr th {\n",
       "        vertical-align: top;\n",
       "    }\n",
       "\n",
       "    .dataframe thead th {\n",
       "        text-align: right;\n",
       "    }\n",
       "</style>\n",
       "<table border=\"1\" class=\"dataframe\">\n",
       "  <thead>\n",
       "    <tr style=\"text-align: right;\">\n",
       "      <th></th>\n",
       "      <th>Male</th>\n",
       "      <th>Female</th>\n",
       "    </tr>\n",
       "  </thead>\n",
       "  <tbody>\n",
       "    <tr>\n",
       "      <td>precision</td>\n",
       "      <td>0.860000</td>\n",
       "      <td>0.000000</td>\n",
       "    </tr>\n",
       "    <tr>\n",
       "      <td>recall</td>\n",
       "      <td>1.000000</td>\n",
       "      <td>0.000000</td>\n",
       "    </tr>\n",
       "    <tr>\n",
       "      <td>f1-score</td>\n",
       "      <td>0.920000</td>\n",
       "      <td>0.000000</td>\n",
       "    </tr>\n",
       "    <tr>\n",
       "      <td>accuracy</td>\n",
       "      <td>0.855967</td>\n",
       "      <td>0.855967</td>\n",
       "    </tr>\n",
       "    <tr>\n",
       "      <td>AUC ROC</td>\n",
       "      <td>0.500000</td>\n",
       "      <td>0.500000</td>\n",
       "    </tr>\n",
       "  </tbody>\n",
       "</table>\n",
       "</div>"
      ],
      "text/plain": [
       "               Male    Female\n",
       "precision  0.860000  0.000000\n",
       "recall     1.000000  0.000000\n",
       "f1-score   0.920000  0.000000\n",
       "accuracy   0.855967  0.855967\n",
       "AUC ROC    0.500000  0.500000"
      ]
     },
     "execution_count": 19,
     "metadata": {},
     "output_type": "execute_result"
    }
   ],
   "source": [
    "customized_classification_report(y_test,y_predict, ovo_macro_roc_auc )"
   ]
  },
  {
   "cell_type": "code",
   "execution_count": 20,
   "metadata": {},
   "outputs": [
    {
     "data": {
      "text/plain": [
       "(1215, 54)"
      ]
     },
     "execution_count": 20,
     "metadata": {},
     "output_type": "execute_result"
    }
   ],
   "source": [
    "data.shape"
   ]
  },
  {
   "cell_type": "markdown",
   "metadata": {},
   "source": [
    "### Balanced on Gender"
   ]
  },
  {
   "cell_type": "code",
   "execution_count": 21,
   "metadata": {},
   "outputs": [],
   "source": [
    "data3 = pd.read_csv(file_location)\n",
    "data3['Gender'] = data3['Gender'].map({'Male':0, 'Female':1})"
   ]
  },
  {
   "cell_type": "code",
   "execution_count": 22,
   "metadata": {},
   "outputs": [],
   "source": [
    "# Generic function to equally max split the dataframe with respect to the column Name, in our case the Gender column.\n",
    "\n",
    "def max_equal_split_on_columnName(df,columnName):\n",
    "    df1 = pd.DataFrame()\n",
    "    for i in df[columnName].value_counts().index:\n",
    "        df1 = df1.append(df[(df[columnName]==i)]\n",
    "                         .sample(n=df[columnName]\n",
    "                                 .value_counts()\n",
    "                                 .values.min()\n",
    "                                 ,replace = False)\n",
    "                        )        \n",
    "    return df1.reset_index(drop=True)"
   ]
  },
  {
   "cell_type": "code",
   "execution_count": 23,
   "metadata": {},
   "outputs": [
    {
     "data": {
      "text/plain": [
       "0    1038\n",
       "1     177\n",
       "Name: Gender, dtype: int64"
      ]
     },
     "execution_count": 23,
     "metadata": {},
     "output_type": "execute_result"
    }
   ],
   "source": [
    "data3.Gender.value_counts()"
   ]
  },
  {
   "cell_type": "code",
   "execution_count": 24,
   "metadata": {},
   "outputs": [],
   "source": [
    "balanced_data = max_equal_split_on_columnName(data3, 'Gender')\n",
    "\n",
    "if data_1_2_3 == 1:\n",
    "    \n",
    "    balanced_data=  balanced_data.drop(columns=['director_ids', 'director_name','primaryProfession', 'knownForTitles'])\n",
    "    \n",
    "elif data_1_2_3 == 2 or data_1_2_3 ==3:\n",
    "    balanced_data = balanced_data.drop(columns=['director_ids', 'director_name'])\n",
    "\n"
   ]
  },
  {
   "cell_type": "code",
   "execution_count": 25,
   "metadata": {},
   "outputs": [
    {
     "data": {
      "text/plain": [
       "(354, 54)"
      ]
     },
     "execution_count": 25,
     "metadata": {},
     "output_type": "execute_result"
    }
   ],
   "source": [
    "balanced_data.shape"
   ]
  },
  {
   "cell_type": "code",
   "execution_count": 26,
   "metadata": {},
   "outputs": [
    {
     "data": {
      "text/plain": [
       "1    177\n",
       "0    177\n",
       "Name: Gender, dtype: int64"
      ]
     },
     "execution_count": 26,
     "metadata": {},
     "output_type": "execute_result"
    }
   ],
   "source": [
    "balanced_data.Gender.value_counts()"
   ]
  },
  {
   "cell_type": "code",
   "execution_count": 27,
   "metadata": {},
   "outputs": [
    {
     "data": {
      "text/html": [
       "<div>\n",
       "<style scoped>\n",
       "    .dataframe tbody tr th:only-of-type {\n",
       "        vertical-align: middle;\n",
       "    }\n",
       "\n",
       "    .dataframe tbody tr th {\n",
       "        vertical-align: top;\n",
       "    }\n",
       "\n",
       "    .dataframe thead th {\n",
       "        text-align: right;\n",
       "    }\n",
       "</style>\n",
       "<table border=\"1\" class=\"dataframe\">\n",
       "  <thead>\n",
       "    <tr style=\"text-align: right;\">\n",
       "      <th></th>\n",
       "      <th>average_rating_value</th>\n",
       "      <th>average_rating_count</th>\n",
       "      <th>movies_produced</th>\n",
       "      <th>career_Length</th>\n",
       "      <th>CareerStartYear</th>\n",
       "      <th>Gender</th>\n",
       "      <th>birthYear</th>\n",
       "      <th>median_inter_event_time</th>\n",
       "      <th>average_inter_event_time</th>\n",
       "      <th>total_review_count_user</th>\n",
       "      <th>...</th>\n",
       "      <th>total_genre_Romance</th>\n",
       "      <th>total_genre_Sci_Fi</th>\n",
       "      <th>total_genre_Short</th>\n",
       "      <th>total_genre_Sport</th>\n",
       "      <th>total_genre_Talk_Show</th>\n",
       "      <th>total_genre_Thriller</th>\n",
       "      <th>total_genre_War</th>\n",
       "      <th>total_genre_Western</th>\n",
       "      <th>average_movie_per_year</th>\n",
       "      <th>num_genres_directed</th>\n",
       "    </tr>\n",
       "  </thead>\n",
       "  <tbody>\n",
       "    <tr>\n",
       "      <td>0</td>\n",
       "      <td>5.80</td>\n",
       "      <td>80497.00</td>\n",
       "      <td>1</td>\n",
       "      <td>14</td>\n",
       "      <td>1996</td>\n",
       "      <td>0</td>\n",
       "      <td>1969</td>\n",
       "      <td>0.0</td>\n",
       "      <td>0.00</td>\n",
       "      <td>355</td>\n",
       "      <td>...</td>\n",
       "      <td>0</td>\n",
       "      <td>1</td>\n",
       "      <td>0</td>\n",
       "      <td>0</td>\n",
       "      <td>0</td>\n",
       "      <td>0</td>\n",
       "      <td>0</td>\n",
       "      <td>0</td>\n",
       "      <td>0.07</td>\n",
       "      <td>3</td>\n",
       "    </tr>\n",
       "    <tr>\n",
       "      <td>1</td>\n",
       "      <td>3.50</td>\n",
       "      <td>10239.00</td>\n",
       "      <td>1</td>\n",
       "      <td>8</td>\n",
       "      <td>2002</td>\n",
       "      <td>0</td>\n",
       "      <td>1980</td>\n",
       "      <td>0.0</td>\n",
       "      <td>0.00</td>\n",
       "      <td>50</td>\n",
       "      <td>...</td>\n",
       "      <td>0</td>\n",
       "      <td>0</td>\n",
       "      <td>0</td>\n",
       "      <td>0</td>\n",
       "      <td>0</td>\n",
       "      <td>0</td>\n",
       "      <td>0</td>\n",
       "      <td>0</td>\n",
       "      <td>0.12</td>\n",
       "      <td>3</td>\n",
       "    </tr>\n",
       "    <tr>\n",
       "      <td>2</td>\n",
       "      <td>6.90</td>\n",
       "      <td>21875.00</td>\n",
       "      <td>1</td>\n",
       "      <td>14</td>\n",
       "      <td>2003</td>\n",
       "      <td>0</td>\n",
       "      <td>1980</td>\n",
       "      <td>0.0</td>\n",
       "      <td>0.00</td>\n",
       "      <td>96</td>\n",
       "      <td>...</td>\n",
       "      <td>0</td>\n",
       "      <td>0</td>\n",
       "      <td>0</td>\n",
       "      <td>0</td>\n",
       "      <td>0</td>\n",
       "      <td>0</td>\n",
       "      <td>0</td>\n",
       "      <td>0</td>\n",
       "      <td>0.07</td>\n",
       "      <td>3</td>\n",
       "    </tr>\n",
       "    <tr>\n",
       "      <td>3</td>\n",
       "      <td>5.38</td>\n",
       "      <td>23847.50</td>\n",
       "      <td>4</td>\n",
       "      <td>23</td>\n",
       "      <td>1988</td>\n",
       "      <td>0</td>\n",
       "      <td>1948</td>\n",
       "      <td>2.0</td>\n",
       "      <td>2.67</td>\n",
       "      <td>405</td>\n",
       "      <td>...</td>\n",
       "      <td>0</td>\n",
       "      <td>0</td>\n",
       "      <td>0</td>\n",
       "      <td>0</td>\n",
       "      <td>0</td>\n",
       "      <td>0</td>\n",
       "      <td>0</td>\n",
       "      <td>0</td>\n",
       "      <td>0.17</td>\n",
       "      <td>6</td>\n",
       "    </tr>\n",
       "    <tr>\n",
       "      <td>4</td>\n",
       "      <td>6.70</td>\n",
       "      <td>11782.00</td>\n",
       "      <td>1</td>\n",
       "      <td>6</td>\n",
       "      <td>2002</td>\n",
       "      <td>0</td>\n",
       "      <td>1969</td>\n",
       "      <td>0.0</td>\n",
       "      <td>0.00</td>\n",
       "      <td>52</td>\n",
       "      <td>...</td>\n",
       "      <td>0</td>\n",
       "      <td>0</td>\n",
       "      <td>0</td>\n",
       "      <td>0</td>\n",
       "      <td>0</td>\n",
       "      <td>0</td>\n",
       "      <td>0</td>\n",
       "      <td>0</td>\n",
       "      <td>0.17</td>\n",
       "      <td>2</td>\n",
       "    </tr>\n",
       "    <tr>\n",
       "      <td>...</td>\n",
       "      <td>...</td>\n",
       "      <td>...</td>\n",
       "      <td>...</td>\n",
       "      <td>...</td>\n",
       "      <td>...</td>\n",
       "      <td>...</td>\n",
       "      <td>...</td>\n",
       "      <td>...</td>\n",
       "      <td>...</td>\n",
       "      <td>...</td>\n",
       "      <td>...</td>\n",
       "      <td>...</td>\n",
       "      <td>...</td>\n",
       "      <td>...</td>\n",
       "      <td>...</td>\n",
       "      <td>...</td>\n",
       "      <td>...</td>\n",
       "      <td>...</td>\n",
       "      <td>...</td>\n",
       "      <td>...</td>\n",
       "      <td>...</td>\n",
       "    </tr>\n",
       "    <tr>\n",
       "      <td>349</td>\n",
       "      <td>7.00</td>\n",
       "      <td>109009.00</td>\n",
       "      <td>1</td>\n",
       "      <td>22</td>\n",
       "      <td>1990</td>\n",
       "      <td>1</td>\n",
       "      <td>1959</td>\n",
       "      <td>0.0</td>\n",
       "      <td>0.00</td>\n",
       "      <td>182</td>\n",
       "      <td>...</td>\n",
       "      <td>1</td>\n",
       "      <td>0</td>\n",
       "      <td>0</td>\n",
       "      <td>0</td>\n",
       "      <td>0</td>\n",
       "      <td>0</td>\n",
       "      <td>0</td>\n",
       "      <td>0</td>\n",
       "      <td>0.05</td>\n",
       "      <td>2</td>\n",
       "    </tr>\n",
       "    <tr>\n",
       "      <td>350</td>\n",
       "      <td>6.77</td>\n",
       "      <td>69357.33</td>\n",
       "      <td>3</td>\n",
       "      <td>9</td>\n",
       "      <td>2005</td>\n",
       "      <td>1</td>\n",
       "      <td>1959</td>\n",
       "      <td>2.0</td>\n",
       "      <td>2.00</td>\n",
       "      <td>736</td>\n",
       "      <td>...</td>\n",
       "      <td>0</td>\n",
       "      <td>0</td>\n",
       "      <td>0</td>\n",
       "      <td>0</td>\n",
       "      <td>0</td>\n",
       "      <td>1</td>\n",
       "      <td>0</td>\n",
       "      <td>0</td>\n",
       "      <td>0.33</td>\n",
       "      <td>3</td>\n",
       "    </tr>\n",
       "    <tr>\n",
       "      <td>351</td>\n",
       "      <td>6.35</td>\n",
       "      <td>32252.00</td>\n",
       "      <td>2</td>\n",
       "      <td>19</td>\n",
       "      <td>1998</td>\n",
       "      <td>1</td>\n",
       "      <td>1972</td>\n",
       "      <td>2.0</td>\n",
       "      <td>2.00</td>\n",
       "      <td>274</td>\n",
       "      <td>...</td>\n",
       "      <td>0</td>\n",
       "      <td>0</td>\n",
       "      <td>0</td>\n",
       "      <td>0</td>\n",
       "      <td>0</td>\n",
       "      <td>0</td>\n",
       "      <td>0</td>\n",
       "      <td>0</td>\n",
       "      <td>0.11</td>\n",
       "      <td>6</td>\n",
       "    </tr>\n",
       "    <tr>\n",
       "      <td>352</td>\n",
       "      <td>6.35</td>\n",
       "      <td>19370.00</td>\n",
       "      <td>2</td>\n",
       "      <td>5</td>\n",
       "      <td>1999</td>\n",
       "      <td>1</td>\n",
       "      <td>1960</td>\n",
       "      <td>4.0</td>\n",
       "      <td>4.00</td>\n",
       "      <td>378</td>\n",
       "      <td>...</td>\n",
       "      <td>2</td>\n",
       "      <td>0</td>\n",
       "      <td>0</td>\n",
       "      <td>0</td>\n",
       "      <td>0</td>\n",
       "      <td>0</td>\n",
       "      <td>0</td>\n",
       "      <td>0</td>\n",
       "      <td>0.40</td>\n",
       "      <td>3</td>\n",
       "    </tr>\n",
       "    <tr>\n",
       "      <td>353</td>\n",
       "      <td>6.60</td>\n",
       "      <td>4780.00</td>\n",
       "      <td>1</td>\n",
       "      <td>24</td>\n",
       "      <td>1985</td>\n",
       "      <td>1</td>\n",
       "      <td>1958</td>\n",
       "      <td>0.0</td>\n",
       "      <td>0.00</td>\n",
       "      <td>25</td>\n",
       "      <td>...</td>\n",
       "      <td>0</td>\n",
       "      <td>0</td>\n",
       "      <td>0</td>\n",
       "      <td>0</td>\n",
       "      <td>0</td>\n",
       "      <td>0</td>\n",
       "      <td>0</td>\n",
       "      <td>0</td>\n",
       "      <td>0.04</td>\n",
       "      <td>2</td>\n",
       "    </tr>\n",
       "  </tbody>\n",
       "</table>\n",
       "<p>354 rows × 54 columns</p>\n",
       "</div>"
      ],
      "text/plain": [
       "     average_rating_value  average_rating_count  movies_produced  \\\n",
       "0                    5.80              80497.00                1   \n",
       "1                    3.50              10239.00                1   \n",
       "2                    6.90              21875.00                1   \n",
       "3                    5.38              23847.50                4   \n",
       "4                    6.70              11782.00                1   \n",
       "..                    ...                   ...              ...   \n",
       "349                  7.00             109009.00                1   \n",
       "350                  6.77              69357.33                3   \n",
       "351                  6.35              32252.00                2   \n",
       "352                  6.35              19370.00                2   \n",
       "353                  6.60               4780.00                1   \n",
       "\n",
       "     career_Length  CareerStartYear  Gender  birthYear  \\\n",
       "0               14             1996       0       1969   \n",
       "1                8             2002       0       1980   \n",
       "2               14             2003       0       1980   \n",
       "3               23             1988       0       1948   \n",
       "4                6             2002       0       1969   \n",
       "..             ...              ...     ...        ...   \n",
       "349             22             1990       1       1959   \n",
       "350              9             2005       1       1959   \n",
       "351             19             1998       1       1972   \n",
       "352              5             1999       1       1960   \n",
       "353             24             1985       1       1958   \n",
       "\n",
       "     median_inter_event_time  average_inter_event_time  \\\n",
       "0                        0.0                      0.00   \n",
       "1                        0.0                      0.00   \n",
       "2                        0.0                      0.00   \n",
       "3                        2.0                      2.67   \n",
       "4                        0.0                      0.00   \n",
       "..                       ...                       ...   \n",
       "349                      0.0                      0.00   \n",
       "350                      2.0                      2.00   \n",
       "351                      2.0                      2.00   \n",
       "352                      4.0                      4.00   \n",
       "353                      0.0                      0.00   \n",
       "\n",
       "     total_review_count_user  ...  total_genre_Romance  total_genre_Sci_Fi  \\\n",
       "0                        355  ...                    0                   1   \n",
       "1                         50  ...                    0                   0   \n",
       "2                         96  ...                    0                   0   \n",
       "3                        405  ...                    0                   0   \n",
       "4                         52  ...                    0                   0   \n",
       "..                       ...  ...                  ...                 ...   \n",
       "349                      182  ...                    1                   0   \n",
       "350                      736  ...                    0                   0   \n",
       "351                      274  ...                    0                   0   \n",
       "352                      378  ...                    2                   0   \n",
       "353                       25  ...                    0                   0   \n",
       "\n",
       "     total_genre_Short  total_genre_Sport  total_genre_Talk_Show  \\\n",
       "0                    0                  0                      0   \n",
       "1                    0                  0                      0   \n",
       "2                    0                  0                      0   \n",
       "3                    0                  0                      0   \n",
       "4                    0                  0                      0   \n",
       "..                 ...                ...                    ...   \n",
       "349                  0                  0                      0   \n",
       "350                  0                  0                      0   \n",
       "351                  0                  0                      0   \n",
       "352                  0                  0                      0   \n",
       "353                  0                  0                      0   \n",
       "\n",
       "     total_genre_Thriller  total_genre_War  total_genre_Western  \\\n",
       "0                       0                0                    0   \n",
       "1                       0                0                    0   \n",
       "2                       0                0                    0   \n",
       "3                       0                0                    0   \n",
       "4                       0                0                    0   \n",
       "..                    ...              ...                  ...   \n",
       "349                     0                0                    0   \n",
       "350                     1                0                    0   \n",
       "351                     0                0                    0   \n",
       "352                     0                0                    0   \n",
       "353                     0                0                    0   \n",
       "\n",
       "     average_movie_per_year  num_genres_directed  \n",
       "0                      0.07                    3  \n",
       "1                      0.12                    3  \n",
       "2                      0.07                    3  \n",
       "3                      0.17                    6  \n",
       "4                      0.17                    2  \n",
       "..                      ...                  ...  \n",
       "349                    0.05                    2  \n",
       "350                    0.33                    3  \n",
       "351                    0.11                    6  \n",
       "352                    0.40                    3  \n",
       "353                    0.04                    2  \n",
       "\n",
       "[354 rows x 54 columns]"
      ]
     },
     "execution_count": 27,
     "metadata": {},
     "output_type": "execute_result"
    }
   ],
   "source": [
    "balanced_data"
   ]
  },
  {
   "cell_type": "code",
   "execution_count": 28,
   "metadata": {},
   "outputs": [
    {
     "name": "stdout",
     "output_type": "stream",
     "text": [
      "The accuracy of the model is 0.5915492957746479.\n",
      "\n",
      "The input features included are Index(['average_rating_value', 'average_rating_count', 'movies_produced',\n",
      "       'career_Length', 'CareerStartYear', 'birthYear',\n",
      "       'median_inter_event_time', 'average_inter_event_time',\n",
      "       'total_review_count_user', 'total_review_count_critic',\n",
      "       'total_metascore', 'median_metascore', 'total_awards_won',\n",
      "       'total_awards_nominated', 'total_gross_value', 'total_budget_value',\n",
      "       'average_runtime_of_movie', 'director_profession_primary',\n",
      "       'director_profession_secondary', 'director_profession_tertiary',\n",
      "       'director_known_titles_count',\n",
      "       'director_known_titles_average_rating_value', 'total_genre_Action',\n",
      "       'total_genre_Adult', 'total_genre_Adventure', 'total_genre_Animation',\n",
      "       'total_genre_Biography', 'total_genre_Comedy', 'total_genre_Crime',\n",
      "       'total_genre_Documentary', 'total_genre_Drama', 'total_genre_Family',\n",
      "       'total_genre_Fantasy', 'total_genre_Film_Noir', 'total_genre_Game_Show',\n",
      "       'total_genre_History', 'total_genre_Horror', 'total_genre_Music',\n",
      "       'total_genre_Musical', 'total_genre_Mystery', 'total_genre_News',\n",
      "       'total_genre_None', 'total_genre_Reality_TV', 'total_genre_Romance',\n",
      "       'total_genre_Sci_Fi', 'total_genre_Short', 'total_genre_Sport',\n",
      "       'total_genre_Talk_Show', 'total_genre_Thriller', 'total_genre_War',\n",
      "       'total_genre_Western', 'average_movie_per_year', 'num_genres_directed'],\n",
      "      dtype='object') \n",
      "\n",
      "The corresponding feature importance is[0.04223189 0.05464053 0.01190085 0.03911418 0.04561325 0.0529147\n",
      " 0.01653363 0.02426321 0.05212378 0.05171711 0.04081713 0.048225\n",
      " 0.0013348  0.00577518 0.05249622 0.05588474 0.0498267  0.00936883\n",
      " 0.01050355 0.00904581 0.02228059 0.06562629 0.01056229 0.\n",
      " 0.01199227 0.00351362 0.00779854 0.01854015 0.00811806 0.00232763\n",
      " 0.01690159 0.01123815 0.00664561 0.         0.         0.00390198\n",
      " 0.01435754 0.00625116 0.00138654 0.00581943 0.         0.\n",
      " 0.         0.01178935 0.00671328 0.         0.00470697 0.\n",
      " 0.01361765 0.00600644 0.00109244 0.03807886 0.0264025 ]\n"
     ]
    }
   ],
   "source": [
    "score3, rnd_forest3,X3, y3 ,X_train3, X_test3, y_train3, y_test3 = report_accuracy_RF(balanced_data,\"Gender\")\n",
    "\n",
    "print(f\"The accuracy of the model is {score3}.\")\n",
    "print()\n",
    "print(f'The input features included are {X3.columns} ')\n",
    "print()\n",
    "print(f'The corresponding feature importance is{rnd_forest3.feature_importances_}')"
   ]
  },
  {
   "cell_type": "code",
   "execution_count": 29,
   "metadata": {},
   "outputs": [
    {
     "name": "stdout",
     "output_type": "stream",
     "text": [
      "              precision    recall  f1-score   support\n",
      "\n",
      "           0       0.60      0.58      0.59        36\n",
      "           1       0.58      0.60      0.59        35\n",
      "\n",
      "    accuracy                           0.59        71\n",
      "   macro avg       0.59      0.59      0.59        71\n",
      "weighted avg       0.59      0.59      0.59        71\n",
      "\n"
     ]
    }
   ],
   "source": [
    "# y_true3 = y_test3.copy()\n",
    "y_predict3 = rnd_forest3.predict(X_test3)\n",
    "\n",
    "\n",
    "from sklearn.metrics import classification_report\n",
    "\n",
    "\n",
    "print(classification_report(y_test3,y_predict3,labels=[0,1]))"
   ]
  },
  {
   "cell_type": "code",
   "execution_count": 30,
   "metadata": {},
   "outputs": [
    {
     "name": "stdout",
     "output_type": "stream",
     "text": [
      "\n",
      "Area Under the Curve - ROC (OVO , Macro) :  0.5916666666666666\n"
     ]
    }
   ],
   "source": [
    "# y_prob3 = rnd_forest3.predict_proba(X_test3)\n",
    "ovo_macro_roc_auc3 = roc_auc_score(y_test3, y_predict3)\n",
    "print( \"\\nArea Under the Curve - ROC (OVO , Macro) : \",ovo_macro_roc_auc3)"
   ]
  },
  {
   "cell_type": "code",
   "execution_count": 31,
   "metadata": {
    "scrolled": true
   },
   "outputs": [
    {
     "data": {
      "text/plain": [
       "RandomForestClassifier(bootstrap=True, ccp_alpha=0.0, class_weight='balanced',\n",
       "                       criterion='gini', max_depth=None, max_features='auto',\n",
       "                       max_leaf_nodes=None, max_samples=None,\n",
       "                       min_impurity_decrease=0.0, min_impurity_split=None,\n",
       "                       min_samples_leaf=1, min_samples_split=2,\n",
       "                       min_weight_fraction_leaf=0.0, n_estimators=100,\n",
       "                       n_jobs=None, oob_score=False, random_state=52, verbose=0,\n",
       "                       warm_start=False)"
      ]
     },
     "execution_count": 31,
     "metadata": {},
     "output_type": "execute_result"
    }
   ],
   "source": [
    "rnd_forest3"
   ]
  },
  {
   "cell_type": "code",
   "execution_count": 32,
   "metadata": {},
   "outputs": [
    {
     "data": {
      "text/html": [
       "<div>\n",
       "<style scoped>\n",
       "    .dataframe tbody tr th:only-of-type {\n",
       "        vertical-align: middle;\n",
       "    }\n",
       "\n",
       "    .dataframe tbody tr th {\n",
       "        vertical-align: top;\n",
       "    }\n",
       "\n",
       "    .dataframe thead th {\n",
       "        text-align: right;\n",
       "    }\n",
       "</style>\n",
       "<table border=\"1\" class=\"dataframe\">\n",
       "  <thead>\n",
       "    <tr style=\"text-align: right;\">\n",
       "      <th></th>\n",
       "      <th>Male</th>\n",
       "      <th>Female</th>\n",
       "    </tr>\n",
       "  </thead>\n",
       "  <tbody>\n",
       "    <tr>\n",
       "      <td>precision</td>\n",
       "      <td>0.600000</td>\n",
       "      <td>0.580000</td>\n",
       "    </tr>\n",
       "    <tr>\n",
       "      <td>recall</td>\n",
       "      <td>0.580000</td>\n",
       "      <td>0.600000</td>\n",
       "    </tr>\n",
       "    <tr>\n",
       "      <td>f1-score</td>\n",
       "      <td>0.590000</td>\n",
       "      <td>0.590000</td>\n",
       "    </tr>\n",
       "    <tr>\n",
       "      <td>accuracy</td>\n",
       "      <td>0.591549</td>\n",
       "      <td>0.591549</td>\n",
       "    </tr>\n",
       "    <tr>\n",
       "      <td>AUC ROC</td>\n",
       "      <td>0.591667</td>\n",
       "      <td>0.591667</td>\n",
       "    </tr>\n",
       "  </tbody>\n",
       "</table>\n",
       "</div>"
      ],
      "text/plain": [
       "               Male    Female\n",
       "precision  0.600000  0.580000\n",
       "recall     0.580000  0.600000\n",
       "f1-score   0.590000  0.590000\n",
       "accuracy   0.591549  0.591549\n",
       "AUC ROC    0.591667  0.591667"
      ]
     },
     "execution_count": 32,
     "metadata": {},
     "output_type": "execute_result"
    }
   ],
   "source": [
    "customized_classification_report(y_test3,y_predict3, ovo_macro_roc_auc3)"
   ]
  },
  {
   "cell_type": "markdown",
   "metadata": {},
   "source": [
    "## Summary Reports"
   ]
  },
  {
   "cell_type": "markdown",
   "metadata": {},
   "source": [
    "### Unbalanced"
   ]
  },
  {
   "cell_type": "code",
   "execution_count": 33,
   "metadata": {},
   "outputs": [
    {
     "name": "stderr",
     "output_type": "stream",
     "text": [
      "C:\\Users\\VictorY\\Anaconda3\\lib\\site-packages\\sklearn\\metrics\\_classification.py:1272: UndefinedMetricWarning: Precision and F-score are ill-defined and being set to 0.0 in labels with no predicted samples. Use `zero_division` parameter to control this behavior.\n",
      "  _warn_prf(average, modifier, msg_start, len(result))\n"
     ]
    },
    {
     "data": {
      "text/html": [
       "<div>\n",
       "<style scoped>\n",
       "    .dataframe tbody tr th:only-of-type {\n",
       "        vertical-align: middle;\n",
       "    }\n",
       "\n",
       "    .dataframe tbody tr th {\n",
       "        vertical-align: top;\n",
       "    }\n",
       "\n",
       "    .dataframe thead th {\n",
       "        text-align: right;\n",
       "    }\n",
       "</style>\n",
       "<table border=\"1\" class=\"dataframe\">\n",
       "  <thead>\n",
       "    <tr style=\"text-align: right;\">\n",
       "      <th></th>\n",
       "      <th>Male</th>\n",
       "      <th>Female</th>\n",
       "    </tr>\n",
       "  </thead>\n",
       "  <tbody>\n",
       "    <tr>\n",
       "      <td>precision</td>\n",
       "      <td>0.860000</td>\n",
       "      <td>0.000000</td>\n",
       "    </tr>\n",
       "    <tr>\n",
       "      <td>recall</td>\n",
       "      <td>1.000000</td>\n",
       "      <td>0.000000</td>\n",
       "    </tr>\n",
       "    <tr>\n",
       "      <td>f1-score</td>\n",
       "      <td>0.920000</td>\n",
       "      <td>0.000000</td>\n",
       "    </tr>\n",
       "    <tr>\n",
       "      <td>accuracy</td>\n",
       "      <td>0.855967</td>\n",
       "      <td>0.855967</td>\n",
       "    </tr>\n",
       "    <tr>\n",
       "      <td>AUC ROC</td>\n",
       "      <td>0.500000</td>\n",
       "      <td>0.500000</td>\n",
       "    </tr>\n",
       "  </tbody>\n",
       "</table>\n",
       "</div>"
      ],
      "text/plain": [
       "               Male    Female\n",
       "precision  0.860000  0.000000\n",
       "recall     1.000000  0.000000\n",
       "f1-score   0.920000  0.000000\n",
       "accuracy   0.855967  0.855967\n",
       "AUC ROC    0.500000  0.500000"
      ]
     },
     "execution_count": 33,
     "metadata": {},
     "output_type": "execute_result"
    }
   ],
   "source": [
    "customized_classification_report(y_test,y_predict, ovo_macro_roc_auc )"
   ]
  },
  {
   "cell_type": "markdown",
   "metadata": {},
   "source": []
  },
  {
   "cell_type": "markdown",
   "metadata": {},
   "source": [
    "###  Balanced"
   ]
  },
  {
   "cell_type": "code",
   "execution_count": 34,
   "metadata": {},
   "outputs": [
    {
     "data": {
      "text/html": [
       "<div>\n",
       "<style scoped>\n",
       "    .dataframe tbody tr th:only-of-type {\n",
       "        vertical-align: middle;\n",
       "    }\n",
       "\n",
       "    .dataframe tbody tr th {\n",
       "        vertical-align: top;\n",
       "    }\n",
       "\n",
       "    .dataframe thead th {\n",
       "        text-align: right;\n",
       "    }\n",
       "</style>\n",
       "<table border=\"1\" class=\"dataframe\">\n",
       "  <thead>\n",
       "    <tr style=\"text-align: right;\">\n",
       "      <th></th>\n",
       "      <th>Male</th>\n",
       "      <th>Female</th>\n",
       "    </tr>\n",
       "  </thead>\n",
       "  <tbody>\n",
       "    <tr>\n",
       "      <td>precision</td>\n",
       "      <td>0.600000</td>\n",
       "      <td>0.580000</td>\n",
       "    </tr>\n",
       "    <tr>\n",
       "      <td>recall</td>\n",
       "      <td>0.580000</td>\n",
       "      <td>0.600000</td>\n",
       "    </tr>\n",
       "    <tr>\n",
       "      <td>f1-score</td>\n",
       "      <td>0.590000</td>\n",
       "      <td>0.590000</td>\n",
       "    </tr>\n",
       "    <tr>\n",
       "      <td>accuracy</td>\n",
       "      <td>0.591549</td>\n",
       "      <td>0.591549</td>\n",
       "    </tr>\n",
       "    <tr>\n",
       "      <td>AUC ROC</td>\n",
       "      <td>0.591667</td>\n",
       "      <td>0.591667</td>\n",
       "    </tr>\n",
       "  </tbody>\n",
       "</table>\n",
       "</div>"
      ],
      "text/plain": [
       "               Male    Female\n",
       "precision  0.600000  0.580000\n",
       "recall     0.580000  0.600000\n",
       "f1-score   0.590000  0.590000\n",
       "accuracy   0.591549  0.591549\n",
       "AUC ROC    0.591667  0.591667"
      ]
     },
     "execution_count": 34,
     "metadata": {},
     "output_type": "execute_result"
    }
   ],
   "source": [
    "customized_classification_report(y_test3,y_predict3, ovo_macro_roc_auc3)"
   ]
  },
  {
   "cell_type": "code",
   "execution_count": null,
   "metadata": {},
   "outputs": [],
   "source": []
  }
 ],
 "metadata": {
  "kernelspec": {
   "display_name": "Python 3",
   "language": "python",
   "name": "python3"
  },
  "language_info": {
   "codemirror_mode": {
    "name": "ipython",
    "version": 3
   },
   "file_extension": ".py",
   "mimetype": "text/x-python",
   "name": "python",
   "nbconvert_exporter": "python",
   "pygments_lexer": "ipython3",
   "version": "3.7.4"
  }
 },
 "nbformat": 4,
 "nbformat_minor": 2
}
