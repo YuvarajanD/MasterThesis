{
 "cells": [
  {
   "cell_type": "code",
   "execution_count": 1,
   "metadata": {},
   "outputs": [],
   "source": [
    "import pandas as pd\n",
    "import numpy as np\n",
    "import re\n",
    "import string\n",
    "from datetime import datetime\n",
    "from datetime import date\n",
    "\n",
    "import matplotlib.lines as mlines\n",
    "import matplotlib.patches as mpatches\n",
    "import matplotlib as mpl\n",
    "import matplotlib.pyplot as plt\n",
    "import os\n",
    "import seaborn as sns"
   ]
  },
  {
   "cell_type": "markdown",
   "metadata": {},
   "source": [
    "## Search hack on dataframes\n",
    "### How to use: find(data,\"movie_id\",\"equal\",\"tt6723088\")\n",
    "\n",
    "<h3>Search functions available</h3>\n",
    "\n",
    "<ol>\n",
    "  <li>Equal</li>\n",
    "  <li>Not Equal</li>\n",
    "  <li>Lessser than</li>\n",
    "  <li>Greater than</li>\n",
    "  <li>Null</li>    \n",
    "  <li>Not null</li>\n",
    "  <li>Contains</li>\n",
    "  <li>Not contains</li>\n",
    "  <li>Duplicate</li>\n",
    "  <li>Index</li>\n",
    "  <li>Unique Value</li>\n",
    "  <li>Unique Count</li>\n",
    "</ol> "
   ]
  },
  {
   "cell_type": "code",
   "execution_count": 2,
   "metadata": {},
   "outputs": [],
   "source": [
    "# Useful Search hack for any value in a column\n",
    "\n",
    "\n",
    "def find(dataFrame,columnName,operation,searchElement):\n",
    "    operation = operation.lower().translate(str.maketrans('', '', string.whitespace))\n",
    "    if operation == \"equal\": \n",
    "        return dataFrame.loc[dataFrame[columnName] == searchElement]\n",
    "    elif operation == \"notequal\":\n",
    "        return dataFrame.loc[dataFrame[columnName] != searchElement]\n",
    "    elif operation == \"lesserthan\":\n",
    "        return dataFrame.loc[dataFrame[columnName] < searchElement]\n",
    "    elif operation == \"greaterthan\": \n",
    "        return dataFrame.loc[dataFrame[columnName] > searchElement]\n",
    "    elif operation == \"null\":\n",
    "        return dataFrame.loc[dataFrame[columnName].isna()] \n",
    "    elif operation == \"notnull\":\n",
    "        dataFrame.loc[dataFrame[columnName].notnull()]\n",
    "    elif operation == \"contains\":\n",
    "        return dataFrame[dataFrame[columnName].str.contains(searchElement)]\n",
    "    elif operation == \"notcontains\":\n",
    "        return dataFrame[~dataFrame[columnName].str.contains(searchElement)]   \n",
    "    elif operation == \"duplicate\":\n",
    "        return dataFrame[dataFrame.duplicated([columnName])].sort_values(by=[columnName])\n",
    "    elif operation == \"index\":\n",
    "        return dataFrame.index[dataFrame[columnName] == searchElement].tolist()\n",
    "    elif operation == \"uniquevalue\":\n",
    "        return dataFrame[columnName].unique()\n",
    "    elif operation == \"uniquecount\":\n",
    "        return dataFrame[columnName].nunique()\n",
    "    else:\n",
    "        print(\"The operations you can use are listed above! \\n\")"
   ]
  },
  {
   "cell_type": "markdown",
   "metadata": {},
   "source": [
    "###  Read data from file path"
   ]
  },
  {
   "cell_type": "code",
   "execution_count": 5,
   "metadata": {},
   "outputs": [],
   "source": [
    "# fileLocation = 'C:\\\\Users\\\\VictorY\\\\Desktop\\\\TestData\\\\stage3FinalProcessedDF_Nov-17-2019.csv'\n",
    "oldMovieDirectorFileLocation = 'C:\\\\Yuva\\\\ITU\\\\4th Sem\\\\Thesis\\\\Data\\\\Final_Data_Movies_Directors_old.csv'\n",
    "# stage3 = 'C:\\\\Yuva\\\\ITU\\\\4th Sem\\\\Thesis\\\\Data\\\\stage3FinalProcessedDF_Mar-27-2020.csv'\n",
    "saveFileToPath = \"C:\\\\Yuva\\\\ITU\\\\4th Sem\\\\Thesis\\\\Data\"\n",
    "\n",
    "data = pd.read_csv(oldMovieDirectorFileLocation)\n",
    "# data = pd.read_csv(stage3)\n"
   ]
  },
  {
   "cell_type": "markdown",
   "metadata": {},
   "source": [
    "## Data processing - Fill 0 for missing year and N"
   ]
  },
  {
   "cell_type": "code",
   "execution_count": 6,
   "metadata": {},
   "outputs": [
    {
     "name": "stdout",
     "output_type": "stream",
     "text": [
      "<class 'pandas.core.frame.DataFrame'>\n",
      "RangeIndex: 325375 entries, 0 to 325374\n",
      "Data columns (total 15 columns):\n",
      " #   Column               Non-Null Count   Dtype  \n",
      "---  ------               --------------   -----  \n",
      " 0   director_ids         325375 non-null  object \n",
      " 1   director_names       325375 non-null  object \n",
      " 2   movie_id             325375 non-null  object \n",
      " 3   title                325375 non-null  object \n",
      " 4   review_count_user    325375 non-null  int64  \n",
      " 5   review_count_critic  325375 non-null  int64  \n",
      " 6   rating_value         325375 non-null  float64\n",
      " 7   rating_count         325375 non-null  int64  \n",
      " 8   date_published       325375 non-null  object \n",
      " 9   release_date         325375 non-null  object \n",
      " 10  movie_year           325375 non-null  int64  \n",
      " 11  birthYear            325375 non-null  int64  \n",
      " 12  primaryProfession    325375 non-null  object \n",
      " 13  knownForTitles       325375 non-null  object \n",
      " 14  Gender               325375 non-null  object \n",
      "dtypes: float64(1), int64(5), object(9)\n",
      "memory usage: 37.2+ MB\n"
     ]
    }
   ],
   "source": [
    "data.info()"
   ]
  },
  {
   "cell_type": "code",
   "execution_count": 7,
   "metadata": {},
   "outputs": [],
   "source": [
    "# # Reset the missing years in birth and death year of director to 0\n",
    "\n",
    "# data.loc[data['deathYear'].isna(), 'deathYear'] = 0\n",
    "# data.loc[data['birthYear'].isna(), 'birthYear'] = 0"
   ]
  },
  {
   "cell_type": "code",
   "execution_count": 8,
   "metadata": {},
   "outputs": [
    {
     "name": "stdout",
     "output_type": "stream",
     "text": [
      "Unique directors in this dataframe :  41629\n"
     ]
    }
   ],
   "source": [
    "print(\"Unique directors in this dataframe : \",data.director_ids.nunique())"
   ]
  },
  {
   "cell_type": "code",
   "execution_count": 9,
   "metadata": {},
   "outputs": [
    {
     "data": {
      "text/plain": [
       "311939"
      ]
     },
     "execution_count": 9,
     "metadata": {},
     "output_type": "execute_result"
    }
   ],
   "source": [
    "find(data,\"movie_id\",\"uniquecount\",0)"
   ]
  },
  {
   "cell_type": "code",
   "execution_count": 10,
   "metadata": {},
   "outputs": [
    {
     "data": {
      "text/plain": [
       "Male      271714\n",
       "Female     53661\n",
       "Name: Gender, dtype: int64"
      ]
     },
     "execution_count": 10,
     "metadata": {},
     "output_type": "execute_result"
    }
   ],
   "source": [
    "data.Gender.value_counts()"
   ]
  },
  {
   "cell_type": "code",
   "execution_count": 11,
   "metadata": {},
   "outputs": [
    {
     "data": {
      "text/html": [
       "<div>\n",
       "<style scoped>\n",
       "    .dataframe tbody tr th:only-of-type {\n",
       "        vertical-align: middle;\n",
       "    }\n",
       "\n",
       "    .dataframe tbody tr th {\n",
       "        vertical-align: top;\n",
       "    }\n",
       "\n",
       "    .dataframe thead th {\n",
       "        text-align: right;\n",
       "    }\n",
       "</style>\n",
       "<table border=\"1\" class=\"dataframe\">\n",
       "  <thead>\n",
       "    <tr style=\"text-align: right;\">\n",
       "      <th></th>\n",
       "      <th>director_ids</th>\n",
       "      <th>director_names</th>\n",
       "      <th>movie_id</th>\n",
       "      <th>title</th>\n",
       "      <th>review_count_user</th>\n",
       "      <th>review_count_critic</th>\n",
       "      <th>rating_value</th>\n",
       "      <th>rating_count</th>\n",
       "      <th>date_published</th>\n",
       "      <th>release_date</th>\n",
       "      <th>movie_year</th>\n",
       "      <th>birthYear</th>\n",
       "      <th>primaryProfession</th>\n",
       "      <th>knownForTitles</th>\n",
       "      <th>Gender</th>\n",
       "    </tr>\n",
       "  </thead>\n",
       "  <tbody>\n",
       "    <tr>\n",
       "      <th>0</th>\n",
       "      <td>nm0005690</td>\n",
       "      <td>William K.L. Dickson</td>\n",
       "      <td>tt0000001</td>\n",
       "      <td>Carmencita - spanyol tánc (1894) - IMDb</td>\n",
       "      <td>12</td>\n",
       "      <td>2</td>\n",
       "      <td>5.8</td>\n",
       "      <td>1255</td>\n",
       "      <td>1894-03-10</td>\n",
       "      <td>10 March 1894 (USA)    See more »</td>\n",
       "      <td>1894</td>\n",
       "      <td>1860</td>\n",
       "      <td>cinematographer,director,producer</td>\n",
       "      <td>tt0219560,tt6687694,tt1428455,tt1496763</td>\n",
       "      <td>Male</td>\n",
       "    </tr>\n",
       "    <tr>\n",
       "      <th>1</th>\n",
       "      <td>nm0721526</td>\n",
       "      <td>Émile Reynaud</td>\n",
       "      <td>tt0000002</td>\n",
       "      <td>A bohóc és kutyái (1892) - IMDb</td>\n",
       "      <td>0</td>\n",
       "      <td>0</td>\n",
       "      <td>6.5</td>\n",
       "      <td>148</td>\n",
       "      <td>1892-10-28</td>\n",
       "      <td>28 October 1892 (France)    See more »</td>\n",
       "      <td>1892</td>\n",
       "      <td>1844</td>\n",
       "      <td>director</td>\n",
       "      <td>tt2184231,tt0000003,tt2184201,tt0413219</td>\n",
       "      <td>Male</td>\n",
       "    </tr>\n",
       "    <tr>\n",
       "      <th>2</th>\n",
       "      <td>nm0721526</td>\n",
       "      <td>Émile Reynaud</td>\n",
       "      <td>tt0000003</td>\n",
       "      <td>Szegény Pierrot (1892) - IMDb</td>\n",
       "      <td>12</td>\n",
       "      <td>5</td>\n",
       "      <td>6.6</td>\n",
       "      <td>819</td>\n",
       "      <td>1892-10-28</td>\n",
       "      <td>28 October 1892 (France)    See more »</td>\n",
       "      <td>1892</td>\n",
       "      <td>1844</td>\n",
       "      <td>director</td>\n",
       "      <td>tt2184231,tt0000003,tt2184201,tt0413219</td>\n",
       "      <td>Male</td>\n",
       "    </tr>\n",
       "  </tbody>\n",
       "</table>\n",
       "</div>"
      ],
      "text/plain": [
       "  director_ids        director_names   movie_id  \\\n",
       "0    nm0005690  William K.L. Dickson  tt0000001   \n",
       "1    nm0721526         Émile Reynaud  tt0000002   \n",
       "2    nm0721526         Émile Reynaud  tt0000003   \n",
       "\n",
       "                                     title  review_count_user  \\\n",
       "0  Carmencita - spanyol tánc (1894) - IMDb                 12   \n",
       "1          A bohóc és kutyái (1892) - IMDb                  0   \n",
       "2            Szegény Pierrot (1892) - IMDb                 12   \n",
       "\n",
       "   review_count_critic  rating_value  rating_count date_published  \\\n",
       "0                    2           5.8          1255     1894-03-10   \n",
       "1                    0           6.5           148     1892-10-28   \n",
       "2                    5           6.6           819     1892-10-28   \n",
       "\n",
       "                              release_date  movie_year  birthYear  \\\n",
       "0        10 March 1894 (USA)    See more »        1894       1860   \n",
       "1   28 October 1892 (France)    See more »        1892       1844   \n",
       "2   28 October 1892 (France)    See more »        1892       1844   \n",
       "\n",
       "                   primaryProfession                           knownForTitles  \\\n",
       "0  cinematographer,director,producer  tt0219560,tt6687694,tt1428455,tt1496763   \n",
       "1                           director  tt2184231,tt0000003,tt2184201,tt0413219   \n",
       "2                           director  tt2184231,tt0000003,tt2184201,tt0413219   \n",
       "\n",
       "  Gender  \n",
       "0   Male  \n",
       "1   Male  \n",
       "2   Male  "
      ]
     },
     "execution_count": 11,
     "metadata": {},
     "output_type": "execute_result"
    }
   ],
   "source": [
    "data.head(3)"
   ]
  },
  {
   "cell_type": "markdown",
   "metadata": {},
   "source": [
    "## Functions to save data to file with dataframe name."
   ]
  },
  {
   "cell_type": "code",
   "execution_count": 12,
   "metadata": {},
   "outputs": [],
   "source": [
    "# Helper method for save_to_file\n",
    "\n",
    "def get_df_name(df):\n",
    "    name =[x for x in globals() if globals()[x] is df][0]\n",
    "    return name"
   ]
  },
  {
   "cell_type": "code",
   "execution_count": 13,
   "metadata": {},
   "outputs": [],
   "source": [
    "# Function: Save Dataframe to CSV\n",
    "\n",
    "def save_to_file(dataFrame, folderPath):\n",
    "    today = date.today()\n",
    "    todayDate = today.strftime(\"%b-%d-%Y\")\n",
    "#     dataFrame.to_csv(folderPath+ '\\\\' + get_df_name(dataFrame) + '_' + todayDate  + '.csv',index=False, encoding=\"utf8\" )\n",
    "    dataFrame.to_csv(folderPath+ '\\\\' + get_df_name(dataFrame) + '_' + todayDate  + '.csv',index=False, encoding=\"utf-8-sig\" )"
   ]
  },
  {
   "cell_type": "markdown",
   "metadata": {},
   "source": [
    "## Fetch the first movie year and career year number of each movie"
   ]
  },
  {
   "cell_type": "code",
   "execution_count": 23,
   "metadata": {
    "scrolled": true
   },
   "outputs": [
    {
     "data": {
      "text/html": [
       "<div>\n",
       "<style scoped>\n",
       "    .dataframe tbody tr th:only-of-type {\n",
       "        vertical-align: middle;\n",
       "    }\n",
       "\n",
       "    .dataframe tbody tr th {\n",
       "        vertical-align: top;\n",
       "    }\n",
       "\n",
       "    .dataframe thead th {\n",
       "        text-align: right;\n",
       "    }\n",
       "</style>\n",
       "<table border=\"1\" class=\"dataframe\">\n",
       "  <thead>\n",
       "    <tr style=\"text-align: right;\">\n",
       "      <th></th>\n",
       "      <th>CareerStartYear</th>\n",
       "      <th>director_ids</th>\n",
       "    </tr>\n",
       "  </thead>\n",
       "  <tbody>\n",
       "    <tr>\n",
       "      <th>18844</th>\n",
       "      <td>1946</td>\n",
       "      <td>nm0000005</td>\n",
       "    </tr>\n",
       "    <tr>\n",
       "      <th>31916</th>\n",
       "      <td>1961</td>\n",
       "      <td>nm0000008</td>\n",
       "    </tr>\n",
       "    <tr>\n",
       "      <th>38019</th>\n",
       "      <td>1967</td>\n",
       "      <td>nm0000009</td>\n",
       "    </tr>\n",
       "    <tr>\n",
       "      <th>28499</th>\n",
       "      <td>1957</td>\n",
       "      <td>nm0000010</td>\n",
       "    </tr>\n",
       "    <tr>\n",
       "      <th>43836</th>\n",
       "      <td>1973</td>\n",
       "      <td>nm0000018</td>\n",
       "    </tr>\n",
       "    <tr>\n",
       "      <th>...</th>\n",
       "      <td>...</td>\n",
       "      <td>...</td>\n",
       "    </tr>\n",
       "    <tr>\n",
       "      <th>325306</th>\n",
       "      <td>2015</td>\n",
       "      <td>nm8794368</td>\n",
       "    </tr>\n",
       "    <tr>\n",
       "      <th>325318</th>\n",
       "      <td>2016</td>\n",
       "      <td>nm8818507</td>\n",
       "    </tr>\n",
       "    <tr>\n",
       "      <th>325330</th>\n",
       "      <td>2016</td>\n",
       "      <td>nm8855422</td>\n",
       "    </tr>\n",
       "    <tr>\n",
       "      <th>325362</th>\n",
       "      <td>2016</td>\n",
       "      <td>nm8863860</td>\n",
       "    </tr>\n",
       "    <tr>\n",
       "      <th>325373</th>\n",
       "      <td>2016</td>\n",
       "      <td>nm8895714</td>\n",
       "    </tr>\n",
       "  </tbody>\n",
       "</table>\n",
       "<p>41629 rows × 2 columns</p>\n",
       "</div>"
      ],
      "text/plain": [
       "        CareerStartYear director_ids\n",
       "18844              1946    nm0000005\n",
       "31916              1961    nm0000008\n",
       "38019              1967    nm0000009\n",
       "28499              1957    nm0000010\n",
       "43836              1973    nm0000018\n",
       "...                 ...          ...\n",
       "325306             2015    nm8794368\n",
       "325318             2016    nm8818507\n",
       "325330             2016    nm8855422\n",
       "325362             2016    nm8863860\n",
       "325373             2016    nm8895714\n",
       "\n",
       "[41629 rows x 2 columns]"
      ]
     },
     "execution_count": 23,
     "metadata": {},
     "output_type": "execute_result"
    }
   ],
   "source": [
    "# Dataframe to group the directors and find the minimum movie year which indicates the Career Start year\n",
    "directorsCareerStartYearDF = data.loc[data.groupby('director_ids')['movie_year'].idxmin()][['movie_year','director_ids']]\n",
    "\n",
    "# Rename the column Movie Year to CareerStartYear\n",
    "directorsCareerStartYearDF = directorsCareerStartYearDF.rename(columns={'movie_year':'CareerStartYear'})\n",
    "directorsCareerStartYearDF"
   ]
  },
  {
   "cell_type": "code",
   "execution_count": 24,
   "metadata": {},
   "outputs": [],
   "source": [
    "# Merge the Directors Career Start Year with the original data set\n",
    "withFirstMovieYearDF = data.merge(directorsCareerStartYearDF, on='director_ids',how = 'left')\n",
    "\n",
    "# Generate a column with Career Year number. i.e - Movie year - Career Start Year + 1\n",
    "withFirstMovieYearDF[\"Career_Year_Number\"] = withFirstMovieYearDF.movie_year - withFirstMovieYearDF.CareerStartYear + 1"
   ]
  },
  {
   "cell_type": "code",
   "execution_count": 25,
   "metadata": {},
   "outputs": [],
   "source": [
    "# withFirstMovieYearDF.loc[withFirstMovieYearDF.Career_Year_Number == 0,'Career_Year_Number'] = 1"
   ]
  },
  {
   "cell_type": "code",
   "execution_count": 26,
   "metadata": {},
   "outputs": [
    {
     "data": {
      "text/html": [
       "<div>\n",
       "<style scoped>\n",
       "    .dataframe tbody tr th:only-of-type {\n",
       "        vertical-align: middle;\n",
       "    }\n",
       "\n",
       "    .dataframe tbody tr th {\n",
       "        vertical-align: top;\n",
       "    }\n",
       "\n",
       "    .dataframe thead th {\n",
       "        text-align: right;\n",
       "    }\n",
       "</style>\n",
       "<table border=\"1\" class=\"dataframe\">\n",
       "  <thead>\n",
       "    <tr style=\"text-align: right;\">\n",
       "      <th></th>\n",
       "      <th>director_ids</th>\n",
       "      <th>director_names</th>\n",
       "      <th>movie_id</th>\n",
       "      <th>title</th>\n",
       "      <th>review_count_user</th>\n",
       "      <th>review_count_critic</th>\n",
       "      <th>rating_value</th>\n",
       "      <th>rating_count</th>\n",
       "      <th>date_published</th>\n",
       "      <th>release_date</th>\n",
       "      <th>movie_year</th>\n",
       "      <th>birthYear</th>\n",
       "      <th>primaryProfession</th>\n",
       "      <th>knownForTitles</th>\n",
       "      <th>Gender</th>\n",
       "      <th>CareerStartYear</th>\n",
       "      <th>Career_Year_Number</th>\n",
       "    </tr>\n",
       "  </thead>\n",
       "  <tbody>\n",
       "    <tr>\n",
       "      <th>0</th>\n",
       "      <td>nm0005690</td>\n",
       "      <td>William K.L. Dickson</td>\n",
       "      <td>tt0000001</td>\n",
       "      <td>Carmencita - spanyol tánc (1894) - IMDb</td>\n",
       "      <td>12</td>\n",
       "      <td>2</td>\n",
       "      <td>5.8</td>\n",
       "      <td>1255</td>\n",
       "      <td>1894-03-10</td>\n",
       "      <td>10 March 1894 (USA)    See more »</td>\n",
       "      <td>1894</td>\n",
       "      <td>1860</td>\n",
       "      <td>cinematographer,director,producer</td>\n",
       "      <td>tt0219560,tt6687694,tt1428455,tt1496763</td>\n",
       "      <td>Male</td>\n",
       "      <td>1890</td>\n",
       "      <td>5</td>\n",
       "    </tr>\n",
       "    <tr>\n",
       "      <th>1</th>\n",
       "      <td>nm0721526</td>\n",
       "      <td>Émile Reynaud</td>\n",
       "      <td>tt0000002</td>\n",
       "      <td>A bohóc és kutyái (1892) - IMDb</td>\n",
       "      <td>0</td>\n",
       "      <td>0</td>\n",
       "      <td>6.5</td>\n",
       "      <td>148</td>\n",
       "      <td>1892-10-28</td>\n",
       "      <td>28 October 1892 (France)    See more »</td>\n",
       "      <td>1892</td>\n",
       "      <td>1844</td>\n",
       "      <td>director</td>\n",
       "      <td>tt2184231,tt0000003,tt2184201,tt0413219</td>\n",
       "      <td>Male</td>\n",
       "      <td>1892</td>\n",
       "      <td>1</td>\n",
       "    </tr>\n",
       "    <tr>\n",
       "      <th>2</th>\n",
       "      <td>nm0721526</td>\n",
       "      <td>Émile Reynaud</td>\n",
       "      <td>tt0000003</td>\n",
       "      <td>Szegény Pierrot (1892) - IMDb</td>\n",
       "      <td>12</td>\n",
       "      <td>5</td>\n",
       "      <td>6.6</td>\n",
       "      <td>819</td>\n",
       "      <td>1892-10-28</td>\n",
       "      <td>28 October 1892 (France)    See more »</td>\n",
       "      <td>1892</td>\n",
       "      <td>1844</td>\n",
       "      <td>director</td>\n",
       "      <td>tt2184231,tt0000003,tt2184201,tt0413219</td>\n",
       "      <td>Male</td>\n",
       "      <td>1892</td>\n",
       "      <td>1</td>\n",
       "    </tr>\n",
       "    <tr>\n",
       "      <th>3</th>\n",
       "      <td>nm0721526</td>\n",
       "      <td>Émile Reynaud</td>\n",
       "      <td>tt0000004</td>\n",
       "      <td>Egy jó pohár sör (1892) - IMDb</td>\n",
       "      <td>1</td>\n",
       "      <td>0</td>\n",
       "      <td>6.6</td>\n",
       "      <td>90</td>\n",
       "      <td>1892-10-28</td>\n",
       "      <td>28 October 1892 (France)    See more »</td>\n",
       "      <td>1892</td>\n",
       "      <td>1844</td>\n",
       "      <td>director</td>\n",
       "      <td>tt2184231,tt0000003,tt2184201,tt0413219</td>\n",
       "      <td>Male</td>\n",
       "      <td>1892</td>\n",
       "      <td>1</td>\n",
       "    </tr>\n",
       "    <tr>\n",
       "      <th>4</th>\n",
       "      <td>nm0005690</td>\n",
       "      <td>William K.L. Dickson</td>\n",
       "      <td>tt0000005</td>\n",
       "      <td>A patkolókovács (1893) - IMDb</td>\n",
       "      <td>18</td>\n",
       "      <td>3</td>\n",
       "      <td>6.2</td>\n",
       "      <td>1499</td>\n",
       "      <td>1893-05-09</td>\n",
       "      <td>9 May 1893 (USA)    See more »</td>\n",
       "      <td>1893</td>\n",
       "      <td>1860</td>\n",
       "      <td>cinematographer,director,producer</td>\n",
       "      <td>tt0219560,tt6687694,tt1428455,tt1496763</td>\n",
       "      <td>Male</td>\n",
       "      <td>1890</td>\n",
       "      <td>4</td>\n",
       "    </tr>\n",
       "    <tr>\n",
       "      <th>...</th>\n",
       "      <td>...</td>\n",
       "      <td>...</td>\n",
       "      <td>...</td>\n",
       "      <td>...</td>\n",
       "      <td>...</td>\n",
       "      <td>...</td>\n",
       "      <td>...</td>\n",
       "      <td>...</td>\n",
       "      <td>...</td>\n",
       "      <td>...</td>\n",
       "      <td>...</td>\n",
       "      <td>...</td>\n",
       "      <td>...</td>\n",
       "      <td>...</td>\n",
       "      <td>...</td>\n",
       "      <td>...</td>\n",
       "      <td>...</td>\n",
       "    </tr>\n",
       "    <tr>\n",
       "      <th>325370</th>\n",
       "      <td>nm0267512</td>\n",
       "      <td>Valerie Faris</td>\n",
       "      <td>tt6720730</td>\n",
       "      <td>Red Hot Chili Peppers: Californication (Video ...</td>\n",
       "      <td>0</td>\n",
       "      <td>0</td>\n",
       "      <td>7.3</td>\n",
       "      <td>10</td>\n",
       "      <td>2000-06-05</td>\n",
       "      <td>5 June 2000 (USA)    See more »</td>\n",
       "      <td>2000</td>\n",
       "      <td>1958</td>\n",
       "      <td>director,producer,writer</td>\n",
       "      <td>tt4648296,tt0449059,tt1839492,tt4622512</td>\n",
       "      <td>Female</td>\n",
       "      <td>1986</td>\n",
       "      <td>15</td>\n",
       "    </tr>\n",
       "    <tr>\n",
       "      <th>325371</th>\n",
       "      <td>nm1982597</td>\n",
       "      <td>Rihanna</td>\n",
       "      <td>tt6723088</td>\n",
       "      <td>Rihanna: Disturbia (Video 2008) - IMDb</td>\n",
       "      <td>0</td>\n",
       "      <td>0</td>\n",
       "      <td>6.6</td>\n",
       "      <td>14</td>\n",
       "      <td>2008-07-22</td>\n",
       "      <td>22 July 2008 (USA)    See more »</td>\n",
       "      <td>2008</td>\n",
       "      <td>1988</td>\n",
       "      <td>soundtrack,actress,composer</td>\n",
       "      <td>tt1440129,tt2239822,tt1245492,tt2224026</td>\n",
       "      <td>Female</td>\n",
       "      <td>2008</td>\n",
       "      <td>1</td>\n",
       "    </tr>\n",
       "    <tr>\n",
       "      <th>325372</th>\n",
       "      <td>nm0000005</td>\n",
       "      <td>Ingmar Bergman</td>\n",
       "      <td>tt6725014</td>\n",
       "      <td>Scenes from a Marriage: Theatrical Version (19...</td>\n",
       "      <td>0</td>\n",
       "      <td>0</td>\n",
       "      <td>7.8</td>\n",
       "      <td>30</td>\n",
       "      <td>1974-09-21</td>\n",
       "      <td>21 September 1974 (USA)    See more »</td>\n",
       "      <td>1974</td>\n",
       "      <td>1918</td>\n",
       "      <td>writer,director,actor</td>\n",
       "      <td>tt0083922,tt0069467,tt0050986,tt0050976</td>\n",
       "      <td>Male</td>\n",
       "      <td>1946</td>\n",
       "      <td>29</td>\n",
       "    </tr>\n",
       "    <tr>\n",
       "      <th>325373</th>\n",
       "      <td>nm8895714</td>\n",
       "      <td>Grant Bullert</td>\n",
       "      <td>tt6732168</td>\n",
       "      <td>In the Dark (2016) - IMDb</td>\n",
       "      <td>0</td>\n",
       "      <td>0</td>\n",
       "      <td>5.0</td>\n",
       "      <td>6</td>\n",
       "      <td>None</td>\n",
       "      <td>None</td>\n",
       "      <td>2016</td>\n",
       "      <td>1996</td>\n",
       "      <td>writer,cinematographer,producer</td>\n",
       "      <td>tt7440708,tt6732168,tt8400134,tt7924700</td>\n",
       "      <td>Male</td>\n",
       "      <td>2016</td>\n",
       "      <td>1</td>\n",
       "    </tr>\n",
       "    <tr>\n",
       "      <th>325374</th>\n",
       "      <td>nm1183471</td>\n",
       "      <td>Mariano Llinás</td>\n",
       "      <td>tt6753894</td>\n",
       "      <td>La Flor: Primera Parte (2016) - IMDb</td>\n",
       "      <td>0</td>\n",
       "      <td>0</td>\n",
       "      <td>7.8</td>\n",
       "      <td>9</td>\n",
       "      <td>2016-11-23</td>\n",
       "      <td>23 November 2016 (Argentina)    See more »</td>\n",
       "      <td>2016</td>\n",
       "      <td>1975</td>\n",
       "      <td>writer,producer,director</td>\n",
       "      <td>tt9047474,tt0319031,tt1225831,tt3784222</td>\n",
       "      <td>Male</td>\n",
       "      <td>1998</td>\n",
       "      <td>19</td>\n",
       "    </tr>\n",
       "  </tbody>\n",
       "</table>\n",
       "<p>325375 rows × 17 columns</p>\n",
       "</div>"
      ],
      "text/plain": [
       "       director_ids        director_names   movie_id  \\\n",
       "0         nm0005690  William K.L. Dickson  tt0000001   \n",
       "1         nm0721526         Émile Reynaud  tt0000002   \n",
       "2         nm0721526         Émile Reynaud  tt0000003   \n",
       "3         nm0721526         Émile Reynaud  tt0000004   \n",
       "4         nm0005690  William K.L. Dickson  tt0000005   \n",
       "...             ...                   ...        ...   \n",
       "325370    nm0267512         Valerie Faris  tt6720730   \n",
       "325371    nm1982597               Rihanna  tt6723088   \n",
       "325372    nm0000005        Ingmar Bergman  tt6725014   \n",
       "325373    nm8895714         Grant Bullert  tt6732168   \n",
       "325374    nm1183471        Mariano Llinás  tt6753894   \n",
       "\n",
       "                                                    title  review_count_user  \\\n",
       "0                 Carmencita - spanyol tánc (1894) - IMDb                 12   \n",
       "1                         A bohóc és kutyái (1892) - IMDb                  0   \n",
       "2                           Szegény Pierrot (1892) - IMDb                 12   \n",
       "3                          Egy jó pohár sör (1892) - IMDb                  1   \n",
       "4                           A patkolókovács (1893) - IMDb                 18   \n",
       "...                                                   ...                ...   \n",
       "325370  Red Hot Chili Peppers: Californication (Video ...                  0   \n",
       "325371             Rihanna: Disturbia (Video 2008) - IMDb                  0   \n",
       "325372  Scenes from a Marriage: Theatrical Version (19...                  0   \n",
       "325373                          In the Dark (2016) - IMDb                  0   \n",
       "325374               La Flor: Primera Parte (2016) - IMDb                  0   \n",
       "\n",
       "        review_count_critic  rating_value  rating_count date_published  \\\n",
       "0                         2           5.8          1255     1894-03-10   \n",
       "1                         0           6.5           148     1892-10-28   \n",
       "2                         5           6.6           819     1892-10-28   \n",
       "3                         0           6.6            90     1892-10-28   \n",
       "4                         3           6.2          1499     1893-05-09   \n",
       "...                     ...           ...           ...            ...   \n",
       "325370                    0           7.3            10     2000-06-05   \n",
       "325371                    0           6.6            14     2008-07-22   \n",
       "325372                    0           7.8            30     1974-09-21   \n",
       "325373                    0           5.0             6           None   \n",
       "325374                    0           7.8             9     2016-11-23   \n",
       "\n",
       "                                       release_date  movie_year  birthYear  \\\n",
       "0                 10 March 1894 (USA)    See more »        1894       1860   \n",
       "1            28 October 1892 (France)    See more »        1892       1844   \n",
       "2            28 October 1892 (France)    See more »        1892       1844   \n",
       "3            28 October 1892 (France)    See more »        1892       1844   \n",
       "4                    9 May 1893 (USA)    See more »        1893       1860   \n",
       "...                                             ...         ...        ...   \n",
       "325370              5 June 2000 (USA)    See more »        2000       1958   \n",
       "325371             22 July 2008 (USA)    See more »        2008       1988   \n",
       "325372        21 September 1974 (USA)    See more »        1974       1918   \n",
       "325373                                         None        2016       1996   \n",
       "325374   23 November 2016 (Argentina)    See more »        2016       1975   \n",
       "\n",
       "                        primaryProfession  \\\n",
       "0       cinematographer,director,producer   \n",
       "1                                director   \n",
       "2                                director   \n",
       "3                                director   \n",
       "4       cinematographer,director,producer   \n",
       "...                                   ...   \n",
       "325370           director,producer,writer   \n",
       "325371        soundtrack,actress,composer   \n",
       "325372              writer,director,actor   \n",
       "325373    writer,cinematographer,producer   \n",
       "325374           writer,producer,director   \n",
       "\n",
       "                                 knownForTitles  Gender  CareerStartYear  \\\n",
       "0       tt0219560,tt6687694,tt1428455,tt1496763    Male             1890   \n",
       "1       tt2184231,tt0000003,tt2184201,tt0413219    Male             1892   \n",
       "2       tt2184231,tt0000003,tt2184201,tt0413219    Male             1892   \n",
       "3       tt2184231,tt0000003,tt2184201,tt0413219    Male             1892   \n",
       "4       tt0219560,tt6687694,tt1428455,tt1496763    Male             1890   \n",
       "...                                         ...     ...              ...   \n",
       "325370  tt4648296,tt0449059,tt1839492,tt4622512  Female             1986   \n",
       "325371  tt1440129,tt2239822,tt1245492,tt2224026  Female             2008   \n",
       "325372  tt0083922,tt0069467,tt0050986,tt0050976    Male             1946   \n",
       "325373  tt7440708,tt6732168,tt8400134,tt7924700    Male             2016   \n",
       "325374  tt9047474,tt0319031,tt1225831,tt3784222    Male             1998   \n",
       "\n",
       "        Career_Year_Number  \n",
       "0                        5  \n",
       "1                        1  \n",
       "2                        1  \n",
       "3                        1  \n",
       "4                        4  \n",
       "...                    ...  \n",
       "325370                  15  \n",
       "325371                   1  \n",
       "325372                  29  \n",
       "325373                   1  \n",
       "325374                  19  \n",
       "\n",
       "[325375 rows x 17 columns]"
      ]
     },
     "execution_count": 26,
     "metadata": {},
     "output_type": "execute_result"
    }
   ],
   "source": [
    "withFirstMovieYearDF"
   ]
  },
  {
   "cell_type": "code",
   "execution_count": 27,
   "metadata": {
    "scrolled": true
   },
   "outputs": [
    {
     "data": {
      "text/plain": [
       "director_ids            41629\n",
       "director_names          41486\n",
       "movie_id               311939\n",
       "title                  311544\n",
       "review_count_user         987\n",
       "review_count_critic       534\n",
       "rating_value               91\n",
       "rating_count            12362\n",
       "date_published          33506\n",
       "release_date           132612\n",
       "movie_year                131\n",
       "birthYear                 163\n",
       "primaryProfession        2386\n",
       "knownForTitles          41614\n",
       "Gender                      2\n",
       "CareerStartYear           128\n",
       "Career_Year_Number         88\n",
       "dtype: int64"
      ]
     },
     "execution_count": 27,
     "metadata": {},
     "output_type": "execute_result"
    }
   ],
   "source": [
    "withFirstMovieYearDF.nunique()"
   ]
  },
  {
   "cell_type": "markdown",
   "metadata": {},
   "source": [
    "### Generate inter_event_time column which contains the time between consequtive movies"
   ]
  },
  {
   "cell_type": "code",
   "execution_count": 28,
   "metadata": {},
   "outputs": [
    {
     "name": "stdout",
     "output_type": "stream",
     "text": [
      "Shape of dataset :  (325375, 17)\n",
      "Shape of dataset after adding the inter_event_time :  (325375, 18)\n"
     ]
    }
   ],
   "source": [
    "print(\"Shape of dataset : \",withFirstMovieYearDF.shape)\n",
    "\n",
    "# Sort the values by director_ids and movie_year to have a dataset in chronological order of movies released per director\n",
    "withFirstMovieYearDF = withFirstMovieYearDF.sort_values(by=['director_ids', 'movie_year'],ascending=[True,True])\n",
    "\n",
    "# Use the diff() function which finds the differences between the value in a current cell compared to the one above\n",
    "withFirstMovieYearDF['inter_event_time'] = withFirstMovieYearDF.movie_year.diff()\n",
    "\n",
    "# Group the directors and find the minimum movie year index of each director \n",
    "# and replace them with 0 since their values are the first in each group and should be zero\n",
    "withFirstMovieYearDF.loc[withFirstMovieYearDF.groupby('director_ids')['movie_year'].idxmin(),'inter_event_time'] = None\n",
    "\n",
    "withFirstMovieYearDF = withFirstMovieYearDF.sort_index()\n",
    "print(\"Shape of dataset after adding the inter_event_time : \",withFirstMovieYearDF.shape)"
   ]
  },
  {
   "cell_type": "code",
   "execution_count": 30,
   "metadata": {},
   "outputs": [
    {
     "name": "stdout",
     "output_type": "stream",
     "text": [
      "<class 'pandas.core.frame.DataFrame'>\n",
      "Int64Index: 325375 entries, 0 to 325374\n",
      "Data columns (total 18 columns):\n",
      " #   Column               Non-Null Count   Dtype  \n",
      "---  ------               --------------   -----  \n",
      " 0   director_ids         325375 non-null  object \n",
      " 1   director_names       325375 non-null  object \n",
      " 2   movie_id             325375 non-null  object \n",
      " 3   title                325375 non-null  object \n",
      " 4   review_count_user    325375 non-null  int64  \n",
      " 5   review_count_critic  325375 non-null  int64  \n",
      " 6   rating_value         325375 non-null  float64\n",
      " 7   rating_count         325375 non-null  int64  \n",
      " 8   date_published       325375 non-null  object \n",
      " 9   release_date         325375 non-null  object \n",
      " 10  movie_year           325375 non-null  int32  \n",
      " 11  birthYear            325375 non-null  int32  \n",
      " 12  primaryProfession    325375 non-null  object \n",
      " 13  knownForTitles       325375 non-null  object \n",
      " 14  Gender               325375 non-null  object \n",
      " 15  CareerStartYear      325375 non-null  int64  \n",
      " 16  Career_Year_Number   325375 non-null  int64  \n",
      " 17  inter_event_time     283746 non-null  float64\n",
      "dtypes: float64(2), int32(2), int64(5), object(9)\n",
      "memory usage: 44.7+ MB\n"
     ]
    }
   ],
   "source": [
    "withFirstMovieYearDF.info()"
   ]
  },
  {
   "cell_type": "code",
   "execution_count": 29,
   "metadata": {},
   "outputs": [],
   "source": [
    "# Convert into int years before using for calculations\n",
    "\n",
    "withFirstMovieYearDF.movie_year = withFirstMovieYearDF.movie_year.astype(int)\n",
    "withFirstMovieYearDF.birthYear = withFirstMovieYearDF.birthYear.astype(int)"
   ]
  },
  {
   "cell_type": "markdown",
   "metadata": {},
   "source": [
    "#### Right censoring or Posthumous Recognition"
   ]
  },
  {
   "cell_type": "code",
   "execution_count": null,
   "metadata": {},
   "outputs": [],
   "source": [
    "# # Posthumous Recoginition\n",
    "# # The records which we believe contain Posthumous data. i.e. movies released after n years of directors death\n",
    "# years_after_death = 2\n",
    "# dropIncorrectlyRecordedYears = withFirstMovieYearDF.loc[(withFirstMovieYearDF.movie_year - withFirstMovieYearDF.deathYear >= years_after_death) & (withFirstMovieYearDF.deathYear !=0)]\n",
    "# dropIncorrectlyRecordedYears\n",
    "\n",
    "# # Drop all values containing movies released after n years as per the above assumption\n",
    "\n",
    "# withFirstMovieYearDF.drop(dropIncorrectlyRecordedYears.index, inplace= True)"
   ]
  },
  {
   "cell_type": "code",
   "execution_count": 31,
   "metadata": {},
   "outputs": [
    {
     "data": {
      "text/html": [
       "<div>\n",
       "<style scoped>\n",
       "    .dataframe tbody tr th:only-of-type {\n",
       "        vertical-align: middle;\n",
       "    }\n",
       "\n",
       "    .dataframe tbody tr th {\n",
       "        vertical-align: top;\n",
       "    }\n",
       "\n",
       "    .dataframe thead th {\n",
       "        text-align: right;\n",
       "    }\n",
       "</style>\n",
       "<table border=\"1\" class=\"dataframe\">\n",
       "  <thead>\n",
       "    <tr style=\"text-align: right;\">\n",
       "      <th></th>\n",
       "      <th>director_ids</th>\n",
       "      <th>director_names</th>\n",
       "      <th>movie_id</th>\n",
       "      <th>title</th>\n",
       "      <th>review_count_user</th>\n",
       "      <th>review_count_critic</th>\n",
       "      <th>rating_value</th>\n",
       "      <th>rating_count</th>\n",
       "      <th>date_published</th>\n",
       "      <th>release_date</th>\n",
       "      <th>movie_year</th>\n",
       "      <th>birthYear</th>\n",
       "      <th>primaryProfession</th>\n",
       "      <th>knownForTitles</th>\n",
       "      <th>Gender</th>\n",
       "      <th>CareerStartYear</th>\n",
       "      <th>Career_Year_Number</th>\n",
       "      <th>inter_event_time</th>\n",
       "    </tr>\n",
       "  </thead>\n",
       "  <tbody>\n",
       "    <tr>\n",
       "      <th>0</th>\n",
       "      <td>nm0005690</td>\n",
       "      <td>William K.L. Dickson</td>\n",
       "      <td>tt0000001</td>\n",
       "      <td>Carmencita - spanyol tánc (1894) - IMDb</td>\n",
       "      <td>12</td>\n",
       "      <td>2</td>\n",
       "      <td>5.8</td>\n",
       "      <td>1255</td>\n",
       "      <td>1894-03-10</td>\n",
       "      <td>10 March 1894 (USA)    See more »</td>\n",
       "      <td>1894</td>\n",
       "      <td>1860</td>\n",
       "      <td>cinematographer,director,producer</td>\n",
       "      <td>tt0219560,tt6687694,tt1428455,tt1496763</td>\n",
       "      <td>Male</td>\n",
       "      <td>1890</td>\n",
       "      <td>5</td>\n",
       "      <td>1.0</td>\n",
       "    </tr>\n",
       "    <tr>\n",
       "      <th>1</th>\n",
       "      <td>nm0721526</td>\n",
       "      <td>Émile Reynaud</td>\n",
       "      <td>tt0000002</td>\n",
       "      <td>A bohóc és kutyái (1892) - IMDb</td>\n",
       "      <td>0</td>\n",
       "      <td>0</td>\n",
       "      <td>6.5</td>\n",
       "      <td>148</td>\n",
       "      <td>1892-10-28</td>\n",
       "      <td>28 October 1892 (France)    See more »</td>\n",
       "      <td>1892</td>\n",
       "      <td>1844</td>\n",
       "      <td>director</td>\n",
       "      <td>tt2184231,tt0000003,tt2184201,tt0413219</td>\n",
       "      <td>Male</td>\n",
       "      <td>1892</td>\n",
       "      <td>1</td>\n",
       "      <td>NaN</td>\n",
       "    </tr>\n",
       "    <tr>\n",
       "      <th>2</th>\n",
       "      <td>nm0721526</td>\n",
       "      <td>Émile Reynaud</td>\n",
       "      <td>tt0000003</td>\n",
       "      <td>Szegény Pierrot (1892) - IMDb</td>\n",
       "      <td>12</td>\n",
       "      <td>5</td>\n",
       "      <td>6.6</td>\n",
       "      <td>819</td>\n",
       "      <td>1892-10-28</td>\n",
       "      <td>28 October 1892 (France)    See more »</td>\n",
       "      <td>1892</td>\n",
       "      <td>1844</td>\n",
       "      <td>director</td>\n",
       "      <td>tt2184231,tt0000003,tt2184201,tt0413219</td>\n",
       "      <td>Male</td>\n",
       "      <td>1892</td>\n",
       "      <td>1</td>\n",
       "      <td>0.0</td>\n",
       "    </tr>\n",
       "  </tbody>\n",
       "</table>\n",
       "</div>"
      ],
      "text/plain": [
       "  director_ids        director_names   movie_id  \\\n",
       "0    nm0005690  William K.L. Dickson  tt0000001   \n",
       "1    nm0721526         Émile Reynaud  tt0000002   \n",
       "2    nm0721526         Émile Reynaud  tt0000003   \n",
       "\n",
       "                                     title  review_count_user  \\\n",
       "0  Carmencita - spanyol tánc (1894) - IMDb                 12   \n",
       "1          A bohóc és kutyái (1892) - IMDb                  0   \n",
       "2            Szegény Pierrot (1892) - IMDb                 12   \n",
       "\n",
       "   review_count_critic  rating_value  rating_count date_published  \\\n",
       "0                    2           5.8          1255     1894-03-10   \n",
       "1                    0           6.5           148     1892-10-28   \n",
       "2                    5           6.6           819     1892-10-28   \n",
       "\n",
       "                              release_date  movie_year  birthYear  \\\n",
       "0        10 March 1894 (USA)    See more »        1894       1860   \n",
       "1   28 October 1892 (France)    See more »        1892       1844   \n",
       "2   28 October 1892 (France)    See more »        1892       1844   \n",
       "\n",
       "                   primaryProfession                           knownForTitles  \\\n",
       "0  cinematographer,director,producer  tt0219560,tt6687694,tt1428455,tt1496763   \n",
       "1                           director  tt2184231,tt0000003,tt2184201,tt0413219   \n",
       "2                           director  tt2184231,tt0000003,tt2184201,tt0413219   \n",
       "\n",
       "  Gender  CareerStartYear  Career_Year_Number  inter_event_time  \n",
       "0   Male             1890                   5               1.0  \n",
       "1   Male             1892                   1               NaN  \n",
       "2   Male             1892                   1               0.0  "
      ]
     },
     "execution_count": 31,
     "metadata": {},
     "output_type": "execute_result"
    }
   ],
   "source": [
    "withFirstMovieYearDF.head(3)"
   ]
  },
  {
   "cell_type": "code",
   "execution_count": 32,
   "metadata": {
    "scrolled": true
   },
   "outputs": [
    {
     "data": {
      "text/plain": [
       "1     50622\n",
       "3     16007\n",
       "2     15721\n",
       "4     15390\n",
       "5     14545\n",
       "      ...  \n",
       "83        1\n",
       "73        1\n",
       "85        1\n",
       "94        1\n",
       "95        1\n",
       "Name: Career_Year_Number, Length: 88, dtype: int64"
      ]
     },
     "execution_count": 32,
     "metadata": {},
     "output_type": "execute_result"
    }
   ],
   "source": [
    "withFirstMovieYearDF.Career_Year_Number.value_counts(dropna=False)"
   ]
  },
  {
   "cell_type": "markdown",
   "metadata": {},
   "source": [
    "## Director Specific collection"
   ]
  },
  {
   "cell_type": "markdown",
   "metadata": {},
   "source": [
    "### Dropping Rating value records with None or NA"
   ]
  },
  {
   "cell_type": "code",
   "execution_count": 33,
   "metadata": {},
   "outputs": [],
   "source": [
    "# dropRatingLessRecords = withFirstMovieYearDF.loc[withFirstMovieYearDF['rating_value'] == 'None']\n",
    "# len(dropRatingLessRecords)"
   ]
  },
  {
   "cell_type": "code",
   "execution_count": 34,
   "metadata": {},
   "outputs": [],
   "source": [
    "# # Drop all values containing incorrect recorded years as per the above assumption\n",
    "# print(\"Before dropping records : \",len(withFirstMovieYearDF))\n",
    "# withFirstMovieYearDF.drop(dropRatingLessRecords.index, inplace= True)\n",
    "# print(\"After dropping records : \",len(withFirstMovieYearDF))"
   ]
  },
  {
   "cell_type": "markdown",
   "metadata": {},
   "source": [
    "### Dropping metascore records with None or NA"
   ]
  },
  {
   "cell_type": "code",
   "execution_count": 35,
   "metadata": {},
   "outputs": [],
   "source": [
    "# withFirstMovieYearDF.Gender.value_counts()"
   ]
  },
  {
   "cell_type": "code",
   "execution_count": 36,
   "metadata": {},
   "outputs": [],
   "source": [
    "# print(\" Movies created by Female percentage before dropping Metascore None records: \",withFirstMovieYearDF.Gender.value_counts()[1]/(withFirstMovieYearDF.Gender.value_counts()[0] + withFirstMovieYearDF.Gender.value_counts()[1]))"
   ]
  },
  {
   "cell_type": "code",
   "execution_count": 37,
   "metadata": {},
   "outputs": [],
   "source": [
    "# moviesWithMetaScoreDF = withFirstMovieYearDF.copy()\n",
    "# dropNoneMetaScoreRecords = moviesWithMetaScoreDF.loc[moviesWithMetaScoreDF['metascore'] == 'None']\n",
    "# print(len(dropNoneMetaScoreRecords))\n",
    "\n",
    "# # Drop all values containing incorrect recorded years as per the above assumption\n",
    "\n",
    "# print(\"Before dropping none Metascore records : \",len(moviesWithMetaScoreDF))\n",
    "# moviesWithMetaScoreDF.drop(dropNoneMetaScoreRecords.index, inplace= True)\n",
    "# print(\"After dropping none Metascorerecords : \",len(moviesWithMetaScoreDF))"
   ]
  },
  {
   "cell_type": "code",
   "execution_count": 38,
   "metadata": {},
   "outputs": [],
   "source": [
    "# Convert rating_value into float before using for aggregation - withFirstMovieYear along with Metascore None records\n",
    "withFirstMovieYearDF.rating_value = withFirstMovieYearDF.rating_value.astype(float)\n",
    "withFirstMovieYearDF.rating_count = withFirstMovieYearDF.rating_count.astype(int)"
   ]
  },
  {
   "cell_type": "code",
   "execution_count": 39,
   "metadata": {},
   "outputs": [
    {
     "data": {
      "text/plain": [
       "Male      271714\n",
       "Female     53661\n",
       "Name: Gender, dtype: int64"
      ]
     },
     "execution_count": 39,
     "metadata": {},
     "output_type": "execute_result"
    }
   ],
   "source": [
    "withFirstMovieYearDF.Gender.value_counts()"
   ]
  },
  {
   "cell_type": "code",
   "execution_count": 40,
   "metadata": {},
   "outputs": [
    {
     "name": "stdout",
     "output_type": "stream",
     "text": [
      "<class 'pandas.core.frame.DataFrame'>\n",
      "Int64Index: 325375 entries, 0 to 325374\n",
      "Data columns (total 18 columns):\n",
      " #   Column               Non-Null Count   Dtype  \n",
      "---  ------               --------------   -----  \n",
      " 0   director_ids         325375 non-null  object \n",
      " 1   director_names       325375 non-null  object \n",
      " 2   movie_id             325375 non-null  object \n",
      " 3   title                325375 non-null  object \n",
      " 4   review_count_user    325375 non-null  int64  \n",
      " 5   review_count_critic  325375 non-null  int64  \n",
      " 6   rating_value         325375 non-null  float64\n",
      " 7   rating_count         325375 non-null  int32  \n",
      " 8   date_published       325375 non-null  object \n",
      " 9   release_date         325375 non-null  object \n",
      " 10  movie_year           325375 non-null  int32  \n",
      " 11  birthYear            325375 non-null  int32  \n",
      " 12  primaryProfession    325375 non-null  object \n",
      " 13  knownForTitles       325375 non-null  object \n",
      " 14  Gender               325375 non-null  object \n",
      " 15  CareerStartYear      325375 non-null  int64  \n",
      " 16  Career_Year_Number   325375 non-null  int64  \n",
      " 17  inter_event_time     283746 non-null  float64\n",
      "dtypes: float64(2), int32(3), int64(4), object(9)\n",
      "memory usage: 43.4+ MB\n"
     ]
    }
   ],
   "source": [
    "withFirstMovieYearDF.info()"
   ]
  },
  {
   "cell_type": "code",
   "execution_count": 41,
   "metadata": {},
   "outputs": [],
   "source": [
    "def roundOfMean(x):\n",
    "    return round(np.mean(x),2)"
   ]
  },
  {
   "cell_type": "code",
   "execution_count": 42,
   "metadata": {},
   "outputs": [],
   "source": [
    "# groupByAggregationDirector = {\n",
    "#     'movies_produced': ('movie_id','count'),\n",
    "#     'Average_rating_value': ('rating_value',roundOfMean),\n",
    "#     'Average_rating_count': ('rating_count',roundOfMean),\n",
    "#     'career_Length': ('Career_Year_Number','max')\n",
    "# }\n",
    "\n",
    "# groupByListDirectors = ['director_ids','birthYear','deathYear','primaryProfession','knownForTitles','Gender']"
   ]
  },
  {
   "cell_type": "markdown",
   "metadata": {},
   "source": [
    "### Choose if you want director specific data for all records or TV Episodes only records or movie only records"
   ]
  },
  {
   "cell_type": "code",
   "execution_count": 43,
   "metadata": {},
   "outputs": [],
   "source": [
    "safeCopy = withFirstMovieYearDF.copy()"
   ]
  },
  {
   "cell_type": "code",
   "execution_count": 45,
   "metadata": {},
   "outputs": [],
   "source": [
    "# tv_data = withFirstMovieYearDF[withFirstMovieYearDF.tv_or_movie=='TV'].reset_index(drop = True)\n",
    "# movie_data = withFirstMovieYearDF[withFirstMovieYearDF.tv_or_movie=='Movie'].reset_index(drop = True)\n",
    "# withFirstMovieYearDF = movie_data\n",
    "# # withFirstMovieYearDF = tv_data"
   ]
  },
  {
   "cell_type": "markdown",
   "metadata": {},
   "source": [
    "## Generate cumulative Director Dataframe "
   ]
  },
  {
   "cell_type": "code",
   "execution_count": 55,
   "metadata": {
    "scrolled": true
   },
   "outputs": [
    {
     "name": "stdout",
     "output_type": "stream",
     "text": [
      "Shape of dataset begore group by :  (325375, 18)\n",
      "Shape of dataset after group by :  (41629, 14)\n"
     ]
    }
   ],
   "source": [
    "# Groupby List\n",
    "groupByListDirectors = ['director_ids']\n",
    "\n",
    "print(\"Shape of dataset begore group by : \",withFirstMovieYearDF.shape)\n",
    "\n",
    "# Group by aggregation to generate columns\n",
    "cumulativeDirectorDF = withFirstMovieYearDF.groupby(groupByListDirectors) \\\n",
    "                                     .agg({'director_names':'first',\n",
    "                                           'movie_id':'count',\n",
    "                                           'rating_value': roundOfMean,\n",
    "                                           'rating_count': roundOfMean,\n",
    "                                           'Career_Year_Number':'max',\n",
    "                                           'Gender':'first',\n",
    "                                           'birthYear':'first',\n",
    "                                           'primaryProfession':'first',\n",
    "                                           'knownForTitles':'first',\n",
    "                                           'CareerStartYear':'first',\n",
    "                                           'inter_event_time':'median'\n",
    "                                          }) \\\n",
    "                                     .reset_index()\n",
    "# Columns renamed\n",
    "cumulativeDirectorDF = cumulativeDirectorDF.rename(columns={'movie_id':'movies_produced',\n",
    "                                                            'rating_value':'Average_rating_value',\n",
    "                                                            'rating_count':'Average_rating_count',\n",
    "                                                            'Career_Year_Number':'career_Length',\n",
    "                                                            'director_names':'director_name',\n",
    "                                                            'inter_event_time':'median_inter_event_time'\n",
    "                                                            }\n",
    "                                                  )\n",
    "\n",
    "cumulativeDirectorDF['average_movie_per_year'] = round(cumulativeDirectorDF.movies_produced / cumulativeDirectorDF.career_Length,2)\n",
    "\n",
    "# cumulativeDirectorDF['average_time_between_consecutive_movies'] = round(cumulativeDirectorDF['time_between_consecutive_movies'] / (cumulativeDirectorDF.movies_produced),2)\n",
    "cumulativeDirectorDF['average_inter_event_time'] = round((cumulativeDirectorDF.career_Length-1) / (cumulativeDirectorDF.movies_produced - 1) ,2)\n",
    "cumulativeDirectorDF = cumulativeDirectorDF.fillna(0)\n",
    "# cumulativeDirectorDF[cumulativeDirectorDF.movies_produced>1]\n",
    "print(\"Shape of dataset after group by : \",cumulativeDirectorDF.shape)"
   ]
  },
  {
   "cell_type": "code",
   "execution_count": 48,
   "metadata": {},
   "outputs": [
    {
     "name": "stdout",
     "output_type": "stream",
     "text": [
      "<class 'pandas.core.frame.DataFrame'>\n",
      "RangeIndex: 41629 entries, 0 to 41628\n",
      "Data columns (total 14 columns):\n",
      " #   Column                    Non-Null Count  Dtype  \n",
      "---  ------                    --------------  -----  \n",
      " 0   director_ids              41629 non-null  object \n",
      " 1   director_name             41629 non-null  object \n",
      " 2   movies_produced           41629 non-null  int64  \n",
      " 3   Average_rating_value      41629 non-null  float64\n",
      " 4   Average_rating_count      41629 non-null  float64\n",
      " 5   career_Length             41629 non-null  int64  \n",
      " 6   Gender                    41629 non-null  object \n",
      " 7   birthYear                 41629 non-null  int32  \n",
      " 8   primaryProfession         41629 non-null  object \n",
      " 9   knownForTitles            41629 non-null  object \n",
      " 10  CareerStartYear           41629 non-null  int64  \n",
      " 11  median_inter_event_time   41629 non-null  float64\n",
      " 12  average_movie_per_year    41629 non-null  float64\n",
      " 13  average_inter_event_time  41629 non-null  float64\n",
      "dtypes: float64(5), int32(1), int64(3), object(5)\n",
      "memory usage: 4.3+ MB\n"
     ]
    }
   ],
   "source": [
    "cumulativeDirectorDF.info()"
   ]
  },
  {
   "cell_type": "markdown",
   "metadata": {},
   "source": [
    "## Generate Director Dataframe - Original data with average metascore value"
   ]
  },
  {
   "cell_type": "code",
   "execution_count": null,
   "metadata": {
    "scrolled": true
   },
   "outputs": [],
   "source": [
    "# # Groupby List\n",
    "# groupByListDirectors = ['director_ids']\n",
    "\n",
    "# # Group by aggregation to generate columns\n",
    "# directorDataDFwithMetascore = moviesWithMetaScoreDF.groupby(groupByListDirectors) \\\n",
    "#                                      .agg({'metascore':roundOfMean,\n",
    "#                                           'movie_id':'count'}) \\\n",
    "#                                      .reset_index()\n",
    "# # Columns renamed\n",
    "# directorDataDFwithMetascore = directorDataDFwithMetascore.rename(columns={'metascore':'average_metascore',\n",
    "#                                                                          'movie_id':'movies_produced_metascore',})\n",
    "# # Merge the Directors Career Start Year with the original data set\n",
    "# # directorDataDFwithMetascore = directorDataDFwithMetascore.merge(directorDataDF, on='director_ids',how = 'left')\n",
    "# directorDataDFwithMetascore = directorDataDF.merge(directorDataDFwithMetascore, on='director_ids',how = 'left')\n",
    "# directorDataDFwithMetascore['total_metascore'] = round(directorDataDFwithMetascore.average_metascore * directorDataDFwithMetascore.movies_produced_metascore,2)\n",
    "# directorDataDFwithMetascore"
   ]
  },
  {
   "cell_type": "code",
   "execution_count": 50,
   "metadata": {},
   "outputs": [
    {
     "data": {
      "text/plain": [
       "Male      32638\n",
       "Female     8991\n",
       "Name: Gender, dtype: int64"
      ]
     },
     "execution_count": 50,
     "metadata": {},
     "output_type": "execute_result"
    }
   ],
   "source": [
    "cumulativeDirectorDF.Gender.value_counts()"
   ]
  },
  {
   "cell_type": "code",
   "execution_count": 51,
   "metadata": {},
   "outputs": [
    {
     "name": "stdout",
     "output_type": "stream",
     "text": [
      " Female Gender percentage of the cumulative dataframe :  0.21597924523769488\n"
     ]
    }
   ],
   "source": [
    "print(\" Female Gender percentage of the cumulative dataframe : \",cumulativeDirectorDF.Gender.value_counts()[1]/(cumulativeDirectorDF.Gender.value_counts()[0] + cumulativeDirectorDF.Gender.value_counts()[1]))"
   ]
  },
  {
   "cell_type": "code",
   "execution_count": 52,
   "metadata": {},
   "outputs": [
    {
     "name": "stdout",
     "output_type": "stream",
     "text": [
      "<class 'pandas.core.frame.DataFrame'>\n",
      "RangeIndex: 41629 entries, 0 to 41628\n",
      "Data columns (total 14 columns):\n",
      " #   Column                    Non-Null Count  Dtype  \n",
      "---  ------                    --------------  -----  \n",
      " 0   director_ids              41629 non-null  object \n",
      " 1   director_name             41629 non-null  object \n",
      " 2   movies_produced           41629 non-null  int64  \n",
      " 3   Average_rating_value      41629 non-null  float64\n",
      " 4   Average_rating_count      41629 non-null  float64\n",
      " 5   career_Length             41629 non-null  int64  \n",
      " 6   Gender                    41629 non-null  object \n",
      " 7   birthYear                 41629 non-null  int32  \n",
      " 8   primaryProfession         41629 non-null  object \n",
      " 9   knownForTitles            41629 non-null  object \n",
      " 10  CareerStartYear           41629 non-null  int64  \n",
      " 11  median_inter_event_time   41629 non-null  float64\n",
      " 12  average_movie_per_year    41629 non-null  float64\n",
      " 13  average_inter_event_time  41629 non-null  float64\n",
      "dtypes: float64(5), int32(1), int64(3), object(5)\n",
      "memory usage: 4.3+ MB\n"
     ]
    }
   ],
   "source": [
    "cumulativeDirectorDF.info()"
   ]
  },
  {
   "cell_type": "code",
   "execution_count": 53,
   "metadata": {},
   "outputs": [
    {
     "data": {
      "text/plain": [
       "41629"
      ]
     },
     "execution_count": 53,
     "metadata": {},
     "output_type": "execute_result"
    }
   ],
   "source": [
    "cumulativeDirectorDF.director_ids.nunique()"
   ]
  },
  {
   "cell_type": "code",
   "execution_count": 54,
   "metadata": {},
   "outputs": [],
   "source": [
    "save_to_file(cumulativeDirectorDF,saveFileToPath)"
   ]
  },
  {
   "cell_type": "markdown",
   "metadata": {},
   "source": [
    "# End"
   ]
  },
  {
   "cell_type": "markdown",
   "metadata": {},
   "source": [
    "# Plotting and Visualization"
   ]
  },
  {
   "cell_type": "markdown",
   "metadata": {},
   "source": [
    "### Number of movies released along the Career Year Number"
   ]
  },
  {
   "cell_type": "code",
   "execution_count": null,
   "metadata": {},
   "outputs": [],
   "source": [
    "# Plotting a bar graph based on the first 20 value counts\n",
    "\n",
    "def plot_value_count(df,columnName,toCount,plot_title = 'Value count of data'):\n",
    "    df_columnName_count  = df[columnName].value_counts()\n",
    "    df_columnName_count = df_columnName_count[:toCount,]\n",
    "    plt.figure(figsize=(10,5))\n",
    "    sns.barplot(df_columnName_count.index, df_columnName_count.values, alpha=0.8)\n",
    "    plt.title(plot_title)\n",
    "    plt.ylabel('Number of occurence', fontsize=12)\n",
    "    plt.xlabel(columnName, fontsize=12)\n",
    "    plt.show()\n",
    "    "
   ]
  },
  {
   "cell_type": "code",
   "execution_count": null,
   "metadata": {},
   "outputs": [],
   "source": [
    "plot_value_count(withFirstMovieYearDF,'Career_Year_Number',20,'Career Year Number and the movies produced')"
   ]
  },
  {
   "cell_type": "markdown",
   "metadata": {},
   "source": [
    "### Plot features based on Gender"
   ]
  },
  {
   "cell_type": "code",
   "execution_count": null,
   "metadata": {},
   "outputs": [],
   "source": [
    "def plot_features_WRT_gender(df,columnCriteriaName,columnFeatureName):\n",
    "    diction={}\n",
    "    for i in df[columnCriteriaName].value_counts().index:\n",
    "        diction[\"{0}_{1}\".format(columnFeatureName,i)] = df[(df[columnCriteriaName] == i)][columnFeatureName]\n",
    "    for k,v in diction.items():\n",
    "        sns.distplot(v,label=[k])\n",
    "        plt.legend(bbox_to_anchor=(1.05, 0.6), loc=2, borderaxespad=0.)\n",
    "    return pd.DataFrame.from_dict(diction)\n"
   ]
  },
  {
   "cell_type": "code",
   "execution_count": null,
   "metadata": {},
   "outputs": [],
   "source": [
    "x = plot_features_WRT_gender(data,\"Gender\",\"rating_value\")"
   ]
  },
  {
   "cell_type": "code",
   "execution_count": null,
   "metadata": {},
   "outputs": [],
   "source": [
    "x = plot_features_WRT_gender(cumulativeDirectorDF,\"Gender\",\"median_inter_event_time\")"
   ]
  },
  {
   "cell_type": "code",
   "execution_count": null,
   "metadata": {},
   "outputs": [],
   "source": [
    "plot_value_count(cumulativeDirectorDF[cumulativeDirectorDF.Gender == 'Female'],'median_inter_event_time',20)"
   ]
  },
  {
   "cell_type": "code",
   "execution_count": null,
   "metadata": {},
   "outputs": [],
   "source": [
    "# # Plotting a bar graph of the number of movies released in each Career Year Number, for the first 20 Career years listed\n",
    "\n",
    "# career_year_count  = withFirstMovieYearDF['Career_Year_Number'].value_counts()\n",
    "# career_year_count = career_year_count[:20,]\n",
    "# plt.figure(figsize=(10,5))\n",
    "# sns.barplot(career_year_count.index, career_year_count.values, alpha=0.8)\n",
    "# plt.title('Career Year Number and the movies produced')\n",
    "# plt.ylabel('Number of Movies', fontsize=12)\n",
    "# plt.xlabel('Career Year Number', fontsize=12)\n",
    "# plt.show()"
   ]
  },
  {
   "cell_type": "code",
   "execution_count": null,
   "metadata": {},
   "outputs": [],
   "source": [
    "# cumulativeDirectorDF.corr(method = 'pearson')\n",
    "# cumulativeDirectorDF.corr(method = 'kendall')"
   ]
  },
  {
   "cell_type": "code",
   "execution_count": null,
   "metadata": {},
   "outputs": [],
   "source": [
    "cumulativeDirectorDF.columns"
   ]
  },
  {
   "cell_type": "code",
   "execution_count": null,
   "metadata": {},
   "outputs": [],
   "source": [
    "# Removing the directors having only n movies produced\n",
    "n_movies_produced = 1\n",
    "\n",
    "removedDF = cumulativeDirectorDF[cumulativeDirectorDF.movies_produced> n_movies_produced]"
   ]
  },
  {
   "cell_type": "code",
   "execution_count": null,
   "metadata": {},
   "outputs": [],
   "source": [
    "# Plot Log normal Distribution\n",
    "\n",
    "def log_normal_plot(df,columnName,binSize=\"auto\"):\n",
    "    df[columnName].hist(bins= binSize,grid=False,density= True)\n",
    "    plt.xlabel(columnName, fontsize=15)\n",
    "    plt.ylabel(\"Frequency\",fontsize=15)\n",
    "    plt.xscale('log')"
   ]
  },
  {
   "cell_type": "code",
   "execution_count": null,
   "metadata": {},
   "outputs": [],
   "source": [
    "log_normal_plot(removedDF,\"movies_produced\")"
   ]
  },
  {
   "cell_type": "code",
   "execution_count": null,
   "metadata": {},
   "outputs": [],
   "source": [
    "# Normal distribution\n",
    "def distribution_fit(df,columnName):\n",
    "    # Empirical average and variance are computed\n",
    "    avg = np.mean(df[columnName])\n",
    "    var = np.var(df[columnName])\n",
    "    \n",
    "    # From that, we know the shape of the fitted Gaussian.\n",
    "    pdf_x = np.linspace(np.min(df[columnName]),np.max(df[columnName]),100)\n",
    "    pdf_y = 1.0/np.sqrt(2*np.pi*var)*np.exp(-0.5*(pdf_x-avg)**2/var)\n",
    "    \n",
    "    # Then we plot :\n",
    "    plt.figure()\n",
    "    plt.hist(df[columnName],30,density=True)\n",
    "    plt.plot(pdf_x,pdf_y,'k--')\n",
    "    \n",
    "    blue_patch = mpatches.Patch(color='blue', label= columnName)\n",
    "    black_dotted = mlines.Line2D([], [], color='black',markersize=15, label='Fit')\n",
    "    plt.xlabel(columnName)\n",
    "    plt.legend(handles=[blue_patch,black_dotted])\n",
    "    plt.show()"
   ]
  },
  {
   "cell_type": "code",
   "execution_count": null,
   "metadata": {},
   "outputs": [],
   "source": [
    "distribution_fit(removedDF,\"movies_produced\")"
   ]
  },
  {
   "cell_type": "code",
   "execution_count": null,
   "metadata": {},
   "outputs": [],
   "source": [
    "# def multi_features_distribution_fit_plot(df,dataTypesToInclude):\n",
    "#     for column in df.select_dtypes(include=['int64','double']).columns:\n",
    "#         distribution_fit(df,column)\n",
    "        \n",
    "# def multi_features_value_counts_plot(df,dataTypesToInclude):\n",
    "#     for column in df.select_dtypes(include=['int64','double']).columns | ['Gender']:\n",
    "#         plot_value_count(df,column,20)"
   ]
  },
  {
   "cell_type": "code",
   "execution_count": null,
   "metadata": {},
   "outputs": [],
   "source": [
    "def multi_features_plot(df,dataTypesToInclude,plotType = 'value_count'):\n",
    "    plotType = plotType.lower().translate(str.maketrans('', '', string.whitespace))\n",
    "    if(plotType == 'value_count'):\n",
    "        for column in df.select_dtypes(include=['int64','double']).columns | ['Gender']:\n",
    "            plot_value_count(df,column,100)\n",
    "    elif(plotType == 'distribution'):\n",
    "        for column in df.select_dtypes(include=['int64','double']).columns:\n",
    "            distribution_fit(df,column)\n",
    "    elif(plotType == 'log_normal'):\n",
    "        for column in df.select_dtypes(include=['int64','double']).columns:\n",
    "            log_normal_plot(df,column)\n",
    "    else:\n",
    "        print(\"Oops\")"
   ]
  },
  {
   "cell_type": "code",
   "execution_count": null,
   "metadata": {
    "scrolled": true
   },
   "outputs": [],
   "source": [
    "cumulativeDirectorDF.average_movie_per_year.value_counts()"
   ]
  },
  {
   "cell_type": "code",
   "execution_count": null,
   "metadata": {
    "scrolled": false
   },
   "outputs": [],
   "source": [
    "multi_features_plot(removedDF,['int64','double'])\n",
    "# multi_features_plot(removedDF,['int64','double'],'distribution')\n",
    "# multi_features_plot(removedDF,['int64','double'],'log_normal')"
   ]
  },
  {
   "cell_type": "code",
   "execution_count": null,
   "metadata": {},
   "outputs": [],
   "source": [
    "multi_features_plot(cumulativeDirectorDF,['int64','double'])\n",
    "# multi_features_plot(directorDataDF,['int64','double'],'distribution')\n",
    "# multi_features_plot(removedDF,['int64','double'],'log_normal')"
   ]
  }
 ],
 "metadata": {
  "kernelspec": {
   "display_name": "Python 3",
   "language": "python",
   "name": "python3"
  },
  "language_info": {
   "codemirror_mode": {
    "name": "ipython",
    "version": 3
   },
   "file_extension": ".py",
   "mimetype": "text/x-python",
   "name": "python",
   "nbconvert_exporter": "python",
   "pygments_lexer": "ipython3",
   "version": "3.7.3"
  }
 },
 "nbformat": 4,
 "nbformat_minor": 2
}
