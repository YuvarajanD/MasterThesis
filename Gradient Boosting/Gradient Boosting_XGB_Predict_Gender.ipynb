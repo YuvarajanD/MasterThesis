{
 "cells": [
  {
   "cell_type": "code",
   "execution_count": 1,
   "metadata": {},
   "outputs": [],
   "source": [
    "import pandas as pd\n",
    "import numpy as np\n",
    "\n",
    "\n",
    "# time\n",
    "\n",
    "import os\n",
    "import sys\n",
    "import time\n",
    "from datetime import datetime\n",
    "from datetime import date\n",
    "\n",
    "#Plotting\n",
    "%matplotlib inline\n",
    "import matplotlib as mpl\n",
    "import matplotlib.pyplot as plt\n",
    "import seaborn as sns\n",
    "\n",
    "# ML Libraries\n",
    "\n",
    "from sklearn.model_selection import train_test_split\n",
    "from sklearn.metrics import classification_report, confusion_matrix\n",
    "from sklearn.metrics import roc_auc_score\n",
    "from sklearn.metrics import precision_recall_fscore_support\n",
    "from sklearn.metrics import auc\n",
    "from sklearn.metrics import roc_auc_score\n",
    "from sklearn.metrics import roc_curve\n",
    "from sklearn import metrics\n",
    "\n",
    "# Labelizer\n",
    "from sklearn import preprocessing\n",
    "from sklearn.preprocessing import LabelBinarizer\n",
    "from sklearn.preprocessing import label_binarize\n",
    "\n",
    "\n",
    "# Normalize \n",
    "\n",
    "from sklearn.preprocessing import MinMaxScaler\n",
    "\n",
    "from sklearn.multiclass import OneVsRestClassifier\n",
    "\n",
    "# Boosting classifiers\n",
    "\n",
    "\n",
    "from sklearn.ensemble import GradientBoostingClassifier\n",
    "from xgboost import XGBClassifier\n",
    "\n",
    "# Save model\n",
    "import pickle\n",
    "import joblib\n"
   ]
  },
  {
   "cell_type": "code",
   "execution_count": 2,
   "metadata": {},
   "outputs": [],
   "source": [
    "# dynamic path location\n",
    "\n",
    "# running = 'movies'\n",
    "# fileName = 'data1_Data_Movies'\n",
    "# fileName = 'data2_Movies_WithAwards'\n",
    "# fileName = 'data3_USA_Movies_WithAwards'\n",
    "\n",
    "running = 'directors'\n",
    "# fileName = '1_Director_Data_Mar-21-2020'\n",
    "fileName = '2_Director_Data_Enhanced_May-10-2020'\n",
    "# fileName = '3_USA_Director_Specific_dataset_May-15-2020'\n",
    "\n",
    "\n",
    "DataFileLocation = os.path.join(os.path.realpath(os.path.pardir),'datasets\\\\'+ fileName +'.csv')\n",
    "\n",
    "\n",
    "# moviesDataFileLocation = os.path.join(os.path.realpath(os.path.pardir),'datasets\\\\.csv')\n",
    "# moviesDataFileLocation = os.path.join(os.path.realpath(os.path.pardir),'datasets\\\\.csv')\n",
    "# moviesDataFileLocation = os.path.join(os.path.realpath(os.path.pardir),'datasets\\\\.csv')\n",
    "\n",
    "\n",
    "\n",
    "saveFileToPath = \"C:\\\\Yuva\\\\ITU\\\\4th Sem\\\\Thesis\\\\Data\\\\\"\n",
    "\n",
    "data = pd.read_csv(DataFileLocation)\n"
   ]
  },
  {
   "cell_type": "markdown",
   "metadata": {},
   "source": [
    "# Notebook Run Settings"
   ]
  },
  {
   "cell_type": "markdown",
   "metadata": {},
   "source": [
    "chosen_feature_predicting : rating_count , rating_value , review_count_critic , review_count_user , metascore\n",
    "<br>chosen_bin_method : quartiles , bin_cut , Bin_AsPaper\n",
    "<br>chosen_success_class : movie_rating , director_rating\n",
    "<br>chosen_dataset_balance : unbalanced , balanced\n",
    "<br>chosen_scaling_method : MinMaxScaler , None"
   ]
  },
  {
   "cell_type": "code",
   "execution_count": 3,
   "metadata": {},
   "outputs": [],
   "source": [
    "if (running == 'directors'):\n",
    "    \n",
    "    chosen_feature_predicting = 'Gender'\n",
    "    chosen_dataset_ratio = 'balanced'\n",
    "    chosen_scaling_method = 'None'\n",
    "    default_learning_rate = 0.1\n",
    "    chosen_max_leaf_nodes = 32\n",
    "    default_max_depth = 3\n",
    "    chosen_max_features = None\n",
    "    chosen_random_state = 42\n",
    "    \n",
    "    \n",
    "elif(running == 'movies'):\n",
    "    \n",
    "    chosen_feature_predicting = 'Gender'\n",
    "    chosen_dataset_ratio = 'unbalanced'\n",
    "    chosen_scaling_method = 'None'\n",
    "    default_learning_rate = 0.1\n",
    "    chosen_max_leaf_nodes = 32\n",
    "    default_max_depth = 3\n",
    "    chosen_max_features = None\n",
    "    chosen_random_state = 42"
   ]
  },
  {
   "cell_type": "code",
   "execution_count": 4,
   "metadata": {},
   "outputs": [
    {
     "name": "stdout",
     "output_type": "stream",
     "text": [
      "<class 'pandas.core.frame.DataFrame'>\n",
      "RangeIndex: 1651 entries, 0 to 1650\n",
      "Data columns (total 64 columns):\n",
      " #   Column                                      Non-Null Count  Dtype  \n",
      "---  ------                                      --------------  -----  \n",
      " 0   director_ids                                1651 non-null   object \n",
      " 1   director_name                               1651 non-null   object \n",
      " 2   average_rating_value                        1651 non-null   float64\n",
      " 3   average_rating_count                        1651 non-null   float64\n",
      " 4   movies_produced                             1651 non-null   int64  \n",
      " 5   career_Length                               1651 non-null   int64  \n",
      " 6   CareerStartYear                             1651 non-null   int64  \n",
      " 7   Gender                                      1651 non-null   object \n",
      " 8   birthYear                                   1651 non-null   int64  \n",
      " 9   median_inter_event_time                     1651 non-null   float64\n",
      " 10  average_inter_event_time                    1651 non-null   float64\n",
      " 11  total_review_count_user                     1651 non-null   int64  \n",
      " 12  total_review_count_critic                   1651 non-null   int64  \n",
      " 13  total_metascore                             1651 non-null   int64  \n",
      " 14  median_metascore                            1651 non-null   float64\n",
      " 15  total_awards_won                            1651 non-null   float64\n",
      " 16  total_awards_nominated                      1651 non-null   float64\n",
      " 17  total_gross_value                           1651 non-null   float64\n",
      " 18  total_budget_value                          1651 non-null   float64\n",
      " 19  budget_cur_AUD                              1651 non-null   int64  \n",
      " 20  budget_cur_CAD                              1651 non-null   int64  \n",
      " 21  budget_cur_EUR                              1651 non-null   int64  \n",
      " 22  budget_cur_GBP                              1651 non-null   int64  \n",
      " 23  budget_cur_INR                              1651 non-null   int64  \n",
      " 24  budget_cur_USD                              1651 non-null   int64  \n",
      " 25  average_runtime_of_movie                    1651 non-null   float64\n",
      " 26  total_genre_Action                          1651 non-null   int64  \n",
      " 27  total_genre_Adult                           1651 non-null   int64  \n",
      " 28  total_genre_Adventure                       1651 non-null   int64  \n",
      " 29  total_genre_Animation                       1651 non-null   int64  \n",
      " 30  total_genre_Biography                       1651 non-null   int64  \n",
      " 31  total_genre_Comedy                          1651 non-null   int64  \n",
      " 32  total_genre_Crime                           1651 non-null   int64  \n",
      " 33  total_genre_Documentary                     1651 non-null   int64  \n",
      " 34  total_genre_Drama                           1651 non-null   int64  \n",
      " 35  total_genre_Family                          1651 non-null   int64  \n",
      " 36  total_genre_Fantasy                         1651 non-null   int64  \n",
      " 37  total_genre_Film_Noir                       1651 non-null   int64  \n",
      " 38  total_genre_Game_Show                       1651 non-null   int64  \n",
      " 39  total_genre_History                         1651 non-null   int64  \n",
      " 40  total_genre_Horror                          1651 non-null   int64  \n",
      " 41  total_genre_Music                           1651 non-null   int64  \n",
      " 42  total_genre_Musical                         1651 non-null   int64  \n",
      " 43  total_genre_Mystery                         1651 non-null   int64  \n",
      " 44  total_genre_News                            1651 non-null   int64  \n",
      " 45  total_genre_None                            1651 non-null   int64  \n",
      " 46  total_genre_Reality_TV                      1651 non-null   int64  \n",
      " 47  total_genre_Romance                         1651 non-null   int64  \n",
      " 48  total_genre_Sci_Fi                          1651 non-null   int64  \n",
      " 49  total_genre_Short                           1651 non-null   int64  \n",
      " 50  total_genre_Sport                           1651 non-null   int64  \n",
      " 51  total_genre_Talk_Show                       1651 non-null   int64  \n",
      " 52  total_genre_Thriller                        1651 non-null   int64  \n",
      " 53  total_genre_War                             1651 non-null   int64  \n",
      " 54  total_genre_Western                         1651 non-null   int64  \n",
      " 55  director_profession_primary                 1651 non-null   int64  \n",
      " 56  director_profession_secondary               1651 non-null   int64  \n",
      " 57  director_profession_tertiary                1651 non-null   int64  \n",
      " 58  director_known_titles_count                 1651 non-null   int64  \n",
      " 59  director_known_titles_average_rating_value  1651 non-null   float64\n",
      " 60  average_movie_per_year                      1651 non-null   float64\n",
      " 61  num_countries_screened                      1651 non-null   int64  \n",
      " 62  num_genres_directed                         1651 non-null   int64  \n",
      " 63  num_languages_released                      1651 non-null   int64  \n",
      "dtypes: float64(12), int64(49), object(3)\n",
      "memory usage: 825.6+ KB\n"
     ]
    }
   ],
   "source": [
    "data.info()"
   ]
  },
  {
   "cell_type": "code",
   "execution_count": 5,
   "metadata": {},
   "outputs": [],
   "source": [
    "# Generic function to equally max split the dataframe with respect to the column Name, in our case the Gender column.\n",
    "\n",
    "def max_equal_split_on_columnName(df,columnName='Gender'):\n",
    "    df1 = pd.DataFrame()\n",
    "    for i in df[columnName].value_counts().index:\n",
    "        df1 = df1.append(df[(df[columnName]==i)]\n",
    "                         .sample(n=df[columnName]\n",
    "                                 .value_counts()\n",
    "                                 .values.min(),\n",
    "                                 replace = False,\n",
    "                                random_state = chosen_random_state)\n",
    "                        )        \n",
    "    return df1.reset_index(drop=True)"
   ]
  },
  {
   "cell_type": "markdown",
   "metadata": {},
   "source": [
    "### Balance data"
   ]
  },
  {
   "cell_type": "code",
   "execution_count": 6,
   "metadata": {},
   "outputs": [],
   "source": [
    "balanced_data = max_equal_split_on_columnName(data)"
   ]
  },
  {
   "cell_type": "code",
   "execution_count": 7,
   "metadata": {
    "scrolled": true
   },
   "outputs": [
    {
     "name": "stdout",
     "output_type": "stream",
     "text": [
      "Unique director distribution - Unbalanced data split based on Gender\n"
     ]
    },
    {
     "data": {
      "text/plain": [
       "Male      1378\n",
       "Female     273\n",
       "Name: Gender, dtype: int64"
      ]
     },
     "execution_count": 7,
     "metadata": {},
     "output_type": "execute_result"
    }
   ],
   "source": [
    "# Unique director distribution in max_equal DF\n",
    "print(\"Unique director distribution - Unbalanced data split based on Gender\")\n",
    "\n",
    "data.drop_duplicates(subset = 'director_ids', keep = 'first').Gender.value_counts()"
   ]
  },
  {
   "cell_type": "code",
   "execution_count": 8,
   "metadata": {},
   "outputs": [
    {
     "data": {
      "text/plain": [
       "Male      1378\n",
       "Female     273\n",
       "Name: Gender, dtype: int64"
      ]
     },
     "execution_count": 8,
     "metadata": {},
     "output_type": "execute_result"
    }
   ],
   "source": [
    "data[chosen_feature_predicting].value_counts()"
   ]
  },
  {
   "cell_type": "code",
   "execution_count": 9,
   "metadata": {
    "scrolled": true
   },
   "outputs": [
    {
     "data": {
      "text/plain": [
       "array(['director_ids', 'director_name', 'average_rating_value',\n",
       "       'average_rating_count', 'movies_produced', 'career_Length',\n",
       "       'CareerStartYear', 'Gender', 'birthYear',\n",
       "       'median_inter_event_time', 'average_inter_event_time',\n",
       "       'total_review_count_user', 'total_review_count_critic',\n",
       "       'total_metascore', 'median_metascore', 'total_awards_won',\n",
       "       'total_awards_nominated', 'total_gross_value',\n",
       "       'total_budget_value', 'budget_cur_AUD', 'budget_cur_CAD',\n",
       "       'budget_cur_EUR', 'budget_cur_GBP', 'budget_cur_INR',\n",
       "       'budget_cur_USD', 'average_runtime_of_movie', 'total_genre_Action',\n",
       "       'total_genre_Adult', 'total_genre_Adventure',\n",
       "       'total_genre_Animation', 'total_genre_Biography',\n",
       "       'total_genre_Comedy', 'total_genre_Crime',\n",
       "       'total_genre_Documentary', 'total_genre_Drama',\n",
       "       'total_genre_Family', 'total_genre_Fantasy',\n",
       "       'total_genre_Film_Noir', 'total_genre_Game_Show',\n",
       "       'total_genre_History', 'total_genre_Horror', 'total_genre_Music',\n",
       "       'total_genre_Musical', 'total_genre_Mystery', 'total_genre_News',\n",
       "       'total_genre_None', 'total_genre_Reality_TV',\n",
       "       'total_genre_Romance', 'total_genre_Sci_Fi', 'total_genre_Short',\n",
       "       'total_genre_Sport', 'total_genre_Talk_Show',\n",
       "       'total_genre_Thriller', 'total_genre_War', 'total_genre_Western',\n",
       "       'director_profession_primary', 'director_profession_secondary',\n",
       "       'director_profession_tertiary', 'director_known_titles_count',\n",
       "       'director_known_titles_average_rating_value',\n",
       "       'average_movie_per_year', 'num_countries_screened',\n",
       "       'num_genres_directed', 'num_languages_released'], dtype=object)"
      ]
     },
     "execution_count": 9,
     "metadata": {},
     "output_type": "execute_result"
    }
   ],
   "source": [
    "data.columns.values"
   ]
  },
  {
   "cell_type": "code",
   "execution_count": 10,
   "metadata": {},
   "outputs": [
    {
     "data": {
      "text/plain": [
       "(1651, 64)"
      ]
     },
     "execution_count": 10,
     "metadata": {},
     "output_type": "execute_result"
    }
   ],
   "source": [
    "data.shape"
   ]
  },
  {
   "cell_type": "code",
   "execution_count": 11,
   "metadata": {},
   "outputs": [
    {
     "name": "stdout",
     "output_type": "stream",
     "text": [
      "Unique director distribution - Balanced data split based on Gender\n"
     ]
    },
    {
     "data": {
      "text/plain": [
       "Male      273\n",
       "Female    273\n",
       "Name: Gender, dtype: int64"
      ]
     },
     "execution_count": 11,
     "metadata": {},
     "output_type": "execute_result"
    }
   ],
   "source": [
    "# Unique director distribution in max_equal DF\n",
    "print(\"Unique director distribution - Balanced data split based on Gender\")\n",
    "\n",
    "balanced_data.drop_duplicates(subset = 'director_ids', keep = 'first').Gender.value_counts()"
   ]
  },
  {
   "cell_type": "code",
   "execution_count": 12,
   "metadata": {},
   "outputs": [
    {
     "data": {
      "text/plain": [
       "Male      273\n",
       "Female    273\n",
       "Name: Gender, dtype: int64"
      ]
     },
     "execution_count": 12,
     "metadata": {},
     "output_type": "execute_result"
    }
   ],
   "source": [
    "balanced_data[chosen_feature_predicting].value_counts()"
   ]
  },
  {
   "cell_type": "code",
   "execution_count": 13,
   "metadata": {
    "scrolled": true
   },
   "outputs": [
    {
     "data": {
      "text/plain": [
       "array(['director_ids', 'director_name', 'average_rating_value',\n",
       "       'average_rating_count', 'movies_produced', 'career_Length',\n",
       "       'CareerStartYear', 'Gender', 'birthYear',\n",
       "       'median_inter_event_time', 'average_inter_event_time',\n",
       "       'total_review_count_user', 'total_review_count_critic',\n",
       "       'total_metascore', 'median_metascore', 'total_awards_won',\n",
       "       'total_awards_nominated', 'total_gross_value',\n",
       "       'total_budget_value', 'budget_cur_AUD', 'budget_cur_CAD',\n",
       "       'budget_cur_EUR', 'budget_cur_GBP', 'budget_cur_INR',\n",
       "       'budget_cur_USD', 'average_runtime_of_movie', 'total_genre_Action',\n",
       "       'total_genre_Adult', 'total_genre_Adventure',\n",
       "       'total_genre_Animation', 'total_genre_Biography',\n",
       "       'total_genre_Comedy', 'total_genre_Crime',\n",
       "       'total_genre_Documentary', 'total_genre_Drama',\n",
       "       'total_genre_Family', 'total_genre_Fantasy',\n",
       "       'total_genre_Film_Noir', 'total_genre_Game_Show',\n",
       "       'total_genre_History', 'total_genre_Horror', 'total_genre_Music',\n",
       "       'total_genre_Musical', 'total_genre_Mystery', 'total_genre_News',\n",
       "       'total_genre_None', 'total_genre_Reality_TV',\n",
       "       'total_genre_Romance', 'total_genre_Sci_Fi', 'total_genre_Short',\n",
       "       'total_genre_Sport', 'total_genre_Talk_Show',\n",
       "       'total_genre_Thriller', 'total_genre_War', 'total_genre_Western',\n",
       "       'director_profession_primary', 'director_profession_secondary',\n",
       "       'director_profession_tertiary', 'director_known_titles_count',\n",
       "       'director_known_titles_average_rating_value',\n",
       "       'average_movie_per_year', 'num_countries_screened',\n",
       "       'num_genres_directed', 'num_languages_released'], dtype=object)"
      ]
     },
     "execution_count": 13,
     "metadata": {},
     "output_type": "execute_result"
    }
   ],
   "source": [
    "balanced_data.columns.values"
   ]
  },
  {
   "cell_type": "code",
   "execution_count": 14,
   "metadata": {},
   "outputs": [
    {
     "data": {
      "text/plain": [
       "(546, 64)"
      ]
     },
     "execution_count": 14,
     "metadata": {},
     "output_type": "execute_result"
    }
   ],
   "source": [
    "balanced_data.shape"
   ]
  },
  {
   "cell_type": "code",
   "execution_count": 15,
   "metadata": {},
   "outputs": [],
   "source": [
    "def print_feature_importances(coef, names, top=-1):\n",
    "    whole = []\n",
    "    imp = coef\n",
    "    imp,names = zip(*sorted(list(zip(imp, names)),reverse=True))\n",
    "    for i in range(len(names)):\n",
    "        string = \"{} :: {}\".format(str(names[i]),str(round(imp[i],3)))\n",
    "        whole.append(string)\n",
    "    return whole"
   ]
  },
  {
   "cell_type": "markdown",
   "metadata": {},
   "source": [
    "### Choosing dataset for the analysis"
   ]
  },
  {
   "cell_type": "code",
   "execution_count": 16,
   "metadata": {},
   "outputs": [
    {
     "data": {
      "text/plain": [
       "'balanced'"
      ]
     },
     "execution_count": 16,
     "metadata": {},
     "output_type": "execute_result"
    }
   ],
   "source": [
    "chosen_dataset_ratio"
   ]
  },
  {
   "cell_type": "code",
   "execution_count": 17,
   "metadata": {},
   "outputs": [],
   "source": [
    "chosen_dataframe = ''\n",
    "if(chosen_dataset_ratio == 'unbalanced'):\n",
    "    chosen_dataframe = data\n",
    "elif(chosen_dataset_ratio == 'balanced'):\n",
    "    chosen_dataframe = balanced_data"
   ]
  },
  {
   "cell_type": "markdown",
   "metadata": {},
   "source": [
    "### Remove Features from dataset which are not required"
   ]
  },
  {
   "cell_type": "code",
   "execution_count": 18,
   "metadata": {},
   "outputs": [
    {
     "data": {
      "text/plain": [
       "['director_ids', 'director_name']"
      ]
     },
     "execution_count": 18,
     "metadata": {},
     "output_type": "execute_result"
    }
   ],
   "source": [
    "object_features_to_remove = chosen_dataframe.select_dtypes(include = 'object').columns.values.tolist()\n",
    "object_features_to_remove.remove('Gender')\n",
    "object_features_to_remove"
   ]
  },
  {
   "cell_type": "markdown",
   "metadata": {},
   "source": [
    "### Drop features from Chosen Dataset"
   ]
  },
  {
   "cell_type": "code",
   "execution_count": 19,
   "metadata": {
    "scrolled": true
   },
   "outputs": [
    {
     "name": "stdout",
     "output_type": "stream",
     "text": [
      "The shape of our Chosen Director dataset before removing object type features: (546, 64)\n",
      "The shape of our Chosen Director dataset after dropping object type features: (546, 62)\n"
     ]
    }
   ],
   "source": [
    "print('The shape of our Chosen Director dataset before removing object type features:', chosen_dataframe.shape)\n",
    "# movies_data = movies_data[movies_data.columns.difference(object_features_to_remove)]\n",
    "chosen_dataframe = chosen_dataframe.drop(columns= object_features_to_remove)\n",
    "print('The shape of our Chosen Director dataset after dropping object type features:', chosen_dataframe.shape)"
   ]
  },
  {
   "cell_type": "markdown",
   "metadata": {},
   "source": [
    "# Observations"
   ]
  },
  {
   "cell_type": "code",
   "execution_count": 20,
   "metadata": {},
   "outputs": [],
   "source": [
    "def one_hot_encode_gender(df,one_hot_feature = 'Gender'):\n",
    "    print('Before one hot encoding , Shape ;', df.shape)\n",
    "    # one hot encoding of Gender\n",
    "    df = pd.concat([df, pd.get_dummies(df[one_hot_feature],prefix= one_hot_feature,dtype = int)],axis=1)\n",
    "    df.drop([one_hot_feature],axis=1, inplace=True)\n",
    "    print('After one hot encoding , Shape ;', df.shape)\n",
    "    df.head(2)\n",
    "    return df"
   ]
  },
  {
   "cell_type": "code",
   "execution_count": 21,
   "metadata": {},
   "outputs": [],
   "source": [
    "# Function to Plot - Distribution of rating value among male and female. \n",
    "\n",
    "def plot_features_WRT_gender(df,columnCriteriaName,columnFeatureName):\n",
    "    dict={}\n",
    "    for i in df[columnCriteriaName].value_counts().index:\n",
    "        dict[\"{0}_{1}\".format(columnFeatureName,i)] = df[(df[columnCriteriaName] == i)][columnFeatureName]\n",
    "    for k,v in dict.items():\n",
    "        sns.distplot(v,label=[k])\n",
    "        plt.legend(bbox_to_anchor=(1.05, 0.6), loc=2, borderaxespad=0.)"
   ]
  },
  {
   "cell_type": "code",
   "execution_count": 22,
   "metadata": {},
   "outputs": [],
   "source": [
    "numericalGender = {\"Male\": 1, \"Female\": 0 }\n",
    "chosen_dataframe.Gender.replace(numericalGender,inplace=True)\n",
    "\n",
    "# director_data.Gender.replace(numericalGender,inplace=True)\n",
    "# balanced_director_data.Gender.replace(numericalGender,inplace=True)"
   ]
  },
  {
   "cell_type": "code",
   "execution_count": 23,
   "metadata": {
    "scrolled": true
   },
   "outputs": [
    {
     "name": "stdout",
     "output_type": "stream",
     "text": [
      "<class 'pandas.core.frame.DataFrame'>\n",
      "RangeIndex: 546 entries, 0 to 545\n",
      "Data columns (total 62 columns):\n",
      " #   Column                                      Non-Null Count  Dtype  \n",
      "---  ------                                      --------------  -----  \n",
      " 0   average_rating_value                        546 non-null    float64\n",
      " 1   average_rating_count                        546 non-null    float64\n",
      " 2   movies_produced                             546 non-null    int64  \n",
      " 3   career_Length                               546 non-null    int64  \n",
      " 4   CareerStartYear                             546 non-null    int64  \n",
      " 5   Gender                                      546 non-null    int64  \n",
      " 6   birthYear                                   546 non-null    int64  \n",
      " 7   median_inter_event_time                     546 non-null    float64\n",
      " 8   average_inter_event_time                    546 non-null    float64\n",
      " 9   total_review_count_user                     546 non-null    int64  \n",
      " 10  total_review_count_critic                   546 non-null    int64  \n",
      " 11  total_metascore                             546 non-null    int64  \n",
      " 12  median_metascore                            546 non-null    float64\n",
      " 13  total_awards_won                            546 non-null    float64\n",
      " 14  total_awards_nominated                      546 non-null    float64\n",
      " 15  total_gross_value                           546 non-null    float64\n",
      " 16  total_budget_value                          546 non-null    float64\n",
      " 17  budget_cur_AUD                              546 non-null    int64  \n",
      " 18  budget_cur_CAD                              546 non-null    int64  \n",
      " 19  budget_cur_EUR                              546 non-null    int64  \n",
      " 20  budget_cur_GBP                              546 non-null    int64  \n",
      " 21  budget_cur_INR                              546 non-null    int64  \n",
      " 22  budget_cur_USD                              546 non-null    int64  \n",
      " 23  average_runtime_of_movie                    546 non-null    float64\n",
      " 24  total_genre_Action                          546 non-null    int64  \n",
      " 25  total_genre_Adult                           546 non-null    int64  \n",
      " 26  total_genre_Adventure                       546 non-null    int64  \n",
      " 27  total_genre_Animation                       546 non-null    int64  \n",
      " 28  total_genre_Biography                       546 non-null    int64  \n",
      " 29  total_genre_Comedy                          546 non-null    int64  \n",
      " 30  total_genre_Crime                           546 non-null    int64  \n",
      " 31  total_genre_Documentary                     546 non-null    int64  \n",
      " 32  total_genre_Drama                           546 non-null    int64  \n",
      " 33  total_genre_Family                          546 non-null    int64  \n",
      " 34  total_genre_Fantasy                         546 non-null    int64  \n",
      " 35  total_genre_Film_Noir                       546 non-null    int64  \n",
      " 36  total_genre_Game_Show                       546 non-null    int64  \n",
      " 37  total_genre_History                         546 non-null    int64  \n",
      " 38  total_genre_Horror                          546 non-null    int64  \n",
      " 39  total_genre_Music                           546 non-null    int64  \n",
      " 40  total_genre_Musical                         546 non-null    int64  \n",
      " 41  total_genre_Mystery                         546 non-null    int64  \n",
      " 42  total_genre_News                            546 non-null    int64  \n",
      " 43  total_genre_None                            546 non-null    int64  \n",
      " 44  total_genre_Reality_TV                      546 non-null    int64  \n",
      " 45  total_genre_Romance                         546 non-null    int64  \n",
      " 46  total_genre_Sci_Fi                          546 non-null    int64  \n",
      " 47  total_genre_Short                           546 non-null    int64  \n",
      " 48  total_genre_Sport                           546 non-null    int64  \n",
      " 49  total_genre_Talk_Show                       546 non-null    int64  \n",
      " 50  total_genre_Thriller                        546 non-null    int64  \n",
      " 51  total_genre_War                             546 non-null    int64  \n",
      " 52  total_genre_Western                         546 non-null    int64  \n",
      " 53  director_profession_primary                 546 non-null    int64  \n",
      " 54  director_profession_secondary               546 non-null    int64  \n",
      " 55  director_profession_tertiary                546 non-null    int64  \n",
      " 56  director_known_titles_count                 546 non-null    int64  \n",
      " 57  director_known_titles_average_rating_value  546 non-null    float64\n",
      " 58  average_movie_per_year                      546 non-null    float64\n",
      " 59  num_countries_screened                      546 non-null    int64  \n",
      " 60  num_genres_directed                         546 non-null    int64  \n",
      " 61  num_languages_released                      546 non-null    int64  \n",
      "dtypes: float64(12), int64(50)\n",
      "memory usage: 264.6 KB\n"
     ]
    }
   ],
   "source": [
    "chosen_dataframe.info()"
   ]
  },
  {
   "cell_type": "code",
   "execution_count": 24,
   "metadata": {},
   "outputs": [
    {
     "data": {
      "text/plain": [
       "1    273\n",
       "0    273\n",
       "Name: Gender, dtype: int64"
      ]
     },
     "execution_count": 24,
     "metadata": {},
     "output_type": "execute_result"
    }
   ],
   "source": [
    "chosen_dataframe.Gender.value_counts()"
   ]
  },
  {
   "cell_type": "code",
   "execution_count": 25,
   "metadata": {},
   "outputs": [
    {
     "data": {
      "text/html": [
       "<div>\n",
       "<style scoped>\n",
       "    .dataframe tbody tr th:only-of-type {\n",
       "        vertical-align: middle;\n",
       "    }\n",
       "\n",
       "    .dataframe tbody tr th {\n",
       "        vertical-align: top;\n",
       "    }\n",
       "\n",
       "    .dataframe thead th {\n",
       "        text-align: right;\n",
       "    }\n",
       "</style>\n",
       "<table border=\"1\" class=\"dataframe\">\n",
       "  <thead>\n",
       "    <tr style=\"text-align: right;\">\n",
       "      <th></th>\n",
       "      <th>average_rating_value</th>\n",
       "      <th>average_rating_count</th>\n",
       "      <th>movies_produced</th>\n",
       "      <th>career_Length</th>\n",
       "      <th>CareerStartYear</th>\n",
       "      <th>Gender</th>\n",
       "      <th>birthYear</th>\n",
       "      <th>median_inter_event_time</th>\n",
       "      <th>average_inter_event_time</th>\n",
       "      <th>total_review_count_user</th>\n",
       "      <th>...</th>\n",
       "      <th>total_genre_Western</th>\n",
       "      <th>director_profession_primary</th>\n",
       "      <th>director_profession_secondary</th>\n",
       "      <th>director_profession_tertiary</th>\n",
       "      <th>director_known_titles_count</th>\n",
       "      <th>director_known_titles_average_rating_value</th>\n",
       "      <th>average_movie_per_year</th>\n",
       "      <th>num_countries_screened</th>\n",
       "      <th>num_genres_directed</th>\n",
       "      <th>num_languages_released</th>\n",
       "    </tr>\n",
       "  </thead>\n",
       "  <tbody>\n",
       "    <tr>\n",
       "      <th>0</th>\n",
       "      <td>7.23</td>\n",
       "      <td>178518.0</td>\n",
       "      <td>3</td>\n",
       "      <td>21</td>\n",
       "      <td>1993</td>\n",
       "      <td>1</td>\n",
       "      <td>1953</td>\n",
       "      <td>4.5</td>\n",
       "      <td>4.5</td>\n",
       "      <td>1947</td>\n",
       "      <td>...</td>\n",
       "      <td>0</td>\n",
       "      <td>0</td>\n",
       "      <td>0</td>\n",
       "      <td>0</td>\n",
       "      <td>4</td>\n",
       "      <td>7.85</td>\n",
       "      <td>0.14</td>\n",
       "      <td>1</td>\n",
       "      <td>4</td>\n",
       "      <td>5</td>\n",
       "    </tr>\n",
       "    <tr>\n",
       "      <th>1</th>\n",
       "      <td>6.30</td>\n",
       "      <td>31281.0</td>\n",
       "      <td>2</td>\n",
       "      <td>41</td>\n",
       "      <td>1964</td>\n",
       "      <td>1</td>\n",
       "      <td>1936</td>\n",
       "      <td>4.0</td>\n",
       "      <td>4.0</td>\n",
       "      <td>489</td>\n",
       "      <td>...</td>\n",
       "      <td>0</td>\n",
       "      <td>0</td>\n",
       "      <td>1</td>\n",
       "      <td>0</td>\n",
       "      <td>8</td>\n",
       "      <td>7.80</td>\n",
       "      <td>0.05</td>\n",
       "      <td>1</td>\n",
       "      <td>5</td>\n",
       "      <td>4</td>\n",
       "    </tr>\n",
       "    <tr>\n",
       "      <th>2</th>\n",
       "      <td>8.10</td>\n",
       "      <td>97648.0</td>\n",
       "      <td>1</td>\n",
       "      <td>18</td>\n",
       "      <td>1997</td>\n",
       "      <td>1</td>\n",
       "      <td>1975</td>\n",
       "      <td>0.0</td>\n",
       "      <td>0.0</td>\n",
       "      <td>139</td>\n",
       "      <td>...</td>\n",
       "      <td>0</td>\n",
       "      <td>0</td>\n",
       "      <td>1</td>\n",
       "      <td>0</td>\n",
       "      <td>4</td>\n",
       "      <td>7.95</td>\n",
       "      <td>0.06</td>\n",
       "      <td>1</td>\n",
       "      <td>3</td>\n",
       "      <td>1</td>\n",
       "    </tr>\n",
       "    <tr>\n",
       "      <th>3</th>\n",
       "      <td>7.52</td>\n",
       "      <td>291358.5</td>\n",
       "      <td>6</td>\n",
       "      <td>33</td>\n",
       "      <td>1984</td>\n",
       "      <td>1</td>\n",
       "      <td>1963</td>\n",
       "      <td>1.0</td>\n",
       "      <td>1.8</td>\n",
       "      <td>4117</td>\n",
       "      <td>...</td>\n",
       "      <td>0</td>\n",
       "      <td>1</td>\n",
       "      <td>0</td>\n",
       "      <td>0</td>\n",
       "      <td>8</td>\n",
       "      <td>7.38</td>\n",
       "      <td>0.18</td>\n",
       "      <td>1</td>\n",
       "      <td>7</td>\n",
       "      <td>1</td>\n",
       "    </tr>\n",
       "    <tr>\n",
       "      <th>4</th>\n",
       "      <td>6.60</td>\n",
       "      <td>12178.0</td>\n",
       "      <td>1</td>\n",
       "      <td>15</td>\n",
       "      <td>1991</td>\n",
       "      <td>1</td>\n",
       "      <td>1956</td>\n",
       "      <td>0.0</td>\n",
       "      <td>0.0</td>\n",
       "      <td>80</td>\n",
       "      <td>...</td>\n",
       "      <td>0</td>\n",
       "      <td>1</td>\n",
       "      <td>0</td>\n",
       "      <td>0</td>\n",
       "      <td>8</td>\n",
       "      <td>6.92</td>\n",
       "      <td>0.07</td>\n",
       "      <td>1</td>\n",
       "      <td>3</td>\n",
       "      <td>1</td>\n",
       "    </tr>\n",
       "  </tbody>\n",
       "</table>\n",
       "<p>5 rows × 62 columns</p>\n",
       "</div>"
      ],
      "text/plain": [
       "   average_rating_value  average_rating_count  movies_produced  career_Length  \\\n",
       "0                  7.23              178518.0                3             21   \n",
       "1                  6.30               31281.0                2             41   \n",
       "2                  8.10               97648.0                1             18   \n",
       "3                  7.52              291358.5                6             33   \n",
       "4                  6.60               12178.0                1             15   \n",
       "\n",
       "   CareerStartYear  Gender  birthYear  median_inter_event_time  \\\n",
       "0             1993       1       1953                      4.5   \n",
       "1             1964       1       1936                      4.0   \n",
       "2             1997       1       1975                      0.0   \n",
       "3             1984       1       1963                      1.0   \n",
       "4             1991       1       1956                      0.0   \n",
       "\n",
       "   average_inter_event_time  total_review_count_user  ...  \\\n",
       "0                       4.5                     1947  ...   \n",
       "1                       4.0                      489  ...   \n",
       "2                       0.0                      139  ...   \n",
       "3                       1.8                     4117  ...   \n",
       "4                       0.0                       80  ...   \n",
       "\n",
       "   total_genre_Western  director_profession_primary  \\\n",
       "0                    0                            0   \n",
       "1                    0                            0   \n",
       "2                    0                            0   \n",
       "3                    0                            1   \n",
       "4                    0                            1   \n",
       "\n",
       "   director_profession_secondary  director_profession_tertiary  \\\n",
       "0                              0                             0   \n",
       "1                              1                             0   \n",
       "2                              1                             0   \n",
       "3                              0                             0   \n",
       "4                              0                             0   \n",
       "\n",
       "   director_known_titles_count  director_known_titles_average_rating_value  \\\n",
       "0                            4                                        7.85   \n",
       "1                            8                                        7.80   \n",
       "2                            4                                        7.95   \n",
       "3                            8                                        7.38   \n",
       "4                            8                                        6.92   \n",
       "\n",
       "   average_movie_per_year  num_countries_screened  num_genres_directed  \\\n",
       "0                    0.14                       1                    4   \n",
       "1                    0.05                       1                    5   \n",
       "2                    0.06                       1                    3   \n",
       "3                    0.18                       1                    7   \n",
       "4                    0.07                       1                    3   \n",
       "\n",
       "   num_languages_released  \n",
       "0                       5  \n",
       "1                       4  \n",
       "2                       1  \n",
       "3                       1  \n",
       "4                       1  \n",
       "\n",
       "[5 rows x 62 columns]"
      ]
     },
     "execution_count": 25,
     "metadata": {},
     "output_type": "execute_result"
    }
   ],
   "source": [
    "chosen_dataframe.head()"
   ]
  },
  {
   "cell_type": "markdown",
   "metadata": {},
   "source": [
    "## Divide the data to training and testing - Scaling methods too"
   ]
  },
  {
   "cell_type": "markdown",
   "metadata": {},
   "source": [
    "Check about the Scaling"
   ]
  },
  {
   "cell_type": "code",
   "execution_count": 26,
   "metadata": {},
   "outputs": [],
   "source": [
    "def divide_test_train_with_scaling_methods(df,predict= chosen_feature_predicting,scalingMethod = \"MinMaxScaler\"):\n",
    "        \n",
    "    # Feature matrix and target variable\n",
    "    X = df.drop(predict,axis = 'columns')\n",
    "    y = df[predict]\n",
    "    \n",
    "#     lb = preprocessing.LabelBinarizer()\n",
    "#     y = lb.fit_transform(y)\n",
    "    \n",
    "    # Scaling\n",
    "    if (scalingMethod == \"MinMaxScaler\"):\n",
    "        print(\"The scaling method used is : \",scalingMethod)\n",
    "        scaler = MinMaxScaler()\n",
    "        new_X = scaler.fit_transform(X)\n",
    "        # X_test = scaler.transform(X_test)\n",
    "        \n",
    "    else:\n",
    "        print(\"No Scaling Method used or incorrect input\")\n",
    "        new_X = X\n",
    "    \n",
    "    # Divide the data into training and test sets\n",
    "    X_train, X_test, y_train, y_test = train_test_split(new_X, y, test_size=0.20, random_state = 42 , stratify = y )\n",
    "    \n",
    "    return X_train, X_test, y_train, y_test"
   ]
  },
  {
   "cell_type": "code",
   "execution_count": 27,
   "metadata": {
    "scrolled": true
   },
   "outputs": [
    {
     "name": "stdout",
     "output_type": "stream",
     "text": [
      "No Scaling Method used or incorrect input\n"
     ]
    }
   ],
   "source": [
    "# Divide the data into training and test\n",
    "\n",
    "X_train, X_test, y_train, y_test = divide_test_train_with_scaling_methods(chosen_dataframe,scalingMethod= chosen_scaling_method)"
   ]
  },
  {
   "cell_type": "code",
   "execution_count": 28,
   "metadata": {},
   "outputs": [
    {
     "data": {
      "text/plain": [
       "((436, 61), (436,))"
      ]
     },
     "execution_count": 28,
     "metadata": {},
     "output_type": "execute_result"
    }
   ],
   "source": [
    "X_train.shape , y_train.shape"
   ]
  },
  {
   "cell_type": "code",
   "execution_count": 29,
   "metadata": {},
   "outputs": [
    {
     "data": {
      "text/plain": [
       "((110, 61), (110,))"
      ]
     },
     "execution_count": 29,
     "metadata": {},
     "output_type": "execute_result"
    }
   ],
   "source": [
    "X_test.shape , y_test.shape"
   ]
  },
  {
   "cell_type": "markdown",
   "metadata": {},
   "source": [
    "# Plot Confusion Matrix"
   ]
  },
  {
   "cell_type": "code",
   "execution_count": 30,
   "metadata": {},
   "outputs": [],
   "source": [
    "import matplotlib.pyplot as plt\n",
    "%matplotlib inline\n",
    "\n",
    "def plot_confusion_matrix(cm, classes,\n",
    "                          normalize=False,\n",
    "                          title='Confusion matrix',\n",
    "                          cmap=plt.cm.Blues):\n",
    "    \"\"\"\n",
    "    This function prints and plots the confusion matrix.\n",
    "    Normalization can be applied by setting `normalize=True`.\n",
    "    \"\"\"\n",
    "    import itertools\n",
    "    if normalize:\n",
    "        cm = cm.astype('float') / cm.sum(axis=1)[:, np.newaxis]\n",
    "        print(\"Normalized confusion matrix\")\n",
    "    else:\n",
    "        print('Confusion matrix, without normalization')\n",
    "\n",
    "    print(cm)\n",
    "\n",
    "    plt.imshow(cm, interpolation='nearest', cmap=cmap)\n",
    "    plt.title(title)\n",
    "    plt.colorbar()\n",
    "    tick_marks = np.arange(len(classes))\n",
    "    plt.xticks(tick_marks, classes, rotation=45)\n",
    "    plt.yticks(tick_marks, classes)\n",
    "\n",
    "    fmt = '.2f' if normalize else 'd'\n",
    "    thresh = cm.max() / 2.\n",
    "    for i, j in itertools.product(range(cm.shape[0]), range(cm.shape[1])):\n",
    "        plt.text(j, i, format(cm[i, j], fmt),\n",
    "                 horizontalalignment=\"center\",\n",
    "                 color=\"white\" if cm[i, j] > thresh else \"black\")\n",
    "\n",
    "    plt.ylabel('True label')\n",
    "    plt.xlabel('Predicted label')\n",
    "    plt.tight_layout()\n",
    "    plt.savefig('ConfusionMatrix_.png', dpi=100, bbox_inches='tight')\n"
   ]
  },
  {
   "cell_type": "markdown",
   "metadata": {},
   "source": [
    "\n",
    "### Function for Run Info :"
   ]
  },
  {
   "cell_type": "code",
   "execution_count": 31,
   "metadata": {},
   "outputs": [],
   "source": [
    "def run_info(classifier):\n",
    "    print('\\n**Run Info - ' + classifier + '**')\n",
    "    print('Dataset Shape :', chosen_dataframe.shape)\n",
    "    print('Dataset ratio of classes is', chosen_dataset_ratio)\n",
    "    print('Predicting feature :', chosen_feature_predicting)\n",
    "    print('Scaling Method :', chosen_scaling_method)\n",
    "    print('Learning Rate :',default_learning_rate)\n",
    "    print('****************\\n')\n",
    "    return"
   ]
  },
  {
   "cell_type": "markdown",
   "metadata": {},
   "source": [
    "### Function to print customized classification report"
   ]
  },
  {
   "cell_type": "code",
   "execution_count": 32,
   "metadata": {},
   "outputs": [],
   "source": [
    "def customized_classification_report(y_true,y_pred, AUCROC ):\n",
    "    \n",
    "    cols_to_use_classification_report = ['Female','Male','accuracy']\n",
    "    \n",
    "    reportGBClassification = classification_report(y_true,\n",
    "                                               y_pred,\n",
    "                                               output_dict=True)\n",
    "\n",
    "    reportDF = pd.DataFrame(reportGBClassification)[0:3]\n",
    "    reportDF = reportDF[['0','1','accuracy']]\n",
    "\n",
    "\n",
    "    reportDF[['0','1']] = reportDF[['0','1']].round(2)\n",
    "    accuracyRow = reportDF['accuracy'].unique().tolist()\n",
    "\n",
    "    reportDF.drop(columns='accuracy',inplace= True)\n",
    "\n",
    "    reportDF.loc[len(reportDF)] = 2 * accuracyRow\n",
    "    reportDF.loc[len(reportDF)] = 2 * [AUCROC]\n",
    "\n",
    "    reportDF = reportDF.rename(index = {3:'accuracy',4:'AUC ROC'})\n",
    "    return reportDF"
   ]
  },
  {
   "cell_type": "markdown",
   "metadata": {},
   "source": [
    "# Boosting Classifiers"
   ]
  },
  {
   "cell_type": "markdown",
   "metadata": {},
   "source": [
    "### 1.  Gradient Boosting Classifier"
   ]
  },
  {
   "cell_type": "markdown",
   "metadata": {},
   "source": [
    "#### 1a) Identify the optimal Learning rate"
   ]
  },
  {
   "cell_type": "code",
   "execution_count": 33,
   "metadata": {},
   "outputs": [],
   "source": [
    "# optimal_learning_rate = learningRateDF['learning_rate'].loc[learningRateDF.\n",
    "#                                                                 mask((learningRateDF == learningRateDF.min())\n",
    "#                                                                      .cumsum()\n",
    "#                                                                      .astype(bool))\n",
    "#                                                                 [::-1]\n",
    "#                                                                 .idxmax()\n",
    "#                                                                 ['testing_accuracy']]"
   ]
  },
  {
   "cell_type": "code",
   "execution_count": 34,
   "metadata": {},
   "outputs": [],
   "source": [
    "def optimal_learning_rate(X_train, X_test, y_train, y_test):\n",
    "    \n",
    "    lr_list = [0.05, 0.075, 0.1, 0.25, 0.5, 0.75, 1]\n",
    "\n",
    "    col_learningDF = ['learning_rate','training_accuracy','testing_accuracy']\n",
    "    learningRateDF = pd.DataFrame(columns=col_learningDF)\n",
    "\n",
    "    for learning_rate in lr_list:\n",
    "\n",
    "        gb_clf = GradientBoostingClassifier(n_estimators=100,\n",
    "                                            learning_rate=learning_rate,\n",
    "#                                             max_leaf_nodes= 32,\n",
    "#                                             max_features=2,\n",
    "#                                             max_depth=2,\n",
    "                                            random_state= 42 )\n",
    "        gb_clf.fit(X_train, y_train)\n",
    "\n",
    "        accuracy_train_score = gb_clf.score(X_train, y_train)\n",
    "        accuracy_test_score = gb_clf.score(X_test, y_test)\n",
    "\n",
    "        learningRateDF.loc[len(learningRateDF)] = [learning_rate,accuracy_train_score,accuracy_test_score]\n",
    "#         print(\"Learning rate: \", learning_rate)\n",
    "#         print(\"Accuracy score (training): {0:.3f}\".format(accuracy_train_score))\n",
    "#         print(\"Accuracy score (test): {0:.3f}\".format(accuracy_test_score))\n",
    "    print(learningRateDF)\n",
    "\n",
    "    optimal_learning_rate = learningRateDF['learning_rate'].loc[learningRateDF.testing_accuracy.argmax()]\n",
    "\n",
    "# # Script to find the maximum learning_rate where the test_accuracy is maximum\n",
    "\n",
    "#     optimal_learning_rate = learningRateDF['learning_rate'].loc[((learningRateDF == learningRateDF.min())\n",
    "#                                                                  .cumsum()\n",
    "#                                                                  .astype(bool))\n",
    "#                                                                 [::-1].idxmax()\n",
    "#                                                                 ['testing_accuracy']\n",
    "#                                                                ]\n",
    "\n",
    "    return optimal_learning_rate"
   ]
  },
  {
   "cell_type": "code",
   "execution_count": 35,
   "metadata": {},
   "outputs": [
    {
     "name": "stdout",
     "output_type": "stream",
     "text": [
      "\n",
      "The optimal learning rate for GB Classifier is : 0.1\n"
     ]
    }
   ],
   "source": [
    "# chosen_learning_rate_GB = optimal_learning_rate(X_train, X_test, y_train, y_test)\n",
    "chosen_learning_rate_GB = default_learning_rate\n",
    "print(\"\\nThe optimal learning rate for GB Classifier is :\",chosen_learning_rate_GB)"
   ]
  },
  {
   "cell_type": "markdown",
   "metadata": {},
   "source": [
    "#### 1b) Model Function"
   ]
  },
  {
   "cell_type": "code",
   "execution_count": 36,
   "metadata": {},
   "outputs": [],
   "source": [
    "def train_model_Gradient_Boosting_classifier(X_train, X_test, y_train, y_test,learning_rate = 1):\n",
    "    \n",
    "    start = time.time()\n",
    "    print(\"Started Reading files at :\" + str(datetime.utcfromtimestamp(start).strftime('%Y-%m-%d %H:%M:%S')))\n",
    "    \n",
    "    labelClass = [0,1]\n",
    "\n",
    "    # Classifier parameters    \n",
    "    gb_clf = GradientBoostingClassifier(n_estimators=100,\n",
    "                                         learning_rate= default_learning_rate,\n",
    "                                         max_leaf_nodes= chosen_max_leaf_nodes,\n",
    "                                         max_features= chosen_max_features,\n",
    "                                         max_depth= default_max_depth,\n",
    "                                         random_state= chosen_random_state\n",
    "                                        )\n",
    "    \n",
    "    gb_clf.fit(X_train, y_train)\n",
    "    \n",
    "    # Predict classes\n",
    "    y_pred = gb_clf.predict(X_test)\n",
    "    y_prob = gb_clf.predict_proba(X_test)\n",
    "    \n",
    "    cnf_matrix = confusion_matrix(y_test, y_pred,labels= labelClass )\n",
    "#     np.set_printoptions(precision=2)\n",
    "    \n",
    "    classifier_name = gb_clf.__class__.__name__\n",
    "    train_size = int(round((len(X_train) / len(chosen_dataframe)),1) * 100)\n",
    "    test_size = int(round((len(X_test) / len(chosen_dataframe)),1) * 100)\n",
    "    \n",
    "    # Print run info\n",
    "    run_info(classifier_name)\n",
    "    \n",
    "    \n",
    "    # Plot non-normalized confusion matrix\n",
    "    plt.figure()\n",
    "    plot_confusion_matrix(cnf_matrix, classes= labelClass,\n",
    "                      title='Confusion matrix, without normalization')\n",
    "    \n",
    "    \n",
    "    gb_train_score = gb_clf.score(X_train, y_train)\n",
    "    print(\"\\nTraining Score of {0} on {2} % data : {1} \".format(classifier_name,round(gb_train_score,3),train_size))\n",
    "    \n",
    "    gb_test_score = gb_clf.score(X_test, y_test)\n",
    "    print(\"Testing Score of {0} on {2} % data : {1} \".format(classifier_name,round(gb_test_score,3),test_size))\n",
    "    \n",
    "    # Performance metrics\n",
    "    \n",
    "    auc_roc = roc_auc_score(y_test, y_pred , average = 'macro')\n",
    "    print( \"\\nArea Under the Curve - ROC (Macro) : \",round(auc_roc,3))\n",
    "    print( \"Matthews_corrcoef : \", round(metrics.matthews_corrcoef(y_test, y_pred),3))\n",
    "\n",
    "#     print(\"\\nConfusion Matrix:\\n\")\n",
    "#     print(cnf_matrix)\n",
    "\n",
    "    print(\"\\nClassification Report\\n\")\n",
    "#     print(classification_report(y_test, y_pred))\n",
    "    print(classification_report(y_test, y_pred, labels = labelClass ))\n",
    "        \n",
    "    # Stop timer\n",
    "    end = time.time()\n",
    "    print(\"\\nStopped Reading files at :\" + str(datetime.utcfromtimestamp(end).strftime('%Y-%m-%d %H:%M:%S')))\n",
    "    total_time = str(round((end - start)/60,2))\n",
    "    print(\"Total time taken in minutes: \" + str((end - start)/60))\n",
    "      \n",
    "    return gb_clf,y_test,y_pred,auc_roc"
   ]
  },
  {
   "cell_type": "markdown",
   "metadata": {},
   "source": [
    "#### 1c) Run Results of Gradient Boosting Model"
   ]
  },
  {
   "cell_type": "code",
   "execution_count": 37,
   "metadata": {
    "scrolled": false
   },
   "outputs": [
    {
     "name": "stdout",
     "output_type": "stream",
     "text": [
      "Started Reading files at :2020-05-29 17:11:21\n",
      "\n",
      "**Run Info - GradientBoostingClassifier**\n",
      "Dataset Shape : (546, 62)\n",
      "Dataset ratio of classes is balanced\n",
      "Predicting feature : Gender\n",
      "Scaling Method : None\n",
      "Learning Rate : 0.1\n",
      "****************\n",
      "\n",
      "Confusion matrix, without normalization\n",
      "[[25 30]\n",
      " [26 29]]\n",
      "\n",
      "Training Score of GradientBoostingClassifier on 80 % data : 0.95 \n",
      "Testing Score of GradientBoostingClassifier on 20 % data : 0.491 \n",
      "\n",
      "Area Under the Curve - ROC (Macro) :  0.491\n",
      "Matthews_corrcoef :  -0.018\n",
      "\n",
      "Classification Report\n",
      "\n",
      "              precision    recall  f1-score   support\n",
      "\n",
      "           0       0.49      0.45      0.47        55\n",
      "           1       0.49      0.53      0.51        55\n",
      "\n",
      "    accuracy                           0.49       110\n",
      "   macro avg       0.49      0.49      0.49       110\n",
      "weighted avg       0.49      0.49      0.49       110\n",
      "\n",
      "\n",
      "Stopped Reading files at :2020-05-29 17:11:21\n",
      "Total time taken in minutes: 0.007399904727935791\n"
     ]
    },
    {
     "data": {
      "image/png": "[encoded data removed]",
      "text/plain": [
       "<Figure size 432x288 with 2 Axes>"
      ]
     },
     "metadata": {
      "needs_background": "light"
     },
     "output_type": "display_data"
    }
   ],
   "source": [
    "gb_clf, y_true , y_pred, AUCROC = train_model_Gradient_Boosting_classifier(X_train, X_test, y_train, y_test,learning_rate = chosen_learning_rate_GB)\n",
    "# tn, fp, fn, tp\n"
   ]
  },
  {
   "cell_type": "code",
   "execution_count": 38,
   "metadata": {
    "scrolled": true
   },
   "outputs": [
    {
     "data": {
      "text/html": [
       "<div>\n",
       "<style scoped>\n",
       "    .dataframe tbody tr th:only-of-type {\n",
       "        vertical-align: middle;\n",
       "    }\n",
       "\n",
       "    .dataframe tbody tr th {\n",
       "        vertical-align: top;\n",
       "    }\n",
       "\n",
       "    .dataframe thead th {\n",
       "        text-align: right;\n",
       "    }\n",
       "</style>\n",
       "<table border=\"1\" class=\"dataframe\">\n",
       "  <thead>\n",
       "    <tr style=\"text-align: right;\">\n",
       "      <th></th>\n",
       "      <th>1</th>\n",
       "      <th>0</th>\n",
       "    </tr>\n",
       "  </thead>\n",
       "  <tbody>\n",
       "    <tr>\n",
       "      <th>precision</th>\n",
       "      <td>0.490000</td>\n",
       "      <td>0.490000</td>\n",
       "    </tr>\n",
       "    <tr>\n",
       "      <th>recall</th>\n",
       "      <td>0.530000</td>\n",
       "      <td>0.450000</td>\n",
       "    </tr>\n",
       "    <tr>\n",
       "      <th>f1-score</th>\n",
       "      <td>0.510000</td>\n",
       "      <td>0.470000</td>\n",
       "    </tr>\n",
       "    <tr>\n",
       "      <th>accuracy</th>\n",
       "      <td>0.490909</td>\n",
       "      <td>0.490909</td>\n",
       "    </tr>\n",
       "    <tr>\n",
       "      <th>AUC ROC</th>\n",
       "      <td>0.490909</td>\n",
       "      <td>0.490909</td>\n",
       "    </tr>\n",
       "  </tbody>\n",
       "</table>\n",
       "</div>"
      ],
      "text/plain": [
       "                  1         0\n",
       "precision  0.490000  0.490000\n",
       "recall     0.530000  0.450000\n",
       "f1-score   0.510000  0.470000\n",
       "accuracy   0.490909  0.490909\n",
       "AUC ROC    0.490909  0.490909"
      ]
     },
     "execution_count": 38,
     "metadata": {},
     "output_type": "execute_result"
    }
   ],
   "source": [
    "GB_reportDF = customized_classification_report(y_true,y_pred,AUCROC)\n",
    "GB_reportDF[['1','0']]"
   ]
  },
  {
   "cell_type": "markdown",
   "metadata": {},
   "source": [
    "precision\t0.530000\t0.540000\n",
    "recall\t0.490000\t0.580000\n",
    "f1-score\t0.510000\t0.560000\n",
    "accuracy\t0.535211\t0.535211\n",
    "AUC ROC\t0.534524\t0.534524"
   ]
  },
  {
   "cell_type": "code",
   "execution_count": 39,
   "metadata": {},
   "outputs": [],
   "source": [
    "# gb_clf2 = GradientBoostingClassifier(n_estimators=100,\n",
    "#                                          learning_rate=0.1,\n",
    "#                                          max_leaf_nodes = 32,\n",
    "# #                                          max_features=2,\n",
    "# #                                          max_depth=2,\n",
    "# #                                          random_state= 42\n",
    "#                                         )\n",
    "# gb_clf2.fit(X_train, y_train)\n",
    "# predictions = gb_clf2.predict(X_test)\n",
    "\n",
    "# gb_train_score = gb_clf2.score(X_train, y_train)\n",
    "# print(\"Training Score of Gradient Boosting Classifier: \",round(gb_train_score,3))\n",
    "\n",
    "# gb_test_score = gb_clf2.score(X_test, y_test)\n",
    "# print(\"Testing Score of Gradient Boosting Classifier : \",round(gb_test_score,3))\n",
    "\n",
    "# print(\"\\nConfusion Matrix:\")\n",
    "# print(confusion_matrix(y_test, predictions))\n",
    "\n",
    "# print(\"\\nClassification Report\")\n",
    "# print(classification_report(y_test, predictions))\n"
   ]
  },
  {
   "cell_type": "markdown",
   "metadata": {},
   "source": [
    "### Train accuracy of the model"
   ]
  },
  {
   "cell_type": "code",
   "execution_count": 40,
   "metadata": {},
   "outputs": [
    {
     "data": {
      "text/plain": [
       "array([5.09333206e-02, 8.36784496e-02, 8.53268914e-05, 3.93842010e-02,\n",
       "       6.45370043e-02, 3.07003558e-02, 1.00314542e-02, 4.71922880e-03,\n",
       "       3.63369449e-02, 4.29023193e-02, 4.65500038e-02, 7.44199323e-02,\n",
       "       0.00000000e+00, 1.60430337e-02, 7.32880310e-02, 4.77356736e-02,\n",
       "       1.01284571e-02, 5.64315298e-03, 4.06938122e-03, 0.00000000e+00,\n",
       "       0.00000000e+00, 3.61503364e-03, 5.50400442e-02, 5.39527154e-04,\n",
       "       0.00000000e+00, 1.83039087e-02, 0.00000000e+00, 7.40150249e-03,\n",
       "       5.57901963e-03, 2.36092304e-03, 2.13764181e-03, 2.82864243e-02,\n",
       "       1.55644353e-02, 2.29364202e-04, 0.00000000e+00, 0.00000000e+00,\n",
       "       3.33060869e-03, 7.94174824e-03, 1.15124668e-03, 3.02251577e-04,\n",
       "       2.66594224e-05, 0.00000000e+00, 0.00000000e+00, 0.00000000e+00,\n",
       "       6.36530173e-03, 3.66270831e-03, 0.00000000e+00, 5.57423192e-03,\n",
       "       0.00000000e+00, 3.95549992e-02, 3.10034338e-03, 0.00000000e+00,\n",
       "       2.66679487e-03, 1.09823235e-02, 1.62985596e-03, 2.64488814e-02,\n",
       "       7.00883451e-02, 1.94898889e-02, 8.54556493e-04, 7.71034086e-03,\n",
       "       8.87481843e-03])"
      ]
     },
     "execution_count": 40,
     "metadata": {},
     "output_type": "execute_result"
    }
   ],
   "source": [
    "gb_clf.feature_importances_"
   ]
  },
  {
   "cell_type": "code",
   "execution_count": 41,
   "metadata": {},
   "outputs": [
    {
     "data": {
      "text/plain": [
       "array([1.35947554, 1.33140602, 1.31086348, 1.28680634, 1.26844896,\n",
       "       1.25135015, 1.23460866, 1.2171895 , 1.20506898, 1.19104663,\n",
       "       1.17910259, 1.17012377, 1.15909337, 1.14804772, 1.13960986,\n",
       "       1.13135416, 1.11850408, 1.10831004, 1.10414988, 1.09884924,\n",
       "       1.08651646, 1.07808363, 1.06740859, 1.05848333, 1.05273255,\n",
       "       1.0451974 , 1.04054716, 1.03721618, 1.02988904, 1.02634816,\n",
       "       1.0189952 , 1.01408634, 1.01098463, 1.00344788, 0.9972108 ,\n",
       "       0.98447973, 0.98129152, 0.97545378, 0.96562062, 0.95699426,\n",
       "       0.95298951, 0.95031342, 0.94390722, 0.93650392, 0.93062989,\n",
       "       0.92849719, 0.92601273, 0.92227492, 0.91789689, 0.91027475,\n",
       "       0.90051493, 0.89413881, 0.89134763, 0.88533019, 0.87319526,\n",
       "       0.86795279, 0.86320365, 0.85898283, 0.85254268, 0.84573444,\n",
       "       0.84055649, 0.83778371, 0.83026441, 0.82453762, 0.81883753,\n",
       "       0.81357262, 0.80953542, 0.80648769, 0.80174397, 0.80011803,\n",
       "       0.79642531, 0.79179205, 0.78883579, 0.78100542, 0.77931039,\n",
       "       0.77344962, 0.76737938, 0.76018575, 0.75660634, 0.75257366,\n",
       "       0.74884459, 0.74544738, 0.73785621, 0.73465768, 0.7243215 ,\n",
       "       0.72063465, 0.71838527, 0.71161604, 0.70383293, 0.70044698,\n",
       "       0.69407723, 0.69259089, 0.69068515, 0.68703498, 0.68564244,\n",
       "       0.67927297, 0.67502298, 0.67130916, 0.66799444, 0.66588   ])"
      ]
     },
     "execution_count": 41,
     "metadata": {},
     "output_type": "execute_result"
    }
   ],
   "source": [
    "gb_clf.train_score_"
   ]
  },
  {
   "cell_type": "code",
   "execution_count": 42,
   "metadata": {},
   "outputs": [],
   "source": [
    "labelClass = [0,1]\n",
    "y_train_pred = gb_clf.predict(X_train)\n",
    "y_train_prob = gb_clf.predict_proba(X_train)\n",
    "auc_roc = roc_auc_score(y_test, y_pred)\n"
   ]
  },
  {
   "cell_type": "code",
   "execution_count": 43,
   "metadata": {
    "scrolled": false
   },
   "outputs": [
    {
     "data": {
      "text/html": [
       "<div>\n",
       "<style scoped>\n",
       "    .dataframe tbody tr th:only-of-type {\n",
       "        vertical-align: middle;\n",
       "    }\n",
       "\n",
       "    .dataframe tbody tr th {\n",
       "        vertical-align: top;\n",
       "    }\n",
       "\n",
       "    .dataframe thead th {\n",
       "        text-align: right;\n",
       "    }\n",
       "</style>\n",
       "<table border=\"1\" class=\"dataframe\">\n",
       "  <thead>\n",
       "    <tr style=\"text-align: right;\">\n",
       "      <th></th>\n",
       "      <th>0</th>\n",
       "      <th>1</th>\n",
       "    </tr>\n",
       "  </thead>\n",
       "  <tbody>\n",
       "    <tr>\n",
       "      <th>precision</th>\n",
       "      <td>0.970000</td>\n",
       "      <td>0.930000</td>\n",
       "    </tr>\n",
       "    <tr>\n",
       "      <th>recall</th>\n",
       "      <td>0.930000</td>\n",
       "      <td>0.970000</td>\n",
       "    </tr>\n",
       "    <tr>\n",
       "      <th>f1-score</th>\n",
       "      <td>0.950000</td>\n",
       "      <td>0.950000</td>\n",
       "    </tr>\n",
       "    <tr>\n",
       "      <th>accuracy</th>\n",
       "      <td>0.949541</td>\n",
       "      <td>0.949541</td>\n",
       "    </tr>\n",
       "    <tr>\n",
       "      <th>AUC ROC</th>\n",
       "      <td>0.490909</td>\n",
       "      <td>0.490909</td>\n",
       "    </tr>\n",
       "  </tbody>\n",
       "</table>\n",
       "</div>"
      ],
      "text/plain": [
       "                  0         1\n",
       "precision  0.970000  0.930000\n",
       "recall     0.930000  0.970000\n",
       "f1-score   0.950000  0.950000\n",
       "accuracy   0.949541  0.949541\n",
       "AUC ROC    0.490909  0.490909"
      ]
     },
     "execution_count": 43,
     "metadata": {},
     "output_type": "execute_result"
    }
   ],
   "source": [
    "train_GB_reportDF = customized_classification_report(y_train,y_train_pred,auc_roc)\n",
    "train_GB_reportDF"
   ]
  },
  {
   "cell_type": "markdown",
   "metadata": {},
   "source": [
    "### 1e) Plot ROC AUC Curve"
   ]
  },
  {
   "cell_type": "code",
   "execution_count": 44,
   "metadata": {},
   "outputs": [],
   "source": [
    "def divide_test_train_with_scaling_methods_roc_auc(df,predict= chosen_feature_predicting,scalingMethod = \"MinMaxScaler\"):\n",
    "    \n",
    "    labelClass = [0,1]\n",
    "    \n",
    "    # Feature matrix and target variable\n",
    "    X = df.drop(predict,axis = 'columns')\n",
    "    y = df[[predict]]\n",
    "    y = one_hot_encode_gender(y)\n",
    "    \n",
    "    # Using LabelBinarizer\n",
    "#     lb = preprocessing.LabelBinarizer()\n",
    "#     y = lb.fit_transform(y)\n",
    "\n",
    "    # Using label_binarize\n",
    "    y = label_binarize(y, classes= labelClass)\n",
    "\n",
    "    \n",
    "    # Scaling\n",
    "    if (scalingMethod == \"MinMaxScaler\"):\n",
    "        print(\"The scaling method used is : \",scalingMethod)\n",
    "        scaler = MinMaxScaler()\n",
    "        new_X = scaler.fit_transform(X)\n",
    "        # X_test = scaler.transform(X_test)\n",
    "        \n",
    "    else:\n",
    "        print(\"No Scaling Method used or incorrect input\")\n",
    "        new_X = X\n",
    "    \n",
    "    # Divide the data into training and test sets\n",
    "    X_train, X_test, y_train, y_test = train_test_split(new_X, y, test_size=0.20, random_state = 42 , stratify = y )\n",
    "    \n",
    "    return X_train, X_test, y_train, y_test"
   ]
  },
  {
   "cell_type": "code",
   "execution_count": 45,
   "metadata": {},
   "outputs": [
    {
     "name": "stdout",
     "output_type": "stream",
     "text": [
      "Before one hot encoding , Shape ; (546, 1)\n",
      "After one hot encoding , Shape ; (546, 2)\n",
      "No Scaling Method used or incorrect input\n"
     ]
    }
   ],
   "source": [
    "X_train_AUC, X_test_AUC, y_train_AUC, y_test_AUC = divide_test_train_with_scaling_methods_roc_auc(chosen_dataframe,scalingMethod= chosen_scaling_method)"
   ]
  },
  {
   "cell_type": "code",
   "execution_count": 46,
   "metadata": {},
   "outputs": [
    {
     "data": {
      "text/plain": [
       "((436, 61), (436, 2))"
      ]
     },
     "execution_count": 46,
     "metadata": {},
     "output_type": "execute_result"
    }
   ],
   "source": [
    "X_train_AUC.shape , y_train_AUC.shape"
   ]
  },
  {
   "cell_type": "code",
   "execution_count": 47,
   "metadata": {},
   "outputs": [
    {
     "data": {
      "text/plain": [
       "((110, 61), (110, 2))"
      ]
     },
     "execution_count": 47,
     "metadata": {},
     "output_type": "execute_result"
    }
   ],
   "source": [
    "X_test_AUC.shape , y_test_AUC.shape"
   ]
  },
  {
   "cell_type": "code",
   "execution_count": 48,
   "metadata": {},
   "outputs": [],
   "source": [
    "def plot_roc_auc(X_train, X_test, y_train, y_test,learning_rate = 1):\n",
    "    \n",
    "    start = time.time()\n",
    "    print(\"Started Reading files at :\" + str(datetime.utcfromtimestamp(start).strftime('%Y-%m-%d %H:%M:%S')))\n",
    "    \n",
    "    labelClass = [0,1]\n",
    "\n",
    "    # Classifier parameters    \n",
    "    gb_clf = GradientBoostingClassifier(n_estimators=100,\n",
    "                                         learning_rate= default_learning_rate,\n",
    "                                         max_leaf_nodes= chosen_max_leaf_nodes,\n",
    "                                         max_features= chosen_max_features,\n",
    "                                         max_depth= default_max_depth,\n",
    "                                         random_state= chosen_random_state\n",
    "                                        )\n",
    "    \n",
    "    # Learn to predict each class against the other\n",
    "    classifier = OneVsRestClassifier(gb_clf)\n",
    "    gb_clf = classifier\n",
    "    \n",
    "    \n",
    "#     gb_clf.fit(X_train, y_train)\n",
    "    y_score = gb_clf.fit(X_train, y_train).decision_function(X_test)\n",
    "\n",
    "    # Predict classes\n",
    "    y_pred = gb_clf.predict(X_test)\n",
    "    y_prob = gb_clf.predict_proba(X_test)\n",
    "    \n",
    "    \n",
    "    classifier_name = gb_clf.__class__.__name__\n",
    "    train_size = int(round((len(X_train) / len(chosen_dataframe)),1) * 100)\n",
    "    test_size = int(round((len(X_test) / len(chosen_dataframe)),1) * 100)\n",
    "    \n",
    "    # Print run info\n",
    "    run_info(classifier_name)\n",
    "    \n",
    "      \n",
    "    \n",
    "    gb_train_score = gb_clf.score(X_train, y_train)\n",
    "    print(\"\\nTraining Score of {0} on {2} % data : {1} \".format(classifier_name,round(gb_train_score,3),train_size))\n",
    "    \n",
    "    gb_test_score = gb_clf.score(X_test, y_test)\n",
    "    print(\"Testing Score of {0} on {2} % data : {1} \".format(classifier_name,round(gb_test_score,3),test_size))\n",
    "    \n",
    "    # Performance metrics\n",
    "    \n",
    "    auc_roc = roc_auc_score(y_test, y_pred)\n",
    "    print( \"\\nArea Under the Curve - ROC (OVO , Macro) : \",round(auc_roc,3))\n",
    "#     print(\"\\nConfusion Matrix:\\n\")\n",
    "#     print(cnf_matrix)\n",
    "        \n",
    "    # Stop timer\n",
    "    end = time.time()\n",
    "    print(\"\\nStopped Reading files at :\" + str(datetime.utcfromtimestamp(end).strftime('%Y-%m-%d %H:%M:%S')))\n",
    "    total_time = str(round((end - start)/60,2))\n",
    "    print(\"Total time taken in minutes: \" + str((end - start)/60))\n",
    "      \n",
    "    return gb_clf, y_test , y_pred, y_prob , auc_roc , y_score"
   ]
  },
  {
   "cell_type": "code",
   "execution_count": 49,
   "metadata": {},
   "outputs": [
    {
     "name": "stdout",
     "output_type": "stream",
     "text": [
      "Started Reading files at :2020-05-29 17:11:22\n",
      "\n",
      "**Run Info - OneVsRestClassifier**\n",
      "Dataset Shape : (546, 62)\n",
      "Dataset ratio of classes is balanced\n",
      "Predicting feature : Gender\n",
      "Scaling Method : None\n",
      "Learning Rate : 0.1\n",
      "****************\n",
      "\n",
      "\n",
      "Training Score of OneVsRestClassifier on 80 % data : 0.954 \n",
      "Testing Score of OneVsRestClassifier on 20 % data : 0.473 \n",
      "\n",
      "Area Under the Curve - ROC (OVO , Macro) :  0.473\n",
      "\n",
      "Stopped Reading files at :2020-05-29 17:11:22\n",
      "Total time taken in minutes: 0.006935834884643555\n"
     ]
    }
   ],
   "source": [
    "ovr_gb_clf, y_true , y_pred_AUC, y_prob , AUCROC , y_score= plot_roc_auc(X_train_AUC, X_test_AUC, y_train_AUC, y_test_AUC,learning_rate = chosen_learning_rate_GB)\n"
   ]
  },
  {
   "cell_type": "markdown",
   "metadata": {},
   "source": [
    "## Calculate FPR and TPR"
   ]
  },
  {
   "cell_type": "code",
   "execution_count": 50,
   "metadata": {},
   "outputs": [],
   "source": [
    "# Compute ROC curve and ROC area for each class\n",
    "fpr_gb = dict()\n",
    "tpr_gb = dict()\n",
    "roc_auc_gb = dict()\n",
    "thresholds_gb = dict()\n",
    "for i in range(2):\n",
    "    fpr_gb[i], tpr_gb[i], thresholds_gb[i] = roc_curve(y_test_AUC[:, i], y_score[:, i])\n",
    "    roc_auc_gb[i] = auc(fpr_gb[i], tpr_gb[i])"
   ]
  },
  {
   "cell_type": "code",
   "execution_count": 51,
   "metadata": {},
   "outputs": [],
   "source": [
    "# Compute micro-average ROC curve and ROC area\n",
    "\n",
    "fpr_gb[\"micro\"], tpr_gb[\"micro\"], thresholds_gb['micro'] = roc_curve(y_test_AUC.ravel(), y_score.ravel())\n",
    "roc_auc_gb[\"micro\"] = auc(fpr_gb[\"micro\"], tpr_gb[\"micro\"])"
   ]
  },
  {
   "cell_type": "code",
   "execution_count": 52,
   "metadata": {},
   "outputs": [],
   "source": [
    "# # To calculate macro avearage\n",
    "\n",
    "# # first aggregate all the false positive rates\n",
    "# all_fpr_gb = np.unique(np.concatenate([fpr_gb[i] for i in range(2)]))\n",
    "\n",
    "# # Then interpolate all ROC curves at this points\n",
    "# mean_tpr_gb = np.zeros_like(all_fpr_gb)\n",
    "\n",
    "# for i in range(2):\n",
    "#     mean_tpr_gb += np.interp(all_fpr_gb ,fpr_gb[i] , tpr_gb[i])\n",
    "\n",
    "# # Finally average it and compute AUC for macro    \n",
    "# mean_tpr_gb /= 2\n",
    "\n",
    "\n",
    "# fpr_gb['macro'] = all_fpr_gb\n",
    "# tpr_gb['macro'] = mean_tpr_gb\n",
    "# roc_auc_gb[\"macro\"] = auc(fpr_gb[\"macro\"], tpr_gb[\"macro\"])"
   ]
  },
  {
   "cell_type": "markdown",
   "metadata": {},
   "source": [
    "### Binary class roc macro calculation"
   ]
  },
  {
   "cell_type": "code",
   "execution_count": 53,
   "metadata": {},
   "outputs": [],
   "source": [
    "fpr_gb['macro'] , tpr_gb['macro'], _ = roc_curve(y_test, y_pred)\n",
    "roc_auc_gb[\"macro\"] = roc_auc_score(y_test, y_pred, average = 'macro')"
   ]
  },
  {
   "cell_type": "markdown",
   "metadata": {},
   "source": [
    "## Plot figure"
   ]
  },
  {
   "cell_type": "code",
   "execution_count": 54,
   "metadata": {},
   "outputs": [
    {
     "data": {
      "text/plain": [
       "'.\\\\DirectorPlots\\\\PredictGender\\\\ROC_GradientBoostingClassifier_balanced_2_Director_Data_Enhanced_May-10-2020.png'"
      ]
     },
     "execution_count": 54,
     "metadata": {},
     "output_type": "execute_result"
    }
   ],
   "source": [
    "gb_clf = GradientBoostingClassifier()\n",
    "figure_name = '.\\\\DirectorPlots\\\\PredictGender\\\\ROC_'+ gb_clf.__class__.__name__ + '_' + chosen_dataset_ratio + '_' + fileName +'.png'\n",
    "\n",
    "figure_name"
   ]
  },
  {
   "cell_type": "code",
   "execution_count": 55,
   "metadata": {},
   "outputs": [
    {
     "data": {
      "image/png": "[encoded data removed]",
      "text/plain": [
       "<Figure size 864x576 with 1 Axes>"
      ]
     },
     "metadata": {
      "needs_background": "light"
     },
     "output_type": "display_data"
    }
   ],
   "source": [
    "plt.figure(figsize=(12,8))\n",
    "lw = 2\n",
    "plt.plot(fpr_gb[0], tpr_gb[0], color='red',\n",
    "         lw=lw, label='ROC curve Class Female (area = %0.2f)' % roc_auc_gb[0])\n",
    "\n",
    "plt.plot(fpr_gb[1], tpr_gb[1], color='blue',\n",
    "         lw=lw, label='ROC curve Class Male(area = %0.2f)' % roc_auc_gb[1])\n",
    "\n",
    "\n",
    "# plt.plot(fpr_gb['micro'], tpr_gb['micro'], color='orange',\n",
    "#          lw=lw, label='ROC curve - micro average(area = %0.2f)' % roc_auc_gb['micro'])\n",
    "\n",
    "plt.plot(fpr_gb['macro'], tpr_gb['macro'], color='#FACA0F',\n",
    "         lw=lw, label='ROC curve - macro average(area = %0.2f)' % roc_auc_gb['macro'])\n",
    "\n",
    "\n",
    "\n",
    "plt.plot([0, 1], [0, 1], color='navy', lw=lw, linestyle='--')\n",
    "plt.xlim([0.0, 1.0])\n",
    "plt.ylim([0.0, 1.05])\n",
    "plt.xlabel('False Positive Rate',fontsize = 16)\n",
    "plt.ylabel('True Positive Rate',fontsize = 16)\n",
    "plt.title('Receiver operating characteristic - Director data set',fontsize = 20)\n",
    "plt.legend(loc=\"lower right\",fontsize = 12)\n",
    "plt.tick_params(labelsize=12)\n",
    "# plt.savefig(figure_name, dpi=100)\n",
    "plt.show()"
   ]
  },
  {
   "cell_type": "markdown",
   "metadata": {},
   "source": [
    "### 2. XGB Classifier"
   ]
  },
  {
   "cell_type": "markdown",
   "metadata": {},
   "source": [
    "#### 2b) Optimal learning rate"
   ]
  },
  {
   "cell_type": "code",
   "execution_count": 56,
   "metadata": {},
   "outputs": [],
   "source": [
    "def optimal_learning_rate_xgb(X_train, X_test, y_train, y_test):\n",
    "    \n",
    "    lr_list = [0.05, 0.075, 0.1, 0.25, 0.5, 0.75, 1]\n",
    "\n",
    "    col_learningDF = ['learning_rate','training_accuracy','testing_accuracy']\n",
    "    learningRateDF = pd.DataFrame(columns=col_learningDF)\n",
    "\n",
    "    for learning_rate in lr_list:\n",
    "\n",
    "        xgb_clf = XGBClassifier(n_estimators=100,\n",
    "                                learning_rate=learning_rate,\n",
    "                                max_features=2,\n",
    "                                max_depth=2,\n",
    "                                random_state= 42\n",
    "                               )\n",
    "        \n",
    "        xgb_clf.fit(X_train, y_train)\n",
    "\n",
    "        accuracy_train_score = xgb_clf.score(X_train, y_train)\n",
    "        accuracy_test_score = xgb_clf.score(X_test, y_test)\n",
    "\n",
    "        learningRateDF.loc[len(learningRateDF)] = [learning_rate,accuracy_train_score,accuracy_test_score]\n",
    "#         print(\"Learning rate: \", learning_rate)\n",
    "#         print(\"Accuracy score (training): {0:.3f}\".format(accuracy_train_score))\n",
    "#         print(\"Accuracy score (test): {0:.3f}\".format(accuracy_test_score))\n",
    "    print(learningRateDF)\n",
    "\n",
    "    optimal_learning_rate = learningRateDF['learning_rate'].loc[learningRateDF.testing_accuracy.argmax()]\n",
    "\n",
    "    return optimal_learning_rate"
   ]
  },
  {
   "cell_type": "code",
   "execution_count": 57,
   "metadata": {},
   "outputs": [
    {
     "name": "stdout",
     "output_type": "stream",
     "text": [
      "\n",
      "The optimal learning rate for XGB Classifier is : 0.1\n"
     ]
    }
   ],
   "source": [
    "# chosen_learning_rate_XGB = optimal_learning_rate_xgb(X_train, X_test, y_train, y_test)\n",
    "chosen_learning_rate_XGB = default_learning_rate\n",
    "print(\"\\nThe optimal learning rate for XGB Classifier is :\",chosen_learning_rate_XGB)"
   ]
  },
  {
   "cell_type": "markdown",
   "metadata": {},
   "source": [
    "#### 2b) Model Function"
   ]
  },
  {
   "cell_type": "code",
   "execution_count": 58,
   "metadata": {},
   "outputs": [],
   "source": [
    "def train_model_XGB_classifier(X_train, X_test, y_train, y_test,learning_rate = 1):\n",
    "    \n",
    "    start = time.time()\n",
    "    print(\"Started Reading files at :\" + str(datetime.utcfromtimestamp(start).strftime('%Y-%m-%d %H:%M:%S')))\n",
    "    \n",
    "    labelClass = [0,1]\n",
    "    \n",
    "    # Classifier parameters    \n",
    "\n",
    "    xgb_clf = XGBClassifier(n_estimators=100,\n",
    "                            learning_rate=learning_rate,\n",
    "                            max_leaf_nodes= chosen_max_leaf_nodes,\n",
    "                            max_features= chosen_max_features,\n",
    "                            max_depth= default_max_depth,\n",
    "                            random_state= chosen_random_state\n",
    "                           )\n",
    "    \n",
    "    xgb_clf.fit(X_train, y_train)\n",
    "    \n",
    "    # Predict classes\n",
    "    y_pred = xgb_clf.predict(X_test)\n",
    "    y_prob = xgb_clf.predict_proba(X_test)\n",
    "    \n",
    "    cnf_matrix = confusion_matrix(y_test, y_pred,labels= labelClass )\n",
    "    np.set_printoptions(precision=2)\n",
    "    \n",
    "    classifier_name = xgb_clf.__class__.__name__\n",
    "    train_size = int(round((len(X_train) / len(chosen_dataframe)),1) * 100)\n",
    "    test_size = int(round((len(X_test) / len(chosen_dataframe)),1) * 100)\n",
    "    \n",
    "    # Print run info\n",
    "    run_info(classifier_name)\n",
    "    \n",
    "    # Plot non-normalized confusion matrix\n",
    "    plt.figure()\n",
    "    plot_confusion_matrix(cnf_matrix, classes= labelClass,\n",
    "                      title='Confusion matrix, without normalization')\n",
    "    \n",
    "    xgb_train_score = xgb_clf.score(X_train, y_train)\n",
    "    print(\"\\nTraining Score of {0} on {2} % data : {1} \".format(classifier_name,round(xgb_train_score,3),train_size))\n",
    "    \n",
    "    xgb_test_score = xgb_clf.score(X_test, y_test)\n",
    "    print(\"\\nTraining Score of {0} on {2} % data : {1} \".format(classifier_name,round(xgb_test_score,3),test_size))\n",
    "    \n",
    "        \n",
    "    # Performance metrics\n",
    "    \n",
    "    auc_roc = roc_auc_score(y_test, y_pred)\n",
    "    print( \"\\nArea Under the Curve - ROC (OVO , Macro) : \",round(auc_roc,3))\n",
    "    print( \"Matthews_corrcoef : \", round(metrics.matthews_corrcoef(y_test, y_pred),3))\n",
    "\n",
    "    print(\"\\nClassification Report\\n\")\n",
    "    print(classification_report(y_test, y_pred, labels = labelClass ))\n",
    "    \n",
    "    # Stop timer\n",
    "    end = time.time()\n",
    "    print(\"\\nStopped Reading files at :\" + str(datetime.utcfromtimestamp(end).strftime('%Y-%m-%d %H:%M:%S')))\n",
    "    total_time = str(round((end - start)/60,2))\n",
    "    print(\"Total time taken in minutes: \" + str((end - start)/60))\n",
    "  \n",
    "    return xgb_clf,y_test,y_pred,auc_roc"
   ]
  },
  {
   "cell_type": "markdown",
   "metadata": {},
   "source": [
    "###  2c) Run results of XGB Model"
   ]
  },
  {
   "cell_type": "code",
   "execution_count": 59,
   "metadata": {
    "scrolled": false
   },
   "outputs": [
    {
     "name": "stdout",
     "output_type": "stream",
     "text": [
      "Started Reading files at :2020-05-29 17:11:22\n",
      "\n",
      "**Run Info - XGBClassifier**\n",
      "Dataset Shape : (546, 62)\n",
      "Dataset ratio of classes is balanced\n",
      "Predicting feature : Gender\n",
      "Scaling Method : None\n",
      "Learning Rate : 0.1\n",
      "****************\n",
      "\n",
      "Confusion matrix, without normalization\n",
      "[[29 26]\n",
      " [29 26]]\n",
      "\n",
      "Training Score of XGBClassifier on 80 % data : 0.924 \n",
      "\n",
      "Training Score of XGBClassifier on 20 % data : 0.5 \n",
      "\n",
      "Area Under the Curve - ROC (OVO , Macro) :  0.5\n",
      "Matthews_corrcoef :  0.0\n",
      "\n",
      "Classification Report\n",
      "\n",
      "              precision    recall  f1-score   support\n",
      "\n",
      "           0       0.50      0.53      0.51        55\n",
      "           1       0.50      0.47      0.49        55\n",
      "\n",
      "    accuracy                           0.50       110\n",
      "   macro avg       0.50      0.50      0.50       110\n",
      "weighted avg       0.50      0.50      0.50       110\n",
      "\n",
      "\n",
      "Stopped Reading files at :2020-05-29 17:11:23\n",
      "Total time taken in minutes: 0.006375376383463542\n"
     ]
    },
    {
     "data": {
      "image/png": "[encoded data removed]",
      "text/plain": [
       "<Figure size 432x288 with 2 Axes>"
      ]
     },
     "metadata": {
      "needs_background": "light"
     },
     "output_type": "display_data"
    }
   ],
   "source": [
    "xgb_clf,y_true,y_pred,macro_ovo_roc_auc = train_model_XGB_classifier(X_train, X_test, y_train, y_test,learning_rate = chosen_learning_rate_XGB)\n",
    "# tn, fp, fn, tp"
   ]
  },
  {
   "cell_type": "code",
   "execution_count": 60,
   "metadata": {},
   "outputs": [
    {
     "data": {
      "text/html": [
       "<div>\n",
       "<style scoped>\n",
       "    .dataframe tbody tr th:only-of-type {\n",
       "        vertical-align: middle;\n",
       "    }\n",
       "\n",
       "    .dataframe tbody tr th {\n",
       "        vertical-align: top;\n",
       "    }\n",
       "\n",
       "    .dataframe thead th {\n",
       "        text-align: right;\n",
       "    }\n",
       "</style>\n",
       "<table border=\"1\" class=\"dataframe\">\n",
       "  <thead>\n",
       "    <tr style=\"text-align: right;\">\n",
       "      <th></th>\n",
       "      <th>1</th>\n",
       "      <th>0</th>\n",
       "    </tr>\n",
       "  </thead>\n",
       "  <tbody>\n",
       "    <tr>\n",
       "      <th>precision</th>\n",
       "      <td>0.500000</td>\n",
       "      <td>0.500000</td>\n",
       "    </tr>\n",
       "    <tr>\n",
       "      <th>recall</th>\n",
       "      <td>0.470000</td>\n",
       "      <td>0.530000</td>\n",
       "    </tr>\n",
       "    <tr>\n",
       "      <th>f1-score</th>\n",
       "      <td>0.490000</td>\n",
       "      <td>0.510000</td>\n",
       "    </tr>\n",
       "    <tr>\n",
       "      <th>accuracy</th>\n",
       "      <td>0.500000</td>\n",
       "      <td>0.500000</td>\n",
       "    </tr>\n",
       "    <tr>\n",
       "      <th>AUC ROC</th>\n",
       "      <td>0.472727</td>\n",
       "      <td>0.472727</td>\n",
       "    </tr>\n",
       "  </tbody>\n",
       "</table>\n",
       "</div>"
      ],
      "text/plain": [
       "                  1         0\n",
       "precision  0.500000  0.500000\n",
       "recall     0.470000  0.530000\n",
       "f1-score   0.490000  0.510000\n",
       "accuracy   0.500000  0.500000\n",
       "AUC ROC    0.472727  0.472727"
      ]
     },
     "execution_count": 60,
     "metadata": {},
     "output_type": "execute_result"
    }
   ],
   "source": [
    "XGB_reportDF = customized_classification_report(y_true,y_pred,AUCROC)\n",
    "XGB_reportDF[['1','0']]"
   ]
  },
  {
   "cell_type": "code",
   "execution_count": 61,
   "metadata": {},
   "outputs": [
    {
     "data": {
      "text/html": [
       "<div>\n",
       "<style scoped>\n",
       "    .dataframe tbody tr th:only-of-type {\n",
       "        vertical-align: middle;\n",
       "    }\n",
       "\n",
       "    .dataframe tbody tr th {\n",
       "        vertical-align: top;\n",
       "    }\n",
       "\n",
       "    .dataframe thead th {\n",
       "        text-align: right;\n",
       "    }\n",
       "</style>\n",
       "<table border=\"1\" class=\"dataframe\">\n",
       "  <thead>\n",
       "    <tr style=\"text-align: right;\">\n",
       "      <th></th>\n",
       "      <th>1</th>\n",
       "      <th>0</th>\n",
       "    </tr>\n",
       "  </thead>\n",
       "  <tbody>\n",
       "    <tr>\n",
       "      <th>precision</th>\n",
       "      <td>0.490000</td>\n",
       "      <td>0.490000</td>\n",
       "    </tr>\n",
       "    <tr>\n",
       "      <th>recall</th>\n",
       "      <td>0.530000</td>\n",
       "      <td>0.450000</td>\n",
       "    </tr>\n",
       "    <tr>\n",
       "      <th>f1-score</th>\n",
       "      <td>0.510000</td>\n",
       "      <td>0.470000</td>\n",
       "    </tr>\n",
       "    <tr>\n",
       "      <th>accuracy</th>\n",
       "      <td>0.490909</td>\n",
       "      <td>0.490909</td>\n",
       "    </tr>\n",
       "    <tr>\n",
       "      <th>AUC ROC</th>\n",
       "      <td>0.490909</td>\n",
       "      <td>0.490909</td>\n",
       "    </tr>\n",
       "  </tbody>\n",
       "</table>\n",
       "</div>"
      ],
      "text/plain": [
       "                  1         0\n",
       "precision  0.490000  0.490000\n",
       "recall     0.530000  0.450000\n",
       "f1-score   0.510000  0.470000\n",
       "accuracy   0.490909  0.490909\n",
       "AUC ROC    0.490909  0.490909"
      ]
     },
     "execution_count": 61,
     "metadata": {},
     "output_type": "execute_result"
    }
   ],
   "source": [
    "GB_reportDF[['1','0']]"
   ]
  },
  {
   "cell_type": "code",
   "execution_count": 62,
   "metadata": {},
   "outputs": [],
   "source": [
    "def train_model_XGB_classifier(X_train, X_test, y_train, y_test,learning_rate = 1):\n",
    "    \n",
    "    # Classifier parameters    \n",
    "\n",
    "    xgb_clf = XGBClassifier(n_estimators=100,\n",
    "                            learning_rate=learning_rate,\n",
    "                            max_features=2,\n",
    "                            max_depth=2,\n",
    "                            random_state= 42\n",
    "                           )\n",
    "    xgb_clf.fit(X_train, y_train)\n",
    "    \n",
    "    xgb_train_score = xgb_clf.score(X_train, y_train)\n",
    "    print(\"Training Score : \",round(xgb_train_score,3))\n",
    "    \n",
    "    xgb_test_score = xgb_clf.score(X_test, y_test)\n",
    "    print(\"Testing Score : \",round(xgb_test_score,3))\n",
    "    \n",
    "    predictions = xgb_clf.predict(X_test)\n",
    "\n",
    "    print(\"Confusion Matrix:\")\n",
    "    print(confusion_matrix(y_test, predictions))\n",
    "\n",
    "    print(\"Classification Report\")\n",
    "    print(classification_report(y_test, predictions))\n",
    "    \n",
    "    return xgb_clf"
   ]
  },
  {
   "cell_type": "markdown",
   "metadata": {},
   "source": [
    "# End"
   ]
  }
 ],
 "metadata": {
  "kernelspec": {
   "display_name": "Python 3",
   "language": "python",
   "name": "python3"
  },
  "language_info": {
   "codemirror_mode": {
    "name": "ipython",
    "version": 3
   },
   "file_extension": ".py",
   "mimetype": "text/x-python",
   "name": "python",
   "nbconvert_exporter": "python",
   "pygments_lexer": "ipython3",
   "version": "3.7.3"
  }
 },
 "nbformat": 4,
 "nbformat_minor": 4
}
