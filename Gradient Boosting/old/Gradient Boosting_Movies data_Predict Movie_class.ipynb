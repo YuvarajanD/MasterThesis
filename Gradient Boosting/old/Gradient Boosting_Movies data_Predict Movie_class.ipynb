{
 "cells": [
  {
   "cell_type": "code",
   "execution_count": 1,
   "metadata": {},
   "outputs": [],
   "source": [
    "import pandas as pd\n",
    "import numpy as np\n",
    "\n",
    "\n",
    "# time\n",
    "\n",
    "import time\n",
    "from datetime import datetime\n",
    "from datetime import date\n",
    "\n",
    "#Plotting\n",
    "%matplotlib inline\n",
    "import matplotlib as mpl\n",
    "import matplotlib.pyplot as plt\n",
    "import seaborn as sns\n",
    "\n",
    "# ML Libraries\n",
    "\n",
    "from sklearn.model_selection import train_test_split\n",
    "from sklearn.metrics import classification_report, confusion_matrix\n",
    "from sklearn.metrics import roc_auc_score\n",
    "from sklearn.metrics import precision_recall_fscore_support\n",
    "from sklearn.metrics import auc\n",
    "from sklearn.metrics import roc_auc_score\n",
    "from sklearn.metrics import roc_curve\n",
    "from sklearn import metrics\n",
    "from sklearn.preprocessing import LabelBinarizer\n",
    "\n",
    "\n",
    "# Boosting classifiers\n",
    "from sklearn.preprocessing import MinMaxScaler\n",
    "from sklearn.ensemble import GradientBoostingClassifier\n",
    "from xgboost import XGBClassifier\n",
    "\n",
    "# Save model\n",
    "import pickle\n",
    "import joblib"
   ]
  },
  {
   "cell_type": "code",
   "execution_count": 2,
   "metadata": {},
   "outputs": [],
   "source": [
    "# fileLocation = 'C:\\\\Users\\\\VictorY\\\\Desktop\\\\TestData\\\\stage3FinalProcessedDF_Nov-17-2019.csv'\n",
    "# moviesDataFileLocation = 'C:\\\\Yuva\\\\ITU\\\\4th Sem\\\\Thesis\\\\Data\\\\Final_Data_Movies_Directors.csv'\n",
    "# moviesDataFileLocation = 'C:\\\\Yuva\\\\ITU\\\\4th Sem\\\\Thesis\\\\Data\\\\Movies_director_data_3709_119Features.csv'\n",
    "\n",
    "# moviesDataFileLocation = 'C:\\\\Yuva\\\\ITU\\\\4th Sem\\\\Thesis\\\\Data\\\\1_Data_Movies.csv'\n",
    "moviesDataFileLocation = 'C:\\\\Yuva\\\\ITU\\\\4th Sem\\\\Thesis\\\\Data\\\\2_Movies_WithAwards.csv'\n",
    "\n",
    "saveFileToPath = \"C:\\\\Yuva\\\\ITU\\\\4th Sem\\\\Thesis\\\\Data\\\\\"\n",
    "\n",
    "movies_data = pd.read_csv(moviesDataFileLocation)"
   ]
  },
  {
   "cell_type": "code",
   "execution_count": 3,
   "metadata": {},
   "outputs": [
    {
     "name": "stdout",
     "output_type": "stream",
     "text": [
      "<class 'pandas.core.frame.DataFrame'>\n",
      "RangeIndex: 3709 entries, 0 to 3708\n",
      "Columns: 142 entries, director_ids to Winner_Directing (Dramatic Picture)\n",
      "dtypes: float64(27), int64(107), object(8)\n",
      "memory usage: 4.0+ MB\n"
     ]
    }
   ],
   "source": [
    "movies_data.info()"
   ]
  },
  {
   "cell_type": "markdown",
   "metadata": {},
   "source": [
    "# Notebook Run Settings"
   ]
  },
  {
   "cell_type": "markdown",
   "metadata": {},
   "source": [
    "chosen_feature_predicting : rating_count , rating_value , review_count_critic , review_count_user , metascore\n",
    "<br>chosen_bin_method : quartiles , bin_cut , Bin_AsPaper\n",
    "<br>chosen_success_class : movie_rating , director_rating\n",
    "<br>chosen_dataset_balance : unbalanced , balanced\n",
    "<br>chosen_scaling_method : MinMaxScaler , None"
   ]
  },
  {
   "cell_type": "code",
   "execution_count": 4,
   "metadata": {},
   "outputs": [],
   "source": [
    "gender_as_an_input = 'Yes'\n",
    "chosen_feature_predicting = 'rating_count'\n",
    "chosen_bin_method = 'quartiles'\n",
    "chosen_success_class = 'movie_class'\n",
    "chosen_dataset_ratio = 'balanced'\n",
    "chosen_scaling_method = 'None'\n",
    "default_learning_rate = 0.1\n",
    "chosen_max_leaf_nodes = 32\n",
    "default_max_depth = 3\n",
    "chosen_max_features = None\n",
    "chosen_random_state = 42"
   ]
  },
  {
   "cell_type": "code",
   "execution_count": 5,
   "metadata": {
    "scrolled": true
   },
   "outputs": [
    {
     "name": "stdout",
     "output_type": "stream",
     "text": [
      "Quantile 0% : 29.0 \n",
      "Quantile 25% : 13489.0 \n",
      "Quantile 50% : 46445.0 \n",
      "Quantile 75% : 124812.0 \n",
      "Quantile 100% : 1718048.0 \n"
     ]
    }
   ],
   "source": [
    "Q = [0,0.25,0.5,0.75,1]\n",
    "for num , q in enumerate(Q):\n",
    "    print(\"Quantile {0}% : {1} \".format(num * 25 , movies_data[chosen_feature_predicting].quantile(q)))"
   ]
  },
  {
   "cell_type": "markdown",
   "metadata": {},
   "source": [
    "## Movie classes"
   ]
  },
  {
   "cell_type": "code",
   "execution_count": 6,
   "metadata": {},
   "outputs": [],
   "source": [
    "def undersampling_balanced_gender(df,balance_feature = 'Gender', column_tobe_unique = 'director_ids'):\n",
    "    \n",
    "    # Shuffle the Dataset.\n",
    "    shuffled_data = df.sample(frac=1,random_state=42)\n",
    "    print('Unbalanced dataframe shape after undersampling :',shuffled_data.shape)\n",
    "\n",
    "    # First remove all duplicates director_ids to have only unique columns\n",
    "    unique_column_df = shuffled_data.drop_duplicates(subset = column_tobe_unique, keep='first', inplace=False)\n",
    "    unique_column_df.shape\n",
    "    \n",
    "    # An empty balanced data frame with only the unique columns\n",
    "    bal_total_unique_list_df = pd.DataFrame()\n",
    "    \n",
    "    # Add balanced values from all the possible classes    \n",
    "    for i in unique_column_df[balance_feature].value_counts().index:\n",
    "        bal_total_unique_list_df = bal_total_unique_list_df.append(unique_column_df[(unique_column_df[balance_feature]==i)]\n",
    "                                                   .sample(\n",
    "                                                       n= unique_column_df[balance_feature].value_counts().values.min(),\n",
    "                                                       random_state = 42,\n",
    "                                                       replace = False)\n",
    "                                                  )\n",
    "    # list of unique IDs\n",
    "    total_list_unique_IDs = bal_total_unique_list_df[column_tobe_unique].to_list()\n",
    "    \n",
    "    balanced_data = shuffled_data[shuffled_data[column_tobe_unique].isin(total_list_unique_IDs)] \n",
    "    \n",
    "    print('Balanced dataframe shape after undersampling :',balanced_data.shape)\n",
    "    return balanced_data"
   ]
  },
  {
   "cell_type": "code",
   "execution_count": 7,
   "metadata": {},
   "outputs": [],
   "source": [
    "def balance_gender(dataframe):\n",
    "    female_list_unique_directors = dataframe[(dataframe['Gender'] == 'Female')].director_ids.unique().tolist()\n",
    "    \n",
    "    unique_male_directors = dataframe[(dataframe['Gender'] == 'Male')].director_ids.unique().tolist()\n",
    "    \n",
    "    male_list_unique_directors = np.random.choice(unique_male_directors, replace = False, size = len(female_list_unique_directors)).tolist()\n",
    "    \n",
    "    total_list_unique_directors = female_list_unique_directors + male_list_unique_directors\n",
    "\n",
    "    dataframe = dataframe[dataframe['director_ids'].isin(np.array(total_list_unique_directors).tolist())]\n",
    "\n",
    "    return dataframe"
   ]
  },
  {
   "cell_type": "code",
   "execution_count": 8,
   "metadata": {},
   "outputs": [],
   "source": [
    "# Generic function to equally max split the dataframe with respect to the column Name, in our case the Gender column.\n",
    "\n",
    "def max_equal_split_on_columnName(df,columnName= chosen_success_class):\n",
    "    df1 = pd.DataFrame()\n",
    "    for i in df[columnName].value_counts().index:\n",
    "        df1 = df1.append(df[(df[columnName]==i)]\n",
    "                         .sample(n=df[columnName]\n",
    "                                 .value_counts()\n",
    "                                 .values.min()\n",
    "                                 ,replace = False)\n",
    "                        )        \n",
    "    return df1.reset_index(drop=True)"
   ]
  },
  {
   "cell_type": "code",
   "execution_count": 9,
   "metadata": {},
   "outputs": [],
   "source": [
    "# def multiclass_roc_auc_score(y_test, y_pred, average=\"macro\"):\n",
    "#     lb = LabelBinarizer()\n",
    "#     lb.fit(y_test)\n",
    "#     y_test = lb.transform(y_test)\n",
    "#     y_pred = lb.transform(y_pred)\n",
    "#     return roc_auc_score(y_test, y_pred, average=average)"
   ]
  },
  {
   "cell_type": "code",
   "execution_count": 10,
   "metadata": {},
   "outputs": [],
   "source": [
    "def print_feature_importances(coef, names, top=-1):\n",
    "    whole = []\n",
    "    imp = coef\n",
    "    imp,names = zip(*sorted(list(zip(imp, names)),reverse=True))\n",
    "    for i in range(len(names)):\n",
    "        string = \"{} :: {}\".format(str(names[i]),str(round(imp[i],3)))\n",
    "        whole.append(string)\n",
    "    return whole"
   ]
  },
  {
   "cell_type": "markdown",
   "metadata": {},
   "source": [
    "# Functions : Bin Cuts , Quartile Bins and bins as in paper"
   ]
  },
  {
   "cell_type": "markdown",
   "metadata": {},
   "source": [
    "## Bin Cuts"
   ]
  },
  {
   "cell_type": "code",
   "execution_count": 11,
   "metadata": {},
   "outputs": [],
   "source": [
    "def bincuts(df,class_feature = 'rating_value'):\n",
    "    \n",
    "    # Bin cuts into 4 buckets\n",
    "\n",
    "    bin_quartiles = ['terrible','poor','average','excellent']\n",
    "    cutIntoQuartiles = pd.cut(df[class_feature].to_list(), bins = 4 ,labels=bin_quartiles)\n",
    "\n",
    "    # Print the quartile range for visuals\n",
    "    print(cutIntoQuartiles.categories)\n",
    "\n",
    "    # Add the data to the dataframe\n",
    "    df[chosen_success_class] = cutIntoQuartiles\n",
    "    df[chosen_success_class] = df[chosen_success_class].astype(object)\n",
    "    print('The shape of our Movies dataset is:', df.shape)\n",
    "    df.drop(columns = [class_feature] , inplace = True)\n",
    "    print('The shape of our Movies dataset is:', df.shape)"
   ]
  },
  {
   "cell_type": "markdown",
   "metadata": {},
   "source": [
    "## Quartile Bins"
   ]
  },
  {
   "cell_type": "code",
   "execution_count": 12,
   "metadata": {},
   "outputs": [],
   "source": [
    "def quartile_bin(df,class_feature='rating_value'):\n",
    "    # Quartile cut into 4 different buckets\n",
    "\n",
    "    bin_quartiles = ['terrible','poor','average','excellent']\n",
    "    cutIntoQuartiles = pd.qcut(df[class_feature].to_list(), q=4,labels=bin_quartiles)\n",
    "    \n",
    "    print(cutIntoQuartiles.categories)\n",
    "    \n",
    "    df[chosen_success_class] = cutIntoQuartiles\n",
    "    df[chosen_success_class] = df[chosen_success_class].astype(object)\n",
    "    print('The shape of our dataset before dropping the class feature is:', df.shape)\n",
    "    df.drop(columns = [class_feature] , inplace = True)\n",
    "    print('The shape of our dataset after dropping the class feature  is:', df.shape)\n",
    "    return df"
   ]
  },
  {
   "cell_type": "markdown",
   "metadata": {},
   "source": [
    "## Paper Implementation of bins"
   ]
  },
  {
   "cell_type": "code",
   "execution_count": 13,
   "metadata": {},
   "outputs": [],
   "source": [
    "def success_measure(score):\n",
    "    \n",
    "    if score > 0 and score <= 2.4:\n",
    "        return 'poor'\n",
    "#     elif score > 2.4 and score <= 5.0:a\n",
    "        return 'average'\n",
    "    elif score > 5.0 and score <= 7.4:\n",
    "        return 'good'\n",
    "    elif score > 7.4 and score <=10.0:\n",
    "        return 'excellent'\n",
    "    else:\n",
    "        return 'Error_Score'"
   ]
  },
  {
   "cell_type": "markdown",
   "metadata": {},
   "source": [
    "# Function - To choose which Success measure to choose and what binning technique"
   ]
  },
  {
   "cell_type": "code",
   "execution_count": 14,
   "metadata": {},
   "outputs": [],
   "source": [
    "def choose_success_measure(df, bin_method = 'Quartiles', feature = 'rating_value'):\n",
    "    \n",
    "    # Stats of the feature\n",
    "    print('\\nDescribing the feature : \\n')\n",
    "    print(df[feature].describe())\n",
    "    \n",
    "\n",
    "    \n",
    "    if (bin_method == 'quartiles'):\n",
    "        # Quartie bin cuts\n",
    "        df = quartile_bin(df,feature)\n",
    "            \n",
    "    elif(bin_method == 'bin_cut'):\n",
    "        # Bin cuts\n",
    "        df = bincuts(df,'rating_value')\n",
    "        \n",
    "    elif(bin_method == 'Bin_AsPaper'):\n",
    "        df[chosen_success_class] = df[feature].apply(success_measure).astype('category')\n",
    "        \n",
    "        print('\\nShape of the dataset : \\n')\n",
    "        print('\\nThe shape of our Movies dataset is:', df.shape)\n",
    "        df.drop(columns = [feature] , inplace = True)\n",
    "        print('\\nThe shape of our Movies dataset is:', df.shape)\n",
    "    \n",
    "    print('\\nValue Count of the bucketed class is : \\n')\n",
    "    print(df[chosen_success_class].value_counts())"
   ]
  },
  {
   "cell_type": "markdown",
   "metadata": {},
   "source": [
    "# Weighted Rank"
   ]
  },
  {
   "cell_type": "code",
   "execution_count": 15,
   "metadata": {},
   "outputs": [],
   "source": [
    "# Weighted ranking value\n",
    "# IMDB uses this famous formula:\n",
    "# weighted rating (WR) = (v ÷ (v+m)) × R + (m ÷ (v+m)) × C\n",
    "\n",
    "# Where:\n",
    "\n",
    "# R = average for the movie (mean) = (rating)\n",
    "\n",
    "# v = number of votes for the movie = (votes)\n",
    "\n",
    "# m = minimum votes required to be listed in the Top Rated list (currently 25,000)\n",
    "\n",
    "# C = the mean vote across the whole report"
   ]
  },
  {
   "cell_type": "code",
   "execution_count": 16,
   "metadata": {},
   "outputs": [],
   "source": [
    "def weightedRank(df,R='rating_value', v='rating_count', m = 100):\n",
    "#     df = df.loc[df[v] > m ]\n",
    "    df['weighted_rank'] = (df[v] / (df[v] + m )) * df[R] + (m / ( df[v] + m)) * df[R].mean()\n",
    "    return df"
   ]
  },
  {
   "cell_type": "code",
   "execution_count": 17,
   "metadata": {},
   "outputs": [
    {
     "data": {
      "text/plain": [
       "46445.0"
      ]
     },
     "execution_count": 17,
     "metadata": {},
     "output_type": "execute_result"
    }
   ],
   "source": [
    "minVotes =  movies_data.rating_count.quantile(0.5)\n",
    "minVotes"
   ]
  },
  {
   "cell_type": "markdown",
   "metadata": {},
   "source": [
    "### Bin Cuts"
   ]
  },
  {
   "cell_type": "code",
   "execution_count": 18,
   "metadata": {},
   "outputs": [],
   "source": [
    "# # Quartie bin on Weighted rating value\n",
    "# movies_data = bincuts(movies_data,'weighted_rank')"
   ]
  },
  {
   "cell_type": "markdown",
   "metadata": {},
   "source": [
    "### Quartile Bins"
   ]
  },
  {
   "cell_type": "code",
   "execution_count": 19,
   "metadata": {},
   "outputs": [],
   "source": [
    "# movies_data.rating_count.describe()"
   ]
  },
  {
   "cell_type": "code",
   "execution_count": 20,
   "metadata": {},
   "outputs": [],
   "source": [
    "# movies_data = weightedRank( movies_data, m = minVotes )\n",
    "\n",
    "# # Quartie bin on Weighted rating value\n",
    "\n",
    "# movies_data.drop(columns = 'rating_value',inplace = True)\n",
    "# movies_data = quartile_bin(movies_data,'weighted_rank')"
   ]
  },
  {
   "cell_type": "markdown",
   "metadata": {},
   "source": [
    "### Paper Implementation of bins"
   ]
  },
  {
   "cell_type": "code",
   "execution_count": 21,
   "metadata": {},
   "outputs": [],
   "source": [
    "# movies_data['movie_class'] = movies_data['weighted_rank'].apply(success_measure).astype('category')\n",
    "# print('The shape of our Movies dataset is:', movies_data.shape)# print('The shape of our Movies dataset is:', movies_data.shape)\n",
    "# movies_data.drop(columns = ['weighted_rank'] , inplace = True)\n",
    "# print('The shape of our Movies dataset is:', movies_data.shape)"
   ]
  },
  {
   "cell_type": "markdown",
   "metadata": {},
   "source": [
    "## Run the feature based on the bin cut and success feature"
   ]
  },
  {
   "cell_type": "code",
   "execution_count": 22,
   "metadata": {},
   "outputs": [
    {
     "data": {
      "text/plain": [
       "'rating_count'"
      ]
     },
     "execution_count": 22,
     "metadata": {},
     "output_type": "execute_result"
    }
   ],
   "source": [
    "chosen_feature_predicting"
   ]
  },
  {
   "cell_type": "code",
   "execution_count": 23,
   "metadata": {},
   "outputs": [
    {
     "name": "stdout",
     "output_type": "stream",
     "text": [
      "Quantiles bin range\n",
      "Quantile 0 : (28.999, 13489.0] \n",
      "Quantile 1 : (13489.0, 46445.0] \n",
      "Quantile 2 : (46445.0, 124812.0] \n",
      "Quantile 3 : (124812.0, 1718048.0] \n"
     ]
    }
   ],
   "source": [
    "cutIntoQuartiles = pd.qcut(movies_data[chosen_feature_predicting].to_list(), q=4)\n",
    "print(\"Quantiles bin range\")\n",
    "for i,num in enumerate(cutIntoQuartiles.categories):\n",
    "    print(\"Quantile {0} : {1} \".format(i,num))"
   ]
  },
  {
   "cell_type": "code",
   "execution_count": 24,
   "metadata": {
    "scrolled": true
   },
   "outputs": [
    {
     "name": "stdout",
     "output_type": "stream",
     "text": [
      "\n",
      "Describing the feature : \n",
      "\n",
      "count    3.709000e+03\n",
      "mean     1.031944e+05\n",
      "std      1.555293e+05\n",
      "min      2.900000e+01\n",
      "25%      1.348900e+04\n",
      "50%      4.644500e+04\n",
      "75%      1.248120e+05\n",
      "max      1.718048e+06\n",
      "Name: rating_count, dtype: float64\n",
      "Index(['terrible', 'poor', 'average', 'excellent'], dtype='object')\n",
      "The shape of our dataset before dropping the class feature is: (3709, 143)\n",
      "The shape of our dataset after dropping the class feature  is: (3709, 142)\n",
      "\n",
      "Value Count of the bucketed class is : \n",
      "\n",
      "terrible     928\n",
      "poor         927\n",
      "average      927\n",
      "excellent    927\n",
      "Name: movie_class, dtype: int64\n"
     ]
    }
   ],
   "source": [
    "choose_success_measure(movies_data , bin_method = chosen_bin_method , feature = chosen_feature_predicting)"
   ]
  },
  {
   "cell_type": "code",
   "execution_count": 25,
   "metadata": {},
   "outputs": [],
   "source": [
    "# movies_data = movies_data[movies_data['movie_class'].isin(['poor','excellent'])]"
   ]
  },
  {
   "cell_type": "markdown",
   "metadata": {},
   "source": [
    "### Remove Features from dataset which are not required"
   ]
  },
  {
   "cell_type": "code",
   "execution_count": 26,
   "metadata": {},
   "outputs": [],
   "source": [
    "# # Unique director distribution in max_equal DF\n",
    "# print(\"Unique director distribution - movies_data split based on Gender\")\n",
    "\n",
    "# movies_data.drop_duplicates(subset = 'director_ids', keep = 'first').Gender.value_counts()"
   ]
  },
  {
   "cell_type": "code",
   "execution_count": 27,
   "metadata": {},
   "outputs": [
    {
     "data": {
      "text/plain": [
       "['director_ids',\n",
       " 'director_names',\n",
       " 'movie_id',\n",
       " 'title',\n",
       " 'release_date',\n",
       " 'Film',\n",
       " 'Name']"
      ]
     },
     "execution_count": 27,
     "metadata": {},
     "output_type": "execute_result"
    }
   ],
   "source": [
    "object_features_to_remove = movies_data.select_dtypes(include = 'object').columns.values.tolist()\n",
    "object_features_to_remove.remove('Gender')\n",
    "object_features_to_remove.remove('movie_class')\n",
    "object_features_to_remove"
   ]
  },
  {
   "cell_type": "markdown",
   "metadata": {},
   "source": [
    "### Balanced Movies Dataset"
   ]
  },
  {
   "cell_type": "code",
   "execution_count": 28,
   "metadata": {},
   "outputs": [],
   "source": [
    "# important_features = ['director_known_titles_average_rating_value',\n",
    "#        'director_profession_secondary', 'director_profession_tertiary',\n",
    "#        'genre_Animation', 'genre_Family', 'genre_Mystery',\n",
    "#        'genre_Thriller', 'rating_count', 'review_count_user']\n",
    "\n",
    "# important_features.remove('rating_count')\n",
    "# important_features.extend(['movie_class'])"
   ]
  },
  {
   "cell_type": "code",
   "execution_count": 29,
   "metadata": {},
   "outputs": [
    {
     "name": "stdout",
     "output_type": "stream",
     "text": [
      "Unbalanced dataframe shape after undersampling : (3709, 142)\n",
      "Balanced dataframe shape after undersampling : (1320, 142)\n"
     ]
    }
   ],
   "source": [
    "balanced_movies_data = undersampling_balanced_gender(movies_data)"
   ]
  },
  {
   "cell_type": "code",
   "execution_count": 30,
   "metadata": {
    "scrolled": true
   },
   "outputs": [
    {
     "name": "stdout",
     "output_type": "stream",
     "text": [
      "<class 'pandas.core.frame.DataFrame'>\n",
      "Int64Index: 1320 entries, 1929 to 1294\n",
      "Columns: 142 entries, director_ids to movie_class\n",
      "dtypes: float64(27), int64(106), object(9)\n",
      "memory usage: 1.4+ MB\n"
     ]
    }
   ],
   "source": [
    "balanced_movies_data.info()"
   ]
  },
  {
   "cell_type": "code",
   "execution_count": 31,
   "metadata": {},
   "outputs": [
    {
     "data": {
      "text/plain": [
       "terrible     357\n",
       "poor         350\n",
       "excellent    310\n",
       "average      303\n",
       "Name: movie_class, dtype: int64"
      ]
     },
     "execution_count": 31,
     "metadata": {},
     "output_type": "execute_result"
    }
   ],
   "source": [
    "balanced_movies_data[chosen_success_class].value_counts()"
   ]
  },
  {
   "cell_type": "code",
   "execution_count": 32,
   "metadata": {},
   "outputs": [
    {
     "name": "stdout",
     "output_type": "stream",
     "text": [
      "The shape of our Balanced Movies dataset before removing object type features: (1320, 142)\n",
      "The shape of our Balacned Movies dataset after dropping object type features: (1320, 135)\n"
     ]
    }
   ],
   "source": [
    "print('The shape of our Balanced Movies dataset before removing object type features:', balanced_movies_data.shape)\n",
    "# movies_data = movies_data[movies_data.columns.difference(object_features_to_remove)]\n",
    "balanced_movies_data = balanced_movies_data.drop(columns= object_features_to_remove)\n",
    "print('The shape of our Balacned Movies dataset after dropping object type features:', balanced_movies_data.shape)"
   ]
  },
  {
   "cell_type": "markdown",
   "metadata": {},
   "source": [
    "### Unbalanced Movies Dataset"
   ]
  },
  {
   "cell_type": "code",
   "execution_count": 33,
   "metadata": {},
   "outputs": [],
   "source": [
    "# important_features = ['director_known_titles_average_rating_value',\n",
    "#        'director_profession_secondary', 'director_profession_tertiary',\n",
    "#        'genre_Animation', 'genre_Family', 'genre_Mystery',\n",
    "#        'genre_Thriller', 'rating_count', 'review_count_user']\n",
    "\n",
    "# important_features.remove('rating_count')\n",
    "# important_features.extend(['movie_class'])"
   ]
  },
  {
   "cell_type": "code",
   "execution_count": 34,
   "metadata": {},
   "outputs": [
    {
     "name": "stdout",
     "output_type": "stream",
     "text": [
      "The shape of our Unbalanced Movies dataset before: (3709, 142)\n",
      "The shape of our Unbalanced Movies dataset after dropping object features: (3709, 135)\n"
     ]
    }
   ],
   "source": [
    "print('The shape of our Unbalanced Movies dataset before:', movies_data.shape)\n",
    "# movies_data = movies_data[movies_data.columns.difference(object_features_to_remove)]\n",
    "movies_data = movies_data.drop(columns= object_features_to_remove)\n",
    "print('The shape of our Unbalanced Movies dataset after dropping object features:', movies_data.shape)"
   ]
  },
  {
   "cell_type": "code",
   "execution_count": 35,
   "metadata": {},
   "outputs": [
    {
     "data": {
      "text/plain": [
       "terrible     928\n",
       "poor         927\n",
       "average      927\n",
       "excellent    927\n",
       "Name: movie_class, dtype: int64"
      ]
     },
     "execution_count": 35,
     "metadata": {},
     "output_type": "execute_result"
    }
   ],
   "source": [
    "movies_data[chosen_success_class].value_counts()"
   ]
  },
  {
   "cell_type": "markdown",
   "metadata": {},
   "source": [
    "### Scatter plot visualize - One feature vs another with respect to movie_class"
   ]
  },
  {
   "cell_type": "code",
   "execution_count": 36,
   "metadata": {},
   "outputs": [],
   "source": [
    "# visuaize_movies_data = movies_data.replace({'Gender' : { 'Male' : 1, 'Female' : 0 }})\n",
    "# visuaize_movies_data.drop(columns = 'Gender',inplace = True)\n",
    "\n",
    "visuaize_movies_data = movies_data.copy()"
   ]
  },
  {
   "cell_type": "code",
   "execution_count": 37,
   "metadata": {},
   "outputs": [],
   "source": [
    "# import matplotlib.pyplot as plt\n",
    "# g = sns.PairGrid(movies_data,hue='movie_class' , hue_order = ['terrible','poor','average','excellent'])\n",
    "# g.map(plt.scatter)\n",
    "# g.add_legend()\n",
    "# g.savefig(\"summary_plot.png\")"
   ]
  },
  {
   "cell_type": "code",
   "execution_count": 38,
   "metadata": {},
   "outputs": [],
   "source": [
    "sample_movies_data = movies_data.sample(n=1000,replace = False, random_state =42)"
   ]
  },
  {
   "cell_type": "code",
   "execution_count": 39,
   "metadata": {},
   "outputs": [
    {
     "data": {
      "text/plain": [
       "<seaborn.axisgrid.FacetGrid at 0x1ebb97a76d8>"
      ]
     },
     "execution_count": 39,
     "metadata": {},
     "output_type": "execute_result"
    },
    {
     "data": {
      "image/png": "[encoded data removed]",
      "text/plain": [
       "<Figure size 936.625x216 with 4 Axes>"
      ]
     },
     "metadata": {
      "needs_background": "light"
     },
     "output_type": "display_data"
    }
   ],
   "source": [
    "g = sns.FacetGrid(sample_movies_data, col='movie_class', hue='Gender')\n",
    "g = g.map(sns.swarmplot, 'Gender', 'rating_value', order=[\"Male\", \"Female\"], hue_order=[0, 1])\n",
    "g.add_legend()"
   ]
  },
  {
   "cell_type": "code",
   "execution_count": 40,
   "metadata": {},
   "outputs": [],
   "source": [
    "sample_movies_data = balanced_movies_data.sample(n=1000,replace = False, random_state =42)"
   ]
  },
  {
   "cell_type": "code",
   "execution_count": 41,
   "metadata": {},
   "outputs": [
    {
     "data": {
      "text/plain": [
       "<seaborn.axisgrid.FacetGrid at 0x1ebbecc3668>"
      ]
     },
     "execution_count": 41,
     "metadata": {},
     "output_type": "execute_result"
    },
    {
     "data": {
      "image/png": "[encoded data removed]",
      "text/plain": [
       "<Figure size 936.625x216 with 4 Axes>"
      ]
     },
     "metadata": {
      "needs_background": "light"
     },
     "output_type": "display_data"
    }
   ],
   "source": [
    "g = sns.FacetGrid(sample_movies_data, col='movie_class', hue='Gender')\n",
    "g = g.map(sns.swarmplot, 'Gender', 'rating_value', order=[\"Male\", \"Female\"], hue_order=[0, 1])\n",
    "g.add_legend()"
   ]
  },
  {
   "cell_type": "code",
   "execution_count": null,
   "metadata": {},
   "outputs": [],
   "source": []
  },
  {
   "cell_type": "code",
   "execution_count": null,
   "metadata": {},
   "outputs": [],
   "source": []
  },
  {
   "cell_type": "code",
   "execution_count": 42,
   "metadata": {},
   "outputs": [
    {
     "name": "stdout",
     "output_type": "stream",
     "text": [
      "<class 'pandas.core.frame.DataFrame'>\n",
      "RangeIndex: 3709 entries, 0 to 3708\n",
      "Columns: 135 entries, review_count_user to movie_class\n",
      "dtypes: float64(27), int64(106), object(2)\n",
      "memory usage: 3.8+ MB\n"
     ]
    }
   ],
   "source": [
    "visuaize_movies_data.info()"
   ]
  },
  {
   "cell_type": "code",
   "execution_count": 43,
   "metadata": {},
   "outputs": [],
   "source": [
    "without_excellent_data = visuaize_movies_data[visuaize_movies_data['movie_class'].isin(['terrible','poor','average'])]"
   ]
  },
  {
   "cell_type": "code",
   "execution_count": 44,
   "metadata": {},
   "outputs": [],
   "source": [
    "# import matplotlib.pyplot as plt\n",
    "# g = sns.PairGrid(without_excellent_data,hue='movie_class')\n",
    "# g.map(plt.scatter)\n",
    "# g.add_legend()\n",
    "# g.savefig(\"summary_plot.png\")"
   ]
  },
  {
   "cell_type": "markdown",
   "metadata": {},
   "source": [
    "### Choosing dataset for the analysis"
   ]
  },
  {
   "cell_type": "code",
   "execution_count": 45,
   "metadata": {},
   "outputs": [],
   "source": [
    "chosen_dataframe = ''\n",
    "if(chosen_dataset_ratio == 'unbalanced'):\n",
    "    chosen_dataframe = movies_data\n",
    "elif(chosen_dataset_ratio == 'balanced'):\n",
    "    chosen_dataframe = balanced_movies_data"
   ]
  },
  {
   "cell_type": "markdown",
   "metadata": {},
   "source": [
    "### One hot encoding for Gender"
   ]
  },
  {
   "cell_type": "code",
   "execution_count": 46,
   "metadata": {},
   "outputs": [],
   "source": [
    "def one_hot_encode_gender(df,one_hot_feature = 'Gender'):\n",
    "    print('Before one hot encoding , Shape ;', df.shape)\n",
    "    # one hot encoding of Gender\n",
    "    df = pd.concat([df, pd.get_dummies(df[one_hot_feature],prefix= one_hot_feature,dtype = int)],axis=1)\n",
    "    df.drop([one_hot_feature],axis=1, inplace=True)\n",
    "    print('After one hot encoding , Shape ;', df.shape)\n",
    "    df.head(2)\n",
    "    return df"
   ]
  },
  {
   "cell_type": "code",
   "execution_count": 47,
   "metadata": {},
   "outputs": [
    {
     "name": "stdout",
     "output_type": "stream",
     "text": [
      "Before one hot encoding , Shape ; (1320, 135)\n",
      "After one hot encoding , Shape ; (1320, 136)\n"
     ]
    }
   ],
   "source": [
    "chosen_dataframe = one_hot_encode_gender(chosen_dataframe)"
   ]
  },
  {
   "cell_type": "code",
   "execution_count": 48,
   "metadata": {},
   "outputs": [],
   "source": [
    "def reverse_one_hot_encoding(df):\n",
    "    reverse_one_hot_Gender = df.loc[:, df.columns.str.startswith('Gender')].idxmax(axis = 'columns')\n",
    "    df['Gender'] = reverse_one_hot_Gender\n",
    "\n",
    "    # Replace Gender_Male with Male and Gender_Female with Female\n",
    "    df['Gender'] = df['Gender'].str.replace('Gender_male','Male')\n",
    "    df['Gender'] = df['Gender'].str.replace('Gender_Female','Female')\n",
    "    # Drop the one hot encoded value\n",
    "    df.drop(['Gender_Female','Gender_male'],axis=1, inplace=True)\n",
    "    return df"
   ]
  },
  {
   "cell_type": "markdown",
   "metadata": {},
   "source": [
    "## Decide if Gender is an input feature or not"
   ]
  },
  {
   "cell_type": "code",
   "execution_count": 49,
   "metadata": {},
   "outputs": [
    {
     "data": {
      "text/plain": [
       "'Yes'"
      ]
     },
     "execution_count": 49,
     "metadata": {},
     "output_type": "execute_result"
    }
   ],
   "source": [
    "gender_as_an_input"
   ]
  },
  {
   "cell_type": "code",
   "execution_count": 50,
   "metadata": {},
   "outputs": [
    {
     "name": "stdout",
     "output_type": "stream",
     "text": [
      "Gender is an input feature for this run! No dropping!\n",
      "The shape of our Chosen dataset after dropping Gender features: (1320, 136)\n"
     ]
    }
   ],
   "source": [
    "if(gender_as_an_input == 'Yes'):\n",
    "    print(\"Gender is an input feature for this run! No dropping!\")\n",
    "    print('The shape of our Chosen dataset after dropping Gender features:', chosen_dataframe.shape)\n",
    "else:\n",
    "    chosen_dataframe.drop(columns = ['Gender_Male','Gender_Female'],inplace = True)\n",
    "    print(\"Gender features removed as it is not an input feature for this run!  \")\n",
    "    print('The shape of our Chosen dataset after dropping Gender features:', chosen_dataframe.shape)"
   ]
  },
  {
   "cell_type": "code",
   "execution_count": 51,
   "metadata": {},
   "outputs": [
    {
     "data": {
      "text/plain": [
       "'balanced'"
      ]
     },
     "execution_count": 51,
     "metadata": {},
     "output_type": "execute_result"
    }
   ],
   "source": [
    "chosen_dataset_ratio"
   ]
  },
  {
   "cell_type": "code",
   "execution_count": 52,
   "metadata": {},
   "outputs": [
    {
     "data": {
      "text/plain": [
       "terrible     357\n",
       "poor         350\n",
       "excellent    310\n",
       "average      303\n",
       "Name: movie_class, dtype: int64"
      ]
     },
     "execution_count": 52,
     "metadata": {},
     "output_type": "execute_result"
    }
   ],
   "source": [
    "chosen_dataframe[chosen_success_class].value_counts()"
   ]
  },
  {
   "cell_type": "markdown",
   "metadata": {},
   "source": [
    "# Observations"
   ]
  },
  {
   "cell_type": "code",
   "execution_count": 53,
   "metadata": {},
   "outputs": [],
   "source": [
    "# Function to Plot - Distribution of rating value among male and female. \n",
    "\n",
    "def plot_features_WRT_gender(df,columnCriteriaName,columnFeatureName):\n",
    "    dict={}\n",
    "    for i in df[columnCriteriaName].value_counts().index:\n",
    "        dict[\"{0}_{1}\".format(columnFeatureName,i)] = df[(df[columnCriteriaName] == i)][columnFeatureName]\n",
    "    for k,v in dict.items():\n",
    "        sns.distplot(v,label=[k])\n",
    "        plt.legend(bbox_to_anchor=(1.05, 0.6), loc=2, borderaxespad=0.)"
   ]
  },
  {
   "cell_type": "markdown",
   "metadata": {},
   "source": [
    "## Divide the data to training and testing - Scaling methods too"
   ]
  },
  {
   "cell_type": "markdown",
   "metadata": {},
   "source": [
    "Check about the Scaling"
   ]
  },
  {
   "cell_type": "code",
   "execution_count": 54,
   "metadata": {},
   "outputs": [],
   "source": [
    "def divide_test_train_with_scaling_methods(df,predict= chosen_success_class,scalingMethod = \"MinMaxScaler\"):\n",
    "    \n",
    "    \n",
    "    # Feature matrix and target variable\n",
    "    X = df.drop(predict,axis = 'columns')\n",
    "    y = df[predict]\n",
    "    \n",
    "    # Scaling\n",
    "    if (scalingMethod == \"MinMaxScaler\"):\n",
    "        print(\"The scaling method used is : \",scalingMethod)\n",
    "        scaler = MinMaxScaler()\n",
    "        new_X = scaler.fit_transform(X)\n",
    "        # X_test = scaler.transform(X_test)\n",
    "        \n",
    "    else:\n",
    "        print(\"No Scaling Method used or incorrect input\")\n",
    "        new_X = X\n",
    "    \n",
    "    # Divide the data into training and test sets\n",
    "    X_train, X_test, y_train, y_test = train_test_split(new_X, y, test_size=0.20, random_state = 42 , stratify = y )\n",
    "    \n",
    "    return X_train, X_test, y_train, y_test"
   ]
  },
  {
   "cell_type": "code",
   "execution_count": 55,
   "metadata": {
    "scrolled": true
   },
   "outputs": [
    {
     "name": "stdout",
     "output_type": "stream",
     "text": [
      "No Scaling Method used or incorrect input\n"
     ]
    }
   ],
   "source": [
    "# Divide the data into training and test\n",
    "\n",
    "X_train, X_test, y_train, y_test = divide_test_train_with_scaling_methods(chosen_dataframe,scalingMethod= chosen_scaling_method)"
   ]
  },
  {
   "cell_type": "markdown",
   "metadata": {},
   "source": [
    "# Plot Confusion Matrix"
   ]
  },
  {
   "cell_type": "code",
   "execution_count": 56,
   "metadata": {},
   "outputs": [],
   "source": [
    "import matplotlib.pyplot as plt\n",
    "%matplotlib inline\n",
    "\n",
    "def plot_confusion_matrix(cm, classes,\n",
    "                          normalize=False,\n",
    "                          title='Confusion matrix',\n",
    "                          cmap=plt.cm.Blues):\n",
    "    \"\"\"\n",
    "    This function prints and plots the confusion matrix.\n",
    "    Normalization can be applied by setting `normalize=True`.\n",
    "    \"\"\"\n",
    "    import itertools\n",
    "    if normalize:\n",
    "        cm = cm.astype('float') / cm.sum(axis=1)[:, np.newaxis]\n",
    "        print(\"Normalized confusion matrix\")\n",
    "    else:\n",
    "        print('Confusion matrix, without normalization')\n",
    "\n",
    "    print(cm)\n",
    "\n",
    "    plt.imshow(cm, interpolation='nearest', cmap=cmap)\n",
    "    plt.title(title)\n",
    "    plt.colorbar()\n",
    "    tick_marks = np.arange(len(classes))\n",
    "    plt.xticks(tick_marks, classes, rotation=45)\n",
    "    plt.yticks(tick_marks, classes)\n",
    "\n",
    "    fmt = '.2f' if normalize else 'd'\n",
    "    thresh = cm.max() / 2.\n",
    "    for i, j in itertools.product(range(cm.shape[0]), range(cm.shape[1])):\n",
    "        plt.text(j, i, format(cm[i, j], fmt),\n",
    "                 horizontalalignment=\"center\",\n",
    "                 color=\"white\" if cm[i, j] > thresh else \"black\")\n",
    "\n",
    "    plt.ylabel('True label')\n",
    "    plt.xlabel('Predicted label')\n",
    "    plt.tight_layout()"
   ]
  },
  {
   "cell_type": "markdown",
   "metadata": {},
   "source": [
    "### Function for Run Info :"
   ]
  },
  {
   "cell_type": "code",
   "execution_count": 57,
   "metadata": {},
   "outputs": [],
   "source": [
    "def run_info(classifier):\n",
    "    print('\\n**Run Info - ' + classifier + '**')\n",
    "    print('Dataset Shape :', chosen_dataframe.shape)\n",
    "    print('Dataset ratio of classes is', chosen_dataset_ratio)\n",
    "    print('Predicting feature :', chosen_feature_predicting)\n",
    "    print('Bin Method :', chosen_bin_method)\n",
    "    print('Scaling Method :', chosen_scaling_method)\n",
    "    print('Learning Rate :',default_learning_rate)\n",
    "    print('****************\\n')\n",
    "    return"
   ]
  },
  {
   "cell_type": "markdown",
   "metadata": {},
   "source": [
    "# Boosting Classifiers"
   ]
  },
  {
   "cell_type": "markdown",
   "metadata": {},
   "source": [
    "### 1.  Gradient Boosting Classifier"
   ]
  },
  {
   "cell_type": "markdown",
   "metadata": {},
   "source": [
    "#### 1a) Identify the optimal Learning rate"
   ]
  },
  {
   "cell_type": "code",
   "execution_count": 58,
   "metadata": {},
   "outputs": [],
   "source": [
    "# optimal_learning_rate = learningRateDF['learning_rate'].loc[learningRateDF.\n",
    "#                                                                 mask((learningRateDF == learningRateDF.min())\n",
    "#                                                                      .cumsum()\n",
    "#                                                                      .astype(bool))\n",
    "#                                                                 [::-1]\n",
    "#                                                                 .idxmax()\n",
    "#                                                                 ['testing_accuracy']]"
   ]
  },
  {
   "cell_type": "code",
   "execution_count": 59,
   "metadata": {},
   "outputs": [],
   "source": [
    "def optimal_learning_rate(X_train, X_test, y_train, y_test):\n",
    "    \n",
    "    lr_list = [0.05, 0.075, 0.1, 0.25, 0.5, 0.75, 1]\n",
    "\n",
    "    col_learningDF = ['learning_rate','training_accuracy','testing_accuracy']\n",
    "    learningRateDF = pd.DataFrame(columns=col_learningDF)\n",
    "\n",
    "    for learning_rate in lr_list:\n",
    "\n",
    "        gb_clf = GradientBoostingClassifier(n_estimators=100,\n",
    "                                            learning_rate=learning_rate,\n",
    "#                                             max_leaf_nodes= 32,\n",
    "#                                             max_features=2,\n",
    "#                                             max_depth=2,\n",
    "                                            random_state= 42 )\n",
    "        gb_clf.fit(X_train, y_train)\n",
    "\n",
    "        accuracy_train_score = gb_clf.score(X_train, y_train)\n",
    "        accuracy_test_score = gb_clf.score(X_test, y_test)\n",
    "\n",
    "        learningRateDF.loc[len(learningRateDF)] = [learning_rate,accuracy_train_score,accuracy_test_score]\n",
    "#         print(\"Learning rate: \", learning_rate)\n",
    "#         print(\"Accuracy score (training): {0:.3f}\".format(accuracy_train_score))\n",
    "#         print(\"Accuracy score (test): {0:.3f}\".format(accuracy_test_score))\n",
    "    print(learningRateDF)\n",
    "\n",
    "    optimal_learning_rate = learningRateDF['learning_rate'].loc[learningRateDF.testing_accuracy.argmax()]\n",
    "\n",
    "# # Script to find the maximum learning_rate where the test_accuracy is maximum\n",
    "\n",
    "#     optimal_learning_rate = learningRateDF['learning_rate'].loc[((learningRateDF == learningRateDF.min())\n",
    "#                                                                  .cumsum()\n",
    "#                                                                  .astype(bool))\n",
    "#                                                                 [::-1].idxmax()\n",
    "#                                                                 ['testing_accuracy']\n",
    "#                                                                ]\n",
    "\n",
    "    return optimal_learning_rate"
   ]
  },
  {
   "cell_type": "code",
   "execution_count": 60,
   "metadata": {},
   "outputs": [
    {
     "name": "stdout",
     "output_type": "stream",
     "text": [
      "\n",
      "The optimal learning rate for XGB Classifier is : 0.1\n"
     ]
    }
   ],
   "source": [
    "# chosen_learning_rate_GB = optimal_learning_rate(X_train, X_test, y_train, y_test)\n",
    "chosen_learning_rate_GB = default_learning_rate\n",
    "print(\"\\nThe optimal learning rate for XGB Classifier is :\",chosen_learning_rate_GB)"
   ]
  },
  {
   "cell_type": "markdown",
   "metadata": {},
   "source": [
    "#### 1b) Model Function"
   ]
  },
  {
   "cell_type": "code",
   "execution_count": 61,
   "metadata": {},
   "outputs": [],
   "source": [
    "def train_model_Gradient_Boosting_classifier(X_train, X_test, y_train, y_test,learning_rate = 1):\n",
    "    \n",
    "    start = time.time()\n",
    "    print(\"Started Reading files at :\" + str(datetime.utcfromtimestamp(start).strftime('%Y-%m-%d %H:%M:%S')))\n",
    "    \n",
    "    labelMovieClass = ['terrible','poor','average','excellent']\n",
    "\n",
    "    # Classifier parameters    \n",
    "    gb_clf = GradientBoostingClassifier(n_estimators=100,\n",
    "                                         learning_rate= default_learning_rate,\n",
    "                                         max_leaf_nodes= chosen_max_leaf_nodes,\n",
    "                                         max_features= chosen_max_features,\n",
    "                                         max_depth= default_max_depth,\n",
    "                                         random_state= chosen_random_state\n",
    "                                        )\n",
    "    \n",
    "    gb_clf.fit(X_train, y_train)\n",
    "    \n",
    "    # Predict classes\n",
    "    y_pred = gb_clf.predict(X_test)\n",
    "    y_prob = gb_clf.predict_proba(X_test)\n",
    "    \n",
    "    cnf_matrix = confusion_matrix(y_test, y_pred,labels= labelMovieClass )\n",
    "#     np.set_printoptions(precision=2)\n",
    "    \n",
    "    classifier_name = gb_clf.__class__.__name__\n",
    "    train_size = int(round((len(X_train) / len(chosen_dataframe)),1) * 100)\n",
    "    test_size = int(round((len(X_test) / len(chosen_dataframe)),1) * 100)\n",
    "    \n",
    "    # Print run info\n",
    "    run_info(classifier_name)\n",
    "    \n",
    "    \n",
    "    # Plot non-normalized confusion matrix\n",
    "    plt.figure()\n",
    "    plot_confusion_matrix(cnf_matrix, classes= labelMovieClass,\n",
    "                      title='Confusion matrix, without normalization')\n",
    "    \n",
    "    \n",
    "    gb_train_score = gb_clf.score(X_train, y_train)\n",
    "    print(\"\\nTraining Score of {0} on {2} % data : {1} \".format(classifier_name,round(gb_train_score,3),train_size))\n",
    "    \n",
    "    gb_test_score = gb_clf.score(X_test, y_test)\n",
    "    print(\"Testing Score of {0} on {2} % data : {1} \".format(classifier_name,round(gb_test_score,3),test_size))\n",
    "    \n",
    "    # Performance metrics\n",
    "    \n",
    "    macro_ovo_roc_auc = roc_auc_score(y_test, y_prob,average= \"macro\" , multi_class = 'ovo')\n",
    "    print( \"\\nArea Under the Curve - ROC (OVO , Macro) : \",round(macro_ovo_roc_auc,3))\n",
    "    print( \"Matthews_corrcoef : \", round(metrics.matthews_corrcoef(y_test, y_pred),3))\n",
    "\n",
    "#     print(\"\\nConfusion Matrix:\\n\")\n",
    "#     print(cnf_matrix)\n",
    "\n",
    "    print(\"\\nClassification Report\\n\")\n",
    "#     print(classification_report(y_test, y_pred))\n",
    "    print(classification_report(y_test, y_pred, labels = labelMovieClass ))\n",
    "    \n",
    "    # Stop timer\n",
    "    end = time.time()\n",
    "    print(\"\\nStopped Reading files at :\" + str(datetime.utcfromtimestamp(end).strftime('%Y-%m-%d %H:%M:%S')))\n",
    "    total_time = str(round((end - start)/60,2))\n",
    "    print(\"Total time taken in minutes: \" + str((end - start)/60))\n",
    "      \n",
    "    return gb_clf"
   ]
  },
  {
   "cell_type": "markdown",
   "metadata": {},
   "source": [
    "#### 1c) Run Results of Gradient Boosting Model"
   ]
  },
  {
   "cell_type": "code",
   "execution_count": 62,
   "metadata": {},
   "outputs": [
    {
     "name": "stdout",
     "output_type": "stream",
     "text": [
      "Started Reading files at :2020-04-27 20:56:02\n",
      "\n",
      "**Run Info - GradientBoostingClassifier**\n",
      "Dataset Shape : (1320, 136)\n",
      "Dataset ratio of classes is balanced\n",
      "Predicting feature : rating_count\n",
      "Bin Method : quartiles\n",
      "Scaling Method : None\n",
      "Learning Rate : 0.1\n",
      "****************\n",
      "\n",
      "Confusion matrix, without normalization\n",
      "[[60 11  0  0]\n",
      " [10 52  8  0]\n",
      " [ 0 16 36  9]\n",
      " [ 0  0  9 53]]\n",
      "\n",
      "Training Score of GradientBoostingClassifier on 80 % data : 0.982 \n",
      "Testing Score of GradientBoostingClassifier on 20 % data : 0.761 \n",
      "\n",
      "Area Under the Curve - ROC (OVO , Macro) :  0.925\n",
      "Matthews_corrcoef :  0.682\n",
      "\n",
      "Classification Report\n",
      "\n",
      "              precision    recall  f1-score   support\n",
      "\n",
      "    terrible       0.86      0.85      0.85        71\n",
      "        poor       0.66      0.74      0.70        70\n",
      "     average       0.68      0.59      0.63        61\n",
      "   excellent       0.85      0.85      0.85        62\n",
      "\n",
      "    accuracy                           0.76       264\n",
      "   macro avg       0.76      0.76      0.76       264\n",
      "weighted avg       0.76      0.76      0.76       264\n",
      "\n",
      "\n",
      "Stopped Reading files at :2020-04-27 20:56:04\n",
      "Total time taken in minutes: 0.03103314240773519\n"
     ]
    },
    {
     "data": {
      "text/plain": [
       "GradientBoostingClassifier(ccp_alpha=0.0, criterion='friedman_mse', init=None,\n",
       "                           learning_rate=0.1, loss='deviance', max_depth=3,\n",
       "                           max_features=None, max_leaf_nodes=32,\n",
       "                           min_impurity_decrease=0.0, min_impurity_split=None,\n",
       "                           min_samples_leaf=1, min_samples_split=2,\n",
       "                           min_weight_fraction_leaf=0.0, n_estimators=100,\n",
       "                           n_iter_no_change=None, presort='deprecated',\n",
       "                           random_state=42, subsample=1.0, tol=0.0001,\n",
       "                           validation_fraction=0.1, verbose=0,\n",
       "                           warm_start=False)"
      ]
     },
     "execution_count": 62,
     "metadata": {},
     "output_type": "execute_result"
    },
    {
     "data": {
      "image/png": "[encoded data removed]",
      "text/plain": [
       "<Figure size 432x288 with 2 Axes>"
      ]
     },
     "metadata": {
      "needs_background": "light"
     },
     "output_type": "display_data"
    }
   ],
   "source": [
    "train_model_Gradient_Boosting_classifier(X_train, X_test, y_train, y_test,learning_rate = chosen_learning_rate_GB)\n",
    "# tn, fp, fn, tp"
   ]
  },
  {
   "cell_type": "markdown",
   "metadata": {},
   "source": [
    "### 2. XGB Classifier"
   ]
  },
  {
   "cell_type": "markdown",
   "metadata": {},
   "source": [
    "#### 2b) Optimal learning rate"
   ]
  },
  {
   "cell_type": "code",
   "execution_count": 63,
   "metadata": {},
   "outputs": [],
   "source": [
    "def optimal_learning_rate_xgb(X_train, X_test, y_train, y_test):\n",
    "    \n",
    "    lr_list = [0.05, 0.075, 0.1, 0.25, 0.5, 0.75, 1]\n",
    "\n",
    "    col_learningDF = ['learning_rate','training_accuracy','testing_accuracy']\n",
    "    learningRateDF = pd.DataFrame(columns=col_learningDF)\n",
    "\n",
    "    for learning_rate in lr_list:\n",
    "\n",
    "        xgb_clf = XGBClassifier(n_estimators=100,\n",
    "                                learning_rate=learning_rate,\n",
    "                                 max_leaf_nodes= chosen_max_leaf_nodes,\n",
    "                                 max_features= chosen_max_features,\n",
    "                                 max_depth= default_max_depth,\n",
    "                                 random_state= chosen_random_state\n",
    "                               )\n",
    "        \n",
    "        xgb_clf.fit(X_train, y_train)\n",
    "\n",
    "        accuracy_train_score = xgb_clf.score(X_train, y_train)\n",
    "        accuracy_test_score = xgb_clf.score(X_test, y_test)\n",
    "\n",
    "        learningRateDF.loc[len(learningRateDF)] = [learning_rate,accuracy_train_score,accuracy_test_score]\n",
    "#         print(\"Learning rate: \", learning_rate)\n",
    "#         print(\"Accuracy score (training): {0:.3f}\".format(accuracy_train_score))\n",
    "#         print(\"Accuracy score (test): {0:.3f}\".format(accuracy_test_score))\n",
    "    print(learningRateDF)\n",
    "\n",
    "    optimal_learning_rate = learningRateDF['learning_rate'].loc[learningRateDF.testing_accuracy.argmax()]\n",
    "\n",
    "# # Script to find the maximum learning_rate where the test_accuracy is maximum\n",
    "\n",
    "#     optimal_learning_rate = learningRateDF['learning_rate'].loc[((learningRateDF == learningRateDF.min())\n",
    "#                                                                  .cumsum()\n",
    "#                                                                  .astype(bool))\n",
    "#                                                                 [::-1].idxmax()\n",
    "#                                                                 ['testing_accuracy']\n",
    "#                                                                ]\n",
    "\n",
    "    return optimal_learning_rate"
   ]
  },
  {
   "cell_type": "code",
   "execution_count": 64,
   "metadata": {},
   "outputs": [
    {
     "name": "stdout",
     "output_type": "stream",
     "text": [
      "\n",
      "The optimal learning rate for XGB Classifier is : 0.1\n"
     ]
    }
   ],
   "source": [
    "# chosen_learning_rate_XGB = optimal_learning_rate_xgb(X_train, X_test, y_train, y_test)\n",
    "chosen_learning_rate_XGB = default_learning_rate\n",
    "print(\"\\nThe optimal learning rate for XGB Classifier is :\",chosen_learning_rate_XGB)"
   ]
  },
  {
   "cell_type": "markdown",
   "metadata": {},
   "source": [
    "#### 2b) Model Function"
   ]
  },
  {
   "cell_type": "code",
   "execution_count": 65,
   "metadata": {},
   "outputs": [],
   "source": [
    "gb_clf = GradientBoostingClassifier(n_estimators=100,\n",
    "                                    learning_rate= 0.1,\n",
    "                                    max_leaf_nodes= 32,\n",
    "                                    max_features= None,\n",
    "                                    max_depth= 3,\n",
    "                                    random_state= 42\n",
    "                                   )"
   ]
  },
  {
   "cell_type": "code",
   "execution_count": 66,
   "metadata": {},
   "outputs": [],
   "source": [
    "xgb_clf = XGBClassifier(n_estimators=100,\n",
    "                        learning_rate= 0.1,\n",
    "                        max_leaf_nodes= 32,\n",
    "                        max_features= None,\n",
    "                        max_depth= 3,\n",
    "                        random_state= 42\n",
    "                       )"
   ]
  },
  {
   "cell_type": "code",
   "execution_count": 67,
   "metadata": {},
   "outputs": [],
   "source": [
    "def train_model_XGB_classifier(X_train, X_test, y_train, y_test,learning_rate = 1):\n",
    "    \n",
    "    start = time.time()\n",
    "    print(\"Started Reading files at :\" + str(datetime.utcfromtimestamp(start).strftime('%Y-%m-%d %H:%M:%S')))\n",
    "    \n",
    "    labelMovieClass = ['terrible','poor','average','excellent']\n",
    "    \n",
    "    # Classifier parameters    \n",
    "\n",
    "    xgb_clf = XGBClassifier(n_estimators=100,\n",
    "                            learning_rate=learning_rate,\n",
    "                            max_leaf_nodes= chosen_max_leaf_nodes,\n",
    "                            max_features= chosen_max_features,\n",
    "                            max_depth= default_max_depth,\n",
    "                            random_state= chosen_random_state\n",
    "                           )\n",
    "    \n",
    "    xgb_clf.fit(X_train, y_train)\n",
    "    \n",
    "    # Predict classes\n",
    "    y_pred = xgb_clf.predict(X_test)\n",
    "    y_prob = xgb_clf.predict_proba(X_test)\n",
    "    \n",
    "    cnf_matrix = confusion_matrix(y_test, y_pred,labels= labelMovieClass )\n",
    "    np.set_printoptions(precision=2)\n",
    "    \n",
    "    classifier_name = xgb_clf.__class__.__name__\n",
    "    train_size = int(round((len(X_train) / len(chosen_dataframe)),1) * 100)\n",
    "    test_size = int(round((len(X_test) / len(chosen_dataframe)),1) * 100)\n",
    "    \n",
    "    # Print run info\n",
    "    run_info(classifier_name)\n",
    "    \n",
    "    # Plot non-normalized confusion matrix\n",
    "    plt.figure()\n",
    "    plot_confusion_matrix(cnf_matrix, classes= labelMovieClass,\n",
    "                      title='Confusion matrix, without normalization')\n",
    "    \n",
    "    xgb_train_score = xgb_clf.score(X_train, y_train)\n",
    "    print(\"\\nTraining Score of {0} on {2} % data : {1} \".format(classifier_name,round(xgb_train_score,3),train_size))\n",
    "    \n",
    "    xgb_test_score = xgb_clf.score(X_test, y_test)\n",
    "    print(\"\\nTraining Score of {0} on {2} % data : {1} \".format(classifier_name,round(xgb_test_score,3),test_size))\n",
    "    \n",
    "        \n",
    "    # Performance metrics\n",
    "    macro_ovo_roc_auc = roc_auc_score(y_test, y_prob,average= \"macro\" , multi_class = 'ovo')\n",
    "    print( \"\\nArea Under the Curve - ROC (OVO , Macro) : \",round(macro_ovo_roc_auc,3))\n",
    "    print( \"Matthews_corrcoef : \", round(metrics.matthews_corrcoef(y_test, y_pred),3))\n",
    "\n",
    "    print(\"\\nClassification Report\\n\")\n",
    "    print(classification_report(y_test, y_pred, labels = labelMovieClass ))\n",
    "    \n",
    "    # Stop timer\n",
    "    end = time.time()\n",
    "    print(\"\\nStopped Reading files at :\" + str(datetime.utcfromtimestamp(end).strftime('%Y-%m-%d %H:%M:%S')))\n",
    "    total_time = str(round((end - start)/60,2))\n",
    "    print(\"Total time taken in minutes: \" + str((end - start)/60))\n",
    "  \n",
    "    return xgb_clf"
   ]
  },
  {
   "cell_type": "markdown",
   "metadata": {},
   "source": [
    "###  2c) Run results of XGB Model"
   ]
  },
  {
   "cell_type": "code",
   "execution_count": 68,
   "metadata": {},
   "outputs": [
    {
     "name": "stdout",
     "output_type": "stream",
     "text": [
      "Started Reading files at :2020-04-27 20:56:04\n",
      "\n",
      "**Run Info - XGBClassifier**\n",
      "Dataset Shape : (1320, 136)\n",
      "Dataset ratio of classes is balanced\n",
      "Predicting feature : rating_count\n",
      "Bin Method : quartiles\n",
      "Scaling Method : None\n",
      "Learning Rate : 0.1\n",
      "****************\n",
      "\n",
      "Confusion matrix, without normalization\n",
      "[[61 10  0  0]\n",
      " [ 7 55  8  0]\n",
      " [ 0 16 36  9]\n",
      " [ 0  0 11 51]]\n",
      "\n",
      "Training Score of XGBClassifier on 80 % data : 0.94 \n",
      "\n",
      "Training Score of XGBClassifier on 20 % data : 0.769 \n",
      "\n",
      "Area Under the Curve - ROC (OVO , Macro) :  0.922\n",
      "Matthews_corrcoef :  0.692\n",
      "\n",
      "Classification Report\n",
      "\n",
      "              precision    recall  f1-score   support\n",
      "\n",
      "    terrible       0.90      0.86      0.88        71\n",
      "        poor       0.68      0.79      0.73        70\n",
      "     average       0.65      0.59      0.62        61\n",
      "   excellent       0.85      0.82      0.84        62\n",
      "\n",
      "    accuracy                           0.77       264\n",
      "   macro avg       0.77      0.76      0.77       264\n",
      "weighted avg       0.77      0.77      0.77       264\n",
      "\n",
      "\n",
      "Stopped Reading files at :2020-04-27 20:56:06\n",
      "Total time taken in minutes: 0.030357730388641358\n"
     ]
    },
    {
     "data": {
      "image/png": "[encoded data removed]",
      "text/plain": [
       "<Figure size 432x288 with 2 Axes>"
      ]
     },
     "metadata": {
      "needs_background": "light"
     },
     "output_type": "display_data"
    }
   ],
   "source": [
    "xgb_clf = train_model_XGB_classifier(X_train, X_test, y_train, y_test,learning_rate = chosen_learning_rate_XGB)\n",
    "# tn, fp, fn, tp"
   ]
  },
  {
   "cell_type": "code",
   "execution_count": 69,
   "metadata": {},
   "outputs": [
    {
     "ename": "SyntaxError",
     "evalue": "'break' outside loop (<ipython-input-69-6aaf1f276005>, line 4)",
     "output_type": "error",
     "traceback": [
      "\u001b[1;36m  File \u001b[1;32m\"<ipython-input-69-6aaf1f276005>\"\u001b[1;36m, line \u001b[1;32m4\u001b[0m\n\u001b[1;31mSyntaxError\u001b[0m\u001b[1;31m:\u001b[0m 'break' outside loop\n"
     ]
    }
   ],
   "source": [
    "break"
   ]
  },
  {
   "cell_type": "markdown",
   "metadata": {},
   "source": [
    "## Feature Importance"
   ]
  },
  {
   "cell_type": "code",
   "execution_count": null,
   "metadata": {},
   "outputs": [],
   "source": [
    "X_test.columns.values"
   ]
  },
  {
   "cell_type": "code",
   "execution_count": null,
   "metadata": {},
   "outputs": [],
   "source": [
    "feature_imp_xgb = xgb_clf.feature_importances_"
   ]
  },
  {
   "cell_type": "code",
   "execution_count": null,
   "metadata": {},
   "outputs": [],
   "source": [
    "feature_imp_xgb"
   ]
  },
  {
   "cell_type": "code",
   "execution_count": null,
   "metadata": {},
   "outputs": [],
   "source": [
    "feature_imp_xgb[feature_imp_xgb>0.05]"
   ]
  },
  {
   "cell_type": "code",
   "execution_count": null,
   "metadata": {},
   "outputs": [],
   "source": [
    "# plot\n",
    "pyplot.bar(range(len(model.feature_importances_)), model.feature_importances_)\n",
    "pyplot.show()"
   ]
  },
  {
   "cell_type": "code",
   "execution_count": null,
   "metadata": {},
   "outputs": [],
   "source": []
  },
  {
   "cell_type": "code",
   "execution_count": null,
   "metadata": {},
   "outputs": [],
   "source": []
  },
  {
   "cell_type": "code",
   "execution_count": null,
   "metadata": {},
   "outputs": [],
   "source": [
    "from xgboost import plot_importance"
   ]
  },
  {
   "cell_type": "code",
   "execution_count": null,
   "metadata": {},
   "outputs": [],
   "source": [
    "# plot feature importance\n",
    "plot_importance(xgb_clf)"
   ]
  },
  {
   "cell_type": "markdown",
   "metadata": {},
   "source": [
    "## Feature selection of XGB"
   ]
  },
  {
   "cell_type": "code",
   "execution_count": null,
   "metadata": {},
   "outputs": [],
   "source": [
    "from sklearn.feature_selection import SelectFromModel"
   ]
  },
  {
   "cell_type": "code",
   "execution_count": null,
   "metadata": {},
   "outputs": [],
   "source": [
    "# select features using threshold\n",
    "selection = SelectFromModel(estimator = xgb_clf, threshold='median', prefit=True)\n",
    "select_X_train = selection.transform(X_train)"
   ]
  },
  {
   "cell_type": "code",
   "execution_count": null,
   "metadata": {
    "scrolled": true
   },
   "outputs": [],
   "source": [
    "# train model\n",
    "selection_model = XGBClassifier(n_estimators = 100,\n",
    "                                learning_rate = 0.1,\n",
    "                                max_leaf_nodes = 32,\n",
    "                                max_features = 2,\n",
    "                                max_depth = 2,\n",
    "                                random_state = 42\n",
    "                                )\n",
    "\n",
    "selection_model.fit(select_X_train, y_train)"
   ]
  },
  {
   "cell_type": "code",
   "execution_count": null,
   "metadata": {},
   "outputs": [],
   "source": [
    "# eval model\n",
    "select_X_test = selection.transform(X_test)\n",
    "y_pred = selection_model.predict(select_X_test)"
   ]
  },
  {
   "cell_type": "code",
   "execution_count": null,
   "metadata": {},
   "outputs": [],
   "source": [
    "labelMovieClass = ['poor','average','good','excellent']\n",
    "print(\"Classification Report\")\n",
    "print(classification_report(y_test, y_pred, labels = labelMovieClass ))"
   ]
  },
  {
   "cell_type": "code",
   "execution_count": null,
   "metadata": {},
   "outputs": [],
   "source": []
  },
  {
   "cell_type": "code",
   "execution_count": null,
   "metadata": {},
   "outputs": [],
   "source": []
  },
  {
   "cell_type": "code",
   "execution_count": null,
   "metadata": {},
   "outputs": [],
   "source": []
  },
  {
   "cell_type": "code",
   "execution_count": null,
   "metadata": {},
   "outputs": [],
   "source": [
    "# Feature importance based on contribution to the classifier model\n",
    "print(\"\\nAbsolute contributions\\n\")\n",
    "absoluteListOrder = print_feature_importances(abs(trainedSVClassifier.coef_[0]), featuresSelected)\n",
    "for j in absoluteListOrder:\n",
    "    print(j)"
   ]
  },
  {
   "cell_type": "code",
   "execution_count": null,
   "metadata": {},
   "outputs": [],
   "source": [
    "print(\"\\nPositive and Negative contributions\\n\")\n",
    "listOrder = print_feature_importances((trainedSVClassifier.coef_[0]), featuresSelected)\n",
    "for i in listOrder:\n",
    "    print(i)"
   ]
  },
  {
   "cell_type": "markdown",
   "metadata": {},
   "source": [
    "# End"
   ]
  }
 ],
 "metadata": {
  "kernelspec": {
   "display_name": "Python 3",
   "language": "python",
   "name": "python3"
  },
  "language_info": {
   "codemirror_mode": {
    "name": "ipython",
    "version": 3
   },
   "file_extension": ".py",
   "mimetype": "text/x-python",
   "name": "python",
   "nbconvert_exporter": "python",
   "pygments_lexer": "ipython3",
   "version": "3.7.3"
  }
 },
 "nbformat": 4,
 "nbformat_minor": 4
}
