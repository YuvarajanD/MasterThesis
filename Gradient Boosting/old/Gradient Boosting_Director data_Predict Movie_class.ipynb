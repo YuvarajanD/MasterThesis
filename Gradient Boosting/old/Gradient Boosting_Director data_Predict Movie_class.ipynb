{
 "cells": [
  {
   "cell_type": "code",
   "execution_count": 1,
   "metadata": {},
   "outputs": [],
   "source": [
    "import pandas as pd\n",
    "import numpy as np\n",
    "\n",
    "#Plotting\n",
    "%matplotlib inline\n",
    "import matplotlib as mpl\n",
    "import matplotlib.pyplot as plt\n",
    "import seaborn as sns\n",
    "\n",
    "# ML Libraries\n",
    "\n",
    "from sklearn.model_selection import train_test_split\n",
    "from sklearn.metrics import classification_report, confusion_matrix\n",
    "from sklearn.metrics import roc_auc_score\n",
    "from sklearn.metrics import precision_recall_fscore_support\n",
    "from sklearn.metrics import auc\n",
    "from sklearn.metrics import roc_auc_score\n",
    "from sklearn.metrics import roc_curve\n",
    "from sklearn import metrics\n",
    "from sklearn.preprocessing import LabelBinarizer\n",
    "\n",
    "\n",
    "# Boosting classifiers\n",
    "from sklearn.preprocessing import MinMaxScaler\n",
    "from sklearn.ensemble import GradientBoostingClassifier\n",
    "from xgboost import XGBClassifier\n",
    "\n",
    "# Save model\n",
    "import pickle\n",
    "import joblib"
   ]
  },
  {
   "cell_type": "code",
   "execution_count": 2,
   "metadata": {},
   "outputs": [],
   "source": [
    "# fileLocation = 'C:\\\\Users\\\\VictorY\\\\Desktop\\\\TestData\\\\stage3FinalProcessedDF_Nov-17-2019.csv'\n",
    "directorDataFileLocation = 'C:\\\\Yuva\\\\ITU\\\\4th Sem\\\\Thesis\\\\Data\\\\cumulativeDirectorDF_Mar-21-2020.csv'\n",
    "saveFileToPath = \"C:\\\\Yuva\\\\ITU\\\\4th Sem\\\\Thesis\\\\Data\\\\\"\n",
    "\n",
    "director_data = pd.read_csv(directorDataFileLocation)"
   ]
  },
  {
   "cell_type": "code",
   "execution_count": 3,
   "metadata": {},
   "outputs": [
    {
     "name": "stdout",
     "output_type": "stream",
     "text": [
      "<class 'pandas.core.frame.DataFrame'>\n",
      "RangeIndex: 41629 entries, 0 to 41628\n",
      "Data columns (total 14 columns):\n",
      " #   Column                    Non-Null Count  Dtype  \n",
      "---  ------                    --------------  -----  \n",
      " 0   director_ids              41629 non-null  object \n",
      " 1   director_name             41629 non-null  object \n",
      " 2   movies_produced           41629 non-null  int64  \n",
      " 3   Average_rating_value      41629 non-null  float64\n",
      " 4   Average_rating_count      41629 non-null  float64\n",
      " 5   career_Length             41629 non-null  int64  \n",
      " 6   Gender                    41629 non-null  object \n",
      " 7   birthYear                 41629 non-null  int64  \n",
      " 8   primaryProfession         41629 non-null  object \n",
      " 9   knownForTitles            41629 non-null  object \n",
      " 10  CareerStartYear           41629 non-null  int64  \n",
      " 11  median_inter_event_time   41629 non-null  float64\n",
      " 12  average_movie_per_year    41629 non-null  float64\n",
      " 13  average_inter_event_time  41629 non-null  float64\n",
      "dtypes: float64(5), int64(4), object(5)\n",
      "memory usage: 4.4+ MB\n"
     ]
    }
   ],
   "source": [
    "director_data.info()"
   ]
  },
  {
   "cell_type": "markdown",
   "metadata": {},
   "source": [
    "## Movie classes"
   ]
  },
  {
   "cell_type": "markdown",
   "metadata": {},
   "source": [
    "### One hot encoding for Gender"
   ]
  },
  {
   "cell_type": "code",
   "execution_count": 4,
   "metadata": {},
   "outputs": [
    {
     "data": {
      "text/html": [
       "<div>\n",
       "<style scoped>\n",
       "    .dataframe tbody tr th:only-of-type {\n",
       "        vertical-align: middle;\n",
       "    }\n",
       "\n",
       "    .dataframe tbody tr th {\n",
       "        vertical-align: top;\n",
       "    }\n",
       "\n",
       "    .dataframe thead th {\n",
       "        text-align: right;\n",
       "    }\n",
       "</style>\n",
       "<table border=\"1\" class=\"dataframe\">\n",
       "  <thead>\n",
       "    <tr style=\"text-align: right;\">\n",
       "      <th></th>\n",
       "      <th>director_ids</th>\n",
       "      <th>director_name</th>\n",
       "      <th>movies_produced</th>\n",
       "      <th>Average_rating_value</th>\n",
       "      <th>Average_rating_count</th>\n",
       "      <th>career_Length</th>\n",
       "      <th>birthYear</th>\n",
       "      <th>primaryProfession</th>\n",
       "      <th>knownForTitles</th>\n",
       "      <th>CareerStartYear</th>\n",
       "      <th>median_inter_event_time</th>\n",
       "      <th>average_movie_per_year</th>\n",
       "      <th>average_inter_event_time</th>\n",
       "      <th>Gender_Female</th>\n",
       "      <th>Gender_Male</th>\n",
       "    </tr>\n",
       "  </thead>\n",
       "  <tbody>\n",
       "    <tr>\n",
       "      <th>0</th>\n",
       "      <td>nm0000005</td>\n",
       "      <td>Ingmar Bergman</td>\n",
       "      <td>70</td>\n",
       "      <td>7.36</td>\n",
       "      <td>6984.76</td>\n",
       "      <td>63</td>\n",
       "      <td>1918</td>\n",
       "      <td>writer,director,actor</td>\n",
       "      <td>tt0083922,tt0069467,tt0050986,tt0050976</td>\n",
       "      <td>1946</td>\n",
       "      <td>1.0</td>\n",
       "      <td>1.11</td>\n",
       "      <td>0.9</td>\n",
       "      <td>0</td>\n",
       "      <td>1</td>\n",
       "    </tr>\n",
       "    <tr>\n",
       "      <th>1</th>\n",
       "      <td>nm0000008</td>\n",
       "      <td>Marlon Brando</td>\n",
       "      <td>1</td>\n",
       "      <td>7.20</td>\n",
       "      <td>7002.00</td>\n",
       "      <td>1</td>\n",
       "      <td>1924</td>\n",
       "      <td>actor,soundtrack,director</td>\n",
       "      <td>tt0047296,tt0078788,tt0070849,tt0068646</td>\n",
       "      <td>1961</td>\n",
       "      <td>0.0</td>\n",
       "      <td>1.00</td>\n",
       "      <td>0.0</td>\n",
       "      <td>0</td>\n",
       "      <td>1</td>\n",
       "    </tr>\n",
       "  </tbody>\n",
       "</table>\n",
       "</div>"
      ],
      "text/plain": [
       "  director_ids   director_name  movies_produced  Average_rating_value  \\\n",
       "0    nm0000005  Ingmar Bergman               70                  7.36   \n",
       "1    nm0000008   Marlon Brando                1                  7.20   \n",
       "\n",
       "   Average_rating_count  career_Length  birthYear          primaryProfession  \\\n",
       "0               6984.76             63       1918      writer,director,actor   \n",
       "1               7002.00              1       1924  actor,soundtrack,director   \n",
       "\n",
       "                            knownForTitles  CareerStartYear  \\\n",
       "0  tt0083922,tt0069467,tt0050986,tt0050976             1946   \n",
       "1  tt0047296,tt0078788,tt0070849,tt0068646             1961   \n",
       "\n",
       "   median_inter_event_time  average_movie_per_year  average_inter_event_time  \\\n",
       "0                      1.0                    1.11                       0.9   \n",
       "1                      0.0                    1.00                       0.0   \n",
       "\n",
       "   Gender_Female  Gender_Male  \n",
       "0              0            1  \n",
       "1              0            1  "
      ]
     },
     "execution_count": 4,
     "metadata": {},
     "output_type": "execute_result"
    }
   ],
   "source": [
    "# one hot encoding of Gender\n",
    "director_data = pd.concat([director_data, pd.get_dummies(director_data.Gender,prefix='Gender',dtype = int)],axis=1)\n",
    "director_data.drop(['Gender'],axis=1, inplace=True)\n",
    "director_data.head(2)"
   ]
  },
  {
   "cell_type": "code",
   "execution_count": 5,
   "metadata": {},
   "outputs": [],
   "source": [
    "def balance_gender(dataframe):\n",
    "    female_list_unique_directors = dataframe[(dataframe['Gender'] == 'Female')].director_ids.unique().tolist()\n",
    "    \n",
    "    unique_male_directors = dataframe[(dataframe['Gender'] == 'Male')].director_ids.unique().tolist()\n",
    "    \n",
    "    male_list_unique_directors = np.random.choice(unique_male_directors, replace = False, size = len(female_list_unique_directors)).tolist()\n",
    "    \n",
    "    total_list_unique_directors = female_list_unique_directors + male_list_unique_directors\n",
    "\n",
    "    dataframe = dataframe[dataframe['director_ids'].isin(np.array(total_list_unique_directors).tolist())]\n",
    "\n",
    "    return dataframe"
   ]
  },
  {
   "cell_type": "code",
   "execution_count": 6,
   "metadata": {},
   "outputs": [],
   "source": [
    "# Generic function to equally max split the dataframe with respect to the column Name, in our case the Gender column.\n",
    "\n",
    "def max_equal_split_on_columnName(df,columnName='director_class'):\n",
    "    df1 = pd.DataFrame()\n",
    "    for i in df[columnName].value_counts().index:\n",
    "        df1 = df1.append(df[(df[columnName]==i)]\n",
    "                         .sample(n=df[columnName]\n",
    "                                 .value_counts()\n",
    "                                 .values.min()\n",
    "                                 ,replace = False)\n",
    "                        )        \n",
    "    return df1.reset_index(drop=True)"
   ]
  },
  {
   "cell_type": "code",
   "execution_count": 7,
   "metadata": {},
   "outputs": [],
   "source": [
    "def multiclass_roc_auc_score(y_test, y_pred, average=\"macro\"):\n",
    "    lb = LabelBinarizer()\n",
    "    lb.fit(y_test)\n",
    "    y_test = lb.transform(y_test)\n",
    "    y_pred = lb.transform(y_pred)\n",
    "    return roc_auc_score(y_test, y_pred, average=average)"
   ]
  },
  {
   "cell_type": "code",
   "execution_count": 8,
   "metadata": {},
   "outputs": [],
   "source": [
    "def print_feature_importances(coef, names, top=-1):\n",
    "    whole = []\n",
    "    imp = coef\n",
    "    imp,names = zip(*sorted(list(zip(imp, names)),reverse=True))\n",
    "    for i in range(len(names)):\n",
    "        string = \"{} :: {}\".format(str(names[i]),str(round(imp[i],3)))\n",
    "        whole.append(string)\n",
    "    return whole"
   ]
  },
  {
   "cell_type": "markdown",
   "metadata": {},
   "source": [
    "# Functions : Bin Cuts , Quartile Bins and bins as in paper"
   ]
  },
  {
   "cell_type": "markdown",
   "metadata": {},
   "source": [
    "## Bin Cuts"
   ]
  },
  {
   "cell_type": "code",
   "execution_count": 9,
   "metadata": {},
   "outputs": [],
   "source": [
    "def bincuts(df,class_feature = 'rating_value'):\n",
    "    \n",
    "    # Bin cuts into 4 buckets\n",
    "\n",
    "    bin_quartiles = ['terrible','poor','average','excellent']\n",
    "    cutIntoQuartiles = pd.cut(df[class_feature].to_list(), bins = 4 ,labels=bin_quartiles)\n",
    "\n",
    "    # Print the quartile range for visuals\n",
    "    print(cutIntoQuartiles.categories)\n",
    "\n",
    "    # Add the data to the dataframe\n",
    "    df['director_class'] = cutIntoQuartiles\n",
    "    print('The shape of our Movies dataset is:', df.shape)\n",
    "    df.drop(columns = [class_feature] , inplace = True)\n",
    "    print('The shape of our Movies dataset is:', df.shape)"
   ]
  },
  {
   "cell_type": "markdown",
   "metadata": {},
   "source": [
    "## Quartile Bins"
   ]
  },
  {
   "cell_type": "code",
   "execution_count": 10,
   "metadata": {},
   "outputs": [],
   "source": [
    "def quartile_bin(df,class_feature='rating_value'):\n",
    "    # Quartile cut into 4 different buckets\n",
    "\n",
    "    bin_quartiles = ['terrible','poor','average','excellent']\n",
    "    cutIntoQuartiles = pd.qcut(df[class_feature].to_list(), q=4,labels=bin_quartiles)\n",
    "    \n",
    "    print(cutIntoQuartiles.categories)\n",
    "    \n",
    "    df['director_class'] = cutIntoQuartiles\n",
    "    print('The shape of our dataset before dropping the class feature is:', df.shape)\n",
    "    df.drop(columns = [class_feature] , inplace = True)\n",
    "    print('The shape of our dataset after dropping the class feature  is:', df.shape)\n",
    "    return df"
   ]
  },
  {
   "cell_type": "markdown",
   "metadata": {},
   "source": [
    "## Paper Implementation of bins"
   ]
  },
  {
   "cell_type": "code",
   "execution_count": 11,
   "metadata": {},
   "outputs": [],
   "source": [
    "def success_measure(score):\n",
    "    \n",
    "    if score > 0 and score <= 2.4:\n",
    "        return 'poor'\n",
    "#     elif score > 2.4 and score <= 5.0:a\n",
    "        return 'average'\n",
    "    elif score > 5.0 and score <= 7.4:\n",
    "        return 'good'\n",
    "    elif score > 7.4 and score <=10.0:\n",
    "        return 'excellent'\n",
    "    else:\n",
    "        return 'Error_Score'"
   ]
  },
  {
   "cell_type": "markdown",
   "metadata": {},
   "source": [
    "# Function - To choose which Success measure to choose and what binning technique"
   ]
  },
  {
   "cell_type": "code",
   "execution_count": 12,
   "metadata": {},
   "outputs": [],
   "source": [
    "def choose_success_measure(df, bin_method = 'q_cut', feature = 'rating_value'):\n",
    "    \n",
    "    # Stats of the feature\n",
    "    print('\\nDescribing the feature : \\n')\n",
    "    print(df[feature].describe())\n",
    "    \n",
    "\n",
    "    \n",
    "    if (bin_method == 'q_cut'):\n",
    "        # Quartie bin cuts\n",
    "        df = quartile_bin(df,feature)\n",
    "            \n",
    "    elif(bin_method == 'bin_cut'):\n",
    "        # Bin cuts\n",
    "        movies_data = bincuts(movies_data,feature)\n",
    "        \n",
    "    elif(bin_method == 'aspaper_cut'):\n",
    "        df['director_class'] = df[feature].apply(success_measure).astype('category')\n",
    "        \n",
    "        print('\\nShape of the dataset : \\n')\n",
    "        print('\\nThe shape of our Director dataset is:', df.shape)\n",
    "        df.drop(columns = [feature] , inplace = True)\n",
    "        print('\\nThe shape of our Director dataset is:', df.shape)\n",
    "    \n",
    "    print('\\nValue Count of the bucketed class is : \\n')\n",
    "    print(df['director_class'].value_counts())"
   ]
  },
  {
   "cell_type": "markdown",
   "metadata": {},
   "source": [
    "# Weighted Rank"
   ]
  },
  {
   "cell_type": "code",
   "execution_count": 13,
   "metadata": {},
   "outputs": [],
   "source": [
    "# Weighted ranking value\n",
    "# IMDB uses this famous formula:\n",
    "# weighted rating (WR) = (v ÷ (v+m)) × R + (m ÷ (v+m)) × C\n",
    "\n",
    "# Where:\n",
    "\n",
    "# R = average for the movie (mean) = (rating)\n",
    "\n",
    "# v = number of votes for the movie = (votes)\n",
    "\n",
    "# m = minimum votes required to be listed in the Top Rated list (currently 25,000)\n",
    "\n",
    "# C = the mean vote across the whole report"
   ]
  },
  {
   "cell_type": "code",
   "execution_count": 14,
   "metadata": {},
   "outputs": [],
   "source": [
    "def weightedRank(df,R='Average_rating_value', v='Average_rating_count', m = 100):\n",
    "#     df = df.loc[df[v] > m ]\n",
    "    df['weighted_rank'] = (df[v] / (df[v] + m )) * df[R] + (m / ( df[v] + m)) * df[R].mean()\n",
    "    return df"
   ]
  },
  {
   "cell_type": "code",
   "execution_count": 15,
   "metadata": {},
   "outputs": [
    {
     "data": {
      "text/plain": [
       "34.0"
      ]
     },
     "execution_count": 15,
     "metadata": {},
     "output_type": "execute_result"
    }
   ],
   "source": [
    "minVotes =  director_data['Average_rating_count'].quantile(0.5)\n",
    "minVotes"
   ]
  },
  {
   "cell_type": "markdown",
   "metadata": {},
   "source": [
    "### Bin Cuts"
   ]
  },
  {
   "cell_type": "code",
   "execution_count": 16,
   "metadata": {},
   "outputs": [],
   "source": [
    "# # Quartie bin on Weighted rating value\n",
    "# movies_data = bincuts(movies_data,'weighted_rank')"
   ]
  },
  {
   "cell_type": "markdown",
   "metadata": {},
   "source": [
    "### Quartile Bins"
   ]
  },
  {
   "cell_type": "code",
   "execution_count": 17,
   "metadata": {},
   "outputs": [],
   "source": [
    "# movies_data.rating_count.describe()"
   ]
  },
  {
   "cell_type": "code",
   "execution_count": 18,
   "metadata": {},
   "outputs": [],
   "source": [
    "# movies_data = weightedRank( movies_data, m = minVotes )\n",
    "\n",
    "# # Quartie bin on Weighted rating value\n",
    "\n",
    "# movies_data.drop(columns = 'rating_value',inplace = True)\n",
    "# movies_data = quartile_bin(movies_data,'weighted_rank')"
   ]
  },
  {
   "cell_type": "markdown",
   "metadata": {},
   "source": [
    "### Paper Implementation of bins"
   ]
  },
  {
   "cell_type": "code",
   "execution_count": 19,
   "metadata": {},
   "outputs": [],
   "source": [
    "# movies_data['director_class'] = movies_data['weighted_rank'].apply(success_measure).astype('category')\n",
    "# print('The shape of our Movies dataset is:', movies_data.shape)# print('The shape of our Movies dataset is:', movies_data.shape)\n",
    "# movies_data.drop(columns = ['weighted_rank'] , inplace = True)\n",
    "# print('The shape of our Movies dataset is:', movies_data.shape)"
   ]
  },
  {
   "cell_type": "code",
   "execution_count": 20,
   "metadata": {},
   "outputs": [
    {
     "data": {
      "text/plain": [
       "array(['director_ids', 'director_name', 'movies_produced',\n",
       "       'Average_rating_value', 'Average_rating_count', 'career_Length',\n",
       "       'birthYear', 'primaryProfession', 'knownForTitles',\n",
       "       'CareerStartYear', 'median_inter_event_time',\n",
       "       'average_movie_per_year', 'average_inter_event_time',\n",
       "       'Gender_Female', 'Gender_Male'], dtype=object)"
      ]
     },
     "execution_count": 20,
     "metadata": {},
     "output_type": "execute_result"
    }
   ],
   "source": [
    "director_data.columns.values"
   ]
  },
  {
   "cell_type": "markdown",
   "metadata": {},
   "source": [
    "## Run the feature based on the bin cut and success feature"
   ]
  },
  {
   "cell_type": "code",
   "execution_count": 21,
   "metadata": {
    "scrolled": false
   },
   "outputs": [
    {
     "name": "stdout",
     "output_type": "stream",
     "text": [
      "\n",
      "Describing the feature : \n",
      "\n",
      "count     41629.000000\n",
      "mean       1398.390829\n",
      "std       11699.252139\n",
      "min           5.000000\n",
      "25%          12.670000\n",
      "50%          34.000000\n",
      "75%         147.890000\n",
      "max      690249.000000\n",
      "Name: Average_rating_count, dtype: float64\n",
      "Index(['terrible', 'poor', 'average', 'excellent'], dtype='object')\n",
      "The shape of our dataset before dropping the class feature is: (41629, 16)\n",
      "The shape of our dataset after dropping the class feature  is: (41629, 15)\n",
      "\n",
      "Value Count of the bucketed class is : \n",
      "\n",
      "poor         10477\n",
      "terrible     10432\n",
      "excellent    10407\n",
      "average      10313\n",
      "Name: director_class, dtype: int64\n"
     ]
    }
   ],
   "source": [
    "choose_success_measure(director_data , bin_method = 'q_cut' , feature = 'Average_rating_count')"
   ]
  },
  {
   "cell_type": "code",
   "execution_count": 22,
   "metadata": {},
   "outputs": [],
   "source": [
    "# director_data = director_data[director_data['movie_class'].isin(['poor','excellent'])]"
   ]
  },
  {
   "cell_type": "markdown",
   "metadata": {},
   "source": [
    "### Remove Features from dataset which are not required"
   ]
  },
  {
   "cell_type": "code",
   "execution_count": 23,
   "metadata": {},
   "outputs": [],
   "source": [
    "# # Unique director distribution in max_equal DF\n",
    "# print(\"Unique director distribution - movies_data split based on Gender\")\n",
    "\n",
    "# movies_data.drop_duplicates(subset = 'director_ids', keep = 'first').Gender.value_counts()"
   ]
  },
  {
   "cell_type": "code",
   "execution_count": 24,
   "metadata": {},
   "outputs": [
    {
     "data": {
      "text/plain": [
       "array(['director_ids', 'director_name', 'primaryProfession',\n",
       "       'knownForTitles'], dtype=object)"
      ]
     },
     "execution_count": 24,
     "metadata": {},
     "output_type": "execute_result"
    }
   ],
   "source": [
    "object_features_to_remove = director_data.select_dtypes(include = 'object').columns.values\n",
    "object_features_to_remove"
   ]
  },
  {
   "cell_type": "markdown",
   "metadata": {},
   "source": [
    "### Unbalanced Director Dataset"
   ]
  },
  {
   "cell_type": "code",
   "execution_count": 25,
   "metadata": {},
   "outputs": [],
   "source": [
    "# important_features = ['director_known_titles_average_rating_value',\n",
    "#        'director_profession_secondary', 'director_profession_tertiary',\n",
    "#        'genre_Animation', 'genre_Family', 'genre_Mystery',\n",
    "#        'genre_Thriller', 'rating_count', 'review_count_user']\n",
    "\n",
    "# important_features.remove('rating_count')\n",
    "# important_features.extend(['movie_class'])"
   ]
  },
  {
   "cell_type": "code",
   "execution_count": 26,
   "metadata": {},
   "outputs": [
    {
     "name": "stdout",
     "output_type": "stream",
     "text": [
      "The shape of our Unbalanced director dataset before: (41629, 15)\n",
      "The shape of our Unbalanced director dataset after dropping object features: (41629, 11)\n"
     ]
    }
   ],
   "source": [
    "print('The shape of our Unbalanced director dataset before:', director_data.shape)\n",
    "director_data = director_data[director_data.columns.difference(object_features_to_remove)]\n",
    "print('The shape of our Unbalanced director dataset after dropping object features:', director_data.shape)\n",
    "\n",
    "# director_data.drop(columns = ['Gender_Male','Gender_Female'],inplace = True)\n",
    "# print('The shape of our Unbalanced director dataset after dropping Gender:', director_data.shape)\n",
    "\n",
    "# director_data = director_data[important_features]\n",
    "# # director_data = director_data[director_data.columns.difference(important_features)]\n",
    "# print('The shape of our Unbalanced director dataset after dropping all but important features:', director_data.shape)"
   ]
  },
  {
   "cell_type": "code",
   "execution_count": 27,
   "metadata": {
    "scrolled": true
   },
   "outputs": [
    {
     "name": "stdout",
     "output_type": "stream",
     "text": [
      "<class 'pandas.core.frame.DataFrame'>\n",
      "RangeIndex: 41629 entries, 0 to 41628\n",
      "Data columns (total 11 columns):\n",
      " #   Column                    Non-Null Count  Dtype   \n",
      "---  ------                    --------------  -----   \n",
      " 0   Average_rating_value      41629 non-null  float64 \n",
      " 1   CareerStartYear           41629 non-null  int64   \n",
      " 2   Gender_Female             41629 non-null  int32   \n",
      " 3   Gender_Male               41629 non-null  int32   \n",
      " 4   average_inter_event_time  41629 non-null  float64 \n",
      " 5   average_movie_per_year    41629 non-null  float64 \n",
      " 6   birthYear                 41629 non-null  int64   \n",
      " 7   career_Length             41629 non-null  int64   \n",
      " 8   director_class            41629 non-null  category\n",
      " 9   median_inter_event_time   41629 non-null  float64 \n",
      " 10  movies_produced           41629 non-null  int64   \n",
      "dtypes: category(1), float64(4), int32(2), int64(4)\n",
      "memory usage: 2.9 MB\n"
     ]
    }
   ],
   "source": [
    "director_data.info()"
   ]
  },
  {
   "cell_type": "code",
   "execution_count": 28,
   "metadata": {},
   "outputs": [
    {
     "data": {
      "text/plain": [
       "poor         10477\n",
       "terrible     10432\n",
       "excellent    10407\n",
       "average      10313\n",
       "Name: director_class, dtype: int64"
      ]
     },
     "execution_count": 28,
     "metadata": {},
     "output_type": "execute_result"
    }
   ],
   "source": [
    "director_data['director_class'].value_counts()"
   ]
  },
  {
   "cell_type": "markdown",
   "metadata": {},
   "source": [
    "### Visualize"
   ]
  },
  {
   "cell_type": "code",
   "execution_count": null,
   "metadata": {},
   "outputs": [],
   "source": []
  },
  {
   "cell_type": "code",
   "execution_count": null,
   "metadata": {},
   "outputs": [],
   "source": []
  },
  {
   "cell_type": "code",
   "execution_count": null,
   "metadata": {},
   "outputs": [],
   "source": []
  },
  {
   "cell_type": "markdown",
   "metadata": {},
   "source": [
    "### Balanced Director Dataset"
   ]
  },
  {
   "cell_type": "code",
   "execution_count": 29,
   "metadata": {},
   "outputs": [],
   "source": [
    "balanced_director_data = max_equal_split_on_columnName(director_data)"
   ]
  },
  {
   "cell_type": "code",
   "execution_count": 30,
   "metadata": {},
   "outputs": [
    {
     "name": "stdout",
     "output_type": "stream",
     "text": [
      "The shape of our Balanced Director dataset is: (41252, 11)\n"
     ]
    }
   ],
   "source": [
    "# balanced_director_data = balanced_director_data[req_columns]\n",
    "print('The shape of our Balanced Director dataset is:', balanced_director_data.shape)"
   ]
  },
  {
   "cell_type": "code",
   "execution_count": 31,
   "metadata": {
    "scrolled": true
   },
   "outputs": [
    {
     "name": "stdout",
     "output_type": "stream",
     "text": [
      "<class 'pandas.core.frame.DataFrame'>\n",
      "RangeIndex: 41252 entries, 0 to 41251\n",
      "Data columns (total 11 columns):\n",
      " #   Column                    Non-Null Count  Dtype   \n",
      "---  ------                    --------------  -----   \n",
      " 0   Average_rating_value      41252 non-null  float64 \n",
      " 1   CareerStartYear           41252 non-null  int64   \n",
      " 2   Gender_Female             41252 non-null  int32   \n",
      " 3   Gender_Male               41252 non-null  int32   \n",
      " 4   average_inter_event_time  41252 non-null  float64 \n",
      " 5   average_movie_per_year    41252 non-null  float64 \n",
      " 6   birthYear                 41252 non-null  int64   \n",
      " 7   career_Length             41252 non-null  int64   \n",
      " 8   director_class            41252 non-null  category\n",
      " 9   median_inter_event_time   41252 non-null  float64 \n",
      " 10  movies_produced           41252 non-null  int64   \n",
      "dtypes: category(1), float64(4), int32(2), int64(4)\n",
      "memory usage: 2.9 MB\n"
     ]
    }
   ],
   "source": [
    "balanced_director_data.info()"
   ]
  },
  {
   "cell_type": "code",
   "execution_count": 32,
   "metadata": {},
   "outputs": [
    {
     "data": {
      "text/plain": [
       "excellent    10313\n",
       "average      10313\n",
       "poor         10313\n",
       "terrible     10313\n",
       "Name: director_class, dtype: int64"
      ]
     },
     "execution_count": 32,
     "metadata": {},
     "output_type": "execute_result"
    }
   ],
   "source": [
    "balanced_director_data['director_class'].value_counts()"
   ]
  },
  {
   "cell_type": "markdown",
   "metadata": {},
   "source": [
    "# Observations"
   ]
  },
  {
   "cell_type": "code",
   "execution_count": 33,
   "metadata": {},
   "outputs": [],
   "source": [
    "# Function to Plot - Distribution of rating value among male and female. \n",
    "\n",
    "def plot_features_WRT_gender(df,columnCriteriaName,columnFeatureName):\n",
    "    dict={}\n",
    "    for i in df[columnCriteriaName].value_counts().index:\n",
    "        dict[\"{0}_{1}\".format(columnFeatureName,i)] = df[(df[columnCriteriaName] == i)][columnFeatureName]\n",
    "    for k,v in dict.items():\n",
    "        sns.distplot(v,label=[k])\n",
    "        plt.legend(bbox_to_anchor=(1.05, 0.6), loc=2, borderaxespad=0.)"
   ]
  },
  {
   "cell_type": "markdown",
   "metadata": {},
   "source": [
    "## Divide the data to training and testing - Scaling methods too"
   ]
  },
  {
   "cell_type": "markdown",
   "metadata": {},
   "source": [
    "Check about the Scaling"
   ]
  },
  {
   "cell_type": "code",
   "execution_count": 34,
   "metadata": {},
   "outputs": [],
   "source": [
    "def divide_test_train_with_scaling_methods(df,predict='director_class',scalingMethod = \"MinMaxScaler\"):\n",
    "    \n",
    "    \n",
    "    # Feature matrix and target variable\n",
    "    X = df.drop(predict,axis = 'columns')\n",
    "    y = df[predict]\n",
    "    \n",
    "    # Scaling\n",
    "    if (scalingMethod == \"MinMaxScaler\"):\n",
    "        print(\"The scaling method used is : \",scalingMethod)\n",
    "        scaler = MinMaxScaler()\n",
    "        X_train = scaler.fit_transform(X)\n",
    "        # X_test = scaler.transform(X_test)\n",
    "        \n",
    "    else:\n",
    "        print(\"No Scaling Method used or incorrect input\")\n",
    "        X_train = X\n",
    "    \n",
    "    # Divide the data into training and test sets\n",
    "    X_train, X_test, y_train, y_test = train_test_split(X_train, y, test_size=0.20, random_state = 42 )\n",
    "    \n",
    "    return X_train, X_test, y_train, y_test"
   ]
  },
  {
   "cell_type": "code",
   "execution_count": 35,
   "metadata": {},
   "outputs": [
    {
     "name": "stdout",
     "output_type": "stream",
     "text": [
      "No Scaling Method used or incorrect input\n"
     ]
    }
   ],
   "source": [
    "# Divide the data into training and test\n",
    "\n",
    "X_train, X_test, y_train, y_test = divide_test_train_with_scaling_methods(director_data,scalingMethod=\"None\")\n",
    "# X_train, X_test, y_train, y_test = divide_test_train_with_scaling_methods(director_data,scalingMethod=\"MinMaxScaler\")"
   ]
  },
  {
   "cell_type": "code",
   "execution_count": 48,
   "metadata": {},
   "outputs": [
    {
     "data": {
      "text/html": [
       "<div>\n",
       "<style scoped>\n",
       "    .dataframe tbody tr th:only-of-type {\n",
       "        vertical-align: middle;\n",
       "    }\n",
       "\n",
       "    .dataframe tbody tr th {\n",
       "        vertical-align: top;\n",
       "    }\n",
       "\n",
       "    .dataframe thead th {\n",
       "        text-align: right;\n",
       "    }\n",
       "</style>\n",
       "<table border=\"1\" class=\"dataframe\">\n",
       "  <thead>\n",
       "    <tr style=\"text-align: right;\">\n",
       "      <th></th>\n",
       "      <th>Average_rating_value</th>\n",
       "      <th>CareerStartYear</th>\n",
       "      <th>Gender_Female</th>\n",
       "      <th>Gender_Male</th>\n",
       "      <th>average_inter_event_time</th>\n",
       "      <th>average_movie_per_year</th>\n",
       "      <th>birthYear</th>\n",
       "      <th>career_Length</th>\n",
       "      <th>median_inter_event_time</th>\n",
       "      <th>movies_produced</th>\n",
       "    </tr>\n",
       "  </thead>\n",
       "  <tbody>\n",
       "    <tr>\n",
       "      <th>31964</th>\n",
       "      <td>6.80</td>\n",
       "      <td>2004</td>\n",
       "      <td>0</td>\n",
       "      <td>1</td>\n",
       "      <td>0.00</td>\n",
       "      <td>1.00</td>\n",
       "      <td>1978</td>\n",
       "      <td>1</td>\n",
       "      <td>0.0</td>\n",
       "      <td>1</td>\n",
       "    </tr>\n",
       "    <tr>\n",
       "      <th>13631</th>\n",
       "      <td>6.54</td>\n",
       "      <td>1917</td>\n",
       "      <td>1</td>\n",
       "      <td>0</td>\n",
       "      <td>3.50</td>\n",
       "      <td>0.33</td>\n",
       "      <td>1874</td>\n",
       "      <td>15</td>\n",
       "      <td>3.5</td>\n",
       "      <td>5</td>\n",
       "    </tr>\n",
       "    <tr>\n",
       "      <th>6666</th>\n",
       "      <td>6.78</td>\n",
       "      <td>2007</td>\n",
       "      <td>0</td>\n",
       "      <td>1</td>\n",
       "      <td>2.67</td>\n",
       "      <td>0.44</td>\n",
       "      <td>1981</td>\n",
       "      <td>9</td>\n",
       "      <td>2.0</td>\n",
       "      <td>4</td>\n",
       "    </tr>\n",
       "    <tr>\n",
       "      <th>32039</th>\n",
       "      <td>5.77</td>\n",
       "      <td>2012</td>\n",
       "      <td>0</td>\n",
       "      <td>1</td>\n",
       "      <td>0.80</td>\n",
       "      <td>1.20</td>\n",
       "      <td>1978</td>\n",
       "      <td>5</td>\n",
       "      <td>0.0</td>\n",
       "      <td>6</td>\n",
       "    </tr>\n",
       "    <tr>\n",
       "      <th>33901</th>\n",
       "      <td>5.55</td>\n",
       "      <td>1921</td>\n",
       "      <td>0</td>\n",
       "      <td>1</td>\n",
       "      <td>3.00</td>\n",
       "      <td>0.50</td>\n",
       "      <td>1886</td>\n",
       "      <td>4</td>\n",
       "      <td>3.0</td>\n",
       "      <td>2</td>\n",
       "    </tr>\n",
       "    <tr>\n",
       "      <th>...</th>\n",
       "      <td>...</td>\n",
       "      <td>...</td>\n",
       "      <td>...</td>\n",
       "      <td>...</td>\n",
       "      <td>...</td>\n",
       "      <td>...</td>\n",
       "      <td>...</td>\n",
       "      <td>...</td>\n",
       "      <td>...</td>\n",
       "      <td>...</td>\n",
       "    </tr>\n",
       "    <tr>\n",
       "      <th>6265</th>\n",
       "      <td>7.04</td>\n",
       "      <td>1961</td>\n",
       "      <td>0</td>\n",
       "      <td>1</td>\n",
       "      <td>3.00</td>\n",
       "      <td>0.38</td>\n",
       "      <td>1921</td>\n",
       "      <td>13</td>\n",
       "      <td>3.0</td>\n",
       "      <td>5</td>\n",
       "    </tr>\n",
       "    <tr>\n",
       "      <th>11284</th>\n",
       "      <td>7.11</td>\n",
       "      <td>1994</td>\n",
       "      <td>0</td>\n",
       "      <td>1</td>\n",
       "      <td>0.81</td>\n",
       "      <td>1.23</td>\n",
       "      <td>1964</td>\n",
       "      <td>22</td>\n",
       "      <td>0.0</td>\n",
       "      <td>27</td>\n",
       "    </tr>\n",
       "    <tr>\n",
       "      <th>38158</th>\n",
       "      <td>4.95</td>\n",
       "      <td>2009</td>\n",
       "      <td>1</td>\n",
       "      <td>0</td>\n",
       "      <td>1.00</td>\n",
       "      <td>1.00</td>\n",
       "      <td>1976</td>\n",
       "      <td>2</td>\n",
       "      <td>1.0</td>\n",
       "      <td>2</td>\n",
       "    </tr>\n",
       "    <tr>\n",
       "      <th>860</th>\n",
       "      <td>5.67</td>\n",
       "      <td>1959</td>\n",
       "      <td>0</td>\n",
       "      <td>1</td>\n",
       "      <td>0.97</td>\n",
       "      <td>1.03</td>\n",
       "      <td>1932</td>\n",
       "      <td>30</td>\n",
       "      <td>1.0</td>\n",
       "      <td>31</td>\n",
       "    </tr>\n",
       "    <tr>\n",
       "      <th>15795</th>\n",
       "      <td>7.70</td>\n",
       "      <td>2005</td>\n",
       "      <td>0</td>\n",
       "      <td>1</td>\n",
       "      <td>10.00</td>\n",
       "      <td>0.18</td>\n",
       "      <td>1981</td>\n",
       "      <td>11</td>\n",
       "      <td>10.0</td>\n",
       "      <td>2</td>\n",
       "    </tr>\n",
       "  </tbody>\n",
       "</table>\n",
       "<p>33303 rows × 10 columns</p>\n",
       "</div>"
      ],
      "text/plain": [
       "       Average_rating_value  CareerStartYear  Gender_Female  Gender_Male  \\\n",
       "31964                  6.80             2004              0            1   \n",
       "13631                  6.54             1917              1            0   \n",
       "6666                   6.78             2007              0            1   \n",
       "32039                  5.77             2012              0            1   \n",
       "33901                  5.55             1921              0            1   \n",
       "...                     ...              ...            ...          ...   \n",
       "6265                   7.04             1961              0            1   \n",
       "11284                  7.11             1994              0            1   \n",
       "38158                  4.95             2009              1            0   \n",
       "860                    5.67             1959              0            1   \n",
       "15795                  7.70             2005              0            1   \n",
       "\n",
       "       average_inter_event_time  average_movie_per_year  birthYear  \\\n",
       "31964                      0.00                    1.00       1978   \n",
       "13631                      3.50                    0.33       1874   \n",
       "6666                       2.67                    0.44       1981   \n",
       "32039                      0.80                    1.20       1978   \n",
       "33901                      3.00                    0.50       1886   \n",
       "...                         ...                     ...        ...   \n",
       "6265                       3.00                    0.38       1921   \n",
       "11284                      0.81                    1.23       1964   \n",
       "38158                      1.00                    1.00       1976   \n",
       "860                        0.97                    1.03       1932   \n",
       "15795                     10.00                    0.18       1981   \n",
       "\n",
       "       career_Length  median_inter_event_time  movies_produced  \n",
       "31964              1                      0.0                1  \n",
       "13631             15                      3.5                5  \n",
       "6666               9                      2.0                4  \n",
       "32039              5                      0.0                6  \n",
       "33901              4                      3.0                2  \n",
       "...              ...                      ...              ...  \n",
       "6265              13                      3.0                5  \n",
       "11284             22                      0.0               27  \n",
       "38158              2                      1.0                2  \n",
       "860               30                      1.0               31  \n",
       "15795             11                     10.0                2  \n",
       "\n",
       "[33303 rows x 10 columns]"
      ]
     },
     "execution_count": 48,
     "metadata": {},
     "output_type": "execute_result"
    }
   ],
   "source": [
    "X_train"
   ]
  },
  {
   "cell_type": "code",
   "execution_count": 36,
   "metadata": {
    "scrolled": true
   },
   "outputs": [],
   "source": [
    "# # Divide the data into training and test\n",
    "\n",
    "# X_train, X_test, y_train, y_test = divide_test_train_with_scaling_methods(balanced_director_data,scalingMethod=\"None\")\n",
    "# X_train, X_test, y_train, y_test = divide_test_train_with_scaling_methods(balanced_director_data,scalingMethod=\"MinMaxScaler\")"
   ]
  },
  {
   "cell_type": "markdown",
   "metadata": {},
   "source": [
    "# Plot Confusion Matrix"
   ]
  },
  {
   "cell_type": "code",
   "execution_count": 37,
   "metadata": {},
   "outputs": [],
   "source": [
    "import matplotlib.pyplot as plt\n",
    "%matplotlib inline\n",
    "\n",
    "def plot_confusion_matrix(cm, classes,\n",
    "                          normalize=False,\n",
    "                          title='Confusion matrix',\n",
    "                          cmap=plt.cm.Blues):\n",
    "    \"\"\"\n",
    "    This function prints and plots the confusion matrix.\n",
    "    Normalization can be applied by setting `normalize=True`.\n",
    "    \"\"\"\n",
    "    import itertools\n",
    "    if normalize:\n",
    "        cm = cm.astype('float') / cm.sum(axis=1)[:, np.newaxis]\n",
    "        print(\"Normalized confusion matrix\")\n",
    "    else:\n",
    "        print('Confusion matrix, without normalization')\n",
    "\n",
    "    print(cm)\n",
    "\n",
    "    plt.imshow(cm, interpolation='nearest', cmap=cmap)\n",
    "    plt.title(title)\n",
    "    plt.colorbar()\n",
    "    tick_marks = np.arange(len(classes))\n",
    "    plt.xticks(tick_marks, classes, rotation=45)\n",
    "    plt.yticks(tick_marks, classes)\n",
    "\n",
    "    fmt = '.2f' if normalize else 'd'\n",
    "    thresh = cm.max() / 2.\n",
    "    for i, j in itertools.product(range(cm.shape[0]), range(cm.shape[1])):\n",
    "        plt.text(j, i, format(cm[i, j], fmt),\n",
    "                 horizontalalignment=\"center\",\n",
    "                 color=\"white\" if cm[i, j] > thresh else \"black\")\n",
    "\n",
    "    plt.ylabel('True label')\n",
    "    plt.xlabel('Predicted label')\n",
    "    plt.tight_layout()"
   ]
  },
  {
   "cell_type": "markdown",
   "metadata": {},
   "source": [
    "# Boosting Classifiers"
   ]
  },
  {
   "cell_type": "markdown",
   "metadata": {},
   "source": [
    "### 1.  Gradient Boosting Classifier"
   ]
  },
  {
   "cell_type": "markdown",
   "metadata": {},
   "source": [
    "#### 1a) Identify the optimal Learning rate"
   ]
  },
  {
   "cell_type": "code",
   "execution_count": 38,
   "metadata": {},
   "outputs": [],
   "source": [
    "# optimal_learning_rate = learningRateDF['learning_rate'].loc[learningRateDF.\n",
    "#                                                                 mask((learningRateDF == learningRateDF.min())\n",
    "#                                                                      .cumsum()\n",
    "#                                                                      .astype(bool))\n",
    "#                                                                 [::-1]\n",
    "#                                                                 .idxmax()\n",
    "#                                                                 ['testing_accuracy']]"
   ]
  },
  {
   "cell_type": "code",
   "execution_count": 39,
   "metadata": {},
   "outputs": [],
   "source": [
    "def optimal_learning_rate(X_train, X_test, y_train, y_test):\n",
    "    \n",
    "    lr_list = [0.05, 0.075, 0.1, 0.25, 0.5, 0.75, 1]\n",
    "\n",
    "    col_learningDF = ['learning_rate','training_accuracy','testing_accuracy']\n",
    "    learningRateDF = pd.DataFrame(columns=col_learningDF)\n",
    "\n",
    "    for learning_rate in lr_list:\n",
    "\n",
    "        gb_clf = GradientBoostingClassifier(n_estimators=100,\n",
    "                                            learning_rate=learning_rate,\n",
    "                                            max_leaf_nodes= 32,\n",
    "                                            max_features=2,\n",
    "                                            max_depth=2,\n",
    "                                            random_state= 42 )\n",
    "        gb_clf.fit(X_train, y_train)\n",
    "\n",
    "        accuracy_train_score = gb_clf.score(X_train, y_train)\n",
    "        accuracy_test_score = gb_clf.score(X_test, y_test)\n",
    "\n",
    "        learningRateDF.loc[len(learningRateDF)] = [learning_rate,accuracy_train_score,accuracy_test_score]\n",
    "#         print(\"Learning rate: \", learning_rate)\n",
    "#         print(\"Accuracy score (training): {0:.3f}\".format(accuracy_train_score))\n",
    "#         print(\"Accuracy score (test): {0:.3f}\".format(accuracy_test_score))\n",
    "    print(learningRateDF)\n",
    "\n",
    "    optimal_learning_rate = learningRateDF['learning_rate'].loc[learningRateDF.testing_accuracy.argmax()]\n",
    "\n",
    "# # Script to find the maximum learning_rate where the test_accuracy is maximum\n",
    "\n",
    "#     optimal_learning_rate = learningRateDF['learning_rate'].loc[((learningRateDF == learningRateDF.min())\n",
    "#                                                                  .cumsum()\n",
    "#                                                                  .astype(bool))\n",
    "#                                                                 [::-1].idxmax()\n",
    "#                                                                 ['testing_accuracy']\n",
    "#                                                                ]\n",
    "\n",
    "    return optimal_learning_rate"
   ]
  },
  {
   "cell_type": "code",
   "execution_count": 40,
   "metadata": {},
   "outputs": [
    {
     "name": "stdout",
     "output_type": "stream",
     "text": [
      "   learning_rate  training_accuracy  testing_accuracy\n",
      "0          0.050           0.424136          0.411722\n",
      "1          0.075           0.425487          0.413764\n",
      "2          0.100           0.429211          0.416166\n",
      "3          0.250           0.434946          0.416527\n",
      "4          0.500           0.443864          0.419769\n",
      "5          0.750           0.449539          0.421091\n",
      "6          1.000           0.451731          0.421811\n",
      "\n",
      "The optimal learning rate for XGB Classifier is : 1.0\n"
     ]
    }
   ],
   "source": [
    "chosen_learning_rate_GB = optimal_learning_rate(X_train, X_test, y_train, y_test)\n",
    "print(\"\\nThe optimal learning rate for XGB Classifier is :\",chosen_learning_rate_GB)"
   ]
  },
  {
   "cell_type": "markdown",
   "metadata": {},
   "source": [
    "#### 1b) Model Function"
   ]
  },
  {
   "cell_type": "code",
   "execution_count": 41,
   "metadata": {},
   "outputs": [],
   "source": [
    "def train_model_Gradient_Boosting_classifier(X_train, X_test, y_train, y_test,learning_rate = 1):\n",
    "    \n",
    "    labelDirectorClass = ['terrible','poor','average','excellent']\n",
    "    \n",
    "    \n",
    "    # Classifier parameters    \n",
    "    gb_clf2 = GradientBoostingClassifier(n_estimators=100,\n",
    "                                         learning_rate=learning_rate,\n",
    "                                         max_leaf_nodes= 32,\n",
    "                                         max_features=2,\n",
    "                                         max_depth=2,\n",
    "                                         random_state= 42\n",
    "                                        )\n",
    "    gb_clf2.fit(X_train, y_train)\n",
    "    \n",
    "    # Predict classes\n",
    "    y_pred = gb_clf2.predict(X_test)\n",
    "    \n",
    "    cnf_matrix = confusion_matrix(y_test, y_pred,labels= labelDirectorClass )\n",
    "#     np.set_printoptions(precision=2)\n",
    "    \n",
    "    # Plot non-normalized confusion matrix\n",
    "    plt.figure()\n",
    "    plot_confusion_matrix(cnf_matrix, classes= labelDirectorClass,\n",
    "                      title='Confusion matrix, without normalization')\n",
    "    \n",
    "    \n",
    "    gb_train_score = gb_clf2.score(X_train, y_train)\n",
    "    print(\"Training Score of Gradient Boosting Classifier: \",round(gb_train_score,3))\n",
    "    \n",
    "    gb_test_score = gb_clf2.score(X_test, y_test)\n",
    "    print(\"\\nTesting Score of Gradient Boosting Classifier : \",round(gb_test_score,3))\n",
    "\n",
    "#     print(\"\\nConfusion Matrix:\\n\")\n",
    "#     print(cnf_matrix)\n",
    "\n",
    "    print(\"\\nClassification Report\\n\")\n",
    "#     print(classification_report(y_test, y_pred))\n",
    "    print(classification_report(y_test, y_pred, labels = labelDirectorClass ))\n",
    "    \n",
    "    # Performance metrics\n",
    "    \n",
    "#     print( \"Overall Precision score : \",round(metrics.precision_score(y_test, y_pred, average='macro'),3))\n",
    "#     print( \"\\nOverall Recall score : \",round(metrics.recall_score(y_test, y_pred, average='macro'),3))\n",
    "    print( \"\\nAUC : \",round(multiclass_roc_auc_score(y_test, y_pred),3))\n",
    "    print( \"Matthews_corrcoef : \", round(metrics.matthews_corrcoef(y_test, y_pred),3))\n",
    "       \n",
    "    return gb_clf2"
   ]
  },
  {
   "cell_type": "markdown",
   "metadata": {},
   "source": [
    "#### 1c) Run Results of Gradient Boosting Model"
   ]
  },
  {
   "cell_type": "code",
   "execution_count": 42,
   "metadata": {},
   "outputs": [
    {
     "name": "stdout",
     "output_type": "stream",
     "text": [
      "Confusion matrix, without normalization\n",
      "[[1429  305  150  170]\n",
      " [ 936  468  311  424]\n",
      " [ 559  330  467  710]\n",
      " [ 393  192  334 1148]]\n",
      "Training Score of Gradient Boosting Classifier:  0.452\n",
      "\n",
      "Testing Score of Gradient Boosting Classifier :  0.422\n",
      "\n",
      "Classification Report\n",
      "\n",
      "              precision    recall  f1-score   support\n",
      "\n",
      "    terrible       0.43      0.70      0.53      2054\n",
      "        poor       0.36      0.22      0.27      2139\n",
      "     average       0.37      0.23      0.28      2066\n",
      "   excellent       0.47      0.56      0.51      2067\n",
      "\n",
      "    accuracy                           0.42      8326\n",
      "   macro avg       0.41      0.42      0.40      8326\n",
      "weighted avg       0.41      0.42      0.40      8326\n",
      "\n",
      "\n",
      "AUC :  0.616\n",
      "Matthews_corrcoef :  0.237\n"
     ]
    },
    {
     "data": {
      "text/plain": [
       "GradientBoostingClassifier(ccp_alpha=0.0, criterion='friedman_mse', init=None,\n",
       "                           learning_rate=1.0, loss='deviance', max_depth=2,\n",
       "                           max_features=2, max_leaf_nodes=32,\n",
       "                           min_impurity_decrease=0.0, min_impurity_split=None,\n",
       "                           min_samples_leaf=1, min_samples_split=2,\n",
       "                           min_weight_fraction_leaf=0.0, n_estimators=100,\n",
       "                           n_iter_no_change=None, presort='deprecated',\n",
       "                           random_state=42, subsample=1.0, tol=0.0001,\n",
       "                           validation_fraction=0.1, verbose=0,\n",
       "                           warm_start=False)"
      ]
     },
     "execution_count": 42,
     "metadata": {},
     "output_type": "execute_result"
    },
    {
     "data": {
      "image/png": "[encoded data removed]",
      "text/plain": [
       "<Figure size 432x288 with 2 Axes>"
      ]
     },
     "metadata": {
      "needs_background": "light"
     },
     "output_type": "display_data"
    }
   ],
   "source": [
    "train_model_Gradient_Boosting_classifier(X_train, X_test, y_train, y_test,learning_rate = chosen_learning_rate_GB)\n",
    "# tn, fp, fn, tp"
   ]
  },
  {
   "cell_type": "markdown",
   "metadata": {},
   "source": [
    "### 2. XGB Classifier"
   ]
  },
  {
   "cell_type": "markdown",
   "metadata": {},
   "source": [
    "#### 2b) Optimal learning rate"
   ]
  },
  {
   "cell_type": "code",
   "execution_count": 43,
   "metadata": {},
   "outputs": [],
   "source": [
    "def optimal_learning_rate_xgb(X_train, X_test, y_train, y_test):\n",
    "    \n",
    "    lr_list = [0.05, 0.075, 0.1, 0.25, 0.5, 0.75, 1]\n",
    "\n",
    "    col_learningDF = ['learning_rate','training_accuracy','testing_accuracy']\n",
    "    learningRateDF = pd.DataFrame(columns=col_learningDF)\n",
    "\n",
    "    for learning_rate in lr_list:\n",
    "\n",
    "        xgb_clf = XGBClassifier(n_estimators=100,\n",
    "                                learning_rate=learning_rate,\n",
    "                                max_leaf_nodes= 32,\n",
    "                                max_features=2,\n",
    "                                max_depth=2,\n",
    "                                random_state= 42\n",
    "                               )\n",
    "        \n",
    "        xgb_clf.fit(X_train, y_train)\n",
    "\n",
    "        accuracy_train_score = xgb_clf.score(X_train, y_train)\n",
    "        accuracy_test_score = xgb_clf.score(X_test, y_test)\n",
    "\n",
    "        learningRateDF.loc[len(learningRateDF)] = [learning_rate,accuracy_train_score,accuracy_test_score]\n",
    "#         print(\"Learning rate: \", learning_rate)\n",
    "#         print(\"Accuracy score (training): {0:.3f}\".format(accuracy_train_score))\n",
    "#         print(\"Accuracy score (test): {0:.3f}\".format(accuracy_test_score))\n",
    "    print(learningRateDF)\n",
    "\n",
    "    optimal_learning_rate = learningRateDF['learning_rate'].loc[learningRateDF.testing_accuracy.argmax()]\n",
    "\n",
    "# # Script to find the maximum learning_rate where the test_accuracy is maximum\n",
    "\n",
    "#     optimal_learning_rate = learningRateDF['learning_rate'].loc[((learningRateDF == learningRateDF.min())\n",
    "#                                                                  .cumsum()\n",
    "#                                                                  .astype(bool))\n",
    "#                                                                 [::-1].idxmax()\n",
    "#                                                                 ['testing_accuracy']\n",
    "#                                                                ]\n",
    "\n",
    "    return optimal_learning_rate"
   ]
  },
  {
   "cell_type": "code",
   "execution_count": 44,
   "metadata": {},
   "outputs": [
    {
     "name": "stdout",
     "output_type": "stream",
     "text": [
      "   learning_rate  training_accuracy  testing_accuracy\n",
      "0          0.050           0.419272          0.408960\n",
      "1          0.075           0.424406          0.411362\n",
      "2          0.100           0.427739          0.411482\n",
      "3          0.250           0.435757          0.416406\n",
      "4          0.500           0.445485          0.421211\n",
      "5          0.750           0.452572          0.423012\n",
      "6          1.000           0.455755          0.418088\n",
      "\n",
      "The optimal learning rate for XGB Classifier is : 0.75\n"
     ]
    }
   ],
   "source": [
    "chosen_learning_rate_XGB = optimal_learning_rate_xgb(X_train, X_test, y_train, y_test)\n",
    "print(\"\\nThe optimal learning rate for XGB Classifier is :\",chosen_learning_rate_XGB)"
   ]
  },
  {
   "cell_type": "markdown",
   "metadata": {},
   "source": [
    "#### 2b) Model Function"
   ]
  },
  {
   "cell_type": "code",
   "execution_count": 45,
   "metadata": {},
   "outputs": [],
   "source": [
    "def train_model_XGB_classifier(X_train, X_test, y_train, y_test,learning_rate = 1):\n",
    "    \n",
    "    labelDirectorClass = ['terrible','poor','average','excellent']\n",
    "    \n",
    "    # Classifier parameters    \n",
    "\n",
    "    xgb_clf = XGBClassifier(n_estimators=100,\n",
    "                            learning_rate=learning_rate,\n",
    "                            max_leaf_nodes= 32,\n",
    "                            max_features=2,\n",
    "                            max_depth=2,\n",
    "                            random_state= 42\n",
    "                           )\n",
    "    \n",
    "    xgb_clf.fit(X_train, y_train)\n",
    "    \n",
    "    # Predict classes\n",
    "    y_pred = xgb_clf.predict(X_test)\n",
    "    \n",
    "    cnf_matrix = confusion_matrix(y_test, y_pred,labels= labelDirectorClass )\n",
    "    np.set_printoptions(precision=2)\n",
    "    \n",
    "    # Plot non-normalized confusion matrix\n",
    "    plt.figure()\n",
    "    plot_confusion_matrix(cnf_matrix, classes= labelDirectorClass,\n",
    "                      title='Confusion matrix, without normalization')\n",
    "    \n",
    "    xgb_train_score = xgb_clf.score(X_train, y_train)\n",
    "    print(\"\\nTraining Score : \",round(xgb_train_score,3))\n",
    "    \n",
    "    xgb_test_score = xgb_clf.score(X_test, y_test)\n",
    "    print(\"\\nTesting Score : \",round(xgb_test_score,3))\n",
    "\n",
    "#     print(\"\\nConfusion Matrix:\\n\")\n",
    "#     print(cnf_matrix)\n",
    "\n",
    "    print(\"\\nClassification Report\\n\")\n",
    "    print(classification_report(y_test, y_pred, labels = labelDirectorClass ))\n",
    "    \n",
    "    # Performance metrics\n",
    "    \n",
    "#     print( \"Overall Precision score : \",round(metrics.precision_score(y_test, y_pred, average='macro'),3))\n",
    "#     print( \"\\nOverall Recall score : \",round(metrics.recall_score(y_test, y_pred, average='macro'),3))\n",
    "    print( \"\\nAUC : \",round(multiclass_roc_auc_score(y_test, y_pred),3))\n",
    "    print( \"Matthews_corrcoef : \", round(metrics.matthews_corrcoef(y_test, y_pred),3))\n",
    "    \n",
    "    return xgb_clf"
   ]
  },
  {
   "cell_type": "markdown",
   "metadata": {},
   "source": [
    "###  2c) Run results of XGB Model"
   ]
  },
  {
   "cell_type": "code",
   "execution_count": 46,
   "metadata": {},
   "outputs": [
    {
     "name": "stdout",
     "output_type": "stream",
     "text": [
      "Confusion matrix, without normalization\n",
      "[[1438  289  167  160]\n",
      " [ 941  471  303  424]\n",
      " [ 574  339  428  725]\n",
      " [ 395  198  289 1185]]\n",
      "\n",
      "Training Score :  0.453\n",
      "\n",
      "Testing Score :  0.423\n",
      "\n",
      "Classification Report\n",
      "\n",
      "              precision    recall  f1-score   support\n",
      "\n",
      "    terrible       0.43      0.70      0.53      2054\n",
      "        poor       0.36      0.22      0.27      2139\n",
      "     average       0.36      0.21      0.26      2066\n",
      "   excellent       0.48      0.57      0.52      2067\n",
      "\n",
      "    accuracy                           0.42      8326\n",
      "   macro avg       0.41      0.43      0.40      8326\n",
      "weighted avg       0.41      0.42      0.40      8326\n",
      "\n",
      "\n",
      "AUC :  0.617\n",
      "Matthews_corrcoef :  0.24\n"
     ]
    },
    {
     "data": {
      "image/png": "[encoded data removed]",
      "text/plain": [
       "<Figure size 432x288 with 2 Axes>"
      ]
     },
     "metadata": {
      "needs_background": "light"
     },
     "output_type": "display_data"
    }
   ],
   "source": [
    "xgb_clf = train_model_XGB_classifier(X_train, X_test, y_train, y_test,learning_rate = chosen_learning_rate_XGB)\n",
    "# tn, fp, fn, tp"
   ]
  },
  {
   "cell_type": "code",
   "execution_count": 47,
   "metadata": {},
   "outputs": [
    {
     "ename": "SyntaxError",
     "evalue": "'break' outside loop (<ipython-input-47-6aaf1f276005>, line 4)",
     "output_type": "error",
     "traceback": [
      "\u001b[1;36m  File \u001b[1;32m\"<ipython-input-47-6aaf1f276005>\"\u001b[1;36m, line \u001b[1;32m4\u001b[0m\n\u001b[1;31mSyntaxError\u001b[0m\u001b[1;31m:\u001b[0m 'break' outside loop\n"
     ]
    }
   ],
   "source": [
    "break"
   ]
  },
  {
   "cell_type": "markdown",
   "metadata": {},
   "source": [
    "# END"
   ]
  },
  {
   "cell_type": "markdown",
   "metadata": {},
   "source": [
    "## Feature Importance"
   ]
  },
  {
   "cell_type": "code",
   "execution_count": null,
   "metadata": {},
   "outputs": [],
   "source": [
    "X_test.columns.values"
   ]
  },
  {
   "cell_type": "code",
   "execution_count": null,
   "metadata": {},
   "outputs": [],
   "source": [
    "feature_imp_xgb = xgb_clf.feature_importances_"
   ]
  },
  {
   "cell_type": "code",
   "execution_count": null,
   "metadata": {},
   "outputs": [],
   "source": [
    "feature_imp_xgb"
   ]
  },
  {
   "cell_type": "code",
   "execution_count": null,
   "metadata": {},
   "outputs": [],
   "source": [
    "feature_imp_xgb[feature_imp_xgb>0.05]"
   ]
  },
  {
   "cell_type": "code",
   "execution_count": null,
   "metadata": {},
   "outputs": [],
   "source": [
    "# plot\n",
    "pyplot.bar(range(len(model.feature_importances_)), model.feature_importances_)\n",
    "pyplot.show()"
   ]
  },
  {
   "cell_type": "code",
   "execution_count": null,
   "metadata": {},
   "outputs": [],
   "source": []
  },
  {
   "cell_type": "code",
   "execution_count": null,
   "metadata": {},
   "outputs": [],
   "source": []
  },
  {
   "cell_type": "code",
   "execution_count": null,
   "metadata": {},
   "outputs": [],
   "source": [
    "from xgboost import plot_importance"
   ]
  },
  {
   "cell_type": "code",
   "execution_count": null,
   "metadata": {},
   "outputs": [],
   "source": [
    "# plot feature importance\n",
    "plot_importance(xgb_clf)"
   ]
  },
  {
   "cell_type": "markdown",
   "metadata": {},
   "source": [
    "## Feature selection of XGB"
   ]
  },
  {
   "cell_type": "code",
   "execution_count": null,
   "metadata": {},
   "outputs": [],
   "source": [
    "from sklearn.feature_selection import SelectFromModel"
   ]
  },
  {
   "cell_type": "code",
   "execution_count": null,
   "metadata": {},
   "outputs": [],
   "source": [
    "# select features using threshold\n",
    "selection = SelectFromModel(estimator = xgb_clf, threshold='median', prefit=True)\n",
    "select_X_train = selection.transform(X_train)"
   ]
  },
  {
   "cell_type": "code",
   "execution_count": null,
   "metadata": {
    "scrolled": true
   },
   "outputs": [],
   "source": [
    "# train model\n",
    "selection_model = XGBClassifier(n_estimators = 100,\n",
    "                                learning_rate = 0.1,\n",
    "                                max_leaf_nodes = 32,\n",
    "                                max_features = 2,\n",
    "                                max_depth = 2,\n",
    "                                random_state = 42\n",
    "                                )\n",
    "\n",
    "selection_model.fit(select_X_train, y_train)"
   ]
  },
  {
   "cell_type": "code",
   "execution_count": null,
   "metadata": {},
   "outputs": [],
   "source": [
    "# eval model\n",
    "select_X_test = selection.transform(X_test)\n",
    "y_pred = selection_model.predict(select_X_test)"
   ]
  },
  {
   "cell_type": "code",
   "execution_count": null,
   "metadata": {},
   "outputs": [],
   "source": [
    "labelMovieClass = ['poor','average','good','excellent']\n",
    "print(\"Classification Report\")\n",
    "print(classification_report(y_test, y_pred, labels = labelMovieClass ))"
   ]
  },
  {
   "cell_type": "code",
   "execution_count": null,
   "metadata": {},
   "outputs": [],
   "source": []
  },
  {
   "cell_type": "code",
   "execution_count": null,
   "metadata": {},
   "outputs": [],
   "source": []
  },
  {
   "cell_type": "code",
   "execution_count": null,
   "metadata": {},
   "outputs": [],
   "source": []
  },
  {
   "cell_type": "code",
   "execution_count": null,
   "metadata": {},
   "outputs": [],
   "source": [
    "# Feature importance based on contribution to the classifier model\n",
    "print(\"\\nAbsolute contributions\\n\")\n",
    "absoluteListOrder = print_feature_importances(abs(trainedSVClassifier.coef_[0]), featuresSelected)\n",
    "for j in absoluteListOrder:\n",
    "    print(j)"
   ]
  },
  {
   "cell_type": "code",
   "execution_count": null,
   "metadata": {},
   "outputs": [],
   "source": [
    "print(\"\\nPositive and Negative contributions\\n\")\n",
    "listOrder = print_feature_importances((trainedSVClassifier.coef_[0]), featuresSelected)\n",
    "for i in listOrder:\n",
    "    print(i)"
   ]
  },
  {
   "cell_type": "markdown",
   "metadata": {},
   "source": [
    "# End"
   ]
  }
 ],
 "metadata": {
  "kernelspec": {
   "display_name": "Python 3",
   "language": "python",
   "name": "python3"
  },
  "language_info": {
   "codemirror_mode": {
    "name": "ipython",
    "version": 3
   },
   "file_extension": ".py",
   "mimetype": "text/x-python",
   "name": "python",
   "nbconvert_exporter": "python",
   "pygments_lexer": "ipython3",
   "version": "3.7.3"
  }
 },
 "nbformat": 4,
 "nbformat_minor": 4
}
