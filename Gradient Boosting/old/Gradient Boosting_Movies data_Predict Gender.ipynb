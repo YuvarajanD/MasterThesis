{
 "cells": [
  {
   "cell_type": "code",
   "execution_count": 1,
   "metadata": {},
   "outputs": [],
   "source": [
    "import pandas as pd\n",
    "import numpy as np\n",
    "\n",
    "#Plotting\n",
    "%matplotlib inline\n",
    "import matplotlib as mpl\n",
    "import matplotlib.pyplot as plt\n",
    "import seaborn as sns\n",
    "\n",
    "# ML Libraries\n",
    "\n",
    "from sklearn.model_selection import train_test_split\n",
    "from sklearn.metrics import classification_report, confusion_matrix\n",
    "\n",
    "# Boosting classifiers\n",
    "from sklearn.preprocessing import MinMaxScaler\n",
    "from sklearn.ensemble import GradientBoostingClassifier\n",
    "from xgboost import XGBClassifier\n",
    "\n",
    "# Save model\n",
    "import pickle\n",
    "import joblib"
   ]
  },
  {
   "cell_type": "code",
   "execution_count": 2,
   "metadata": {},
   "outputs": [],
   "source": [
    "# fileLocation = 'C:\\\\Users\\\\VictorY\\\\Desktop\\\\TestData\\\\stage3FinalProcessedDF_Nov-17-2019.csv'\n",
    "# moviesDataFileLocation = 'C:\\\\Yuva\\\\ITU\\\\4th Sem\\\\Thesis\\\\Data\\\\Final_Data_Movies_Directors.csv'\n",
    "moviesDataFileLocation = 'C:\\\\Yuva\\\\ITU\\\\4th Sem\\\\Thesis\\\\Data\\\\Movies_director_data_3709_119Features.csv'\n",
    "saveFileToPath = \"C:\\\\Yuva\\\\ITU\\\\4th Sem\\\\Thesis\\\\Data\\\\\"\n",
    "\n",
    "movies_data = pd.read_csv(moviesDataFileLocation)"
   ]
  },
  {
   "cell_type": "code",
   "execution_count": 3,
   "metadata": {},
   "outputs": [
    {
     "name": "stdout",
     "output_type": "stream",
     "text": [
      "<class 'pandas.core.frame.DataFrame'>\n",
      "RangeIndex: 3709 entries, 0 to 3708\n",
      "Columns: 119 entries, director_ids to Gender\n",
      "dtypes: float64(6), int64(107), object(6)\n",
      "memory usage: 3.4+ MB\n"
     ]
    }
   ],
   "source": [
    "movies_data.info()"
   ]
  },
  {
   "cell_type": "code",
   "execution_count": 4,
   "metadata": {},
   "outputs": [
    {
     "data": {
      "text/html": [
       "<div>\n",
       "<style scoped>\n",
       "    .dataframe tbody tr th:only-of-type {\n",
       "        vertical-align: middle;\n",
       "    }\n",
       "\n",
       "    .dataframe tbody tr th {\n",
       "        vertical-align: top;\n",
       "    }\n",
       "\n",
       "    .dataframe thead th {\n",
       "        text-align: right;\n",
       "    }\n",
       "</style>\n",
       "<table border=\"1\" class=\"dataframe\">\n",
       "  <thead>\n",
       "    <tr style=\"text-align: right;\">\n",
       "      <th></th>\n",
       "      <th>director_ids</th>\n",
       "      <th>director_names</th>\n",
       "      <th>movie_id</th>\n",
       "      <th>title</th>\n",
       "      <th>review_count_user</th>\n",
       "      <th>review_count_critic</th>\n",
       "      <th>metascore</th>\n",
       "      <th>rating_value</th>\n",
       "      <th>rating_count</th>\n",
       "      <th>release_date</th>\n",
       "      <th>...</th>\n",
       "      <th>title_subcategory_TV_short</th>\n",
       "      <th>title_subcategory_movie</th>\n",
       "      <th>title_subcategory_video</th>\n",
       "      <th>birthYear</th>\n",
       "      <th>director_profession_primary</th>\n",
       "      <th>director_profession_secondary</th>\n",
       "      <th>director_profession_tertiary</th>\n",
       "      <th>director_known_titles_count</th>\n",
       "      <th>director_known_titles_average_rating_value</th>\n",
       "      <th>Gender</th>\n",
       "    </tr>\n",
       "  </thead>\n",
       "  <tbody>\n",
       "    <tr>\n",
       "      <th>0</th>\n",
       "      <td>nm0000485</td>\n",
       "      <td>Fritz Lang</td>\n",
       "      <td>tt0017136</td>\n",
       "      <td>Metropolis (1927) - IMDb</td>\n",
       "      <td>418</td>\n",
       "      <td>263</td>\n",
       "      <td>98</td>\n",
       "      <td>8.3</td>\n",
       "      <td>114917</td>\n",
       "      <td>5 March 1927 (Denmark)    See more »</td>\n",
       "      <td>...</td>\n",
       "      <td>0</td>\n",
       "      <td>1</td>\n",
       "      <td>0</td>\n",
       "      <td>1890</td>\n",
       "      <td>1</td>\n",
       "      <td>0</td>\n",
       "      <td>0</td>\n",
       "      <td>8</td>\n",
       "      <td>7.93</td>\n",
       "      <td>Male</td>\n",
       "    </tr>\n",
       "    <tr>\n",
       "      <th>1</th>\n",
       "      <td>nm0000122</td>\n",
       "      <td>Charles Chaplin</td>\n",
       "      <td>tt0027977</td>\n",
       "      <td>Les temps modernes (1936) - IMDb</td>\n",
       "      <td>213</td>\n",
       "      <td>119</td>\n",
       "      <td>96</td>\n",
       "      <td>8.6</td>\n",
       "      <td>147990</td>\n",
       "      <td>24 September 1936 (France)    See more »</td>\n",
       "      <td>...</td>\n",
       "      <td>0</td>\n",
       "      <td>1</td>\n",
       "      <td>0</td>\n",
       "      <td>1889</td>\n",
       "      <td>0</td>\n",
       "      <td>0</td>\n",
       "      <td>0</td>\n",
       "      <td>4</td>\n",
       "      <td>8.30</td>\n",
       "      <td>Male</td>\n",
       "    </tr>\n",
       "    <tr>\n",
       "      <th>2</th>\n",
       "      <td>nm0281808</td>\n",
       "      <td>Victor Fleming</td>\n",
       "      <td>tt0032138</td>\n",
       "      <td>Óz, a csodák csodája (1939) - IMDb</td>\n",
       "      <td>540</td>\n",
       "      <td>213</td>\n",
       "      <td>100</td>\n",
       "      <td>8.1</td>\n",
       "      <td>299644</td>\n",
       "      <td>21 March 1940 (Hungary)    See more »</td>\n",
       "      <td>...</td>\n",
       "      <td>0</td>\n",
       "      <td>1</td>\n",
       "      <td>0</td>\n",
       "      <td>1889</td>\n",
       "      <td>1</td>\n",
       "      <td>0</td>\n",
       "      <td>0</td>\n",
       "      <td>4</td>\n",
       "      <td>7.55</td>\n",
       "      <td>Male</td>\n",
       "    </tr>\n",
       "    <tr>\n",
       "      <th>3</th>\n",
       "      <td>nm0002030</td>\n",
       "      <td>George Cukor</td>\n",
       "      <td>tt0032138</td>\n",
       "      <td>Óz, a csodák csodája (1939) - IMDb</td>\n",
       "      <td>540</td>\n",
       "      <td>213</td>\n",
       "      <td>100</td>\n",
       "      <td>8.1</td>\n",
       "      <td>299644</td>\n",
       "      <td>21 March 1940 (Hungary)    See more »</td>\n",
       "      <td>...</td>\n",
       "      <td>0</td>\n",
       "      <td>1</td>\n",
       "      <td>0</td>\n",
       "      <td>1899</td>\n",
       "      <td>1</td>\n",
       "      <td>0</td>\n",
       "      <td>0</td>\n",
       "      <td>4</td>\n",
       "      <td>7.60</td>\n",
       "      <td>Male</td>\n",
       "    </tr>\n",
       "    <tr>\n",
       "      <th>4</th>\n",
       "      <td>nm0003506</td>\n",
       "      <td>James Mangold</td>\n",
       "      <td>tt0035423</td>\n",
       "      <td>Kate &amp; Leopold (2001) - IMDb</td>\n",
       "      <td>317</td>\n",
       "      <td>124</td>\n",
       "      <td>44</td>\n",
       "      <td>6.4</td>\n",
       "      <td>65765</td>\n",
       "      <td>25 December 2001 (USA)    See more »</td>\n",
       "      <td>...</td>\n",
       "      <td>0</td>\n",
       "      <td>1</td>\n",
       "      <td>0</td>\n",
       "      <td>1963</td>\n",
       "      <td>0</td>\n",
       "      <td>1</td>\n",
       "      <td>0</td>\n",
       "      <td>4</td>\n",
       "      <td>7.45</td>\n",
       "      <td>Male</td>\n",
       "    </tr>\n",
       "    <tr>\n",
       "      <th>...</th>\n",
       "      <td>...</td>\n",
       "      <td>...</td>\n",
       "      <td>...</td>\n",
       "      <td>...</td>\n",
       "      <td>...</td>\n",
       "      <td>...</td>\n",
       "      <td>...</td>\n",
       "      <td>...</td>\n",
       "      <td>...</td>\n",
       "      <td>...</td>\n",
       "      <td>...</td>\n",
       "      <td>...</td>\n",
       "      <td>...</td>\n",
       "      <td>...</td>\n",
       "      <td>...</td>\n",
       "      <td>...</td>\n",
       "      <td>...</td>\n",
       "      <td>...</td>\n",
       "      <td>...</td>\n",
       "      <td>...</td>\n",
       "      <td>...</td>\n",
       "    </tr>\n",
       "    <tr>\n",
       "      <th>3704</th>\n",
       "      <td>nm1503575</td>\n",
       "      <td>Barry Jenkins</td>\n",
       "      <td>tt4975722</td>\n",
       "      <td>Moonlight (2016) - IMDb</td>\n",
       "      <td>75</td>\n",
       "      <td>159</td>\n",
       "      <td>99</td>\n",
       "      <td>8.7</td>\n",
       "      <td>7304</td>\n",
       "      <td>18 November 2016 (USA)    See more »</td>\n",
       "      <td>...</td>\n",
       "      <td>0</td>\n",
       "      <td>1</td>\n",
       "      <td>0</td>\n",
       "      <td>1979</td>\n",
       "      <td>1</td>\n",
       "      <td>0</td>\n",
       "      <td>0</td>\n",
       "      <td>3</td>\n",
       "      <td>7.67</td>\n",
       "      <td>Male</td>\n",
       "    </tr>\n",
       "    <tr>\n",
       "      <th>3705</th>\n",
       "      <td>nm2480587</td>\n",
       "      <td>Charles Ferguson</td>\n",
       "      <td>tt5001130</td>\n",
       "      <td>Time to Choose (2015) - IMDb</td>\n",
       "      <td>3</td>\n",
       "      <td>7</td>\n",
       "      <td>75</td>\n",
       "      <td>7.2</td>\n",
       "      <td>109</td>\n",
       "      <td>3 June 2016 (USA)    See more »</td>\n",
       "      <td>...</td>\n",
       "      <td>0</td>\n",
       "      <td>1</td>\n",
       "      <td>0</td>\n",
       "      <td>1955</td>\n",
       "      <td>0</td>\n",
       "      <td>1</td>\n",
       "      <td>0</td>\n",
       "      <td>6</td>\n",
       "      <td>7.93</td>\n",
       "      <td>Male</td>\n",
       "    </tr>\n",
       "    <tr>\n",
       "      <th>3706</th>\n",
       "      <td>nm2207625</td>\n",
       "      <td>Kleber Mendonça Filho</td>\n",
       "      <td>tt5221584</td>\n",
       "      <td>Aquarius (2016) - IMDb</td>\n",
       "      <td>11</td>\n",
       "      <td>77</td>\n",
       "      <td>87</td>\n",
       "      <td>7.8</td>\n",
       "      <td>8101</td>\n",
       "      <td>28 September 2016 (France)    See more »</td>\n",
       "      <td>...</td>\n",
       "      <td>0</td>\n",
       "      <td>1</td>\n",
       "      <td>0</td>\n",
       "      <td>1968</td>\n",
       "      <td>1</td>\n",
       "      <td>0</td>\n",
       "      <td>0</td>\n",
       "      <td>3</td>\n",
       "      <td>7.23</td>\n",
       "      <td>Male</td>\n",
       "    </tr>\n",
       "    <tr>\n",
       "      <th>3707</th>\n",
       "      <td>nm1347153</td>\n",
       "      <td>Tyler Perry</td>\n",
       "      <td>tt5325452</td>\n",
       "      <td>Boo! A Madea Halloween (2016) - IMDb</td>\n",
       "      <td>32</td>\n",
       "      <td>28</td>\n",
       "      <td>30</td>\n",
       "      <td>4.6</td>\n",
       "      <td>2421</td>\n",
       "      <td>21 October 2016 (USA)    See more »</td>\n",
       "      <td>...</td>\n",
       "      <td>0</td>\n",
       "      <td>1</td>\n",
       "      <td>0</td>\n",
       "      <td>1969</td>\n",
       "      <td>1</td>\n",
       "      <td>0</td>\n",
       "      <td>0</td>\n",
       "      <td>8</td>\n",
       "      <td>5.75</td>\n",
       "      <td>Male</td>\n",
       "    </tr>\n",
       "    <tr>\n",
       "      <th>3708</th>\n",
       "      <td>nm5558989</td>\n",
       "      <td>Benjamin Ree</td>\n",
       "      <td>tt5471480</td>\n",
       "      <td>Magnus (2016) - IMDb</td>\n",
       "      <td>4</td>\n",
       "      <td>29</td>\n",
       "      <td>52</td>\n",
       "      <td>7.1</td>\n",
       "      <td>830</td>\n",
       "      <td>2 September 2016 (Norway)    See more »</td>\n",
       "      <td>...</td>\n",
       "      <td>0</td>\n",
       "      <td>1</td>\n",
       "      <td>0</td>\n",
       "      <td>1989</td>\n",
       "      <td>1</td>\n",
       "      <td>0</td>\n",
       "      <td>0</td>\n",
       "      <td>1</td>\n",
       "      <td>7.10</td>\n",
       "      <td>Male</td>\n",
       "    </tr>\n",
       "  </tbody>\n",
       "</table>\n",
       "<p>3709 rows × 119 columns</p>\n",
       "</div>"
      ],
      "text/plain": [
       "     director_ids         director_names   movie_id  \\\n",
       "0       nm0000485             Fritz Lang  tt0017136   \n",
       "1       nm0000122        Charles Chaplin  tt0027977   \n",
       "2       nm0281808         Victor Fleming  tt0032138   \n",
       "3       nm0002030           George Cukor  tt0032138   \n",
       "4       nm0003506          James Mangold  tt0035423   \n",
       "...           ...                    ...        ...   \n",
       "3704    nm1503575          Barry Jenkins  tt4975722   \n",
       "3705    nm2480587       Charles Ferguson  tt5001130   \n",
       "3706    nm2207625  Kleber Mendonça Filho  tt5221584   \n",
       "3707    nm1347153            Tyler Perry  tt5325452   \n",
       "3708    nm5558989           Benjamin Ree  tt5471480   \n",
       "\n",
       "                                     title  review_count_user  \\\n",
       "0                 Metropolis (1927) - IMDb                418   \n",
       "1         Les temps modernes (1936) - IMDb                213   \n",
       "2       Óz, a csodák csodája (1939) - IMDb                540   \n",
       "3       Óz, a csodák csodája (1939) - IMDb                540   \n",
       "4             Kate & Leopold (2001) - IMDb                317   \n",
       "...                                    ...                ...   \n",
       "3704               Moonlight (2016) - IMDb                 75   \n",
       "3705          Time to Choose (2015) - IMDb                  3   \n",
       "3706                Aquarius (2016) - IMDb                 11   \n",
       "3707  Boo! A Madea Halloween (2016) - IMDb                 32   \n",
       "3708                  Magnus (2016) - IMDb                  4   \n",
       "\n",
       "      review_count_critic  metascore  rating_value  rating_count  \\\n",
       "0                     263         98           8.3        114917   \n",
       "1                     119         96           8.6        147990   \n",
       "2                     213        100           8.1        299644   \n",
       "3                     213        100           8.1        299644   \n",
       "4                     124         44           6.4         65765   \n",
       "...                   ...        ...           ...           ...   \n",
       "3704                  159         99           8.7          7304   \n",
       "3705                    7         75           7.2           109   \n",
       "3706                   77         87           7.8          8101   \n",
       "3707                   28         30           4.6          2421   \n",
       "3708                   29         52           7.1           830   \n",
       "\n",
       "                                   release_date  ...  \\\n",
       "0          5 March 1927 (Denmark)    See more »  ...   \n",
       "1      24 September 1936 (France)    See more »  ...   \n",
       "2         21 March 1940 (Hungary)    See more »  ...   \n",
       "3         21 March 1940 (Hungary)    See more »  ...   \n",
       "4          25 December 2001 (USA)    See more »  ...   \n",
       "...                                         ...  ...   \n",
       "3704       18 November 2016 (USA)    See more »  ...   \n",
       "3705            3 June 2016 (USA)    See more »  ...   \n",
       "3706   28 September 2016 (France)    See more »  ...   \n",
       "3707        21 October 2016 (USA)    See more »  ...   \n",
       "3708    2 September 2016 (Norway)    See more »  ...   \n",
       "\n",
       "      title_subcategory_TV_short  title_subcategory_movie  \\\n",
       "0                              0                        1   \n",
       "1                              0                        1   \n",
       "2                              0                        1   \n",
       "3                              0                        1   \n",
       "4                              0                        1   \n",
       "...                          ...                      ...   \n",
       "3704                           0                        1   \n",
       "3705                           0                        1   \n",
       "3706                           0                        1   \n",
       "3707                           0                        1   \n",
       "3708                           0                        1   \n",
       "\n",
       "      title_subcategory_video  birthYear  director_profession_primary  \\\n",
       "0                           0       1890                            1   \n",
       "1                           0       1889                            0   \n",
       "2                           0       1889                            1   \n",
       "3                           0       1899                            1   \n",
       "4                           0       1963                            0   \n",
       "...                       ...        ...                          ...   \n",
       "3704                        0       1979                            1   \n",
       "3705                        0       1955                            0   \n",
       "3706                        0       1968                            1   \n",
       "3707                        0       1969                            1   \n",
       "3708                        0       1989                            1   \n",
       "\n",
       "      director_profession_secondary  director_profession_tertiary  \\\n",
       "0                                 0                             0   \n",
       "1                                 0                             0   \n",
       "2                                 0                             0   \n",
       "3                                 0                             0   \n",
       "4                                 1                             0   \n",
       "...                             ...                           ...   \n",
       "3704                              0                             0   \n",
       "3705                              1                             0   \n",
       "3706                              0                             0   \n",
       "3707                              0                             0   \n",
       "3708                              0                             0   \n",
       "\n",
       "      director_known_titles_count  director_known_titles_average_rating_value  \\\n",
       "0                               8                                        7.93   \n",
       "1                               4                                        8.30   \n",
       "2                               4                                        7.55   \n",
       "3                               4                                        7.60   \n",
       "4                               4                                        7.45   \n",
       "...                           ...                                         ...   \n",
       "3704                            3                                        7.67   \n",
       "3705                            6                                        7.93   \n",
       "3706                            3                                        7.23   \n",
       "3707                            8                                        5.75   \n",
       "3708                            1                                        7.10   \n",
       "\n",
       "      Gender  \n",
       "0       Male  \n",
       "1       Male  \n",
       "2       Male  \n",
       "3       Male  \n",
       "4       Male  \n",
       "...      ...  \n",
       "3704    Male  \n",
       "3705    Male  \n",
       "3706    Male  \n",
       "3707    Male  \n",
       "3708    Male  \n",
       "\n",
       "[3709 rows x 119 columns]"
      ]
     },
     "execution_count": 4,
     "metadata": {},
     "output_type": "execute_result"
    }
   ],
   "source": [
    "movies_data"
   ]
  },
  {
   "cell_type": "code",
   "execution_count": 5,
   "metadata": {},
   "outputs": [],
   "source": [
    "def balance_gender(dataframe):\n",
    "    female_list_unique_directors = dataframe[(dataframe['Gender'] == 'Female')].director_ids.unique().tolist()\n",
    "    \n",
    "    unique_male_directors = dataframe[(dataframe['Gender'] == 'Male')].director_ids.unique().tolist()\n",
    "    \n",
    "    male_list_unique_directors = np.random.choice(unique_male_directors, replace = False, size = len(female_list_unique_directors)).tolist()\n",
    "    \n",
    "    total_list_unique_directors = female_list_unique_directors + male_list_unique_directors\n",
    "\n",
    "    dataframe = dataframe[dataframe['director_ids'].isin(np.array(total_list_unique_directors).tolist())]\n",
    "\n",
    "    return dataframe"
   ]
  },
  {
   "cell_type": "code",
   "execution_count": 6,
   "metadata": {},
   "outputs": [],
   "source": [
    "# Generic function to equally max split the dataframe with respect to the column Name, in our case the Gender column.\n",
    "\n",
    "def max_equal_split_on_columnName(df,columnName='Gender'):\n",
    "    df1 = pd.DataFrame()\n",
    "    for i in df[columnName].value_counts().index:\n",
    "        df1 = df1.append(df[(df[columnName]==i)].sample(n=df[columnName].value_counts().values.min(),replace = False))        \n",
    "    return df1.reset_index(drop=True)"
   ]
  },
  {
   "cell_type": "code",
   "execution_count": 7,
   "metadata": {},
   "outputs": [
    {
     "data": {
      "text/plain": [
       "(1263, 119)"
      ]
     },
     "execution_count": 7,
     "metadata": {},
     "output_type": "execute_result"
    }
   ],
   "source": [
    "\n",
    "# balanced_movies_data = max_equal_split_on_columnName(movies_data)\n",
    "\n",
    "balanced_movies_data = balance_gender(movies_data)\n",
    "balanced_movies_data.shape"
   ]
  },
  {
   "cell_type": "code",
   "execution_count": 8,
   "metadata": {
    "scrolled": true
   },
   "outputs": [],
   "source": [
    "# # Unique director distribution in max_equal DF\n",
    "# print(\"Unique director distribution - Balanced data split based on Gender\")\n",
    "\n",
    "# balanced_movies_data.drop_duplicates(subset = 'director_ids', keep = 'first').Gender.value_counts()"
   ]
  },
  {
   "cell_type": "code",
   "execution_count": 9,
   "metadata": {},
   "outputs": [],
   "source": [
    "# req_columns = ['review_count_user', 'review_count_critic','rating_value',\n",
    "#                'rating_count','movie_year','birthYear','Gender']"
   ]
  },
  {
   "cell_type": "code",
   "execution_count": 10,
   "metadata": {},
   "outputs": [
    {
     "name": "stderr",
     "output_type": "stream",
     "text": [
      "C:\\Users\\yuvar\\Anaconda3\\lib\\site-packages\\pandas\\core\\generic.py:6746: SettingWithCopyWarning: \n",
      "A value is trying to be set on a copy of a slice from a DataFrame\n",
      "\n",
      "See the caveats in the documentation: https://pandas.pydata.org/pandas-docs/stable/user_guide/indexing.html#returning-a-view-versus-a-copy\n",
      "  self._update_inplace(new_data)\n"
     ]
    }
   ],
   "source": [
    "numericalGender = {\"Male\": 1, \"Female\": 0 }\n",
    "\n",
    "movies_data.Gender.replace(numericalGender,inplace=True)\n",
    "balanced_movies_data.Gender.replace(numericalGender,inplace=True)"
   ]
  },
  {
   "cell_type": "code",
   "execution_count": 11,
   "metadata": {},
   "outputs": [
    {
     "data": {
      "text/plain": [
       "array(['director_ids', 'director_names', 'movie_id', 'title',\n",
       "       'release_date'], dtype=object)"
      ]
     },
     "execution_count": 11,
     "metadata": {},
     "output_type": "execute_result"
    }
   ],
   "source": [
    "object_features_to_remove = movies_data.select_dtypes(include = 'object').columns.values\n",
    "object_features_to_remove"
   ]
  },
  {
   "cell_type": "code",
   "execution_count": 12,
   "metadata": {},
   "outputs": [
    {
     "name": "stdout",
     "output_type": "stream",
     "text": [
      "The shape of our Unbalanced Movies dataset is: (3709, 114)\n"
     ]
    }
   ],
   "source": [
    "# movies_data = movies_data[req_columns]\n",
    "movies_data = movies_data[movies_data.columns.difference(object_features_to_remove)]\n",
    "print('The shape of our Unbalanced Movies dataset is:', movies_data.shape)"
   ]
  },
  {
   "cell_type": "code",
   "execution_count": 13,
   "metadata": {},
   "outputs": [
    {
     "name": "stdout",
     "output_type": "stream",
     "text": [
      "The shape of our Balanced Movies dataset is: (1263, 114)\n"
     ]
    }
   ],
   "source": [
    "# balanced_movies_data = balanced_movies_data[req_columns]\n",
    "balanced_movies_data = balanced_movies_data[balanced_movies_data.columns.difference(object_features_to_remove)]\n",
    "print('The shape of our Balanced Movies dataset is:', balanced_movies_data.shape)"
   ]
  },
  {
   "cell_type": "code",
   "execution_count": 14,
   "metadata": {},
   "outputs": [
    {
     "name": "stdout",
     "output_type": "stream",
     "text": [
      "<class 'pandas.core.frame.DataFrame'>\n",
      "RangeIndex: 3709 entries, 0 to 3708\n",
      "Columns: 114 entries, Gender to title_subcategory_video\n",
      "dtypes: float64(6), int64(108)\n",
      "memory usage: 3.2 MB\n"
     ]
    }
   ],
   "source": [
    "movies_data.info()"
   ]
  },
  {
   "cell_type": "code",
   "execution_count": 15,
   "metadata": {},
   "outputs": [
    {
     "data": {
      "text/plain": [
       "1    3124\n",
       "0     585\n",
       "Name: Gender, dtype: int64"
      ]
     },
     "execution_count": 15,
     "metadata": {},
     "output_type": "execute_result"
    }
   ],
   "source": [
    "movies_data.Gender.value_counts()"
   ]
  },
  {
   "cell_type": "code",
   "execution_count": 16,
   "metadata": {},
   "outputs": [
    {
     "name": "stdout",
     "output_type": "stream",
     "text": [
      "<class 'pandas.core.frame.DataFrame'>\n",
      "Int64Index: 1263 entries, 5 to 3708\n",
      "Columns: 114 entries, Gender to title_subcategory_video\n",
      "dtypes: float64(6), int64(108)\n",
      "memory usage: 1.1 MB\n"
     ]
    }
   ],
   "source": [
    "balanced_movies_data.info()"
   ]
  },
  {
   "cell_type": "code",
   "execution_count": 17,
   "metadata": {},
   "outputs": [
    {
     "data": {
      "text/plain": [
       "1    678\n",
       "0    585\n",
       "Name: Gender, dtype: int64"
      ]
     },
     "execution_count": 17,
     "metadata": {},
     "output_type": "execute_result"
    }
   ],
   "source": [
    "balanced_movies_data.Gender.value_counts()"
   ]
  },
  {
   "cell_type": "markdown",
   "metadata": {},
   "source": [
    "## Divide the data to training and testing - Scaling methods too"
   ]
  },
  {
   "cell_type": "markdown",
   "metadata": {},
   "source": [
    "Check about the Scaling"
   ]
  },
  {
   "cell_type": "code",
   "execution_count": 18,
   "metadata": {},
   "outputs": [],
   "source": [
    "def divide_test_train_with_scaling_methods(df,predict='Gender',scalingMethod = \"MinMaxScaler\"):\n",
    "    \n",
    "    \n",
    "    # Feature matrix and target variable\n",
    "    X = df.drop(predict,axis = 'columns')\n",
    "    y = df[predict]\n",
    "    \n",
    "    # Scaling\n",
    "    if (scalingMethod == \"MinMaxScaler\"):\n",
    "        print(\"The scaling method used is : \",scalingMethod)\n",
    "        scaler = MinMaxScaler()\n",
    "        X_train = scaler.fit_transform(X)\n",
    "        # X_test = scaler.transform(X_test)\n",
    "        \n",
    "    else:\n",
    "        print(\"No Scaling Method used or incorrect input\")\n",
    "        X_train = X\n",
    "    \n",
    "    # Divide the data into training and test sets\n",
    "    X_train, X_test, y_train, y_test = train_test_split(X_train, y, test_size=0.20, random_state = 42 )\n",
    "    \n",
    "    return X_train, X_test, y_train, y_test"
   ]
  },
  {
   "cell_type": "code",
   "execution_count": 19,
   "metadata": {},
   "outputs": [
    {
     "name": "stdout",
     "output_type": "stream",
     "text": [
      "The scaling method used is :  MinMaxScaler\n"
     ]
    }
   ],
   "source": [
    "# Divide the data into training and test\n",
    "\n",
    "# X_train, X_test, y_train, y_test = divide_test_train_with_scaling_methods(movies_data,scalingMethod=\"None\")\n",
    "X_train, X_test, y_train, y_test = divide_test_train_with_scaling_methods(movies_data,scalingMethod=\"MinMaxScaler\")"
   ]
  },
  {
   "cell_type": "code",
   "execution_count": 20,
   "metadata": {
    "scrolled": true
   },
   "outputs": [],
   "source": [
    "# # Divide the data into training and test\n",
    "\n",
    "# X_train, X_test, y_train, y_test = divide_test_train_with_scaling_methods(balanced_movies_data,scalingMethod=\"None\")\n",
    "# X_train, X_test, y_train, y_test = divide_test_train_with_scaling_methods(balanced_movies_data,scalingMethod=\"MinMaxScaler\")"
   ]
  },
  {
   "cell_type": "markdown",
   "metadata": {},
   "source": [
    "# Boosting Classifiers"
   ]
  },
  {
   "cell_type": "markdown",
   "metadata": {},
   "source": [
    "### 1.  Gradient Boosting Classifier"
   ]
  },
  {
   "cell_type": "markdown",
   "metadata": {},
   "source": [
    "#### 1a) Identify the optimal Learning rate"
   ]
  },
  {
   "cell_type": "code",
   "execution_count": 21,
   "metadata": {},
   "outputs": [],
   "source": [
    "# # Script to find the maximum learning_rate where the test_accuracy is maximum\n",
    "\n",
    "#     optimal_learning_rate = learningRateDF['learning_rate'].loc[learningRateDF.\n",
    "#                                                                 mask((learningRateDF == learningRateDF.min())\n",
    "#                                                                      .cumsum()\n",
    "#                                                                      .astype(bool))\n",
    "#                                                                 [::-1]\n",
    "#                                                                 .idxmax()\n",
    "#                                                                 ['testing_accuracy']]"
   ]
  },
  {
   "cell_type": "code",
   "execution_count": 22,
   "metadata": {},
   "outputs": [],
   "source": [
    "def optimal_learning_rate(X_train, X_test, y_train, y_test):\n",
    "    \n",
    "    lr_list = [0.05, 0.075, 0.1, 0.25, 0.5, 0.75, 1]\n",
    "\n",
    "    col_learningDF = ['learning_rate','training_accuracy','testing_accuracy']\n",
    "    learningRateDF = pd.DataFrame(columns=col_learningDF)\n",
    "\n",
    "    for learning_rate in lr_list:\n",
    "\n",
    "        gb_clf = GradientBoostingClassifier(n_estimators=100,\n",
    "                                            learning_rate=learning_rate,\n",
    "                                            max_leaf_nodes= 32,\n",
    "                                            max_features=2,\n",
    "                                            max_depth=2,\n",
    "                                            random_state= 42 )\n",
    "        gb_clf.fit(X_train, y_train)\n",
    "\n",
    "        accuracy_train_score = gb_clf.score(X_train, y_train)\n",
    "        accuracy_test_score = gb_clf.score(X_test, y_test)\n",
    "\n",
    "        learningRateDF.loc[len(learningRateDF)] = [learning_rate,accuracy_train_score,accuracy_test_score]\n",
    "#         print(\"Learning rate: \", learning_rate)\n",
    "#         print(\"Accuracy score (training): {0:.3f}\".format(accuracy_train_score))\n",
    "#         print(\"Accuracy score (test): {0:.3f}\".format(accuracy_test_score))\n",
    "    print(learningRateDF)\n",
    "\n",
    "#     optimal_learning_rate = learningRateDF['learning_rate'].loc[learningRateDF.testing_accuracy.argmax()]\n",
    "\n",
    "    optimal_learning_rate = learningRateDF['learning_rate'].loc[((learningRateDF == learningRateDF.min())\n",
    "                                                                 .cumsum()\n",
    "                                                                 .astype(bool))\n",
    "                                                                [::-1].idxmax()\n",
    "                                                                ['testing_accuracy']\n",
    "                                                               ]\n",
    "\n",
    "    return optimal_learning_rate"
   ]
  },
  {
   "cell_type": "code",
   "execution_count": 23,
   "metadata": {},
   "outputs": [
    {
     "name": "stdout",
     "output_type": "stream",
     "text": [
      "   learning_rate  training_accuracy  testing_accuracy\n",
      "0          0.050           0.840917          0.847709\n",
      "1          0.075           0.840917          0.847709\n",
      "2          0.100           0.841591          0.847709\n",
      "3          0.250           0.846983          0.843666\n",
      "4          0.500           0.854398          0.846361\n",
      "5          0.750           0.855747          0.836927\n",
      "6          1.000           0.856084          0.831536\n",
      "\n",
      "The optimal learning rate for XGB Classifier is : 1.0\n"
     ]
    }
   ],
   "source": [
    "chosen_learning_rate_GB = optimal_learning_rate(X_train, X_test, y_train, y_test)\n",
    "print(\"\\nThe optimal learning rate for XGB Classifier is :\",chosen_learning_rate_GB)"
   ]
  },
  {
   "cell_type": "markdown",
   "metadata": {},
   "source": [
    "#### 1b) Model Function"
   ]
  },
  {
   "cell_type": "code",
   "execution_count": 24,
   "metadata": {},
   "outputs": [],
   "source": [
    "def train_model_Gradient_Boosting_classifier(X_train, X_test, y_train, y_test,learning_rate = 1):\n",
    "    \n",
    "    # Classifier parameters    \n",
    "    gb_clf2 = GradientBoostingClassifier(n_estimators=100,\n",
    "                                         learning_rate=learning_rate,\n",
    "                                         max_features=2,\n",
    "                                         max_depth=2,\n",
    "                                         random_state= 42\n",
    "                                        )\n",
    "    gb_clf2.fit(X_train, y_train)\n",
    "    predictions = gb_clf2.predict(X_test)\n",
    "    \n",
    "    gb_train_score = gb_clf2.score(X_train, y_train)\n",
    "    print(\"Training Score of Gradient Boosting Classifier: \",round(gb_train_score,3))\n",
    "    \n",
    "    gb_test_score = gb_clf2.score(X_test, y_test)\n",
    "    print(\"Testing Score of Gradient Boosting Classifier : \",round(gb_test_score,3))\n",
    "\n",
    "    print(\"\\nConfusion Matrix:\")\n",
    "    print(confusion_matrix(y_test, predictions))\n",
    "\n",
    "    print(\"\\nClassification Report\")\n",
    "    print(classification_report(y_test, predictions))\n",
    "       \n",
    "    return gb_clf2"
   ]
  },
  {
   "cell_type": "markdown",
   "metadata": {},
   "source": [
    "#### 1c) Run Results of Gradient Boosting Model"
   ]
  },
  {
   "cell_type": "code",
   "execution_count": 25,
   "metadata": {},
   "outputs": [
    {
     "name": "stdout",
     "output_type": "stream",
     "text": [
      "Training Score of Gradient Boosting Classifier:  0.856\n",
      "Testing Score of Gradient Boosting Classifier :  0.832\n",
      "\n",
      "Confusion Matrix:\n",
      "[[  7 106]\n",
      " [ 19 610]]\n",
      "\n",
      "Classification Report\n",
      "              precision    recall  f1-score   support\n",
      "\n",
      "           0       0.27      0.06      0.10       113\n",
      "           1       0.85      0.97      0.91       629\n",
      "\n",
      "    accuracy                           0.83       742\n",
      "   macro avg       0.56      0.52      0.50       742\n",
      "weighted avg       0.76      0.83      0.78       742\n",
      "\n"
     ]
    },
    {
     "data": {
      "text/plain": [
       "GradientBoostingClassifier(ccp_alpha=0.0, criterion='friedman_mse', init=None,\n",
       "                           learning_rate=1.0, loss='deviance', max_depth=2,\n",
       "                           max_features=2, max_leaf_nodes=None,\n",
       "                           min_impurity_decrease=0.0, min_impurity_split=None,\n",
       "                           min_samples_leaf=1, min_samples_split=2,\n",
       "                           min_weight_fraction_leaf=0.0, n_estimators=100,\n",
       "                           n_iter_no_change=None, presort='deprecated',\n",
       "                           random_state=42, subsample=1.0, tol=0.0001,\n",
       "                           validation_fraction=0.1, verbose=0,\n",
       "                           warm_start=False)"
      ]
     },
     "execution_count": 25,
     "metadata": {},
     "output_type": "execute_result"
    }
   ],
   "source": [
    "train_model_Gradient_Boosting_classifier(X_train, X_test, y_train, y_test,learning_rate = chosen_learning_rate_GB)\n",
    "# tn, fp, fn, tp"
   ]
  },
  {
   "cell_type": "markdown",
   "metadata": {},
   "source": [
    "### 2. XGB Classifier"
   ]
  },
  {
   "cell_type": "markdown",
   "metadata": {},
   "source": [
    "#### 2b) Optimal learning rate"
   ]
  },
  {
   "cell_type": "code",
   "execution_count": 26,
   "metadata": {},
   "outputs": [],
   "source": [
    "def optimal_learning_rate_xgb(X_train, X_test, y_train, y_test):\n",
    "    \n",
    "    lr_list = [0.05, 0.075, 0.1, 0.25, 0.5, 0.75, 1]\n",
    "\n",
    "    col_learningDF = ['learning_rate','training_accuracy','testing_accuracy']\n",
    "    learningRateDF = pd.DataFrame(columns=col_learningDF)\n",
    "\n",
    "    for learning_rate in lr_list:\n",
    "\n",
    "        xgb_clf = XGBClassifier(n_estimators=100,\n",
    "                                         learning_rate=learning_rate,\n",
    "                                         max_features=2,\n",
    "                                         max_depth=2,\n",
    "                                         random_state= 42)\n",
    "        \n",
    "        xgb_clf.fit(X_train, y_train)\n",
    "\n",
    "        accuracy_train_score = xgb_clf.score(X_train, y_train)\n",
    "        accuracy_test_score = xgb_clf.score(X_test, y_test)\n",
    "\n",
    "        learningRateDF.loc[len(learningRateDF)] = [learning_rate,accuracy_train_score,accuracy_test_score]\n",
    "#         print(\"Learning rate: \", learning_rate)\n",
    "#         print(\"Accuracy score (training): {0:.3f}\".format(accuracy_train_score))\n",
    "#         print(\"Accuracy score (test): {0:.3f}\".format(accuracy_test_score))\n",
    "    print(learningRateDF)\n",
    "\n",
    "#     optimal_learning_rate = learningRateDF['learning_rate'].loc[learningRateDF.testing_accuracy.argmax()]\n",
    "\n",
    "# Script to find the maximum learning_rate where the test_accuracy is maximum\n",
    "\n",
    "    optimal_learning_rate = learningRateDF['learning_rate'].loc[learningRateDF.\n",
    "                                                                mask((learningRateDF == learningRateDF.min())\n",
    "                                                                     .cumsum()\n",
    "                                                                     .astype(bool))\n",
    "                                                                [::-1]\n",
    "                                                                .idxmax()\n",
    "                                                                ['testing_accuracy']]\n",
    "\n",
    "    return optimal_learning_rate"
   ]
  },
  {
   "cell_type": "code",
   "execution_count": 27,
   "metadata": {},
   "outputs": [
    {
     "name": "stdout",
     "output_type": "stream",
     "text": [
      "   learning_rate  training_accuracy  testing_accuracy\n",
      "0          0.050           0.840917          0.847709\n",
      "1          0.075           0.841591          0.847709\n",
      "2          0.100           0.842265          0.849057\n",
      "3          0.250           0.851702          0.842318\n",
      "4          0.500           0.877654          0.842318\n",
      "5          0.750           0.899562          0.831536\n",
      "6          1.000           0.915403          0.818059\n",
      "\n",
      "The optimal learning rate for XGB Classifier is : 0.1\n"
     ]
    }
   ],
   "source": [
    "chosen_learning_rate_XGB = optimal_learning_rate_xgb(X_train, X_test, y_train, y_test)\n",
    "print(\"\\nThe optimal learning rate for XGB Classifier is :\",chosen_learning_rate_XGB)"
   ]
  },
  {
   "cell_type": "markdown",
   "metadata": {},
   "source": [
    "#### 2b) Model Function"
   ]
  },
  {
   "cell_type": "code",
   "execution_count": 28,
   "metadata": {},
   "outputs": [],
   "source": [
    "def train_model_XGB_classifier(X_train, X_test, y_train, y_test,learning_rate = 1):\n",
    "    \n",
    "    # Classifier parameters    \n",
    "\n",
    "    xgb_clf = XGBClassifier(n_estimators=100,\n",
    "                                         learning_rate=learning_rate,\n",
    "                                         max_features=2,\n",
    "                                         max_depth=2,\n",
    "                                         random_state= 42)\n",
    "    xgb_clf.fit(X_train, y_train)\n",
    "    \n",
    "    xgb_train_score = xgb_clf.score(X_train, y_train)\n",
    "    print(\"Training Score : \",round(xgb_train_score,3))\n",
    "    \n",
    "    xgb_test_score = xgb_clf.score(X_test, y_test)\n",
    "    print(\"Testing Score : \",round(xgb_test_score,3))\n",
    "    \n",
    "    predictions = xgb_clf.predict(X_test)\n",
    "\n",
    "    print(\"Confusion Matrix:\")\n",
    "    print(confusion_matrix(y_test, predictions))\n",
    "\n",
    "    print(\"Classification Report\")\n",
    "    print(classification_report(y_test, predictions))\n",
    "    \n",
    "    return xgb_clf"
   ]
  },
  {
   "cell_type": "markdown",
   "metadata": {},
   "source": [
    "###  2c) Run results of XGB Model"
   ]
  },
  {
   "cell_type": "code",
   "execution_count": 29,
   "metadata": {},
   "outputs": [
    {
     "name": "stdout",
     "output_type": "stream",
     "text": [
      "Training Score :  0.842\n",
      "Testing Score :  0.849\n",
      "Confusion Matrix:\n",
      "[[  1 112]\n",
      " [  0 629]]\n",
      "Classification Report\n",
      "              precision    recall  f1-score   support\n",
      "\n",
      "           0       1.00      0.01      0.02       113\n",
      "           1       0.85      1.00      0.92       629\n",
      "\n",
      "    accuracy                           0.85       742\n",
      "   macro avg       0.92      0.50      0.47       742\n",
      "weighted avg       0.87      0.85      0.78       742\n",
      "\n"
     ]
    },
    {
     "data": {
      "text/plain": [
       "XGBClassifier(base_score=0.5, booster='gbtree', colsample_bylevel=1,\n",
       "              colsample_bynode=1, colsample_bytree=1, gamma=0,\n",
       "              learning_rate=0.1, max_delta_step=0, max_depth=2, max_features=2,\n",
       "              min_child_weight=1, missing=None, n_estimators=100, n_jobs=1,\n",
       "              nthread=None, objective='binary:logistic', random_state=42,\n",
       "              reg_alpha=0, reg_lambda=1, scale_pos_weight=1, seed=None,\n",
       "              silent=None, subsample=1, verbosity=1)"
      ]
     },
     "execution_count": 29,
     "metadata": {},
     "output_type": "execute_result"
    }
   ],
   "source": [
    "train_model_XGB_classifier(X_train, X_test, y_train, y_test,learning_rate = chosen_learning_rate_XGB)\n",
    "# tn, fp, fn, tp"
   ]
  },
  {
   "cell_type": "markdown",
   "metadata": {},
   "source": [
    "# End"
   ]
  }
 ],
 "metadata": {
  "kernelspec": {
   "display_name": "Python 3",
   "language": "python",
   "name": "python3"
  },
  "language_info": {
   "codemirror_mode": {
    "name": "ipython",
    "version": 3
   },
   "file_extension": ".py",
   "mimetype": "text/x-python",
   "name": "python",
   "nbconvert_exporter": "python",
   "pygments_lexer": "ipython3",
   "version": "3.7.3"
  }
 },
 "nbformat": 4,
 "nbformat_minor": 4
}
