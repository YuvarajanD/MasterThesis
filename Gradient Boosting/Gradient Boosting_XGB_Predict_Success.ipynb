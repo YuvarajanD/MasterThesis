{
 "cells": [
  {
   "cell_type": "code",
   "execution_count": 1,
   "metadata": {},
   "outputs": [],
   "source": [
    "import pandas as pd\n",
    "import numpy as np\n",
    "\n",
    "\n",
    "# time\n",
    "\n",
    "import os\n",
    "import sys\n",
    "import time\n",
    "from datetime import datetime\n",
    "from datetime import date\n",
    "\n",
    "#Plotting\n",
    "%matplotlib inline\n",
    "import matplotlib as mpl\n",
    "import matplotlib.pyplot as plt\n",
    "import seaborn as sns\n",
    "\n",
    "# ML Libraries\n",
    "\n",
    "from sklearn.model_selection import train_test_split\n",
    "from sklearn.metrics import classification_report, confusion_matrix\n",
    "from sklearn.metrics import roc_auc_score\n",
    "from sklearn.metrics import precision_recall_fscore_support\n",
    "from sklearn.metrics import auc\n",
    "from sklearn.metrics import roc_auc_score\n",
    "from sklearn.metrics import roc_curve\n",
    "from sklearn import metrics\n",
    "\n",
    "# Labelizer\n",
    "from sklearn import preprocessing\n",
    "from sklearn.preprocessing import LabelBinarizer\n",
    "from sklearn.preprocessing import label_binarize\n",
    "\n",
    "\n",
    "# Normalize \n",
    "\n",
    "from sklearn.preprocessing import MinMaxScaler\n",
    "\n",
    "from sklearn.multiclass import OneVsRestClassifier\n",
    "\n",
    "# Boosting classifiers\n",
    "\n",
    "\n",
    "from sklearn.ensemble import GradientBoostingClassifier\n",
    "from xgboost import XGBClassifier\n",
    "\n",
    "# Save model\n",
    "import pickle\n",
    "import joblib"
   ]
  },
  {
   "cell_type": "code",
   "execution_count": 2,
   "metadata": {},
   "outputs": [],
   "source": [
    "# fileLocation = 'C:\\\\Users\\\\VictorY\\\\Desktop\\\\TestData\\\\stage3FinalProcessedDF_Nov-17-2019.csv'\n",
    "# moviesDataFileLocation = 'C:\\\\Yuva\\\\ITU\\\\4th Sem\\\\Thesis\\\\Data\\\\Final_Data_Movies_Directors.csv'\n",
    "# moviesDataFileLocation = 'C:\\\\Yuva\\\\ITU\\\\4th Sem\\\\Thesis\\\\Data\\\\Movies_director_data_3709_119Features.csv'\n",
    "\n",
    "# moviesDataFileLocation = 'C:\\\\Yuva\\\\ITU\\\\4th Sem\\\\Thesis\\\\Data\\\\Datasets\\\\Movies\\\\1_Data_Movies.csv'\n",
    "# moviesDataFileLocation = 'C:\\\\Yuva\\\\ITU\\\\4th Sem\\\\Thesis\\\\Data\\\\Datasets\\\\Movies\\\\2_Movies_WithAwards.csv'\n",
    "# moviesDataFileLocation = 'C:\\\\Yuva\\\\ITU\\\\4th Sem\\\\Thesis\\\\Data\\\\Datasets\\\\Movies\\\\3_USA_Movies_WithAwards.csv'"
   ]
  },
  {
   "cell_type": "code",
   "execution_count": 3,
   "metadata": {},
   "outputs": [],
   "source": [
    "# dynamic path location\n",
    "\n",
    "# running = 'movies'\n",
    "# fileName = 'data1_Data_Movies'\n",
    "# fileName = 'data2_Movies_WithAwards'\n",
    "# fileName = 'data3_USA_Movies_WithAwards'\n",
    "\n",
    "running = 'directors'\n",
    "# fileName = '1_Director_Data_Mar-21-2020'\n",
    "# fileName = '2_Director_Data_Enhanced_May-10-2020'\n",
    "fileName = '3_USA_Director_Specific_dataset_May-15-2020'\n",
    "\n",
    "moviesDataFileLocation = os.path.join(os.path.realpath(os.path.pardir),'datasets\\\\'+ fileName +'.csv')\n",
    "\n",
    "\n",
    "# moviesDataFileLocation = os.path.join(os.path.realpath(os.path.pardir),'datasets\\\\.csv')\n",
    "# moviesDataFileLocation = os.path.join(os.path.realpath(os.path.pardir),'datasets\\\\.csv')\n",
    "# moviesDataFileLocation = os.path.join(os.path.realpath(os.path.pardir),'datasets\\\\.csv')\n",
    "\n",
    "\n",
    "\n",
    "saveFileToPath = \"C:\\\\Yuva\\\\ITU\\\\4th Sem\\\\Thesis\\\\Data\\\\\"\n",
    "\n",
    "movies_data = pd.read_csv(moviesDataFileLocation)"
   ]
  },
  {
   "cell_type": "code",
   "execution_count": 4,
   "metadata": {
    "scrolled": true
   },
   "outputs": [
    {
     "data": {
      "text/plain": [
       "array(['director_ids', 'director_name', 'average_rating_value',\n",
       "       'average_rating_count', 'movies_produced', 'career_Length',\n",
       "       'CareerStartYear', 'Gender', 'birthYear',\n",
       "       'median_inter_event_time', 'average_inter_event_time',\n",
       "       'total_review_count_user', 'total_review_count_critic',\n",
       "       'total_metascore', 'median_metascore', 'total_awards_won',\n",
       "       'total_awards_nominated', 'total_gross_value',\n",
       "       'total_budget_value', 'average_runtime_of_movie',\n",
       "       'director_profession_primary', 'director_profession_secondary',\n",
       "       'director_profession_tertiary', 'director_known_titles_count',\n",
       "       'director_known_titles_average_rating_value', 'total_genre_Action',\n",
       "       'total_genre_Adult', 'total_genre_Adventure',\n",
       "       'total_genre_Animation', 'total_genre_Biography',\n",
       "       'total_genre_Comedy', 'total_genre_Crime',\n",
       "       'total_genre_Documentary', 'total_genre_Drama',\n",
       "       'total_genre_Family', 'total_genre_Fantasy',\n",
       "       'total_genre_Film_Noir', 'total_genre_Game_Show',\n",
       "       'total_genre_History', 'total_genre_Horror', 'total_genre_Music',\n",
       "       'total_genre_Musical', 'total_genre_Mystery', 'total_genre_News',\n",
       "       'total_genre_None', 'total_genre_Reality_TV',\n",
       "       'total_genre_Romance', 'total_genre_Sci_Fi', 'total_genre_Short',\n",
       "       'total_genre_Sport', 'total_genre_Talk_Show',\n",
       "       'total_genre_Thriller', 'total_genre_War', 'total_genre_Western',\n",
       "       'average_movie_per_year', 'num_genres_directed'], dtype=object)"
      ]
     },
     "execution_count": 4,
     "metadata": {},
     "output_type": "execute_result"
    }
   ],
   "source": [
    "movies_data.columns.values"
   ]
  },
  {
   "cell_type": "code",
   "execution_count": 5,
   "metadata": {},
   "outputs": [
    {
     "data": {
      "text/plain": [
       "(1215, 56)"
      ]
     },
     "execution_count": 5,
     "metadata": {},
     "output_type": "execute_result"
    }
   ],
   "source": [
    "movies_data.shape"
   ]
  },
  {
   "cell_type": "code",
   "execution_count": 6,
   "metadata": {},
   "outputs": [],
   "source": [
    "# # # Uncomment in case you want to drop the one hot encoded features of awards features\n",
    "# # Award_filter_col = [col for col in movies_data if col.startswith('Award_')]\n",
    "# # movies_data.drop(columns = Award_filter_col, inplace= True)\n",
    "\n",
    "# # Winner_filter_col = [col for col in movies_data if col.startswith('Winner_')]\n",
    "# # movies_data.drop(columns = Winner_filter_col, inplace= True)\n",
    "\n",
    "# # language_filter_col = [col for col in movies_data if col.startswith('language_')]\n",
    "# # movies_data.drop(columns = language_filter_col, inplace= True)\n",
    "\n",
    "\n",
    "# # Drop the awards nominated and awards won as they are essentially the same as the one hot encoded features\n",
    "# movies_data.drop(columns = ['awards_nominated', 'awards_won'],inplace= True)\n",
    "\n",
    "# # Newly extracted column for the director dataset\n",
    "# movies_data.drop(columns = ['CareerStartYear','Career_Year_Number'],inplace= True)\n"
   ]
  },
  {
   "cell_type": "code",
   "execution_count": 7,
   "metadata": {},
   "outputs": [],
   "source": [
    "# movies_data = movies_data[['director_ids', 'director_names', 'movie_id', 'title',\n",
    "#                            'review_count_user', 'review_count_critic', 'rating_value',\n",
    "#                            'rating_count','birthYear','movie_year','Gender']]"
   ]
  },
  {
   "cell_type": "code",
   "execution_count": 8,
   "metadata": {
    "scrolled": true
   },
   "outputs": [
    {
     "name": "stdout",
     "output_type": "stream",
     "text": [
      "<class 'pandas.core.frame.DataFrame'>\n",
      "RangeIndex: 1215 entries, 0 to 1214\n",
      "Data columns (total 56 columns):\n",
      " #   Column                                      Non-Null Count  Dtype  \n",
      "---  ------                                      --------------  -----  \n",
      " 0   director_ids                                1215 non-null   object \n",
      " 1   director_name                               1215 non-null   object \n",
      " 2   average_rating_value                        1215 non-null   float64\n",
      " 3   average_rating_count                        1215 non-null   float64\n",
      " 4   movies_produced                             1215 non-null   int64  \n",
      " 5   career_Length                               1215 non-null   int64  \n",
      " 6   CareerStartYear                             1215 non-null   int64  \n",
      " 7   Gender                                      1215 non-null   object \n",
      " 8   birthYear                                   1215 non-null   int64  \n",
      " 9   median_inter_event_time                     1215 non-null   float64\n",
      " 10  average_inter_event_time                    1215 non-null   float64\n",
      " 11  total_review_count_user                     1215 non-null   int64  \n",
      " 12  total_review_count_critic                   1215 non-null   int64  \n",
      " 13  total_metascore                             1215 non-null   int64  \n",
      " 14  median_metascore                            1215 non-null   float64\n",
      " 15  total_awards_won                            1215 non-null   float64\n",
      " 16  total_awards_nominated                      1215 non-null   float64\n",
      " 17  total_gross_value                           1215 non-null   float64\n",
      " 18  total_budget_value                          1215 non-null   float64\n",
      " 19  average_runtime_of_movie                    1215 non-null   float64\n",
      " 20  director_profession_primary                 1215 non-null   int64  \n",
      " 21  director_profession_secondary               1215 non-null   int64  \n",
      " 22  director_profession_tertiary                1215 non-null   int64  \n",
      " 23  director_known_titles_count                 1215 non-null   int64  \n",
      " 24  director_known_titles_average_rating_value  1215 non-null   float64\n",
      " 25  total_genre_Action                          1215 non-null   int64  \n",
      " 26  total_genre_Adult                           1215 non-null   int64  \n",
      " 27  total_genre_Adventure                       1215 non-null   int64  \n",
      " 28  total_genre_Animation                       1215 non-null   int64  \n",
      " 29  total_genre_Biography                       1215 non-null   int64  \n",
      " 30  total_genre_Comedy                          1215 non-null   int64  \n",
      " 31  total_genre_Crime                           1215 non-null   int64  \n",
      " 32  total_genre_Documentary                     1215 non-null   int64  \n",
      " 33  total_genre_Drama                           1215 non-null   int64  \n",
      " 34  total_genre_Family                          1215 non-null   int64  \n",
      " 35  total_genre_Fantasy                         1215 non-null   int64  \n",
      " 36  total_genre_Film_Noir                       1215 non-null   int64  \n",
      " 37  total_genre_Game_Show                       1215 non-null   int64  \n",
      " 38  total_genre_History                         1215 non-null   int64  \n",
      " 39  total_genre_Horror                          1215 non-null   int64  \n",
      " 40  total_genre_Music                           1215 non-null   int64  \n",
      " 41  total_genre_Musical                         1215 non-null   int64  \n",
      " 42  total_genre_Mystery                         1215 non-null   int64  \n",
      " 43  total_genre_News                            1215 non-null   int64  \n",
      " 44  total_genre_None                            1215 non-null   int64  \n",
      " 45  total_genre_Reality_TV                      1215 non-null   int64  \n",
      " 46  total_genre_Romance                         1215 non-null   int64  \n",
      " 47  total_genre_Sci_Fi                          1215 non-null   int64  \n",
      " 48  total_genre_Short                           1215 non-null   int64  \n",
      " 49  total_genre_Sport                           1215 non-null   int64  \n",
      " 50  total_genre_Talk_Show                       1215 non-null   int64  \n",
      " 51  total_genre_Thriller                        1215 non-null   int64  \n",
      " 52  total_genre_War                             1215 non-null   int64  \n",
      " 53  total_genre_Western                         1215 non-null   int64  \n",
      " 54  average_movie_per_year                      1215 non-null   float64\n",
      " 55  num_genres_directed                         1215 non-null   int64  \n",
      "dtypes: float64(12), int64(41), object(3)\n",
      "memory usage: 531.7+ KB\n"
     ]
    }
   ],
   "source": [
    "movies_data.info()"
   ]
  },
  {
   "cell_type": "code",
   "execution_count": 9,
   "metadata": {},
   "outputs": [],
   "source": [
    "# movies_data.columns.values"
   ]
  },
  {
   "cell_type": "markdown",
   "metadata": {},
   "source": [
    "# Notebook Run Settings"
   ]
  },
  {
   "cell_type": "markdown",
   "metadata": {},
   "source": [
    "chosen_feature_predicting : rating_count , rating_value , review_count_critic , review_count_user , metascore\n",
    "<br>chosen_bin_method : quartiles , bin_cut , Bin_AsPaper\n",
    "<br>chosen_success_class : movie_rating , director_rating\n",
    "<br>chosen_dataset_balance : unbalanced , balanced\n",
    "<br>chosen_scaling_method : MinMaxScaler , None"
   ]
  },
  {
   "cell_type": "code",
   "execution_count": 10,
   "metadata": {},
   "outputs": [],
   "source": [
    "if (running == 'directors'):\n",
    "    \n",
    "    gender_as_an_input = 'Yes'\n",
    "    chosen_feature_predicting = 'average_rating_count'\n",
    "    chosen_bin_method = 'quartiles'\n",
    "    chosen_success_class = 'director_class'\n",
    "    chosen_dataset_ratio = 'balanced'\n",
    "    chosen_scaling_method = 'None'\n",
    "    default_learning_rate = 0.1\n",
    "    chosen_max_leaf_nodes = 32\n",
    "    default_max_depth = 3\n",
    "    chosen_max_features = None\n",
    "    chosen_random_state = 42\n",
    "    \n",
    "    \n",
    "elif(running == 'movies'):\n",
    "    \n",
    "    gender_as_an_input = 'Yes'\n",
    "    chosen_feature_predicting = 'rating_count'\n",
    "    chosen_bin_method = 'quartiles'\n",
    "    chosen_success_class = 'movie_class'\n",
    "    chosen_dataset_ratio = 'unbalanced'\n",
    "    chosen_scaling_method = 'None'\n",
    "    default_learning_rate = 0.1\n",
    "    chosen_max_leaf_nodes = 32\n",
    "    default_max_depth = 3\n",
    "    chosen_max_features = None\n",
    "    chosen_random_state = 42"
   ]
  },
  {
   "cell_type": "markdown",
   "metadata": {},
   "source": [
    "## Success classes"
   ]
  },
  {
   "cell_type": "code",
   "execution_count": 11,
   "metadata": {},
   "outputs": [],
   "source": [
    "def undersampling_balanced_gender(df,balance_feature = 'Gender', column_tobe_unique = 'director_ids'):\n",
    "    \n",
    "    # Shuffle the Dataset.\n",
    "    shuffled_data = df.sample(frac=1,random_state=42)\n",
    "    print('Unbalanced dataframe shape before undersampling :',shuffled_data.shape)\n",
    "\n",
    "    # First remove all duplicates director_ids to have only unique columns\n",
    "    unique_column_df = shuffled_data.drop_duplicates(subset = column_tobe_unique, keep='first', inplace=False)\n",
    "    unique_column_df.shape\n",
    "    \n",
    "    # An empty balanced data frame with only the unique columns\n",
    "    bal_total_unique_list_df = pd.DataFrame()\n",
    "    \n",
    "    # Add balanced values from all the possible classes    \n",
    "    for i in unique_column_df[balance_feature].value_counts().index:\n",
    "        bal_total_unique_list_df = bal_total_unique_list_df.append(unique_column_df[(unique_column_df[balance_feature]==i)]\n",
    "                                                   .sample(\n",
    "                                                       n= unique_column_df[balance_feature].value_counts().values.min(),\n",
    "                                                       random_state = 42,\n",
    "                                                       replace = False)\n",
    "                                                  )\n",
    "    # list of unique IDs\n",
    "    total_list_unique_IDs = bal_total_unique_list_df[column_tobe_unique].to_list()\n",
    "    \n",
    "    balanced_data = shuffled_data[shuffled_data[column_tobe_unique].isin(total_list_unique_IDs)] \n",
    "    \n",
    "    print('Balanced dataframe shape after undersampling :',balanced_data.shape)\n",
    "    return balanced_data"
   ]
  },
  {
   "cell_type": "code",
   "execution_count": 12,
   "metadata": {},
   "outputs": [],
   "source": [
    "def balance_gender(dataframe):\n",
    "    female_list_unique_directors = dataframe[(dataframe['Gender'] == 'Female')].director_ids.unique().tolist()\n",
    "    \n",
    "    unique_male_directors = dataframe[(dataframe['Gender'] == 'Male')].director_ids.unique().tolist()\n",
    "    \n",
    "    male_list_unique_directors = np.random.choice(unique_male_directors, replace = False, size = len(female_list_unique_directors)).tolist()\n",
    "    \n",
    "    total_list_unique_directors = female_list_unique_directors + male_list_unique_directors\n",
    "\n",
    "    dataframe = dataframe[dataframe['director_ids'].isin(np.array(total_list_unique_directors).tolist())]\n",
    "\n",
    "    return dataframe"
   ]
  },
  {
   "cell_type": "code",
   "execution_count": 13,
   "metadata": {},
   "outputs": [],
   "source": [
    "# Generic function to equally max split the dataframe with respect to the column Name, in our case the Gender column.\n",
    "\n",
    "def max_equal_split_on_columnName(df,columnName= chosen_success_class):\n",
    "    df1 = pd.DataFrame()\n",
    "    for i in df[columnName].value_counts().index:\n",
    "        df1 = df1.append(df[(df[columnName]==i)]\n",
    "                         .sample(n=df[columnName]\n",
    "                                 .value_counts()\n",
    "                                 .values.min()\n",
    "                                 ,replace = False)\n",
    "                        )        \n",
    "    return df1.reset_index(drop=True)"
   ]
  },
  {
   "cell_type": "code",
   "execution_count": 14,
   "metadata": {},
   "outputs": [],
   "source": [
    "# def multiclass_roc_auc_score(y_test, y_pred, average=\"macro\"):\n",
    "#     lb = LabelBinarizer()\n",
    "#     lb.fit(y_test)\n",
    "#     y_test = lb.transform(y_test)\n",
    "#     y_pred = lb.transform(y_pred)\n",
    "#     return roc_auc_score(y_test, y_pred, average=average)"
   ]
  },
  {
   "cell_type": "code",
   "execution_count": 15,
   "metadata": {},
   "outputs": [],
   "source": [
    "def print_feature_importances(coef, names, top=-1):\n",
    "    whole = []\n",
    "    imp = coef\n",
    "    imp,names = zip(*sorted(list(zip(imp, names)),reverse=True))\n",
    "    for i in range(len(names)):\n",
    "        string = \"{} :: {}\".format(str(names[i]),str(round(imp[i],3)))\n",
    "        whole.append(string)\n",
    "    return whole"
   ]
  },
  {
   "cell_type": "markdown",
   "metadata": {},
   "source": [
    "# Functions : Bin Cuts , Quartile Bins and bins as in paper"
   ]
  },
  {
   "cell_type": "markdown",
   "metadata": {},
   "source": [
    "## Bin Cuts"
   ]
  },
  {
   "cell_type": "code",
   "execution_count": 16,
   "metadata": {},
   "outputs": [],
   "source": [
    "def bincuts(df,class_feature = 'rating_value'):\n",
    "    \n",
    "    # Bin cuts into 4 buckets\n",
    "\n",
    "    bin_quartiles = ['terrible','poor','average','excellent']\n",
    "    cutIntoQuartiles = pd.cut(df[class_feature].to_list(), bins = 4 ,labels=bin_quartiles)\n",
    "\n",
    "    # Print the quartile range for visuals\n",
    "    print(cutIntoQuartiles.categories)\n",
    "\n",
    "    # Add the data to the dataframe\n",
    "    df[chosen_success_class] = cutIntoQuartiles\n",
    "    df[chosen_success_class] = df[chosen_success_class].astype(object)\n",
    "    print('The shape of our Movies dataset is:', df.shape)\n",
    "    df.drop(columns = [class_feature] , inplace = True)\n",
    "    print('The shape of our Movies dataset is:', df.shape)"
   ]
  },
  {
   "cell_type": "markdown",
   "metadata": {},
   "source": [
    "## Quartile Bins"
   ]
  },
  {
   "cell_type": "code",
   "execution_count": 17,
   "metadata": {},
   "outputs": [],
   "source": [
    "def quartile_bin(df,class_feature='rating_value'):\n",
    "    # Quartile cut into 4 different buckets\n",
    "\n",
    "    bin_quartiles = ['terrible','poor','average','excellent']\n",
    "    cutIntoQuartiles = pd.qcut(df[class_feature].to_list(), q=4,labels=bin_quartiles)\n",
    "    \n",
    "    print(cutIntoQuartiles.categories)\n",
    "    \n",
    "    df[chosen_success_class] = cutIntoQuartiles\n",
    "    df[chosen_success_class] = df[chosen_success_class].astype(object)\n",
    "    print('The shape of our dataset  is:', df.shape)\n",
    "#     print('The shape of our dataset before dropping the class feature is:', df.shape)\n",
    "# #     df.drop(columns = [class_feature] , inplace = True)\n",
    "#     print('The shape of our dataset after dropping the class feature  is:', df.shape)\n",
    "    return df"
   ]
  },
  {
   "cell_type": "markdown",
   "metadata": {},
   "source": [
    "## Paper Implementation of bins"
   ]
  },
  {
   "cell_type": "code",
   "execution_count": 18,
   "metadata": {},
   "outputs": [],
   "source": [
    "def success_measure(score):\n",
    "    \n",
    "    if score > 0 and score <= 2.4:\n",
    "        return 'poor'\n",
    "#     elif score > 2.4 and score <= 5.0:a\n",
    "        return 'average'\n",
    "    elif score > 5.0 and score <= 7.4:\n",
    "        return 'good'\n",
    "    elif score > 7.4 and score <=10.0:\n",
    "        return 'excellent'\n",
    "    else:\n",
    "        return 'Error_Score'"
   ]
  },
  {
   "cell_type": "markdown",
   "metadata": {},
   "source": [
    "# Function - To choose which Success measure to choose and what binning technique"
   ]
  },
  {
   "cell_type": "code",
   "execution_count": 19,
   "metadata": {},
   "outputs": [],
   "source": [
    "def choose_success_measure(df, bin_method = 'Quartiles', feature = 'rating_value'):\n",
    "    \n",
    "    # Stats of the feature\n",
    "    print('\\nDescribing the feature : \\n')\n",
    "    print(df[feature].describe())\n",
    "    \n",
    "\n",
    "    \n",
    "    if (bin_method == 'quartiles'):\n",
    "        # Quartie bin cuts\n",
    "        df = quartile_bin(df,feature)\n",
    "            \n",
    "    elif(bin_method == 'bin_cut'):\n",
    "        # Bin cuts\n",
    "        df = bincuts(df,'rating_value')\n",
    "        \n",
    "    elif(bin_method == 'Bin_AsPaper'):\n",
    "        df[chosen_success_class] = df[feature].apply(success_measure).astype('category')\n",
    "        \n",
    "    print('\\nShape of the dataset : \\n')\n",
    "    print('\\nThe shape of our Movies dataset is:', df.shape)\n",
    "#     df.drop(columns = [feature] , inplace = True)\n",
    "    print('\\nThe shape of our Movies dataset is:', df.shape)\n",
    "    \n",
    "    print('\\nValue Count of the bucketed class is : \\n')\n",
    "    print(df[chosen_success_class].value_counts())"
   ]
  },
  {
   "cell_type": "markdown",
   "metadata": {},
   "source": [
    "# Weighted Rank"
   ]
  },
  {
   "cell_type": "code",
   "execution_count": 20,
   "metadata": {},
   "outputs": [],
   "source": [
    "# Weighted ranking value\n",
    "# IMDB uses this famous formula:\n",
    "# weighted rating (WR) = (v ÷ (v+m)) × R + (m ÷ (v+m)) × C\n",
    "\n",
    "# Where:\n",
    "\n",
    "# R = average for the movie (mean) = (rating)\n",
    "\n",
    "# v = number of votes for the movie = (votes)\n",
    "\n",
    "# m = minimum votes required to be listed in the Top Rated list (currently 25,000)\n",
    "\n",
    "# C = the mean vote across the whole report"
   ]
  },
  {
   "cell_type": "code",
   "execution_count": 21,
   "metadata": {},
   "outputs": [],
   "source": [
    "def weightedRank(df,R='rating_value', v='rating_count', m = 100):\n",
    "#     df = df.loc[df[v] > m ]\n",
    "    df['weighted_rank'] = (df[v] / (df[v] + m )) * df[R] + (m / ( df[v] + m)) * df[R].mean()\n",
    "    return df"
   ]
  },
  {
   "cell_type": "code",
   "execution_count": 22,
   "metadata": {},
   "outputs": [
    {
     "data": {
      "text/plain": [
       "42198.0"
      ]
     },
     "execution_count": 22,
     "metadata": {},
     "output_type": "execute_result"
    }
   ],
   "source": [
    "minVotes =  movies_data[chosen_feature_predicting].quantile(0.5)\n",
    "minVotes"
   ]
  },
  {
   "cell_type": "markdown",
   "metadata": {},
   "source": [
    "### Bin Cuts"
   ]
  },
  {
   "cell_type": "code",
   "execution_count": 23,
   "metadata": {},
   "outputs": [],
   "source": [
    "# # Quartie bin on Weighted rating value\n",
    "# movies_data = bincuts(movies_data,'weighted_rank')"
   ]
  },
  {
   "cell_type": "markdown",
   "metadata": {},
   "source": [
    "### Quartile Bins"
   ]
  },
  {
   "cell_type": "code",
   "execution_count": 24,
   "metadata": {},
   "outputs": [],
   "source": [
    "# movies_data.rating_count.describe()"
   ]
  },
  {
   "cell_type": "code",
   "execution_count": 25,
   "metadata": {},
   "outputs": [],
   "source": [
    "# movies_data = weightedRank( movies_data, m = minVotes )\n",
    "\n",
    "# # Quartie bin on Weighted rating value\n",
    "\n",
    "# movies_data.drop(columns = 'rating_value',inplace = True)\n",
    "# movies_data = quartile_bin(movies_data,'weighted_rank')"
   ]
  },
  {
   "cell_type": "markdown",
   "metadata": {},
   "source": [
    "### Paper Implementation of bins"
   ]
  },
  {
   "cell_type": "code",
   "execution_count": 26,
   "metadata": {},
   "outputs": [],
   "source": [
    "# movies_data['movie_class'] = movies_data['weighted_rank'].apply(success_measure).astype('category')\n",
    "# print('The shape of our Movies dataset is:', movies_data.shape)# print('The shape of our Movies dataset is:', movies_data.shape)\n",
    "# movies_data.drop(columns = ['weighted_rank'] , inplace = True)\n",
    "# print('The shape of our Movies dataset is:', movies_data.shape)"
   ]
  },
  {
   "cell_type": "markdown",
   "metadata": {},
   "source": [
    "### Balance Gender"
   ]
  },
  {
   "cell_type": "code",
   "execution_count": 27,
   "metadata": {},
   "outputs": [
    {
     "name": "stdout",
     "output_type": "stream",
     "text": [
      "Unbalanced dataframe shape before undersampling : (1215, 56)\n",
      "Balanced dataframe shape after undersampling : (354, 56)\n"
     ]
    }
   ],
   "source": [
    "balanced_movies_data = undersampling_balanced_gender(movies_data)"
   ]
  },
  {
   "cell_type": "code",
   "execution_count": 28,
   "metadata": {
    "scrolled": true
   },
   "outputs": [
    {
     "name": "stdout",
     "output_type": "stream",
     "text": [
      "<class 'pandas.core.frame.DataFrame'>\n",
      "Int64Index: 354 entries, 43 to 1126\n",
      "Data columns (total 56 columns):\n",
      " #   Column                                      Non-Null Count  Dtype  \n",
      "---  ------                                      --------------  -----  \n",
      " 0   director_ids                                354 non-null    object \n",
      " 1   director_name                               354 non-null    object \n",
      " 2   average_rating_value                        354 non-null    float64\n",
      " 3   average_rating_count                        354 non-null    float64\n",
      " 4   movies_produced                             354 non-null    int64  \n",
      " 5   career_Length                               354 non-null    int64  \n",
      " 6   CareerStartYear                             354 non-null    int64  \n",
      " 7   Gender                                      354 non-null    object \n",
      " 8   birthYear                                   354 non-null    int64  \n",
      " 9   median_inter_event_time                     354 non-null    float64\n",
      " 10  average_inter_event_time                    354 non-null    float64\n",
      " 11  total_review_count_user                     354 non-null    int64  \n",
      " 12  total_review_count_critic                   354 non-null    int64  \n",
      " 13  total_metascore                             354 non-null    int64  \n",
      " 14  median_metascore                            354 non-null    float64\n",
      " 15  total_awards_won                            354 non-null    float64\n",
      " 16  total_awards_nominated                      354 non-null    float64\n",
      " 17  total_gross_value                           354 non-null    float64\n",
      " 18  total_budget_value                          354 non-null    float64\n",
      " 19  average_runtime_of_movie                    354 non-null    float64\n",
      " 20  director_profession_primary                 354 non-null    int64  \n",
      " 21  director_profession_secondary               354 non-null    int64  \n",
      " 22  director_profession_tertiary                354 non-null    int64  \n",
      " 23  director_known_titles_count                 354 non-null    int64  \n",
      " 24  director_known_titles_average_rating_value  354 non-null    float64\n",
      " 25  total_genre_Action                          354 non-null    int64  \n",
      " 26  total_genre_Adult                           354 non-null    int64  \n",
      " 27  total_genre_Adventure                       354 non-null    int64  \n",
      " 28  total_genre_Animation                       354 non-null    int64  \n",
      " 29  total_genre_Biography                       354 non-null    int64  \n",
      " 30  total_genre_Comedy                          354 non-null    int64  \n",
      " 31  total_genre_Crime                           354 non-null    int64  \n",
      " 32  total_genre_Documentary                     354 non-null    int64  \n",
      " 33  total_genre_Drama                           354 non-null    int64  \n",
      " 34  total_genre_Family                          354 non-null    int64  \n",
      " 35  total_genre_Fantasy                         354 non-null    int64  \n",
      " 36  total_genre_Film_Noir                       354 non-null    int64  \n",
      " 37  total_genre_Game_Show                       354 non-null    int64  \n",
      " 38  total_genre_History                         354 non-null    int64  \n",
      " 39  total_genre_Horror                          354 non-null    int64  \n",
      " 40  total_genre_Music                           354 non-null    int64  \n",
      " 41  total_genre_Musical                         354 non-null    int64  \n",
      " 42  total_genre_Mystery                         354 non-null    int64  \n",
      " 43  total_genre_News                            354 non-null    int64  \n",
      " 44  total_genre_None                            354 non-null    int64  \n",
      " 45  total_genre_Reality_TV                      354 non-null    int64  \n",
      " 46  total_genre_Romance                         354 non-null    int64  \n",
      " 47  total_genre_Sci_Fi                          354 non-null    int64  \n",
      " 48  total_genre_Short                           354 non-null    int64  \n",
      " 49  total_genre_Sport                           354 non-null    int64  \n",
      " 50  total_genre_Talk_Show                       354 non-null    int64  \n",
      " 51  total_genre_Thriller                        354 non-null    int64  \n",
      " 52  total_genre_War                             354 non-null    int64  \n",
      " 53  total_genre_Western                         354 non-null    int64  \n",
      " 54  average_movie_per_year                      354 non-null    float64\n",
      " 55  num_genres_directed                         354 non-null    int64  \n",
      "dtypes: float64(12), int64(41), object(3)\n",
      "memory usage: 157.6+ KB\n"
     ]
    }
   ],
   "source": [
    "balanced_movies_data.info()"
   ]
  },
  {
   "cell_type": "markdown",
   "metadata": {},
   "source": [
    "### Choosing dataset for the analysis"
   ]
  },
  {
   "cell_type": "code",
   "execution_count": 29,
   "metadata": {},
   "outputs": [
    {
     "data": {
      "text/plain": [
       "'balanced'"
      ]
     },
     "execution_count": 29,
     "metadata": {},
     "output_type": "execute_result"
    }
   ],
   "source": [
    "chosen_dataset_ratio"
   ]
  },
  {
   "cell_type": "code",
   "execution_count": 30,
   "metadata": {},
   "outputs": [],
   "source": [
    "chosen_dataframe = ''\n",
    "if(chosen_dataset_ratio == 'unbalanced'):\n",
    "    chosen_dataframe = movies_data\n",
    "elif(chosen_dataset_ratio == 'balanced'):\n",
    "    chosen_dataframe = balanced_movies_data"
   ]
  },
  {
   "cell_type": "markdown",
   "metadata": {},
   "source": [
    "### Remove Features from dataset which are not required"
   ]
  },
  {
   "cell_type": "code",
   "execution_count": 31,
   "metadata": {},
   "outputs": [
    {
     "data": {
      "text/plain": [
       "['director_ids', 'director_name']"
      ]
     },
     "execution_count": 31,
     "metadata": {},
     "output_type": "execute_result"
    }
   ],
   "source": [
    "object_features_to_remove = chosen_dataframe.select_dtypes(include = 'object').columns.values.tolist()\n",
    "object_features_to_remove.remove('Gender')\n",
    "object_features_to_remove"
   ]
  },
  {
   "cell_type": "markdown",
   "metadata": {},
   "source": [
    "## Run the feature based on the bin cut and success feature"
   ]
  },
  {
   "cell_type": "code",
   "execution_count": 32,
   "metadata": {},
   "outputs": [
    {
     "data": {
      "text/plain": [
       "'average_rating_count'"
      ]
     },
     "execution_count": 32,
     "metadata": {},
     "output_type": "execute_result"
    }
   ],
   "source": [
    "chosen_feature_predicting"
   ]
  },
  {
   "cell_type": "code",
   "execution_count": 33,
   "metadata": {},
   "outputs": [
    {
     "name": "stdout",
     "output_type": "stream",
     "text": [
      "Quantiles bin range\n",
      "Quantile 0 : (100.999, 10900.0] \n",
      "Quantile 1 : (10900.0, 32241.5] \n",
      "Quantile 2 : (32241.5, 96157.75] \n",
      "Quantile 3 : (96157.75, 636289.0] \n"
     ]
    }
   ],
   "source": [
    "cutIntoQuartiles = pd.qcut(chosen_dataframe[chosen_feature_predicting].to_list(), q=4)\n",
    "print(\"Quantiles bin range\")\n",
    "for i,num in enumerate(cutIntoQuartiles.categories):\n",
    "    print(\"Quantile {0} : {1} \".format(i,num))"
   ]
  },
  {
   "cell_type": "code",
   "execution_count": 34,
   "metadata": {
    "scrolled": true
   },
   "outputs": [
    {
     "name": "stdout",
     "output_type": "stream",
     "text": [
      "\n",
      "Describing the feature : \n",
      "\n",
      "count       354.000000\n",
      "mean      74130.349492\n",
      "std      100635.278280\n",
      "min         101.000000\n",
      "25%       10900.000000\n",
      "50%       32241.500000\n",
      "75%       96157.750000\n",
      "max      636289.000000\n",
      "Name: average_rating_count, dtype: float64\n",
      "Index(['terrible', 'poor', 'average', 'excellent'], dtype='object')\n",
      "The shape of our dataset  is: (354, 57)\n",
      "\n",
      "Shape of the dataset : \n",
      "\n",
      "\n",
      "The shape of our Movies dataset is: (354, 57)\n",
      "\n",
      "The shape of our Movies dataset is: (354, 57)\n",
      "\n",
      "Value Count of the bucketed class is : \n",
      "\n",
      "terrible     89\n",
      "excellent    89\n",
      "poor         88\n",
      "average      88\n",
      "Name: director_class, dtype: int64\n"
     ]
    }
   ],
   "source": [
    "choose_success_measure(chosen_dataframe , bin_method = chosen_bin_method , feature = chosen_feature_predicting)"
   ]
  },
  {
   "cell_type": "code",
   "execution_count": 35,
   "metadata": {},
   "outputs": [],
   "source": [
    "# movies_data = movies_data[movies_data['movie_class'].isin(['poor','excellent'])]"
   ]
  },
  {
   "cell_type": "markdown",
   "metadata": {},
   "source": [
    "### Chosen Movies Dataset"
   ]
  },
  {
   "cell_type": "code",
   "execution_count": 36,
   "metadata": {
    "scrolled": true
   },
   "outputs": [
    {
     "name": "stdout",
     "output_type": "stream",
     "text": [
      "The shape of our Balanced Movies dataset before removing object type features: (354, 57)\n",
      "The shape of our Balacned Movies dataset after dropping object type features: (354, 55)\n"
     ]
    }
   ],
   "source": [
    "print('The shape of our Balanced Movies dataset before removing object type features:', chosen_dataframe.shape)\n",
    "# movies_data = movies_data[movies_data.columns.difference(object_features_to_remove)]\n",
    "chosen_dataframe = chosen_dataframe.drop(columns= object_features_to_remove)\n",
    "print('The shape of our Balacned Movies dataset after dropping object type features:', chosen_dataframe.shape)"
   ]
  },
  {
   "cell_type": "code",
   "execution_count": 37,
   "metadata": {},
   "outputs": [
    {
     "data": {
      "text/plain": [
       "terrible     89\n",
       "excellent    89\n",
       "poor         88\n",
       "average      88\n",
       "Name: director_class, dtype: int64"
      ]
     },
     "execution_count": 37,
     "metadata": {},
     "output_type": "execute_result"
    }
   ],
   "source": [
    "chosen_dataframe[chosen_success_class].value_counts()"
   ]
  },
  {
   "cell_type": "code",
   "execution_count": 38,
   "metadata": {
    "scrolled": true
   },
   "outputs": [
    {
     "data": {
      "text/html": [
       "<div>\n",
       "<style scoped>\n",
       "    .dataframe tbody tr th:only-of-type {\n",
       "        vertical-align: middle;\n",
       "    }\n",
       "\n",
       "    .dataframe tbody tr th {\n",
       "        vertical-align: top;\n",
       "    }\n",
       "\n",
       "    .dataframe thead th {\n",
       "        text-align: right;\n",
       "    }\n",
       "</style>\n",
       "<table border=\"1\" class=\"dataframe\">\n",
       "  <thead>\n",
       "    <tr style=\"text-align: right;\">\n",
       "      <th></th>\n",
       "      <th>average_rating_value</th>\n",
       "      <th>average_rating_count</th>\n",
       "      <th>movies_produced</th>\n",
       "      <th>career_Length</th>\n",
       "      <th>CareerStartYear</th>\n",
       "      <th>Gender</th>\n",
       "      <th>birthYear</th>\n",
       "      <th>median_inter_event_time</th>\n",
       "      <th>average_inter_event_time</th>\n",
       "      <th>total_review_count_user</th>\n",
       "      <th>...</th>\n",
       "      <th>total_genre_Sci_Fi</th>\n",
       "      <th>total_genre_Short</th>\n",
       "      <th>total_genre_Sport</th>\n",
       "      <th>total_genre_Talk_Show</th>\n",
       "      <th>total_genre_Thriller</th>\n",
       "      <th>total_genre_War</th>\n",
       "      <th>total_genre_Western</th>\n",
       "      <th>average_movie_per_year</th>\n",
       "      <th>num_genres_directed</th>\n",
       "      <th>director_class</th>\n",
       "    </tr>\n",
       "  </thead>\n",
       "  <tbody>\n",
       "    <tr>\n",
       "      <th>43</th>\n",
       "      <td>6.92</td>\n",
       "      <td>197633.18</td>\n",
       "      <td>11</td>\n",
       "      <td>46</td>\n",
       "      <td>1971</td>\n",
       "      <td>Male</td>\n",
       "      <td>1958</td>\n",
       "      <td>2.0</td>\n",
       "      <td>2.0</td>\n",
       "      <td>7229</td>\n",
       "      <td>...</td>\n",
       "      <td>3</td>\n",
       "      <td>0</td>\n",
       "      <td>0</td>\n",
       "      <td>0</td>\n",
       "      <td>2</td>\n",
       "      <td>0</td>\n",
       "      <td>0</td>\n",
       "      <td>0.24</td>\n",
       "      <td>15</td>\n",
       "      <td>excellent</td>\n",
       "    </tr>\n",
       "    <tr>\n",
       "      <th>155</th>\n",
       "      <td>6.70</td>\n",
       "      <td>27205.00</td>\n",
       "      <td>3</td>\n",
       "      <td>33</td>\n",
       "      <td>1982</td>\n",
       "      <td>Male</td>\n",
       "      <td>1956</td>\n",
       "      <td>7.5</td>\n",
       "      <td>7.5</td>\n",
       "      <td>462</td>\n",
       "      <td>...</td>\n",
       "      <td>0</td>\n",
       "      <td>0</td>\n",
       "      <td>0</td>\n",
       "      <td>0</td>\n",
       "      <td>0</td>\n",
       "      <td>0</td>\n",
       "      <td>0</td>\n",
       "      <td>0.09</td>\n",
       "      <td>4</td>\n",
       "      <td>poor</td>\n",
       "    </tr>\n",
       "    <tr>\n",
       "      <th>123</th>\n",
       "      <td>5.50</td>\n",
       "      <td>20639.00</td>\n",
       "      <td>1</td>\n",
       "      <td>3</td>\n",
       "      <td>1998</td>\n",
       "      <td>Female</td>\n",
       "      <td>1961</td>\n",
       "      <td>0.0</td>\n",
       "      <td>0.0</td>\n",
       "      <td>182</td>\n",
       "      <td>...</td>\n",
       "      <td>0</td>\n",
       "      <td>0</td>\n",
       "      <td>0</td>\n",
       "      <td>0</td>\n",
       "      <td>0</td>\n",
       "      <td>0</td>\n",
       "      <td>0</td>\n",
       "      <td>0.33</td>\n",
       "      <td>2</td>\n",
       "      <td>poor</td>\n",
       "    </tr>\n",
       "    <tr>\n",
       "      <th>113</th>\n",
       "      <td>7.40</td>\n",
       "      <td>290080.33</td>\n",
       "      <td>3</td>\n",
       "      <td>12</td>\n",
       "      <td>2005</td>\n",
       "      <td>Female</td>\n",
       "      <td>1961</td>\n",
       "      <td>5.5</td>\n",
       "      <td>5.5</td>\n",
       "      <td>1786</td>\n",
       "      <td>...</td>\n",
       "      <td>1</td>\n",
       "      <td>0</td>\n",
       "      <td>0</td>\n",
       "      <td>0</td>\n",
       "      <td>1</td>\n",
       "      <td>0</td>\n",
       "      <td>0</td>\n",
       "      <td>0.25</td>\n",
       "      <td>7</td>\n",
       "      <td>excellent</td>\n",
       "    </tr>\n",
       "    <tr>\n",
       "      <th>732</th>\n",
       "      <td>6.50</td>\n",
       "      <td>7864.00</td>\n",
       "      <td>1</td>\n",
       "      <td>11</td>\n",
       "      <td>1992</td>\n",
       "      <td>Male</td>\n",
       "      <td>1971</td>\n",
       "      <td>0.0</td>\n",
       "      <td>0.0</td>\n",
       "      <td>72</td>\n",
       "      <td>...</td>\n",
       "      <td>1</td>\n",
       "      <td>0</td>\n",
       "      <td>0</td>\n",
       "      <td>0</td>\n",
       "      <td>0</td>\n",
       "      <td>0</td>\n",
       "      <td>0</td>\n",
       "      <td>0.09</td>\n",
       "      <td>6</td>\n",
       "      <td>terrible</td>\n",
       "    </tr>\n",
       "  </tbody>\n",
       "</table>\n",
       "<p>5 rows × 55 columns</p>\n",
       "</div>"
      ],
      "text/plain": [
       "     average_rating_value  average_rating_count  movies_produced  \\\n",
       "43                   6.92             197633.18               11   \n",
       "155                  6.70              27205.00                3   \n",
       "123                  5.50              20639.00                1   \n",
       "113                  7.40             290080.33                3   \n",
       "732                  6.50               7864.00                1   \n",
       "\n",
       "     career_Length  CareerStartYear  Gender  birthYear  \\\n",
       "43              46             1971    Male       1958   \n",
       "155             33             1982    Male       1956   \n",
       "123              3             1998  Female       1961   \n",
       "113             12             2005  Female       1961   \n",
       "732             11             1992    Male       1971   \n",
       "\n",
       "     median_inter_event_time  average_inter_event_time  \\\n",
       "43                       2.0                       2.0   \n",
       "155                      7.5                       7.5   \n",
       "123                      0.0                       0.0   \n",
       "113                      5.5                       5.5   \n",
       "732                      0.0                       0.0   \n",
       "\n",
       "     total_review_count_user  ...  total_genre_Sci_Fi  total_genre_Short  \\\n",
       "43                      7229  ...                   3                  0   \n",
       "155                      462  ...                   0                  0   \n",
       "123                      182  ...                   0                  0   \n",
       "113                     1786  ...                   1                  0   \n",
       "732                       72  ...                   1                  0   \n",
       "\n",
       "     total_genre_Sport  total_genre_Talk_Show  total_genre_Thriller  \\\n",
       "43                   0                      0                     2   \n",
       "155                  0                      0                     0   \n",
       "123                  0                      0                     0   \n",
       "113                  0                      0                     1   \n",
       "732                  0                      0                     0   \n",
       "\n",
       "     total_genre_War  total_genre_Western  average_movie_per_year  \\\n",
       "43                 0                    0                    0.24   \n",
       "155                0                    0                    0.09   \n",
       "123                0                    0                    0.33   \n",
       "113                0                    0                    0.25   \n",
       "732                0                    0                    0.09   \n",
       "\n",
       "     num_genres_directed  director_class  \n",
       "43                    15       excellent  \n",
       "155                    4            poor  \n",
       "123                    2            poor  \n",
       "113                    7       excellent  \n",
       "732                    6        terrible  \n",
       "\n",
       "[5 rows x 55 columns]"
      ]
     },
     "execution_count": 38,
     "metadata": {},
     "output_type": "execute_result"
    }
   ],
   "source": [
    "chosen_dataframe.head()"
   ]
  },
  {
   "cell_type": "markdown",
   "metadata": {},
   "source": [
    "# BIg skip"
   ]
  },
  {
   "cell_type": "markdown",
   "metadata": {},
   "source": [
    "### Scatter plot visualize - One feature vs another with respect to movie_class"
   ]
  },
  {
   "cell_type": "code",
   "execution_count": 39,
   "metadata": {},
   "outputs": [],
   "source": [
    "# visuaize_movies_data = movies_data.replace({'Gender' : { 'Male' : 1, 'Female' : 0 }})\n",
    "# visuaize_movies_data.drop(columns = 'Gender',inplace = True)\n",
    "\n",
    "visuaize_data = chosen_dataframe.copy()\n",
    "chosen_dataframe.drop(columns = chosen_feature_predicting,inplace = True)"
   ]
  },
  {
   "cell_type": "code",
   "execution_count": 40,
   "metadata": {},
   "outputs": [
    {
     "data": {
      "text/html": [
       "<div>\n",
       "<style scoped>\n",
       "    .dataframe tbody tr th:only-of-type {\n",
       "        vertical-align: middle;\n",
       "    }\n",
       "\n",
       "    .dataframe tbody tr th {\n",
       "        vertical-align: top;\n",
       "    }\n",
       "\n",
       "    .dataframe thead th {\n",
       "        text-align: right;\n",
       "    }\n",
       "</style>\n",
       "<table border=\"1\" class=\"dataframe\">\n",
       "  <thead>\n",
       "    <tr style=\"text-align: right;\">\n",
       "      <th></th>\n",
       "      <th>average_rating_value</th>\n",
       "      <th>average_rating_count</th>\n",
       "      <th>movies_produced</th>\n",
       "      <th>career_Length</th>\n",
       "      <th>CareerStartYear</th>\n",
       "      <th>Gender</th>\n",
       "      <th>birthYear</th>\n",
       "      <th>median_inter_event_time</th>\n",
       "      <th>average_inter_event_time</th>\n",
       "      <th>total_review_count_user</th>\n",
       "      <th>...</th>\n",
       "      <th>total_genre_Sci_Fi</th>\n",
       "      <th>total_genre_Short</th>\n",
       "      <th>total_genre_Sport</th>\n",
       "      <th>total_genre_Talk_Show</th>\n",
       "      <th>total_genre_Thriller</th>\n",
       "      <th>total_genre_War</th>\n",
       "      <th>total_genre_Western</th>\n",
       "      <th>average_movie_per_year</th>\n",
       "      <th>num_genres_directed</th>\n",
       "      <th>director_class</th>\n",
       "    </tr>\n",
       "  </thead>\n",
       "  <tbody>\n",
       "    <tr>\n",
       "      <th>43</th>\n",
       "      <td>6.92</td>\n",
       "      <td>197633.18</td>\n",
       "      <td>11</td>\n",
       "      <td>46</td>\n",
       "      <td>1971</td>\n",
       "      <td>Male</td>\n",
       "      <td>1958</td>\n",
       "      <td>2.0</td>\n",
       "      <td>2.0</td>\n",
       "      <td>7229</td>\n",
       "      <td>...</td>\n",
       "      <td>3</td>\n",
       "      <td>0</td>\n",
       "      <td>0</td>\n",
       "      <td>0</td>\n",
       "      <td>2</td>\n",
       "      <td>0</td>\n",
       "      <td>0</td>\n",
       "      <td>0.24</td>\n",
       "      <td>15</td>\n",
       "      <td>excellent</td>\n",
       "    </tr>\n",
       "    <tr>\n",
       "      <th>155</th>\n",
       "      <td>6.70</td>\n",
       "      <td>27205.00</td>\n",
       "      <td>3</td>\n",
       "      <td>33</td>\n",
       "      <td>1982</td>\n",
       "      <td>Male</td>\n",
       "      <td>1956</td>\n",
       "      <td>7.5</td>\n",
       "      <td>7.5</td>\n",
       "      <td>462</td>\n",
       "      <td>...</td>\n",
       "      <td>0</td>\n",
       "      <td>0</td>\n",
       "      <td>0</td>\n",
       "      <td>0</td>\n",
       "      <td>0</td>\n",
       "      <td>0</td>\n",
       "      <td>0</td>\n",
       "      <td>0.09</td>\n",
       "      <td>4</td>\n",
       "      <td>poor</td>\n",
       "    </tr>\n",
       "    <tr>\n",
       "      <th>123</th>\n",
       "      <td>5.50</td>\n",
       "      <td>20639.00</td>\n",
       "      <td>1</td>\n",
       "      <td>3</td>\n",
       "      <td>1998</td>\n",
       "      <td>Female</td>\n",
       "      <td>1961</td>\n",
       "      <td>0.0</td>\n",
       "      <td>0.0</td>\n",
       "      <td>182</td>\n",
       "      <td>...</td>\n",
       "      <td>0</td>\n",
       "      <td>0</td>\n",
       "      <td>0</td>\n",
       "      <td>0</td>\n",
       "      <td>0</td>\n",
       "      <td>0</td>\n",
       "      <td>0</td>\n",
       "      <td>0.33</td>\n",
       "      <td>2</td>\n",
       "      <td>poor</td>\n",
       "    </tr>\n",
       "    <tr>\n",
       "      <th>113</th>\n",
       "      <td>7.40</td>\n",
       "      <td>290080.33</td>\n",
       "      <td>3</td>\n",
       "      <td>12</td>\n",
       "      <td>2005</td>\n",
       "      <td>Female</td>\n",
       "      <td>1961</td>\n",
       "      <td>5.5</td>\n",
       "      <td>5.5</td>\n",
       "      <td>1786</td>\n",
       "      <td>...</td>\n",
       "      <td>1</td>\n",
       "      <td>0</td>\n",
       "      <td>0</td>\n",
       "      <td>0</td>\n",
       "      <td>1</td>\n",
       "      <td>0</td>\n",
       "      <td>0</td>\n",
       "      <td>0.25</td>\n",
       "      <td>7</td>\n",
       "      <td>excellent</td>\n",
       "    </tr>\n",
       "    <tr>\n",
       "      <th>732</th>\n",
       "      <td>6.50</td>\n",
       "      <td>7864.00</td>\n",
       "      <td>1</td>\n",
       "      <td>11</td>\n",
       "      <td>1992</td>\n",
       "      <td>Male</td>\n",
       "      <td>1971</td>\n",
       "      <td>0.0</td>\n",
       "      <td>0.0</td>\n",
       "      <td>72</td>\n",
       "      <td>...</td>\n",
       "      <td>1</td>\n",
       "      <td>0</td>\n",
       "      <td>0</td>\n",
       "      <td>0</td>\n",
       "      <td>0</td>\n",
       "      <td>0</td>\n",
       "      <td>0</td>\n",
       "      <td>0.09</td>\n",
       "      <td>6</td>\n",
       "      <td>terrible</td>\n",
       "    </tr>\n",
       "    <tr>\n",
       "      <th>...</th>\n",
       "      <td>...</td>\n",
       "      <td>...</td>\n",
       "      <td>...</td>\n",
       "      <td>...</td>\n",
       "      <td>...</td>\n",
       "      <td>...</td>\n",
       "      <td>...</td>\n",
       "      <td>...</td>\n",
       "      <td>...</td>\n",
       "      <td>...</td>\n",
       "      <td>...</td>\n",
       "      <td>...</td>\n",
       "      <td>...</td>\n",
       "      <td>...</td>\n",
       "      <td>...</td>\n",
       "      <td>...</td>\n",
       "      <td>...</td>\n",
       "      <td>...</td>\n",
       "      <td>...</td>\n",
       "      <td>...</td>\n",
       "      <td>...</td>\n",
       "    </tr>\n",
       "    <tr>\n",
       "      <th>87</th>\n",
       "      <td>5.75</td>\n",
       "      <td>11321.00</td>\n",
       "      <td>2</td>\n",
       "      <td>41</td>\n",
       "      <td>1964</td>\n",
       "      <td>Male</td>\n",
       "      <td>1946</td>\n",
       "      <td>6.0</td>\n",
       "      <td>6.0</td>\n",
       "      <td>239</td>\n",
       "      <td>...</td>\n",
       "      <td>0</td>\n",
       "      <td>0</td>\n",
       "      <td>0</td>\n",
       "      <td>0</td>\n",
       "      <td>0</td>\n",
       "      <td>0</td>\n",
       "      <td>0</td>\n",
       "      <td>0.05</td>\n",
       "      <td>2</td>\n",
       "      <td>poor</td>\n",
       "    </tr>\n",
       "    <tr>\n",
       "      <th>466</th>\n",
       "      <td>6.07</td>\n",
       "      <td>79634.33</td>\n",
       "      <td>3</td>\n",
       "      <td>13</td>\n",
       "      <td>1993</td>\n",
       "      <td>Female</td>\n",
       "      <td>1966</td>\n",
       "      <td>2.0</td>\n",
       "      <td>2.0</td>\n",
       "      <td>552</td>\n",
       "      <td>...</td>\n",
       "      <td>0</td>\n",
       "      <td>0</td>\n",
       "      <td>1</td>\n",
       "      <td>0</td>\n",
       "      <td>0</td>\n",
       "      <td>0</td>\n",
       "      <td>0</td>\n",
       "      <td>0.23</td>\n",
       "      <td>5</td>\n",
       "      <td>average</td>\n",
       "    </tr>\n",
       "    <tr>\n",
       "      <th>121</th>\n",
       "      <td>5.30</td>\n",
       "      <td>18823.00</td>\n",
       "      <td>1</td>\n",
       "      <td>21</td>\n",
       "      <td>1983</td>\n",
       "      <td>Female</td>\n",
       "      <td>1954</td>\n",
       "      <td>0.0</td>\n",
       "      <td>0.0</td>\n",
       "      <td>356</td>\n",
       "      <td>...</td>\n",
       "      <td>0</td>\n",
       "      <td>0</td>\n",
       "      <td>0</td>\n",
       "      <td>0</td>\n",
       "      <td>1</td>\n",
       "      <td>0</td>\n",
       "      <td>0</td>\n",
       "      <td>0.05</td>\n",
       "      <td>2</td>\n",
       "      <td>poor</td>\n",
       "    </tr>\n",
       "    <tr>\n",
       "      <th>1044</th>\n",
       "      <td>5.80</td>\n",
       "      <td>30158.00</td>\n",
       "      <td>1</td>\n",
       "      <td>13</td>\n",
       "      <td>2001</td>\n",
       "      <td>Female</td>\n",
       "      <td>1975</td>\n",
       "      <td>0.0</td>\n",
       "      <td>0.0</td>\n",
       "      <td>79</td>\n",
       "      <td>...</td>\n",
       "      <td>0</td>\n",
       "      <td>0</td>\n",
       "      <td>0</td>\n",
       "      <td>0</td>\n",
       "      <td>0</td>\n",
       "      <td>0</td>\n",
       "      <td>0</td>\n",
       "      <td>0.08</td>\n",
       "      <td>2</td>\n",
       "      <td>poor</td>\n",
       "    </tr>\n",
       "    <tr>\n",
       "      <th>1126</th>\n",
       "      <td>7.00</td>\n",
       "      <td>359772.00</td>\n",
       "      <td>5</td>\n",
       "      <td>18</td>\n",
       "      <td>1998</td>\n",
       "      <td>Female</td>\n",
       "      <td>1971</td>\n",
       "      <td>1.5</td>\n",
       "      <td>2.5</td>\n",
       "      <td>4124</td>\n",
       "      <td>...</td>\n",
       "      <td>4</td>\n",
       "      <td>0</td>\n",
       "      <td>0</td>\n",
       "      <td>0</td>\n",
       "      <td>4</td>\n",
       "      <td>0</td>\n",
       "      <td>0</td>\n",
       "      <td>0.28</td>\n",
       "      <td>8</td>\n",
       "      <td>excellent</td>\n",
       "    </tr>\n",
       "  </tbody>\n",
       "</table>\n",
       "<p>354 rows × 55 columns</p>\n",
       "</div>"
      ],
      "text/plain": [
       "      average_rating_value  average_rating_count  movies_produced  \\\n",
       "43                    6.92             197633.18               11   \n",
       "155                   6.70              27205.00                3   \n",
       "123                   5.50              20639.00                1   \n",
       "113                   7.40             290080.33                3   \n",
       "732                   6.50               7864.00                1   \n",
       "...                    ...                   ...              ...   \n",
       "87                    5.75              11321.00                2   \n",
       "466                   6.07              79634.33                3   \n",
       "121                   5.30              18823.00                1   \n",
       "1044                  5.80              30158.00                1   \n",
       "1126                  7.00             359772.00                5   \n",
       "\n",
       "      career_Length  CareerStartYear  Gender  birthYear  \\\n",
       "43               46             1971    Male       1958   \n",
       "155              33             1982    Male       1956   \n",
       "123               3             1998  Female       1961   \n",
       "113              12             2005  Female       1961   \n",
       "732              11             1992    Male       1971   \n",
       "...             ...              ...     ...        ...   \n",
       "87               41             1964    Male       1946   \n",
       "466              13             1993  Female       1966   \n",
       "121              21             1983  Female       1954   \n",
       "1044             13             2001  Female       1975   \n",
       "1126             18             1998  Female       1971   \n",
       "\n",
       "      median_inter_event_time  average_inter_event_time  \\\n",
       "43                        2.0                       2.0   \n",
       "155                       7.5                       7.5   \n",
       "123                       0.0                       0.0   \n",
       "113                       5.5                       5.5   \n",
       "732                       0.0                       0.0   \n",
       "...                       ...                       ...   \n",
       "87                        6.0                       6.0   \n",
       "466                       2.0                       2.0   \n",
       "121                       0.0                       0.0   \n",
       "1044                      0.0                       0.0   \n",
       "1126                      1.5                       2.5   \n",
       "\n",
       "      total_review_count_user  ...  total_genre_Sci_Fi  total_genre_Short  \\\n",
       "43                       7229  ...                   3                  0   \n",
       "155                       462  ...                   0                  0   \n",
       "123                       182  ...                   0                  0   \n",
       "113                      1786  ...                   1                  0   \n",
       "732                        72  ...                   1                  0   \n",
       "...                       ...  ...                 ...                ...   \n",
       "87                        239  ...                   0                  0   \n",
       "466                       552  ...                   0                  0   \n",
       "121                       356  ...                   0                  0   \n",
       "1044                       79  ...                   0                  0   \n",
       "1126                     4124  ...                   4                  0   \n",
       "\n",
       "      total_genre_Sport  total_genre_Talk_Show  total_genre_Thriller  \\\n",
       "43                    0                      0                     2   \n",
       "155                   0                      0                     0   \n",
       "123                   0                      0                     0   \n",
       "113                   0                      0                     1   \n",
       "732                   0                      0                     0   \n",
       "...                 ...                    ...                   ...   \n",
       "87                    0                      0                     0   \n",
       "466                   1                      0                     0   \n",
       "121                   0                      0                     1   \n",
       "1044                  0                      0                     0   \n",
       "1126                  0                      0                     4   \n",
       "\n",
       "      total_genre_War  total_genre_Western  average_movie_per_year  \\\n",
       "43                  0                    0                    0.24   \n",
       "155                 0                    0                    0.09   \n",
       "123                 0                    0                    0.33   \n",
       "113                 0                    0                    0.25   \n",
       "732                 0                    0                    0.09   \n",
       "...               ...                  ...                     ...   \n",
       "87                  0                    0                    0.05   \n",
       "466                 0                    0                    0.23   \n",
       "121                 0                    0                    0.05   \n",
       "1044                0                    0                    0.08   \n",
       "1126                0                    0                    0.28   \n",
       "\n",
       "      num_genres_directed  director_class  \n",
       "43                     15       excellent  \n",
       "155                     4            poor  \n",
       "123                     2            poor  \n",
       "113                     7       excellent  \n",
       "732                     6        terrible  \n",
       "...                   ...             ...  \n",
       "87                      2            poor  \n",
       "466                     5         average  \n",
       "121                     2            poor  \n",
       "1044                    2            poor  \n",
       "1126                    8       excellent  \n",
       "\n",
       "[354 rows x 55 columns]"
      ]
     },
     "execution_count": 40,
     "metadata": {},
     "output_type": "execute_result"
    }
   ],
   "source": [
    "visuaize_data"
   ]
  },
  {
   "cell_type": "code",
   "execution_count": 41,
   "metadata": {},
   "outputs": [],
   "source": [
    "# sample_movies_data = visuaize_movies_data.sample(n=10000,replace = False, random_state =42)\n",
    "sample_movies_data = visuaize_data.copy()\n"
   ]
  },
  {
   "cell_type": "code",
   "execution_count": 42,
   "metadata": {
    "scrolled": true
   },
   "outputs": [
    {
     "name": "stdout",
     "output_type": "stream",
     "text": [
      "Quantiles bin range\n",
      "Quantile 0 : (100.999, 10900.0] \n",
      "Quantile 1 : (10900.0, 32241.5] \n",
      "Quantile 2 : (32241.5, 96157.75] \n",
      "Quantile 3 : (96157.75, 636289.0] \n"
     ]
    }
   ],
   "source": [
    "cutIntoQuartiles = pd.qcut(sample_movies_data[chosen_feature_predicting].to_list(), q=4)\n",
    "print(\"Quantiles bin range\")\n",
    "for i,num in enumerate(cutIntoQuartiles.categories):\n",
    "    print(\"Quantile {0} : {1} \".format(i,num))"
   ]
  },
  {
   "cell_type": "code",
   "execution_count": 43,
   "metadata": {},
   "outputs": [
    {
     "data": {
      "text/plain": [
       "Male      70\n",
       "Female    69\n",
       "Name: Gender, dtype: int64"
      ]
     },
     "execution_count": 43,
     "metadata": {},
     "output_type": "execute_result"
    }
   ],
   "source": [
    "sample_movies_data[sample_movies_data[chosen_feature_predicting] > 50000.0]['Gender'].value_counts()"
   ]
  },
  {
   "cell_type": "code",
   "execution_count": 44,
   "metadata": {},
   "outputs": [
    {
     "data": {
      "text/plain": [
       "0.49640287769784175"
      ]
     },
     "execution_count": 44,
     "metadata": {},
     "output_type": "execute_result"
    }
   ],
   "source": [
    "sample_movies_data[sample_movies_data[chosen_feature_predicting] > 50000.0]['Gender'].value_counts()['Female'] / sample_movies_data[sample_movies_data[chosen_feature_predicting] > 50000.0]['Gender'].value_counts().sum()"
   ]
  },
  {
   "cell_type": "code",
   "execution_count": 45,
   "metadata": {},
   "outputs": [],
   "source": [
    "# Function to Plot - Distribution of rating value among male and female. \n",
    "\n",
    "def plot_features_WRT_gender(df,columnCriteriaName,columnFeatureName):\n",
    "    dict={}\n",
    "    for i in df[columnCriteriaName].value_counts().index:\n",
    "        dict[\"{0}_{1}\".format(columnFeatureName,i)] = df[(df[columnCriteriaName] == i)][columnFeatureName]\n",
    "    for k,v in dict.items():\n",
    "        sns.distplot(v,label=[k])\n",
    "        plt.legend(bbox_to_anchor=(1.05, 0.6), loc=2, borderaxespad=0.)\n"
   ]
  },
  {
   "cell_type": "code",
   "execution_count": 46,
   "metadata": {},
   "outputs": [
    {
     "data": {
      "image/png": "[encoded data removed]",
      "text/plain": [
       "<Figure size 432x288 with 1 Axes>"
      ]
     },
     "metadata": {
      "needs_background": "light"
     },
     "output_type": "display_data"
    }
   ],
   "source": [
    "plot_features_WRT_gender(sample_movies_data,\"Gender\",chosen_feature_predicting)"
   ]
  },
  {
   "cell_type": "code",
   "execution_count": 47,
   "metadata": {},
   "outputs": [
    {
     "name": "stdout",
     "output_type": "stream",
     "text": [
      "        average_rating_count\n",
      "Gender                      \n",
      "Female              636289.0\n",
      "Male                434192.0\n"
     ]
    },
    {
     "data": {
      "image/png": "[encoded data removed]",
      "text/plain": [
       "<Figure size 700x500 with 1 Axes>"
      ]
     },
     "metadata": {
      "needs_background": "light"
     },
     "output_type": "display_data"
    }
   ],
   "source": [
    "# Groupby: cutwise median\n",
    "\n",
    "type_class = sample_movies_data[[chosen_feature_predicting, 'Gender']].groupby('Gender').max().round(2)\n",
    "print(type_class)\n",
    "\n",
    "fig, axes = plt.subplots(figsize=(7,5), dpi=100)\n",
    "plt.bar(type_class.index, height=type_class[chosen_feature_predicting])\n",
    "plt.title('Barplot of Mean rating based on Gender');"
   ]
  },
  {
   "cell_type": "code",
   "execution_count": 48,
   "metadata": {},
   "outputs": [
    {
     "name": "stdout",
     "output_type": "stream",
     "text": [
      "                average_rating_count\n",
      "director_class                      \n",
      "average                           88\n",
      "excellent                         89\n",
      "poor                              88\n",
      "terrible                          89\n"
     ]
    },
    {
     "data": {
      "image/png": "[encoded data removed]",
      "text/plain": [
       "<Figure size 700x500 with 1 Axes>"
      ]
     },
     "metadata": {
      "needs_background": "light"
     },
     "output_type": "display_data"
    }
   ],
   "source": [
    "# Groupby: cutwise median\n",
    "\n",
    "type_class = sample_movies_data[[chosen_success_class, chosen_feature_predicting]].groupby(chosen_success_class).count()\n",
    "print(type_class)\n",
    "\n",
    "fig, axes = plt.subplots(figsize=(7,5), dpi=100)\n",
    "plt.bar(type_class.index, height=type_class[chosen_feature_predicting])\n",
    "plt.title('Barplot of Mean rating based on success class');"
   ]
  },
  {
   "cell_type": "markdown",
   "metadata": {},
   "source": [
    "### Binarize the gender column to 1's and 0's"
   ]
  },
  {
   "cell_type": "code",
   "execution_count": 49,
   "metadata": {},
   "outputs": [],
   "source": [
    "\n",
    "lb = preprocessing.LabelBinarizer()\n",
    "sample_movies_data['Gender'] = lb.fit_transform(sample_movies_data['Gender'])"
   ]
  },
  {
   "cell_type": "code",
   "execution_count": 50,
   "metadata": {},
   "outputs": [
    {
     "data": {
      "text/html": [
       "<div>\n",
       "<style scoped>\n",
       "    .dataframe tbody tr th:only-of-type {\n",
       "        vertical-align: middle;\n",
       "    }\n",
       "\n",
       "    .dataframe tbody tr th {\n",
       "        vertical-align: top;\n",
       "    }\n",
       "\n",
       "    .dataframe thead th {\n",
       "        text-align: right;\n",
       "    }\n",
       "</style>\n",
       "<table border=\"1\" class=\"dataframe\">\n",
       "  <thead>\n",
       "    <tr style=\"text-align: right;\">\n",
       "      <th></th>\n",
       "      <th>average_rating_value</th>\n",
       "      <th>average_rating_count</th>\n",
       "      <th>movies_produced</th>\n",
       "      <th>career_Length</th>\n",
       "      <th>CareerStartYear</th>\n",
       "      <th>Gender</th>\n",
       "      <th>birthYear</th>\n",
       "      <th>median_inter_event_time</th>\n",
       "      <th>average_inter_event_time</th>\n",
       "      <th>total_review_count_user</th>\n",
       "      <th>...</th>\n",
       "      <th>total_genre_Sci_Fi</th>\n",
       "      <th>total_genre_Short</th>\n",
       "      <th>total_genre_Sport</th>\n",
       "      <th>total_genre_Talk_Show</th>\n",
       "      <th>total_genre_Thriller</th>\n",
       "      <th>total_genre_War</th>\n",
       "      <th>total_genre_Western</th>\n",
       "      <th>average_movie_per_year</th>\n",
       "      <th>num_genres_directed</th>\n",
       "      <th>director_class</th>\n",
       "    </tr>\n",
       "  </thead>\n",
       "  <tbody>\n",
       "    <tr>\n",
       "      <th>43</th>\n",
       "      <td>6.92</td>\n",
       "      <td>197633.18</td>\n",
       "      <td>11</td>\n",
       "      <td>46</td>\n",
       "      <td>1971</td>\n",
       "      <td>1</td>\n",
       "      <td>1958</td>\n",
       "      <td>2.0</td>\n",
       "      <td>2.0</td>\n",
       "      <td>7229</td>\n",
       "      <td>...</td>\n",
       "      <td>3</td>\n",
       "      <td>0</td>\n",
       "      <td>0</td>\n",
       "      <td>0</td>\n",
       "      <td>2</td>\n",
       "      <td>0</td>\n",
       "      <td>0</td>\n",
       "      <td>0.24</td>\n",
       "      <td>15</td>\n",
       "      <td>excellent</td>\n",
       "    </tr>\n",
       "    <tr>\n",
       "      <th>155</th>\n",
       "      <td>6.70</td>\n",
       "      <td>27205.00</td>\n",
       "      <td>3</td>\n",
       "      <td>33</td>\n",
       "      <td>1982</td>\n",
       "      <td>1</td>\n",
       "      <td>1956</td>\n",
       "      <td>7.5</td>\n",
       "      <td>7.5</td>\n",
       "      <td>462</td>\n",
       "      <td>...</td>\n",
       "      <td>0</td>\n",
       "      <td>0</td>\n",
       "      <td>0</td>\n",
       "      <td>0</td>\n",
       "      <td>0</td>\n",
       "      <td>0</td>\n",
       "      <td>0</td>\n",
       "      <td>0.09</td>\n",
       "      <td>4</td>\n",
       "      <td>poor</td>\n",
       "    </tr>\n",
       "    <tr>\n",
       "      <th>123</th>\n",
       "      <td>5.50</td>\n",
       "      <td>20639.00</td>\n",
       "      <td>1</td>\n",
       "      <td>3</td>\n",
       "      <td>1998</td>\n",
       "      <td>0</td>\n",
       "      <td>1961</td>\n",
       "      <td>0.0</td>\n",
       "      <td>0.0</td>\n",
       "      <td>182</td>\n",
       "      <td>...</td>\n",
       "      <td>0</td>\n",
       "      <td>0</td>\n",
       "      <td>0</td>\n",
       "      <td>0</td>\n",
       "      <td>0</td>\n",
       "      <td>0</td>\n",
       "      <td>0</td>\n",
       "      <td>0.33</td>\n",
       "      <td>2</td>\n",
       "      <td>poor</td>\n",
       "    </tr>\n",
       "    <tr>\n",
       "      <th>113</th>\n",
       "      <td>7.40</td>\n",
       "      <td>290080.33</td>\n",
       "      <td>3</td>\n",
       "      <td>12</td>\n",
       "      <td>2005</td>\n",
       "      <td>0</td>\n",
       "      <td>1961</td>\n",
       "      <td>5.5</td>\n",
       "      <td>5.5</td>\n",
       "      <td>1786</td>\n",
       "      <td>...</td>\n",
       "      <td>1</td>\n",
       "      <td>0</td>\n",
       "      <td>0</td>\n",
       "      <td>0</td>\n",
       "      <td>1</td>\n",
       "      <td>0</td>\n",
       "      <td>0</td>\n",
       "      <td>0.25</td>\n",
       "      <td>7</td>\n",
       "      <td>excellent</td>\n",
       "    </tr>\n",
       "    <tr>\n",
       "      <th>732</th>\n",
       "      <td>6.50</td>\n",
       "      <td>7864.00</td>\n",
       "      <td>1</td>\n",
       "      <td>11</td>\n",
       "      <td>1992</td>\n",
       "      <td>1</td>\n",
       "      <td>1971</td>\n",
       "      <td>0.0</td>\n",
       "      <td>0.0</td>\n",
       "      <td>72</td>\n",
       "      <td>...</td>\n",
       "      <td>1</td>\n",
       "      <td>0</td>\n",
       "      <td>0</td>\n",
       "      <td>0</td>\n",
       "      <td>0</td>\n",
       "      <td>0</td>\n",
       "      <td>0</td>\n",
       "      <td>0.09</td>\n",
       "      <td>6</td>\n",
       "      <td>terrible</td>\n",
       "    </tr>\n",
       "  </tbody>\n",
       "</table>\n",
       "<p>5 rows × 55 columns</p>\n",
       "</div>"
      ],
      "text/plain": [
       "     average_rating_value  average_rating_count  movies_produced  \\\n",
       "43                   6.92             197633.18               11   \n",
       "155                  6.70              27205.00                3   \n",
       "123                  5.50              20639.00                1   \n",
       "113                  7.40             290080.33                3   \n",
       "732                  6.50               7864.00                1   \n",
       "\n",
       "     career_Length  CareerStartYear  Gender  birthYear  \\\n",
       "43              46             1971       1       1958   \n",
       "155             33             1982       1       1956   \n",
       "123              3             1998       0       1961   \n",
       "113             12             2005       0       1961   \n",
       "732             11             1992       1       1971   \n",
       "\n",
       "     median_inter_event_time  average_inter_event_time  \\\n",
       "43                       2.0                       2.0   \n",
       "155                      7.5                       7.5   \n",
       "123                      0.0                       0.0   \n",
       "113                      5.5                       5.5   \n",
       "732                      0.0                       0.0   \n",
       "\n",
       "     total_review_count_user  ...  total_genre_Sci_Fi  total_genre_Short  \\\n",
       "43                      7229  ...                   3                  0   \n",
       "155                      462  ...                   0                  0   \n",
       "123                      182  ...                   0                  0   \n",
       "113                     1786  ...                   1                  0   \n",
       "732                       72  ...                   1                  0   \n",
       "\n",
       "     total_genre_Sport  total_genre_Talk_Show  total_genre_Thriller  \\\n",
       "43                   0                      0                     2   \n",
       "155                  0                      0                     0   \n",
       "123                  0                      0                     0   \n",
       "113                  0                      0                     1   \n",
       "732                  0                      0                     0   \n",
       "\n",
       "     total_genre_War  total_genre_Western  average_movie_per_year  \\\n",
       "43                 0                    0                    0.24   \n",
       "155                0                    0                    0.09   \n",
       "123                0                    0                    0.33   \n",
       "113                0                    0                    0.25   \n",
       "732                0                    0                    0.09   \n",
       "\n",
       "     num_genres_directed  director_class  \n",
       "43                    15       excellent  \n",
       "155                    4            poor  \n",
       "123                    2            poor  \n",
       "113                    7       excellent  \n",
       "732                    6        terrible  \n",
       "\n",
       "[5 rows x 55 columns]"
      ]
     },
     "execution_count": 50,
     "metadata": {},
     "output_type": "execute_result"
    }
   ],
   "source": [
    "sample_movies_data.head()"
   ]
  },
  {
   "cell_type": "code",
   "execution_count": 51,
   "metadata": {},
   "outputs": [],
   "source": [
    "data_to_be_normalized = sample_movies_data.select_dtypes(include=[np.number])"
   ]
  },
  {
   "cell_type": "code",
   "execution_count": 52,
   "metadata": {},
   "outputs": [],
   "source": [
    "columnsNormalized = data_to_be_normalized.columns"
   ]
  },
  {
   "cell_type": "markdown",
   "metadata": {},
   "source": [
    "## Minmax Scaler"
   ]
  },
  {
   "cell_type": "code",
   "execution_count": 53,
   "metadata": {},
   "outputs": [],
   "source": [
    "x = data_to_be_normalized.values #returns a numpy array\n",
    "min_max_scaler = preprocessing.MinMaxScaler()\n",
    "x_scaled = min_max_scaler.fit_transform(x)\n",
    "normalized_numbers = pd.DataFrame(x_scaled)"
   ]
  },
  {
   "cell_type": "markdown",
   "metadata": {},
   "source": [
    "## Robust Sclaer"
   ]
  },
  {
   "cell_type": "code",
   "execution_count": 54,
   "metadata": {},
   "outputs": [],
   "source": [
    "# from sklearn.preprocessing import RobustScaler\n",
    "\n",
    "# x = data_to_be_normalized.values #returns a numpy array\n",
    "# robust_scaler = preprocessing.RobustScaler()\n",
    "# x_scaled = robust_scaler.fit_transform(x)\n",
    "# normalized_numbers = pd.DataFrame(x_scaled)"
   ]
  },
  {
   "cell_type": "code",
   "execution_count": 55,
   "metadata": {},
   "outputs": [],
   "source": [
    "normalized_numbers.columns = columnsNormalized"
   ]
  },
  {
   "cell_type": "code",
   "execution_count": 56,
   "metadata": {},
   "outputs": [
    {
     "data": {
      "text/html": [
       "<div>\n",
       "<style scoped>\n",
       "    .dataframe tbody tr th:only-of-type {\n",
       "        vertical-align: middle;\n",
       "    }\n",
       "\n",
       "    .dataframe tbody tr th {\n",
       "        vertical-align: top;\n",
       "    }\n",
       "\n",
       "    .dataframe thead th {\n",
       "        text-align: right;\n",
       "    }\n",
       "</style>\n",
       "<table border=\"1\" class=\"dataframe\">\n",
       "  <thead>\n",
       "    <tr style=\"text-align: right;\">\n",
       "      <th></th>\n",
       "      <th>average_rating_value</th>\n",
       "      <th>average_rating_count</th>\n",
       "      <th>movies_produced</th>\n",
       "      <th>career_Length</th>\n",
       "      <th>CareerStartYear</th>\n",
       "      <th>Gender</th>\n",
       "      <th>birthYear</th>\n",
       "      <th>median_inter_event_time</th>\n",
       "      <th>average_inter_event_time</th>\n",
       "      <th>total_review_count_user</th>\n",
       "      <th>...</th>\n",
       "      <th>total_genre_Sci_Fi</th>\n",
       "      <th>total_genre_Short</th>\n",
       "      <th>total_genre_Sport</th>\n",
       "      <th>total_genre_Talk_Show</th>\n",
       "      <th>total_genre_Thriller</th>\n",
       "      <th>total_genre_War</th>\n",
       "      <th>total_genre_Western</th>\n",
       "      <th>average_movie_per_year</th>\n",
       "      <th>num_genres_directed</th>\n",
       "      <th>director_class</th>\n",
       "    </tr>\n",
       "  </thead>\n",
       "  <tbody>\n",
       "    <tr>\n",
       "      <th>43</th>\n",
       "      <td>0.783740</td>\n",
       "      <td>0.310493</td>\n",
       "      <td>0.909091</td>\n",
       "      <td>0.750000</td>\n",
       "      <td>0.541667</td>\n",
       "      <td>1.0</td>\n",
       "      <td>0.696970</td>\n",
       "      <td>0.12500</td>\n",
       "      <td>0.12500</td>\n",
       "      <td>0.616533</td>\n",
       "      <td>...</td>\n",
       "      <td>0.75</td>\n",
       "      <td>0.0</td>\n",
       "      <td>0.0</td>\n",
       "      <td>0.0</td>\n",
       "      <td>0.333333</td>\n",
       "      <td>0.0</td>\n",
       "      <td>0.0</td>\n",
       "      <td>0.224490</td>\n",
       "      <td>1.000000</td>\n",
       "      <td>excellent</td>\n",
       "    </tr>\n",
       "    <tr>\n",
       "      <th>155</th>\n",
       "      <td>0.747967</td>\n",
       "      <td>0.042604</td>\n",
       "      <td>0.181818</td>\n",
       "      <td>0.533333</td>\n",
       "      <td>0.656250</td>\n",
       "      <td>1.0</td>\n",
       "      <td>0.676768</td>\n",
       "      <td>0.46875</td>\n",
       "      <td>0.46875</td>\n",
       "      <td>0.039242</td>\n",
       "      <td>...</td>\n",
       "      <td>0.00</td>\n",
       "      <td>0.0</td>\n",
       "      <td>0.0</td>\n",
       "      <td>0.0</td>\n",
       "      <td>0.000000</td>\n",
       "      <td>0.0</td>\n",
       "      <td>0.0</td>\n",
       "      <td>0.071429</td>\n",
       "      <td>0.214286</td>\n",
       "      <td>poor</td>\n",
       "    </tr>\n",
       "    <tr>\n",
       "      <th>123</th>\n",
       "      <td>0.552846</td>\n",
       "      <td>0.032283</td>\n",
       "      <td>0.000000</td>\n",
       "      <td>0.033333</td>\n",
       "      <td>0.822917</td>\n",
       "      <td>0.0</td>\n",
       "      <td>0.727273</td>\n",
       "      <td>0.00000</td>\n",
       "      <td>0.00000</td>\n",
       "      <td>0.015356</td>\n",
       "      <td>...</td>\n",
       "      <td>0.00</td>\n",
       "      <td>0.0</td>\n",
       "      <td>0.0</td>\n",
       "      <td>0.0</td>\n",
       "      <td>0.000000</td>\n",
       "      <td>0.0</td>\n",
       "      <td>0.0</td>\n",
       "      <td>0.316327</td>\n",
       "      <td>0.071429</td>\n",
       "      <td>poor</td>\n",
       "    </tr>\n",
       "    <tr>\n",
       "      <th>113</th>\n",
       "      <td>0.861789</td>\n",
       "      <td>0.455808</td>\n",
       "      <td>0.181818</td>\n",
       "      <td>0.183333</td>\n",
       "      <td>0.895833</td>\n",
       "      <td>0.0</td>\n",
       "      <td>0.727273</td>\n",
       "      <td>0.34375</td>\n",
       "      <td>0.34375</td>\n",
       "      <td>0.152192</td>\n",
       "      <td>...</td>\n",
       "      <td>0.25</td>\n",
       "      <td>0.0</td>\n",
       "      <td>0.0</td>\n",
       "      <td>0.0</td>\n",
       "      <td>0.166667</td>\n",
       "      <td>0.0</td>\n",
       "      <td>0.0</td>\n",
       "      <td>0.234694</td>\n",
       "      <td>0.428571</td>\n",
       "      <td>excellent</td>\n",
       "    </tr>\n",
       "    <tr>\n",
       "      <th>732</th>\n",
       "      <td>0.715447</td>\n",
       "      <td>0.012202</td>\n",
       "      <td>0.000000</td>\n",
       "      <td>0.166667</td>\n",
       "      <td>0.760417</td>\n",
       "      <td>1.0</td>\n",
       "      <td>0.828283</td>\n",
       "      <td>0.00000</td>\n",
       "      <td>0.00000</td>\n",
       "      <td>0.005972</td>\n",
       "      <td>...</td>\n",
       "      <td>0.25</td>\n",
       "      <td>0.0</td>\n",
       "      <td>0.0</td>\n",
       "      <td>0.0</td>\n",
       "      <td>0.000000</td>\n",
       "      <td>0.0</td>\n",
       "      <td>0.0</td>\n",
       "      <td>0.071429</td>\n",
       "      <td>0.357143</td>\n",
       "      <td>terrible</td>\n",
       "    </tr>\n",
       "  </tbody>\n",
       "</table>\n",
       "<p>5 rows × 55 columns</p>\n",
       "</div>"
      ],
      "text/plain": [
       "     average_rating_value  average_rating_count  movies_produced  \\\n",
       "43               0.783740              0.310493         0.909091   \n",
       "155              0.747967              0.042604         0.181818   \n",
       "123              0.552846              0.032283         0.000000   \n",
       "113              0.861789              0.455808         0.181818   \n",
       "732              0.715447              0.012202         0.000000   \n",
       "\n",
       "     career_Length  CareerStartYear  Gender  birthYear  \\\n",
       "43        0.750000         0.541667     1.0   0.696970   \n",
       "155       0.533333         0.656250     1.0   0.676768   \n",
       "123       0.033333         0.822917     0.0   0.727273   \n",
       "113       0.183333         0.895833     0.0   0.727273   \n",
       "732       0.166667         0.760417     1.0   0.828283   \n",
       "\n",
       "     median_inter_event_time  average_inter_event_time  \\\n",
       "43                   0.12500                   0.12500   \n",
       "155                  0.46875                   0.46875   \n",
       "123                  0.00000                   0.00000   \n",
       "113                  0.34375                   0.34375   \n",
       "732                  0.00000                   0.00000   \n",
       "\n",
       "     total_review_count_user  ...  total_genre_Sci_Fi  total_genre_Short  \\\n",
       "43                  0.616533  ...                0.75                0.0   \n",
       "155                 0.039242  ...                0.00                0.0   \n",
       "123                 0.015356  ...                0.00                0.0   \n",
       "113                 0.152192  ...                0.25                0.0   \n",
       "732                 0.005972  ...                0.25                0.0   \n",
       "\n",
       "     total_genre_Sport  total_genre_Talk_Show  total_genre_Thriller  \\\n",
       "43                 0.0                    0.0              0.333333   \n",
       "155                0.0                    0.0              0.000000   \n",
       "123                0.0                    0.0              0.000000   \n",
       "113                0.0                    0.0              0.166667   \n",
       "732                0.0                    0.0              0.000000   \n",
       "\n",
       "     total_genre_War  total_genre_Western  average_movie_per_year  \\\n",
       "43               0.0                  0.0                0.224490   \n",
       "155              0.0                  0.0                0.071429   \n",
       "123              0.0                  0.0                0.316327   \n",
       "113              0.0                  0.0                0.234694   \n",
       "732              0.0                  0.0                0.071429   \n",
       "\n",
       "     num_genres_directed  director_class  \n",
       "43              1.000000       excellent  \n",
       "155             0.214286            poor  \n",
       "123             0.071429            poor  \n",
       "113             0.428571       excellent  \n",
       "732             0.357143        terrible  \n",
       "\n",
       "[5 rows x 55 columns]"
      ]
     },
     "execution_count": 56,
     "metadata": {},
     "output_type": "execute_result"
    }
   ],
   "source": [
    "sample_movies_data[normalized_numbers.columns] = normalized_numbers.to_numpy()\n",
    "sample_movies_data.head()"
   ]
  },
  {
   "cell_type": "code",
   "execution_count": 57,
   "metadata": {},
   "outputs": [
    {
     "name": "stdout",
     "output_type": "stream",
     "text": [
      "<class 'pandas.core.frame.DataFrame'>\n",
      "Int64Index: 354 entries, 43 to 1126\n",
      "Data columns (total 55 columns):\n",
      " #   Column                                      Non-Null Count  Dtype  \n",
      "---  ------                                      --------------  -----  \n",
      " 0   average_rating_value                        354 non-null    float64\n",
      " 1   average_rating_count                        354 non-null    float64\n",
      " 2   movies_produced                             354 non-null    float64\n",
      " 3   career_Length                               354 non-null    float64\n",
      " 4   CareerStartYear                             354 non-null    float64\n",
      " 5   Gender                                      354 non-null    float64\n",
      " 6   birthYear                                   354 non-null    float64\n",
      " 7   median_inter_event_time                     354 non-null    float64\n",
      " 8   average_inter_event_time                    354 non-null    float64\n",
      " 9   total_review_count_user                     354 non-null    float64\n",
      " 10  total_review_count_critic                   354 non-null    float64\n",
      " 11  total_metascore                             354 non-null    float64\n",
      " 12  median_metascore                            354 non-null    float64\n",
      " 13  total_awards_won                            354 non-null    float64\n",
      " 14  total_awards_nominated                      354 non-null    float64\n",
      " 15  total_gross_value                           354 non-null    float64\n",
      " 16  total_budget_value                          354 non-null    float64\n",
      " 17  average_runtime_of_movie                    354 non-null    float64\n",
      " 18  director_profession_primary                 354 non-null    float64\n",
      " 19  director_profession_secondary               354 non-null    float64\n",
      " 20  director_profession_tertiary                354 non-null    float64\n",
      " 21  director_known_titles_count                 354 non-null    float64\n",
      " 22  director_known_titles_average_rating_value  354 non-null    float64\n",
      " 23  total_genre_Action                          354 non-null    float64\n",
      " 24  total_genre_Adult                           354 non-null    float64\n",
      " 25  total_genre_Adventure                       354 non-null    float64\n",
      " 26  total_genre_Animation                       354 non-null    float64\n",
      " 27  total_genre_Biography                       354 non-null    float64\n",
      " 28  total_genre_Comedy                          354 non-null    float64\n",
      " 29  total_genre_Crime                           354 non-null    float64\n",
      " 30  total_genre_Documentary                     354 non-null    float64\n",
      " 31  total_genre_Drama                           354 non-null    float64\n",
      " 32  total_genre_Family                          354 non-null    float64\n",
      " 33  total_genre_Fantasy                         354 non-null    float64\n",
      " 34  total_genre_Film_Noir                       354 non-null    float64\n",
      " 35  total_genre_Game_Show                       354 non-null    float64\n",
      " 36  total_genre_History                         354 non-null    float64\n",
      " 37  total_genre_Horror                          354 non-null    float64\n",
      " 38  total_genre_Music                           354 non-null    float64\n",
      " 39  total_genre_Musical                         354 non-null    float64\n",
      " 40  total_genre_Mystery                         354 non-null    float64\n",
      " 41  total_genre_News                            354 non-null    float64\n",
      " 42  total_genre_None                            354 non-null    float64\n",
      " 43  total_genre_Reality_TV                      354 non-null    float64\n",
      " 44  total_genre_Romance                         354 non-null    float64\n",
      " 45  total_genre_Sci_Fi                          354 non-null    float64\n",
      " 46  total_genre_Short                           354 non-null    float64\n",
      " 47  total_genre_Sport                           354 non-null    float64\n",
      " 48  total_genre_Talk_Show                       354 non-null    float64\n",
      " 49  total_genre_Thriller                        354 non-null    float64\n",
      " 50  total_genre_War                             354 non-null    float64\n",
      " 51  total_genre_Western                         354 non-null    float64\n",
      " 52  average_movie_per_year                      354 non-null    float64\n",
      " 53  num_genres_directed                         354 non-null    float64\n",
      " 54  director_class                              354 non-null    string \n",
      "dtypes: float64(54), string(1)\n",
      "memory usage: 154.9 KB\n"
     ]
    }
   ],
   "source": [
    "sample_movies_data[chosen_success_class] = sample_movies_data[chosen_success_class].astype('string')\n",
    "sample_movies_data.info()"
   ]
  },
  {
   "cell_type": "code",
   "execution_count": 58,
   "metadata": {},
   "outputs": [
    {
     "data": {
      "text/plain": [
       "(array([229.,  63.,  21.,  13.,  14.,   7.,   4.,   1.,   1.,   1.]),\n",
       " array([0. , 0.1, 0.2, 0.3, 0.4, 0.5, 0.6, 0.7, 0.8, 0.9, 1. ]),\n",
       " <a list of 10 Patch objects>)"
      ]
     },
     "execution_count": 58,
     "metadata": {},
     "output_type": "execute_result"
    },
    {
     "data": {
      "image/png": "[encoded data removed]",
      "text/plain": [
       "<Figure size 432x288 with 1 Axes>"
      ]
     },
     "metadata": {
      "needs_background": "light"
     },
     "output_type": "display_data"
    }
   ],
   "source": [
    "plt.hist(sample_movies_data[chosen_feature_predicting])"
   ]
  },
  {
   "cell_type": "code",
   "execution_count": 59,
   "metadata": {},
   "outputs": [
    {
     "name": "stdout",
     "output_type": "stream",
     "text": [
      "Quantiles bin range\n",
      "Quantile 0 : (-0.001, 0.017] \n",
      "Quantile 1 : (0.017, 0.0505] \n",
      "Quantile 2 : (0.0505, 0.151] \n",
      "Quantile 3 : (0.151, 1.0] \n"
     ]
    }
   ],
   "source": [
    "cutIntoQuartiles = pd.qcut(sample_movies_data[chosen_feature_predicting].to_list(), q=4)\n",
    "print(\"Quantiles bin range\")\n",
    "for i,num in enumerate(cutIntoQuartiles.categories):\n",
    "    print(\"Quantile {0} : {1} \".format(i,num))"
   ]
  },
  {
   "cell_type": "code",
   "execution_count": 60,
   "metadata": {},
   "outputs": [
    {
     "name": "stdout",
     "output_type": "stream",
     "text": [
      "                average_rating_count\n",
      "director_class                      \n",
      "average                         0.09\n",
      "excellent                       0.33\n",
      "poor                            0.03\n",
      "terrible                        0.01\n"
     ]
    },
    {
     "data": {
      "image/png": "[encoded data removed]",
      "text/plain": [
       "<Figure size 700x500 with 1 Axes>"
      ]
     },
     "metadata": {
      "needs_background": "light"
     },
     "output_type": "display_data"
    }
   ],
   "source": [
    "# Groupby: cutwise median\n",
    "type_class = sample_movies_data[[chosen_success_class, chosen_feature_predicting]].groupby(chosen_success_class).mean().round(2)\n",
    "print(type_class)\n",
    "\n",
    "fig, axes = plt.subplots(figsize=(7,5), dpi=100)\n",
    "plt.bar(type_class.index, height=type_class[chosen_feature_predicting])\n",
    "plt.title('Barplot of Median Movie class rating count');"
   ]
  },
  {
   "cell_type": "code",
   "execution_count": 61,
   "metadata": {},
   "outputs": [
    {
     "data": {
      "text/plain": [
       "155     0.042604\n",
       "123     0.032283\n",
       "732     0.012202\n",
       "787     0.005107\n",
       "81      0.019512\n",
       "          ...   \n",
       "343     0.050537\n",
       "87      0.017636\n",
       "466     0.125015\n",
       "121     0.029428\n",
       "1044    0.047245\n",
       "Name: average_rating_count, Length: 265, dtype: float64"
      ]
     },
     "execution_count": 61,
     "metadata": {},
     "output_type": "execute_result"
    }
   ],
   "source": [
    "rating_count_less_than_quantile75 = sample_movies_data[chosen_feature_predicting] <= sample_movies_data[chosen_feature_predicting].quantile(.75)\n",
    "sample_movies_data[chosen_feature_predicting].loc[rating_count_less_than_quantile75]"
   ]
  },
  {
   "cell_type": "markdown",
   "metadata": {},
   "source": [
    "## Pair plot"
   ]
  },
  {
   "cell_type": "code",
   "execution_count": 62,
   "metadata": {
    "scrolled": false
   },
   "outputs": [],
   "source": [
    "# import seaborn as sns\n",
    "# sns.set(style=\"ticks\", color_codes=True)\n",
    "# # g = sns.pairplot(sample_movies_data , hue=\"movie_class\")\n",
    "\n",
    "# # Density\n",
    "# g = sns.pairplot(sample_movies_data,\n",
    "#                  diag_kind=\"hist\",\n",
    "#                  hue= chosen_success_class ,\n",
    "#                  hue_order = ['terrible','poor','average','excellent'],\n",
    "#                  palette = ['red','orange','yellow','green'],\n",
    "# #                  vars = ['review_count_user', 'review_count_critic', 'rating_value','Gender'],\n",
    "#                  plot_kws={'alpha':0.4}\n",
    "#                 )"
   ]
  },
  {
   "cell_type": "markdown",
   "metadata": {},
   "source": [
    "## LM PLot"
   ]
  },
  {
   "cell_type": "code",
   "execution_count": 63,
   "metadata": {},
   "outputs": [],
   "source": [
    "# sns.lmplot(x=\"rating_count\", y=\"review_count_user\", col=\"movie_class\", hue=\"Gender\",\n",
    "#            data=sample_movies_data)"
   ]
  },
  {
   "cell_type": "code",
   "execution_count": 64,
   "metadata": {},
   "outputs": [],
   "source": [
    "# plt.hist(sample_movies_data['rating_count'].loc[(sample_movies_data['rating_count'] <= sample_movies_data['rating_count'].quantile(.75))])"
   ]
  },
  {
   "cell_type": "code",
   "execution_count": 65,
   "metadata": {
    "scrolled": false
   },
   "outputs": [],
   "source": [
    "# import seaborn as sns\n",
    "# sns.set(style=\"ticks\", color_codes=True)\n",
    "# # g = sns.pairplot(sample_movies_data , hue=\"movie_class\")\n",
    "\n",
    "# # Density\n",
    "# g = sns.pairplot(sample_movies_data,\n",
    "#                  diag_kind=\"hist\",\n",
    "#                  hue='movie_class',\n",
    "#                  vars = ['review_count_user', 'review_count_critic', 'rating_value']\n",
    "#                 )\n"
   ]
  },
  {
   "cell_type": "code",
   "execution_count": null,
   "metadata": {},
   "outputs": [],
   "source": []
  },
  {
   "cell_type": "code",
   "execution_count": 66,
   "metadata": {},
   "outputs": [],
   "source": [
    "sample_movies_data = chosen_dataframe.sample(n=100,replace = False, random_state =42)"
   ]
  },
  {
   "cell_type": "code",
   "execution_count": 67,
   "metadata": {},
   "outputs": [],
   "source": [
    "# g = sns.FacetGrid(sample_movies_data, col=chosen_success_class, hue='Gender')\n",
    "# g = g.map(sns.swarmplot, 'Gender', 'rating_value', order=[\"Male\", \"Female\"], hue_order=[0, 1])\n",
    "# g.add_legend()"
   ]
  },
  {
   "cell_type": "code",
   "execution_count": 68,
   "metadata": {},
   "outputs": [],
   "source": [
    "# sample_movies_data = chosen_dataframe.sample(n=1000,replace = False, random_state =42)\n",
    "\n",
    "# g = sns.FacetGrid(sample_movies_data, col='movie_class', hue='Gender')\n",
    "# g = g.map(sns.swarmplot, 'Gender', 'rating_value', order=[\"Male\", \"Female\"], hue_order=[0, 1])\n",
    "# g.add_legend()"
   ]
  },
  {
   "cell_type": "code",
   "execution_count": 69,
   "metadata": {},
   "outputs": [],
   "source": [
    "# without_excellent_data = visuaize_movies_data[~(visuaize_movies_data['movie_class'].cut('excellent'))]"
   ]
  },
  {
   "cell_type": "code",
   "execution_count": 70,
   "metadata": {},
   "outputs": [],
   "source": [
    "# import matplotlib.pyplot as plt\n",
    "# g = sns.PairGrid(without_excellent_data,hue='movie_class')\n",
    "# g.map(plt.scatter)\n",
    "# g.add_legend()\n",
    "# g.savefig(\"summary_plot.png\")"
   ]
  },
  {
   "cell_type": "markdown",
   "metadata": {},
   "source": [
    "# End SKip"
   ]
  },
  {
   "cell_type": "markdown",
   "metadata": {},
   "source": [
    "### One hot encoding for Gender"
   ]
  },
  {
   "cell_type": "code",
   "execution_count": 71,
   "metadata": {},
   "outputs": [],
   "source": [
    "def one_hot_encode_gender(df,one_hot_feature = 'Gender'):\n",
    "    print('Before one hot encoding , Shape ;', df.shape)\n",
    "    # one hot encoding of Gender\n",
    "    df = pd.concat([df, pd.get_dummies(df[one_hot_feature],prefix= one_hot_feature,dtype = int)],axis=1)\n",
    "    df.drop([one_hot_feature],axis=1, inplace=True)\n",
    "    print('After one hot encoding , Shape ;', df.shape)\n",
    "    df.head(2)\n",
    "    return df"
   ]
  },
  {
   "cell_type": "code",
   "execution_count": 72,
   "metadata": {},
   "outputs": [
    {
     "name": "stdout",
     "output_type": "stream",
     "text": [
      "Before one hot encoding , Shape ; (354, 54)\n",
      "After one hot encoding , Shape ; (354, 55)\n"
     ]
    }
   ],
   "source": [
    "chosen_dataframe = one_hot_encode_gender(chosen_dataframe)"
   ]
  },
  {
   "cell_type": "code",
   "execution_count": 73,
   "metadata": {},
   "outputs": [],
   "source": [
    "def reverse_one_hot_encoding(df):\n",
    "    reverse_one_hot_Gender = df.loc[:, df.columns.str.startswith('Gender')].idxmax(axis = 'columns')\n",
    "    df['Gender'] = reverse_one_hot_Gender\n",
    "\n",
    "    # Replace Gender_Male with Male and Gender_Female with Female\n",
    "    df['Gender'] = df['Gender'].str.replace('Gender_male','Male')\n",
    "    df['Gender'] = df['Gender'].str.replace('Gender_Female','Female')\n",
    "    # Drop the one hot encoded value\n",
    "    df.drop(['Gender_Female','Gender_male'],axis=1, inplace=True)\n",
    "    return df"
   ]
  },
  {
   "cell_type": "markdown",
   "metadata": {},
   "source": [
    "## Decide if Gender is an input feature or not"
   ]
  },
  {
   "cell_type": "code",
   "execution_count": 74,
   "metadata": {},
   "outputs": [
    {
     "data": {
      "text/plain": [
       "'Yes'"
      ]
     },
     "execution_count": 74,
     "metadata": {},
     "output_type": "execute_result"
    }
   ],
   "source": [
    "gender_as_an_input"
   ]
  },
  {
   "cell_type": "code",
   "execution_count": 75,
   "metadata": {},
   "outputs": [
    {
     "name": "stdout",
     "output_type": "stream",
     "text": [
      "Gender is an input feature for this run! No dropping!\n",
      "The shape of our Chosen dataset after dropping Gender features: (354, 55)\n"
     ]
    }
   ],
   "source": [
    "if(gender_as_an_input == 'Yes'):\n",
    "    print(\"Gender is an input feature for this run! No dropping!\")\n",
    "    print('The shape of our Chosen dataset after dropping Gender features:', chosen_dataframe.shape)\n",
    "else:\n",
    "    chosen_dataframe.drop(columns = ['Gender_Male','Gender_Female'],inplace = True)\n",
    "    print(\"Gender features removed as it is not an input feature for this run!  \")\n",
    "    print('The shape of our Chosen dataset after dropping Gender features:', chosen_dataframe.shape)"
   ]
  },
  {
   "cell_type": "code",
   "execution_count": 76,
   "metadata": {},
   "outputs": [
    {
     "data": {
      "text/plain": [
       "'balanced'"
      ]
     },
     "execution_count": 76,
     "metadata": {},
     "output_type": "execute_result"
    }
   ],
   "source": [
    "chosen_dataset_ratio"
   ]
  },
  {
   "cell_type": "code",
   "execution_count": 77,
   "metadata": {},
   "outputs": [
    {
     "data": {
      "text/plain": [
       "terrible     89\n",
       "excellent    89\n",
       "poor         88\n",
       "average      88\n",
       "Name: director_class, dtype: int64"
      ]
     },
     "execution_count": 77,
     "metadata": {},
     "output_type": "execute_result"
    }
   ],
   "source": [
    "chosen_dataframe[chosen_success_class].value_counts()"
   ]
  },
  {
   "cell_type": "code",
   "execution_count": 78,
   "metadata": {},
   "outputs": [],
   "source": [
    "# chosen_dataframe.to_csv('visualize.csv')"
   ]
  },
  {
   "cell_type": "markdown",
   "metadata": {},
   "source": [
    "### Check theory"
   ]
  },
  {
   "cell_type": "code",
   "execution_count": 79,
   "metadata": {},
   "outputs": [],
   "source": [
    "# selected_columns = ['review_count_user', 'review_count_critic', 'rating_value',\n",
    "#                     'movie_class', 'movie_year','birthYear',\n",
    "#                     'Gender_Male','Gender_Female']\n",
    "\n",
    "# chosen_dataframe = chosen_dataframe[selected_columns]"
   ]
  },
  {
   "cell_type": "markdown",
   "metadata": {},
   "source": [
    "# Observations"
   ]
  },
  {
   "cell_type": "code",
   "execution_count": 80,
   "metadata": {},
   "outputs": [],
   "source": [
    "# Function to Plot - Distribution of rating value among male and female. \n",
    "\n",
    "def plot_features_WRT_gender(df,columnCriteriaName,columnFeatureName):\n",
    "    dict={}\n",
    "    for i in df[columnCriteriaName].value_counts().index:\n",
    "        dict[\"{0}_{1}\".format(columnFeatureName,i)] = df[(df[columnCriteriaName] == i)][columnFeatureName]\n",
    "    for k,v in dict.items():\n",
    "        sns.distplot(v,label=[k])\n",
    "        plt.legend(bbox_to_anchor=(1.05, 0.6), loc=2, borderaxespad=0.)"
   ]
  },
  {
   "cell_type": "markdown",
   "metadata": {},
   "source": [
    "## Divide the data to training and testing - Scaling methods too"
   ]
  },
  {
   "cell_type": "markdown",
   "metadata": {},
   "source": [
    "Check about the Scaling"
   ]
  },
  {
   "cell_type": "code",
   "execution_count": 81,
   "metadata": {},
   "outputs": [],
   "source": [
    "def divide_test_train_with_scaling_methods(df,predict= chosen_success_class,scalingMethod = \"MinMaxScaler\"):\n",
    "    \n",
    "    labelClass = ['terrible','poor','average','excellent']\n",
    "    \n",
    "    # Feature matrix and target variable\n",
    "    X = df.drop(predict,axis = 'columns')\n",
    "    y = df[predict]\n",
    "    \n",
    "#     lb = preprocessing.LabelBinarizer()\n",
    "#     y = lb.fit_transform(y)\n",
    "    \n",
    "    # Scaling\n",
    "    if (scalingMethod == \"MinMaxScaler\"):\n",
    "        print(\"The scaling method used is : \",scalingMethod)\n",
    "        scaler = MinMaxScaler()\n",
    "        new_X = scaler.fit_transform(X)\n",
    "        # X_test = scaler.transform(X_test)\n",
    "        \n",
    "    else:\n",
    "        print(\"No Scaling Method used or incorrect input\")\n",
    "        new_X = X\n",
    "    \n",
    "    # Divide the data into training and test sets\n",
    "    X_train, X_test, y_train, y_test = train_test_split(new_X, y, test_size=0.20, random_state = 42 , stratify = y )\n",
    "    \n",
    "    return X_train, X_test, y_train, y_test"
   ]
  },
  {
   "cell_type": "code",
   "execution_count": 82,
   "metadata": {
    "scrolled": true
   },
   "outputs": [
    {
     "name": "stdout",
     "output_type": "stream",
     "text": [
      "No Scaling Method used or incorrect input\n"
     ]
    }
   ],
   "source": [
    "# Divide the data into training and test\n",
    "\n",
    "X_train, X_test, y_train, y_test = divide_test_train_with_scaling_methods(chosen_dataframe,scalingMethod= chosen_scaling_method)"
   ]
  },
  {
   "cell_type": "code",
   "execution_count": 83,
   "metadata": {},
   "outputs": [
    {
     "data": {
      "text/plain": [
       "((283, 54), (283,))"
      ]
     },
     "execution_count": 83,
     "metadata": {},
     "output_type": "execute_result"
    }
   ],
   "source": [
    "X_train.shape , y_train.shape"
   ]
  },
  {
   "cell_type": "code",
   "execution_count": 84,
   "metadata": {},
   "outputs": [
    {
     "data": {
      "text/plain": [
       "((71, 54), (71,))"
      ]
     },
     "execution_count": 84,
     "metadata": {},
     "output_type": "execute_result"
    }
   ],
   "source": [
    "X_test.shape , y_test.shape"
   ]
  },
  {
   "cell_type": "markdown",
   "metadata": {},
   "source": [
    "# Plot Confusion Matrix"
   ]
  },
  {
   "cell_type": "code",
   "execution_count": 85,
   "metadata": {},
   "outputs": [],
   "source": [
    "import matplotlib.pyplot as plt\n",
    "%matplotlib inline\n",
    "\n",
    "def plot_confusion_matrix(cm, classes,\n",
    "                          normalize=False,\n",
    "                          title='Confusion matrix',\n",
    "                          cmap=plt.cm.Blues):\n",
    "    \"\"\"\n",
    "    This function prints and plots the confusion matrix.\n",
    "    Normalization can be applied by setting `normalize=True`.\n",
    "    \"\"\"\n",
    "    import itertools\n",
    "    if normalize:\n",
    "        cm = cm.astype('float') / cm.sum(axis=1)[:, np.newaxis]\n",
    "        print(\"Normalized confusion matrix\")\n",
    "    else:\n",
    "        print('Confusion matrix, without normalization')\n",
    "\n",
    "    print(cm)\n",
    "\n",
    "    plt.imshow(cm, interpolation='nearest', cmap=cmap)\n",
    "    plt.title(title)\n",
    "    plt.colorbar()\n",
    "    tick_marks = np.arange(len(classes))\n",
    "    plt.xticks(tick_marks, classes, rotation=45)\n",
    "    plt.yticks(tick_marks, classes)\n",
    "\n",
    "    fmt = '.2f' if normalize else 'd'\n",
    "    thresh = cm.max() / 2.\n",
    "    for i, j in itertools.product(range(cm.shape[0]), range(cm.shape[1])):\n",
    "        plt.text(j, i, format(cm[i, j], fmt),\n",
    "                 horizontalalignment=\"center\",\n",
    "                 color=\"white\" if cm[i, j] > thresh else \"black\")\n",
    "\n",
    "    plt.ylabel('True label')\n",
    "    plt.xlabel('Predicted label')\n",
    "    plt.tight_layout()\n",
    "    plt.savefig('ConfusionMatrix_.png', dpi=100, bbox_inches='tight')\n"
   ]
  },
  {
   "cell_type": "markdown",
   "metadata": {},
   "source": [
    "\n",
    "### Function for Run Info :"
   ]
  },
  {
   "cell_type": "code",
   "execution_count": 86,
   "metadata": {},
   "outputs": [],
   "source": [
    "def run_info(classifier):\n",
    "    print('\\n**Run Info - ' + classifier + '**')\n",
    "    print('Dataset Shape :', chosen_dataframe.shape)\n",
    "    print('Dataset ratio of classes is', chosen_dataset_ratio)\n",
    "    print('Predicting feature :', chosen_feature_predicting)\n",
    "    print('Bin Method :', chosen_bin_method)\n",
    "    print('Scaling Method :', chosen_scaling_method)\n",
    "    print('Learning Rate :',default_learning_rate)\n",
    "    print('With Gender?? :', gender_as_an_input)\n",
    "    print('****************\\n')\n",
    "    return"
   ]
  },
  {
   "cell_type": "markdown",
   "metadata": {},
   "source": [
    "### Function to print customized classification report"
   ]
  },
  {
   "cell_type": "code",
   "execution_count": 87,
   "metadata": {},
   "outputs": [],
   "source": [
    "def customized_classification_report(y_true,y_pred, AUCROC ):\n",
    "    cols_to_use_classification_report = ['terrible','poor','average','excellent','accuracy']\n",
    "    reportGBClassification = classification_report(y_true,\n",
    "                                                   y_pred,\n",
    "                                                   labels = cols_to_use_classification_report[:-1],\n",
    "                                                   output_dict=True)\n",
    "    \n",
    "    reportDF = pd.DataFrame(reportGBClassification, columns = cols_to_use_classification_report)[0:3]\n",
    "    reportDF[['terrible','poor','average','excellent']] = reportDF[['terrible','poor','average','excellent']].round(2)\n",
    "    accuracyRow = reportDF['accuracy'].unique().tolist()\n",
    "    \n",
    "    reportDF.drop(columns='accuracy',inplace= True)\n",
    "\n",
    "    reportDF.loc[len(reportDF)] = 4 * accuracyRow\n",
    "    reportDF.loc[len(reportDF)] = 4 * [round(AUCROC,2)]\n",
    "\n",
    "    reportDF = reportDF.rename(index = {3:'accuracy',4:'AUC ROC'})\n",
    "    return reportDF"
   ]
  },
  {
   "cell_type": "markdown",
   "metadata": {},
   "source": [
    "# Boosting Classifiers"
   ]
  },
  {
   "cell_type": "markdown",
   "metadata": {},
   "source": [
    "### 1.  Gradient Boosting Classifier"
   ]
  },
  {
   "cell_type": "markdown",
   "metadata": {},
   "source": [
    "#### 1a) Identify the optimal Learning rate"
   ]
  },
  {
   "cell_type": "code",
   "execution_count": 88,
   "metadata": {},
   "outputs": [],
   "source": [
    "# optimal_learning_rate = learningRateDF['learning_rate'].loc[learningRateDF.\n",
    "#                                                                 mask((learningRateDF == learningRateDF.min())\n",
    "#                                                                      .cumsum()\n",
    "#                                                                      .astype(bool))\n",
    "#                                                                 [::-1]\n",
    "#                                                                 .idxmax()\n",
    "#                                                                 ['testing_accuracy']]"
   ]
  },
  {
   "cell_type": "code",
   "execution_count": 89,
   "metadata": {},
   "outputs": [],
   "source": [
    "def optimal_learning_rate(X_train, X_test, y_train, y_test):\n",
    "    \n",
    "    lr_list = [0.05, 0.075, 0.1, 0.25, 0.5, 0.75, 1]\n",
    "\n",
    "    col_learningDF = ['learning_rate','training_accuracy','testing_accuracy']\n",
    "    learningRateDF = pd.DataFrame(columns=col_learningDF)\n",
    "\n",
    "    for learning_rate in lr_list:\n",
    "\n",
    "        gb_clf = GradientBoostingClassifier(n_estimators=100,\n",
    "                                            learning_rate=learning_rate,\n",
    "#                                             max_leaf_nodes= 32,\n",
    "#                                             max_features=2,\n",
    "#                                             max_depth=2,\n",
    "                                            random_state= 42 )\n",
    "        gb_clf.fit(X_train, y_train)\n",
    "\n",
    "        accuracy_train_score = gb_clf.score(X_train, y_train)\n",
    "        accuracy_test_score = gb_clf.score(X_test, y_test)\n",
    "\n",
    "        learningRateDF.loc[len(learningRateDF)] = [learning_rate,accuracy_train_score,accuracy_test_score]\n",
    "#         print(\"Learning rate: \", learning_rate)\n",
    "#         print(\"Accuracy score (training): {0:.3f}\".format(accuracy_train_score))\n",
    "#         print(\"Accuracy score (test): {0:.3f}\".format(accuracy_test_score))\n",
    "    print(learningRateDF)\n",
    "\n",
    "    optimal_learning_rate = learningRateDF['learning_rate'].loc[learningRateDF.testing_accuracy.argmax()]\n",
    "\n",
    "# # Script to find the maximum learning_rate where the test_accuracy is maximum\n",
    "\n",
    "#     optimal_learning_rate = learningRateDF['learning_rate'].loc[((learningRateDF == learningRateDF.min())\n",
    "#                                                                  .cumsum()\n",
    "#                                                                  .astype(bool))\n",
    "#                                                                 [::-1].idxmax()\n",
    "#                                                                 ['testing_accuracy']\n",
    "#                                                                ]\n",
    "\n",
    "    return optimal_learning_rate"
   ]
  },
  {
   "cell_type": "code",
   "execution_count": 90,
   "metadata": {
    "scrolled": true
   },
   "outputs": [
    {
     "name": "stdout",
     "output_type": "stream",
     "text": [
      "\n",
      "The optimal learning rate for GB Classifier is : 0.1\n"
     ]
    }
   ],
   "source": [
    "# chosen_learning_rate_GB = optimal_learning_rate(X_train, X_test, y_train, y_test)\n",
    "chosen_learning_rate_GB = default_learning_rate\n",
    "print(\"\\nThe optimal learning rate for GB Classifier is :\",chosen_learning_rate_GB)"
   ]
  },
  {
   "cell_type": "markdown",
   "metadata": {},
   "source": [
    "#### 1b) Model Function"
   ]
  },
  {
   "cell_type": "code",
   "execution_count": 91,
   "metadata": {},
   "outputs": [],
   "source": [
    "def train_model_Gradient_Boosting_classifier(X_train, X_test, y_train, y_test,learning_rate = 1):\n",
    "    \n",
    "    start = time.time()\n",
    "    print(\"Started Reading files at :\" + str(datetime.utcfromtimestamp(start).strftime('%Y-%m-%d %H:%M:%S')))\n",
    "    \n",
    "    labelMovieClass = ['terrible','poor','average','excellent']\n",
    "\n",
    "    # Classifier parameters    \n",
    "    gb_clf = GradientBoostingClassifier(n_estimators=100,\n",
    "                                         learning_rate= default_learning_rate,\n",
    "                                         max_leaf_nodes= chosen_max_leaf_nodes,\n",
    "                                         max_features= chosen_max_features,\n",
    "                                         max_depth= default_max_depth,\n",
    "                                         random_state= chosen_random_state\n",
    "                                        )\n",
    "    \n",
    "    gb_clf.fit(X_train, y_train)\n",
    "    \n",
    "    # Predict classes\n",
    "    y_pred = gb_clf.predict(X_test)\n",
    "    y_prob = gb_clf.predict_proba(X_test)\n",
    "    \n",
    "    cnf_matrix = confusion_matrix(y_test, y_pred,labels= labelMovieClass )\n",
    "#     np.set_printoptions(precision=2)\n",
    "    \n",
    "    classifier_name = gb_clf.__class__.__name__\n",
    "    train_size = int(round((len(X_train) / len(chosen_dataframe)),1) * 100)\n",
    "    test_size = int(round((len(X_test) / len(chosen_dataframe)),1) * 100)\n",
    "    \n",
    "    # Print run info\n",
    "    run_info(classifier_name)\n",
    "    \n",
    "    \n",
    "    # Plot non-normalized confusion matrix\n",
    "    plt.figure()\n",
    "    plot_confusion_matrix(cnf_matrix, classes= labelMovieClass,\n",
    "                      title='Confusion matrix, without normalization')\n",
    "    \n",
    "    \n",
    "    gb_train_score = gb_clf.score(X_train, y_train)\n",
    "    print(\"\\nTraining Score of {0} on {2} % data : {1} \".format(classifier_name,round(gb_train_score,3),train_size))\n",
    "    \n",
    "    gb_test_score = gb_clf.score(X_test, y_test)\n",
    "    print(\"Testing Score of {0} on {2} % data : {1} \".format(classifier_name,round(gb_test_score,3),test_size))\n",
    "    \n",
    "    # Performance metrics\n",
    "    \n",
    "    macro_ovo_roc_auc = roc_auc_score(y_test, y_prob,average= \"macro\" , multi_class = 'ovo')\n",
    "    print( \"\\nArea Under the Curve - ROC (OVO , Macro) : \",round(macro_ovo_roc_auc,3))\n",
    "    print( \"Matthews_corrcoef : \", round(metrics.matthews_corrcoef(y_test, y_pred),3))\n",
    "\n",
    "#     print(\"\\nConfusion Matrix:\\n\")\n",
    "#     print(cnf_matrix)\n",
    "\n",
    "    print(\"\\nClassification Report\\n\")\n",
    "#     print(classification_report(y_test, y_pred))\n",
    "    print(classification_report(y_test, y_pred, labels = labelMovieClass ))\n",
    "        \n",
    "    # Stop timer\n",
    "    end = time.time()\n",
    "    print(\"\\nStopped Reading files at :\" + str(datetime.utcfromtimestamp(end).strftime('%Y-%m-%d %H:%M:%S')))\n",
    "    total_time = str(round((end - start)/60,2))\n",
    "    print(\"Total time taken in minutes: \" + str((end - start)/60))\n",
    "      \n",
    "    return gb_clf,y_test,y_pred,macro_ovo_roc_auc"
   ]
  },
  {
   "cell_type": "markdown",
   "metadata": {},
   "source": [
    "#### 1c) Run Results of Gradient Boosting Model"
   ]
  },
  {
   "cell_type": "code",
   "execution_count": 92,
   "metadata": {},
   "outputs": [
    {
     "name": "stdout",
     "output_type": "stream",
     "text": [
      "Started Reading files at :2020-05-29 16:27:36\n",
      "\n",
      "**Run Info - GradientBoostingClassifier**\n",
      "Dataset Shape : (354, 55)\n",
      "Dataset ratio of classes is balanced\n",
      "Predicting feature : average_rating_count\n",
      "Bin Method : quartiles\n",
      "Scaling Method : None\n",
      "Learning Rate : 0.1\n",
      "With Gender?? : Yes\n",
      "****************\n",
      "\n",
      "Confusion matrix, without normalization\n",
      "[[16  1  1  0]\n",
      " [ 3 14  0  0]\n",
      " [ 0  5 11  2]\n",
      " [ 0  0  4 14]]\n",
      "\n",
      "Training Score of GradientBoostingClassifier on 80 % data : 1.0 \n",
      "Testing Score of GradientBoostingClassifier on 20 % data : 0.775 \n",
      "\n",
      "Area Under the Curve - ROC (OVO , Macro) :  0.906\n",
      "Matthews_corrcoef :  0.701\n",
      "\n",
      "Classification Report\n",
      "\n",
      "              precision    recall  f1-score   support\n",
      "\n",
      "    terrible       0.84      0.89      0.86        18\n",
      "        poor       0.70      0.82      0.76        17\n",
      "     average       0.69      0.61      0.65        18\n",
      "   excellent       0.88      0.78      0.82        18\n",
      "\n",
      "    accuracy                           0.77        71\n",
      "   macro avg       0.78      0.78      0.77        71\n",
      "weighted avg       0.78      0.77      0.77        71\n",
      "\n",
      "\n",
      "Stopped Reading files at :2020-05-29 16:27:37\n",
      "Total time taken in minutes: 0.013977591196695964\n"
     ]
    },
    {
     "data": {
      "image/png": "[encoded data removed]",
      "text/plain": [
       "<Figure size 432x288 with 2 Axes>"
      ]
     },
     "metadata": {
      "needs_background": "light"
     },
     "output_type": "display_data"
    }
   ],
   "source": [
    "gb_clf, y_true , y_pred, AUCROC = train_model_Gradient_Boosting_classifier(X_train, X_test, y_train, y_test,learning_rate = chosen_learning_rate_GB)\n",
    "# tn, fp, fn, tp\n"
   ]
  },
  {
   "cell_type": "code",
   "execution_count": 93,
   "metadata": {
    "scrolled": true
   },
   "outputs": [
    {
     "data": {
      "text/html": [
       "<div>\n",
       "<style scoped>\n",
       "    .dataframe tbody tr th:only-of-type {\n",
       "        vertical-align: middle;\n",
       "    }\n",
       "\n",
       "    .dataframe tbody tr th {\n",
       "        vertical-align: top;\n",
       "    }\n",
       "\n",
       "    .dataframe thead th {\n",
       "        text-align: right;\n",
       "    }\n",
       "</style>\n",
       "<table border=\"1\" class=\"dataframe\">\n",
       "  <thead>\n",
       "    <tr style=\"text-align: right;\">\n",
       "      <th></th>\n",
       "      <th>terrible</th>\n",
       "      <th>poor</th>\n",
       "      <th>average</th>\n",
       "      <th>excellent</th>\n",
       "    </tr>\n",
       "  </thead>\n",
       "  <tbody>\n",
       "    <tr>\n",
       "      <th>precision</th>\n",
       "      <td>0.840000</td>\n",
       "      <td>0.700000</td>\n",
       "      <td>0.690000</td>\n",
       "      <td>0.880000</td>\n",
       "    </tr>\n",
       "    <tr>\n",
       "      <th>recall</th>\n",
       "      <td>0.890000</td>\n",
       "      <td>0.820000</td>\n",
       "      <td>0.610000</td>\n",
       "      <td>0.780000</td>\n",
       "    </tr>\n",
       "    <tr>\n",
       "      <th>f1-score</th>\n",
       "      <td>0.860000</td>\n",
       "      <td>0.760000</td>\n",
       "      <td>0.650000</td>\n",
       "      <td>0.820000</td>\n",
       "    </tr>\n",
       "    <tr>\n",
       "      <th>accuracy</th>\n",
       "      <td>0.774648</td>\n",
       "      <td>0.774648</td>\n",
       "      <td>0.774648</td>\n",
       "      <td>0.774648</td>\n",
       "    </tr>\n",
       "    <tr>\n",
       "      <th>AUC ROC</th>\n",
       "      <td>0.910000</td>\n",
       "      <td>0.910000</td>\n",
       "      <td>0.910000</td>\n",
       "      <td>0.910000</td>\n",
       "    </tr>\n",
       "  </tbody>\n",
       "</table>\n",
       "</div>"
      ],
      "text/plain": [
       "           terrible      poor   average  excellent\n",
       "precision  0.840000  0.700000  0.690000   0.880000\n",
       "recall     0.890000  0.820000  0.610000   0.780000\n",
       "f1-score   0.860000  0.760000  0.650000   0.820000\n",
       "accuracy   0.774648  0.774648  0.774648   0.774648\n",
       "AUC ROC    0.910000  0.910000  0.910000   0.910000"
      ]
     },
     "execution_count": 93,
     "metadata": {},
     "output_type": "execute_result"
    }
   ],
   "source": [
    "GB_reportDF = customized_classification_report(y_true,y_pred,AUCROC)\n",
    "GB_reportDF"
   ]
  },
  {
   "cell_type": "code",
   "execution_count": null,
   "metadata": {},
   "outputs": [],
   "source": []
  },
  {
   "cell_type": "code",
   "execution_count": 94,
   "metadata": {},
   "outputs": [
    {
     "data": {
      "text/plain": [
       "['total_review_count_user :: 0.408',\n",
       " 'total_review_count_critic :: 0.179',\n",
       " 'average_rating_value :: 0.115',\n",
       " 'total_gross_value :: 0.069',\n",
       " 'total_metascore :: 0.026',\n",
       " 'birthYear :: 0.022',\n",
       " 'total_budget_value :: 0.02',\n",
       " 'median_inter_event_time :: 0.019',\n",
       " 'director_known_titles_average_rating_value :: 0.019',\n",
       " 'average_inter_event_time :: 0.014',\n",
       " 'total_genre_Drama :: 0.014',\n",
       " 'director_known_titles_count :: 0.013',\n",
       " 'average_runtime_of_movie :: 0.012',\n",
       " 'CareerStartYear :: 0.01',\n",
       " 'num_genres_directed :: 0.009',\n",
       " 'median_metascore :: 0.008',\n",
       " 'average_movie_per_year :: 0.007',\n",
       " 'career_Length :: 0.004',\n",
       " 'total_genre_Biography :: 0.004',\n",
       " 'total_genre_Comedy :: 0.004',\n",
       " 'movies_produced :: 0.003',\n",
       " 'total_genre_Animation :: 0.003',\n",
       " 'total_genre_Action :: 0.002',\n",
       " 'total_genre_Romance :: 0.002',\n",
       " 'total_genre_Adventure :: 0.002',\n",
       " 'Gender_Female :: 0.002',\n",
       " 'total_genre_Horror :: 0.002',\n",
       " 'total_genre_War :: 0.001',\n",
       " 'total_genre_Mystery :: 0.001',\n",
       " 'total_genre_History :: 0.001',\n",
       " 'total_genre_Music :: 0.001',\n",
       " 'total_awards_nominated :: 0.001',\n",
       " 'total_genre_Fantasy :: 0.001',\n",
       " 'total_genre_Sci_Fi :: 0.001',\n",
       " 'director_profession_tertiary :: 0.001',\n",
       " 'director_profession_secondary :: 0.001',\n",
       " 'total_genre_Musical :: 0.0',\n",
       " 'total_genre_Family :: 0.0',\n",
       " 'Gender_Male :: 0.0',\n",
       " 'total_genre_Crime :: 0.0',\n",
       " 'director_profession_primary :: 0.0',\n",
       " 'total_genre_Thriller :: 0.0',\n",
       " 'total_awards_won :: 0.0',\n",
       " 'total_genre_Western :: 0.0',\n",
       " 'total_genre_Sport :: 0.0',\n",
       " 'total_genre_Talk_Show :: 0.0',\n",
       " 'total_genre_Short :: 0.0',\n",
       " 'total_genre_Reality_TV :: 0.0',\n",
       " 'total_genre_None :: 0.0',\n",
       " 'total_genre_News :: 0.0',\n",
       " 'total_genre_Game_Show :: 0.0',\n",
       " 'total_genre_Film_Noir :: 0.0',\n",
       " 'total_genre_Documentary :: 0.0',\n",
       " 'total_genre_Adult :: 0.0']"
      ]
     },
     "execution_count": 94,
     "metadata": {},
     "output_type": "execute_result"
    }
   ],
   "source": [
    "print_feature_importances(gb_clf.feature_importances_,X_train.columns)"
   ]
  },
  {
   "cell_type": "code",
   "execution_count": 95,
   "metadata": {},
   "outputs": [
    {
     "ename": "SyntaxError",
     "evalue": "'break' outside loop (<ipython-input-95-6aaf1f276005>, line 4)",
     "output_type": "error",
     "traceback": [
      "\u001b[1;36m  File \u001b[1;32m\"<ipython-input-95-6aaf1f276005>\"\u001b[1;36m, line \u001b[1;32m4\u001b[0m\n\u001b[1;31mSyntaxError\u001b[0m\u001b[1;31m:\u001b[0m 'break' outside loop\n"
     ]
    }
   ],
   "source": [
    "break"
   ]
  },
  {
   "cell_type": "markdown",
   "metadata": {},
   "source": [
    "### Train accuracy of the model"
   ]
  },
  {
   "cell_type": "code",
   "execution_count": null,
   "metadata": {},
   "outputs": [],
   "source": [
    "gb_clf.train_score_"
   ]
  },
  {
   "cell_type": "code",
   "execution_count": null,
   "metadata": {},
   "outputs": [],
   "source": [
    "labelMovieClass = ['terrible','poor','average','excellent']\n",
    "y_train_pred = gb_clf.predict(X_train)\n",
    "y_train_prob = gb_clf.predict_proba(X_train)\n",
    "train_macro_ovo_roc_auc = roc_auc_score(y_train, y_train_prob,average= \"macro\" , multi_class = 'ovo')"
   ]
  },
  {
   "cell_type": "code",
   "execution_count": null,
   "metadata": {
    "scrolled": false
   },
   "outputs": [],
   "source": [
    "train_GB_reportDF = customized_classification_report(y_train,y_train_pred,train_macro_ovo_roc_auc)\n",
    "train_GB_reportDF"
   ]
  },
  {
   "cell_type": "markdown",
   "metadata": {},
   "source": [
    "### 1d) Shap Value for Gradient Boost"
   ]
  },
  {
   "cell_type": "code",
   "execution_count": null,
   "metadata": {},
   "outputs": [],
   "source": [
    "import shap "
   ]
  },
  {
   "cell_type": "code",
   "execution_count": null,
   "metadata": {},
   "outputs": [],
   "source": [
    "# # # Create the explainer \n",
    "\n",
    "# gradient_boost_explainer = shap.TreeExplainer(gb_clf)"
   ]
  },
  {
   "cell_type": "code",
   "execution_count": null,
   "metadata": {},
   "outputs": [],
   "source": []
  },
  {
   "cell_type": "code",
   "execution_count": null,
   "metadata": {},
   "outputs": [],
   "source": []
  },
  {
   "cell_type": "markdown",
   "metadata": {},
   "source": [
    "### 1e) Plot ROC AUC Curve"
   ]
  },
  {
   "cell_type": "code",
   "execution_count": null,
   "metadata": {},
   "outputs": [],
   "source": [
    "def divide_test_train_with_scaling_methods_roc_auc(df,predict= chosen_success_class,scalingMethod = \"MinMaxScaler\"):\n",
    "    \n",
    "    labelClass = ['terrible','poor','average','excellent']\n",
    "    \n",
    "    # Feature matrix and target variable\n",
    "    X = df.drop(predict,axis = 'columns')\n",
    "    y = df[predict]\n",
    "    \n",
    "    # Using LabelBinarizer\n",
    "#     lb = preprocessing.LabelBinarizer()\n",
    "#     y = lb.fit_transform(y)\n",
    "\n",
    "    # Using label_binarize\n",
    "    y = label_binarize(y, classes= labelClass)\n",
    "\n",
    "    \n",
    "    # Scaling\n",
    "    if (scalingMethod == \"MinMaxScaler\"):\n",
    "        print(\"The scaling method used is : \",scalingMethod)\n",
    "        scaler = MinMaxScaler()\n",
    "        new_X = scaler.fit_transform(X)\n",
    "        # X_test = scaler.transform(X_test)\n",
    "        \n",
    "    else:\n",
    "        print(\"No Scaling Method used or incorrect input\")\n",
    "        new_X = X\n",
    "    \n",
    "    # Divide the data into training and test sets\n",
    "    X_train, X_test, y_train, y_test = train_test_split(new_X, y, test_size=0.20, random_state = 42 , stratify = y )\n",
    "    \n",
    "    return X_train, X_test, y_train, y_test"
   ]
  },
  {
   "cell_type": "code",
   "execution_count": null,
   "metadata": {},
   "outputs": [],
   "source": [
    "X_train_AUC, X_test_AUC, y_train_AUC, y_test_AUC = divide_test_train_with_scaling_methods_roc_auc(chosen_dataframe,scalingMethod= chosen_scaling_method)"
   ]
  },
  {
   "cell_type": "code",
   "execution_count": null,
   "metadata": {},
   "outputs": [],
   "source": [
    "X_train_AUC.shape , y_train_AUC.shape"
   ]
  },
  {
   "cell_type": "code",
   "execution_count": null,
   "metadata": {},
   "outputs": [],
   "source": [
    "X_test_AUC.shape , y_test_AUC.shape"
   ]
  },
  {
   "cell_type": "code",
   "execution_count": null,
   "metadata": {},
   "outputs": [],
   "source": [
    "def plot_roc_auc(X_train, X_test, y_train, y_test,learning_rate = 1):\n",
    "    \n",
    "    start = time.time()\n",
    "    print(\"Started Reading files at :\" + str(datetime.utcfromtimestamp(start).strftime('%Y-%m-%d %H:%M:%S')))\n",
    "    \n",
    "    labelMovieClass = ['terrible','poor','average','excellent']\n",
    "\n",
    "    # Classifier parameters    \n",
    "    gb_clf = GradientBoostingClassifier(n_estimators=100,\n",
    "                                         learning_rate= default_learning_rate,\n",
    "                                         max_leaf_nodes= chosen_max_leaf_nodes,\n",
    "                                         max_features= chosen_max_features,\n",
    "                                         max_depth= default_max_depth,\n",
    "                                         random_state= chosen_random_state\n",
    "                                        )\n",
    "    \n",
    "    # Learn to predict each class against the other\n",
    "    classifier = OneVsRestClassifier(gb_clf)\n",
    "    gb_clf = classifier\n",
    "    \n",
    "    \n",
    "#     gb_clf.fit(X_train, y_train)\n",
    "    y_score = gb_clf.fit(X_train, y_train).decision_function(X_test)\n",
    "\n",
    "    # Predict classes\n",
    "    y_pred = gb_clf.predict(X_test)\n",
    "    y_prob = gb_clf.predict_proba(X_test)\n",
    "    \n",
    "    \n",
    "    classifier_name = gb_clf.__class__.__name__\n",
    "    train_size = int(round((len(X_train) / len(chosen_dataframe)),1) * 100)\n",
    "    test_size = int(round((len(X_test) / len(chosen_dataframe)),1) * 100)\n",
    "    \n",
    "    # Print run info\n",
    "    run_info(classifier_name)\n",
    "    \n",
    "      \n",
    "    \n",
    "    gb_train_score = gb_clf.score(X_train, y_train)\n",
    "    print(\"\\nTraining Score of {0} on {2} % data : {1} \".format(classifier_name,round(gb_train_score,3),train_size))\n",
    "    \n",
    "    gb_test_score = gb_clf.score(X_test, y_test)\n",
    "    print(\"Testing Score of {0} on {2} % data : {1} \".format(classifier_name,round(gb_test_score,3),test_size))\n",
    "    \n",
    "    # Performance metrics\n",
    "    \n",
    "    micro_ovo_roc_auc = roc_auc_score(y_test, y_prob,average= \"macro\" , multi_class = 'ovo')\n",
    "    print( \"\\nArea Under the Curve - ROC (OVO , Micro) : \",round(micro_ovo_roc_auc,3))\n",
    "#     print(\"\\nConfusion Matrix:\\n\")\n",
    "#     print(cnf_matrix)\n",
    "        \n",
    "    # Stop timer\n",
    "    end = time.time()\n",
    "    print(\"\\nStopped Reading files at :\" + str(datetime.utcfromtimestamp(end).strftime('%Y-%m-%d %H:%M:%S')))\n",
    "    total_time = str(round((end - start)/60,2))\n",
    "    print(\"Total time taken in minutes: \" + str((end - start)/60))\n",
    "      \n",
    "    return gb_clf, y_test , y_pred, y_prob , micro_ovo_roc_auc , y_score"
   ]
  },
  {
   "cell_type": "code",
   "execution_count": null,
   "metadata": {},
   "outputs": [],
   "source": [
    "ovr_gb_clf, y_true , y_pred, y_prob , AUCROC , y_score= plot_roc_auc(X_train_AUC, X_test_AUC, y_train_AUC, y_test_AUC,learning_rate = chosen_learning_rate_GB)\n"
   ]
  },
  {
   "cell_type": "code",
   "execution_count": null,
   "metadata": {},
   "outputs": [],
   "source": [
    "# import scikitplot as skplt\n",
    "# skplt.metrics.plot_roc_curve(y_true, y_prob)\n",
    "# plt.show()"
   ]
  },
  {
   "cell_type": "code",
   "execution_count": null,
   "metadata": {
    "scrolled": true
   },
   "outputs": [],
   "source": [
    "y_prob"
   ]
  },
  {
   "cell_type": "code",
   "execution_count": null,
   "metadata": {},
   "outputs": [],
   "source": [
    "y_prob_df = pd.DataFrame(data=y_prob)\n",
    "y_prob_df['max_value'] = y_prob_df.max(axis=1)\n",
    "y_prob_df"
   ]
  },
  {
   "cell_type": "code",
   "execution_count": null,
   "metadata": {},
   "outputs": [],
   "source": [
    "y_prob_df['max_value'].describe()"
   ]
  },
  {
   "cell_type": "code",
   "execution_count": null,
   "metadata": {},
   "outputs": [],
   "source": [
    "y_prob_df['max_value'].plot(kind = 'hist', alpha=0.5)"
   ]
  },
  {
   "cell_type": "code",
   "execution_count": null,
   "metadata": {},
   "outputs": [],
   "source": [
    "# Set up the matplotlib figure\n",
    "f, axes = plt.subplots(2, 2, figsize=(7, 7), sharex=True)\n",
    "sns.despine(left=True)\n",
    "\n",
    "# Plot a filled kernel density estimate\n",
    "sns.distplot(y_prob_df['max_value'], hist=False, color=\"g\", kde_kws={\"shade\": True}, ax=axes[1, 0])"
   ]
  },
  {
   "cell_type": "code",
   "execution_count": null,
   "metadata": {},
   "outputs": [],
   "source": [
    "y_prob_df['max_value'].hist(color='k', alpha=0.5, bins=10)"
   ]
  },
  {
   "cell_type": "code",
   "execution_count": null,
   "metadata": {},
   "outputs": [],
   "source": [
    "ax = sns.distplot(y_prob_df['max_value'],bins=50)"
   ]
  },
  {
   "cell_type": "code",
   "execution_count": null,
   "metadata": {},
   "outputs": [],
   "source": [
    "ax = sns.distplot(y_prob_df['max_value'].diff())"
   ]
  },
  {
   "cell_type": "code",
   "execution_count": null,
   "metadata": {},
   "outputs": [],
   "source": [
    "# Compute ROC curve and ROC area for each class\n",
    "fpr_gb = dict()\n",
    "tpr_gb = dict()\n",
    "roc_auc_gb = dict()\n",
    "thresholds_gb = dict()\n",
    "for i in range(4):\n",
    "    fpr_gb[i], tpr_gb[i], thresholds_gb[i] = roc_curve(y_test_AUC[:, i], y_score[:, i])\n",
    "    roc_auc_gb[i] = auc(fpr_gb[i], tpr_gb[i])"
   ]
  },
  {
   "cell_type": "code",
   "execution_count": null,
   "metadata": {},
   "outputs": [],
   "source": [
    "# Compute micro-average ROC curve and ROC area\n",
    "\n",
    "fpr_gb[\"micro\"], tpr_gb[\"micro\"], thresholds_gb['micro'] = roc_curve(y_test_AUC.ravel(), y_score.ravel())\n",
    "roc_auc_gb[\"micro\"] = auc(fpr_gb[\"micro\"], tpr_gb[\"micro\"])"
   ]
  },
  {
   "cell_type": "code",
   "execution_count": null,
   "metadata": {
    "scrolled": true
   },
   "outputs": [],
   "source": [
    "# To calculate macro avearage\n",
    "\n",
    "# first aggregate all the false positive rates\n",
    "all_fpr_gb = np.unique(np.concatenate([fpr_gb[i] for i in range(4)]))\n",
    "\n",
    "# Then interpolate all ROC curves at this points\n",
    "mean_tpr_gb = np.zeros_like(all_fpr_gb)\n",
    "\n",
    "mean_tpr_gb"
   ]
  },
  {
   "cell_type": "code",
   "execution_count": null,
   "metadata": {},
   "outputs": [],
   "source": [
    "for i in range(4):\n",
    "    mean_tpr_gb += np.interp(all_fpr_gb ,fpr_gb[i] , tpr_gb[i])\n",
    "\n",
    "# Finally average it and compute AUC for macro    \n",
    "mean_tpr_gb /= 4"
   ]
  },
  {
   "cell_type": "code",
   "execution_count": null,
   "metadata": {},
   "outputs": [],
   "source": [
    "fpr_gb['macro'] = all_fpr_gb\n",
    "tpr_gb['macro'] = mean_tpr_gb\n",
    "roc_auc_gb[\"macro\"] = auc(fpr_gb[\"macro\"], tpr_gb[\"macro\"])"
   ]
  },
  {
   "cell_type": "code",
   "execution_count": null,
   "metadata": {},
   "outputs": [],
   "source": [
    "gb_clf = GradientBoostingClassifier()\n",
    "if(gender_as_an_input == 'Yes'):\n",
    "    figure_name = '.\\\\DirectorPlots\\\\ROC_'+ gb_clf.__class__.__name__ + '_' + chosen_dataset_ratio + '_WithGender_' + fileName +'.png'\n",
    "elif(gender_as_an_input == 'No'):\n",
    "    figure_name = '.\\\\DirectorPlots\\\\ROC_'+ gb_clf.__class__.__name__ + '_' + chosen_dataset_ratio + '_WithoutGender_' +fileName +'.png'\n",
    "\n",
    "figure_name"
   ]
  },
  {
   "cell_type": "code",
   "execution_count": null,
   "metadata": {
    "scrolled": false
   },
   "outputs": [],
   "source": [
    "plt.figure(figsize=(12,8))\n",
    "lw = 2\n",
    "plt.plot(fpr_gb[0], tpr_gb[0], color='red',\n",
    "         lw=lw, label='ROC curve Class Terrible (area = %0.2f)' % roc_auc_gb[0])\n",
    "\n",
    "plt.plot(fpr_gb[1], tpr_gb[1], color='orange',\n",
    "         lw=lw, label='ROC curve Class Poor(area = %0.2f)' % roc_auc_gb[1])\n",
    "\n",
    "plt.plot(fpr_gb[2], tpr_gb[2], color='yellow',\n",
    "         lw=lw, label='ROC curve Class Average(area = %0.2f)' % roc_auc_gb[2])\n",
    "\n",
    "plt.plot(fpr_gb[3], tpr_gb[3], color='green',\n",
    "         lw=lw, label='ROC curve Class Excellent(area = %0.2f)' % roc_auc_gb[3])\n",
    "\n",
    "plt.plot(fpr_gb['micro'], tpr_gb['micro'], color='blue',\n",
    "         lw=lw, label='ROC curve - micro average(area = %0.2f)' % roc_auc_gb['micro'])\n",
    "\n",
    "plt.plot(fpr_gb['macro'], tpr_gb['macro'], color='purple',\n",
    "         lw=lw, label='ROC curve - macro average(area = %0.2f)' % roc_auc_gb['macro'])\n",
    "\n",
    "\n",
    "plt.plot([0, 1], [0, 1], color='navy', lw=lw, linestyle='--')\n",
    "plt.xlim([0.0, 1.0])\n",
    "plt.ylim([0.0, 1.05])\n",
    "plt.xlabel('False Positive Rate',fontsize = 16)\n",
    "plt.ylabel('True Positive Rate',fontsize = 16)\n",
    "plt.title('Receiver operating characteristic - Director data set',fontsize = 20)\n",
    "plt.legend(loc=\"lower right\",fontsize = 12)\n",
    "plt.tick_params(labelsize=12)\n",
    "# plt.savefig(figure_name, dpi=100)\n",
    "plt.show()"
   ]
  },
  {
   "cell_type": "markdown",
   "metadata": {},
   "source": [
    "## Best optimal threshold"
   ]
  },
  {
   "cell_type": "code",
   "execution_count": null,
   "metadata": {},
   "outputs": [],
   "source": [
    "def find_best_threshold(threshold, fpr, tpr):\n",
    "    t = threshold[np.argmax(tpr*(1-fpr))]\n",
    "    # (tpr*(1-fpr)) will be maximum if your fpr is very low and tpr is very high\n",
    "    print(\"the maximum value of tpr*(1-fpr)\", max(tpr*(1-fpr)), \"for threshold\", np.round(t,3))\n",
    "    return t"
   ]
  },
  {
   "cell_type": "code",
   "execution_count": null,
   "metadata": {},
   "outputs": [],
   "source": [
    "# find_best_threshold(thresholds_gb , fpr_gb , tpr_gb)\n",
    "# thresholds_gb"
   ]
  },
  {
   "cell_type": "code",
   "execution_count": null,
   "metadata": {},
   "outputs": [],
   "source": []
  },
  {
   "cell_type": "code",
   "execution_count": null,
   "metadata": {},
   "outputs": [],
   "source": []
  },
  {
   "cell_type": "markdown",
   "metadata": {},
   "source": [
    "### 2. XGB Classifier"
   ]
  },
  {
   "cell_type": "markdown",
   "metadata": {},
   "source": [
    "#### 2b) Optimal learning rate"
   ]
  },
  {
   "cell_type": "code",
   "execution_count": null,
   "metadata": {},
   "outputs": [],
   "source": [
    "def optimal_learning_rate_xgb(X_train, X_test, y_train, y_test):\n",
    "    \n",
    "    lr_list = [0.05, 0.075, 0.1, 0.25, 0.5, 0.75, 1]\n",
    "\n",
    "    col_learningDF = ['learning_rate','training_accuracy','testing_accuracy']\n",
    "    learningRateDF = pd.DataFrame(columns=col_learningDF)\n",
    "\n",
    "    for learning_rate in lr_list:\n",
    "\n",
    "        xgb_clf = XGBClassifier(n_estimators=100,\n",
    "                                learning_rate=learning_rate,\n",
    "                                 max_leaf_nodes= chosen_max_leaf_nodes,\n",
    "                                 max_features= chosen_max_features,\n",
    "                                 max_depth= default_max_depth,\n",
    "                                 random_state= chosen_random_state\n",
    "                               )\n",
    "        \n",
    "        xgb_clf.fit(X_train, y_train)\n",
    "\n",
    "        accuracy_train_score = xgb_clf.score(X_train, y_train)\n",
    "        accuracy_test_score = xgb_clf.score(X_test, y_test)\n",
    "\n",
    "        learningRateDF.loc[len(learningRateDF)] = [learning_rate,accuracy_train_score,accuracy_test_score]\n",
    "#         print(\"Learning rate: \", learning_rate)\n",
    "#         print(\"Accuracy score (training): {0:.3f}\".format(accuracy_train_score))\n",
    "#         print(\"Accuracy score (test): {0:.3f}\".format(accuracy_test_score))\n",
    "    print(learningRateDF)\n",
    "\n",
    "    optimal_learning_rate = learningRateDF['learning_rate'].loc[learningRateDF.testing_accuracy.argmax()]\n",
    "\n",
    "# # Script to find the maximum learning_rate where the test_accuracy is maximum\n",
    "\n",
    "#     optimal_learning_rate = learningRateDF['learning_rate'].loc[((learningRateDF == learningRateDF.min())\n",
    "#                                                                  .cumsum()\n",
    "#                                                                  .astype(bool))\n",
    "#                                                                 [::-1].idxmax()\n",
    "#                                                                 ['testing_accuracy']\n",
    "#                                                                ]\n",
    "\n",
    "    return optimal_learning_rate"
   ]
  },
  {
   "cell_type": "code",
   "execution_count": null,
   "metadata": {},
   "outputs": [],
   "source": [
    "# chosen_learning_rate_XGB = optimal_learning_rate_xgb(X_train, X_test, y_train, y_test)\n",
    "chosen_learning_rate_XGB = default_learning_rate\n",
    "print(\"\\nThe optimal learning rate for XGB Classifier is :\",chosen_learning_rate_XGB)"
   ]
  },
  {
   "cell_type": "markdown",
   "metadata": {},
   "source": [
    "#### 2b) Model Function"
   ]
  },
  {
   "cell_type": "code",
   "execution_count": null,
   "metadata": {},
   "outputs": [],
   "source": [
    "# gb_clf = GradientBoostingClassifier(n_estimators=100,\n",
    "#                                     learning_rate= 0.1,\n",
    "#                                     max_leaf_nodes= 32,\n",
    "#                                     max_features= None,\n",
    "#                                     max_depth= 3,\n",
    "#                                     random_state= 42\n",
    "#                                    )"
   ]
  },
  {
   "cell_type": "code",
   "execution_count": null,
   "metadata": {},
   "outputs": [],
   "source": [
    "# xgb_clf = XGBClassifier(n_estimators=100,\n",
    "#                         learning_rate= 0.1,\n",
    "#                         max_leaf_nodes= 32,\n",
    "#                         max_features= None,\n",
    "#                         max_depth= 3,\n",
    "#                         random_state= 42\n",
    "#                        )"
   ]
  },
  {
   "cell_type": "code",
   "execution_count": null,
   "metadata": {},
   "outputs": [],
   "source": [
    "def train_model_XGB_classifier(X_train, X_test, y_train, y_test,learning_rate = 1):\n",
    "    \n",
    "    start = time.time()\n",
    "    print(\"Started Reading files at :\" + str(datetime.utcfromtimestamp(start).strftime('%Y-%m-%d %H:%M:%S')))\n",
    "    \n",
    "    labelMovieClass = ['terrible','poor','average','excellent']\n",
    "    \n",
    "    # Classifier parameters    \n",
    "\n",
    "    xgb_clf = XGBClassifier(n_estimators=100,\n",
    "                            learning_rate=learning_rate,\n",
    "                            max_leaf_nodes= chosen_max_leaf_nodes,\n",
    "                            max_features= chosen_max_features,\n",
    "                            max_depth= default_max_depth,\n",
    "                            random_state= chosen_random_state\n",
    "                           )\n",
    "    \n",
    "    xgb_clf.fit(X_train, y_train)\n",
    "    \n",
    "    # Predict classes\n",
    "    y_pred = xgb_clf.predict(X_test)\n",
    "    y_prob = xgb_clf.predict_proba(X_test)\n",
    "    \n",
    "    cnf_matrix = confusion_matrix(y_test, y_pred,labels= labelMovieClass )\n",
    "    np.set_printoptions(precision=2)\n",
    "    \n",
    "    classifier_name = xgb_clf.__class__.__name__\n",
    "    train_size = int(round((len(X_train) / len(chosen_dataframe)),1) * 100)\n",
    "    test_size = int(round((len(X_test) / len(chosen_dataframe)),1) * 100)\n",
    "    \n",
    "    # Print run info\n",
    "    run_info(classifier_name)\n",
    "    \n",
    "    # Plot non-normalized confusion matrix\n",
    "    plt.figure()\n",
    "    plot_confusion_matrix(cnf_matrix, classes= labelMovieClass,\n",
    "                      title='Confusion matrix, without normalization')\n",
    "    \n",
    "    xgb_train_score = xgb_clf.score(X_train, y_train)\n",
    "    print(\"\\nTraining Score of {0} on {2} % data : {1} \".format(classifier_name,round(xgb_train_score,3),train_size))\n",
    "    \n",
    "    xgb_test_score = xgb_clf.score(X_test, y_test)\n",
    "    print(\"\\nTraining Score of {0} on {2} % data : {1} \".format(classifier_name,round(xgb_test_score,3),test_size))\n",
    "    \n",
    "        \n",
    "    # Performance metrics\n",
    "    macro_ovo_roc_auc = roc_auc_score(y_test, y_prob,average= \"macro\" , multi_class = 'ovo')\n",
    "    print( \"\\nArea Under the Curve - ROC (OVO , Macro) : \",round(macro_ovo_roc_auc,3))\n",
    "    print( \"Matthews_corrcoef : \", round(metrics.matthews_corrcoef(y_test, y_pred),3))\n",
    "\n",
    "    print(\"\\nClassification Report\\n\")\n",
    "    print(classification_report(y_test, y_pred, labels = labelMovieClass ))\n",
    "    \n",
    "    # Stop timer\n",
    "    end = time.time()\n",
    "    print(\"\\nStopped Reading files at :\" + str(datetime.utcfromtimestamp(end).strftime('%Y-%m-%d %H:%M:%S')))\n",
    "    total_time = str(round((end - start)/60,2))\n",
    "    print(\"Total time taken in minutes: \" + str((end - start)/60))\n",
    "  \n",
    "    return xgb_clf,y_test,y_pred,macro_ovo_roc_auc"
   ]
  },
  {
   "cell_type": "markdown",
   "metadata": {},
   "source": [
    "###  2c) Run results of XGB Model"
   ]
  },
  {
   "cell_type": "code",
   "execution_count": null,
   "metadata": {},
   "outputs": [],
   "source": [
    "xgb_clf,y_true,y_pred,macro_ovo_roc_auc = train_model_XGB_classifier(X_train, X_test, y_train, y_test,learning_rate = chosen_learning_rate_XGB)\n",
    "# tn, fp, fn, tp"
   ]
  },
  {
   "cell_type": "code",
   "execution_count": null,
   "metadata": {},
   "outputs": [],
   "source": [
    "XGB_reportDF = customized_classification_report(y_true,y_pred,AUCROC)\n",
    "XGB_reportDF"
   ]
  },
  {
   "cell_type": "code",
   "execution_count": null,
   "metadata": {},
   "outputs": [],
   "source": [
    "print_feature_importances(xgb_clf.feature_importances_,X_train.columns)"
   ]
  },
  {
   "cell_type": "code",
   "execution_count": null,
   "metadata": {},
   "outputs": [],
   "source": [
    "break"
   ]
  },
  {
   "cell_type": "markdown",
   "metadata": {},
   "source": [
    "## Shap"
   ]
  },
  {
   "cell_type": "code",
   "execution_count": null,
   "metadata": {},
   "outputs": [],
   "source": [
    "import shap"
   ]
  },
  {
   "cell_type": "code",
   "execution_count": null,
   "metadata": {},
   "outputs": [],
   "source": [
    "# compute the SHAP values for every prediction in the validation dataset\n",
    "explainer = shap.TreeExplainer(xgb_clf)\n",
    "shap_values = explainer.shap_values(X_train)"
   ]
  },
  {
   "cell_type": "code",
   "execution_count": null,
   "metadata": {},
   "outputs": [],
   "source": []
  },
  {
   "cell_type": "code",
   "execution_count": null,
   "metadata": {},
   "outputs": [],
   "source": []
  },
  {
   "cell_type": "code",
   "execution_count": null,
   "metadata": {},
   "outputs": [],
   "source": []
  },
  {
   "cell_type": "code",
   "execution_count": null,
   "metadata": {},
   "outputs": [],
   "source": []
  },
  {
   "cell_type": "markdown",
   "metadata": {},
   "source": [
    "## Feature Importance"
   ]
  },
  {
   "cell_type": "code",
   "execution_count": null,
   "metadata": {},
   "outputs": [],
   "source": [
    "X_test.columns.values"
   ]
  },
  {
   "cell_type": "code",
   "execution_count": null,
   "metadata": {},
   "outputs": [],
   "source": [
    "feature_imp_xgb = xgb_clf.feature_importances_"
   ]
  },
  {
   "cell_type": "code",
   "execution_count": null,
   "metadata": {},
   "outputs": [],
   "source": [
    "feature_imp_xgb"
   ]
  },
  {
   "cell_type": "code",
   "execution_count": null,
   "metadata": {},
   "outputs": [],
   "source": [
    "feature_imp_xgb[feature_imp_xgb>0.05]"
   ]
  },
  {
   "cell_type": "code",
   "execution_count": null,
   "metadata": {},
   "outputs": [],
   "source": [
    "# plot\n",
    "pyplot.bar(range(len(model.feature_importances_)), model.feature_importances_)\n",
    "pyplot.show()"
   ]
  },
  {
   "cell_type": "code",
   "execution_count": null,
   "metadata": {},
   "outputs": [],
   "source": []
  },
  {
   "cell_type": "code",
   "execution_count": null,
   "metadata": {},
   "outputs": [],
   "source": []
  },
  {
   "cell_type": "code",
   "execution_count": null,
   "metadata": {},
   "outputs": [],
   "source": [
    "from xgboost import plot_importance"
   ]
  },
  {
   "cell_type": "code",
   "execution_count": null,
   "metadata": {},
   "outputs": [],
   "source": [
    "# plot feature importance\n",
    "plot_importance(xgb_clf)"
   ]
  },
  {
   "cell_type": "markdown",
   "metadata": {},
   "source": [
    "## Feature selection of XGB"
   ]
  },
  {
   "cell_type": "code",
   "execution_count": null,
   "metadata": {},
   "outputs": [],
   "source": [
    "from sklearn.feature_selection import SelectFromModel"
   ]
  },
  {
   "cell_type": "code",
   "execution_count": null,
   "metadata": {},
   "outputs": [],
   "source": [
    "# select features using threshold\n",
    "selection = SelectFromModel(estimator = xgb_clf, threshold='median', prefit=True)\n",
    "select_X_train = selection.transform(X_train)"
   ]
  },
  {
   "cell_type": "code",
   "execution_count": null,
   "metadata": {
    "scrolled": true
   },
   "outputs": [],
   "source": [
    "# train model\n",
    "selection_model = XGBClassifier(n_estimators = 100,\n",
    "                                learning_rate = 0.1,\n",
    "                                max_leaf_nodes = 32,\n",
    "                                max_features = 2,\n",
    "                                max_depth = 2,\n",
    "                                random_state = 42\n",
    "                                )\n",
    "\n",
    "selection_model.fit(select_X_train, y_train)"
   ]
  },
  {
   "cell_type": "code",
   "execution_count": null,
   "metadata": {},
   "outputs": [],
   "source": [
    "# eval model\n",
    "select_X_test = selection.transform(X_test)\n",
    "y_pred = selection_model.predict(select_X_test)"
   ]
  },
  {
   "cell_type": "code",
   "execution_count": null,
   "metadata": {},
   "outputs": [],
   "source": [
    "labelMovieClass = ['poor','average','good','excellent']\n",
    "print(\"Classification Report\")\n",
    "print(classification_report(y_test, y_pred, labels = labelMovieClass ))"
   ]
  },
  {
   "cell_type": "code",
   "execution_count": null,
   "metadata": {},
   "outputs": [],
   "source": []
  },
  {
   "cell_type": "code",
   "execution_count": null,
   "metadata": {},
   "outputs": [],
   "source": []
  },
  {
   "cell_type": "code",
   "execution_count": null,
   "metadata": {},
   "outputs": [],
   "source": []
  },
  {
   "cell_type": "code",
   "execution_count": null,
   "metadata": {},
   "outputs": [],
   "source": [
    "# Feature importance based on contribution to the classifier model\n",
    "print(\"\\nAbsolute contributions\\n\")\n",
    "absoluteListOrder = print_feature_importances(abs(trainedSVClassifier.coef_[0]), featuresSelected)\n",
    "for j in absoluteListOrder:\n",
    "    print(j)"
   ]
  },
  {
   "cell_type": "code",
   "execution_count": null,
   "metadata": {},
   "outputs": [],
   "source": [
    "print(\"\\nPositive and Negative contributions\\n\")\n",
    "listOrder = print_feature_importances((trainedSVClassifier.coef_[0]), featuresSelected)\n",
    "for i in listOrder:\n",
    "    print(i)"
   ]
  },
  {
   "cell_type": "markdown",
   "metadata": {},
   "source": [
    "# End"
   ]
  },
  {
   "cell_type": "code",
   "execution_count": null,
   "metadata": {},
   "outputs": [],
   "source": [
    "from math import log, exp\n",
    "import numpy as np"
   ]
  },
  {
   "cell_type": "code",
   "execution_count": null,
   "metadata": {},
   "outputs": [],
   "source": [
    "from math import log, exp\n",
    "\n",
    "# The function will first be estimated in the form y = a*e^(kx)\n",
    "# and then converted to the form y = a*b^x where b = e^x\n",
    "\n",
    "xList = []    # Contains all the x-values\n",
    "yList = []    # Contains all the corresponding y-values\n",
    "kList = []    # Contains all the k-values\n",
    "aList = []    # Contains all the a-values\n",
    "\n",
    "n = int(input(\"How many points will you input?: \"))\n",
    "\n",
    "for i in range(n):\n",
    "    x, y = map(float, input(\"Please enter an x-value and its corresponding y-value:\\n\").split())\n",
    "    xList.append(x)\n",
    "    yList.append(y)\n",
    "\n",
    "for i in range(n):\n",
    "    for j in range(i+1, n):\n",
    "        # The k-value is calculated as k = ln(y1/y2)/(x1-x2)\n",
    "        kList.append(log(yList[i]/yList[j]) / (xList[i]-xList[j]))\n",
    "\n",
    "# Because the points given are supposed to be from physical experiments\n",
    "# the k-value will not be constant throughout all measurements.\n",
    "# To go around this I take the average of all k-values\n",
    "k = sum(kList)/len(kList)\n",
    "\n",
    "for i in range(n):\n",
    "    # The a-value is calculated as a = y1/e^(kx1)\n",
    "    aList.append(yList[i]/exp(k*xList[i]))\n",
    "\n",
    "# Taking the average for the same reason as the k-value\n",
    "a = sum(aList)/len(aList)\n",
    "\n",
    "# Calculating the b-value\n",
    "b = exp(k)\n",
    "\n",
    "fin = \"y = \" + str(a) + \" * \" + str(b) + \"^x\"\n",
    "\n",
    "print(\"\\n\")\n",
    "print(\"The estimated function is:\\n{}\".format(fin))"
   ]
  },
  {
   "cell_type": "code",
   "execution_count": null,
   "metadata": {},
   "outputs": [],
   "source": [
    "def ans(x):\n",
    "    y = 6.490413401205472 * 1.000121937909821**x\n",
    "    return y"
   ]
  },
  {
   "cell_type": "code",
   "execution_count": null,
   "metadata": {},
   "outputs": [],
   "source": [
    "ans(5150)"
   ]
  },
  {
   "cell_type": "code",
   "execution_count": null,
   "metadata": {},
   "outputs": [],
   "source": []
  },
  {
   "cell_type": "code",
   "execution_count": null,
   "metadata": {},
   "outputs": [],
   "source": []
  },
  {
   "cell_type": "code",
   "execution_count": null,
   "metadata": {},
   "outputs": [],
   "source": [
    "x = np.array([1000, 10000, 20000, 30000, 40000, 50000,100000])\n",
    "y = np.array([0.41, 37.5, 156.5, 444, 808, 1200, 5150])\n",
    "np.polyfit(x, np.log(y), 1)"
   ]
  },
  {
   "cell_type": "code",
   "execution_count": null,
   "metadata": {},
   "outputs": [],
   "source": [
    "scipy.optimize.curve_fit(lambda t,a,b: a*np.exp(b*t),  x,  y)"
   ]
  },
  {
   "cell_type": "code",
   "execution_count": null,
   "metadata": {},
   "outputs": [],
   "source": []
  },
  {
   "cell_type": "code",
   "execution_count": null,
   "metadata": {},
   "outputs": [],
   "source": []
  },
  {
   "cell_type": "code",
   "execution_count": null,
   "metadata": {},
   "outputs": [],
   "source": []
  },
  {
   "cell_type": "code",
   "execution_count": null,
   "metadata": {},
   "outputs": [],
   "source": [
    "import scipy\n",
    "from scipy.optimize import curve_fit\n",
    "import sympy as sym"
   ]
  },
  {
   "cell_type": "code",
   "execution_count": null,
   "metadata": {},
   "outputs": [],
   "source": [
    "plt.plot(x, y, 'ro',label=\"Original Data\")\n",
    "\n",
    "def func(x, a, b, c, d):\n",
    "    return a*x**3 + b*x**2 +c*x + d\n",
    "\n",
    "# def func(x, a, b, c):\n",
    "#     return a*np.exp(b*x)+c  \n",
    "\n",
    "popt, pcov = curve_fit(func, x, y)\n",
    "\n",
    "print(\"a = %s , b = %s, c = %s, d = %s\" % (popt[0], popt[1], popt[2], popt[3]))\n",
    "\n",
    "xs = sym.Symbol('\\lambda')    \n",
    "tex = sym.latex(func(xs,*popt)).replace('$', '')\n",
    "plt.title(r'$f(\\lambda)= %s$' %(tex),fontsize=16)\n",
    "\n",
    "plt.plot(x, func(x, *popt), label=\"Fitted Curve\") #same as line above \\/\n",
    "#plt.plot(x, popt[0]*x**3 + popt[1]*x**2 + popt[2]*x + popt[3], label=\"Fitted Curve\") \n",
    "\n",
    "plt.legend(loc='upper left')\n",
    "plt.show()"
   ]
  }
 ],
 "metadata": {
  "kernelspec": {
   "display_name": "Python 3",
   "language": "python",
   "name": "python3"
  },
  "language_info": {
   "codemirror_mode": {
    "name": "ipython",
    "version": 3
   },
   "file_extension": ".py",
   "mimetype": "text/x-python",
   "name": "python",
   "nbconvert_exporter": "python",
   "pygments_lexer": "ipython3",
   "version": "3.7.3"
  }
 },
 "nbformat": 4,
 "nbformat_minor": 4
}
