{
 "cells": [
  {
   "cell_type": "markdown",
   "metadata": {},
   "source": [
    "## Gender Classification Of Names\n",
    "### Using Machine Learning To Detect/Predict Gender of Individuals \n",
    "+ Sklearn\n",
    "+ Pandas\n",
    "+ Text Extraction"
   ]
  },
  {
   "cell_type": "code",
   "execution_count": 234,
   "metadata": {},
   "outputs": [],
   "source": [
    "# packages\n",
    "import pandas as pd\n",
    "import numpy as np\n",
    "\n",
    "import matplotlib.lines as mlines\n",
    "import matplotlib.patches as mpatches\n",
    "import matplotlib as mpl\n",
    "import matplotlib.pyplot as plt\n",
    "import os\n",
    "import seaborn as sns"
   ]
  },
  {
   "cell_type": "code",
   "execution_count": 235,
   "metadata": {},
   "outputs": [],
   "source": [
    "# ML Packages\n",
    "from sklearn.feature_extraction.text import CountVectorizer\n",
    "from sklearn.feature_extraction import DictVectorizer\n",
    "#from sklearn.feature_extraction.text import TfidfVectorizer\n"
   ]
  },
  {
   "cell_type": "code",
   "execution_count": 236,
   "metadata": {},
   "outputs": [],
   "source": [
    "import matplotlib.pyplot as plt\n",
    "%matplotlib inline\n",
    "\n",
    "def plot_confusion_matrix(cm, classes,\n",
    "                          normalize=False,\n",
    "                          title='Confusion matrix',\n",
    "                          cmap=plt.cm.Blues):\n",
    "    \"\"\"\n",
    "    This function prints and plots the confusion matrix.\n",
    "    Normalization can be applied by setting `normalize=True`.\n",
    "    \"\"\"\n",
    "    import itertools\n",
    "    if normalize:\n",
    "        cm = cm.astype('float') / cm.sum(axis=1)[:, np.newaxis]\n",
    "        print(\"Normalized confusion matrix\")\n",
    "    else:\n",
    "        print('Confusion matrix, without normalization')\n",
    "\n",
    "    print(cm)\n",
    "\n",
    "    plt.imshow(cm, interpolation='nearest', cmap=cmap)\n",
    "    plt.title(title)\n",
    "    plt.colorbar()\n",
    "    tick_marks = np.arange(len(classes))\n",
    "    plt.xticks(tick_marks, classes, rotation=45)\n",
    "    plt.yticks(tick_marks, classes)\n",
    "\n",
    "    fmt = '.2f' if normalize else 'd'\n",
    "    thresh = cm.max() / 2.\n",
    "    for i, j in itertools.product(range(cm.shape[0]), range(cm.shape[1])):\n",
    "        plt.text(j, i, format(cm[i, j], fmt),\n",
    "                 horizontalalignment=\"center\",\n",
    "                 color=\"white\" if cm[i, j] > thresh else \"black\")\n",
    "\n",
    "    plt.ylabel('True label')\n",
    "    plt.xlabel('Predicted label')\n",
    "    plt.tight_layout()"
   ]
  },
  {
   "cell_type": "code",
   "execution_count": 237,
   "metadata": {},
   "outputs": [],
   "source": [
    "# Load our data\n",
    "namesDataDF = pd.read_csv('ML_Train_names_dataset.csv')"
   ]
  },
  {
   "cell_type": "code",
   "execution_count": 238,
   "metadata": {},
   "outputs": [
    {
     "data": {
      "text/plain": [
       "(95025, 3)"
      ]
     },
     "execution_count": 238,
     "metadata": {},
     "output_type": "execute_result"
    }
   ],
   "source": [
    "namesDataDF.shape"
   ]
  },
  {
   "cell_type": "code",
   "execution_count": 239,
   "metadata": {},
   "outputs": [
    {
     "name": "stdout",
     "output_type": "stream",
     "text": [
      "Percentage of Female in this dataset is : 63.77\n",
      "Percentage of Male in this dataset is : 36.23\n"
     ]
    }
   ],
   "source": [
    "print('Percentage of Female in this dataset is :', round(100 * namesDataDF['sex'].value_counts()[0]/namesDataDF['sex'].value_counts().sum(),2))\n",
    "print('Percentage of Male in this dataset is :', round(100 * namesDataDF['sex'].value_counts()[1]/namesDataDF['sex'].value_counts().sum(),2))"
   ]
  },
  {
   "cell_type": "markdown",
   "metadata": {},
   "source": [
    "## Data Cleaning"
   ]
  },
  {
   "cell_type": "code",
   "execution_count": 7,
   "metadata": {},
   "outputs": [
    {
     "data": {
      "text/plain": [
       "Index(['index', 'name', 'sex'], dtype='object')"
      ]
     },
     "execution_count": 7,
     "metadata": {},
     "output_type": "execute_result"
    }
   ],
   "source": [
    "# Checking for column name consistency\n",
    "namesDataDF.columns"
   ]
  },
  {
   "cell_type": "code",
   "execution_count": 8,
   "metadata": {},
   "outputs": [
    {
     "data": {
      "text/plain": [
       "index     int64\n",
       "name     object\n",
       "sex      object\n",
       "dtype: object"
      ]
     },
     "execution_count": 8,
     "metadata": {},
     "output_type": "execute_result"
    }
   ],
   "source": [
    "# Data Types\n",
    "namesDataDF.dtypes"
   ]
  },
  {
   "cell_type": "code",
   "execution_count": 9,
   "metadata": {
    "scrolled": true
   },
   "outputs": [
    {
     "data": {
      "text/plain": [
       "index    0\n",
       "name     0\n",
       "sex      0\n",
       "dtype: int64"
      ]
     },
     "execution_count": 9,
     "metadata": {},
     "output_type": "execute_result"
    }
   ],
   "source": [
    "# Checking for Missing Values\n",
    "namesDataDF.isnull().isnull().sum()"
   ]
  },
  {
   "cell_type": "code",
   "execution_count": 10,
   "metadata": {},
   "outputs": [
    {
     "data": {
      "text/plain": [
       "F    60597\n",
       "M    34428\n",
       "Name: sex, dtype: int64"
      ]
     },
     "execution_count": 10,
     "metadata": {},
     "output_type": "execute_result"
    }
   ],
   "source": [
    "namesDataDF['sex'].value_counts()"
   ]
  },
  {
   "cell_type": "code",
   "execution_count": 11,
   "metadata": {},
   "outputs": [],
   "source": [
    "df_names = namesDataDF"
   ]
  },
  {
   "cell_type": "code",
   "execution_count": 12,
   "metadata": {},
   "outputs": [],
   "source": [
    "from sklearn import preprocessing\n",
    "le = preprocessing.LabelEncoder()\n",
    "df_names['sex'] = le.fit_transform(df_names['sex'])"
   ]
  },
  {
   "cell_type": "code",
   "execution_count": 13,
   "metadata": {},
   "outputs": [
    {
     "data": {
      "text/plain": [
       "0    60597\n",
       "1    34428\n",
       "Name: sex, dtype: int64"
      ]
     },
     "execution_count": 13,
     "metadata": {},
     "output_type": "execute_result"
    }
   ],
   "source": [
    "df_names['sex'].value_counts()"
   ]
  },
  {
   "cell_type": "code",
   "execution_count": 14,
   "metadata": {
    "scrolled": true
   },
   "outputs": [],
   "source": [
    "# # Replacing All F and M with 0 and 1 respectively\n",
    "# df_names.sex.replace({'F':0,'M':1},inplace=True)"
   ]
  },
  {
   "cell_type": "code",
   "execution_count": 15,
   "metadata": {},
   "outputs": [
    {
     "data": {
      "text/plain": [
       "index     int64\n",
       "name     object\n",
       "sex       int32\n",
       "dtype: object"
      ]
     },
     "execution_count": 15,
     "metadata": {},
     "output_type": "execute_result"
    }
   ],
   "source": [
    "df_names.dtypes"
   ]
  },
  {
   "cell_type": "code",
   "execution_count": 16,
   "metadata": {},
   "outputs": [],
   "source": [
    "Xfeatures = df_names['name']"
   ]
  },
  {
   "cell_type": "markdown",
   "metadata": {},
   "source": [
    "### Feature Extraction "
   ]
  },
  {
   "cell_type": "code",
   "execution_count": 17,
   "metadata": {},
   "outputs": [],
   "source": [
    "# Feature Extraction \n",
    "cv = CountVectorizer()\n",
    "X = cv.fit_transform(Xfeatures)"
   ]
  },
  {
   "cell_type": "code",
   "execution_count": 18,
   "metadata": {},
   "outputs": [
    {
     "data": {
      "text/plain": [
       "scipy.sparse.csr.csr_matrix"
      ]
     },
     "execution_count": 18,
     "metadata": {},
     "output_type": "execute_result"
    }
   ],
   "source": [
    "type(X)"
   ]
  },
  {
   "cell_type": "code",
   "execution_count": 19,
   "metadata": {
    "scrolled": true
   },
   "outputs": [
    {
     "data": {
      "text/plain": [
       "['aaban', 'aabha', 'aabid', 'aabriella', 'aada']"
      ]
     },
     "execution_count": 19,
     "metadata": {},
     "output_type": "execute_result"
    }
   ],
   "source": [
    "cv.get_feature_names()[:5]"
   ]
  },
  {
   "cell_type": "code",
   "execution_count": 20,
   "metadata": {},
   "outputs": [
    {
     "data": {
      "text/plain": [
       "95025"
      ]
     },
     "execution_count": 20,
     "metadata": {},
     "output_type": "execute_result"
    }
   ],
   "source": [
    "len(cv.get_feature_names())"
   ]
  },
  {
   "cell_type": "markdown",
   "metadata": {},
   "source": [
    "# Training the Naives Bayes Classifier model"
   ]
  },
  {
   "cell_type": "code",
   "execution_count": 21,
   "metadata": {},
   "outputs": [],
   "source": [
    "from sklearn.model_selection import train_test_split\n",
    "from sklearn.metrics import classification_report, confusion_matrix"
   ]
  },
  {
   "cell_type": "code",
   "execution_count": 22,
   "metadata": {},
   "outputs": [],
   "source": [
    "# Features \n",
    "X\n",
    "# Labels\n",
    "y = df_names.sex"
   ]
  },
  {
   "cell_type": "code",
   "execution_count": 23,
   "metadata": {},
   "outputs": [
    {
     "data": {
      "text/plain": [
       "0    60597\n",
       "1    34428\n",
       "Name: sex, dtype: int64"
      ]
     },
     "execution_count": 23,
     "metadata": {},
     "output_type": "execute_result"
    }
   ],
   "source": [
    "y.value_counts()"
   ]
  },
  {
   "cell_type": "code",
   "execution_count": 24,
   "metadata": {},
   "outputs": [],
   "source": [
    "X_train, X_test, y_train, y_test = train_test_split(X, y, test_size=0.20, random_state = 42, stratify = y)\n",
    "# X_train, X_test, y_train, y_test = train_test_split(X, y, test_size=0.20, random_state = 42)"
   ]
  },
  {
   "cell_type": "code",
   "execution_count": 25,
   "metadata": {},
   "outputs": [
    {
     "name": "stdout",
     "output_type": "stream",
     "text": [
      "After Stratification:\n",
      "\n",
      "Percentage of Female in this dataset is : 63.77\n",
      "Percentage of Male in this dataset is : 36.23\n",
      "\n",
      "Percentage of Female in this training dataset is : 63.77\n",
      "Percentage of Male in this training dataset is : 36.23\n",
      "\n",
      "Percentage of Female in this testing dataset is : 63.77\n",
      "Percentage of Male in this testing dataset is : 36.23\n"
     ]
    }
   ],
   "source": [
    "print('After Stratification:')\n",
    "\n",
    "# Whole Dataset\n",
    "print('\\nPercentage of Female in this dataset is :', round(100 * y.value_counts()[0]/y.value_counts().sum(),2))\n",
    "print('Percentage of Male in this dataset is :', round(100 * y.value_counts()[1]/y.value_counts().sum(),2))\n",
    "\n",
    "\n",
    "# Training Dataset\n",
    "print('\\nPercentage of Female in this training dataset is :', round(100 * y_train.value_counts()[0]/y_train.value_counts().sum(),2))\n",
    "print('Percentage of Male in this training dataset is :', round(100 * y_train.value_counts()[1]/y_train.value_counts().sum(),2))\n",
    "\n",
    "\n",
    "# Testing Dataset\n",
    "print('\\nPercentage of Female in this testing dataset is :', round(100 * y_test.value_counts()[0]/y_test.value_counts().sum(),2))\n",
    "print('Percentage of Male in this testing dataset is :', round(100 * y_test.value_counts()[1]/y_test.value_counts().sum(),2))"
   ]
  },
  {
   "cell_type": "markdown",
   "metadata": {},
   "source": [
    "******Before Stratification:******\n",
    "\n",
    "Percentage of Female in this dataset is : 63.77<br>\n",
    "Percentage of Male in this dataset is : 36.23\n",
    "\n",
    "Percentage of Female in this training dataset is : 63.67<br>\n",
    "Percentage of Male in this training dataset is : 36.33\n",
    "\n",
    "Percentage of Female in this test dataset is : 64.18<br>\n",
    "Percentage of Male in this test dataset is : 35.82"
   ]
  },
  {
   "cell_type": "code",
   "execution_count": 26,
   "metadata": {},
   "outputs": [
    {
     "data": {
      "text/plain": [
       "MultinomialNB(alpha=1, class_prior=None, fit_prior=True)"
      ]
     },
     "execution_count": 26,
     "metadata": {},
     "output_type": "execute_result"
    }
   ],
   "source": [
    "# Naive Bayes Classifier\n",
    "from sklearn.naive_bayes import MultinomialNB\n",
    "clf = MultinomialNB(alpha = 1,fit_prior= True)\n",
    "clf"
   ]
  },
  {
   "cell_type": "code",
   "execution_count": 27,
   "metadata": {},
   "outputs": [
    {
     "data": {
      "text/plain": [
       "0.6376742962378321"
      ]
     },
     "execution_count": 27,
     "metadata": {},
     "output_type": "execute_result"
    }
   ],
   "source": [
    "clf.fit(X_train,y_train)\n",
    "clf.score(X_test,y_test)"
   ]
  },
  {
   "cell_type": "code",
   "execution_count": 28,
   "metadata": {},
   "outputs": [
    {
     "name": "stdout",
     "output_type": "stream",
     "text": [
      "Training Accuracy of Model 100.0 %\n"
     ]
    }
   ],
   "source": [
    "# Training Accuracy of our Model\n",
    "print(\"Training Accuracy of Model\",round(clf.score(X_train,y_train)*100,2),\"%\")"
   ]
  },
  {
   "cell_type": "code",
   "execution_count": 29,
   "metadata": {},
   "outputs": [
    {
     "name": "stdout",
     "output_type": "stream",
     "text": [
      "Testing Accuracy of Model 63.77 %\n"
     ]
    }
   ],
   "source": [
    "# Testing Accuracy of our Model\n",
    "print(\"Testing Accuracy of Model\", round(clf.score(X_test,y_test)*100,2),\"%\")"
   ]
  },
  {
   "cell_type": "markdown",
   "metadata": {},
   "source": [
    "### Performance metrics"
   ]
  },
  {
   "cell_type": "code",
   "execution_count": 30,
   "metadata": {},
   "outputs": [],
   "source": [
    "y_pred = clf.predict(X_test)"
   ]
  },
  {
   "cell_type": "code",
   "execution_count": 31,
   "metadata": {},
   "outputs": [],
   "source": [
    "labelClass = [0,1]"
   ]
  },
  {
   "cell_type": "code",
   "execution_count": 32,
   "metadata": {},
   "outputs": [
    {
     "name": "stdout",
     "output_type": "stream",
     "text": [
      "\n",
      "Classification Report\n",
      "\n",
      "              precision    recall  f1-score   support\n",
      "\n",
      "           0       0.64      1.00      0.78     12119\n",
      "           1       0.00      0.00      0.00      6886\n",
      "\n",
      "    accuracy                           0.64     19005\n",
      "   macro avg       0.32      0.50      0.39     19005\n",
      "weighted avg       0.41      0.64      0.50     19005\n",
      "\n"
     ]
    },
    {
     "name": "stderr",
     "output_type": "stream",
     "text": [
      "C:\\Users\\yuvar\\Anaconda3\\lib\\site-packages\\sklearn\\metrics\\_classification.py:1272: UndefinedMetricWarning: Precision and F-score are ill-defined and being set to 0.0 in labels with no predicted samples. Use `zero_division` parameter to control this behavior.\n",
      "  _warn_prf(average, modifier, msg_start, len(result))\n"
     ]
    }
   ],
   "source": [
    "print(\"\\nClassification Report\\n\")\n",
    "print(classification_report(y_test, y_pred))\n"
   ]
  },
  {
   "cell_type": "code",
   "execution_count": 33,
   "metadata": {},
   "outputs": [],
   "source": [
    "cnf_matrix = confusion_matrix(y_test, y_pred,labels= labelClass )"
   ]
  },
  {
   "cell_type": "code",
   "execution_count": 34,
   "metadata": {},
   "outputs": [
    {
     "name": "stdout",
     "output_type": "stream",
     "text": [
      "Confusion matrix, without normalization\n",
      "[[12119     0]\n",
      " [ 6886     0]]\n"
     ]
    },
    {
     "data": {
      "image/png": "[encoded data removed]",
      "text/plain": [
       "<Figure size 432x288 with 2 Axes>"
      ]
     },
     "metadata": {
      "needs_background": "light"
     },
     "output_type": "display_data"
    }
   ],
   "source": [
    "plot_confusion_matrix(cnf_matrix, classes= labelClass,\n",
    "                  title='Confusion matrix, without normalization')"
   ]
  },
  {
   "cell_type": "markdown",
   "metadata": {},
   "source": [
    "### Sample Prediction of Naives Bayes Classifier"
   ]
  },
  {
   "cell_type": "code",
   "execution_count": 35,
   "metadata": {},
   "outputs": [
    {
     "data": {
      "text/plain": [
       "<95025x95025 sparse matrix of type '<class 'numpy.int64'>'\n",
       "\twith 95025 stored elements in Compressed Sparse Row format>"
      ]
     },
     "execution_count": 35,
     "metadata": {},
     "output_type": "execute_result"
    }
   ],
   "source": [
    "X"
   ]
  },
  {
   "cell_type": "code",
   "execution_count": 36,
   "metadata": {},
   "outputs": [],
   "source": [
    "# A function to do it\n",
    "def genderpredictor_naives(a):\n",
    "    test_name = [a]\n",
    "    vector = cv.transform(test_name).toarray()\n",
    "    if clf.predict(vector) == 0:\n",
    "        print(\"Female\")\n",
    "    else:\n",
    "        print(\"Male\")\n",
    "    "
   ]
  },
  {
   "cell_type": "code",
   "execution_count": 37,
   "metadata": {},
   "outputs": [
    {
     "name": "stdout",
     "output_type": "stream",
     "text": [
      "Female\n"
     ]
    }
   ],
   "source": [
    "genderpredictor_naives(\"Martha\")"
   ]
  },
  {
   "cell_type": "markdown",
   "metadata": {},
   "source": [
    "Features fxn\n",
    "apply the fxn\n",
    "vectorizer\n",
    "fit\n",
    "transform\n",
    "classifier\n",
    "fit\n",
    "predict\n"
   ]
  },
  {
   "cell_type": "code",
   "execution_count": 38,
   "metadata": {},
   "outputs": [
    {
     "name": "stdout",
     "output_type": "stream",
     "text": [
      "Female\n",
      "None\n",
      "Male\n",
      "None\n",
      "Female\n",
      "None\n",
      "Female\n",
      "None\n"
     ]
    }
   ],
   "source": [
    "namelist = [\"Yaa\",\"Yaw\",\"Femi\",\"Masha\"]\n",
    "for i in namelist:\n",
    "    print(genderpredictor_naives(i))"
   ]
  },
  {
   "cell_type": "markdown",
   "metadata": {},
   "source": [
    "### Using a custom function for feature analysis"
   ]
  },
  {
   "cell_type": "code",
   "execution_count": 39,
   "metadata": {},
   "outputs": [],
   "source": [
    "# By Analogy most female names ends in 'A' or 'E' or has the sound of 'A'\n",
    "def features(name):\n",
    "    name = name.lower()\n",
    "    return {\n",
    "        'first-letter': name[0], # First letter\n",
    "        'first2-letters': name[0:2], # First 2 letters\n",
    "        'first3-letters': name[0:3], # First 3 letters\n",
    "        'last-letter': name[-1],\n",
    "        'last2-letters': name[-2:],\n",
    "        'last3-letters': name[-3:],\n",
    "    }"
   ]
  },
  {
   "cell_type": "code",
   "execution_count": 40,
   "metadata": {},
   "outputs": [
    {
     "name": "stdout",
     "output_type": "stream",
     "text": [
      "[{'first-letter': 'a', 'first2-letters': 'an', 'first3-letters': 'ann', 'last-letter': 'a', 'last2-letters': 'na', 'last3-letters': 'nna'}\n",
      " {'first-letter': 'h', 'first2-letters': 'ha', 'first3-letters': 'han', 'last-letter': 'h', 'last2-letters': 'ah', 'last3-letters': 'nah'}\n",
      " {'first-letter': 'p', 'first2-letters': 'pe', 'first3-letters': 'pet', 'last-letter': 'r', 'last2-letters': 'er', 'last3-letters': 'ter'}\n",
      " {'first-letter': 'j', 'first2-letters': 'jo', 'first3-letters': 'joh', 'last-letter': 'n', 'last2-letters': 'hn', 'last3-letters': 'ohn'}\n",
      " {'first-letter': 'v', 'first2-letters': 'vl', 'first3-letters': 'vla', 'last-letter': 'r', 'last2-letters': 'ir', 'last3-letters': 'mir'}\n",
      " {'first-letter': 'm', 'first2-letters': 'mo', 'first3-letters': 'moh', 'last-letter': 'd', 'last2-letters': 'ed', 'last3-letters': 'med'}]\n"
     ]
    }
   ],
   "source": [
    "# Vectorize the features function\n",
    "features = np.vectorize(features)\n",
    "print(features([\"Anna\", \"Hannah\", \"Peter\",\"John\",\"Vladmir\",\"Mohammed\"]))"
   ]
  },
  {
   "cell_type": "code",
   "execution_count": 41,
   "metadata": {},
   "outputs": [],
   "source": [
    "# Extract the features for the dataset\n",
    "df_X = features(df_names['name'])"
   ]
  },
  {
   "cell_type": "code",
   "execution_count": 42,
   "metadata": {},
   "outputs": [],
   "source": [
    "df_y = df_names['sex']"
   ]
  },
  {
   "cell_type": "code",
   "execution_count": 43,
   "metadata": {},
   "outputs": [
    {
     "data": {
      "text/plain": [
       "array([[2., 0., 1.],\n",
       "       [0., 1., 3.]])"
      ]
     },
     "execution_count": 43,
     "metadata": {},
     "output_type": "execute_result"
    }
   ],
   "source": [
    "#Example from scikit-learn\n",
    "\n",
    "from sklearn.feature_extraction import DictVectorizer\n",
    "v = DictVectorizer(sparse=False)\n",
    "D = [{'foo': 1, 'bar': 2}, {'foo': 3, 'baz': 1}]\n",
    "X_dict = v.fit_transform(D)\n",
    "X_dict"
   ]
  },
  {
   "cell_type": "code",
   "execution_count": 44,
   "metadata": {},
   "outputs": [
    {
     "name": "stdout",
     "output_type": "stream",
     "text": [
      "  (0, 1)\t1.0\n",
      "  (0, 3)\t1.0\n",
      "  (0, 5)\t1.0\n",
      "  (0, 7)\t1.0\n",
      "  (0, 9)\t1.0\n",
      "  (0, 10)\t1.0\n",
      "  (1, 0)\t1.0\n",
      "  (1, 2)\t1.0\n",
      "  (1, 4)\t1.0\n",
      "  (1, 6)\t1.0\n",
      "  (1, 8)\t1.0\n",
      "  (1, 11)\t1.0\n"
     ]
    }
   ],
   "source": [
    "from sklearn.feature_extraction import DictVectorizer\n",
    " \n",
    "corpus = features([\"Mike\", \"Julia\"])\n",
    "dv = DictVectorizer()\n",
    "dv.fit(corpus)\n",
    "transformed = dv.transform(corpus)\n",
    "print(transformed)\n",
    " "
   ]
  },
  {
   "cell_type": "code",
   "execution_count": 45,
   "metadata": {},
   "outputs": [
    {
     "data": {
      "text/plain": [
       "['first-letter=j',\n",
       " 'first-letter=m',\n",
       " 'first2-letters=ju',\n",
       " 'first2-letters=mi',\n",
       " 'first3-letters=jul',\n",
       " 'first3-letters=mik',\n",
       " 'last-letter=a',\n",
       " 'last-letter=e',\n",
       " 'last2-letters=ia',\n",
       " 'last2-letters=ke',\n",
       " 'last3-letters=ike',\n",
       " 'last3-letters=lia']"
      ]
     },
     "execution_count": 45,
     "metadata": {},
     "output_type": "execute_result"
    }
   ],
   "source": [
    "dv.get_feature_names()"
   ]
  },
  {
   "cell_type": "code",
   "execution_count": 46,
   "metadata": {},
   "outputs": [],
   "source": [
    "# Train Test Split\n",
    "dfX_train, dfX_test, dfy_train, dfy_test = train_test_split(df_X, df_y, test_size=0.20, random_state= 42 , stratify = df_y)\n",
    "# dfX_train, dfX_test, dfy_train, dfy_test = train_test_split(df_X, df_y, test_size=0.20, random_state= 42)"
   ]
  },
  {
   "cell_type": "code",
   "execution_count": 47,
   "metadata": {},
   "outputs": [
    {
     "name": "stdout",
     "output_type": "stream",
     "text": [
      "After Stratification:\n",
      "\n",
      "Percentage of Female in this dataset is : 63.77\n",
      "Percentage of Male in this dataset is : 36.23\n",
      "\n",
      "Percentage of Female in this training dataset is : 63.77\n",
      "Percentage of Male in this training dataset is : 36.23\n",
      "\n",
      "Percentage of Female in this testing dataset is : 63.77\n",
      "Percentage of Male in this testing dataset is : 36.23\n"
     ]
    }
   ],
   "source": [
    "print('After Stratification:')\n",
    "\n",
    "# Whole Dataset\n",
    "print('\\nPercentage of Female in this dataset is :', round(100 * df_y.value_counts()[0]/df_y.value_counts().sum(),2))\n",
    "print('Percentage of Male in this dataset is :', round(100 * df_y.value_counts()[1]/df_y.value_counts().sum(),2))\n",
    "\n",
    "\n",
    "# Training Dataset\n",
    "print('\\nPercentage of Female in this training dataset is :', round(100 * dfy_train.value_counts()[0]/dfy_train.value_counts().sum(),2))\n",
    "print('Percentage of Male in this training dataset is :', round(100 * dfy_train.value_counts()[1]/dfy_train.value_counts().sum(),2))\n",
    "\n",
    "\n",
    "# Testing Dataset\n",
    "print('\\nPercentage of Female in this testing dataset is :', round(100 * dfy_test.value_counts()[0]/dfy_test.value_counts().sum(),2))\n",
    "print('Percentage of Male in this testing dataset is :', round(100 * dfy_test.value_counts()[1]/dfy_test.value_counts().sum(),2))"
   ]
  },
  {
   "cell_type": "code",
   "execution_count": 48,
   "metadata": {},
   "outputs": [
    {
     "data": {
      "text/plain": [
       "((76020,), (76020,))"
      ]
     },
     "execution_count": 48,
     "metadata": {},
     "output_type": "execute_result"
    }
   ],
   "source": [
    "dfX_train.shape , dfy_train.shape"
   ]
  },
  {
   "cell_type": "code",
   "execution_count": 49,
   "metadata": {},
   "outputs": [
    {
     "data": {
      "text/plain": [
       "((19005,), (19005,))"
      ]
     },
     "execution_count": 49,
     "metadata": {},
     "output_type": "execute_result"
    }
   ],
   "source": [
    "dfX_test.shape , dfy_test.shape"
   ]
  },
  {
   "cell_type": "code",
   "execution_count": 50,
   "metadata": {},
   "outputs": [
    {
     "data": {
      "text/plain": [
       "array([{'first-letter': 's', 'first2-letters': 'sh', 'first3-letters': 'sha', 'last-letter': 'a', 'last2-letters': 'ia', 'last3-letters': 'lia'},\n",
       "       {'first-letter': 'b', 'first2-letters': 'ba', 'first3-letters': 'bal', 'last-letter': 'o', 'last2-letters': 'do', 'last3-letters': 'ldo'},\n",
       "       {'first-letter': 'p', 'first2-letters': 'ph', 'first3-letters': 'phu', 'last-letter': 'g', 'last2-letters': 'ng', 'last3-letters': 'ong'},\n",
       "       {'first-letter': 'r', 'first2-letters': 're', 'first3-letters': 'reg', 'last-letter': 'l', 'last2-letters': 'al', 'last3-letters': 'nal'},\n",
       "       {'first-letter': 'w', 'first2-letters': 'wi', 'first3-letters': 'wil', 'last-letter': 'a', 'last2-letters': 'da', 'last3-letters': 'lda'}],\n",
       "      dtype=object)"
      ]
     },
     "execution_count": 50,
     "metadata": {},
     "output_type": "execute_result"
    }
   ],
   "source": [
    "dfX_train[:5]"
   ]
  },
  {
   "cell_type": "markdown",
   "metadata": {},
   "source": [
    "# Decision Tree Classifier"
   ]
  },
  {
   "cell_type": "code",
   "execution_count": 51,
   "metadata": {},
   "outputs": [
    {
     "data": {
      "text/plain": [
       "<76020x8566 sparse matrix of type '<class 'numpy.float64'>'\n",
       "\twith 456120 stored elements in Compressed Sparse Row format>"
      ]
     },
     "execution_count": 51,
     "metadata": {},
     "output_type": "execute_result"
    }
   ],
   "source": [
    "dv = DictVectorizer()\n",
    "dv.fit_transform(dfX_train)"
   ]
  },
  {
   "cell_type": "markdown",
   "metadata": {},
   "source": [
    "### Model building Using DecisionTree : Reproducibility enabled with random_state and balanced the class weights"
   ]
  },
  {
   "cell_type": "code",
   "execution_count": 52,
   "metadata": {},
   "outputs": [
    {
     "data": {
      "text/plain": [
       "DecisionTreeClassifier(ccp_alpha=0.0, class_weight='balanced', criterion='gini',\n",
       "                       max_depth=None, max_features=None, max_leaf_nodes=None,\n",
       "                       min_impurity_decrease=0.0, min_impurity_split=None,\n",
       "                       min_samples_leaf=1, min_samples_split=2,\n",
       "                       min_weight_fraction_leaf=0.0, presort='deprecated',\n",
       "                       random_state=42, splitter='best')"
      ]
     },
     "execution_count": 52,
     "metadata": {},
     "output_type": "execute_result"
    }
   ],
   "source": [
    "# Model building Using DecisionTree\n",
    "\n",
    "from sklearn.tree import DecisionTreeClassifier\n",
    " \n",
    "# dclf = DecisionTreeClassifier(random_state= 42)\n",
    "dclf = DecisionTreeClassifier(random_state= 42,class_weight = 'balanced')\n",
    "\n",
    "my_xfeatures =dv.transform(dfX_train)\n",
    "dclf.fit(my_xfeatures, dfy_train)"
   ]
  },
  {
   "cell_type": "code",
   "execution_count": 53,
   "metadata": {},
   "outputs": [],
   "source": [
    "# A function to predict Gender\n",
    "def genderpredictor_decision_tree(a):\n",
    "    test_name1 = [a]\n",
    "    transform_dv =dv.transform(features(test_name1))\n",
    "    #print(transform_dv)\n",
    "    vector = transform_dv.toarray()\n",
    "    if dclf.predict(vector) == 0:\n",
    "        return \"Female\"\n",
    "    else:\n",
    "        return \"Male\"\n",
    "    "
   ]
  },
  {
   "cell_type": "code",
   "execution_count": 54,
   "metadata": {},
   "outputs": [
    {
     "data": {
      "text/plain": [
       "'Male'"
      ]
     },
     "execution_count": 54,
     "metadata": {},
     "output_type": "execute_result"
    }
   ],
   "source": [
    "genderpredictor_decision_tree('seung-hyun')"
   ]
  },
  {
   "cell_type": "code",
   "execution_count": 55,
   "metadata": {},
   "outputs": [],
   "source": [
    "random_name_list = [\"Alex\",\"Alice\",\"Chioma\",\"Vitalic\",\"Clairese\",\"Chan\",\"George\"]"
   ]
  },
  {
   "cell_type": "code",
   "execution_count": 56,
   "metadata": {},
   "outputs": [
    {
     "name": "stdout",
     "output_type": "stream",
     "text": [
      "Male\n",
      "Female\n",
      "Female\n",
      "Male\n",
      "Female\n",
      "Male\n",
      "Male\n"
     ]
    }
   ],
   "source": [
    "for n in random_name_list:\n",
    "    print(genderpredictor_decision_tree(n))"
   ]
  },
  {
   "cell_type": "code",
   "execution_count": 57,
   "metadata": {},
   "outputs": [
    {
     "name": "stdout",
     "output_type": "stream",
     "text": [
      "The train score of the decision tree is :  0.9871349644830307\n"
     ]
    }
   ],
   "source": [
    "## Accuracy of Models Decision Tree Classifier Works better than Naive Bayes\n",
    "# Accuracy on training set\n",
    "print(\"The train score of the decision tree is : \", dclf.score(dv.transform(dfX_train), dfy_train))"
   ]
  },
  {
   "cell_type": "code",
   "execution_count": 58,
   "metadata": {},
   "outputs": [
    {
     "name": "stdout",
     "output_type": "stream",
     "text": [
      "The test score of the decision tree is :  0.8683504340962904\n"
     ]
    }
   ],
   "source": [
    "# Accuracy on test set\n",
    "print(\"The test score of the decision tree is : \", dclf.score(dv.transform(dfX_test), dfy_test))"
   ]
  },
  {
   "cell_type": "code",
   "execution_count": 59,
   "metadata": {},
   "outputs": [],
   "source": [
    "my_dfX_testfeatures =dv.transform(dfX_test)"
   ]
  },
  {
   "cell_type": "code",
   "execution_count": 60,
   "metadata": {},
   "outputs": [],
   "source": [
    "y_pred = dclf.predict(my_dfX_testfeatures)"
   ]
  },
  {
   "cell_type": "code",
   "execution_count": 61,
   "metadata": {},
   "outputs": [],
   "source": [
    "labelClass = [0,1]"
   ]
  },
  {
   "cell_type": "code",
   "execution_count": 62,
   "metadata": {},
   "outputs": [
    {
     "name": "stdout",
     "output_type": "stream",
     "text": [
      "\n",
      "Classification Report\n",
      "\n",
      "              precision    recall  f1-score   support\n",
      "\n",
      "           0       0.91      0.89      0.90     12119\n",
      "           1       0.81      0.84      0.82      6886\n",
      "\n",
      "    accuracy                           0.87     19005\n",
      "   macro avg       0.86      0.86      0.86     19005\n",
      "weighted avg       0.87      0.87      0.87     19005\n",
      "\n"
     ]
    }
   ],
   "source": [
    "print(\"\\nClassification Report\\n\")\n",
    "print(classification_report(dfy_test, y_pred))\n"
   ]
  },
  {
   "cell_type": "code",
   "execution_count": 63,
   "metadata": {},
   "outputs": [],
   "source": [
    "cnf_matrix = confusion_matrix(dfy_test, y_pred,labels= labelClass )"
   ]
  },
  {
   "cell_type": "code",
   "execution_count": 64,
   "metadata": {},
   "outputs": [
    {
     "name": "stdout",
     "output_type": "stream",
     "text": [
      "Confusion matrix, without normalization\n",
      "[[10726  1393]\n",
      " [ 1109  5777]]\n"
     ]
    },
    {
     "data": {
      "image/png": "[encoded data removed]",
      "text/plain": [
       "<Figure size 432x288 with 2 Axes>"
      ]
     },
     "metadata": {
      "needs_background": "light"
     },
     "output_type": "display_data"
    }
   ],
   "source": [
    "plot_confusion_matrix(cnf_matrix, classes= labelClass,\n",
    "                  title='Confusion matrix, without normalization')"
   ]
  },
  {
   "cell_type": "markdown",
   "metadata": {},
   "source": [
    "### Saving Our Model"
   ]
  },
  {
   "cell_type": "code",
   "execution_count": 65,
   "metadata": {},
   "outputs": [
    {
     "name": "stderr",
     "output_type": "stream",
     "text": [
      "C:\\Users\\yuvar\\Anaconda3\\lib\\site-packages\\sklearn\\externals\\joblib\\__init__.py:15: FutureWarning: sklearn.externals.joblib is deprecated in 0.21 and will be removed in 0.23. Please import this functionality directly from joblib, which can be installed with: pip install joblib. If this warning is raised when loading pickled models, you may need to re-serialize those models with scikit-learn 0.21+.\n",
      "  warnings.warn(msg, category=FutureWarning)\n"
     ]
    }
   ],
   "source": [
    "from sklearn.externals import joblib"
   ]
  },
  {
   "cell_type": "code",
   "execution_count": 66,
   "metadata": {},
   "outputs": [],
   "source": [
    "# from sklearn.externals import joblib\n",
    "\n",
    "# # decisiontreModel = open(\"decisiontreemodel.pkl\",\"wb\")\n",
    "# decisiontreModel = open(\".\\\\model\\\\decisiontreemodel.pkl\",\"wb\")\n",
    "\n",
    "# joblib.dump(dclf,decisiontreModel)\n",
    "\n",
    "# decisiontreModel.close"
   ]
  },
  {
   "cell_type": "code",
   "execution_count": 67,
   "metadata": {},
   "outputs": [],
   "source": [
    "#Alternative to Model Saving\n",
    "import pickle\n",
    "# dctreeModel = open(\"namesdetectormodel.pkl\",\"wb\")\n",
    "dctreeModel = open(\".\\\\Save model\\\\dclf_namesgender_model.pkl\",\"wb\")\n",
    "\n",
    "pickle.dump(dclf,dctreeModel)\n",
    "\n",
    "dctreeModel.close()"
   ]
  },
  {
   "cell_type": "markdown",
   "metadata": {},
   "source": [
    "##### Save Multinomial NB Model"
   ]
  },
  {
   "cell_type": "code",
   "execution_count": 68,
   "metadata": {},
   "outputs": [],
   "source": [
    "# NaiveBayesModel = open(\"naivebayesgendermodel.pkl\",\"wb\")\n",
    "MultinomialNaiveBayesModel = open(\".\\\\Save model\\\\MultinomialNaiveBayes_namesgender_model.pkl\",\"wb\")"
   ]
  },
  {
   "cell_type": "code",
   "execution_count": 69,
   "metadata": {},
   "outputs": [],
   "source": [
    "joblib.dump(clf,MultinomialNaiveBayesModel)"
   ]
  },
  {
   "cell_type": "code",
   "execution_count": 70,
   "metadata": {},
   "outputs": [],
   "source": [
    "MultinomialNaiveBayesModel.close()"
   ]
  },
  {
   "cell_type": "markdown",
   "metadata": {},
   "source": [
    "ML model Code Reference\n",
    "By Jesse JCharis"
   ]
  },
  {
   "cell_type": "markdown",
   "metadata": {},
   "source": [
    "# Genderize the Exploded Dataset"
   ]
  },
  {
   "cell_type": "code",
   "execution_count": 71,
   "metadata": {},
   "outputs": [],
   "source": [
    "from dateutil.parser import parse \n",
    "import numpy as np\n",
    "import pandas as pd\n",
    "import unicodedata\n",
    "from datetime import datetime\n",
    "from datetime import date"
   ]
  },
  {
   "cell_type": "code",
   "execution_count": 72,
   "metadata": {},
   "outputs": [],
   "source": [
    "# Helper method for save_to_file\n",
    "\n",
    "def get_df_name(df):\n",
    "    name =[x for x in globals() if globals()[x] is df][0]\n",
    "    return name"
   ]
  },
  {
   "cell_type": "code",
   "execution_count": 73,
   "metadata": {},
   "outputs": [],
   "source": [
    "# Function: Save Dataframe to CSV\n",
    "\n",
    "def save_to_file(dataFrame, folderPath):\n",
    "    today = date.today()\n",
    "    todayDate = today.strftime(\"%b-%d-%Y\")\n",
    "#     dataFrame.to_csv(folderPath+ '\\\\' + get_df_name(dataFrame) + '_' + todayDate  + '.csv',index=False, encoding=\"utf8\" )\n",
    "    dataFrame.to_csv(folderPath+ '\\\\' + get_df_name(dataFrame) + '_' + todayDate  + '.csv',index=False, encoding=\"utf-8-sig\" )"
   ]
  },
  {
   "cell_type": "code",
   "execution_count": 74,
   "metadata": {},
   "outputs": [],
   "source": [
    "fileLocation = \"C:\\\\Yuva\\\\ITU\\\\4th Sem\\\\Thesis\\\\Data\\\\Datasets\\\\CleaningStage\\\\stage2ExplodeAndMergeDF_Apr-15-2020.csv\"\n",
    "saveFileToPath = \"C:\\\\Yuva\\\\ITU\\\\4th Sem\\\\Thesis\\\\Data\\\\Datasets\\\\CleaningStage\""
   ]
  },
  {
   "cell_type": "code",
   "execution_count": 75,
   "metadata": {},
   "outputs": [
    {
     "name": "stderr",
     "output_type": "stream",
     "text": [
      "C:\\Users\\yuvar\\Anaconda3\\lib\\site-packages\\IPython\\core\\interactiveshell.py:3063: DtypeWarning: Columns (11) have mixed types.Specify dtype option on import or set low_memory=False.\n",
      "  interactivity=interactivity, compiler=compiler, result=result)\n"
     ]
    }
   ],
   "source": [
    "# Import as Dataframe - check later\n",
    "dfGenderlessData = pd.read_csv(fileLocation,encoding=\"utf8\")"
   ]
  },
  {
   "cell_type": "code",
   "execution_count": 76,
   "metadata": {},
   "outputs": [
    {
     "name": "stdout",
     "output_type": "stream",
     "text": [
      "Dataframe shape is :  (798861, 130)\n"
     ]
    },
    {
     "data": {
      "text/html": [
       "<div>\n",
       "<style scoped>\n",
       "    .dataframe tbody tr th:only-of-type {\n",
       "        vertical-align: middle;\n",
       "    }\n",
       "\n",
       "    .dataframe tbody tr th {\n",
       "        vertical-align: top;\n",
       "    }\n",
       "\n",
       "    .dataframe thead th {\n",
       "        text-align: right;\n",
       "    }\n",
       "</style>\n",
       "<table border=\"1\" class=\"dataframe\">\n",
       "  <thead>\n",
       "    <tr style=\"text-align: right;\">\n",
       "      <th></th>\n",
       "      <th>director_ids</th>\n",
       "      <th>director_names</th>\n",
       "      <th>movie_id</th>\n",
       "      <th>title</th>\n",
       "      <th>review_count_user</th>\n",
       "      <th>review_count_critic</th>\n",
       "      <th>metascore</th>\n",
       "      <th>rating_value</th>\n",
       "      <th>rating_count</th>\n",
       "      <th>date_published</th>\n",
       "      <th>...</th>\n",
       "      <th>primaryName</th>\n",
       "      <th>birthYear</th>\n",
       "      <th>deathYear</th>\n",
       "      <th>primaryProfession</th>\n",
       "      <th>knownForTitles</th>\n",
       "      <th>director_profession_primary</th>\n",
       "      <th>director_profession_secondary</th>\n",
       "      <th>director_profession_tertiary</th>\n",
       "      <th>director_known_titles_count</th>\n",
       "      <th>director_known_titles_average_rating_value</th>\n",
       "    </tr>\n",
       "  </thead>\n",
       "  <tbody>\n",
       "    <tr>\n",
       "      <th>0</th>\n",
       "      <td>nm0005690</td>\n",
       "      <td>William K.L. Dickson</td>\n",
       "      <td>tt0000001</td>\n",
       "      <td>Carmencita - spanyol tánc (1894) - IMDb</td>\n",
       "      <td>12</td>\n",
       "      <td>2</td>\n",
       "      <td>None</td>\n",
       "      <td>5.8</td>\n",
       "      <td>1255</td>\n",
       "      <td>1894-03-10</td>\n",
       "      <td>...</td>\n",
       "      <td>William K.L. Dickson</td>\n",
       "      <td>1860</td>\n",
       "      <td>1935</td>\n",
       "      <td>cinematographer,director,producer</td>\n",
       "      <td>tt0219560,tt1496763,tt0308254,tt1428455</td>\n",
       "      <td>0</td>\n",
       "      <td>1</td>\n",
       "      <td>0</td>\n",
       "      <td>4</td>\n",
       "      <td>5.75</td>\n",
       "    </tr>\n",
       "    <tr>\n",
       "      <th>1</th>\n",
       "      <td>nm0721526</td>\n",
       "      <td>Émile Reynaud</td>\n",
       "      <td>tt0000002</td>\n",
       "      <td>A bohóc és kutyái (1892) - IMDb</td>\n",
       "      <td>0</td>\n",
       "      <td>0</td>\n",
       "      <td>None</td>\n",
       "      <td>6.5</td>\n",
       "      <td>148</td>\n",
       "      <td>1892-10-28</td>\n",
       "      <td>...</td>\n",
       "      <td>Émile Reynaud</td>\n",
       "      <td>1844</td>\n",
       "      <td>1918</td>\n",
       "      <td>director</td>\n",
       "      <td>tt0413219,tt2184231,tt2184201,tt0000003,tt0000...</td>\n",
       "      <td>1</td>\n",
       "      <td>0</td>\n",
       "      <td>0</td>\n",
       "      <td>6</td>\n",
       "      <td>6.17</td>\n",
       "    </tr>\n",
       "    <tr>\n",
       "      <th>2</th>\n",
       "      <td>nm0721526</td>\n",
       "      <td>Émile Reynaud</td>\n",
       "      <td>tt0000003</td>\n",
       "      <td>Szegény Pierrot (1892) - IMDb</td>\n",
       "      <td>12</td>\n",
       "      <td>5</td>\n",
       "      <td>None</td>\n",
       "      <td>6.6</td>\n",
       "      <td>819</td>\n",
       "      <td>1892-10-28</td>\n",
       "      <td>...</td>\n",
       "      <td>Émile Reynaud</td>\n",
       "      <td>1844</td>\n",
       "      <td>1918</td>\n",
       "      <td>director</td>\n",
       "      <td>tt0413219,tt2184231,tt2184201,tt0000003,tt0000...</td>\n",
       "      <td>1</td>\n",
       "      <td>0</td>\n",
       "      <td>0</td>\n",
       "      <td>6</td>\n",
       "      <td>6.17</td>\n",
       "    </tr>\n",
       "    <tr>\n",
       "      <th>3</th>\n",
       "      <td>nm0721526</td>\n",
       "      <td>Émile Reynaud</td>\n",
       "      <td>tt0000004</td>\n",
       "      <td>Egy jó pohár sör (1892) - IMDb</td>\n",
       "      <td>1</td>\n",
       "      <td>0</td>\n",
       "      <td>None</td>\n",
       "      <td>6.6</td>\n",
       "      <td>90</td>\n",
       "      <td>1892-10-28</td>\n",
       "      <td>...</td>\n",
       "      <td>Émile Reynaud</td>\n",
       "      <td>1844</td>\n",
       "      <td>1918</td>\n",
       "      <td>director</td>\n",
       "      <td>tt0413219,tt2184231,tt2184201,tt0000003,tt0000...</td>\n",
       "      <td>1</td>\n",
       "      <td>0</td>\n",
       "      <td>0</td>\n",
       "      <td>6</td>\n",
       "      <td>6.17</td>\n",
       "    </tr>\n",
       "    <tr>\n",
       "      <th>4</th>\n",
       "      <td>nm0005690</td>\n",
       "      <td>William K.L. Dickson</td>\n",
       "      <td>tt0000005</td>\n",
       "      <td>A patkolókovács (1893) - IMDb</td>\n",
       "      <td>18</td>\n",
       "      <td>3</td>\n",
       "      <td>None</td>\n",
       "      <td>6.2</td>\n",
       "      <td>1499</td>\n",
       "      <td>1893-05-09</td>\n",
       "      <td>...</td>\n",
       "      <td>William K.L. Dickson</td>\n",
       "      <td>1860</td>\n",
       "      <td>1935</td>\n",
       "      <td>cinematographer,director,producer</td>\n",
       "      <td>tt0219560,tt1496763,tt0308254,tt1428455</td>\n",
       "      <td>0</td>\n",
       "      <td>1</td>\n",
       "      <td>0</td>\n",
       "      <td>4</td>\n",
       "      <td>5.75</td>\n",
       "    </tr>\n",
       "  </tbody>\n",
       "</table>\n",
       "<p>5 rows × 130 columns</p>\n",
       "</div>"
      ],
      "text/plain": [
       "  director_ids        director_names   movie_id  \\\n",
       "0    nm0005690  William K.L. Dickson  tt0000001   \n",
       "1    nm0721526         Émile Reynaud  tt0000002   \n",
       "2    nm0721526         Émile Reynaud  tt0000003   \n",
       "3    nm0721526         Émile Reynaud  tt0000004   \n",
       "4    nm0005690  William K.L. Dickson  tt0000005   \n",
       "\n",
       "                                     title  review_count_user  \\\n",
       "0  Carmencita - spanyol tánc (1894) - IMDb                 12   \n",
       "1          A bohóc és kutyái (1892) - IMDb                  0   \n",
       "2            Szegény Pierrot (1892) - IMDb                 12   \n",
       "3           Egy jó pohár sör (1892) - IMDb                  1   \n",
       "4            A patkolókovács (1893) - IMDb                 18   \n",
       "\n",
       "   review_count_critic metascore  rating_value  rating_count date_published  \\\n",
       "0                    2      None           5.8          1255     1894-03-10   \n",
       "1                    0      None           6.5           148     1892-10-28   \n",
       "2                    5      None           6.6           819     1892-10-28   \n",
       "3                    0      None           6.6            90     1892-10-28   \n",
       "4                    3      None           6.2          1499     1893-05-09   \n",
       "\n",
       "   ...           primaryName birthYear deathYear  \\\n",
       "0  ...  William K.L. Dickson      1860      1935   \n",
       "1  ...         Émile Reynaud      1844      1918   \n",
       "2  ...         Émile Reynaud      1844      1918   \n",
       "3  ...         Émile Reynaud      1844      1918   \n",
       "4  ...  William K.L. Dickson      1860      1935   \n",
       "\n",
       "                   primaryProfession  \\\n",
       "0  cinematographer,director,producer   \n",
       "1                           director   \n",
       "2                           director   \n",
       "3                           director   \n",
       "4  cinematographer,director,producer   \n",
       "\n",
       "                                      knownForTitles  \\\n",
       "0            tt0219560,tt1496763,tt0308254,tt1428455   \n",
       "1  tt0413219,tt2184231,tt2184201,tt0000003,tt0000...   \n",
       "2  tt0413219,tt2184231,tt2184201,tt0000003,tt0000...   \n",
       "3  tt0413219,tt2184231,tt2184201,tt0000003,tt0000...   \n",
       "4            tt0219560,tt1496763,tt0308254,tt1428455   \n",
       "\n",
       "   director_profession_primary  director_profession_secondary  \\\n",
       "0                            0                              1   \n",
       "1                            1                              0   \n",
       "2                            1                              0   \n",
       "3                            1                              0   \n",
       "4                            0                              1   \n",
       "\n",
       "   director_profession_tertiary  director_known_titles_count  \\\n",
       "0                             0                            4   \n",
       "1                             0                            6   \n",
       "2                             0                            6   \n",
       "3                             0                            6   \n",
       "4                             0                            4   \n",
       "\n",
       "   director_known_titles_average_rating_value  \n",
       "0                                        5.75  \n",
       "1                                        6.17  \n",
       "2                                        6.17  \n",
       "3                                        6.17  \n",
       "4                                        5.75  \n",
       "\n",
       "[5 rows x 130 columns]"
      ]
     },
     "execution_count": 76,
     "metadata": {},
     "output_type": "execute_result"
    }
   ],
   "source": [
    "print('Dataframe shape is : ', dfGenderlessData.shape)\n",
    "dfGenderlessData.head()"
   ]
  },
  {
   "cell_type": "code",
   "execution_count": 77,
   "metadata": {},
   "outputs": [],
   "source": [
    "# # The record which had only one of its directors in the end\n",
    "# dfGenderlessData[dfGenderlessData['movie_id'] == 'tt1355638']"
   ]
  },
  {
   "cell_type": "markdown",
   "metadata": {},
   "source": [
    "# Cleaning the director names before predicting the Gender"
   ]
  },
  {
   "cell_type": "markdown",
   "metadata": {},
   "source": [
    "## Convert the names to a english readable sentence as few of them contain special characters"
   ]
  },
  {
   "cell_type": "code",
   "execution_count": 78,
   "metadata": {},
   "outputs": [],
   "source": [
    "# Found directors containing digits and replaced them with the real names\n",
    "replace_digits_with_real_director_names = {'D3': 'Dennis Wood',\n",
    "                                           '1312':'BR',\n",
    "                                           '50 Cent':'Curtis James Jackson',\n",
    "                                           'ZZalgern0n':'Zzalgernon',\n",
    "                                           'Mk12':'Matt Fraction',\n",
    "                                           'One9':'Erik Parker',\n",
    "                                           'K8 Hardy': 'Kaight Hardy',\n",
    "                                           'Ryukishi07':'Ryūkishi Zero-Nana',\n",
    "                                           'Bros400 1929':'Yuji Naka',\n",
    "                                           'Revenger123':'McQuackerston',\n",
    "                                           'TheWraith517':'Robert Goodwin'\n",
    "                                          }"
   ]
  },
  {
   "cell_type": "code",
   "execution_count": 79,
   "metadata": {},
   "outputs": [],
   "source": [
    "dfGenderlessData['director_names'] = dfGenderlessData['director_names'].str.strip()"
   ]
  },
  {
   "cell_type": "code",
   "execution_count": 80,
   "metadata": {},
   "outputs": [],
   "source": [
    "dfGenderlessData['director_names'] = dfGenderlessData['director_names'].replace(replace_digits_with_real_director_names)"
   ]
  },
  {
   "cell_type": "code",
   "execution_count": 81,
   "metadata": {},
   "outputs": [],
   "source": [
    "# The names contain special characters. This function converts the special characters to normal characters\n",
    "\n",
    "def specialCharacterConversion(name):\n",
    "    text = unicodedata.normalize('NFKD', name).encode('ascii', 'ignore').decode(\"utf-8\").lower() \n",
    "    return text"
   ]
  },
  {
   "cell_type": "code",
   "execution_count": 82,
   "metadata": {},
   "outputs": [],
   "source": [
    "dfGenderlessData['clean_director_names'] = dfGenderlessData['director_names'].apply(specialCharacterConversion)"
   ]
  },
  {
   "cell_type": "markdown",
   "metadata": {},
   "source": [
    "## Clear Salutations such as Mr. and Dr. and Jr."
   ]
  },
  {
   "cell_type": "code",
   "execution_count": 83,
   "metadata": {},
   "outputs": [
    {
     "data": {
      "text/plain": [
       "62"
      ]
     },
     "execution_count": 83,
     "metadata": {},
     "output_type": "execute_result"
    }
   ],
   "source": [
    "# The condition to identify salutation is two letters with a dot\n",
    "\n",
    "condition_for_salutations = dfGenderlessData['clean_director_names'].astype(str).str[2:3].str.contains('\\.')\n",
    "condition_for_salutations.sum()"
   ]
  },
  {
   "cell_type": "code",
   "execution_count": 84,
   "metadata": {
    "scrolled": true
   },
   "outputs": [
    {
     "data": {
      "text/html": [
       "<div>\n",
       "<style scoped>\n",
       "    .dataframe tbody tr th:only-of-type {\n",
       "        vertical-align: middle;\n",
       "    }\n",
       "\n",
       "    .dataframe tbody tr th {\n",
       "        vertical-align: top;\n",
       "    }\n",
       "\n",
       "    .dataframe thead th {\n",
       "        text-align: right;\n",
       "    }\n",
       "</style>\n",
       "<table border=\"1\" class=\"dataframe\">\n",
       "  <thead>\n",
       "    <tr style=\"text-align: right;\">\n",
       "      <th></th>\n",
       "      <th>director_ids</th>\n",
       "      <th>director_names</th>\n",
       "      <th>movie_id</th>\n",
       "      <th>title</th>\n",
       "      <th>review_count_user</th>\n",
       "      <th>review_count_critic</th>\n",
       "      <th>metascore</th>\n",
       "      <th>rating_value</th>\n",
       "      <th>rating_count</th>\n",
       "      <th>date_published</th>\n",
       "      <th>...</th>\n",
       "      <th>birthYear</th>\n",
       "      <th>deathYear</th>\n",
       "      <th>primaryProfession</th>\n",
       "      <th>knownForTitles</th>\n",
       "      <th>director_profession_primary</th>\n",
       "      <th>director_profession_secondary</th>\n",
       "      <th>director_profession_tertiary</th>\n",
       "      <th>director_known_titles_count</th>\n",
       "      <th>director_known_titles_average_rating_value</th>\n",
       "      <th>clean_director_names</th>\n",
       "    </tr>\n",
       "  </thead>\n",
       "  <tbody>\n",
       "    <tr>\n",
       "      <th>16910</th>\n",
       "      <td>nm7834509</td>\n",
       "      <td>Ya. Avdeenko</td>\n",
       "      <td>tt0035702</td>\n",
       "      <td>La bataille d'Ukraine (1943) - IMDb</td>\n",
       "      <td>3</td>\n",
       "      <td>0</td>\n",
       "      <td>None</td>\n",
       "      <td>7.7</td>\n",
       "      <td>65</td>\n",
       "      <td>1945-03-14</td>\n",
       "      <td>...</td>\n",
       "      <td>\\N</td>\n",
       "      <td>\\N</td>\n",
       "      <td>director,actor</td>\n",
       "      <td>tt0035702</td>\n",
       "      <td>1</td>\n",
       "      <td>0</td>\n",
       "      <td>0</td>\n",
       "      <td>1</td>\n",
       "      <td>7.7</td>\n",
       "      <td>ya. avdeenko</td>\n",
       "    </tr>\n",
       "    <tr>\n",
       "      <th>21050</th>\n",
       "      <td>nm0167282</td>\n",
       "      <td>St. John Legh Clowes</td>\n",
       "      <td>tt0040647</td>\n",
       "      <td>No Orchids for Miss Blandish (1948) - IMDb</td>\n",
       "      <td>24</td>\n",
       "      <td>9</td>\n",
       "      <td>None</td>\n",
       "      <td>6.1</td>\n",
       "      <td>361</td>\n",
       "      <td>1948-04-15</td>\n",
       "      <td>...</td>\n",
       "      <td>1907</td>\n",
       "      <td>1951</td>\n",
       "      <td>writer,director,producer</td>\n",
       "      <td>tt0025197,tt3902866,tt0039897,tt0040647,tt0025...</td>\n",
       "      <td>0</td>\n",
       "      <td>1</td>\n",
       "      <td>0</td>\n",
       "      <td>4</td>\n",
       "      <td>5.4</td>\n",
       "      <td>st. john legh clowes</td>\n",
       "    </tr>\n",
       "  </tbody>\n",
       "</table>\n",
       "<p>2 rows × 131 columns</p>\n",
       "</div>"
      ],
      "text/plain": [
       "      director_ids        director_names   movie_id  \\\n",
       "16910    nm7834509          Ya. Avdeenko  tt0035702   \n",
       "21050    nm0167282  St. John Legh Clowes  tt0040647   \n",
       "\n",
       "                                            title  review_count_user  \\\n",
       "16910         La bataille d'Ukraine (1943) - IMDb                  3   \n",
       "21050  No Orchids for Miss Blandish (1948) - IMDb                 24   \n",
       "\n",
       "       review_count_critic metascore  rating_value  rating_count  \\\n",
       "16910                    0      None           7.7            65   \n",
       "21050                    9      None           6.1           361   \n",
       "\n",
       "      date_published  ... birthYear deathYear         primaryProfession  \\\n",
       "16910     1945-03-14  ...        \\N        \\N            director,actor   \n",
       "21050     1948-04-15  ...      1907      1951  writer,director,producer   \n",
       "\n",
       "                                          knownForTitles  \\\n",
       "16910                                          tt0035702   \n",
       "21050  tt0025197,tt3902866,tt0039897,tt0040647,tt0025...   \n",
       "\n",
       "      director_profession_primary  director_profession_secondary  \\\n",
       "16910                           1                              0   \n",
       "21050                           0                              1   \n",
       "\n",
       "       director_profession_tertiary  director_known_titles_count  \\\n",
       "16910                             0                            1   \n",
       "21050                             0                            4   \n",
       "\n",
       "       director_known_titles_average_rating_value  clean_director_names  \n",
       "16910                                         7.7          ya. avdeenko  \n",
       "21050                                         5.4  st. john legh clowes  \n",
       "\n",
       "[2 rows x 131 columns]"
      ]
     },
     "execution_count": 84,
     "metadata": {},
     "output_type": "execute_result"
    }
   ],
   "source": [
    "dfGenderlessData[condition_for_salutations].head(2)"
   ]
  },
  {
   "cell_type": "code",
   "execution_count": 85,
   "metadata": {},
   "outputs": [
    {
     "data": {
      "text/plain": [
       "['Ya', 'St', 'Ed', 'Mr', 'Dr', 'Ms', 'Md', 'Wm', 'Vl', 'Pa']"
      ]
     },
     "execution_count": 85,
     "metadata": {},
     "output_type": "execute_result"
    }
   ],
   "source": [
    "dynamic_salutation_like_list = dfGenderlessData['director_names'][condition_for_salutations]\\\n",
    "                                                            .astype(str)\\\n",
    "                                                            .str[0:2].str.strip().unique().tolist()\n",
    "dynamic_salutation_like_list"
   ]
  },
  {
   "cell_type": "markdown",
   "metadata": {},
   "source": [
    "## Clear all salutations replaced with empty spaces"
   ]
  },
  {
   "cell_type": "markdown",
   "metadata": {},
   "source": [
    "#### Function to clear salutations"
   ]
  },
  {
   "cell_type": "code",
   "execution_count": 86,
   "metadata": {},
   "outputs": [],
   "source": [
    "def clear_salutations(df = dfGenderlessData,columnName = 'clean_director_names' ,salutation = 'Dr'):\n",
    "    \n",
    "    # Add . to the salutation\n",
    "    check_salutation = salutation.lower() + '\\.'\n",
    "    \n",
    "    # Condition to check for the salutation in the column\n",
    "    condition_before = df[columnName].str.contains(check_salutation)\n",
    "    \n",
    "    # Prepare the clean director names by replacing the salutations with empty space. Example ; \"Dr. Sam\" as \"Sam\"\n",
    "    cleaned_salutations = df[columnName][condition_before].str.replace(check_salutation,'').str.strip()\n",
    "    print(\"\\nThe number of records which had '{0}' salutation in it before the cleaning : {1}\".format(salutation, condition_before.sum()))\n",
    "    \n",
    "    # Replace the cleaned records back to the corresponding value\n",
    "    df.loc[condition_before, columnName] = cleaned_salutations\n",
    "    \n",
    "    # Recheck\n",
    "    condition_after = df[columnName].str.contains(check_salutation)\n",
    "    print(\"The number of records which had '{0}' salutation in it after the cleaning : {1}\".format(salutation, condition_after.sum()))"
   ]
  },
  {
   "cell_type": "code",
   "execution_count": 87,
   "metadata": {
    "scrolled": true
   },
   "outputs": [
    {
     "name": "stdout",
     "output_type": "stream",
     "text": [
      "\n",
      "The number of records which had 'Ya' salutation in it before the cleaning : 2\n",
      "The number of records which had 'Ya' salutation in it after the cleaning : 0\n",
      "\n",
      "The number of records which had 'St' salutation in it before the cleaning : 139\n",
      "The number of records which had 'St' salutation in it after the cleaning : 0\n",
      "\n",
      "The number of records which had 'Ed' salutation in it before the cleaning : 12\n",
      "The number of records which had 'Ed' salutation in it after the cleaning : 0\n",
      "\n",
      "The number of records which had 'Mr' salutation in it before the cleaning : 19\n",
      "The number of records which had 'Mr' salutation in it after the cleaning : 0\n",
      "\n",
      "The number of records which had 'Dr' salutation in it before the cleaning : 13\n",
      "The number of records which had 'Dr' salutation in it after the cleaning : 0\n",
      "\n",
      "The number of records which had 'Ms' salutation in it before the cleaning : 1\n",
      "The number of records which had 'Ms' salutation in it after the cleaning : 0\n",
      "\n",
      "The number of records which had 'Md' salutation in it before the cleaning : 1\n",
      "The number of records which had 'Md' salutation in it after the cleaning : 0\n",
      "\n",
      "The number of records which had 'Wm' salutation in it before the cleaning : 4\n",
      "The number of records which had 'Wm' salutation in it after the cleaning : 0\n",
      "\n",
      "The number of records which had 'Vl' salutation in it before the cleaning : 1\n",
      "The number of records which had 'Vl' salutation in it after the cleaning : 0\n",
      "\n",
      "The number of records which had 'Pa' salutation in it before the cleaning : 4\n",
      "The number of records which had 'Pa' salutation in it after the cleaning : 0\n"
     ]
    }
   ],
   "source": [
    "for salutation in dynamic_salutation_like_list:\n",
    "    clear_salutations(df = dfGenderlessData,columnName = 'clean_director_names' ,salutation = salutation)"
   ]
  },
  {
   "cell_type": "code",
   "execution_count": 88,
   "metadata": {},
   "outputs": [],
   "source": [
    "def clear_mrs_salutations(df = dfGenderlessData,columnName = 'clean_director_names' ,salutation = 'Mrs'):\n",
    "    \n",
    "    # Add . to the salutation\n",
    "    check_salutation = salutation.lower() + '\\.'\n",
    "    \n",
    "    # Condition to check for the salutation in the column\n",
    "    condition_before = df[columnName].str.contains(check_salutation)\n",
    "    \n",
    "    # Prepare the clean director names by replacing the salutations with empty space. Example ; \"Dr. Sam\" as \"Sam\"\n",
    "    cleaned_salutations = df[columnName][condition_before].str.replace(check_salutation,'').str.strip().str[0]\n",
    "    print(\"\\nThe number of records which had '{0}' salutation in it before the cleaning : {1}\".format(salutation, condition_before.sum()))\n",
    "    \n",
    "    # Replace the cleaned records back to the corresponding value\n",
    "    df.loc[condition_before, columnName] = cleaned_salutations\n",
    "    \n",
    "    # Recheck\n",
    "    condition_after = df[columnName].str.contains(check_salutation)\n",
    "    print(\"The number of records which had '{0}' salutation in it after the cleaning : {1}\".format(salutation, condition_after.sum()))"
   ]
  },
  {
   "cell_type": "code",
   "execution_count": 89,
   "metadata": {},
   "outputs": [
    {
     "name": "stdout",
     "output_type": "stream",
     "text": [
      "\n",
      "The number of records which had 'Mrs' salutation in it before the cleaning : 1\n",
      "The number of records which had 'Mrs' salutation in it after the cleaning : 0\n"
     ]
    }
   ],
   "source": [
    "clear_mrs_salutations(df = dfGenderlessData,columnName = 'clean_director_names' ,salutation = 'Mrs')"
   ]
  },
  {
   "cell_type": "code",
   "execution_count": 90,
   "metadata": {},
   "outputs": [
    {
     "name": "stdout",
     "output_type": "stream",
     "text": [
      "Dataframe shape is :  (798861, 131)\n"
     ]
    }
   ],
   "source": [
    "print('Dataframe shape is : ', dfGenderlessData.shape)"
   ]
  },
  {
   "cell_type": "markdown",
   "metadata": {},
   "source": [
    "## Find initials"
   ]
  },
  {
   "cell_type": "markdown",
   "metadata": {},
   "source": [
    "### Maximum initials in the director name column"
   ]
  },
  {
   "cell_type": "code",
   "execution_count": 91,
   "metadata": {},
   "outputs": [
    {
     "data": {
      "text/plain": [
       "3"
      ]
     },
     "execution_count": 91,
     "metadata": {},
     "output_type": "execute_result"
    }
   ],
   "source": [
    "max_dots_in_a_name = dfGenderlessData['director_names'].str.count(\"\\.\").max()\n",
    "max_dots_in_a_name"
   ]
  },
  {
   "cell_type": "markdown",
   "metadata": {},
   "source": [
    "### Function to clear the intials with 3 dots as that is the max detected"
   ]
  },
  {
   "cell_type": "code",
   "execution_count": 92,
   "metadata": {},
   "outputs": [],
   "source": [
    "def clear_initials(df = dfGenderlessData, columnName = 'clean_director_names'):\n",
    "    for round_number in range(max_dots_in_a_name):\n",
    "        condition_dots_in_first_two_letters = df[columnName].astype(str).str[0:2].str.contains('\\.')\n",
    "        print('\\nIdentified records having dots in the first two letters : ', condition_dots_in_first_two_letters.sum())\n",
    "        starting2letters_dots = df[columnName][condition_dots_in_first_two_letters]\n",
    "        cleaned_starting2letters_dots_director_names = starting2letters_dots.str.split(pat = '.', n = 1, expand = False).str[1]\n",
    "        df.loc[condition_dots_in_first_two_letters, columnName] = cleaned_starting2letters_dots_director_names\n",
    "        print('Round {0} done'.format(round_number+1))\n",
    "    records_left_condtion = df[columnName].astype(str).str[0:2].str.contains('\\.')\n",
    "    print('\\nRecords left : ',records_left_condtion.sum())"
   ]
  },
  {
   "cell_type": "code",
   "execution_count": 93,
   "metadata": {},
   "outputs": [
    {
     "name": "stdout",
     "output_type": "stream",
     "text": [
      "\n",
      "Identified records having dots in the first two letters :  8712\n",
      "Round 1 done\n",
      "\n",
      "Identified records having dots in the first two letters :  5050\n",
      "Round 2 done\n",
      "\n",
      "Identified records having dots in the first two letters :  105\n",
      "Round 3 done\n",
      "\n",
      "Records left :  0\n"
     ]
    }
   ],
   "source": [
    "clear_initials(df = dfGenderlessData , columnName = 'clean_director_names')"
   ]
  },
  {
   "cell_type": "code",
   "execution_count": 94,
   "metadata": {},
   "outputs": [
    {
     "name": "stdout",
     "output_type": "stream",
     "text": [
      "Dataframe shape is :  (798861, 131)\n"
     ]
    }
   ],
   "source": [
    "print('Dataframe shape is : ', dfGenderlessData.shape)"
   ]
  },
  {
   "cell_type": "code",
   "execution_count": 95,
   "metadata": {},
   "outputs": [],
   "source": [
    "# ### Round 1 of initial clearing\n",
    "\n",
    "# condition_dots_in_first_two_letters = dfGenderlessData['clean_director_names'].astype(str).str[0:2].str.contains('\\.')\n",
    "# condition_dots_in_first_two_letters.sum()\n",
    "\n",
    "# print(\"Shape\",dfGenderlessData[condition_dots_in_first_two_letters].shape)\n",
    "# dfGenderlessData[condition_dots_in_first_two_letters].head(2)\n",
    "\n",
    "# round1_starting2letters_dots = dfGenderlessData['clean_director_names'][condition_dots_in_first_two_letters]\n",
    "# print(\"Director names containing initials 'dots' in the first two letters : \",len(round1_starting2letters_dots))\n",
    "# round1_starting2letters_dots.head()\n",
    "\n",
    "# round1_replacement_director_names = round1_starting2letters_dots.str.split(pat = '.', n = 1, expand = False).str[1]\n",
    "\n",
    "# round1_replacement_director_names.head()\n",
    "\n",
    "# dfGenderlessData.loc[condition_dots_in_first_two_letters, 'clean_director_names'] = round1_replacement_director_names"
   ]
  },
  {
   "cell_type": "markdown",
   "metadata": {},
   "source": [
    "## Extract First Names"
   ]
  },
  {
   "cell_type": "code",
   "execution_count": 96,
   "metadata": {},
   "outputs": [],
   "source": [
    "dfGenderlessData['FirstName'] = dfGenderlessData['clean_director_names'].apply(lambda x: x.strip().split(' ')[0])"
   ]
  },
  {
   "cell_type": "markdown",
   "metadata": {},
   "source": [
    "### Fix the names that have only initials in their director names by replacing the original director name with initials in the clean director names column"
   ]
  },
  {
   "cell_type": "code",
   "execution_count": 97,
   "metadata": {},
   "outputs": [
    {
     "name": "stdout",
     "output_type": "stream",
     "text": [
      "The number of records that contains empty firstnames because of only initials in original dataframe :  13\n",
      "The number of records that contains empty firstnames because of only initials in original dataframe - After cleaning :  0\n"
     ]
    }
   ],
   "source": [
    "# Fix the names that have only initials by replacing the original director name with initials\n",
    "\n",
    "condition_empty_firstname = dfGenderlessData['FirstName'] == ''\n",
    "print(\"The number of records that contains empty firstnames because of only initials in original dataframe : \", condition_empty_firstname.sum())\n",
    "\n",
    "replace_with_original_names = dfGenderlessData.loc[condition_empty_firstname,'director_names'].str.lower()\n",
    "\n",
    "dfGenderlessData.loc[condition_empty_firstname,'FirstName'] = replace_with_original_names\n",
    "\n",
    "condition_empty_firstname_after = dfGenderlessData['FirstName'] == ''\n",
    "print(\"The number of records that contains empty firstnames because of only initials in original dataframe - After cleaning : \", condition_empty_firstname_after.sum())\n"
   ]
  },
  {
   "cell_type": "code",
   "execution_count": 98,
   "metadata": {},
   "outputs": [
    {
     "name": "stdout",
     "output_type": "stream",
     "text": [
      "Dataframe shape is :  (798861, 132)\n"
     ]
    }
   ],
   "source": [
    "print('Dataframe shape is : ', dfGenderlessData.shape)"
   ]
  },
  {
   "cell_type": "markdown",
   "metadata": {},
   "source": [
    "### Fix the names that contains digits in First Name"
   ]
  },
  {
   "cell_type": "code",
   "execution_count": 99,
   "metadata": {},
   "outputs": [
    {
     "name": "stdout",
     "output_type": "stream",
     "text": [
      "The number of records that contains digits in the director names :  0\n"
     ]
    }
   ],
   "source": [
    "# Fix the names that contains digits\n",
    "\n",
    "condition_digits_in_names = dfGenderlessData['FirstName'].str.contains(pat = '\\d',regex = True)\n",
    "print(\"The number of records that contains digits in the director names : \", condition_digits_in_names.sum())\n",
    "\n",
    "# replace_digits_names = dfGenderlessData['FirstName'][condition_digits_in_names].str.replace('\\d', '')\n",
    "\n",
    "# dfGenderlessData.loc[condition_digits_in_names,'FirstName'] = replace_digits_names\n",
    "\n",
    "# dfGenderlessData.loc[dfGenderlessData['FirstName'] == '','FirstName'] = np.nan\n",
    "\n",
    "# print(\"Shape before dropping the digit only records :\",dfGenderlessData.shape)\n",
    "# dfGenderlessData.dropna(subset = ['FirstName'],inplace = True)\n",
    "# print(\"Shape After dropping the digit only records :\",dfGenderlessData.shape)"
   ]
  },
  {
   "cell_type": "markdown",
   "metadata": {},
   "source": [
    "### Fix the special characters in First Name"
   ]
  },
  {
   "cell_type": "code",
   "execution_count": 100,
   "metadata": {},
   "outputs": [],
   "source": [
    "special_characters = ['!','@','#','$','%','^','&','*','(',')']"
   ]
  },
  {
   "cell_type": "code",
   "execution_count": 101,
   "metadata": {},
   "outputs": [],
   "source": [
    "def remove_special_characters(special_character):\n",
    "    check_special_character = '\\\\' + special_character\n",
    "    condition_matching_special_character = dfGenderlessData['FirstName'].str.contains(check_special_character)\n",
    "    print('\\nIdentified records having special characters : ', condition_matching_special_character.sum())\n",
    "    \n",
    "    # Prepare value to replace with where the condtions matched by space and extracting first part of the name  \n",
    "    replace_value = dfGenderlessData[condition_matching_special_character]['FirstName'].str.replace(check_special_character,' ').str.split(pat = ' ', expand = False).str[0].str.strip()\n",
    "    \n",
    "    # Fill the value in the index where the conditions matched.\n",
    "    dfGenderlessData.loc[condition_matching_special_character,'FirstName'] = replace_value\n",
    "    print('Done with : {0}'.format(special_character))"
   ]
  },
  {
   "cell_type": "code",
   "execution_count": 102,
   "metadata": {},
   "outputs": [
    {
     "name": "stdout",
     "output_type": "stream",
     "text": [
      "\n",
      "Identified records having special characters :  1\n",
      "Done with : !\n",
      "\n",
      "Identified records having special characters :  0\n",
      "Done with : @\n",
      "\n",
      "Identified records having special characters :  0\n",
      "Done with : #\n",
      "\n",
      "Identified records having special characters :  0\n",
      "Done with : $\n",
      "\n",
      "Identified records having special characters :  0\n",
      "Done with : %\n",
      "\n",
      "Identified records having special characters :  0\n",
      "Done with : ^\n",
      "\n",
      "Identified records having special characters :  1\n",
      "Done with : &\n",
      "\n",
      "Identified records having special characters :  0\n",
      "Done with : *\n",
      "\n",
      "Identified records having special characters :  0\n",
      "Done with : (\n",
      "\n",
      "Identified records having special characters :  0\n",
      "Done with : )\n"
     ]
    }
   ],
   "source": [
    "for character in special_characters:\n",
    "    remove_special_characters(character)"
   ]
  },
  {
   "cell_type": "markdown",
   "metadata": {},
   "source": [
    "### Seach for dots in the first name and replace them "
   ]
  },
  {
   "cell_type": "code",
   "execution_count": 103,
   "metadata": {},
   "outputs": [
    {
     "name": "stdout",
     "output_type": "stream",
     "text": [
      "Before : Number of records which contained dots in their first name :  52\n",
      "After : Number of records which contained dots in their first name :  0\n"
     ]
    }
   ],
   "source": [
    "condition_dots_in_first_name = dfGenderlessData['FirstName'].str.contains('\\.')\n",
    "print('Before : Number of records which contained dots in their first name : ',condition_dots_in_first_name.sum())\n",
    "\n",
    "replace_first_name_with_first_split = dfGenderlessData.loc[condition_dots_in_first_name,'director_names'].str.strip().str.split(pat = '.').str[0]\n",
    "\n",
    "dfGenderlessData.loc[condition_dots_in_first_name,'FirstName'] = replace_first_name_with_first_split\n",
    "\n",
    "print('After : Number of records which contained dots in their first name : ',dfGenderlessData['FirstName'].str.contains('\\.').sum())\n"
   ]
  },
  {
   "cell_type": "code",
   "execution_count": 104,
   "metadata": {},
   "outputs": [],
   "source": [
    "# dfGenderlessData.loc[condition_dots_in_first_name]"
   ]
  },
  {
   "cell_type": "code",
   "execution_count": 105,
   "metadata": {},
   "outputs": [
    {
     "data": {
      "text/plain": [
       "'Male'"
      ]
     },
     "execution_count": 105,
     "metadata": {},
     "output_type": "execute_result"
    }
   ],
   "source": [
    "genderpredictor_decision_tree('Shqiprim')"
   ]
  },
  {
   "cell_type": "code",
   "execution_count": 106,
   "metadata": {},
   "outputs": [
    {
     "data": {
      "text/plain": [
       "(798861, 132)"
      ]
     },
     "execution_count": 106,
     "metadata": {},
     "output_type": "execute_result"
    }
   ],
   "source": [
    "dfGenderlessData.shape"
   ]
  },
  {
   "cell_type": "markdown",
   "metadata": {},
   "source": [
    "# End"
   ]
  },
  {
   "cell_type": "code",
   "execution_count": 107,
   "metadata": {},
   "outputs": [],
   "source": [
    "df4 = dfGenderlessData.copy()"
   ]
  },
  {
   "cell_type": "code",
   "execution_count": 108,
   "metadata": {},
   "outputs": [],
   "source": [
    "# #Creating First name to perform vlookup with the reference name dataset from Natural Language Tool Kit ( NLTK )\n",
    "\n",
    "# dfGenderlessData['FirstName'] = dfGenderlessData['director_names'].apply(lambda x: x.split(' ')[0]).apply(specialCharacterConversion)\n",
    "# dfGenderlessData.head()"
   ]
  },
  {
   "cell_type": "code",
   "execution_count": 109,
   "metadata": {},
   "outputs": [
    {
     "data": {
      "text/html": [
       "<div>\n",
       "<style scoped>\n",
       "    .dataframe tbody tr th:only-of-type {\n",
       "        vertical-align: middle;\n",
       "    }\n",
       "\n",
       "    .dataframe tbody tr th {\n",
       "        vertical-align: top;\n",
       "    }\n",
       "\n",
       "    .dataframe thead th {\n",
       "        text-align: right;\n",
       "    }\n",
       "</style>\n",
       "<table border=\"1\" class=\"dataframe\">\n",
       "  <thead>\n",
       "    <tr style=\"text-align: right;\">\n",
       "      <th></th>\n",
       "      <th>director_ids</th>\n",
       "      <th>director_names</th>\n",
       "      <th>movie_id</th>\n",
       "      <th>title</th>\n",
       "      <th>review_count_user</th>\n",
       "      <th>review_count_critic</th>\n",
       "      <th>metascore</th>\n",
       "      <th>rating_value</th>\n",
       "      <th>rating_count</th>\n",
       "      <th>date_published</th>\n",
       "      <th>...</th>\n",
       "      <th>deathYear</th>\n",
       "      <th>primaryProfession</th>\n",
       "      <th>knownForTitles</th>\n",
       "      <th>director_profession_primary</th>\n",
       "      <th>director_profession_secondary</th>\n",
       "      <th>director_profession_tertiary</th>\n",
       "      <th>director_known_titles_count</th>\n",
       "      <th>director_known_titles_average_rating_value</th>\n",
       "      <th>clean_director_names</th>\n",
       "      <th>FirstName</th>\n",
       "    </tr>\n",
       "  </thead>\n",
       "  <tbody>\n",
       "    <tr>\n",
       "      <th>26498</th>\n",
       "      <td>nm0039107</td>\n",
       "      <td>Ray Ashley</td>\n",
       "      <td>tt0046004</td>\n",
       "      <td>A kis szökevény (1953) - IMDb</td>\n",
       "      <td>29</td>\n",
       "      <td>45</td>\n",
       "      <td>91</td>\n",
       "      <td>7.7</td>\n",
       "      <td>1730</td>\n",
       "      <td>1953-12-16</td>\n",
       "      <td>...</td>\n",
       "      <td>1960</td>\n",
       "      <td>writer,director,producer</td>\n",
       "      <td>tt0057518,tt0046004</td>\n",
       "      <td>0</td>\n",
       "      <td>1</td>\n",
       "      <td>0</td>\n",
       "      <td>2</td>\n",
       "      <td>6.9</td>\n",
       "      <td>ray ashley</td>\n",
       "      <td>ray</td>\n",
       "    </tr>\n",
       "  </tbody>\n",
       "</table>\n",
       "<p>1 rows × 132 columns</p>\n",
       "</div>"
      ],
      "text/plain": [
       "      director_ids director_names   movie_id                          title  \\\n",
       "26498    nm0039107     Ray Ashley  tt0046004  A kis szökevény (1953) - IMDb   \n",
       "\n",
       "       review_count_user  review_count_critic metascore  rating_value  \\\n",
       "26498                 29                   45        91           7.7   \n",
       "\n",
       "       rating_count date_published  ... deathYear         primaryProfession  \\\n",
       "26498          1730     1953-12-16  ...      1960  writer,director,producer   \n",
       "\n",
       "            knownForTitles  director_profession_primary  \\\n",
       "26498  tt0057518,tt0046004                            0   \n",
       "\n",
       "      director_profession_secondary  director_profession_tertiary  \\\n",
       "26498                             1                             0   \n",
       "\n",
       "       director_known_titles_count  \\\n",
       "26498                            2   \n",
       "\n",
       "       director_known_titles_average_rating_value  clean_director_names  \\\n",
       "26498                                         6.9            ray ashley   \n",
       "\n",
       "       FirstName  \n",
       "26498        ray  \n",
       "\n",
       "[1 rows x 132 columns]"
      ]
     },
     "execution_count": 109,
     "metadata": {},
     "output_type": "execute_result"
    }
   ],
   "source": [
    "dfGenderlessData[dfGenderlessData['director_ids']=='nm0039107']"
   ]
  },
  {
   "cell_type": "code",
   "execution_count": 110,
   "metadata": {
    "scrolled": true
   },
   "outputs": [],
   "source": [
    "# # nameDatabaseLocationNLTK = 'C:\\\\Yuva\\\\ITU\\\\3rd Sem\\\\Research Topics\\\\Movies & Gender\\\\Genderize\\\\Lookup_nltk.csv'\n",
    "# nameDatabaseLocationNLTK = 'C:\\\\Yuva\\\\ITU\\\\3rd Sem\\\\Research Topics\\\\Movies & Gender\\\\Genderize\\\\nltkData_Dec-15-2019.csv'\n",
    "# # nameDatabaseLocationGuardian = 'C:\\\\Yuva\\\\ITU\\\\3rd Sem\\\\Research Topics\\\\Movies & Gender\\\\Genderize\\\\GuardianWebiste_names.csv'\n",
    "# # nameDatabaseLocationSSA =  'C:\\\\Yuva\\\\ITU\\\\3rd Sem\\\\Research Topics\\\\Movies & Gender\\\\Genderize\\\\SSA\\\\SSAData.csv'\n",
    "\n",
    "# # Import as Dataframe\n",
    "\n",
    "# # nameSSADF = pd.read_csv(nameDatabaseLocationSSA,encoding=\"utf8\")\n",
    "# # nameGuardianDF = pd.read_csv(nameDatabaseLocationGuardian,encoding=\"utf8\")\n",
    "# nameNLTKDF = pd.read_csv(nameDatabaseLocationNLTK,encoding=\"utf8\")\n",
    "\n",
    "# # Remove duplicate entries from dataset\n",
    "# # nameSSADF = nameSSADF.drop_duplicates(subset='FirstName')\n",
    "# nameNLTKDF = nameNLTKDF.drop_duplicates(subset='FirstName')\n",
    "\n",
    "\n",
    "# # convert firstname to lower\n",
    "# # nameSSADF.FirstName = nameSSADF.FirstName.str.lower()\n",
    "# # nameGuardianDF.FirstName = nameGuardianDF.FirstName.str.lower()\n",
    "# nameNLTKDF.FirstName = nameNLTKDF.FirstName.str.lower()\n",
    "# nameNLTKDF.shape"
   ]
  },
  {
   "cell_type": "code",
   "execution_count": 111,
   "metadata": {},
   "outputs": [],
   "source": [
    "# nameNLTKDF.head()"
   ]
  },
  {
   "cell_type": "code",
   "execution_count": 112,
   "metadata": {},
   "outputs": [],
   "source": [
    "# Merge genders and first names\n",
    "# nameGenderSSADF = dfGenderlessData.merge(nameSSADF, on='FirstName',how ='left')\n",
    "# nameGenderGuardianDF = dfGenderlessData.merge(nameGuardianDF, on='FirstName',how ='left')\n",
    "\n",
    "\n",
    "# nameGenderNLTKDF = dfGenderlessData.merge(nameNLTKDF, on='FirstName',how ='left')"
   ]
  },
  {
   "cell_type": "code",
   "execution_count": 113,
   "metadata": {
    "scrolled": false
   },
   "outputs": [],
   "source": [
    "# nameGenderSSADF.Gender.value_counts(dropna=False)\n",
    "# nameGenderGuardianDF.Gender.value_counts(dropna=False)\n",
    "# nameGenderNLTKDF.Gender.value_counts(dropna=False)"
   ]
  },
  {
   "cell_type": "code",
   "execution_count": 114,
   "metadata": {},
   "outputs": [],
   "source": [
    "#GuardianMissingGenderDF = nameGenderGuardianDF[pd.isnull(nameGenderGuardianDF['Gender'])]"
   ]
  },
  {
   "cell_type": "markdown",
   "metadata": {},
   "source": [
    "## Classify the gender for the missing values - 186812 missing values"
   ]
  },
  {
   "cell_type": "markdown",
   "metadata": {},
   "source": [
    "## Classify the gender"
   ]
  },
  {
   "cell_type": "code",
   "execution_count": 115,
   "metadata": {},
   "outputs": [],
   "source": [
    "# # Wherever the value is NA, predict the gender using our trained model\n",
    "\n",
    "# # nameGenderSSADF.loc[nameGenderSSADF['Gender'].isna(),'Gender'] = nameGenderSSADF['FirstName'].apply(genderpredictor1)\n",
    "# # nameGenderGuardianDF.loc[nameGenderGuardianDF['Gender'].isna(),'Gender'] = nameGenderGuardianDF['FirstName'].apply(genderpredictor1)\n",
    "\n",
    "# # Missing names\n",
    "# # nameGenderNLTKDF.loc[nameGenderNLTKDF['Gender'].isna(),'Gender'] = nameGenderNLTKDF['FirstName'].apply(genderpredictor_decision_tree)\n",
    "\n",
    "# dfGenderlessData['Gender'] = dfGenderlessData['FirstName'].apply(genderpredictor_decision_tree)\n",
    "\n",
    "\n",
    "# dfGenderlessData.loc[dfGenderlessData['Gender'].isna(),'Gender']"
   ]
  },
  {
   "cell_type": "code",
   "execution_count": 116,
   "metadata": {},
   "outputs": [],
   "source": [
    "# nameGenderSSADF.Gender.value_counts(dropna=False)\n",
    "# nameGenderGuardianDF.Gender.value_counts(dropna=False)\n",
    "# nameGenderNLTKDF.Gender.value_counts(dropna=False)"
   ]
  },
  {
   "cell_type": "markdown",
   "metadata": {},
   "source": [
    "## Create a Gender column with just the first names"
   ]
  },
  {
   "cell_type": "code",
   "execution_count": 117,
   "metadata": {},
   "outputs": [],
   "source": [
    "dfGenderlessData['Gender'] = dfGenderlessData['FirstName']"
   ]
  },
  {
   "cell_type": "code",
   "execution_count": 118,
   "metadata": {},
   "outputs": [],
   "source": [
    "# Create a dictionary of unique firstnames being classified with gender by our model prediction"
   ]
  },
  {
   "cell_type": "code",
   "execution_count": 119,
   "metadata": {},
   "outputs": [],
   "source": [
    "dict_unique_gender = {}\n",
    "keys = range(dfGenderlessData['Gender'].nunique())\n",
    "values = dfGenderlessData['Gender'].unique().tolist()\n",
    "for i in keys:\n",
    "        dict_unique_gender[values[i]] = genderpredictor_decision_tree(values[i])"
   ]
  },
  {
   "cell_type": "markdown",
   "metadata": {},
   "source": [
    "### Replace the firstnames with their corresponding genders using the transform function"
   ]
  },
  {
   "cell_type": "code",
   "execution_count": 120,
   "metadata": {},
   "outputs": [],
   "source": [
    "dfGenderlessData['Gender'] = dfGenderlessData['Gender'].transform(lambda x: dict_unique_gender[x] if x in dict_unique_gender else None )"
   ]
  },
  {
   "cell_type": "markdown",
   "metadata": {},
   "source": [
    "Initial value count : With NLTK vlookup and gender classification ( errorneous first names) <br>\n",
    "Male      635493<br>\n",
    "Female    163427<br>\n",
    "Name: Gender, dtype: int64"
   ]
  },
  {
   "cell_type": "code",
   "execution_count": 121,
   "metadata": {},
   "outputs": [
    {
     "data": {
      "text/plain": [
       "Male      653769\n",
       "Female    145092\n",
       "Name: Gender, dtype: int64"
      ]
     },
     "execution_count": 121,
     "metadata": {},
     "output_type": "execute_result"
    }
   ],
   "source": [
    "dfGenderlessData['Gender'].value_counts(dropna=False)"
   ]
  },
  {
   "cell_type": "markdown",
   "metadata": {},
   "source": [
    "Male      635947\n",
    "Female    162914\n",
    "Name: Gender, dtype: int64"
   ]
  },
  {
   "cell_type": "markdown",
   "metadata": {},
   "source": [
    "Value count : With only gender classification ( errorneous first names) <br>\n",
    "Male      634678<br>\n",
    "Female    164183<br>\n",
    "Name: Gender, dtype: int64"
   ]
  },
  {
   "cell_type": "code",
   "execution_count": 122,
   "metadata": {
    "scrolled": true
   },
   "outputs": [],
   "source": [
    "#nameGenderSSADF.loc[nameGenderSSADF['FirstName'] == 'george']"
   ]
  },
  {
   "cell_type": "code",
   "execution_count": 123,
   "metadata": {},
   "outputs": [],
   "source": [
    "# stage3FinalProcessedDF = nameGenderNLTKDF.copy()\n",
    "stage3FinalProcessedDF = dfGenderlessData.copy()"
   ]
  },
  {
   "cell_type": "code",
   "execution_count": 124,
   "metadata": {
    "scrolled": true
   },
   "outputs": [
    {
     "name": "stdout",
     "output_type": "stream",
     "text": [
      "Dataframe shape is :  (798861, 133)\n"
     ]
    },
    {
     "data": {
      "text/html": [
       "<div>\n",
       "<style scoped>\n",
       "    .dataframe tbody tr th:only-of-type {\n",
       "        vertical-align: middle;\n",
       "    }\n",
       "\n",
       "    .dataframe tbody tr th {\n",
       "        vertical-align: top;\n",
       "    }\n",
       "\n",
       "    .dataframe thead th {\n",
       "        text-align: right;\n",
       "    }\n",
       "</style>\n",
       "<table border=\"1\" class=\"dataframe\">\n",
       "  <thead>\n",
       "    <tr style=\"text-align: right;\">\n",
       "      <th></th>\n",
       "      <th>director_ids</th>\n",
       "      <th>director_names</th>\n",
       "      <th>movie_id</th>\n",
       "      <th>title</th>\n",
       "      <th>review_count_user</th>\n",
       "      <th>review_count_critic</th>\n",
       "      <th>metascore</th>\n",
       "      <th>rating_value</th>\n",
       "      <th>rating_count</th>\n",
       "      <th>date_published</th>\n",
       "      <th>...</th>\n",
       "      <th>primaryProfession</th>\n",
       "      <th>knownForTitles</th>\n",
       "      <th>director_profession_primary</th>\n",
       "      <th>director_profession_secondary</th>\n",
       "      <th>director_profession_tertiary</th>\n",
       "      <th>director_known_titles_count</th>\n",
       "      <th>director_known_titles_average_rating_value</th>\n",
       "      <th>clean_director_names</th>\n",
       "      <th>FirstName</th>\n",
       "      <th>Gender</th>\n",
       "    </tr>\n",
       "  </thead>\n",
       "  <tbody>\n",
       "    <tr>\n",
       "      <th>0</th>\n",
       "      <td>nm0005690</td>\n",
       "      <td>William K.L. Dickson</td>\n",
       "      <td>tt0000001</td>\n",
       "      <td>Carmencita - spanyol tánc (1894) - IMDb</td>\n",
       "      <td>12</td>\n",
       "      <td>2</td>\n",
       "      <td>None</td>\n",
       "      <td>5.8</td>\n",
       "      <td>1255</td>\n",
       "      <td>1894-03-10</td>\n",
       "      <td>...</td>\n",
       "      <td>cinematographer,director,producer</td>\n",
       "      <td>tt0219560,tt1496763,tt0308254,tt1428455</td>\n",
       "      <td>0</td>\n",
       "      <td>1</td>\n",
       "      <td>0</td>\n",
       "      <td>4</td>\n",
       "      <td>5.75</td>\n",
       "      <td>william k.l. dickson</td>\n",
       "      <td>william</td>\n",
       "      <td>Male</td>\n",
       "    </tr>\n",
       "    <tr>\n",
       "      <th>1</th>\n",
       "      <td>nm0721526</td>\n",
       "      <td>Émile Reynaud</td>\n",
       "      <td>tt0000002</td>\n",
       "      <td>A bohóc és kutyái (1892) - IMDb</td>\n",
       "      <td>0</td>\n",
       "      <td>0</td>\n",
       "      <td>None</td>\n",
       "      <td>6.5</td>\n",
       "      <td>148</td>\n",
       "      <td>1892-10-28</td>\n",
       "      <td>...</td>\n",
       "      <td>director</td>\n",
       "      <td>tt0413219,tt2184231,tt2184201,tt0000003,tt0000...</td>\n",
       "      <td>1</td>\n",
       "      <td>0</td>\n",
       "      <td>0</td>\n",
       "      <td>6</td>\n",
       "      <td>6.17</td>\n",
       "      <td>emile reynaud</td>\n",
       "      <td>emile</td>\n",
       "      <td>Male</td>\n",
       "    </tr>\n",
       "  </tbody>\n",
       "</table>\n",
       "<p>2 rows × 133 columns</p>\n",
       "</div>"
      ],
      "text/plain": [
       "  director_ids        director_names   movie_id  \\\n",
       "0    nm0005690  William K.L. Dickson  tt0000001   \n",
       "1    nm0721526         Émile Reynaud  tt0000002   \n",
       "\n",
       "                                     title  review_count_user  \\\n",
       "0  Carmencita - spanyol tánc (1894) - IMDb                 12   \n",
       "1          A bohóc és kutyái (1892) - IMDb                  0   \n",
       "\n",
       "   review_count_critic metascore  rating_value  rating_count date_published  \\\n",
       "0                    2      None           5.8          1255     1894-03-10   \n",
       "1                    0      None           6.5           148     1892-10-28   \n",
       "\n",
       "   ...                  primaryProfession  \\\n",
       "0  ...  cinematographer,director,producer   \n",
       "1  ...                           director   \n",
       "\n",
       "                                      knownForTitles  \\\n",
       "0            tt0219560,tt1496763,tt0308254,tt1428455   \n",
       "1  tt0413219,tt2184231,tt2184201,tt0000003,tt0000...   \n",
       "\n",
       "  director_profession_primary  director_profession_secondary  \\\n",
       "0                           0                              1   \n",
       "1                           1                              0   \n",
       "\n",
       "  director_profession_tertiary  director_known_titles_count  \\\n",
       "0                            0                            4   \n",
       "1                            0                            6   \n",
       "\n",
       "   director_known_titles_average_rating_value  clean_director_names  \\\n",
       "0                                        5.75  william k.l. dickson   \n",
       "1                                        6.17         emile reynaud   \n",
       "\n",
       "   FirstName  Gender  \n",
       "0    william    Male  \n",
       "1      emile    Male  \n",
       "\n",
       "[2 rows x 133 columns]"
      ]
     },
     "execution_count": 124,
     "metadata": {},
     "output_type": "execute_result"
    }
   ],
   "source": [
    "print('Dataframe shape is : ', stage3FinalProcessedDF.shape)\n",
    "stage3FinalProcessedDF.head(2)"
   ]
  },
  {
   "cell_type": "code",
   "execution_count": 125,
   "metadata": {},
   "outputs": [
    {
     "ename": "SyntaxError",
     "evalue": "'break' outside loop (<ipython-input-125-6aaf1f276005>, line 4)",
     "output_type": "error",
     "traceback": [
      "\u001b[1;36m  File \u001b[1;32m\"<ipython-input-125-6aaf1f276005>\"\u001b[1;36m, line \u001b[1;32m4\u001b[0m\n\u001b[1;31mSyntaxError\u001b[0m\u001b[1;31m:\u001b[0m 'break' outside loop\n"
     ]
    }
   ],
   "source": [
    "break"
   ]
  },
  {
   "cell_type": "markdown",
   "metadata": {},
   "source": [
    "### Fetch the first movie year and career year number of each movie"
   ]
  },
  {
   "cell_type": "code",
   "execution_count": 128,
   "metadata": {},
   "outputs": [
    {
     "data": {
      "text/html": [
       "<div>\n",
       "<style scoped>\n",
       "    .dataframe tbody tr th:only-of-type {\n",
       "        vertical-align: middle;\n",
       "    }\n",
       "\n",
       "    .dataframe tbody tr th {\n",
       "        vertical-align: top;\n",
       "    }\n",
       "\n",
       "    .dataframe thead th {\n",
       "        text-align: right;\n",
       "    }\n",
       "</style>\n",
       "<table border=\"1\" class=\"dataframe\">\n",
       "  <thead>\n",
       "    <tr style=\"text-align: right;\">\n",
       "      <th></th>\n",
       "      <th>CareerStartYear</th>\n",
       "      <th>director_ids</th>\n",
       "    </tr>\n",
       "  </thead>\n",
       "  <tbody>\n",
       "    <tr>\n",
       "      <th>19155</th>\n",
       "      <td>1946</td>\n",
       "      <td>nm0000005</td>\n",
       "    </tr>\n",
       "    <tr>\n",
       "      <th>38453</th>\n",
       "      <td>1961</td>\n",
       "      <td>nm0000008</td>\n",
       "    </tr>\n",
       "    <tr>\n",
       "      <th>48611</th>\n",
       "      <td>1967</td>\n",
       "      <td>nm0000009</td>\n",
       "    </tr>\n",
       "    <tr>\n",
       "      <th>32509</th>\n",
       "      <td>1957</td>\n",
       "      <td>nm0000010</td>\n",
       "    </tr>\n",
       "    <tr>\n",
       "      <th>57536</th>\n",
       "      <td>1973</td>\n",
       "      <td>nm0000018</td>\n",
       "    </tr>\n",
       "    <tr>\n",
       "      <th>...</th>\n",
       "      <td>...</td>\n",
       "      <td>...</td>\n",
       "    </tr>\n",
       "    <tr>\n",
       "      <th>528307</th>\n",
       "      <td>1925</td>\n",
       "      <td>nm9987766</td>\n",
       "    </tr>\n",
       "    <tr>\n",
       "      <th>709538</th>\n",
       "      <td>2007</td>\n",
       "      <td>nm9988426</td>\n",
       "    </tr>\n",
       "    <tr>\n",
       "      <th>172148</th>\n",
       "      <td>1999</td>\n",
       "      <td>nm9989633</td>\n",
       "    </tr>\n",
       "    <tr>\n",
       "      <th>501575</th>\n",
       "      <td>2000</td>\n",
       "      <td>nm9991405</td>\n",
       "    </tr>\n",
       "    <tr>\n",
       "      <th>667123</th>\n",
       "      <td>2013</td>\n",
       "      <td>nm9992853</td>\n",
       "    </tr>\n",
       "  </tbody>\n",
       "</table>\n",
       "<p>174919 rows × 2 columns</p>\n",
       "</div>"
      ],
      "text/plain": [
       "        CareerStartYear director_ids\n",
       "19155              1946    nm0000005\n",
       "38453              1961    nm0000008\n",
       "48611              1967    nm0000009\n",
       "32509              1957    nm0000010\n",
       "57536              1973    nm0000018\n",
       "...                 ...          ...\n",
       "528307             1925    nm9987766\n",
       "709538             2007    nm9988426\n",
       "172148             1999    nm9989633\n",
       "501575             2000    nm9991405\n",
       "667123             2013    nm9992853\n",
       "\n",
       "[174919 rows x 2 columns]"
      ]
     },
     "execution_count": 128,
     "metadata": {},
     "output_type": "execute_result"
    }
   ],
   "source": [
    "# Dataframe to group the directors and find the minimum movie year which indicates the Career Start year\n",
    "directorsCareerStartYearDF = stage3FinalProcessedDF.loc[stage3FinalProcessedDF.groupby('director_ids')['movie_year']\n",
    "                                                        .idxmin()][['movie_year','director_ids']]\n",
    "\n",
    "# Rename the column Movie Year to CareerStartYear\n",
    "directorsCareerStartYearDF = directorsCareerStartYearDF.rename(columns={'movie_year':'CareerStartYear'})\n",
    "directorsCareerStartYearDF.head()"
   ]
  },
  {
   "cell_type": "code",
   "execution_count": 129,
   "metadata": {},
   "outputs": [
    {
     "data": {
      "text/plain": [
       "count    174919.000000\n",
       "mean       1998.619178\n",
       "std          18.461957\n",
       "min        1887.000000\n",
       "25%        1994.000000\n",
       "50%        2005.000000\n",
       "75%        2011.000000\n",
       "max        2017.000000\n",
       "Name: CareerStartYear, dtype: float64"
      ]
     },
     "execution_count": 129,
     "metadata": {},
     "output_type": "execute_result"
    }
   ],
   "source": [
    "directorsCareerStartYearDF['CareerStartYear'].describe()"
   ]
  },
  {
   "cell_type": "code",
   "execution_count": 131,
   "metadata": {},
   "outputs": [],
   "source": [
    "# Merge the Directors Career Start Year with the original data set\n",
    "stage3FinalProcessedDF = stage3FinalProcessedDF.merge(directorsCareerStartYearDF, on='director_ids',how = 'left')\n",
    "\n",
    "# Generate a column with Career Year number. i.e - Movie year - Career Start Year + 1\n",
    "stage3FinalProcessedDF[\"Career_Year_Number\"] = stage3FinalProcessedDF['movie_year'] - stage3FinalProcessedDF['CareerStartYear'] + 1"
   ]
  },
  {
   "cell_type": "code",
   "execution_count": 133,
   "metadata": {},
   "outputs": [
    {
     "data": {
      "text/html": [
       "<div>\n",
       "<style scoped>\n",
       "    .dataframe tbody tr th:only-of-type {\n",
       "        vertical-align: middle;\n",
       "    }\n",
       "\n",
       "    .dataframe tbody tr th {\n",
       "        vertical-align: top;\n",
       "    }\n",
       "\n",
       "    .dataframe thead th {\n",
       "        text-align: right;\n",
       "    }\n",
       "</style>\n",
       "<table border=\"1\" class=\"dataframe\">\n",
       "  <thead>\n",
       "    <tr style=\"text-align: right;\">\n",
       "      <th></th>\n",
       "      <th>movie_id</th>\n",
       "      <th>movie_year</th>\n",
       "      <th>CareerStartYear</th>\n",
       "      <th>Career_Year_Number</th>\n",
       "    </tr>\n",
       "  </thead>\n",
       "  <tbody>\n",
       "    <tr>\n",
       "      <th>0</th>\n",
       "      <td>tt0000001</td>\n",
       "      <td>1894</td>\n",
       "      <td>1890</td>\n",
       "      <td>5</td>\n",
       "    </tr>\n",
       "    <tr>\n",
       "      <th>1</th>\n",
       "      <td>tt0000002</td>\n",
       "      <td>1892</td>\n",
       "      <td>1892</td>\n",
       "      <td>1</td>\n",
       "    </tr>\n",
       "    <tr>\n",
       "      <th>2</th>\n",
       "      <td>tt0000003</td>\n",
       "      <td>1892</td>\n",
       "      <td>1892</td>\n",
       "      <td>1</td>\n",
       "    </tr>\n",
       "    <tr>\n",
       "      <th>3</th>\n",
       "      <td>tt0000004</td>\n",
       "      <td>1892</td>\n",
       "      <td>1892</td>\n",
       "      <td>1</td>\n",
       "    </tr>\n",
       "    <tr>\n",
       "      <th>4</th>\n",
       "      <td>tt0000005</td>\n",
       "      <td>1893</td>\n",
       "      <td>1890</td>\n",
       "      <td>4</td>\n",
       "    </tr>\n",
       "  </tbody>\n",
       "</table>\n",
       "</div>"
      ],
      "text/plain": [
       "    movie_id  movie_year  CareerStartYear  Career_Year_Number\n",
       "0  tt0000001        1894             1890                   5\n",
       "1  tt0000002        1892             1892                   1\n",
       "2  tt0000003        1892             1892                   1\n",
       "3  tt0000004        1892             1892                   1\n",
       "4  tt0000005        1893             1890                   4"
      ]
     },
     "execution_count": 133,
     "metadata": {},
     "output_type": "execute_result"
    }
   ],
   "source": [
    "stage3FinalProcessedDF[['movie_id','movie_year','CareerStartYear','Career_Year_Number']].head()"
   ]
  },
  {
   "cell_type": "markdown",
   "metadata": {},
   "source": [
    "#### Replace N in death year and Birth year and None in metascore."
   ]
  },
  {
   "cell_type": "code",
   "execution_count": 141,
   "metadata": {},
   "outputs": [
    {
     "data": {
      "text/plain": [
       "2869973"
      ]
     },
     "execution_count": 141,
     "metadata": {},
     "output_type": "execute_result"
    }
   ],
   "source": [
    "stage3FinalProcessedDF.isnull().sum().sum()"
   ]
  },
  {
   "cell_type": "markdown",
   "metadata": {},
   "source": [
    "### Script to check replace dataframe and column difference"
   ]
  },
  {
   "cell_type": "code",
   "execution_count": 142,
   "metadata": {},
   "outputs": [
    {
     "data": {
      "text/plain": [
       "(('title', 88),\n",
       " ('metascore', 786139),\n",
       " ('date_published', 144397),\n",
       " ('duration', 126314),\n",
       " ('title_year', 423105),\n",
       " ('release_date', 55572),\n",
       " ('directed_by', 238))"
      ]
     },
     "execution_count": 142,
     "metadata": {},
     "output_type": "execute_result"
    }
   ],
   "source": [
    "# Script to check the columns that get replaced if we replace on the whole dataframe.\n",
    "\n",
    "checkcol = stage3FinalProcessedDF.select_dtypes(include = object).columns.values\n",
    "\n",
    "listcolumns = []\n",
    "countNoneList = []\n",
    "for i in checkcol:\n",
    "    count = stage3FinalProcessedDF[i].str.contains('None',regex = True).sum()\n",
    "    if stage3FinalProcessedDF[i].str.contains('None' , regex = True).any():\n",
    "        listcolumns.append(i)\n",
    "        countNoneList.append(count)\n",
    "        \n",
    "columnsWithNone = tuple(zip(listcolumns, countNoneList))\n",
    "columnsWithNone"
   ]
  },
  {
   "cell_type": "code",
   "execution_count": 143,
   "metadata": {},
   "outputs": [
    {
     "data": {
      "text/plain": [
       "(('birthYear', 399415), ('deathYear', 632307), ('knownForTitles', 668))"
      ]
     },
     "execution_count": 143,
     "metadata": {},
     "output_type": "execute_result"
    }
   ],
   "source": [
    "# Script to check the columns that get replaced if we replace on the whole dataframe.\n",
    "\n",
    "checkcol = stage3FinalProcessedDF.select_dtypes(include = object).columns.values\n",
    "\n",
    "listcolumns = []\n",
    "countNoneList = []\n",
    "for i in checkcol:\n",
    "    count = stage3FinalProcessedDF[i].str.contains(r'\\\\N',regex = True).sum()\n",
    "    if stage3FinalProcessedDF[i].str.contains(r'\\\\N' , regex = True).any():\n",
    "        listcolumns.append(i)\n",
    "        countNoneList.append(count)\n",
    "        \n",
    "columnsWithNone = tuple(zip(listcolumns, countNoneList))\n",
    "columnsWithNone"
   ]
  },
  {
   "cell_type": "code",
   "execution_count": 144,
   "metadata": {},
   "outputs": [],
   "source": [
    "# Replace \\\\N and None\n",
    "\n",
    "stage3FinalProcessedDF.replace(to_replace = '\\\\N', value= np.nan,inplace = True)\n",
    "stage3FinalProcessedDF['metascore'].replace(to_replace = 'None', value= np.nan,inplace = True)"
   ]
  },
  {
   "cell_type": "code",
   "execution_count": 145,
   "metadata": {},
   "outputs": [
    {
     "data": {
      "text/plain": [
       "4688502"
      ]
     },
     "execution_count": 145,
     "metadata": {},
     "output_type": "execute_result"
    }
   ],
   "source": [
    "stage3FinalProcessedDF.isnull().sum().sum()"
   ]
  },
  {
   "cell_type": "code",
   "execution_count": 146,
   "metadata": {},
   "outputs": [
    {
     "data": {
      "text/plain": [
       "(798861, 135)"
      ]
     },
     "execution_count": 146,
     "metadata": {},
     "output_type": "execute_result"
    }
   ],
   "source": [
    "stage3FinalProcessedDF.shape"
   ]
  },
  {
   "cell_type": "code",
   "execution_count": 147,
   "metadata": {},
   "outputs": [
    {
     "data": {
      "text/plain": [
       "Series([], Name: deathYear, dtype: object)"
      ]
     },
     "execution_count": 147,
     "metadata": {},
     "output_type": "execute_result"
    }
   ],
   "source": [
    "stage3FinalProcessedDF.loc[(stage3FinalProcessedDF['deathYear'].str.contains('N',na=False)), 'deathYear']"
   ]
  },
  {
   "cell_type": "code",
   "execution_count": 148,
   "metadata": {},
   "outputs": [
    {
     "data": {
      "text/plain": [
       "Series([], Name: birthYear, dtype: object)"
      ]
     },
     "execution_count": 148,
     "metadata": {},
     "output_type": "execute_result"
    }
   ],
   "source": [
    "stage3FinalProcessedDF.loc[(stage3FinalProcessedDF['birthYear'].str.contains('N',na=False)), 'birthYear']"
   ]
  },
  {
   "cell_type": "code",
   "execution_count": 149,
   "metadata": {},
   "outputs": [
    {
     "data": {
      "text/plain": [
       "Series([], Name: metascore, dtype: object)"
      ]
     },
     "execution_count": 149,
     "metadata": {},
     "output_type": "execute_result"
    }
   ],
   "source": [
    "stage3FinalProcessedDF.loc[(stage3FinalProcessedDF['metascore'].str.contains('None',na=False)), 'metascore']"
   ]
  },
  {
   "cell_type": "code",
   "execution_count": 150,
   "metadata": {},
   "outputs": [],
   "source": [
    "# # Replace all /N values death year as None\n",
    "# stage3FinalProcessedDF.loc[(stage3FinalProcessedDF['deathYear'].str.contains('N',na=False)), 'deathYear'] = None\n",
    "\n",
    "# # Replace all /N values birth year as None\n",
    "# stage3FinalProcessedDF.loc[(stage3FinalProcessedDF['birthYear'].str.contains('N',na=False)), 'birthYear'] = None\n",
    "\n",
    "# # Replace all /N values birth year as None\n",
    "# stage3FinalProcessedDF.loc[(stage3FinalProcessedDF['metascore'].str.contains('None',na=False)), 'metascore'] = None"
   ]
  },
  {
   "cell_type": "markdown",
   "metadata": {},
   "source": [
    "## Remove Unwanted columns and columns that contain lot of empty records"
   ]
  },
  {
   "cell_type": "code",
   "execution_count": 151,
   "metadata": {},
   "outputs": [],
   "source": [
    "# Drop columns after answering the question if we want to keep rows with None Records in language, Color and Country\n",
    "# If yes, do not drop the below columns\n",
    "# and clean the rows where value is present in one of these columns to get the cleaned data\n",
    "\n",
    "drop_None_columns = ['language_None',\n",
    "                     'color_None',\n",
    "                     'country_None']\n",
    "\n",
    "# explodedAndMergeDF = explodedAndMergeDF.drop(columns=['language_None','color_None','country_None'])"
   ]
  },
  {
   "cell_type": "markdown",
   "metadata": {},
   "source": [
    "##### Drop columns which are duplicate or not required for the analysis"
   ]
  },
  {
   "cell_type": "code",
   "execution_count": 152,
   "metadata": {},
   "outputs": [
    {
     "name": "stdout",
     "output_type": "stream",
     "text": [
      "\n",
      " stage3FinalProcessedDF dataframe Shape before dropping columns:  (798861, 135)\n",
      "\n",
      " stage3FinalProcessedDF dataframe Shape After dropping columns:  (798861, 124)\n"
     ]
    }
   ],
   "source": [
    "# Drop columns which are duplicate or not required for the analysis\n",
    "\n",
    "drop_duplicate_or_not_required_columns = ['primaryName',\n",
    "                                          'directed_by',\n",
    "                                          'title_year',\n",
    "                                          'duration',\n",
    "                                          'knownForTitles',\n",
    "                                          'primaryProfession',\n",
    "#                                           'clean_director_names',\n",
    "#                                           'FirstName',\n",
    "                                          'release_year',\n",
    "                                          'date_published'\n",
    "                                         ]\n",
    "print(\"\\n stage3FinalProcessedDF dataframe Shape before dropping columns: \",str(stage3FinalProcessedDF.shape))\n",
    "stage3FinalProcessedDF = stage3FinalProcessedDF.drop(columns = drop_duplicate_or_not_required_columns)\n",
    "stage3FinalProcessedDF = stage3FinalProcessedDF.drop(columns = drop_None_columns)\n",
    "print(\"\\n stage3FinalProcessedDF dataframe Shape After dropping columns: \",str(stage3FinalProcessedDF.shape))"
   ]
  },
  {
   "cell_type": "code",
   "execution_count": 153,
   "metadata": {},
   "outputs": [
    {
     "data": {
      "text/html": [
       "<div>\n",
       "<style scoped>\n",
       "    .dataframe tbody tr th:only-of-type {\n",
       "        vertical-align: middle;\n",
       "    }\n",
       "\n",
       "    .dataframe tbody tr th {\n",
       "        vertical-align: top;\n",
       "    }\n",
       "\n",
       "    .dataframe thead th {\n",
       "        text-align: right;\n",
       "    }\n",
       "</style>\n",
       "<table border=\"1\" class=\"dataframe\">\n",
       "  <thead>\n",
       "    <tr style=\"text-align: right;\">\n",
       "      <th></th>\n",
       "      <th>director_ids</th>\n",
       "      <th>director_names</th>\n",
       "      <th>movie_id</th>\n",
       "      <th>title</th>\n",
       "      <th>review_count_user</th>\n",
       "      <th>review_count_critic</th>\n",
       "      <th>metascore</th>\n",
       "      <th>rating_value</th>\n",
       "      <th>rating_count</th>\n",
       "      <th>release_date</th>\n",
       "      <th>...</th>\n",
       "      <th>director_profession_primary</th>\n",
       "      <th>director_profession_secondary</th>\n",
       "      <th>director_profession_tertiary</th>\n",
       "      <th>director_known_titles_count</th>\n",
       "      <th>director_known_titles_average_rating_value</th>\n",
       "      <th>clean_director_names</th>\n",
       "      <th>FirstName</th>\n",
       "      <th>Gender</th>\n",
       "      <th>CareerStartYear</th>\n",
       "      <th>Career_Year_Number</th>\n",
       "    </tr>\n",
       "  </thead>\n",
       "  <tbody>\n",
       "    <tr>\n",
       "      <th>510492</th>\n",
       "      <td>nm3284014</td>\n",
       "      <td>Antoine Delesvaux</td>\n",
       "      <td>tt1355638</td>\n",
       "      <td>Le chat du rabbin (2011) - IMDb</td>\n",
       "      <td>5</td>\n",
       "      <td>30</td>\n",
       "      <td>74</td>\n",
       "      <td>7.2</td>\n",
       "      <td>2363</td>\n",
       "      <td>1 June 2011 (France)    See more »</td>\n",
       "      <td>...</td>\n",
       "      <td>0</td>\n",
       "      <td>1</td>\n",
       "      <td>0</td>\n",
       "      <td>2</td>\n",
       "      <td>6.90</td>\n",
       "      <td>antoine delesvaux</td>\n",
       "      <td>antoine</td>\n",
       "      <td>Male</td>\n",
       "      <td>2011</td>\n",
       "      <td>1</td>\n",
       "    </tr>\n",
       "    <tr>\n",
       "      <th>510493</th>\n",
       "      <td>nm2677924</td>\n",
       "      <td>Joann Sfar</td>\n",
       "      <td>tt1355638</td>\n",
       "      <td>Le chat du rabbin (2011) - IMDb</td>\n",
       "      <td>5</td>\n",
       "      <td>30</td>\n",
       "      <td>74</td>\n",
       "      <td>7.2</td>\n",
       "      <td>2363</td>\n",
       "      <td>1 June 2011 (France)    See more »</td>\n",
       "      <td>...</td>\n",
       "      <td>0</td>\n",
       "      <td>1</td>\n",
       "      <td>0</td>\n",
       "      <td>2</td>\n",
       "      <td>7.05</td>\n",
       "      <td>joann sfar</td>\n",
       "      <td>joann</td>\n",
       "      <td>Female</td>\n",
       "      <td>2010</td>\n",
       "      <td>2</td>\n",
       "    </tr>\n",
       "  </tbody>\n",
       "</table>\n",
       "<p>2 rows × 124 columns</p>\n",
       "</div>"
      ],
      "text/plain": [
       "       director_ids     director_names   movie_id  \\\n",
       "510492    nm3284014  Antoine Delesvaux  tt1355638   \n",
       "510493    nm2677924         Joann Sfar  tt1355638   \n",
       "\n",
       "                                  title  review_count_user  \\\n",
       "510492  Le chat du rabbin (2011) - IMDb                  5   \n",
       "510493  Le chat du rabbin (2011) - IMDb                  5   \n",
       "\n",
       "        review_count_critic metascore  rating_value  rating_count  \\\n",
       "510492                   30        74           7.2          2363   \n",
       "510493                   30        74           7.2          2363   \n",
       "\n",
       "                               release_date  ...  director_profession_primary  \\\n",
       "510492   1 June 2011 (France)    See more »  ...                            0   \n",
       "510493   1 June 2011 (France)    See more »  ...                            0   \n",
       "\n",
       "        director_profession_secondary  director_profession_tertiary  \\\n",
       "510492                              1                             0   \n",
       "510493                              1                             0   \n",
       "\n",
       "        director_known_titles_count  \\\n",
       "510492                            2   \n",
       "510493                            2   \n",
       "\n",
       "        director_known_titles_average_rating_value  clean_director_names  \\\n",
       "510492                                        6.90     antoine delesvaux   \n",
       "510493                                        7.05            joann sfar   \n",
       "\n",
       "        FirstName  Gender  CareerStartYear  Career_Year_Number  \n",
       "510492    antoine    Male             2011                   1  \n",
       "510493      joann  Female             2010                   2  \n",
       "\n",
       "[2 rows x 124 columns]"
      ]
     },
     "execution_count": 153,
     "metadata": {},
     "output_type": "execute_result"
    }
   ],
   "source": [
    "stage3FinalProcessedDF[stage3FinalProcessedDF['movie_id'] == 'tt1355638']"
   ]
  },
  {
   "cell_type": "markdown",
   "metadata": {},
   "source": [
    "#### Function to find the columns with most NaN or empty records"
   ]
  },
  {
   "cell_type": "code",
   "execution_count": 154,
   "metadata": {},
   "outputs": [],
   "source": [
    "def find_most_None_records_column(df,percent = 75):\n",
    "    NaNdf = pd.DataFrame()\n",
    "    NaNdf = df.isnull().sum().reset_index()\n",
    "    NaNdf.columns = ['column_name','empty_records']\n",
    "    return NaNdf[NaNdf['empty_records'] >= len(stage3FinalProcessedDF) * (percent * 0.01)]"
   ]
  },
  {
   "cell_type": "code",
   "execution_count": 155,
   "metadata": {},
   "outputs": [],
   "source": [
    "testAccuracyDF = stage3FinalProcessedDF.copy()\n",
    "# stage3FinalProcessedDF = test.copy()"
   ]
  },
  {
   "cell_type": "code",
   "execution_count": 156,
   "metadata": {},
   "outputs": [
    {
     "name": "stdout",
     "output_type": "stream",
     "text": [
      " Percentatge of US records: 37.84300397691213\n"
     ]
    }
   ],
   "source": [
    "# Number of USA records\n",
    "print(' Percentatge of US records:',(len(testAccuracyDF[testAccuracyDF['country_USA'] == 1]) / len(testAccuracyDF))*100)"
   ]
  },
  {
   "cell_type": "code",
   "execution_count": 157,
   "metadata": {},
   "outputs": [
    {
     "data": {
      "text/html": [
       "<div>\n",
       "<style scoped>\n",
       "    .dataframe tbody tr th:only-of-type {\n",
       "        vertical-align: middle;\n",
       "    }\n",
       "\n",
       "    .dataframe tbody tr th {\n",
       "        vertical-align: top;\n",
       "    }\n",
       "\n",
       "    .dataframe thead th {\n",
       "        text-align: right;\n",
       "    }\n",
       "</style>\n",
       "<table border=\"1\" class=\"dataframe\">\n",
       "  <thead>\n",
       "    <tr style=\"text-align: right;\">\n",
       "      <th></th>\n",
       "      <th>column_name</th>\n",
       "      <th>empty_records</th>\n",
       "    </tr>\n",
       "  </thead>\n",
       "  <tbody>\n",
       "    <tr>\n",
       "      <th>6</th>\n",
       "      <td>metascore</td>\n",
       "      <td>786139</td>\n",
       "    </tr>\n",
       "    <tr>\n",
       "      <th>12</th>\n",
       "      <td>opening_weekend_value</td>\n",
       "      <td>787467</td>\n",
       "    </tr>\n",
       "    <tr>\n",
       "      <th>22</th>\n",
       "      <td>gross_value</td>\n",
       "      <td>785221</td>\n",
       "    </tr>\n",
       "    <tr>\n",
       "      <th>24</th>\n",
       "      <td>budget_value</td>\n",
       "      <td>716667</td>\n",
       "    </tr>\n",
       "    <tr>\n",
       "      <th>113</th>\n",
       "      <td>deathYear</td>\n",
       "      <td>635631</td>\n",
       "    </tr>\n",
       "  </tbody>\n",
       "</table>\n",
       "</div>"
      ],
      "text/plain": [
       "               column_name  empty_records\n",
       "6                metascore         786139\n",
       "12   opening_weekend_value         787467\n",
       "22             gross_value         785221\n",
       "24            budget_value         716667\n",
       "113              deathYear         635631"
      ]
     },
     "execution_count": 157,
     "metadata": {},
     "output_type": "execute_result"
    }
   ],
   "source": [
    "find_most_None_records_column(stage3FinalProcessedDF)"
   ]
  },
  {
   "cell_type": "code",
   "execution_count": 158,
   "metadata": {},
   "outputs": [
    {
     "data": {
      "text/plain": [
       "['metascore',\n",
       " 'opening_weekend_value',\n",
       " 'gross_value',\n",
       " 'budget_value',\n",
       " 'deathYear']"
      ]
     },
     "execution_count": 158,
     "metadata": {},
     "output_type": "execute_result"
    }
   ],
   "source": [
    "drop_many_missing_columns = list(find_most_None_records_column(stage3FinalProcessedDF)['column_name'].values)\n",
    "drop_many_missing_columns"
   ]
  },
  {
   "cell_type": "code",
   "execution_count": 159,
   "metadata": {},
   "outputs": [
    {
     "name": "stdout",
     "output_type": "stream",
     "text": [
      "Records containing NaN in Death year column  :  635631\n",
      "Records containing NaN in metascore year column  :  786139\n"
     ]
    }
   ],
   "source": [
    "# Remove columns with a lot of empty records\n",
    "\n",
    "print('Records containing NaN in Death year column  : ',stage3FinalProcessedDF.deathYear.isnull().sum())\n",
    "print('Records containing NaN in metascore year column  : ',stage3FinalProcessedDF.metascore.isnull().sum())"
   ]
  },
  {
   "cell_type": "markdown",
   "metadata": {},
   "source": [
    "#### Drop the death Year"
   ]
  },
  {
   "cell_type": "code",
   "execution_count": 160,
   "metadata": {},
   "outputs": [
    {
     "name": "stdout",
     "output_type": "stream",
     "text": [
      "\n",
      " stage3FinalProcessedDF dataframe Shape before dropping columns:  (798861, 124)\n",
      "\n",
      " stage3FinalProcessedDF dataframe Shape After dropping columns:  (798861, 123)\n"
     ]
    }
   ],
   "source": [
    "# Drop columns that have NaN in death YEar\n",
    "\n",
    "print(\"\\n stage3FinalProcessedDF dataframe Shape before dropping columns: \",str(stage3FinalProcessedDF.shape))\n",
    "\n",
    "# Dropping only the death year\n",
    "stage3FinalProcessedDF = stage3FinalProcessedDF.drop(columns= ['deathYear'])\n",
    "\n",
    "print(\"\\n stage3FinalProcessedDF dataframe Shape After dropping columns: \",str(stage3FinalProcessedDF.shape))"
   ]
  },
  {
   "cell_type": "code",
   "execution_count": 161,
   "metadata": {},
   "outputs": [
    {
     "data": {
      "text/plain": [
       "['metascore', 'opening_weekend_value', 'gross_value', 'budget_value']"
      ]
     },
     "execution_count": 161,
     "metadata": {},
     "output_type": "execute_result"
    }
   ],
   "source": [
    "drop_many_missing_columns = list(find_most_None_records_column(stage3FinalProcessedDF)['column_name'].values)\n",
    "drop_many_missing_columns"
   ]
  },
  {
   "cell_type": "code",
   "execution_count": 162,
   "metadata": {},
   "outputs": [],
   "source": [
    "# opening_weekend_columns = [col for col in stage3FinalProcessedDF if col.startswith('open_wk_')]\n",
    "# opening_weekend_columns.append('opening_weekend_value')\n",
    "# opening_weekend_columns"
   ]
  },
  {
   "cell_type": "code",
   "execution_count": 163,
   "metadata": {},
   "outputs": [],
   "source": [
    "# budget_columns = [col for col in stage3FinalProcessedDF if col.startswith('budget')]\n",
    "# budget_columns"
   ]
  },
  {
   "cell_type": "code",
   "execution_count": 164,
   "metadata": {},
   "outputs": [],
   "source": [
    "# gross_columns = [col for col in stage3FinalProcessedDF if col.startswith('gross')]\n",
    "# gross_columns"
   ]
  },
  {
   "cell_type": "code",
   "execution_count": 165,
   "metadata": {},
   "outputs": [],
   "source": [
    "# money_related_columns = opening_weekend_columns + budget_columns + gross_columns\n",
    "# money_related_columns"
   ]
  },
  {
   "cell_type": "markdown",
   "metadata": {},
   "source": [
    "## Dropping Money based columns"
   ]
  },
  {
   "cell_type": "code",
   "execution_count": 166,
   "metadata": {},
   "outputs": [],
   "source": [
    "# print(\"\\n stage3FinalProcessedDF dataframe Shape before dropping columns: \",str(stage3FinalProcessedDF.shape))\n",
    "# stage3FinalProcessedDF = stage3FinalProcessedDF.drop(columns= money_related_columns )\n",
    "\n",
    "# print(\"\\n stage3FinalProcessedDF dataframe Shape After dropping columns: \",str(stage3FinalProcessedDF.shape))"
   ]
  },
  {
   "cell_type": "markdown",
   "metadata": {},
   "source": [
    "## Drop other columns that have majority (80 % ) missing NaN"
   ]
  },
  {
   "cell_type": "code",
   "execution_count": 167,
   "metadata": {},
   "outputs": [
    {
     "name": "stdout",
     "output_type": "stream",
     "text": [
      "\n",
      " stage3FinalProcessedDF dataframe Shape before dropping columns:  (798861, 123)\n",
      "\n",
      " stage3FinalProcessedDF dataframe Shape After dropping columns:  (798861, 123)\n"
     ]
    }
   ],
   "source": [
    "# Drop columns that have majority (80 % ) missing NaN\n",
    "print(\"\\n stage3FinalProcessedDF dataframe Shape before dropping columns: \",str(stage3FinalProcessedDF.shape))\n",
    "\n",
    "# drop_many_missing_columns.remove('metascore')\n",
    "# stage3FinalProcessedDF = stage3FinalProcessedDF.drop(columns= drop_many_missing_columns )\n",
    "\n",
    "\n",
    "print(\"\\n stage3FinalProcessedDF dataframe Shape After dropping columns: \",str(stage3FinalProcessedDF.shape))"
   ]
  },
  {
   "cell_type": "code",
   "execution_count": 168,
   "metadata": {
    "scrolled": true
   },
   "outputs": [
    {
     "data": {
      "text/plain": [
       "array(['director_ids', 'director_names', 'movie_id', 'title',\n",
       "       'review_count_user', 'review_count_critic', 'metascore',\n",
       "       'rating_value', 'rating_count', 'release_date', 'runtime',\n",
       "       'movie_year', 'opening_weekend_value', 'open_wk_cur_AUD',\n",
       "       'open_wk_cur_CAD', 'open_wk_cur_DEM', 'open_wk_cur_GBP',\n",
       "       'open_wk_cur_ITL', 'open_wk_cur_JPY', 'open_wk_cur_SEK',\n",
       "       'open_wk_cur_SGD', 'open_wk_cur_USD', 'gross_value',\n",
       "       'gross_cur_USD', 'budget_value', 'budget_cur_AUD',\n",
       "       'budget_cur_CAD', 'budget_cur_EUR', 'budget_cur_GBP',\n",
       "       'budget_cur_INR', 'budget_cur_USD', 'color_Black_and_White',\n",
       "       'color_Color', 'country_Argentina', 'country_Australia',\n",
       "       'country_Brazil', 'country_Canada', 'country_Denmark',\n",
       "       'country_Finland', 'country_France', 'country_Germany',\n",
       "       'country_Greece', 'country_Hong_Kong', 'country_India',\n",
       "       'country_Italy', 'country_Japan', 'country_Mexico',\n",
       "       'country_Netherlands', 'country_Other', 'country_Russia',\n",
       "       'country_Soviet_Union', 'country_Spain', 'country_Sweden',\n",
       "       'country_Turkey', 'country_UK', 'country_USA',\n",
       "       'country_West_Germany', 'language_Arabic', 'language_Dutch',\n",
       "       'language_English', 'language_French', 'language_German',\n",
       "       'language_Greek', 'language_Hindi', 'language_Italian',\n",
       "       'language_Japanese', 'language_Mandarin', 'language_Other',\n",
       "       'language_Portuguese', 'language_Russian', 'language_Spanish',\n",
       "       'language_Swedish', 'language_Turkish', 'genre_Action',\n",
       "       'genre_Adult', 'genre_Adventure', 'genre_Animation',\n",
       "       'genre_Biography', 'genre_Comedy', 'genre_Crime',\n",
       "       'genre_Documentary', 'genre_Drama', 'genre_Family',\n",
       "       'genre_Fantasy', 'genre_Film_Noir', 'genre_Game_Show',\n",
       "       'genre_History', 'genre_Horror', 'genre_Music', 'genre_Musical',\n",
       "       'genre_Mystery', 'genre_News', 'genre_None', 'genre_Reality_TV',\n",
       "       'genre_Romance', 'genre_Sci_Fi', 'genre_Short', 'genre_Sport',\n",
       "       'genre_Talk_Show', 'genre_Thriller', 'genre_War', 'genre_Western',\n",
       "       'title_category_TV', 'title_category_movie',\n",
       "       'title_category_video', 'title_subcategory_TV_episode',\n",
       "       'title_subcategory_TV_miniseries', 'title_subcategory_TV_movie',\n",
       "       'title_subcategory_TV_series', 'title_subcategory_TV_short',\n",
       "       'title_subcategory_movie', 'title_subcategory_video', 'birthYear',\n",
       "       'director_profession_primary', 'director_profession_secondary',\n",
       "       'director_profession_tertiary', 'director_known_titles_count',\n",
       "       'director_known_titles_average_rating_value',\n",
       "       'clean_director_names', 'FirstName', 'Gender', 'CareerStartYear',\n",
       "       'Career_Year_Number'], dtype=object)"
      ]
     },
     "execution_count": 168,
     "metadata": {},
     "output_type": "execute_result"
    }
   ],
   "source": [
    "stage3FinalProcessedDF.columns.values"
   ]
  },
  {
   "cell_type": "code",
   "execution_count": 169,
   "metadata": {},
   "outputs": [
    {
     "name": "stdout",
     "output_type": "stream",
     "text": [
      "<class 'pandas.core.frame.DataFrame'>\n",
      "Int64Index: 798861 entries, 0 to 798860\n",
      "Columns: 123 entries, director_ids to Career_Year_Number\n",
      "dtypes: float64(6), int64(107), object(10)\n",
      "memory usage: 755.8+ MB\n"
     ]
    }
   ],
   "source": [
    "stage3FinalProcessedDF.info()"
   ]
  },
  {
   "cell_type": "code",
   "execution_count": 170,
   "metadata": {},
   "outputs": [],
   "source": [
    "stage3FinalProcessedDFBeforeDrop =  stage3FinalProcessedDF.copy()"
   ]
  },
  {
   "cell_type": "code",
   "execution_count": 171,
   "metadata": {},
   "outputs": [],
   "source": [
    "save_to_file(stage3FinalProcessedDFBeforeDrop,saveFileToPath)"
   ]
  },
  {
   "cell_type": "code",
   "execution_count": 172,
   "metadata": {},
   "outputs": [],
   "source": [
    "# Dropping all rows containing NA\n",
    "stage3FinalProcessedDF.dropna(inplace=True)"
   ]
  },
  {
   "cell_type": "code",
   "execution_count": 173,
   "metadata": {},
   "outputs": [
    {
     "data": {
      "text/plain": [
       "(3708, 123)"
      ]
     },
     "execution_count": 173,
     "metadata": {},
     "output_type": "execute_result"
    }
   ],
   "source": [
    "stage3FinalProcessedDF.shape"
   ]
  },
  {
   "cell_type": "code",
   "execution_count": 174,
   "metadata": {},
   "outputs": [
    {
     "data": {
      "text/plain": [
       "Male      3199\n",
       "Female     509\n",
       "Name: Gender, dtype: int64"
      ]
     },
     "execution_count": 174,
     "metadata": {},
     "output_type": "execute_result"
    }
   ],
   "source": [
    "stage3FinalProcessedDF['Gender'].value_counts()"
   ]
  },
  {
   "cell_type": "markdown",
   "metadata": {},
   "source": [
    "Male      3092<br>\n",
    "Female     616<br>\n",
    "Name: Gender, dtype: int64"
   ]
  },
  {
   "cell_type": "code",
   "execution_count": 175,
   "metadata": {},
   "outputs": [
    {
     "data": {
      "text/plain": [
       "0.1372707659115426"
      ]
     },
     "execution_count": 175,
     "metadata": {},
     "output_type": "execute_result"
    }
   ],
   "source": [
    "stage3FinalProcessedDF['Gender'].value_counts()[1] / stage3FinalProcessedDF['Gender'].value_counts().sum()"
   ]
  },
  {
   "cell_type": "code",
   "execution_count": 176,
   "metadata": {},
   "outputs": [
    {
     "data": {
      "text/plain": [
       "<matplotlib.axes._subplots.AxesSubplot at 0x1cd255ea1d0>"
      ]
     },
     "execution_count": 176,
     "metadata": {},
     "output_type": "execute_result"
    },
    {
     "data": {
      "image/png": "[encoded data removed]",
      "text/plain": [
       "<Figure size 432x288 with 1 Axes>"
      ]
     },
     "metadata": {
      "needs_background": "light"
     },
     "output_type": "display_data"
    }
   ],
   "source": [
    "stage3FinalProcessedDF['Gender'].value_counts().sort_values().plot(kind = 'bar')"
   ]
  },
  {
   "cell_type": "code",
   "execution_count": 177,
   "metadata": {},
   "outputs": [],
   "source": [
    "save_to_file(stage3FinalProcessedDF,saveFileToPath)"
   ]
  },
  {
   "cell_type": "markdown",
   "metadata": {},
   "source": [
    "# End"
   ]
  },
  {
   "cell_type": "markdown",
   "metadata": {},
   "source": [
    "# Testing Accuracy of trained model on SSA Data"
   ]
  },
  {
   "cell_type": "code",
   "execution_count": 178,
   "metadata": {},
   "outputs": [],
   "source": [
    "# Load SSA\n",
    "SSADatabaseLocation = 'SSAData.csv'\n"
   ]
  },
  {
   "cell_type": "code",
   "execution_count": 179,
   "metadata": {},
   "outputs": [
    {
     "data": {
      "text/html": [
       "<div>\n",
       "<style scoped>\n",
       "    .dataframe tbody tr th:only-of-type {\n",
       "        vertical-align: middle;\n",
       "    }\n",
       "\n",
       "    .dataframe tbody tr th {\n",
       "        vertical-align: top;\n",
       "    }\n",
       "\n",
       "    .dataframe thead th {\n",
       "        text-align: right;\n",
       "    }\n",
       "</style>\n",
       "<table border=\"1\" class=\"dataframe\">\n",
       "  <thead>\n",
       "    <tr style=\"text-align: right;\">\n",
       "      <th></th>\n",
       "      <th>FirstName</th>\n",
       "      <th>Gender</th>\n",
       "    </tr>\n",
       "  </thead>\n",
       "  <tbody>\n",
       "    <tr>\n",
       "      <th>0</th>\n",
       "      <td>Emma</td>\n",
       "      <td>Female</td>\n",
       "    </tr>\n",
       "    <tr>\n",
       "      <th>1</th>\n",
       "      <td>Olivia</td>\n",
       "      <td>Female</td>\n",
       "    </tr>\n",
       "    <tr>\n",
       "      <th>2</th>\n",
       "      <td>Ava</td>\n",
       "      <td>Female</td>\n",
       "    </tr>\n",
       "    <tr>\n",
       "      <th>3</th>\n",
       "      <td>Isabella</td>\n",
       "      <td>Female</td>\n",
       "    </tr>\n",
       "    <tr>\n",
       "      <th>4</th>\n",
       "      <td>Sophia</td>\n",
       "      <td>Female</td>\n",
       "    </tr>\n",
       "  </tbody>\n",
       "</table>\n",
       "</div>"
      ],
      "text/plain": [
       "  FirstName  Gender\n",
       "0      Emma  Female\n",
       "1    Olivia  Female\n",
       "2       Ava  Female\n",
       "3  Isabella  Female\n",
       "4    Sophia  Female"
      ]
     },
     "execution_count": 179,
     "metadata": {},
     "output_type": "execute_result"
    }
   ],
   "source": [
    "genderSSA = pd.read_csv(SSADatabaseLocation)\n",
    "\n",
    "# Remove duplicate entries from SSA dataset\n",
    "genderSSA = genderSSA.drop_duplicates(subset='FirstName')\n",
    "\n",
    "genderSSA.head()"
   ]
  },
  {
   "cell_type": "code",
   "execution_count": 180,
   "metadata": {},
   "outputs": [],
   "source": [
    "#nameGenderGuardianDF.loc[nameGenderGuardianDF['Gender'].isna(),'Gender'] = nameGenderGuardianDF['director_names'].apply(genderpredictor1)\n",
    "\n",
    "genderSSA['PredictedGender'] = genderSSA.FirstName.apply(genderpredictor_decision_tree)"
   ]
  },
  {
   "cell_type": "markdown",
   "metadata": {},
   "source": [
    "### Performance Metrics"
   ]
  },
  {
   "cell_type": "code",
   "execution_count": 181,
   "metadata": {},
   "outputs": [],
   "source": [
    "labelSSAClass = ['Male','Female']"
   ]
  },
  {
   "cell_type": "code",
   "execution_count": 182,
   "metadata": {},
   "outputs": [],
   "source": [
    "genderSSA['Correct'] = np.where((genderSSA['Gender'] == genderSSA['PredictedGender']),1,0)\n",
    "\n",
    "# df['que'] = np.where((df['one'] >= df['two']) & (df['one'] <= df['three']) , df['one'], np.nan)"
   ]
  },
  {
   "cell_type": "code",
   "execution_count": 183,
   "metadata": {},
   "outputs": [
    {
     "name": "stdout",
     "output_type": "stream",
     "text": [
      "Accuracy of the model on SSA Data is : 89.4 %\n"
     ]
    }
   ],
   "source": [
    "AccuracyModelOnSSAData = genderSSA.Correct.value_counts()[1]/genderSSA.Correct.count()\n",
    "print(\"Accuracy of the model on SSA Data is :\",round((AccuracyModelOnSSAData*100),2),\"%\")"
   ]
  },
  {
   "cell_type": "code",
   "execution_count": 184,
   "metadata": {},
   "outputs": [],
   "source": [
    "SSA_cnf_matrix = confusion_matrix(genderSSA['Gender'], genderSSA['PredictedGender'] , labels= labelSSAClass )"
   ]
  },
  {
   "cell_type": "code",
   "execution_count": 185,
   "metadata": {},
   "outputs": [
    {
     "name": "stdout",
     "output_type": "stream",
     "text": [
      "Confusion matrix, without normalization\n",
      "[[10634   831]\n",
      " [ 2294 15732]]\n"
     ]
    },
    {
     "data": {
      "image/png": "[encoded data removed]",
      "text/plain": [
       "<Figure size 432x288 with 2 Axes>"
      ]
     },
     "metadata": {
      "needs_background": "light"
     },
     "output_type": "display_data"
    }
   ],
   "source": [
    "plot_confusion_matrix(SSA_cnf_matrix, classes= labelSSAClass,\n",
    "                  title='Confusion matrix, without normalization')"
   ]
  },
  {
   "cell_type": "code",
   "execution_count": 186,
   "metadata": {},
   "outputs": [
    {
     "name": "stdout",
     "output_type": "stream",
     "text": [
      "\n",
      "Classification Report\n",
      "\n",
      "              precision    recall  f1-score   support\n",
      "\n",
      "        Male       0.82      0.93      0.87     11465\n",
      "      Female       0.95      0.87      0.91     18026\n",
      "\n",
      "    accuracy                           0.89     29491\n",
      "   macro avg       0.89      0.90      0.89     29491\n",
      "weighted avg       0.90      0.89      0.89     29491\n",
      "\n"
     ]
    }
   ],
   "source": [
    "print(\"\\nClassification Report\\n\")\n",
    "print(classification_report(genderSSA['Gender'], genderSSA['PredictedGender'], labels = labelSSAClass ))"
   ]
  },
  {
   "cell_type": "markdown",
   "metadata": {},
   "source": [
    "## Testing Accuracy on Ground Truth  - Golden Sample data"
   ]
  },
  {
   "cell_type": "markdown",
   "metadata": {},
   "source": [
    "### Prepare ground truth data for manual Analysis"
   ]
  },
  {
   "cell_type": "code",
   "execution_count": 187,
   "metadata": {},
   "outputs": [],
   "source": [
    "manualGroundTruth = stage3FinalProcessedDF.copy()"
   ]
  },
  {
   "cell_type": "code",
   "execution_count": 188,
   "metadata": {
    "scrolled": true
   },
   "outputs": [
    {
     "name": "stdout",
     "output_type": "stream",
     "text": [
      "Dataframe Shape before dropping :  (3708, 123)\n",
      "Dataframe Shape after dropping :  (1651, 123)\n"
     ]
    },
    {
     "data": {
      "text/html": [
       "<div>\n",
       "<style scoped>\n",
       "    .dataframe tbody tr th:only-of-type {\n",
       "        vertical-align: middle;\n",
       "    }\n",
       "\n",
       "    .dataframe tbody tr th {\n",
       "        vertical-align: top;\n",
       "    }\n",
       "\n",
       "    .dataframe thead th {\n",
       "        text-align: right;\n",
       "    }\n",
       "</style>\n",
       "<table border=\"1\" class=\"dataframe\">\n",
       "  <thead>\n",
       "    <tr style=\"text-align: right;\">\n",
       "      <th></th>\n",
       "      <th>director_ids</th>\n",
       "      <th>director_names</th>\n",
       "      <th>movie_id</th>\n",
       "      <th>title</th>\n",
       "      <th>review_count_user</th>\n",
       "      <th>review_count_critic</th>\n",
       "      <th>metascore</th>\n",
       "      <th>rating_value</th>\n",
       "      <th>rating_count</th>\n",
       "      <th>release_date</th>\n",
       "      <th>...</th>\n",
       "      <th>director_profession_primary</th>\n",
       "      <th>director_profession_secondary</th>\n",
       "      <th>director_profession_tertiary</th>\n",
       "      <th>director_known_titles_count</th>\n",
       "      <th>director_known_titles_average_rating_value</th>\n",
       "      <th>clean_director_names</th>\n",
       "      <th>FirstName</th>\n",
       "      <th>Gender</th>\n",
       "      <th>CareerStartYear</th>\n",
       "      <th>Career_Year_Number</th>\n",
       "    </tr>\n",
       "  </thead>\n",
       "  <tbody>\n",
       "    <tr>\n",
       "      <th>3931</th>\n",
       "      <td>nm0000485</td>\n",
       "      <td>Fritz Lang</td>\n",
       "      <td>tt0017136</td>\n",
       "      <td>Metropolis (1927) - IMDb</td>\n",
       "      <td>418</td>\n",
       "      <td>263</td>\n",
       "      <td>98</td>\n",
       "      <td>8.3</td>\n",
       "      <td>114917</td>\n",
       "      <td>5 March 1927 (Denmark)    See more »</td>\n",
       "      <td>...</td>\n",
       "      <td>1</td>\n",
       "      <td>0</td>\n",
       "      <td>0</td>\n",
       "      <td>8</td>\n",
       "      <td>7.93</td>\n",
       "      <td>fritz lang</td>\n",
       "      <td>fritz</td>\n",
       "      <td>Male</td>\n",
       "      <td>1919</td>\n",
       "      <td>9</td>\n",
       "    </tr>\n",
       "    <tr>\n",
       "      <th>10671</th>\n",
       "      <td>nm0000122</td>\n",
       "      <td>Charles Chaplin</td>\n",
       "      <td>tt0027977</td>\n",
       "      <td>Les temps modernes (1936) - IMDb</td>\n",
       "      <td>213</td>\n",
       "      <td>119</td>\n",
       "      <td>96</td>\n",
       "      <td>8.6</td>\n",
       "      <td>147990</td>\n",
       "      <td>24 September 1936 (France)    See more »</td>\n",
       "      <td>...</td>\n",
       "      <td>0</td>\n",
       "      <td>0</td>\n",
       "      <td>0</td>\n",
       "      <td>4</td>\n",
       "      <td>8.30</td>\n",
       "      <td>charles chaplin</td>\n",
       "      <td>charles</td>\n",
       "      <td>Male</td>\n",
       "      <td>1914</td>\n",
       "      <td>23</td>\n",
       "    </tr>\n",
       "    <tr>\n",
       "      <th>13973</th>\n",
       "      <td>nm0281808</td>\n",
       "      <td>Victor Fleming</td>\n",
       "      <td>tt0032138</td>\n",
       "      <td>Óz, a csodák csodája (1939) - IMDb</td>\n",
       "      <td>540</td>\n",
       "      <td>213</td>\n",
       "      <td>100</td>\n",
       "      <td>8.1</td>\n",
       "      <td>299644</td>\n",
       "      <td>21 March 1940 (Hungary)    See more »</td>\n",
       "      <td>...</td>\n",
       "      <td>1</td>\n",
       "      <td>0</td>\n",
       "      <td>0</td>\n",
       "      <td>4</td>\n",
       "      <td>7.55</td>\n",
       "      <td>victor fleming</td>\n",
       "      <td>victor</td>\n",
       "      <td>Male</td>\n",
       "      <td>1919</td>\n",
       "      <td>21</td>\n",
       "    </tr>\n",
       "    <tr>\n",
       "      <th>13974</th>\n",
       "      <td>nm0002030</td>\n",
       "      <td>George Cukor</td>\n",
       "      <td>tt0032138</td>\n",
       "      <td>Óz, a csodák csodája (1939) - IMDb</td>\n",
       "      <td>540</td>\n",
       "      <td>213</td>\n",
       "      <td>100</td>\n",
       "      <td>8.1</td>\n",
       "      <td>299644</td>\n",
       "      <td>21 March 1940 (Hungary)    See more »</td>\n",
       "      <td>...</td>\n",
       "      <td>1</td>\n",
       "      <td>0</td>\n",
       "      <td>0</td>\n",
       "      <td>4</td>\n",
       "      <td>7.60</td>\n",
       "      <td>george cukor</td>\n",
       "      <td>george</td>\n",
       "      <td>Male</td>\n",
       "      <td>1930</td>\n",
       "      <td>10</td>\n",
       "    </tr>\n",
       "    <tr>\n",
       "      <th>16680</th>\n",
       "      <td>nm0003506</td>\n",
       "      <td>James Mangold</td>\n",
       "      <td>tt0035423</td>\n",
       "      <td>Kate &amp; Leopold (2001) - IMDb</td>\n",
       "      <td>317</td>\n",
       "      <td>124</td>\n",
       "      <td>44</td>\n",
       "      <td>6.4</td>\n",
       "      <td>65765</td>\n",
       "      <td>25 December 2001 (USA)    See more »</td>\n",
       "      <td>...</td>\n",
       "      <td>0</td>\n",
       "      <td>1</td>\n",
       "      <td>0</td>\n",
       "      <td>4</td>\n",
       "      <td>7.45</td>\n",
       "      <td>james mangold</td>\n",
       "      <td>james</td>\n",
       "      <td>Female</td>\n",
       "      <td>1995</td>\n",
       "      <td>7</td>\n",
       "    </tr>\n",
       "  </tbody>\n",
       "</table>\n",
       "<p>5 rows × 123 columns</p>\n",
       "</div>"
      ],
      "text/plain": [
       "      director_ids   director_names   movie_id  \\\n",
       "3931     nm0000485       Fritz Lang  tt0017136   \n",
       "10671    nm0000122  Charles Chaplin  tt0027977   \n",
       "13973    nm0281808   Victor Fleming  tt0032138   \n",
       "13974    nm0002030     George Cukor  tt0032138   \n",
       "16680    nm0003506    James Mangold  tt0035423   \n",
       "\n",
       "                                    title  review_count_user  \\\n",
       "3931             Metropolis (1927) - IMDb                418   \n",
       "10671    Les temps modernes (1936) - IMDb                213   \n",
       "13973  Óz, a csodák csodája (1939) - IMDb                540   \n",
       "13974  Óz, a csodák csodája (1939) - IMDb                540   \n",
       "16680        Kate & Leopold (2001) - IMDb                317   \n",
       "\n",
       "       review_count_critic metascore  rating_value  rating_count  \\\n",
       "3931                   263        98           8.3        114917   \n",
       "10671                  119        96           8.6        147990   \n",
       "13973                  213       100           8.1        299644   \n",
       "13974                  213       100           8.1        299644   \n",
       "16680                  124        44           6.4         65765   \n",
       "\n",
       "                                    release_date  ...  \\\n",
       "3931        5 March 1927 (Denmark)    See more »  ...   \n",
       "10671   24 September 1936 (France)    See more »  ...   \n",
       "13973      21 March 1940 (Hungary)    See more »  ...   \n",
       "13974      21 March 1940 (Hungary)    See more »  ...   \n",
       "16680       25 December 2001 (USA)    See more »  ...   \n",
       "\n",
       "       director_profession_primary  director_profession_secondary  \\\n",
       "3931                             1                              0   \n",
       "10671                            0                              0   \n",
       "13973                            1                              0   \n",
       "13974                            1                              0   \n",
       "16680                            0                              1   \n",
       "\n",
       "       director_profession_tertiary  director_known_titles_count  \\\n",
       "3931                              0                            8   \n",
       "10671                             0                            4   \n",
       "13973                             0                            4   \n",
       "13974                             0                            4   \n",
       "16680                             0                            4   \n",
       "\n",
       "       director_known_titles_average_rating_value  clean_director_names  \\\n",
       "3931                                         7.93            fritz lang   \n",
       "10671                                        8.30       charles chaplin   \n",
       "13973                                        7.55        victor fleming   \n",
       "13974                                        7.60          george cukor   \n",
       "16680                                        7.45         james mangold   \n",
       "\n",
       "       FirstName  Gender  CareerStartYear  Career_Year_Number  \n",
       "3931       fritz    Male             1919                   9  \n",
       "10671    charles    Male             1914                  23  \n",
       "13973     victor    Male             1919                  21  \n",
       "13974     george    Male             1930                  10  \n",
       "16680      james  Female             1995                   7  \n",
       "\n",
       "[5 rows x 123 columns]"
      ]
     },
     "execution_count": 188,
     "metadata": {},
     "output_type": "execute_result"
    }
   ],
   "source": [
    "print(\"Dataframe Shape before dropping : \",str(manualGroundTruth.shape))\n",
    "manualGroundTruth.drop_duplicates(subset='director_ids',inplace = True)\n",
    "print(\"Dataframe Shape after dropping : \",str(manualGroundTruth.shape))\n",
    "manualGroundTruth.head()"
   ]
  },
  {
   "cell_type": "code",
   "execution_count": 189,
   "metadata": {},
   "outputs": [],
   "source": [
    "manualGroundTruth = manualGroundTruth.reset_index(drop=True)"
   ]
  },
  {
   "cell_type": "code",
   "execution_count": 190,
   "metadata": {},
   "outputs": [],
   "source": [
    "goldenSampleGroundTruth = manualGroundTruth.sample(n = 1000 , replace = False , random_state = 42)"
   ]
  },
  {
   "cell_type": "code",
   "execution_count": 191,
   "metadata": {},
   "outputs": [],
   "source": [
    "goldenSampleGroundTruth = goldenSampleGroundTruth.filter(['director_ids', 'director_names','birthYear','deathYear','Gender'])"
   ]
  },
  {
   "cell_type": "code",
   "execution_count": 192,
   "metadata": {
    "scrolled": true
   },
   "outputs": [
    {
     "name": "stdout",
     "output_type": "stream",
     "text": [
      "Dataframe Shape :  (1000, 4)\n"
     ]
    },
    {
     "data": {
      "text/html": [
       "<div>\n",
       "<style scoped>\n",
       "    .dataframe tbody tr th:only-of-type {\n",
       "        vertical-align: middle;\n",
       "    }\n",
       "\n",
       "    .dataframe tbody tr th {\n",
       "        vertical-align: top;\n",
       "    }\n",
       "\n",
       "    .dataframe thead th {\n",
       "        text-align: right;\n",
       "    }\n",
       "</style>\n",
       "<table border=\"1\" class=\"dataframe\">\n",
       "  <thead>\n",
       "    <tr style=\"text-align: right;\">\n",
       "      <th></th>\n",
       "      <th>director_ids</th>\n",
       "      <th>director_names</th>\n",
       "      <th>birthYear</th>\n",
       "      <th>Gender</th>\n",
       "    </tr>\n",
       "  </thead>\n",
       "  <tbody>\n",
       "    <tr>\n",
       "      <th>482</th>\n",
       "      <td>nm0125336</td>\n",
       "      <td>Jez Butterworth</td>\n",
       "      <td>1969</td>\n",
       "      <td>Male</td>\n",
       "    </tr>\n",
       "    <tr>\n",
       "      <th>65</th>\n",
       "      <td>nm0001469</td>\n",
       "      <td>Barry Levinson</td>\n",
       "      <td>1942</td>\n",
       "      <td>Male</td>\n",
       "    </tr>\n",
       "    <tr>\n",
       "      <th>926</th>\n",
       "      <td>nm0856124</td>\n",
       "      <td>Eddy Terstall</td>\n",
       "      <td>1964</td>\n",
       "      <td>Female</td>\n",
       "    </tr>\n",
       "    <tr>\n",
       "      <th>481</th>\n",
       "      <td>nm0752328</td>\n",
       "      <td>Stefan Ruzowitzky</td>\n",
       "      <td>1961</td>\n",
       "      <td>Male</td>\n",
       "    </tr>\n",
       "    <tr>\n",
       "      <th>23</th>\n",
       "      <td>nm0000416</td>\n",
       "      <td>Terry Gilliam</td>\n",
       "      <td>1940</td>\n",
       "      <td>Male</td>\n",
       "    </tr>\n",
       "  </tbody>\n",
       "</table>\n",
       "</div>"
      ],
      "text/plain": [
       "    director_ids     director_names birthYear  Gender\n",
       "482    nm0125336    Jez Butterworth      1969    Male\n",
       "65     nm0001469     Barry Levinson      1942    Male\n",
       "926    nm0856124      Eddy Terstall      1964  Female\n",
       "481    nm0752328  Stefan Ruzowitzky      1961    Male\n",
       "23     nm0000416      Terry Gilliam      1940    Male"
      ]
     },
     "execution_count": 192,
     "metadata": {},
     "output_type": "execute_result"
    }
   ],
   "source": [
    "print(\"Dataframe Shape : \",str(goldenSampleGroundTruth.shape))\n",
    "goldenSampleGroundTruth.head()"
   ]
  },
  {
   "cell_type": "code",
   "execution_count": 193,
   "metadata": {},
   "outputs": [],
   "source": [
    "# save_to_file(goldenSampleGroundTruth,saveFileToPath)"
   ]
  },
  {
   "cell_type": "markdown",
   "metadata": {},
   "source": [
    "## Testing Accuracy"
   ]
  },
  {
   "cell_type": "code",
   "execution_count": 194,
   "metadata": {},
   "outputs": [],
   "source": [
    "goldenSampleDF = pd.read_csv('golden_sample.csv')"
   ]
  },
  {
   "cell_type": "code",
   "execution_count": 195,
   "metadata": {},
   "outputs": [
    {
     "data": {
      "text/plain": [
       "(201, 6)"
      ]
     },
     "execution_count": 195,
     "metadata": {},
     "output_type": "execute_result"
    }
   ],
   "source": [
    "goldenSampleDF.shape"
   ]
  },
  {
   "cell_type": "code",
   "execution_count": 196,
   "metadata": {},
   "outputs": [],
   "source": [
    "goldenSampleDF['predicted_gender'] = goldenSampleDF['director_ids'] "
   ]
  },
  {
   "cell_type": "code",
   "execution_count": 197,
   "metadata": {},
   "outputs": [],
   "source": [
    "goldenSampleDF['predicted_gender'] = goldenSampleDF['predicted_gender'].str.lower()\n",
    "goldenSampleDF['true_gender'] = goldenSampleDF['true_gender'].str.lower()"
   ]
  },
  {
   "cell_type": "code",
   "execution_count": 198,
   "metadata": {},
   "outputs": [
    {
     "data": {
      "text/html": [
       "<div>\n",
       "<style scoped>\n",
       "    .dataframe tbody tr th:only-of-type {\n",
       "        vertical-align: middle;\n",
       "    }\n",
       "\n",
       "    .dataframe tbody tr th {\n",
       "        vertical-align: top;\n",
       "    }\n",
       "\n",
       "    .dataframe thead th {\n",
       "        text-align: right;\n",
       "    }\n",
       "</style>\n",
       "<table border=\"1\" class=\"dataframe\">\n",
       "  <thead>\n",
       "    <tr style=\"text-align: right;\">\n",
       "      <th></th>\n",
       "      <th>director_ids</th>\n",
       "      <th>director_names</th>\n",
       "      <th>birthYear</th>\n",
       "      <th>deathYear</th>\n",
       "      <th>predicted_gender</th>\n",
       "      <th>true_gender</th>\n",
       "    </tr>\n",
       "  </thead>\n",
       "  <tbody>\n",
       "    <tr>\n",
       "      <th>0</th>\n",
       "      <td>nm0040872</td>\n",
       "      <td>Jimmy Atmaja</td>\n",
       "      <td>\\N</td>\n",
       "      <td>\\N</td>\n",
       "      <td>nm0040872</td>\n",
       "      <td>male</td>\n",
       "    </tr>\n",
       "    <tr>\n",
       "      <th>1</th>\n",
       "      <td>nm4172408</td>\n",
       "      <td>Ege Heckmann</td>\n",
       "      <td>\\N</td>\n",
       "      <td>\\N</td>\n",
       "      <td>nm4172408</td>\n",
       "      <td>male</td>\n",
       "    </tr>\n",
       "    <tr>\n",
       "      <th>2</th>\n",
       "      <td>nm0268327</td>\n",
       "      <td>Scott Farrell</td>\n",
       "      <td>\\N</td>\n",
       "      <td>\\N</td>\n",
       "      <td>nm0268327</td>\n",
       "      <td>male</td>\n",
       "    </tr>\n",
       "    <tr>\n",
       "      <th>3</th>\n",
       "      <td>nm2905618</td>\n",
       "      <td>Attila</td>\n",
       "      <td>1986</td>\n",
       "      <td>\\N</td>\n",
       "      <td>nm2905618</td>\n",
       "      <td>male</td>\n",
       "    </tr>\n",
       "    <tr>\n",
       "      <th>4</th>\n",
       "      <td>nm6225087</td>\n",
       "      <td>Todd Darling</td>\n",
       "      <td>NaN</td>\n",
       "      <td>NaN</td>\n",
       "      <td>nm6225087</td>\n",
       "      <td>male</td>\n",
       "    </tr>\n",
       "  </tbody>\n",
       "</table>\n",
       "</div>"
      ],
      "text/plain": [
       "  director_ids director_names birthYear deathYear predicted_gender true_gender\n",
       "0    nm0040872   Jimmy Atmaja        \\N        \\N        nm0040872        male\n",
       "1    nm4172408   Ege Heckmann        \\N        \\N        nm4172408        male\n",
       "2    nm0268327  Scott Farrell        \\N        \\N        nm0268327        male\n",
       "3    nm2905618         Attila      1986        \\N        nm2905618        male\n",
       "4    nm6225087   Todd Darling       NaN       NaN        nm6225087        male"
      ]
     },
     "execution_count": 198,
     "metadata": {},
     "output_type": "execute_result"
    }
   ],
   "source": [
    "goldenSampleDF.head()"
   ]
  },
  {
   "cell_type": "code",
   "execution_count": 199,
   "metadata": {},
   "outputs": [
    {
     "data": {
      "text/plain": [
       "201"
      ]
     },
     "execution_count": 199,
     "metadata": {},
     "output_type": "execute_result"
    }
   ],
   "source": [
    "goldenSampleDirectorsList = goldenSampleDF['director_ids'].tolist()\n",
    "len(goldenSampleDirectorsList)"
   ]
  },
  {
   "cell_type": "code",
   "execution_count": 200,
   "metadata": {},
   "outputs": [
    {
     "data": {
      "text/html": [
       "<div>\n",
       "<style scoped>\n",
       "    .dataframe tbody tr th:only-of-type {\n",
       "        vertical-align: middle;\n",
       "    }\n",
       "\n",
       "    .dataframe tbody tr th {\n",
       "        vertical-align: top;\n",
       "    }\n",
       "\n",
       "    .dataframe thead th {\n",
       "        text-align: right;\n",
       "    }\n",
       "</style>\n",
       "<table border=\"1\" class=\"dataframe\">\n",
       "  <thead>\n",
       "    <tr style=\"text-align: right;\">\n",
       "      <th></th>\n",
       "      <th>director_ids</th>\n",
       "      <th>Gender</th>\n",
       "    </tr>\n",
       "  </thead>\n",
       "  <tbody>\n",
       "    <tr>\n",
       "      <th>11162</th>\n",
       "      <td>nm0724543</td>\n",
       "      <td>Female</td>\n",
       "    </tr>\n",
       "    <tr>\n",
       "      <th>24350</th>\n",
       "      <td>nm0848580</td>\n",
       "      <td>Male</td>\n",
       "    </tr>\n",
       "    <tr>\n",
       "      <th>25681</th>\n",
       "      <td>nm0460033</td>\n",
       "      <td>Male</td>\n",
       "    </tr>\n",
       "    <tr>\n",
       "      <th>28907</th>\n",
       "      <td>nm0795354</td>\n",
       "      <td>Male</td>\n",
       "    </tr>\n",
       "    <tr>\n",
       "      <th>32750</th>\n",
       "      <td>nm0070492</td>\n",
       "      <td>Male</td>\n",
       "    </tr>\n",
       "  </tbody>\n",
       "</table>\n",
       "</div>"
      ],
      "text/plain": [
       "      director_ids  Gender\n",
       "11162    nm0724543  Female\n",
       "24350    nm0848580    Male\n",
       "25681    nm0460033    Male\n",
       "28907    nm0795354    Male\n",
       "32750    nm0070492    Male"
      ]
     },
     "execution_count": 200,
     "metadata": {},
     "output_type": "execute_result"
    }
   ],
   "source": [
    "# Extract the director_ids and their records from the original dataset where we classsified Gender\n",
    "updatedGender_GoldenDirectorsDF = testAccuracyDF.loc[testAccuracyDF['director_ids'].isin(goldenSampleDirectorsList)].drop_duplicates(subset =\"director_ids\",keep = 'first')\n",
    "updatedGender_GoldenDirectorsDF[['director_ids','Gender']].head(5)"
   ]
  },
  {
   "cell_type": "code",
   "execution_count": 201,
   "metadata": {},
   "outputs": [
    {
     "data": {
      "text/plain": [
       "['nm0724543', 'nm0848580', 'nm0460033', 'nm0795354', 'nm0070492']"
      ]
     },
     "execution_count": 201,
     "metadata": {},
     "output_type": "execute_result"
    }
   ],
   "source": [
    "# Prepare a dictionary containing the true gender of each director\n",
    "\n",
    "dict_predicted_gender_for_director = updatedGender_GoldenDirectorsDF[['director_ids','Gender']]\\\n",
    "                                                    .set_index('director_ids')['Gender']\\\n",
    "                                                    .str.lower()\\\n",
    "                                                    .to_dict()\n",
    "list(dict_predicted_gender_for_director)[:5]"
   ]
  },
  {
   "cell_type": "code",
   "execution_count": 202,
   "metadata": {},
   "outputs": [],
   "source": [
    "# dfGenderlessData['Gender'] = dfGenderlessData['Gender'].transform(lambda x: dict_unique_gender[x] if x in dict_unique_gender else None )"
   ]
  },
  {
   "cell_type": "code",
   "execution_count": 203,
   "metadata": {},
   "outputs": [],
   "source": [
    "goldenSampleDF['predicted_gender'] = goldenSampleDF['predicted_gender'].transform(lambda x: dict_predicted_gender_for_director[x] \n",
    "                                                                        if x in dict_predicted_gender_for_director else None )"
   ]
  },
  {
   "cell_type": "code",
   "execution_count": 204,
   "metadata": {},
   "outputs": [
    {
     "data": {
      "text/html": [
       "<div>\n",
       "<style scoped>\n",
       "    .dataframe tbody tr th:only-of-type {\n",
       "        vertical-align: middle;\n",
       "    }\n",
       "\n",
       "    .dataframe tbody tr th {\n",
       "        vertical-align: top;\n",
       "    }\n",
       "\n",
       "    .dataframe thead th {\n",
       "        text-align: right;\n",
       "    }\n",
       "</style>\n",
       "<table border=\"1\" class=\"dataframe\">\n",
       "  <thead>\n",
       "    <tr style=\"text-align: right;\">\n",
       "      <th></th>\n",
       "      <th>director_ids</th>\n",
       "      <th>director_names</th>\n",
       "      <th>birthYear</th>\n",
       "      <th>deathYear</th>\n",
       "      <th>predicted_gender</th>\n",
       "      <th>true_gender</th>\n",
       "    </tr>\n",
       "  </thead>\n",
       "  <tbody>\n",
       "    <tr>\n",
       "      <th>0</th>\n",
       "      <td>nm0040872</td>\n",
       "      <td>Jimmy Atmaja</td>\n",
       "      <td>\\N</td>\n",
       "      <td>\\N</td>\n",
       "      <td>male</td>\n",
       "      <td>male</td>\n",
       "    </tr>\n",
       "    <tr>\n",
       "      <th>1</th>\n",
       "      <td>nm4172408</td>\n",
       "      <td>Ege Heckmann</td>\n",
       "      <td>\\N</td>\n",
       "      <td>\\N</td>\n",
       "      <td>male</td>\n",
       "      <td>male</td>\n",
       "    </tr>\n",
       "    <tr>\n",
       "      <th>2</th>\n",
       "      <td>nm0268327</td>\n",
       "      <td>Scott Farrell</td>\n",
       "      <td>\\N</td>\n",
       "      <td>\\N</td>\n",
       "      <td>male</td>\n",
       "      <td>male</td>\n",
       "    </tr>\n",
       "    <tr>\n",
       "      <th>3</th>\n",
       "      <td>nm2905618</td>\n",
       "      <td>Attila</td>\n",
       "      <td>1986</td>\n",
       "      <td>\\N</td>\n",
       "      <td>female</td>\n",
       "      <td>male</td>\n",
       "    </tr>\n",
       "    <tr>\n",
       "      <th>4</th>\n",
       "      <td>nm6225087</td>\n",
       "      <td>Todd Darling</td>\n",
       "      <td>NaN</td>\n",
       "      <td>NaN</td>\n",
       "      <td>male</td>\n",
       "      <td>male</td>\n",
       "    </tr>\n",
       "  </tbody>\n",
       "</table>\n",
       "</div>"
      ],
      "text/plain": [
       "  director_ids director_names birthYear deathYear predicted_gender true_gender\n",
       "0    nm0040872   Jimmy Atmaja        \\N        \\N             male        male\n",
       "1    nm4172408   Ege Heckmann        \\N        \\N             male        male\n",
       "2    nm0268327  Scott Farrell        \\N        \\N             male        male\n",
       "3    nm2905618         Attila      1986        \\N           female        male\n",
       "4    nm6225087   Todd Darling       NaN       NaN             male        male"
      ]
     },
     "execution_count": 204,
     "metadata": {},
     "output_type": "execute_result"
    }
   ],
   "source": [
    "goldenSampleDF.head()"
   ]
  },
  {
   "cell_type": "markdown",
   "metadata": {},
   "source": [
    "### Performance Metrics"
   ]
  },
  {
   "cell_type": "code",
   "execution_count": 205,
   "metadata": {},
   "outputs": [],
   "source": [
    "labelGoldenClass = ['male','female']"
   ]
  },
  {
   "cell_type": "code",
   "execution_count": 206,
   "metadata": {},
   "outputs": [
    {
     "data": {
      "text/html": [
       "<div>\n",
       "<style scoped>\n",
       "    .dataframe tbody tr th:only-of-type {\n",
       "        vertical-align: middle;\n",
       "    }\n",
       "\n",
       "    .dataframe tbody tr th {\n",
       "        vertical-align: top;\n",
       "    }\n",
       "\n",
       "    .dataframe thead th {\n",
       "        text-align: right;\n",
       "    }\n",
       "</style>\n",
       "<table border=\"1\" class=\"dataframe\">\n",
       "  <thead>\n",
       "    <tr style=\"text-align: right;\">\n",
       "      <th></th>\n",
       "      <th>director_ids</th>\n",
       "      <th>director_names</th>\n",
       "      <th>birthYear</th>\n",
       "      <th>deathYear</th>\n",
       "      <th>predicted_gender</th>\n",
       "      <th>true_gender</th>\n",
       "      <th>Correct</th>\n",
       "    </tr>\n",
       "  </thead>\n",
       "  <tbody>\n",
       "    <tr>\n",
       "      <th>0</th>\n",
       "      <td>nm0040872</td>\n",
       "      <td>Jimmy Atmaja</td>\n",
       "      <td>\\N</td>\n",
       "      <td>\\N</td>\n",
       "      <td>male</td>\n",
       "      <td>male</td>\n",
       "      <td>1</td>\n",
       "    </tr>\n",
       "    <tr>\n",
       "      <th>1</th>\n",
       "      <td>nm4172408</td>\n",
       "      <td>Ege Heckmann</td>\n",
       "      <td>\\N</td>\n",
       "      <td>\\N</td>\n",
       "      <td>male</td>\n",
       "      <td>male</td>\n",
       "      <td>1</td>\n",
       "    </tr>\n",
       "    <tr>\n",
       "      <th>2</th>\n",
       "      <td>nm0268327</td>\n",
       "      <td>Scott Farrell</td>\n",
       "      <td>\\N</td>\n",
       "      <td>\\N</td>\n",
       "      <td>male</td>\n",
       "      <td>male</td>\n",
       "      <td>1</td>\n",
       "    </tr>\n",
       "    <tr>\n",
       "      <th>3</th>\n",
       "      <td>nm2905618</td>\n",
       "      <td>Attila</td>\n",
       "      <td>1986</td>\n",
       "      <td>\\N</td>\n",
       "      <td>female</td>\n",
       "      <td>male</td>\n",
       "      <td>0</td>\n",
       "    </tr>\n",
       "    <tr>\n",
       "      <th>4</th>\n",
       "      <td>nm6225087</td>\n",
       "      <td>Todd Darling</td>\n",
       "      <td>NaN</td>\n",
       "      <td>NaN</td>\n",
       "      <td>male</td>\n",
       "      <td>male</td>\n",
       "      <td>1</td>\n",
       "    </tr>\n",
       "  </tbody>\n",
       "</table>\n",
       "</div>"
      ],
      "text/plain": [
       "  director_ids director_names birthYear deathYear predicted_gender  \\\n",
       "0    nm0040872   Jimmy Atmaja        \\N        \\N             male   \n",
       "1    nm4172408   Ege Heckmann        \\N        \\N             male   \n",
       "2    nm0268327  Scott Farrell        \\N        \\N             male   \n",
       "3    nm2905618         Attila      1986        \\N           female   \n",
       "4    nm6225087   Todd Darling       NaN       NaN             male   \n",
       "\n",
       "  true_gender  Correct  \n",
       "0        male        1  \n",
       "1        male        1  \n",
       "2        male        1  \n",
       "3        male        0  \n",
       "4        male        1  "
      ]
     },
     "execution_count": 206,
     "metadata": {},
     "output_type": "execute_result"
    }
   ],
   "source": [
    "goldenSampleDF['Correct'] = np.where((goldenSampleDF['predicted_gender'] == goldenSampleDF['true_gender']),1,0)\n",
    "goldenSampleDF.head()\n",
    "# df['que'] = np.where((df['one'] >= df['two']) & (df['one'] <= df['three']) , df['one'], np.nan)"
   ]
  },
  {
   "cell_type": "code",
   "execution_count": 207,
   "metadata": {},
   "outputs": [
    {
     "name": "stdout",
     "output_type": "stream",
     "text": [
      "Accuracy compared with the model on Golden sample Data is : 91.04 %\n"
     ]
    }
   ],
   "source": [
    "AccuracyModelOnGoldenSampleData = goldenSampleDF['Correct'].value_counts()[1] / goldenSampleDF['Correct'].count()\n",
    "print(\"Accuracy compared with the model on Golden sample Data is :\",round((AccuracyModelOnGoldenSampleData*100),2),\"%\")"
   ]
  },
  {
   "cell_type": "code",
   "execution_count": 208,
   "metadata": {},
   "outputs": [],
   "source": [
    "golden_sample_cnf_matrix = confusion_matrix(goldenSampleDF['true_gender'], goldenSampleDF['predicted_gender'] , labels= labelGoldenClass )"
   ]
  },
  {
   "cell_type": "code",
   "execution_count": 209,
   "metadata": {},
   "outputs": [
    {
     "name": "stdout",
     "output_type": "stream",
     "text": [
      "Confusion matrix, without normalization\n",
      "[[156  14]\n",
      " [  4  27]]\n"
     ]
    },
    {
     "data": {
      "image/png": "[encoded data removed]",
      "text/plain": [
       "<Figure size 432x288 with 2 Axes>"
      ]
     },
     "metadata": {
      "needs_background": "light"
     },
     "output_type": "display_data"
    }
   ],
   "source": [
    "plot_confusion_matrix(golden_sample_cnf_matrix, classes= labelGoldenClass,\n",
    "                  title='Confusion matrix, without normalization')"
   ]
  },
  {
   "cell_type": "code",
   "execution_count": 210,
   "metadata": {},
   "outputs": [
    {
     "name": "stdout",
     "output_type": "stream",
     "text": [
      "\n",
      "Classification Report\n",
      "\n",
      "              precision    recall  f1-score   support\n",
      "\n",
      "        male       0.97      0.92      0.95       170\n",
      "      female       0.66      0.87      0.75        31\n",
      "\n",
      "    accuracy                           0.91       201\n",
      "   macro avg       0.82      0.89      0.85       201\n",
      "weighted avg       0.93      0.91      0.92       201\n",
      "\n"
     ]
    }
   ],
   "source": [
    "print(\"\\nClassification Report\\n\")\n",
    "print(classification_report(goldenSampleDF['true_gender'], goldenSampleDF['predicted_gender'], labels = labelGoldenClass ))"
   ]
  },
  {
   "cell_type": "markdown",
   "metadata": {},
   "source": [
    "# 3. Testing and comparing ML predicted gender with Genderize"
   ]
  },
  {
   "cell_type": "code",
   "execution_count": 211,
   "metadata": {},
   "outputs": [],
   "source": [
    "from genderize import Genderize\n",
    "import unicodedata"
   ]
  },
  {
   "cell_type": "code",
   "execution_count": 212,
   "metadata": {},
   "outputs": [],
   "source": [
    "testGenderizeDF = stage3FinalProcessedDF.copy()"
   ]
  },
  {
   "cell_type": "code",
   "execution_count": 213,
   "metadata": {},
   "outputs": [
    {
     "data": {
      "text/html": [
       "<div>\n",
       "<style scoped>\n",
       "    .dataframe tbody tr th:only-of-type {\n",
       "        vertical-align: middle;\n",
       "    }\n",
       "\n",
       "    .dataframe tbody tr th {\n",
       "        vertical-align: top;\n",
       "    }\n",
       "\n",
       "    .dataframe thead th {\n",
       "        text-align: right;\n",
       "    }\n",
       "</style>\n",
       "<table border=\"1\" class=\"dataframe\">\n",
       "  <thead>\n",
       "    <tr style=\"text-align: right;\">\n",
       "      <th></th>\n",
       "      <th>director_ids</th>\n",
       "      <th>director_names</th>\n",
       "      <th>movie_id</th>\n",
       "      <th>title</th>\n",
       "      <th>review_count_user</th>\n",
       "      <th>review_count_critic</th>\n",
       "      <th>metascore</th>\n",
       "      <th>rating_value</th>\n",
       "      <th>rating_count</th>\n",
       "      <th>release_date</th>\n",
       "      <th>...</th>\n",
       "      <th>director_profession_primary</th>\n",
       "      <th>director_profession_secondary</th>\n",
       "      <th>director_profession_tertiary</th>\n",
       "      <th>director_known_titles_count</th>\n",
       "      <th>director_known_titles_average_rating_value</th>\n",
       "      <th>clean_director_names</th>\n",
       "      <th>FirstName</th>\n",
       "      <th>Gender</th>\n",
       "      <th>CareerStartYear</th>\n",
       "      <th>Career_Year_Number</th>\n",
       "    </tr>\n",
       "  </thead>\n",
       "  <tbody>\n",
       "    <tr>\n",
       "      <th>3931</th>\n",
       "      <td>nm0000485</td>\n",
       "      <td>Fritz Lang</td>\n",
       "      <td>tt0017136</td>\n",
       "      <td>Metropolis (1927) - IMDb</td>\n",
       "      <td>418</td>\n",
       "      <td>263</td>\n",
       "      <td>98</td>\n",
       "      <td>8.3</td>\n",
       "      <td>114917</td>\n",
       "      <td>5 March 1927 (Denmark)    See more »</td>\n",
       "      <td>...</td>\n",
       "      <td>1</td>\n",
       "      <td>0</td>\n",
       "      <td>0</td>\n",
       "      <td>8</td>\n",
       "      <td>7.93</td>\n",
       "      <td>fritz lang</td>\n",
       "      <td>fritz</td>\n",
       "      <td>Male</td>\n",
       "      <td>1919</td>\n",
       "      <td>9</td>\n",
       "    </tr>\n",
       "    <tr>\n",
       "      <th>10671</th>\n",
       "      <td>nm0000122</td>\n",
       "      <td>Charles Chaplin</td>\n",
       "      <td>tt0027977</td>\n",
       "      <td>Les temps modernes (1936) - IMDb</td>\n",
       "      <td>213</td>\n",
       "      <td>119</td>\n",
       "      <td>96</td>\n",
       "      <td>8.6</td>\n",
       "      <td>147990</td>\n",
       "      <td>24 September 1936 (France)    See more »</td>\n",
       "      <td>...</td>\n",
       "      <td>0</td>\n",
       "      <td>0</td>\n",
       "      <td>0</td>\n",
       "      <td>4</td>\n",
       "      <td>8.30</td>\n",
       "      <td>charles chaplin</td>\n",
       "      <td>charles</td>\n",
       "      <td>Male</td>\n",
       "      <td>1914</td>\n",
       "      <td>23</td>\n",
       "    </tr>\n",
       "  </tbody>\n",
       "</table>\n",
       "<p>2 rows × 123 columns</p>\n",
       "</div>"
      ],
      "text/plain": [
       "      director_ids   director_names   movie_id  \\\n",
       "3931     nm0000485       Fritz Lang  tt0017136   \n",
       "10671    nm0000122  Charles Chaplin  tt0027977   \n",
       "\n",
       "                                  title  review_count_user  \\\n",
       "3931           Metropolis (1927) - IMDb                418   \n",
       "10671  Les temps modernes (1936) - IMDb                213   \n",
       "\n",
       "       review_count_critic metascore  rating_value  rating_count  \\\n",
       "3931                   263        98           8.3        114917   \n",
       "10671                  119        96           8.6        147990   \n",
       "\n",
       "                                    release_date  ...  \\\n",
       "3931        5 March 1927 (Denmark)    See more »  ...   \n",
       "10671   24 September 1936 (France)    See more »  ...   \n",
       "\n",
       "       director_profession_primary  director_profession_secondary  \\\n",
       "3931                             1                              0   \n",
       "10671                            0                              0   \n",
       "\n",
       "       director_profession_tertiary  director_known_titles_count  \\\n",
       "3931                              0                            8   \n",
       "10671                             0                            4   \n",
       "\n",
       "       director_known_titles_average_rating_value  clean_director_names  \\\n",
       "3931                                         7.93            fritz lang   \n",
       "10671                                        8.30       charles chaplin   \n",
       "\n",
       "       FirstName  Gender  CareerStartYear  Career_Year_Number  \n",
       "3931       fritz    Male             1919                   9  \n",
       "10671    charles    Male             1914                  23  \n",
       "\n",
       "[2 rows x 123 columns]"
      ]
     },
     "execution_count": 213,
     "metadata": {},
     "output_type": "execute_result"
    }
   ],
   "source": [
    "testGenderizeDF.head(2)"
   ]
  },
  {
   "cell_type": "code",
   "execution_count": 214,
   "metadata": {},
   "outputs": [
    {
     "name": "stdout",
     "output_type": "stream",
     "text": [
      "Length :  796\n"
     ]
    },
    {
     "data": {
      "text/plain": [
       "['aaron', 'abbas', 'abdellatif', 'abderrahmane', 'abrams']"
      ]
     },
     "execution_count": 214,
     "metadata": {},
     "output_type": "execute_result"
    }
   ],
   "source": [
    "unique_director_names = testGenderizeDF['FirstName'].sort_values().unique().tolist()\n",
    "print('Length : ',len(unique_director_names))\n",
    "unique_director_names[:5]"
   ]
  },
  {
   "cell_type": "code",
   "execution_count": 215,
   "metadata": {},
   "outputs": [],
   "source": [
    "gender_tuple_data = Genderize().get(unique_director_names)"
   ]
  },
  {
   "cell_type": "code",
   "execution_count": 216,
   "metadata": {},
   "outputs": [],
   "source": [
    "genderizedAPIdf = pd.DataFrame(gender_tuple_data, columns =['name', 'gender', 'probability','count'])"
   ]
  },
  {
   "cell_type": "code",
   "execution_count": 217,
   "metadata": {},
   "outputs": [],
   "source": [
    "genderizedAPIdf = genderizedAPIdf.rename(columns = {'name': 'FirstName','gender':'APIPredictGender'})"
   ]
  },
  {
   "cell_type": "code",
   "execution_count": 218,
   "metadata": {},
   "outputs": [
    {
     "data": {
      "text/html": [
       "<div>\n",
       "<style scoped>\n",
       "    .dataframe tbody tr th:only-of-type {\n",
       "        vertical-align: middle;\n",
       "    }\n",
       "\n",
       "    .dataframe tbody tr th {\n",
       "        vertical-align: top;\n",
       "    }\n",
       "\n",
       "    .dataframe thead th {\n",
       "        text-align: right;\n",
       "    }\n",
       "</style>\n",
       "<table border=\"1\" class=\"dataframe\">\n",
       "  <thead>\n",
       "    <tr style=\"text-align: right;\">\n",
       "      <th></th>\n",
       "      <th>FirstName</th>\n",
       "      <th>APIPredictGender</th>\n",
       "      <th>probability</th>\n",
       "      <th>count</th>\n",
       "    </tr>\n",
       "  </thead>\n",
       "  <tbody>\n",
       "    <tr>\n",
       "      <th>0</th>\n",
       "      <td>aaron</td>\n",
       "      <td>male</td>\n",
       "      <td>0.99</td>\n",
       "      <td>24633</td>\n",
       "    </tr>\n",
       "    <tr>\n",
       "      <th>1</th>\n",
       "      <td>abbas</td>\n",
       "      <td>male</td>\n",
       "      <td>0.97</td>\n",
       "      <td>6690</td>\n",
       "    </tr>\n",
       "  </tbody>\n",
       "</table>\n",
       "</div>"
      ],
      "text/plain": [
       "  FirstName APIPredictGender  probability  count\n",
       "0     aaron             male         0.99  24633\n",
       "1     abbas             male         0.97   6690"
      ]
     },
     "execution_count": 218,
     "metadata": {},
     "output_type": "execute_result"
    }
   ],
   "source": [
    "genderizedAPIdf.head(2)"
   ]
  },
  {
   "cell_type": "code",
   "execution_count": 219,
   "metadata": {},
   "outputs": [],
   "source": [
    "genderizedAPIdf.to_csv('Gender_Ready_Api_FirstName.csv')"
   ]
  },
  {
   "cell_type": "markdown",
   "metadata": {},
   "source": [
    "### Names existing with dashes were not recoginized by the Genderize API and returned NaN. We fix it by filling NA values based on distribution of existing values."
   ]
  },
  {
   "cell_type": "markdown",
   "metadata": {},
   "source": [
    "Reference : https://stackoverflow.com/questions/44867219/pandas-filling-na-values-to-be-filled-based-on-distribution-of-existing-values"
   ]
  },
  {
   "cell_type": "code",
   "execution_count": 220,
   "metadata": {},
   "outputs": [
    {
     "data": {
      "text/plain": [
       "male      632\n",
       "female    149\n",
       "NaN        15\n",
       "Name: APIPredictGender, dtype: int64"
      ]
     },
     "execution_count": 220,
     "metadata": {},
     "output_type": "execute_result"
    }
   ],
   "source": [
    "genderizedAPIdf['APIPredictGender'].value_counts( dropna= False)"
   ]
  },
  {
   "cell_type": "code",
   "execution_count": 221,
   "metadata": {},
   "outputs": [
    {
     "data": {
      "text/plain": [
       "male      0.809219\n",
       "female    0.190781\n",
       "Name: APIPredictGender, dtype: float64"
      ]
     },
     "execution_count": 221,
     "metadata": {},
     "output_type": "execute_result"
    }
   ],
   "source": [
    "normalizeRatioClass = genderizedAPIdf['APIPredictGender'].value_counts(normalize=True)\n",
    "normalizeRatioClass"
   ]
  },
  {
   "cell_type": "code",
   "execution_count": 222,
   "metadata": {},
   "outputs": [
    {
     "data": {
      "text/plain": [
       "15"
      ]
     },
     "execution_count": 222,
     "metadata": {},
     "output_type": "execute_result"
    }
   ],
   "source": [
    "missingGenderizedAPI = genderizedAPIdf['APIPredictGender'].isnull()\n",
    "missingGenderizedAPI.sum()"
   ]
  },
  {
   "cell_type": "markdown",
   "metadata": {},
   "source": [
    "### Fill the Nan or null values with normalized proportion of the class."
   ]
  },
  {
   "cell_type": "code",
   "execution_count": 223,
   "metadata": {},
   "outputs": [],
   "source": [
    "# Fill the Nan or null values with normalized proportion of the class.\n",
    "genderizedAPIdf.loc[missingGenderizedAPI,'APIPredictGender'] = np.random.choice(normalizeRatioClass.index, size=len(genderizedAPIdf[missingGenderizedAPI]),p=normalizeRatioClass.values)"
   ]
  },
  {
   "cell_type": "code",
   "execution_count": 224,
   "metadata": {},
   "outputs": [
    {
     "data": {
      "text/plain": [
       "male      645\n",
       "female    151\n",
       "Name: APIPredictGender, dtype: int64"
      ]
     },
     "execution_count": 224,
     "metadata": {},
     "output_type": "execute_result"
    }
   ],
   "source": [
    "genderizedAPIdf['APIPredictGender'].value_counts( dropna= False)"
   ]
  },
  {
   "cell_type": "code",
   "execution_count": 225,
   "metadata": {},
   "outputs": [
    {
     "name": "stdout",
     "output_type": "stream",
     "text": [
      "\n",
      " Movie dataframe Shape Before merge with Genderized API data :  (3708, 123)\n",
      "\n",
      " Movie dataframe Shape after merge with Genderized API data :  (3708, 126)\n"
     ]
    }
   ],
   "source": [
    "# Merge awards with movie_names data\n",
    "print(\"\\n Movie dataframe Shape Before merge with Genderized API data : \",str(testGenderizeDF.shape))\n",
    "testGenderizeDF = testGenderizeDF.merge(genderizedAPIdf, on='FirstName', how ='left')\n",
    "print(\"\\n Movie dataframe Shape after merge with Genderized API data : \",str(testGenderizeDF.shape))"
   ]
  },
  {
   "cell_type": "code",
   "execution_count": 226,
   "metadata": {},
   "outputs": [],
   "source": [
    "testGenderizeDF['Gender'] = testGenderizeDF['Gender'].str.lower()\n",
    "testGenderizeDF['APIPredictGender'] = testGenderizeDF['APIPredictGender'].str.lower()"
   ]
  },
  {
   "cell_type": "code",
   "execution_count": 227,
   "metadata": {},
   "outputs": [],
   "source": [
    "testGenderizeDF['Correct'] = np.where((testGenderizeDF['Gender'] == testGenderizeDF['APIPredictGender']),1,0)"
   ]
  },
  {
   "cell_type": "code",
   "execution_count": 228,
   "metadata": {
    "scrolled": true
   },
   "outputs": [
    {
     "name": "stdout",
     "output_type": "stream",
     "text": [
      "Accuracy of the model between ML and Genderize API prediction : 91.24 %\n"
     ]
    }
   ],
   "source": [
    "Accuracy_between_ML_and_API = testGenderizeDF['Correct'].value_counts()[1]/testGenderizeDF['Correct'].count()\n",
    "print(\"Accuracy of the model between ML and Genderize API prediction :\",round((Accuracy_between_ML_and_API*100),2),\"%\")"
   ]
  },
  {
   "cell_type": "markdown",
   "metadata": {},
   "source": [
    "Before cleaning the data : Accuracy of the model between ML and Genderize API prediction : 88.03 %"
   ]
  },
  {
   "cell_type": "code",
   "execution_count": 229,
   "metadata": {},
   "outputs": [],
   "source": [
    "labelGenderizeClass = ['male','female']"
   ]
  },
  {
   "cell_type": "code",
   "execution_count": 230,
   "metadata": {},
   "outputs": [],
   "source": [
    "genderize_sample_cnf_matrix = confusion_matrix(testGenderizeDF['APIPredictGender'], testGenderizeDF['Gender'] , labels= labelGenderizeClass )"
   ]
  },
  {
   "cell_type": "code",
   "execution_count": 231,
   "metadata": {},
   "outputs": [
    {
     "name": "stdout",
     "output_type": "stream",
     "text": [
      "Confusion matrix, without normalization\n",
      "[[3142  268]\n",
      " [  57  241]]\n"
     ]
    },
    {
     "data": {
      "image/png": "[encoded data removed]",
      "text/plain": [
       "<Figure size 432x288 with 2 Axes>"
      ]
     },
     "metadata": {
      "needs_background": "light"
     },
     "output_type": "display_data"
    }
   ],
   "source": [
    "plot_confusion_matrix(genderize_sample_cnf_matrix, classes= labelGenderizeClass,\n",
    "                  title='Confusion matrix, without normalization')"
   ]
  },
  {
   "cell_type": "code",
   "execution_count": 232,
   "metadata": {
    "scrolled": true
   },
   "outputs": [
    {
     "name": "stdout",
     "output_type": "stream",
     "text": [
      "\n",
      "Classification Report\n",
      "\n",
      "              precision    recall  f1-score   support\n",
      "\n",
      "        male       0.98      0.92      0.95      3410\n",
      "      female       0.47      0.81      0.60       298\n",
      "\n",
      "    accuracy                           0.91      3708\n",
      "   macro avg       0.73      0.87      0.77      3708\n",
      "weighted avg       0.94      0.91      0.92      3708\n",
      "\n"
     ]
    }
   ],
   "source": [
    "print(\"\\nClassification Report\\n\")\n",
    "print(classification_report(testGenderizeDF['APIPredictGender'], testGenderizeDF['Gender'], labels = labelGenderizeClass ))"
   ]
  },
  {
   "cell_type": "markdown",
   "metadata": {},
   "source": [
    "# Accuracy test END"
   ]
  }
 ],
 "metadata": {
  "kernelspec": {
   "display_name": "Python 3",
   "language": "python",
   "name": "python3"
  },
  "language_info": {
   "codemirror_mode": {
    "name": "ipython",
    "version": 3
   },
   "file_extension": ".py",
   "mimetype": "text/x-python",
   "name": "python",
   "nbconvert_exporter": "python",
   "pygments_lexer": "ipython3",
   "version": "3.7.3"
  }
 },
 "nbformat": 4,
 "nbformat_minor": 2
}
