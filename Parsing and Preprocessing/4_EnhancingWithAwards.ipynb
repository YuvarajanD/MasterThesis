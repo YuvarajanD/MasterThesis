{
 "cells": [
  {
   "cell_type": "code",
   "execution_count": 169,
   "metadata": {},
   "outputs": [],
   "source": [
    "import pandas as pd\n",
    "import numpy as np\n",
    "import re\n",
    "import string\n",
    "import time\n",
    "from datetime import datetime\n",
    "from datetime import date\n",
    "import os\n",
    "\n",
    "#Plotting\n",
    "%matplotlib inline\n",
    "import matplotlib as mpl\n",
    "import matplotlib.pyplot as plt\n",
    "import seaborn as sns\n",
    "\n",
    "# ML Libraries\n",
    "from sklearn import svm"
   ]
  },
  {
   "cell_type": "code",
   "execution_count": 170,
   "metadata": {},
   "outputs": [],
   "source": [
    "# fileLocation = 'C:\\\\Users\\\\VictorY\\\\Desktop\\\\TestData\\\\stage3FinalProcessedDF_Nov-17-2019.csv'\n",
    "# fileLocation = 'C:\\\\Users\\\\yuvar\\\\Desktop\\\\Jupyter\\\\Learning\\\\Movies - academy-awards\\\\database.csv'\n",
    "# saveFileToPath = 'C:\\\\Users\\\\yuvar\\\\Desktop\\\\Jupyter\\\\Learning\\\\Movies - academy-awards\\\\'\n",
    "\n",
    "data = pd.read_csv('Awards_database.csv')"
   ]
  },
  {
   "cell_type": "code",
   "execution_count": 171,
   "metadata": {},
   "outputs": [],
   "source": [
    "data = data.dropna(subset=['Film'])"
   ]
  },
  {
   "cell_type": "code",
   "execution_count": 172,
   "metadata": {},
   "outputs": [],
   "source": [
    "data = data[data.Award.isin(['Actor','Actor in a Leading Role','Actor in a Supporting Role',\n",
    "                            'Actress','Actress in a Leading Role','Actress in a Supporting Role',\n",
    "                            'Directing (Comedy Picture)', 'Directing (Dramatic Picture)',\n",
    "                            'Assistant Director','Directing'])]"
   ]
  },
  {
   "cell_type": "code",
   "execution_count": 173,
   "metadata": {},
   "outputs": [
    {
     "name": "stdout",
     "output_type": "stream",
     "text": [
      "<class 'pandas.core.frame.DataFrame'>\n",
      "Int64Index: 2119 entries, 0 to 9879\n",
      "Data columns (total 6 columns):\n",
      " #   Column    Non-Null Count  Dtype  \n",
      "---  ------    --------------  -----  \n",
      " 0   Year      2119 non-null   object \n",
      " 1   Ceremony  2119 non-null   int64  \n",
      " 2   Award     2119 non-null   object \n",
      " 3   Winner    433 non-null    float64\n",
      " 4   Name      2119 non-null   object \n",
      " 5   Film      2119 non-null   object \n",
      "dtypes: float64(1), int64(1), object(4)\n",
      "memory usage: 115.9+ KB\n"
     ]
    }
   ],
   "source": [
    "data.info()"
   ]
  },
  {
   "cell_type": "code",
   "execution_count": 174,
   "metadata": {},
   "outputs": [
    {
     "data": {
      "text/html": [
       "<div>\n",
       "<style scoped>\n",
       "    .dataframe tbody tr th:only-of-type {\n",
       "        vertical-align: middle;\n",
       "    }\n",
       "\n",
       "    .dataframe tbody tr th {\n",
       "        vertical-align: top;\n",
       "    }\n",
       "\n",
       "    .dataframe thead th {\n",
       "        text-align: right;\n",
       "    }\n",
       "</style>\n",
       "<table border=\"1\" class=\"dataframe\">\n",
       "  <thead>\n",
       "    <tr style=\"text-align: right;\">\n",
       "      <th></th>\n",
       "      <th>Year</th>\n",
       "      <th>Ceremony</th>\n",
       "      <th>Award</th>\n",
       "      <th>Winner</th>\n",
       "      <th>Name</th>\n",
       "      <th>Film</th>\n",
       "    </tr>\n",
       "  </thead>\n",
       "  <tbody>\n",
       "    <tr>\n",
       "      <th>0</th>\n",
       "      <td>1927/1928</td>\n",
       "      <td>1</td>\n",
       "      <td>Actor</td>\n",
       "      <td>NaN</td>\n",
       "      <td>Richard Barthelmess</td>\n",
       "      <td>The Noose</td>\n",
       "    </tr>\n",
       "    <tr>\n",
       "      <th>1</th>\n",
       "      <td>1927/1928</td>\n",
       "      <td>1</td>\n",
       "      <td>Actor</td>\n",
       "      <td>1.0</td>\n",
       "      <td>Emil Jannings</td>\n",
       "      <td>The Last Command</td>\n",
       "    </tr>\n",
       "    <tr>\n",
       "      <th>2</th>\n",
       "      <td>1927/1928</td>\n",
       "      <td>1</td>\n",
       "      <td>Actress</td>\n",
       "      <td>NaN</td>\n",
       "      <td>Louise Dresser</td>\n",
       "      <td>A Ship Comes In</td>\n",
       "    </tr>\n",
       "    <tr>\n",
       "      <th>3</th>\n",
       "      <td>1927/1928</td>\n",
       "      <td>1</td>\n",
       "      <td>Actress</td>\n",
       "      <td>1.0</td>\n",
       "      <td>Janet Gaynor</td>\n",
       "      <td>7th Heaven</td>\n",
       "    </tr>\n",
       "    <tr>\n",
       "      <th>4</th>\n",
       "      <td>1927/1928</td>\n",
       "      <td>1</td>\n",
       "      <td>Actress</td>\n",
       "      <td>NaN</td>\n",
       "      <td>Gloria Swanson</td>\n",
       "      <td>Sadie Thompson</td>\n",
       "    </tr>\n",
       "  </tbody>\n",
       "</table>\n",
       "</div>"
      ],
      "text/plain": [
       "        Year  Ceremony    Award  Winner                 Name              Film\n",
       "0  1927/1928         1    Actor     NaN  Richard Barthelmess         The Noose\n",
       "1  1927/1928         1    Actor     1.0        Emil Jannings  The Last Command\n",
       "2  1927/1928         1  Actress     NaN       Louise Dresser   A Ship Comes In\n",
       "3  1927/1928         1  Actress     1.0         Janet Gaynor        7th Heaven\n",
       "4  1927/1928         1  Actress     NaN       Gloria Swanson    Sadie Thompson"
      ]
     },
     "execution_count": 174,
     "metadata": {},
     "output_type": "execute_result"
    }
   ],
   "source": [
    "data.head()"
   ]
  },
  {
   "cell_type": "code",
   "execution_count": 175,
   "metadata": {},
   "outputs": [
    {
     "data": {
      "text/html": [
       "<div>\n",
       "<style scoped>\n",
       "    .dataframe tbody tr th:only-of-type {\n",
       "        vertical-align: middle;\n",
       "    }\n",
       "\n",
       "    .dataframe tbody tr th {\n",
       "        vertical-align: top;\n",
       "    }\n",
       "\n",
       "    .dataframe thead th {\n",
       "        text-align: right;\n",
       "    }\n",
       "</style>\n",
       "<table border=\"1\" class=\"dataframe\">\n",
       "  <thead>\n",
       "    <tr style=\"text-align: right;\">\n",
       "      <th></th>\n",
       "      <th>Year</th>\n",
       "      <th>Ceremony</th>\n",
       "      <th>Award</th>\n",
       "      <th>Winner</th>\n",
       "      <th>Name</th>\n",
       "      <th>Film</th>\n",
       "    </tr>\n",
       "  </thead>\n",
       "  <tbody>\n",
       "    <tr>\n",
       "      <th>0</th>\n",
       "      <td>1927/1928</td>\n",
       "      <td>1</td>\n",
       "      <td>Actor</td>\n",
       "      <td>NaN</td>\n",
       "      <td>Richard Barthelmess</td>\n",
       "      <td>The Noose</td>\n",
       "    </tr>\n",
       "    <tr>\n",
       "      <th>1</th>\n",
       "      <td>1927/1928</td>\n",
       "      <td>1</td>\n",
       "      <td>Actor</td>\n",
       "      <td>Actor</td>\n",
       "      <td>Emil Jannings</td>\n",
       "      <td>The Last Command</td>\n",
       "    </tr>\n",
       "    <tr>\n",
       "      <th>2</th>\n",
       "      <td>1927/1928</td>\n",
       "      <td>1</td>\n",
       "      <td>Actress</td>\n",
       "      <td>NaN</td>\n",
       "      <td>Louise Dresser</td>\n",
       "      <td>A Ship Comes In</td>\n",
       "    </tr>\n",
       "    <tr>\n",
       "      <th>3</th>\n",
       "      <td>1927/1928</td>\n",
       "      <td>1</td>\n",
       "      <td>Actress</td>\n",
       "      <td>Actress</td>\n",
       "      <td>Janet Gaynor</td>\n",
       "      <td>7th Heaven</td>\n",
       "    </tr>\n",
       "    <tr>\n",
       "      <th>4</th>\n",
       "      <td>1927/1928</td>\n",
       "      <td>1</td>\n",
       "      <td>Actress</td>\n",
       "      <td>NaN</td>\n",
       "      <td>Gloria Swanson</td>\n",
       "      <td>Sadie Thompson</td>\n",
       "    </tr>\n",
       "  </tbody>\n",
       "</table>\n",
       "</div>"
      ],
      "text/plain": [
       "        Year  Ceremony    Award   Winner                 Name  \\\n",
       "0  1927/1928         1    Actor      NaN  Richard Barthelmess   \n",
       "1  1927/1928         1    Actor    Actor        Emil Jannings   \n",
       "2  1927/1928         1  Actress      NaN       Louise Dresser   \n",
       "3  1927/1928         1  Actress  Actress         Janet Gaynor   \n",
       "4  1927/1928         1  Actress      NaN       Gloria Swanson   \n",
       "\n",
       "               Film  \n",
       "0         The Noose  \n",
       "1  The Last Command  \n",
       "2   A Ship Comes In  \n",
       "3        7th Heaven  \n",
       "4    Sadie Thompson  "
      ]
     },
     "execution_count": 175,
     "metadata": {},
     "output_type": "execute_result"
    }
   ],
   "source": [
    "# Replace all the numerical values in order to one-hot encode\n",
    "data.loc[~data.Winner.isna(),'Winner'] = data.Award\n",
    "data.head()"
   ]
  },
  {
   "cell_type": "code",
   "execution_count": 176,
   "metadata": {},
   "outputs": [
    {
     "data": {
      "text/html": [
       "<div>\n",
       "<style scoped>\n",
       "    .dataframe tbody tr th:only-of-type {\n",
       "        vertical-align: middle;\n",
       "    }\n",
       "\n",
       "    .dataframe tbody tr th {\n",
       "        vertical-align: top;\n",
       "    }\n",
       "\n",
       "    .dataframe thead th {\n",
       "        text-align: right;\n",
       "    }\n",
       "</style>\n",
       "<table border=\"1\" class=\"dataframe\">\n",
       "  <thead>\n",
       "    <tr style=\"text-align: right;\">\n",
       "      <th></th>\n",
       "      <th>Film</th>\n",
       "      <th>Ceremony</th>\n",
       "      <th>Name</th>\n",
       "      <th>Award_Actor</th>\n",
       "      <th>Award_Actor in a Leading Role</th>\n",
       "      <th>Award_Actor in a Supporting Role</th>\n",
       "      <th>Award_Actress</th>\n",
       "      <th>Award_Actress in a Leading Role</th>\n",
       "      <th>Award_Actress in a Supporting Role</th>\n",
       "      <th>Award_Assistant Director</th>\n",
       "      <th>...</th>\n",
       "      <th>Winner_Actor</th>\n",
       "      <th>Winner_Actor in a Leading Role</th>\n",
       "      <th>Winner_Actor in a Supporting Role</th>\n",
       "      <th>Winner_Actress</th>\n",
       "      <th>Winner_Actress in a Leading Role</th>\n",
       "      <th>Winner_Actress in a Supporting Role</th>\n",
       "      <th>Winner_Assistant Director</th>\n",
       "      <th>Winner_Directing</th>\n",
       "      <th>Winner_Directing (Comedy Picture)</th>\n",
       "      <th>Winner_Directing (Dramatic Picture)</th>\n",
       "    </tr>\n",
       "  </thead>\n",
       "  <tbody>\n",
       "    <tr>\n",
       "      <th>0</th>\n",
       "      <td>'Round Midnight</td>\n",
       "      <td>59</td>\n",
       "      <td>Dexter Gordon</td>\n",
       "      <td>0</td>\n",
       "      <td>1</td>\n",
       "      <td>0</td>\n",
       "      <td>0</td>\n",
       "      <td>0</td>\n",
       "      <td>0</td>\n",
       "      <td>0</td>\n",
       "      <td>...</td>\n",
       "      <td>0</td>\n",
       "      <td>0</td>\n",
       "      <td>0</td>\n",
       "      <td>0</td>\n",
       "      <td>0</td>\n",
       "      <td>0</td>\n",
       "      <td>0</td>\n",
       "      <td>0</td>\n",
       "      <td>0</td>\n",
       "      <td>0</td>\n",
       "    </tr>\n",
       "    <tr>\n",
       "      <th>1</th>\n",
       "      <td>...And Justice for All</td>\n",
       "      <td>52</td>\n",
       "      <td>Al Pacino</td>\n",
       "      <td>0</td>\n",
       "      <td>1</td>\n",
       "      <td>0</td>\n",
       "      <td>0</td>\n",
       "      <td>0</td>\n",
       "      <td>0</td>\n",
       "      <td>0</td>\n",
       "      <td>...</td>\n",
       "      <td>0</td>\n",
       "      <td>0</td>\n",
       "      <td>0</td>\n",
       "      <td>0</td>\n",
       "      <td>0</td>\n",
       "      <td>0</td>\n",
       "      <td>0</td>\n",
       "      <td>0</td>\n",
       "      <td>0</td>\n",
       "      <td>0</td>\n",
       "    </tr>\n",
       "    <tr>\n",
       "      <th>2</th>\n",
       "      <td>12 Monkeys</td>\n",
       "      <td>68</td>\n",
       "      <td>Brad Pitt</td>\n",
       "      <td>0</td>\n",
       "      <td>0</td>\n",
       "      <td>1</td>\n",
       "      <td>0</td>\n",
       "      <td>0</td>\n",
       "      <td>0</td>\n",
       "      <td>0</td>\n",
       "      <td>...</td>\n",
       "      <td>0</td>\n",
       "      <td>0</td>\n",
       "      <td>0</td>\n",
       "      <td>0</td>\n",
       "      <td>0</td>\n",
       "      <td>0</td>\n",
       "      <td>0</td>\n",
       "      <td>0</td>\n",
       "      <td>0</td>\n",
       "      <td>0</td>\n",
       "    </tr>\n",
       "    <tr>\n",
       "      <th>3</th>\n",
       "      <td>12 Years a Slave</td>\n",
       "      <td>86</td>\n",
       "      <td>Michael Fassbender</td>\n",
       "      <td>0</td>\n",
       "      <td>1</td>\n",
       "      <td>1</td>\n",
       "      <td>0</td>\n",
       "      <td>0</td>\n",
       "      <td>1</td>\n",
       "      <td>0</td>\n",
       "      <td>...</td>\n",
       "      <td>0</td>\n",
       "      <td>0</td>\n",
       "      <td>0</td>\n",
       "      <td>0</td>\n",
       "      <td>0</td>\n",
       "      <td>1</td>\n",
       "      <td>0</td>\n",
       "      <td>0</td>\n",
       "      <td>0</td>\n",
       "      <td>0</td>\n",
       "    </tr>\n",
       "    <tr>\n",
       "      <th>4</th>\n",
       "      <td>127 Hours</td>\n",
       "      <td>83</td>\n",
       "      <td>James Franco</td>\n",
       "      <td>0</td>\n",
       "      <td>1</td>\n",
       "      <td>0</td>\n",
       "      <td>0</td>\n",
       "      <td>0</td>\n",
       "      <td>0</td>\n",
       "      <td>0</td>\n",
       "      <td>...</td>\n",
       "      <td>0</td>\n",
       "      <td>0</td>\n",
       "      <td>0</td>\n",
       "      <td>0</td>\n",
       "      <td>0</td>\n",
       "      <td>0</td>\n",
       "      <td>0</td>\n",
       "      <td>0</td>\n",
       "      <td>0</td>\n",
       "      <td>0</td>\n",
       "    </tr>\n",
       "  </tbody>\n",
       "</table>\n",
       "<p>5 rows × 23 columns</p>\n",
       "</div>"
      ],
      "text/plain": [
       "                     Film  Ceremony                Name  Award_Actor  \\\n",
       "0         'Round Midnight        59       Dexter Gordon            0   \n",
       "1  ...And Justice for All        52           Al Pacino            0   \n",
       "2              12 Monkeys        68           Brad Pitt            0   \n",
       "3        12 Years a Slave        86  Michael Fassbender            0   \n",
       "4               127 Hours        83        James Franco            0   \n",
       "\n",
       "   Award_Actor in a Leading Role  Award_Actor in a Supporting Role  \\\n",
       "0                              1                                 0   \n",
       "1                              1                                 0   \n",
       "2                              0                                 1   \n",
       "3                              1                                 1   \n",
       "4                              1                                 0   \n",
       "\n",
       "   Award_Actress  Award_Actress in a Leading Role  \\\n",
       "0              0                                0   \n",
       "1              0                                0   \n",
       "2              0                                0   \n",
       "3              0                                0   \n",
       "4              0                                0   \n",
       "\n",
       "   Award_Actress in a Supporting Role  Award_Assistant Director  ...  \\\n",
       "0                                   0                         0  ...   \n",
       "1                                   0                         0  ...   \n",
       "2                                   0                         0  ...   \n",
       "3                                   1                         0  ...   \n",
       "4                                   0                         0  ...   \n",
       "\n",
       "   Winner_Actor  Winner_Actor in a Leading Role  \\\n",
       "0             0                               0   \n",
       "1             0                               0   \n",
       "2             0                               0   \n",
       "3             0                               0   \n",
       "4             0                               0   \n",
       "\n",
       "   Winner_Actor in a Supporting Role  Winner_Actress  \\\n",
       "0                                  0               0   \n",
       "1                                  0               0   \n",
       "2                                  0               0   \n",
       "3                                  0               0   \n",
       "4                                  0               0   \n",
       "\n",
       "   Winner_Actress in a Leading Role  Winner_Actress in a Supporting Role  \\\n",
       "0                                 0                                    0   \n",
       "1                                 0                                    0   \n",
       "2                                 0                                    0   \n",
       "3                                 0                                    1   \n",
       "4                                 0                                    0   \n",
       "\n",
       "   Winner_Assistant Director  Winner_Directing  \\\n",
       "0                          0                 0   \n",
       "1                          0                 0   \n",
       "2                          0                 0   \n",
       "3                          0                 0   \n",
       "4                          0                 0   \n",
       "\n",
       "   Winner_Directing (Comedy Picture)  Winner_Directing (Dramatic Picture)  \n",
       "0                                  0                                    0  \n",
       "1                                  0                                    0  \n",
       "2                                  0                                    0  \n",
       "3                                  0                                    0  \n",
       "4                                  0                                    0  \n",
       "\n",
       "[5 rows x 23 columns]"
      ]
     },
     "execution_count": 176,
     "metadata": {},
     "output_type": "execute_result"
    }
   ],
   "source": [
    "# Create a new dataframe while one hot encoding the Award and Winner\n",
    "awardsDF = data[['Ceremony','Film','Name']].join(pd.get_dummies(data[['Award','Winner']]))\\\n",
    "                        .groupby('Film')\\\n",
    "                        .max()\\\n",
    "                        .reset_index()\n",
    "awardsDF.head()\n",
    "#awardsDF.to_csv('Awards_processed.csv')"
   ]
  },
  {
   "cell_type": "markdown",
   "metadata": {},
   "source": [
    "## Merge"
   ]
  },
  {
   "cell_type": "code",
   "execution_count": 177,
   "metadata": {},
   "outputs": [],
   "source": [
    "# movieDBfileLocation = 'C:\\\\Yuva\\\\ITU\\\\4th Sem\\\\Thesis\\\\Data\\\\Movies_director_data_3709_119Features.csv'\n",
    "movieDBfileLocation = 'stage3FinalProcessedDF_May-09-2020.csv'\n",
    "# movieDBfileLocation = 'Movies_Data_Without_MoneyFeatures.csv'"
   ]
  },
  {
   "cell_type": "code",
   "execution_count": 178,
   "metadata": {},
   "outputs": [],
   "source": [
    "movie_data = pd.read_csv(movieDBfileLocation)"
   ]
  },
  {
   "cell_type": "code",
   "execution_count": 179,
   "metadata": {},
   "outputs": [
    {
     "data": {
      "text/plain": [
       "(3708, 123)"
      ]
     },
     "execution_count": 179,
     "metadata": {},
     "output_type": "execute_result"
    }
   ],
   "source": [
    "movie_data.shape"
   ]
  },
  {
   "cell_type": "code",
   "execution_count": 180,
   "metadata": {},
   "outputs": [
    {
     "data": {
      "text/plain": [
       "array(['director_ids', 'director_names', 'movie_id', 'title',\n",
       "       'review_count_user', 'review_count_critic', 'metascore',\n",
       "       'rating_value', 'rating_count', 'release_date', 'runtime',\n",
       "       'movie_year', 'opening_weekend_value', 'open_wk_cur_AUD',\n",
       "       'open_wk_cur_CAD', 'open_wk_cur_DEM', 'open_wk_cur_GBP',\n",
       "       'open_wk_cur_ITL', 'open_wk_cur_JPY', 'open_wk_cur_SEK',\n",
       "       'open_wk_cur_SGD', 'open_wk_cur_USD', 'gross_value',\n",
       "       'gross_cur_USD', 'budget_value', 'budget_cur_AUD',\n",
       "       'budget_cur_CAD', 'budget_cur_EUR', 'budget_cur_GBP',\n",
       "       'budget_cur_INR', 'budget_cur_USD', 'color_Black_and_White',\n",
       "       'color_Color', 'country_Argentina', 'country_Australia',\n",
       "       'country_Brazil', 'country_Canada', 'country_Denmark',\n",
       "       'country_Finland', 'country_France', 'country_Germany',\n",
       "       'country_Greece', 'country_Hong_Kong', 'country_India',\n",
       "       'country_Italy', 'country_Japan', 'country_Mexico',\n",
       "       'country_Netherlands', 'country_Other', 'country_Russia',\n",
       "       'country_Soviet_Union', 'country_Spain', 'country_Sweden',\n",
       "       'country_Turkey', 'country_UK', 'country_USA',\n",
       "       'country_West_Germany', 'language_Arabic', 'language_Dutch',\n",
       "       'language_English', 'language_French', 'language_German',\n",
       "       'language_Greek', 'language_Hindi', 'language_Italian',\n",
       "       'language_Japanese', 'language_Mandarin', 'language_Other',\n",
       "       'language_Portuguese', 'language_Russian', 'language_Spanish',\n",
       "       'language_Swedish', 'language_Turkish', 'genre_Action',\n",
       "       'genre_Adult', 'genre_Adventure', 'genre_Animation',\n",
       "       'genre_Biography', 'genre_Comedy', 'genre_Crime',\n",
       "       'genre_Documentary', 'genre_Drama', 'genre_Family',\n",
       "       'genre_Fantasy', 'genre_Film_Noir', 'genre_Game_Show',\n",
       "       'genre_History', 'genre_Horror', 'genre_Music', 'genre_Musical',\n",
       "       'genre_Mystery', 'genre_News', 'genre_None', 'genre_Reality_TV',\n",
       "       'genre_Romance', 'genre_Sci_Fi', 'genre_Short', 'genre_Sport',\n",
       "       'genre_Talk_Show', 'genre_Thriller', 'genre_War', 'genre_Western',\n",
       "       'title_category_TV', 'title_category_movie',\n",
       "       'title_category_video', 'title_subcategory_TV_episode',\n",
       "       'title_subcategory_TV_miniseries', 'title_subcategory_TV_movie',\n",
       "       'title_subcategory_TV_series', 'title_subcategory_TV_short',\n",
       "       'title_subcategory_movie', 'title_subcategory_video', 'birthYear',\n",
       "       'director_profession_primary', 'director_profession_secondary',\n",
       "       'director_profession_tertiary', 'director_known_titles_count',\n",
       "       'director_known_titles_average_rating_value',\n",
       "       'clean_director_names', 'FirstName', 'Gender', 'CareerStartYear',\n",
       "       'Career_Year_Number'], dtype=object)"
      ]
     },
     "execution_count": 180,
     "metadata": {},
     "output_type": "execute_result"
    }
   ],
   "source": [
    "movie_data.columns.values"
   ]
  },
  {
   "cell_type": "code",
   "execution_count": 181,
   "metadata": {},
   "outputs": [
    {
     "data": {
      "text/plain": [
       "Male      3199\n",
       "Female     509\n",
       "Name: Gender, dtype: int64"
      ]
     },
     "execution_count": 181,
     "metadata": {},
     "output_type": "execute_result"
    }
   ],
   "source": [
    "movie_data['Gender'].value_counts()"
   ]
  },
  {
   "cell_type": "code",
   "execution_count": 182,
   "metadata": {},
   "outputs": [
    {
     "data": {
      "text/plain": [
       "0.1372707659115426"
      ]
     },
     "execution_count": 182,
     "metadata": {},
     "output_type": "execute_result"
    }
   ],
   "source": [
    "movie_data['Gender'].value_counts()[1] / movie_data['Gender'].value_counts().sum()"
   ]
  },
  {
   "cell_type": "code",
   "execution_count": 183,
   "metadata": {},
   "outputs": [
    {
     "data": {
      "text/plain": [
       "<matplotlib.axes._subplots.AxesSubplot at 0x14cb7e20438>"
      ]
     },
     "execution_count": 183,
     "metadata": {},
     "output_type": "execute_result"
    },
    {
     "data": {
      "image/png": "[encoded data removed]",
      "text/plain": [
       "<Figure size 432x288 with 1 Axes>"
      ]
     },
     "metadata": {
      "needs_background": "light"
     },
     "output_type": "display_data"
    }
   ],
   "source": [
    "movie_data['Gender'].value_counts().sort_values().plot(kind = 'bar')"
   ]
  },
  {
   "cell_type": "code",
   "execution_count": 184,
   "metadata": {},
   "outputs": [],
   "source": [
    "movie_data['Film'] = movie_data['title'].str.split(pat = '(', n = 1 ,expand = False ).str[0].str.strip()"
   ]
  },
  {
   "cell_type": "code",
   "execution_count": 185,
   "metadata": {
    "scrolled": true
   },
   "outputs": [
    {
     "name": "stdout",
     "output_type": "stream",
     "text": [
      "\n",
      " Movie dataframe Shape Before merge with awards :  (3708, 124)\n",
      "\n",
      " Movie dataframe Shape after merge with awards :  (3708, 146)\n"
     ]
    }
   ],
   "source": [
    "# Merge awards with movie_names data\n",
    "print(\"\\n Movie dataframe Shape Before merge with awards : \",str(movie_data.shape))\n",
    "movie_data = movie_data.merge(awardsDF, on='Film', how ='left')\n",
    "print(\"\\n Movie dataframe Shape after merge with awards : \",str(movie_data.shape))"
   ]
  },
  {
   "cell_type": "markdown",
   "metadata": {},
   "source": [
    "### Awards nominated by each movie"
   ]
  },
  {
   "cell_type": "code",
   "execution_count": 186,
   "metadata": {},
   "outputs": [
    {
     "name": "stdout",
     "output_type": "stream",
     "text": [
      "Shape of data : (3708, 146)\n",
      "Shape of data after extracting the number of awards nominated feature: (3708, 147)\n"
     ]
    }
   ],
   "source": [
    "print('Shape of data :', movie_data.shape)\n",
    "# Extract the columns starting with awards that represent the awards nominated for\n",
    "nominated_awards_filter_col = [col for col in movie_data if col.startswith('Award_')]\n",
    "\n",
    "# Store nominated awards data\n",
    "nominated_awards_df = movie_data[nominated_awards_filter_col]\n",
    "\n",
    "# # Drop these from the original dataframe\n",
    "# movie_data.drop(columns= nominated_awards_filter_col,inplace =True )\n",
    "# print('Shape of data after dropping the awards nominated features:', movie_data.shape)\n",
    "\n",
    "# Extract the awards nominated by each movie by summing across the columns\n",
    "movie_data['awards_nominated'] = nominated_awards_df.sum(axis='columns')\n",
    "print('Shape of data after extracting the number of awards nominated feature:', movie_data.shape)"
   ]
  },
  {
   "cell_type": "code",
   "execution_count": 187,
   "metadata": {},
   "outputs": [
    {
     "data": {
      "text/plain": [
       "268.0"
      ]
     },
     "execution_count": 187,
     "metadata": {},
     "output_type": "execute_result"
    }
   ],
   "source": [
    "movie_data['awards_nominated'].sum()"
   ]
  },
  {
   "cell_type": "markdown",
   "metadata": {},
   "source": [
    "### Awards won by each movie"
   ]
  },
  {
   "cell_type": "code",
   "execution_count": 188,
   "metadata": {},
   "outputs": [
    {
     "name": "stdout",
     "output_type": "stream",
     "text": [
      "Shape of data : (3708, 147)\n",
      "Shape of data after extracting the number of awards won feature: (3708, 148)\n"
     ]
    }
   ],
   "source": [
    "print('Shape of data :', movie_data.shape)\n",
    "# Extract the columns starting with awards that represent the awards won\n",
    "winner_awards_filter_col = [col for col in movie_data if col.startswith('Winner_')]\n",
    "\n",
    "# Store awards won data\n",
    "winner_awards_df = movie_data[winner_awards_filter_col]\n",
    "\n",
    "# # Drop these from the original dataframe\n",
    "# movie_data.drop(columns= winner_awards_filter_col,inplace =True )\n",
    "# print('Shape of data after dropping the awards won features:', movie_data.shape)\n",
    "\n",
    "# Extract the awards won by each movie by summing across the columns\n",
    "movie_data['awards_won'] = winner_awards_df.sum(axis='columns')\n",
    "print('Shape of data after extracting the number of awards won feature:', movie_data.shape)"
   ]
  },
  {
   "cell_type": "code",
   "execution_count": 189,
   "metadata": {},
   "outputs": [
    {
     "data": {
      "text/plain": [
       "62.0"
      ]
     },
     "execution_count": 189,
     "metadata": {},
     "output_type": "execute_result"
    }
   ],
   "source": [
    "movie_data['awards_won'].sum()"
   ]
  },
  {
   "cell_type": "code",
   "execution_count": 190,
   "metadata": {},
   "outputs": [],
   "source": [
    "movie_data = movie_data.fillna(0)\n",
    "movie_data.to_csv('data2_Movies_WithAwards.csv', index = False, encoding=\"utf-8-sig\")"
   ]
  },
  {
   "cell_type": "code",
   "execution_count": 168,
   "metadata": {},
   "outputs": [
    {
     "ename": "SyntaxError",
     "evalue": "'break' outside loop (<ipython-input-168-6aaf1f276005>, line 4)",
     "output_type": "error",
     "traceback": [
      "\u001b[1;36m  File \u001b[1;32m\"<ipython-input-168-6aaf1f276005>\"\u001b[1;36m, line \u001b[1;32m4\u001b[0m\n\u001b[1;31mSyntaxError\u001b[0m\u001b[1;31m:\u001b[0m 'break' outside loop\n"
     ]
    }
   ],
   "source": [
    "break"
   ]
  },
  {
   "cell_type": "markdown",
   "metadata": {},
   "source": [
    "## Weighted rank"
   ]
  },
  {
   "cell_type": "code",
   "execution_count": 18,
   "metadata": {
    "scrolled": false
   },
   "outputs": [
    {
     "data": {
      "text/plain": [
       "count    3.708000e+03\n",
       "mean     1.032216e+05\n",
       "std      1.555415e+05\n",
       "min      2.900000e+01\n",
       "25%      1.353550e+04\n",
       "50%      4.647700e+04\n",
       "75%      1.249320e+05\n",
       "max      1.718048e+06\n",
       "Name: rating_count, dtype: float64"
      ]
     },
     "execution_count": 18,
     "metadata": {},
     "output_type": "execute_result"
    }
   ],
   "source": [
    "movie_data.rating_count.describe()"
   ]
  },
  {
   "cell_type": "code",
   "execution_count": 19,
   "metadata": {},
   "outputs": [],
   "source": [
    "# Weighted ranking value\n",
    "# IMDB uses this famous formula:\n",
    "# weighted rating (WR) = (v ÷ (v+m)) × R + (m ÷ (v+m)) × C\n",
    "\n",
    "# Where:\n",
    "\n",
    "# R = average for the movie (mean) = (rating)\n",
    "\n",
    "# v = number of votes for the movie = (votes)\n",
    "\n",
    "# m = minimum votes required to be listed in the Top Rated list (currently 25,000)\n",
    "\n",
    "# C = the mean vote across the whole report"
   ]
  },
  {
   "cell_type": "code",
   "execution_count": 20,
   "metadata": {},
   "outputs": [],
   "source": [
    "def weightedRank(df,R='rating_value', v='rating_count', m = 0):\n",
    "#     df = df.loc[df[v] > m ]\n",
    "    df['weighted_rank'] = (df[v] / (df[v] + m )) * df[R] + (m / ( df[v] + m)) * df[R].mean()\n",
    "    return df"
   ]
  },
  {
   "cell_type": "code",
   "execution_count": 21,
   "metadata": {},
   "outputs": [],
   "source": [
    "movie_data = weightedRank(movie_data, m= movie_data.rating_count.quantile(0.5) )"
   ]
  },
  {
   "cell_type": "code",
   "execution_count": 22,
   "metadata": {},
   "outputs": [
    {
     "data": {
      "text/html": [
       "<div>\n",
       "<style scoped>\n",
       "    .dataframe tbody tr th:only-of-type {\n",
       "        vertical-align: middle;\n",
       "    }\n",
       "\n",
       "    .dataframe tbody tr th {\n",
       "        vertical-align: top;\n",
       "    }\n",
       "\n",
       "    .dataframe thead th {\n",
       "        text-align: right;\n",
       "    }\n",
       "</style>\n",
       "<table border=\"1\" class=\"dataframe\">\n",
       "  <thead>\n",
       "    <tr style=\"text-align: right;\">\n",
       "      <th></th>\n",
       "      <th>movie_id</th>\n",
       "      <th>rating_value</th>\n",
       "      <th>rating_count</th>\n",
       "      <th>weighted_rank</th>\n",
       "    </tr>\n",
       "  </thead>\n",
       "  <tbody>\n",
       "    <tr>\n",
       "      <th>0</th>\n",
       "      <td>tt0017136</td>\n",
       "      <td>8.3</td>\n",
       "      <td>114917</td>\n",
       "      <td>7.798277</td>\n",
       "    </tr>\n",
       "    <tr>\n",
       "      <th>1</th>\n",
       "      <td>tt0027977</td>\n",
       "      <td>8.6</td>\n",
       "      <td>147990</td>\n",
       "      <td>8.111906</td>\n",
       "    </tr>\n",
       "    <tr>\n",
       "      <th>2</th>\n",
       "      <td>tt0032138</td>\n",
       "      <td>8.1</td>\n",
       "      <td>299644</td>\n",
       "      <td>7.892906</td>\n",
       "    </tr>\n",
       "    <tr>\n",
       "      <th>3</th>\n",
       "      <td>tt0032138</td>\n",
       "      <td>8.1</td>\n",
       "      <td>299644</td>\n",
       "      <td>7.892906</td>\n",
       "    </tr>\n",
       "    <tr>\n",
       "      <th>4</th>\n",
       "      <td>tt0035423</td>\n",
       "      <td>6.4</td>\n",
       "      <td>65765</td>\n",
       "      <td>6.465317</td>\n",
       "    </tr>\n",
       "  </tbody>\n",
       "</table>\n",
       "</div>"
      ],
      "text/plain": [
       "    movie_id  rating_value  rating_count  weighted_rank\n",
       "0  tt0017136           8.3        114917       7.798277\n",
       "1  tt0027977           8.6        147990       8.111906\n",
       "2  tt0032138           8.1        299644       7.892906\n",
       "3  tt0032138           8.1        299644       7.892906\n",
       "4  tt0035423           6.4         65765       6.465317"
      ]
     },
     "execution_count": 22,
     "metadata": {},
     "output_type": "execute_result"
    }
   ],
   "source": [
    "movie_data[['movie_id','rating_value','rating_count','weighted_rank']].head()"
   ]
  },
  {
   "cell_type": "code",
   "execution_count": 23,
   "metadata": {},
   "outputs": [
    {
     "data": {
      "text/plain": [
       "count    3708.000000\n",
       "mean        6.557740\n",
       "std         1.005446\n",
       "min         1.500000\n",
       "25%         6.000000\n",
       "50%         6.700000\n",
       "75%         7.200000\n",
       "max         9.200000\n",
       "Name: rating_value, dtype: float64"
      ]
     },
     "execution_count": 23,
     "metadata": {},
     "output_type": "execute_result"
    }
   ],
   "source": [
    "movie_data.rating_value.describe()"
   ]
  },
  {
   "cell_type": "code",
   "execution_count": 24,
   "metadata": {},
   "outputs": [
    {
     "data": {
      "text/plain": [
       "count    3708.000000\n",
       "mean        6.653003\n",
       "std         0.561823\n",
       "min         3.506006\n",
       "25%         6.390750\n",
       "50%         6.576599\n",
       "75%         6.888429\n",
       "max         9.100160\n",
       "Name: weighted_rank, dtype: float64"
      ]
     },
     "execution_count": 24,
     "metadata": {},
     "output_type": "execute_result"
    }
   ],
   "source": [
    "movie_data.weighted_rank.describe()"
   ]
  },
  {
   "cell_type": "code",
   "execution_count": 25,
   "metadata": {},
   "outputs": [
    {
     "data": {
      "text/plain": [
       "director_ids         910\n",
       "director_names       910\n",
       "movie_id             910\n",
       "title                910\n",
       "review_count_user    910\n",
       "dtype: int64"
      ]
     },
     "execution_count": 25,
     "metadata": {},
     "output_type": "execute_result"
    }
   ],
   "source": [
    "movie_data[movie_data.rating_value>7.2].count().head()"
   ]
  },
  {
   "cell_type": "code",
   "execution_count": 26,
   "metadata": {},
   "outputs": [],
   "source": [
    "# Function to Plot - Distribution of rating value among male and female. \n",
    "\n",
    "def plot_features_WRT_gender(df,columnCriteriaName,columnFeatureName):\n",
    "    dict={}\n",
    "    for i in df[columnCriteriaName].value_counts().index:\n",
    "        dict[\"{0}_{1}\".format(columnFeatureName,i)] = df[(df[columnCriteriaName] == i)][columnFeatureName]\n",
    "    for k,v in dict.items():\n",
    "        sns.distplot(v,label=[k])\n",
    "        plt.legend(bbox_to_anchor=(1.05, 0.6), loc=2, borderaxespad=0.)\n"
   ]
  },
  {
   "cell_type": "code",
   "execution_count": 27,
   "metadata": {},
   "outputs": [
    {
     "data": {
      "text/plain": [
       "0    2261\n",
       "1     938\n",
       "Name: genre_Thriller, dtype: int64"
      ]
     },
     "execution_count": 27,
     "metadata": {},
     "output_type": "execute_result"
    }
   ],
   "source": [
    "genre_thriller_male = movie_data[movie_data['Gender'] == 'Male' ]['genre_Thriller']\n",
    "genre_thriller_male.value_counts()"
   ]
  },
  {
   "cell_type": "code",
   "execution_count": 28,
   "metadata": {},
   "outputs": [
    {
     "data": {
      "text/plain": [
       "0    391\n",
       "1    118\n",
       "Name: genre_Thriller, dtype: int64"
      ]
     },
     "execution_count": 28,
     "metadata": {},
     "output_type": "execute_result"
    }
   ],
   "source": [
    "genre_thriller_female = movie_data[movie_data['Gender'] == 'Female' ]['genre_Thriller']\n",
    "genre_thriller_female.value_counts()"
   ]
  },
  {
   "cell_type": "code",
   "execution_count": 29,
   "metadata": {},
   "outputs": [
    {
     "data": {
      "text/plain": [
       "<matplotlib.axes._subplots.AxesSubplot at 0x219a6eb5f60>"
      ]
     },
     "execution_count": 29,
     "metadata": {},
     "output_type": "execute_result"
    },
    {
     "data": {
      "image/png": "[encoded data removed]",
      "text/plain": [
       "<Figure size 432x288 with 1 Axes>"
      ]
     },
     "metadata": {
      "needs_background": "light"
     },
     "output_type": "display_data"
    }
   ],
   "source": [
    "sns.distplot(genre_thriller_male)\n"
   ]
  },
  {
   "cell_type": "code",
   "execution_count": 30,
   "metadata": {},
   "outputs": [
    {
     "data": {
      "image/png": "[encoded data removed]",
      "text/plain": [
       "<Figure size 432x288 with 1 Axes>"
      ]
     },
     "metadata": {
      "needs_background": "light"
     },
     "output_type": "display_data"
    }
   ],
   "source": [
    "plot_features_WRT_gender(movie_data,\"Gender\",\"rating_value\")"
   ]
  },
  {
   "cell_type": "code",
   "execution_count": 31,
   "metadata": {},
   "outputs": [
    {
     "data": {
      "image/png": "[encoded data removed]",
      "text/plain": [
       "<Figure size 432x288 with 1 Axes>"
      ]
     },
     "metadata": {
      "needs_background": "light"
     },
     "output_type": "display_data"
    }
   ],
   "source": [
    "plot_features_WRT_gender(movie_data,\"Gender\",\"review_count_critic\")"
   ]
  },
  {
   "cell_type": "code",
   "execution_count": 32,
   "metadata": {},
   "outputs": [
    {
     "data": {
      "image/png": "[encoded data removed]",
      "text/plain": [
       "<Figure size 432x288 with 1 Axes>"
      ]
     },
     "metadata": {
      "needs_background": "light"
     },
     "output_type": "display_data"
    }
   ],
   "source": [
    "plot_features_WRT_gender(movie_data,\"Gender\",\"review_count_user\")"
   ]
  },
  {
   "cell_type": "code",
   "execution_count": 33,
   "metadata": {},
   "outputs": [
    {
     "data": {
      "image/png": "[encoded data removed]",
      "text/plain": [
       "<Figure size 432x288 with 1 Axes>"
      ]
     },
     "metadata": {
      "needs_background": "light"
     },
     "output_type": "display_data"
    }
   ],
   "source": [
    "plot_features_WRT_gender(movie_data,\"Gender\",\"metascore\")"
   ]
  },
  {
   "cell_type": "code",
   "execution_count": 34,
   "metadata": {},
   "outputs": [
    {
     "data": {
      "image/png": "[encoded data removed]",
      "text/plain": [
       "<Figure size 432x288 with 1 Axes>"
      ]
     },
     "metadata": {
      "needs_background": "light"
     },
     "output_type": "display_data"
    }
   ],
   "source": [
    "plot_features_WRT_gender(movie_data,\"Gender\",\"rating_count\")"
   ]
  }
 ],
 "metadata": {
  "kernelspec": {
   "display_name": "Python 3",
   "language": "python",
   "name": "python3"
  },
  "language_info": {
   "codemirror_mode": {
    "name": "ipython",
    "version": 3
   },
   "file_extension": ".py",
   "mimetype": "text/x-python",
   "name": "python",
   "nbconvert_exporter": "python",
   "pygments_lexer": "ipython3",
   "version": "3.7.3"
  }
 },
 "nbformat": 4,
 "nbformat_minor": 2
}
