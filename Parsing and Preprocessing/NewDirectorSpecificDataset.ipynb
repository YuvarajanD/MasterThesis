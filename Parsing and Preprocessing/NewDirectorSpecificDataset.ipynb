{
 "cells": [
  {
   "cell_type": "code",
   "execution_count": null,
   "metadata": {},
   "outputs": [],
   "source": [
    "import pandas as pd\n",
    "import numpy as np\n",
    "import re\n",
    "import string\n",
    "from datetime import datetime\n",
    "from datetime import date\n",
    "\n",
    "import matplotlib.lines as mlines\n",
    "import matplotlib.patches as mpatches\n",
    "import matplotlib as mpl\n",
    "import matplotlib.pyplot as plt\n",
    "import os\n",
    "import seaborn as sns"
   ]
  },
  {
   "cell_type": "markdown",
   "metadata": {},
   "source": [
    "## Search hack on dataframes\n",
    "### How to use: find(data,\"movie_id\",\"equal\",\"tt6723088\")\n",
    "\n",
    "<h3>Search functions available</h3>\n",
    "\n",
    "<ol>\n",
    "  <li>Equal</li>\n",
    "  <li>Not Equal</li>\n",
    "  <li>Lessser than</li>\n",
    "  <li>Greater than</li>\n",
    "  <li>Null</li>    \n",
    "  <li>Not null</li>\n",
    "  <li>Contains</li>\n",
    "  <li>Not contains</li>\n",
    "  <li>Duplicate</li>\n",
    "  <li>Index</li>\n",
    "  <li>Unique Value</li>\n",
    "  <li>Unique Count</li>\n",
    "</ol> "
   ]
  },
  {
   "cell_type": "code",
   "execution_count": null,
   "metadata": {},
   "outputs": [],
   "source": [
    "# Useful Search hack for any value in a column\n",
    "\n",
    "\n",
    "def find(dataFrame,columnName,operation,searchElement):\n",
    "    operation = operation.lower().translate(str.maketrans('', '', string.whitespace))\n",
    "    if operation == \"equal\": \n",
    "        return dataFrame.loc[dataFrame[columnName] == searchElement]\n",
    "    elif operation == \"notequal\":\n",
    "        return dataFrame.loc[dataFrame[columnName] != searchElement]\n",
    "    elif operation == \"lesserthan\":\n",
    "        return dataFrame.loc[dataFrame[columnName] < searchElement]\n",
    "    elif operation == \"greaterthan\": \n",
    "        return dataFrame.loc[dataFrame[columnName] > searchElement]\n",
    "    elif operation == \"null\":\n",
    "        return dataFrame.loc[dataFrame[columnName].isna()] \n",
    "    elif operation == \"notnull\":\n",
    "        dataFrame.loc[dataFrame[columnName].notnull()]\n",
    "    elif operation == \"contains\":\n",
    "        return dataFrame[dataFrame[columnName].str.contains(searchElement)]\n",
    "    elif operation == \"notcontains\":\n",
    "        return dataFrame[~dataFrame[columnName].str.contains(searchElement)]   \n",
    "    elif operation == \"duplicate\":\n",
    "        return dataFrame[dataFrame.duplicated([columnName])].sort_values(by=[columnName])\n",
    "    elif operation == \"index\":\n",
    "        return dataFrame.index[dataFrame[columnName] == searchElement].tolist()\n",
    "    elif operation == \"uniquevalue\":\n",
    "        return dataFrame[columnName].unique()\n",
    "    elif operation == \"uniquecount\":\n",
    "        return dataFrame[columnName].nunique()\n",
    "    else:\n",
    "        print(\"The operations you can use are listed above! \\n\")"
   ]
  },
  {
   "cell_type": "markdown",
   "metadata": {},
   "source": [
    "###  Read data from file path"
   ]
  },
  {
   "cell_type": "code",
   "execution_count": 3,
   "metadata": {},
   "outputs": [],
   "source": [
    "# fileLocation = 'C:\\\\Users\\\\VictorY\\\\Desktop\\\\TestData\\\\stage3FinalProcessedDF_Nov-17-2019.csv'\n",
    "# moviesDataFileLocation = 'C:\\\\Yuva\\\\ITU\\\\4th Sem\\\\Thesis\\\\Data\\\\Movies_Directors_WithAwards.csv'\n",
    "# stage3 = 'C:\\\\Yuva\\\\ITU\\\\4th Sem\\\\Thesis\\\\Data\\\\stage3FinalProcessedDF_Mar-27-2020.csv'\n",
    "\n",
    "# moviesDataFileLocation = os.path.join(os.path.realpath(os.path.pardir),'datasets\\\\data2_Movies_WithAwards.csv')\n",
    "moviesDataFileLocation = os.path.join(os.path.realpath(os.path.pardir),'datasets\\\\data3_USA_Movies_WithAwards.csv')\n",
    "\n",
    "saveFileToPath = \"C:\\\\Yuva\\\\ITU\\\\4th Sem\\\\Thesis\\\\Data\\\\Datasets\\\\Directors\\\\\"\n",
    "\n",
    "data = pd.read_csv(moviesDataFileLocation)\n",
    "# data = pd.read_csv(stage3)\n"
   ]
  },
  {
   "cell_type": "code",
   "execution_count": 4,
   "metadata": {},
   "outputs": [
    {
     "name": "stdout",
     "output_type": "stream",
     "text": [
      "<class 'pandas.core.frame.DataFrame'>\n",
      "RangeIndex: 2653 entries, 0 to 2652\n",
      "Columns: 108 entries, director_ids to awards_won\n",
      "dtypes: float64(29), int64(69), object(10)\n",
      "memory usage: 2.2+ MB\n"
     ]
    }
   ],
   "source": [
    "data.info()"
   ]
  },
  {
   "cell_type": "code",
   "execution_count": 5,
   "metadata": {},
   "outputs": [],
   "source": [
    "# Uncomment in case you want to drop the one hot encoded features of awards features\n",
    "Award_filter_col = [col for col in data if col.startswith('Award_')]\n",
    "Winner_filter_col = [col for col in data if col.startswith('Winner_')]\n",
    "\n",
    "data.drop(columns = Award_filter_col, inplace= True)\n",
    "data.drop(columns = Winner_filter_col, inplace= True)"
   ]
  },
  {
   "cell_type": "markdown",
   "metadata": {},
   "source": [
    "## Data processing - Fill 0 for missing year and N"
   ]
  },
  {
   "cell_type": "code",
   "execution_count": 6,
   "metadata": {
    "scrolled": false
   },
   "outputs": [
    {
     "data": {
      "text/plain": [
       "array(['director_ids', 'director_names', 'movie_id', 'title',\n",
       "       'review_count_user', 'review_count_critic', 'metascore',\n",
       "       'rating_value', 'rating_count', 'release_date', 'runtime',\n",
       "       'movie_year', 'opening_weekend_value', 'gross_value',\n",
       "       'budget_value', 'color_Black_and_White', 'color_Color',\n",
       "       'language_Arabic', 'language_Dutch', 'language_English',\n",
       "       'language_French', 'language_German', 'language_Greek',\n",
       "       'language_Hindi', 'language_Italian', 'language_Japanese',\n",
       "       'language_Mandarin', 'language_Other', 'language_Portuguese',\n",
       "       'language_Russian', 'language_Spanish', 'language_Swedish',\n",
       "       'language_Turkish', 'genre_Action', 'genre_Adult',\n",
       "       'genre_Adventure', 'genre_Animation', 'genre_Biography',\n",
       "       'genre_Comedy', 'genre_Crime', 'genre_Documentary', 'genre_Drama',\n",
       "       'genre_Family', 'genre_Fantasy', 'genre_Film_Noir',\n",
       "       'genre_Game_Show', 'genre_History', 'genre_Horror', 'genre_Music',\n",
       "       'genre_Musical', 'genre_Mystery', 'genre_News', 'genre_None',\n",
       "       'genre_Reality_TV', 'genre_Romance', 'genre_Sci_Fi', 'genre_Short',\n",
       "       'genre_Sport', 'genre_Talk_Show', 'genre_Thriller', 'genre_War',\n",
       "       'genre_Western', 'title_category_TV', 'title_category_movie',\n",
       "       'title_category_video', 'title_subcategory_TV_episode',\n",
       "       'title_subcategory_TV_miniseries', 'title_subcategory_TV_movie',\n",
       "       'title_subcategory_TV_series', 'title_subcategory_TV_short',\n",
       "       'title_subcategory_movie', 'title_subcategory_video', 'birthYear',\n",
       "       'director_profession_primary', 'director_profession_secondary',\n",
       "       'director_profession_tertiary', 'director_known_titles_count',\n",
       "       'director_known_titles_average_rating_value',\n",
       "       'clean_director_names', 'FirstName', 'Gender', 'CareerStartYear',\n",
       "       'Career_Year_Number', 'Film', 'Ceremony', 'Name',\n",
       "       'awards_nominated', 'awards_won'], dtype=object)"
      ]
     },
     "execution_count": 6,
     "metadata": {},
     "output_type": "execute_result"
    }
   ],
   "source": [
    "data.columns.values"
   ]
  },
  {
   "cell_type": "code",
   "execution_count": 7,
   "metadata": {},
   "outputs": [],
   "source": [
    "# data.drop(columns = ['awards_nominated', 'awards_won'],inplace= True)"
   ]
  },
  {
   "cell_type": "code",
   "execution_count": 8,
   "metadata": {
    "scrolled": true
   },
   "outputs": [
    {
     "name": "stdout",
     "output_type": "stream",
     "text": [
      "<class 'pandas.core.frame.DataFrame'>\n",
      "RangeIndex: 2653 entries, 0 to 2652\n",
      "Data columns (total 88 columns):\n",
      " #   Column                                      Non-Null Count  Dtype  \n",
      "---  ------                                      --------------  -----  \n",
      " 0   director_ids                                2653 non-null   object \n",
      " 1   director_names                              2653 non-null   object \n",
      " 2   movie_id                                    2653 non-null   object \n",
      " 3   title                                       2653 non-null   object \n",
      " 4   review_count_user                           2653 non-null   int64  \n",
      " 5   review_count_critic                         2653 non-null   int64  \n",
      " 6   metascore                                   2653 non-null   int64  \n",
      " 7   rating_value                                2653 non-null   float64\n",
      " 8   rating_count                                2653 non-null   int64  \n",
      " 9   release_date                                2653 non-null   object \n",
      " 10  runtime                                     2653 non-null   float64\n",
      " 11  movie_year                                  2653 non-null   int64  \n",
      " 12  opening_weekend_value                       2653 non-null   float64\n",
      " 13  gross_value                                 2653 non-null   float64\n",
      " 14  budget_value                                2653 non-null   float64\n",
      " 15  color_Black_and_White                       2653 non-null   int64  \n",
      " 16  color_Color                                 2653 non-null   int64  \n",
      " 17  language_Arabic                             2653 non-null   int64  \n",
      " 18  language_Dutch                              2653 non-null   int64  \n",
      " 19  language_English                            2653 non-null   int64  \n",
      " 20  language_French                             2653 non-null   int64  \n",
      " 21  language_German                             2653 non-null   int64  \n",
      " 22  language_Greek                              2653 non-null   int64  \n",
      " 23  language_Hindi                              2653 non-null   int64  \n",
      " 24  language_Italian                            2653 non-null   int64  \n",
      " 25  language_Japanese                           2653 non-null   int64  \n",
      " 26  language_Mandarin                           2653 non-null   int64  \n",
      " 27  language_Other                              2653 non-null   int64  \n",
      " 28  language_Portuguese                         2653 non-null   int64  \n",
      " 29  language_Russian                            2653 non-null   int64  \n",
      " 30  language_Spanish                            2653 non-null   int64  \n",
      " 31  language_Swedish                            2653 non-null   int64  \n",
      " 32  language_Turkish                            2653 non-null   int64  \n",
      " 33  genre_Action                                2653 non-null   int64  \n",
      " 34  genre_Adult                                 2653 non-null   int64  \n",
      " 35  genre_Adventure                             2653 non-null   int64  \n",
      " 36  genre_Animation                             2653 non-null   int64  \n",
      " 37  genre_Biography                             2653 non-null   int64  \n",
      " 38  genre_Comedy                                2653 non-null   int64  \n",
      " 39  genre_Crime                                 2653 non-null   int64  \n",
      " 40  genre_Documentary                           2653 non-null   int64  \n",
      " 41  genre_Drama                                 2653 non-null   int64  \n",
      " 42  genre_Family                                2653 non-null   int64  \n",
      " 43  genre_Fantasy                               2653 non-null   int64  \n",
      " 44  genre_Film_Noir                             2653 non-null   int64  \n",
      " 45  genre_Game_Show                             2653 non-null   int64  \n",
      " 46  genre_History                               2653 non-null   int64  \n",
      " 47  genre_Horror                                2653 non-null   int64  \n",
      " 48  genre_Music                                 2653 non-null   int64  \n",
      " 49  genre_Musical                               2653 non-null   int64  \n",
      " 50  genre_Mystery                               2653 non-null   int64  \n",
      " 51  genre_News                                  2653 non-null   int64  \n",
      " 52  genre_None                                  2653 non-null   int64  \n",
      " 53  genre_Reality_TV                            2653 non-null   int64  \n",
      " 54  genre_Romance                               2653 non-null   int64  \n",
      " 55  genre_Sci_Fi                                2653 non-null   int64  \n",
      " 56  genre_Short                                 2653 non-null   int64  \n",
      " 57  genre_Sport                                 2653 non-null   int64  \n",
      " 58  genre_Talk_Show                             2653 non-null   int64  \n",
      " 59  genre_Thriller                              2653 non-null   int64  \n",
      " 60  genre_War                                   2653 non-null   int64  \n",
      " 61  genre_Western                               2653 non-null   int64  \n",
      " 62  title_category_TV                           2653 non-null   int64  \n",
      " 63  title_category_movie                        2653 non-null   int64  \n",
      " 64  title_category_video                        2653 non-null   int64  \n",
      " 65  title_subcategory_TV_episode                2653 non-null   int64  \n",
      " 66  title_subcategory_TV_miniseries             2653 non-null   int64  \n",
      " 67  title_subcategory_TV_movie                  2653 non-null   int64  \n",
      " 68  title_subcategory_TV_series                 2653 non-null   int64  \n",
      " 69  title_subcategory_TV_short                  2653 non-null   int64  \n",
      " 70  title_subcategory_movie                     2653 non-null   int64  \n",
      " 71  title_subcategory_video                     2653 non-null   int64  \n",
      " 72  birthYear                                   2653 non-null   int64  \n",
      " 73  director_profession_primary                 2653 non-null   int64  \n",
      " 74  director_profession_secondary               2653 non-null   int64  \n",
      " 75  director_profession_tertiary                2653 non-null   int64  \n",
      " 76  director_known_titles_count                 2653 non-null   int64  \n",
      " 77  director_known_titles_average_rating_value  2653 non-null   float64\n",
      " 78  clean_director_names                        2653 non-null   object \n",
      " 79  FirstName                                   2653 non-null   object \n",
      " 80  Gender                                      2653 non-null   object \n",
      " 81  CareerStartYear                             2653 non-null   int64  \n",
      " 82  Career_Year_Number                          2653 non-null   int64  \n",
      " 83  Film                                        2652 non-null   object \n",
      " 84  Ceremony                                    2653 non-null   float64\n",
      " 85  Name                                        2653 non-null   object \n",
      " 86  awards_nominated                            2653 non-null   float64\n",
      " 87  awards_won                                  2653 non-null   float64\n",
      "dtypes: float64(9), int64(69), object(10)\n",
      "memory usage: 1.8+ MB\n"
     ]
    }
   ],
   "source": [
    "data.info()"
   ]
  },
  {
   "cell_type": "code",
   "execution_count": 9,
   "metadata": {},
   "outputs": [
    {
     "data": {
      "text/plain": [
       "(2653, 88)"
      ]
     },
     "execution_count": 9,
     "metadata": {},
     "output_type": "execute_result"
    }
   ],
   "source": [
    "data.shape"
   ]
  },
  {
   "cell_type": "code",
   "execution_count": 10,
   "metadata": {},
   "outputs": [],
   "source": [
    "# # Reset the missing years in birth and death year of director to 0\n",
    "\n",
    "# data.loc[data['deathYear'].isna(), 'deathYear'] = 0\n",
    "# data.loc[data['birthYear'].isna(), 'birthYear'] = 0"
   ]
  },
  {
   "cell_type": "code",
   "execution_count": 11,
   "metadata": {},
   "outputs": [
    {
     "name": "stdout",
     "output_type": "stream",
     "text": [
      "Unique directors in this dataframe :  1215\n"
     ]
    }
   ],
   "source": [
    "print(\"Unique directors in this dataframe : \",data.director_ids.nunique())"
   ]
  },
  {
   "cell_type": "code",
   "execution_count": 12,
   "metadata": {},
   "outputs": [
    {
     "data": {
      "text/plain": [
       "2535"
      ]
     },
     "execution_count": 12,
     "metadata": {},
     "output_type": "execute_result"
    }
   ],
   "source": [
    "find(data,\"movie_id\",\"uniquecount\",0)"
   ]
  },
  {
   "cell_type": "code",
   "execution_count": 13,
   "metadata": {},
   "outputs": [
    {
     "data": {
      "text/plain": [
       "Male      2311\n",
       "Female     342\n",
       "Name: Gender, dtype: int64"
      ]
     },
     "execution_count": 13,
     "metadata": {},
     "output_type": "execute_result"
    }
   ],
   "source": [
    "data.Gender.value_counts()"
   ]
  },
  {
   "cell_type": "code",
   "execution_count": 14,
   "metadata": {},
   "outputs": [],
   "source": [
    "withFirstMovieYearDF = data.copy()"
   ]
  },
  {
   "cell_type": "code",
   "execution_count": 15,
   "metadata": {},
   "outputs": [
    {
     "data": {
      "text/html": [
       "<div>\n",
       "<style scoped>\n",
       "    .dataframe tbody tr th:only-of-type {\n",
       "        vertical-align: middle;\n",
       "    }\n",
       "\n",
       "    .dataframe tbody tr th {\n",
       "        vertical-align: top;\n",
       "    }\n",
       "\n",
       "    .dataframe thead th {\n",
       "        text-align: right;\n",
       "    }\n",
       "</style>\n",
       "<table border=\"1\" class=\"dataframe\">\n",
       "  <thead>\n",
       "    <tr style=\"text-align: right;\">\n",
       "      <th></th>\n",
       "      <th>director_ids</th>\n",
       "      <th>director_names</th>\n",
       "      <th>movie_id</th>\n",
       "      <th>title</th>\n",
       "      <th>review_count_user</th>\n",
       "      <th>review_count_critic</th>\n",
       "      <th>metascore</th>\n",
       "      <th>rating_value</th>\n",
       "      <th>rating_count</th>\n",
       "      <th>release_date</th>\n",
       "      <th>...</th>\n",
       "      <th>clean_director_names</th>\n",
       "      <th>FirstName</th>\n",
       "      <th>Gender</th>\n",
       "      <th>CareerStartYear</th>\n",
       "      <th>Career_Year_Number</th>\n",
       "      <th>Film</th>\n",
       "      <th>Ceremony</th>\n",
       "      <th>Name</th>\n",
       "      <th>awards_nominated</th>\n",
       "      <th>awards_won</th>\n",
       "    </tr>\n",
       "  </thead>\n",
       "  <tbody>\n",
       "    <tr>\n",
       "      <th>0</th>\n",
       "      <td>nm0000122</td>\n",
       "      <td>Charles Chaplin</td>\n",
       "      <td>tt0027977</td>\n",
       "      <td>Les temps modernes (1936) - IMDb</td>\n",
       "      <td>213</td>\n",
       "      <td>119</td>\n",
       "      <td>96</td>\n",
       "      <td>8.6</td>\n",
       "      <td>147990</td>\n",
       "      <td>24 September 1936 (France)    See more »</td>\n",
       "      <td>...</td>\n",
       "      <td>charles chaplin</td>\n",
       "      <td>charles</td>\n",
       "      <td>Male</td>\n",
       "      <td>1914</td>\n",
       "      <td>23</td>\n",
       "      <td>Les temps modernes</td>\n",
       "      <td>0.0</td>\n",
       "      <td>0</td>\n",
       "      <td>0.0</td>\n",
       "      <td>0.0</td>\n",
       "    </tr>\n",
       "    <tr>\n",
       "      <th>1</th>\n",
       "      <td>nm0281808</td>\n",
       "      <td>Victor Fleming</td>\n",
       "      <td>tt0032138</td>\n",
       "      <td>Óz, a csodák csodája (1939) - IMDb</td>\n",
       "      <td>540</td>\n",
       "      <td>213</td>\n",
       "      <td>100</td>\n",
       "      <td>8.1</td>\n",
       "      <td>299644</td>\n",
       "      <td>21 March 1940 (Hungary)    See more »</td>\n",
       "      <td>...</td>\n",
       "      <td>victor fleming</td>\n",
       "      <td>victor</td>\n",
       "      <td>Male</td>\n",
       "      <td>1919</td>\n",
       "      <td>21</td>\n",
       "      <td>Óz, a csodák csodája</td>\n",
       "      <td>0.0</td>\n",
       "      <td>0</td>\n",
       "      <td>0.0</td>\n",
       "      <td>0.0</td>\n",
       "    </tr>\n",
       "    <tr>\n",
       "      <th>2</th>\n",
       "      <td>nm0002030</td>\n",
       "      <td>George Cukor</td>\n",
       "      <td>tt0032138</td>\n",
       "      <td>Óz, a csodák csodája (1939) - IMDb</td>\n",
       "      <td>540</td>\n",
       "      <td>213</td>\n",
       "      <td>100</td>\n",
       "      <td>8.1</td>\n",
       "      <td>299644</td>\n",
       "      <td>21 March 1940 (Hungary)    See more »</td>\n",
       "      <td>...</td>\n",
       "      <td>george cukor</td>\n",
       "      <td>george</td>\n",
       "      <td>Male</td>\n",
       "      <td>1930</td>\n",
       "      <td>10</td>\n",
       "      <td>Óz, a csodák csodája</td>\n",
       "      <td>0.0</td>\n",
       "      <td>0</td>\n",
       "      <td>0.0</td>\n",
       "      <td>0.0</td>\n",
       "    </tr>\n",
       "  </tbody>\n",
       "</table>\n",
       "<p>3 rows × 88 columns</p>\n",
       "</div>"
      ],
      "text/plain": [
       "  director_ids   director_names   movie_id  \\\n",
       "0    nm0000122  Charles Chaplin  tt0027977   \n",
       "1    nm0281808   Victor Fleming  tt0032138   \n",
       "2    nm0002030     George Cukor  tt0032138   \n",
       "\n",
       "                                title  review_count_user  review_count_critic  \\\n",
       "0    Les temps modernes (1936) - IMDb                213                  119   \n",
       "1  Óz, a csodák csodája (1939) - IMDb                540                  213   \n",
       "2  Óz, a csodák csodája (1939) - IMDb                540                  213   \n",
       "\n",
       "   metascore  rating_value  rating_count  \\\n",
       "0         96           8.6        147990   \n",
       "1        100           8.1        299644   \n",
       "2        100           8.1        299644   \n",
       "\n",
       "                                release_date  ...  clean_director_names  \\\n",
       "0   24 September 1936 (France)    See more »  ...       charles chaplin   \n",
       "1      21 March 1940 (Hungary)    See more »  ...        victor fleming   \n",
       "2      21 March 1940 (Hungary)    See more »  ...          george cukor   \n",
       "\n",
       "   FirstName  Gender  CareerStartYear  Career_Year_Number  \\\n",
       "0    charles    Male             1914                  23   \n",
       "1     victor    Male             1919                  21   \n",
       "2     george    Male             1930                  10   \n",
       "\n",
       "                   Film  Ceremony  Name  awards_nominated  awards_won  \n",
       "0    Les temps modernes       0.0     0               0.0         0.0  \n",
       "1  Óz, a csodák csodája       0.0     0               0.0         0.0  \n",
       "2  Óz, a csodák csodája       0.0     0               0.0         0.0  \n",
       "\n",
       "[3 rows x 88 columns]"
      ]
     },
     "execution_count": 15,
     "metadata": {},
     "output_type": "execute_result"
    }
   ],
   "source": [
    "withFirstMovieYearDF.head(3)"
   ]
  },
  {
   "cell_type": "markdown",
   "metadata": {},
   "source": [
    "## Functions to save data to file with dataframe name."
   ]
  },
  {
   "cell_type": "code",
   "execution_count": 16,
   "metadata": {},
   "outputs": [],
   "source": [
    "# Helper method for save_to_file\n",
    "\n",
    "def get_df_name(df):\n",
    "    name =[x for x in globals() if globals()[x] is df][0]\n",
    "    return name"
   ]
  },
  {
   "cell_type": "code",
   "execution_count": 17,
   "metadata": {},
   "outputs": [],
   "source": [
    "# Function: Save Dataframe to CSV\n",
    "\n",
    "def save_to_file(dataFrame, folderPath):\n",
    "    today = date.today()\n",
    "    todayDate = today.strftime(\"%b-%d-%Y\")\n",
    "#     dataFrame.to_csv(folderPath+ '\\\\' + get_df_name(dataFrame) + '_' + todayDate  + '.csv',index=False, encoding=\"utf8\" )\n",
    "    dataFrame.to_csv(folderPath+ '\\\\' + get_df_name(dataFrame) + '_' + todayDate  + '.csv',index=False, encoding=\"utf-8-sig\" )"
   ]
  },
  {
   "cell_type": "markdown",
   "metadata": {},
   "source": [
    "## Fetch the first movie year and career year number of each movie"
   ]
  },
  {
   "cell_type": "code",
   "execution_count": 18,
   "metadata": {
    "scrolled": true
   },
   "outputs": [],
   "source": [
    "# # Dataframe to group the directors and find the minimum movie year which indicates the Career Start year\n",
    "# directorsCareerStartYearDF = data.loc[data.groupby('director_ids')['movie_year'].idxmin()][['movie_year','director_ids']]\n",
    "\n",
    "# # Rename the column Movie Year to CareerStartYear\n",
    "# directorsCareerStartYearDF = directorsCareerStartYearDF.rename(columns={'movie_year':'CareerStartYear'})\n",
    "# directorsCareerStartYearDF"
   ]
  },
  {
   "cell_type": "code",
   "execution_count": 19,
   "metadata": {},
   "outputs": [],
   "source": [
    "# directorsCareerStartYearDF['CareerStartYear'].describe()"
   ]
  },
  {
   "cell_type": "code",
   "execution_count": 20,
   "metadata": {},
   "outputs": [],
   "source": [
    "# # Merge the Directors Career Start Year with the original data set\n",
    "# withFirstMovieYearDF = data.merge(directorsCareerStartYearDF, on='director_ids',how = 'left')\n",
    "\n",
    "# # Generate a column with Career Year number. i.e - Movie year - Career Start Year + 1\n",
    "# withFirstMovieYearDF[\"Career_Year_Number\"] = withFirstMovieYearDF.movie_year - withFirstMovieYearDF.CareerStartYear + 1"
   ]
  },
  {
   "cell_type": "code",
   "execution_count": 21,
   "metadata": {},
   "outputs": [],
   "source": [
    "# withFirstMovieYearDF.loc[withFirstMovieYearDF.Career_Year_Number == 0,'Career_Year_Number'] = 1"
   ]
  },
  {
   "cell_type": "code",
   "execution_count": 22,
   "metadata": {
    "scrolled": true
   },
   "outputs": [
    {
     "data": {
      "text/plain": [
       "director_ids         1215\n",
       "director_names       1215\n",
       "movie_id             2535\n",
       "title                2535\n",
       "review_count_user     853\n",
       "                     ... \n",
       "Film                 2529\n",
       "Ceremony               34\n",
       "Name                  123\n",
       "awards_nominated        4\n",
       "awards_won              3\n",
       "Length: 88, dtype: int64"
      ]
     },
     "execution_count": 22,
     "metadata": {},
     "output_type": "execute_result"
    }
   ],
   "source": [
    "withFirstMovieYearDF.nunique()"
   ]
  },
  {
   "cell_type": "markdown",
   "metadata": {},
   "source": [
    "### Generate inter_event_time column which contains the time between consequtive movies"
   ]
  },
  {
   "cell_type": "code",
   "execution_count": 23,
   "metadata": {},
   "outputs": [
    {
     "name": "stdout",
     "output_type": "stream",
     "text": [
      "Shape of dataset :  (2653, 88)\n",
      "Shape of dataset after adding the inter_event_time :  (2653, 89)\n"
     ]
    }
   ],
   "source": [
    "print(\"Shape of dataset : \",withFirstMovieYearDF.shape)\n",
    "\n",
    "# Sort the values by director_ids and movie_year to have a dataset in chronological order of movies released per director\n",
    "withFirstMovieYearDF = withFirstMovieYearDF.sort_values(by=['director_ids', 'movie_year'],ascending=[True,True])\n",
    "\n",
    "# Use the diff() function which finds the differences between the value in a current cell compared to the one above\n",
    "withFirstMovieYearDF['inter_event_time'] = withFirstMovieYearDF.movie_year.diff()\n",
    "\n",
    "# Group the directors and find the minimum movie year index of each director \n",
    "# and replace them with 0 or Nan since their values are the first in each group and should be zero or Nan\n",
    "\n",
    "withFirstMovieYearDF.loc[withFirstMovieYearDF.groupby('director_ids')['movie_year'].idxmin(),'inter_event_time'] = None\n",
    "\n",
    "withFirstMovieYearDF = withFirstMovieYearDF.sort_index()\n",
    "print(\"Shape of dataset after adding the inter_event_time : \",withFirstMovieYearDF.shape)"
   ]
  },
  {
   "cell_type": "code",
   "execution_count": 24,
   "metadata": {},
   "outputs": [
    {
     "name": "stdout",
     "output_type": "stream",
     "text": [
      "<class 'pandas.core.frame.DataFrame'>\n",
      "Int64Index: 2653 entries, 0 to 2652\n",
      "Data columns (total 89 columns):\n",
      " #   Column                                      Non-Null Count  Dtype  \n",
      "---  ------                                      --------------  -----  \n",
      " 0   director_ids                                2653 non-null   object \n",
      " 1   director_names                              2653 non-null   object \n",
      " 2   movie_id                                    2653 non-null   object \n",
      " 3   title                                       2653 non-null   object \n",
      " 4   review_count_user                           2653 non-null   int64  \n",
      " 5   review_count_critic                         2653 non-null   int64  \n",
      " 6   metascore                                   2653 non-null   int64  \n",
      " 7   rating_value                                2653 non-null   float64\n",
      " 8   rating_count                                2653 non-null   int64  \n",
      " 9   release_date                                2653 non-null   object \n",
      " 10  runtime                                     2653 non-null   float64\n",
      " 11  movie_year                                  2653 non-null   int64  \n",
      " 12  opening_weekend_value                       2653 non-null   float64\n",
      " 13  gross_value                                 2653 non-null   float64\n",
      " 14  budget_value                                2653 non-null   float64\n",
      " 15  color_Black_and_White                       2653 non-null   int64  \n",
      " 16  color_Color                                 2653 non-null   int64  \n",
      " 17  language_Arabic                             2653 non-null   int64  \n",
      " 18  language_Dutch                              2653 non-null   int64  \n",
      " 19  language_English                            2653 non-null   int64  \n",
      " 20  language_French                             2653 non-null   int64  \n",
      " 21  language_German                             2653 non-null   int64  \n",
      " 22  language_Greek                              2653 non-null   int64  \n",
      " 23  language_Hindi                              2653 non-null   int64  \n",
      " 24  language_Italian                            2653 non-null   int64  \n",
      " 25  language_Japanese                           2653 non-null   int64  \n",
      " 26  language_Mandarin                           2653 non-null   int64  \n",
      " 27  language_Other                              2653 non-null   int64  \n",
      " 28  language_Portuguese                         2653 non-null   int64  \n",
      " 29  language_Russian                            2653 non-null   int64  \n",
      " 30  language_Spanish                            2653 non-null   int64  \n",
      " 31  language_Swedish                            2653 non-null   int64  \n",
      " 32  language_Turkish                            2653 non-null   int64  \n",
      " 33  genre_Action                                2653 non-null   int64  \n",
      " 34  genre_Adult                                 2653 non-null   int64  \n",
      " 35  genre_Adventure                             2653 non-null   int64  \n",
      " 36  genre_Animation                             2653 non-null   int64  \n",
      " 37  genre_Biography                             2653 non-null   int64  \n",
      " 38  genre_Comedy                                2653 non-null   int64  \n",
      " 39  genre_Crime                                 2653 non-null   int64  \n",
      " 40  genre_Documentary                           2653 non-null   int64  \n",
      " 41  genre_Drama                                 2653 non-null   int64  \n",
      " 42  genre_Family                                2653 non-null   int64  \n",
      " 43  genre_Fantasy                               2653 non-null   int64  \n",
      " 44  genre_Film_Noir                             2653 non-null   int64  \n",
      " 45  genre_Game_Show                             2653 non-null   int64  \n",
      " 46  genre_History                               2653 non-null   int64  \n",
      " 47  genre_Horror                                2653 non-null   int64  \n",
      " 48  genre_Music                                 2653 non-null   int64  \n",
      " 49  genre_Musical                               2653 non-null   int64  \n",
      " 50  genre_Mystery                               2653 non-null   int64  \n",
      " 51  genre_News                                  2653 non-null   int64  \n",
      " 52  genre_None                                  2653 non-null   int64  \n",
      " 53  genre_Reality_TV                            2653 non-null   int64  \n",
      " 54  genre_Romance                               2653 non-null   int64  \n",
      " 55  genre_Sci_Fi                                2653 non-null   int64  \n",
      " 56  genre_Short                                 2653 non-null   int64  \n",
      " 57  genre_Sport                                 2653 non-null   int64  \n",
      " 58  genre_Talk_Show                             2653 non-null   int64  \n",
      " 59  genre_Thriller                              2653 non-null   int64  \n",
      " 60  genre_War                                   2653 non-null   int64  \n",
      " 61  genre_Western                               2653 non-null   int64  \n",
      " 62  title_category_TV                           2653 non-null   int64  \n",
      " 63  title_category_movie                        2653 non-null   int64  \n",
      " 64  title_category_video                        2653 non-null   int64  \n",
      " 65  title_subcategory_TV_episode                2653 non-null   int64  \n",
      " 66  title_subcategory_TV_miniseries             2653 non-null   int64  \n",
      " 67  title_subcategory_TV_movie                  2653 non-null   int64  \n",
      " 68  title_subcategory_TV_series                 2653 non-null   int64  \n",
      " 69  title_subcategory_TV_short                  2653 non-null   int64  \n",
      " 70  title_subcategory_movie                     2653 non-null   int64  \n",
      " 71  title_subcategory_video                     2653 non-null   int64  \n",
      " 72  birthYear                                   2653 non-null   int64  \n",
      " 73  director_profession_primary                 2653 non-null   int64  \n",
      " 74  director_profession_secondary               2653 non-null   int64  \n",
      " 75  director_profession_tertiary                2653 non-null   int64  \n",
      " 76  director_known_titles_count                 2653 non-null   int64  \n",
      " 77  director_known_titles_average_rating_value  2653 non-null   float64\n",
      " 78  clean_director_names                        2653 non-null   object \n",
      " 79  FirstName                                   2653 non-null   object \n",
      " 80  Gender                                      2653 non-null   object \n",
      " 81  CareerStartYear                             2653 non-null   int64  \n",
      " 82  Career_Year_Number                          2653 non-null   int64  \n",
      " 83  Film                                        2652 non-null   object \n",
      " 84  Ceremony                                    2653 non-null   float64\n",
      " 85  Name                                        2653 non-null   object \n",
      " 86  awards_nominated                            2653 non-null   float64\n",
      " 87  awards_won                                  2653 non-null   float64\n",
      " 88  inter_event_time                            1438 non-null   float64\n",
      "dtypes: float64(10), int64(69), object(10)\n",
      "memory usage: 1.8+ MB\n"
     ]
    }
   ],
   "source": [
    "withFirstMovieYearDF.info()"
   ]
  },
  {
   "cell_type": "code",
   "execution_count": 25,
   "metadata": {},
   "outputs": [],
   "source": [
    "# Convert into int years before using for calculations\n",
    "\n",
    "withFirstMovieYearDF.movie_year = withFirstMovieYearDF.movie_year.astype(int)\n",
    "withFirstMovieYearDF.birthYear = withFirstMovieYearDF.birthYear.astype(int)"
   ]
  },
  {
   "cell_type": "markdown",
   "metadata": {},
   "source": [
    "#### Right censoring or Posthumous Recognition"
   ]
  },
  {
   "cell_type": "code",
   "execution_count": 26,
   "metadata": {},
   "outputs": [],
   "source": [
    "# # Posthumous Recoginition\n",
    "# # The records which we believe contain Posthumous data. i.e. movies released after n years of directors death\n",
    "# years_after_death = 2\n",
    "# dropIncorrectlyRecordedYears = withFirstMovieYearDF.loc[(withFirstMovieYearDF.movie_year - withFirstMovieYearDF.deathYear >= years_after_death) & (withFirstMovieYearDF.deathYear !=0)]\n",
    "# dropIncorrectlyRecordedYears\n",
    "\n",
    "# # Drop all values containing movies released after n years as per the above assumption\n",
    "\n",
    "# withFirstMovieYearDF.drop(dropIncorrectlyRecordedYears.index, inplace= True)"
   ]
  },
  {
   "cell_type": "code",
   "execution_count": 27,
   "metadata": {},
   "outputs": [
    {
     "data": {
      "text/html": [
       "<div>\n",
       "<style scoped>\n",
       "    .dataframe tbody tr th:only-of-type {\n",
       "        vertical-align: middle;\n",
       "    }\n",
       "\n",
       "    .dataframe tbody tr th {\n",
       "        vertical-align: top;\n",
       "    }\n",
       "\n",
       "    .dataframe thead th {\n",
       "        text-align: right;\n",
       "    }\n",
       "</style>\n",
       "<table border=\"1\" class=\"dataframe\">\n",
       "  <thead>\n",
       "    <tr style=\"text-align: right;\">\n",
       "      <th></th>\n",
       "      <th>director_ids</th>\n",
       "      <th>director_names</th>\n",
       "      <th>movie_id</th>\n",
       "      <th>title</th>\n",
       "      <th>review_count_user</th>\n",
       "      <th>review_count_critic</th>\n",
       "      <th>metascore</th>\n",
       "      <th>rating_value</th>\n",
       "      <th>rating_count</th>\n",
       "      <th>release_date</th>\n",
       "      <th>...</th>\n",
       "      <th>FirstName</th>\n",
       "      <th>Gender</th>\n",
       "      <th>CareerStartYear</th>\n",
       "      <th>Career_Year_Number</th>\n",
       "      <th>Film</th>\n",
       "      <th>Ceremony</th>\n",
       "      <th>Name</th>\n",
       "      <th>awards_nominated</th>\n",
       "      <th>awards_won</th>\n",
       "      <th>inter_event_time</th>\n",
       "    </tr>\n",
       "  </thead>\n",
       "  <tbody>\n",
       "    <tr>\n",
       "      <th>0</th>\n",
       "      <td>nm0000122</td>\n",
       "      <td>Charles Chaplin</td>\n",
       "      <td>tt0027977</td>\n",
       "      <td>Les temps modernes (1936) - IMDb</td>\n",
       "      <td>213</td>\n",
       "      <td>119</td>\n",
       "      <td>96</td>\n",
       "      <td>8.6</td>\n",
       "      <td>147990</td>\n",
       "      <td>24 September 1936 (France)    See more »</td>\n",
       "      <td>...</td>\n",
       "      <td>charles</td>\n",
       "      <td>Male</td>\n",
       "      <td>1914</td>\n",
       "      <td>23</td>\n",
       "      <td>Les temps modernes</td>\n",
       "      <td>0.0</td>\n",
       "      <td>0</td>\n",
       "      <td>0.0</td>\n",
       "      <td>0.0</td>\n",
       "      <td>NaN</td>\n",
       "    </tr>\n",
       "    <tr>\n",
       "      <th>1</th>\n",
       "      <td>nm0281808</td>\n",
       "      <td>Victor Fleming</td>\n",
       "      <td>tt0032138</td>\n",
       "      <td>Óz, a csodák csodája (1939) - IMDb</td>\n",
       "      <td>540</td>\n",
       "      <td>213</td>\n",
       "      <td>100</td>\n",
       "      <td>8.1</td>\n",
       "      <td>299644</td>\n",
       "      <td>21 March 1940 (Hungary)    See more »</td>\n",
       "      <td>...</td>\n",
       "      <td>victor</td>\n",
       "      <td>Male</td>\n",
       "      <td>1919</td>\n",
       "      <td>21</td>\n",
       "      <td>Óz, a csodák csodája</td>\n",
       "      <td>0.0</td>\n",
       "      <td>0</td>\n",
       "      <td>0.0</td>\n",
       "      <td>0.0</td>\n",
       "      <td>NaN</td>\n",
       "    </tr>\n",
       "    <tr>\n",
       "      <th>2</th>\n",
       "      <td>nm0002030</td>\n",
       "      <td>George Cukor</td>\n",
       "      <td>tt0032138</td>\n",
       "      <td>Óz, a csodák csodája (1939) - IMDb</td>\n",
       "      <td>540</td>\n",
       "      <td>213</td>\n",
       "      <td>100</td>\n",
       "      <td>8.1</td>\n",
       "      <td>299644</td>\n",
       "      <td>21 March 1940 (Hungary)    See more »</td>\n",
       "      <td>...</td>\n",
       "      <td>george</td>\n",
       "      <td>Male</td>\n",
       "      <td>1930</td>\n",
       "      <td>10</td>\n",
       "      <td>Óz, a csodák csodája</td>\n",
       "      <td>0.0</td>\n",
       "      <td>0</td>\n",
       "      <td>0.0</td>\n",
       "      <td>0.0</td>\n",
       "      <td>NaN</td>\n",
       "    </tr>\n",
       "  </tbody>\n",
       "</table>\n",
       "<p>3 rows × 89 columns</p>\n",
       "</div>"
      ],
      "text/plain": [
       "  director_ids   director_names   movie_id  \\\n",
       "0    nm0000122  Charles Chaplin  tt0027977   \n",
       "1    nm0281808   Victor Fleming  tt0032138   \n",
       "2    nm0002030     George Cukor  tt0032138   \n",
       "\n",
       "                                title  review_count_user  review_count_critic  \\\n",
       "0    Les temps modernes (1936) - IMDb                213                  119   \n",
       "1  Óz, a csodák csodája (1939) - IMDb                540                  213   \n",
       "2  Óz, a csodák csodája (1939) - IMDb                540                  213   \n",
       "\n",
       "   metascore  rating_value  rating_count  \\\n",
       "0         96           8.6        147990   \n",
       "1        100           8.1        299644   \n",
       "2        100           8.1        299644   \n",
       "\n",
       "                                release_date  ...  FirstName  Gender  \\\n",
       "0   24 September 1936 (France)    See more »  ...    charles    Male   \n",
       "1      21 March 1940 (Hungary)    See more »  ...     victor    Male   \n",
       "2      21 March 1940 (Hungary)    See more »  ...     george    Male   \n",
       "\n",
       "   CareerStartYear  Career_Year_Number                  Film  Ceremony  Name  \\\n",
       "0             1914                  23    Les temps modernes       0.0     0   \n",
       "1             1919                  21  Óz, a csodák csodája       0.0     0   \n",
       "2             1930                  10  Óz, a csodák csodája       0.0     0   \n",
       "\n",
       "   awards_nominated  awards_won  inter_event_time  \n",
       "0               0.0         0.0               NaN  \n",
       "1               0.0         0.0               NaN  \n",
       "2               0.0         0.0               NaN  \n",
       "\n",
       "[3 rows x 89 columns]"
      ]
     },
     "execution_count": 27,
     "metadata": {},
     "output_type": "execute_result"
    }
   ],
   "source": [
    "withFirstMovieYearDF.head(3)"
   ]
  },
  {
   "cell_type": "code",
   "execution_count": 28,
   "metadata": {
    "scrolled": true
   },
   "outputs": [
    {
     "data": {
      "text/plain": [
       "1     188\n",
       "13    116\n",
       "12     99\n",
       "15     99\n",
       "14     98\n",
       "10     98\n",
       "8      96\n",
       "20     94\n",
       "9      93\n",
       "18     91\n",
       "11     91\n",
       "17     89\n",
       "16     86\n",
       "6      86\n",
       "21     76\n",
       "7      76\n",
       "5      70\n",
       "4      66\n",
       "19     60\n",
       "23     58\n",
       "22     55\n",
       "24     54\n",
       "25     50\n",
       "3      48\n",
       "27     46\n",
       "26     45\n",
       "28     42\n",
       "29     37\n",
       "31     33\n",
       "30     33\n",
       "34     32\n",
       "38     27\n",
       "33     26\n",
       "32     24\n",
       "39     23\n",
       "35     22\n",
       "36     20\n",
       "37     19\n",
       "40     19\n",
       "2      18\n",
       "44     18\n",
       "42     17\n",
       "46     17\n",
       "41     16\n",
       "45     14\n",
       "48     11\n",
       "43     10\n",
       "53      8\n",
       "51      7\n",
       "49      6\n",
       "47      6\n",
       "50      6\n",
       "52      5\n",
       "54      3\n",
       "61      1\n",
       "56      1\n",
       "58      1\n",
       "57      1\n",
       "55      1\n",
       "60      1\n",
       "Name: Career_Year_Number, dtype: int64"
      ]
     },
     "execution_count": 28,
     "metadata": {},
     "output_type": "execute_result"
    }
   ],
   "source": [
    "withFirstMovieYearDF.Career_Year_Number.value_counts(dropna=False)"
   ]
  },
  {
   "cell_type": "markdown",
   "metadata": {},
   "source": [
    "## Director Specific collection"
   ]
  },
  {
   "cell_type": "code",
   "execution_count": 29,
   "metadata": {},
   "outputs": [],
   "source": [
    "# # Convert rating_value into float before using for aggregation - withFirstMovieYear along with Metascore None records\n",
    "# withFirstMovieYearDF.rating_value = withFirstMovieYearDF.rating_value.astype(float)\n",
    "# withFirstMovieYearDF.rating_count = withFirstMovieYearDF.rating_count.astype(int)"
   ]
  },
  {
   "cell_type": "code",
   "execution_count": 30,
   "metadata": {},
   "outputs": [
    {
     "data": {
      "text/plain": [
       "Male      2311\n",
       "Female     342\n",
       "Name: Gender, dtype: int64"
      ]
     },
     "execution_count": 30,
     "metadata": {},
     "output_type": "execute_result"
    }
   ],
   "source": [
    "withFirstMovieYearDF.Gender.value_counts()"
   ]
  },
  {
   "cell_type": "code",
   "execution_count": 31,
   "metadata": {},
   "outputs": [
    {
     "name": "stdout",
     "output_type": "stream",
     "text": [
      "<class 'pandas.core.frame.DataFrame'>\n",
      "Int64Index: 2653 entries, 0 to 2652\n",
      "Data columns (total 89 columns):\n",
      " #   Column                                      Non-Null Count  Dtype  \n",
      "---  ------                                      --------------  -----  \n",
      " 0   director_ids                                2653 non-null   object \n",
      " 1   director_names                              2653 non-null   object \n",
      " 2   movie_id                                    2653 non-null   object \n",
      " 3   title                                       2653 non-null   object \n",
      " 4   review_count_user                           2653 non-null   int64  \n",
      " 5   review_count_critic                         2653 non-null   int64  \n",
      " 6   metascore                                   2653 non-null   int64  \n",
      " 7   rating_value                                2653 non-null   float64\n",
      " 8   rating_count                                2653 non-null   int64  \n",
      " 9   release_date                                2653 non-null   object \n",
      " 10  runtime                                     2653 non-null   float64\n",
      " 11  movie_year                                  2653 non-null   int32  \n",
      " 12  opening_weekend_value                       2653 non-null   float64\n",
      " 13  gross_value                                 2653 non-null   float64\n",
      " 14  budget_value                                2653 non-null   float64\n",
      " 15  color_Black_and_White                       2653 non-null   int64  \n",
      " 16  color_Color                                 2653 non-null   int64  \n",
      " 17  language_Arabic                             2653 non-null   int64  \n",
      " 18  language_Dutch                              2653 non-null   int64  \n",
      " 19  language_English                            2653 non-null   int64  \n",
      " 20  language_French                             2653 non-null   int64  \n",
      " 21  language_German                             2653 non-null   int64  \n",
      " 22  language_Greek                              2653 non-null   int64  \n",
      " 23  language_Hindi                              2653 non-null   int64  \n",
      " 24  language_Italian                            2653 non-null   int64  \n",
      " 25  language_Japanese                           2653 non-null   int64  \n",
      " 26  language_Mandarin                           2653 non-null   int64  \n",
      " 27  language_Other                              2653 non-null   int64  \n",
      " 28  language_Portuguese                         2653 non-null   int64  \n",
      " 29  language_Russian                            2653 non-null   int64  \n",
      " 30  language_Spanish                            2653 non-null   int64  \n",
      " 31  language_Swedish                            2653 non-null   int64  \n",
      " 32  language_Turkish                            2653 non-null   int64  \n",
      " 33  genre_Action                                2653 non-null   int64  \n",
      " 34  genre_Adult                                 2653 non-null   int64  \n",
      " 35  genre_Adventure                             2653 non-null   int64  \n",
      " 36  genre_Animation                             2653 non-null   int64  \n",
      " 37  genre_Biography                             2653 non-null   int64  \n",
      " 38  genre_Comedy                                2653 non-null   int64  \n",
      " 39  genre_Crime                                 2653 non-null   int64  \n",
      " 40  genre_Documentary                           2653 non-null   int64  \n",
      " 41  genre_Drama                                 2653 non-null   int64  \n",
      " 42  genre_Family                                2653 non-null   int64  \n",
      " 43  genre_Fantasy                               2653 non-null   int64  \n",
      " 44  genre_Film_Noir                             2653 non-null   int64  \n",
      " 45  genre_Game_Show                             2653 non-null   int64  \n",
      " 46  genre_History                               2653 non-null   int64  \n",
      " 47  genre_Horror                                2653 non-null   int64  \n",
      " 48  genre_Music                                 2653 non-null   int64  \n",
      " 49  genre_Musical                               2653 non-null   int64  \n",
      " 50  genre_Mystery                               2653 non-null   int64  \n",
      " 51  genre_News                                  2653 non-null   int64  \n",
      " 52  genre_None                                  2653 non-null   int64  \n",
      " 53  genre_Reality_TV                            2653 non-null   int64  \n",
      " 54  genre_Romance                               2653 non-null   int64  \n",
      " 55  genre_Sci_Fi                                2653 non-null   int64  \n",
      " 56  genre_Short                                 2653 non-null   int64  \n",
      " 57  genre_Sport                                 2653 non-null   int64  \n",
      " 58  genre_Talk_Show                             2653 non-null   int64  \n",
      " 59  genre_Thriller                              2653 non-null   int64  \n",
      " 60  genre_War                                   2653 non-null   int64  \n",
      " 61  genre_Western                               2653 non-null   int64  \n",
      " 62  title_category_TV                           2653 non-null   int64  \n",
      " 63  title_category_movie                        2653 non-null   int64  \n",
      " 64  title_category_video                        2653 non-null   int64  \n",
      " 65  title_subcategory_TV_episode                2653 non-null   int64  \n",
      " 66  title_subcategory_TV_miniseries             2653 non-null   int64  \n",
      " 67  title_subcategory_TV_movie                  2653 non-null   int64  \n",
      " 68  title_subcategory_TV_series                 2653 non-null   int64  \n",
      " 69  title_subcategory_TV_short                  2653 non-null   int64  \n",
      " 70  title_subcategory_movie                     2653 non-null   int64  \n",
      " 71  title_subcategory_video                     2653 non-null   int64  \n",
      " 72  birthYear                                   2653 non-null   int32  \n",
      " 73  director_profession_primary                 2653 non-null   int64  \n",
      " 74  director_profession_secondary               2653 non-null   int64  \n",
      " 75  director_profession_tertiary                2653 non-null   int64  \n",
      " 76  director_known_titles_count                 2653 non-null   int64  \n",
      " 77  director_known_titles_average_rating_value  2653 non-null   float64\n",
      " 78  clean_director_names                        2653 non-null   object \n",
      " 79  FirstName                                   2653 non-null   object \n",
      " 80  Gender                                      2653 non-null   object \n",
      " 81  CareerStartYear                             2653 non-null   int64  \n",
      " 82  Career_Year_Number                          2653 non-null   int64  \n",
      " 83  Film                                        2652 non-null   object \n",
      " 84  Ceremony                                    2653 non-null   float64\n",
      " 85  Name                                        2653 non-null   object \n",
      " 86  awards_nominated                            2653 non-null   float64\n",
      " 87  awards_won                                  2653 non-null   float64\n",
      " 88  inter_event_time                            1438 non-null   float64\n",
      "dtypes: float64(10), int32(2), int64(67), object(10)\n",
      "memory usage: 1.8+ MB\n"
     ]
    }
   ],
   "source": [
    "withFirstMovieYearDF.info()"
   ]
  },
  {
   "cell_type": "code",
   "execution_count": 32,
   "metadata": {},
   "outputs": [],
   "source": [
    "def roundOfMean(x):\n",
    "    return round(np.mean(x),2)"
   ]
  },
  {
   "cell_type": "code",
   "execution_count": 33,
   "metadata": {},
   "outputs": [],
   "source": [
    "# groupByAggregationDirector = {\n",
    "#     'movies_produced': ('movie_id','count'),\n",
    "#     'Average_rating_value': ('rating_value',roundOfMean),\n",
    "#     'Average_rating_count': ('rating_count',roundOfMean),\n",
    "#     'career_Length': ('Career_Year_Number','max')\n",
    "# }\n",
    "\n",
    "# groupByListDirectors = ['director_ids','birthYear','deathYear','primaryProfession','knownForTitles','Gender']"
   ]
  },
  {
   "cell_type": "markdown",
   "metadata": {},
   "source": [
    "### Number of  Awards each movie was nominated"
   ]
  },
  {
   "cell_type": "code",
   "execution_count": 34,
   "metadata": {},
   "outputs": [
    {
     "data": {
      "text/plain": [
       "217.0"
      ]
     },
     "execution_count": 34,
     "metadata": {},
     "output_type": "execute_result"
    }
   ],
   "source": [
    "withFirstMovieYearDF['awards_nominated'].sum()"
   ]
  },
  {
   "cell_type": "code",
   "execution_count": 35,
   "metadata": {},
   "outputs": [],
   "source": [
    "# print('Shape of data :', withFirstMovieYearDF.shape)\n",
    "# # Extract the columns starting with awards that represent the awards nominated for\n",
    "# nominated_awards_filter_col = [col for col in withFirstMovieYearDF if col.startswith('Award_')]\n",
    "\n",
    "# # Store nominated awards data\n",
    "# nominated_awards_df = withFirstMovieYearDF[nominated_awards_filter_col]\n",
    "\n",
    "# # # Drop these from the original dataframe\n",
    "# # withFirstMovieYearDF.drop(columns= nominated_awards_filter_col,inplace = True)\n",
    "# # print('Shape of data after dropping the awards nominated features:', withFirstMovieYearDF.shape)\n",
    "\n",
    "# # Extract the awards nominated by each movie by summing across the columns\n",
    "# withFirstMovieYearDF['awards_nominated']= nominated_awards_df.sum(axis='columns')\n",
    "# withFirstMovieYearDF['awards_nominated'].sum()\n",
    "# print('Shape of data after extracting the number of awards nominated feature:', withFirstMovieYearDF.shape)"
   ]
  },
  {
   "cell_type": "markdown",
   "metadata": {},
   "source": [
    "### Awards won by each movie"
   ]
  },
  {
   "cell_type": "code",
   "execution_count": 36,
   "metadata": {},
   "outputs": [
    {
     "data": {
      "text/plain": [
       "53.0"
      ]
     },
     "execution_count": 36,
     "metadata": {},
     "output_type": "execute_result"
    }
   ],
   "source": [
    "withFirstMovieYearDF['awards_won'].sum()"
   ]
  },
  {
   "cell_type": "code",
   "execution_count": 37,
   "metadata": {},
   "outputs": [],
   "source": [
    "# print('Shape of data :', withFirstMovieYearDF.shape)\n",
    "# # Extract the columns starting with awards that represent the awards won\n",
    "# winner_awards_filter_col = [col for col in withFirstMovieYearDF if col.startswith('Winner_')]\n",
    "\n",
    "# # Store awards won data\n",
    "# winner_awards_df = withFirstMovieYearDF[winner_awards_filter_col]\n",
    "\n",
    "# # # Drop these from the original dataframe\n",
    "# # withFirstMovieYearDF.drop(columns= winner_awards_filter_col,inplace =True )\n",
    "# # print('Shape of data after dropping the awards won features:', withFirstMovieYearDF.shape)\n",
    "\n",
    "# # Extract the awards won by each movie by summing across the columns\n",
    "# withFirstMovieYearDF['awards_won'] = winner_awards_df.sum(axis='columns')\n",
    "# withFirstMovieYearDF['awards_won'].sum()\n",
    "# print('Shape of data after extracting the number of awards won feature:', withFirstMovieYearDF.shape)"
   ]
  },
  {
   "cell_type": "markdown",
   "metadata": {},
   "source": [
    "### Number of countries movies released in"
   ]
  },
  {
   "cell_type": "code",
   "execution_count": 38,
   "metadata": {},
   "outputs": [
    {
     "name": "stdout",
     "output_type": "stream",
     "text": [
      "Shape of data : (2653, 89)\n",
      "Shape of data after extracting the number of countries where the movies was released: (2653, 90)\n"
     ]
    }
   ],
   "source": [
    "print('Shape of data :', withFirstMovieYearDF.shape)\n",
    "# Extract the columns starting with awards that represent the awards won\n",
    "total_countries_movies_released_filter_col = [col for col in withFirstMovieYearDF if col.startswith('country_')]\n",
    "\n",
    "# Store countries awards in df\n",
    "countries_movies_df = withFirstMovieYearDF[total_countries_movies_released_filter_col]\n",
    "\n",
    "# Extract the number of countries each movie was released in\n",
    "withFirstMovieYearDF['num_countries_movie_released'] = countries_movies_df.sum(axis='columns')\n",
    "print('Shape of data after extracting the number of countries where the movies was released:', withFirstMovieYearDF.shape)"
   ]
  },
  {
   "cell_type": "code",
   "execution_count": 39,
   "metadata": {},
   "outputs": [
    {
     "data": {
      "text/plain": [
       "0.0    2653\n",
       "Name: num_countries_movie_released, dtype: int64"
      ]
     },
     "execution_count": 39,
     "metadata": {},
     "output_type": "execute_result"
    }
   ],
   "source": [
    "withFirstMovieYearDF['num_countries_movie_released'].value_counts()"
   ]
  },
  {
   "cell_type": "markdown",
   "metadata": {},
   "source": [
    "### Choose if you want director specific data for all records or TV Episodes only records or movie only records"
   ]
  },
  {
   "cell_type": "code",
   "execution_count": 40,
   "metadata": {},
   "outputs": [],
   "source": [
    "safeCopy = withFirstMovieYearDF.copy()"
   ]
  },
  {
   "cell_type": "code",
   "execution_count": 41,
   "metadata": {},
   "outputs": [],
   "source": [
    "# tv_data = withFirstMovieYearDF[withFirstMovieYearDF.tv_or_movie=='TV'].reset_index(drop = True)\n",
    "# movie_data = withFirstMovieYearDF[withFirstMovieYearDF.tv_or_movie=='Movie'].reset_index(drop = True)\n",
    "# withFirstMovieYearDF = movie_data\n",
    "# # withFirstMovieYearDF = tv_data"
   ]
  },
  {
   "cell_type": "markdown",
   "metadata": {},
   "source": [
    "## Generate cumulative Director Dataframe "
   ]
  },
  {
   "cell_type": "code",
   "execution_count": 42,
   "metadata": {
    "scrolled": false
   },
   "outputs": [
    {
     "name": "stdout",
     "output_type": "stream",
     "text": [
      "genre_Action = ('genre_Action','max'),\n",
      "genre_Adult = ('genre_Adult','max'),\n",
      "genre_Adventure = ('genre_Adventure','max'),\n",
      "genre_Animation = ('genre_Animation','max'),\n",
      "genre_Biography = ('genre_Biography','max'),\n",
      "genre_Comedy = ('genre_Comedy','max'),\n",
      "genre_Crime = ('genre_Crime','max'),\n",
      "genre_Documentary = ('genre_Documentary','max'),\n",
      "genre_Drama = ('genre_Drama','max'),\n",
      "genre_Family = ('genre_Family','max'),\n",
      "genre_Fantasy = ('genre_Fantasy','max'),\n",
      "genre_Film_Noir = ('genre_Film_Noir','max'),\n",
      "genre_Game_Show = ('genre_Game_Show','max'),\n",
      "genre_History = ('genre_History','max'),\n",
      "genre_Horror = ('genre_Horror','max'),\n",
      "genre_Music = ('genre_Music','max'),\n",
      "genre_Musical = ('genre_Musical','max'),\n",
      "genre_Mystery = ('genre_Mystery','max'),\n",
      "genre_News = ('genre_News','max'),\n",
      "genre_None = ('genre_None','max'),\n",
      "genre_Reality_TV = ('genre_Reality_TV','max'),\n",
      "genre_Romance = ('genre_Romance','max'),\n",
      "genre_Sci_Fi = ('genre_Sci_Fi','max'),\n",
      "genre_Short = ('genre_Short','max'),\n",
      "genre_Sport = ('genre_Sport','max'),\n",
      "genre_Talk_Show = ('genre_Talk_Show','max'),\n",
      "genre_Thriller = ('genre_Thriller','max'),\n",
      "genre_War = ('genre_War','max'),\n",
      "genre_Western = ('genre_Western','max'),\n"
     ]
    }
   ],
   "source": [
    "genre_filter_col = [col + \" = ('\"+col+\"','max'),\" for col in withFirstMovieYearDF if col.startswith('genre_')]\n",
    "\n",
    "for i in genre_filter_col:\n",
    "    print(i)"
   ]
  },
  {
   "cell_type": "code",
   "execution_count": 43,
   "metadata": {
    "scrolled": false
   },
   "outputs": [],
   "source": [
    "countries_filter_col = [col + \" = ('\"+col+\"','max'),\" for col in withFirstMovieYearDF if col.startswith('country_')]\n",
    "for i in countries_filter_col:\n",
    "    print(i)"
   ]
  },
  {
   "cell_type": "code",
   "execution_count": 44,
   "metadata": {
    "scrolled": true
   },
   "outputs": [
    {
     "name": "stdout",
     "output_type": "stream",
     "text": [
      "total_director_ids = ('director_ids','sum'),\n",
      "total_director_names = ('director_names','sum'),\n",
      "total_director_profession_primary = ('director_profession_primary','sum'),\n",
      "total_director_profession_secondary = ('director_profession_secondary','sum'),\n",
      "total_director_profession_tertiary = ('director_profession_tertiary','sum'),\n",
      "total_director_known_titles_count = ('director_known_titles_count','sum'),\n",
      "total_director_known_titles_average_rating_value = ('director_known_titles_average_rating_value','sum'),\n"
     ]
    }
   ],
   "source": [
    "watch_category_filter_col = [\"total_\" + col + \" = ('\"+col+\"','sum'),\" for col in withFirstMovieYearDF if col.startswith('director_')]\n",
    "\n",
    "for i in watch_category_filter_col:\n",
    "    print(i)"
   ]
  },
  {
   "cell_type": "code",
   "execution_count": 45,
   "metadata": {},
   "outputs": [],
   "source": [
    "budget_cur_filter_col = [ col + \" = ('\"+col+\"','first'),\" for col in withFirstMovieYearDF if col.startswith('budget_cur_')]\n",
    "\n",
    "for i in budget_cur_filter_col:\n",
    "    print(i)"
   ]
  },
  {
   "cell_type": "code",
   "execution_count": 46,
   "metadata": {},
   "outputs": [
    {
     "name": "stdout",
     "output_type": "stream",
     "text": [
      "language_Arabic = ('language_Arabic','max'),\n",
      "language_Dutch = ('language_Dutch','max'),\n",
      "language_English = ('language_English','max'),\n",
      "language_French = ('language_French','max'),\n",
      "language_German = ('language_German','max'),\n",
      "language_Greek = ('language_Greek','max'),\n",
      "language_Hindi = ('language_Hindi','max'),\n",
      "language_Italian = ('language_Italian','max'),\n",
      "language_Japanese = ('language_Japanese','max'),\n",
      "language_Mandarin = ('language_Mandarin','max'),\n",
      "language_Other = ('language_Other','max'),\n",
      "language_Portuguese = ('language_Portuguese','max'),\n",
      "language_Russian = ('language_Russian','max'),\n",
      "language_Spanish = ('language_Spanish','max'),\n",
      "language_Swedish = ('language_Swedish','max'),\n",
      "language_Turkish = ('language_Turkish','max'),\n"
     ]
    }
   ],
   "source": [
    "language_filter_col = [ col + \" = ('\"+col+\"','max'),\" for col in withFirstMovieYearDF if col.startswith('language_')]\n",
    "\n",
    "for i in language_filter_col:\n",
    "    print(i)\n"
   ]
  },
  {
   "cell_type": "code",
   "execution_count": 47,
   "metadata": {},
   "outputs": [
    {
     "name": "stdout",
     "output_type": "stream",
     "text": [
      "title_category_TV = ('title_category_TV','sum'),\n",
      "title_category_movie = ('title_category_movie','sum'),\n",
      "title_category_video = ('title_category_video','sum'),\n",
      "title_subcategory_TV_episode = ('title_subcategory_TV_episode','sum'),\n",
      "title_subcategory_TV_miniseries = ('title_subcategory_TV_miniseries','sum'),\n",
      "title_subcategory_TV_movie = ('title_subcategory_TV_movie','sum'),\n",
      "title_subcategory_TV_series = ('title_subcategory_TV_series','sum'),\n",
      "title_subcategory_TV_short = ('title_subcategory_TV_short','sum'),\n",
      "title_subcategory_movie = ('title_subcategory_movie','sum'),\n",
      "title_subcategory_video = ('title_subcategory_video','sum'),\n"
     ]
    }
   ],
   "source": [
    "title_filter_col = [ col + \" = ('\"+col+\"','sum'),\" for col in withFirstMovieYearDF if col.startswith('title_')]\n",
    "\n",
    "for i in title_filter_col:\n",
    "    print(i)\n"
   ]
  },
  {
   "cell_type": "markdown",
   "metadata": {},
   "source": [
    "### Create dictionary for aggregate"
   ]
  },
  {
   "cell_type": "code",
   "execution_count": 48,
   "metadata": {},
   "outputs": [],
   "source": [
    "def dictionary_creator(listofKeys, aggregateValue = 'sum'):\n",
    "    listOfValues = [aggregateValue] * len(listofKeys)\n",
    "    aggDictionary = dict(zip(listofKeys, listOfValues))\n",
    "    return aggDictionary"
   ]
  },
  {
   "cell_type": "code",
   "execution_count": 49,
   "metadata": {},
   "outputs": [],
   "source": [
    "def merge_dictionary():\n",
    "    sumDict = dictionary_creator(aggSumList,'sum')\n",
    "    firstDict = dictionary_creator(aggFirstList,'first')\n",
    "    roundOfMeanDic = dictionary_creator(aggRoundOfMeanList,'first')"
   ]
  },
  {
   "cell_type": "code",
   "execution_count": 50,
   "metadata": {},
   "outputs": [],
   "source": [
    "# # aggSumList = []\n",
    "# # aggFirstList = []\n",
    "# # aggRoundOfMeanList = ['review_count_user',]\n",
    "# # aggCountList = []\n",
    "\n",
    "\n",
    "# x = dictionary_creator(aggRoundOfMeanList,'sum')\n",
    "# y = dictionary_creator([1,2,6],'sum')\n",
    "\n",
    "# x.update(y)"
   ]
  },
  {
   "cell_type": "code",
   "execution_count": 51,
   "metadata": {},
   "outputs": [
    {
     "ename": "SyntaxError",
     "evalue": "'break' outside loop (<ipython-input-51-6aaf1f276005>, line 4)",
     "output_type": "error",
     "traceback": [
      "\u001b[1;36m  File \u001b[1;32m\"<ipython-input-51-6aaf1f276005>\"\u001b[1;36m, line \u001b[1;32m4\u001b[0m\n\u001b[1;31mSyntaxError\u001b[0m\u001b[1;31m:\u001b[0m 'break' outside loop\n"
     ]
    }
   ],
   "source": [
    "break"
   ]
  },
  {
   "cell_type": "code",
   "execution_count": 52,
   "metadata": {},
   "outputs": [
    {
     "data": {
      "text/plain": [
       "array(['director_ids', 'director_names', 'movie_id', 'title',\n",
       "       'review_count_user', 'review_count_critic', 'metascore',\n",
       "       'rating_value', 'rating_count', 'release_date', 'runtime',\n",
       "       'movie_year', 'opening_weekend_value', 'gross_value',\n",
       "       'budget_value', 'color_Black_and_White', 'color_Color',\n",
       "       'language_Arabic', 'language_Dutch', 'language_English',\n",
       "       'language_French', 'language_German', 'language_Greek',\n",
       "       'language_Hindi', 'language_Italian', 'language_Japanese',\n",
       "       'language_Mandarin', 'language_Other', 'language_Portuguese',\n",
       "       'language_Russian', 'language_Spanish', 'language_Swedish',\n",
       "       'language_Turkish', 'genre_Action', 'genre_Adult',\n",
       "       'genre_Adventure', 'genre_Animation', 'genre_Biography',\n",
       "       'genre_Comedy', 'genre_Crime', 'genre_Documentary', 'genre_Drama',\n",
       "       'genre_Family', 'genre_Fantasy', 'genre_Film_Noir',\n",
       "       'genre_Game_Show', 'genre_History', 'genre_Horror', 'genre_Music',\n",
       "       'genre_Musical', 'genre_Mystery', 'genre_News', 'genre_None',\n",
       "       'genre_Reality_TV', 'genre_Romance', 'genre_Sci_Fi', 'genre_Short',\n",
       "       'genre_Sport', 'genre_Talk_Show', 'genre_Thriller', 'genre_War',\n",
       "       'genre_Western', 'title_category_TV', 'title_category_movie',\n",
       "       'title_category_video', 'title_subcategory_TV_episode',\n",
       "       'title_subcategory_TV_miniseries', 'title_subcategory_TV_movie',\n",
       "       'title_subcategory_TV_series', 'title_subcategory_TV_short',\n",
       "       'title_subcategory_movie', 'title_subcategory_video', 'birthYear',\n",
       "       'director_profession_primary', 'director_profession_secondary',\n",
       "       'director_profession_tertiary', 'director_known_titles_count',\n",
       "       'director_known_titles_average_rating_value',\n",
       "       'clean_director_names', 'FirstName', 'Gender', 'CareerStartYear',\n",
       "       'Career_Year_Number', 'Film', 'Ceremony', 'Name',\n",
       "       'awards_nominated', 'awards_won', 'inter_event_time',\n",
       "       'num_countries_movie_released'], dtype=object)"
      ]
     },
     "execution_count": 52,
     "metadata": {},
     "output_type": "execute_result"
    }
   ],
   "source": [
    "withFirstMovieYearDF.columns.values"
   ]
  },
  {
   "cell_type": "markdown",
   "metadata": {},
   "source": [
    "# For preparing Director dataset 1"
   ]
  },
  {
   "cell_type": "code",
   "execution_count": 53,
   "metadata": {},
   "outputs": [],
   "source": [
    "# # Groupby List\n",
    "# groupByListDirectors = ['director_ids']\n",
    "\n",
    "# print(\"Shape of dataset begore group by : \",withFirstMovieYearDF.shape)\n",
    "\n",
    "# # Group by aggregation to generate columns\n",
    "# cumulativeDirectorDF = withFirstMovieYearDF.groupby(groupByListDirectors) \\\n",
    "#                                      .agg({'director_names':'first',\n",
    "#                                            'movie_id':'count',\n",
    "#                                            'rating_value': roundOfMean,\n",
    "#                                            'rating_count': roundOfMean,\n",
    "#                                            'Career_Year_Number':'max',\n",
    "#                                            'Gender':'first',\n",
    "#                                            'birthYear':'first',\n",
    "#                                            'CareerStartYear':'first',\n",
    "#                                            'inter_event_time':'median'\n",
    "#                                           }) \\\n",
    "#                                      .reset_index()\n",
    "\n",
    "# # Columns renamed\n",
    "# cumulativeDirectorDF = cumulativeDirectorDF.rename(columns={'movie_id':'movies_produced',\n",
    "#                                                             'rating_value':'Average_rating_value',\n",
    "#                                                             'rating_count':'Average_rating_count',\n",
    "#                                                             'Career_Year_Number':'career_Length',\n",
    "#                                                             'director_names':'director_name',\n",
    "#                                                             'inter_event_time':'median_inter_event_time'\n",
    "#                                                             }\n",
    "#                                                   )\n",
    "\n",
    "# cumulativeDirectorDF['average_movie_per_year'] = round(cumulativeDirectorDF.movies_produced / cumulativeDirectorDF.career_Length,2)\n",
    "\n",
    "# # cumulativeDirectorDF['average_time_between_consecutive_movies'] = round(cumulativeDirectorDF['time_between_consecutive_movies'] / (cumulativeDirectorDF.movies_produced),2)\n",
    "# cumulativeDirectorDF['average_inter_event_time'] = round((cumulativeDirectorDF.career_Length-1) / (cumulativeDirectorDF.movies_produced - 1) ,2)\n",
    "# cumulativeDirectorDF = cumulativeDirectorDF.fillna(0)\n",
    "# # cumulativeDirectorDF[cumulativeDirectorDF.movies_produced>1]\n",
    "# print(\"Shape of dataset after group by : \",cumulativeDirectorDF.shape)\n"
   ]
  },
  {
   "cell_type": "markdown",
   "metadata": {},
   "source": [
    "## Named aggregation : For Preparing Director dataset 2"
   ]
  },
  {
   "cell_type": "code",
   "execution_count": 54,
   "metadata": {},
   "outputs": [],
   "source": [
    "# # Groupby List\n",
    "# groupByListDirectors = ['director_ids']\n",
    "\n",
    "# print(\"Shape of dataset begore group by : \",withFirstMovieYearDF.shape)\n",
    "\n",
    "# # Group by aggregation to generate columns\n",
    "# cumulativeDirectorDF = withFirstMovieYearDF.groupby(groupByListDirectors)\\\n",
    "#                                            .agg(\\\n",
    "#                                                 director_name = ('director_names','first'),\n",
    "#                                                 average_rating_value=('rating_value', roundOfMean),\n",
    "#                                                 average_rating_count=('rating_count', roundOfMean),\n",
    "\n",
    "#                                                 movies_produced = ('movie_id', 'count'),\n",
    "#                                                 career_Length = ('Career_Year_Number','max'),\n",
    "#                                                 CareerStartYear = ('CareerStartYear','first'),\n",
    "#                                                 Gender =('Gender','first'),\n",
    "#                                                 birthYear = ('birthYear','first'),\n",
    "\n",
    "#                                                 median_inter_event_time = ('inter_event_time','median'),\n",
    "#                                                 average_inter_event_time = ('inter_event_time',roundOfMean),\n",
    "#                                                 total_review_count_user = ('review_count_user','sum'),\n",
    "#                                                 total_review_count_critic = ('review_count_critic','sum'),\n",
    "\n",
    "#                                                 total_metascore = ('metascore','sum'),\n",
    "# #                                                 average_metascore = ('metascore',roundOfMean),\n",
    "#                                                 median_metascore = ('metascore','median'),\n",
    "                                                \n",
    "#                                                 total_awards_won = ('awards_won','sum'),\n",
    "#                                                 total_awards_nominated = ('awards_nominated','sum'),\n",
    "                                                \n",
    "#                                                 total_gross_value = ('gross_value','sum'),\n",
    "#                                                 total_budget_value = ('budget_value','sum'),\n",
    "                                                \n",
    "#                                                 budget_cur_AUD = ('budget_cur_AUD','first'),\n",
    "#                                                 budget_cur_CAD = ('budget_cur_CAD','first'),\n",
    "#                                                 budget_cur_EUR = ('budget_cur_EUR','first'),\n",
    "#                                                 budget_cur_GBP = ('budget_cur_GBP','first'),\n",
    "#                                                 budget_cur_INR = ('budget_cur_INR','first'),\n",
    "#                                                 budget_cur_USD = ('budget_cur_USD','first'),\n",
    "                                                \n",
    "#                                                 average_runtime_of_movie = ('runtime',roundOfMean),\n",
    "                                                \n",
    "#                                                 country_Argentina = ('country_Argentina','max'),\n",
    "#                                                 country_Australia = ('country_Australia','max'),\n",
    "#                                                 country_Brazil = ('country_Brazil','max'),\n",
    "#                                                 country_Canada = ('country_Canada','max'),\n",
    "#                                                 country_Denmark = ('country_Denmark','max'),\n",
    "#                                                 country_Finland = ('country_Finland','max'),\n",
    "#                                                 country_France = ('country_France','max'),\n",
    "#                                                 country_Germany = ('country_Germany','max'),\n",
    "#                                                 country_Greece = ('country_Greece','max'),\n",
    "#                                                 country_Hong_Kong = ('country_Hong_Kong','max'),\n",
    "#                                                 country_India = ('country_India','max'),\n",
    "#                                                 country_Italy = ('country_Italy','max'),\n",
    "#                                                 country_Japan = ('country_Japan','max'),\n",
    "#                                                 country_Mexico = ('country_Mexico','max'),\n",
    "#                                                 country_Netherlands = ('country_Netherlands','max'),\n",
    "#                                                 country_Other = ('country_Other','max'),\n",
    "#                                                 country_Russia = ('country_Russia','max'),\n",
    "#                                                 country_Soviet_Union = ('country_Soviet_Union','max'),\n",
    "#                                                 country_Spain = ('country_Spain','max'),\n",
    "#                                                 country_Sweden = ('country_Sweden','max'),\n",
    "#                                                 country_Turkey = ('country_Turkey','max'),\n",
    "#                                                 country_UK = ('country_UK','max'),\n",
    "#                                                 country_USA = ('country_USA','max'),\n",
    "#                                                 country_West_Germany = ('country_West_Germany','max'),\n",
    "                                                \n",
    "#                                                 total_genre_Action = ('genre_Action','sum'),\n",
    "#                                                 total_genre_Adult = ('genre_Adult','sum'),\n",
    "#                                                 total_genre_Adventure = ('genre_Adventure','sum'),\n",
    "#                                                 total_genre_Animation = ('genre_Animation','sum'),\n",
    "#                                                 total_genre_Biography = ('genre_Biography','sum'),\n",
    "#                                                 total_genre_Comedy = ('genre_Comedy','sum'),\n",
    "#                                                 total_genre_Crime = ('genre_Crime','sum'),\n",
    "#                                                 total_genre_Documentary = ('genre_Documentary','sum'),\n",
    "#                                                 total_genre_Drama = ('genre_Drama','sum'),\n",
    "#                                                 total_genre_Family = ('genre_Family','sum'),\n",
    "#                                                 total_genre_Fantasy = ('genre_Fantasy','sum'),\n",
    "#                                                 total_genre_Film_Noir = ('genre_Film_Noir','sum'),\n",
    "#                                                 total_genre_Game_Show = ('genre_Game_Show','sum'),\n",
    "#                                                 total_genre_History = ('genre_History','sum'),\n",
    "#                                                 total_genre_Horror = ('genre_Horror','sum'),\n",
    "#                                                 total_genre_Music = ('genre_Music','sum'),\n",
    "#                                                 total_genre_Musical = ('genre_Musical','sum'),\n",
    "#                                                 total_genre_Mystery = ('genre_Mystery','sum'),\n",
    "#                                                 total_genre_News = ('genre_News','sum'),\n",
    "#                                                 total_genre_None = ('genre_None','sum'),\n",
    "#                                                 total_genre_Reality_TV = ('genre_Reality_TV','sum'),\n",
    "#                                                 total_genre_Romance = ('genre_Romance','sum'),\n",
    "#                                                 total_genre_Sci_Fi = ('genre_Sci_Fi','sum'),\n",
    "#                                                 total_genre_Short = ('genre_Short','sum'),\n",
    "#                                                 total_genre_Sport = ('genre_Sport','sum'),\n",
    "#                                                 total_genre_Talk_Show = ('genre_Talk_Show','sum'),\n",
    "#                                                 total_genre_Thriller = ('genre_Thriller','sum'),\n",
    "#                                                 total_genre_War = ('genre_War','sum'),\n",
    "#                                                 total_genre_Western = ('genre_Western','sum'),\n",
    "                                                \n",
    "#                                                 genre_Action = ('genre_Action','max'),\n",
    "#                                                 genre_Adult = ('genre_Adult','max'),\n",
    "#                                                 genre_Adventure = ('genre_Adventure','max'),\n",
    "#                                                 genre_Animation = ('genre_Animation','max'),\n",
    "#                                                 genre_Biography = ('genre_Biography','max'),\n",
    "#                                                 genre_Comedy = ('genre_Comedy','max'),\n",
    "#                                                 genre_Crime = ('genre_Crime','max'),\n",
    "#                                                 genre_Documentary = ('genre_Documentary','max'),\n",
    "#                                                 genre_Drama = ('genre_Drama','max'),\n",
    "#                                                 genre_Family = ('genre_Family','max'),\n",
    "#                                                 genre_Fantasy = ('genre_Fantasy','max'),\n",
    "#                                                 genre_Film_Noir = ('genre_Film_Noir','max'),\n",
    "#                                                 genre_Game_Show = ('genre_Game_Show','max'),\n",
    "#                                                 genre_History = ('genre_History','max'),\n",
    "#                                                 genre_Horror = ('genre_Horror','max'),\n",
    "#                                                 genre_Music = ('genre_Music','max'),\n",
    "#                                                 genre_Musical = ('genre_Musical','max'),\n",
    "#                                                 genre_Mystery = ('genre_Mystery','max'),\n",
    "#                                                 genre_News = ('genre_News','max'),\n",
    "#                                                 genre_None = ('genre_None','max'),\n",
    "#                                                 genre_Reality_TV = ('genre_Reality_TV','max'),\n",
    "#                                                 genre_Romance = ('genre_Romance','max'),\n",
    "#                                                 genre_Sci_Fi = ('genre_Sci_Fi','max'),\n",
    "#                                                 genre_Short = ('genre_Short','max'),\n",
    "#                                                 genre_Sport = ('genre_Sport','max'),\n",
    "#                                                 genre_Talk_Show = ('genre_Talk_Show','max'),\n",
    "#                                                 genre_Thriller = ('genre_Thriller','max'),\n",
    "#                                                 genre_War = ('genre_War','max'),\n",
    "#                                                 genre_Western = ('genre_Western','max'),\n",
    "                                                \n",
    "#                                                 director_profession_primary = ('director_profession_primary','first'),\n",
    "#                                                 director_profession_secondary = ('director_profession_secondary','first'),\n",
    "#                                                 director_profession_tertiary = ('director_profession_tertiary','first'),\n",
    "#                                                 director_known_titles_count = ('director_known_titles_count', 'first'),\n",
    "#                                                 director_known_titles_average_rating_value = ('director_known_titles_average_rating_value','first'),\n",
    "                                                \n",
    "#                                                 language_Arabic = ('language_Arabic','max'),\n",
    "#                                                 language_Dutch = ('language_Dutch','max'),\n",
    "#                                                 language_English = ('language_English','max'),\n",
    "#                                                 language_French = ('language_French','max'),\n",
    "#                                                 language_German = ('language_German','max'),\n",
    "#                                                 language_Greek = ('language_Greek','max'),\n",
    "#                                                 language_Hindi = ('language_Hindi','max'),\n",
    "#                                                 language_Italian = ('language_Italian','max'),\n",
    "#                                                 language_Japanese = ('language_Japanese','max'),\n",
    "#                                                 language_Mandarin = ('language_Mandarin','max'),\n",
    "#                                                 language_Other = ('language_Other','max'),\n",
    "#                                                 language_Portuguese = ('language_Portuguese','max'),\n",
    "#                                                 language_Russian = ('language_Russian','max'),\n",
    "#                                                 language_Spanish = ('language_Spanish','max'),\n",
    "#                                                 language_Swedish = ('language_Swedish','max'),\n",
    "#                                                 language_Turkish = ('language_Turkish','max'),\n",
    "                                               \n",
    "#                                                ).reset_index()\n",
    "\n",
    "# cumulativeDirectorDF['average_movie_per_year'] = round(cumulativeDirectorDF.movies_produced / cumulativeDirectorDF.career_Length,2)\n",
    "\n",
    "# # # cumulativeDirectorDF['average_time_between_consecutive_movies'] = round(cumulativeDirectorDF['time_between_consecutive_movies'] / (cumulativeDirectorDF.movies_produced),2)\n",
    "# # cumulativeDirectorDF['average_inter_event_time'] = round((cumulativeDirectorDF['career_Length']-1) / (cumulativeDirectorDF['movies_produced'] - 1) ,2)\n",
    "# cumulativeDirectorDF = cumulativeDirectorDF.fillna(0)\n",
    "# # cumulativeDirectorDF[cumulativeDirectorDF.movies_produced>1]\n",
    "# print(\"Shape of dataset after group by : \",cumulativeDirectorDF.shape)\n"
   ]
  },
  {
   "cell_type": "markdown",
   "metadata": {},
   "source": [
    "## Preparing Director dataset 3"
   ]
  },
  {
   "cell_type": "code",
   "execution_count": 55,
   "metadata": {},
   "outputs": [
    {
     "name": "stdout",
     "output_type": "stream",
     "text": [
      "Shape of dataset begore group by :  (2653, 90)\n",
      "Shape of dataset after group by :  (1215, 84)\n"
     ]
    }
   ],
   "source": [
    "# Groupby List\n",
    "groupByListDirectors = ['director_ids']\n",
    "\n",
    "print(\"Shape of dataset begore group by : \",withFirstMovieYearDF.shape)\n",
    "\n",
    "# Group by aggregation to generate columns\n",
    "cumulativeDirectorDF = withFirstMovieYearDF.groupby(groupByListDirectors)\\\n",
    "                                           .agg(\\\n",
    "                                                director_name = ('director_names','first'),\n",
    "                                                average_rating_value=('rating_value', roundOfMean),\n",
    "                                                average_rating_count=('rating_count', roundOfMean),\n",
    "\n",
    "                                                movies_produced = ('movie_id', 'count'),\n",
    "                                                career_Length = ('Career_Year_Number','max'),\n",
    "                                                CareerStartYear = ('CareerStartYear','first'),\n",
    "                                                Gender =('Gender','first'),\n",
    "                                                birthYear = ('birthYear','first'),\n",
    "\n",
    "                                                median_inter_event_time = ('inter_event_time','median'),\n",
    "                                                average_inter_event_time = ('inter_event_time',roundOfMean),\n",
    "                                                total_review_count_user = ('review_count_user','sum'),\n",
    "                                                total_review_count_critic = ('review_count_critic','sum'),\n",
    "\n",
    "                                                total_metascore = ('metascore','sum'),\n",
    "#                                                 average_metascore = ('metascore',roundOfMean),\n",
    "                                                median_metascore = ('metascore','median'),\n",
    "                                                \n",
    "                                                total_awards_won = ('awards_won','sum'),\n",
    "                                                total_awards_nominated = ('awards_nominated','sum'),\n",
    "                                                \n",
    "                                                total_gross_value = ('gross_value','sum'),\n",
    "                                                total_budget_value = ('budget_value','sum'),\n",
    "                                                \n",
    "                                                average_runtime_of_movie = ('runtime',roundOfMean),\n",
    "                                                \n",
    "                                                director_profession_primary = ('director_profession_primary','first'),\n",
    "                                                director_profession_secondary = ('director_profession_secondary','first'),\n",
    "                                                director_profession_tertiary = ('director_profession_tertiary','first'),\n",
    "                                                director_known_titles_count = ('director_known_titles_count', 'first'),\n",
    "                                                director_known_titles_average_rating_value = ('director_known_titles_average_rating_value','first'),\n",
    "                                                \n",
    "                                                \n",
    "                                                total_genre_Action = ('genre_Action','sum'),\n",
    "                                                total_genre_Adult = ('genre_Adult','sum'),\n",
    "                                                total_genre_Adventure = ('genre_Adventure','sum'),\n",
    "                                                total_genre_Animation = ('genre_Animation','sum'),\n",
    "                                                total_genre_Biography = ('genre_Biography','sum'),\n",
    "                                                total_genre_Comedy = ('genre_Comedy','sum'),\n",
    "                                                total_genre_Crime = ('genre_Crime','sum'),\n",
    "                                                total_genre_Documentary = ('genre_Documentary','sum'),\n",
    "                                                total_genre_Drama = ('genre_Drama','sum'),\n",
    "                                                total_genre_Family = ('genre_Family','sum'),\n",
    "                                                total_genre_Fantasy = ('genre_Fantasy','sum'),\n",
    "                                                total_genre_Film_Noir = ('genre_Film_Noir','sum'),\n",
    "                                                total_genre_Game_Show = ('genre_Game_Show','sum'),\n",
    "                                                total_genre_History = ('genre_History','sum'),\n",
    "                                                total_genre_Horror = ('genre_Horror','sum'),\n",
    "                                                total_genre_Music = ('genre_Music','sum'),\n",
    "                                                total_genre_Musical = ('genre_Musical','sum'),\n",
    "                                                total_genre_Mystery = ('genre_Mystery','sum'),\n",
    "                                                total_genre_News = ('genre_News','sum'),\n",
    "                                                total_genre_None = ('genre_None','sum'),\n",
    "                                                total_genre_Reality_TV = ('genre_Reality_TV','sum'),\n",
    "                                                total_genre_Romance = ('genre_Romance','sum'),\n",
    "                                                total_genre_Sci_Fi = ('genre_Sci_Fi','sum'),\n",
    "                                                total_genre_Short = ('genre_Short','sum'),\n",
    "                                                total_genre_Sport = ('genre_Sport','sum'),\n",
    "                                                total_genre_Talk_Show = ('genre_Talk_Show','sum'),\n",
    "                                                total_genre_Thriller = ('genre_Thriller','sum'),\n",
    "                                                total_genre_War = ('genre_War','sum'),\n",
    "                                                total_genre_Western = ('genre_Western','sum'),\n",
    "                                                \n",
    "                                                genre_Action = ('genre_Action','max'),\n",
    "                                                genre_Adult = ('genre_Adult','max'),\n",
    "                                                genre_Adventure = ('genre_Adventure','max'),\n",
    "                                                genre_Animation = ('genre_Animation','max'),\n",
    "                                                genre_Biography = ('genre_Biography','max'),\n",
    "                                                genre_Comedy = ('genre_Comedy','max'),\n",
    "                                                genre_Crime = ('genre_Crime','max'),\n",
    "                                                genre_Documentary = ('genre_Documentary','max'),\n",
    "                                                genre_Drama = ('genre_Drama','max'),\n",
    "                                                genre_Family = ('genre_Family','max'),\n",
    "                                                genre_Fantasy = ('genre_Fantasy','max'),\n",
    "                                                genre_Film_Noir = ('genre_Film_Noir','max'),\n",
    "                                                genre_Game_Show = ('genre_Game_Show','max'),\n",
    "                                                genre_History = ('genre_History','max'),\n",
    "                                                genre_Horror = ('genre_Horror','max'),\n",
    "                                                genre_Music = ('genre_Music','max'),\n",
    "                                                genre_Musical = ('genre_Musical','max'),\n",
    "                                                genre_Mystery = ('genre_Mystery','max'),\n",
    "                                                genre_News = ('genre_News','max'),\n",
    "                                                genre_None = ('genre_None','max'),\n",
    "                                                genre_Reality_TV = ('genre_Reality_TV','max'),\n",
    "                                                genre_Romance = ('genre_Romance','max'),\n",
    "                                                genre_Sci_Fi = ('genre_Sci_Fi','max'),\n",
    "                                                genre_Short = ('genre_Short','max'),\n",
    "                                                genre_Sport = ('genre_Sport','max'),\n",
    "                                                genre_Talk_Show = ('genre_Talk_Show','max'),\n",
    "                                                genre_Thriller = ('genre_Thriller','max'),\n",
    "                                                genre_War = ('genre_War','max'),\n",
    "                                                genre_Western = ('genre_Western','max'),\n",
    "                                                \n",
    "                                               \n",
    "                                               ).reset_index()\n",
    "\n",
    "cumulativeDirectorDF['average_movie_per_year'] = round(cumulativeDirectorDF.movies_produced / cumulativeDirectorDF.career_Length,2)\n",
    "\n",
    "# # cumulativeDirectorDF['average_time_between_consecutive_movies'] = round(cumulativeDirectorDF['time_between_consecutive_movies'] / (cumulativeDirectorDF.movies_produced),2)\n",
    "# cumulativeDirectorDF['average_inter_event_time'] = round((cumulativeDirectorDF['career_Length']-1) / (cumulativeDirectorDF['movies_produced'] - 1) ,2)\n",
    "cumulativeDirectorDF = cumulativeDirectorDF.fillna(0)\n",
    "# cumulativeDirectorDF[cumulativeDirectorDF.movies_produced>1]\n",
    "print(\"Shape of dataset after group by : \",cumulativeDirectorDF.shape)\n"
   ]
  },
  {
   "cell_type": "markdown",
   "metadata": {},
   "source": [
    "### Number of countries movies released in per director"
   ]
  },
  {
   "cell_type": "code",
   "execution_count": 56,
   "metadata": {},
   "outputs": [
    {
     "name": "stdout",
     "output_type": "stream",
     "text": [
      "Shape of data : (1215, 84)\n",
      "Shape of data after dropping the countries features: (1215, 84)\n",
      "Shape of data after extracting the number of countries where the movies was released: (1215, 85)\n"
     ]
    }
   ],
   "source": [
    "print('Shape of data :', cumulativeDirectorDF.shape)\n",
    "# Extract the columns starting with countries \n",
    "total_countries_movies_released_filter_col = [col for col in cumulativeDirectorDF if col.startswith('country_')]\n",
    "\n",
    "# Store countries awards in df\n",
    "countries_movies_df = cumulativeDirectorDF[total_countries_movies_released_filter_col]\n",
    "\n",
    "# Drop these from the original dataframe\n",
    "cumulativeDirectorDF.drop(columns= total_countries_movies_released_filter_col,inplace =True )\n",
    "print('Shape of data after dropping the countries features:', cumulativeDirectorDF.shape)\n",
    "\n",
    "\n",
    "# Extract the number of countries each movie was released in\n",
    "cumulativeDirectorDF['num_countries_screened'] = countries_movies_df.sum(axis='columns')\n",
    "print('Shape of data after extracting the number of countries where the movies was released:', cumulativeDirectorDF.shape)"
   ]
  },
  {
   "cell_type": "code",
   "execution_count": 57,
   "metadata": {},
   "outputs": [],
   "source": [
    "cumulativeDirectorDF['num_countries_screened'].value_counts()\n",
    "cumulativeDirectorDF.drop(columns = 'num_countries_screened',inplace = True)"
   ]
  },
  {
   "cell_type": "markdown",
   "metadata": {},
   "source": [
    "### Number of genres released per director"
   ]
  },
  {
   "cell_type": "code",
   "execution_count": 58,
   "metadata": {},
   "outputs": [
    {
     "name": "stdout",
     "output_type": "stream",
     "text": [
      "Shape of data : (1215, 84)\n",
      "Shape of data after dropping the genre features: (1215, 55)\n",
      "Shape of data after extracting the number of genres released by a director the movies was released: (1215, 56)\n"
     ]
    }
   ],
   "source": [
    "print('Shape of data :', cumulativeDirectorDF.shape)\n",
    "# Extract the columns starting with genre\n",
    "total_genre_movies_released_filter_col = [col for col in cumulativeDirectorDF if col.startswith('genre_')]\n",
    "\n",
    "# Store countries awards in df\n",
    "genre_movies_df = cumulativeDirectorDF[total_genre_movies_released_filter_col]\n",
    "\n",
    "# Drop these from the original dataframe\n",
    "cumulativeDirectorDF.drop(columns= total_genre_movies_released_filter_col,inplace =True )\n",
    "print('Shape of data after dropping the genre features:', cumulativeDirectorDF.shape)\n",
    "\n",
    "# Extract the number of countries each movie was released in\n",
    "cumulativeDirectorDF['num_genres_directed'] = genre_movies_df.sum(axis='columns')\n",
    "print('Shape of data after extracting the number of genres released by a director the movies was released:', cumulativeDirectorDF.shape)"
   ]
  },
  {
   "cell_type": "markdown",
   "metadata": {},
   "source": [
    "### Number of languages released per director"
   ]
  },
  {
   "cell_type": "code",
   "execution_count": 59,
   "metadata": {},
   "outputs": [
    {
     "name": "stdout",
     "output_type": "stream",
     "text": [
      "Shape of data : (1215, 56)\n",
      "Shape of data after dropping the genre features: (1215, 56)\n",
      "Shape of data after extracting the number of languages released by a director in which the movies were released: (1215, 57)\n"
     ]
    }
   ],
   "source": [
    "print('Shape of data :', cumulativeDirectorDF.shape)\n",
    "# Extract the columns starting with genre\n",
    "total_languages_movies_released_filter_col = [col for col in cumulativeDirectorDF if col.startswith('language_')]\n",
    "\n",
    "# Store countries awards in df\n",
    "language_movies_df = cumulativeDirectorDF[total_languages_movies_released_filter_col]\n",
    "\n",
    "# Drop these from the original dataframe\n",
    "cumulativeDirectorDF.drop(columns= total_languages_movies_released_filter_col,inplace =True )\n",
    "print('Shape of data after dropping the genre features:', cumulativeDirectorDF.shape)\n",
    "\n",
    "# Extract the number of countries each movie was released in\n",
    "cumulativeDirectorDF['num_languages_released'] = language_movies_df.sum(axis='columns')\n",
    "print('Shape of data after extracting the number of languages released by a director in which the movies were released:', cumulativeDirectorDF.shape)"
   ]
  },
  {
   "cell_type": "markdown",
   "metadata": {},
   "source": [
    "### remove the column in case of dataset 3"
   ]
  },
  {
   "cell_type": "code",
   "execution_count": 61,
   "metadata": {},
   "outputs": [],
   "source": [
    "cumulativeDirectorDF['num_languages_released'].value_counts()\n",
    "cumulativeDirectorDF.drop(columns = 'num_languages_released',inplace = True)"
   ]
  },
  {
   "cell_type": "code",
   "execution_count": 62,
   "metadata": {},
   "outputs": [
    {
     "data": {
      "text/html": [
       "<div>\n",
       "<style scoped>\n",
       "    .dataframe tbody tr th:only-of-type {\n",
       "        vertical-align: middle;\n",
       "    }\n",
       "\n",
       "    .dataframe tbody tr th {\n",
       "        vertical-align: top;\n",
       "    }\n",
       "\n",
       "    .dataframe thead th {\n",
       "        text-align: right;\n",
       "    }\n",
       "</style>\n",
       "<table border=\"1\" class=\"dataframe\">\n",
       "  <thead>\n",
       "    <tr style=\"text-align: right;\">\n",
       "      <th></th>\n",
       "      <th>director_ids</th>\n",
       "      <th>director_name</th>\n",
       "      <th>average_rating_value</th>\n",
       "      <th>average_rating_count</th>\n",
       "      <th>movies_produced</th>\n",
       "      <th>career_Length</th>\n",
       "      <th>CareerStartYear</th>\n",
       "      <th>Gender</th>\n",
       "      <th>birthYear</th>\n",
       "      <th>median_inter_event_time</th>\n",
       "      <th>...</th>\n",
       "      <th>total_genre_Romance</th>\n",
       "      <th>total_genre_Sci_Fi</th>\n",
       "      <th>total_genre_Short</th>\n",
       "      <th>total_genre_Sport</th>\n",
       "      <th>total_genre_Talk_Show</th>\n",
       "      <th>total_genre_Thriller</th>\n",
       "      <th>total_genre_War</th>\n",
       "      <th>total_genre_Western</th>\n",
       "      <th>average_movie_per_year</th>\n",
       "      <th>num_genres_directed</th>\n",
       "    </tr>\n",
       "  </thead>\n",
       "  <tbody>\n",
       "    <tr>\n",
       "      <th>0</th>\n",
       "      <td>nm0000040</td>\n",
       "      <td>Stanley Kubrick</td>\n",
       "      <td>7.30</td>\n",
       "      <td>231646.00</td>\n",
       "      <td>1</td>\n",
       "      <td>49</td>\n",
       "      <td>1951</td>\n",
       "      <td>Male</td>\n",
       "      <td>1928</td>\n",
       "      <td>0.0</td>\n",
       "      <td>...</td>\n",
       "      <td>0</td>\n",
       "      <td>0</td>\n",
       "      <td>0</td>\n",
       "      <td>0</td>\n",
       "      <td>0</td>\n",
       "      <td>1</td>\n",
       "      <td>0</td>\n",
       "      <td>0</td>\n",
       "      <td>0.02</td>\n",
       "      <td>3</td>\n",
       "    </tr>\n",
       "    <tr>\n",
       "      <th>1</th>\n",
       "      <td>nm0000095</td>\n",
       "      <td>Woody Allen</td>\n",
       "      <td>6.91</td>\n",
       "      <td>64233.13</td>\n",
       "      <td>15</td>\n",
       "      <td>51</td>\n",
       "      <td>1966</td>\n",
       "      <td>Male</td>\n",
       "      <td>1935</td>\n",
       "      <td>1.0</td>\n",
       "      <td>...</td>\n",
       "      <td>8</td>\n",
       "      <td>0</td>\n",
       "      <td>0</td>\n",
       "      <td>0</td>\n",
       "      <td>0</td>\n",
       "      <td>1</td>\n",
       "      <td>0</td>\n",
       "      <td>0</td>\n",
       "      <td>0.29</td>\n",
       "      <td>7</td>\n",
       "    </tr>\n",
       "    <tr>\n",
       "      <th>2</th>\n",
       "      <td>nm0000104</td>\n",
       "      <td>Antonio Banderas</td>\n",
       "      <td>6.30</td>\n",
       "      <td>5964.00</td>\n",
       "      <td>1</td>\n",
       "      <td>1</td>\n",
       "      <td>1999</td>\n",
       "      <td>Male</td>\n",
       "      <td>1960</td>\n",
       "      <td>0.0</td>\n",
       "      <td>...</td>\n",
       "      <td>0</td>\n",
       "      <td>0</td>\n",
       "      <td>0</td>\n",
       "      <td>0</td>\n",
       "      <td>0</td>\n",
       "      <td>0</td>\n",
       "      <td>0</td>\n",
       "      <td>0</td>\n",
       "      <td>1.00</td>\n",
       "      <td>3</td>\n",
       "    </tr>\n",
       "    <tr>\n",
       "      <th>3</th>\n",
       "      <td>nm0000106</td>\n",
       "      <td>Drew Barrymore</td>\n",
       "      <td>6.90</td>\n",
       "      <td>56419.00</td>\n",
       "      <td>1</td>\n",
       "      <td>6</td>\n",
       "      <td>2004</td>\n",
       "      <td>Male</td>\n",
       "      <td>1975</td>\n",
       "      <td>0.0</td>\n",
       "      <td>...</td>\n",
       "      <td>0</td>\n",
       "      <td>0</td>\n",
       "      <td>0</td>\n",
       "      <td>1</td>\n",
       "      <td>0</td>\n",
       "      <td>0</td>\n",
       "      <td>0</td>\n",
       "      <td>0</td>\n",
       "      <td>0.17</td>\n",
       "      <td>2</td>\n",
       "    </tr>\n",
       "    <tr>\n",
       "      <th>4</th>\n",
       "      <td>nm0000108</td>\n",
       "      <td>Luc Besson</td>\n",
       "      <td>6.30</td>\n",
       "      <td>89739.00</td>\n",
       "      <td>1</td>\n",
       "      <td>33</td>\n",
       "      <td>1981</td>\n",
       "      <td>Male</td>\n",
       "      <td>1959</td>\n",
       "      <td>0.0</td>\n",
       "      <td>...</td>\n",
       "      <td>0</td>\n",
       "      <td>0</td>\n",
       "      <td>0</td>\n",
       "      <td>0</td>\n",
       "      <td>0</td>\n",
       "      <td>1</td>\n",
       "      <td>0</td>\n",
       "      <td>0</td>\n",
       "      <td>0.03</td>\n",
       "      <td>3</td>\n",
       "    </tr>\n",
       "    <tr>\n",
       "      <th>5</th>\n",
       "      <td>nm0000110</td>\n",
       "      <td>Kenneth Branagh</td>\n",
       "      <td>6.60</td>\n",
       "      <td>104537.50</td>\n",
       "      <td>2</td>\n",
       "      <td>27</td>\n",
       "      <td>1989</td>\n",
       "      <td>Male</td>\n",
       "      <td>1960</td>\n",
       "      <td>1.0</td>\n",
       "      <td>...</td>\n",
       "      <td>1</td>\n",
       "      <td>0</td>\n",
       "      <td>0</td>\n",
       "      <td>0</td>\n",
       "      <td>0</td>\n",
       "      <td>1</td>\n",
       "      <td>0</td>\n",
       "      <td>0</td>\n",
       "      <td>0.07</td>\n",
       "      <td>6</td>\n",
       "    </tr>\n",
       "    <tr>\n",
       "      <th>6</th>\n",
       "      <td>nm0000114</td>\n",
       "      <td>Steve Buscemi</td>\n",
       "      <td>6.60</td>\n",
       "      <td>10758.00</td>\n",
       "      <td>1</td>\n",
       "      <td>9</td>\n",
       "      <td>1992</td>\n",
       "      <td>Male</td>\n",
       "      <td>1957</td>\n",
       "      <td>0.0</td>\n",
       "      <td>...</td>\n",
       "      <td>0</td>\n",
       "      <td>0</td>\n",
       "      <td>0</td>\n",
       "      <td>0</td>\n",
       "      <td>0</td>\n",
       "      <td>0</td>\n",
       "      <td>0</td>\n",
       "      <td>0</td>\n",
       "      <td>0.11</td>\n",
       "      <td>2</td>\n",
       "    </tr>\n",
       "    <tr>\n",
       "      <th>7</th>\n",
       "      <td>nm0000116</td>\n",
       "      <td>James Cameron</td>\n",
       "      <td>7.30</td>\n",
       "      <td>409454.50</td>\n",
       "      <td>2</td>\n",
       "      <td>26</td>\n",
       "      <td>1978</td>\n",
       "      <td>Female</td>\n",
       "      <td>1954</td>\n",
       "      <td>6.0</td>\n",
       "      <td>...</td>\n",
       "      <td>1</td>\n",
       "      <td>0</td>\n",
       "      <td>0</td>\n",
       "      <td>0</td>\n",
       "      <td>0</td>\n",
       "      <td>0</td>\n",
       "      <td>0</td>\n",
       "      <td>0</td>\n",
       "      <td>0.08</td>\n",
       "      <td>4</td>\n",
       "    </tr>\n",
       "    <tr>\n",
       "      <th>8</th>\n",
       "      <td>nm0000118</td>\n",
       "      <td>John Carpenter</td>\n",
       "      <td>5.50</td>\n",
       "      <td>43543.00</td>\n",
       "      <td>2</td>\n",
       "      <td>40</td>\n",
       "      <td>1962</td>\n",
       "      <td>Male</td>\n",
       "      <td>1948</td>\n",
       "      <td>3.0</td>\n",
       "      <td>...</td>\n",
       "      <td>0</td>\n",
       "      <td>1</td>\n",
       "      <td>0</td>\n",
       "      <td>0</td>\n",
       "      <td>0</td>\n",
       "      <td>1</td>\n",
       "      <td>0</td>\n",
       "      <td>0</td>\n",
       "      <td>0.05</td>\n",
       "      <td>4</td>\n",
       "    </tr>\n",
       "    <tr>\n",
       "      <th>9</th>\n",
       "      <td>nm0000122</td>\n",
       "      <td>Charles Chaplin</td>\n",
       "      <td>8.60</td>\n",
       "      <td>147990.00</td>\n",
       "      <td>1</td>\n",
       "      <td>23</td>\n",
       "      <td>1914</td>\n",
       "      <td>Male</td>\n",
       "      <td>1889</td>\n",
       "      <td>0.0</td>\n",
       "      <td>...</td>\n",
       "      <td>1</td>\n",
       "      <td>0</td>\n",
       "      <td>0</td>\n",
       "      <td>0</td>\n",
       "      <td>0</td>\n",
       "      <td>0</td>\n",
       "      <td>0</td>\n",
       "      <td>0</td>\n",
       "      <td>0.04</td>\n",
       "      <td>4</td>\n",
       "    </tr>\n",
       "  </tbody>\n",
       "</table>\n",
       "<p>10 rows × 56 columns</p>\n",
       "</div>"
      ],
      "text/plain": [
       "  director_ids     director_name  average_rating_value  average_rating_count  \\\n",
       "0    nm0000040   Stanley Kubrick                  7.30             231646.00   \n",
       "1    nm0000095       Woody Allen                  6.91              64233.13   \n",
       "2    nm0000104  Antonio Banderas                  6.30               5964.00   \n",
       "3    nm0000106    Drew Barrymore                  6.90              56419.00   \n",
       "4    nm0000108        Luc Besson                  6.30              89739.00   \n",
       "5    nm0000110   Kenneth Branagh                  6.60             104537.50   \n",
       "6    nm0000114     Steve Buscemi                  6.60              10758.00   \n",
       "7    nm0000116     James Cameron                  7.30             409454.50   \n",
       "8    nm0000118    John Carpenter                  5.50              43543.00   \n",
       "9    nm0000122   Charles Chaplin                  8.60             147990.00   \n",
       "\n",
       "   movies_produced  career_Length  CareerStartYear  Gender  birthYear  \\\n",
       "0                1             49             1951    Male       1928   \n",
       "1               15             51             1966    Male       1935   \n",
       "2                1              1             1999    Male       1960   \n",
       "3                1              6             2004    Male       1975   \n",
       "4                1             33             1981    Male       1959   \n",
       "5                2             27             1989    Male       1960   \n",
       "6                1              9             1992    Male       1957   \n",
       "7                2             26             1978  Female       1954   \n",
       "8                2             40             1962    Male       1948   \n",
       "9                1             23             1914    Male       1889   \n",
       "\n",
       "   median_inter_event_time  ...  total_genre_Romance  total_genre_Sci_Fi  \\\n",
       "0                      0.0  ...                    0                   0   \n",
       "1                      1.0  ...                    8                   0   \n",
       "2                      0.0  ...                    0                   0   \n",
       "3                      0.0  ...                    0                   0   \n",
       "4                      0.0  ...                    0                   0   \n",
       "5                      1.0  ...                    1                   0   \n",
       "6                      0.0  ...                    0                   0   \n",
       "7                      6.0  ...                    1                   0   \n",
       "8                      3.0  ...                    0                   1   \n",
       "9                      0.0  ...                    1                   0   \n",
       "\n",
       "   total_genre_Short  total_genre_Sport  total_genre_Talk_Show  \\\n",
       "0                  0                  0                      0   \n",
       "1                  0                  0                      0   \n",
       "2                  0                  0                      0   \n",
       "3                  0                  1                      0   \n",
       "4                  0                  0                      0   \n",
       "5                  0                  0                      0   \n",
       "6                  0                  0                      0   \n",
       "7                  0                  0                      0   \n",
       "8                  0                  0                      0   \n",
       "9                  0                  0                      0   \n",
       "\n",
       "   total_genre_Thriller  total_genre_War  total_genre_Western  \\\n",
       "0                     1                0                    0   \n",
       "1                     1                0                    0   \n",
       "2                     0                0                    0   \n",
       "3                     0                0                    0   \n",
       "4                     1                0                    0   \n",
       "5                     1                0                    0   \n",
       "6                     0                0                    0   \n",
       "7                     0                0                    0   \n",
       "8                     1                0                    0   \n",
       "9                     0                0                    0   \n",
       "\n",
       "   average_movie_per_year  num_genres_directed  \n",
       "0                    0.02                    3  \n",
       "1                    0.29                    7  \n",
       "2                    1.00                    3  \n",
       "3                    0.17                    2  \n",
       "4                    0.03                    3  \n",
       "5                    0.07                    6  \n",
       "6                    0.11                    2  \n",
       "7                    0.08                    4  \n",
       "8                    0.05                    4  \n",
       "9                    0.04                    4  \n",
       "\n",
       "[10 rows x 56 columns]"
      ]
     },
     "execution_count": 62,
     "metadata": {},
     "output_type": "execute_result"
    }
   ],
   "source": [
    "cumulativeDirectorDF.head(10)"
   ]
  },
  {
   "cell_type": "markdown",
   "metadata": {},
   "source": [
    "## Generate Director Dataframe - Original data with average metascore value"
   ]
  },
  {
   "cell_type": "code",
   "execution_count": 63,
   "metadata": {
    "scrolled": true
   },
   "outputs": [],
   "source": [
    "# # Groupby List\n",
    "# groupByListDirectors = ['director_ids']\n",
    "\n",
    "# # Group by aggregation to generate columns\n",
    "# directorDataDFwithMetascore = moviesWithMetaScoreDF.groupby(groupByListDirectors) \\\n",
    "#                                      .agg({'metascore':roundOfMean,\n",
    "#                                           'movie_id':'count'}) \\\n",
    "#                                      .reset_index()\n",
    "# # Columns renamed\n",
    "# directorDataDFwithMetascore = directorDataDFwithMetascore.rename(columns={'metascore':'average_metascore',\n",
    "#                                                                          'movie_id':'movies_produced_metascore',})\n",
    "# # Merge the Directors Career Start Year with the original data set\n",
    "# # directorDataDFwithMetascore = directorDataDFwithMetascore.merge(directorDataDF, on='director_ids',how = 'left')\n",
    "# directorDataDFwithMetascore = directorDataDF.merge(directorDataDFwithMetascore, on='director_ids',how = 'left')\n",
    "# directorDataDFwithMetascore['total_metascore'] = round(directorDataDFwithMetascore.average_metascore * directorDataDFwithMetascore.movies_produced_metascore,2)\n",
    "# directorDataDFwithMetascore"
   ]
  },
  {
   "cell_type": "code",
   "execution_count": 64,
   "metadata": {},
   "outputs": [
    {
     "data": {
      "text/plain": [
       "Male      1038\n",
       "Female     177\n",
       "Name: Gender, dtype: int64"
      ]
     },
     "execution_count": 64,
     "metadata": {},
     "output_type": "execute_result"
    }
   ],
   "source": [
    "cumulativeDirectorDF['Gender'].value_counts()"
   ]
  },
  {
   "cell_type": "code",
   "execution_count": 65,
   "metadata": {},
   "outputs": [
    {
     "name": "stdout",
     "output_type": "stream",
     "text": [
      " Female Gender percentage of the cumulative dataframe :  0.145679012345679\n"
     ]
    }
   ],
   "source": [
    "print(\" Female Gender percentage of the cumulative dataframe : \",cumulativeDirectorDF.Gender.value_counts()[1]/(cumulativeDirectorDF.Gender.value_counts()[0] + cumulativeDirectorDF.Gender.value_counts()[1]))"
   ]
  },
  {
   "cell_type": "code",
   "execution_count": 66,
   "metadata": {
    "scrolled": true
   },
   "outputs": [
    {
     "name": "stdout",
     "output_type": "stream",
     "text": [
      "<class 'pandas.core.frame.DataFrame'>\n",
      "RangeIndex: 1215 entries, 0 to 1214\n",
      "Data columns (total 56 columns):\n",
      " #   Column                                      Non-Null Count  Dtype  \n",
      "---  ------                                      --------------  -----  \n",
      " 0   director_ids                                1215 non-null   object \n",
      " 1   director_name                               1215 non-null   object \n",
      " 2   average_rating_value                        1215 non-null   float64\n",
      " 3   average_rating_count                        1215 non-null   float64\n",
      " 4   movies_produced                             1215 non-null   int64  \n",
      " 5   career_Length                               1215 non-null   int64  \n",
      " 6   CareerStartYear                             1215 non-null   int64  \n",
      " 7   Gender                                      1215 non-null   object \n",
      " 8   birthYear                                   1215 non-null   int32  \n",
      " 9   median_inter_event_time                     1215 non-null   float64\n",
      " 10  average_inter_event_time                    1215 non-null   float64\n",
      " 11  total_review_count_user                     1215 non-null   int64  \n",
      " 12  total_review_count_critic                   1215 non-null   int64  \n",
      " 13  total_metascore                             1215 non-null   int64  \n",
      " 14  median_metascore                            1215 non-null   float64\n",
      " 15  total_awards_won                            1215 non-null   float64\n",
      " 16  total_awards_nominated                      1215 non-null   float64\n",
      " 17  total_gross_value                           1215 non-null   float64\n",
      " 18  total_budget_value                          1215 non-null   float64\n",
      " 19  average_runtime_of_movie                    1215 non-null   float64\n",
      " 20  director_profession_primary                 1215 non-null   int64  \n",
      " 21  director_profession_secondary               1215 non-null   int64  \n",
      " 22  director_profession_tertiary                1215 non-null   int64  \n",
      " 23  director_known_titles_count                 1215 non-null   int64  \n",
      " 24  director_known_titles_average_rating_value  1215 non-null   float64\n",
      " 25  total_genre_Action                          1215 non-null   int64  \n",
      " 26  total_genre_Adult                           1215 non-null   int64  \n",
      " 27  total_genre_Adventure                       1215 non-null   int64  \n",
      " 28  total_genre_Animation                       1215 non-null   int64  \n",
      " 29  total_genre_Biography                       1215 non-null   int64  \n",
      " 30  total_genre_Comedy                          1215 non-null   int64  \n",
      " 31  total_genre_Crime                           1215 non-null   int64  \n",
      " 32  total_genre_Documentary                     1215 non-null   int64  \n",
      " 33  total_genre_Drama                           1215 non-null   int64  \n",
      " 34  total_genre_Family                          1215 non-null   int64  \n",
      " 35  total_genre_Fantasy                         1215 non-null   int64  \n",
      " 36  total_genre_Film_Noir                       1215 non-null   int64  \n",
      " 37  total_genre_Game_Show                       1215 non-null   int64  \n",
      " 38  total_genre_History                         1215 non-null   int64  \n",
      " 39  total_genre_Horror                          1215 non-null   int64  \n",
      " 40  total_genre_Music                           1215 non-null   int64  \n",
      " 41  total_genre_Musical                         1215 non-null   int64  \n",
      " 42  total_genre_Mystery                         1215 non-null   int64  \n",
      " 43  total_genre_News                            1215 non-null   int64  \n",
      " 44  total_genre_None                            1215 non-null   int64  \n",
      " 45  total_genre_Reality_TV                      1215 non-null   int64  \n",
      " 46  total_genre_Romance                         1215 non-null   int64  \n",
      " 47  total_genre_Sci_Fi                          1215 non-null   int64  \n",
      " 48  total_genre_Short                           1215 non-null   int64  \n",
      " 49  total_genre_Sport                           1215 non-null   int64  \n",
      " 50  total_genre_Talk_Show                       1215 non-null   int64  \n",
      " 51  total_genre_Thriller                        1215 non-null   int64  \n",
      " 52  total_genre_War                             1215 non-null   int64  \n",
      " 53  total_genre_Western                         1215 non-null   int64  \n",
      " 54  average_movie_per_year                      1215 non-null   float64\n",
      " 55  num_genres_directed                         1215 non-null   int64  \n",
      "dtypes: float64(12), int32(1), int64(40), object(3)\n",
      "memory usage: 526.9+ KB\n"
     ]
    }
   ],
   "source": [
    "cumulativeDirectorDF.info()"
   ]
  },
  {
   "cell_type": "code",
   "execution_count": 67,
   "metadata": {},
   "outputs": [
    {
     "data": {
      "text/plain": [
       "1215"
      ]
     },
     "execution_count": 67,
     "metadata": {},
     "output_type": "execute_result"
    }
   ],
   "source": [
    "cumulativeDirectorDF.director_ids.nunique()"
   ]
  },
  {
   "cell_type": "code",
   "execution_count": 68,
   "metadata": {},
   "outputs": [],
   "source": [
    "save_to_file(cumulativeDirectorDF,saveFileToPath)"
   ]
  },
  {
   "cell_type": "code",
   "execution_count": null,
   "metadata": {},
   "outputs": [],
   "source": [
    "break"
   ]
  },
  {
   "cell_type": "markdown",
   "metadata": {},
   "source": [
    "# End"
   ]
  },
  {
   "cell_type": "markdown",
   "metadata": {},
   "source": [
    "# Plotting and Visualization"
   ]
  },
  {
   "cell_type": "markdown",
   "metadata": {},
   "source": [
    "### Number of movies released along the Career Year Number"
   ]
  },
  {
   "cell_type": "code",
   "execution_count": null,
   "metadata": {},
   "outputs": [],
   "source": [
    "# Plotting a bar graph based on the first 20 value counts\n",
    "\n",
    "def plot_value_count(df,columnName,toCount,plot_title = 'Value count of data'):\n",
    "    df_columnName_count  = df[columnName].value_counts()\n",
    "    df_columnName_count = df_columnName_count[:toCount,]\n",
    "    plt.figure(figsize=(10,5))\n",
    "    sns.barplot(df_columnName_count.index, df_columnName_count.values, alpha=0.8)\n",
    "    plt.title(plot_title)\n",
    "    plt.ylabel('Number of occurence', fontsize=12)\n",
    "    plt.xlabel(columnName, fontsize=12)\n",
    "    plt.show()\n",
    "    "
   ]
  },
  {
   "cell_type": "code",
   "execution_count": null,
   "metadata": {},
   "outputs": [],
   "source": [
    "plot_value_count(withFirstMovieYearDF,'Career_Year_Number',20,'Career Year Number and the movies produced')"
   ]
  },
  {
   "cell_type": "markdown",
   "metadata": {},
   "source": [
    "### Plot features based on Gender"
   ]
  },
  {
   "cell_type": "code",
   "execution_count": null,
   "metadata": {},
   "outputs": [],
   "source": [
    "def plot_features_WRT_gender(df,columnCriteriaName,columnFeatureName):\n",
    "    diction={}\n",
    "    for i in df[columnCriteriaName].value_counts().index:\n",
    "        diction[\"{0}_{1}\".format(columnFeatureName,i)] = df[(df[columnCriteriaName] == i)][columnFeatureName]\n",
    "    for k,v in diction.items():\n",
    "        sns.distplot(v,label=[k])\n",
    "        plt.legend(bbox_to_anchor=(1.05, 0.6), loc=2, borderaxespad=0.)\n",
    "    return pd.DataFrame.from_dict(diction)\n"
   ]
  },
  {
   "cell_type": "code",
   "execution_count": null,
   "metadata": {},
   "outputs": [],
   "source": [
    "x = plot_features_WRT_gender(data,\"Gender\",\"rating_value\")"
   ]
  },
  {
   "cell_type": "code",
   "execution_count": null,
   "metadata": {},
   "outputs": [],
   "source": [
    "x = plot_features_WRT_gender(cumulativeDirectorDF,\"Gender\",\"median_inter_event_time\")"
   ]
  },
  {
   "cell_type": "code",
   "execution_count": null,
   "metadata": {},
   "outputs": [],
   "source": [
    "plot_value_count(cumulativeDirectorDF[cumulativeDirectorDF.Gender == 'Female'],'median_inter_event_time',20)"
   ]
  },
  {
   "cell_type": "code",
   "execution_count": null,
   "metadata": {},
   "outputs": [],
   "source": [
    "# # Plotting a bar graph of the number of movies released in each Career Year Number, for the first 20 Career years listed\n",
    "\n",
    "# career_year_count  = withFirstMovieYearDF['Career_Year_Number'].value_counts()\n",
    "# career_year_count = career_year_count[:20,]\n",
    "# plt.figure(figsize=(10,5))\n",
    "# sns.barplot(career_year_count.index, career_year_count.values, alpha=0.8)\n",
    "# plt.title('Career Year Number and the movies produced')\n",
    "# plt.ylabel('Number of Movies', fontsize=12)\n",
    "# plt.xlabel('Career Year Number', fontsize=12)\n",
    "# plt.show()"
   ]
  },
  {
   "cell_type": "code",
   "execution_count": null,
   "metadata": {},
   "outputs": [],
   "source": [
    "# cumulativeDirectorDF.corr(method = 'pearson')\n",
    "# cumulativeDirectorDF.corr(method = 'kendall')"
   ]
  },
  {
   "cell_type": "code",
   "execution_count": null,
   "metadata": {},
   "outputs": [],
   "source": [
    "cumulativeDirectorDF.columns"
   ]
  },
  {
   "cell_type": "code",
   "execution_count": null,
   "metadata": {},
   "outputs": [],
   "source": [
    "# Removing the directors having only n movies produced\n",
    "n_movies_produced = 1\n",
    "\n",
    "removedDF = cumulativeDirectorDF[cumulativeDirectorDF.movies_produced> n_movies_produced]"
   ]
  },
  {
   "cell_type": "code",
   "execution_count": null,
   "metadata": {},
   "outputs": [],
   "source": [
    "# Plot Log normal Distribution\n",
    "\n",
    "def log_normal_plot(df,columnName,binSize=\"auto\"):\n",
    "    df[columnName].hist(bins= binSize,grid=False,density= True)\n",
    "    plt.xlabel(columnName, fontsize=15)\n",
    "    plt.ylabel(\"Frequency\",fontsize=15)\n",
    "    plt.xscale('log')"
   ]
  },
  {
   "cell_type": "code",
   "execution_count": null,
   "metadata": {},
   "outputs": [],
   "source": [
    "log_normal_plot(removedDF,\"movies_produced\")"
   ]
  },
  {
   "cell_type": "code",
   "execution_count": null,
   "metadata": {},
   "outputs": [],
   "source": [
    "# Normal distribution\n",
    "def distribution_fit(df,columnName):\n",
    "    # Empirical average and variance are computed\n",
    "    avg = np.mean(df[columnName])\n",
    "    var = np.var(df[columnName])\n",
    "    \n",
    "    # From that, we know the shape of the fitted Gaussian.\n",
    "    pdf_x = np.linspace(np.min(df[columnName]),np.max(df[columnName]),100)\n",
    "    pdf_y = 1.0/np.sqrt(2*np.pi*var)*np.exp(-0.5*(pdf_x-avg)**2/var)\n",
    "    \n",
    "    # Then we plot :\n",
    "    plt.figure()\n",
    "    plt.hist(df[columnName],30,density=True)\n",
    "    plt.plot(pdf_x,pdf_y,'k--')\n",
    "    \n",
    "    blue_patch = mpatches.Patch(color='blue', label= columnName)\n",
    "    black_dotted = mlines.Line2D([], [], color='black',markersize=15, label='Fit')\n",
    "    plt.xlabel(columnName)\n",
    "    plt.legend(handles=[blue_patch,black_dotted])\n",
    "    plt.show()"
   ]
  },
  {
   "cell_type": "code",
   "execution_count": null,
   "metadata": {},
   "outputs": [],
   "source": [
    "distribution_fit(removedDF,\"movies_produced\")"
   ]
  },
  {
   "cell_type": "code",
   "execution_count": null,
   "metadata": {},
   "outputs": [],
   "source": [
    "# def multi_features_distribution_fit_plot(df,dataTypesToInclude):\n",
    "#     for column in df.select_dtypes(include=['int64','double']).columns:\n",
    "#         distribution_fit(df,column)\n",
    "        \n",
    "# def multi_features_value_counts_plot(df,dataTypesToInclude):\n",
    "#     for column in df.select_dtypes(include=['int64','double']).columns | ['Gender']:\n",
    "#         plot_value_count(df,column,20)"
   ]
  },
  {
   "cell_type": "code",
   "execution_count": null,
   "metadata": {},
   "outputs": [],
   "source": [
    "def multi_features_plot(df,dataTypesToInclude,plotType = 'value_count'):\n",
    "    plotType = plotType.lower().translate(str.maketrans('', '', string.whitespace))\n",
    "    if(plotType == 'value_count'):\n",
    "        for column in df.select_dtypes(include=['int64','double']).columns | ['Gender']:\n",
    "            plot_value_count(df,column,100)\n",
    "    elif(plotType == 'distribution'):\n",
    "        for column in df.select_dtypes(include=['int64','double']).columns:\n",
    "            distribution_fit(df,column)\n",
    "    elif(plotType == 'log_normal'):\n",
    "        for column in df.select_dtypes(include=['int64','double']).columns:\n",
    "            log_normal_plot(df,column)\n",
    "    else:\n",
    "        print(\"Oops\")"
   ]
  },
  {
   "cell_type": "code",
   "execution_count": null,
   "metadata": {
    "scrolled": true
   },
   "outputs": [],
   "source": [
    "cumulativeDirectorDF.average_movie_per_year.value_counts()"
   ]
  },
  {
   "cell_type": "code",
   "execution_count": null,
   "metadata": {
    "scrolled": false
   },
   "outputs": [],
   "source": [
    "multi_features_plot(removedDF,['int64','double'])\n",
    "# multi_features_plot(removedDF,['int64','double'],'distribution')\n",
    "# multi_features_plot(removedDF,['int64','double'],'log_normal')"
   ]
  },
  {
   "cell_type": "code",
   "execution_count": null,
   "metadata": {},
   "outputs": [],
   "source": [
    "multi_features_plot(cumulativeDirectorDF,['int64','double'])\n",
    "# multi_features_plot(directorDataDF,['int64','double'],'distribution')\n",
    "# multi_features_plot(removedDF,['int64','double'],'log_normal')"
   ]
  }
 ],
 "metadata": {
  "kernelspec": {
   "display_name": "Python 3",
   "language": "python",
   "name": "python3"
  },
  "language_info": {
   "codemirror_mode": {
    "name": "ipython",
    "version": 3
   },
   "file_extension": ".py",
   "mimetype": "text/x-python",
   "name": "python",
   "nbconvert_exporter": "python",
   "pygments_lexer": "ipython3",
   "version": "3.7.3"
  }
 },
 "nbformat": 4,
 "nbformat_minor": 2
}
