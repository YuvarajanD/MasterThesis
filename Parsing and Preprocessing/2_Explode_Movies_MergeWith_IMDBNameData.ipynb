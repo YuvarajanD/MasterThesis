{
 "cells": [
  {
   "cell_type": "code",
   "execution_count": 1,
   "metadata": {},
   "outputs": [],
   "source": [
    "from dateutil.parser import parse \n",
    "import numpy as np\n",
    "import pandas as pd\n",
    "import os\n",
    "import time\n",
    "from datetime import datetime\n",
    "from datetime import date\n",
    "import unicodedata"
   ]
  },
  {
   "cell_type": "code",
   "execution_count": 2,
   "metadata": {},
   "outputs": [],
   "source": [
    "fileLocation = \"C:\\\\Yuva\\\\ITU\\\\4th Sem\\\\Thesis\\\\Data\\\\Datasets\\\\CleaningStage\\\\stage1PreProcessedDF_Apr-12-2020.csv\"\n",
    "folder_path = \"C:\\\\Yuva\\\\ITU\\\\4th Sem\\\\Thesis\\\\Data\\\\Datasets\\\\CleaningStage\""
   ]
  },
  {
   "cell_type": "markdown",
   "metadata": {},
   "source": [
    "# Functions"
   ]
  },
  {
   "cell_type": "markdown",
   "metadata": {},
   "source": [
    "## Helper Functions to save dataframe to path"
   ]
  },
  {
   "cell_type": "code",
   "execution_count": 3,
   "metadata": {},
   "outputs": [],
   "source": [
    "# Helper method for save_to_file\n",
    "\n",
    "def get_df_name(df):\n",
    "    name =[x for x in globals() if globals()[x] is df][0]\n",
    "    return name"
   ]
  },
  {
   "cell_type": "code",
   "execution_count": 4,
   "metadata": {},
   "outputs": [],
   "source": [
    "# Function: Save Dataframe to CSV\n",
    "\n",
    "def save_to_file(dataFrame, folderPath):\n",
    "    today = date.today()\n",
    "    todayDate = today.strftime(\"%b-%d-%Y\")\n",
    "    dataFrame.to_csv(folderPath+ '\\\\' + get_df_name(dataFrame) + '_' + todayDate  + '.csv',index=False, encoding=\"utf-8-sig\" )"
   ]
  },
  {
   "cell_type": "markdown",
   "metadata": {},
   "source": [
    "## Function to strip the empty spaces"
   ]
  },
  {
   "cell_type": "code",
   "execution_count": 5,
   "metadata": {},
   "outputs": [],
   "source": [
    "# Function to return a stripped list. To be applied on column dataframes.\n",
    "def strip_spaces_from_list(row_list):\n",
    "    stripped_list = [element.strip() for element in row_list]\n",
    "    return stripped_list"
   ]
  },
  {
   "cell_type": "markdown",
   "metadata": {},
   "source": [
    "## Function to perform value_count on a list column"
   ]
  },
  {
   "cell_type": "code",
   "execution_count": 6,
   "metadata": {},
   "outputs": [],
   "source": [
    "# Function to returns a dataframe with sorted descending frequency count of occurences in a list column dataframe\n",
    "\n",
    "def value_counts_from_list_column(df,columnName):\n",
    "    explode = pd.Series([element \n",
    "               for sublist in df[columnName] \n",
    "               for element in sublist])\n",
    "\n",
    "    explode_value_count_df = explode.value_counts().sort_index().rename_axis(columnName).reset_index(name='frequency').sort_values(by='frequency',ascending = False)\n",
    "    return explode_value_count_df"
   ]
  },
  {
   "cell_type": "markdown",
   "metadata": {},
   "source": [
    "## Function perform one hot encoding on a multiclass label containing the values in lists"
   ]
  },
  {
   "cell_type": "code",
   "execution_count": 7,
   "metadata": {},
   "outputs": [],
   "source": [
    "# One Hot encoding of all category value based classes\n",
    "\n",
    "from sklearn.preprocessing import MultiLabelBinarizer\n",
    "\n",
    "def one_hot_encode_and_merge_orginalDF(df,columnName,renameCol):\n",
    "    \n",
    "    mlb = MultiLabelBinarizer()\n",
    "    \n",
    "    # MultiLableBinarizer to transform the chosen column into multiple columns\n",
    "    one_hot_df = pd.DataFrame(mlb.fit_transform(df[columnName]),columns= renameCol + mlb.classes_, index=df.index)\n",
    "    \n",
    "#     # Rename columns\n",
    "#     category_classes = renameCol + mlb.classes_\n",
    "#     Merge columns and remove the transformed the column\n",
    "    \n",
    "#     df = df.assign(**{cls: one_hot_df[cls].to_numpy() for cls in category_classes})\n",
    "\n",
    "    # Merge columns and remove the transformed the column\n",
    "    df = pd.concat([toBeExplodeddf,one_hot_df],axis=1)\n",
    "    df.drop(columns= columnName,inplace= True)\n",
    "    return df"
   ]
  },
  {
   "cell_type": "markdown",
   "metadata": {},
   "source": [
    "## Function to find the optimal value count length given the percentage required"
   ]
  },
  {
   "cell_type": "code",
   "execution_count": 8,
   "metadata": {},
   "outputs": [],
   "source": [
    "def find_optimal_value_count(data,percent):\n",
    "    accuracy = round((percent/100),2)\n",
    "    count = 1\n",
    "    sel_accuracy = 0\n",
    "    while(accuracy > sel_accuracy):\n",
    "        sel_accuracy = data[:count].sum() / data.sum()\n",
    "        count = count + 1\n",
    "    return count-1"
   ]
  },
  {
   "cell_type": "markdown",
   "metadata": {},
   "source": [
    "## Function to provide a list of values which are not in the optimal value count length to replace them with 'Other'"
   ]
  },
  {
   "cell_type": "code",
   "execution_count": 9,
   "metadata": {},
   "outputs": [],
   "source": [
    "def other_value_list(df,valueColumn,optimal_value):\n",
    "    all_list = df[valueColumn].values.tolist()\n",
    "    opt_list = df[valueColumn][:optimal_value].values.tolist()\n",
    "    other_values_list = [element \n",
    "                        for element in all_list \n",
    "                        if element not in opt_list]\n",
    "    return other_values_list"
   ]
  },
  {
   "cell_type": "markdown",
   "metadata": {},
   "source": [
    "# Data Cleaning and Preprocessing"
   ]
  },
  {
   "cell_type": "code",
   "execution_count": 10,
   "metadata": {
    "scrolled": true
   },
   "outputs": [
    {
     "name": "stdout",
     "output_type": "stream",
     "text": [
      "\n",
      "Initial Dataframe Shape :  (621943, 24)\n"
     ]
    }
   ],
   "source": [
    "# Import as Dataframe\n",
    "\n",
    "toBeExplodeddf = pd.read_csv(fileLocation,encoding=\"utf8\")\n",
    "toBeExplodeddf.columns = map(str.lower, toBeExplodeddf.columns)\n",
    "print(\"\\nInitial Dataframe Shape : \",str(toBeExplodeddf.shape))\n",
    "#toBeExplodeddf = toBeExplodeddf.drop(columns=['Directed_by'])"
   ]
  },
  {
   "cell_type": "code",
   "execution_count": 11,
   "metadata": {},
   "outputs": [
    {
     "data": {
      "text/plain": [
       "Index(['movie_id', 'title', 'review_count_user', 'review_count_critic',\n",
       "       'metascore', 'rating_value', 'rating_count', 'date_published',\n",
       "       'duration', 'title_year', 'genre_tags', 'director_names',\n",
       "       'director_ids', 'country', 'language', 'release_date', 'budget',\n",
       "       'opening_weekend', 'gross', 'runtime', 'color', 'directed_by',\n",
       "       'release_year', 'movie_year'],\n",
       "      dtype='object')"
      ]
     },
     "execution_count": 11,
     "metadata": {},
     "output_type": "execute_result"
    }
   ],
   "source": [
    "toBeExplodeddf.columns"
   ]
  },
  {
   "cell_type": "code",
   "execution_count": 12,
   "metadata": {},
   "outputs": [],
   "source": [
    "save = toBeExplodeddf.copy()"
   ]
  },
  {
   "cell_type": "markdown",
   "metadata": {},
   "source": [
    "## 1. Opening Weekend : Data cleaning & Preprocessing"
   ]
  },
  {
   "cell_type": "markdown",
   "metadata": {},
   "source": [
    "### 1a) Extracting denomination and amount from the Opening Weekend"
   ]
  },
  {
   "cell_type": "code",
   "execution_count": 13,
   "metadata": {},
   "outputs": [
    {
     "data": {
      "text/plain": [
       "None                                                             611484\n",
       "         $5,954              (USA)      (10 August 2001)              2\n",
       "         $4,104,298              (USA)      (24 March 2000)           2\n",
       "         $1,500              (USA)      (4 November 2016)             2\n",
       "         $157,049              (USA)      (16 May 1997)               2\n",
       "                                                                  ...  \n",
       "         $73,394              (USA)      (8 May 2009)                 1\n",
       "         $44,313              (USA)      (28 May 2010)                1\n",
       "         $15,810              (USA)      (14 September 2007)          1\n",
       "         $2,270,290              (USA)      (25 October 2002)         1\n",
       "         $3,653,281              (USA)      (29 October 1999)         1\n",
       "Name: opening_weekend, Length: 10454, dtype: int64"
      ]
     },
     "execution_count": 13,
     "metadata": {},
     "output_type": "execute_result"
    }
   ],
   "source": [
    "toBeExplodeddf['opening_weekend'].value_counts()"
   ]
  },
  {
   "cell_type": "markdown",
   "metadata": {},
   "source": [
    "#### The opening weekend contains comma values. Remove them from the series"
   ]
  },
  {
   "cell_type": "code",
   "execution_count": 14,
   "metadata": {},
   "outputs": [
    {
     "data": {
      "text/plain": [
       "None                                                611484\n",
       "$4104298              (USA)      (24 March 2000)         2\n",
       "$5954              (USA)      (10 August 2001)           2\n",
       "$5910              (USA)      (5 March 2010)             2\n",
       "$1500              (USA)      (4 November 2016)          2\n",
       "Name: opening_weekend, dtype: int64"
      ]
     },
     "execution_count": 14,
     "metadata": {},
     "output_type": "execute_result"
    }
   ],
   "source": [
    "# The opening weekend contains comma values. Remove them from the series\n",
    "\n",
    "toBeExplodeddf['opening_weekend'] = toBeExplodeddf['opening_weekend'].str.replace(',','').str.lstrip()\n",
    "toBeExplodeddf['opening_weekend'].value_counts(dropna = False).head()"
   ]
  },
  {
   "cell_type": "markdown",
   "metadata": {},
   "source": [
    "#### Remove the text within the brackets"
   ]
  },
  {
   "cell_type": "code",
   "execution_count": 15,
   "metadata": {},
   "outputs": [
    {
     "data": {
      "text/plain": [
       "NaN      611484\n",
       "$6000         5\n",
       "$5000         5\n",
       "$7100         4\n",
       "$1500         4\n",
       "Name: opening_weekend, dtype: int64"
      ]
     },
     "execution_count": 15,
     "metadata": {},
     "output_type": "execute_result"
    }
   ],
   "source": [
    "# Remove the text within the brackets (estimated)\n",
    "\n",
    "toBeExplodeddf['opening_weekend'] = toBeExplodeddf['opening_weekend'].str.extract('(.*?)\\(.*?\\)')\n",
    "toBeExplodeddf['opening_weekend'] = toBeExplodeddf['opening_weekend'].str.strip()\n",
    "\n",
    "# # Replace Nan values with None\n",
    "# toBeExplodeddf['opening_weekend'] = toBeExplodeddf['opening_weekend'].fillna('None')\n",
    "\n",
    "toBeExplodeddf['opening_weekend'].value_counts(dropna = False).head()"
   ]
  },
  {
   "cell_type": "markdown",
   "metadata": {},
   "source": [
    "#### Replace currency symbols with 3 letter currency equivalent"
   ]
  },
  {
   "cell_type": "code",
   "execution_count": 16,
   "metadata": {},
   "outputs": [
    {
     "data": {
      "text/plain": [
       "NaN        611484\n",
       "USD5000         5\n",
       "USD6000         5\n",
       "USD1500         4\n",
       "USD488          4\n",
       "Name: opening_weekend, dtype: int64"
      ]
     },
     "execution_count": 16,
     "metadata": {},
     "output_type": "execute_result"
    }
   ],
   "source": [
    "# Replace currency symbols with 3 letter currency equivalent\n",
    "\n",
    "replace_currency = { '\\$' : 'USD', '\\£' : 'GBP', unicodedata.lookup('EURO SIGN') : 'EUR' }\n",
    "toBeExplodeddf.replace({'opening_weekend': replace_currency},inplace=True,regex=True)\n",
    "toBeExplodeddf['opening_weekend'].value_counts(dropna = False).head()"
   ]
  },
  {
   "cell_type": "markdown",
   "metadata": {},
   "source": [
    "#### Extract opening weekend value amount and denomination into two new columns"
   ]
  },
  {
   "cell_type": "code",
   "execution_count": 17,
   "metadata": {
    "scrolled": true
   },
   "outputs": [
    {
     "data": {
      "text/plain": [
       "NaN    611484\n",
       "USD      9402\n",
       "GBP       962\n",
       "DEM        48\n",
       "ITL        28\n",
       "JPY         5\n",
       "CAD         5\n",
       "SEK         4\n",
       "SGD         4\n",
       "AUD         1\n",
       "Name: opening_weekend_currency_denomination, dtype: int64"
      ]
     },
     "execution_count": 17,
     "metadata": {},
     "output_type": "execute_result"
    }
   ],
   "source": [
    "# Extract opening weekend value amount and denomination into two new columns\n",
    "\n",
    "toBeExplodeddf['opening_weekend_value'] = toBeExplodeddf['opening_weekend'].str.extract('(\\d+)')\n",
    "toBeExplodeddf['opening_weekend_currency_denomination'] = toBeExplodeddf['opening_weekend'].str.extract('(^\\D+)')\n",
    "toBeExplodeddf['opening_weekend_currency_denomination'] = toBeExplodeddf['opening_weekend_currency_denomination'].str.strip()\n",
    "toBeExplodeddf['opening_weekend_currency_denomination'].value_counts(dropna = False)"
   ]
  },
  {
   "cell_type": "markdown",
   "metadata": {},
   "source": [
    "### 1b) Pre processing - One hot encoding"
   ]
  },
  {
   "cell_type": "code",
   "execution_count": 18,
   "metadata": {},
   "outputs": [
    {
     "data": {
      "text/plain": [
       "(621943, 26)"
      ]
     },
     "execution_count": 18,
     "metadata": {},
     "output_type": "execute_result"
    }
   ],
   "source": [
    "toBeExplodeddf.shape"
   ]
  },
  {
   "cell_type": "code",
   "execution_count": 19,
   "metadata": {},
   "outputs": [
    {
     "data": {
      "text/html": [
       "<div>\n",
       "<style scoped>\n",
       "    .dataframe tbody tr th:only-of-type {\n",
       "        vertical-align: middle;\n",
       "    }\n",
       "\n",
       "    .dataframe tbody tr th {\n",
       "        vertical-align: top;\n",
       "    }\n",
       "\n",
       "    .dataframe thead th {\n",
       "        text-align: right;\n",
       "    }\n",
       "</style>\n",
       "<table border=\"1\" class=\"dataframe\">\n",
       "  <thead>\n",
       "    <tr style=\"text-align: right;\">\n",
       "      <th></th>\n",
       "      <th>movie_id</th>\n",
       "      <th>title</th>\n",
       "      <th>review_count_user</th>\n",
       "      <th>review_count_critic</th>\n",
       "      <th>metascore</th>\n",
       "      <th>rating_value</th>\n",
       "      <th>rating_count</th>\n",
       "      <th>date_published</th>\n",
       "      <th>duration</th>\n",
       "      <th>title_year</th>\n",
       "      <th>...</th>\n",
       "      <th>opening_weekend_value</th>\n",
       "      <th>open_wk_cur_AUD</th>\n",
       "      <th>open_wk_cur_CAD</th>\n",
       "      <th>open_wk_cur_DEM</th>\n",
       "      <th>open_wk_cur_GBP</th>\n",
       "      <th>open_wk_cur_ITL</th>\n",
       "      <th>open_wk_cur_JPY</th>\n",
       "      <th>open_wk_cur_SEK</th>\n",
       "      <th>open_wk_cur_SGD</th>\n",
       "      <th>open_wk_cur_USD</th>\n",
       "    </tr>\n",
       "  </thead>\n",
       "  <tbody>\n",
       "    <tr>\n",
       "      <th>0</th>\n",
       "      <td>tt0000001</td>\n",
       "      <td>Carmencita - spanyol tánc (1894) - IMDb</td>\n",
       "      <td>12</td>\n",
       "      <td>2</td>\n",
       "      <td>None</td>\n",
       "      <td>5.8</td>\n",
       "      <td>1255</td>\n",
       "      <td>1894-03-10</td>\n",
       "      <td>1min</td>\n",
       "      <td>1894</td>\n",
       "      <td>...</td>\n",
       "      <td>NaN</td>\n",
       "      <td>0</td>\n",
       "      <td>0</td>\n",
       "      <td>0</td>\n",
       "      <td>0</td>\n",
       "      <td>0</td>\n",
       "      <td>0</td>\n",
       "      <td>0</td>\n",
       "      <td>0</td>\n",
       "      <td>0</td>\n",
       "    </tr>\n",
       "    <tr>\n",
       "      <th>1</th>\n",
       "      <td>tt0000002</td>\n",
       "      <td>A bohóc és kutyái (1892) - IMDb</td>\n",
       "      <td>0</td>\n",
       "      <td>None</td>\n",
       "      <td>None</td>\n",
       "      <td>6.5</td>\n",
       "      <td>148</td>\n",
       "      <td>1892-10-28</td>\n",
       "      <td>5min</td>\n",
       "      <td>1892</td>\n",
       "      <td>...</td>\n",
       "      <td>NaN</td>\n",
       "      <td>0</td>\n",
       "      <td>0</td>\n",
       "      <td>0</td>\n",
       "      <td>0</td>\n",
       "      <td>0</td>\n",
       "      <td>0</td>\n",
       "      <td>0</td>\n",
       "      <td>0</td>\n",
       "      <td>0</td>\n",
       "    </tr>\n",
       "  </tbody>\n",
       "</table>\n",
       "<p>2 rows × 33 columns</p>\n",
       "</div>"
      ],
      "text/plain": [
       "    movie_id                                    title review_count_user  \\\n",
       "0  tt0000001  Carmencita - spanyol tánc (1894) - IMDb                12   \n",
       "1  tt0000002          A bohóc és kutyái (1892) - IMDb                 0   \n",
       "\n",
       "  review_count_critic metascore rating_value rating_count date_published  \\\n",
       "0                   2      None          5.8         1255     1894-03-10   \n",
       "1                None      None          6.5          148     1892-10-28   \n",
       "\n",
       "  duration title_year  ... opening_weekend_value open_wk_cur_AUD  \\\n",
       "0     1min       1894  ...                   NaN               0   \n",
       "1     5min       1892  ...                   NaN               0   \n",
       "\n",
       "  open_wk_cur_CAD open_wk_cur_DEM open_wk_cur_GBP open_wk_cur_ITL  \\\n",
       "0               0               0               0               0   \n",
       "1               0               0               0               0   \n",
       "\n",
       "  open_wk_cur_JPY open_wk_cur_SEK open_wk_cur_SGD open_wk_cur_USD  \n",
       "0               0               0               0               0  \n",
       "1               0               0               0               0  \n",
       "\n",
       "[2 rows x 33 columns]"
      ]
     },
     "execution_count": 19,
     "metadata": {},
     "output_type": "execute_result"
    }
   ],
   "source": [
    "# one hot encoding of opening_weekend_currency_denomination\n",
    "toBeExplodeddf = pd.concat([toBeExplodeddf, pd.get_dummies(toBeExplodeddf['opening_weekend_currency_denomination'],\n",
    "                                                           prefix='open_wk_cur')],axis=1)\n",
    "toBeExplodeddf.drop(['opening_weekend','opening_weekend_currency_denomination'],axis=1, inplace=True)\n",
    "toBeExplodeddf.head(2)"
   ]
  },
  {
   "cell_type": "code",
   "execution_count": 20,
   "metadata": {},
   "outputs": [
    {
     "data": {
      "text/plain": [
       "(621943, 33)"
      ]
     },
     "execution_count": 20,
     "metadata": {},
     "output_type": "execute_result"
    }
   ],
   "source": [
    "toBeExplodeddf.shape"
   ]
  },
  {
   "cell_type": "code",
   "execution_count": 21,
   "metadata": {},
   "outputs": [
    {
     "data": {
      "text/plain": [
       "Index(['movie_id', 'title', 'review_count_user', 'review_count_critic',\n",
       "       'metascore', 'rating_value', 'rating_count', 'date_published',\n",
       "       'duration', 'title_year', 'genre_tags', 'director_names',\n",
       "       'director_ids', 'country', 'language', 'release_date', 'budget',\n",
       "       'gross', 'runtime', 'color', 'directed_by', 'release_year',\n",
       "       'movie_year', 'opening_weekend_value', 'open_wk_cur_AUD',\n",
       "       'open_wk_cur_CAD', 'open_wk_cur_DEM', 'open_wk_cur_GBP',\n",
       "       'open_wk_cur_ITL', 'open_wk_cur_JPY', 'open_wk_cur_SEK',\n",
       "       'open_wk_cur_SGD', 'open_wk_cur_USD'],\n",
       "      dtype='object')"
      ]
     },
     "execution_count": 21,
     "metadata": {},
     "output_type": "execute_result"
    }
   ],
   "source": [
    "toBeExplodeddf.columns"
   ]
  },
  {
   "cell_type": "markdown",
   "metadata": {},
   "source": [
    "## 2) Gross : Data cleaning & Preprocessing"
   ]
  },
  {
   "cell_type": "markdown",
   "metadata": {},
   "source": [
    "### 2a) Data Cleaning"
   ]
  },
  {
   "cell_type": "markdown",
   "metadata": {},
   "source": [
    "#### Verifying the count of improper records - Before"
   ]
  },
  {
   "cell_type": "code",
   "execution_count": 22,
   "metadata": {},
   "outputs": [
    {
     "name": "stdout",
     "output_type": "stream",
     "text": [
      "\n",
      "Rows containing Also Known as in Gross column before processing : 6\n",
      "Rows containing See more in Gross column before processing : 520\n",
      "Rows containing Filming Location in Gross column before processing: 99\n"
     ]
    }
   ],
   "source": [
    "# Count of records which match the improper pattern\n",
    "\n",
    "print(\"\\nRows containing Also Known as in Gross column before processing :\", \n",
    "      len(toBeExplodeddf.loc[toBeExplodeddf['gross'].str.contains(pat = 'Also Known As',na=False)]))\n",
    "\n",
    "print(\"Rows containing See more in Gross column before processing :\", \n",
    "      len(toBeExplodeddf.loc[toBeExplodeddf['gross'].str.contains(pat = 'See more',na=False)]))\n",
    "\n",
    "print(\"Rows containing Filming Location in Gross column before processing:\", \n",
    "      len(toBeExplodeddf.loc[toBeExplodeddf['gross'].str.contains(pat = 'Filming',na=False)]))"
   ]
  },
  {
   "cell_type": "markdown",
   "metadata": {},
   "source": [
    "#### Cleaning the improper records based on the pattern"
   ]
  },
  {
   "cell_type": "code",
   "execution_count": 23,
   "metadata": {},
   "outputs": [],
   "source": [
    "# Pattern : Also Known as & See more. Clear the ones with texts from Color Column\n",
    "\n",
    "toBeExplodeddf.loc[toBeExplodeddf['gross'].str.contains(pat = 'Also Known As',na=False),'gross'] = \"None\"\n",
    "toBeExplodeddf.loc[toBeExplodeddf['gross'].str.contains(pat = 'See more',na=False),'gross'] = \"None\"\n",
    "toBeExplodeddf.loc[toBeExplodeddf['gross'].str.contains(pat = 'Filming',na=False),'gross'] = \"None\""
   ]
  },
  {
   "cell_type": "markdown",
   "metadata": {},
   "source": [
    "#### Verifying the count of improper records - After cleaning"
   ]
  },
  {
   "cell_type": "code",
   "execution_count": 24,
   "metadata": {},
   "outputs": [
    {
     "name": "stdout",
     "output_type": "stream",
     "text": [
      "\n",
      "Rows containing Also Known as in Gross column before processing : 0\n",
      "Rows containing See more in Gross column before processing : 0\n",
      "Rows containing Filming Location in Gross column before processing: 0\n"
     ]
    }
   ],
   "source": [
    "# Count of records which match the improper pattern\n",
    "\n",
    "print(\"\\nRows containing Also Known as in Gross column before processing :\", \n",
    "      len(toBeExplodeddf.loc[toBeExplodeddf['gross'].str.contains(pat = 'Also Known As',na=False)]))\n",
    "\n",
    "print(\"Rows containing See more in Gross column before processing :\", \n",
    "      len(toBeExplodeddf.loc[toBeExplodeddf['gross'].str.contains(pat = 'See more',na=False)]))\n",
    "\n",
    "print(\"Rows containing Filming Location in Gross column before processing:\", \n",
    "      len(toBeExplodeddf.loc[toBeExplodeddf['gross'].str.contains(pat = 'Filming',na=False)]))"
   ]
  },
  {
   "cell_type": "markdown",
   "metadata": {},
   "source": [
    "### 2b) Extracting denomination and amount from the Gross"
   ]
  },
  {
   "cell_type": "markdown",
   "metadata": {},
   "source": [
    "#### The gross contains comma values. Remove them from the series"
   ]
  },
  {
   "cell_type": "code",
   "execution_count": 25,
   "metadata": {},
   "outputs": [
    {
     "data": {
      "text/plain": [
       "None                           609294\n",
       "$1200000              (USA)        14\n",
       "$1000000              (USA)        14\n",
       "$3000000              (USA)        14\n",
       "$1500000              (USA)        11\n",
       "Name: gross, dtype: int64"
      ]
     },
     "execution_count": 25,
     "metadata": {},
     "output_type": "execute_result"
    }
   ],
   "source": [
    "# The gross contains comma values. Remove them from the series\n",
    "\n",
    "toBeExplodeddf['gross'] = toBeExplodeddf['gross'].str.replace(',','').str.lstrip()\n",
    "toBeExplodeddf['gross'].value_counts(dropna = False).head()"
   ]
  },
  {
   "cell_type": "markdown",
   "metadata": {},
   "source": [
    "#### Remove the text within the brackets (estimated)"
   ]
  },
  {
   "cell_type": "code",
   "execution_count": 26,
   "metadata": {},
   "outputs": [
    {
     "data": {
      "text/plain": [
       "NaN         609294\n",
       "$3000000        14\n",
       "$1200000        14\n",
       "$1000000        14\n",
       "$1500000        11\n",
       "Name: gross, dtype: int64"
      ]
     },
     "execution_count": 26,
     "metadata": {},
     "output_type": "execute_result"
    }
   ],
   "source": [
    "# Remove the text within the brackets (estimated)\n",
    "\n",
    "toBeExplodeddf['gross'] = toBeExplodeddf['gross'].str.extract('(.*?)\\(.*?\\)')\n",
    "toBeExplodeddf['gross'] = toBeExplodeddf['gross'].str.strip()\n",
    "toBeExplodeddf['gross'].value_counts(dropna = False).head()"
   ]
  },
  {
   "cell_type": "markdown",
   "metadata": {},
   "source": [
    "#### Replace currency symbols with 3 letter currency equivalent"
   ]
  },
  {
   "cell_type": "code",
   "execution_count": 27,
   "metadata": {},
   "outputs": [
    {
     "data": {
      "text/plain": [
       "NaN           609294\n",
       "USD1000000        14\n",
       "USD1200000        14\n",
       "USD3000000        14\n",
       "USD1500000        11\n",
       "Name: gross, dtype: int64"
      ]
     },
     "execution_count": 27,
     "metadata": {},
     "output_type": "execute_result"
    }
   ],
   "source": [
    "# Replace currency symbols with 3 letter currency equivalent\n",
    "\n",
    "replace_currency = { '\\$' : 'USD', '\\£' : 'GBP', unicodedata.lookup('EURO SIGN') : 'EUR' }\n",
    "toBeExplodeddf.replace({'gross': replace_currency},inplace=True,regex=True)\n",
    "toBeExplodeddf['gross'].value_counts(dropna = False).head()"
   ]
  },
  {
   "cell_type": "markdown",
   "metadata": {},
   "source": [
    "#### Extract gross amount and denomination into two new columns"
   ]
  },
  {
   "cell_type": "code",
   "execution_count": 28,
   "metadata": {},
   "outputs": [
    {
     "data": {
      "text/plain": [
       "NaN    609295\n",
       "USD     12648\n",
       "Name: gross_currency_denomination, dtype: int64"
      ]
     },
     "execution_count": 28,
     "metadata": {},
     "output_type": "execute_result"
    }
   ],
   "source": [
    "# Extract gross amount and denomination into two new columns\n",
    "\n",
    "toBeExplodeddf['gross_value'] = toBeExplodeddf['gross'].str.extract('(\\d+)')\n",
    "toBeExplodeddf['gross_currency_denomination'] = toBeExplodeddf['gross'].str.extract('(^\\D+)')\n",
    "# toBeExplodeddf['gross_currency_denomination'] = toBeExplodeddf['gross_currency_denomination'].str.strip().astype(str)\n",
    "toBeExplodeddf['gross_currency_denomination'] = toBeExplodeddf['gross_currency_denomination'].str.strip()\n",
    "\n",
    "# Hard coding - To remove i\n",
    "toBeExplodeddf.loc[toBeExplodeddf['gross_currency_denomination'].str.contains(pat = 'i',na=False),'gross_currency_denomination'] = np.nan\n",
    "toBeExplodeddf['gross_currency_denomination'].value_counts(dropna = False)"
   ]
  },
  {
   "cell_type": "markdown",
   "metadata": {},
   "source": [
    "### 2c) Preprocessing the data - One hot encoding"
   ]
  },
  {
   "cell_type": "code",
   "execution_count": 29,
   "metadata": {},
   "outputs": [
    {
     "data": {
      "text/html": [
       "<div>\n",
       "<style scoped>\n",
       "    .dataframe tbody tr th:only-of-type {\n",
       "        vertical-align: middle;\n",
       "    }\n",
       "\n",
       "    .dataframe tbody tr th {\n",
       "        vertical-align: top;\n",
       "    }\n",
       "\n",
       "    .dataframe thead th {\n",
       "        text-align: right;\n",
       "    }\n",
       "</style>\n",
       "<table border=\"1\" class=\"dataframe\">\n",
       "  <thead>\n",
       "    <tr style=\"text-align: right;\">\n",
       "      <th></th>\n",
       "      <th>movie_id</th>\n",
       "      <th>title</th>\n",
       "      <th>review_count_user</th>\n",
       "      <th>review_count_critic</th>\n",
       "      <th>metascore</th>\n",
       "      <th>rating_value</th>\n",
       "      <th>rating_count</th>\n",
       "      <th>date_published</th>\n",
       "      <th>duration</th>\n",
       "      <th>title_year</th>\n",
       "      <th>...</th>\n",
       "      <th>open_wk_cur_CAD</th>\n",
       "      <th>open_wk_cur_DEM</th>\n",
       "      <th>open_wk_cur_GBP</th>\n",
       "      <th>open_wk_cur_ITL</th>\n",
       "      <th>open_wk_cur_JPY</th>\n",
       "      <th>open_wk_cur_SEK</th>\n",
       "      <th>open_wk_cur_SGD</th>\n",
       "      <th>open_wk_cur_USD</th>\n",
       "      <th>gross_value</th>\n",
       "      <th>gross_cur_USD</th>\n",
       "    </tr>\n",
       "  </thead>\n",
       "  <tbody>\n",
       "    <tr>\n",
       "      <th>0</th>\n",
       "      <td>tt0000001</td>\n",
       "      <td>Carmencita - spanyol tánc (1894) - IMDb</td>\n",
       "      <td>12</td>\n",
       "      <td>2</td>\n",
       "      <td>None</td>\n",
       "      <td>5.8</td>\n",
       "      <td>1255</td>\n",
       "      <td>1894-03-10</td>\n",
       "      <td>1min</td>\n",
       "      <td>1894</td>\n",
       "      <td>...</td>\n",
       "      <td>0</td>\n",
       "      <td>0</td>\n",
       "      <td>0</td>\n",
       "      <td>0</td>\n",
       "      <td>0</td>\n",
       "      <td>0</td>\n",
       "      <td>0</td>\n",
       "      <td>0</td>\n",
       "      <td>NaN</td>\n",
       "      <td>0</td>\n",
       "    </tr>\n",
       "    <tr>\n",
       "      <th>1</th>\n",
       "      <td>tt0000002</td>\n",
       "      <td>A bohóc és kutyái (1892) - IMDb</td>\n",
       "      <td>0</td>\n",
       "      <td>None</td>\n",
       "      <td>None</td>\n",
       "      <td>6.5</td>\n",
       "      <td>148</td>\n",
       "      <td>1892-10-28</td>\n",
       "      <td>5min</td>\n",
       "      <td>1892</td>\n",
       "      <td>...</td>\n",
       "      <td>0</td>\n",
       "      <td>0</td>\n",
       "      <td>0</td>\n",
       "      <td>0</td>\n",
       "      <td>0</td>\n",
       "      <td>0</td>\n",
       "      <td>0</td>\n",
       "      <td>0</td>\n",
       "      <td>NaN</td>\n",
       "      <td>0</td>\n",
       "    </tr>\n",
       "  </tbody>\n",
       "</table>\n",
       "<p>2 rows × 34 columns</p>\n",
       "</div>"
      ],
      "text/plain": [
       "    movie_id                                    title review_count_user  \\\n",
       "0  tt0000001  Carmencita - spanyol tánc (1894) - IMDb                12   \n",
       "1  tt0000002          A bohóc és kutyái (1892) - IMDb                 0   \n",
       "\n",
       "  review_count_critic metascore rating_value rating_count date_published  \\\n",
       "0                   2      None          5.8         1255     1894-03-10   \n",
       "1                None      None          6.5          148     1892-10-28   \n",
       "\n",
       "  duration title_year  ... open_wk_cur_CAD open_wk_cur_DEM open_wk_cur_GBP  \\\n",
       "0     1min       1894  ...               0               0               0   \n",
       "1     5min       1892  ...               0               0               0   \n",
       "\n",
       "  open_wk_cur_ITL open_wk_cur_JPY open_wk_cur_SEK open_wk_cur_SGD  \\\n",
       "0               0               0               0               0   \n",
       "1               0               0               0               0   \n",
       "\n",
       "  open_wk_cur_USD gross_value gross_cur_USD  \n",
       "0               0         NaN             0  \n",
       "1               0         NaN             0  \n",
       "\n",
       "[2 rows x 34 columns]"
      ]
     },
     "execution_count": 29,
     "metadata": {},
     "output_type": "execute_result"
    }
   ],
   "source": [
    "# one hot encoding of gross_currency_denomination\n",
    "toBeExplodeddf = pd.concat([toBeExplodeddf, pd.get_dummies(toBeExplodeddf['gross_currency_denomination'],\n",
    "                                                           prefix='gross_cur')],axis=1)\n",
    "toBeExplodeddf.drop(['gross','gross_currency_denomination'],axis=1, inplace=True)\n",
    "toBeExplodeddf.head(2)"
   ]
  },
  {
   "cell_type": "code",
   "execution_count": 30,
   "metadata": {},
   "outputs": [
    {
     "data": {
      "text/plain": [
       "(621943, 34)"
      ]
     },
     "execution_count": 30,
     "metadata": {},
     "output_type": "execute_result"
    }
   ],
   "source": [
    "toBeExplodeddf.shape"
   ]
  },
  {
   "cell_type": "code",
   "execution_count": 31,
   "metadata": {},
   "outputs": [
    {
     "data": {
      "text/plain": [
       "Index(['movie_id', 'title', 'review_count_user', 'review_count_critic',\n",
       "       'metascore', 'rating_value', 'rating_count', 'date_published',\n",
       "       'duration', 'title_year', 'genre_tags', 'director_names',\n",
       "       'director_ids', 'country', 'language', 'release_date', 'budget',\n",
       "       'runtime', 'color', 'directed_by', 'release_year', 'movie_year',\n",
       "       'opening_weekend_value', 'open_wk_cur_AUD', 'open_wk_cur_CAD',\n",
       "       'open_wk_cur_DEM', 'open_wk_cur_GBP', 'open_wk_cur_ITL',\n",
       "       'open_wk_cur_JPY', 'open_wk_cur_SEK', 'open_wk_cur_SGD',\n",
       "       'open_wk_cur_USD', 'gross_value', 'gross_cur_USD'],\n",
       "      dtype='object')"
      ]
     },
     "execution_count": 31,
     "metadata": {},
     "output_type": "execute_result"
    }
   ],
   "source": [
    "toBeExplodeddf.columns"
   ]
  },
  {
   "cell_type": "code",
   "execution_count": 32,
   "metadata": {},
   "outputs": [],
   "source": [
    "# toBeExplodeddf['Gross'].value_counts().to_csv('tst.csv')"
   ]
  },
  {
   "cell_type": "markdown",
   "metadata": {},
   "source": [
    "## 3) Budget : Data cleaning & Preprocessing"
   ]
  },
  {
   "cell_type": "markdown",
   "metadata": {},
   "source": [
    "### 3a) Data Cleaning"
   ]
  },
  {
   "cell_type": "markdown",
   "metadata": {},
   "source": [
    "#### Verifying the count of improper records - Before"
   ]
  },
  {
   "cell_type": "code",
   "execution_count": 33,
   "metadata": {},
   "outputs": [
    {
     "name": "stdout",
     "output_type": "stream",
     "text": [
      "\n",
      "Rows containing Also Known as in budget column before processing : 2\n",
      "Rows containing See more in budget column before processing : 78\n"
     ]
    }
   ],
   "source": [
    "# Count of records which match the improper pattern\n",
    "\n",
    "print(\"\\nRows containing Also Known as in budget column before processing :\", \n",
    "      len(toBeExplodeddf.loc[toBeExplodeddf['budget'].str.contains(pat = 'Also Known As',na=False)]))\n",
    "\n",
    "print(\"Rows containing See more in budget column before processing :\", \n",
    "      len(toBeExplodeddf.loc[toBeExplodeddf['budget'].str.contains(pat = 'See more',na=False)]))"
   ]
  },
  {
   "cell_type": "markdown",
   "metadata": {},
   "source": [
    "#### Cleaning the improper records based on the pattern"
   ]
  },
  {
   "cell_type": "code",
   "execution_count": 34,
   "metadata": {},
   "outputs": [],
   "source": [
    "# Pattern : Also Known as & See more. Clear the ones with texts from budget Column\n",
    "\n",
    "toBeExplodeddf.loc[toBeExplodeddf['budget'].str.contains(pat = 'Also Known As',na=False),'budget'] = \"None\"\n",
    "toBeExplodeddf.loc[toBeExplodeddf['budget'].str.contains(pat = 'See more',na=False),'budget'] = \"None\""
   ]
  },
  {
   "cell_type": "markdown",
   "metadata": {},
   "source": [
    "#### Verifying the count of improper records - After cleaning"
   ]
  },
  {
   "cell_type": "code",
   "execution_count": 35,
   "metadata": {},
   "outputs": [
    {
     "name": "stdout",
     "output_type": "stream",
     "text": [
      "\n",
      "Rows containing Also Known as in budget column before processing : 0\n",
      "Rows containing See more in budget column before processing : 0\n"
     ]
    }
   ],
   "source": [
    "# Count of records which match the improper pattern\n",
    "\n",
    "print(\"\\nRows containing Also Known as in budget column before processing :\", \n",
    "      len(toBeExplodeddf.loc[toBeExplodeddf['budget'].str.contains(pat = 'Also Known As',na=False)]))\n",
    "\n",
    "print(\"Rows containing See more in budget column before processing :\", \n",
    "      len(toBeExplodeddf.loc[toBeExplodeddf['budget'].str.contains(pat = 'See more',na=False)]))"
   ]
  },
  {
   "cell_type": "markdown",
   "metadata": {},
   "source": [
    "### 3b) Extracting denomination and amount from the budget"
   ]
  },
  {
   "cell_type": "code",
   "execution_count": 36,
   "metadata": {},
   "outputs": [
    {
     "data": {
      "text/plain": [
       "None                                 552348\n",
       "$10000              (estimated)        2379\n",
       "$1000000              (estimated)      1515\n",
       "$100000              (estimated)       1363\n",
       "$5000              (estimated)         1283\n",
       "Name: budget, dtype: int64"
      ]
     },
     "execution_count": 36,
     "metadata": {},
     "output_type": "execute_result"
    }
   ],
   "source": [
    "# The budget contains comma values. Remove them from the series\n",
    "\n",
    "toBeExplodeddf['budget'] = toBeExplodeddf['budget'].str.replace(',','').str.lstrip()\n",
    "toBeExplodeddf['budget'].value_counts(dropna = False).head()"
   ]
  },
  {
   "cell_type": "code",
   "execution_count": 37,
   "metadata": {},
   "outputs": [
    {
     "name": "stdout",
     "output_type": "stream",
     "text": [
      "Amount of rows without a budget value :  552348\n"
     ]
    }
   ],
   "source": [
    "print(\"Amount of rows without a budget value : \", toBeExplodeddf['budget'].str.contains('None').sum())"
   ]
  },
  {
   "cell_type": "code",
   "execution_count": 38,
   "metadata": {},
   "outputs": [
    {
     "data": {
      "text/plain": [
       "NaN         552351\n",
       "$10000        2379\n",
       "$1000000      1515\n",
       "$100000       1363\n",
       "$5000         1283\n",
       "Name: budget, dtype: int64"
      ]
     },
     "execution_count": 38,
     "metadata": {},
     "output_type": "execute_result"
    }
   ],
   "source": [
    "# Remove the text within the brackets (estimated)\n",
    "\n",
    "toBeExplodeddf['budget'] = toBeExplodeddf['budget'].str.extract('(.*?)\\(.*?\\)')\n",
    "toBeExplodeddf['budget'] = toBeExplodeddf['budget'].str.strip()\n",
    "toBeExplodeddf['budget'].value_counts(dropna = False).head()"
   ]
  },
  {
   "cell_type": "code",
   "execution_count": 39,
   "metadata": {},
   "outputs": [
    {
     "data": {
      "text/plain": [
       "NaN           552351\n",
       "USD10000        2379\n",
       "USD1000000      1515\n",
       "USD100000       1363\n",
       "USD5000         1283\n",
       "Name: budget, dtype: int64"
      ]
     },
     "execution_count": 39,
     "metadata": {},
     "output_type": "execute_result"
    }
   ],
   "source": [
    "# Replace currency symbols with 3 letter currency equivalent\n",
    "\n",
    "replace_currency = { '\\$' : 'USD', '\\£' : 'GBP', unicodedata.lookup('EURO SIGN') : 'EUR' }\n",
    "toBeExplodeddf.replace({'budget': replace_currency},inplace=True,regex=True)\n",
    "toBeExplodeddf['budget'].value_counts(dropna = False).head()"
   ]
  },
  {
   "cell_type": "code",
   "execution_count": 40,
   "metadata": {},
   "outputs": [
    {
     "data": {
      "text/plain": [
       "NaN    552351\n",
       "USD     42972\n",
       "EUR      8500\n",
       "GBP      4973\n",
       "CAD      3307\n",
       "        ...  \n",
       "CYP         1\n",
       "KES         1\n",
       "BOB         1\n",
       "UYU         1\n",
       "LUF         1\n",
       "Name: budget_currency_denomination, Length: 107, dtype: int64"
      ]
     },
     "execution_count": 40,
     "metadata": {},
     "output_type": "execute_result"
    }
   ],
   "source": [
    "# Extract budget amount and denomination into two new columns\n",
    "\n",
    "toBeExplodeddf['budget_value'] = toBeExplodeddf['budget'].str.extract('(\\d+)')\n",
    "toBeExplodeddf['budget_currency_denomination'] = toBeExplodeddf['budget'].str.extract('(^\\D+)')\n",
    "# toBeExplodeddf['budget_currency_denomination'] = toBeExplodeddf['budget_currency_denomination'].str.strip().astype(str)\n",
    "toBeExplodeddf['budget_currency_denomination'] = toBeExplodeddf['budget_currency_denomination'].str.strip()\n",
    "toBeExplodeddf['budget_currency_denomination'].value_counts(dropna = False)"
   ]
  },
  {
   "cell_type": "code",
   "execution_count": 41,
   "metadata": {},
   "outputs": [
    {
     "name": "stdout",
     "output_type": "stream",
     "text": [
      "\n",
      "Dataframe Shape After extracing budget values :  (621943, 36)\n"
     ]
    }
   ],
   "source": [
    "print(\"\\nDataframe Shape After extracing budget values : \",str(toBeExplodeddf.shape))"
   ]
  },
  {
   "cell_type": "markdown",
   "metadata": {},
   "source": [
    "### 3c) Preprocessing the data - Optimal value count & One hot encoding"
   ]
  },
  {
   "cell_type": "code",
   "execution_count": 42,
   "metadata": {},
   "outputs": [
    {
     "data": {
      "text/plain": [
       "USD    42972\n",
       "EUR     8500\n",
       "GBP     4973\n",
       "CAD     3307\n",
       "INR     1916\n",
       "       ...  \n",
       "LUF        1\n",
       "UYU        1\n",
       "GTQ        1\n",
       "BND        1\n",
       "PEN        1\n",
       "Name: budget_currency_denomination, Length: 106, dtype: int64"
      ]
     },
     "execution_count": 42,
     "metadata": {},
     "output_type": "execute_result"
    }
   ],
   "source": [
    "toBeExplodeddf['budget_currency_denomination'].value_counts()"
   ]
  },
  {
   "cell_type": "code",
   "execution_count": 43,
   "metadata": {},
   "outputs": [
    {
     "name": "stdout",
     "output_type": "stream",
     "text": [
      "Number of unique countries for budget :  106\n"
     ]
    }
   ],
   "source": [
    "budget_country_value_count = toBeExplodeddf['budget_currency_denomination'].value_counts().rename_axis('budget_currency_denomination').reset_index(name='frequency')\n",
    "print(\"Number of unique countries for budget : \", len(budget_country_value_count))"
   ]
  },
  {
   "cell_type": "markdown",
   "metadata": {},
   "source": [
    "#### Optimal value count for Budget Country list"
   ]
  },
  {
   "cell_type": "code",
   "execution_count": 44,
   "metadata": {},
   "outputs": [
    {
     "name": "stdout",
     "output_type": "stream",
     "text": [
      "The amount of languages required to reach 90 percentage is 6 countries budget currency\n"
     ]
    }
   ],
   "source": [
    "required_percent = 90\n",
    "optimal_value_count_budget = find_optimal_value_count(budget_country_value_count['frequency'],required_percent)\n",
    "print(\"The amount of languages required to reach \" + str(required_percent) + \n",
    "      \" percentage is \" + str(optimal_value_count_budget) + \" countries budget currency\")"
   ]
  },
  {
   "cell_type": "markdown",
   "metadata": {},
   "source": [
    "#### A list of budget currency of a country which are not in the optimal value count length to replace them with 'Other'"
   ]
  },
  {
   "cell_type": "code",
   "execution_count": 45,
   "metadata": {},
   "outputs": [
    {
     "name": "stdout",
     "output_type": "stream",
     "text": [
      "Countries to be replaced with Other :  100\n"
     ]
    }
   ],
   "source": [
    "other_budget_countries_list = other_value_list(budget_country_value_count ,'budget_currency_denomination',optimal_value_count_budget)\n",
    "print(\"Countries to be replaced with Other : \", len(other_budget_countries_list))"
   ]
  },
  {
   "cell_type": "markdown",
   "metadata": {},
   "source": [
    "#### Function to replace budget currency with other"
   ]
  },
  {
   "cell_type": "code",
   "execution_count": 46,
   "metadata": {},
   "outputs": [
    {
     "data": {
      "text/plain": [
       "NaN    552351\n",
       "USD     42972\n",
       "EUR      8500\n",
       "GBP      4973\n",
       "CAD      3307\n",
       "        ...  \n",
       "CYP         1\n",
       "KES         1\n",
       "BOB         1\n",
       "UYU         1\n",
       "LUF         1\n",
       "Name: budget_currency_denomination, Length: 107, dtype: int64"
      ]
     },
     "execution_count": 46,
     "metadata": {},
     "output_type": "execute_result"
    }
   ],
   "source": [
    "toBeExplodeddf['budget_currency_denomination'].value_counts(dropna = False)"
   ]
  },
  {
   "cell_type": "markdown",
   "metadata": {},
   "source": [
    "#### Replace other budget currency denomination with 'Other'"
   ]
  },
  {
   "cell_type": "code",
   "execution_count": 47,
   "metadata": {},
   "outputs": [],
   "source": [
    "# Replace other countries with 'Other'\n",
    "toBeExplodeddf.loc[toBeExplodeddf['budget_currency_denomination'].\n",
    "                   isin(other_budget_countries_list),\n",
    "                   'budget_currency_denomination'] = np.nan"
   ]
  },
  {
   "cell_type": "code",
   "execution_count": 48,
   "metadata": {},
   "outputs": [
    {
     "data": {
      "text/plain": [
       "NaN    558766\n",
       "USD     42972\n",
       "EUR      8500\n",
       "GBP      4973\n",
       "CAD      3307\n",
       "INR      1916\n",
       "AUD      1509\n",
       "Name: budget_currency_denomination, dtype: int64"
      ]
     },
     "execution_count": 48,
     "metadata": {},
     "output_type": "execute_result"
    }
   ],
   "source": [
    "toBeExplodeddf['budget_currency_denomination'].value_counts(dropna = False)"
   ]
  },
  {
   "cell_type": "markdown",
   "metadata": {},
   "source": [
    "#### one hot encoding of budget_currency_denomination"
   ]
  },
  {
   "cell_type": "code",
   "execution_count": 49,
   "metadata": {},
   "outputs": [
    {
     "name": "stdout",
     "output_type": "stream",
     "text": [
      "\n",
      "Dataframe Shape Before One hot Encoding budget :  (621943, 36)\n",
      "\n",
      "Dataframe Shape After One hot Encoding budget :  (621943, 40)\n"
     ]
    }
   ],
   "source": [
    "# one hot encoding of gross_currency_denomination\n",
    "\n",
    "print(\"\\nDataframe Shape Before One hot Encoding budget : \",str(toBeExplodeddf.shape))\n",
    "\n",
    "toBeExplodeddf = pd.concat([toBeExplodeddf, pd.get_dummies(toBeExplodeddf['budget_currency_denomination'],\n",
    "                                                           prefix='budget_cur')],axis=1)\n",
    "toBeExplodeddf.drop(['budget','budget_currency_denomination'],axis=1, inplace=True)\n",
    "\n",
    "print(\"\\nDataframe Shape After One hot Encoding budget : \",str(toBeExplodeddf.shape))"
   ]
  },
  {
   "cell_type": "code",
   "execution_count": 50,
   "metadata": {},
   "outputs": [
    {
     "data": {
      "text/plain": [
       "Index(['movie_id', 'title', 'review_count_user', 'review_count_critic',\n",
       "       'metascore', 'rating_value', 'rating_count', 'date_published',\n",
       "       'duration', 'title_year', 'genre_tags', 'director_names',\n",
       "       'director_ids', 'country', 'language', 'release_date', 'runtime',\n",
       "       'color', 'directed_by', 'release_year', 'movie_year',\n",
       "       'opening_weekend_value', 'open_wk_cur_AUD', 'open_wk_cur_CAD',\n",
       "       'open_wk_cur_DEM', 'open_wk_cur_GBP', 'open_wk_cur_ITL',\n",
       "       'open_wk_cur_JPY', 'open_wk_cur_SEK', 'open_wk_cur_SGD',\n",
       "       'open_wk_cur_USD', 'gross_value', 'gross_cur_USD', 'budget_value',\n",
       "       'budget_cur_AUD', 'budget_cur_CAD', 'budget_cur_EUR', 'budget_cur_GBP',\n",
       "       'budget_cur_INR', 'budget_cur_USD'],\n",
       "      dtype='object')"
      ]
     },
     "execution_count": 50,
     "metadata": {},
     "output_type": "execute_result"
    }
   ],
   "source": [
    "toBeExplodeddf.columns"
   ]
  },
  {
   "cell_type": "code",
   "execution_count": 51,
   "metadata": {},
   "outputs": [],
   "source": [
    "# toBeExplodeddf['budget_currency_denomination'].to_csv('tst.csv', encoding=\"utf-8-sig\")"
   ]
  },
  {
   "cell_type": "markdown",
   "metadata": {},
   "source": [
    "## 4) Color : Data cleaning & Pre processing"
   ]
  },
  {
   "cell_type": "markdown",
   "metadata": {},
   "source": [
    "### 4a) Data cleaning"
   ]
  },
  {
   "cell_type": "markdown",
   "metadata": {},
   "source": [
    "#### Verifying the count of improper records - Before"
   ]
  },
  {
   "cell_type": "code",
   "execution_count": 52,
   "metadata": {},
   "outputs": [
    {
     "name": "stdout",
     "output_type": "stream",
     "text": [
      "\n",
      "Rows containing Also Known as in color column before processing : 2\n",
      "Rows containing See more in color column before processing : 226\n",
      "Rows containing improper records in color column before processing : 34\n"
     ]
    }
   ],
   "source": [
    "# Count of records which match the improper pattern\n",
    "\n",
    "print(\"\\nRows containing Also Known as in color column before processing :\", \n",
    "      len(toBeExplodeddf.loc[toBeExplodeddf['color'].str.contains(pat = 'Also Known As',na=False)]))\n",
    "\n",
    "print(\"Rows containing See more in color column before processing :\", \n",
    "      len(toBeExplodeddf.loc[toBeExplodeddf['color'].str.contains(pat = 'See more',na=False)]))\n",
    "\n",
    "print(\"Rows containing improper records in color column before processing :\", \n",
    "      len(toBeExplodeddf.loc[toBeExplodeddf['color'].str.contains(pat = 'USA',na=False)]))"
   ]
  },
  {
   "cell_type": "markdown",
   "metadata": {},
   "source": [
    "#### Cleaning the improper records based on the pattern"
   ]
  },
  {
   "cell_type": "code",
   "execution_count": 53,
   "metadata": {},
   "outputs": [],
   "source": [
    "# Pattern : Also Known as & See more. Clear the ones with texts from Color Column\n",
    "\n",
    "toBeExplodeddf.loc[toBeExplodeddf['color'].str.contains(pat = 'Also Known As',na=False),'color'] = \"None\"\n",
    "toBeExplodeddf.loc[toBeExplodeddf['color'].str.contains(pat = 'See more',na=False),'color'] = \"None\"\n",
    "toBeExplodeddf.loc[toBeExplodeddf['color'].str.contains(pat = 'USA',na=False),'color'] = \"None\"\n",
    "toBeExplodeddf.loc[toBeExplodeddf['color'].str.contains(pat = 'Black',na=False),'color'] = \"Black and White\"\n",
    "toBeExplodeddf.loc[toBeExplodeddf['color'].str.contains(pat = 'Color',na=False),'color'] = \"Color\""
   ]
  },
  {
   "cell_type": "markdown",
   "metadata": {},
   "source": [
    "#### Verifying the count of improper records - After cleaning"
   ]
  },
  {
   "cell_type": "code",
   "execution_count": 54,
   "metadata": {},
   "outputs": [
    {
     "name": "stdout",
     "output_type": "stream",
     "text": [
      "\n",
      "Rows containing Also Known as in color column after processing : 0\n",
      "Rows containing See more in color column after processing: 0\n",
      "Rows containing other improper records in color column before processing : 0\n"
     ]
    }
   ],
   "source": [
    "# Count of records which match the improper pattern\n",
    "\n",
    "print(\"\\nRows containing Also Known as in color column after processing :\", \n",
    "      len(toBeExplodeddf.loc[toBeExplodeddf['color'].str.contains(pat = 'Also Known As',na=False)]))\n",
    "\n",
    "print(\"Rows containing See more in color column after processing:\", \n",
    "      len(toBeExplodeddf.loc[toBeExplodeddf['color'].str.contains(pat = 'See more',na=False)]))\n",
    "\n",
    "print(\"Rows containing other improper records in color column before processing :\", \n",
    "      len(toBeExplodeddf.loc[toBeExplodeddf['color'].str.contains(pat = 'USA',na=False)]))"
   ]
  },
  {
   "cell_type": "markdown",
   "metadata": {},
   "source": [
    "### 4b) Pre processing - One hot encoding"
   ]
  },
  {
   "cell_type": "markdown",
   "metadata": {},
   "source": [
    "#### Split into lists"
   ]
  },
  {
   "cell_type": "code",
   "execution_count": 55,
   "metadata": {},
   "outputs": [],
   "source": [
    "toBeExplodeddf['color'] = toBeExplodeddf['color'].str.split(\"|\", expand = False)"
   ]
  },
  {
   "cell_type": "markdown",
   "metadata": {},
   "source": [
    "#### Remove trailing spaces in Color"
   ]
  },
  {
   "cell_type": "code",
   "execution_count": 56,
   "metadata": {},
   "outputs": [
    {
     "data": {
      "text/plain": [
       "0    [Black and White]\n",
       "1              [Color]\n",
       "2              [Color]\n",
       "3              [Color]\n",
       "4    [Black and White]\n",
       "Name: color, dtype: object"
      ]
     },
     "execution_count": 56,
     "metadata": {},
     "output_type": "execute_result"
    }
   ],
   "source": [
    "# Remove trailing spaces in Color\n",
    "\n",
    "toBeExplodeddf['color'] = toBeExplodeddf['color'].apply(strip_spaces_from_list)\n",
    "toBeExplodeddf['color'].head()"
   ]
  },
  {
   "cell_type": "markdown",
   "metadata": {},
   "source": [
    "#### Explode the Color to perform a value_count. Helps us understand the amount of features we would be adding."
   ]
  },
  {
   "cell_type": "code",
   "execution_count": 57,
   "metadata": {},
   "outputs": [
    {
     "name": "stdout",
     "output_type": "stream",
     "text": [
      "Number of unique Colors :  3\n"
     ]
    }
   ],
   "source": [
    "# Explode the Color to perform a value_count. Helps us understand the amount of features we would be adding.\n",
    "\n",
    "color_value_count = value_counts_from_list_column(toBeExplodeddf,'color')\n",
    "print(\"Number of unique Colors : \", len(color_value_count))"
   ]
  },
  {
   "cell_type": "code",
   "execution_count": 58,
   "metadata": {},
   "outputs": [
    {
     "data": {
      "text/html": [
       "<div>\n",
       "<style scoped>\n",
       "    .dataframe tbody tr th:only-of-type {\n",
       "        vertical-align: middle;\n",
       "    }\n",
       "\n",
       "    .dataframe tbody tr th {\n",
       "        vertical-align: top;\n",
       "    }\n",
       "\n",
       "    .dataframe thead th {\n",
       "        text-align: right;\n",
       "    }\n",
       "</style>\n",
       "<table border=\"1\" class=\"dataframe\">\n",
       "  <thead>\n",
       "    <tr style=\"text-align: right;\">\n",
       "      <th></th>\n",
       "      <th>color</th>\n",
       "      <th>frequency</th>\n",
       "    </tr>\n",
       "  </thead>\n",
       "  <tbody>\n",
       "    <tr>\n",
       "      <th>1</th>\n",
       "      <td>Color</td>\n",
       "      <td>439973</td>\n",
       "    </tr>\n",
       "    <tr>\n",
       "      <th>2</th>\n",
       "      <td>None</td>\n",
       "      <td>103117</td>\n",
       "    </tr>\n",
       "    <tr>\n",
       "      <th>0</th>\n",
       "      <td>Black and White</td>\n",
       "      <td>78853</td>\n",
       "    </tr>\n",
       "  </tbody>\n",
       "</table>\n",
       "</div>"
      ],
      "text/plain": [
       "             color  frequency\n",
       "1            Color     439973\n",
       "2             None     103117\n",
       "0  Black and White      78853"
      ]
     },
     "execution_count": 58,
     "metadata": {},
     "output_type": "execute_result"
    }
   ],
   "source": [
    "color_value_count.head(10)"
   ]
  },
  {
   "cell_type": "markdown",
   "metadata": {},
   "source": [
    "#### One Hot encoding of all category value based classes"
   ]
  },
  {
   "cell_type": "code",
   "execution_count": 59,
   "metadata": {},
   "outputs": [
    {
     "name": "stdout",
     "output_type": "stream",
     "text": [
      "\n",
      "Dataframe Shape Before One hot Encoding color :  (621943, 40)\n",
      "\n",
      "Dataframe Shape After One hot Encoding Color :  (621943, 42)\n"
     ]
    }
   ],
   "source": [
    "# One Hot encoding of all category value based classes\n",
    "\n",
    "print(\"\\nDataframe Shape Before One hot Encoding color : \",str(toBeExplodeddf.shape))\n",
    "toBeExplodeddf = one_hot_encode_and_merge_orginalDF(toBeExplodeddf,columnName ='color',renameCol = 'color_')\n",
    "print(\"\\nDataframe Shape After One hot Encoding Color : \",str(toBeExplodeddf.shape))"
   ]
  },
  {
   "cell_type": "code",
   "execution_count": 60,
   "metadata": {},
   "outputs": [
    {
     "data": {
      "text/plain": [
       "Index(['movie_id', 'title', 'review_count_user', 'review_count_critic',\n",
       "       'metascore', 'rating_value', 'rating_count', 'date_published',\n",
       "       'duration', 'title_year', 'genre_tags', 'director_names',\n",
       "       'director_ids', 'country', 'language', 'release_date', 'runtime',\n",
       "       'directed_by', 'release_year', 'movie_year', 'opening_weekend_value',\n",
       "       'open_wk_cur_AUD', 'open_wk_cur_CAD', 'open_wk_cur_DEM',\n",
       "       'open_wk_cur_GBP', 'open_wk_cur_ITL', 'open_wk_cur_JPY',\n",
       "       'open_wk_cur_SEK', 'open_wk_cur_SGD', 'open_wk_cur_USD', 'gross_value',\n",
       "       'gross_cur_USD', 'budget_value', 'budget_cur_AUD', 'budget_cur_CAD',\n",
       "       'budget_cur_EUR', 'budget_cur_GBP', 'budget_cur_INR', 'budget_cur_USD',\n",
       "       'color_Black and White', 'color_Color', 'color_None'],\n",
       "      dtype='object')"
      ]
     },
     "execution_count": 60,
     "metadata": {},
     "output_type": "execute_result"
    }
   ],
   "source": [
    "toBeExplodeddf.columns"
   ]
  },
  {
   "cell_type": "markdown",
   "metadata": {},
   "source": [
    "## 5) Country - Data cleaning & Pre processing"
   ]
  },
  {
   "cell_type": "markdown",
   "metadata": {},
   "source": [
    "### 5a) Data cleaning"
   ]
  },
  {
   "cell_type": "markdown",
   "metadata": {},
   "source": [
    "#### Verifying the count of improper records - Before"
   ]
  },
  {
   "cell_type": "code",
   "execution_count": 61,
   "metadata": {},
   "outputs": [
    {
     "name": "stdout",
     "output_type": "stream",
     "text": [
      "Rows containing Also Known as in country column before processing: 145\n",
      "Rows containing See more in country column before processing: 439\n",
      "Rows containing Filming Location in country column before processing: 136\n"
     ]
    }
   ],
   "source": [
    "# Count of records which match the improper pattern\n",
    "\n",
    "print(\"Rows containing Also Known as in country column before processing:\", \n",
    "      len(toBeExplodeddf.loc[toBeExplodeddf['country'].str.contains(pat = 'Also Known As',na=False)]))\n",
    "\n",
    "print(\"Rows containing See more in country column before processing:\", \n",
    "      len(toBeExplodeddf.loc[toBeExplodeddf['country'].str.contains(pat = 'See more',na=False)]))\n",
    "\n",
    "print(\"Rows containing Filming Location in country column before processing:\", \n",
    "      len(toBeExplodeddf.loc[toBeExplodeddf['country'].str.contains(pat = 'Filming',na=False)]))"
   ]
  },
  {
   "cell_type": "markdown",
   "metadata": {},
   "source": [
    "#### Cleaning the improper records based on the pattern"
   ]
  },
  {
   "cell_type": "code",
   "execution_count": 62,
   "metadata": {
    "scrolled": true
   },
   "outputs": [],
   "source": [
    "# Pattern : Also Known as & See more. Clear the ones with texts for Country Column\n",
    "\n",
    "toBeExplodeddf.loc[toBeExplodeddf['country'].str.contains(pat = 'Also Known As',na=False),'country'] = \"Other\"\n",
    "toBeExplodeddf.loc[toBeExplodeddf['country'].str.contains(pat = 'See more',na=False),'country'] = \"Other\"\n",
    "\n",
    "# Pattern : Filming Locations\n",
    "toBeExplodeddf.loc[toBeExplodeddf['country'].str.contains(pat = 'USA',na=False),'country'] = \"USA\"\n",
    "toBeExplodeddf.loc[toBeExplodeddf['country'].str.contains(pat = 'UK',na=False),'country'] = \"UK\"\n",
    "toBeExplodeddf.loc[toBeExplodeddf['country'].str.contains(pat = 'Australia',na=False),'country'] = \"Australia\"\n",
    "toBeExplodeddf.loc[toBeExplodeddf['country'].str.contains(pat = 'Canada',na=False),'country'] = \"Canada\"\n",
    "toBeExplodeddf.loc[toBeExplodeddf['country'].str.contains(pat = 'Spain',na=False),'country'] = \"Spain\"\n",
    "toBeExplodeddf.loc[toBeExplodeddf['country'].str.contains(pat = 'Denmark',na=False),'country'] = \"Denmark\""
   ]
  },
  {
   "cell_type": "markdown",
   "metadata": {},
   "source": [
    "#### Verifying the count of improper records - After cleaning"
   ]
  },
  {
   "cell_type": "code",
   "execution_count": 63,
   "metadata": {},
   "outputs": [
    {
     "name": "stdout",
     "output_type": "stream",
     "text": [
      "\n",
      "Rows containing Also Known as in country column after processing: 0\n",
      "Rows containing See more in country column after processing: 0\n",
      "Rows containing Filming Location in country column after processing: 0\n"
     ]
    }
   ],
   "source": [
    "# Count of records which match the improper pattern\n",
    "\n",
    "print(\"\\nRows containing Also Known as in country column after processing:\", \n",
    "      len(toBeExplodeddf.loc[toBeExplodeddf['country'].str.contains(pat = 'Also Known As',na=False)]))\n",
    "\n",
    "print(\"Rows containing See more in country column after processing:\", \n",
    "      len(toBeExplodeddf.loc[toBeExplodeddf['country'].str.contains(pat = 'See more',na=False)]))\n",
    "\n",
    "print(\"Rows containing Filming Location in country column after processing:\", \n",
    "      len(toBeExplodeddf.loc[toBeExplodeddf['country'].str.contains(pat = 'Filming',na=False)]))"
   ]
  },
  {
   "cell_type": "markdown",
   "metadata": {},
   "source": [
    "### 5b) Pre processing - Optimal Value & One hot encoding"
   ]
  },
  {
   "cell_type": "markdown",
   "metadata": {},
   "source": [
    "#### Split into lists"
   ]
  },
  {
   "cell_type": "code",
   "execution_count": 64,
   "metadata": {},
   "outputs": [],
   "source": [
    "toBeExplodeddf['country'] = toBeExplodeddf['country'].str.split(\"|\", expand = False)"
   ]
  },
  {
   "cell_type": "markdown",
   "metadata": {},
   "source": [
    "#### Remove trailing spaces in Country"
   ]
  },
  {
   "cell_type": "code",
   "execution_count": 65,
   "metadata": {},
   "outputs": [
    {
     "data": {
      "text/plain": [
       "0       [USA]\n",
       "1    [France]\n",
       "2    [France]\n",
       "3    [France]\n",
       "4       [USA]\n",
       "Name: country, dtype: object"
      ]
     },
     "execution_count": 65,
     "metadata": {},
     "output_type": "execute_result"
    }
   ],
   "source": [
    "# Remove trailing spaces in country\n",
    "toBeExplodeddf['country'] = toBeExplodeddf['country'].apply(strip_spaces_from_list)\n",
    "toBeExplodeddf['country'].head()"
   ]
  },
  {
   "cell_type": "markdown",
   "metadata": {},
   "source": [
    "#### Explode the country to perform a value_count. Helps us understand the amount of features we would be adding."
   ]
  },
  {
   "cell_type": "code",
   "execution_count": 66,
   "metadata": {},
   "outputs": [
    {
     "name": "stdout",
     "output_type": "stream",
     "text": [
      "Number of unique Countries :  220\n"
     ]
    }
   ],
   "source": [
    "# Explode the country to perform a value_count. Helps us understand the amount of features we would be adding.\n",
    "\n",
    "country_value_count = value_counts_from_list_column(toBeExplodeddf,'country')\n",
    "print(\"Number of unique Countries : \", len(country_value_count))"
   ]
  },
  {
   "cell_type": "markdown",
   "metadata": {},
   "source": [
    "#### Optimal value count for Country"
   ]
  },
  {
   "cell_type": "code",
   "execution_count": 67,
   "metadata": {},
   "outputs": [
    {
     "name": "stdout",
     "output_type": "stream",
     "text": [
      "The amount of countries required to reach 90 percentage is 24 countries\n"
     ]
    }
   ],
   "source": [
    "required_percent = 90\n",
    "optimal_value_count_country = find_optimal_value_count(country_value_count['frequency'],required_percent)\n",
    "print(\"The amount of countries required to reach \" + str(required_percent) + \n",
    "      \" percentage is \" + str(optimal_value_count_country) + \" countries\")"
   ]
  },
  {
   "cell_type": "markdown",
   "metadata": {},
   "source": [
    "#### A list of countries which are not in the optimal value count length to replace them with 'Other'"
   ]
  },
  {
   "cell_type": "code",
   "execution_count": 68,
   "metadata": {},
   "outputs": [
    {
     "name": "stdout",
     "output_type": "stream",
     "text": [
      "Countries to be replaced with Other :  196\n"
     ]
    }
   ],
   "source": [
    "other_countries_list = other_value_list(country_value_count ,'country',optimal_value_count_country)\n",
    "print(\"Countries to be replaced with Other : \", len(other_countries_list))"
   ]
  },
  {
   "cell_type": "markdown",
   "metadata": {},
   "source": [
    "#### Function to replace the list with 'Other'"
   ]
  },
  {
   "cell_type": "code",
   "execution_count": 69,
   "metadata": {},
   "outputs": [],
   "source": [
    "def replace_countries_with_other(row_list):\n",
    "    for df_country in row_list:\n",
    "        if df_country in other_countries_list:\n",
    "            row_list[row_list.index(df_country)] = 'Other'\n",
    "    return row_list"
   ]
  },
  {
   "cell_type": "markdown",
   "metadata": {},
   "source": [
    "#### Replace all the other countries with 'Other'"
   ]
  },
  {
   "cell_type": "code",
   "execution_count": 70,
   "metadata": {},
   "outputs": [],
   "source": [
    "# Replace all the other countries with 'Other'\n",
    "toBeExplodeddf['country'] = toBeExplodeddf['country'].apply(replace_countries_with_other)"
   ]
  },
  {
   "cell_type": "markdown",
   "metadata": {},
   "source": [
    "#### Explode the country to perform a value_count. Helps us understand the amount of features we would be adding."
   ]
  },
  {
   "cell_type": "code",
   "execution_count": 71,
   "metadata": {},
   "outputs": [
    {
     "name": "stdout",
     "output_type": "stream",
     "text": [
      "Number of unique Countries after replacing with Other :  25\n"
     ]
    },
    {
     "data": {
      "text/html": [
       "<div>\n",
       "<style scoped>\n",
       "    .dataframe tbody tr th:only-of-type {\n",
       "        vertical-align: middle;\n",
       "    }\n",
       "\n",
       "    .dataframe tbody tr th {\n",
       "        vertical-align: top;\n",
       "    }\n",
       "\n",
       "    .dataframe thead th {\n",
       "        text-align: right;\n",
       "    }\n",
       "</style>\n",
       "<table border=\"1\" class=\"dataframe\">\n",
       "  <thead>\n",
       "    <tr style=\"text-align: right;\">\n",
       "      <th></th>\n",
       "      <th>country</th>\n",
       "      <th>frequency</th>\n",
       "    </tr>\n",
       "  </thead>\n",
       "  <tbody>\n",
       "    <tr>\n",
       "      <th>23</th>\n",
       "      <td>USA</td>\n",
       "      <td>225843</td>\n",
       "    </tr>\n",
       "    <tr>\n",
       "      <th>15</th>\n",
       "      <td>None</td>\n",
       "      <td>129203</td>\n",
       "    </tr>\n",
       "    <tr>\n",
       "      <th>16</th>\n",
       "      <td>Other</td>\n",
       "      <td>61778</td>\n",
       "    </tr>\n",
       "    <tr>\n",
       "      <th>22</th>\n",
       "      <td>UK</td>\n",
       "      <td>46742</td>\n",
       "    </tr>\n",
       "    <tr>\n",
       "      <th>6</th>\n",
       "      <td>France</td>\n",
       "      <td>22611</td>\n",
       "    </tr>\n",
       "    <tr>\n",
       "      <th>7</th>\n",
       "      <td>Germany</td>\n",
       "      <td>17978</td>\n",
       "    </tr>\n",
       "    <tr>\n",
       "      <th>3</th>\n",
       "      <td>Canada</td>\n",
       "      <td>17098</td>\n",
       "    </tr>\n",
       "    <tr>\n",
       "      <th>12</th>\n",
       "      <td>Japan</td>\n",
       "      <td>15440</td>\n",
       "    </tr>\n",
       "    <tr>\n",
       "      <th>10</th>\n",
       "      <td>India</td>\n",
       "      <td>15033</td>\n",
       "    </tr>\n",
       "    <tr>\n",
       "      <th>11</th>\n",
       "      <td>Italy</td>\n",
       "      <td>11580</td>\n",
       "    </tr>\n",
       "  </tbody>\n",
       "</table>\n",
       "</div>"
      ],
      "text/plain": [
       "    country  frequency\n",
       "23      USA     225843\n",
       "15     None     129203\n",
       "16    Other      61778\n",
       "22       UK      46742\n",
       "6    France      22611\n",
       "7   Germany      17978\n",
       "3    Canada      17098\n",
       "12    Japan      15440\n",
       "10    India      15033\n",
       "11    Italy      11580"
      ]
     },
     "execution_count": 71,
     "metadata": {},
     "output_type": "execute_result"
    }
   ],
   "source": [
    "# Explode the country to perform a value_count. Helps us understand the amount of features we would be adding.\n",
    "\n",
    "replaced_country_value_count = value_counts_from_list_column(toBeExplodeddf,'country')\n",
    "print(\"Number of unique Countries after replacing with Other : \", len(replaced_country_value_count))\n",
    "\n",
    "replaced_country_value_count.head(10)"
   ]
  },
  {
   "cell_type": "markdown",
   "metadata": {},
   "source": [
    "#### One Hot encoding of all category value based classes"
   ]
  },
  {
   "cell_type": "code",
   "execution_count": 72,
   "metadata": {},
   "outputs": [
    {
     "name": "stdout",
     "output_type": "stream",
     "text": [
      "\n",
      "Dataframe Shape Before One Hot encoding of country:  (621943, 42)\n",
      "\n",
      "Dataframe Shape After One Hot encoding of country:  (621943, 66)\n"
     ]
    },
    {
     "data": {
      "text/html": [
       "<div>\n",
       "<style scoped>\n",
       "    .dataframe tbody tr th:only-of-type {\n",
       "        vertical-align: middle;\n",
       "    }\n",
       "\n",
       "    .dataframe tbody tr th {\n",
       "        vertical-align: top;\n",
       "    }\n",
       "\n",
       "    .dataframe thead th {\n",
       "        text-align: right;\n",
       "    }\n",
       "</style>\n",
       "<table border=\"1\" class=\"dataframe\">\n",
       "  <thead>\n",
       "    <tr style=\"text-align: right;\">\n",
       "      <th></th>\n",
       "      <th>movie_id</th>\n",
       "      <th>title</th>\n",
       "      <th>review_count_user</th>\n",
       "      <th>review_count_critic</th>\n",
       "      <th>metascore</th>\n",
       "      <th>rating_value</th>\n",
       "      <th>rating_count</th>\n",
       "      <th>date_published</th>\n",
       "      <th>duration</th>\n",
       "      <th>title_year</th>\n",
       "      <th>...</th>\n",
       "      <th>country_None</th>\n",
       "      <th>country_Other</th>\n",
       "      <th>country_Russia</th>\n",
       "      <th>country_Soviet Union</th>\n",
       "      <th>country_Spain</th>\n",
       "      <th>country_Sweden</th>\n",
       "      <th>country_Turkey</th>\n",
       "      <th>country_UK</th>\n",
       "      <th>country_USA</th>\n",
       "      <th>country_West Germany</th>\n",
       "    </tr>\n",
       "  </thead>\n",
       "  <tbody>\n",
       "    <tr>\n",
       "      <th>0</th>\n",
       "      <td>tt0000001</td>\n",
       "      <td>Carmencita - spanyol tánc (1894) - IMDb</td>\n",
       "      <td>12</td>\n",
       "      <td>2</td>\n",
       "      <td>None</td>\n",
       "      <td>5.8</td>\n",
       "      <td>1255</td>\n",
       "      <td>1894-03-10</td>\n",
       "      <td>1min</td>\n",
       "      <td>1894</td>\n",
       "      <td>...</td>\n",
       "      <td>0</td>\n",
       "      <td>0</td>\n",
       "      <td>0</td>\n",
       "      <td>0</td>\n",
       "      <td>0</td>\n",
       "      <td>0</td>\n",
       "      <td>0</td>\n",
       "      <td>0</td>\n",
       "      <td>1</td>\n",
       "      <td>0</td>\n",
       "    </tr>\n",
       "    <tr>\n",
       "      <th>1</th>\n",
       "      <td>tt0000002</td>\n",
       "      <td>A bohóc és kutyái (1892) - IMDb</td>\n",
       "      <td>0</td>\n",
       "      <td>None</td>\n",
       "      <td>None</td>\n",
       "      <td>6.5</td>\n",
       "      <td>148</td>\n",
       "      <td>1892-10-28</td>\n",
       "      <td>5min</td>\n",
       "      <td>1892</td>\n",
       "      <td>...</td>\n",
       "      <td>0</td>\n",
       "      <td>0</td>\n",
       "      <td>0</td>\n",
       "      <td>0</td>\n",
       "      <td>0</td>\n",
       "      <td>0</td>\n",
       "      <td>0</td>\n",
       "      <td>0</td>\n",
       "      <td>0</td>\n",
       "      <td>0</td>\n",
       "    </tr>\n",
       "    <tr>\n",
       "      <th>2</th>\n",
       "      <td>tt0000003</td>\n",
       "      <td>Szegény Pierrot (1892) - IMDb</td>\n",
       "      <td>12</td>\n",
       "      <td>5</td>\n",
       "      <td>None</td>\n",
       "      <td>6.6</td>\n",
       "      <td>819</td>\n",
       "      <td>1892-10-28</td>\n",
       "      <td>4min</td>\n",
       "      <td>1892</td>\n",
       "      <td>...</td>\n",
       "      <td>0</td>\n",
       "      <td>0</td>\n",
       "      <td>0</td>\n",
       "      <td>0</td>\n",
       "      <td>0</td>\n",
       "      <td>0</td>\n",
       "      <td>0</td>\n",
       "      <td>0</td>\n",
       "      <td>0</td>\n",
       "      <td>0</td>\n",
       "    </tr>\n",
       "    <tr>\n",
       "      <th>3</th>\n",
       "      <td>tt0000004</td>\n",
       "      <td>Egy jó pohár sör (1892) - IMDb</td>\n",
       "      <td>1</td>\n",
       "      <td>None</td>\n",
       "      <td>None</td>\n",
       "      <td>6.6</td>\n",
       "      <td>90</td>\n",
       "      <td>1892-10-28</td>\n",
       "      <td>None</td>\n",
       "      <td>1892</td>\n",
       "      <td>...</td>\n",
       "      <td>0</td>\n",
       "      <td>0</td>\n",
       "      <td>0</td>\n",
       "      <td>0</td>\n",
       "      <td>0</td>\n",
       "      <td>0</td>\n",
       "      <td>0</td>\n",
       "      <td>0</td>\n",
       "      <td>0</td>\n",
       "      <td>0</td>\n",
       "    </tr>\n",
       "    <tr>\n",
       "      <th>4</th>\n",
       "      <td>tt0000005</td>\n",
       "      <td>A patkolókovács (1893) - IMDb</td>\n",
       "      <td>18</td>\n",
       "      <td>3</td>\n",
       "      <td>None</td>\n",
       "      <td>6.2</td>\n",
       "      <td>1499</td>\n",
       "      <td>1893-05-09</td>\n",
       "      <td>1min</td>\n",
       "      <td>1893</td>\n",
       "      <td>...</td>\n",
       "      <td>0</td>\n",
       "      <td>0</td>\n",
       "      <td>0</td>\n",
       "      <td>0</td>\n",
       "      <td>0</td>\n",
       "      <td>0</td>\n",
       "      <td>0</td>\n",
       "      <td>0</td>\n",
       "      <td>1</td>\n",
       "      <td>0</td>\n",
       "    </tr>\n",
       "  </tbody>\n",
       "</table>\n",
       "<p>5 rows × 66 columns</p>\n",
       "</div>"
      ],
      "text/plain": [
       "    movie_id                                    title review_count_user  \\\n",
       "0  tt0000001  Carmencita - spanyol tánc (1894) - IMDb                12   \n",
       "1  tt0000002          A bohóc és kutyái (1892) - IMDb                 0   \n",
       "2  tt0000003            Szegény Pierrot (1892) - IMDb                12   \n",
       "3  tt0000004           Egy jó pohár sör (1892) - IMDb                 1   \n",
       "4  tt0000005            A patkolókovács (1893) - IMDb                18   \n",
       "\n",
       "  review_count_critic metascore rating_value rating_count date_published  \\\n",
       "0                   2      None          5.8         1255     1894-03-10   \n",
       "1                None      None          6.5          148     1892-10-28   \n",
       "2                   5      None          6.6          819     1892-10-28   \n",
       "3                None      None          6.6           90     1892-10-28   \n",
       "4                   3      None          6.2         1499     1893-05-09   \n",
       "\n",
       "  duration title_year  ... country_None country_Other country_Russia  \\\n",
       "0     1min       1894  ...            0             0              0   \n",
       "1     5min       1892  ...            0             0              0   \n",
       "2     4min       1892  ...            0             0              0   \n",
       "3     None       1892  ...            0             0              0   \n",
       "4     1min       1893  ...            0             0              0   \n",
       "\n",
       "  country_Soviet Union country_Spain country_Sweden country_Turkey  \\\n",
       "0                    0             0              0              0   \n",
       "1                    0             0              0              0   \n",
       "2                    0             0              0              0   \n",
       "3                    0             0              0              0   \n",
       "4                    0             0              0              0   \n",
       "\n",
       "   country_UK  country_USA country_West Germany  \n",
       "0           0            1                    0  \n",
       "1           0            0                    0  \n",
       "2           0            0                    0  \n",
       "3           0            0                    0  \n",
       "4           0            1                    0  \n",
       "\n",
       "[5 rows x 66 columns]"
      ]
     },
     "execution_count": 72,
     "metadata": {},
     "output_type": "execute_result"
    }
   ],
   "source": [
    "# One Hot encoding of all category value based classes\n",
    "\n",
    "print(\"\\nDataframe Shape Before One Hot encoding of country: \",str(toBeExplodeddf.shape))\n",
    "toBeExplodeddf = one_hot_encode_and_merge_orginalDF(toBeExplodeddf,columnName ='country',renameCol = 'country_')\n",
    "print(\"\\nDataframe Shape After One Hot encoding of country: \",str(toBeExplodeddf.shape))\n",
    "\n",
    "toBeExplodeddf.head()"
   ]
  },
  {
   "cell_type": "code",
   "execution_count": 73,
   "metadata": {},
   "outputs": [
    {
     "data": {
      "text/plain": [
       "Index(['movie_id', 'title', 'review_count_user', 'review_count_critic',\n",
       "       'metascore', 'rating_value', 'rating_count', 'date_published',\n",
       "       'duration', 'title_year', 'genre_tags', 'director_names',\n",
       "       'director_ids', 'language', 'release_date', 'runtime', 'directed_by',\n",
       "       'release_year', 'movie_year', 'opening_weekend_value',\n",
       "       'open_wk_cur_AUD', 'open_wk_cur_CAD', 'open_wk_cur_DEM',\n",
       "       'open_wk_cur_GBP', 'open_wk_cur_ITL', 'open_wk_cur_JPY',\n",
       "       'open_wk_cur_SEK', 'open_wk_cur_SGD', 'open_wk_cur_USD', 'gross_value',\n",
       "       'gross_cur_USD', 'budget_value', 'budget_cur_AUD', 'budget_cur_CAD',\n",
       "       'budget_cur_EUR', 'budget_cur_GBP', 'budget_cur_INR', 'budget_cur_USD',\n",
       "       'color_Black and White', 'color_Color', 'color_None',\n",
       "       'country_Argentina', 'country_Australia', 'country_Brazil',\n",
       "       'country_Canada', 'country_Denmark', 'country_Finland',\n",
       "       'country_France', 'country_Germany', 'country_Greece',\n",
       "       'country_Hong Kong', 'country_India', 'country_Italy', 'country_Japan',\n",
       "       'country_Mexico', 'country_Netherlands', 'country_None',\n",
       "       'country_Other', 'country_Russia', 'country_Soviet Union',\n",
       "       'country_Spain', 'country_Sweden', 'country_Turkey', 'country_UK',\n",
       "       'country_USA', 'country_West Germany'],\n",
       "      dtype='object')"
      ]
     },
     "execution_count": 73,
     "metadata": {},
     "output_type": "execute_result"
    }
   ],
   "source": [
    "toBeExplodeddf.columns"
   ]
  },
  {
   "cell_type": "markdown",
   "metadata": {},
   "source": [
    "## 6) Language - Data cleaning & Pre processing"
   ]
  },
  {
   "cell_type": "markdown",
   "metadata": {},
   "source": [
    "### 6a) Data cleaning"
   ]
  },
  {
   "cell_type": "markdown",
   "metadata": {},
   "source": [
    "#### Verifying the count of improper records - Before"
   ]
  },
  {
   "cell_type": "code",
   "execution_count": 74,
   "metadata": {},
   "outputs": [
    {
     "name": "stdout",
     "output_type": "stream",
     "text": [
      "Rows containing Also Known as in language column before processing: 9\n",
      "Rows containing See more in language column before processing: 559\n",
      "Rows containing Numbers in language column before processing: 512\n"
     ]
    }
   ],
   "source": [
    "# Verifying\n",
    "\n",
    "print(\"Rows containing Also Known as in language column before processing:\", \n",
    "      len(toBeExplodeddf.loc[toBeExplodeddf['language'].str.contains(pat = 'Also Known As',na=False)]))\n",
    "\n",
    "print(\"Rows containing See more in language column before processing:\", \n",
    "      len(toBeExplodeddf.loc[toBeExplodeddf['language'].str.contains(pat = 'See more',na=False)]))\n",
    "\n",
    "print(\"Rows containing Numbers in language column before processing:\", \n",
    "      len(toBeExplodeddf.loc[toBeExplodeddf['language'].str.contains(pat = '\\d+',na=False,)]))"
   ]
  },
  {
   "cell_type": "markdown",
   "metadata": {},
   "source": [
    "#### Cleaning the improper records based on the pattern"
   ]
  },
  {
   "cell_type": "code",
   "execution_count": 75,
   "metadata": {},
   "outputs": [],
   "source": [
    "# Pattern : Also Known as & See more. Clear the ones with texts for language Column\n",
    "\n",
    "toBeExplodeddf.loc[toBeExplodeddf['language'].str.contains(pat = 'Also Known As',na=False),'language'] = \"Other\"\n",
    "toBeExplodeddf.loc[toBeExplodeddf['language'].str.contains(pat = 'See more',na=False),'language'] = \"Other\"\n",
    "toBeExplodeddf.loc[toBeExplodeddf['language'].str.contains(pat = '\\d+',na=False),'language'] = \"Other\""
   ]
  },
  {
   "cell_type": "markdown",
   "metadata": {},
   "source": [
    "#### Verifying the count of improper records - After cleaning"
   ]
  },
  {
   "cell_type": "code",
   "execution_count": 76,
   "metadata": {},
   "outputs": [
    {
     "name": "stdout",
     "output_type": "stream",
     "text": [
      "\n",
      "Rows containing Also Known as in language column after processing: 0\n",
      "Rows containing See more in language column after processing: 0\n",
      "Rows containing Numbers in language column before processing: 0\n"
     ]
    }
   ],
   "source": [
    "# Count of records which match the improper pattern\n",
    "\n",
    "print(\"\\nRows containing Also Known as in language column after processing:\", \n",
    "      len(toBeExplodeddf.loc[toBeExplodeddf['language'].str.contains(pat = 'Also Known As',na=False)]))\n",
    "\n",
    "print(\"Rows containing See more in language column after processing:\", \n",
    "      len(toBeExplodeddf.loc[toBeExplodeddf['language'].str.contains(pat = 'See more',na=False)]))\n",
    "\n",
    "print(\"Rows containing Numbers in language column before processing:\", \n",
    "      len(toBeExplodeddf.loc[toBeExplodeddf['language'].str.contains(pat = '\\d+',na=False,)]))\n",
    "\n",
    "# print(\"Rows containing something in brackets in Language column before processing:\", \n",
    "#       len(toBeExplodeddf.loc[toBeExplodeddf['Language'].str.contains(pat = '\\((.*?)\\)',na=False,)]))"
   ]
  },
  {
   "cell_type": "markdown",
   "metadata": {},
   "source": [
    "### 6b) Pre processing - Optimal Value & One hot encoding"
   ]
  },
  {
   "cell_type": "markdown",
   "metadata": {},
   "source": [
    "#### Split cells into lists"
   ]
  },
  {
   "cell_type": "code",
   "execution_count": 77,
   "metadata": {},
   "outputs": [],
   "source": [
    "toBeExplodeddf['language'] = toBeExplodeddf['language'].str.split(\"|\", expand = False)"
   ]
  },
  {
   "cell_type": "markdown",
   "metadata": {},
   "source": [
    "#### Strip spaces from the list"
   ]
  },
  {
   "cell_type": "code",
   "execution_count": 78,
   "metadata": {},
   "outputs": [
    {
     "data": {
      "text/plain": [
       "0    [None]\n",
       "1    [None]\n",
       "2    [None]\n",
       "3    [None]\n",
       "4    [None]\n",
       "Name: language, dtype: object"
      ]
     },
     "execution_count": 78,
     "metadata": {},
     "output_type": "execute_result"
    }
   ],
   "source": [
    "toBeExplodeddf['language'] = toBeExplodeddf['language'].apply(strip_spaces_from_list)\n",
    "toBeExplodeddf['language'].head()"
   ]
  },
  {
   "cell_type": "markdown",
   "metadata": {},
   "source": [
    "#### Value count among a list column"
   ]
  },
  {
   "cell_type": "code",
   "execution_count": 79,
   "metadata": {},
   "outputs": [
    {
     "name": "stdout",
     "output_type": "stream",
     "text": [
      "Number of unique Languages :  311\n"
     ]
    }
   ],
   "source": [
    "language_value_count = value_counts_from_list_column(toBeExplodeddf,'language')\n",
    "print(\"Number of unique Languages : \", len(language_value_count))"
   ]
  },
  {
   "cell_type": "markdown",
   "metadata": {},
   "source": [
    "#### Optimal value count for Languages"
   ]
  },
  {
   "cell_type": "code",
   "execution_count": 80,
   "metadata": {},
   "outputs": [
    {
     "name": "stdout",
     "output_type": "stream",
     "text": [
      "The amount of languages required to reach 90 percentage is 16 languages\n"
     ]
    }
   ],
   "source": [
    "required_percent = 90\n",
    "optimal_value_count_language = find_optimal_value_count(language_value_count['frequency'],required_percent)\n",
    "print(\"The amount of languages required to reach \" + str(required_percent) + \n",
    "      \" percentage is \" + str(optimal_value_count_language) + \" languages\")"
   ]
  },
  {
   "cell_type": "markdown",
   "metadata": {},
   "source": [
    "#### A list of Languages which are not in the optimal value count length replaced with 'Other'"
   ]
  },
  {
   "cell_type": "code",
   "execution_count": 81,
   "metadata": {},
   "outputs": [
    {
     "name": "stdout",
     "output_type": "stream",
     "text": [
      "Languages to be replaced with Other :  295\n"
     ]
    }
   ],
   "source": [
    "other_languages_list = other_value_list(language_value_count ,'language',optimal_value_count_language)\n",
    "print(\"Languages to be replaced with Other : \", len(other_languages_list))"
   ]
  },
  {
   "cell_type": "markdown",
   "metadata": {},
   "source": [
    "#### Function to replace languages with other"
   ]
  },
  {
   "cell_type": "code",
   "execution_count": 82,
   "metadata": {},
   "outputs": [],
   "source": [
    "def replace_language_with_other(row_list):\n",
    "    for df_language in row_list:\n",
    "        if df_language in other_languages_list:\n",
    "            row_list[row_list.index(df_language)] = 'Other'\n",
    "    return row_list"
   ]
  },
  {
   "cell_type": "code",
   "execution_count": 83,
   "metadata": {},
   "outputs": [],
   "source": [
    "# Replace all the other langues with 'Other'\n",
    "toBeExplodeddf['language'] = toBeExplodeddf['language'].apply(replace_language_with_other)"
   ]
  },
  {
   "cell_type": "markdown",
   "metadata": {},
   "source": [
    "#### Explode the Languages to perform a value_count. Helps us understand the amount of features we would be adding."
   ]
  },
  {
   "cell_type": "code",
   "execution_count": 84,
   "metadata": {},
   "outputs": [
    {
     "name": "stdout",
     "output_type": "stream",
     "text": [
      "Number of unique Languages after replacing with Other :  17\n"
     ]
    }
   ],
   "source": [
    "# Explode the Languages to perform a value_count. Helps us understand the amount of features we would be adding.\n",
    "\n",
    "replaced_language_value_count = value_counts_from_list_column(toBeExplodeddf,'language')\n",
    "print(\"Number of unique Languages after replacing with Other : \", len(replaced_language_value_count))"
   ]
  },
  {
   "cell_type": "code",
   "execution_count": 85,
   "metadata": {},
   "outputs": [
    {
     "data": {
      "text/html": [
       "<div>\n",
       "<style scoped>\n",
       "    .dataframe tbody tr th:only-of-type {\n",
       "        vertical-align: middle;\n",
       "    }\n",
       "\n",
       "    .dataframe tbody tr th {\n",
       "        vertical-align: top;\n",
       "    }\n",
       "\n",
       "    .dataframe thead th {\n",
       "        text-align: right;\n",
       "    }\n",
       "</style>\n",
       "<table border=\"1\" class=\"dataframe\">\n",
       "  <thead>\n",
       "    <tr style=\"text-align: right;\">\n",
       "      <th></th>\n",
       "      <th>language</th>\n",
       "      <th>frequency</th>\n",
       "    </tr>\n",
       "  </thead>\n",
       "  <tbody>\n",
       "    <tr>\n",
       "      <th>2</th>\n",
       "      <td>English</td>\n",
       "      <td>343761</td>\n",
       "    </tr>\n",
       "    <tr>\n",
       "      <th>10</th>\n",
       "      <td>None</td>\n",
       "      <td>108592</td>\n",
       "    </tr>\n",
       "    <tr>\n",
       "      <th>11</th>\n",
       "      <td>Other</td>\n",
       "      <td>64380</td>\n",
       "    </tr>\n",
       "    <tr>\n",
       "      <th>4</th>\n",
       "      <td>German</td>\n",
       "      <td>27262</td>\n",
       "    </tr>\n",
       "    <tr>\n",
       "      <th>3</th>\n",
       "      <td>French</td>\n",
       "      <td>25770</td>\n",
       "    </tr>\n",
       "    <tr>\n",
       "      <th>14</th>\n",
       "      <td>Spanish</td>\n",
       "      <td>24377</td>\n",
       "    </tr>\n",
       "    <tr>\n",
       "      <th>8</th>\n",
       "      <td>Japanese</td>\n",
       "      <td>15833</td>\n",
       "    </tr>\n",
       "    <tr>\n",
       "      <th>7</th>\n",
       "      <td>Italian</td>\n",
       "      <td>12352</td>\n",
       "    </tr>\n",
       "    <tr>\n",
       "      <th>13</th>\n",
       "      <td>Russian</td>\n",
       "      <td>9974</td>\n",
       "    </tr>\n",
       "    <tr>\n",
       "      <th>6</th>\n",
       "      <td>Hindi</td>\n",
       "      <td>7050</td>\n",
       "    </tr>\n",
       "  </tbody>\n",
       "</table>\n",
       "</div>"
      ],
      "text/plain": [
       "    language  frequency\n",
       "2    English     343761\n",
       "10      None     108592\n",
       "11     Other      64380\n",
       "4     German      27262\n",
       "3     French      25770\n",
       "14   Spanish      24377\n",
       "8   Japanese      15833\n",
       "7    Italian      12352\n",
       "13   Russian       9974\n",
       "6      Hindi       7050"
      ]
     },
     "execution_count": 85,
     "metadata": {},
     "output_type": "execute_result"
    }
   ],
   "source": [
    "replaced_language_value_count.head(10)"
   ]
  },
  {
   "cell_type": "markdown",
   "metadata": {},
   "source": [
    "#### One Hot encoding of all category value based classes"
   ]
  },
  {
   "cell_type": "code",
   "execution_count": 86,
   "metadata": {},
   "outputs": [
    {
     "name": "stdout",
     "output_type": "stream",
     "text": [
      "\n",
      "Dataframe Shape Before One Hot encoding of Language:  (621943, 66)\n",
      "\n",
      "Dataframe Shape After One Hot encoding of Language:  (621943, 82)\n"
     ]
    }
   ],
   "source": [
    "# One Hot encoding of all category value based classes\n",
    "\n",
    "print(\"\\nDataframe Shape Before One Hot encoding of Language: \",str(toBeExplodeddf.shape))\n",
    "toBeExplodeddf = one_hot_encode_and_merge_orginalDF(toBeExplodeddf,columnName ='language',renameCol = 'language_')\n",
    "print(\"\\nDataframe Shape After One Hot encoding of Language: \",str(toBeExplodeddf.shape))"
   ]
  },
  {
   "cell_type": "code",
   "execution_count": 87,
   "metadata": {},
   "outputs": [
    {
     "data": {
      "text/html": [
       "<div>\n",
       "<style scoped>\n",
       "    .dataframe tbody tr th:only-of-type {\n",
       "        vertical-align: middle;\n",
       "    }\n",
       "\n",
       "    .dataframe tbody tr th {\n",
       "        vertical-align: top;\n",
       "    }\n",
       "\n",
       "    .dataframe thead th {\n",
       "        text-align: right;\n",
       "    }\n",
       "</style>\n",
       "<table border=\"1\" class=\"dataframe\">\n",
       "  <thead>\n",
       "    <tr style=\"text-align: right;\">\n",
       "      <th></th>\n",
       "      <th>movie_id</th>\n",
       "      <th>title</th>\n",
       "      <th>review_count_user</th>\n",
       "      <th>review_count_critic</th>\n",
       "      <th>metascore</th>\n",
       "      <th>rating_value</th>\n",
       "      <th>rating_count</th>\n",
       "      <th>date_published</th>\n",
       "      <th>duration</th>\n",
       "      <th>title_year</th>\n",
       "      <th>...</th>\n",
       "      <th>language_Italian</th>\n",
       "      <th>language_Japanese</th>\n",
       "      <th>language_Mandarin</th>\n",
       "      <th>language_None</th>\n",
       "      <th>language_Other</th>\n",
       "      <th>language_Portuguese</th>\n",
       "      <th>language_Russian</th>\n",
       "      <th>language_Spanish</th>\n",
       "      <th>language_Swedish</th>\n",
       "      <th>language_Turkish</th>\n",
       "    </tr>\n",
       "  </thead>\n",
       "  <tbody>\n",
       "    <tr>\n",
       "      <th>0</th>\n",
       "      <td>tt0000001</td>\n",
       "      <td>Carmencita - spanyol tánc (1894) - IMDb</td>\n",
       "      <td>12</td>\n",
       "      <td>2</td>\n",
       "      <td>None</td>\n",
       "      <td>5.8</td>\n",
       "      <td>1255</td>\n",
       "      <td>1894-03-10</td>\n",
       "      <td>1min</td>\n",
       "      <td>1894</td>\n",
       "      <td>...</td>\n",
       "      <td>0</td>\n",
       "      <td>0</td>\n",
       "      <td>0</td>\n",
       "      <td>1</td>\n",
       "      <td>0</td>\n",
       "      <td>0</td>\n",
       "      <td>0</td>\n",
       "      <td>0</td>\n",
       "      <td>0</td>\n",
       "      <td>0</td>\n",
       "    </tr>\n",
       "    <tr>\n",
       "      <th>1</th>\n",
       "      <td>tt0000002</td>\n",
       "      <td>A bohóc és kutyái (1892) - IMDb</td>\n",
       "      <td>0</td>\n",
       "      <td>None</td>\n",
       "      <td>None</td>\n",
       "      <td>6.5</td>\n",
       "      <td>148</td>\n",
       "      <td>1892-10-28</td>\n",
       "      <td>5min</td>\n",
       "      <td>1892</td>\n",
       "      <td>...</td>\n",
       "      <td>0</td>\n",
       "      <td>0</td>\n",
       "      <td>0</td>\n",
       "      <td>1</td>\n",
       "      <td>0</td>\n",
       "      <td>0</td>\n",
       "      <td>0</td>\n",
       "      <td>0</td>\n",
       "      <td>0</td>\n",
       "      <td>0</td>\n",
       "    </tr>\n",
       "    <tr>\n",
       "      <th>2</th>\n",
       "      <td>tt0000003</td>\n",
       "      <td>Szegény Pierrot (1892) - IMDb</td>\n",
       "      <td>12</td>\n",
       "      <td>5</td>\n",
       "      <td>None</td>\n",
       "      <td>6.6</td>\n",
       "      <td>819</td>\n",
       "      <td>1892-10-28</td>\n",
       "      <td>4min</td>\n",
       "      <td>1892</td>\n",
       "      <td>...</td>\n",
       "      <td>0</td>\n",
       "      <td>0</td>\n",
       "      <td>0</td>\n",
       "      <td>1</td>\n",
       "      <td>0</td>\n",
       "      <td>0</td>\n",
       "      <td>0</td>\n",
       "      <td>0</td>\n",
       "      <td>0</td>\n",
       "      <td>0</td>\n",
       "    </tr>\n",
       "    <tr>\n",
       "      <th>3</th>\n",
       "      <td>tt0000004</td>\n",
       "      <td>Egy jó pohár sör (1892) - IMDb</td>\n",
       "      <td>1</td>\n",
       "      <td>None</td>\n",
       "      <td>None</td>\n",
       "      <td>6.6</td>\n",
       "      <td>90</td>\n",
       "      <td>1892-10-28</td>\n",
       "      <td>None</td>\n",
       "      <td>1892</td>\n",
       "      <td>...</td>\n",
       "      <td>0</td>\n",
       "      <td>0</td>\n",
       "      <td>0</td>\n",
       "      <td>1</td>\n",
       "      <td>0</td>\n",
       "      <td>0</td>\n",
       "      <td>0</td>\n",
       "      <td>0</td>\n",
       "      <td>0</td>\n",
       "      <td>0</td>\n",
       "    </tr>\n",
       "    <tr>\n",
       "      <th>4</th>\n",
       "      <td>tt0000005</td>\n",
       "      <td>A patkolókovács (1893) - IMDb</td>\n",
       "      <td>18</td>\n",
       "      <td>3</td>\n",
       "      <td>None</td>\n",
       "      <td>6.2</td>\n",
       "      <td>1499</td>\n",
       "      <td>1893-05-09</td>\n",
       "      <td>1min</td>\n",
       "      <td>1893</td>\n",
       "      <td>...</td>\n",
       "      <td>0</td>\n",
       "      <td>0</td>\n",
       "      <td>0</td>\n",
       "      <td>1</td>\n",
       "      <td>0</td>\n",
       "      <td>0</td>\n",
       "      <td>0</td>\n",
       "      <td>0</td>\n",
       "      <td>0</td>\n",
       "      <td>0</td>\n",
       "    </tr>\n",
       "  </tbody>\n",
       "</table>\n",
       "<p>5 rows × 82 columns</p>\n",
       "</div>"
      ],
      "text/plain": [
       "    movie_id                                    title review_count_user  \\\n",
       "0  tt0000001  Carmencita - spanyol tánc (1894) - IMDb                12   \n",
       "1  tt0000002          A bohóc és kutyái (1892) - IMDb                 0   \n",
       "2  tt0000003            Szegény Pierrot (1892) - IMDb                12   \n",
       "3  tt0000004           Egy jó pohár sör (1892) - IMDb                 1   \n",
       "4  tt0000005            A patkolókovács (1893) - IMDb                18   \n",
       "\n",
       "  review_count_critic metascore rating_value rating_count date_published  \\\n",
       "0                   2      None          5.8         1255     1894-03-10   \n",
       "1                None      None          6.5          148     1892-10-28   \n",
       "2                   5      None          6.6          819     1892-10-28   \n",
       "3                None      None          6.6           90     1892-10-28   \n",
       "4                   3      None          6.2         1499     1893-05-09   \n",
       "\n",
       "  duration title_year  ... language_Italian language_Japanese  \\\n",
       "0     1min       1894  ...                0                 0   \n",
       "1     5min       1892  ...                0                 0   \n",
       "2     4min       1892  ...                0                 0   \n",
       "3     None       1892  ...                0                 0   \n",
       "4     1min       1893  ...                0                 0   \n",
       "\n",
       "  language_Mandarin language_None language_Other language_Portuguese  \\\n",
       "0                 0             1              0                   0   \n",
       "1                 0             1              0                   0   \n",
       "2                 0             1              0                   0   \n",
       "3                 0             1              0                   0   \n",
       "4                 0             1              0                   0   \n",
       "\n",
       "   language_Russian  language_Spanish language_Swedish  language_Turkish  \n",
       "0                 0                 0                0                 0  \n",
       "1                 0                 0                0                 0  \n",
       "2                 0                 0                0                 0  \n",
       "3                 0                 0                0                 0  \n",
       "4                 0                 0                0                 0  \n",
       "\n",
       "[5 rows x 82 columns]"
      ]
     },
     "execution_count": 87,
     "metadata": {},
     "output_type": "execute_result"
    }
   ],
   "source": [
    "toBeExplodeddf.head()"
   ]
  },
  {
   "cell_type": "code",
   "execution_count": 88,
   "metadata": {},
   "outputs": [
    {
     "data": {
      "text/plain": [
       "Index(['movie_id', 'title', 'review_count_user', 'review_count_critic',\n",
       "       'metascore', 'rating_value', 'rating_count', 'date_published',\n",
       "       'duration', 'title_year', 'genre_tags', 'director_names',\n",
       "       'director_ids', 'release_date', 'runtime', 'directed_by',\n",
       "       'release_year', 'movie_year', 'opening_weekend_value',\n",
       "       'open_wk_cur_AUD', 'open_wk_cur_CAD', 'open_wk_cur_DEM',\n",
       "       'open_wk_cur_GBP', 'open_wk_cur_ITL', 'open_wk_cur_JPY',\n",
       "       'open_wk_cur_SEK', 'open_wk_cur_SGD', 'open_wk_cur_USD', 'gross_value',\n",
       "       'gross_cur_USD', 'budget_value', 'budget_cur_AUD', 'budget_cur_CAD',\n",
       "       'budget_cur_EUR', 'budget_cur_GBP', 'budget_cur_INR', 'budget_cur_USD',\n",
       "       'color_Black and White', 'color_Color', 'color_None',\n",
       "       'country_Argentina', 'country_Australia', 'country_Brazil',\n",
       "       'country_Canada', 'country_Denmark', 'country_Finland',\n",
       "       'country_France', 'country_Germany', 'country_Greece',\n",
       "       'country_Hong Kong', 'country_India', 'country_Italy', 'country_Japan',\n",
       "       'country_Mexico', 'country_Netherlands', 'country_None',\n",
       "       'country_Other', 'country_Russia', 'country_Soviet Union',\n",
       "       'country_Spain', 'country_Sweden', 'country_Turkey', 'country_UK',\n",
       "       'country_USA', 'country_West Germany', 'language_Arabic',\n",
       "       'language_Dutch', 'language_English', 'language_French',\n",
       "       'language_German', 'language_Greek', 'language_Hindi',\n",
       "       'language_Italian', 'language_Japanese', 'language_Mandarin',\n",
       "       'language_None', 'language_Other', 'language_Portuguese',\n",
       "       'language_Russian', 'language_Spanish', 'language_Swedish',\n",
       "       'language_Turkish'],\n",
       "      dtype='object')"
      ]
     },
     "execution_count": 88,
     "metadata": {},
     "output_type": "execute_result"
    }
   ],
   "source": [
    "toBeExplodeddf.columns"
   ]
  },
  {
   "cell_type": "markdown",
   "metadata": {},
   "source": [
    "## 7) Genre Tags - Data Cleaning & Pre processing"
   ]
  },
  {
   "cell_type": "markdown",
   "metadata": {},
   "source": [
    "### Split cells into lists"
   ]
  },
  {
   "cell_type": "code",
   "execution_count": 89,
   "metadata": {},
   "outputs": [],
   "source": [
    "toBeExplodeddf['genre_tags'] = toBeExplodeddf['genre_tags'].str.split(\"\\t\", expand = False)"
   ]
  },
  {
   "cell_type": "markdown",
   "metadata": {},
   "source": [
    "### 7a) Pre processing - Genre tags"
   ]
  },
  {
   "cell_type": "code",
   "execution_count": 90,
   "metadata": {},
   "outputs": [
    {
     "data": {
      "text/plain": [
       "0                   [Documentary, Short]\n",
       "1                     [Animation, Short]\n",
       "2    [Animation, Comedy, Short, Romance]\n",
       "3                     [Animation, Short]\n",
       "4                                [Short]\n",
       "Name: genre_tags, dtype: object"
      ]
     },
     "execution_count": 90,
     "metadata": {},
     "output_type": "execute_result"
    }
   ],
   "source": [
    "toBeExplodeddf['genre_tags'] = toBeExplodeddf['genre_tags'].apply(strip_spaces_from_list)\n",
    "toBeExplodeddf['genre_tags'].head()"
   ]
  },
  {
   "cell_type": "code",
   "execution_count": 91,
   "metadata": {},
   "outputs": [
    {
     "name": "stdout",
     "output_type": "stream",
     "text": [
      "Number of unique Genre :  29\n"
     ]
    }
   ],
   "source": [
    "genre_value_count = value_counts_from_list_column(toBeExplodeddf,'genre_tags')\n",
    "print(\"Number of unique Genre : \", len(genre_value_count))"
   ]
  },
  {
   "cell_type": "code",
   "execution_count": 92,
   "metadata": {
    "scrolled": true
   },
   "outputs": [
    {
     "data": {
      "text/html": [
       "<div>\n",
       "<style scoped>\n",
       "    .dataframe tbody tr th:only-of-type {\n",
       "        vertical-align: middle;\n",
       "    }\n",
       "\n",
       "    .dataframe tbody tr th {\n",
       "        vertical-align: top;\n",
       "    }\n",
       "\n",
       "    .dataframe thead th {\n",
       "        text-align: right;\n",
       "    }\n",
       "</style>\n",
       "<table border=\"1\" class=\"dataframe\">\n",
       "  <thead>\n",
       "    <tr style=\"text-align: right;\">\n",
       "      <th></th>\n",
       "      <th>genre_tags</th>\n",
       "      <th>frequency</th>\n",
       "    </tr>\n",
       "  </thead>\n",
       "  <tbody>\n",
       "    <tr>\n",
       "      <th>8</th>\n",
       "      <td>Drama</td>\n",
       "      <td>234482</td>\n",
       "    </tr>\n",
       "    <tr>\n",
       "      <th>5</th>\n",
       "      <td>Comedy</td>\n",
       "      <td>207092</td>\n",
       "    </tr>\n",
       "    <tr>\n",
       "      <th>23</th>\n",
       "      <td>Short</td>\n",
       "      <td>97059</td>\n",
       "    </tr>\n",
       "    <tr>\n",
       "      <th>6</th>\n",
       "      <td>Crime</td>\n",
       "      <td>67394</td>\n",
       "    </tr>\n",
       "    <tr>\n",
       "      <th>0</th>\n",
       "      <td>Action</td>\n",
       "      <td>67109</td>\n",
       "    </tr>\n",
       "    <tr>\n",
       "      <th>21</th>\n",
       "      <td>Romance</td>\n",
       "      <td>64400</td>\n",
       "    </tr>\n",
       "    <tr>\n",
       "      <th>7</th>\n",
       "      <td>Documentary</td>\n",
       "      <td>63204</td>\n",
       "    </tr>\n",
       "    <tr>\n",
       "      <th>9</th>\n",
       "      <td>Family</td>\n",
       "      <td>63188</td>\n",
       "    </tr>\n",
       "    <tr>\n",
       "      <th>26</th>\n",
       "      <td>Thriller</td>\n",
       "      <td>60012</td>\n",
       "    </tr>\n",
       "    <tr>\n",
       "      <th>3</th>\n",
       "      <td>Animation</td>\n",
       "      <td>57348</td>\n",
       "    </tr>\n",
       "  </tbody>\n",
       "</table>\n",
       "</div>"
      ],
      "text/plain": [
       "     genre_tags  frequency\n",
       "8         Drama     234482\n",
       "5        Comedy     207092\n",
       "23        Short      97059\n",
       "6         Crime      67394\n",
       "0        Action      67109\n",
       "21      Romance      64400\n",
       "7   Documentary      63204\n",
       "9        Family      63188\n",
       "26     Thriller      60012\n",
       "3     Animation      57348"
      ]
     },
     "execution_count": 92,
     "metadata": {},
     "output_type": "execute_result"
    }
   ],
   "source": [
    "# genre_value_count[genre_value_count['genre_tags'].str.contains('None')]\n",
    "genre_value_count.head(10)"
   ]
  },
  {
   "cell_type": "code",
   "execution_count": 93,
   "metadata": {},
   "outputs": [
    {
     "name": "stdout",
     "output_type": "stream",
     "text": [
      "The amount of languages required to reach 90 percentage is 16 genre\n"
     ]
    }
   ],
   "source": [
    "required_percent = 90\n",
    "optimal_value_count_genre = find_optimal_value_count(genre_value_count['frequency'],required_percent)\n",
    "print(\"The amount of languages required to reach \" + str(required_percent) + \n",
    "      \" percentage is \" + str(optimal_value_count_genre) + \" genre\")"
   ]
  },
  {
   "cell_type": "code",
   "execution_count": 94,
   "metadata": {},
   "outputs": [
    {
     "name": "stdout",
     "output_type": "stream",
     "text": [
      "\n",
      "Dataframe Shape Before One Hot encoding of Genre tags:  (621943, 82)\n",
      "\n",
      "Dataframe Shape After One Hot encoding of Genre tags :  (621943, 110)\n"
     ]
    }
   ],
   "source": [
    "# One Hot encoding of all category value based classes\n",
    "\n",
    "print(\"\\nDataframe Shape Before One Hot encoding of Genre tags: \",str(toBeExplodeddf.shape))\n",
    "toBeExplodeddf = one_hot_encode_and_merge_orginalDF(toBeExplodeddf,columnName ='genre_tags',renameCol = 'genre_')\n",
    "print(\"\\nDataframe Shape After One Hot encoding of Genre tags : \",str(toBeExplodeddf.shape))"
   ]
  },
  {
   "cell_type": "code",
   "execution_count": 95,
   "metadata": {},
   "outputs": [
    {
     "data": {
      "text/plain": [
       "Index(['movie_id', 'title', 'review_count_user', 'review_count_critic',\n",
       "       'metascore', 'rating_value', 'rating_count', 'date_published',\n",
       "       'duration', 'title_year',\n",
       "       ...\n",
       "       'genre_None', 'genre_Reality-TV', 'genre_Romance', 'genre_Sci-Fi',\n",
       "       'genre_Short', 'genre_Sport', 'genre_Talk-Show', 'genre_Thriller',\n",
       "       'genre_War', 'genre_Western'],\n",
       "      dtype='object', length=110)"
      ]
     },
     "execution_count": 95,
     "metadata": {},
     "output_type": "execute_result"
    }
   ],
   "source": [
    "toBeExplodeddf.columns"
   ]
  },
  {
   "cell_type": "markdown",
   "metadata": {},
   "source": [
    "## 8) Runtime - Data Cleaning & Pre processing"
   ]
  },
  {
   "cell_type": "markdown",
   "metadata": {},
   "source": [
    "##### Split runtime column and obtain the corresponding minutes"
   ]
  },
  {
   "cell_type": "code",
   "execution_count": 96,
   "metadata": {},
   "outputs": [],
   "source": [
    "replace_runtime_string = { 'min' : '', ',' : '','None': np.nan}"
   ]
  },
  {
   "cell_type": "code",
   "execution_count": 97,
   "metadata": {},
   "outputs": [],
   "source": [
    "# Split by | and take only the fist occurence of the array which contains our interested value\n",
    "# Split by ( and take only the fist occurence of the array which contains minutes\n",
    "# Strip the values\n",
    "# Replace min , comma and None\n",
    "\n",
    "toBeExplodeddf['runtime'] = toBeExplodeddf['runtime'].str.split(pat = '|', n = 1, expand = False).str[0] \\\n",
    "                                                     .str.split(pat = '(', n = 1, expand = False).str[0] \\\n",
    "                                                     .str.strip() \\\n",
    "                                                     .replace(replace_runtime_string, regex=True)"
   ]
  },
  {
   "cell_type": "markdown",
   "metadata": {},
   "source": [
    "#### Verifying the count of improper records - Before"
   ]
  },
  {
   "cell_type": "code",
   "execution_count": 98,
   "metadata": {},
   "outputs": [
    {
     "name": "stdout",
     "output_type": "stream",
     "text": [
      "Rows containing alphabets in runtime column before processing: 3\n"
     ]
    }
   ],
   "source": [
    "# Verifying\n",
    "\n",
    "print(\"Rows containing alphabets in runtime column before processing:\", \n",
    "      len(toBeExplodeddf.loc[toBeExplodeddf['runtime'].str.contains(pat = '[A-Za-z]',na=False)]))"
   ]
  },
  {
   "cell_type": "markdown",
   "metadata": {},
   "source": [
    "#### Cleaning the improper records based on the pattern"
   ]
  },
  {
   "cell_type": "code",
   "execution_count": 99,
   "metadata": {},
   "outputs": [],
   "source": [
    "# Pattern :Trivia. Clear the ones with texts for runtime Column\n",
    "\n",
    "toBeExplodeddf.loc[toBeExplodeddf['runtime'].str.contains(pat = '[A-Za-z]',na=False),'runtime'] = np.nan\n"
   ]
  },
  {
   "cell_type": "markdown",
   "metadata": {},
   "source": [
    "#### Verifying the count of improper records - after"
   ]
  },
  {
   "cell_type": "code",
   "execution_count": 100,
   "metadata": {},
   "outputs": [
    {
     "name": "stdout",
     "output_type": "stream",
     "text": [
      "Rows containing Trivia in runtime column after processing: 0\n"
     ]
    }
   ],
   "source": [
    "# Verifying\n",
    "\n",
    "print(\"Rows containing Trivia in runtime column after processing:\", \n",
    "      len(toBeExplodeddf.loc[toBeExplodeddf['runtime'].str.contains(pat = '[A-Za-z]',na=False)]))"
   ]
  },
  {
   "cell_type": "markdown",
   "metadata": {},
   "source": [
    "## 9) Review Count user and Review Count critic - Data Cleaning & Preprocessing"
   ]
  },
  {
   "cell_type": "code",
   "execution_count": 101,
   "metadata": {},
   "outputs": [
    {
     "data": {
      "text/plain": [
       "None       336075\n",
       "1           88176\n",
       "2           37233\n",
       "1critic     29516\n",
       "3           21013\n",
       "4           13893\n",
       "5            9685\n",
       "2critic      8323\n",
       "6            7094\n",
       "7            5609\n",
       "8            4438\n",
       "9            3785\n",
       "3critic      3570\n",
       "0            3487\n",
       "10           3109\n",
       "Name: review_count_user, dtype: int64"
      ]
     },
     "execution_count": 101,
     "metadata": {},
     "output_type": "execute_result"
    }
   ],
   "source": [
    "# Before Cleaning Review count user\n",
    "toBeExplodeddf.review_count_user.value_counts(dropna = False).nlargest(15)"
   ]
  },
  {
   "cell_type": "code",
   "execution_count": 102,
   "metadata": {},
   "outputs": [
    {
     "data": {
      "text/plain": [
       "None    499710\n",
       "1        34235\n",
       "2        16927\n",
       "3        10522\n",
       "4         7751\n",
       "5         5769\n",
       "6         4434\n",
       "7         3737\n",
       "8         3004\n",
       "9         2536\n",
       "10        2191\n",
       "11        1899\n",
       "12        1657\n",
       "13        1512\n",
       "14        1392\n",
       "Name: review_count_critic, dtype: int64"
      ]
     },
     "execution_count": 102,
     "metadata": {},
     "output_type": "execute_result"
    }
   ],
   "source": [
    "# Before Cleaning Review count Critic\n",
    "toBeExplodeddf.review_count_critic.value_counts(dropna = False).nlargest(15)"
   ]
  },
  {
   "cell_type": "markdown",
   "metadata": {},
   "source": [
    "#### Function to clean the values in the two columns : \n",
    "1. Remove critic\n",
    "2. replace None with Nan\n",
    "3. Moving values incorrectly placed to review count critic"
   ]
  },
  {
   "cell_type": "code",
   "execution_count": 103,
   "metadata": {},
   "outputs": [],
   "source": [
    "def clean_review_count_user_and_critic(df):\n",
    "    cond = df['review_count_user'].str.contains('critic',na=False)\n",
    "    print(\"The number of values misplaced from critic column to user column = \", str(cond.sum()))\n",
    "    \n",
    "    # Data cleaning of review_count_critic column where the rows contain the word critic\n",
    "    print(\"\\nCopying the records which were supposed to be in critic column from the user column . . .\")\n",
    "    df.loc[cond,'review_count_critic'] = df['review_count_user']\n",
    "\n",
    "    # Remove the data containing the word 'critic' in review_user_count and replace it with NaN ( Check if you want to replace with zero )\n",
    "    print(\"\\nRemoving the records which were supposed to be in critic column from the user column . . .\")\n",
    "    df.loc[(df['review_count_user'].str.contains('critic',na=False)), 'review_count_user'] = None\n",
    "\n",
    "    # Remove the word None in review_count_user and replace it with NaN ( Check if you want to replace with zero)\n",
    "    print(\"\\nReplacing all the None value records to NaN . . .\")\n",
    "    df['review_count_user']  = df['review_count_user'].replace(to_replace='None', value=np.nan)\n",
    "    \n",
    "    # Extract only the number from the column values in review_count critic. ie. omitting the word 'critic'\n",
    "    print(\"\\nSince the data had some issues while parsing, cleaning the records which were moved from the user column as they contained the word 'critic' . . .\")\n",
    "    df.review_count_critic = df.review_count_critic.str.extract('(\\d+)')\n",
    "    \n",
    "    # # Fill NA with 0\n",
    "    df['review_count_user'].fillna(0, inplace=True)\n",
    "    df['review_count_critic'].fillna(0, inplace=True)"
   ]
  },
  {
   "cell_type": "code",
   "execution_count": 104,
   "metadata": {},
   "outputs": [
    {
     "name": "stdout",
     "output_type": "stream",
     "text": [
      "The number of values misplaced from critic column to user column =  48201\n",
      "\n",
      "Copying the records which were supposed to be in critic column from the user column . . .\n",
      "\n",
      "Removing the records which were supposed to be in critic column from the user column . . .\n",
      "\n",
      "Replacing all the None value records to NaN . . .\n",
      "\n",
      "Since the data had some issues while parsing, cleaning the records which were moved from the user column as they contained the word 'critic' . . .\n"
     ]
    }
   ],
   "source": [
    "clean_review_count_user_and_critic(toBeExplodeddf)"
   ]
  },
  {
   "cell_type": "code",
   "execution_count": 105,
   "metadata": {},
   "outputs": [
    {
     "name": "stdout",
     "output_type": "stream",
     "text": [
      "\n",
      "Dataframe Shape after cleaning :  (621943, 110)\n"
     ]
    }
   ],
   "source": [
    "print(\"\\nDataframe Shape after cleaning : \",str(toBeExplodeddf.shape))"
   ]
  },
  {
   "cell_type": "code",
   "execution_count": 106,
   "metadata": {},
   "outputs": [
    {
     "data": {
      "text/plain": [
       "0     384276\n",
       "1      88176\n",
       "2      37233\n",
       "3      21013\n",
       "4      13893\n",
       "5       9685\n",
       "6       7094\n",
       "7       5609\n",
       "8       4438\n",
       "9       3785\n",
       "0       3487\n",
       "10      3109\n",
       "11      2631\n",
       "12      2338\n",
       "13      2067\n",
       "Name: review_count_user, dtype: int64"
      ]
     },
     "execution_count": 106,
     "metadata": {},
     "output_type": "execute_result"
    }
   ],
   "source": [
    "# After Cleaning Review count user\n",
    "toBeExplodeddf.review_count_user.value_counts(dropna = False).nlargest(15)"
   ]
  },
  {
   "cell_type": "code",
   "execution_count": 107,
   "metadata": {},
   "outputs": [
    {
     "data": {
      "text/plain": [
       "0     451509\n",
       "1      63751\n",
       "2      25250\n",
       "3      14092\n",
       "4       9745\n",
       "5       7083\n",
       "6       5273\n",
       "7       4358\n",
       "8       3434\n",
       "9       2882\n",
       "10      2473\n",
       "11      2075\n",
       "12      1802\n",
       "13      1620\n",
       "14      1482\n",
       "Name: review_count_critic, dtype: int64"
      ]
     },
     "execution_count": 107,
     "metadata": {},
     "output_type": "execute_result"
    }
   ],
   "source": [
    "# After  Cleaning Review count Critic\n",
    "toBeExplodeddf.review_count_critic.value_counts(dropna = False).nlargest(15)"
   ]
  },
  {
   "cell_type": "markdown",
   "metadata": {},
   "source": [
    "## 10) Generating new column Features : TV or Movie episode"
   ]
  },
  {
   "cell_type": "code",
   "execution_count": 108,
   "metadata": {},
   "outputs": [
    {
     "data": {
      "text/plain": [
       "312418"
      ]
     },
     "execution_count": 108,
     "metadata": {},
     "output_type": "execute_result"
    }
   ],
   "source": [
    "toBeExplodeddf.title.str.contains('\\(TV ', na=False, regex=True).sum()\n"
   ]
  },
  {
   "cell_type": "code",
   "execution_count": 109,
   "metadata": {},
   "outputs": [
    {
     "data": {
      "text/plain": [
       "312418"
      ]
     },
     "execution_count": 109,
     "metadata": {},
     "output_type": "execute_result"
    }
   ],
   "source": [
    "toBeExplodeddf.title.str.contains('\\(TV Episode', na=False, regex=True).sum() + \\\n",
    "toBeExplodeddf.title.str.contains('\\(TV Movie', na=False, regex=True).sum() + \\\n",
    "toBeExplodeddf.title.str.contains('\\(TV Series', na=False, regex=True).sum() + \\\n",
    "toBeExplodeddf.title.str.contains('\\(TV Mini', na=False, regex=True).sum() + \\\n",
    "toBeExplodeddf.title.str.contains('\\(TV Short', na=False, regex=True).sum()"
   ]
  },
  {
   "cell_type": "code",
   "execution_count": 110,
   "metadata": {},
   "outputs": [
    {
     "data": {
      "text/plain": [
       "24581"
      ]
     },
     "execution_count": 110,
     "metadata": {},
     "output_type": "execute_result"
    }
   ],
   "source": [
    "toBeExplodeddf.title.str.contains('\\(Video ', na=False, regex=True).sum()\n"
   ]
  },
  {
   "cell_type": "code",
   "execution_count": 111,
   "metadata": {},
   "outputs": [
    {
     "data": {
      "text/plain": [
       "3770"
      ]
     },
     "execution_count": 111,
     "metadata": {},
     "output_type": "execute_result"
    }
   ],
   "source": [
    "toBeExplodeddf.title.str.contains('\\(Video Game', na=False, regex=True).sum()"
   ]
  },
  {
   "cell_type": "markdown",
   "metadata": {},
   "source": [
    "### Column feature Title category and subtitle category"
   ]
  },
  {
   "cell_type": "code",
   "execution_count": 112,
   "metadata": {},
   "outputs": [],
   "source": [
    "# Create a new column indiciating whether the record is TV Episode or Movie\n",
    "\n",
    "toBeExplodeddf['title_category'] = np.nan\n",
    "\n",
    "toBeExplodeddf.loc[toBeExplodeddf.title.str.contains('\\(TV Episode', na=False, regex=True),'title_category'] = 'TV'\n",
    "toBeExplodeddf.loc[toBeExplodeddf.title.str.contains('\\(TV Movie', na=False, regex=True),'title_category'] = 'TV'\n",
    "toBeExplodeddf.loc[toBeExplodeddf.title.str.contains('\\(TV Series', na=False, regex=True),'title_category'] = 'TV'\n",
    "toBeExplodeddf.loc[toBeExplodeddf.title.str.contains('\\(TV Mini', na=False, regex=True),'title_category'] = 'TV'\n",
    "toBeExplodeddf.loc[toBeExplodeddf.title.str.contains('\\(TV Short', na=False, regex=True),'title_category'] = 'TV'\n",
    "toBeExplodeddf.loc[toBeExplodeddf.title.str.contains('\\(Video Game', na=False, regex=True),'title_category'] = 'video game'\n",
    "toBeExplodeddf.loc[toBeExplodeddf.title.str.contains('\\(Video ', na=False, regex=True),'title_category'] = 'video'\n",
    "toBeExplodeddf['title_category']  = toBeExplodeddf['title_category'].fillna('movie')"
   ]
  },
  {
   "cell_type": "code",
   "execution_count": 113,
   "metadata": {},
   "outputs": [],
   "source": [
    "# Create a new column indiciating whether the record is TV Episode or Movie\n",
    "\n",
    "toBeExplodeddf['title_subcategory'] = np.nan\n",
    "\n",
    "toBeExplodeddf.loc[toBeExplodeddf.title.str.contains('\\(TV Episode', na=False, regex=True),'title_subcategory'] = 'TV episode'\n",
    "toBeExplodeddf.loc[toBeExplodeddf.title.str.contains('\\(TV Movie', na=False, regex=True),'title_subcategory'] = 'TV movie'\n",
    "toBeExplodeddf.loc[toBeExplodeddf.title.str.contains('\\(TV Series', na=False, regex=True),'title_subcategory'] = 'TV series'\n",
    "toBeExplodeddf.loc[toBeExplodeddf.title.str.contains('\\(TV Mini', na=False, regex=True),'title_subcategory'] = 'TV miniseries'\n",
    "toBeExplodeddf.loc[toBeExplodeddf.title.str.contains('\\(TV Short', na=False, regex=True),'title_subcategory'] = 'TV short'\n",
    "toBeExplodeddf.loc[toBeExplodeddf.title.str.contains('\\(Video Game', na=False, regex=True),'title_subcategory'] = 'game'\n",
    "toBeExplodeddf.loc[toBeExplodeddf.title.str.contains('\\(Video ', na=False, regex=True),'title_subcategory'] = 'video'\n",
    "toBeExplodeddf['title_subcategory']  = toBeExplodeddf['title_subcategory'].fillna('movie')"
   ]
  },
  {
   "cell_type": "code",
   "execution_count": 114,
   "metadata": {},
   "outputs": [
    {
     "data": {
      "text/plain": [
       "TV       312418\n",
       "movie    284944\n",
       "video     24581\n",
       "Name: title_category, dtype: int64"
      ]
     },
     "execution_count": 114,
     "metadata": {},
     "output_type": "execute_result"
    }
   ],
   "source": [
    "toBeExplodeddf['title_category'].value_counts()"
   ]
  },
  {
   "cell_type": "code",
   "execution_count": 115,
   "metadata": {},
   "outputs": [
    {
     "data": {
      "text/plain": [
       "movie            284944\n",
       "TV episode       227376\n",
       "TV series         40810\n",
       "TV movie          36448\n",
       "video             24581\n",
       "TV miniseries      5892\n",
       "TV short           1892\n",
       "Name: title_subcategory, dtype: int64"
      ]
     },
     "execution_count": 115,
     "metadata": {},
     "output_type": "execute_result"
    }
   ],
   "source": [
    "toBeExplodeddf['title_subcategory'].value_counts()"
   ]
  },
  {
   "cell_type": "markdown",
   "metadata": {},
   "source": [
    "#### one hot encoding of Title Category and title subcategory"
   ]
  },
  {
   "cell_type": "code",
   "execution_count": 116,
   "metadata": {},
   "outputs": [
    {
     "name": "stdout",
     "output_type": "stream",
     "text": [
      "\n",
      "Dataframe Shape Before One hot Encoding title_category :  (621943, 112)\n",
      "\n",
      "Dataframe Shape After One hot Encoding title_category :  (621943, 120)\n"
     ]
    }
   ],
   "source": [
    "# one hot encoding of title category and title subcategory\n",
    "\n",
    "print(\"\\nDataframe Shape Before One hot Encoding title_category : \",str(toBeExplodeddf.shape))\n",
    "\n",
    "toBeExplodeddf = pd.concat([toBeExplodeddf, pd.get_dummies(toBeExplodeddf['title_category'],\n",
    "                                                           prefix='title_category')],axis=1)\n",
    "\n",
    "toBeExplodeddf = pd.concat([toBeExplodeddf, pd.get_dummies(toBeExplodeddf['title_subcategory'],\n",
    "                                                           prefix='title_subcategory')],axis=1)\n",
    "\n",
    "toBeExplodeddf.drop(['title_category','title_subcategory'],axis=1, inplace=True)\n",
    "\n",
    "print(\"\\nDataframe Shape After One hot Encoding title_category : \",str(toBeExplodeddf.shape))\n"
   ]
  },
  {
   "cell_type": "markdown",
   "metadata": {},
   "source": [
    "#### Bring back to one single column. Reverse One hot encoding"
   ]
  },
  {
   "cell_type": "code",
   "execution_count": 117,
   "metadata": {},
   "outputs": [],
   "source": [
    "# In case we want to bring back the one hot encoding to normal columns , to switch back to single column\n",
    "\n",
    "# toBeExplodeddf.loc[:, toBeExplodeddf.columns.str.startswith('title_category')].idxmax(axis = 'columns')\n",
    "# toBeExplodeddf.loc[:, toBeExplodeddf.columns.str.startswith('title_subcategory')].idxmax(axis = 'columns')"
   ]
  },
  {
   "cell_type": "code",
   "execution_count": 118,
   "metadata": {},
   "outputs": [
    {
     "name": "stdout",
     "output_type": "stream",
     "text": [
      "\n",
      "Dataframe Shape after creating a new column :  (621943, 120)\n"
     ]
    }
   ],
   "source": [
    "print(\"\\nDataframe Shape after creating a new column : \",str(toBeExplodeddf.shape))"
   ]
  },
  {
   "cell_type": "code",
   "execution_count": 119,
   "metadata": {},
   "outputs": [
    {
     "data": {
      "text/html": [
       "<div>\n",
       "<style scoped>\n",
       "    .dataframe tbody tr th:only-of-type {\n",
       "        vertical-align: middle;\n",
       "    }\n",
       "\n",
       "    .dataframe tbody tr th {\n",
       "        vertical-align: top;\n",
       "    }\n",
       "\n",
       "    .dataframe thead th {\n",
       "        text-align: right;\n",
       "    }\n",
       "</style>\n",
       "<table border=\"1\" class=\"dataframe\">\n",
       "  <thead>\n",
       "    <tr style=\"text-align: right;\">\n",
       "      <th></th>\n",
       "      <th>movie_id</th>\n",
       "      <th>title</th>\n",
       "      <th>review_count_user</th>\n",
       "      <th>review_count_critic</th>\n",
       "      <th>metascore</th>\n",
       "      <th>rating_value</th>\n",
       "      <th>rating_count</th>\n",
       "      <th>date_published</th>\n",
       "      <th>duration</th>\n",
       "      <th>title_year</th>\n",
       "      <th>...</th>\n",
       "      <th>title_category_TV</th>\n",
       "      <th>title_category_movie</th>\n",
       "      <th>title_category_video</th>\n",
       "      <th>title_subcategory_TV episode</th>\n",
       "      <th>title_subcategory_TV miniseries</th>\n",
       "      <th>title_subcategory_TV movie</th>\n",
       "      <th>title_subcategory_TV series</th>\n",
       "      <th>title_subcategory_TV short</th>\n",
       "      <th>title_subcategory_movie</th>\n",
       "      <th>title_subcategory_video</th>\n",
       "    </tr>\n",
       "  </thead>\n",
       "  <tbody>\n",
       "    <tr>\n",
       "      <th>0</th>\n",
       "      <td>tt0000001</td>\n",
       "      <td>Carmencita - spanyol tánc (1894) - IMDb</td>\n",
       "      <td>12</td>\n",
       "      <td>2</td>\n",
       "      <td>None</td>\n",
       "      <td>5.8</td>\n",
       "      <td>1255</td>\n",
       "      <td>1894-03-10</td>\n",
       "      <td>1min</td>\n",
       "      <td>1894</td>\n",
       "      <td>...</td>\n",
       "      <td>0</td>\n",
       "      <td>1</td>\n",
       "      <td>0</td>\n",
       "      <td>0</td>\n",
       "      <td>0</td>\n",
       "      <td>0</td>\n",
       "      <td>0</td>\n",
       "      <td>0</td>\n",
       "      <td>1</td>\n",
       "      <td>0</td>\n",
       "    </tr>\n",
       "    <tr>\n",
       "      <th>1</th>\n",
       "      <td>tt0000002</td>\n",
       "      <td>A bohóc és kutyái (1892) - IMDb</td>\n",
       "      <td>0</td>\n",
       "      <td>0</td>\n",
       "      <td>None</td>\n",
       "      <td>6.5</td>\n",
       "      <td>148</td>\n",
       "      <td>1892-10-28</td>\n",
       "      <td>5min</td>\n",
       "      <td>1892</td>\n",
       "      <td>...</td>\n",
       "      <td>0</td>\n",
       "      <td>1</td>\n",
       "      <td>0</td>\n",
       "      <td>0</td>\n",
       "      <td>0</td>\n",
       "      <td>0</td>\n",
       "      <td>0</td>\n",
       "      <td>0</td>\n",
       "      <td>1</td>\n",
       "      <td>0</td>\n",
       "    </tr>\n",
       "    <tr>\n",
       "      <th>2</th>\n",
       "      <td>tt0000003</td>\n",
       "      <td>Szegény Pierrot (1892) - IMDb</td>\n",
       "      <td>12</td>\n",
       "      <td>5</td>\n",
       "      <td>None</td>\n",
       "      <td>6.6</td>\n",
       "      <td>819</td>\n",
       "      <td>1892-10-28</td>\n",
       "      <td>4min</td>\n",
       "      <td>1892</td>\n",
       "      <td>...</td>\n",
       "      <td>0</td>\n",
       "      <td>1</td>\n",
       "      <td>0</td>\n",
       "      <td>0</td>\n",
       "      <td>0</td>\n",
       "      <td>0</td>\n",
       "      <td>0</td>\n",
       "      <td>0</td>\n",
       "      <td>1</td>\n",
       "      <td>0</td>\n",
       "    </tr>\n",
       "  </tbody>\n",
       "</table>\n",
       "<p>3 rows × 120 columns</p>\n",
       "</div>"
      ],
      "text/plain": [
       "    movie_id                                    title review_count_user  \\\n",
       "0  tt0000001  Carmencita - spanyol tánc (1894) - IMDb                12   \n",
       "1  tt0000002          A bohóc és kutyái (1892) - IMDb                 0   \n",
       "2  tt0000003            Szegény Pierrot (1892) - IMDb                12   \n",
       "\n",
       "  review_count_critic metascore rating_value rating_count date_published  \\\n",
       "0                   2      None          5.8         1255     1894-03-10   \n",
       "1                   0      None          6.5          148     1892-10-28   \n",
       "2                   5      None          6.6          819     1892-10-28   \n",
       "\n",
       "  duration title_year  ... title_category_TV title_category_movie  \\\n",
       "0     1min       1894  ...                 0                    1   \n",
       "1     5min       1892  ...                 0                    1   \n",
       "2     4min       1892  ...                 0                    1   \n",
       "\n",
       "  title_category_video title_subcategory_TV episode  \\\n",
       "0                    0                            0   \n",
       "1                    0                            0   \n",
       "2                    0                            0   \n",
       "\n",
       "  title_subcategory_TV miniseries  title_subcategory_TV movie  \\\n",
       "0                               0                           0   \n",
       "1                               0                           0   \n",
       "2                               0                           0   \n",
       "\n",
       "   title_subcategory_TV series title_subcategory_TV short  \\\n",
       "0                            0                          0   \n",
       "1                            0                          0   \n",
       "2                            0                          0   \n",
       "\n",
       "   title_subcategory_movie  title_subcategory_video  \n",
       "0                        1                        0  \n",
       "1                        1                        0  \n",
       "2                        1                        0  \n",
       "\n",
       "[3 rows x 120 columns]"
      ]
     },
     "execution_count": 119,
     "metadata": {},
     "output_type": "execute_result"
    }
   ],
   "source": [
    "toBeExplodeddf.head(3)"
   ]
  },
  {
   "cell_type": "markdown",
   "metadata": {},
   "source": [
    "## 11) Rating value - Data Cleaning"
   ]
  },
  {
   "cell_type": "code",
   "execution_count": 120,
   "metadata": {},
   "outputs": [
    {
     "data": {
      "text/plain": [
       "3968"
      ]
     },
     "execution_count": 120,
     "metadata": {},
     "output_type": "execute_result"
    }
   ],
   "source": [
    "# Rating count and rating value are being removed where occurrence is None\n",
    "\n",
    "dropRatingLessRecords = toBeExplodeddf.loc[toBeExplodeddf['rating_value'] == 'None']\n",
    "len(dropRatingLessRecords)"
   ]
  },
  {
   "cell_type": "code",
   "execution_count": 121,
   "metadata": {},
   "outputs": [],
   "source": [
    "toBeExplodeddf.drop(dropRatingLessRecords.index, inplace= True)"
   ]
  },
  {
   "cell_type": "code",
   "execution_count": 122,
   "metadata": {},
   "outputs": [
    {
     "data": {
      "text/html": [
       "<div>\n",
       "<style scoped>\n",
       "    .dataframe tbody tr th:only-of-type {\n",
       "        vertical-align: middle;\n",
       "    }\n",
       "\n",
       "    .dataframe tbody tr th {\n",
       "        vertical-align: top;\n",
       "    }\n",
       "\n",
       "    .dataframe thead th {\n",
       "        text-align: right;\n",
       "    }\n",
       "</style>\n",
       "<table border=\"1\" class=\"dataframe\">\n",
       "  <thead>\n",
       "    <tr style=\"text-align: right;\">\n",
       "      <th></th>\n",
       "      <th>movie_id</th>\n",
       "      <th>title</th>\n",
       "      <th>review_count_user</th>\n",
       "      <th>review_count_critic</th>\n",
       "      <th>metascore</th>\n",
       "      <th>rating_value</th>\n",
       "      <th>rating_count</th>\n",
       "      <th>date_published</th>\n",
       "      <th>duration</th>\n",
       "      <th>title_year</th>\n",
       "      <th>...</th>\n",
       "      <th>title_category_TV</th>\n",
       "      <th>title_category_movie</th>\n",
       "      <th>title_category_video</th>\n",
       "      <th>title_subcategory_TV episode</th>\n",
       "      <th>title_subcategory_TV miniseries</th>\n",
       "      <th>title_subcategory_TV movie</th>\n",
       "      <th>title_subcategory_TV series</th>\n",
       "      <th>title_subcategory_TV short</th>\n",
       "      <th>title_subcategory_movie</th>\n",
       "      <th>title_subcategory_video</th>\n",
       "    </tr>\n",
       "  </thead>\n",
       "  <tbody>\n",
       "  </tbody>\n",
       "</table>\n",
       "<p>0 rows × 120 columns</p>\n",
       "</div>"
      ],
      "text/plain": [
       "Empty DataFrame\n",
       "Columns: [movie_id, title, review_count_user, review_count_critic, metascore, rating_value, rating_count, date_published, duration, title_year, director_names, director_ids, release_date, runtime, directed_by, release_year, movie_year, opening_weekend_value, open_wk_cur_AUD, open_wk_cur_CAD, open_wk_cur_DEM, open_wk_cur_GBP, open_wk_cur_ITL, open_wk_cur_JPY, open_wk_cur_SEK, open_wk_cur_SGD, open_wk_cur_USD, gross_value, gross_cur_USD, budget_value, budget_cur_AUD, budget_cur_CAD, budget_cur_EUR, budget_cur_GBP, budget_cur_INR, budget_cur_USD, color_Black and White, color_Color, color_None, country_Argentina, country_Australia, country_Brazil, country_Canada, country_Denmark, country_Finland, country_France, country_Germany, country_Greece, country_Hong Kong, country_India, country_Italy, country_Japan, country_Mexico, country_Netherlands, country_None, country_Other, country_Russia, country_Soviet Union, country_Spain, country_Sweden, country_Turkey, country_UK, country_USA, country_West Germany, language_Arabic, language_Dutch, language_English, language_French, language_German, language_Greek, language_Hindi, language_Italian, language_Japanese, language_Mandarin, language_None, language_Other, language_Portuguese, language_Russian, language_Spanish, language_Swedish, language_Turkish, genre_Action, genre_Adult, genre_Adventure, genre_Animation, genre_Biography, genre_Comedy, genre_Crime, genre_Documentary, genre_Drama, genre_Family, genre_Fantasy, genre_Film-Noir, genre_Game-Show, genre_History, genre_Horror, genre_Music, genre_Musical, genre_Mystery, genre_News, ...]\n",
       "Index: []\n",
       "\n",
       "[0 rows x 120 columns]"
      ]
     },
     "execution_count": 122,
     "metadata": {},
     "output_type": "execute_result"
    }
   ],
   "source": [
    "toBeExplodeddf[toBeExplodeddf.rating_count.str.contains('None')]"
   ]
  },
  {
   "cell_type": "code",
   "execution_count": 123,
   "metadata": {},
   "outputs": [
    {
     "data": {
      "text/plain": [
       "(617975, 120)"
      ]
     },
     "execution_count": 123,
     "metadata": {},
     "output_type": "execute_result"
    }
   ],
   "source": [
    "toBeExplodeddf.shape"
   ]
  },
  {
   "cell_type": "markdown",
   "metadata": {},
   "source": [
    "## 12) Director IDs and Director Names : Data cleaning and  Pre processing"
   ]
  },
  {
   "cell_type": "code",
   "execution_count": 124,
   "metadata": {
    "scrolled": true
   },
   "outputs": [],
   "source": [
    "# toBeExplodeddf[toBeExplodeddf.movie_id.str.contains('tt0067806')]"
   ]
  },
  {
   "cell_type": "code",
   "execution_count": 125,
   "metadata": {},
   "outputs": [],
   "source": [
    "# To split multiple entries and save as list for director ID and Names column.\n",
    "\n",
    "toBeExplodeddf['director_ids'] = toBeExplodeddf['director_ids'].str.split(\"\\t\", expand = False)\n",
    "toBeExplodeddf['director_names'] = toBeExplodeddf['director_names'].str.split(\"\\t\", expand = False)"
   ]
  },
  {
   "cell_type": "code",
   "execution_count": 126,
   "metadata": {},
   "outputs": [],
   "source": [
    "# Function to identify equal list items in Director names and ID column. Appends 'None' to the ones which are not equal\n",
    "\n",
    "def equalListElements(df):\n",
    "    #if (len(df['director_ids']) - len(df['director_names'])) > 0 :\n",
    "    return (df['director_names'] + ['None'] * (len(df['director_ids']) - len(df['director_names'])))"
   ]
  },
  {
   "cell_type": "code",
   "execution_count": 127,
   "metadata": {},
   "outputs": [],
   "source": [
    "# Equal number of elements in director ID and director Names to perform explode in the next step\n",
    "\n",
    "toBeExplodeddf['equalizing_director_names'] = toBeExplodeddf.apply(equalListElements, axis='columns')"
   ]
  },
  {
   "cell_type": "code",
   "execution_count": 128,
   "metadata": {
    "scrolled": true
   },
   "outputs": [
    {
     "data": {
      "text/html": [
       "<div>\n",
       "<style scoped>\n",
       "    .dataframe tbody tr th:only-of-type {\n",
       "        vertical-align: middle;\n",
       "    }\n",
       "\n",
       "    .dataframe tbody tr th {\n",
       "        vertical-align: top;\n",
       "    }\n",
       "\n",
       "    .dataframe thead th {\n",
       "        text-align: right;\n",
       "    }\n",
       "</style>\n",
       "<table border=\"1\" class=\"dataframe\">\n",
       "  <thead>\n",
       "    <tr style=\"text-align: right;\">\n",
       "      <th></th>\n",
       "      <th>movie_id</th>\n",
       "      <th>title</th>\n",
       "      <th>review_count_user</th>\n",
       "      <th>review_count_critic</th>\n",
       "      <th>metascore</th>\n",
       "      <th>rating_value</th>\n",
       "      <th>rating_count</th>\n",
       "      <th>date_published</th>\n",
       "      <th>duration</th>\n",
       "      <th>title_year</th>\n",
       "      <th>...</th>\n",
       "      <th>title_category_movie</th>\n",
       "      <th>title_category_video</th>\n",
       "      <th>title_subcategory_TV episode</th>\n",
       "      <th>title_subcategory_TV miniseries</th>\n",
       "      <th>title_subcategory_TV movie</th>\n",
       "      <th>title_subcategory_TV series</th>\n",
       "      <th>title_subcategory_TV short</th>\n",
       "      <th>title_subcategory_movie</th>\n",
       "      <th>title_subcategory_video</th>\n",
       "      <th>equalizing_director_names</th>\n",
       "    </tr>\n",
       "  </thead>\n",
       "  <tbody>\n",
       "    <tr>\n",
       "      <th>0</th>\n",
       "      <td>tt0000001</td>\n",
       "      <td>Carmencita - spanyol tánc (1894) - IMDb</td>\n",
       "      <td>12</td>\n",
       "      <td>2</td>\n",
       "      <td>None</td>\n",
       "      <td>5.8</td>\n",
       "      <td>1255</td>\n",
       "      <td>1894-03-10</td>\n",
       "      <td>1min</td>\n",
       "      <td>1894</td>\n",
       "      <td>...</td>\n",
       "      <td>1</td>\n",
       "      <td>0</td>\n",
       "      <td>0</td>\n",
       "      <td>0</td>\n",
       "      <td>0</td>\n",
       "      <td>0</td>\n",
       "      <td>0</td>\n",
       "      <td>1</td>\n",
       "      <td>0</td>\n",
       "      <td>[William K.L. Dickson]</td>\n",
       "    </tr>\n",
       "    <tr>\n",
       "      <th>1</th>\n",
       "      <td>tt0000002</td>\n",
       "      <td>A bohóc és kutyái (1892) - IMDb</td>\n",
       "      <td>0</td>\n",
       "      <td>0</td>\n",
       "      <td>None</td>\n",
       "      <td>6.5</td>\n",
       "      <td>148</td>\n",
       "      <td>1892-10-28</td>\n",
       "      <td>5min</td>\n",
       "      <td>1892</td>\n",
       "      <td>...</td>\n",
       "      <td>1</td>\n",
       "      <td>0</td>\n",
       "      <td>0</td>\n",
       "      <td>0</td>\n",
       "      <td>0</td>\n",
       "      <td>0</td>\n",
       "      <td>0</td>\n",
       "      <td>1</td>\n",
       "      <td>0</td>\n",
       "      <td>[Émile Reynaud]</td>\n",
       "    </tr>\n",
       "  </tbody>\n",
       "</table>\n",
       "<p>2 rows × 121 columns</p>\n",
       "</div>"
      ],
      "text/plain": [
       "    movie_id                                    title review_count_user  \\\n",
       "0  tt0000001  Carmencita - spanyol tánc (1894) - IMDb                12   \n",
       "1  tt0000002          A bohóc és kutyái (1892) - IMDb                 0   \n",
       "\n",
       "  review_count_critic metascore rating_value rating_count date_published  \\\n",
       "0                   2      None          5.8         1255     1894-03-10   \n",
       "1                   0      None          6.5          148     1892-10-28   \n",
       "\n",
       "  duration title_year  ... title_category_movie title_category_video  \\\n",
       "0     1min       1894  ...                    1                    0   \n",
       "1     5min       1892  ...                    1                    0   \n",
       "\n",
       "  title_subcategory_TV episode title_subcategory_TV miniseries  \\\n",
       "0                            0                               0   \n",
       "1                            0                               0   \n",
       "\n",
       "  title_subcategory_TV movie  title_subcategory_TV series  \\\n",
       "0                          0                            0   \n",
       "1                          0                            0   \n",
       "\n",
       "   title_subcategory_TV short title_subcategory_movie  \\\n",
       "0                           0                       1   \n",
       "1                           0                       1   \n",
       "\n",
       "   title_subcategory_video  equalizing_director_names  \n",
       "0                        0     [William K.L. Dickson]  \n",
       "1                        0            [Émile Reynaud]  \n",
       "\n",
       "[2 rows x 121 columns]"
      ]
     },
     "execution_count": 128,
     "metadata": {},
     "output_type": "execute_result"
    }
   ],
   "source": [
    "toBeExplodeddf.head(2)"
   ]
  },
  {
   "cell_type": "code",
   "execution_count": 129,
   "metadata": {},
   "outputs": [
    {
     "data": {
      "text/plain": [
       "798873"
      ]
     },
     "execution_count": 129,
     "metadata": {},
     "output_type": "execute_result"
    }
   ],
   "source": [
    "# Number of total elements in the list column of director_ids \n",
    "sum(map(len, toBeExplodeddf.director_ids))"
   ]
  },
  {
   "cell_type": "code",
   "execution_count": 130,
   "metadata": {},
   "outputs": [
    {
     "data": {
      "text/plain": [
       "798873"
      ]
     },
     "execution_count": 130,
     "metadata": {},
     "output_type": "execute_result"
    }
   ],
   "source": [
    "# Number of total elements in the list column of new director_names \n",
    "sum(map(len, toBeExplodeddf.equalizing_director_names))"
   ]
  },
  {
   "cell_type": "markdown",
   "metadata": {},
   "source": [
    "# Explode data"
   ]
  },
  {
   "cell_type": "code",
   "execution_count": 131,
   "metadata": {},
   "outputs": [],
   "source": [
    "# Unnest/explode function which splits the lists to multiple row entries\n",
    "\n",
    "def unnesting(df, explode):\n",
    "    idx = df.index.repeat(df[explode[0]].str.len())\n",
    "    df1 = pd.concat([\n",
    "        pd.DataFrame({x: np.concatenate(df[x].values)}) for x in explode], axis=1)\n",
    "        #pd.DataFrame({x: np.array(df[x].values)}) for x in explode], axis=1)\n",
    "    df1.index = idx\n",
    "    return df1.join(df.drop(explode, 1), how='left')"
   ]
  },
  {
   "cell_type": "code",
   "execution_count": 132,
   "metadata": {
    "scrolled": true
   },
   "outputs": [
    {
     "name": "stdout",
     "output_type": "stream",
     "text": [
      "Unnested dataframe Shape after exploding/unnesting :  (798873, 121)\n"
     ]
    }
   ],
   "source": [
    "# Explode/Unnest the director_id and new_director_names column\n",
    "unnestedDF = unnesting(toBeExplodeddf,['director_ids','equalizing_director_names']).reset_index(drop=True)\n",
    "print(\"Unnested dataframe Shape after exploding/unnesting : \",str(unnestedDF.shape))"
   ]
  },
  {
   "cell_type": "code",
   "execution_count": 133,
   "metadata": {},
   "outputs": [],
   "source": [
    "# Drop the old director_names and rename the equal_director_names as director_names\n",
    "unnestedDF = unnestedDF.drop(columns=['director_names'])\n",
    "unnestedDF.rename(columns={'equalizing_director_names':'director_names'}, inplace=True)"
   ]
  },
  {
   "cell_type": "code",
   "execution_count": 134,
   "metadata": {},
   "outputs": [],
   "source": [
    "unnestedDF['director_ids'] = unnestedDF.director_ids.str.strip()\n",
    "unnestedDF['director_names'] = unnestedDF.director_names.str.strip()"
   ]
  },
  {
   "cell_type": "code",
   "execution_count": 135,
   "metadata": {},
   "outputs": [
    {
     "name": "stdout",
     "output_type": "stream",
     "text": [
      "Unnested dataframe Shape :  (798873, 120)\n"
     ]
    },
    {
     "data": {
      "text/html": [
       "<div>\n",
       "<style scoped>\n",
       "    .dataframe tbody tr th:only-of-type {\n",
       "        vertical-align: middle;\n",
       "    }\n",
       "\n",
       "    .dataframe tbody tr th {\n",
       "        vertical-align: top;\n",
       "    }\n",
       "\n",
       "    .dataframe thead th {\n",
       "        text-align: right;\n",
       "    }\n",
       "</style>\n",
       "<table border=\"1\" class=\"dataframe\">\n",
       "  <thead>\n",
       "    <tr style=\"text-align: right;\">\n",
       "      <th></th>\n",
       "      <th>director_ids</th>\n",
       "      <th>director_names</th>\n",
       "      <th>movie_id</th>\n",
       "      <th>title</th>\n",
       "      <th>review_count_user</th>\n",
       "      <th>review_count_critic</th>\n",
       "      <th>metascore</th>\n",
       "      <th>rating_value</th>\n",
       "      <th>rating_count</th>\n",
       "      <th>date_published</th>\n",
       "      <th>...</th>\n",
       "      <th>title_category_TV</th>\n",
       "      <th>title_category_movie</th>\n",
       "      <th>title_category_video</th>\n",
       "      <th>title_subcategory_TV episode</th>\n",
       "      <th>title_subcategory_TV miniseries</th>\n",
       "      <th>title_subcategory_TV movie</th>\n",
       "      <th>title_subcategory_TV series</th>\n",
       "      <th>title_subcategory_TV short</th>\n",
       "      <th>title_subcategory_movie</th>\n",
       "      <th>title_subcategory_video</th>\n",
       "    </tr>\n",
       "  </thead>\n",
       "  <tbody>\n",
       "    <tr>\n",
       "      <th>0</th>\n",
       "      <td>nm0005690</td>\n",
       "      <td>William K.L. Dickson</td>\n",
       "      <td>tt0000001</td>\n",
       "      <td>Carmencita - spanyol tánc (1894) - IMDb</td>\n",
       "      <td>12</td>\n",
       "      <td>2</td>\n",
       "      <td>None</td>\n",
       "      <td>5.8</td>\n",
       "      <td>1255</td>\n",
       "      <td>1894-03-10</td>\n",
       "      <td>...</td>\n",
       "      <td>0</td>\n",
       "      <td>1</td>\n",
       "      <td>0</td>\n",
       "      <td>0</td>\n",
       "      <td>0</td>\n",
       "      <td>0</td>\n",
       "      <td>0</td>\n",
       "      <td>0</td>\n",
       "      <td>1</td>\n",
       "      <td>0</td>\n",
       "    </tr>\n",
       "    <tr>\n",
       "      <th>1</th>\n",
       "      <td>nm0721526</td>\n",
       "      <td>Émile Reynaud</td>\n",
       "      <td>tt0000002</td>\n",
       "      <td>A bohóc és kutyái (1892) - IMDb</td>\n",
       "      <td>0</td>\n",
       "      <td>0</td>\n",
       "      <td>None</td>\n",
       "      <td>6.5</td>\n",
       "      <td>148</td>\n",
       "      <td>1892-10-28</td>\n",
       "      <td>...</td>\n",
       "      <td>0</td>\n",
       "      <td>1</td>\n",
       "      <td>0</td>\n",
       "      <td>0</td>\n",
       "      <td>0</td>\n",
       "      <td>0</td>\n",
       "      <td>0</td>\n",
       "      <td>0</td>\n",
       "      <td>1</td>\n",
       "      <td>0</td>\n",
       "    </tr>\n",
       "    <tr>\n",
       "      <th>2</th>\n",
       "      <td>nm0721526</td>\n",
       "      <td>Émile Reynaud</td>\n",
       "      <td>tt0000003</td>\n",
       "      <td>Szegény Pierrot (1892) - IMDb</td>\n",
       "      <td>12</td>\n",
       "      <td>5</td>\n",
       "      <td>None</td>\n",
       "      <td>6.6</td>\n",
       "      <td>819</td>\n",
       "      <td>1892-10-28</td>\n",
       "      <td>...</td>\n",
       "      <td>0</td>\n",
       "      <td>1</td>\n",
       "      <td>0</td>\n",
       "      <td>0</td>\n",
       "      <td>0</td>\n",
       "      <td>0</td>\n",
       "      <td>0</td>\n",
       "      <td>0</td>\n",
       "      <td>1</td>\n",
       "      <td>0</td>\n",
       "    </tr>\n",
       "    <tr>\n",
       "      <th>3</th>\n",
       "      <td>nm0721526</td>\n",
       "      <td>Émile Reynaud</td>\n",
       "      <td>tt0000004</td>\n",
       "      <td>Egy jó pohár sör (1892) - IMDb</td>\n",
       "      <td>1</td>\n",
       "      <td>0</td>\n",
       "      <td>None</td>\n",
       "      <td>6.6</td>\n",
       "      <td>90</td>\n",
       "      <td>1892-10-28</td>\n",
       "      <td>...</td>\n",
       "      <td>0</td>\n",
       "      <td>1</td>\n",
       "      <td>0</td>\n",
       "      <td>0</td>\n",
       "      <td>0</td>\n",
       "      <td>0</td>\n",
       "      <td>0</td>\n",
       "      <td>0</td>\n",
       "      <td>1</td>\n",
       "      <td>0</td>\n",
       "    </tr>\n",
       "    <tr>\n",
       "      <th>4</th>\n",
       "      <td>nm0005690</td>\n",
       "      <td>William K.L. Dickson</td>\n",
       "      <td>tt0000005</td>\n",
       "      <td>A patkolókovács (1893) - IMDb</td>\n",
       "      <td>18</td>\n",
       "      <td>3</td>\n",
       "      <td>None</td>\n",
       "      <td>6.2</td>\n",
       "      <td>1499</td>\n",
       "      <td>1893-05-09</td>\n",
       "      <td>...</td>\n",
       "      <td>0</td>\n",
       "      <td>1</td>\n",
       "      <td>0</td>\n",
       "      <td>0</td>\n",
       "      <td>0</td>\n",
       "      <td>0</td>\n",
       "      <td>0</td>\n",
       "      <td>0</td>\n",
       "      <td>1</td>\n",
       "      <td>0</td>\n",
       "    </tr>\n",
       "  </tbody>\n",
       "</table>\n",
       "<p>5 rows × 120 columns</p>\n",
       "</div>"
      ],
      "text/plain": [
       "  director_ids        director_names   movie_id  \\\n",
       "0    nm0005690  William K.L. Dickson  tt0000001   \n",
       "1    nm0721526         Émile Reynaud  tt0000002   \n",
       "2    nm0721526         Émile Reynaud  tt0000003   \n",
       "3    nm0721526         Émile Reynaud  tt0000004   \n",
       "4    nm0005690  William K.L. Dickson  tt0000005   \n",
       "\n",
       "                                     title review_count_user  \\\n",
       "0  Carmencita - spanyol tánc (1894) - IMDb                12   \n",
       "1          A bohóc és kutyái (1892) - IMDb                 0   \n",
       "2            Szegény Pierrot (1892) - IMDb                12   \n",
       "3           Egy jó pohár sör (1892) - IMDb                 1   \n",
       "4            A patkolókovács (1893) - IMDb                18   \n",
       "\n",
       "  review_count_critic metascore rating_value rating_count date_published  ...  \\\n",
       "0                   2      None          5.8         1255     1894-03-10  ...   \n",
       "1                   0      None          6.5          148     1892-10-28  ...   \n",
       "2                   5      None          6.6          819     1892-10-28  ...   \n",
       "3                   0      None          6.6           90     1892-10-28  ...   \n",
       "4                   3      None          6.2         1499     1893-05-09  ...   \n",
       "\n",
       "  title_category_TV title_category_movie title_category_video  \\\n",
       "0                 0                    1                    0   \n",
       "1                 0                    1                    0   \n",
       "2                 0                    1                    0   \n",
       "3                 0                    1                    0   \n",
       "4                 0                    1                    0   \n",
       "\n",
       "  title_subcategory_TV episode title_subcategory_TV miniseries  \\\n",
       "0                            0                               0   \n",
       "1                            0                               0   \n",
       "2                            0                               0   \n",
       "3                            0                               0   \n",
       "4                            0                               0   \n",
       "\n",
       "   title_subcategory_TV movie  title_subcategory_TV series  \\\n",
       "0                           0                            0   \n",
       "1                           0                            0   \n",
       "2                           0                            0   \n",
       "3                           0                            0   \n",
       "4                           0                            0   \n",
       "\n",
       "  title_subcategory_TV short  title_subcategory_movie  title_subcategory_video  \n",
       "0                          0                        1                        0  \n",
       "1                          0                        1                        0  \n",
       "2                          0                        1                        0  \n",
       "3                          0                        1                        0  \n",
       "4                          0                        1                        0  \n",
       "\n",
       "[5 rows x 120 columns]"
      ]
     },
     "execution_count": 135,
     "metadata": {},
     "output_type": "execute_result"
    }
   ],
   "source": [
    "print(\"Unnested dataframe Shape : \",str(unnestedDF.shape))\n",
    "unnestedDF.head()"
   ]
  },
  {
   "cell_type": "code",
   "execution_count": 136,
   "metadata": {
    "scrolled": true
   },
   "outputs": [
    {
     "data": {
      "text/html": [
       "<div>\n",
       "<style scoped>\n",
       "    .dataframe tbody tr th:only-of-type {\n",
       "        vertical-align: middle;\n",
       "    }\n",
       "\n",
       "    .dataframe tbody tr th {\n",
       "        vertical-align: top;\n",
       "    }\n",
       "\n",
       "    .dataframe thead th {\n",
       "        text-align: right;\n",
       "    }\n",
       "</style>\n",
       "<table border=\"1\" class=\"dataframe\">\n",
       "  <thead>\n",
       "    <tr style=\"text-align: right;\">\n",
       "      <th></th>\n",
       "      <th>director_ids</th>\n",
       "      <th>director_names</th>\n",
       "      <th>movie_id</th>\n",
       "      <th>title</th>\n",
       "      <th>review_count_user</th>\n",
       "      <th>review_count_critic</th>\n",
       "      <th>metascore</th>\n",
       "      <th>rating_value</th>\n",
       "      <th>rating_count</th>\n",
       "      <th>date_published</th>\n",
       "      <th>...</th>\n",
       "      <th>title_category_TV</th>\n",
       "      <th>title_category_movie</th>\n",
       "      <th>title_category_video</th>\n",
       "      <th>title_subcategory_TV episode</th>\n",
       "      <th>title_subcategory_TV miniseries</th>\n",
       "      <th>title_subcategory_TV movie</th>\n",
       "      <th>title_subcategory_TV series</th>\n",
       "      <th>title_subcategory_TV short</th>\n",
       "      <th>title_subcategory_movie</th>\n",
       "      <th>title_subcategory_video</th>\n",
       "    </tr>\n",
       "  </thead>\n",
       "  <tbody>\n",
       "    <tr>\n",
       "      <th>155</th>\n",
       "      <td>nm0698645</td>\n",
       "      <td>None</td>\n",
       "      <td>tt0000162</td>\n",
       "      <td>A Niagara-vízesés (1897) - IMDb</td>\n",
       "      <td>8</td>\n",
       "      <td>1</td>\n",
       "      <td>None</td>\n",
       "      <td>5.6</td>\n",
       "      <td>313</td>\n",
       "      <td>2000-10-11</td>\n",
       "      <td>...</td>\n",
       "      <td>0</td>\n",
       "      <td>1</td>\n",
       "      <td>0</td>\n",
       "      <td>0</td>\n",
       "      <td>0</td>\n",
       "      <td>0</td>\n",
       "      <td>0</td>\n",
       "      <td>0</td>\n",
       "      <td>1</td>\n",
       "      <td>0</td>\n",
       "    </tr>\n",
       "    <tr>\n",
       "      <th>387</th>\n",
       "      <td>nm0567363</td>\n",
       "      <td>None</td>\n",
       "      <td>tt0000680</td>\n",
       "      <td>Falsely Accused! (1908) - IMDb</td>\n",
       "      <td>1</td>\n",
       "      <td>0</td>\n",
       "      <td>None</td>\n",
       "      <td>5.9</td>\n",
       "      <td>10</td>\n",
       "      <td>1908-01-18</td>\n",
       "      <td>...</td>\n",
       "      <td>0</td>\n",
       "      <td>1</td>\n",
       "      <td>0</td>\n",
       "      <td>0</td>\n",
       "      <td>0</td>\n",
       "      <td>0</td>\n",
       "      <td>0</td>\n",
       "      <td>0</td>\n",
       "      <td>1</td>\n",
       "      <td>0</td>\n",
       "    </tr>\n",
       "    <tr>\n",
       "      <th>1090</th>\n",
       "      <td>nm0091767</td>\n",
       "      <td>None</td>\n",
       "      <td>tt0003355</td>\n",
       "      <td>Saved by the Pony Express (1911) - IMDb</td>\n",
       "      <td>1</td>\n",
       "      <td>0</td>\n",
       "      <td>None</td>\n",
       "      <td>4.8</td>\n",
       "      <td>6</td>\n",
       "      <td>1911-08-01</td>\n",
       "      <td>...</td>\n",
       "      <td>0</td>\n",
       "      <td>1</td>\n",
       "      <td>0</td>\n",
       "      <td>0</td>\n",
       "      <td>0</td>\n",
       "      <td>0</td>\n",
       "      <td>0</td>\n",
       "      <td>0</td>\n",
       "      <td>1</td>\n",
       "      <td>0</td>\n",
       "    </tr>\n",
       "    <tr>\n",
       "      <th>1094</th>\n",
       "      <td>nm0596218</td>\n",
       "      <td>None</td>\n",
       "      <td>tt0003386</td>\n",
       "      <td>Sodoms Ende (1913) - IMDb</td>\n",
       "      <td>0</td>\n",
       "      <td>0</td>\n",
       "      <td>None</td>\n",
       "      <td>8.5</td>\n",
       "      <td>8</td>\n",
       "      <td>None</td>\n",
       "      <td>...</td>\n",
       "      <td>0</td>\n",
       "      <td>1</td>\n",
       "      <td>0</td>\n",
       "      <td>0</td>\n",
       "      <td>0</td>\n",
       "      <td>0</td>\n",
       "      <td>0</td>\n",
       "      <td>0</td>\n",
       "      <td>1</td>\n",
       "      <td>0</td>\n",
       "    </tr>\n",
       "    <tr>\n",
       "      <th>4712</th>\n",
       "      <td>nm0425766</td>\n",
       "      <td>None</td>\n",
       "      <td>tt0019385</td>\n",
       "      <td>Simba: The King of the Beasts (1928) - IMDb</td>\n",
       "      <td>2</td>\n",
       "      <td>1</td>\n",
       "      <td>None</td>\n",
       "      <td>6.9</td>\n",
       "      <td>17</td>\n",
       "      <td>1928-01-25</td>\n",
       "      <td>...</td>\n",
       "      <td>0</td>\n",
       "      <td>1</td>\n",
       "      <td>0</td>\n",
       "      <td>0</td>\n",
       "      <td>0</td>\n",
       "      <td>0</td>\n",
       "      <td>0</td>\n",
       "      <td>0</td>\n",
       "      <td>1</td>\n",
       "      <td>0</td>\n",
       "    </tr>\n",
       "    <tr>\n",
       "      <th>...</th>\n",
       "      <td>...</td>\n",
       "      <td>...</td>\n",
       "      <td>...</td>\n",
       "      <td>...</td>\n",
       "      <td>...</td>\n",
       "      <td>...</td>\n",
       "      <td>...</td>\n",
       "      <td>...</td>\n",
       "      <td>...</td>\n",
       "      <td>...</td>\n",
       "      <td>...</td>\n",
       "      <td>...</td>\n",
       "      <td>...</td>\n",
       "      <td>...</td>\n",
       "      <td>...</td>\n",
       "      <td>...</td>\n",
       "      <td>...</td>\n",
       "      <td>...</td>\n",
       "      <td>...</td>\n",
       "      <td>...</td>\n",
       "      <td>...</td>\n",
       "    </tr>\n",
       "    <tr>\n",
       "      <th>798846</th>\n",
       "      <td>nm8245192</td>\n",
       "      <td>None</td>\n",
       "      <td>tt6697116</td>\n",
       "      <td>The Grindhouse Radio (TV Series 2015– ) - IMDb</td>\n",
       "      <td>0</td>\n",
       "      <td>0</td>\n",
       "      <td>None</td>\n",
       "      <td>9.5</td>\n",
       "      <td>15</td>\n",
       "      <td>None</td>\n",
       "      <td>...</td>\n",
       "      <td>1</td>\n",
       "      <td>0</td>\n",
       "      <td>0</td>\n",
       "      <td>0</td>\n",
       "      <td>0</td>\n",
       "      <td>0</td>\n",
       "      <td>1</td>\n",
       "      <td>0</td>\n",
       "      <td>0</td>\n",
       "      <td>0</td>\n",
       "    </tr>\n",
       "    <tr>\n",
       "      <th>798847</th>\n",
       "      <td>nm10030840</td>\n",
       "      <td>None</td>\n",
       "      <td>tt6697116</td>\n",
       "      <td>The Grindhouse Radio (TV Series 2015– ) - IMDb</td>\n",
       "      <td>0</td>\n",
       "      <td>0</td>\n",
       "      <td>None</td>\n",
       "      <td>9.5</td>\n",
       "      <td>15</td>\n",
       "      <td>None</td>\n",
       "      <td>...</td>\n",
       "      <td>1</td>\n",
       "      <td>0</td>\n",
       "      <td>0</td>\n",
       "      <td>0</td>\n",
       "      <td>0</td>\n",
       "      <td>0</td>\n",
       "      <td>1</td>\n",
       "      <td>0</td>\n",
       "      <td>0</td>\n",
       "      <td>0</td>\n",
       "    </tr>\n",
       "    <tr>\n",
       "      <th>798851</th>\n",
       "      <td>nm8881418</td>\n",
       "      <td>None</td>\n",
       "      <td>tt6705808</td>\n",
       "      <td>Gunnars Kjeller (TV Series 2016– ) - IMDb</td>\n",
       "      <td>0</td>\n",
       "      <td>0</td>\n",
       "      <td>None</td>\n",
       "      <td>8.9</td>\n",
       "      <td>17</td>\n",
       "      <td>None</td>\n",
       "      <td>...</td>\n",
       "      <td>1</td>\n",
       "      <td>0</td>\n",
       "      <td>0</td>\n",
       "      <td>0</td>\n",
       "      <td>0</td>\n",
       "      <td>0</td>\n",
       "      <td>1</td>\n",
       "      <td>0</td>\n",
       "      <td>0</td>\n",
       "      <td>0</td>\n",
       "    </tr>\n",
       "    <tr>\n",
       "      <th>798852</th>\n",
       "      <td>nm8881417</td>\n",
       "      <td>None</td>\n",
       "      <td>tt6705808</td>\n",
       "      <td>Gunnars Kjeller (TV Series 2016– ) - IMDb</td>\n",
       "      <td>0</td>\n",
       "      <td>0</td>\n",
       "      <td>None</td>\n",
       "      <td>8.9</td>\n",
       "      <td>17</td>\n",
       "      <td>None</td>\n",
       "      <td>...</td>\n",
       "      <td>1</td>\n",
       "      <td>0</td>\n",
       "      <td>0</td>\n",
       "      <td>0</td>\n",
       "      <td>0</td>\n",
       "      <td>0</td>\n",
       "      <td>1</td>\n",
       "      <td>0</td>\n",
       "      <td>0</td>\n",
       "      <td>0</td>\n",
       "    </tr>\n",
       "    <tr>\n",
       "      <th>798866</th>\n",
       "      <td>nm0000005</td>\n",
       "      <td>None</td>\n",
       "      <td>tt6725158</td>\n",
       "      <td>Fanny and Alexander (TV Mini-Series 1983) - IMDb</td>\n",
       "      <td>0</td>\n",
       "      <td>0</td>\n",
       "      <td>None</td>\n",
       "      <td>9.2</td>\n",
       "      <td>12</td>\n",
       "      <td>None</td>\n",
       "      <td>...</td>\n",
       "      <td>1</td>\n",
       "      <td>0</td>\n",
       "      <td>0</td>\n",
       "      <td>0</td>\n",
       "      <td>1</td>\n",
       "      <td>0</td>\n",
       "      <td>0</td>\n",
       "      <td>0</td>\n",
       "      <td>0</td>\n",
       "      <td>0</td>\n",
       "    </tr>\n",
       "  </tbody>\n",
       "</table>\n",
       "<p>184663 rows × 120 columns</p>\n",
       "</div>"
      ],
      "text/plain": [
       "       director_ids director_names   movie_id  \\\n",
       "155       nm0698645           None  tt0000162   \n",
       "387       nm0567363           None  tt0000680   \n",
       "1090      nm0091767           None  tt0003355   \n",
       "1094      nm0596218           None  tt0003386   \n",
       "4712      nm0425766           None  tt0019385   \n",
       "...             ...            ...        ...   \n",
       "798846    nm8245192           None  tt6697116   \n",
       "798847   nm10030840           None  tt6697116   \n",
       "798851    nm8881418           None  tt6705808   \n",
       "798852    nm8881417           None  tt6705808   \n",
       "798866    nm0000005           None  tt6725158   \n",
       "\n",
       "                                                   title review_count_user  \\\n",
       "155                      A Niagara-vízesés (1897) - IMDb                 8   \n",
       "387                       Falsely Accused! (1908) - IMDb                 1   \n",
       "1090             Saved by the Pony Express (1911) - IMDb                 1   \n",
       "1094                           Sodoms Ende (1913) - IMDb                 0   \n",
       "4712         Simba: The King of the Beasts (1928) - IMDb                 2   \n",
       "...                                                  ...               ...   \n",
       "798846    The Grindhouse Radio (TV Series 2015– ) - IMDb                 0   \n",
       "798847    The Grindhouse Radio (TV Series 2015– ) - IMDb                 0   \n",
       "798851         Gunnars Kjeller (TV Series 2016– ) - IMDb                 0   \n",
       "798852         Gunnars Kjeller (TV Series 2016– ) - IMDb                 0   \n",
       "798866  Fanny and Alexander (TV Mini-Series 1983) - IMDb                 0   \n",
       "\n",
       "       review_count_critic metascore rating_value rating_count date_published  \\\n",
       "155                      1      None          5.6          313     2000-10-11   \n",
       "387                      0      None          5.9           10     1908-01-18   \n",
       "1090                     0      None          4.8            6     1911-08-01   \n",
       "1094                     0      None          8.5            8           None   \n",
       "4712                     1      None          6.9           17     1928-01-25   \n",
       "...                    ...       ...          ...          ...            ...   \n",
       "798846                   0      None          9.5           15           None   \n",
       "798847                   0      None          9.5           15           None   \n",
       "798851                   0      None          8.9           17           None   \n",
       "798852                   0      None          8.9           17           None   \n",
       "798866                   0      None          9.2           12           None   \n",
       "\n",
       "        ... title_category_TV title_category_movie title_category_video  \\\n",
       "155     ...                 0                    1                    0   \n",
       "387     ...                 0                    1                    0   \n",
       "1090    ...                 0                    1                    0   \n",
       "1094    ...                 0                    1                    0   \n",
       "4712    ...                 0                    1                    0   \n",
       "...     ...               ...                  ...                  ...   \n",
       "798846  ...                 1                    0                    0   \n",
       "798847  ...                 1                    0                    0   \n",
       "798851  ...                 1                    0                    0   \n",
       "798852  ...                 1                    0                    0   \n",
       "798866  ...                 1                    0                    0   \n",
       "\n",
       "       title_subcategory_TV episode title_subcategory_TV miniseries  \\\n",
       "155                               0                               0   \n",
       "387                               0                               0   \n",
       "1090                              0                               0   \n",
       "1094                              0                               0   \n",
       "4712                              0                               0   \n",
       "...                             ...                             ...   \n",
       "798846                            0                               0   \n",
       "798847                            0                               0   \n",
       "798851                            0                               0   \n",
       "798852                            0                               0   \n",
       "798866                            0                               1   \n",
       "\n",
       "        title_subcategory_TV movie  title_subcategory_TV series  \\\n",
       "155                              0                            0   \n",
       "387                              0                            0   \n",
       "1090                             0                            0   \n",
       "1094                             0                            0   \n",
       "4712                             0                            0   \n",
       "...                            ...                          ...   \n",
       "798846                           0                            1   \n",
       "798847                           0                            1   \n",
       "798851                           0                            1   \n",
       "798852                           0                            1   \n",
       "798866                           0                            0   \n",
       "\n",
       "       title_subcategory_TV short  title_subcategory_movie  \\\n",
       "155                             0                        1   \n",
       "387                             0                        1   \n",
       "1090                            0                        1   \n",
       "1094                            0                        1   \n",
       "4712                            0                        1   \n",
       "...                           ...                      ...   \n",
       "798846                          0                        0   \n",
       "798847                          0                        0   \n",
       "798851                          0                        0   \n",
       "798852                          0                        0   \n",
       "798866                          0                        0   \n",
       "\n",
       "        title_subcategory_video  \n",
       "155                           0  \n",
       "387                           0  \n",
       "1090                          0  \n",
       "1094                          0  \n",
       "4712                          0  \n",
       "...                         ...  \n",
       "798846                        0  \n",
       "798847                        0  \n",
       "798851                        0  \n",
       "798852                        0  \n",
       "798866                        0  \n",
       "\n",
       "[184663 rows x 120 columns]"
      ]
     },
     "execution_count": 136,
     "metadata": {},
     "output_type": "execute_result"
    }
   ],
   "source": [
    "# Records having director_names empty\n",
    "unnestedDF.loc[unnestedDF.director_names.str.contains('None')]"
   ]
  },
  {
   "cell_type": "code",
   "execution_count": 137,
   "metadata": {},
   "outputs": [
    {
     "data": {
      "text/plain": [
       "director_ids                   184663\n",
       "director_names                 184663\n",
       "movie_id                       184663\n",
       "title                          184663\n",
       "review_count_user              184663\n",
       "                                ...  \n",
       "title_subcategory_TV movie     184663\n",
       "title_subcategory_TV series    184663\n",
       "title_subcategory_TV short     184663\n",
       "title_subcategory_movie        184663\n",
       "title_subcategory_video        184663\n",
       "Length: 120, dtype: int64"
      ]
     },
     "execution_count": 137,
     "metadata": {},
     "output_type": "execute_result"
    }
   ],
   "source": [
    "unnestedDF.loc[unnestedDF.director_names.str.contains('None')].count()"
   ]
  },
  {
   "cell_type": "markdown",
   "metadata": {},
   "source": [
    "## Director IDs existed for the missing director names.\n",
    "### Import IMDB Name data set and merge with the exploded dataframe"
   ]
  },
  {
   "cell_type": "code",
   "execution_count": 138,
   "metadata": {},
   "outputs": [],
   "source": [
    "IMDBNameDatafileLocation = 'C:\\\\Yuva\\\\ITU\\\\3rd Sem\\\\Research Topics\\\\Movies & Gender\\\\Website - IMDB\\\\name\\\\data.tsv'"
   ]
  },
  {
   "cell_type": "code",
   "execution_count": 139,
   "metadata": {},
   "outputs": [],
   "source": [
    "# Import as IMDB Dataset Name Dataframe\n",
    "\n",
    "IMDBNameDF = pd.read_csv(IMDBNameDatafileLocation, sep='\\t')"
   ]
  },
  {
   "cell_type": "code",
   "execution_count": 140,
   "metadata": {},
   "outputs": [],
   "source": [
    "IMDBNameDF.rename(columns={'nconst':'director_ids'}, inplace=True)"
   ]
  },
  {
   "cell_type": "code",
   "execution_count": 141,
   "metadata": {},
   "outputs": [
    {
     "data": {
      "text/plain": [
       "(10008408, 6)"
      ]
     },
     "execution_count": 141,
     "metadata": {},
     "output_type": "execute_result"
    }
   ],
   "source": [
    "IMDBNameDF.shape"
   ]
  },
  {
   "cell_type": "code",
   "execution_count": 142,
   "metadata": {},
   "outputs": [
    {
     "data": {
      "text/html": [
       "<div>\n",
       "<style scoped>\n",
       "    .dataframe tbody tr th:only-of-type {\n",
       "        vertical-align: middle;\n",
       "    }\n",
       "\n",
       "    .dataframe tbody tr th {\n",
       "        vertical-align: top;\n",
       "    }\n",
       "\n",
       "    .dataframe thead th {\n",
       "        text-align: right;\n",
       "    }\n",
       "</style>\n",
       "<table border=\"1\" class=\"dataframe\">\n",
       "  <thead>\n",
       "    <tr style=\"text-align: right;\">\n",
       "      <th></th>\n",
       "      <th>director_ids</th>\n",
       "      <th>primaryName</th>\n",
       "      <th>birthYear</th>\n",
       "      <th>deathYear</th>\n",
       "      <th>primaryProfession</th>\n",
       "      <th>knownForTitles</th>\n",
       "    </tr>\n",
       "  </thead>\n",
       "  <tbody>\n",
       "    <tr>\n",
       "      <th>0</th>\n",
       "      <td>nm0000001</td>\n",
       "      <td>Fred Astaire</td>\n",
       "      <td>1899</td>\n",
       "      <td>1987</td>\n",
       "      <td>soundtrack,actor,miscellaneous</td>\n",
       "      <td>tt0072308,tt0053137,tt0050419,tt0043044</td>\n",
       "    </tr>\n",
       "    <tr>\n",
       "      <th>1</th>\n",
       "      <td>nm0000002</td>\n",
       "      <td>Lauren Bacall</td>\n",
       "      <td>1924</td>\n",
       "      <td>2014</td>\n",
       "      <td>actress,soundtrack</td>\n",
       "      <td>tt0071877,tt0037382,tt0038355,tt0117057</td>\n",
       "    </tr>\n",
       "    <tr>\n",
       "      <th>2</th>\n",
       "      <td>nm0000003</td>\n",
       "      <td>Brigitte Bardot</td>\n",
       "      <td>1934</td>\n",
       "      <td>\\N</td>\n",
       "      <td>actress,soundtrack,producer</td>\n",
       "      <td>tt0057345,tt0059956,tt0049189,tt0054452,tt0054...</td>\n",
       "    </tr>\n",
       "    <tr>\n",
       "      <th>3</th>\n",
       "      <td>nm0000004</td>\n",
       "      <td>John Belushi</td>\n",
       "      <td>1949</td>\n",
       "      <td>1982</td>\n",
       "      <td>actor,soundtrack,writer</td>\n",
       "      <td>tt0080455,tt0077975,tt0078723,tt0072562</td>\n",
       "    </tr>\n",
       "    <tr>\n",
       "      <th>4</th>\n",
       "      <td>nm0000005</td>\n",
       "      <td>Ingmar Bergman</td>\n",
       "      <td>1918</td>\n",
       "      <td>2007</td>\n",
       "      <td>writer,director,actor</td>\n",
       "      <td>tt0069467,tt0050986,tt0050976,tt0083922</td>\n",
       "    </tr>\n",
       "  </tbody>\n",
       "</table>\n",
       "</div>"
      ],
      "text/plain": [
       "  director_ids      primaryName birthYear deathYear  \\\n",
       "0    nm0000001     Fred Astaire      1899      1987   \n",
       "1    nm0000002    Lauren Bacall      1924      2014   \n",
       "2    nm0000003  Brigitte Bardot      1934        \\N   \n",
       "3    nm0000004     John Belushi      1949      1982   \n",
       "4    nm0000005   Ingmar Bergman      1918      2007   \n",
       "\n",
       "                primaryProfession  \\\n",
       "0  soundtrack,actor,miscellaneous   \n",
       "1              actress,soundtrack   \n",
       "2     actress,soundtrack,producer   \n",
       "3         actor,soundtrack,writer   \n",
       "4           writer,director,actor   \n",
       "\n",
       "                                      knownForTitles  \n",
       "0            tt0072308,tt0053137,tt0050419,tt0043044  \n",
       "1            tt0071877,tt0037382,tt0038355,tt0117057  \n",
       "2  tt0057345,tt0059956,tt0049189,tt0054452,tt0054...  \n",
       "3            tt0080455,tt0077975,tt0078723,tt0072562  \n",
       "4            tt0069467,tt0050986,tt0050976,tt0083922  "
      ]
     },
     "execution_count": 142,
     "metadata": {},
     "output_type": "execute_result"
    }
   ],
   "source": [
    "IMDBNameDF.head()"
   ]
  },
  {
   "cell_type": "code",
   "execution_count": 143,
   "metadata": {},
   "outputs": [
    {
     "name": "stdout",
     "output_type": "stream",
     "text": [
      "\n",
      "unnestedDF dataframe Shape Before merge :  (798873, 120)\n",
      "\n",
      "explodedAndMergeDF dataframe Shape After merge :  (798873, 125)\n"
     ]
    }
   ],
   "source": [
    "# Merge the IMDBName data with our exploded data to fill the missing director_names\n",
    "print(\"\\nunnestedDF dataframe Shape Before merge : \",str(unnestedDF.shape))\n",
    "explodedAndMergeDF = unnestedDF.merge(IMDBNameDF, on='director_ids', how ='left')\n",
    "print(\"\\nexplodedAndMergeDF dataframe Shape After merge : \",str(explodedAndMergeDF.shape))"
   ]
  },
  {
   "cell_type": "code",
   "execution_count": 144,
   "metadata": {},
   "outputs": [
    {
     "data": {
      "text/plain": [
       "184663"
      ]
     },
     "execution_count": 144,
     "metadata": {},
     "output_type": "execute_result"
    }
   ],
   "source": [
    "len(explodedAndMergeDF.loc[explodedAndMergeDF['director_names'].str.contains('None'),'director_names'])"
   ]
  },
  {
   "cell_type": "code",
   "execution_count": 145,
   "metadata": {},
   "outputs": [],
   "source": [
    "# Replace all the missing director names from the primaryName column of Original IMDB data tsv\n",
    "explodedAndMergeDF.loc[explodedAndMergeDF['director_names'].str.contains('None'),'director_names'] = explodedAndMergeDF['primaryName']"
   ]
  },
  {
   "cell_type": "code",
   "execution_count": 146,
   "metadata": {},
   "outputs": [
    {
     "data": {
      "text/plain": [
       "12"
      ]
     },
     "execution_count": 146,
     "metadata": {},
     "output_type": "execute_result"
    }
   ],
   "source": [
    "explodedAndMergeDF['director_names'].isna().sum()"
   ]
  },
  {
   "cell_type": "code",
   "execution_count": 147,
   "metadata": {},
   "outputs": [
    {
     "name": "stdout",
     "output_type": "stream",
     "text": [
      "\n",
      "explodedAndMergeDF dataframe Shape  :  (798873, 125)\n"
     ]
    }
   ],
   "source": [
    "# Drop the merged director_names and Directed_by\n",
    "print(\"\\nexplodedAndMergeDF dataframe Shape  : \",str(explodedAndMergeDF.shape))"
   ]
  },
  {
   "cell_type": "markdown",
   "metadata": {},
   "source": [
    "## 13) Generate 3 new features indicating if the profession of the director was primary, secondary or tertiary"
   ]
  },
  {
   "cell_type": "code",
   "execution_count": 148,
   "metadata": {},
   "outputs": [],
   "source": [
    "# primary profession as a director\n",
    "\n",
    "explodedAndMergeDF['director_profession_primary'] = explodedAndMergeDF['primaryProfession'] \\\n",
    "                                                    .str.split(pat = ',', n = 1 , expand = False).str[0] \\\n",
    "                                                    .str.strip() \\\n",
    "                                                    .replace({'director':1})\n",
    "\n",
    "explodedAndMergeDF.loc[~(explodedAndMergeDF['director_profession_primary'] == 1),'director_profession_primary'] = 0"
   ]
  },
  {
   "cell_type": "code",
   "execution_count": 149,
   "metadata": {},
   "outputs": [],
   "source": [
    "# Secondary profession as a director\n",
    "\n",
    "explodedAndMergeDF['director_profession_secondary'] = explodedAndMergeDF['primaryProfession'] \\\n",
    "                                                    .str.split(pat = ',', n = 2 , expand = False).str[1] \\\n",
    "                                                    .str.strip() \\\n",
    "                                                    .replace({'director':1})\n",
    "\n",
    "explodedAndMergeDF.loc[~(explodedAndMergeDF['director_profession_secondary'] == 1),'director_profession_secondary'] = 0"
   ]
  },
  {
   "cell_type": "code",
   "execution_count": 150,
   "metadata": {},
   "outputs": [],
   "source": [
    "# Tertiary profession as a director\n",
    "\n",
    "explodedAndMergeDF['director_profession_tertiary'] = explodedAndMergeDF['primaryProfession'] \\\n",
    "                                                    .str.split(pat = ',', n = 3 , expand = False).str[2] \\\n",
    "                                                    .str.strip() \\\n",
    "                                                    .replace({'director':1})\n",
    "\n",
    "explodedAndMergeDF.loc[~(explodedAndMergeDF['director_profession_tertiary'] == 1),'director_profession_tertiary'] = 0"
   ]
  },
  {
   "cell_type": "code",
   "execution_count": 151,
   "metadata": {},
   "outputs": [
    {
     "data": {
      "text/html": [
       "<div>\n",
       "<style scoped>\n",
       "    .dataframe tbody tr th:only-of-type {\n",
       "        vertical-align: middle;\n",
       "    }\n",
       "\n",
       "    .dataframe tbody tr th {\n",
       "        vertical-align: top;\n",
       "    }\n",
       "\n",
       "    .dataframe thead th {\n",
       "        text-align: right;\n",
       "    }\n",
       "</style>\n",
       "<table border=\"1\" class=\"dataframe\">\n",
       "  <thead>\n",
       "    <tr style=\"text-align: right;\">\n",
       "      <th></th>\n",
       "      <th>director_ids</th>\n",
       "      <th>director_names</th>\n",
       "      <th>movie_id</th>\n",
       "      <th>title</th>\n",
       "      <th>review_count_user</th>\n",
       "      <th>review_count_critic</th>\n",
       "      <th>metascore</th>\n",
       "      <th>rating_value</th>\n",
       "      <th>rating_count</th>\n",
       "      <th>date_published</th>\n",
       "      <th>...</th>\n",
       "      <th>title_subcategory_movie</th>\n",
       "      <th>title_subcategory_video</th>\n",
       "      <th>primaryName</th>\n",
       "      <th>birthYear</th>\n",
       "      <th>deathYear</th>\n",
       "      <th>primaryProfession</th>\n",
       "      <th>knownForTitles</th>\n",
       "      <th>director_profession_primary</th>\n",
       "      <th>director_profession_secondary</th>\n",
       "      <th>director_profession_tertiary</th>\n",
       "    </tr>\n",
       "  </thead>\n",
       "  <tbody>\n",
       "    <tr>\n",
       "      <th>0</th>\n",
       "      <td>nm0005690</td>\n",
       "      <td>William K.L. Dickson</td>\n",
       "      <td>tt0000001</td>\n",
       "      <td>Carmencita - spanyol tánc (1894) - IMDb</td>\n",
       "      <td>12</td>\n",
       "      <td>2</td>\n",
       "      <td>None</td>\n",
       "      <td>5.8</td>\n",
       "      <td>1255</td>\n",
       "      <td>1894-03-10</td>\n",
       "      <td>...</td>\n",
       "      <td>1</td>\n",
       "      <td>0</td>\n",
       "      <td>William K.L. Dickson</td>\n",
       "      <td>1860</td>\n",
       "      <td>1935</td>\n",
       "      <td>cinematographer,director,producer</td>\n",
       "      <td>tt0219560,tt1496763,tt0308254,tt1428455</td>\n",
       "      <td>0</td>\n",
       "      <td>1</td>\n",
       "      <td>0</td>\n",
       "    </tr>\n",
       "    <tr>\n",
       "      <th>1</th>\n",
       "      <td>nm0721526</td>\n",
       "      <td>Émile Reynaud</td>\n",
       "      <td>tt0000002</td>\n",
       "      <td>A bohóc és kutyái (1892) - IMDb</td>\n",
       "      <td>0</td>\n",
       "      <td>0</td>\n",
       "      <td>None</td>\n",
       "      <td>6.5</td>\n",
       "      <td>148</td>\n",
       "      <td>1892-10-28</td>\n",
       "      <td>...</td>\n",
       "      <td>1</td>\n",
       "      <td>0</td>\n",
       "      <td>Émile Reynaud</td>\n",
       "      <td>1844</td>\n",
       "      <td>1918</td>\n",
       "      <td>director</td>\n",
       "      <td>tt0413219,tt2184231,tt2184201,tt0000003,tt0000...</td>\n",
       "      <td>1</td>\n",
       "      <td>0</td>\n",
       "      <td>0</td>\n",
       "    </tr>\n",
       "    <tr>\n",
       "      <th>2</th>\n",
       "      <td>nm0721526</td>\n",
       "      <td>Émile Reynaud</td>\n",
       "      <td>tt0000003</td>\n",
       "      <td>Szegény Pierrot (1892) - IMDb</td>\n",
       "      <td>12</td>\n",
       "      <td>5</td>\n",
       "      <td>None</td>\n",
       "      <td>6.6</td>\n",
       "      <td>819</td>\n",
       "      <td>1892-10-28</td>\n",
       "      <td>...</td>\n",
       "      <td>1</td>\n",
       "      <td>0</td>\n",
       "      <td>Émile Reynaud</td>\n",
       "      <td>1844</td>\n",
       "      <td>1918</td>\n",
       "      <td>director</td>\n",
       "      <td>tt0413219,tt2184231,tt2184201,tt0000003,tt0000...</td>\n",
       "      <td>1</td>\n",
       "      <td>0</td>\n",
       "      <td>0</td>\n",
       "    </tr>\n",
       "    <tr>\n",
       "      <th>3</th>\n",
       "      <td>nm0721526</td>\n",
       "      <td>Émile Reynaud</td>\n",
       "      <td>tt0000004</td>\n",
       "      <td>Egy jó pohár sör (1892) - IMDb</td>\n",
       "      <td>1</td>\n",
       "      <td>0</td>\n",
       "      <td>None</td>\n",
       "      <td>6.6</td>\n",
       "      <td>90</td>\n",
       "      <td>1892-10-28</td>\n",
       "      <td>...</td>\n",
       "      <td>1</td>\n",
       "      <td>0</td>\n",
       "      <td>Émile Reynaud</td>\n",
       "      <td>1844</td>\n",
       "      <td>1918</td>\n",
       "      <td>director</td>\n",
       "      <td>tt0413219,tt2184231,tt2184201,tt0000003,tt0000...</td>\n",
       "      <td>1</td>\n",
       "      <td>0</td>\n",
       "      <td>0</td>\n",
       "    </tr>\n",
       "    <tr>\n",
       "      <th>4</th>\n",
       "      <td>nm0005690</td>\n",
       "      <td>William K.L. Dickson</td>\n",
       "      <td>tt0000005</td>\n",
       "      <td>A patkolókovács (1893) - IMDb</td>\n",
       "      <td>18</td>\n",
       "      <td>3</td>\n",
       "      <td>None</td>\n",
       "      <td>6.2</td>\n",
       "      <td>1499</td>\n",
       "      <td>1893-05-09</td>\n",
       "      <td>...</td>\n",
       "      <td>1</td>\n",
       "      <td>0</td>\n",
       "      <td>William K.L. Dickson</td>\n",
       "      <td>1860</td>\n",
       "      <td>1935</td>\n",
       "      <td>cinematographer,director,producer</td>\n",
       "      <td>tt0219560,tt1496763,tt0308254,tt1428455</td>\n",
       "      <td>0</td>\n",
       "      <td>1</td>\n",
       "      <td>0</td>\n",
       "    </tr>\n",
       "  </tbody>\n",
       "</table>\n",
       "<p>5 rows × 128 columns</p>\n",
       "</div>"
      ],
      "text/plain": [
       "  director_ids        director_names   movie_id  \\\n",
       "0    nm0005690  William K.L. Dickson  tt0000001   \n",
       "1    nm0721526         Émile Reynaud  tt0000002   \n",
       "2    nm0721526         Émile Reynaud  tt0000003   \n",
       "3    nm0721526         Émile Reynaud  tt0000004   \n",
       "4    nm0005690  William K.L. Dickson  tt0000005   \n",
       "\n",
       "                                     title review_count_user  \\\n",
       "0  Carmencita - spanyol tánc (1894) - IMDb                12   \n",
       "1          A bohóc és kutyái (1892) - IMDb                 0   \n",
       "2            Szegény Pierrot (1892) - IMDb                12   \n",
       "3           Egy jó pohár sör (1892) - IMDb                 1   \n",
       "4            A patkolókovács (1893) - IMDb                18   \n",
       "\n",
       "  review_count_critic metascore rating_value rating_count date_published  ...  \\\n",
       "0                   2      None          5.8         1255     1894-03-10  ...   \n",
       "1                   0      None          6.5          148     1892-10-28  ...   \n",
       "2                   5      None          6.6          819     1892-10-28  ...   \n",
       "3                   0      None          6.6           90     1892-10-28  ...   \n",
       "4                   3      None          6.2         1499     1893-05-09  ...   \n",
       "\n",
       "  title_subcategory_movie title_subcategory_video           primaryName  \\\n",
       "0                       1                       0  William K.L. Dickson   \n",
       "1                       1                       0         Émile Reynaud   \n",
       "2                       1                       0         Émile Reynaud   \n",
       "3                       1                       0         Émile Reynaud   \n",
       "4                       1                       0  William K.L. Dickson   \n",
       "\n",
       "  birthYear deathYear                  primaryProfession  \\\n",
       "0      1860      1935  cinematographer,director,producer   \n",
       "1      1844      1918                           director   \n",
       "2      1844      1918                           director   \n",
       "3      1844      1918                           director   \n",
       "4      1860      1935  cinematographer,director,producer   \n",
       "\n",
       "                                      knownForTitles  \\\n",
       "0            tt0219560,tt1496763,tt0308254,tt1428455   \n",
       "1  tt0413219,tt2184231,tt2184201,tt0000003,tt0000...   \n",
       "2  tt0413219,tt2184231,tt2184201,tt0000003,tt0000...   \n",
       "3  tt0413219,tt2184231,tt2184201,tt0000003,tt0000...   \n",
       "4            tt0219560,tt1496763,tt0308254,tt1428455   \n",
       "\n",
       "  director_profession_primary  director_profession_secondary  \\\n",
       "0                           0                              1   \n",
       "1                           1                              0   \n",
       "2                           1                              0   \n",
       "3                           1                              0   \n",
       "4                           0                              1   \n",
       "\n",
       "   director_profession_tertiary  \n",
       "0                             0  \n",
       "1                             0  \n",
       "2                             0  \n",
       "3                             0  \n",
       "4                             0  \n",
       "\n",
       "[5 rows x 128 columns]"
      ]
     },
     "execution_count": 151,
     "metadata": {},
     "output_type": "execute_result"
    }
   ],
   "source": [
    "explodedAndMergeDF.head()"
   ]
  },
  {
   "cell_type": "markdown",
   "metadata": {},
   "source": [
    "## 14) Generate Features from Known for titles column - Count & average rating value"
   ]
  },
  {
   "cell_type": "code",
   "execution_count": 152,
   "metadata": {},
   "outputs": [],
   "source": [
    "# #### Dictionary for lookup of values present in our dataset in the corresponding known titles column\n",
    "\n",
    "# # Movie ID  as the key and the corresponding movie number as value\n",
    "# movie_id_to_movie_number_dict = dict(zip(explodedAndMergeDF.movie_id, explodedAndMergeDF.movie_id.str.extract('(\\d+)')[0]))\n",
    "\n",
    "# #### Dictionary for lookup of the corresponding rating value from the movie number\n",
    "\n",
    "# movie_number_to_rating_value_dict = dict(zip(explodedAndMergeDF.movie_id.str.extract('(\\d+)')[0], explodedAndMergeDF.rating_value))"
   ]
  },
  {
   "cell_type": "markdown",
   "metadata": {},
   "source": [
    "#### Dictionary for lookup of the movie_id to rating_value"
   ]
  },
  {
   "cell_type": "code",
   "execution_count": 153,
   "metadata": {},
   "outputs": [],
   "source": [
    "rating_value_dict = dict(zip(explodedAndMergeDF.movie_id, explodedAndMergeDF.rating_value))"
   ]
  },
  {
   "cell_type": "markdown",
   "metadata": {},
   "source": [
    "#### Split known for titles to lists"
   ]
  },
  {
   "cell_type": "code",
   "execution_count": 154,
   "metadata": {},
   "outputs": [],
   "source": [
    "knownForTitlesDF = explodedAndMergeDF['knownForTitles'].str.split(pat = ',',expand = True)"
   ]
  },
  {
   "cell_type": "code",
   "execution_count": 155,
   "metadata": {},
   "outputs": [
    {
     "data": {
      "text/html": [
       "<div>\n",
       "<style scoped>\n",
       "    .dataframe tbody tr th:only-of-type {\n",
       "        vertical-align: middle;\n",
       "    }\n",
       "\n",
       "    .dataframe tbody tr th {\n",
       "        vertical-align: top;\n",
       "    }\n",
       "\n",
       "    .dataframe thead th {\n",
       "        text-align: right;\n",
       "    }\n",
       "</style>\n",
       "<table border=\"1\" class=\"dataframe\">\n",
       "  <thead>\n",
       "    <tr style=\"text-align: right;\">\n",
       "      <th></th>\n",
       "      <th>0</th>\n",
       "      <th>1</th>\n",
       "      <th>2</th>\n",
       "      <th>3</th>\n",
       "      <th>4</th>\n",
       "      <th>5</th>\n",
       "      <th>6</th>\n",
       "      <th>7</th>\n",
       "      <th>8</th>\n",
       "      <th>9</th>\n",
       "    </tr>\n",
       "  </thead>\n",
       "  <tbody>\n",
       "    <tr>\n",
       "      <th>0</th>\n",
       "      <td>tt0219560</td>\n",
       "      <td>tt1496763</td>\n",
       "      <td>tt0308254</td>\n",
       "      <td>tt1428455</td>\n",
       "      <td>None</td>\n",
       "      <td>None</td>\n",
       "      <td>None</td>\n",
       "      <td>None</td>\n",
       "      <td>None</td>\n",
       "      <td>None</td>\n",
       "    </tr>\n",
       "    <tr>\n",
       "      <th>1</th>\n",
       "      <td>tt0413219</td>\n",
       "      <td>tt2184231</td>\n",
       "      <td>tt2184201</td>\n",
       "      <td>tt0000003</td>\n",
       "      <td>tt0000003</td>\n",
       "      <td>tt2184201</td>\n",
       "      <td>tt2184231</td>\n",
       "      <td>tt0413219</td>\n",
       "      <td>None</td>\n",
       "      <td>None</td>\n",
       "    </tr>\n",
       "    <tr>\n",
       "      <th>2</th>\n",
       "      <td>tt0413219</td>\n",
       "      <td>tt2184231</td>\n",
       "      <td>tt2184201</td>\n",
       "      <td>tt0000003</td>\n",
       "      <td>tt0000003</td>\n",
       "      <td>tt2184201</td>\n",
       "      <td>tt2184231</td>\n",
       "      <td>tt0413219</td>\n",
       "      <td>None</td>\n",
       "      <td>None</td>\n",
       "    </tr>\n",
       "    <tr>\n",
       "      <th>3</th>\n",
       "      <td>tt0413219</td>\n",
       "      <td>tt2184231</td>\n",
       "      <td>tt2184201</td>\n",
       "      <td>tt0000003</td>\n",
       "      <td>tt0000003</td>\n",
       "      <td>tt2184201</td>\n",
       "      <td>tt2184231</td>\n",
       "      <td>tt0413219</td>\n",
       "      <td>None</td>\n",
       "      <td>None</td>\n",
       "    </tr>\n",
       "    <tr>\n",
       "      <th>4</th>\n",
       "      <td>tt0219560</td>\n",
       "      <td>tt1496763</td>\n",
       "      <td>tt0308254</td>\n",
       "      <td>tt1428455</td>\n",
       "      <td>None</td>\n",
       "      <td>None</td>\n",
       "      <td>None</td>\n",
       "      <td>None</td>\n",
       "      <td>None</td>\n",
       "      <td>None</td>\n",
       "    </tr>\n",
       "  </tbody>\n",
       "</table>\n",
       "</div>"
      ],
      "text/plain": [
       "           0          1          2          3          4          5  \\\n",
       "0  tt0219560  tt1496763  tt0308254  tt1428455       None       None   \n",
       "1  tt0413219  tt2184231  tt2184201  tt0000003  tt0000003  tt2184201   \n",
       "2  tt0413219  tt2184231  tt2184201  tt0000003  tt0000003  tt2184201   \n",
       "3  tt0413219  tt2184231  tt2184201  tt0000003  tt0000003  tt2184201   \n",
       "4  tt0219560  tt1496763  tt0308254  tt1428455       None       None   \n",
       "\n",
       "           6          7     8     9  \n",
       "0       None       None  None  None  \n",
       "1  tt2184231  tt0413219  None  None  \n",
       "2  tt2184231  tt0413219  None  None  \n",
       "3  tt2184231  tt0413219  None  None  \n",
       "4       None       None  None  None  "
      ]
     },
     "execution_count": 155,
     "metadata": {},
     "output_type": "execute_result"
    }
   ],
   "source": [
    "knownForTitlesDF.head()"
   ]
  },
  {
   "cell_type": "code",
   "execution_count": 156,
   "metadata": {},
   "outputs": [
    {
     "data": {
      "text/plain": [
       "0      3336\n",
       "1     16894\n",
       "2     34712\n",
       "3     46829\n",
       "4    522287\n",
       "5    522290\n",
       "6    529261\n",
       "7    529261\n",
       "8    798870\n",
       "9    798870\n",
       "dtype: int64"
      ]
     },
     "execution_count": 156,
     "metadata": {},
     "output_type": "execute_result"
    }
   ],
   "source": [
    "# Null values in each row before removing the movie id's that doesn't exist in our dataset\n",
    "knownForTitlesDF.isna().sum()"
   ]
  },
  {
   "cell_type": "code",
   "execution_count": 157,
   "metadata": {},
   "outputs": [
    {
     "name": "stdout",
     "output_type": "stream",
     "text": [
      "Count of known title records for the director before removing the movie titles which are unavailable or unknown to our dataset\n"
     ]
    },
    {
     "data": {
      "text/plain": [
       "0         4\n",
       "1         8\n",
       "2         8\n",
       "3         8\n",
       "4         4\n",
       "         ..\n",
       "798868    8\n",
       "798869    4\n",
       "798870    1\n",
       "798871    4\n",
       "798872    2\n",
       "Length: 798873, dtype: int64"
      ]
     },
     "execution_count": 157,
     "metadata": {},
     "output_type": "execute_result"
    }
   ],
   "source": [
    "print(\"Count of known title records for the director before removing the movie titles which are unavailable or unknown to our dataset\")\n",
    "knownForTitlesDF.count(axis = 'columns')"
   ]
  },
  {
   "cell_type": "code",
   "execution_count": 158,
   "metadata": {},
   "outputs": [],
   "source": [
    "for i in knownForTitlesDF.columns:\n",
    "    knownForTitlesDF[i] = knownForTitlesDF[i].map(rating_value_dict).astype(float)"
   ]
  },
  {
   "cell_type": "code",
   "execution_count": 159,
   "metadata": {},
   "outputs": [
    {
     "name": "stdout",
     "output_type": "stream",
     "text": [
      "Count of known title records for the director after removing the movie titles which are unavailable or unknown to our dataset\n"
     ]
    },
    {
     "data": {
      "text/plain": [
       "0         4\n",
       "1         6\n",
       "2         6\n",
       "3         6\n",
       "4         4\n",
       "         ..\n",
       "798868    2\n",
       "798869    1\n",
       "798870    1\n",
       "798871    3\n",
       "798872    2\n",
       "Length: 798873, dtype: int64"
      ]
     },
     "execution_count": 159,
     "metadata": {},
     "output_type": "execute_result"
    }
   ],
   "source": [
    "print(\"Count of known title records for the director after removing the movie titles which are unavailable or unknown to our dataset\")\n",
    "knownForTitlesDF.count(axis = 'columns')"
   ]
  },
  {
   "cell_type": "code",
   "execution_count": 160,
   "metadata": {},
   "outputs": [
    {
     "data": {
      "text/html": [
       "<div>\n",
       "<style scoped>\n",
       "    .dataframe tbody tr th:only-of-type {\n",
       "        vertical-align: middle;\n",
       "    }\n",
       "\n",
       "    .dataframe tbody tr th {\n",
       "        vertical-align: top;\n",
       "    }\n",
       "\n",
       "    .dataframe thead th {\n",
       "        text-align: right;\n",
       "    }\n",
       "</style>\n",
       "<table border=\"1\" class=\"dataframe\">\n",
       "  <thead>\n",
       "    <tr style=\"text-align: right;\">\n",
       "      <th></th>\n",
       "      <th>0</th>\n",
       "      <th>1</th>\n",
       "      <th>2</th>\n",
       "      <th>3</th>\n",
       "      <th>4</th>\n",
       "      <th>5</th>\n",
       "      <th>6</th>\n",
       "      <th>7</th>\n",
       "      <th>8</th>\n",
       "      <th>9</th>\n",
       "    </tr>\n",
       "  </thead>\n",
       "  <tbody>\n",
       "    <tr>\n",
       "      <th>0</th>\n",
       "      <td>5.9</td>\n",
       "      <td>5.0</td>\n",
       "      <td>6.6</td>\n",
       "      <td>5.5</td>\n",
       "      <td>NaN</td>\n",
       "      <td>NaN</td>\n",
       "      <td>NaN</td>\n",
       "      <td>NaN</td>\n",
       "      <td>NaN</td>\n",
       "      <td>NaN</td>\n",
       "    </tr>\n",
       "    <tr>\n",
       "      <th>1</th>\n",
       "      <td>6.2</td>\n",
       "      <td>NaN</td>\n",
       "      <td>5.7</td>\n",
       "      <td>6.6</td>\n",
       "      <td>6.6</td>\n",
       "      <td>5.7</td>\n",
       "      <td>NaN</td>\n",
       "      <td>6.2</td>\n",
       "      <td>NaN</td>\n",
       "      <td>NaN</td>\n",
       "    </tr>\n",
       "    <tr>\n",
       "      <th>2</th>\n",
       "      <td>6.2</td>\n",
       "      <td>NaN</td>\n",
       "      <td>5.7</td>\n",
       "      <td>6.6</td>\n",
       "      <td>6.6</td>\n",
       "      <td>5.7</td>\n",
       "      <td>NaN</td>\n",
       "      <td>6.2</td>\n",
       "      <td>NaN</td>\n",
       "      <td>NaN</td>\n",
       "    </tr>\n",
       "    <tr>\n",
       "      <th>3</th>\n",
       "      <td>6.2</td>\n",
       "      <td>NaN</td>\n",
       "      <td>5.7</td>\n",
       "      <td>6.6</td>\n",
       "      <td>6.6</td>\n",
       "      <td>5.7</td>\n",
       "      <td>NaN</td>\n",
       "      <td>6.2</td>\n",
       "      <td>NaN</td>\n",
       "      <td>NaN</td>\n",
       "    </tr>\n",
       "    <tr>\n",
       "      <th>4</th>\n",
       "      <td>5.9</td>\n",
       "      <td>5.0</td>\n",
       "      <td>6.6</td>\n",
       "      <td>5.5</td>\n",
       "      <td>NaN</td>\n",
       "      <td>NaN</td>\n",
       "      <td>NaN</td>\n",
       "      <td>NaN</td>\n",
       "      <td>NaN</td>\n",
       "      <td>NaN</td>\n",
       "    </tr>\n",
       "  </tbody>\n",
       "</table>\n",
       "</div>"
      ],
      "text/plain": [
       "     0    1    2    3    4    5   6    7   8   9\n",
       "0  5.9  5.0  6.6  5.5  NaN  NaN NaN  NaN NaN NaN\n",
       "1  6.2  NaN  5.7  6.6  6.6  5.7 NaN  6.2 NaN NaN\n",
       "2  6.2  NaN  5.7  6.6  6.6  5.7 NaN  6.2 NaN NaN\n",
       "3  6.2  NaN  5.7  6.6  6.6  5.7 NaN  6.2 NaN NaN\n",
       "4  5.9  5.0  6.6  5.5  NaN  NaN NaN  NaN NaN NaN"
      ]
     },
     "execution_count": 160,
     "metadata": {},
     "output_type": "execute_result"
    }
   ],
   "source": [
    "knownForTitlesDF.head()"
   ]
  },
  {
   "cell_type": "markdown",
   "metadata": {},
   "source": [
    "#### Feature Column: known title count and average rating value of known titles"
   ]
  },
  {
   "cell_type": "code",
   "execution_count": 161,
   "metadata": {},
   "outputs": [],
   "source": [
    "# Feature Column: known title count and average rating value known titles\n",
    "\n",
    "explodedAndMergeDF['director_known_titles_count'] = knownForTitlesDF.count(axis = 'columns')\n",
    "explodedAndMergeDF['director_known_titles_average_rating_value'] =  round(knownForTitlesDF.sum(axis = 'columns' , skipna= True) / knownForTitlesDF.count(axis = 'columns'),2)"
   ]
  },
  {
   "cell_type": "markdown",
   "metadata": {},
   "source": [
    "# End"
   ]
  },
  {
   "cell_type": "code",
   "execution_count": 162,
   "metadata": {
    "scrolled": true
   },
   "outputs": [
    {
     "data": {
      "text/html": [
       "<div>\n",
       "<style scoped>\n",
       "    .dataframe tbody tr th:only-of-type {\n",
       "        vertical-align: middle;\n",
       "    }\n",
       "\n",
       "    .dataframe tbody tr th {\n",
       "        vertical-align: top;\n",
       "    }\n",
       "\n",
       "    .dataframe thead th {\n",
       "        text-align: right;\n",
       "    }\n",
       "</style>\n",
       "<table border=\"1\" class=\"dataframe\">\n",
       "  <thead>\n",
       "    <tr style=\"text-align: right;\">\n",
       "      <th></th>\n",
       "      <th>director_ids</th>\n",
       "      <th>director_names</th>\n",
       "      <th>movie_id</th>\n",
       "      <th>title</th>\n",
       "      <th>review_count_user</th>\n",
       "      <th>review_count_critic</th>\n",
       "      <th>metascore</th>\n",
       "      <th>rating_value</th>\n",
       "      <th>rating_count</th>\n",
       "      <th>date_published</th>\n",
       "      <th>...</th>\n",
       "      <th>primaryName</th>\n",
       "      <th>birthYear</th>\n",
       "      <th>deathYear</th>\n",
       "      <th>primaryProfession</th>\n",
       "      <th>knownForTitles</th>\n",
       "      <th>director_profession_primary</th>\n",
       "      <th>director_profession_secondary</th>\n",
       "      <th>director_profession_tertiary</th>\n",
       "      <th>director_known_titles_count</th>\n",
       "      <th>director_known_titles_average_rating_value</th>\n",
       "    </tr>\n",
       "  </thead>\n",
       "  <tbody>\n",
       "    <tr>\n",
       "      <th>0</th>\n",
       "      <td>nm0005690</td>\n",
       "      <td>William K.L. Dickson</td>\n",
       "      <td>tt0000001</td>\n",
       "      <td>Carmencita - spanyol tánc (1894) - IMDb</td>\n",
       "      <td>12</td>\n",
       "      <td>2</td>\n",
       "      <td>None</td>\n",
       "      <td>5.8</td>\n",
       "      <td>1255</td>\n",
       "      <td>1894-03-10</td>\n",
       "      <td>...</td>\n",
       "      <td>William K.L. Dickson</td>\n",
       "      <td>1860</td>\n",
       "      <td>1935</td>\n",
       "      <td>cinematographer,director,producer</td>\n",
       "      <td>tt0219560,tt1496763,tt0308254,tt1428455</td>\n",
       "      <td>0</td>\n",
       "      <td>1</td>\n",
       "      <td>0</td>\n",
       "      <td>4</td>\n",
       "      <td>5.75</td>\n",
       "    </tr>\n",
       "    <tr>\n",
       "      <th>1</th>\n",
       "      <td>nm0721526</td>\n",
       "      <td>Émile Reynaud</td>\n",
       "      <td>tt0000002</td>\n",
       "      <td>A bohóc és kutyái (1892) - IMDb</td>\n",
       "      <td>0</td>\n",
       "      <td>0</td>\n",
       "      <td>None</td>\n",
       "      <td>6.5</td>\n",
       "      <td>148</td>\n",
       "      <td>1892-10-28</td>\n",
       "      <td>...</td>\n",
       "      <td>Émile Reynaud</td>\n",
       "      <td>1844</td>\n",
       "      <td>1918</td>\n",
       "      <td>director</td>\n",
       "      <td>tt0413219,tt2184231,tt2184201,tt0000003,tt0000...</td>\n",
       "      <td>1</td>\n",
       "      <td>0</td>\n",
       "      <td>0</td>\n",
       "      <td>6</td>\n",
       "      <td>6.17</td>\n",
       "    </tr>\n",
       "    <tr>\n",
       "      <th>2</th>\n",
       "      <td>nm0721526</td>\n",
       "      <td>Émile Reynaud</td>\n",
       "      <td>tt0000003</td>\n",
       "      <td>Szegény Pierrot (1892) - IMDb</td>\n",
       "      <td>12</td>\n",
       "      <td>5</td>\n",
       "      <td>None</td>\n",
       "      <td>6.6</td>\n",
       "      <td>819</td>\n",
       "      <td>1892-10-28</td>\n",
       "      <td>...</td>\n",
       "      <td>Émile Reynaud</td>\n",
       "      <td>1844</td>\n",
       "      <td>1918</td>\n",
       "      <td>director</td>\n",
       "      <td>tt0413219,tt2184231,tt2184201,tt0000003,tt0000...</td>\n",
       "      <td>1</td>\n",
       "      <td>0</td>\n",
       "      <td>0</td>\n",
       "      <td>6</td>\n",
       "      <td>6.17</td>\n",
       "    </tr>\n",
       "    <tr>\n",
       "      <th>3</th>\n",
       "      <td>nm0721526</td>\n",
       "      <td>Émile Reynaud</td>\n",
       "      <td>tt0000004</td>\n",
       "      <td>Egy jó pohár sör (1892) - IMDb</td>\n",
       "      <td>1</td>\n",
       "      <td>0</td>\n",
       "      <td>None</td>\n",
       "      <td>6.6</td>\n",
       "      <td>90</td>\n",
       "      <td>1892-10-28</td>\n",
       "      <td>...</td>\n",
       "      <td>Émile Reynaud</td>\n",
       "      <td>1844</td>\n",
       "      <td>1918</td>\n",
       "      <td>director</td>\n",
       "      <td>tt0413219,tt2184231,tt2184201,tt0000003,tt0000...</td>\n",
       "      <td>1</td>\n",
       "      <td>0</td>\n",
       "      <td>0</td>\n",
       "      <td>6</td>\n",
       "      <td>6.17</td>\n",
       "    </tr>\n",
       "    <tr>\n",
       "      <th>4</th>\n",
       "      <td>nm0005690</td>\n",
       "      <td>William K.L. Dickson</td>\n",
       "      <td>tt0000005</td>\n",
       "      <td>A patkolókovács (1893) - IMDb</td>\n",
       "      <td>18</td>\n",
       "      <td>3</td>\n",
       "      <td>None</td>\n",
       "      <td>6.2</td>\n",
       "      <td>1499</td>\n",
       "      <td>1893-05-09</td>\n",
       "      <td>...</td>\n",
       "      <td>William K.L. Dickson</td>\n",
       "      <td>1860</td>\n",
       "      <td>1935</td>\n",
       "      <td>cinematographer,director,producer</td>\n",
       "      <td>tt0219560,tt1496763,tt0308254,tt1428455</td>\n",
       "      <td>0</td>\n",
       "      <td>1</td>\n",
       "      <td>0</td>\n",
       "      <td>4</td>\n",
       "      <td>5.75</td>\n",
       "    </tr>\n",
       "  </tbody>\n",
       "</table>\n",
       "<p>5 rows × 130 columns</p>\n",
       "</div>"
      ],
      "text/plain": [
       "  director_ids        director_names   movie_id  \\\n",
       "0    nm0005690  William K.L. Dickson  tt0000001   \n",
       "1    nm0721526         Émile Reynaud  tt0000002   \n",
       "2    nm0721526         Émile Reynaud  tt0000003   \n",
       "3    nm0721526         Émile Reynaud  tt0000004   \n",
       "4    nm0005690  William K.L. Dickson  tt0000005   \n",
       "\n",
       "                                     title review_count_user  \\\n",
       "0  Carmencita - spanyol tánc (1894) - IMDb                12   \n",
       "1          A bohóc és kutyái (1892) - IMDb                 0   \n",
       "2            Szegény Pierrot (1892) - IMDb                12   \n",
       "3           Egy jó pohár sör (1892) - IMDb                 1   \n",
       "4            A patkolókovács (1893) - IMDb                18   \n",
       "\n",
       "  review_count_critic metascore rating_value rating_count date_published  ...  \\\n",
       "0                   2      None          5.8         1255     1894-03-10  ...   \n",
       "1                   0      None          6.5          148     1892-10-28  ...   \n",
       "2                   5      None          6.6          819     1892-10-28  ...   \n",
       "3                   0      None          6.6           90     1892-10-28  ...   \n",
       "4                   3      None          6.2         1499     1893-05-09  ...   \n",
       "\n",
       "            primaryName birthYear deathYear  \\\n",
       "0  William K.L. Dickson      1860      1935   \n",
       "1         Émile Reynaud      1844      1918   \n",
       "2         Émile Reynaud      1844      1918   \n",
       "3         Émile Reynaud      1844      1918   \n",
       "4  William K.L. Dickson      1860      1935   \n",
       "\n",
       "                   primaryProfession  \\\n",
       "0  cinematographer,director,producer   \n",
       "1                           director   \n",
       "2                           director   \n",
       "3                           director   \n",
       "4  cinematographer,director,producer   \n",
       "\n",
       "                                      knownForTitles  \\\n",
       "0            tt0219560,tt1496763,tt0308254,tt1428455   \n",
       "1  tt0413219,tt2184231,tt2184201,tt0000003,tt0000...   \n",
       "2  tt0413219,tt2184231,tt2184201,tt0000003,tt0000...   \n",
       "3  tt0413219,tt2184231,tt2184201,tt0000003,tt0000...   \n",
       "4            tt0219560,tt1496763,tt0308254,tt1428455   \n",
       "\n",
       "   director_profession_primary  director_profession_secondary  \\\n",
       "0                            0                              1   \n",
       "1                            1                              0   \n",
       "2                            1                              0   \n",
       "3                            1                              0   \n",
       "4                            0                              1   \n",
       "\n",
       "  director_profession_tertiary  director_known_titles_count  \\\n",
       "0                            0                            4   \n",
       "1                            0                            6   \n",
       "2                            0                            6   \n",
       "3                            0                            6   \n",
       "4                            0                            4   \n",
       "\n",
       "   director_known_titles_average_rating_value  \n",
       "0                                        5.75  \n",
       "1                                        6.17  \n",
       "2                                        6.17  \n",
       "3                                        6.17  \n",
       "4                                        5.75  \n",
       "\n",
       "[5 rows x 130 columns]"
      ]
     },
     "execution_count": 162,
     "metadata": {},
     "output_type": "execute_result"
    }
   ],
   "source": [
    "explodedAndMergeDF.head()\n",
    "#true = explodedAndMergeDF.copy()"
   ]
  },
  {
   "cell_type": "code",
   "execution_count": 163,
   "metadata": {},
   "outputs": [
    {
     "data": {
      "text/plain": [
       "(12, 130)"
      ]
     },
     "execution_count": 163,
     "metadata": {},
     "output_type": "execute_result"
    }
   ],
   "source": [
    "# Identify records after merge with NaN values in director_names column\n",
    "\n",
    "dropNaNNames = explodedAndMergeDF[explodedAndMergeDF.director_names.isna()]\n",
    "dropNaNNames.shape"
   ]
  },
  {
   "cell_type": "code",
   "execution_count": 164,
   "metadata": {},
   "outputs": [
    {
     "name": "stdout",
     "output_type": "stream",
     "text": [
      "Dataframe Shape Before dropping NaN :  (798873, 130)\n",
      "Dataframe Shape After dropping NaN:  (798861, 130)\n"
     ]
    }
   ],
   "source": [
    "# Drop the values without director_names\n",
    "print(\"Dataframe Shape Before dropping NaN : \",str(explodedAndMergeDF.shape))\n",
    "explodedAndMergeDF.drop(dropNaNNames.index, inplace= True)\n",
    "print(\"Dataframe Shape After dropping NaN: \",str(explodedAndMergeDF.shape))"
   ]
  },
  {
   "cell_type": "code",
   "execution_count": 165,
   "metadata": {},
   "outputs": [
    {
     "data": {
      "text/html": [
       "<div>\n",
       "<style scoped>\n",
       "    .dataframe tbody tr th:only-of-type {\n",
       "        vertical-align: middle;\n",
       "    }\n",
       "\n",
       "    .dataframe tbody tr th {\n",
       "        vertical-align: top;\n",
       "    }\n",
       "\n",
       "    .dataframe thead th {\n",
       "        text-align: right;\n",
       "    }\n",
       "</style>\n",
       "<table border=\"1\" class=\"dataframe\">\n",
       "  <thead>\n",
       "    <tr style=\"text-align: right;\">\n",
       "      <th></th>\n",
       "      <th>director_ids</th>\n",
       "      <th>director_names</th>\n",
       "      <th>movie_id</th>\n",
       "      <th>title</th>\n",
       "      <th>review_count_user</th>\n",
       "      <th>review_count_critic</th>\n",
       "      <th>metascore</th>\n",
       "      <th>rating_value</th>\n",
       "      <th>rating_count</th>\n",
       "      <th>date_published</th>\n",
       "      <th>...</th>\n",
       "      <th>primaryName</th>\n",
       "      <th>birthYear</th>\n",
       "      <th>deathYear</th>\n",
       "      <th>primaryProfession</th>\n",
       "      <th>knownForTitles</th>\n",
       "      <th>director_profession_primary</th>\n",
       "      <th>director_profession_secondary</th>\n",
       "      <th>director_profession_tertiary</th>\n",
       "      <th>director_known_titles_count</th>\n",
       "      <th>director_known_titles_average_rating_value</th>\n",
       "    </tr>\n",
       "  </thead>\n",
       "  <tbody>\n",
       "  </tbody>\n",
       "</table>\n",
       "<p>0 rows × 130 columns</p>\n",
       "</div>"
      ],
      "text/plain": [
       "Empty DataFrame\n",
       "Columns: [director_ids, director_names, movie_id, title, review_count_user, review_count_critic, metascore, rating_value, rating_count, date_published, duration, title_year, release_date, runtime, directed_by, release_year, movie_year, opening_weekend_value, open_wk_cur_AUD, open_wk_cur_CAD, open_wk_cur_DEM, open_wk_cur_GBP, open_wk_cur_ITL, open_wk_cur_JPY, open_wk_cur_SEK, open_wk_cur_SGD, open_wk_cur_USD, gross_value, gross_cur_USD, budget_value, budget_cur_AUD, budget_cur_CAD, budget_cur_EUR, budget_cur_GBP, budget_cur_INR, budget_cur_USD, color_Black and White, color_Color, color_None, country_Argentina, country_Australia, country_Brazil, country_Canada, country_Denmark, country_Finland, country_France, country_Germany, country_Greece, country_Hong Kong, country_India, country_Italy, country_Japan, country_Mexico, country_Netherlands, country_None, country_Other, country_Russia, country_Soviet Union, country_Spain, country_Sweden, country_Turkey, country_UK, country_USA, country_West Germany, language_Arabic, language_Dutch, language_English, language_French, language_German, language_Greek, language_Hindi, language_Italian, language_Japanese, language_Mandarin, language_None, language_Other, language_Portuguese, language_Russian, language_Spanish, language_Swedish, language_Turkish, genre_Action, genre_Adult, genre_Adventure, genre_Animation, genre_Biography, genre_Comedy, genre_Crime, genre_Documentary, genre_Drama, genre_Family, genre_Fantasy, genre_Film-Noir, genre_Game-Show, genre_History, genre_Horror, genre_Music, genre_Musical, genre_Mystery, genre_News, ...]\n",
       "Index: []\n",
       "\n",
       "[0 rows x 130 columns]"
      ]
     },
     "execution_count": 165,
     "metadata": {},
     "output_type": "execute_result"
    }
   ],
   "source": [
    "explodedAndMergeDF.loc[explodedAndMergeDF['director_names'].str.contains('None')]"
   ]
  },
  {
   "cell_type": "code",
   "execution_count": 166,
   "metadata": {},
   "outputs": [],
   "source": [
    "stage2ExplodeAndMergeDF = explodedAndMergeDF.sort_values(by ='movie_id')"
   ]
  },
  {
   "cell_type": "code",
   "execution_count": 167,
   "metadata": {
    "scrolled": true
   },
   "outputs": [
    {
     "name": "stdout",
     "output_type": "stream",
     "text": [
      "stage2ExplodeAndMergeDF Dataframe Shape :  (798861, 130)\n"
     ]
    },
    {
     "data": {
      "text/html": [
       "<div>\n",
       "<style scoped>\n",
       "    .dataframe tbody tr th:only-of-type {\n",
       "        vertical-align: middle;\n",
       "    }\n",
       "\n",
       "    .dataframe tbody tr th {\n",
       "        vertical-align: top;\n",
       "    }\n",
       "\n",
       "    .dataframe thead th {\n",
       "        text-align: right;\n",
       "    }\n",
       "</style>\n",
       "<table border=\"1\" class=\"dataframe\">\n",
       "  <thead>\n",
       "    <tr style=\"text-align: right;\">\n",
       "      <th></th>\n",
       "      <th>director_ids</th>\n",
       "      <th>director_names</th>\n",
       "      <th>movie_id</th>\n",
       "      <th>title</th>\n",
       "      <th>review_count_user</th>\n",
       "      <th>review_count_critic</th>\n",
       "      <th>metascore</th>\n",
       "      <th>rating_value</th>\n",
       "      <th>rating_count</th>\n",
       "      <th>date_published</th>\n",
       "      <th>...</th>\n",
       "      <th>primaryName</th>\n",
       "      <th>birthYear</th>\n",
       "      <th>deathYear</th>\n",
       "      <th>primaryProfession</th>\n",
       "      <th>knownForTitles</th>\n",
       "      <th>director_profession_primary</th>\n",
       "      <th>director_profession_secondary</th>\n",
       "      <th>director_profession_tertiary</th>\n",
       "      <th>director_known_titles_count</th>\n",
       "      <th>director_known_titles_average_rating_value</th>\n",
       "    </tr>\n",
       "  </thead>\n",
       "  <tbody>\n",
       "    <tr>\n",
       "      <th>0</th>\n",
       "      <td>nm0005690</td>\n",
       "      <td>William K.L. Dickson</td>\n",
       "      <td>tt0000001</td>\n",
       "      <td>Carmencita - spanyol tánc (1894) - IMDb</td>\n",
       "      <td>12</td>\n",
       "      <td>2</td>\n",
       "      <td>None</td>\n",
       "      <td>5.8</td>\n",
       "      <td>1255</td>\n",
       "      <td>1894-03-10</td>\n",
       "      <td>...</td>\n",
       "      <td>William K.L. Dickson</td>\n",
       "      <td>1860</td>\n",
       "      <td>1935</td>\n",
       "      <td>cinematographer,director,producer</td>\n",
       "      <td>tt0219560,tt1496763,tt0308254,tt1428455</td>\n",
       "      <td>0</td>\n",
       "      <td>1</td>\n",
       "      <td>0</td>\n",
       "      <td>4</td>\n",
       "      <td>5.75</td>\n",
       "    </tr>\n",
       "    <tr>\n",
       "      <th>1</th>\n",
       "      <td>nm0721526</td>\n",
       "      <td>Émile Reynaud</td>\n",
       "      <td>tt0000002</td>\n",
       "      <td>A bohóc és kutyái (1892) - IMDb</td>\n",
       "      <td>0</td>\n",
       "      <td>0</td>\n",
       "      <td>None</td>\n",
       "      <td>6.5</td>\n",
       "      <td>148</td>\n",
       "      <td>1892-10-28</td>\n",
       "      <td>...</td>\n",
       "      <td>Émile Reynaud</td>\n",
       "      <td>1844</td>\n",
       "      <td>1918</td>\n",
       "      <td>director</td>\n",
       "      <td>tt0413219,tt2184231,tt2184201,tt0000003,tt0000...</td>\n",
       "      <td>1</td>\n",
       "      <td>0</td>\n",
       "      <td>0</td>\n",
       "      <td>6</td>\n",
       "      <td>6.17</td>\n",
       "    </tr>\n",
       "  </tbody>\n",
       "</table>\n",
       "<p>2 rows × 130 columns</p>\n",
       "</div>"
      ],
      "text/plain": [
       "  director_ids        director_names   movie_id  \\\n",
       "0    nm0005690  William K.L. Dickson  tt0000001   \n",
       "1    nm0721526         Émile Reynaud  tt0000002   \n",
       "\n",
       "                                     title review_count_user  \\\n",
       "0  Carmencita - spanyol tánc (1894) - IMDb                12   \n",
       "1          A bohóc és kutyái (1892) - IMDb                 0   \n",
       "\n",
       "  review_count_critic metascore rating_value rating_count date_published  ...  \\\n",
       "0                   2      None          5.8         1255     1894-03-10  ...   \n",
       "1                   0      None          6.5          148     1892-10-28  ...   \n",
       "\n",
       "            primaryName birthYear deathYear  \\\n",
       "0  William K.L. Dickson      1860      1935   \n",
       "1         Émile Reynaud      1844      1918   \n",
       "\n",
       "                   primaryProfession  \\\n",
       "0  cinematographer,director,producer   \n",
       "1                           director   \n",
       "\n",
       "                                      knownForTitles  \\\n",
       "0            tt0219560,tt1496763,tt0308254,tt1428455   \n",
       "1  tt0413219,tt2184231,tt2184201,tt0000003,tt0000...   \n",
       "\n",
       "   director_profession_primary  director_profession_secondary  \\\n",
       "0                            0                              1   \n",
       "1                            1                              0   \n",
       "\n",
       "  director_profession_tertiary  director_known_titles_count  \\\n",
       "0                            0                            4   \n",
       "1                            0                            6   \n",
       "\n",
       "   director_known_titles_average_rating_value  \n",
       "0                                        5.75  \n",
       "1                                        6.17  \n",
       "\n",
       "[2 rows x 130 columns]"
      ]
     },
     "execution_count": 167,
     "metadata": {},
     "output_type": "execute_result"
    }
   ],
   "source": [
    "print(\"stage2ExplodeAndMergeDF Dataframe Shape : \",str(stage2ExplodeAndMergeDF.shape))\n",
    "stage2ExplodeAndMergeDF.head(2)"
   ]
  },
  {
   "cell_type": "code",
   "execution_count": 168,
   "metadata": {
    "scrolled": true
   },
   "outputs": [
    {
     "data": {
      "text/html": [
       "<div>\n",
       "<style scoped>\n",
       "    .dataframe tbody tr th:only-of-type {\n",
       "        vertical-align: middle;\n",
       "    }\n",
       "\n",
       "    .dataframe tbody tr th {\n",
       "        vertical-align: top;\n",
       "    }\n",
       "\n",
       "    .dataframe thead th {\n",
       "        text-align: right;\n",
       "    }\n",
       "</style>\n",
       "<table border=\"1\" class=\"dataframe\">\n",
       "  <thead>\n",
       "    <tr style=\"text-align: right;\">\n",
       "      <th></th>\n",
       "      <th>director_ids</th>\n",
       "      <th>director_names</th>\n",
       "      <th>movie_id</th>\n",
       "      <th>title</th>\n",
       "      <th>review_count_user</th>\n",
       "      <th>review_count_critic</th>\n",
       "      <th>metascore</th>\n",
       "      <th>rating_value</th>\n",
       "      <th>rating_count</th>\n",
       "      <th>date_published</th>\n",
       "      <th>...</th>\n",
       "      <th>primaryName</th>\n",
       "      <th>birthYear</th>\n",
       "      <th>deathYear</th>\n",
       "      <th>primaryProfession</th>\n",
       "      <th>knownForTitles</th>\n",
       "      <th>director_profession_primary</th>\n",
       "      <th>director_profession_secondary</th>\n",
       "      <th>director_profession_tertiary</th>\n",
       "      <th>director_known_titles_count</th>\n",
       "      <th>director_known_titles_average_rating_value</th>\n",
       "    </tr>\n",
       "  </thead>\n",
       "  <tbody>\n",
       "    <tr>\n",
       "      <th>54086</th>\n",
       "      <td>nm0199254</td>\n",
       "      <td>Lucio Dandolo</td>\n",
       "      <td>tt0067806</td>\n",
       "      <td>Il suo nome era Pot (1971) - IMDb</td>\n",
       "      <td>1</td>\n",
       "      <td>0</td>\n",
       "      <td>None</td>\n",
       "      <td>3.7</td>\n",
       "      <td>23</td>\n",
       "      <td>1971-11-26</td>\n",
       "      <td>...</td>\n",
       "      <td>Lucio Dandolo</td>\n",
       "      <td>\\N</td>\n",
       "      <td>\\N</td>\n",
       "      <td>director,writer</td>\n",
       "      <td>tt0204580,tt0067806,tt0073593</td>\n",
       "      <td>1</td>\n",
       "      <td>0</td>\n",
       "      <td>0</td>\n",
       "      <td>2</td>\n",
       "      <td>4.45</td>\n",
       "    </tr>\n",
       "    <tr>\n",
       "      <th>54087</th>\n",
       "      <td>nm0275717</td>\n",
       "      <td>Demofilo Fidani</td>\n",
       "      <td>tt0067806</td>\n",
       "      <td>Il suo nome era Pot (1971) - IMDb</td>\n",
       "      <td>1</td>\n",
       "      <td>0</td>\n",
       "      <td>None</td>\n",
       "      <td>3.7</td>\n",
       "      <td>23</td>\n",
       "      <td>1971-11-26</td>\n",
       "      <td>...</td>\n",
       "      <td>Demofilo Fidani</td>\n",
       "      <td>1914</td>\n",
       "      <td>1994</td>\n",
       "      <td>writer,director,production_designer</td>\n",
       "      <td>tt0062311,tt0068162,tt0216546,tt0145020</td>\n",
       "      <td>0</td>\n",
       "      <td>1</td>\n",
       "      <td>0</td>\n",
       "      <td>4</td>\n",
       "      <td>4.47</td>\n",
       "    </tr>\n",
       "  </tbody>\n",
       "</table>\n",
       "<p>2 rows × 130 columns</p>\n",
       "</div>"
      ],
      "text/plain": [
       "      director_ids   director_names   movie_id  \\\n",
       "54086    nm0199254    Lucio Dandolo  tt0067806   \n",
       "54087    nm0275717  Demofilo Fidani  tt0067806   \n",
       "\n",
       "                                   title review_count_user  \\\n",
       "54086  Il suo nome era Pot (1971) - IMDb                 1   \n",
       "54087  Il suo nome era Pot (1971) - IMDb                 1   \n",
       "\n",
       "      review_count_critic metascore rating_value rating_count date_published  \\\n",
       "54086                   0      None          3.7           23     1971-11-26   \n",
       "54087                   0      None          3.7           23     1971-11-26   \n",
       "\n",
       "       ...      primaryName birthYear deathYear  \\\n",
       "54086  ...    Lucio Dandolo        \\N        \\N   \n",
       "54087  ...  Demofilo Fidani      1914      1994   \n",
       "\n",
       "                         primaryProfession  \\\n",
       "54086                      director,writer   \n",
       "54087  writer,director,production_designer   \n",
       "\n",
       "                                knownForTitles  director_profession_primary  \\\n",
       "54086            tt0204580,tt0067806,tt0073593                            1   \n",
       "54087  tt0062311,tt0068162,tt0216546,tt0145020                            0   \n",
       "\n",
       "       director_profession_secondary director_profession_tertiary  \\\n",
       "54086                              0                            0   \n",
       "54087                              1                            0   \n",
       "\n",
       "       director_known_titles_count  director_known_titles_average_rating_value  \n",
       "54086                            2                                        4.45  \n",
       "54087                            4                                        4.47  \n",
       "\n",
       "[2 rows x 130 columns]"
      ]
     },
     "execution_count": 168,
     "metadata": {},
     "output_type": "execute_result"
    }
   ],
   "source": [
    "# Search for a value in a column\n",
    "\n",
    "stage2ExplodeAndMergeDF.loc[stage2ExplodeAndMergeDF['movie_id'] == 'tt0067806']"
   ]
  },
  {
   "cell_type": "code",
   "execution_count": 169,
   "metadata": {},
   "outputs": [
    {
     "data": {
      "text/plain": [
       "director_ids           174919\n",
       "director_names         170704\n",
       "movie_id               617969\n",
       "title                  615421\n",
       "review_count_user         999\n",
       "review_count_critic       538\n",
       "metascore                 101\n",
       "rating_value               91\n",
       "rating_count            14793\n",
       "date_published          33832\n",
       "duration                  595\n",
       "title_year                132\n",
       "release_date           187987\n",
       "runtime                   561\n",
       "directed_by            151380\n",
       "dtype: int64"
      ]
     },
     "execution_count": 169,
     "metadata": {},
     "output_type": "execute_result"
    }
   ],
   "source": [
    "stage2ExplodeAndMergeDF.nunique().head(15)"
   ]
  },
  {
   "cell_type": "code",
   "execution_count": 170,
   "metadata": {},
   "outputs": [
    {
     "data": {
      "text/plain": [
       "(798861, 130)"
      ]
     },
     "execution_count": 170,
     "metadata": {},
     "output_type": "execute_result"
    }
   ],
   "source": [
    "stage2ExplodeAndMergeDF.shape"
   ]
  },
  {
   "cell_type": "code",
   "execution_count": 171,
   "metadata": {},
   "outputs": [],
   "source": [
    "# Clean column names \n",
    "modified_columns = stage2ExplodeAndMergeDF.columns.values\n",
    "modified_columns = [col.replace(' ', '_') for col in modified_columns]\n",
    "modified_columns = [col.replace('-', '_') for col in modified_columns]\n",
    "\n",
    "stage2ExplodeAndMergeDF.columns = modified_columns"
   ]
  },
  {
   "cell_type": "code",
   "execution_count": 172,
   "metadata": {},
   "outputs": [],
   "source": [
    "# save_to_file(stage2ExplodeAndMergeDF,folder_path)"
   ]
  },
  {
   "cell_type": "code",
   "execution_count": 173,
   "metadata": {
    "scrolled": true
   },
   "outputs": [
    {
     "data": {
      "text/plain": [
       "['director_ids', 'director_names', 'movie_id', 'title', 'review_count_user']"
      ]
     },
     "execution_count": 173,
     "metadata": {},
     "output_type": "execute_result"
    }
   ],
   "source": [
    "modified_columns[:5]"
   ]
  }
 ],
 "metadata": {
  "kernelspec": {
   "display_name": "Python 3",
   "language": "python",
   "name": "python3"
  },
  "language_info": {
   "codemirror_mode": {
    "name": "ipython",
    "version": 3
   },
   "file_extension": ".py",
   "mimetype": "text/x-python",
   "name": "python",
   "nbconvert_exporter": "python",
   "pygments_lexer": "ipython3",
   "version": "3.7.3"
  }
 },
 "nbformat": 4,
 "nbformat_minor": 2
}
